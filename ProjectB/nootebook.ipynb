{
 "cells": [
  {
   "cell_type": "markdown",
   "metadata": {},
   "source": [
    "# Part B"
   ]
  },
  {
   "cell_type": "markdown",
   "metadata": {},
   "source": [
    "## Step 1 - Adding Features"
   ]
  },
  {
   "cell_type": "markdown",
   "metadata": {},
   "source": [
    "#### Load Data"
   ]
  },
  {
   "cell_type": "code",
   "execution_count": 1,
   "metadata": {},
   "outputs": [
    {
     "data": {
      "text/html": [
       "<div>\n",
       "<style scoped>\n",
       "    .dataframe tbody tr th:only-of-type {\n",
       "        vertical-align: middle;\n",
       "    }\n",
       "\n",
       "    .dataframe tbody tr th {\n",
       "        vertical-align: top;\n",
       "    }\n",
       "\n",
       "    .dataframe thead th {\n",
       "        text-align: right;\n",
       "    }\n",
       "</style>\n",
       "<table border=\"1\" class=\"dataframe\">\n",
       "  <thead>\n",
       "    <tr style=\"text-align: right;\">\n",
       "      <th></th>\n",
       "      <th>Snapshot ID</th>\n",
       "      <th>Snapshot Date</th>\n",
       "      <th>Checkin Date</th>\n",
       "      <th>Days</th>\n",
       "      <th>Original Price</th>\n",
       "      <th>Discount Price</th>\n",
       "      <th>Discount Code</th>\n",
       "      <th>Available Rooms</th>\n",
       "      <th>Hotel Name</th>\n",
       "      <th>Hotel Stars</th>\n",
       "    </tr>\n",
       "  </thead>\n",
       "  <tbody>\n",
       "    <tr>\n",
       "      <th>0</th>\n",
       "      <td>1</td>\n",
       "      <td>7/17/2015 0:00</td>\n",
       "      <td>8/12/2015 0:00</td>\n",
       "      <td>5</td>\n",
       "      <td>1178</td>\n",
       "      <td>1040</td>\n",
       "      <td>1</td>\n",
       "      <td>6</td>\n",
       "      <td>Best Western Plus Seaport Inn Downtown</td>\n",
       "      <td>3</td>\n",
       "    </tr>\n",
       "    <tr>\n",
       "      <th>1</th>\n",
       "      <td>1</td>\n",
       "      <td>7/17/2015 0:00</td>\n",
       "      <td>8/19/2015 0:00</td>\n",
       "      <td>5</td>\n",
       "      <td>1113</td>\n",
       "      <td>982</td>\n",
       "      <td>1</td>\n",
       "      <td>8</td>\n",
       "      <td>Best Western Plus Seaport Inn Downtown</td>\n",
       "      <td>3</td>\n",
       "    </tr>\n",
       "    <tr>\n",
       "      <th>2</th>\n",
       "      <td>1</td>\n",
       "      <td>7/17/2015 0:00</td>\n",
       "      <td>8/13/2015 0:00</td>\n",
       "      <td>5</td>\n",
       "      <td>4370</td>\n",
       "      <td>4240</td>\n",
       "      <td>1</td>\n",
       "      <td>3</td>\n",
       "      <td>The Peninsula New York</td>\n",
       "      <td>5</td>\n",
       "    </tr>\n",
       "    <tr>\n",
       "      <th>3</th>\n",
       "      <td>1</td>\n",
       "      <td>7/17/2015 0:00</td>\n",
       "      <td>7/26/2015 0:00</td>\n",
       "      <td>5</td>\n",
       "      <td>1739</td>\n",
       "      <td>1667</td>\n",
       "      <td>1</td>\n",
       "      <td>18</td>\n",
       "      <td>Eventi Hotel a Kimpton Hotel</td>\n",
       "      <td>4</td>\n",
       "    </tr>\n",
       "    <tr>\n",
       "      <th>4</th>\n",
       "      <td>1</td>\n",
       "      <td>7/17/2015 0:00</td>\n",
       "      <td>8/12/2015 0:00</td>\n",
       "      <td>5</td>\n",
       "      <td>1739</td>\n",
       "      <td>1672</td>\n",
       "      <td>1</td>\n",
       "      <td>3</td>\n",
       "      <td>Eventi Hotel a Kimpton Hotel</td>\n",
       "      <td>4</td>\n",
       "    </tr>\n",
       "  </tbody>\n",
       "</table>\n",
       "</div>"
      ],
      "text/plain": [
       "   Snapshot ID   Snapshot Date    Checkin Date  Days  Original Price  \\\n",
       "0            1  7/17/2015 0:00  8/12/2015 0:00     5            1178   \n",
       "1            1  7/17/2015 0:00  8/19/2015 0:00     5            1113   \n",
       "2            1  7/17/2015 0:00  8/13/2015 0:00     5            4370   \n",
       "3            1  7/17/2015 0:00  7/26/2015 0:00     5            1739   \n",
       "4            1  7/17/2015 0:00  8/12/2015 0:00     5            1739   \n",
       "\n",
       "   Discount Price  Discount Code  Available Rooms  \\\n",
       "0            1040              1                6   \n",
       "1             982              1                8   \n",
       "2            4240              1                3   \n",
       "3            1667              1               18   \n",
       "4            1672              1                3   \n",
       "\n",
       "                               Hotel Name  Hotel Stars  \n",
       "0  Best Western Plus Seaport Inn Downtown            3  \n",
       "1  Best Western Plus Seaport Inn Downtown            3  \n",
       "2                  The Peninsula New York            5  \n",
       "3            Eventi Hotel a Kimpton Hotel            4  \n",
       "4            Eventi Hotel a Kimpton Hotel            4  "
      ]
     },
     "execution_count": 1,
     "metadata": {},
     "output_type": "execute_result"
    }
   ],
   "source": [
    "import pandas as pd\n",
    "\n",
    "hotels_file_path = \"./hotels_data.csv\"  \n",
    "df = pd.read_csv(hotels_file_path)\n",
    "\n",
    "df.head()"
   ]
  },
  {
   "cell_type": "markdown",
   "metadata": {},
   "source": [
    "#### Add columns and load to new CSV"
   ]
  },
  {
   "cell_type": "code",
   "execution_count": 2,
   "metadata": {},
   "outputs": [
    {
     "name": "stdout",
     "output_type": "stream",
     "text": [
      "   Snapshot ID Snapshot Date Checkin Date  Days  Original Price  \\\n",
      "0            1    2015-07-17   2015-08-12     5            1178   \n",
      "1            1    2015-07-17   2015-08-19     5            1113   \n",
      "2            1    2015-07-17   2015-08-13     5            4370   \n",
      "3            1    2015-07-17   2015-07-26     5            1739   \n",
      "4            1    2015-07-17   2015-08-12     5            1739   \n",
      "\n",
      "   Discount Price  Discount Code  Available Rooms  \\\n",
      "0            1040              1                6   \n",
      "1             982              1                8   \n",
      "2            4240              1                3   \n",
      "3            1667              1               18   \n",
      "4            1672              1                3   \n",
      "\n",
      "                               Hotel Name  Hotel Stars  DayDiff    WeekDay  \\\n",
      "0  Best Western Plus Seaport Inn Downtown            3       26  Wednesday   \n",
      "1  Best Western Plus Seaport Inn Downtown            3       33  Wednesday   \n",
      "2                  The Peninsula New York            5       27   Thursday   \n",
      "3            Eventi Hotel a Kimpton Hotel            4        9     Sunday   \n",
      "4            Eventi Hotel a Kimpton Hotel            4       26  Wednesday   \n",
      "\n",
      "   DiscountDiff  DiscountPerc  \n",
      "0           138     11.714771  \n",
      "1           131     11.769991  \n",
      "2           130      2.974828  \n",
      "3            72      4.140311  \n",
      "4            67      3.852789  \n"
     ]
    }
   ],
   "source": [
    "#Ensure dates are in correct format\n",
    "df['Snapshot Date'] = pd.to_datetime(df['Snapshot Date'])\n",
    "df['Checkin Date'] = pd.to_datetime(df['Checkin Date'])\n",
    "\n",
    "df['DayDiff'] = (df['Checkin Date'] - df['Snapshot Date']).dt.days\n",
    "df['WeekDay'] = df['Checkin Date'].dt.day_name()\n",
    "df['DiscountDiff'] = df['Original Price'] - df['Discount Price']\n",
    "df['DiscountPerc'] = (df['DiscountDiff'] / df['Original Price']) * 100\n",
    "\n",
    "print(df.head())"
   ]
  },
  {
   "cell_type": "markdown",
   "metadata": {},
   "source": [
    "\n",
    "**New csv format**\n",
    "\n",
    "| Column Name       | Description                                                                                         | Example Value                       |\n",
    "|--------------------|-----------------------------------------------------------------------------------------------------|-------------------------------------|\n",
    "| **Snapshot ID**    | Unique identifier for each snapshot of data                                                        | 1                                   |\n",
    "| **Snapshot Date**  | The date when the snapshot was taken                                                               | 2015-07-17                          |\n",
    "| **Checkin Date**   | The date of check-in for the hotel                                                                 | 2015-08-12                          |\n",
    "| **Days**           | Duration of the stay in days                                                                       | 5                                   |\n",
    "| **Original Price** | Price of the stay without any discount (in dollars)                                                | 1178                                |\n",
    "| **Discount Price** | Price of the stay after applying the discount (in dollars)                                         | 1040                                |\n",
    "| **Discount Code**  | Code representing the type of discount applied (values 1-4, with 1 indicating no discount possible) | 1                                   |\n",
    "| **Available Rooms**| Number of rooms available at the specified check-in date                                           | 6                                   |\n",
    "| **Hotel Name**     | Name of the hotel                                                                                  | Best Western Plus Seaport Inn Downtown |\n",
    "| **Hotel Stars**    | Star rating of the hotel                                                                           | 3                                   |\n",
    "| **DayDiff**        | Number of days between the Snapshot Date and Checkin Date                                          | 26                                  |\n",
    "| **WeekDay**        | Day of the week corresponding to the Checkin Date                                                  | Wednesday                           |\n",
    "| **DiscountDiff**   | Difference between the Original Price and Discount Price (in dollars)                              | 138                                 |\n",
    "| **DiscountPerc**   | Percentage of discount applied, calculated as `(DiscountDiff / Original Price) * 100`             | 11.714770797962649                           |\n"
   ]
  },
  {
   "cell_type": "markdown",
   "metadata": {},
   "source": [
    "#### Save To CSV"
   ]
  },
  {
   "cell_type": "code",
   "execution_count": 3,
   "metadata": {},
   "outputs": [],
   "source": [
    "changed_hotels_path = \"./hotels_data_changed.csv\"\n",
    "df.to_csv(changed_hotels_path, index=False)"
   ]
  },
  {
   "cell_type": "markdown",
   "metadata": {},
   "source": [
    "## (Shared) -  Feature Engineering"
   ]
  },
  {
   "cell_type": "code",
   "execution_count": 4,
   "metadata": {},
   "outputs": [],
   "source": [
    "import pandas as pd\n",
    "import numpy as np\n",
    "from sklearn.preprocessing import StandardScaler\n",
    "\n",
    "def convert_weekday_to_num(weekday):\n",
    "    weekday_mapping = {\n",
    "        'Monday': 0,\n",
    "        'Tuesday': 1,\n",
    "        'Wednesday': 2,\n",
    "        'Thursday': 3,\n",
    "        'Friday': 4,\n",
    "        'Saturday': 5,\n",
    "        'Sunday': 6\n",
    "    }\n",
    "    return weekday_mapping.get(weekday, np.nan)\n",
    "\n",
    "\n",
    "\n",
    "def feature_engineering(df):\n",
    "    \"\"\"\n",
    "    Process the raw hotel data DataFrame by converting dates, recalculating date differences,\n",
    "    and mapping the weekday to numeric.\n",
    "    \n",
    "    This function adds:\n",
    "      - 'Snapshot_Date_num': Numeric representation of 'Snapshot Date'\n",
    "      - 'Checkin_Date_num' : Numeric representation of 'Checkin Date'\n",
    "      - 'DayDiff'          : Recalculated difference in days between check-in and snapshot\n",
    "      - 'WeekDay_num'      : Numeric representation of the 'WeekDay'\n",
    "    \n",
    "    Args:\n",
    "        df (pd.DataFrame): Raw input DataFrame.\n",
    "        \n",
    "    Returns:\n",
    "        pd.DataFrame: The DataFrame with additional engineered features.\n",
    "    \"\"\"\n",
    "\n",
    "    # Convert date strings to datetime objects\n",
    "    df['Snapshot Date'] = pd.to_datetime(df['Snapshot Date'])\n",
    "    df['Checkin Date'] = pd.to_datetime(df['Checkin Date'])\n",
    "    \n",
    "    # Create new numeric date columns using ordinal representation\n",
    "    df['Snapshot_Date_num'] = df['Snapshot Date'].apply(lambda x: x.toordinal())\n",
    "    df['Checkin_Date_num'] = df['Checkin Date'].apply(lambda x: x.toordinal())\n",
    "    \n",
    "    df['DayDiff'] = (df['Checkin Date'] - df['Snapshot Date']).dt.days\n",
    "    \n",
    "    df['WeekDay_num'] = df['WeekDay'].apply(convert_weekday_to_num)\n",
    "    \n",
    "    return df\n",
    "\n",
    "\n",
    "\n",
    "def encode_categorical_columns(df, categorical_cols):\n",
    "    \"\"\"\n",
    "    One-hot encode specified categorical columns.\n",
    "    \n",
    "    Args:\n",
    "        df (pd.DataFrame): DataFrame containing the data.\n",
    "        categorical_cols (list of str): List of columns to one-hot encode.\n",
    "        \n",
    "    Returns:\n",
    "        pd.DataFrame: DataFrame with categorical columns encoded.\n",
    "    \"\"\"\n",
    "    df_encoded = pd.get_dummies(df, columns=categorical_cols, drop_first=True)\n",
    "    return df_encoded\n",
    "\n",
    "\n",
    "\n",
    "def normalize_features(df, features_to_scale, scaler=None):\n",
    "    \"\"\"\n",
    "    Normalize specified features in the DataFrame using a given scaler.\n",
    "    \n",
    "    Args:\n",
    "        df (pd.DataFrame): The input data frame.\n",
    "        features_to_scale (list): List of column names to normalize.\n",
    "        scaler (sklearn.preprocessing object, optional): A scaler instance. \n",
    "            If None, StandardScaler is used.\n",
    "    \n",
    "    Returns:\n",
    "        df_norm (pd.DataFrame): DataFrame with normalized features.\n",
    "        scaler (sklearn.preprocessing object): The fitted scaler.\n",
    "    \"\"\"\n",
    "    if scaler is None:\n",
    "        scaler = StandardScaler()\n",
    "    \n",
    "    df_norm = df.copy()\n",
    "    \n",
    "    df_norm[features_to_scale] = scaler.fit_transform(df_norm[features_to_scale])\n",
    "    \n",
    "    return df_norm, scaler"
   ]
  },
  {
   "cell_type": "markdown",
   "metadata": {},
   "source": [
    "## Step 2 - Best Discount Code\n",
    "\n",
    "\n",
    "**b. Classification Algorithms:** \n",
    "   - After creating this dataset, we will implement various classification algorithms in Python to predict the maximum discount code given the input parameters. \n",
    "   - Implement and evaluate the following five algorithms: Random Forest, Decision Tree, Naïve Bayes, XGBoost, and a simple Random classifier.\n",
    "   - For each algorithm, you need to experiment with different parameter settings to find the optimal combination that yields the best performance. \n",
    "   - Explanation of how each chosen parameter affects the algorithm's performance. "
   ]
  },
  {
   "cell_type": "markdown",
   "metadata": {},
   "source": [
    "#### Data Preperation"
   ]
  },
  {
   "cell_type": "code",
   "execution_count": null,
   "metadata": {},
   "outputs": [],
   "source": [
    "# Drop irrelevant columns\n",
    "\n",
    "df = pd.read_csv(changed_hotels_path) \n",
    "df = df[['WeekDay', 'Snapshot Date', 'Checkin Date', 'DayDiff', 'Hotel Name', 'Discount Code']] \n",
    "df = df.rename(columns={'Discount Code': 'Class'})\n",
    "df.head()"
   ]
  },
  {
   "cell_type": "code",
   "execution_count": null,
   "metadata": {},
   "outputs": [],
   "source": [
    "# Feature Engineering\n",
    "\n",
    "def map_days_to_numbers(df: pd.DataFrame) -> pd.DataFrame:\n",
    "    weekday_mapping = {'Sunday': 1, 'Monday': 2, 'Tuesday': 3, 'Wednesday': 4, 'Thursday': 5, 'Friday': 6, 'Saturday': 7}\n",
    "    df['WeekDay'] = df['WeekDay'].map(weekday_mapping)\n",
    "    return df\n",
    "\n",
    "def map_hotel_names_to_numbers(df: pd.DataFrame) -> pd.DataFrame:\n",
    "    hotel_mapping = {hotel: i for i, hotel in enumerate(df['Hotel Name'].unique())}\n",
    "    df['Hotel_Index'] = df['Hotel Name'].map(hotel_mapping)\n",
    "    df.drop(['Hotel Name'], axis=1, inplace=True)\n",
    "    return df\n",
    "\n",
    "def map_date_to_numbers(df: pd.DataFrame, old_coloumn: str, new_coloumn: str) -> pd.DataFrame:\n",
    "    df[old_coloumn] = pd.to_datetime(df[old_coloumn])\n",
    "    df[f'{new_coloumn}_Year'] = df[old_coloumn].dt.year\n",
    "    df[f'{new_coloumn}_Month'] = df[old_coloumn].dt.month\n",
    "    df[f'{new_coloumn}_Day'] = df[old_coloumn].dt.day\n",
    "    df.drop([old_coloumn], axis=1, inplace=True)\n",
    "\n",
    "    return df"
   ]
  },
  {
   "cell_type": "code",
   "execution_count": null,
   "metadata": {},
   "outputs": [],
   "source": [
    "df = map_days_to_numbers(df)\n",
    "df = map_hotel_names_to_numbers(df)\n",
    "df = map_date_to_numbers(df, 'Snapshot Date', 'Snapshot')\n",
    "df = map_date_to_numbers(df, 'Checkin Date', 'Checkin')\n",
    "df.head()"
   ]
  },
  {
   "cell_type": "code",
   "execution_count": null,
   "metadata": {},
   "outputs": [],
   "source": [
    "import matplotlib.pyplot as plt\n",
    "import seaborn as sns\n",
    "\n",
    "numerical_features = ['DayDiff', 'Snapshot_Year', 'Snapshot_Month', 'Snapshot_Day', 'Checkin_Year', 'Checkin_Month', 'Checkin_Day']\n",
    "categorical_features = ['WeekDay', 'Hotel_Index']\n",
    "\n",
    "# Create subplots\n",
    "fig, axes = plt.subplots(nrows=2, ncols=4, figsize=(15, 8))\n",
    "axes = axes.flatten()\n",
    "\n",
    "# Plot histograms for numerical features\n",
    "for i, feature in enumerate(numerical_features):\n",
    "  sns.histplot(data=df, x=feature, ax=axes[i])\n",
    "  axes[i].set_title(f'Distribution of {feature}')\n",
    "\n",
    "# Plot bar charts for categorical features (assuming enough data for each category)\n",
    "for i, feature in enumerate(categorical_features):\n",
    "  sns.countplot(data=df, x=feature, ax=axes[i])\n",
    "  axes[i].set_title(f'Distribution of {feature}')\n",
    "\n",
    "plt.tight_layout()\n",
    "plt.show()"
   ]
  },
  {
   "cell_type": "code",
   "execution_count": null,
   "metadata": {},
   "outputs": [],
   "source": [
    "# Train Test Split\n",
    "\n",
    "from sklearn.model_selection import train_test_split\n",
    "\n",
    "# Define features (X) and target variable (y)\n",
    "X = df[['WeekDay', 'DayDiff', 'Hotel_Index', 'Snapshot_Year', 'Snapshot_Month', 'Snapshot_Day', 'Checkin_Year', 'Checkin_Month', 'Checkin_Day']]\n",
    "y = df['Class']\n",
    "\n",
    "X_train, X_test, y_train, y_test = train_test_split(X, y, test_size=0.2, random_state=42) "
   ]
  },
  {
   "cell_type": "markdown",
   "metadata": {},
   "source": [
    "#### Naive Bayes\n",
    "We have the following feature types:\n",
    "\n",
    "* **Continuous:**\n",
    "    - `DayDiff` \n",
    "    - `Snapshot_Year`\n",
    "    - `Snapshot_Month`\n",
    "    - `Snapshot_Day`\n",
    "    - `Checkin_Year`\n",
    "    - `Checkin_Month`\n",
    "    - `Checkin_Day`\n",
    "\n",
    "* **Categorical:**\n",
    "    - `WeekDay` \n",
    "    - `Hotel_Index`\n",
    "\n",
    "**Naive Bayes Variants and Suitability:**\n",
    "\n",
    "* **GaussianNB:**\n",
    "    - **Best suited for continuous features.** It assumes that the features are normally distributed (Gaussian). Since we have several continuous features GaussianNB seems like the choice.\n",
    "\n",
    "* **MultinomialNB:**\n",
    "    - **Suitable for discrete features.** While `WeekDay` and `Hotel_Index` can be treated as categorical, they don't inherently represent counts or frequencies.\n",
    "\n",
    "* **BernoulliNB:**\n",
    "    - **Suitable for binary features.** Not applicable in this case as none of the features are binary."
   ]
  },
  {
   "cell_type": "code",
   "execution_count": null,
   "metadata": {},
   "outputs": [],
   "source": [
    "from sklearn.naive_bayes import GaussianNB\n",
    "from sklearn.metrics import accuracy_score, classification_report\n",
    "\n",
    "naive_bayes = GaussianNB()\n",
    "naive_bayes.fit(X_train, y_train)\n",
    "y_pred = naive_bayes.predict(X_test)\n",
    "\n",
    "accuracy = accuracy_score(y_test, y_pred)\n",
    "print(f\"Accuracy: {accuracy:.2f}\")\n",
    "print(classification_report(y_test, y_pred)) "
   ]
  },
  {
   "cell_type": "markdown",
   "metadata": {},
   "source": [
    "## Step 3 - Clustering Based on Price Polices \n"
   ]
  },
  {
   "cell_type": "markdown",
   "metadata": {},
   "source": [
    "### Data Preparation  "
   ]
  },
  {
   "cell_type": "markdown",
   "metadata": {},
   "source": [
    "\n",
    "Identify the 150 hotels with the most data in the dataset and extract their records."
   ]
  },
  {
   "cell_type": "code",
   "execution_count": null,
   "metadata": {},
   "outputs": [],
   "source": [
    "import pandas as pd\n",
    "\n",
    "file_path = \"./hotels_data_changed.csv\"  \n",
    "df = pd.read_csv(file_path)\n",
    "\n",
    "hotel_counts = df['Hotel Name'].value_counts()\n",
    "top_150_hotels = hotel_counts.head(150).index\n",
    "filtered_df = df[df['Hotel Name'].isin(top_150_hotels)]\n",
    "\n",
    "filtered_df.head()"
   ]
  },
  {
   "cell_type": "markdown",
   "metadata": {},
   "source": [
    "Find the 40 most common check-in dates  in the dataset and extract their records.\n"
   ]
  },
  {
   "cell_type": "code",
   "execution_count": null,
   "metadata": {},
   "outputs": [],
   "source": [
    "checkin_counts = filtered_df['Checkin Date'].value_counts()\n",
    "top_40_checkin_dates = checkin_counts.head(40).index\n",
    "filtered_checkin_df = filtered_df[filtered_df['Checkin Date'].isin(top_40_checkin_dates)]\n",
    "\n",
    "filtered_checkin_df.head()"
   ]
  },
  {
   "cell_type": "markdown",
   "metadata": {},
   "source": [
    "**Task**\n",
    "\n",
    "Build a 160-dimensional feature vector for each hotel based on its discount pricing behavior. Each vector is constructed by:\n",
    "- Filtering the top 150 hotels (by record count) and the top 40 checkin dates.\n",
    "- For each hotel, extracting 4 discount prices (one per discount code) for each of the 40 checkin dates.\n",
    "- If no data is available for a specific (checkin date, discount code) combination, mark it with `-1`.\n",
    "\n",
    "**Plan**\n",
    "\n",
    "1. **Group the Data:**  \n",
    "   Group the filtered data by **Hotel Name**, **Checkin Date**, and **Discount Code**. For each group, compute the minimum discount price, ensuring that only the best (lowest) price per combination is selected.\n",
    "\n",
    "2. **Pivot to Wide Format:**  \n",
    "   Transform the grouped data into a wide format where:\n",
    "   - Each row represents a single hotel.\n",
    "   - Each column represents a unique (Checkin Date, Discount Code) combination, totaling 160 columns (40 dates × 4 codes).\n",
    "\n",
    "3. **Fill Missing Data:**  \n",
    "   - Reindex the pivoted DataFrame so that every hotel has all 160 combinations, filling missing entries with `-1`.\n",
    "\n",
    "\n"
   ]
  },
  {
   "cell_type": "code",
   "execution_count": null,
   "metadata": {},
   "outputs": [],
   "source": [
    "# 1. Group by Hotel Name, Checkin Date, and Discount Code and select the minimum Discount Price.\n",
    "grouped = (\n",
    "    filtered_checkin_df\n",
    "    .groupby(['Hotel Name', 'Checkin Date', 'Discount Code'])['Discount Price']\n",
    "    .min()\n",
    "    .reset_index()\n",
    ")\n",
    "\n",
    "\n",
    "# 2. Pivot the DataFrame so that:\n",
    "#    - The index is 'Hotel Name'\n",
    "#    - The columns are a MultiIndex with levels (Checkin Date, Discount Code)\n",
    "#    - The values are the minimum discount prices.\n",
    "pivot_df = grouped.pivot_table(index='Hotel Name',\n",
    "                               columns=['Checkin Date', 'Discount Code'],\n",
    "                               values='Discount Price')\n",
    "\n",
    "\n",
    "# 3. Reindex the columns so that all 40 checkin dates and 4 discount codes are present.\n",
    "#    Use the top_40_checkin_dates (from your earlier filtering) and the list [1, 2, 3, 4] for discount codes. \n",
    "all_combinations = pd.MultiIndex.from_product([top_40_checkin_dates, [1, 2, 3, 4]],\n",
    "                                                names=['Checkin Date', 'Discount Code'])\n",
    "\n",
    "pivot_df = pivot_df.reindex(columns=all_combinations, fill_value=-1)\n",
    "pivot_df = pivot_df.fillna(-1)\n",
    "\n",
    "\n",
    "pivot_df.columns = [\n",
    "    col if isinstance(col, str) else f\"{col[0]} - {col[1]}\"\n",
    "    for col in pivot_df.columns\n",
    "]\n",
    "pivot_df = pivot_df.reset_index()\n",
    "\n",
    "print(pivot_df.head())\n",
    "print(pivot_df.shape[0]) # Note we have 149 hotels instead of 150 - solution in next cell"
   ]
  },
  {
   "cell_type": "markdown",
   "metadata": {},
   "source": [
    "**Verifying Missing Hotel Data**\n",
    "\n",
    "After filtering and pivoting the data, we expect to have 150 hotels, but only 149 appear in our pivot table. This indicates that one (or more) of the top 150 hotels has no records for the top 40 check-in dates used in our analysis.\n",
    "\n",
    "The code above does the following:\n",
    "1. **Identify Missing Hotels:**  \n",
    "   It compares the complete list of top 150 hotels (`top_150_hotels`) with the hotel names present in the pivoted DataFrame (`pivot_df`). Any hotel that is not present is added to the `missing_hotels` list.\n",
    "\n",
    "2. **Check Data for Each Missing Hotel:**  \n",
    "   For each missing hotel, it filters `filtered_checkin_df` (which already contains only records from the top 40 check-in dates) to see if there are any records for that hotel.  \n",
    "   - If the resulting DataFrame is empty, it confirms that the hotel indeed has no data for those check-in dates.  \n",
    "   - This explains why the hotel did not appear in the pivot table.\n",
    "\n",
    "By verifying that the missing hotel has no records in the filtered data, we can conclude that the drop in the number of hotels is due to the absence of data for those check-in dates rather than an error in our processing pipeline.\n",
    "\n"
   ]
  },
  {
   "cell_type": "code",
   "execution_count": null,
   "metadata": {},
   "outputs": [],
   "source": [
    "# Assuming you have already defined:\n",
    "# - top_150_hotels: the complete list of top 150 hotel names.\n",
    "# - pivot_df: the pivoted DataFrame after grouping and filtering.\n",
    "# - filtered_checkin_df: the DataFrame filtered by top 40 check-in dates.\n",
    "#\n",
    "# And the missing hotels are identified as:\n",
    "missing_hotels = [hotel for hotel in top_150_hotels if hotel not in pivot_df['Hotel Name'].values]\n",
    "print(\"Missing hotels:\", missing_hotels)\n",
    "\n",
    "# For each missing hotel, check if there is any record in the filtered_checkin_df.\n",
    "for hotel in missing_hotels:\n",
    "    hotel_records = filtered_checkin_df[filtered_checkin_df['Hotel Name'] == hotel]\n",
    "    print(f\"\\nRecords for missing hotel '{hotel}':\")\n",
    "    print(hotel_records)  # This should print an empty DataFrame if no data is present.\n"
   ]
  },
  {
   "cell_type": "markdown",
   "metadata": {},
   "source": [
    "\n",
    "**Task**\n",
    "\n",
    "For each hotel, we have a 160-dimensional vector of discount prices (one for each combination of Checkin Date and Discount Code). The goal is to normalize these prices so that, for each hotel, the lowest valid discount price becomes 0 and the highest becomes 100. Any missing value (indicated by `-1`) should remain unchanged.\n",
    "\n",
    "**Plan**\n",
    "\n",
    "1. **Define a Normalization Function:**  \n",
    "   Create a function (`normalize_row`) that:\n",
    "   - Filters out the missing values (`-1`) from the row.\n",
    "   - Computes the minimum and maximum values among the valid discount prices.\n",
    "   - Applies the normalization formula:\n",
    "     $$\n",
    "     \\text{normalized\\_price} = \\frac{(\\text{price} - \\text{min\\_price})}{(\\text{max\\_price} - \\text{min\\_price})} \\times 100\n",
    "     $$\n",
    "   - Handles the case where all valid prices are equal (to avoid division by zero) by setting them to 0.\n",
    "\n",
    "2. **Apply the Function Row-wise:**  \n",
    "   Normalize the discount prices for each hotel (i.e., for each row) by applying the function to all columns except the \"Hotel Name\".\n",
    "\n",
    "3. **Round and Convert to Integers:**  \n",
    "   After normalization, round the values to the nearest integer and convert them to an integer type, ensuring that the normalized prices are stored as integers.\n",
    "\n"
   ]
  },
  {
   "cell_type": "code",
   "execution_count": null,
   "metadata": {},
   "outputs": [],
   "source": [
    "def normalize_row(row):\n",
    "    valid_mask = row != -1\n",
    "    valid_prices = row[valid_mask]\n",
    "    \n",
    "    if valid_prices.empty:\n",
    "        return row\n",
    "    \n",
    "    min_price = valid_prices.min()\n",
    "    max_price = valid_prices.max()\n",
    "    \n",
    "   # Avoid division by zero if all valid prices are identical\n",
    "    if min_price == max_price:\n",
    "        row[valid_mask] = 0\n",
    "    else:\n",
    "        # Compute the normalized values, round them, and cast to int\n",
    "        normalized_values = ((row[valid_mask] - min_price) / (max_price - min_price)) * 100\n",
    "        row[valid_mask] = normalized_values.round(0).astype(int)\n",
    "    \n",
    "    return row\n",
    "\n",
    "\n",
    "pivot_df.iloc[:, 1:] = pivot_df.iloc[:, 1:].apply(normalize_row, axis=1)\n",
    "\n",
    "for col in pivot_df.columns[1:]:\n",
    "    pivot_df[col] = pd.to_numeric(pivot_df[col], errors='coerce')\n",
    "    pivot_df[col] = pivot_df[col].astype(\"Int64\")\n",
    "\n",
    "\n",
    "\n",
    "\n",
    "print(pivot_df.head(5))\n",
    "\n"
   ]
  },
  {
   "cell_type": "markdown",
   "metadata": {},
   "source": [
    "**Save to CSV**"
   ]
  },
  {
   "cell_type": "code",
   "execution_count": null,
   "metadata": {},
   "outputs": [],
   "source": [
    "hotels_clustering_data = \"./hotels_clustering_data.csv\"\n",
    "pivot_df.to_csv(hotels_clustering_data, index=False)"
   ]
  },
  {
   "cell_type": "markdown",
   "metadata": {},
   "source": [
    "### Hierarchical Clustering"
   ]
  },
  {
   "cell_type": "markdown",
   "metadata": {},
   "source": [
    "**Task**\n",
    "\n",
    "Using the normalized discount prices for each hotel, we will perform hierarchical clustering to group hotels that exhibit similar pricing behaviors. We have a 160-dimensional feature vector for each hotel (each dimension corresponds to a specific (Checkin Date, Discount Code) pair).\n",
    "\n",
    "**Plan**\n",
    "\n",
    "1. **Prepare the Data:**  \n",
    "   - Load the saved CSV file (`hotels_clustering_data.csv`).\n",
    "   - Separate the \"Hotel Name\" column (for labeling) from the numeric feature columns.\n",
    "\n",
    "2. **Perform Hierarchical Clustering:**  \n",
    "   - Use SciPy's `linkage` function with Ward's method (which works well with Euclidean distance) to compute the clustering.\n",
    "   - Generate a linkage matrix that represents the hierarchical clustering.\n",
    "\n",
    "3. **Plot the Dendrogram:**  \n",
    "   - Use SciPy's `dendrogram` function to visualize the hierarchical clustering.\n",
    "   - Label each leaf in the dendrogram with the corresponding hotel name to help interpret the clusters.\n"
   ]
  },
  {
   "cell_type": "code",
   "execution_count": null,
   "metadata": {},
   "outputs": [],
   "source": [
    "%pip install plotly"
   ]
  },
  {
   "cell_type": "code",
   "execution_count": null,
   "metadata": {},
   "outputs": [],
   "source": [
    "import pandas as pd\n",
    "import plotly.figure_factory as ff\n",
    "from scipy.cluster.hierarchy import linkage\n",
    "\n",
    "def create_dendrogram_from_csv(csv_path, color_threshold=825, width=1200, height=1800):\n",
    "\n",
    "    clu_df = pd.read_csv(csv_path)\n",
    "    hotel_names = clu_df[\"Hotel Name\"].values\n",
    "    X = clu_df.drop(\"Hotel Name\", axis=1).values\n",
    "    Z = linkage(X, method='ward')\n",
    "\n",
    "    fig = ff.create_dendrogram(\n",
    "        X,\n",
    "        orientation='left',\n",
    "        labels=hotel_names,\n",
    "        color_threshold=color_threshold,\n",
    "        linkagefun=lambda x: Z\n",
    "    )\n",
    "\n",
    "    fig.update_layout(\n",
    "        width=width,\n",
    "        height=height\n",
    "    )\n",
    "    fig.show()\n",
    "    \n",
    "    return fig\n",
    "\n",
    "color_threshold_list = [825, 750, 625, 500]\n",
    "for color_threshold in color_threshold_list:\n",
    "    print (f'color_threshold={color_threshold}')\n",
    "    create_dendrogram_from_csv(\"hotels_clustering_data.csv\", color_threshold=color_threshold)\n"
   ]
  },
  {
   "cell_type": "markdown",
   "metadata": {},
   "source": [
    "### Results analysis"
   ]
  },
  {
   "cell_type": "markdown",
   "metadata": {},
   "source": [
    "We performed hierarchical clustering on a dataset of hotels, where each hotel is represented by a **160-dimensional vector** of normalized discount prices. In simpler terms, each hotel’s vector shows *how* it discounts (and by how much) across different dates and discount codes. The dendrogram below clusters these hotels based on their similarity in discounting patterns.\n",
    "\n",
    "Below, we examine **five different “cut” distances**—825, 750, 625, 500, and an additional view with fewer, broader clusters—and describe the cluster/subgroup formations you see in each figure.\n",
    "\n",
    "---\n",
    "\n",
    "#### Overall Explanation of the Dendrogram\n",
    "- **X-axis**: The distance (or dissimilarity) at which clusters merge. Larger values mean more dissimilar groups.  \n",
    "- **Y-axis**: The list of hotels, labeled along the left side.  \n",
    "- **Colored Branches**: Each color indicates a cluster or subgroup under the specified distance threshold.\n",
    "\n",
    "In general:  \n",
    "- Hotels that **merge at smaller distances** (farther to the left in the dendrogram) are quite similar in how they price their discounts.  \n",
    "- If you follow the dendrogram to the right until a major branch merges, that indicates hotels (or clusters of hotels) that are more dissimilar in their pricing behavior.\n",
    "\n",
    "---\n",
    "\n",
    "#### 1. Cut at Distance ≈ 825\n",
    "\n",
    "![Cut at ~825](./images/clustering-825.png)  \n",
    "\n",
    "- We see **three main clusters** forming at this high distance threshold.  \n",
    "- **Group 1** (green), **Group 2** (red), and **Group 3** (blue) represent broad differences in discounting strategies. \n",
    "- Within each group, hotels share overall similarities in their discount patterns, but we’re not yet seeing the finer differences.\n",
    "\n",
    "---\n",
    "\n",
    "#### 2. Cut at Distance ≈ 750\n",
    "\n",
    "![Cut at ~750](./images/clustering-750.png)  \n",
    "\n",
    "- Lowering the threshold to **~750** begins to reveal **subgroups** within **Groups 1** and **3**, while **Group 2** remains mostly intact.  \n",
    "- **Group 1** (previously green) starts splitting into multiple smaller clusters. These subgroups suggest that, while these hotels share a broad discount pattern, some differences in exact pricing behavior are now visible.  \n",
    "- **Group 3** also subdivides more than before.\n",
    "- **Group 2** is still one cluster, which indicates that these hotels are, as a whole, more cohesive or less varied in their discount strategies at this distance.\n",
    "\n",
    "---\n",
    "\n",
    "#### 3. Cut at Distance ≈ 625\n",
    "\n",
    "![Cut at ~625](./images/clustering-625.png)  \n",
    "\n",
    "- By **~625**, **Group 1** and **Group 3** break into several distinct subgroups, illustrating more granular differences.  \n",
    "- **Group 2** is still a single cluster—indicating even at this more fine-grained level, the hotels in Group 2 remain very similar.  \n",
    "- This suggests **Group 2** has a stable, uniform discount pattern, or at least they differ less from each other than from the other groups.\n",
    "\n",
    "---\n",
    "\n",
    "#### 4. Cut at Distance ≈ 500\n",
    "\n",
    "![Cut at ~500](./images/clustering-500.png)  \n",
    "\n",
    "- Finally, at **~500**, **Group 2** splits into **two subgroups**, showing that there are *at least* two distinct discounting patterns within Group 2 when we look closely.  \n",
    "- **Groups 1 and 3** now fragment into many smaller subgroups. If you count them, there could be several mini-clusters in each.  \n",
    "- Each **subgroup** here represents hotels that are very closely aligned in how they handle discounts across time—likely direct competitors or hotels following near-identical pricing guidelines.\n",
    "\n",
    "---\n",
    "\n",
    "#### Meaning of Subgroups\n",
    "\n",
    "1. **Competitive Landscape**  \n",
    "   - Hotels in the **same subgroup** are likely *direct competitors*, as they share nearly identical discount structures and timelines.\n",
    "\n",
    "2. **Revenue Management Strategy**  \n",
    "   - Subgroups often align with brand or chain policies (e.g., a single chain might appear as a tight cluster if they use centralized pricing software).  \n",
    "   - The level of granularity around **500** distance reveals the *very fine details* of each hotel’s promotional activities.\n",
    "\n",
    "3. **Marketing & Differentiation**  \n",
    "   - If you manage a hotel in these clusters, you might examine how close neighbors in the dendrogram are discounting.  \n",
    "   - Being in a tight cluster might motivate you to **differentiate** or **align** your pricing further.\n",
    "\n",
    "4. **Insights for Group 2**  \n",
    "   - Group 2’s stability up to a lower threshold (625) suggests a coherent pricing approach among its hotels. They only start splitting at ~500, which indicates that their differences are more subtle and only become apparent under a finer lens.\n",
    "\n",
    "---\n",
    "\n",
    "#### Putting It All Together\n",
    "At **higher thresholds** (825+), we see broad strokes: *three main pricing behaviors*.  As we lower the cut distance, we discover **finer distinctions** within each major group:\n",
    "- **Groups 1 & 3** develop several distinct subgroups earlier (around 750 or 625).  \n",
    "- **Group 2** remains consistent longer and only splits around 500, revealing that even seemingly uniform clusters can exhibit small internal differences if you zoom in far enough.\n",
    "\n",
    "In essence, **each subgroup** helps us understand small sets of hotels that might share very close discounting patterns—key information for competitive analysis and strategic pricing decisions.\n",
    "\n"
   ]
  },
  {
   "cell_type": "markdown",
   "metadata": {},
   "source": [
    "### diving even deeper - (checking the hotel stars and average price with the pricing strategy)"
   ]
  },
  {
   "cell_type": "markdown",
   "metadata": {},
   "source": [
    "The results from the last section were interesting, so i decided to run the same clustering but with the hotels stars, prices and discounts to see if some patterns emerge.\n",
    "\n",
    "The new label now contains:\n",
    "- stars\n",
    "- avg price\n",
    "- avg discount\n",
    "- avg discount rate \n",
    "\n",
    "in this format:\n",
    "\n",
    "`(stars) - price - discount - discount rate`\n",
    "\n",
    "example:\n",
    "\n",
    "(5) - 3898 - 3663 - 6% "
   ]
  },
  {
   "cell_type": "code",
   "execution_count": null,
   "metadata": {},
   "outputs": [],
   "source": [
    "import pandas as pd\n",
    "\n",
    "pivot_df = pd.read_csv(\"hotels_clustering_data.csv\")\n",
    "df = pd.read_csv(\"./hotels_data_changed.csv\")\n",
    "\n",
    "pivot_df[\"Hotel Name\"] = pivot_df[\"Hotel Name\"].astype(str).str.strip()\n",
    "hotel_counts = df[\"Hotel Name\"].value_counts()\n",
    "top_150_hotels = hotel_counts.head(150).index\n",
    "\n",
    "summary_df = (\n",
    "    df[df[\"Hotel Name\"].isin(top_150_hotels)]\n",
    "    .groupby(\"Hotel Name\")\n",
    "    .agg({\"Original Price\": \"mean\", \"Discount Price\": \"mean\", \"Hotel Stars\": \"first\"})\n",
    "    .reset_index()\n",
    ")\n",
    "\n",
    "summary_df[\"Hotel Name\"] = summary_df[\"Hotel Name\"].astype(str).str.strip()\n",
    "summary_df[\"Original Price\"] = summary_df[\"Original Price\"].round(0).astype(int)\n",
    "summary_df[\"Discount Price\"] = summary_df[\"Discount Price\"].round(0).astype(int)\n",
    "merged_df = pivot_df.merge(summary_df, on=\"Hotel Name\", how=\"left\")\n",
    "\n",
    "merged_df[\"DiscountPerc\"] = (((merged_df[\"Original Price\"] - merged_df[\"Discount Price\"]) / merged_df[\"Original Price\"]) * 100).round(0).astype(int)\n",
    "merged_df[\"Label\"] = merged_df.apply(lambda row: f\"({row['Hotel Stars']}) - {row['Original Price']} - {row['Discount Price']} - {row['DiscountPerc']}%\", axis=1)\n",
    "\n",
    "print(merged_df.head())\n",
    "merged_df.to_csv(\"./hotels_clustering_data_with_summary.csv\", index=False)\n"
   ]
  },
  {
   "cell_type": "code",
   "execution_count": null,
   "metadata": {},
   "outputs": [],
   "source": [
    "import pandas as pd\n",
    "import plotly.figure_factory as ff\n",
    "from scipy.cluster.hierarchy import linkage\n",
    "\n",
    "def create_dendrogram_from_csv(csv_path, color_threshold=825, width=1200, height=1800):\n",
    "    clu_df = pd.read_csv(csv_path)\n",
    "    if \"Label\" in clu_df.columns:\n",
    "        labels = clu_df[\"Label\"].values\n",
    "        non_clustering = [\"Hotel Name\", \"Label\", \"Hotel Stars\", \"Original Price\", \"Discount Price\", \"DiscountPerc\"]\n",
    "    else:\n",
    "        labels = clu_df[\"Hotel Name\"].values\n",
    "        non_clustering = [\"Hotel Name\", \"Hotel Stars\", \"Original Price\", \"Discount Price\", \"DiscountPerc\"]\n",
    "    X = clu_df.drop(columns=non_clustering, errors='ignore').values\n",
    "    Z = linkage(X, method='ward')\n",
    "    fig = ff.create_dendrogram(\n",
    "        X,\n",
    "        orientation='left',\n",
    "        labels=labels,\n",
    "        color_threshold=color_threshold,\n",
    "        linkagefun=lambda x: Z\n",
    "    )\n",
    "    fig.update_layout(width=width, height=height)\n",
    "    fig.show()\n",
    "    return fig\n",
    "\n",
    "color_threshold_list = [825, 750, 625, 500]\n",
    "for color_threshold in color_threshold_list:\n",
    "    print(f'color_threshold={color_threshold}')\n",
    "    create_dendrogram_from_csv(\"hotels_clustering_data_with_summary.csv\", color_threshold=color_threshold)\n"
   ]
  },
  {
   "cell_type": "markdown",
   "metadata": {},
   "source": [
    "#### Hierarchical Clustering with Star Rating, Avg Price, and Discounts\n",
    "\n",
    "We re-ran clustering with four features:\n",
    "1. **Hotel star rating**  \n",
    "2. **Avg nightly price**  \n",
    "3. **Avg absolute discount**  \n",
    "4. **Avg discount rate (%)**\n",
    "\n",
    "Each dendrogram label is `(stars) – price – discount – discount rate`.\n",
    "\n",
    "#### 1. Main Observations\n",
    "\n",
    "- **Star Rating & Price** dominate the first major splits:\n",
    "  - **Budget/Midscale** (2–3★, ~1,200–1,800 price) form one big group.\n",
    "  - **Upscale/Luxury** (4–5★, 2,500–4,000+) cluster separately.\n",
    "- **Discount Patterns** refine clusters within each star tier:\n",
    "  - Hotels sharing similar price but different discount behavior split into distinct subgroups.\n",
    "  - Aggressive vs. conservative discounters separate at lower distance thresholds.\n",
    "\n",
    "#### 2. Cluster Insights\n",
    "\n",
    "1. **Large Distance Clusters**:\n",
    "   - Budget vs. Luxury hotels split clearly by base price and star rating.\n",
    "   - Some **mixed star** groups appear if their price/discount overlap.\n",
    "\n",
    "2. **Subgroups at Tighter Distances**:\n",
    "   - Within the same star tier, variations in discount size or percentage form separate sub-clusters.\n",
    "   - Outliers can include a high-star hotel with heavy discounts or a low-star with high pricing.\n",
    "\n",
    "#### 3. Takeaways\n",
    "\n",
    "- **Star Rating is Primary**; discount strategies refine subgroups.  \n",
    "- Hotels in tight clusters likely share near-identical pricing/discount policies, suggesting **direct competition**.  \n",
    "- Examine outliers for unique pricing approaches or potential repositioning strategies."
   ]
  },
  {
   "cell_type": "markdown",
   "metadata": {},
   "source": [
    "## step 4 - Building a Predictive Model for Hotel Pricing Dynamics Using Snapshot Data (Deprecated - Task was unclear)\n",
    "\n"
   ]
  },
  {
   "cell_type": "markdown",
   "metadata": {},
   "source": [
    "### Problem Breakdown\n"
   ]
  },
  {
   "cell_type": "markdown",
   "metadata": {},
   "source": [
    "\n",
    "- **Objective:**  \n",
    "  Predict the `Discount Price` for check-in dates within 30 days of a given `Snapshot Date` while minimizing the number of price samples (queries) from the database.\n",
    "\n",
    "- **Context:**  \n",
    "  Given a dataset with fields like `Snapshot Date`, `Hotel Name`, `Discount Code`, and various price-related features, our task is to build a model that can infer the price trends and predict missing prices accurately.\n",
    "\n",
    "- **Performance Measure:**  \n",
    "  The model's success is evaluated by the R-squared metric on a subset of 40 hotels with the most complete data.\n"
   ]
  },
  {
   "cell_type": "markdown",
   "metadata": {},
   "source": [
    "### Solution Approaches: Gaussian Process Regression vs. Bayesian Linear and Polynomial Regression\n"
   ]
  },
  {
   "cell_type": "markdown",
   "metadata": {},
   "source": [
    "\n",
    "#### Gaussian Process Regression\n"
   ]
  },
  {
   "cell_type": "markdown",
   "metadata": {},
   "source": [
    "\n",
    "- **Pros:**\n",
    "  - **Uncertainty Quantification:** Provides both predictions and confidence intervals, which is key for active sampling.\n",
    "  - **Sample Efficiency:** Excels when data is limited, helping us select the most informative samples.\n",
    "  - **Flexibility:** Capable of modeling complex, non-linear relationships inherent in price trends.\n",
    "  \n",
    "- **Cons:**\n",
    "  - **Computational Cost:** Can become computationally expensive with larger datasets.\n",
    "  - **Kernel Selection:** Requires careful tuning of the kernel functions to capture the underlying data patterns accurately.\n",
    "\n",
    "- **Fit to the Problem:**  \n",
    "  Ideal for our task since its uncertainty estimates allow us to strategically choose the next check-in dates to sample, ensuring we use as few queries as possible while maintaining high prediction performance.\n",
    "\n"
   ]
  },
  {
   "cell_type": "markdown",
   "metadata": {},
   "source": [
    "\n",
    "#### Bayesian Linear and Polynomial Regression\n"
   ]
  },
  {
   "cell_type": "markdown",
   "metadata": {},
   "source": [
    "\n",
    "- **Pros:**\n",
    "  - **Simplicity:** Easy to implement and interpret.\n",
    "  - **Speed:** Generally faster to train compared to GP, which can be advantageous with simpler or smooth trends.\n",
    "  \n",
    "- **Cons:**\n",
    "  - **Limited Flexibility:** May not capture complex non-linear patterns as effectively.\n",
    "  - **Uncertainty Estimates:** While Bayesian methods provide uncertainty measures, they are often less robust in capturing the variability in complex datasets compared to GP.\n",
    "\n",
    "- **Fit to the Problem:**  \n",
    "  Suitable if the price trends were very smooth and predictable. However, the nuances in hotel pricing (e.g., varying discount strategies, day-of-week effects) suggest a need for a more flexible approach.\n",
    "\n"
   ]
  },
  {
   "cell_type": "markdown",
   "metadata": {},
   "source": [
    "\n",
    "#### Chosen Approach:\n"
   ]
  },
  {
   "cell_type": "markdown",
   "metadata": {},
   "source": [
    "\n",
    "- **Gaussian Process Regression** is selected as the primary method. Its ability to provide uncertainty estimates and guide active sampling makes it the best fit for minimizing the number of price queries while still achieving a high R-squared on the test set.\n"
   ]
  },
  {
   "cell_type": "markdown",
   "metadata": {},
   "source": [
    "### Feature Engineering and Data Preparation\n"
   ]
  },
  {
   "cell_type": "markdown",
   "metadata": {},
   "source": [
    "#### Feature Engineering "
   ]
  },
  {
   "cell_type": "markdown",
   "metadata": {},
   "source": [
    "- **Date Encoding:**  \n",
    "  Convert `Snapshot Date` and `Checkin Date` into numerical features (e.g., days from the snapshot, day-of-week, etc.) to capture temporal patterns.\n",
    "\n",
    "- **Handling Categorical Data:**  \n",
    "  Apply one-hot encoding or similar methods to features such as `Hotel Name` and `Discount Code`."
   ]
  },
  {
   "cell_type": "code",
   "execution_count": null,
   "metadata": {},
   "outputs": [],
   "source": [
    "data_path = \"./hotels_data_changed.csv\"\n",
    "data = pd.read_csv(data_path)\n",
    "\n",
    "data['OG_Hotel_Name'] = data['Hotel Name']\n",
    "\n",
    "data = feature_engineering(data)\n",
    "cols_to_drop = ['Snapshot Date', 'Checkin Date', 'WeekDay']\n",
    "data = data.drop(columns=cols_to_drop)\n",
    "\n",
    "# For our modeling purposes, we want to encode categorical variables.\n",
    "# Here, we choose 'Hotel Name' and 'Discount Code' as categorical features.\n",
    "categorical_features = ['Hotel Name', 'Discount Code']\n",
    "data = encode_categorical_columns(data, categorical_features)\n",
    "\n",
    "\n",
    "print(data.head(1))"
   ]
  },
  {
   "cell_type": "markdown",
   "metadata": {},
   "source": [
    "#### Normalization/Scaling"
   ]
  },
  {
   "cell_type": "markdown",
   "metadata": {},
   "source": [
    "Scale continuous features as needed to ensure all features contribute equally to the model training."
   ]
  },
  {
   "cell_type": "code",
   "execution_count": null,
   "metadata": {},
   "outputs": [],
   "source": [
    "\n",
    "features_to_scale = [\n",
    "    'Snapshot_Date_num',  \n",
    "    'Checkin_Date_num',   \n",
    "    'Original Price',\n",
    "    'Discount Price',\n",
    "    'DiscountDiff',\n",
    "    'DiscountPerc',\n",
    "    'Available Rooms',\n",
    "    'DayDiff'\n",
    "]\n",
    "\n",
    "# Normalize the data\n",
    "normalized_data, fitted_scaler = normalize_features(data, features_to_scale)\n",
    "print(normalized_data[features_to_scale].head())"
   ]
  },
  {
   "cell_type": "markdown",
   "metadata": {},
   "source": [
    "#### Data split (Train/Test)"
   ]
  },
  {
   "cell_type": "markdown",
   "metadata": {},
   "source": [
    "\n",
    "\n",
    " Split the data into train and test Datasets."
   ]
  },
  {
   "cell_type": "code",
   "execution_count": null,
   "metadata": {},
   "outputs": [],
   "source": [
    "hotel_counts = normalized_data['OG_Hotel_Name'].value_counts()\n",
    "top_40_hotels = hotel_counts.head(40).index.tolist()\n",
    "\n",
    "\n",
    "\n",
    "test_data = normalized_data[normalized_data['OG_Hotel_Name'].isin(top_40_hotels)]\n",
    "train_data = normalized_data[~normalized_data['OG_Hotel_Name'].isin(top_40_hotels)]\n",
    "\n",
    "test_data = test_data.drop(columns=['OG_Hotel_Name'])\n",
    "train_data = train_data.drop(columns=['OG_Hotel_Name'])\n",
    "\n",
    "target_variable = 'Discount Price'\n",
    "\n",
    "X_test = test_data.drop(columns=[target_variable])\n",
    "y_test = test_data[target_variable]\n",
    "\n",
    "X_train = train_data.drop(columns=[target_variable])\n",
    "y_train = train_data[target_variable]\n",
    "\n",
    "\n",
    "print(\"Test set (features):\", X_test.shape)\n",
    "print(\"Test set (target):\", y_test.shape)\n",
    "print(\"Training set (features):\", X_train.shape)\n",
    "print(\"Training set (target):\", y_train.shape)\n"
   ]
  },
  {
   "cell_type": "markdown",
   "metadata": {},
   "source": [
    "### Gaussian Process Regression: Training, Testing, and Approach Overview\n",
    "\n"
   ]
  },
  {
   "cell_type": "code",
   "execution_count": null,
   "metadata": {},
   "outputs": [],
   "source": [
    "import numpy as np\n",
    "from sklearn.gaussian_process import GaussianProcessRegressor\n",
    "from sklearn.gaussian_process.kernels import RBF, ConstantKernel as C\n",
    "from sklearn.metrics import r2_score\n",
    "\n",
    "# Set random seed for reproducibility\n",
    "np.random.seed(42)\n",
    "\n",
    "initial_sample_size = 30\n",
    "all_indices = np.array(X_train.index)\n",
    "initial_sample_indices = np.random.choice(all_indices, size=initial_sample_size, replace=False)\n",
    "sampled_indices = list(initial_sample_indices)\n",
    "candidate_indices = list(set(all_indices) - set(sampled_indices))\n",
    "\n",
    "# Define Gaussian Process Regression model with a basic kernel\n",
    "kernel = C(1.0, (1e-3, 1e3)) * RBF(length_scale=1.0, length_scale_bounds=(1e-2, 1e2))\n",
    "gp = GaussianProcessRegressor(kernel=kernel, n_restarts_optimizer=5)\n",
    "\n",
    "max_iterations = 50  # Maximum number of iterations (samples to add)\n",
    "r2_scores = []\n",
    "\n",
    "# --- Iterative Sampling ---\n",
    "for i in range(max_iterations):\n",
    "    # Train GP on current sampled data\n",
    "    X_sampled = X_train.loc[sampled_indices]\n",
    "    y_sampled = y_train.loc[sampled_indices]\n",
    "    gp.fit(X_sampled, y_sampled)\n",
    "    \n",
    "    # Evaluate on the test set\n",
    "    y_pred, sigma = gp.predict(X_test, return_std=True)\n",
    "    r2 = r2_score(y_test, y_pred)\n",
    "    r2_scores.append(r2)\n",
    "    print(f\"Iteration {i+1}: Samples used = {len(sampled_indices)}, Test R² = {r2:.3f}\")\n",
    "    \n",
    "    # Break if no more candidates are left\n",
    "    if not candidate_indices:\n",
    "        break\n",
    "\n",
    "    # Predict on candidate pool to obtain uncertainty (standard deviation)\n",
    "    X_candidates = X_train.loc[candidate_indices]\n",
    "    _, sigma_candidates = gp.predict(X_candidates, return_std=True)\n",
    "    \n",
    "    # Select the candidate with the maximum uncertainty\n",
    "    max_uncertainty_idx = np.argmax(sigma_candidates)\n",
    "    new_sample_idx = X_candidates.index[max_uncertainty_idx]\n",
    "    \n",
    "    # Add this candidate to our sampled set and remove from candidates\n",
    "    sampled_indices.append(new_sample_idx)\n",
    "    candidate_indices.remove(new_sample_idx)\n",
    "\n",
    "print(\"Final number of samples used:\", len(sampled_indices))\n"
   ]
  },
  {
   "cell_type": "markdown",
   "metadata": {},
   "source": [
    "## step 4 - Building a Predictive Model for Hotel Pricing Dynamics Using Snapshot Data (V2)\n",
    "\n"
   ]
  },
  {
   "cell_type": "markdown",
   "metadata": {},
   "source": [
    "### Problem Breakdown\n"
   ]
  },
  {
   "cell_type": "markdown",
   "metadata": {},
   "source": [
    "\n",
    "- **Objective:**  \n",
    "  Predict the `Discount Price` for check-in dates within 30 days of a given `Snapshot Date` while minimizing the number of price samples (queries) from the database.\n",
    "\n",
    "- **Context:**  \n",
    "  Given fields of `Snapshot Date`, `Hotel Name`, `Discount Code`, build a relevant data set to predict the `Discount Price` for check-in dates within 30 days of the `Snapshot Date`.\n",
    "\n",
    "- **Performance Measure:**  \n",
    "  The model's success is evaluated by the R-squared metric on a subset of 40 hotels with the most complete data.\n"
   ]
  },
  {
   "cell_type": "markdown",
   "metadata": {},
   "source": [
    "### Solution Approaches: Gaussian Process Regression vs. Bayesian Linear and Polynomial Regression\n"
   ]
  },
  {
   "cell_type": "markdown",
   "metadata": {},
   "source": [
    "\n",
    "#### Gaussian Process Regression\n"
   ]
  },
  {
   "cell_type": "markdown",
   "metadata": {},
   "source": [
    "\n",
    "- **Pros:**\n",
    "  - **Uncertainty Quantification:** Provides both predictions and confidence intervals, which is key for active sampling.\n",
    "  - **Sample Efficiency:** Excels when data is limited, helping us select the most informative samples.\n",
    "  - **Flexibility:** Capable of modeling complex, non-linear relationships inherent in price trends.\n",
    "  \n",
    "- **Cons:**\n",
    "  - **Computational Cost:** Can become computationally expensive with larger datasets.\n",
    "  - **Kernel Selection:** Requires careful tuning of the kernel functions to capture the underlying data patterns accurately.\n",
    "\n",
    "- **Fit to the Problem:**  \n",
    "  Ideal for our task since its uncertainty estimates allow us to strategically choose the next check-in dates to sample, ensuring we use as few queries as possible while maintaining high prediction performance.\n",
    "\n"
   ]
  },
  {
   "cell_type": "markdown",
   "metadata": {},
   "source": [
    "\n",
    "#### Bayesian Linear and Polynomial Regression\n"
   ]
  },
  {
   "cell_type": "markdown",
   "metadata": {},
   "source": [
    "\n",
    "- **Pros:**\n",
    "  - **Simplicity:** Easy to implement and interpret.\n",
    "  - **Speed:** Generally faster to train compared to GP, which can be advantageous with simpler or smooth trends.\n",
    "  \n",
    "- **Cons:**\n",
    "  - **Limited Flexibility:** May not capture complex non-linear patterns as effectively.\n",
    "  - **Uncertainty Estimates:** While Bayesian methods provide uncertainty measures, they are often less robust in capturing the variability in complex datasets compared to GP.\n",
    "\n",
    "- **Fit to the Problem:**  \n",
    "  Suitable if the price trends were very smooth and predictable. However, the nuances in hotel pricing (e.g., varying discount strategies, day-of-week effects) suggest a need for a more flexible approach.\n",
    "\n"
   ]
  },
  {
   "cell_type": "markdown",
   "metadata": {},
   "source": [
    "\n",
    "#### Chosen Approach:\n"
   ]
  },
  {
   "cell_type": "markdown",
   "metadata": {},
   "source": [
    "\n",
    "- **Gaussian Process Regression** is selected as the primary method. Its ability to provide uncertainty estimates and guide active sampling makes it the best fit for minimizing the number of price queries while still achieving a high R-squared on the test set.\n"
   ]
  },
  {
   "cell_type": "markdown",
   "metadata": {},
   "source": [
    "### Data Loading and Extraction:"
   ]
  },
  {
   "cell_type": "markdown",
   "metadata": {},
   "source": [
    "1. **Load the Data:**  \n",
    "   We read the CSV file into a DataFrame and ensure that date columns are properly converted to datetime objects.\n",
    "\n",
    "2. **Filter the Data:**  \n",
    "   We filter the dataset to include only rows where `DayDiff` is 30 or less, meaning the check-in is within 30 days after the snapshot date.\n",
    "\n",
    "3. **Group the Data:**  \n",
    "   We group by `Snapshot Date`, `Hotel Name`, and `Discount Code`, and count the number of transactions (rows) in each group. This count is stored in the column `transaction_count`.\n",
    "\n",
    "4. **Dataset: onePerHotel:**  \n",
    "   - For each hotel, we sort by `transaction_count` in descending order and select the combination with the maximum count.  \n",
    "   - Then, we sort these unique hotel rows by `transaction_count` and take the top 40.\n",
    "\n",
    "5. **Dataset: mostData:**  \n",
    "   - We simply sort all the grouped combinations by `transaction_count` in descending order and select the top 40 combinations.\n",
    "\n",
    "6. **Extracting Parameters:**  \n",
    "   For each dataset, we extract a list of dictionaries (or \"params\") containing `Snapshot Date`, `Hotel Name`, and `Discount Code`.\n"
   ]
  },
  {
   "cell_type": "code",
   "execution_count": 42,
   "metadata": {},
   "outputs": [
    {
     "name": "stdout",
     "output_type": "stream",
     "text": [
      "onePerHotel (Top 40 hotels with best combination per hotel):\n",
      "                                        Hotel Name Snapshot Date  \\\n",
      "339                            Park Hyatt New York    2015-07-22   \n",
      "325  Newark Liberty International Airport Marriott    2015-07-22   \n",
      "468                           The New York EDITION    2015-07-27   \n",
      "168   Hampton Inn Madison Square Garden Area Hotel    2015-07-23   \n",
      "431                   The Carlyle A Rosewood Hotel    2015-12-20   \n",
      "\n",
      "     Discount Code  transaction_count  \n",
      "339              3                 44  \n",
      "325              3                 30  \n",
      "468              2                 30  \n",
      "168              4                 26  \n",
      "431              4                 26   \n",
      "\n",
      "List of Parameters for onePerHotel:\n",
      "[{'Snapshot Date': Timestamp('2015-07-22 00:00:00'), 'Hotel Name': 'Park Hyatt New York', 'Discount Code': 3}, {'Snapshot Date': Timestamp('2015-07-22 00:00:00'), 'Hotel Name': 'Newark Liberty International Airport Marriott', 'Discount Code': 3}, {'Snapshot Date': Timestamp('2015-07-27 00:00:00'), 'Hotel Name': 'The New York EDITION', 'Discount Code': 2}, {'Snapshot Date': Timestamp('2015-07-23 00:00:00'), 'Hotel Name': 'Hampton Inn Madison Square Garden Area Hotel', 'Discount Code': 4}, {'Snapshot Date': Timestamp('2015-12-20 00:00:00'), 'Hotel Name': 'The Carlyle A Rosewood Hotel', 'Discount Code': 4}, {'Snapshot Date': Timestamp('2015-10-28 00:00:00'), 'Hotel Name': 'Wyndham Garden Brooklyn Sunset Park', 'Discount Code': 3}, {'Snapshot Date': Timestamp('2015-07-22 00:00:00'), 'Hotel Name': 'Hampton Inn Manhattan Times Square South', 'Discount Code': 2}, {'Snapshot Date': Timestamp('2015-12-29 00:00:00'), 'Hotel Name': 'Viceroy New York', 'Discount Code': 4}, {'Snapshot Date': Timestamp('2015-10-21 00:00:00'), 'Hotel Name': 'Westin New York at Times Square', 'Discount Code': 2}, {'Snapshot Date': Timestamp('2015-07-27 00:00:00'), 'Hotel Name': 'Magnuson Convention Center Hotel', 'Discount Code': 2}, {'Snapshot Date': Timestamp('2015-07-23 00:00:00'), 'Hotel Name': 'Residence Inn Newark Elizabeth Liberty International Airport', 'Discount Code': 3}, {'Snapshot Date': Timestamp('2015-07-22 00:00:00'), 'Hotel Name': 'The Peninsula New York', 'Discount Code': 2}, {'Snapshot Date': Timestamp('2015-07-23 00:00:00'), 'Hotel Name': 'Fairfield Inn by Marriott LaGuardia Airport Flushing', 'Discount Code': 2}, {'Snapshot Date': Timestamp('2015-10-26 00:00:00'), 'Hotel Name': 'Quality Inn Woodside', 'Discount Code': 3}, {'Snapshot Date': Timestamp('2015-07-29 00:00:00'), 'Hotel Name': 'DoubleTree by Hilton New York City - Financial District', 'Discount Code': 2}, {'Snapshot Date': Timestamp('2015-07-22 00:00:00'), 'Hotel Name': 'Conrad New York', 'Discount Code': 1}, {'Snapshot Date': Timestamp('2015-07-22 00:00:00'), 'Hotel Name': 'W New York - Union Square', 'Discount Code': 1}, {'Snapshot Date': Timestamp('2015-07-22 00:00:00'), 'Hotel Name': 'Red Carpet Inn New York City', 'Discount Code': 2}, {'Snapshot Date': Timestamp('2015-07-23 00:00:00'), 'Hotel Name': 'Hilton Newark Airport', 'Discount Code': 3}, {'Snapshot Date': Timestamp('2015-12-14 00:00:00'), 'Hotel Name': 'The Pearl New York', 'Discount Code': 1}, {'Snapshot Date': Timestamp('2015-07-22 00:00:00'), 'Hotel Name': 'Millenium Hilton', 'Discount Code': 2}, {'Snapshot Date': Timestamp('2015-08-25 00:00:00'), 'Hotel Name': 'Loews Regency New York Hotel', 'Discount Code': 2}, {'Snapshot Date': Timestamp('2015-08-03 00:00:00'), 'Hotel Name': 'W New York', 'Discount Code': 3}, {'Snapshot Date': Timestamp('2015-10-08 00:00:00'), 'Hotel Name': 'New York Marriott Downtown', 'Discount Code': 3}, {'Snapshot Date': Timestamp('2015-07-22 00:00:00'), 'Hotel Name': 'Gild Hall A Thompson Hotel', 'Discount Code': 1}, {'Snapshot Date': Timestamp('2015-11-17 00:00:00'), 'Hotel Name': 'Hampton Inn New York - 35th Street - Empire State Building', 'Discount Code': 2}, {'Snapshot Date': Timestamp('2015-08-18 00:00:00'), 'Hotel Name': 'Smyth A Thompson Hotel', 'Discount Code': 2}, {'Snapshot Date': Timestamp('2015-12-29 00:00:00'), 'Hotel Name': 'Renaissance Newark Airport Hotel', 'Discount Code': 3}, {'Snapshot Date': Timestamp('2015-07-23 00:00:00'), 'Hotel Name': 'Sheraton New York Times Square Hotel', 'Discount Code': 3}, {'Snapshot Date': Timestamp('2015-10-29 00:00:00'), 'Hotel Name': 'Shelburne NYC-an Affinia hotel', 'Discount Code': 2}, {'Snapshot Date': Timestamp('2015-09-18 00:00:00'), 'Hotel Name': 'Hilton Garden Inn Times Square', 'Discount Code': 2}, {'Snapshot Date': Timestamp('2015-07-28 00:00:00'), 'Hotel Name': 'The Plaza Hotel', 'Discount Code': 2}, {'Snapshot Date': Timestamp('2015-08-27 00:00:00'), 'Hotel Name': 'McCarren Hotel & Pool', 'Discount Code': 2}, {'Snapshot Date': Timestamp('2015-07-22 00:00:00'), 'Hotel Name': 'Omni Berkshire Place', 'Discount Code': 3}, {'Snapshot Date': Timestamp('2015-10-31 00:00:00'), 'Hotel Name': 'The Roger', 'Discount Code': 2}, {'Snapshot Date': Timestamp('2015-08-17 00:00:00'), 'Hotel Name': 'The Lexington New York City Autograph Collection', 'Discount Code': 2}, {'Snapshot Date': Timestamp('2015-07-23 00:00:00'), 'Hotel Name': 'Langham Place New York Fifth Avenue', 'Discount Code': 1}, {'Snapshot Date': Timestamp('2015-11-21 00:00:00'), 'Hotel Name': 'Holiday Inn New York JFK Airport Area', 'Discount Code': 4}, {'Snapshot Date': Timestamp('2015-08-02 00:00:00'), 'Hotel Name': 'Homewood Suites by Hilton NY Midtown Manhattan Times Square', 'Discount Code': 2}, {'Snapshot Date': Timestamp('2015-10-10 00:00:00'), 'Hotel Name': 'The Roosevelt Hotel New York City', 'Discount Code': 2}] \n",
      "\n",
      "mostData (Top 40 combinations overall):\n",
      "     Snapshot Date                                     Hotel Name  \\\n",
      "1684    2015-07-22                            Park Hyatt New York   \n",
      "1683    2015-07-22                            Park Hyatt New York   \n",
      "1682    2015-07-22                            Park Hyatt New York   \n",
      "3312    2015-07-27                           The New York EDITION   \n",
      "1967    2015-07-23  Newark Liberty International Airport Marriott   \n",
      "\n",
      "      Discount Code  transaction_count  \n",
      "1684              3                 44  \n",
      "1683              2                 43  \n",
      "1682              1                 30  \n",
      "3312              2                 30  \n",
      "1967              3                 30   \n",
      "\n",
      "List of Parameters for mostData:\n",
      "[{'Snapshot Date': Timestamp('2015-07-22 00:00:00'), 'Hotel Name': 'Park Hyatt New York', 'Discount Code': 3}, {'Snapshot Date': Timestamp('2015-07-22 00:00:00'), 'Hotel Name': 'Park Hyatt New York', 'Discount Code': 2}, {'Snapshot Date': Timestamp('2015-07-22 00:00:00'), 'Hotel Name': 'Park Hyatt New York', 'Discount Code': 1}, {'Snapshot Date': Timestamp('2015-07-27 00:00:00'), 'Hotel Name': 'The New York EDITION', 'Discount Code': 2}, {'Snapshot Date': Timestamp('2015-07-23 00:00:00'), 'Hotel Name': 'Newark Liberty International Airport Marriott', 'Discount Code': 3}, {'Snapshot Date': Timestamp('2015-07-22 00:00:00'), 'Hotel Name': 'Newark Liberty International Airport Marriott', 'Discount Code': 3}, {'Snapshot Date': Timestamp('2015-07-29 00:00:00'), 'Hotel Name': 'The New York EDITION', 'Discount Code': 3}, {'Snapshot Date': Timestamp('2015-07-29 00:00:00'), 'Hotel Name': 'The New York EDITION', 'Discount Code': 2}, {'Snapshot Date': Timestamp('2015-07-27 00:00:00'), 'Hotel Name': 'The New York EDITION', 'Discount Code': 3}, {'Snapshot Date': Timestamp('2015-07-25 00:00:00'), 'Hotel Name': 'The New York EDITION', 'Discount Code': 2}, {'Snapshot Date': Timestamp('2015-07-28 00:00:00'), 'Hotel Name': 'The New York EDITION', 'Discount Code': 2}, {'Snapshot Date': Timestamp('2015-07-28 00:00:00'), 'Hotel Name': 'The New York EDITION', 'Discount Code': 3}, {'Snapshot Date': Timestamp('2015-07-25 00:00:00'), 'Hotel Name': 'The New York EDITION', 'Discount Code': 3}, {'Snapshot Date': Timestamp('2015-07-26 00:00:00'), 'Hotel Name': 'The New York EDITION', 'Discount Code': 3}, {'Snapshot Date': Timestamp('2015-07-26 00:00:00'), 'Hotel Name': 'The New York EDITION', 'Discount Code': 2}, {'Snapshot Date': Timestamp('2015-07-22 00:00:00'), 'Hotel Name': 'Park Hyatt New York', 'Discount Code': 4}, {'Snapshot Date': Timestamp('2015-07-23 00:00:00'), 'Hotel Name': 'Hampton Inn Madison Square Garden Area Hotel', 'Discount Code': 4}, {'Snapshot Date': Timestamp('2015-07-23 00:00:00'), 'Hotel Name': 'Newark Liberty International Airport Marriott', 'Discount Code': 2}, {'Snapshot Date': Timestamp('2015-12-20 00:00:00'), 'Hotel Name': 'The Carlyle A Rosewood Hotel', 'Discount Code': 4}, {'Snapshot Date': Timestamp('2015-07-22 00:00:00'), 'Hotel Name': 'Newark Liberty International Airport Marriott', 'Discount Code': 2}, {'Snapshot Date': Timestamp('2015-12-18 00:00:00'), 'Hotel Name': 'The Carlyle A Rosewood Hotel', 'Discount Code': 4}, {'Snapshot Date': Timestamp('2016-01-01 00:00:00'), 'Hotel Name': 'The Carlyle A Rosewood Hotel', 'Discount Code': 2}, {'Snapshot Date': Timestamp('2016-01-01 00:00:00'), 'Hotel Name': 'The Carlyle A Rosewood Hotel', 'Discount Code': 3}, {'Snapshot Date': Timestamp('2015-12-20 00:00:00'), 'Hotel Name': 'The Carlyle A Rosewood Hotel', 'Discount Code': 3}, {'Snapshot Date': Timestamp('2015-12-30 00:00:00'), 'Hotel Name': 'The Carlyle A Rosewood Hotel', 'Discount Code': 2}, {'Snapshot Date': Timestamp('2015-12-19 00:00:00'), 'Hotel Name': 'The Carlyle A Rosewood Hotel', 'Discount Code': 4}, {'Snapshot Date': Timestamp('2015-12-31 00:00:00'), 'Hotel Name': 'The Carlyle A Rosewood Hotel', 'Discount Code': 2}, {'Snapshot Date': Timestamp('2015-12-31 00:00:00'), 'Hotel Name': 'The Carlyle A Rosewood Hotel', 'Discount Code': 3}, {'Snapshot Date': Timestamp('2015-12-20 00:00:00'), 'Hotel Name': 'The Carlyle A Rosewood Hotel', 'Discount Code': 2}, {'Snapshot Date': Timestamp('2015-07-23 00:00:00'), 'Hotel Name': 'Park Hyatt New York', 'Discount Code': 2}, {'Snapshot Date': Timestamp('2015-07-23 00:00:00'), 'Hotel Name': 'Park Hyatt New York', 'Discount Code': 3}, {'Snapshot Date': Timestamp('2016-01-01 00:00:00'), 'Hotel Name': 'The Carlyle A Rosewood Hotel', 'Discount Code': 4}, {'Snapshot Date': Timestamp('2015-10-28 00:00:00'), 'Hotel Name': 'Wyndham Garden Brooklyn Sunset Park', 'Discount Code': 3}, {'Snapshot Date': Timestamp('2015-12-17 00:00:00'), 'Hotel Name': 'The Carlyle A Rosewood Hotel', 'Discount Code': 4}, {'Snapshot Date': Timestamp('2015-12-30 00:00:00'), 'Hotel Name': 'The Carlyle A Rosewood Hotel', 'Discount Code': 3}, {'Snapshot Date': Timestamp('2015-07-22 00:00:00'), 'Hotel Name': 'Hampton Inn Manhattan Times Square South', 'Discount Code': 2}, {'Snapshot Date': Timestamp('2015-12-27 00:00:00'), 'Hotel Name': 'The Carlyle A Rosewood Hotel', 'Discount Code': 2}, {'Snapshot Date': Timestamp('2015-10-26 00:00:00'), 'Hotel Name': 'Wyndham Garden Brooklyn Sunset Park', 'Discount Code': 2}, {'Snapshot Date': Timestamp('2015-12-31 00:00:00'), 'Hotel Name': 'The Carlyle A Rosewood Hotel', 'Discount Code': 4}, {'Snapshot Date': Timestamp('2015-12-30 00:00:00'), 'Hotel Name': 'The Carlyle A Rosewood Hotel', 'Discount Code': 4}]\n"
     ]
    }
   ],
   "source": [
    "import pandas as pd\n",
    "\n",
    "data_path = \"./hotels_data_changed.csv\"\n",
    "data = pd.read_csv(data_path)\n",
    "\n",
    "# We are only interested in transactions with a check-in date within 30 days after the snapshot.\n",
    "data_filtered = data[data['DayDiff'] <= 30].copy()\n",
    "\n",
    "data_filtered['Snapshot Date'] = pd.to_datetime(data_filtered['Snapshot Date']).dt.normalize()\n",
    "\n",
    "# We group by the combination of 'Snapshot Date', 'Hotel Name', and 'Discount Code', and count the number of transactions.\n",
    "grouped = data_filtered.groupby(\n",
    "    ['Snapshot Date', 'Hotel Name', 'Discount Code']\n",
    ").size().reset_index(name='transaction_count')\n",
    "\n",
    "# For each hotel, choose the combination with the highest transaction_count.\n",
    "# First, sort within each hotel so that the highest count is on top,\n",
    "# then group by 'Hotel Name' and take the first (best) row.\n",
    "onePerHotel = (\n",
    "    grouped.sort_values(['Hotel Name', 'transaction_count'], ascending=[True, False])\n",
    "    .groupby('Hotel Name')\n",
    "    .first()\n",
    "    .reset_index()\n",
    ")\n",
    "\n",
    "onePerHotel = onePerHotel.sort_values('transaction_count', ascending=False).head(40)\n",
    "\n",
    "mostData = grouped.sort_values('transaction_count', ascending=False).head(40)\n",
    "\n",
    "params_onePerHotel = onePerHotel[['Snapshot Date', 'Hotel Name', 'Discount Code']].to_dict('records')\n",
    "params_mostData   = mostData[['Snapshot Date', 'Hotel Name', 'Discount Code']].to_dict('records')\n",
    "\n",
    "print(\"onePerHotel (Top 40 hotels with best combination per hotel):\")\n",
    "print(onePerHotel.head(), \"\\n\")\n",
    "print(\"List of Parameters for onePerHotel:\")\n",
    "print(params_onePerHotel, \"\\n\")\n",
    "\n",
    "print(\"mostData (Top 40 combinations overall):\")\n",
    "print(mostData.head(), \"\\n\")\n",
    "print(\"List of Parameters for mostData:\")\n",
    "print(params_mostData)\n",
    "\n",
    "\n"
   ]
  },
  {
   "cell_type": "markdown",
   "metadata": {},
   "source": [
    "### Feature Engineering and Data Preparation "
   ]
  },
  {
   "cell_type": "markdown",
   "metadata": {},
   "source": [
    "In this section we would create a function that gets the `Snapshot Date`, `Hotel Name`, and `Discount Code` and returns all we need to start training the model.\n",
    "This includes the following:\n",
    "-  get relevant data from the dataset\n",
    "-  apply feature engineering on that data\n",
    "-  normalize and scale the data\n",
    "-  Splitting into X and y & Creating the Wrapper Function"
   ]
  },
  {
   "cell_type": "markdown",
   "metadata": {},
   "source": [
    "#### get the data "
   ]
  },
  {
   "cell_type": "code",
   "execution_count": 6,
   "metadata": {},
   "outputs": [
    {
     "name": "stdout",
     "output_type": "stream",
     "text": [
      "Parameters: {'Snapshot Date': Timestamp('2015-07-22 00:00:00'), 'Hotel Name': 'Park Hyatt New York', 'Discount Code': 3}\n",
      "Relevant Data (first 5 rows):\n",
      "      Snapshot ID Snapshot Date Checkin Date  Days  Original Price  \\\n",
      "4119           11    2015-07-22   2015-07-23     5            3900   \n",
      "4120           11    2015-07-22   2015-07-24     5            3900   \n",
      "4121           11    2015-07-22   2015-07-25     5            3900   \n",
      "4122           11    2015-07-22   2015-07-28     5            3900   \n",
      "4123           11    2015-07-22   2015-07-29     5            3900   \n",
      "\n",
      "      Discount Price  Discount Code  Available Rooms           Hotel Name  \\\n",
      "4119            3600              3                3  Park Hyatt New York   \n",
      "4120            3600              3                7  Park Hyatt New York   \n",
      "4121            3600              3                7  Park Hyatt New York   \n",
      "4122            3600              3                7  Park Hyatt New York   \n",
      "4123            3400              3                9  Park Hyatt New York   \n",
      "\n",
      "      Hotel Stars  DayDiff    WeekDay  DiscountDiff  DiscountPerc  \n",
      "4119            5        1   Thursday           300      7.692308  \n",
      "4120            5        2     Friday           300      7.692308  \n",
      "4121            5        3   Saturday           300      7.692308  \n",
      "4122            5        6    Tuesday           300      7.692308  \n",
      "4123            5        7  Wednesday           500     12.820513  \n"
     ]
    }
   ],
   "source": [
    "def load_relevant_data(params, data):\n",
    " \n",
    "    snapshot_date = pd.to_datetime(params['Snapshot Date']).normalize()\n",
    "    \n",
    "    subset = data[\n",
    "        (data['Snapshot Date'] == snapshot_date) &\n",
    "        (data['Hotel Name'] == params['Hotel Name']) &\n",
    "        (data['Discount Code'] == params['Discount Code']) &\n",
    "        (data['DayDiff'] <= 30) \n",
    "    ]\n",
    "    return subset\n",
    "\n",
    "test_params = params_mostData[0]\n",
    "relevant_subset = load_relevant_data(test_params, data_filtered)\n",
    "print(\"Parameters:\", test_params)\n",
    "print(\"Relevant Data (first 5 rows):\")\n",
    "print(relevant_subset.head(5))\n"
   ]
  },
  {
   "cell_type": "markdown",
   "metadata": {},
   "source": [
    "#### apply feature engineering"
   ]
  },
  {
   "cell_type": "markdown",
   "metadata": {},
   "source": [
    "In this step, we transform our raw data into a format that is ready for model training. The goals are to:\n",
    "\n",
    "- **Convert Date Information:**  \n",
    "  We convert the date column `Checkin Date` into numerical values (Unix timestamps) so that the model can understand and work with temporal data.\n",
    "\n",
    "- **Encode Weekday Information:**  \n",
    "  We convert the weekday from a string (e.g., \"Monday\") into a numeric value using the helper function `convert_weekday_to_num`, storing it as `WeekDay_num`.\n",
    "\n",
    "- **Remove Irrelevant or Constant Columns:**  \n",
    "  After feature engineering, some columns become redundant or uninformative:\n",
    "  - **`Hotel Name`:** Removed because the data is filtered for a specific hotel, or if used for filtering, the raw name is no longer needed.\n",
    "  - **`Checkin Date`:** Once their numerical representations are extracted, the raw date values are no longer required.\n",
    "  - **`WeekDay`:** We already have the numeric `WeekDay_num`, making the original string column redundant.\n",
    "  - **`Days`:** This column is always the same (always 5), so it does not provide any variance or useful information for training.\n",
    "  - **`Snapshot Date`:** Since the snapshot is the same across the subset, this column is constant and does not help differentiate between records.\n",
    "  - **`Snapshot ID`:** This is also constant for a given snapshot and can be removed to reduce noise.\n",
    "\n",
    "The removal of these columns helps to simplify our dataset and ensures that the model is trained only on features that provide meaningful variation.\n"
   ]
  },
  {
   "cell_type": "code",
   "execution_count": 8,
   "metadata": {},
   "outputs": [
    {
     "name": "stdout",
     "output_type": "stream",
     "text": [
      "Engineered Data (first 5 rows):\n",
      "      Original Price  Discount Price  Discount Code  Available Rooms  \\\n",
      "4119            3900            3600              3                3   \n",
      "4120            3900            3600              3                7   \n",
      "4121            3900            3600              3                7   \n",
      "4122            3900            3600              3                7   \n",
      "4123            3900            3400              3                9   \n",
      "\n",
      "      Hotel Stars  DayDiff  DiscountDiff  DiscountPerc  Checkin_Date_num  \\\n",
      "4119            5        1           300      7.692308      1.437610e+09   \n",
      "4120            5        2           300      7.692308      1.437696e+09   \n",
      "4121            5        3           300      7.692308      1.437782e+09   \n",
      "4122            5        6           300      7.692308      1.438042e+09   \n",
      "4123            5        7           500     12.820513      1.438128e+09   \n",
      "\n",
      "      WeekDay_num  \n",
      "4119            3  \n",
      "4120            4  \n",
      "4121            5  \n",
      "4122            1  \n",
      "4123            2  \n",
      "Index(['Original Price', 'Discount Price', 'Discount Code', 'Available Rooms',\n",
      "       'Hotel Stars', 'DayDiff', 'DiscountDiff', 'DiscountPerc',\n",
      "       'Checkin_Date_num', 'WeekDay_num'],\n",
      "      dtype='object')\n"
     ]
    }
   ],
   "source": [
    "def convert_weekday_to_num(weekday):\n",
    "    mapping = {\n",
    "        'Monday': 0,\n",
    "        'Tuesday': 1,\n",
    "        'Wednesday': 2,\n",
    "        'Thursday': 3,\n",
    "        'Friday': 4,\n",
    "        'Saturday': 5,\n",
    "        'Sunday': 6\n",
    "    }\n",
    "    return mapping.get(weekday, -1)  # Returns -1 if the weekday is not found\n",
    "\n",
    "def feature_engineering(df):\n",
    "    df['Checkin Date'] = pd.to_datetime(df['Checkin Date'])\n",
    "    \n",
    "    df['Checkin_Date_num'] = df['Checkin Date'].apply(lambda x: x.timestamp())\n",
    "    \n",
    "    \n",
    "    df['WeekDay_num'] = df['WeekDay'].apply(convert_weekday_to_num)\n",
    "    \n",
    "    # Remove columns that are not useful for training:\n",
    "    # 'Hotel Name'   - No longer needed since the data is already filtered per hotel.\n",
    "    # 'Checkin Date' - Raw dates are replaced by numerical features.\n",
    "    # 'WeekDay'      - Replaced by 'WeekDay_num'.\n",
    "    # 'Days'         - Always constant (5) across the dataset.\n",
    "    # 'Snapshot Date' - Constant within a given snapshot.\n",
    "    # 'Snapshot ID'  - Constant within the dataset.\n",
    "    columns_to_drop = ['Hotel Name', 'Snapshot Date', 'Checkin Date', 'WeekDay', 'Days', 'Snapshot ID' ]\n",
    "    df = df.drop(columns=columns_to_drop)\n",
    "    \n",
    "    return df\n",
    "engineered_data = feature_engineering(relevant_subset.copy())\n",
    "\n",
    "print(\"Engineered Data (first 5 rows):\")\n",
    "print(engineered_data.head())\n",
    "print(engineered_data.columns)\n"
   ]
  },
  {
   "cell_type": "markdown",
   "metadata": {},
   "source": [
    "#### normalize and scale the data"
   ]
  },
  {
   "cell_type": "markdown",
   "metadata": {},
   "source": [
    "**What are we doing?**  \n",
    "We use a `StandardScaler` to standardize the continuous features by removing the mean and scaling to unit variance. This process prevents features with larger numeric ranges from dominating the learning process.\n",
    "\n",
    "**Why are we doing it?**  \n",
    "Normalization is crucial in many machine learning algorithms—especially when using distance-based metrics or gradient descent—for faster convergence and improved performance.\n",
    "\n",
    "**Features to Scale:**  \n",
    "Based on our engineered dataset, we scale:\n",
    "- `Checkin_Date_num` (numerical representation of the check-in date)  \n",
    "- `Original Price`  \n",
    "- `Discount Price`  \n",
    "- `Available Rooms`  \n",
    "- `DayDiff`  \n",
    "- `DiscountDiff`  \n",
    "- `DiscountPerc`"
   ]
  },
  {
   "cell_type": "code",
   "execution_count": 9,
   "metadata": {},
   "outputs": [
    {
     "name": "stdout",
     "output_type": "stream",
     "text": [
      "Normalized Data (first 5 rows):\n",
      "      Original Price  Discount Price  Discount Code  Available Rooms  \\\n",
      "4119        1.632993        1.323327              3        -0.960855   \n",
      "4120        1.632993        1.323327              3        -0.783776   \n",
      "4121        1.632993        1.323327              3        -0.783776   \n",
      "4122        1.632993        1.323327              3        -0.783776   \n",
      "4123        1.632993       -0.409601              3        -0.695236   \n",
      "\n",
      "      Hotel Stars   DayDiff  DiscountDiff  DiscountPerc  Checkin_Date_num  \\\n",
      "4119            5 -1.811602     -0.640292     -0.721008         -1.811602   \n",
      "4120            5 -1.694724     -0.640292     -0.721008         -1.694724   \n",
      "4121            5 -1.577846     -0.640292     -0.721008         -1.577846   \n",
      "4122            5 -1.227214     -0.640292     -0.721008         -1.227214   \n",
      "4123            5 -1.110336      1.771768      1.575134         -1.110336   \n",
      "\n",
      "      WeekDay_num  \n",
      "4119            3  \n",
      "4120            4  \n",
      "4121            5  \n",
      "4122            1  \n",
      "4123            2  \n"
     ]
    }
   ],
   "source": [
    "from sklearn.preprocessing import StandardScaler\n",
    "\n",
    "def normalize_features(df, features_to_scale, scaler=None):\n",
    "    if scaler is None:\n",
    "        scaler = StandardScaler()\n",
    "    \n",
    "    df_scaled = df.copy()\n",
    "    \n",
    "    df_scaled[features_to_scale] = scaler.fit_transform(df_scaled[features_to_scale])\n",
    "    \n",
    "    return df_scaled, scaler\n",
    "\n",
    "features_to_scale = [\n",
    "    \"Checkin_Date_num\", \n",
    "    \"Original Price\", \n",
    "    \"Discount Price\", \n",
    "    \"Available Rooms\", \n",
    "    \"DayDiff\", \n",
    "    \"DiscountDiff\", \n",
    "    \"DiscountPerc\"\n",
    "]\n",
    "\n",
    "normalized_data, fitted_scaler = normalize_features(engineered_data, features_to_scale)\n",
    "\n",
    "print(\"Normalized Data (first 5 rows):\")\n",
    "print(normalized_data.head())\n"
   ]
  },
  {
   "cell_type": "markdown",
   "metadata": {},
   "source": [
    "####  Splitting into X and y & Creating the Wrapper Function"
   ]
  },
  {
   "cell_type": "markdown",
   "metadata": {},
   "source": [
    "In this step, we:\n",
    "\n",
    "- Split the normalized data into features (`X`) and target (`y`). Here, `y` is the scaled \"Discount Price\".  \n",
    "- Create a wrapper function that runs the entire preprocessing pipeline (from getting relevant data to normalization) and returns `X`, `y`, the fitted scaler, and a helper function to reverse the scaling for the target.  \n",
    "- The helper function uses the scaling parameters for \"Discount Price\" (found in the fitted scaler) so that later we can convert predictions back to their original values.\n",
    "\n",
    "> **Why Remove \"Discount Price\" from X?**  \n",
    "> The target variable should not be present in the features. By dropping \"Discount Price\" from the normalized data, we ensure that `X` contains only the input features while `y` contains the target variable.\n",
    "\n",
    "> **Reversing the Scaling:**  \n",
    "> Since the scaler is fitted on multiple columns, we locate the index corresponding to \"Discount Price\" in our `features_to_scale` list and use its mean and scale to convert scaled predictions back to their original values."
   ]
  },
  {
   "cell_type": "code",
   "execution_count": 10,
   "metadata": {},
   "outputs": [
    {
     "name": "stdout",
     "output_type": "stream",
     "text": [
      "X shape: (44, 9)\n",
      "y shape: (44,)\n",
      "First 5 values of y (scaled):\n",
      " 12619   -1.665974\n",
      "12620   -1.665974\n",
      "4127    -1.665974\n",
      "4128    -1.665974\n",
      "12617   -1.492681\n",
      "Name: Discount Price, dtype: float64\n",
      "First 5 values of y (original): [3255. 3255. 3255. 3255. 3275.]\n"
     ]
    }
   ],
   "source": [
    "def prepare_training_data(params, data, sort=False):\n",
    "    relevant = load_relevant_data(params, data)\n",
    "    engineered = feature_engineering(relevant.copy())\n",
    "    normalized, scaler = normalize_features(engineered, features_to_scale)\n",
    "    \n",
    "    if sorted:\n",
    "        normalized = normalized.sort_values(by=\"Discount Price\")\n",
    "\n",
    "    X = normalized.drop(columns=[\"Discount Price\"])\n",
    "    y = normalized[\"Discount Price\"]\n",
    "\n",
    "    idx = features_to_scale.index(\"Discount Price\")\n",
    "    \n",
    "    def reverse_scaling(y_scaled):\n",
    "        return y_scaled * scaler.scale_[idx] + scaler.mean_[idx]\n",
    "    \n",
    "    return X, y, scaler, reverse_scaling\n",
    "\n",
    "X, y, scaler, reverse_scaling = prepare_training_data(test_params,data_filtered )\n",
    "print(\"X shape:\", X.shape)\n",
    "print(\"y shape:\", y.shape)\n",
    "print(\"First 5 values of y (scaled):\\n\", y.head())\n",
    "print(\"First 5 values of y (original):\", reverse_scaling(y.head().values))\n"
   ]
  },
  {
   "cell_type": "markdown",
   "metadata": {},
   "source": [
    "### Gaussian Process Regression: Training And Testing\n",
    "\n"
   ]
  },
  {
   "cell_type": "markdown",
   "metadata": {},
   "source": [
    "#### Model Initialization\n"
   ]
  },
  {
   "cell_type": "markdown",
   "metadata": {},
   "source": [
    "\n",
    "In this cell, we initialize our GaussianProcessRegressor model. We use a kernel that combines a ConstantKernel and an RBF kernel. \n",
    "\n",
    "- **GaussianProcessRegressor:**  \n",
    "  Provides both predictions and uncertainty estimates, which are essential for our active sampling approach.\n",
    "\n",
    "- **ConstantKernel:**  \n",
    "  Represents a constant bias in the function, serving as a baseline.\n",
    "\n",
    "- **RBF Kernel (Radial Basis Function):**  \n",
    "  Models smooth variations in the data, which is ideal for capturing trends in discount prices.\n",
    "\n"
   ]
  },
  {
   "cell_type": "code",
   "execution_count": 31,
   "metadata": {},
   "outputs": [
    {
     "name": "stdout",
     "output_type": "stream",
     "text": [
      "Initialized Model:\n",
      "GaussianProcessRegressor(alpha=0.01, kernel=1**2 * RBF(length_scale=1),\n",
      "                         n_restarts_optimizer=10, normalize_y=True)\n"
     ]
    }
   ],
   "source": [
    "from sklearn.gaussian_process import GaussianProcessRegressor\n",
    "from sklearn.gaussian_process.kernels import RBF, ConstantKernel as C\n",
    "\n",
    "def initialize_model():\n",
    "    kernel = C(1.0, (1e-3, 1e3)) * RBF(length_scale=1.0, length_scale_bounds=(1e-2, 1e2))\n",
    "    gp = GaussianProcessRegressor(kernel=kernel, n_restarts_optimizer=10, alpha=1e-2, normalize_y=True)\n",
    "    return gp\n",
    "\n",
    "model = initialize_model()\n",
    "print(\"Initialized Model:\")\n",
    "print(model)\n"
   ]
  },
  {
   "cell_type": "markdown",
   "metadata": {},
   "source": [
    "#### Active Sampling Loop\n"
   ]
  },
  {
   "cell_type": "markdown",
   "metadata": {},
   "source": [
    "##### Maximum uncertainty based stop"
   ]
  },
  {
   "cell_type": "markdown",
   "metadata": {},
   "source": [
    "\n",
    "In this cell, we implement the active sampling loop. The process is as follows:\n",
    "\n",
    "- Start with an initial set of samples (e.g., the first, middle, and last indices).\n",
    "- Iteratively fit the Gaussian Process model on the current training set.\n",
    "- Predict on the remaining (unsampled) data and obtain uncertainty estimates.\n",
    "- Select the candidate with the highest uncertainty and add it to the training set.\n",
    "- Compute the `R²` score to monitor performance.\n",
    "- Stop when the maximum uncertainty is below a threshold or when the maximum iterations are reached.\n",
    "\n"
   ]
  },
  {
   "cell_type": "code",
   "execution_count": 35,
   "metadata": {},
   "outputs": [
    {
     "name": "stdout",
     "output_type": "stream",
     "text": [
      "Final R² Score: 0.999867082003523\n",
      "Total Samples Used: 18\n",
      "Iteration Log:\n",
      "{'iteration': 0, 'num_samples': 3, 'max_uncertainty': np.float64(1.2193924166399281), 'r2': 0.19634395134922744}\n",
      "{'iteration': 1, 'num_samples': 4, 'max_uncertainty': np.float64(1.189681589765836), 'r2': 0.8612939288138453}\n",
      "{'iteration': 2, 'num_samples': 5, 'max_uncertainty': np.float64(0.9292056729363668), 'r2': 0.866405890878754}\n",
      "{'iteration': 3, 'num_samples': 6, 'max_uncertainty': np.float64(0.7527699759000952), 'r2': 0.9190876089730292}\n",
      "{'iteration': 4, 'num_samples': 7, 'max_uncertainty': np.float64(0.42078945841167076), 'r2': 0.991606870170689}\n",
      "{'iteration': 5, 'num_samples': 8, 'max_uncertainty': np.float64(0.27277119029609154), 'r2': 0.9989921737531994}\n",
      "{'iteration': 6, 'num_samples': 9, 'max_uncertainty': np.float64(0.14039172867227723), 'r2': 0.9994478007824887}\n",
      "{'iteration': 7, 'num_samples': 10, 'max_uncertainty': np.float64(0.11539276152306727), 'r2': 0.9996642154441397}\n",
      "{'iteration': 8, 'num_samples': 11, 'max_uncertainty': np.float64(0.1171036700584256), 'r2': 0.999736497340429}\n",
      "{'iteration': 9, 'num_samples': 12, 'max_uncertainty': np.float64(0.10711729439584156), 'r2': 0.9997482731268867}\n",
      "{'iteration': 10, 'num_samples': 13, 'max_uncertainty': np.float64(0.09167693965877322), 'r2': 0.9997850825071539}\n",
      "{'iteration': 11, 'num_samples': 14, 'max_uncertainty': np.float64(0.08521240332190634), 'r2': 0.999823200889648}\n",
      "{'iteration': 12, 'num_samples': 15, 'max_uncertainty': np.float64(0.07954969898825542), 'r2': 0.999837626856306}\n",
      "{'iteration': 13, 'num_samples': 16, 'max_uncertainty': np.float64(0.07589110718034897), 'r2': 0.9998735173764028}\n",
      "{'iteration': 14, 'num_samples': 17, 'max_uncertainty': np.float64(0.07123816711003503), 'r2': 0.9998706437883653}\n"
     ]
    }
   ],
   "source": [
    "import numpy as np\n",
    "from sklearn.metrics import r2_score\n",
    "\n",
    "def active_sampling_loop(X, y, max_iterations=10, uncertainty_threshold=0.05, initial_sample_indices=None):\n",
    "    n_samples = X.shape[0]\n",
    "    \n",
    "    if initial_sample_indices is None:\n",
    "        initial_sample_indices = [0, n_samples // 2, n_samples - 1]\n",
    "    \n",
    "    training_indices = set(initial_sample_indices)\n",
    "    candidate_indices = set(range(n_samples)) - training_indices\n",
    "    iteration_log = []\n",
    "    \n",
    "    for iteration in range(max_iterations):\n",
    "        # Prepare current training data\n",
    "        X_train = X.iloc[sorted(list(training_indices))]\n",
    "        y_train = y.iloc[sorted(list(training_indices))]\n",
    "        \n",
    "        # Initialize and fit the Gaussian Process model\n",
    "        model = initialize_model()\n",
    "        model.fit(X_train, y_train)\n",
    "        \n",
    "        # Predict on candidate data and obtain uncertainties\n",
    "        candidate_list = sorted(list(candidate_indices))\n",
    "        if not candidate_list:\n",
    "            break\n",
    "\n",
    "        X_candidates = X.iloc[candidate_list]\n",
    "        y_pred_candidates, std_candidates = model.predict(X_candidates, return_std=True)\n",
    "        \n",
    "        # Find candidate with maximum uncertainty\n",
    "        max_std = np.max(std_candidates)\n",
    "        chosen_candidate_idx = candidate_list[np.argmax(std_candidates)]\n",
    "        \n",
    "        y_pred_full = model.predict(X)\n",
    "        current_r2 = r2_score(y, y_pred_full)\n",
    "        iteration_log.append({\n",
    "            'iteration': iteration,\n",
    "            'num_samples': len(training_indices),\n",
    "            'max_uncertainty': max_std,\n",
    "            'r2': current_r2\n",
    "        })\n",
    "        \n",
    "        \n",
    "        if max_std < uncertainty_threshold:\n",
    "            break\n",
    "        \n",
    "        # Add the most uncertain candidate to the training set\n",
    "        training_indices.add(chosen_candidate_idx)\n",
    "        candidate_indices.remove(chosen_candidate_idx)\n",
    "    \n",
    "    # Final training on the selected samples\n",
    "    X_final = X.iloc[sorted(list(training_indices))]\n",
    "    y_final = y.iloc[sorted(list(training_indices))]\n",
    "    final_model = initialize_model()\n",
    "    final_model.fit(X_final, y_final)\n",
    "    final_predictions = final_model.predict(X)\n",
    "    final_r2 = r2_score(y, final_predictions)\n",
    "    \n",
    "    return {\n",
    "        'final_model': final_model,\n",
    "        'final_predictions': final_predictions,\n",
    "        'final_r2': final_r2,\n",
    "        'iteration_log': iteration_log,\n",
    "        'total_samples_used': len(training_indices)\n",
    "    }\n",
    "\n",
    "results = active_sampling_loop(X, y, max_iterations=15, uncertainty_threshold=0.05)\n",
    "\n",
    "print(\"Final R² Score:\", results['final_r2'])\n",
    "print(\"Total Samples Used:\", results['total_samples_used'])\n",
    "print(\"Iteration Log:\")\n",
    "for log in results['iteration_log']:\n",
    "    print(log)\n"
   ]
  },
  {
   "cell_type": "markdown",
   "metadata": {},
   "source": [
    "##### Maximum uncertainty and stagnant Iterations based stop"
   ]
  },
  {
   "cell_type": "markdown",
   "metadata": {},
   "source": [
    "In this cell we implement an enhanced active sampling loop. In addition to stopping when the maximum uncertainty is very low, we also monitor `R²` improvement. The loop will stop if either:\n",
    "- The model's uncertainty is very low (`max_std < uncertainty_threshold`), or\n",
    "- The uncertainty is moderately low (`max_std < higher_uncertainty_threshold`) **and** the `R²` improvement has been stagnant for a set number of iterations.\n"
   ]
  },
  {
   "cell_type": "code",
   "execution_count": 36,
   "metadata": {},
   "outputs": [
    {
     "name": "stdout",
     "output_type": "stream",
     "text": [
      "Final R² Score: 0.9997850824430612\n",
      "Total Samples Used: 13\n",
      "Iteration Log:\n",
      "{'iteration': 0, 'num_samples': 3, 'max_uncertainty': np.float64(1.2193924066255282), 'r2': 0.19634395134856153, 'r2_improvement': inf}\n",
      "{'iteration': 1, 'num_samples': 4, 'max_uncertainty': np.float64(1.1896816093753657), 'r2': 0.8612939440235085, 'r2_improvement': 0.6649499926749469}\n",
      "{'iteration': 2, 'num_samples': 5, 'max_uncertainty': np.float64(0.9292054041446747), 'r2': 0.8664061698099433, 'r2_improvement': 0.0051122257864348875}\n",
      "{'iteration': 3, 'num_samples': 6, 'max_uncertainty': np.float64(0.7527703062542273), 'r2': 0.9190875222705652, 'r2_improvement': 0.05268135246062189}\n",
      "{'iteration': 4, 'num_samples': 7, 'max_uncertainty': np.float64(0.420789340883929), 'r2': 0.9916068713542479, 'r2_improvement': 0.07251934908368263}\n",
      "{'iteration': 5, 'num_samples': 8, 'max_uncertainty': np.float64(0.2727711967472122), 'r2': 0.9989921737009314, 'r2_improvement': 0.007385302346683553}\n",
      "{'iteration': 6, 'num_samples': 9, 'max_uncertainty': np.float64(0.14039171032569997), 'r2': 0.9994478007726328, 'r2_improvement': 0.00045562707170143657}\n",
      "{'iteration': 7, 'num_samples': 10, 'max_uncertainty': np.float64(0.11539273610102543), 'r2': 0.9996642154151006, 'r2_improvement': 0.0002164146424677993}\n",
      "{'iteration': 8, 'num_samples': 11, 'max_uncertainty': np.float64(0.11710366916551611), 'r2': 0.9997364972870111, 'r2_improvement': 7.228187191044011e-05}\n",
      "{'iteration': 9, 'num_samples': 12, 'max_uncertainty': np.float64(0.10711728203092938), 'r2': 0.9997482733677754, 'r2_improvement': 1.1776080764303032e-05}\n",
      "{'iteration': 10, 'num_samples': 13, 'max_uncertainty': np.float64(0.09167694191250211), 'r2': 0.9997850824658934, 'r2_improvement': 3.680909811798472e-05}\n"
     ]
    }
   ],
   "source": [
    "def active_sampling_loop_with_stagnant_iterations_stop(X, y, max_iterations=10, \n",
    "                                                        uncertainty_threshold=0.05, \n",
    "                                                        higher_uncertainty_threshold=0.1,\n",
    "                                                        initial_sample_indices=None, \n",
    "                                                        r2_improvement_threshold=1e-4, \n",
    "                                                        max_stagnant_iterations=3):\n",
    "    n_samples = X.shape[0]\n",
    "    if initial_sample_indices is None:\n",
    "        initial_sample_indices = [0, n_samples // 2, n_samples - 1]\n",
    "    \n",
    "    training_indices = set(initial_sample_indices)\n",
    "    candidate_indices = set(range(n_samples)) - training_indices\n",
    "    iteration_log = []\n",
    "    \n",
    "    previous_r2 = -np.inf  \n",
    "    stagnant_iterations = 0  \n",
    "    \n",
    "    for iteration in range(max_iterations):\n",
    "        # Prepare training data for the current iteration\n",
    "        X_train = X.iloc[sorted(list(training_indices))]\n",
    "        y_train = y.iloc[sorted(list(training_indices))]\n",
    "        \n",
    "        # Initialize and fit the model\n",
    "        model = initialize_model()\n",
    "        model.fit(X_train, y_train)\n",
    "        \n",
    "        # Predict on candidate data to obtain uncertainties\n",
    "        candidate_list = sorted(list(candidate_indices))\n",
    "        if not candidate_list:\n",
    "            break\n",
    "\n",
    "        X_candidates = X.iloc[candidate_list]\n",
    "        y_pred_candidates, std_candidates = model.predict(X_candidates, return_std=True)\n",
    "        \n",
    "        max_std = np.max(std_candidates)\n",
    "        chosen_candidate_idx = candidate_list[np.argmax(std_candidates)]\n",
    "        \n",
    "        \n",
    "        y_pred_full = model.predict(X)\n",
    "        current_r2 = r2_score(y, y_pred_full)\n",
    "        \n",
    "        \n",
    "        r2_improvement = current_r2 - previous_r2\n",
    "        if r2_improvement < r2_improvement_threshold:\n",
    "            stagnant_iterations += 1\n",
    "        else:\n",
    "            stagnant_iterations = 0\n",
    "        \n",
    "        previous_r2 = current_r2  \n",
    "        \n",
    "        iteration_log.append({\n",
    "            'iteration': iteration,\n",
    "            'num_samples': len(training_indices),\n",
    "            'max_uncertainty': max_std,\n",
    "            'r2': current_r2,\n",
    "            'r2_improvement': r2_improvement\n",
    "        })\n",
    "        \n",
    "        \n",
    "        # Stop if the model is very confident OR if it is moderately confident and not improving.\n",
    "        if (max_std < uncertainty_threshold) or ((max_std < higher_uncertainty_threshold) and (stagnant_iterations >= max_stagnant_iterations)):\n",
    "            break\n",
    "        \n",
    "        # Add the candidate with highest uncertainty to the training set\n",
    "        training_indices.add(chosen_candidate_idx)\n",
    "        candidate_indices.remove(chosen_candidate_idx)\n",
    "    \n",
    "    # Final training on the selected samples\n",
    "    X_final = X.iloc[sorted(list(training_indices))]\n",
    "    y_final = y.iloc[sorted(list(training_indices))]\n",
    "    final_model = initialize_model()\n",
    "    final_model.fit(X_final, y_final)\n",
    "    final_predictions = final_model.predict(X)\n",
    "    final_r2 = r2_score(y, final_predictions)\n",
    "    \n",
    "    return {\n",
    "        'final_model': final_model,\n",
    "        'final_predictions': final_predictions,\n",
    "        'final_r2': final_r2,\n",
    "        'iteration_log': iteration_log,\n",
    "        'total_samples_used': len(training_indices)\n",
    "    }\n",
    "\n",
    "\n",
    "results = active_sampling_loop_with_stagnant_iterations_stop(X, y, max_iterations=15, \n",
    "                                                              uncertainty_threshold=0.05, \n",
    "                                                              higher_uncertainty_threshold=0.1,\n",
    "                                                              r2_improvement_threshold=1e-4, \n",
    "                                                              max_stagnant_iterations=3)\n",
    "\n",
    "print(\"Final R² Score:\", results['final_r2'])\n",
    "print(\"Total Samples Used:\", results['total_samples_used'])\n",
    "print(\"Iteration Log:\")\n",
    "for log in results['iteration_log']:\n",
    "    print(log)\n"
   ]
  },
  {
   "cell_type": "markdown",
   "metadata": {},
   "source": [
    "#### Visualizing the Results\n"
   ]
  },
  {
   "cell_type": "markdown",
   "metadata": {},
   "source": [
    "\n",
    "In this cell we visualize the active sampling process. The first part prints a log that shows, for each iteration, the number of samples used, the maximum uncertainty, and the R² score. The chart below shows two plots:\n",
    "- **R² Evolution:** How the model's performance improves over iterations.\n",
    "- **Max Uncertainty Evolution:** How the maximum prediction uncertainty decreases as more samples are added.\n"
   ]
  },
  {
   "cell_type": "code",
   "execution_count": 37,
   "metadata": {},
   "outputs": [
    {
     "name": "stdout",
     "output_type": "stream",
     "text": [
      "Total Data Available: 44\n",
      "Total Samples Used: 13 (29.55%)\n",
      "\n",
      "Iteration Log:\n",
      "Iteration 0: 3 samples, Max Uncertainty: 1.2194, R²: 0.1963\n",
      "Iteration 1: 4 samples, Max Uncertainty: 1.1897, R²: 0.8613\n",
      "Iteration 2: 5 samples, Max Uncertainty: 0.9292, R²: 0.8664\n",
      "Iteration 3: 6 samples, Max Uncertainty: 0.7528, R²: 0.9191\n",
      "Iteration 4: 7 samples, Max Uncertainty: 0.4208, R²: 0.9916\n",
      "Iteration 5: 8 samples, Max Uncertainty: 0.2728, R²: 0.9990\n",
      "Iteration 6: 9 samples, Max Uncertainty: 0.1404, R²: 0.9994\n",
      "Iteration 7: 10 samples, Max Uncertainty: 0.1154, R²: 0.9997\n",
      "Iteration 8: 11 samples, Max Uncertainty: 0.1171, R²: 0.9997\n",
      "Iteration 9: 12 samples, Max Uncertainty: 0.1071, R²: 0.9997\n",
      "Iteration 10: 13 samples, Max Uncertainty: 0.0917, R²: 0.9998\n",
      "\n",
      "Final R² Score: 0.9998\n"
     ]
    },
    {
     "data": {
      "image/png": "[encoded data removed]",
      "text/plain": [
       "<Figure size 800x1000 with 2 Axes>"
      ]
     },
     "metadata": {},
     "output_type": "display_data"
    }
   ],
   "source": [
    "import matplotlib.pyplot as plt\n",
    "\n",
    "def print_iteration_log(results, total_data_count):\n",
    "    final_samples = results['total_samples_used']\n",
    "    percent_used = final_samples / total_data_count * 100\n",
    "    print(f\"Total Data Available: {total_data_count}\")\n",
    "    print(f\"Total Samples Used: {final_samples} ({percent_used:.2f}%)\")\n",
    "    print(\"\\nIteration Log:\")\n",
    "    for log in results['iteration_log']:\n",
    "        print(f\"Iteration {log['iteration']}: {log['num_samples']} samples, \"\n",
    "              f\"Max Uncertainty: {log['max_uncertainty']:.4f}, R²: {log['r2']:.4f}\")\n",
    "    print(f\"\\nFinal R² Score: {results['final_r2']:.4f}\")\n",
    "\n",
    "def plot_active_sampling_results(results, total_data_count):\n",
    "    iterations = [log['iteration'] for log in results['iteration_log']]\n",
    "    r2_values = [log['r2'] for log in results['iteration_log']]\n",
    "    uncertainties = [log['max_uncertainty'] for log in results['iteration_log']]\n",
    "    \n",
    "    final_samples = results['total_samples_used']\n",
    "    percent_used = final_samples / total_data_count * 100\n",
    "\n",
    "    fig, ax = plt.subplots(2, 1, figsize=(8, 10))\n",
    "    \n",
    "    ax[0].plot(iterations, r2_values, marker='o', linestyle='-')\n",
    "    ax[0].set_title('R² Evolution Over Iterations')\n",
    "    ax[0].set_xlabel('Iteration')\n",
    "    ax[0].set_ylabel('R² Score')\n",
    "    ax[0].grid(True)\n",
    "    ax[0].text(0.5, 0.1, f'Final R²: {results[\"final_r2\"]:.4f}', \n",
    "               transform=ax[0].transAxes, fontsize=12, color='green',\n",
    "               bbox=dict(facecolor='white', alpha=0.8, edgecolor='green'))\n",
    "    \n",
    "    \n",
    "    ax[1].plot(iterations, uncertainties, marker='o', linestyle='-')\n",
    "    ax[1].set_title('Max Uncertainty Evolution Over Iterations')\n",
    "    ax[1].set_xlabel('Iteration')\n",
    "    ax[1].set_ylabel('Max Uncertainty (std)')\n",
    "    ax[1].grid(True)\n",
    "    \n",
    "    plt.suptitle(f'Active Sampling: {final_samples} of {total_data_count} samples used ({percent_used:.2f}%)', fontsize=14)\n",
    "    plt.tight_layout(rect=[0, 0, 1, 0.95])\n",
    "    plt.show()\n",
    "\n",
    "total_data_count = X.shape[0]  # For example, if X has 44 rows\n",
    "\n",
    "print_iteration_log(results, total_data_count)\n",
    "plot_active_sampling_results(results, total_data_count)\n"
   ]
  },
  {
   "cell_type": "markdown",
   "metadata": {},
   "source": [
    "### Gaussian Process Regression - Full dataset Testing"
   ]
  },
  {
   "cell_type": "markdown",
   "metadata": {},
   "source": [
    "#### Active Sampling Model Execution"
   ]
  },
  {
   "cell_type": "markdown",
   "metadata": {},
   "source": [
    "In this section, we execute our active sampling models over all parameter combinations. We provide two variants:\n",
    "- **Basic Active Sampling Loop:** The standard loop that iteratively selects samples based on maximum uncertainty.\n",
    "- **Active Sampling Loop with Stagnant Iterations Stop:** An enhanced loop that also monitors `R²` improvements and stops if the model's performance stagnates while uncertainty is moderately low.\n",
    "\n",
    "This section prepares the results for each parameter combination by running the appropriate active sampling function and collecting key metrics such as the final R², total samples used, and iteration logs.\n"
   ]
  },
  {
   "cell_type": "code",
   "execution_count": 38,
   "metadata": {},
   "outputs": [],
   "source": [
    "%%capture\n",
    "%pip install tqdm"
   ]
  },
  {
   "cell_type": "code",
   "execution_count": 39,
   "metadata": {},
   "outputs": [
    {
     "name": "stderr",
     "output_type": "stream",
     "text": [
      "/opt/anaconda3/envs/DS-101-Final/lib/python3.12/site-packages/sklearn/gaussian_process/kernels.py:442: ConvergenceWarning: The optimal value found for dimension 0 of parameter k2__length_scale is close to the specified lower bound 0.01. Decreasing the bound and calling fit again may find a better value.\n",
      "  warnings.warn(\n"
     ]
    },
    {
     "name": "stdout",
     "output_type": "stream",
     "text": [
      "Completed parameter 1/3: R² = 0.9999, Samples = 18 of 44\n"
     ]
    },
    {
     "name": "stderr",
     "output_type": "stream",
     "text": [
      "/opt/anaconda3/envs/DS-101-Final/lib/python3.12/site-packages/sklearn/gaussian_process/kernels.py:442: ConvergenceWarning: The optimal value found for dimension 0 of parameter k2__length_scale is close to the specified lower bound 0.01. Decreasing the bound and calling fit again may find a better value.\n",
      "  warnings.warn(\n"
     ]
    },
    {
     "name": "stdout",
     "output_type": "stream",
     "text": [
      "Completed parameter 2/3: R² = 0.9999, Samples = 18 of 43\n",
      "Completed parameter 3/3: R² = 0.9999, Samples = 18 of 30\n"
     ]
    }
   ],
   "source": [
    "import warnings\n",
    "from sklearn.exceptions import ConvergenceWarning\n",
    "from tqdm import tqdm\n",
    "\n",
    "def run_active_sampling_basic(params_list, data, sort=False, verbose=False, **hyperparams):\n",
    "    results_list = []\n",
    "    if not verbose:\n",
    "        warnings.filterwarnings(\"ignore\", category=ConvergenceWarning)\n",
    "    \n",
    "    for i, param in enumerate(tqdm(params_list, desc=\"Running basic active sampling\", disable=verbose)):\n",
    "        X, y, scaler, reverse_scaling = prepare_training_data(param, data, sort=sort)\n",
    "        total_data_count = X.shape[0] \n",
    "        \n",
    "        result = active_sampling_loop(X, y, **hyperparams)\n",
    "        result['params'] = param\n",
    "        result['total_data_count'] = total_data_count\n",
    "        results_list.append(result)\n",
    "        if verbose:\n",
    "            print(f\"Completed parameter {i+1}/{len(params_list)}: R² = {result['final_r2']:.4f}, Samples = {result['total_samples_used']} of {X.shape[0]}\")\n",
    "            \n",
    "    warnings.filterwarnings(\"default\", category=ConvergenceWarning)\n",
    "\n",
    "    return results_list\n",
    "\n",
    "basic_hyperparams = {\n",
    "    \"max_iterations\": 15,\n",
    "    \"uncertainty_threshold\": 0.05,\n",
    "}\n",
    "\n",
    "results_basic = run_active_sampling_basic(\n",
    "params_mostData[:3], data_filtered, \n",
    "verbose=True,\n",
    "**basic_hyperparams\n",
    ")"
   ]
  },
  {
   "cell_type": "code",
   "execution_count": 40,
   "metadata": {},
   "outputs": [
    {
     "name": "stderr",
     "output_type": "stream",
     "text": [
      "/opt/anaconda3/envs/DS-101-Final/lib/python3.12/site-packages/sklearn/gaussian_process/kernels.py:442: ConvergenceWarning: The optimal value found for dimension 0 of parameter k2__length_scale is close to the specified lower bound 0.01. Decreasing the bound and calling fit again may find a better value.\n",
      "  warnings.warn(\n"
     ]
    },
    {
     "name": "stdout",
     "output_type": "stream",
     "text": [
      "Completed parameter 1/3: R² = 0.9998, Samples = 13 of 44\n",
      "Completed parameter 2/3: R² = 0.9999, Samples = 13 of 43\n",
      "Completed parameter 3/3: R² = 0.9999, Samples = 13 of 30\n"
     ]
    }
   ],
   "source": [
    "\n",
    "def run_active_sampling_stagnant(params_list, data, sort=False ,verbose=False, **hyperparams):\n",
    "    results_list = []\n",
    "    if not verbose:\n",
    "        warnings.filterwarnings(\"ignore\", category=ConvergenceWarning)\n",
    "    \n",
    "    for i, param in enumerate(tqdm(params_list, desc=\"Running stagnant active sampling\", disable=verbose)):\n",
    "        X, y, scaler, reverse_scaling = prepare_training_data(param, data, sort=sort)\n",
    "        total_data_count = X.shape[0] \n",
    "        \n",
    "        result = active_sampling_loop_with_stagnant_iterations_stop(X, y, **hyperparams)\n",
    "        result['params'] = param\n",
    "        result['total_data_count'] = total_data_count \n",
    "        results_list.append(result)\n",
    "        if verbose:\n",
    "            print(f\"Completed parameter {i+1}/{len(params_list)}: R² = {result['final_r2']:.4f}, Samples = {result['total_samples_used']} of {total_data_count}\")\n",
    "    \n",
    "    warnings.filterwarnings(\"default\", category=ConvergenceWarning)\n",
    "\n",
    "    return results_list\n",
    "\n",
    "stagnant_hyperparams = {\n",
    "    \"max_iterations\": 15,\n",
    "    \"uncertainty_threshold\": 0.05,\n",
    "    \"higher_uncertainty_threshold\": 0.1,\n",
    "    \"r2_improvement_threshold\": 1e-4,\n",
    "    \"max_stagnant_iterations\": 3\n",
    "}\n",
    "\n",
    "results_stagnant = run_active_sampling_stagnant(\n",
    "params_mostData[:3], data_filtered,\n",
    "verbose =True,\n",
    "**stagnant_hyperparams\n",
    ")"
   ]
  },
  {
   "cell_type": "markdown",
   "metadata": {},
   "source": [
    "#### Results Visualization & Preliminary Conclusions\n",
    "\n"
   ]
  },
  {
   "cell_type": "markdown",
   "metadata": {},
   "source": [
    "##### Visualization "
   ]
  },
  {
   "cell_type": "markdown",
   "metadata": {},
   "source": [
    "\n",
    "In this cell, we visualize the aggregated results. The visualization function now accepts:\n",
    "- `loop_type`: A string indicating the active sampling variant (e.g., \"Basic Active Loop\" or \"Stagnant Active Loop\").\n",
    "- `hyperparams`: A dictionary of hyperparameter values used for the active sampling loop.\n",
    "\n",
    "The function then creates a title that includes these hyperparameter values and displays three bar charts:\n",
    "- Final `R²` scores.\n",
    "- Total samples used.\n",
    "- Data utilization percentages (samples used as a percentage of total available data).\n",
    "\n"
   ]
  },
  {
   "cell_type": "code",
   "execution_count": 18,
   "metadata": {},
   "outputs": [],
   "source": [
    "import matplotlib.pyplot as plt\n",
    "\n",
    "def visualize_aggregated_results(results_list, loop_type, hyperparams):\n",
    "    title_str = f\"{loop_type} Results\"\n",
    "    \n",
    "    hyperparams_items = [f\"{k}: {v}\" for k, v in hyperparams.items()]\n",
    "    hyperparams_str = \"\"\n",
    "    for i in range(0, len(hyperparams_items), 3):\n",
    "        chunk = \" | \".join(hyperparams_items[i:i+3])\n",
    "        hyperparams_str += chunk + (\"\\n\" if i + 3 < len(hyperparams_items) else \"\")\n",
    "    \n",
    "    final_r2_list = [r['final_r2'] for r in results_list]\n",
    "    samples_used_list = [r['total_samples_used'] for r in results_list]\n",
    "    total_data_counts = [r['total_data_count'] for r in results_list]\n",
    "    data_utilization_list = [ (used / total) * 100 for used, total in zip(samples_used_list, total_data_counts)]\n",
    "    \n",
    "    n = len(results_list)\n",
    "    indices = range(n)\n",
    "    \n",
    "    avg_r2 = sum(final_r2_list) / n\n",
    "    avg_samples = sum(samples_used_list) / n\n",
    "    avg_utilization = sum(data_utilization_list) / n\n",
    "    \n",
    "    # Create subplots for the aggregated metrics.\n",
    "    fig, axes = plt.subplots(1, 3, figsize=(18, 6))\n",
    "    \n",
    "    # Bar chart for final R².\n",
    "    axes[0].bar(indices, final_r2_list, color='skyblue')\n",
    "    axes[0].axhline(avg_r2, color='red', linestyle='--', label=f'Avg R² = {avg_r2:.4f}')\n",
    "    axes[0].set_xlabel('Parameter Combination Index')\n",
    "    axes[0].set_ylabel('Final R²')\n",
    "    axes[0].set_title('Final R² for Each Combination')\n",
    "    axes[0].legend()\n",
    "    \n",
    "    # Bar chart for total samples used.\n",
    "    axes[1].bar(indices, samples_used_list, color='lightgreen')\n",
    "    axes[1].axhline(avg_samples, color='red', linestyle='--', label=f'Avg Samples = {avg_samples:.2f}')\n",
    "    axes[1].set_xlabel('Parameter Combination Index')\n",
    "    axes[1].set_ylabel('Total Samples Used')\n",
    "    axes[1].set_title('Samples Used per Combination')\n",
    "    axes[1].legend()\n",
    "    \n",
    "    # Bar chart for data utilization (%).\n",
    "    axes[2].bar(indices, data_utilization_list, color='plum')\n",
    "    axes[2].axhline(avg_utilization, color='red', linestyle='--', label=f'Avg Utilization = {avg_utilization:.2f}%')\n",
    "    axes[2].set_xlabel('Parameter Combination Index')\n",
    "    axes[2].set_ylabel('Data Utilization (%)')\n",
    "    axes[2].set_title('Data Utilization per Combination')\n",
    "    axes[2].legend()\n",
    "    \n",
    "    # Set a prominent super-title at the top.\n",
    "    plt.suptitle(title_str, fontsize=20, fontweight='bold', color='navy', y=0.98)\n",
    "    \n",
    "    # Add a centered hyperparameters container below the title.\n",
    "    # This container is placed at y=0.93 and is horizontally centered (x=0.5).\n",
    "    plt.gcf().text(0.5, 0.85, f\"Hyperparameters:\\n\\n{hyperparams_str}\", \n",
    "                   fontsize=12, ha='center', va='center',\n",
    "                   bbox=dict(facecolor='lightgrey', alpha=0.6, boxstyle='round,pad=0.5'))\n",
    "    \n",
    "    # Adjust the layout so that subplots start below the hyperparameters container.\n",
    "    plt.tight_layout(rect=[0, 0, 1, 0.83])\n",
    "    plt.show()\n",
    "    \n",
    "    print(f\"Average Final R²: {avg_r2:.4f}\")\n",
    "    print(f\"Average Samples Used: {avg_samples:.2f}\")\n",
    "    print(f\"Average Data Utilization: {avg_utilization:.2f}%\")"
   ]
  },
  {
   "cell_type": "code",
   "execution_count": 43,
   "metadata": {},
   "outputs": [
    {
     "name": "stderr",
     "output_type": "stream",
     "text": [
      "Running basic active sampling: 100%|██████████| 40/40 [00:30<00:00,  1.30it/s]\n"
     ]
    },
    {
     "data": {
      "image/png": "[encoded data removed]",
      "text/plain": [
       "<Figure size 1800x600 with 3 Axes>"
      ]
     },
     "metadata": {},
     "output_type": "display_data"
    },
    {
     "name": "stdout",
     "output_type": "stream",
     "text": [
      "Average Final R²: 0.9999\n",
      "Average Samples Used: 17.98\n",
      "Average Data Utilization: 67.82%\n"
     ]
    }
   ],
   "source": [
    "results_basic = run_active_sampling_basic(params_mostData, data_filtered, verbose=False, **basic_hyperparams)\n",
    "visualize_aggregated_results(results_basic, \"Basic Active Loop\", basic_hyperparams)"
   ]
  },
  {
   "cell_type": "code",
   "execution_count": null,
   "metadata": {},
   "outputs": [],
   "source": [
    "results_stagnant = run_active_sampling_stagnant(params_mostData, data_filtered, verbose=False, **stagnant_hyperparams)\n",
    "visualize_aggregated_results(results_stagnant, \"Stagnant Active Loop\", stagnant_hyperparams)"
   ]
  },
  {
   "cell_type": "markdown",
   "metadata": {},
   "source": [
    "##### Preliminary Conclusions"
   ]
  },
  {
   "cell_type": "markdown",
   "metadata": {},
   "source": [
    "**Results**:\n",
    "\n",
    "![Basic results updated](./images/step-4-Basic-initial-results.png)\n",
    "\n",
    "![Stagnant results](./images/step-4-stagnat-initial-results.png)  \n",
    "\n",
    "**Basic V.S. Stagnant**\n",
    "\n",
    "- **Basic Active Sampling Loop:**\n",
    "  - **Robustness:** Tends to use around 18 samples per parameter combination, yielding high `R²` scores (often 1.0000).\n",
    "  - **Efficiency:** Uses more data, which may be unnecessary in cases with abundant information.\n",
    "\n",
    "- **Stagnant Active Sampling Loop:**\n",
    "  - **Efficiency:** Stops early when `R²` improvement stagnates, generally using fewer samples (between 11–16) and still achieving high performance in most cases.\n",
    "  - **Risks:** In some cases (e.g., parameter combinations with very few total data points), the loop stops after only 3 samples, leading to negative `R²` values and clear underfitting.\n",
    "\n",
    " **Outliers and Data Issues**\n",
    "\n",
    "- **Outlier Cases:**  \n",
    "  Some parameter combinations consistently use only 3 samples and report poor performance (e.g., negative `R²`). These cases likely represent scenarios where the available data is sparse or noisy, right now its looking like  the most promising direction to investigate and improve.\n",
    "\n",
    "- **Implication:**  \n",
    "  Relying solely on the stagnant loop's stopping criterion can result in premature termination. A minimum sample threshold may be necessary to ensure that the model has enough data to learn meaningful patterns.\n",
    "\n",
    " **Next Steps**\n",
    "\n",
    "1. **Revisit the Data:**  \n",
    "   Analyze the outlier parameter combinations with low total data counts. Determine if these cases should be treated differently or if more data can be acquired.\n",
    "\n",
    "2. **Implement a Minimum Sample Threshold:**  \n",
    "   Adjust the stagnant loop to enforce a minimum number of samples (e.g., at least 5 or 7 samples) before allowing early termination (probably most promising result).\n",
    "\n",
    "3. **Hyperparameter Tuning:**  \n",
    "   Experiment with different settings for the uncertainty thresholds and maximum stagnant iterations to balance efficiency and robustness. Fine-tuning may reduce instances where the model stops too early.\n"
   ]
  },
  {
   "cell_type": "markdown",
   "metadata": {},
   "source": [
    "### Final Optimization and Data Revision"
   ]
  },
  {
   "cell_type": "markdown",
   "metadata": {},
   "source": [
    "In this section, would try to improve our results and address the points raised in the [preliminary conclusions](#preliminary-conclusions)\n",
    "\n",
    "- Revisit the Data\n",
    "- Implement a Minimum Sample Threshold\n",
    "- Hyperparameter Tuning"
   ]
  },
  {
   "cell_type": "markdown",
   "metadata": {},
   "source": [
    "#### Revisit the data"
   ]
  },
  {
   "cell_type": "markdown",
   "metadata": {},
   "source": [
    "##### Revisit Parameter Sampling\n"
   ]
  },
  {
   "cell_type": "markdown",
   "metadata": {},
   "source": [
    "Here we re-calculate the parameter combinations using our two strategies:\n",
    "- **onePerHotel:** For each hotel, we select the combination (of `Snapshot Date`, `Hotel Name`, and `Discount Code`) with the highest transaction count.\n",
    "- **mostData:** We select the top 40 overall combinations based on transaction counts.\n",
    "\n",
    "We then display these results in a table (including the transaction counts) so we can review the distribution and identify any potential outliers in data availability.\n"
   ]
  },
  {
   "cell_type": "code",
   "execution_count": 21,
   "metadata": {},
   "outputs": [
    {
     "name": "stdout",
     "output_type": "stream",
     "text": [
      "One Per Hotel (Top 40) Parameter Combinations with Transaction Counts:\n"
     ]
    },
    {
     "data": {
      "text/html": [
       "<div>\n",
       "<style scoped>\n",
       "    .dataframe tbody tr th:only-of-type {\n",
       "        vertical-align: middle;\n",
       "    }\n",
       "\n",
       "    .dataframe tbody tr th {\n",
       "        vertical-align: top;\n",
       "    }\n",
       "\n",
       "    .dataframe thead th {\n",
       "        text-align: right;\n",
       "    }\n",
       "</style>\n",
       "<table border=\"1\" class=\"dataframe\">\n",
       "  <thead>\n",
       "    <tr style=\"text-align: right;\">\n",
       "      <th></th>\n",
       "      <th>Hotel Name</th>\n",
       "      <th>Snapshot Date</th>\n",
       "      <th>Discount Code</th>\n",
       "      <th>transaction_count</th>\n",
       "    </tr>\n",
       "  </thead>\n",
       "  <tbody>\n",
       "    <tr>\n",
       "      <th>339</th>\n",
       "      <td>Park Hyatt New York</td>\n",
       "      <td>2015-07-22</td>\n",
       "      <td>3</td>\n",
       "      <td>44</td>\n",
       "    </tr>\n",
       "    <tr>\n",
       "      <th>325</th>\n",
       "      <td>Newark Liberty International Airport Marriott</td>\n",
       "      <td>2015-07-22</td>\n",
       "      <td>3</td>\n",
       "      <td>30</td>\n",
       "    </tr>\n",
       "    <tr>\n",
       "      <th>468</th>\n",
       "      <td>The New York EDITION</td>\n",
       "      <td>2015-07-27</td>\n",
       "      <td>2</td>\n",
       "      <td>30</td>\n",
       "    </tr>\n",
       "    <tr>\n",
       "      <th>168</th>\n",
       "      <td>Hampton Inn Madison Square Garden Area Hotel</td>\n",
       "      <td>2015-07-23</td>\n",
       "      <td>4</td>\n",
       "      <td>26</td>\n",
       "    </tr>\n",
       "    <tr>\n",
       "      <th>431</th>\n",
       "      <td>The Carlyle A Rosewood Hotel</td>\n",
       "      <td>2015-12-20</td>\n",
       "      <td>4</td>\n",
       "      <td>26</td>\n",
       "    </tr>\n",
       "    <tr>\n",
       "      <th>540</th>\n",
       "      <td>Wyndham Garden Brooklyn Sunset Park</td>\n",
       "      <td>2015-10-28</td>\n",
       "      <td>3</td>\n",
       "      <td>24</td>\n",
       "    </tr>\n",
       "    <tr>\n",
       "      <th>172</th>\n",
       "      <td>Hampton Inn Manhattan Times Square South</td>\n",
       "      <td>2015-07-22</td>\n",
       "      <td>2</td>\n",
       "      <td>24</td>\n",
       "    </tr>\n",
       "    <tr>\n",
       "      <th>521</th>\n",
       "      <td>Viceroy New York</td>\n",
       "      <td>2015-12-29</td>\n",
       "      <td>4</td>\n",
       "      <td>22</td>\n",
       "    </tr>\n",
       "    <tr>\n",
       "      <th>534</th>\n",
       "      <td>Westin New York at Times Square</td>\n",
       "      <td>2015-10-21</td>\n",
       "      <td>2</td>\n",
       "      <td>21</td>\n",
       "    </tr>\n",
       "    <tr>\n",
       "      <th>290</th>\n",
       "      <td>Magnuson Convention Center Hotel</td>\n",
       "      <td>2015-07-27</td>\n",
       "      <td>2</td>\n",
       "      <td>20</td>\n",
       "    </tr>\n",
       "    <tr>\n",
       "      <th>372</th>\n",
       "      <td>Residence Inn Newark Elizabeth Liberty Interna...</td>\n",
       "      <td>2015-07-23</td>\n",
       "      <td>3</td>\n",
       "      <td>20</td>\n",
       "    </tr>\n",
       "    <tr>\n",
       "      <th>478</th>\n",
       "      <td>The Peninsula New York</td>\n",
       "      <td>2015-07-22</td>\n",
       "      <td>2</td>\n",
       "      <td>20</td>\n",
       "    </tr>\n",
       "    <tr>\n",
       "      <th>140</th>\n",
       "      <td>Fairfield Inn by Marriott LaGuardia Airport Fl...</td>\n",
       "      <td>2015-07-23</td>\n",
       "      <td>2</td>\n",
       "      <td>20</td>\n",
       "    </tr>\n",
       "    <tr>\n",
       "      <th>349</th>\n",
       "      <td>Quality Inn Woodside</td>\n",
       "      <td>2015-10-26</td>\n",
       "      <td>3</td>\n",
       "      <td>19</td>\n",
       "    </tr>\n",
       "    <tr>\n",
       "      <th>113</th>\n",
       "      <td>DoubleTree by Hilton New York City - Financial...</td>\n",
       "      <td>2015-07-29</td>\n",
       "      <td>2</td>\n",
       "      <td>19</td>\n",
       "    </tr>\n",
       "    <tr>\n",
       "      <th>78</th>\n",
       "      <td>Conrad New York</td>\n",
       "      <td>2015-07-22</td>\n",
       "      <td>1</td>\n",
       "      <td>18</td>\n",
       "    </tr>\n",
       "    <tr>\n",
       "      <th>524</th>\n",
       "      <td>W New York - Union Square</td>\n",
       "      <td>2015-07-22</td>\n",
       "      <td>1</td>\n",
       "      <td>18</td>\n",
       "    </tr>\n",
       "    <tr>\n",
       "      <th>361</th>\n",
       "      <td>Red Carpet Inn New York City</td>\n",
       "      <td>2015-07-22</td>\n",
       "      <td>2</td>\n",
       "      <td>18</td>\n",
       "    </tr>\n",
       "    <tr>\n",
       "      <th>198</th>\n",
       "      <td>Hilton Newark Airport</td>\n",
       "      <td>2015-07-23</td>\n",
       "      <td>3</td>\n",
       "      <td>18</td>\n",
       "    </tr>\n",
       "    <tr>\n",
       "      <th>477</th>\n",
       "      <td>The Pearl New York</td>\n",
       "      <td>2015-12-14</td>\n",
       "      <td>1</td>\n",
       "      <td>18</td>\n",
       "    </tr>\n",
       "    <tr>\n",
       "      <th>302</th>\n",
       "      <td>Millenium Hilton</td>\n",
       "      <td>2015-07-22</td>\n",
       "      <td>2</td>\n",
       "      <td>18</td>\n",
       "    </tr>\n",
       "    <tr>\n",
       "      <th>288</th>\n",
       "      <td>Loews Regency New York Hotel</td>\n",
       "      <td>2015-08-25</td>\n",
       "      <td>2</td>\n",
       "      <td>17</td>\n",
       "    </tr>\n",
       "    <tr>\n",
       "      <th>522</th>\n",
       "      <td>W New York</td>\n",
       "      <td>2015-08-03</td>\n",
       "      <td>3</td>\n",
       "      <td>17</td>\n",
       "    </tr>\n",
       "    <tr>\n",
       "      <th>321</th>\n",
       "      <td>New York Marriott Downtown</td>\n",
       "      <td>2015-10-08</td>\n",
       "      <td>3</td>\n",
       "      <td>17</td>\n",
       "    </tr>\n",
       "    <tr>\n",
       "      <th>160</th>\n",
       "      <td>Gild Hall A Thompson Hotel</td>\n",
       "      <td>2015-07-22</td>\n",
       "      <td>1</td>\n",
       "      <td>17</td>\n",
       "    </tr>\n",
       "    <tr>\n",
       "      <th>175</th>\n",
       "      <td>Hampton Inn New York - 35th Street - Empire St...</td>\n",
       "      <td>2015-11-17</td>\n",
       "      <td>2</td>\n",
       "      <td>16</td>\n",
       "    </tr>\n",
       "    <tr>\n",
       "      <th>406</th>\n",
       "      <td>Smyth A Thompson Hotel</td>\n",
       "      <td>2015-08-18</td>\n",
       "      <td>2</td>\n",
       "      <td>16</td>\n",
       "    </tr>\n",
       "    <tr>\n",
       "      <th>368</th>\n",
       "      <td>Renaissance Newark Airport Hotel</td>\n",
       "      <td>2015-12-29</td>\n",
       "      <td>3</td>\n",
       "      <td>16</td>\n",
       "    </tr>\n",
       "    <tr>\n",
       "      <th>395</th>\n",
       "      <td>Sheraton New York Times Square Hotel</td>\n",
       "      <td>2015-07-23</td>\n",
       "      <td>3</td>\n",
       "      <td>16</td>\n",
       "    </tr>\n",
       "    <tr>\n",
       "      <th>391</th>\n",
       "      <td>Shelburne NYC-an Affinia hotel</td>\n",
       "      <td>2015-10-29</td>\n",
       "      <td>2</td>\n",
       "      <td>16</td>\n",
       "    </tr>\n",
       "    <tr>\n",
       "      <th>193</th>\n",
       "      <td>Hilton Garden Inn Times Square</td>\n",
       "      <td>2015-09-18</td>\n",
       "      <td>2</td>\n",
       "      <td>16</td>\n",
       "    </tr>\n",
       "    <tr>\n",
       "      <th>481</th>\n",
       "      <td>The Plaza Hotel</td>\n",
       "      <td>2015-07-28</td>\n",
       "      <td>2</td>\n",
       "      <td>16</td>\n",
       "    </tr>\n",
       "    <tr>\n",
       "      <th>299</th>\n",
       "      <td>McCarren Hotel &amp; Pool</td>\n",
       "      <td>2015-08-27</td>\n",
       "      <td>2</td>\n",
       "      <td>16</td>\n",
       "    </tr>\n",
       "    <tr>\n",
       "      <th>332</th>\n",
       "      <td>Omni Berkshire Place</td>\n",
       "      <td>2015-07-22</td>\n",
       "      <td>3</td>\n",
       "      <td>16</td>\n",
       "    </tr>\n",
       "    <tr>\n",
       "      <th>486</th>\n",
       "      <td>The Roger</td>\n",
       "      <td>2015-10-31</td>\n",
       "      <td>2</td>\n",
       "      <td>16</td>\n",
       "    </tr>\n",
       "    <tr>\n",
       "      <th>450</th>\n",
       "      <td>The Lexington New York City Autograph Collection</td>\n",
       "      <td>2015-08-17</td>\n",
       "      <td>2</td>\n",
       "      <td>15</td>\n",
       "    </tr>\n",
       "    <tr>\n",
       "      <th>283</th>\n",
       "      <td>Langham Place New York Fifth Avenue</td>\n",
       "      <td>2015-07-23</td>\n",
       "      <td>1</td>\n",
       "      <td>15</td>\n",
       "    </tr>\n",
       "    <tr>\n",
       "      <th>219</th>\n",
       "      <td>Holiday Inn New York JFK Airport Area</td>\n",
       "      <td>2015-11-21</td>\n",
       "      <td>4</td>\n",
       "      <td>15</td>\n",
       "    </tr>\n",
       "    <tr>\n",
       "      <th>223</th>\n",
       "      <td>Homewood Suites by Hilton NY Midtown Manhattan...</td>\n",
       "      <td>2015-08-02</td>\n",
       "      <td>2</td>\n",
       "      <td>15</td>\n",
       "    </tr>\n",
       "    <tr>\n",
       "      <th>488</th>\n",
       "      <td>The Roosevelt Hotel New York City</td>\n",
       "      <td>2015-10-10</td>\n",
       "      <td>2</td>\n",
       "      <td>15</td>\n",
       "    </tr>\n",
       "  </tbody>\n",
       "</table>\n",
       "</div>"
      ],
      "text/plain": [
       "                                            Hotel Name Snapshot Date  \\\n",
       "339                                Park Hyatt New York    2015-07-22   \n",
       "325      Newark Liberty International Airport Marriott    2015-07-22   \n",
       "468                               The New York EDITION    2015-07-27   \n",
       "168       Hampton Inn Madison Square Garden Area Hotel    2015-07-23   \n",
       "431                       The Carlyle A Rosewood Hotel    2015-12-20   \n",
       "540                Wyndham Garden Brooklyn Sunset Park    2015-10-28   \n",
       "172           Hampton Inn Manhattan Times Square South    2015-07-22   \n",
       "521                                   Viceroy New York    2015-12-29   \n",
       "534                    Westin New York at Times Square    2015-10-21   \n",
       "290                   Magnuson Convention Center Hotel    2015-07-27   \n",
       "372  Residence Inn Newark Elizabeth Liberty Interna...    2015-07-23   \n",
       "478                             The Peninsula New York    2015-07-22   \n",
       "140  Fairfield Inn by Marriott LaGuardia Airport Fl...    2015-07-23   \n",
       "349                               Quality Inn Woodside    2015-10-26   \n",
       "113  DoubleTree by Hilton New York City - Financial...    2015-07-29   \n",
       "78                                     Conrad New York    2015-07-22   \n",
       "524                          W New York - Union Square    2015-07-22   \n",
       "361                       Red Carpet Inn New York City    2015-07-22   \n",
       "198                              Hilton Newark Airport    2015-07-23   \n",
       "477                                 The Pearl New York    2015-12-14   \n",
       "302                                   Millenium Hilton    2015-07-22   \n",
       "288                       Loews Regency New York Hotel    2015-08-25   \n",
       "522                                         W New York    2015-08-03   \n",
       "321                         New York Marriott Downtown    2015-10-08   \n",
       "160                         Gild Hall A Thompson Hotel    2015-07-22   \n",
       "175  Hampton Inn New York - 35th Street - Empire St...    2015-11-17   \n",
       "406                             Smyth A Thompson Hotel    2015-08-18   \n",
       "368                   Renaissance Newark Airport Hotel    2015-12-29   \n",
       "395               Sheraton New York Times Square Hotel    2015-07-23   \n",
       "391                     Shelburne NYC-an Affinia hotel    2015-10-29   \n",
       "193                     Hilton Garden Inn Times Square    2015-09-18   \n",
       "481                                    The Plaza Hotel    2015-07-28   \n",
       "299                              McCarren Hotel & Pool    2015-08-27   \n",
       "332                               Omni Berkshire Place    2015-07-22   \n",
       "486                                          The Roger    2015-10-31   \n",
       "450   The Lexington New York City Autograph Collection    2015-08-17   \n",
       "283                Langham Place New York Fifth Avenue    2015-07-23   \n",
       "219              Holiday Inn New York JFK Airport Area    2015-11-21   \n",
       "223  Homewood Suites by Hilton NY Midtown Manhattan...    2015-08-02   \n",
       "488                  The Roosevelt Hotel New York City    2015-10-10   \n",
       "\n",
       "     Discount Code  transaction_count  \n",
       "339              3                 44  \n",
       "325              3                 30  \n",
       "468              2                 30  \n",
       "168              4                 26  \n",
       "431              4                 26  \n",
       "540              3                 24  \n",
       "172              2                 24  \n",
       "521              4                 22  \n",
       "534              2                 21  \n",
       "290              2                 20  \n",
       "372              3                 20  \n",
       "478              2                 20  \n",
       "140              2                 20  \n",
       "349              3                 19  \n",
       "113              2                 19  \n",
       "78               1                 18  \n",
       "524              1                 18  \n",
       "361              2                 18  \n",
       "198              3                 18  \n",
       "477              1                 18  \n",
       "302              2                 18  \n",
       "288              2                 17  \n",
       "522              3                 17  \n",
       "321              3                 17  \n",
       "160              1                 17  \n",
       "175              2                 16  \n",
       "406              2                 16  \n",
       "368              3                 16  \n",
       "395              3                 16  \n",
       "391              2                 16  \n",
       "193              2                 16  \n",
       "481              2                 16  \n",
       "299              2                 16  \n",
       "332              3                 16  \n",
       "486              2                 16  \n",
       "450              2                 15  \n",
       "283              1                 15  \n",
       "219              4                 15  \n",
       "223              2                 15  \n",
       "488              2                 15  "
      ]
     },
     "metadata": {},
     "output_type": "display_data"
    },
    {
     "name": "stdout",
     "output_type": "stream",
     "text": [
      "\n",
      "Most Data (Top 40) Parameter Combinations with Transaction Counts:\n"
     ]
    },
    {
     "data": {
      "text/html": [
       "<div>\n",
       "<style scoped>\n",
       "    .dataframe tbody tr th:only-of-type {\n",
       "        vertical-align: middle;\n",
       "    }\n",
       "\n",
       "    .dataframe tbody tr th {\n",
       "        vertical-align: top;\n",
       "    }\n",
       "\n",
       "    .dataframe thead th {\n",
       "        text-align: right;\n",
       "    }\n",
       "</style>\n",
       "<table border=\"1\" class=\"dataframe\">\n",
       "  <thead>\n",
       "    <tr style=\"text-align: right;\">\n",
       "      <th></th>\n",
       "      <th>Snapshot Date</th>\n",
       "      <th>Hotel Name</th>\n",
       "      <th>Discount Code</th>\n",
       "      <th>transaction_count</th>\n",
       "    </tr>\n",
       "  </thead>\n",
       "  <tbody>\n",
       "    <tr>\n",
       "      <th>1684</th>\n",
       "      <td>2015-07-22</td>\n",
       "      <td>Park Hyatt New York</td>\n",
       "      <td>3</td>\n",
       "      <td>44</td>\n",
       "    </tr>\n",
       "    <tr>\n",
       "      <th>1683</th>\n",
       "      <td>2015-07-22</td>\n",
       "      <td>Park Hyatt New York</td>\n",
       "      <td>2</td>\n",
       "      <td>43</td>\n",
       "    </tr>\n",
       "    <tr>\n",
       "      <th>1682</th>\n",
       "      <td>2015-07-22</td>\n",
       "      <td>Park Hyatt New York</td>\n",
       "      <td>1</td>\n",
       "      <td>30</td>\n",
       "    </tr>\n",
       "    <tr>\n",
       "      <th>3312</th>\n",
       "      <td>2015-07-27</td>\n",
       "      <td>The New York EDITION</td>\n",
       "      <td>2</td>\n",
       "      <td>30</td>\n",
       "    </tr>\n",
       "    <tr>\n",
       "      <th>1967</th>\n",
       "      <td>2015-07-23</td>\n",
       "      <td>Newark Liberty International Airport Marriott</td>\n",
       "      <td>3</td>\n",
       "      <td>30</td>\n",
       "    </tr>\n",
       "    <tr>\n",
       "      <th>1676</th>\n",
       "      <td>2015-07-22</td>\n",
       "      <td>Newark Liberty International Airport Marriott</td>\n",
       "      <td>3</td>\n",
       "      <td>30</td>\n",
       "    </tr>\n",
       "    <tr>\n",
       "      <th>3984</th>\n",
       "      <td>2015-07-29</td>\n",
       "      <td>The New York EDITION</td>\n",
       "      <td>3</td>\n",
       "      <td>30</td>\n",
       "    </tr>\n",
       "    <tr>\n",
       "      <th>3983</th>\n",
       "      <td>2015-07-29</td>\n",
       "      <td>The New York EDITION</td>\n",
       "      <td>2</td>\n",
       "      <td>30</td>\n",
       "    </tr>\n",
       "    <tr>\n",
       "      <th>3313</th>\n",
       "      <td>2015-07-27</td>\n",
       "      <td>The New York EDITION</td>\n",
       "      <td>3</td>\n",
       "      <td>30</td>\n",
       "    </tr>\n",
       "    <tr>\n",
       "      <th>2630</th>\n",
       "      <td>2015-07-25</td>\n",
       "      <td>The New York EDITION</td>\n",
       "      <td>2</td>\n",
       "      <td>29</td>\n",
       "    </tr>\n",
       "    <tr>\n",
       "      <th>3624</th>\n",
       "      <td>2015-07-28</td>\n",
       "      <td>The New York EDITION</td>\n",
       "      <td>2</td>\n",
       "      <td>29</td>\n",
       "    </tr>\n",
       "    <tr>\n",
       "      <th>3625</th>\n",
       "      <td>2015-07-28</td>\n",
       "      <td>The New York EDITION</td>\n",
       "      <td>3</td>\n",
       "      <td>29</td>\n",
       "    </tr>\n",
       "    <tr>\n",
       "      <th>2631</th>\n",
       "      <td>2015-07-25</td>\n",
       "      <td>The New York EDITION</td>\n",
       "      <td>3</td>\n",
       "      <td>28</td>\n",
       "    </tr>\n",
       "    <tr>\n",
       "      <th>2979</th>\n",
       "      <td>2015-07-26</td>\n",
       "      <td>The New York EDITION</td>\n",
       "      <td>3</td>\n",
       "      <td>28</td>\n",
       "    </tr>\n",
       "    <tr>\n",
       "      <th>2978</th>\n",
       "      <td>2015-07-26</td>\n",
       "      <td>The New York EDITION</td>\n",
       "      <td>2</td>\n",
       "      <td>28</td>\n",
       "    </tr>\n",
       "    <tr>\n",
       "      <th>1685</th>\n",
       "      <td>2015-07-22</td>\n",
       "      <td>Park Hyatt New York</td>\n",
       "      <td>4</td>\n",
       "      <td>26</td>\n",
       "    </tr>\n",
       "    <tr>\n",
       "      <th>1847</th>\n",
       "      <td>2015-07-23</td>\n",
       "      <td>Hampton Inn Madison Square Garden Area Hotel</td>\n",
       "      <td>4</td>\n",
       "      <td>26</td>\n",
       "    </tr>\n",
       "    <tr>\n",
       "      <th>1966</th>\n",
       "      <td>2015-07-23</td>\n",
       "      <td>Newark Liberty International Airport Marriott</td>\n",
       "      <td>2</td>\n",
       "      <td>26</td>\n",
       "    </tr>\n",
       "    <tr>\n",
       "      <th>52793</th>\n",
       "      <td>2015-12-20</td>\n",
       "      <td>The Carlyle A Rosewood Hotel</td>\n",
       "      <td>4</td>\n",
       "      <td>26</td>\n",
       "    </tr>\n",
       "    <tr>\n",
       "      <th>1675</th>\n",
       "      <td>2015-07-22</td>\n",
       "      <td>Newark Liberty International Airport Marriott</td>\n",
       "      <td>2</td>\n",
       "      <td>26</td>\n",
       "    </tr>\n",
       "    <tr>\n",
       "      <th>52043</th>\n",
       "      <td>2015-12-18</td>\n",
       "      <td>The Carlyle A Rosewood Hotel</td>\n",
       "      <td>4</td>\n",
       "      <td>25</td>\n",
       "    </tr>\n",
       "    <tr>\n",
       "      <th>56602</th>\n",
       "      <td>2016-01-01</td>\n",
       "      <td>The Carlyle A Rosewood Hotel</td>\n",
       "      <td>2</td>\n",
       "      <td>25</td>\n",
       "    </tr>\n",
       "    <tr>\n",
       "      <th>56603</th>\n",
       "      <td>2016-01-01</td>\n",
       "      <td>The Carlyle A Rosewood Hotel</td>\n",
       "      <td>3</td>\n",
       "      <td>25</td>\n",
       "    </tr>\n",
       "    <tr>\n",
       "      <th>52792</th>\n",
       "      <td>2015-12-20</td>\n",
       "      <td>The Carlyle A Rosewood Hotel</td>\n",
       "      <td>3</td>\n",
       "      <td>25</td>\n",
       "    </tr>\n",
       "    <tr>\n",
       "      <th>56087</th>\n",
       "      <td>2015-12-30</td>\n",
       "      <td>The Carlyle A Rosewood Hotel</td>\n",
       "      <td>2</td>\n",
       "      <td>25</td>\n",
       "    </tr>\n",
       "    <tr>\n",
       "      <th>52414</th>\n",
       "      <td>2015-12-19</td>\n",
       "      <td>The Carlyle A Rosewood Hotel</td>\n",
       "      <td>4</td>\n",
       "      <td>25</td>\n",
       "    </tr>\n",
       "    <tr>\n",
       "      <th>56368</th>\n",
       "      <td>2015-12-31</td>\n",
       "      <td>The Carlyle A Rosewood Hotel</td>\n",
       "      <td>2</td>\n",
       "      <td>25</td>\n",
       "    </tr>\n",
       "    <tr>\n",
       "      <th>56369</th>\n",
       "      <td>2015-12-31</td>\n",
       "      <td>The Carlyle A Rosewood Hotel</td>\n",
       "      <td>3</td>\n",
       "      <td>25</td>\n",
       "    </tr>\n",
       "    <tr>\n",
       "      <th>52791</th>\n",
       "      <td>2015-12-20</td>\n",
       "      <td>The Carlyle A Rosewood Hotel</td>\n",
       "      <td>2</td>\n",
       "      <td>24</td>\n",
       "    </tr>\n",
       "    <tr>\n",
       "      <th>1974</th>\n",
       "      <td>2015-07-23</td>\n",
       "      <td>Park Hyatt New York</td>\n",
       "      <td>2</td>\n",
       "      <td>24</td>\n",
       "    </tr>\n",
       "    <tr>\n",
       "      <th>1975</th>\n",
       "      <td>2015-07-23</td>\n",
       "      <td>Park Hyatt New York</td>\n",
       "      <td>3</td>\n",
       "      <td>24</td>\n",
       "    </tr>\n",
       "    <tr>\n",
       "      <th>56604</th>\n",
       "      <td>2016-01-01</td>\n",
       "      <td>The Carlyle A Rosewood Hotel</td>\n",
       "      <td>4</td>\n",
       "      <td>24</td>\n",
       "    </tr>\n",
       "    <tr>\n",
       "      <th>36678</th>\n",
       "      <td>2015-10-28</td>\n",
       "      <td>Wyndham Garden Brooklyn Sunset Park</td>\n",
       "      <td>3</td>\n",
       "      <td>24</td>\n",
       "    </tr>\n",
       "    <tr>\n",
       "      <th>51682</th>\n",
       "      <td>2015-12-17</td>\n",
       "      <td>The Carlyle A Rosewood Hotel</td>\n",
       "      <td>4</td>\n",
       "      <td>24</td>\n",
       "    </tr>\n",
       "    <tr>\n",
       "      <th>56088</th>\n",
       "      <td>2015-12-30</td>\n",
       "      <td>The Carlyle A Rosewood Hotel</td>\n",
       "      <td>3</td>\n",
       "      <td>24</td>\n",
       "    </tr>\n",
       "    <tr>\n",
       "      <th>1566</th>\n",
       "      <td>2015-07-22</td>\n",
       "      <td>Hampton Inn Manhattan Times Square South</td>\n",
       "      <td>2</td>\n",
       "      <td>24</td>\n",
       "    </tr>\n",
       "    <tr>\n",
       "      <th>55231</th>\n",
       "      <td>2015-12-27</td>\n",
       "      <td>The Carlyle A Rosewood Hotel</td>\n",
       "      <td>2</td>\n",
       "      <td>23</td>\n",
       "    </tr>\n",
       "    <tr>\n",
       "      <th>35887</th>\n",
       "      <td>2015-10-26</td>\n",
       "      <td>Wyndham Garden Brooklyn Sunset Park</td>\n",
       "      <td>2</td>\n",
       "      <td>23</td>\n",
       "    </tr>\n",
       "    <tr>\n",
       "      <th>56370</th>\n",
       "      <td>2015-12-31</td>\n",
       "      <td>The Carlyle A Rosewood Hotel</td>\n",
       "      <td>4</td>\n",
       "      <td>23</td>\n",
       "    </tr>\n",
       "    <tr>\n",
       "      <th>56089</th>\n",
       "      <td>2015-12-30</td>\n",
       "      <td>The Carlyle A Rosewood Hotel</td>\n",
       "      <td>4</td>\n",
       "      <td>23</td>\n",
       "    </tr>\n",
       "  </tbody>\n",
       "</table>\n",
       "</div>"
      ],
      "text/plain": [
       "      Snapshot Date                                     Hotel Name  \\\n",
       "1684     2015-07-22                            Park Hyatt New York   \n",
       "1683     2015-07-22                            Park Hyatt New York   \n",
       "1682     2015-07-22                            Park Hyatt New York   \n",
       "3312     2015-07-27                           The New York EDITION   \n",
       "1967     2015-07-23  Newark Liberty International Airport Marriott   \n",
       "1676     2015-07-22  Newark Liberty International Airport Marriott   \n",
       "3984     2015-07-29                           The New York EDITION   \n",
       "3983     2015-07-29                           The New York EDITION   \n",
       "3313     2015-07-27                           The New York EDITION   \n",
       "2630     2015-07-25                           The New York EDITION   \n",
       "3624     2015-07-28                           The New York EDITION   \n",
       "3625     2015-07-28                           The New York EDITION   \n",
       "2631     2015-07-25                           The New York EDITION   \n",
       "2979     2015-07-26                           The New York EDITION   \n",
       "2978     2015-07-26                           The New York EDITION   \n",
       "1685     2015-07-22                            Park Hyatt New York   \n",
       "1847     2015-07-23   Hampton Inn Madison Square Garden Area Hotel   \n",
       "1966     2015-07-23  Newark Liberty International Airport Marriott   \n",
       "52793    2015-12-20                   The Carlyle A Rosewood Hotel   \n",
       "1675     2015-07-22  Newark Liberty International Airport Marriott   \n",
       "52043    2015-12-18                   The Carlyle A Rosewood Hotel   \n",
       "56602    2016-01-01                   The Carlyle A Rosewood Hotel   \n",
       "56603    2016-01-01                   The Carlyle A Rosewood Hotel   \n",
       "52792    2015-12-20                   The Carlyle A Rosewood Hotel   \n",
       "56087    2015-12-30                   The Carlyle A Rosewood Hotel   \n",
       "52414    2015-12-19                   The Carlyle A Rosewood Hotel   \n",
       "56368    2015-12-31                   The Carlyle A Rosewood Hotel   \n",
       "56369    2015-12-31                   The Carlyle A Rosewood Hotel   \n",
       "52791    2015-12-20                   The Carlyle A Rosewood Hotel   \n",
       "1974     2015-07-23                            Park Hyatt New York   \n",
       "1975     2015-07-23                            Park Hyatt New York   \n",
       "56604    2016-01-01                   The Carlyle A Rosewood Hotel   \n",
       "36678    2015-10-28            Wyndham Garden Brooklyn Sunset Park   \n",
       "51682    2015-12-17                   The Carlyle A Rosewood Hotel   \n",
       "56088    2015-12-30                   The Carlyle A Rosewood Hotel   \n",
       "1566     2015-07-22       Hampton Inn Manhattan Times Square South   \n",
       "55231    2015-12-27                   The Carlyle A Rosewood Hotel   \n",
       "35887    2015-10-26            Wyndham Garden Brooklyn Sunset Park   \n",
       "56370    2015-12-31                   The Carlyle A Rosewood Hotel   \n",
       "56089    2015-12-30                   The Carlyle A Rosewood Hotel   \n",
       "\n",
       "       Discount Code  transaction_count  \n",
       "1684               3                 44  \n",
       "1683               2                 43  \n",
       "1682               1                 30  \n",
       "3312               2                 30  \n",
       "1967               3                 30  \n",
       "1676               3                 30  \n",
       "3984               3                 30  \n",
       "3983               2                 30  \n",
       "3313               3                 30  \n",
       "2630               2                 29  \n",
       "3624               2                 29  \n",
       "3625               3                 29  \n",
       "2631               3                 28  \n",
       "2979               3                 28  \n",
       "2978               2                 28  \n",
       "1685               4                 26  \n",
       "1847               4                 26  \n",
       "1966               2                 26  \n",
       "52793              4                 26  \n",
       "1675               2                 26  \n",
       "52043              4                 25  \n",
       "56602              2                 25  \n",
       "56603              3                 25  \n",
       "52792              3                 25  \n",
       "56087              2                 25  \n",
       "52414              4                 25  \n",
       "56368              2                 25  \n",
       "56369              3                 25  \n",
       "52791              2                 24  \n",
       "1974               2                 24  \n",
       "1975               3                 24  \n",
       "56604              4                 24  \n",
       "36678              3                 24  \n",
       "51682              4                 24  \n",
       "56088              3                 24  \n",
       "1566               2                 24  \n",
       "55231              2                 23  \n",
       "35887              2                 23  \n",
       "56370              4                 23  \n",
       "56089              4                 23  "
      ]
     },
     "metadata": {},
     "output_type": "display_data"
    }
   ],
   "source": [
    "grouped = data_filtered.groupby(\n",
    "    ['Snapshot Date', 'Hotel Name', 'Discount Code']\n",
    ").size().reset_index(name='transaction_count')\n",
    "\n",
    "onePerHotel = (\n",
    "    grouped.sort_values(['Hotel Name', 'transaction_count'], ascending=[True, False])\n",
    "    .groupby('Hotel Name')\n",
    "    .first()\n",
    "    .reset_index()\n",
    ")\n",
    "onePerHotel = onePerHotel.sort_values('transaction_count', ascending=False).head(40)\n",
    "\n",
    "mostData = grouped.sort_values('transaction_count', ascending=False).head(40)\n",
    "\n",
    "print(\"One Per Hotel (Top 40) Parameter Combinations with Transaction Counts:\")\n",
    "display(onePerHotel)\n",
    "\n",
    "print(\"\\nMost Data (Top 40) Parameter Combinations with Transaction Counts:\")\n",
    "display(mostData)\n"
   ]
  },
  {
   "cell_type": "markdown",
   "metadata": {},
   "source": [
    "This looks solid to me, shows again the for maximum data we rather stick to Most Data params instead of One Per Hotel"
   ]
  },
  {
   "cell_type": "markdown",
   "metadata": {},
   "source": [
    "##### Investigating Valid Data and Outliers for Parameter Combinations"
   ]
  },
  {
   "cell_type": "markdown",
   "metadata": {},
   "source": [
    "Here, we further analyze the data returned by `load_relevant_data` for each parameter combination. For each combination, we compute:\n",
    "- Total rows (number of transactions)\n",
    "- Unique counts for WeekDays, Snapshot IDs, Check-in Dates, and Available Rooms\n",
    "- Weekend count and Holiday-Connected count (using US holidays for 2014–2016, with a check for a holiday occurring within 3 days before or 1 day after the check-in date)\n",
    "- Data range (from snapshot date to snapshot date + 30 days)\n",
    "- **Price Metrics:**\n",
    "  - Minimum and maximum Discount Price\n",
    "  - Price range as a percentage\n",
    "  - An array of price points (each price point is `[price, showcount]`)\n",
    "\n",
    "We then split the parameter combinations into two groups (Good Predictions vs. Suspected Outliers) based on the final `R²` value and display an average comparison table."
   ]
  },
  {
   "cell_type": "code",
   "execution_count": 23,
   "metadata": {},
   "outputs": [],
   "source": [
    "%%capture\n",
    "%pip install holidays"
   ]
  },
  {
   "cell_type": "code",
   "execution_count": 22,
   "metadata": {},
   "outputs": [
    {
     "name": "stdout",
     "output_type": "stream",
     "text": [
      "Average Metrics Comparison:\n"
     ]
    },
    {
     "data": {
      "text/html": [
       "<div>\n",
       "<style scoped>\n",
       "    .dataframe tbody tr th:only-of-type {\n",
       "        vertical-align: middle;\n",
       "    }\n",
       "\n",
       "    .dataframe tbody tr th {\n",
       "        vertical-align: top;\n",
       "    }\n",
       "\n",
       "    .dataframe thead th {\n",
       "        text-align: right;\n",
       "    }\n",
       "</style>\n",
       "<table border=\"1\" class=\"dataframe\">\n",
       "  <thead>\n",
       "    <tr style=\"text-align: right;\">\n",
       "      <th></th>\n",
       "      <th>Good Predictions</th>\n",
       "      <th>Bad Predictions</th>\n",
       "    </tr>\n",
       "  </thead>\n",
       "  <tbody>\n",
       "    <tr>\n",
       "      <th>Final R²</th>\n",
       "      <td>0.999866</td>\n",
       "      <td>NaN</td>\n",
       "    </tr>\n",
       "    <tr>\n",
       "      <th>Total Rows</th>\n",
       "      <td>39.000000</td>\n",
       "      <td>NaN</td>\n",
       "    </tr>\n",
       "    <tr>\n",
       "      <th>Unique WeekDays</th>\n",
       "      <td>7.000000</td>\n",
       "      <td>NaN</td>\n",
       "    </tr>\n",
       "    <tr>\n",
       "      <th>Unique Snapshot IDs</th>\n",
       "      <td>2.000000</td>\n",
       "      <td>NaN</td>\n",
       "    </tr>\n",
       "    <tr>\n",
       "      <th>Unique Checkin Dates</th>\n",
       "      <td>20.333333</td>\n",
       "      <td>NaN</td>\n",
       "    </tr>\n",
       "    <tr>\n",
       "      <th>Unique Rooms</th>\n",
       "      <td>8.666667</td>\n",
       "      <td>NaN</td>\n",
       "    </tr>\n",
       "    <tr>\n",
       "      <th>Weekend Count</th>\n",
       "      <td>15.666667</td>\n",
       "      <td>NaN</td>\n",
       "    </tr>\n",
       "    <tr>\n",
       "      <th>Holiday Connected Count</th>\n",
       "      <td>0.000000</td>\n",
       "      <td>NaN</td>\n",
       "    </tr>\n",
       "    <tr>\n",
       "      <th>Price Points length</th>\n",
       "      <td>5.000000</td>\n",
       "      <td>NaN</td>\n",
       "    </tr>\n",
       "  </tbody>\n",
       "</table>\n",
       "</div>"
      ],
      "text/plain": [
       "                         Good Predictions  Bad Predictions\n",
       "Final R²                         0.999866              NaN\n",
       "Total Rows                      39.000000              NaN\n",
       "Unique WeekDays                  7.000000              NaN\n",
       "Unique Snapshot IDs              2.000000              NaN\n",
       "Unique Checkin Dates            20.333333              NaN\n",
       "Unique Rooms                     8.666667              NaN\n",
       "Weekend Count                   15.666667              NaN\n",
       "Holiday Connected Count          0.000000              NaN\n",
       "Price Points length              5.000000              NaN"
      ]
     },
     "metadata": {},
     "output_type": "display_data"
    },
    {
     "name": "stdout",
     "output_type": "stream",
     "text": [
      "\n",
      "Detailed Metrics for Good Predictions:\n"
     ]
    },
    {
     "data": {
      "text/html": [
       "<div>\n",
       "<style scoped>\n",
       "    .dataframe tbody tr th:only-of-type {\n",
       "        vertical-align: middle;\n",
       "    }\n",
       "\n",
       "    .dataframe tbody tr th {\n",
       "        vertical-align: top;\n",
       "    }\n",
       "\n",
       "    .dataframe thead th {\n",
       "        text-align: right;\n",
       "    }\n",
       "</style>\n",
       "<table border=\"1\" class=\"dataframe\">\n",
       "  <thead>\n",
       "    <tr style=\"text-align: right;\">\n",
       "      <th></th>\n",
       "      <th>Parameter</th>\n",
       "      <th>Final R²</th>\n",
       "      <th>Total Rows</th>\n",
       "      <th>Unique WeekDays</th>\n",
       "      <th>Unique Snapshot IDs</th>\n",
       "      <th>Unique Checkin Dates</th>\n",
       "      <th>Unique Rooms</th>\n",
       "      <th>Weekend Count</th>\n",
       "      <th>Holiday Connected Count</th>\n",
       "      <th>Data Range</th>\n",
       "      <th>Price Points</th>\n",
       "      <th>Price Points length</th>\n",
       "    </tr>\n",
       "  </thead>\n",
       "  <tbody>\n",
       "    <tr>\n",
       "      <th>0</th>\n",
       "      <td>2015-07-22 00:00:00 | Park Hyatt New York | 3</td>\n",
       "      <td>0.999801</td>\n",
       "      <td>44</td>\n",
       "      <td>7</td>\n",
       "      <td>2</td>\n",
       "      <td>23</td>\n",
       "      <td>11</td>\n",
       "      <td>17</td>\n",
       "      <td>0</td>\n",
       "      <td>2015-07-22 - 2015-08-21</td>\n",
       "      <td>[[3255, 4], [3275, 6], [3400, 1], [3455, 22], ...</td>\n",
       "      <td>5</td>\n",
       "    </tr>\n",
       "    <tr>\n",
       "      <th>1</th>\n",
       "      <td>2015-07-22 00:00:00 | Park Hyatt New York | 2</td>\n",
       "      <td>0.999865</td>\n",
       "      <td>43</td>\n",
       "      <td>7</td>\n",
       "      <td>2</td>\n",
       "      <td>22</td>\n",
       "      <td>8</td>\n",
       "      <td>18</td>\n",
       "      <td>0</td>\n",
       "      <td>2015-07-22 - 2015-08-21</td>\n",
       "      <td>[[3255, 6], [3275, 8], [3400, 2], [3455, 14], ...</td>\n",
       "      <td>5</td>\n",
       "    </tr>\n",
       "    <tr>\n",
       "      <th>2</th>\n",
       "      <td>2015-07-22 00:00:00 | Park Hyatt New York | 1</td>\n",
       "      <td>0.999933</td>\n",
       "      <td>30</td>\n",
       "      <td>7</td>\n",
       "      <td>2</td>\n",
       "      <td>16</td>\n",
       "      <td>7</td>\n",
       "      <td>12</td>\n",
       "      <td>0</td>\n",
       "      <td>2015-07-22 - 2015-08-21</td>\n",
       "      <td>[[3378, 4], [3588, 6], [3650, 2], [3678, 12], ...</td>\n",
       "      <td>5</td>\n",
       "    </tr>\n",
       "  </tbody>\n",
       "</table>\n",
       "</div>"
      ],
      "text/plain": [
       "                                       Parameter  Final R²  Total Rows  \\\n",
       "0  2015-07-22 00:00:00 | Park Hyatt New York | 3  0.999801          44   \n",
       "1  2015-07-22 00:00:00 | Park Hyatt New York | 2  0.999865          43   \n",
       "2  2015-07-22 00:00:00 | Park Hyatt New York | 1  0.999933          30   \n",
       "\n",
       "   Unique WeekDays  Unique Snapshot IDs  Unique Checkin Dates  Unique Rooms  \\\n",
       "0                7                    2                    23            11   \n",
       "1                7                    2                    22             8   \n",
       "2                7                    2                    16             7   \n",
       "\n",
       "   Weekend Count  Holiday Connected Count               Data Range  \\\n",
       "0             17                        0  2015-07-22 - 2015-08-21   \n",
       "1             18                        0  2015-07-22 - 2015-08-21   \n",
       "2             12                        0  2015-07-22 - 2015-08-21   \n",
       "\n",
       "                                        Price Points  Price Points length  \n",
       "0  [[3255, 4], [3275, 6], [3400, 1], [3455, 22], ...                    5  \n",
       "1  [[3255, 6], [3275, 8], [3400, 2], [3455, 14], ...                    5  \n",
       "2  [[3378, 4], [3588, 6], [3650, 2], [3678, 12], ...                    5  "
      ]
     },
     "metadata": {},
     "output_type": "display_data"
    },
    {
     "name": "stdout",
     "output_type": "stream",
     "text": [
      "\n",
      "Detailed Metrics for Suspected Outliers:\n"
     ]
    },
    {
     "data": {
      "text/html": [
       "<div>\n",
       "<style scoped>\n",
       "    .dataframe tbody tr th:only-of-type {\n",
       "        vertical-align: middle;\n",
       "    }\n",
       "\n",
       "    .dataframe tbody tr th {\n",
       "        vertical-align: top;\n",
       "    }\n",
       "\n",
       "    .dataframe thead th {\n",
       "        text-align: right;\n",
       "    }\n",
       "</style>\n",
       "<table border=\"1\" class=\"dataframe\">\n",
       "  <thead>\n",
       "    <tr style=\"text-align: right;\">\n",
       "      <th></th>\n",
       "      <th>Parameter</th>\n",
       "      <th>Final R²</th>\n",
       "      <th>Total Rows</th>\n",
       "      <th>Unique WeekDays</th>\n",
       "      <th>Unique Snapshot IDs</th>\n",
       "      <th>Unique Checkin Dates</th>\n",
       "      <th>Unique Rooms</th>\n",
       "      <th>Weekend Count</th>\n",
       "      <th>Holiday Connected Count</th>\n",
       "      <th>Data Range</th>\n",
       "      <th>Price Points</th>\n",
       "      <th>Price Points length</th>\n",
       "    </tr>\n",
       "  </thead>\n",
       "  <tbody>\n",
       "  </tbody>\n",
       "</table>\n",
       "</div>"
      ],
      "text/plain": [
       "Empty DataFrame\n",
       "Columns: [Parameter, Final R², Total Rows, Unique WeekDays, Unique Snapshot IDs, Unique Checkin Dates, Unique Rooms, Weekend Count, Holiday Connected Count, Data Range, Price Points, Price Points length]\n",
       "Index: []"
      ]
     },
     "metadata": {},
     "output_type": "display_data"
    }
   ],
   "source": [
    "import pandas as pd\n",
    "import holidays\n",
    "\n",
    "# Create a US holidays object for the years 2014-2016.\n",
    "us_holidays = holidays.US(years=[2014, 2015, 2016])\n",
    "\n",
    "def is_connected_to_holiday(checkin_date, window_before=3, window_after=1):\n",
    "    checkin_date = pd.to_datetime(checkin_date)\n",
    "    start_window = checkin_date - pd.Timedelta(days=window_before)\n",
    "    end_window = checkin_date + pd.Timedelta(days=window_after)\n",
    "    for holiday_date in us_holidays.keys():\n",
    "        holiday_ts = pd.to_datetime(holiday_date)\n",
    "        if start_window <= holiday_ts <= end_window:\n",
    "            return True\n",
    "    return False\n",
    "\n",
    "summary_metrics = []\n",
    "for result in results_stagnant:  # (Use results from the stagnant or basic loop as needed)\n",
    "    param = result['params']\n",
    "    df_subset = load_relevant_data(param, data_filtered)\n",
    "    total_rows = df_subset.shape[0]\n",
    "    \n",
    "    unique_weekdays = df_subset['WeekDay'].nunique() if 'WeekDay' in df_subset.columns else None\n",
    "    unique_snapshot_ids = df_subset['Snapshot ID'].nunique() if 'Snapshot ID' in df_subset.columns else None\n",
    "    unique_checkin_dates = df_subset['Checkin Date'].nunique() if 'Checkin Date' in df_subset.columns else None\n",
    "    unique_rooms = df_subset['Available Rooms'].nunique() if 'Available Rooms' in df_subset.columns else None\n",
    "    \n",
    "    weekend_count = df_subset[df_subset['WeekDay'].isin([\"Friday\", \"Saturday\", \"Sunday\"])].shape[0]\n",
    "    holiday_connected_count = df_subset[df_subset['Checkin Date'].apply(is_connected_to_holiday)].shape[0]\n",
    "    \n",
    "    snapshot_dt = pd.to_datetime(param['Snapshot Date'])\n",
    "    data_range = f\"{snapshot_dt.strftime('%Y-%m-%d')} - {(snapshot_dt + pd.Timedelta(days=30)).strftime('%Y-%m-%d')}\"\n",
    "    \n",
    "    # Price metrics\n",
    "    if total_rows > 0:\n",
    "        discount_price_min = df_subset[\"Discount Price\"].min()\n",
    "        discount_price_max = df_subset[\"Discount Price\"].max()\n",
    "        discount_price_mean = df_subset[\"Discount Price\"].mean()\n",
    "        discount_price_std = df_subset[\"Discount Price\"].std()\n",
    "        price_range_percent = ((discount_price_max - discount_price_min) / discount_price_min) * 100 if discount_price_min != 0 else None\n",
    "        price_counts = df_subset[\"Discount Price\"].value_counts().sort_index()\n",
    "        price_points = [[price, count] for price, count in price_counts.items()]\n",
    "    else:\n",
    "        discount_price_min = discount_price_max = discount_price_mean = discount_price_std = price_range_percent = None\n",
    "        price_points = []\n",
    "    \n",
    "    param_key = f\"{param['Snapshot Date']} | {param['Hotel Name']} | {param['Discount Code']}\"\n",
    "    \n",
    "    summary_metrics.append({\n",
    "        \"Parameter\": param_key,\n",
    "        \"Final R²\": result['final_r2'],\n",
    "        \"Total Rows\": total_rows,\n",
    "        \"Unique WeekDays\": unique_weekdays,\n",
    "        \"Unique Snapshot IDs\": unique_snapshot_ids,\n",
    "        \"Unique Checkin Dates\": unique_checkin_dates,\n",
    "        \"Unique Rooms\": unique_rooms,\n",
    "        \"Weekend Count\": weekend_count,\n",
    "        \"Holiday Connected Count\": holiday_connected_count,\n",
    "        \"Data Range\": data_range,\n",
    "        \"Price Points\": price_points,\n",
    "        \"Price Points length\": len(price_points),\n",
    "    })\n",
    "\n",
    "df_metrics = pd.DataFrame(summary_metrics)\n",
    "\n",
    "# Split into groups based on final R² (good predictions vs. suspected outliers)\n",
    "df_predicting_well = df_metrics[df_metrics[\"Final R²\"] >= 0]\n",
    "df_outliers = df_metrics[df_metrics[\"Final R²\"] < 0]\n",
    "\n",
    "# Compute averages for numeric columns (price metrics will be averaged only for percentage metrics)\n",
    "avg_good = df_predicting_well.mean(numeric_only=True)\n",
    "avg_bad = df_outliers.mean(numeric_only=True)\n",
    "\n",
    "avg_table = pd.DataFrame({\"Good Predictions\": avg_good, \"Bad Predictions\": avg_bad})\n",
    "print(\"Average Metrics Comparison:\")\n",
    "display(avg_table)\n",
    "\n",
    "print(\"\\nDetailed Metrics for Good Predictions:\")\n",
    "display(df_predicting_well)\n",
    "print(\"\\nDetailed Metrics for Suspected Outliers:\")\n",
    "display(df_outliers)"
   ]
  },
  {
   "cell_type": "markdown",
   "metadata": {},
   "source": [
    "\n",
    " **Average Metrics Comparison**\n",
    "\n",
    "| Metric                      | Good Predictions | Bad Predictions  |\n",
    "|-----------------------------|------------------|------------------|\n",
    "| Final R²                    | 0.999862         | -0.603804        |\n",
    "| Total Rows                  | 27.677419        | 24.888889        |\n",
    "| Unique WeekDays             | 6.419355         | 7.000000         |\n",
    "| Unique Snapshot IDs         | 1.354839         | 1.111111         |\n",
    "| Unique Checkin Dates        | 22.580645        | 23.666667        |\n",
    "| Unique Rooms                | 5.225806         | 9.333333         |\n",
    "| Weekend Count               | 9.741935         | 11.000000        |\n",
    "| Holiday Connected Count     | 2.548387         | 4.111111         |\n",
    "| Price Points Length         | 6.419355         | 2.888889         |\n",
    "\n",
    "*Note: The current dataset used for model training did not include the \"holiday connected\" feature. The holiday connected count is computed solely for this analysis.*\n",
    "\n",
    "**Key Observations**\n",
    "\n",
    "- **Overall Quality:**  \n",
    "  - **Similarities:**  \n",
    "  Both groups have comparable totals for rows, unique weekdays, snapshot IDs, and check-in dates.\n",
    "\n",
    "  - **Differences:**  \n",
    "  The outlier group shows notably higher variability in unique rooms (9.33 vs. 5.23) and a higher holiday connected count (4.11 vs. 2.55).\n",
    "\n",
    "- **Outlier Behavior: Two Subgroups **  \n",
    "  1. **The Carlyle A Rosewood Group:**  \n",
    "   - **Performance:** Final R² values are very low or negative.  \n",
    "   - **Price Data:** Limited price variability (there are only unique 2 price points per data set), with many entries concentrated at one price.  \n",
    "   - **Other Metrics:** Higher unique rooms and holiday connected counts suggest inconsistencies in the data for this hotel.\n",
    "\n",
    "  2. **The New York EDITION and Park Hyatt New York Group:**  \n",
    "    - **Performance:** Despite being flagged as outliers, these cases exhibit high final R² (good model performance).  \n",
    "    - **Price Data:** They display greater diversity in price points and more consistent room data, which might be influenced by market factors not captured in the current model.\n",
    "\n",
    "\n",
    "\n",
    "**Next Steps and Conclusions**\n",
    "\n",
    "- The overall data quality appears acceptable. Although adding the holiday connected feature is an option, my intuition is that it may not significantly improve the model—and could potentially add more noise.\n",
    "- The limited price variability in the Carlyle A Rosewood subgroup is a promising direction for further investigation.\n",
    "- The immediate next step should be to examine the algorithm's stopping criteria. In particular, we need to understand why the active sampling stops after only 3 requests and explore the effects of modifying this behavior to request more data points before termination.\n",
    "\n"
   ]
  },
  {
   "cell_type": "markdown",
   "metadata": {},
   "source": [
    "#### Why do we stop? (Minimum Sample Threshold)"
   ]
  },
  {
   "cell_type": "markdown",
   "metadata": {},
   "source": [
    "**Questions**: \n",
    "- Why did the model stop sampling after 3 iterations? \n",
    "- what would happen if we set a minimum number of iterations (higher)?"
   ]
  },
  {
   "cell_type": "markdown",
   "metadata": {},
   "source": [
    "##### Debugging the Stop\n"
   ]
  },
  {
   "cell_type": "markdown",
   "metadata": {},
   "source": [
    "\n",
    "In this section, we investigate why the basic active sampling loop stops after only a few iterations. We focus on three parameter combinations from the suspected outlier group:\n",
    "- **params_mostData[9]** (The New York EDITION)\n",
    "- **params_mostData[21]** (The Carlyle A Rosewood)\n",
    "- **params_mostData[29]** (Park Hyatt New York)\n",
    "\n",
    "We use a debug version of the active sampling loop that prints:\n",
    "- The training and candidate indices at each iteration.\n",
    "- The uncertainty values for each candidate.\n",
    "- The final training Data.\n",
    "- The maximum uncertainty and the chosen candidate index.\n",
    "- The current `R²` score.\n",
    "\n",
    "This information should shed light on why the loop is stopping early, helping us determine if a higher minimum sample threshold might be necessary.\n"
   ]
  },
  {
   "cell_type": "code",
   "execution_count": 24,
   "metadata": {},
   "outputs": [
    {
     "name": "stdout",
     "output_type": "stream",
     "text": [
      "--------------------------------------------------\n",
      "Debugging for parameter: 2015-07-25 00:00:00 | The New York EDITION | 2\n",
      "Iteration Details:\n"
     ]
    },
    {
     "data": {
      "text/html": [
       "<div>\n",
       "<style scoped>\n",
       "    .dataframe tbody tr th:only-of-type {\n",
       "        vertical-align: middle;\n",
       "    }\n",
       "\n",
       "    .dataframe tbody tr th {\n",
       "        vertical-align: top;\n",
       "    }\n",
       "\n",
       "    .dataframe thead th {\n",
       "        text-align: right;\n",
       "    }\n",
       "</style>\n",
       "<table border=\"1\" class=\"dataframe\">\n",
       "  <thead>\n",
       "    <tr style=\"text-align: right;\">\n",
       "      <th></th>\n",
       "      <th>Iteration</th>\n",
       "      <th>Training Indices</th>\n",
       "      <th>Candidate Indices</th>\n",
       "      <th>Candidate Uncertainties</th>\n",
       "      <th>Max Uncertainty</th>\n",
       "      <th>Chosen Candidate</th>\n",
       "      <th>Current R²</th>\n",
       "    </tr>\n",
       "  </thead>\n",
       "  <tbody>\n",
       "    <tr>\n",
       "      <th>0</th>\n",
       "      <td>0</td>\n",
       "      <td>0, 14, 28</td>\n",
       "      <td>1, 2, 3, 4, 5, 6, 7, 8, 9, 10, 11, 12, 13, 15,...</td>\n",
       "      <td>[1.2019, 0.7842, 1.1353, 1.0286, 1.2058, 1.120...</td>\n",
       "      <td>1.2066</td>\n",
       "      <td>8</td>\n",
       "      <td>0.4682</td>\n",
       "    </tr>\n",
       "    <tr>\n",
       "      <th>1</th>\n",
       "      <td>1</td>\n",
       "      <td>0, 8, 14, 28</td>\n",
       "      <td>1, 2, 3, 4, 5, 6, 7, 9, 10, 11, 12, 13, 15, 16...</td>\n",
       "      <td>[1.0478, 0.7384, 1.0135, 0.9457, 0.9564, 1.002...</td>\n",
       "      <td>1.0490</td>\n",
       "      <td>24</td>\n",
       "      <td>0.3925</td>\n",
       "    </tr>\n",
       "    <tr>\n",
       "      <th>2</th>\n",
       "      <td>2</td>\n",
       "      <td>0, 8, 14, 24, 28</td>\n",
       "      <td>1, 2, 3, 4, 5, 6, 7, 9, 10, 11, 12, 13, 15, 16...</td>\n",
       "      <td>[1.1264, 0.7279, 1.0608, 0.9566, 0.9793, 1.032...</td>\n",
       "      <td>1.1311</td>\n",
       "      <td>21</td>\n",
       "      <td>0.7051</td>\n",
       "    </tr>\n",
       "    <tr>\n",
       "      <th>3</th>\n",
       "      <td>3</td>\n",
       "      <td>0, 8, 14, 21, 24, 28</td>\n",
       "      <td>1, 2, 3, 4, 5, 6, 7, 9, 10, 11, 12, 13, 15, 16...</td>\n",
       "      <td>[1.0569, 0.703, 1.0047, 0.9203, 0.9381, 0.989,...</td>\n",
       "      <td>1.0626</td>\n",
       "      <td>11</td>\n",
       "      <td>0.6624</td>\n",
       "    </tr>\n",
       "    <tr>\n",
       "      <th>4</th>\n",
       "      <td>4</td>\n",
       "      <td>0, 8, 11, 14, 21, 24, 28</td>\n",
       "      <td>1, 2, 3, 4, 5, 6, 7, 9, 10, 12, 13, 15, 16, 17...</td>\n",
       "      <td>[0.9811, 0.5672, 0.8798, 0.5587, 0.8058, 0.713...</td>\n",
       "      <td>0.9811</td>\n",
       "      <td>1</td>\n",
       "      <td>0.7836</td>\n",
       "    </tr>\n",
       "    <tr>\n",
       "      <th>5</th>\n",
       "      <td>5</td>\n",
       "      <td>0, 1, 8, 11, 14, 21, 24, 28</td>\n",
       "      <td>2, 3, 4, 5, 6, 7, 9, 10, 12, 13, 15, 16, 17, 1...</td>\n",
       "      <td>[0.0757, 0.0828, 0.0766, 0.0778, 0.0683, 0.068...</td>\n",
       "      <td>0.1657</td>\n",
       "      <td>20</td>\n",
       "      <td>0.9997</td>\n",
       "    </tr>\n",
       "    <tr>\n",
       "      <th>6</th>\n",
       "      <td>6</td>\n",
       "      <td>0, 1, 8, 11, 14, 20, 21, 24, 28</td>\n",
       "      <td>2, 3, 4, 5, 6, 7, 9, 10, 12, 13, 15, 16, 17, 1...</td>\n",
       "      <td>[0.0721, 0.0762, 0.0717, 0.0727, 0.0635, 0.063...</td>\n",
       "      <td>0.0899</td>\n",
       "      <td>15</td>\n",
       "      <td>0.9999</td>\n",
       "    </tr>\n",
       "    <tr>\n",
       "      <th>7</th>\n",
       "      <td>7</td>\n",
       "      <td>0, 1, 8, 11, 14, 15, 20, 21, 24, 28</td>\n",
       "      <td>2, 3, 4, 5, 6, 7, 9, 10, 12, 13, 16, 17, 18, 1...</td>\n",
       "      <td>[0.0656, 0.0655, 0.0677, 0.0671, 0.0599, 0.059...</td>\n",
       "      <td>0.0834</td>\n",
       "      <td>27</td>\n",
       "      <td>0.9999</td>\n",
       "    </tr>\n",
       "    <tr>\n",
       "      <th>8</th>\n",
       "      <td>8</td>\n",
       "      <td>0, 1, 8, 11, 14, 15, 20, 21, 24, 27, 28</td>\n",
       "      <td>2, 3, 4, 5, 6, 7, 9, 10, 12, 13, 16, 17, 18, 1...</td>\n",
       "      <td>[0.0673, 0.0673, 0.0692, 0.0686, 0.0611, 0.060...</td>\n",
       "      <td>0.0787</td>\n",
       "      <td>9</td>\n",
       "      <td>0.9999</td>\n",
       "    </tr>\n",
       "    <tr>\n",
       "      <th>9</th>\n",
       "      <td>9</td>\n",
       "      <td>0, 1, 8, 9, 11, 14, 15, 20, 21, 24, 27, 28</td>\n",
       "      <td>2, 3, 4, 5, 6, 7, 10, 12, 13, 16, 17, 18, 19, ...</td>\n",
       "      <td>[0.0648, 0.0649, 0.0615, 0.0637, 0.0532, 0.053...</td>\n",
       "      <td>0.0744</td>\n",
       "      <td>23</td>\n",
       "      <td>0.9999</td>\n",
       "    </tr>\n",
       "    <tr>\n",
       "      <th>10</th>\n",
       "      <td>10</td>\n",
       "      <td>0, 1, 8, 9, 11, 14, 15, 20, 21, 23, 24, 27, 28</td>\n",
       "      <td>2, 3, 4, 5, 6, 7, 10, 12, 13, 16, 17, 18, 19, ...</td>\n",
       "      <td>[0.0636, 0.0639, 0.0604, 0.0627, 0.0523, 0.053...</td>\n",
       "      <td>0.0722</td>\n",
       "      <td>26</td>\n",
       "      <td>1.0000</td>\n",
       "    </tr>\n",
       "    <tr>\n",
       "      <th>11</th>\n",
       "      <td>11</td>\n",
       "      <td>0, 1, 8, 9, 11, 14, 15, 20, 21, 23, 24, 26, 27...</td>\n",
       "      <td>2, 3, 4, 5, 6, 7, 10, 12, 13, 16, 17, 18, 19, ...</td>\n",
       "      <td>[0.0644, 0.0646, 0.0607, 0.0631, 0.0527, 0.053...</td>\n",
       "      <td>0.0646</td>\n",
       "      <td>3</td>\n",
       "      <td>1.0000</td>\n",
       "    </tr>\n",
       "    <tr>\n",
       "      <th>12</th>\n",
       "      <td>12</td>\n",
       "      <td>0, 1, 3, 8, 9, 11, 14, 15, 20, 21, 23, 24, 26,...</td>\n",
       "      <td>2, 4, 5, 6, 7, 10, 12, 13, 16, 17, 18, 19, 22, 25</td>\n",
       "      <td>[0.0588, 0.0611, 0.0618, 0.0512, 0.0511, 0.066...</td>\n",
       "      <td>0.0663</td>\n",
       "      <td>10</td>\n",
       "      <td>1.0000</td>\n",
       "    </tr>\n",
       "    <tr>\n",
       "      <th>13</th>\n",
       "      <td>13</td>\n",
       "      <td>0, 1, 3, 8, 9, 10, 11, 14, 15, 20, 21, 23, 24,...</td>\n",
       "      <td>2, 4, 5, 6, 7, 12, 13, 16, 17, 18, 19, 22, 25</td>\n",
       "      <td>[0.0574, 0.0586, 0.0567, 0.0477, 0.0464, 0.052...</td>\n",
       "      <td>0.0638</td>\n",
       "      <td>22</td>\n",
       "      <td>1.0000</td>\n",
       "    </tr>\n",
       "    <tr>\n",
       "      <th>14</th>\n",
       "      <td>14</td>\n",
       "      <td>0, 1, 3, 8, 9, 10, 11, 14, 15, 20, 21, 22, 23,...</td>\n",
       "      <td>2, 4, 5, 6, 7, 12, 13, 16, 17, 18, 19, 25</td>\n",
       "      <td>[0.0568, 0.0578, 0.0558, 0.0471, 0.0458, 0.050...</td>\n",
       "      <td>0.0602</td>\n",
       "      <td>18</td>\n",
       "      <td>1.0000</td>\n",
       "    </tr>\n",
       "  </tbody>\n",
       "</table>\n",
       "</div>"
      ],
      "text/plain": [
       "    Iteration                                   Training Indices  \\\n",
       "0           0                                          0, 14, 28   \n",
       "1           1                                       0, 8, 14, 28   \n",
       "2           2                                   0, 8, 14, 24, 28   \n",
       "3           3                               0, 8, 14, 21, 24, 28   \n",
       "4           4                           0, 8, 11, 14, 21, 24, 28   \n",
       "5           5                        0, 1, 8, 11, 14, 21, 24, 28   \n",
       "6           6                    0, 1, 8, 11, 14, 20, 21, 24, 28   \n",
       "7           7                0, 1, 8, 11, 14, 15, 20, 21, 24, 28   \n",
       "8           8            0, 1, 8, 11, 14, 15, 20, 21, 24, 27, 28   \n",
       "9           9         0, 1, 8, 9, 11, 14, 15, 20, 21, 24, 27, 28   \n",
       "10         10     0, 1, 8, 9, 11, 14, 15, 20, 21, 23, 24, 27, 28   \n",
       "11         11  0, 1, 8, 9, 11, 14, 15, 20, 21, 23, 24, 26, 27...   \n",
       "12         12  0, 1, 3, 8, 9, 11, 14, 15, 20, 21, 23, 24, 26,...   \n",
       "13         13  0, 1, 3, 8, 9, 10, 11, 14, 15, 20, 21, 23, 24,...   \n",
       "14         14  0, 1, 3, 8, 9, 10, 11, 14, 15, 20, 21, 22, 23,...   \n",
       "\n",
       "                                    Candidate Indices  \\\n",
       "0   1, 2, 3, 4, 5, 6, 7, 8, 9, 10, 11, 12, 13, 15,...   \n",
       "1   1, 2, 3, 4, 5, 6, 7, 9, 10, 11, 12, 13, 15, 16...   \n",
       "2   1, 2, 3, 4, 5, 6, 7, 9, 10, 11, 12, 13, 15, 16...   \n",
       "3   1, 2, 3, 4, 5, 6, 7, 9, 10, 11, 12, 13, 15, 16...   \n",
       "4   1, 2, 3, 4, 5, 6, 7, 9, 10, 12, 13, 15, 16, 17...   \n",
       "5   2, 3, 4, 5, 6, 7, 9, 10, 12, 13, 15, 16, 17, 1...   \n",
       "6   2, 3, 4, 5, 6, 7, 9, 10, 12, 13, 15, 16, 17, 1...   \n",
       "7   2, 3, 4, 5, 6, 7, 9, 10, 12, 13, 16, 17, 18, 1...   \n",
       "8   2, 3, 4, 5, 6, 7, 9, 10, 12, 13, 16, 17, 18, 1...   \n",
       "9   2, 3, 4, 5, 6, 7, 10, 12, 13, 16, 17, 18, 19, ...   \n",
       "10  2, 3, 4, 5, 6, 7, 10, 12, 13, 16, 17, 18, 19, ...   \n",
       "11  2, 3, 4, 5, 6, 7, 10, 12, 13, 16, 17, 18, 19, ...   \n",
       "12  2, 4, 5, 6, 7, 10, 12, 13, 16, 17, 18, 19, 22, 25   \n",
       "13      2, 4, 5, 6, 7, 12, 13, 16, 17, 18, 19, 22, 25   \n",
       "14          2, 4, 5, 6, 7, 12, 13, 16, 17, 18, 19, 25   \n",
       "\n",
       "                              Candidate Uncertainties  Max Uncertainty  \\\n",
       "0   [1.2019, 0.7842, 1.1353, 1.0286, 1.2058, 1.120...           1.2066   \n",
       "1   [1.0478, 0.7384, 1.0135, 0.9457, 0.9564, 1.002...           1.0490   \n",
       "2   [1.1264, 0.7279, 1.0608, 0.9566, 0.9793, 1.032...           1.1311   \n",
       "3   [1.0569, 0.703, 1.0047, 0.9203, 0.9381, 0.989,...           1.0626   \n",
       "4   [0.9811, 0.5672, 0.8798, 0.5587, 0.8058, 0.713...           0.9811   \n",
       "5   [0.0757, 0.0828, 0.0766, 0.0778, 0.0683, 0.068...           0.1657   \n",
       "6   [0.0721, 0.0762, 0.0717, 0.0727, 0.0635, 0.063...           0.0899   \n",
       "7   [0.0656, 0.0655, 0.0677, 0.0671, 0.0599, 0.059...           0.0834   \n",
       "8   [0.0673, 0.0673, 0.0692, 0.0686, 0.0611, 0.060...           0.0787   \n",
       "9   [0.0648, 0.0649, 0.0615, 0.0637, 0.0532, 0.053...           0.0744   \n",
       "10  [0.0636, 0.0639, 0.0604, 0.0627, 0.0523, 0.053...           0.0722   \n",
       "11  [0.0644, 0.0646, 0.0607, 0.0631, 0.0527, 0.053...           0.0646   \n",
       "12  [0.0588, 0.0611, 0.0618, 0.0512, 0.0511, 0.066...           0.0663   \n",
       "13  [0.0574, 0.0586, 0.0567, 0.0477, 0.0464, 0.052...           0.0638   \n",
       "14  [0.0568, 0.0578, 0.0558, 0.0471, 0.0458, 0.050...           0.0602   \n",
       "\n",
       "    Chosen Candidate  Current R²  \n",
       "0                  8      0.4682  \n",
       "1                 24      0.3925  \n",
       "2                 21      0.7051  \n",
       "3                 11      0.6624  \n",
       "4                  1      0.7836  \n",
       "5                 20      0.9997  \n",
       "6                 15      0.9999  \n",
       "7                 27      0.9999  \n",
       "8                  9      0.9999  \n",
       "9                 23      0.9999  \n",
       "10                26      1.0000  \n",
       "11                 3      1.0000  \n",
       "12                10      1.0000  \n",
       "13                22      1.0000  \n",
       "14                18      1.0000  "
      ]
     },
     "metadata": {},
     "output_type": "display_data"
    },
    {
     "name": "stdout",
     "output_type": "stream",
     "text": [
      "\n",
      "Final Details:\n"
     ]
    },
    {
     "data": {
      "text/html": [
       "<div>\n",
       "<style scoped>\n",
       "    .dataframe tbody tr th:only-of-type {\n",
       "        vertical-align: middle;\n",
       "    }\n",
       "\n",
       "    .dataframe tbody tr th {\n",
       "        vertical-align: top;\n",
       "    }\n",
       "\n",
       "    .dataframe thead th {\n",
       "        text-align: right;\n",
       "    }\n",
       "</style>\n",
       "<table border=\"1\" class=\"dataframe\">\n",
       "  <thead>\n",
       "    <tr style=\"text-align: right;\">\n",
       "      <th></th>\n",
       "      <th>Final R²</th>\n",
       "      <th>Total Samples Used</th>\n",
       "    </tr>\n",
       "  </thead>\n",
       "  <tbody>\n",
       "    <tr>\n",
       "      <th>0</th>\n",
       "      <td>1.0</td>\n",
       "      <td>18</td>\n",
       "    </tr>\n",
       "  </tbody>\n",
       "</table>\n",
       "</div>"
      ],
      "text/plain": [
       "   Final R²  Total Samples Used\n",
       "0       1.0                  18"
      ]
     },
     "metadata": {},
     "output_type": "display_data"
    },
    {
     "name": "stdout",
     "output_type": "stream",
     "text": [
      "\n",
      "Final Training Data (first 10 rows):\n"
     ]
    },
    {
     "data": {
      "text/html": [
       "<div>\n",
       "<style scoped>\n",
       "    .dataframe tbody tr th:only-of-type {\n",
       "        vertical-align: middle;\n",
       "    }\n",
       "\n",
       "    .dataframe tbody tr th {\n",
       "        vertical-align: top;\n",
       "    }\n",
       "\n",
       "    .dataframe thead th {\n",
       "        text-align: right;\n",
       "    }\n",
       "</style>\n",
       "<table border=\"1\" class=\"dataframe\">\n",
       "  <thead>\n",
       "    <tr style=\"text-align: right;\">\n",
       "      <th></th>\n",
       "      <th>Original Price</th>\n",
       "      <th>Discount Code</th>\n",
       "      <th>Available Rooms</th>\n",
       "      <th>Hotel Stars</th>\n",
       "      <th>DayDiff</th>\n",
       "      <th>DiscountDiff</th>\n",
       "      <th>DiscountPerc</th>\n",
       "      <th>Checkin_Date_num</th>\n",
       "      <th>WeekDay_num</th>\n",
       "    </tr>\n",
       "  </thead>\n",
       "  <tbody>\n",
       "    <tr>\n",
       "      <th>33921</th>\n",
       "      <td>-1.061446</td>\n",
       "      <td>2</td>\n",
       "      <td>0.0</td>\n",
       "      <td>5</td>\n",
       "      <td>1.314751</td>\n",
       "      <td>0.286967</td>\n",
       "      <td>1.056923</td>\n",
       "      <td>1.314751</td>\n",
       "      <td>4</td>\n",
       "    </tr>\n",
       "    <tr>\n",
       "      <th>33900</th>\n",
       "      <td>-1.061446</td>\n",
       "      <td>2</td>\n",
       "      <td>0.0</td>\n",
       "      <td>5</td>\n",
       "      <td>-1.195229</td>\n",
       "      <td>0.286967</td>\n",
       "      <td>1.056923</td>\n",
       "      <td>-1.195229</td>\n",
       "      <td>4</td>\n",
       "    </tr>\n",
       "    <tr>\n",
       "      <th>33907</th>\n",
       "      <td>-1.061446</td>\n",
       "      <td>2</td>\n",
       "      <td>0.0</td>\n",
       "      <td>5</td>\n",
       "      <td>-0.358569</td>\n",
       "      <td>0.286967</td>\n",
       "      <td>1.056923</td>\n",
       "      <td>-0.358569</td>\n",
       "      <td>4</td>\n",
       "    </tr>\n",
       "    <tr>\n",
       "      <th>33898</th>\n",
       "      <td>-1.061446</td>\n",
       "      <td>2</td>\n",
       "      <td>0.0</td>\n",
       "      <td>5</td>\n",
       "      <td>-1.434274</td>\n",
       "      <td>-1.713522</td>\n",
       "      <td>-1.499678</td>\n",
       "      <td>-1.434274</td>\n",
       "      <td>2</td>\n",
       "    </tr>\n",
       "    <tr>\n",
       "      <th>33912</th>\n",
       "      <td>-1.061446</td>\n",
       "      <td>2</td>\n",
       "      <td>0.0</td>\n",
       "      <td>5</td>\n",
       "      <td>0.239046</td>\n",
       "      <td>-1.713522</td>\n",
       "      <td>-1.499678</td>\n",
       "      <td>0.239046</td>\n",
       "      <td>2</td>\n",
       "    </tr>\n",
       "    <tr>\n",
       "      <th>33905</th>\n",
       "      <td>-1.061446</td>\n",
       "      <td>2</td>\n",
       "      <td>0.0</td>\n",
       "      <td>5</td>\n",
       "      <td>-0.597614</td>\n",
       "      <td>-1.713522</td>\n",
       "      <td>-1.499678</td>\n",
       "      <td>-0.597614</td>\n",
       "      <td>2</td>\n",
       "    </tr>\n",
       "    <tr>\n",
       "      <th>33919</th>\n",
       "      <td>-1.061446</td>\n",
       "      <td>2</td>\n",
       "      <td>0.0</td>\n",
       "      <td>5</td>\n",
       "      <td>1.075706</td>\n",
       "      <td>-1.713522</td>\n",
       "      <td>-1.499678</td>\n",
       "      <td>1.075706</td>\n",
       "      <td>2</td>\n",
       "    </tr>\n",
       "    <tr>\n",
       "      <th>33922</th>\n",
       "      <td>0.122474</td>\n",
       "      <td>2</td>\n",
       "      <td>0.0</td>\n",
       "      <td>5</td>\n",
       "      <td>1.434274</td>\n",
       "      <td>1.247201</td>\n",
       "      <td>1.472177</td>\n",
       "      <td>1.434274</td>\n",
       "      <td>5</td>\n",
       "    </tr>\n",
       "    <tr>\n",
       "      <th>33901</th>\n",
       "      <td>0.122474</td>\n",
       "      <td>2</td>\n",
       "      <td>0.0</td>\n",
       "      <td>5</td>\n",
       "      <td>-1.075706</td>\n",
       "      <td>1.247201</td>\n",
       "      <td>1.472177</td>\n",
       "      <td>-1.075706</td>\n",
       "      <td>5</td>\n",
       "    </tr>\n",
       "    <tr>\n",
       "      <th>33897</th>\n",
       "      <td>0.122474</td>\n",
       "      <td>2</td>\n",
       "      <td>0.0</td>\n",
       "      <td>5</td>\n",
       "      <td>-1.553797</td>\n",
       "      <td>-0.713278</td>\n",
       "      <td>-0.957368</td>\n",
       "      <td>-1.553797</td>\n",
       "      <td>1</td>\n",
       "    </tr>\n",
       "  </tbody>\n",
       "</table>\n",
       "</div>"
      ],
      "text/plain": [
       "       Original Price  Discount Code  Available Rooms  Hotel Stars   DayDiff  \\\n",
       "33921       -1.061446              2              0.0            5  1.314751   \n",
       "33900       -1.061446              2              0.0            5 -1.195229   \n",
       "33907       -1.061446              2              0.0            5 -0.358569   \n",
       "33898       -1.061446              2              0.0            5 -1.434274   \n",
       "33912       -1.061446              2              0.0            5  0.239046   \n",
       "33905       -1.061446              2              0.0            5 -0.597614   \n",
       "33919       -1.061446              2              0.0            5  1.075706   \n",
       "33922        0.122474              2              0.0            5  1.434274   \n",
       "33901        0.122474              2              0.0            5 -1.075706   \n",
       "33897        0.122474              2              0.0            5 -1.553797   \n",
       "\n",
       "       DiscountDiff  DiscountPerc  Checkin_Date_num  WeekDay_num  \n",
       "33921      0.286967      1.056923          1.314751            4  \n",
       "33900      0.286967      1.056923         -1.195229            4  \n",
       "33907      0.286967      1.056923         -0.358569            4  \n",
       "33898     -1.713522     -1.499678         -1.434274            2  \n",
       "33912     -1.713522     -1.499678          0.239046            2  \n",
       "33905     -1.713522     -1.499678         -0.597614            2  \n",
       "33919     -1.713522     -1.499678          1.075706            2  \n",
       "33922      1.247201      1.472177          1.434274            5  \n",
       "33901      1.247201      1.472177         -1.075706            5  \n",
       "33897     -0.713278     -0.957368         -1.553797            1  "
      ]
     },
     "metadata": {},
     "output_type": "display_data"
    },
    {
     "name": "stdout",
     "output_type": "stream",
     "text": [
      "Final Training Target (first 10 rows):\n"
     ]
    },
    {
     "data": {
      "text/plain": [
       "33921   -1.431884\n",
       "33900   -1.431884\n",
       "33907   -1.431884\n",
       "33898   -0.469775\n",
       "33912   -0.469775\n",
       "33905   -0.469775\n",
       "33919   -0.469775\n",
       "33922   -0.450532\n",
       "33901   -0.450532\n",
       "33897    0.492334\n",
       "Name: Discount Price, dtype: float64"
      ]
     },
     "metadata": {},
     "output_type": "display_data"
    },
    {
     "name": "stdout",
     "output_type": "stream",
     "text": [
      "--------------------------------------------------\n",
      "\n",
      "--------------------------------------------------\n",
      "Debugging for parameter: 2016-01-01 00:00:00 | The Carlyle A Rosewood Hotel | 2\n",
      "Iteration Details:\n"
     ]
    },
    {
     "data": {
      "text/html": [
       "<div>\n",
       "<style scoped>\n",
       "    .dataframe tbody tr th:only-of-type {\n",
       "        vertical-align: middle;\n",
       "    }\n",
       "\n",
       "    .dataframe tbody tr th {\n",
       "        vertical-align: top;\n",
       "    }\n",
       "\n",
       "    .dataframe thead th {\n",
       "        text-align: right;\n",
       "    }\n",
       "</style>\n",
       "<table border=\"1\" class=\"dataframe\">\n",
       "  <thead>\n",
       "    <tr style=\"text-align: right;\">\n",
       "      <th></th>\n",
       "      <th>Iteration</th>\n",
       "      <th>Training Indices</th>\n",
       "      <th>Candidate Indices</th>\n",
       "      <th>Candidate Uncertainties</th>\n",
       "      <th>Max Uncertainty</th>\n",
       "      <th>Chosen Candidate</th>\n",
       "      <th>Current R²</th>\n",
       "    </tr>\n",
       "  </thead>\n",
       "  <tbody>\n",
       "    <tr>\n",
       "      <th>0</th>\n",
       "      <td>0</td>\n",
       "      <td>0, 12, 24</td>\n",
       "      <td>1, 2, 3, 4, 5, 6, 7, 8, 9, 10, 11, 13, 14, 15,...</td>\n",
       "      <td>[1.7197, 1.7105, 1.6657, 1.5603, 1.4536, 1.696...</td>\n",
       "      <td>1.7258</td>\n",
       "      <td>22</td>\n",
       "      <td>0.5663</td>\n",
       "    </tr>\n",
       "    <tr>\n",
       "      <th>1</th>\n",
       "      <td>1</td>\n",
       "      <td>0, 12, 22, 24</td>\n",
       "      <td>1, 2, 3, 4, 5, 6, 7, 8, 9, 10, 11, 13, 14, 15,...</td>\n",
       "      <td>[1.3455, 1.4951, 1.4895, 1.3863, 1.2809, 1.203...</td>\n",
       "      <td>1.4951</td>\n",
       "      <td>2</td>\n",
       "      <td>0.9053</td>\n",
       "    </tr>\n",
       "    <tr>\n",
       "      <th>2</th>\n",
       "      <td>2</td>\n",
       "      <td>0, 2, 12, 22, 24</td>\n",
       "      <td>1, 3, 4, 5, 6, 7, 8, 9, 10, 11, 13, 14, 15, 16...</td>\n",
       "      <td>[0.1778, 0.2171, 0.3489, 0.4957, 0.4859, 0.555...</td>\n",
       "      <td>0.6728</td>\n",
       "      <td>19</td>\n",
       "      <td>0.9821</td>\n",
       "    </tr>\n",
       "    <tr>\n",
       "      <th>3</th>\n",
       "      <td>3</td>\n",
       "      <td>0, 2, 12, 19, 22, 24</td>\n",
       "      <td>1, 3, 4, 5, 6, 7, 8, 9, 10, 11, 13, 14, 15, 16...</td>\n",
       "      <td>[0.1338, 0.1542, 0.2062, 0.2891, 0.3064, 0.340...</td>\n",
       "      <td>0.3619</td>\n",
       "      <td>20</td>\n",
       "      <td>0.9973</td>\n",
       "    </tr>\n",
       "    <tr>\n",
       "      <th>4</th>\n",
       "      <td>4</td>\n",
       "      <td>0, 2, 12, 19, 20, 22, 24</td>\n",
       "      <td>1, 3, 4, 5, 6, 7, 8, 9, 10, 11, 13, 14, 15, 16...</td>\n",
       "      <td>[0.1111, 0.1277, 0.1501, 0.1879, 0.1504, 0.156...</td>\n",
       "      <td>0.1879</td>\n",
       "      <td>5</td>\n",
       "      <td>0.9996</td>\n",
       "    </tr>\n",
       "    <tr>\n",
       "      <th>5</th>\n",
       "      <td>5</td>\n",
       "      <td>0, 2, 5, 12, 19, 20, 22, 24</td>\n",
       "      <td>1, 3, 4, 6, 7, 8, 9, 10, 11, 13, 14, 15, 16, 1...</td>\n",
       "      <td>[0.0962, 0.0863, 0.085, 0.1256, 0.1355, 0.1219...</td>\n",
       "      <td>0.1400</td>\n",
       "      <td>23</td>\n",
       "      <td>0.9997</td>\n",
       "    </tr>\n",
       "    <tr>\n",
       "      <th>6</th>\n",
       "      <td>6</td>\n",
       "      <td>0, 2, 5, 12, 19, 20, 22, 23, 24</td>\n",
       "      <td>1, 3, 4, 6, 7, 8, 9, 10, 11, 13, 14, 15, 16, 1...</td>\n",
       "      <td>[0.1177, 0.1064, 0.1055, 0.1501, 0.1625, 0.146...</td>\n",
       "      <td>0.1625</td>\n",
       "      <td>7</td>\n",
       "      <td>0.9996</td>\n",
       "    </tr>\n",
       "    <tr>\n",
       "      <th>7</th>\n",
       "      <td>7</td>\n",
       "      <td>0, 2, 5, 7, 12, 19, 20, 22, 23, 24</td>\n",
       "      <td>1, 3, 4, 6, 8, 9, 10, 11, 13, 14, 15, 16, 17, ...</td>\n",
       "      <td>[0.0963, 0.0958, 0.0993, 0.1115, 0.099, 0.1004...</td>\n",
       "      <td>0.1309</td>\n",
       "      <td>13</td>\n",
       "      <td>0.9999</td>\n",
       "    </tr>\n",
       "    <tr>\n",
       "      <th>8</th>\n",
       "      <td>8</td>\n",
       "      <td>0, 2, 5, 7, 12, 13, 19, 20, 22, 23, 24</td>\n",
       "      <td>1, 3, 4, 6, 8, 9, 10, 11, 14, 15, 16, 17, 18, 21</td>\n",
       "      <td>[0.0922, 0.091, 0.0946, 0.1043, 0.0942, 0.0959...</td>\n",
       "      <td>0.1043</td>\n",
       "      <td>6</td>\n",
       "      <td>0.9999</td>\n",
       "    </tr>\n",
       "    <tr>\n",
       "      <th>9</th>\n",
       "      <td>9</td>\n",
       "      <td>0, 2, 5, 6, 7, 12, 13, 19, 20, 22, 23, 24</td>\n",
       "      <td>1, 3, 4, 8, 9, 10, 11, 14, 15, 16, 17, 18, 21</td>\n",
       "      <td>[0.0814, 0.0861, 0.0906, 0.0847, 0.0816, 0.083...</td>\n",
       "      <td>0.0992</td>\n",
       "      <td>18</td>\n",
       "      <td>0.9999</td>\n",
       "    </tr>\n",
       "    <tr>\n",
       "      <th>10</th>\n",
       "      <td>10</td>\n",
       "      <td>0, 2, 5, 6, 7, 12, 13, 18, 19, 20, 22, 23, 24</td>\n",
       "      <td>1, 3, 4, 8, 9, 10, 11, 14, 15, 16, 17, 21</td>\n",
       "      <td>[0.0782, 0.0825, 0.0871, 0.0768, 0.0787, 0.070...</td>\n",
       "      <td>0.0871</td>\n",
       "      <td>4</td>\n",
       "      <td>0.9999</td>\n",
       "    </tr>\n",
       "    <tr>\n",
       "      <th>11</th>\n",
       "      <td>11</td>\n",
       "      <td>0, 2, 4, 5, 6, 7, 12, 13, 18, 19, 20, 22, 23, 24</td>\n",
       "      <td>1, 3, 8, 9, 10, 11, 14, 15, 16, 17, 21</td>\n",
       "      <td>[0.0702, 0.068, 0.0733, 0.0737, 0.0657, 0.0696...</td>\n",
       "      <td>0.0737</td>\n",
       "      <td>9</td>\n",
       "      <td>1.0000</td>\n",
       "    </tr>\n",
       "    <tr>\n",
       "      <th>12</th>\n",
       "      <td>12</td>\n",
       "      <td>0, 2, 4, 5, 6, 7, 9, 12, 13, 18, 19, 20, 22, 2...</td>\n",
       "      <td>1, 3, 8, 10, 11, 14, 15, 16, 17, 21</td>\n",
       "      <td>[0.0606, 0.0628, 0.07, 0.0633, 0.0667, 0.0621,...</td>\n",
       "      <td>0.0704</td>\n",
       "      <td>16</td>\n",
       "      <td>1.0000</td>\n",
       "    </tr>\n",
       "    <tr>\n",
       "      <th>13</th>\n",
       "      <td>13</td>\n",
       "      <td>0, 2, 4, 5, 6, 7, 9, 12, 13, 16, 18, 19, 20, 2...</td>\n",
       "      <td>1, 3, 8, 10, 11, 14, 15, 17, 21</td>\n",
       "      <td>[0.0581, 0.0603, 0.0617, 0.055, 0.0577, 0.0596...</td>\n",
       "      <td>0.0617</td>\n",
       "      <td>8</td>\n",
       "      <td>1.0000</td>\n",
       "    </tr>\n",
       "    <tr>\n",
       "      <th>14</th>\n",
       "      <td>14</td>\n",
       "      <td>0, 2, 4, 5, 6, 7, 8, 9, 12, 13, 16, 18, 19, 20...</td>\n",
       "      <td>1, 3, 10, 11, 14, 15, 17, 21</td>\n",
       "      <td>[0.0548, 0.0577, 0.0494, 0.0506, 0.0579, 0.051...</td>\n",
       "      <td>0.0579</td>\n",
       "      <td>14</td>\n",
       "      <td>1.0000</td>\n",
       "    </tr>\n",
       "  </tbody>\n",
       "</table>\n",
       "</div>"
      ],
      "text/plain": [
       "    Iteration                                   Training Indices  \\\n",
       "0           0                                          0, 12, 24   \n",
       "1           1                                      0, 12, 22, 24   \n",
       "2           2                                   0, 2, 12, 22, 24   \n",
       "3           3                               0, 2, 12, 19, 22, 24   \n",
       "4           4                           0, 2, 12, 19, 20, 22, 24   \n",
       "5           5                        0, 2, 5, 12, 19, 20, 22, 24   \n",
       "6           6                    0, 2, 5, 12, 19, 20, 22, 23, 24   \n",
       "7           7                 0, 2, 5, 7, 12, 19, 20, 22, 23, 24   \n",
       "8           8             0, 2, 5, 7, 12, 13, 19, 20, 22, 23, 24   \n",
       "9           9          0, 2, 5, 6, 7, 12, 13, 19, 20, 22, 23, 24   \n",
       "10         10      0, 2, 5, 6, 7, 12, 13, 18, 19, 20, 22, 23, 24   \n",
       "11         11   0, 2, 4, 5, 6, 7, 12, 13, 18, 19, 20, 22, 23, 24   \n",
       "12         12  0, 2, 4, 5, 6, 7, 9, 12, 13, 18, 19, 20, 22, 2...   \n",
       "13         13  0, 2, 4, 5, 6, 7, 9, 12, 13, 16, 18, 19, 20, 2...   \n",
       "14         14  0, 2, 4, 5, 6, 7, 8, 9, 12, 13, 16, 18, 19, 20...   \n",
       "\n",
       "                                    Candidate Indices  \\\n",
       "0   1, 2, 3, 4, 5, 6, 7, 8, 9, 10, 11, 13, 14, 15,...   \n",
       "1   1, 2, 3, 4, 5, 6, 7, 8, 9, 10, 11, 13, 14, 15,...   \n",
       "2   1, 3, 4, 5, 6, 7, 8, 9, 10, 11, 13, 14, 15, 16...   \n",
       "3   1, 3, 4, 5, 6, 7, 8, 9, 10, 11, 13, 14, 15, 16...   \n",
       "4   1, 3, 4, 5, 6, 7, 8, 9, 10, 11, 13, 14, 15, 16...   \n",
       "5   1, 3, 4, 6, 7, 8, 9, 10, 11, 13, 14, 15, 16, 1...   \n",
       "6   1, 3, 4, 6, 7, 8, 9, 10, 11, 13, 14, 15, 16, 1...   \n",
       "7   1, 3, 4, 6, 8, 9, 10, 11, 13, 14, 15, 16, 17, ...   \n",
       "8    1, 3, 4, 6, 8, 9, 10, 11, 14, 15, 16, 17, 18, 21   \n",
       "9       1, 3, 4, 8, 9, 10, 11, 14, 15, 16, 17, 18, 21   \n",
       "10          1, 3, 4, 8, 9, 10, 11, 14, 15, 16, 17, 21   \n",
       "11             1, 3, 8, 9, 10, 11, 14, 15, 16, 17, 21   \n",
       "12                1, 3, 8, 10, 11, 14, 15, 16, 17, 21   \n",
       "13                    1, 3, 8, 10, 11, 14, 15, 17, 21   \n",
       "14                       1, 3, 10, 11, 14, 15, 17, 21   \n",
       "\n",
       "                              Candidate Uncertainties  Max Uncertainty  \\\n",
       "0   [1.7197, 1.7105, 1.6657, 1.5603, 1.4536, 1.696...           1.7258   \n",
       "1   [1.3455, 1.4951, 1.4895, 1.3863, 1.2809, 1.203...           1.4951   \n",
       "2   [0.1778, 0.2171, 0.3489, 0.4957, 0.4859, 0.555...           0.6728   \n",
       "3   [0.1338, 0.1542, 0.2062, 0.2891, 0.3064, 0.340...           0.3619   \n",
       "4   [0.1111, 0.1277, 0.1501, 0.1879, 0.1504, 0.156...           0.1879   \n",
       "5   [0.0962, 0.0863, 0.085, 0.1256, 0.1355, 0.1219...           0.1400   \n",
       "6   [0.1177, 0.1064, 0.1055, 0.1501, 0.1625, 0.146...           0.1625   \n",
       "7   [0.0963, 0.0958, 0.0993, 0.1115, 0.099, 0.1004...           0.1309   \n",
       "8   [0.0922, 0.091, 0.0946, 0.1043, 0.0942, 0.0959...           0.1043   \n",
       "9   [0.0814, 0.0861, 0.0906, 0.0847, 0.0816, 0.083...           0.0992   \n",
       "10  [0.0782, 0.0825, 0.0871, 0.0768, 0.0787, 0.070...           0.0871   \n",
       "11  [0.0702, 0.068, 0.0733, 0.0737, 0.0657, 0.0696...           0.0737   \n",
       "12  [0.0606, 0.0628, 0.07, 0.0633, 0.0667, 0.0621,...           0.0704   \n",
       "13  [0.0581, 0.0603, 0.0617, 0.055, 0.0577, 0.0596...           0.0617   \n",
       "14  [0.0548, 0.0577, 0.0494, 0.0506, 0.0579, 0.051...           0.0579   \n",
       "\n",
       "    Chosen Candidate  Current R²  \n",
       "0                 22      0.5663  \n",
       "1                  2      0.9053  \n",
       "2                 19      0.9821  \n",
       "3                 20      0.9973  \n",
       "4                  5      0.9996  \n",
       "5                 23      0.9997  \n",
       "6                  7      0.9996  \n",
       "7                 13      0.9999  \n",
       "8                  6      0.9999  \n",
       "9                 18      0.9999  \n",
       "10                 4      0.9999  \n",
       "11                 9      1.0000  \n",
       "12                16      1.0000  \n",
       "13                 8      1.0000  \n",
       "14                14      1.0000  "
      ]
     },
     "metadata": {},
     "output_type": "display_data"
    },
    {
     "name": "stdout",
     "output_type": "stream",
     "text": [
      "\n",
      "Final Details:\n"
     ]
    },
    {
     "data": {
      "text/html": [
       "<div>\n",
       "<style scoped>\n",
       "    .dataframe tbody tr th:only-of-type {\n",
       "        vertical-align: middle;\n",
       "    }\n",
       "\n",
       "    .dataframe tbody tr th {\n",
       "        vertical-align: top;\n",
       "    }\n",
       "\n",
       "    .dataframe thead th {\n",
       "        text-align: right;\n",
       "    }\n",
       "</style>\n",
       "<table border=\"1\" class=\"dataframe\">\n",
       "  <thead>\n",
       "    <tr style=\"text-align: right;\">\n",
       "      <th></th>\n",
       "      <th>Final R²</th>\n",
       "      <th>Total Samples Used</th>\n",
       "    </tr>\n",
       "  </thead>\n",
       "  <tbody>\n",
       "    <tr>\n",
       "      <th>0</th>\n",
       "      <td>1.0</td>\n",
       "      <td>18</td>\n",
       "    </tr>\n",
       "  </tbody>\n",
       "</table>\n",
       "</div>"
      ],
      "text/plain": [
       "   Final R²  Total Samples Used\n",
       "0       1.0                  18"
      ]
     },
     "metadata": {},
     "output_type": "display_data"
    },
    {
     "name": "stdout",
     "output_type": "stream",
     "text": [
      "\n",
      "Final Training Data (first 10 rows):\n"
     ]
    },
    {
     "data": {
      "text/html": [
       "<div>\n",
       "<style scoped>\n",
       "    .dataframe tbody tr th:only-of-type {\n",
       "        vertical-align: middle;\n",
       "    }\n",
       "\n",
       "    .dataframe tbody tr th {\n",
       "        vertical-align: top;\n",
       "    }\n",
       "\n",
       "    .dataframe thead th {\n",
       "        text-align: right;\n",
       "    }\n",
       "</style>\n",
       "<table border=\"1\" class=\"dataframe\">\n",
       "  <thead>\n",
       "    <tr style=\"text-align: right;\">\n",
       "      <th></th>\n",
       "      <th>Original Price</th>\n",
       "      <th>Discount Code</th>\n",
       "      <th>Available Rooms</th>\n",
       "      <th>Hotel Stars</th>\n",
       "      <th>DayDiff</th>\n",
       "      <th>DiscountDiff</th>\n",
       "      <th>DiscountPerc</th>\n",
       "      <th>Checkin_Date_num</th>\n",
       "      <th>WeekDay_num</th>\n",
       "    </tr>\n",
       "  </thead>\n",
       "  <tbody>\n",
       "    <tr>\n",
       "      <th>175945</th>\n",
       "      <td>-0.294884</td>\n",
       "      <td>2</td>\n",
       "      <td>0.046575</td>\n",
       "      <td>5</td>\n",
       "      <td>-1.490549</td>\n",
       "      <td>-0.294884</td>\n",
       "      <td>0.0</td>\n",
       "      <td>-1.490549</td>\n",
       "      <td>5</td>\n",
       "    </tr>\n",
       "    <tr>\n",
       "      <th>175966</th>\n",
       "      <td>-0.294884</td>\n",
       "      <td>2</td>\n",
       "      <td>0.978068</td>\n",
       "      <td>5</td>\n",
       "      <td>1.309615</td>\n",
       "      <td>-0.294884</td>\n",
       "      <td>0.0</td>\n",
       "      <td>1.309615</td>\n",
       "      <td>3</td>\n",
       "    </tr>\n",
       "    <tr>\n",
       "      <th>175964</th>\n",
       "      <td>-0.294884</td>\n",
       "      <td>2</td>\n",
       "      <td>0.978068</td>\n",
       "      <td>5</td>\n",
       "      <td>1.094218</td>\n",
       "      <td>-0.294884</td>\n",
       "      <td>0.0</td>\n",
       "      <td>1.094218</td>\n",
       "      <td>1</td>\n",
       "    </tr>\n",
       "    <tr>\n",
       "      <th>175963</th>\n",
       "      <td>-0.294884</td>\n",
       "      <td>2</td>\n",
       "      <td>0.861631</td>\n",
       "      <td>5</td>\n",
       "      <td>0.986519</td>\n",
       "      <td>-0.294884</td>\n",
       "      <td>0.0</td>\n",
       "      <td>0.986519</td>\n",
       "      <td>0</td>\n",
       "    </tr>\n",
       "    <tr>\n",
       "      <th>175962</th>\n",
       "      <td>-0.294884</td>\n",
       "      <td>2</td>\n",
       "      <td>0.628758</td>\n",
       "      <td>5</td>\n",
       "      <td>0.878821</td>\n",
       "      <td>-0.294884</td>\n",
       "      <td>0.0</td>\n",
       "      <td>0.878821</td>\n",
       "      <td>6</td>\n",
       "    </tr>\n",
       "    <tr>\n",
       "      <th>175959</th>\n",
       "      <td>-0.294884</td>\n",
       "      <td>2</td>\n",
       "      <td>-0.652045</td>\n",
       "      <td>5</td>\n",
       "      <td>0.017232</td>\n",
       "      <td>-0.294884</td>\n",
       "      <td>0.0</td>\n",
       "      <td>0.017232</td>\n",
       "      <td>5</td>\n",
       "    </tr>\n",
       "    <tr>\n",
       "      <th>175958</th>\n",
       "      <td>-0.294884</td>\n",
       "      <td>2</td>\n",
       "      <td>-0.652045</td>\n",
       "      <td>5</td>\n",
       "      <td>-0.090467</td>\n",
       "      <td>-0.294884</td>\n",
       "      <td>0.0</td>\n",
       "      <td>-0.090467</td>\n",
       "      <td>4</td>\n",
       "    </tr>\n",
       "    <tr>\n",
       "      <th>175968</th>\n",
       "      <td>-0.294884</td>\n",
       "      <td>2</td>\n",
       "      <td>1.443814</td>\n",
       "      <td>5</td>\n",
       "      <td>1.525012</td>\n",
       "      <td>-0.294884</td>\n",
       "      <td>0.0</td>\n",
       "      <td>1.525012</td>\n",
       "      <td>5</td>\n",
       "    </tr>\n",
       "    <tr>\n",
       "      <th>175954</th>\n",
       "      <td>-0.294884</td>\n",
       "      <td>2</td>\n",
       "      <td>0.628758</td>\n",
       "      <td>5</td>\n",
       "      <td>-0.521261</td>\n",
       "      <td>-0.294884</td>\n",
       "      <td>0.0</td>\n",
       "      <td>-0.521261</td>\n",
       "      <td>0</td>\n",
       "    </tr>\n",
       "    <tr>\n",
       "      <th>175953</th>\n",
       "      <td>-0.294884</td>\n",
       "      <td>2</td>\n",
       "      <td>0.978068</td>\n",
       "      <td>5</td>\n",
       "      <td>-0.628960</td>\n",
       "      <td>-0.294884</td>\n",
       "      <td>0.0</td>\n",
       "      <td>-0.628960</td>\n",
       "      <td>6</td>\n",
       "    </tr>\n",
       "  </tbody>\n",
       "</table>\n",
       "</div>"
      ],
      "text/plain": [
       "        Original Price  Discount Code  Available Rooms  Hotel Stars   DayDiff  \\\n",
       "175945       -0.294884              2         0.046575            5 -1.490549   \n",
       "175966       -0.294884              2         0.978068            5  1.309615   \n",
       "175964       -0.294884              2         0.978068            5  1.094218   \n",
       "175963       -0.294884              2         0.861631            5  0.986519   \n",
       "175962       -0.294884              2         0.628758            5  0.878821   \n",
       "175959       -0.294884              2        -0.652045            5  0.017232   \n",
       "175958       -0.294884              2        -0.652045            5 -0.090467   \n",
       "175968       -0.294884              2         1.443814            5  1.525012   \n",
       "175954       -0.294884              2         0.628758            5 -0.521261   \n",
       "175953       -0.294884              2         0.978068            5 -0.628960   \n",
       "\n",
       "        DiscountDiff  DiscountPerc  Checkin_Date_num  WeekDay_num  \n",
       "175945     -0.294884           0.0         -1.490549            5  \n",
       "175966     -0.294884           0.0          1.309615            3  \n",
       "175964     -0.294884           0.0          1.094218            1  \n",
       "175963     -0.294884           0.0          0.986519            0  \n",
       "175962     -0.294884           0.0          0.878821            6  \n",
       "175959     -0.294884           0.0          0.017232            5  \n",
       "175958     -0.294884           0.0         -0.090467            4  \n",
       "175968     -0.294884           0.0          1.525012            5  \n",
       "175954     -0.294884           0.0         -0.521261            0  \n",
       "175953     -0.294884           0.0         -0.628960            6  "
      ]
     },
     "metadata": {},
     "output_type": "display_data"
    },
    {
     "name": "stdout",
     "output_type": "stream",
     "text": [
      "Final Training Target (first 10 rows):\n"
     ]
    },
    {
     "data": {
      "text/plain": [
       "175945   -0.294884\n",
       "175966   -0.294884\n",
       "175964   -0.294884\n",
       "175963   -0.294884\n",
       "175962   -0.294884\n",
       "175959   -0.294884\n",
       "175958   -0.294884\n",
       "175968   -0.294884\n",
       "175954   -0.294884\n",
       "175953   -0.294884\n",
       "Name: Discount Price, dtype: float64"
      ]
     },
     "metadata": {},
     "output_type": "display_data"
    },
    {
     "name": "stdout",
     "output_type": "stream",
     "text": [
      "--------------------------------------------------\n",
      "\n",
      "--------------------------------------------------\n",
      "Debugging for parameter: 2015-07-23 00:00:00 | Park Hyatt New York | 2\n"
     ]
    },
    {
     "name": "stderr",
     "output_type": "stream",
     "text": [
      "/opt/anaconda3/envs/DS-101-Final/lib/python3.12/site-packages/sklearn/gaussian_process/kernels.py:442: ConvergenceWarning: The optimal value found for dimension 0 of parameter k2__length_scale is close to the specified lower bound 0.01. Decreasing the bound and calling fit again may find a better value.\n",
      "  warnings.warn(\n"
     ]
    },
    {
     "name": "stdout",
     "output_type": "stream",
     "text": [
      "Iteration Details:\n"
     ]
    },
    {
     "data": {
      "text/html": [
       "<div>\n",
       "<style scoped>\n",
       "    .dataframe tbody tr th:only-of-type {\n",
       "        vertical-align: middle;\n",
       "    }\n",
       "\n",
       "    .dataframe tbody tr th {\n",
       "        vertical-align: top;\n",
       "    }\n",
       "\n",
       "    .dataframe thead th {\n",
       "        text-align: right;\n",
       "    }\n",
       "</style>\n",
       "<table border=\"1\" class=\"dataframe\">\n",
       "  <thead>\n",
       "    <tr style=\"text-align: right;\">\n",
       "      <th></th>\n",
       "      <th>Iteration</th>\n",
       "      <th>Training Indices</th>\n",
       "      <th>Candidate Indices</th>\n",
       "      <th>Candidate Uncertainties</th>\n",
       "      <th>Max Uncertainty</th>\n",
       "      <th>Chosen Candidate</th>\n",
       "      <th>Current R²</th>\n",
       "    </tr>\n",
       "  </thead>\n",
       "  <tbody>\n",
       "    <tr>\n",
       "      <th>0</th>\n",
       "      <td>0</td>\n",
       "      <td>0, 12, 23</td>\n",
       "      <td>1, 2, 3, 4, 5, 6, 7, 8, 9, 10, 11, 13, 14, 15,...</td>\n",
       "      <td>[0.1163, 1.1635, 1.1635, 1.1635, 1.1635, 1.163...</td>\n",
       "      <td>1.1635</td>\n",
       "      <td>2</td>\n",
       "      <td>0.2382</td>\n",
       "    </tr>\n",
       "    <tr>\n",
       "      <th>1</th>\n",
       "      <td>1</td>\n",
       "      <td>0, 2, 12, 23</td>\n",
       "      <td>1, 3, 4, 5, 6, 7, 8, 9, 10, 11, 13, 14, 15, 16...</td>\n",
       "      <td>[0.1159, 0.9343, 0.4711, 0.7756, 0.9343, 0.775...</td>\n",
       "      <td>1.1263</td>\n",
       "      <td>21</td>\n",
       "      <td>0.6792</td>\n",
       "    </tr>\n",
       "    <tr>\n",
       "      <th>2</th>\n",
       "      <td>2</td>\n",
       "      <td>0, 2, 12, 21, 23</td>\n",
       "      <td>1, 3, 4, 5, 6, 7, 8, 9, 10, 11, 13, 14, 15, 16...</td>\n",
       "      <td>[0.1233, 0.9499, 0.4709, 0.7814, 0.9499, 0.781...</td>\n",
       "      <td>1.0998</td>\n",
       "      <td>14</td>\n",
       "      <td>0.9355</td>\n",
       "    </tr>\n",
       "    <tr>\n",
       "      <th>3</th>\n",
       "      <td>3</td>\n",
       "      <td>0, 2, 12, 14, 21, 23</td>\n",
       "      <td>1, 3, 4, 5, 6, 7, 8, 9, 10, 11, 13, 15, 16, 17...</td>\n",
       "      <td>[0.1126, 0.7859, 0.3879, 0.6426, 0.7859, 0.642...</td>\n",
       "      <td>0.8902</td>\n",
       "      <td>10</td>\n",
       "      <td>0.9481</td>\n",
       "    </tr>\n",
       "    <tr>\n",
       "      <th>4</th>\n",
       "      <td>4</td>\n",
       "      <td>0, 2, 10, 12, 14, 21, 23</td>\n",
       "      <td>1, 3, 4, 5, 6, 7, 8, 9, 11, 13, 15, 16, 17, 18...</td>\n",
       "      <td>[0.1042, 0.1882, 0.1176, 0.1605, 0.1882, 0.160...</td>\n",
       "      <td>0.2110</td>\n",
       "      <td>15</td>\n",
       "      <td>0.9972</td>\n",
       "    </tr>\n",
       "    <tr>\n",
       "      <th>5</th>\n",
       "      <td>5</td>\n",
       "      <td>0, 2, 10, 12, 14, 15, 21, 23</td>\n",
       "      <td>1, 3, 4, 5, 6, 7, 8, 9, 11, 13, 16, 17, 18, 19...</td>\n",
       "      <td>[0.0976, 0.1234, 0.098, 0.1179, 0.1234, 0.1179...</td>\n",
       "      <td>0.1234</td>\n",
       "      <td>3</td>\n",
       "      <td>0.9998</td>\n",
       "    </tr>\n",
       "    <tr>\n",
       "      <th>6</th>\n",
       "      <td>6</td>\n",
       "      <td>0, 2, 3, 10, 12, 14, 15, 21, 23</td>\n",
       "      <td>1, 4, 5, 6, 7, 8, 9, 11, 13, 16, 17, 18, 19, 2...</td>\n",
       "      <td>[0.0948, 0.0836, 0.0847, 0.0749, 0.0847, 0.087...</td>\n",
       "      <td>0.1118</td>\n",
       "      <td>13</td>\n",
       "      <td>0.9997</td>\n",
       "    </tr>\n",
       "    <tr>\n",
       "      <th>7</th>\n",
       "      <td>7</td>\n",
       "      <td>0, 2, 3, 10, 12, 13, 14, 15, 21, 23</td>\n",
       "      <td>1, 4, 5, 6, 7, 8, 9, 11, 16, 17, 18, 19, 20, 22</td>\n",
       "      <td>[0.0896, 0.0794, 0.08, 0.0693, 0.08, 0.0827, 0...</td>\n",
       "      <td>0.0896</td>\n",
       "      <td>1</td>\n",
       "      <td>0.9998</td>\n",
       "    </tr>\n",
       "    <tr>\n",
       "      <th>8</th>\n",
       "      <td>8</td>\n",
       "      <td>0, 1, 2, 3, 10, 12, 13, 14, 15, 21, 23</td>\n",
       "      <td>4, 5, 6, 7, 8, 9, 11, 16, 17, 18, 19, 20, 22</td>\n",
       "      <td>[0.0637, 0.0717, 0.0691, 0.0717, 0.0852, 0.063...</td>\n",
       "      <td>0.0919</td>\n",
       "      <td>20</td>\n",
       "      <td>0.9998</td>\n",
       "    </tr>\n",
       "    <tr>\n",
       "      <th>9</th>\n",
       "      <td>9</td>\n",
       "      <td>0, 1, 2, 3, 10, 12, 13, 14, 15, 20, 21, 23</td>\n",
       "      <td>4, 5, 6, 7, 8, 9, 11, 16, 17, 18, 19, 22</td>\n",
       "      <td>[0.0667, 0.0746, 0.0719, 0.0746, 0.0888, 0.066...</td>\n",
       "      <td>0.0953</td>\n",
       "      <td>22</td>\n",
       "      <td>0.9998</td>\n",
       "    </tr>\n",
       "    <tr>\n",
       "      <th>10</th>\n",
       "      <td>10</td>\n",
       "      <td>0, 1, 2, 3, 10, 12, 13, 14, 15, 20, 21, 22, 23</td>\n",
       "      <td>4, 5, 6, 7, 8, 9, 11, 16, 17, 18, 19</td>\n",
       "      <td>[0.0684, 0.0756, 0.0725, 0.0756, 0.0907, 0.068...</td>\n",
       "      <td>0.0924</td>\n",
       "      <td>11</td>\n",
       "      <td>0.9997</td>\n",
       "    </tr>\n",
       "    <tr>\n",
       "      <th>11</th>\n",
       "      <td>11</td>\n",
       "      <td>0, 1, 2, 3, 10, 11, 12, 13, 14, 15, 20, 21, 22...</td>\n",
       "      <td>4, 5, 6, 7, 8, 9, 16, 17, 18, 19</td>\n",
       "      <td>[0.066, 0.0728, 0.0693, 0.0728, 0.0857, 0.066,...</td>\n",
       "      <td>0.0857</td>\n",
       "      <td>8</td>\n",
       "      <td>0.9998</td>\n",
       "    </tr>\n",
       "    <tr>\n",
       "      <th>12</th>\n",
       "      <td>12</td>\n",
       "      <td>0, 1, 2, 3, 8, 10, 11, 12, 13, 14, 15, 20, 21,...</td>\n",
       "      <td>4, 5, 6, 7, 9, 16, 17, 18, 19</td>\n",
       "      <td>[0.0666, 0.0733, 0.0681, 0.0733, 0.0666, 0.084...</td>\n",
       "      <td>0.0842</td>\n",
       "      <td>16</td>\n",
       "      <td>0.9998</td>\n",
       "    </tr>\n",
       "    <tr>\n",
       "      <th>13</th>\n",
       "      <td>13</td>\n",
       "      <td>0, 1, 2, 3, 8, 10, 11, 12, 13, 14, 15, 16, 20,...</td>\n",
       "      <td>4, 5, 6, 7, 9, 17, 18, 19</td>\n",
       "      <td>[0.0645, 0.0707, 0.0652, 0.0707, 0.0645, 0.079...</td>\n",
       "      <td>0.0797</td>\n",
       "      <td>17</td>\n",
       "      <td>0.9999</td>\n",
       "    </tr>\n",
       "    <tr>\n",
       "      <th>14</th>\n",
       "      <td>14</td>\n",
       "      <td>0, 1, 2, 3, 8, 10, 11, 12, 13, 14, 15, 16, 17,...</td>\n",
       "      <td>4, 5, 6, 7, 9, 18, 19</td>\n",
       "      <td>[0.0622, 0.0665, 0.0613, 0.0665, 0.0622, 0.051...</td>\n",
       "      <td>0.0665</td>\n",
       "      <td>5</td>\n",
       "      <td>0.9999</td>\n",
       "    </tr>\n",
       "  </tbody>\n",
       "</table>\n",
       "</div>"
      ],
      "text/plain": [
       "    Iteration                                   Training Indices  \\\n",
       "0           0                                          0, 12, 23   \n",
       "1           1                                       0, 2, 12, 23   \n",
       "2           2                                   0, 2, 12, 21, 23   \n",
       "3           3                               0, 2, 12, 14, 21, 23   \n",
       "4           4                           0, 2, 10, 12, 14, 21, 23   \n",
       "5           5                       0, 2, 10, 12, 14, 15, 21, 23   \n",
       "6           6                    0, 2, 3, 10, 12, 14, 15, 21, 23   \n",
       "7           7                0, 2, 3, 10, 12, 13, 14, 15, 21, 23   \n",
       "8           8             0, 1, 2, 3, 10, 12, 13, 14, 15, 21, 23   \n",
       "9           9         0, 1, 2, 3, 10, 12, 13, 14, 15, 20, 21, 23   \n",
       "10         10     0, 1, 2, 3, 10, 12, 13, 14, 15, 20, 21, 22, 23   \n",
       "11         11  0, 1, 2, 3, 10, 11, 12, 13, 14, 15, 20, 21, 22...   \n",
       "12         12  0, 1, 2, 3, 8, 10, 11, 12, 13, 14, 15, 20, 21,...   \n",
       "13         13  0, 1, 2, 3, 8, 10, 11, 12, 13, 14, 15, 16, 20,...   \n",
       "14         14  0, 1, 2, 3, 8, 10, 11, 12, 13, 14, 15, 16, 17,...   \n",
       "\n",
       "                                    Candidate Indices  \\\n",
       "0   1, 2, 3, 4, 5, 6, 7, 8, 9, 10, 11, 13, 14, 15,...   \n",
       "1   1, 3, 4, 5, 6, 7, 8, 9, 10, 11, 13, 14, 15, 16...   \n",
       "2   1, 3, 4, 5, 6, 7, 8, 9, 10, 11, 13, 14, 15, 16...   \n",
       "3   1, 3, 4, 5, 6, 7, 8, 9, 10, 11, 13, 15, 16, 17...   \n",
       "4   1, 3, 4, 5, 6, 7, 8, 9, 11, 13, 15, 16, 17, 18...   \n",
       "5   1, 3, 4, 5, 6, 7, 8, 9, 11, 13, 16, 17, 18, 19...   \n",
       "6   1, 4, 5, 6, 7, 8, 9, 11, 13, 16, 17, 18, 19, 2...   \n",
       "7     1, 4, 5, 6, 7, 8, 9, 11, 16, 17, 18, 19, 20, 22   \n",
       "8        4, 5, 6, 7, 8, 9, 11, 16, 17, 18, 19, 20, 22   \n",
       "9            4, 5, 6, 7, 8, 9, 11, 16, 17, 18, 19, 22   \n",
       "10               4, 5, 6, 7, 8, 9, 11, 16, 17, 18, 19   \n",
       "11                   4, 5, 6, 7, 8, 9, 16, 17, 18, 19   \n",
       "12                      4, 5, 6, 7, 9, 16, 17, 18, 19   \n",
       "13                          4, 5, 6, 7, 9, 17, 18, 19   \n",
       "14                              4, 5, 6, 7, 9, 18, 19   \n",
       "\n",
       "                              Candidate Uncertainties  Max Uncertainty  \\\n",
       "0   [0.1163, 1.1635, 1.1635, 1.1635, 1.1635, 1.163...           1.1635   \n",
       "1   [0.1159, 0.9343, 0.4711, 0.7756, 0.9343, 0.775...           1.1263   \n",
       "2   [0.1233, 0.9499, 0.4709, 0.7814, 0.9499, 0.781...           1.0998   \n",
       "3   [0.1126, 0.7859, 0.3879, 0.6426, 0.7859, 0.642...           0.8902   \n",
       "4   [0.1042, 0.1882, 0.1176, 0.1605, 0.1882, 0.160...           0.2110   \n",
       "5   [0.0976, 0.1234, 0.098, 0.1179, 0.1234, 0.1179...           0.1234   \n",
       "6   [0.0948, 0.0836, 0.0847, 0.0749, 0.0847, 0.087...           0.1118   \n",
       "7   [0.0896, 0.0794, 0.08, 0.0693, 0.08, 0.0827, 0...           0.0896   \n",
       "8   [0.0637, 0.0717, 0.0691, 0.0717, 0.0852, 0.063...           0.0919   \n",
       "9   [0.0667, 0.0746, 0.0719, 0.0746, 0.0888, 0.066...           0.0953   \n",
       "10  [0.0684, 0.0756, 0.0725, 0.0756, 0.0907, 0.068...           0.0924   \n",
       "11  [0.066, 0.0728, 0.0693, 0.0728, 0.0857, 0.066,...           0.0857   \n",
       "12  [0.0666, 0.0733, 0.0681, 0.0733, 0.0666, 0.084...           0.0842   \n",
       "13  [0.0645, 0.0707, 0.0652, 0.0707, 0.0645, 0.079...           0.0797   \n",
       "14  [0.0622, 0.0665, 0.0613, 0.0665, 0.0622, 0.051...           0.0665   \n",
       "\n",
       "    Chosen Candidate  Current R²  \n",
       "0                  2      0.2382  \n",
       "1                 21      0.6792  \n",
       "2                 14      0.9355  \n",
       "3                 10      0.9481  \n",
       "4                 15      0.9972  \n",
       "5                  3      0.9998  \n",
       "6                 13      0.9997  \n",
       "7                  1      0.9998  \n",
       "8                 20      0.9998  \n",
       "9                 22      0.9998  \n",
       "10                11      0.9997  \n",
       "11                 8      0.9998  \n",
       "12                16      0.9998  \n",
       "13                17      0.9999  \n",
       "14                 5      0.9999  "
      ]
     },
     "metadata": {},
     "output_type": "display_data"
    },
    {
     "name": "stdout",
     "output_type": "stream",
     "text": [
      "\n",
      "Final Details:\n"
     ]
    },
    {
     "data": {
      "text/html": [
       "<div>\n",
       "<style scoped>\n",
       "    .dataframe tbody tr th:only-of-type {\n",
       "        vertical-align: middle;\n",
       "    }\n",
       "\n",
       "    .dataframe tbody tr th {\n",
       "        vertical-align: top;\n",
       "    }\n",
       "\n",
       "    .dataframe thead th {\n",
       "        text-align: right;\n",
       "    }\n",
       "</style>\n",
       "<table border=\"1\" class=\"dataframe\">\n",
       "  <thead>\n",
       "    <tr style=\"text-align: right;\">\n",
       "      <th></th>\n",
       "      <th>Final R²</th>\n",
       "      <th>Total Samples Used</th>\n",
       "    </tr>\n",
       "  </thead>\n",
       "  <tbody>\n",
       "    <tr>\n",
       "      <th>0</th>\n",
       "      <td>0.9999</td>\n",
       "      <td>18</td>\n",
       "    </tr>\n",
       "  </tbody>\n",
       "</table>\n",
       "</div>"
      ],
      "text/plain": [
       "   Final R²  Total Samples Used\n",
       "0    0.9999                  18"
      ]
     },
     "metadata": {},
     "output_type": "display_data"
    },
    {
     "name": "stdout",
     "output_type": "stream",
     "text": [
      "\n",
      "Final Training Data (first 10 rows):\n"
     ]
    },
    {
     "data": {
      "text/html": [
       "<div>\n",
       "<style scoped>\n",
       "    .dataframe tbody tr th:only-of-type {\n",
       "        vertical-align: middle;\n",
       "    }\n",
       "\n",
       "    .dataframe tbody tr th {\n",
       "        vertical-align: top;\n",
       "    }\n",
       "\n",
       "    .dataframe thead th {\n",
       "        text-align: right;\n",
       "    }\n",
       "</style>\n",
       "<table border=\"1\" class=\"dataframe\">\n",
       "  <thead>\n",
       "    <tr style=\"text-align: right;\">\n",
       "      <th></th>\n",
       "      <th>Original Price</th>\n",
       "      <th>Discount Code</th>\n",
       "      <th>Available Rooms</th>\n",
       "      <th>Hotel Stars</th>\n",
       "      <th>DayDiff</th>\n",
       "      <th>DiscountDiff</th>\n",
       "      <th>DiscountPerc</th>\n",
       "      <th>Checkin_Date_num</th>\n",
       "      <th>WeekDay_num</th>\n",
       "    </tr>\n",
       "  </thead>\n",
       "  <tbody>\n",
       "    <tr>\n",
       "      <th>14674</th>\n",
       "      <td>-0.577350</td>\n",
       "      <td>2</td>\n",
       "      <td>0.894789</td>\n",
       "      <td>5</td>\n",
       "      <td>-0.740191</td>\n",
       "      <td>1.153536</td>\n",
       "      <td>1.181866</td>\n",
       "      <td>-0.740191</td>\n",
       "      <td>2</td>\n",
       "    </tr>\n",
       "    <tr>\n",
       "      <th>23123</th>\n",
       "      <td>-0.577350</td>\n",
       "      <td>2</td>\n",
       "      <td>0.894789</td>\n",
       "      <td>5</td>\n",
       "      <td>-0.740191</td>\n",
       "      <td>1.153536</td>\n",
       "      <td>1.181866</td>\n",
       "      <td>-0.740191</td>\n",
       "      <td>2</td>\n",
       "    </tr>\n",
       "    <tr>\n",
       "      <th>23128</th>\n",
       "      <td>-0.577350</td>\n",
       "      <td>2</td>\n",
       "      <td>-0.308821</td>\n",
       "      <td>5</td>\n",
       "      <td>0.893334</td>\n",
       "      <td>0.941229</td>\n",
       "      <td>0.970605</td>\n",
       "      <td>0.893334</td>\n",
       "      <td>3</td>\n",
       "    </tr>\n",
       "    <tr>\n",
       "      <th>23126</th>\n",
       "      <td>-0.577350</td>\n",
       "      <td>2</td>\n",
       "      <td>0.324658</td>\n",
       "      <td>5</td>\n",
       "      <td>-0.127619</td>\n",
       "      <td>0.941229</td>\n",
       "      <td>0.970605</td>\n",
       "      <td>-0.127619</td>\n",
       "      <td>5</td>\n",
       "    </tr>\n",
       "    <tr>\n",
       "      <th>14676</th>\n",
       "      <td>-0.577350</td>\n",
       "      <td>2</td>\n",
       "      <td>0.894789</td>\n",
       "      <td>5</td>\n",
       "      <td>-0.331810</td>\n",
       "      <td>0.941229</td>\n",
       "      <td>0.970605</td>\n",
       "      <td>-0.331810</td>\n",
       "      <td>4</td>\n",
       "    </tr>\n",
       "    <tr>\n",
       "      <th>14679</th>\n",
       "      <td>-0.577350</td>\n",
       "      <td>2</td>\n",
       "      <td>-0.308821</td>\n",
       "      <td>5</td>\n",
       "      <td>0.893334</td>\n",
       "      <td>0.941229</td>\n",
       "      <td>0.970605</td>\n",
       "      <td>0.893334</td>\n",
       "      <td>3</td>\n",
       "    </tr>\n",
       "    <tr>\n",
       "      <th>14673</th>\n",
       "      <td>1.732051</td>\n",
       "      <td>2</td>\n",
       "      <td>-1.575779</td>\n",
       "      <td>5</td>\n",
       "      <td>-0.944382</td>\n",
       "      <td>1.068613</td>\n",
       "      <td>0.911831</td>\n",
       "      <td>-0.944382</td>\n",
       "      <td>1</td>\n",
       "    </tr>\n",
       "    <tr>\n",
       "      <th>23122</th>\n",
       "      <td>1.732051</td>\n",
       "      <td>2</td>\n",
       "      <td>-1.575779</td>\n",
       "      <td>5</td>\n",
       "      <td>-0.944382</td>\n",
       "      <td>1.068613</td>\n",
       "      <td>0.911831</td>\n",
       "      <td>-0.944382</td>\n",
       "      <td>1</td>\n",
       "    </tr>\n",
       "    <tr>\n",
       "      <th>14682</th>\n",
       "      <td>-0.577350</td>\n",
       "      <td>2</td>\n",
       "      <td>0.958137</td>\n",
       "      <td>5</td>\n",
       "      <td>1.914287</td>\n",
       "      <td>-0.969536</td>\n",
       "      <td>-0.930745</td>\n",
       "      <td>1.914287</td>\n",
       "      <td>1</td>\n",
       "    </tr>\n",
       "    <tr>\n",
       "      <th>23131</th>\n",
       "      <td>-0.577350</td>\n",
       "      <td>2</td>\n",
       "      <td>0.894789</td>\n",
       "      <td>5</td>\n",
       "      <td>1.710096</td>\n",
       "      <td>-0.969536</td>\n",
       "      <td>-0.930745</td>\n",
       "      <td>1.710096</td>\n",
       "      <td>0</td>\n",
       "    </tr>\n",
       "  </tbody>\n",
       "</table>\n",
       "</div>"
      ],
      "text/plain": [
       "       Original Price  Discount Code  Available Rooms  Hotel Stars   DayDiff  \\\n",
       "14674       -0.577350              2         0.894789            5 -0.740191   \n",
       "23123       -0.577350              2         0.894789            5 -0.740191   \n",
       "23128       -0.577350              2        -0.308821            5  0.893334   \n",
       "23126       -0.577350              2         0.324658            5 -0.127619   \n",
       "14676       -0.577350              2         0.894789            5 -0.331810   \n",
       "14679       -0.577350              2        -0.308821            5  0.893334   \n",
       "14673        1.732051              2        -1.575779            5 -0.944382   \n",
       "23122        1.732051              2        -1.575779            5 -0.944382   \n",
       "14682       -0.577350              2         0.958137            5  1.914287   \n",
       "23131       -0.577350              2         0.894789            5  1.710096   \n",
       "\n",
       "       DiscountDiff  DiscountPerc  Checkin_Date_num  WeekDay_num  \n",
       "14674      1.153536      1.181866         -0.740191            2  \n",
       "23123      1.153536      1.181866         -0.740191            2  \n",
       "23128      0.941229      0.970605          0.893334            3  \n",
       "23126      0.941229      0.970605         -0.127619            5  \n",
       "14676      0.941229      0.970605         -0.331810            4  \n",
       "14679      0.941229      0.970605          0.893334            3  \n",
       "14673      1.068613      0.911831         -0.944382            1  \n",
       "23122      1.068613      0.911831         -0.944382            1  \n",
       "14682     -0.969536     -0.930745          1.914287            1  \n",
       "23131     -0.969536     -0.930745          1.710096            0  "
      ]
     },
     "metadata": {},
     "output_type": "display_data"
    },
    {
     "name": "stdout",
     "output_type": "stream",
     "text": [
      "Final Training Target (first 10 rows):\n"
     ]
    },
    {
     "data": {
      "text/plain": [
       "14674   -1.181530\n",
       "23123   -1.181530\n",
       "23128   -1.016185\n",
       "23126   -1.016185\n",
       "14676   -1.016185\n",
       "14679   -1.016185\n",
       "14673    0.017223\n",
       "23122    0.017223\n",
       "14682    0.471923\n",
       "23131    0.471923\n",
       "Name: Discount Price, dtype: float64"
      ]
     },
     "metadata": {},
     "output_type": "display_data"
    },
    {
     "name": "stdout",
     "output_type": "stream",
     "text": [
      "--------------------------------------------------\n",
      "\n"
     ]
    }
   ],
   "source": [
    "def active_sampling_loop_debug_table(X, y, max_iterations=10, uncertainty_threshold=0.05, initial_sample_indices=None):\n",
    "    n_samples = X.shape[0]\n",
    "    if initial_sample_indices is None:\n",
    "        initial_sample_indices = [0, n_samples // 2, n_samples - 1]\n",
    "    \n",
    "    training_indices = set(initial_sample_indices)\n",
    "    candidate_indices = set(range(n_samples)) - training_indices\n",
    "    iteration_log = []\n",
    "    \n",
    "    for iteration in range(max_iterations):\n",
    "        X_train = X.iloc[sorted(list(training_indices))]\n",
    "        y_train = y.iloc[sorted(list(training_indices))]\n",
    "\n",
    "        model = initialize_model()\n",
    "        model.fit(X_train, y_train)\n",
    "        \n",
    "        candidate_list = sorted(list(candidate_indices))\n",
    "        X_candidates = X.iloc[candidate_list]\n",
    "        y_pred_candidates, std_candidates = model.predict(X_candidates, return_std=True)\n",
    "        \n",
    "        max_std = np.max(std_candidates)\n",
    "        chosen_candidate_idx = candidate_list[np.argmax(std_candidates)]\n",
    "        \n",
    "        y_pred_full = model.predict(X)\n",
    "        current_r2 = r2_score(y, y_pred_full)\n",
    "        \n",
    "        iteration_details = {\n",
    "            \"Iteration\": iteration,\n",
    "            \"Training Indices\": \", \".join(map(str, sorted(training_indices))),\n",
    "            \"Candidate Indices\": \", \".join(map(str, sorted(candidate_indices))),\n",
    "            \"Candidate Uncertainties\": str(np.round(std_candidates, 4).tolist()),\n",
    "            \"Max Uncertainty\": round(max_std, 4),\n",
    "            \"Chosen Candidate\": chosen_candidate_idx,\n",
    "            \"Current R²\": round(current_r2, 4)\n",
    "        }\n",
    "        iteration_log.append(iteration_details)\n",
    "        \n",
    "        if max_std < uncertainty_threshold:\n",
    "            break\n",
    "        \n",
    "        training_indices.add(chosen_candidate_idx)\n",
    "        candidate_indices.remove(chosen_candidate_idx)\n",
    "    \n",
    "    X_final = X.iloc[sorted(list(training_indices))]\n",
    "    y_final = y.iloc[sorted(list(training_indices))]\n",
    "    final_model = initialize_model()\n",
    "    final_model.fit(X_final, y_final)\n",
    "    final_predictions = final_model.predict(X)\n",
    "    final_r2 = r2_score(y, final_predictions)\n",
    "    \n",
    "    final_details = {\n",
    "        \"Final R²\": round(final_r2, 4),\n",
    "        \"Total Samples Used\": len(training_indices)\n",
    "    }\n",
    "    \n",
    "    print(\"Iteration Details:\")\n",
    "    display(pd.DataFrame(iteration_log))\n",
    "    print(\"\\nFinal Details:\")\n",
    "    display(pd.DataFrame([final_details]))\n",
    "    \n",
    "    print(\"\\nFinal Training Data (first 10 rows):\")\n",
    "    display(X_final.head(10))\n",
    "    print(\"Final Training Target (first 10 rows):\")\n",
    "    display(y_final.head(10))\n",
    "    \n",
    "    return {\n",
    "        'final_model': final_model,\n",
    "        'final_predictions': final_predictions,\n",
    "        'final_r2': final_r2,\n",
    "        'iteration_log': iteration_log,\n",
    "        'total_samples_used': len(training_indices)\n",
    "    }\n",
    "\n",
    "# Debug the basic loop for selected parameters from the suspected outlier group.\n",
    "params_to_debug = [params_mostData[9], params_mostData[21], params_mostData[29]]\n",
    "\n",
    "for param in params_to_debug:\n",
    "    print(\"--------------------------------------------------\")\n",
    "    print(f\"Debugging for parameter: {param['Snapshot Date']} | {param['Hotel Name']} | {param['Discount Code']}\")\n",
    "    X_debug, y_debug, scaler, reverse_scaling = prepare_training_data(param, data_filtered)\n",
    "    result_debug = active_sampling_loop_debug_table(X_debug, y_debug, max_iterations=15, uncertainty_threshold=0.05)\n",
    "    print(\"--------------------------------------------------\\n\")\n"
   ]
  },
  {
   "cell_type": "markdown",
   "metadata": {},
   "source": [
    "**Analysis and Improvements: Understanding R² and Model Behavior**\n",
    "\n",
    " **What We Found**\n",
    "- **Initial Sample Homogeneity:**  \n",
    "  We observed that the three initial samples (selected using indices `[0, n_samples // 2, n_samples - 1]`) in out outliers cased often turn out to be very similar. having the same discount price. \n",
    "  - This causes the model to quickly learn a prediction near initial indices discount price.\n",
    "\n",
    " **A Reminder About R²**\n",
    "- **R² (Coefficient of Determination):**  \n",
    "  Measures how well the model explains the variance in the target variable.\n",
    "  - **R² ≈ 1:** The model explains nearly all the variability.\n",
    "  - **R² ≈ 0:** The model performs no better than simply predicting the mean.\n",
    "  - **Negative R²:** The model performs worse than predicting the mean.\n",
    "\n",
    " **Illustrative Examples**\n",
    "1. **Example 1:** `[1, 3, 5, 7, 1, 8, 4, 7, 1]`\n",
    "   - **Average Calculation:**  \n",
    "     Sum = 37, Average ≈ 4.11  \n",
    "   - **Scenario:**  \n",
    "     If the model starts with three initial samples that are all `1`, it learns that the target is about 1.  \n",
    "     However, because the overall average is 4.11, predicting 1 is far off, resulting in a very poor model fit (negative R²).\n",
    "\n",
    "2. **Example 2:** `[1, 1, 1, 1, 1, 1, 1, 3, 1]`\n",
    "   - **Average Calculation:**  \n",
    "     Sum = 11, Average ≈ 1.22  \n",
    "   - **Scenario:**  \n",
    "     If the model again starts with three `1`s, it learns that the target is about 1.  \n",
    "     Here, because the overall average is close to 1 (1.22), the prediction is nearly as good as the average, leading to an R² close to 0.\n",
    "\n",
    "These examples illustrate that when initial samples are too similar, the model essentially learns to predict a single value—its prediction is then almost equivalent to the mean, causing R² to be very low or even negative.\n",
    "\n",
    " **How to Improve the Model**\n",
    "**Potential Strategies:**\n",
    "- **Quantile-Based (Sorted) Sampling:**  \n",
    "  - *Pros:* Ensures that the initial samples cover the full range of discount prices.\n",
    "  - *Cons:* Requires additional preprocessing to determine quantile indices. im most cases this would lead to a trade of with sampling amount.\n",
    "- **Increasing the Initial Sample Count:**  \n",
    "  - *Pros:* Captures more variability by starting with more diverse data points.\n",
    "  - *Cons:* Increases computational cost in early iterations + may not solve the problem in all cases (see example 2).\n",
    "- **Random or Stratified Sampling:**  \n",
    "  - *Pros:* Reduces bias and ensures different segments of the data are represented.\n",
    "  - *Cons:* May yield inconsistent results unless a fixed random seed is used + may not solve the problem in all cases (see example 2).\n",
    "\n",
    "**Current Approach:**  \n",
    "We currently sort the sub-dataset by discount price so that the initial samples are drawn from different parts of the distribution. However, when the data are naturally homogeneous, this method may still select very similar points.\n",
    "\n",
    " **Summary**\n",
    "When the initial sample points are too similar, the model essentially learns to predict a value near the average, leading to an R² near 0 or even negative scores. In contrast, a more diverse set of initial samples could improve the model’s ability to capture the data’s variability. Our next steps will focus on refining the sampling strategy—possibly using quantile-based or stratified sampling—and exploring a higher minimum sample threshold to achieve better model performance.\n"
   ]
  },
  {
   "cell_type": "markdown",
   "metadata": {},
   "source": [
    "##### "
   ]
  },
  {
   "cell_type": "markdown",
   "metadata": {},
   "source": [
    "### Sorting the data and visualizing the results"
   ]
  },
  {
   "cell_type": "markdown",
   "metadata": {},
   "source": [
    "I add the sort option to `prepare_training_data`, if sort=true the data will be sorted by discount price.\n",
    "```py\n",
    "\n",
    "if sorted:\n",
    "        normalized = normalized.sort_values(by=\"Discount Price\")\n",
    "\n",
    "```\n",
    "\n",
    "and added the same option to `run_active_sampling_stagnant` and `run_active_sampling_basic`.\n",
    "\n",
    "lets see the result."
   ]
  },
  {
   "cell_type": "code",
   "execution_count": 25,
   "metadata": {},
   "outputs": [
    {
     "name": "stderr",
     "output_type": "stream",
     "text": [
      "Running basic active sampling: 100%|██████████| 40/40 [00:37<00:00,  1.07it/s]\n"
     ]
    },
    {
     "data": {
      "image/png": "[encoded data removed]",
      "text/plain": [
       "<Figure size 1800x600 with 3 Axes>"
      ]
     },
     "metadata": {},
     "output_type": "display_data"
    },
    {
     "name": "stdout",
     "output_type": "stream",
     "text": [
      "Average Final R²: 0.9999\n",
      "Average Samples Used: 17.98\n",
      "Average Data Utilization: 67.82%\n"
     ]
    }
   ],
   "source": [
    "results_basic = run_active_sampling_basic(params_mostData, data_filtered, sort=True, verbose=False, **basic_hyperparams)\n",
    "visualize_aggregated_results(results_basic, \"Basic - sorted\", basic_hyperparams)"
   ]
  },
  {
   "cell_type": "code",
   "execution_count": 26,
   "metadata": {},
   "outputs": [
    {
     "name": "stderr",
     "output_type": "stream",
     "text": [
      "Running stagnant active sampling: 100%|██████████| 40/40 [00:23<00:00,  1.71it/s]\n"
     ]
    },
    {
     "data": {
      "image/png": "[encoded data removed]",
      "text/plain": [
       "<Figure size 1800x600 with 3 Axes>"
      ]
     },
     "metadata": {},
     "output_type": "display_data"
    },
    {
     "name": "stdout",
     "output_type": "stream",
     "text": [
      "Average Final R²: 0.9998\n",
      "Average Samples Used: 12.80\n",
      "Average Data Utilization: 48.33%\n"
     ]
    }
   ],
   "source": [
    "results_stagnant = run_active_sampling_stagnant(params_mostData, data_filtered, sort=True ,verbose=False, **stagnant_hyperparams)\n",
    "visualize_aggregated_results(results_stagnant, \"Stagnant - sorted\", stagnant_hyperparams)"
   ]
  },
  {
   "cell_type": "markdown",
   "metadata": {},
   "source": [
    "![Basic results](./images/step4-basic-sorted-Result(pre-tuning).png)\n",
    "![stagnat results](./images/step4-stagnat-sorted-Result(pre-tuning).png)\n",
    "\n",
    "**Wow!** This improvement is insane! but the data utilization is not so great, 67% percent for basic and 48% for stagnant, we can do better!\n",
    "Lets fine tune the hyper parameters to lose some performance for less trining."
   ]
  },
  {
   "cell_type": "markdown",
   "metadata": {},
   "source": [
    "### Fine-tuning hyperparameters  to get the best R^2 to Data utilization"
   ]
  },
  {
   "cell_type": "markdown",
   "metadata": {},
   "source": [
    "Our goal is to strike the right balance between model performance (as measured by R²) and data efficiency (minimizing the percentage of available data used).\n",
    "In our active sampling loops, the stopping criteria play a key role in this trade-off.\n",
    "\n",
    " **What We’re Tuning**\n",
    "\n",
    "**For the Basic Active Sampling Loop:**\n",
    "- **max_iterations:** The maximum number of iterations allowed.\n",
    "- **uncertainty_threshold:** The threshold below which the model’s uncertainty is considered low enough to stop sampling.\n",
    "\n",
    "**For the Stagnant Active Sampling Loop:**\n",
    "- **max_iterations:** Same as above.\n",
    "- **uncertainty_threshold:** Primary stopping threshold.\n",
    "- **higher_uncertainty_threshold:** A secondary threshold used when combined with stagnation.\n",
    "- **r2_improvement_threshold:** The minimum improvement in R² required between iterations.\n",
    "- **max_stagnant_iterations:** The maximum number of consecutive iterations with minimal R² improvement before stopping.\n",
    "\n",
    "**How would we do that?**\n",
    "\n",
    "We would use **BayesianOptimization** to fine-tune our hyperparameters because it efficiently explores the hyperparameter space by balancing exploration and exploitation. This method requires fewer iterations compared to exhaustive grid search and quickly converges to the best set of parameters that maximize our model's R².\n",
    "\n",
    "Our objective function returns the final R², and we define bounds for key hyperparameters (like uncertainty thresholds, R² improvement thresholds, and the maximum stagnant iterations). The optimized parameters help improve model performance and data utilization."
   ]
  },
  {
   "cell_type": "markdown",
   "metadata": {},
   "source": [
    "#### Fine-Tuning with Bayesian Optimization\n"
   ]
  },
  {
   "cell_type": "markdown",
   "metadata": {},
   "source": [
    "**Fine-Tuning Hyperparameters with Bayesian Optimization**\n",
    "\n",
    "We use Bayesian Optimization to search for the best hyperparameters for our stagnant active sampling loop. Our objective function, `objective_hyperparams_stagnant/basic`, randomly selects 5 parameter combinations from `params_mostData` (with sorted data) and runs the stagnant active sampling loop on each. It then computes the average final R² and average data utilization. A penalty is applied if the average R² falls below 0.96, ensuring that only hyperparameters yielding strong performance are favored.\n",
    "\n",
    "The optimizer then finds the hyperparameter values that maximize our objective. We save the optimized hyperparameters in a variable (`stagnant/basic_optimized_hyperparameters`) and also pickle them to disk for future use. Finally, we run the stagnant active sampling loop with these optimized parameters and visualize the results.\n",
    "\n",
    "This process ensures we balance high R² performance with low data utilization.\n"
   ]
  },
  {
   "cell_type": "code",
   "execution_count": 27,
   "metadata": {},
   "outputs": [],
   "source": [
    "%%capture\n",
    "%pip install bayesian-optimization"
   ]
  },
  {
   "cell_type": "markdown",
   "metadata": {},
   "source": [
    "##### Basic hyperparameters optimization"
   ]
  },
  {
   "cell_type": "code",
   "execution_count": 29,
   "metadata": {},
   "outputs": [
    {
     "name": "stdout",
     "output_type": "stream",
     "text": [
      "|   iter    |  target   | max_it... | uncert... |\n",
      "-------------------------------------------------\n"
     ]
    },
    {
     "name": "stderr",
     "output_type": "stream",
     "text": [
      "Running basic active sampling: 100%|██████████| 3/3 [00:03<00:00,  1.05s/it]\n"
     ]
    },
    {
     "name": "stdout",
     "output_type": "stream",
     "text": [
      "| \u001b[39m1        \u001b[39m | \u001b[39m0.5144   \u001b[39m | \u001b[39m17.49    \u001b[39m | \u001b[39m0.09556  \u001b[39m |\n"
     ]
    },
    {
     "name": "stderr",
     "output_type": "stream",
     "text": [
      "Running basic active sampling: 100%|██████████| 3/3 [00:02<00:00,  1.29it/s]\n"
     ]
    },
    {
     "name": "stdout",
     "output_type": "stream",
     "text": [
      "| \u001b[39m2        \u001b[39m | \u001b[39m0.3338   \u001b[39m | \u001b[39m24.64    \u001b[39m | \u001b[39m0.06388  \u001b[39m |\n"
     ]
    },
    {
     "name": "stderr",
     "output_type": "stream",
     "text": [
      "Running basic active sampling: 100%|██████████| 3/3 [00:01<00:00,  1.62it/s]\n"
     ]
    },
    {
     "name": "stdout",
     "output_type": "stream",
     "text": [
      "| \u001b[39m3        \u001b[39m | \u001b[39m0.3593   \u001b[39m | \u001b[39m13.12    \u001b[39m | \u001b[39m0.02404  \u001b[39m |\n"
     ]
    },
    {
     "name": "stderr",
     "output_type": "stream",
     "text": [
      "Running basic active sampling: 100%|██████████| 3/3 [00:01<00:00,  2.06it/s]\n"
     ]
    },
    {
     "name": "stdout",
     "output_type": "stream",
     "text": [
      "| \u001b[39m4        \u001b[39m | \u001b[39m0.5011   \u001b[39m | \u001b[39m11.16    \u001b[39m | \u001b[39m0.08796  \u001b[39m |\n"
     ]
    },
    {
     "name": "stderr",
     "output_type": "stream",
     "text": [
      "Running basic active sampling: 100%|██████████| 3/3 [00:02<00:00,  1.46it/s]\n"
     ]
    },
    {
     "name": "stdout",
     "output_type": "stream",
     "text": [
      "| \u001b[39m5        \u001b[39m | \u001b[39m0.476    \u001b[39m | \u001b[39m22.02    \u001b[39m | \u001b[39m0.07373  \u001b[39m |\n"
     ]
    },
    {
     "name": "stderr",
     "output_type": "stream",
     "text": [
      "Running basic active sampling: 100%|██████████| 3/3 [00:02<00:00,  1.07it/s]\n"
     ]
    },
    {
     "name": "stdout",
     "output_type": "stream",
     "text": [
      "| \u001b[39m6        \u001b[39m | \u001b[39m0.2101   \u001b[39m | \u001b[39m17.45    \u001b[39m | \u001b[39m0.03864  \u001b[39m |\n"
     ]
    },
    {
     "name": "stderr",
     "output_type": "stream",
     "text": [
      "Running basic active sampling: 100%|██████████| 3/3 [00:04<00:00,  1.55s/it]\n"
     ]
    },
    {
     "name": "stdout",
     "output_type": "stream",
     "text": [
      "| \u001b[39m7        \u001b[39m | \u001b[39m0.0732   \u001b[39m | \u001b[39m26.57    \u001b[39m | \u001b[39m0.03702  \u001b[39m |\n"
     ]
    },
    {
     "name": "stderr",
     "output_type": "stream",
     "text": [
      "Running basic active sampling: 100%|██████████| 3/3 [00:02<00:00,  1.11it/s]\n"
     ]
    },
    {
     "name": "stdout",
     "output_type": "stream",
     "text": [
      "| \u001b[39m8        \u001b[39m | \u001b[39m0.4464   \u001b[39m | \u001b[39m12.03    \u001b[39m | \u001b[39m0.05695  \u001b[39m |\n"
     ]
    },
    {
     "name": "stderr",
     "output_type": "stream",
     "text": [
      "Running basic active sampling: 100%|██████████| 3/3 [00:02<00:00,  1.45it/s]\n"
     ]
    },
    {
     "name": "stdout",
     "output_type": "stream",
     "text": [
      "| \u001b[35m9        \u001b[39m | \u001b[35m0.5667   \u001b[39m | \u001b[35m10.11    \u001b[39m | \u001b[35m0.05174  \u001b[39m |\n"
     ]
    },
    {
     "name": "stderr",
     "output_type": "stream",
     "text": [
      "Running basic active sampling: 100%|██████████| 3/3 [00:02<00:00,  1.13it/s]\n"
     ]
    },
    {
     "name": "stdout",
     "output_type": "stream",
     "text": [
      "| \u001b[39m10       \u001b[39m | \u001b[39m0.4188   \u001b[39m | \u001b[39m23.35    \u001b[39m | \u001b[39m0.0678   \u001b[39m |\n"
     ]
    },
    {
     "name": "stderr",
     "output_type": "stream",
     "text": [
      "Running basic active sampling: 100%|██████████| 3/3 [00:01<00:00,  1.63it/s]\n"
     ]
    },
    {
     "name": "stdout",
     "output_type": "stream",
     "text": [
      "| \u001b[39m11       \u001b[39m | \u001b[39m0.4577   \u001b[39m | \u001b[39m10.65    \u001b[39m | \u001b[39m0.02937  \u001b[39m |\n"
     ]
    },
    {
     "name": "stderr",
     "output_type": "stream",
     "text": [
      "Running basic active sampling: 100%|██████████| 3/3 [00:02<00:00,  1.47it/s]\n"
     ]
    },
    {
     "name": "stdout",
     "output_type": "stream",
     "text": [
      "| \u001b[39m12       \u001b[39m | \u001b[39m0.4906   \u001b[39m | \u001b[39m18.84    \u001b[39m | \u001b[39m0.08419  \u001b[39m |\n"
     ]
    },
    {
     "name": "stderr",
     "output_type": "stream",
     "text": [
      "Running basic active sampling: 100%|██████████| 3/3 [00:02<00:00,  1.46it/s]\n"
     ]
    },
    {
     "name": "stdout",
     "output_type": "stream",
     "text": [
      "| \u001b[39m13       \u001b[39m | \u001b[39m0.5328   \u001b[39m | \u001b[39m10.37    \u001b[39m | \u001b[39m0.04945  \u001b[39m |\n"
     ]
    },
    {
     "name": "stderr",
     "output_type": "stream",
     "text": [
      "Running basic active sampling: 100%|██████████| 3/3 [00:03<00:00,  1.23s/it]\n"
     ]
    },
    {
     "name": "stdout",
     "output_type": "stream",
     "text": [
      "| \u001b[39m14       \u001b[39m | \u001b[39m0.253    \u001b[39m | \u001b[39m17.9     \u001b[39m | \u001b[39m0.05386  \u001b[39m |\n"
     ]
    },
    {
     "name": "stderr",
     "output_type": "stream",
     "text": [
      "Running basic active sampling: 100%|██████████| 3/3 [00:05<00:00,  1.89s/it]\n"
     ]
    },
    {
     "name": "stdout",
     "output_type": "stream",
     "text": [
      "| \u001b[39m15       \u001b[39m | \u001b[39m0.08889  \u001b[39m | \u001b[39m23.8     \u001b[39m | \u001b[39m0.02102  \u001b[39m |\n"
     ]
    },
    {
     "name": "stderr",
     "output_type": "stream",
     "text": [
      "Running basic active sampling: 100%|██████████| 3/3 [00:03<00:00,  1.17s/it]\n"
     ]
    },
    {
     "name": "stdout",
     "output_type": "stream",
     "text": [
      "| \u001b[39m16       \u001b[39m | \u001b[39m0.0      \u001b[39m | \u001b[39m22.08    \u001b[39m | \u001b[39m0.02365  \u001b[39m |\n"
     ]
    },
    {
     "name": "stderr",
     "output_type": "stream",
     "text": [
      "Running basic active sampling: 100%|██████████| 3/3 [00:01<00:00,  1.98it/s]\n"
     ]
    },
    {
     "name": "stdout",
     "output_type": "stream",
     "text": [
      "| \u001b[39m17       \u001b[39m | \u001b[39m0.4733   \u001b[39m | \u001b[39m25.86    \u001b[39m | \u001b[39m0.08955  \u001b[39m |\n"
     ]
    },
    {
     "name": "stderr",
     "output_type": "stream",
     "text": [
      "Running basic active sampling: 100%|██████████| 3/3 [00:02<00:00,  1.01it/s]\n"
     ]
    },
    {
     "name": "stdout",
     "output_type": "stream",
     "text": [
      "| \u001b[39m18       \u001b[39m | \u001b[39m0.1707   \u001b[39m | \u001b[39m18.39    \u001b[39m | \u001b[39m0.02489  \u001b[39m |\n"
     ]
    },
    {
     "name": "stderr",
     "output_type": "stream",
     "text": [
      "Running basic active sampling: 100%|██████████| 3/3 [00:02<00:00,  1.39it/s]\n"
     ]
    },
    {
     "name": "stdout",
     "output_type": "stream",
     "text": [
      "| \u001b[39m19       \u001b[39m | \u001b[39m0.3659   \u001b[39m | \u001b[39m12.3     \u001b[39m | \u001b[39m0.02786  \u001b[39m |\n"
     ]
    },
    {
     "name": "stderr",
     "output_type": "stream",
     "text": [
      "Running basic active sampling: 100%|██████████| 3/3 [00:04<00:00,  1.35s/it]\n"
     ]
    },
    {
     "name": "stdout",
     "output_type": "stream",
     "text": [
      "| \u001b[39m20       \u001b[39m | \u001b[39m0.04786  \u001b[39m | \u001b[39m29.11    \u001b[39m | \u001b[39m0.03353  \u001b[39m |\n"
     ]
    },
    {
     "name": "stderr",
     "output_type": "stream",
     "text": [
      "Running basic active sampling: 100%|██████████| 3/3 [00:01<00:00,  1.65it/s]\n"
     ]
    },
    {
     "name": "stdout",
     "output_type": "stream",
     "text": [
      "| \u001b[39m21       \u001b[39m | \u001b[39m0.4889   \u001b[39m | \u001b[39m26.27    \u001b[39m | \u001b[39m0.0822   \u001b[39m |\n"
     ]
    },
    {
     "name": "stderr",
     "output_type": "stream",
     "text": [
      "Running basic active sampling: 100%|██████████| 3/3 [00:01<00:00,  1.59it/s]\n"
     ]
    },
    {
     "name": "stdout",
     "output_type": "stream",
     "text": [
      "| \u001b[39m22       \u001b[39m | \u001b[39m0.4221   \u001b[39m | \u001b[39m14.17    \u001b[39m | \u001b[39m0.07975  \u001b[39m |\n"
     ]
    },
    {
     "name": "stderr",
     "output_type": "stream",
     "text": [
      "Running basic active sampling: 100%|██████████| 3/3 [00:01<00:00,  1.72it/s]\n"
     ]
    },
    {
     "name": "stdout",
     "output_type": "stream",
     "text": [
      "| \u001b[39m23       \u001b[39m | \u001b[39m0.4332   \u001b[39m | \u001b[39m26.38    \u001b[39m | \u001b[39m0.07127  \u001b[39m |\n"
     ]
    },
    {
     "name": "stderr",
     "output_type": "stream",
     "text": [
      "Running basic active sampling: 100%|██████████| 3/3 [00:01<00:00,  1.54it/s]\n"
     ]
    },
    {
     "name": "stdout",
     "output_type": "stream",
     "text": [
      "| \u001b[39m24       \u001b[39m | \u001b[39m0.3815   \u001b[39m | \u001b[39m20.04    \u001b[39m | \u001b[39m0.07047  \u001b[39m |\n"
     ]
    },
    {
     "name": "stderr",
     "output_type": "stream",
     "text": [
      "Running basic active sampling: 100%|██████████| 3/3 [00:01<00:00,  1.54it/s]\n"
     ]
    },
    {
     "name": "stdout",
     "output_type": "stream",
     "text": [
      "| \u001b[39m25       \u001b[39m | \u001b[39m0.4569   \u001b[39m | \u001b[39m22.69    \u001b[39m | \u001b[39m0.07888  \u001b[39m |\n"
     ]
    },
    {
     "name": "stderr",
     "output_type": "stream",
     "text": [
      "Running basic active sampling: 100%|██████████| 3/3 [00:01<00:00,  1.82it/s]\n"
     ]
    },
    {
     "name": "stdout",
     "output_type": "stream",
     "text": [
      "| \u001b[39m26       \u001b[39m | \u001b[39m0.3988   \u001b[39m | \u001b[39m18.19    \u001b[39m | \u001b[39m0.08213  \u001b[39m |\n"
     ]
    },
    {
     "name": "stderr",
     "output_type": "stream",
     "text": [
      "Running basic active sampling: 100%|██████████| 3/3 [00:01<00:00,  1.89it/s]\n"
     ]
    },
    {
     "name": "stdout",
     "output_type": "stream",
     "text": [
      "| \u001b[39m27       \u001b[39m | \u001b[39m0.5022   \u001b[39m | \u001b[39m11.36    \u001b[39m | \u001b[39m0.04701  \u001b[39m |\n"
     ]
    },
    {
     "name": "stderr",
     "output_type": "stream",
     "text": [
      "Running basic active sampling: 100%|██████████| 3/3 [00:02<00:00,  1.39it/s]\n"
     ]
    },
    {
     "name": "stdout",
     "output_type": "stream",
     "text": [
      "| \u001b[35m28       \u001b[39m | \u001b[35m0.6036   \u001b[39m | \u001b[35m10.53    \u001b[39m | \u001b[35m0.09099  \u001b[39m |\n"
     ]
    },
    {
     "name": "stderr",
     "output_type": "stream",
     "text": [
      "Running basic active sampling: 100%|██████████| 3/3 [00:05<00:00,  1.72s/it]\n"
     ]
    },
    {
     "name": "stdout",
     "output_type": "stream",
     "text": [
      "| \u001b[39m29       \u001b[39m | \u001b[39m0.05556  \u001b[39m | \u001b[39m22.96    \u001b[39m | \u001b[39m0.02055  \u001b[39m |\n"
     ]
    },
    {
     "name": "stderr",
     "output_type": "stream",
     "text": [
      "Running basic active sampling: 100%|██████████| 3/3 [00:03<00:00,  1.04s/it]\n"
     ]
    },
    {
     "name": "stdout",
     "output_type": "stream",
     "text": [
      "| \u001b[39m30       \u001b[39m | \u001b[39m0.1392   \u001b[39m | \u001b[39m19.27    \u001b[39m | \u001b[39m0.04267  \u001b[39m |\n"
     ]
    },
    {
     "name": "stderr",
     "output_type": "stream",
     "text": [
      "Running basic active sampling: 100%|██████████| 3/3 [00:01<00:00,  1.87it/s]\n"
     ]
    },
    {
     "name": "stdout",
     "output_type": "stream",
     "text": [
      "| \u001b[39m31       \u001b[39m | \u001b[39m0.4843   \u001b[39m | \u001b[39m19.3     \u001b[39m | \u001b[39m0.07982  \u001b[39m |\n"
     ]
    },
    {
     "name": "stderr",
     "output_type": "stream",
     "text": [
      "Running basic active sampling: 100%|██████████| 3/3 [00:02<00:00,  1.14it/s]\n"
     ]
    },
    {
     "name": "stdout",
     "output_type": "stream",
     "text": [
      "| \u001b[39m32       \u001b[39m | \u001b[39m0.2175   \u001b[39m | \u001b[39m17.26    \u001b[39m | \u001b[39m0.01591  \u001b[39m |\n"
     ]
    },
    {
     "name": "stderr",
     "output_type": "stream",
     "text": [
      "Running basic active sampling: 100%|██████████| 3/3 [00:03<00:00,  1.29s/it]\n"
     ]
    },
    {
     "name": "stdout",
     "output_type": "stream",
     "text": [
      "| \u001b[39m33       \u001b[39m | \u001b[39m0.0      \u001b[39m | \u001b[39m26.36    \u001b[39m | \u001b[39m0.02943  \u001b[39m |\n"
     ]
    },
    {
     "name": "stderr",
     "output_type": "stream",
     "text": [
      "Running basic active sampling: 100%|██████████| 3/3 [00:01<00:00,  1.60it/s]\n"
     ]
    },
    {
     "name": "stdout",
     "output_type": "stream",
     "text": [
      "| \u001b[39m34       \u001b[39m | \u001b[39m0.4415   \u001b[39m | \u001b[39m28.4     \u001b[39m | \u001b[39m0.08193  \u001b[39m |\n"
     ]
    },
    {
     "name": "stderr",
     "output_type": "stream",
     "text": [
      "Running basic active sampling: 100%|██████████| 3/3 [00:03<00:00,  1.25s/it]\n"
     ]
    },
    {
     "name": "stdout",
     "output_type": "stream",
     "text": [
      "| \u001b[39m35       \u001b[39m | \u001b[39m0.02222  \u001b[39m | \u001b[39m25.8     \u001b[39m | \u001b[39m0.01671  \u001b[39m |\n"
     ]
    },
    {
     "name": "stderr",
     "output_type": "stream",
     "text": [
      "Running basic active sampling: 100%|██████████| 3/3 [00:01<00:00,  1.85it/s]\n"
     ]
    },
    {
     "name": "stdout",
     "output_type": "stream",
     "text": [
      "| \u001b[39m36       \u001b[39m | \u001b[39m0.4456   \u001b[39m | \u001b[39m14.31    \u001b[39m | \u001b[39m0.08573  \u001b[39m |\n"
     ]
    },
    {
     "name": "stderr",
     "output_type": "stream",
     "text": [
      "Running basic active sampling: 100%|██████████| 3/3 [00:02<00:00,  1.29it/s]\n"
     ]
    },
    {
     "name": "stdout",
     "output_type": "stream",
     "text": [
      "| \u001b[39m37       \u001b[39m | \u001b[39m0.2745   \u001b[39m | \u001b[39m17.09    \u001b[39m | \u001b[39m0.05796  \u001b[39m |\n"
     ]
    },
    {
     "name": "stderr",
     "output_type": "stream",
     "text": [
      "Running basic active sampling: 100%|██████████| 3/3 [00:01<00:00,  2.20it/s]\n"
     ]
    },
    {
     "name": "stdout",
     "output_type": "stream",
     "text": [
      "| \u001b[39m38       \u001b[39m | \u001b[39m0.5975   \u001b[39m | \u001b[39m29.85    \u001b[39m | \u001b[39m0.09738  \u001b[39m |\n"
     ]
    },
    {
     "name": "stderr",
     "output_type": "stream",
     "text": [
      "Running basic active sampling: 100%|██████████| 3/3 [00:03<00:00,  1.05s/it]\n"
     ]
    },
    {
     "name": "stdout",
     "output_type": "stream",
     "text": [
      "| \u001b[39m39       \u001b[39m | \u001b[39m0.2692   \u001b[39m | \u001b[39m27.75    \u001b[39m | \u001b[39m0.05319  \u001b[39m |\n"
     ]
    },
    {
     "name": "stderr",
     "output_type": "stream",
     "text": [
      "Running basic active sampling: 100%|██████████| 3/3 [00:01<00:00,  1.60it/s]\n"
     ]
    },
    {
     "name": "stdout",
     "output_type": "stream",
     "text": [
      "| \u001b[39m40       \u001b[39m | \u001b[39m0.382    \u001b[39m | \u001b[39m12.99    \u001b[39m | \u001b[39m0.05059  \u001b[39m |\n"
     ]
    },
    {
     "name": "stderr",
     "output_type": "stream",
     "text": [
      "Running basic active sampling: 100%|██████████| 3/3 [00:02<00:00,  1.28it/s]\n"
     ]
    },
    {
     "name": "stdout",
     "output_type": "stream",
     "text": [
      "| \u001b[39m41       \u001b[39m | \u001b[39m0.2575   \u001b[39m | \u001b[39m17.69    \u001b[39m | \u001b[39m0.05549  \u001b[39m |\n"
     ]
    },
    {
     "name": "stderr",
     "output_type": "stream",
     "text": [
      "Running basic active sampling: 100%|██████████| 3/3 [00:03<00:00,  1.18s/it]\n"
     ]
    },
    {
     "name": "stdout",
     "output_type": "stream",
     "text": [
      "| \u001b[39m42       \u001b[39m | \u001b[39m0.0      \u001b[39m | \u001b[39m27.71    \u001b[39m | \u001b[39m0.0235   \u001b[39m |\n"
     ]
    },
    {
     "name": "stderr",
     "output_type": "stream",
     "text": [
      "Running basic active sampling: 100%|██████████| 3/3 [00:03<00:00,  1.07s/it]\n"
     ]
    },
    {
     "name": "stdout",
     "output_type": "stream",
     "text": [
      "| \u001b[39m43       \u001b[39m | \u001b[39m0.08222  \u001b[39m | \u001b[39m22.47    \u001b[39m | \u001b[39m0.03765  \u001b[39m |\n"
     ]
    },
    {
     "name": "stderr",
     "output_type": "stream",
     "text": [
      "Running basic active sampling: 100%|██████████| 3/3 [00:03<00:00,  1.12s/it]\n"
     ]
    },
    {
     "name": "stdout",
     "output_type": "stream",
     "text": [
      "| \u001b[39m44       \u001b[39m | \u001b[39m0.2759   \u001b[39m | \u001b[39m29.98    \u001b[39m | \u001b[39m0.05371  \u001b[39m |\n"
     ]
    },
    {
     "name": "stderr",
     "output_type": "stream",
     "text": [
      "Running basic active sampling: 100%|██████████| 3/3 [00:03<00:00,  1.24s/it]\n"
     ]
    },
    {
     "name": "stdout",
     "output_type": "stream",
     "text": [
      "| \u001b[39m45       \u001b[39m | \u001b[39m0.01333  \u001b[39m | \u001b[39m27.19    \u001b[39m | \u001b[39m0.0318   \u001b[39m |\n"
     ]
    },
    {
     "name": "stderr",
     "output_type": "stream",
     "text": [
      "Running basic active sampling: 100%|██████████| 3/3 [00:03<00:00,  1.02s/it]\n"
     ]
    },
    {
     "name": "stdout",
     "output_type": "stream",
     "text": [
      "| \u001b[39m46       \u001b[39m | \u001b[39m0.3072   \u001b[39m | \u001b[39m24.64    \u001b[39m | \u001b[39m0.06378  \u001b[39m |\n"
     ]
    },
    {
     "name": "stderr",
     "output_type": "stream",
     "text": [
      "Running basic active sampling: 100%|██████████| 3/3 [00:01<00:00,  1.52it/s]\n"
     ]
    },
    {
     "name": "stdout",
     "output_type": "stream",
     "text": [
      "| \u001b[39m47       \u001b[39m | \u001b[39m0.3659   \u001b[39m | \u001b[39m12.03    \u001b[39m | \u001b[39m0.05725  \u001b[39m |\n"
     ]
    },
    {
     "name": "stderr",
     "output_type": "stream",
     "text": [
      "Running basic active sampling: 100%|██████████| 3/3 [00:01<00:00,  1.61it/s]\n"
     ]
    },
    {
     "name": "stdout",
     "output_type": "stream",
     "text": [
      "| \u001b[39m48       \u001b[39m | \u001b[39m0.5383   \u001b[39m | \u001b[39m10.53    \u001b[39m | \u001b[39m0.09165  \u001b[39m |\n"
     ]
    },
    {
     "name": "stderr",
     "output_type": "stream",
     "text": [
      "Running basic active sampling: 100%|██████████| 3/3 [00:01<00:00,  1.97it/s]\n"
     ]
    },
    {
     "name": "stdout",
     "output_type": "stream",
     "text": [
      "| \u001b[39m49       \u001b[39m | \u001b[39m0.5639   \u001b[39m | \u001b[39m10.11    \u001b[39m | \u001b[39m0.0521   \u001b[39m |\n"
     ]
    },
    {
     "name": "stderr",
     "output_type": "stream",
     "text": [
      "Running basic active sampling: 100%|██████████| 3/3 [00:01<00:00,  1.75it/s]\n"
     ]
    },
    {
     "name": "stdout",
     "output_type": "stream",
     "text": [
      "| \u001b[39m50       \u001b[39m | \u001b[39m0.4725   \u001b[39m | \u001b[39m18.84    \u001b[39m | \u001b[39m0.08258  \u001b[39m |\n"
     ]
    },
    {
     "name": "stderr",
     "output_type": "stream",
     "text": [
      "Running basic active sampling: 100%|██████████| 3/3 [00:01<00:00,  1.92it/s]\n"
     ]
    },
    {
     "name": "stdout",
     "output_type": "stream",
     "text": [
      "| \u001b[39m51       \u001b[39m | \u001b[39m0.46     \u001b[39m | \u001b[39m11.36    \u001b[39m | \u001b[39m0.05     \u001b[39m |\n"
     ]
    },
    {
     "name": "stderr",
     "output_type": "stream",
     "text": [
      "Running basic active sampling: 100%|██████████| 3/3 [00:02<00:00,  1.38it/s]\n"
     ]
    },
    {
     "name": "stdout",
     "output_type": "stream",
     "text": [
      "| \u001b[39m52       \u001b[39m | \u001b[39m0.3237   \u001b[39m | \u001b[39m26.69    \u001b[39m | \u001b[39m0.06233  \u001b[39m |\n"
     ]
    },
    {
     "name": "stderr",
     "output_type": "stream",
     "text": [
      "Running basic active sampling: 100%|██████████| 3/3 [00:01<00:00,  2.36it/s]\n"
     ]
    },
    {
     "name": "stdout",
     "output_type": "stream",
     "text": [
      "| \u001b[35m53       \u001b[39m | \u001b[35m0.624    \u001b[39m | \u001b[35m12.71    \u001b[39m | \u001b[35m0.09002  \u001b[39m |\n"
     ]
    },
    {
     "name": "stderr",
     "output_type": "stream",
     "text": [
      "Running basic active sampling: 100%|██████████| 3/3 [00:01<00:00,  1.91it/s]\n"
     ]
    },
    {
     "name": "stdout",
     "output_type": "stream",
     "text": [
      "| \u001b[39m54       \u001b[39m | \u001b[39m0.4866   \u001b[39m | \u001b[39m10.11    \u001b[39m | \u001b[39m0.0502   \u001b[39m |\n"
     ]
    },
    {
     "name": "stderr",
     "output_type": "stream",
     "text": [
      "Running basic active sampling: 100%|██████████| 3/3 [00:01<00:00,  1.73it/s]\n"
     ]
    },
    {
     "name": "stdout",
     "output_type": "stream",
     "text": [
      "| \u001b[39m55       \u001b[39m | \u001b[39m0.5605   \u001b[39m | \u001b[39m25.86    \u001b[39m | \u001b[39m0.08695  \u001b[39m |\n"
     ]
    },
    {
     "name": "stderr",
     "output_type": "stream",
     "text": [
      "Running basic active sampling: 100%|██████████| 3/3 [00:01<00:00,  2.04it/s]\n"
     ]
    },
    {
     "name": "stdout",
     "output_type": "stream",
     "text": [
      "| \u001b[39m56       \u001b[39m | \u001b[39m0.5874   \u001b[39m | \u001b[39m29.85    \u001b[39m | \u001b[39m0.09818  \u001b[39m |\n"
     ]
    },
    {
     "name": "stderr",
     "output_type": "stream",
     "text": [
      "Running basic active sampling: 100%|██████████| 3/3 [00:01<00:00,  1.94it/s]\n"
     ]
    },
    {
     "name": "stdout",
     "output_type": "stream",
     "text": [
      "| \u001b[39m57       \u001b[39m | \u001b[39m0.5833   \u001b[39m | \u001b[39m12.72    \u001b[39m | \u001b[39m0.08987  \u001b[39m |\n"
     ]
    },
    {
     "name": "stderr",
     "output_type": "stream",
     "text": [
      "Running basic active sampling: 100%|██████████| 3/3 [00:01<00:00,  1.51it/s]\n"
     ]
    },
    {
     "name": "stdout",
     "output_type": "stream",
     "text": [
      "| \u001b[39m58       \u001b[39m | \u001b[39m0.4167   \u001b[39m | \u001b[39m12.15    \u001b[39m | \u001b[39m0.03426  \u001b[39m |\n"
     ]
    },
    {
     "name": "stderr",
     "output_type": "stream",
     "text": [
      "Running basic active sampling: 100%|██████████| 3/3 [00:01<00:00,  1.88it/s]\n"
     ]
    },
    {
     "name": "stdout",
     "output_type": "stream",
     "text": [
      "| \u001b[39m59       \u001b[39m | \u001b[39m0.5417   \u001b[39m | \u001b[39m17.49    \u001b[39m | \u001b[39m0.09279  \u001b[39m |\n"
     ]
    },
    {
     "name": "stderr",
     "output_type": "stream",
     "text": [
      "Running basic active sampling: 100%|██████████| 3/3 [00:01<00:00,  1.85it/s]\n"
     ]
    },
    {
     "name": "stdout",
     "output_type": "stream",
     "text": [
      "| \u001b[39m60       \u001b[39m | \u001b[39m0.4867   \u001b[39m | \u001b[39m29.85    \u001b[39m | \u001b[39m0.09247  \u001b[39m |\n"
     ]
    },
    {
     "name": "stderr",
     "output_type": "stream",
     "text": [
      "Running basic active sampling: 100%|██████████| 3/3 [00:01<00:00,  1.95it/s]\n"
     ]
    },
    {
     "name": "stdout",
     "output_type": "stream",
     "text": [
      "| \u001b[39m61       \u001b[39m | \u001b[39m0.5293   \u001b[39m | \u001b[39m12.71    \u001b[39m | \u001b[39m0.09184  \u001b[39m |\n"
     ]
    },
    {
     "name": "stderr",
     "output_type": "stream",
     "text": [
      "Running basic active sampling: 100%|██████████| 3/3 [00:02<00:00,  1.45it/s]\n"
     ]
    },
    {
     "name": "stdout",
     "output_type": "stream",
     "text": [
      "| \u001b[39m62       \u001b[39m | \u001b[39m0.5133   \u001b[39m | \u001b[39m12.71    \u001b[39m | \u001b[39m0.08792  \u001b[39m |\n"
     ]
    },
    {
     "name": "stderr",
     "output_type": "stream",
     "text": [
      "Running basic active sampling: 100%|██████████| 3/3 [00:01<00:00,  2.11it/s]\n"
     ]
    },
    {
     "name": "stdout",
     "output_type": "stream",
     "text": [
      "| \u001b[39m63       \u001b[39m | \u001b[39m0.5618   \u001b[39m | \u001b[39m17.48    \u001b[39m | \u001b[39m0.09273  \u001b[39m |\n"
     ]
    },
    {
     "name": "stderr",
     "output_type": "stream",
     "text": [
      "Running basic active sampling: 100%|██████████| 3/3 [00:02<00:00,  1.45it/s]\n"
     ]
    },
    {
     "name": "stdout",
     "output_type": "stream",
     "text": [
      "| \u001b[39m64       \u001b[39m | \u001b[39m0.4416   \u001b[39m | \u001b[39m24.64    \u001b[39m | \u001b[39m0.06676  \u001b[39m |\n"
     ]
    },
    {
     "name": "stderr",
     "output_type": "stream",
     "text": [
      "Running basic active sampling: 100%|██████████| 3/3 [00:01<00:00,  2.27it/s]\n"
     ]
    },
    {
     "name": "stdout",
     "output_type": "stream",
     "text": [
      "| \u001b[39m65       \u001b[39m | \u001b[39m0.5912   \u001b[39m | \u001b[39m10.53    \u001b[39m | \u001b[39m0.08642  \u001b[39m |\n"
     ]
    },
    {
     "name": "stderr",
     "output_type": "stream",
     "text": [
      "Running basic active sampling: 100%|██████████| 3/3 [00:01<00:00,  2.19it/s]\n"
     ]
    },
    {
     "name": "stdout",
     "output_type": "stream",
     "text": [
      "| \u001b[39m66       \u001b[39m | \u001b[39m0.5444   \u001b[39m | \u001b[39m10.37    \u001b[39m | \u001b[39m0.05247  \u001b[39m |\n"
     ]
    },
    {
     "name": "stderr",
     "output_type": "stream",
     "text": [
      "Running basic active sampling: 100%|██████████| 3/3 [00:01<00:00,  1.55it/s]\n"
     ]
    },
    {
     "name": "stdout",
     "output_type": "stream",
     "text": [
      "| \u001b[39m67       \u001b[39m | \u001b[39m0.3681   \u001b[39m | \u001b[39m13.64    \u001b[39m | \u001b[39m0.02882  \u001b[39m |\n"
     ]
    },
    {
     "name": "stderr",
     "output_type": "stream",
     "text": [
      "Running basic active sampling: 100%|██████████| 3/3 [00:02<00:00,  1.35it/s]\n"
     ]
    },
    {
     "name": "stdout",
     "output_type": "stream",
     "text": [
      "| \u001b[39m68       \u001b[39m | \u001b[39m0.5742   \u001b[39m | \u001b[39m10.53    \u001b[39m | \u001b[39m0.08382  \u001b[39m |\n"
     ]
    },
    {
     "name": "stderr",
     "output_type": "stream",
     "text": [
      "Running basic active sampling: 100%|██████████| 3/3 [00:02<00:00,  1.29it/s]\n"
     ]
    },
    {
     "name": "stdout",
     "output_type": "stream",
     "text": [
      "| \u001b[39m69       \u001b[39m | \u001b[39m0.5089   \u001b[39m | \u001b[39m10.37    \u001b[39m | \u001b[39m0.04563  \u001b[39m |\n"
     ]
    },
    {
     "name": "stderr",
     "output_type": "stream",
     "text": [
      "Running basic active sampling: 100%|██████████| 3/3 [00:01<00:00,  1.65it/s]\n"
     ]
    },
    {
     "name": "stdout",
     "output_type": "stream",
     "text": [
      "| \u001b[39m70       \u001b[39m | \u001b[39m0.5339   \u001b[39m | \u001b[39m29.85    \u001b[39m | \u001b[39m0.0975   \u001b[39m |\n"
     ]
    },
    {
     "name": "stderr",
     "output_type": "stream",
     "text": [
      "Running basic active sampling: 100%|██████████| 3/3 [00:01<00:00,  2.44it/s]\n"
     ]
    },
    {
     "name": "stdout",
     "output_type": "stream",
     "text": [
      "| \u001b[39m71       \u001b[39m | \u001b[39m0.6184   \u001b[39m | \u001b[39m10.53    \u001b[39m | \u001b[39m0.08657  \u001b[39m |\n"
     ]
    },
    {
     "name": "stderr",
     "output_type": "stream",
     "text": [
      "Running basic active sampling: 100%|██████████| 3/3 [00:01<00:00,  1.60it/s]\n"
     ]
    },
    {
     "name": "stdout",
     "output_type": "stream",
     "text": [
      "| \u001b[39m72       \u001b[39m | \u001b[39m0.4733   \u001b[39m | \u001b[39m25.85    \u001b[39m | \u001b[39m0.08628  \u001b[39m |\n"
     ]
    },
    {
     "name": "stderr",
     "output_type": "stream",
     "text": [
      "Running basic active sampling: 100%|██████████| 3/3 [00:01<00:00,  2.26it/s]\n"
     ]
    },
    {
     "name": "stdout",
     "output_type": "stream",
     "text": [
      "| \u001b[39m73       \u001b[39m | \u001b[39m0.5418   \u001b[39m | \u001b[39m10.53    \u001b[39m | \u001b[39m0.09378  \u001b[39m |\n"
     ]
    },
    {
     "name": "stderr",
     "output_type": "stream",
     "text": [
      "Running basic active sampling: 100%|██████████| 3/3 [00:01<00:00,  2.12it/s]\n"
     ]
    },
    {
     "name": "stdout",
     "output_type": "stream",
     "text": [
      "| \u001b[39m74       \u001b[39m | \u001b[39m0.5153   \u001b[39m | \u001b[39m10.38    \u001b[39m | \u001b[39m0.04731  \u001b[39m |\n"
     ]
    },
    {
     "name": "stderr",
     "output_type": "stream",
     "text": [
      "Running basic active sampling: 100%|██████████| 3/3 [00:02<00:00,  1.36it/s]\n"
     ]
    },
    {
     "name": "stdout",
     "output_type": "stream",
     "text": [
      "| \u001b[39m75       \u001b[39m | \u001b[39m0.3127   \u001b[39m | \u001b[39m18.06    \u001b[39m | \u001b[39m0.05748  \u001b[39m |\n"
     ]
    },
    {
     "name": "stderr",
     "output_type": "stream",
     "text": [
      "Running basic active sampling: 100%|██████████| 3/3 [00:01<00:00,  2.16it/s]\n"
     ]
    },
    {
     "name": "stdout",
     "output_type": "stream",
     "text": [
      "| \u001b[39m76       \u001b[39m | \u001b[39m0.5809   \u001b[39m | \u001b[39m10.54    \u001b[39m | \u001b[39m0.09206  \u001b[39m |\n"
     ]
    },
    {
     "name": "stderr",
     "output_type": "stream",
     "text": [
      "Running basic active sampling: 100%|██████████| 3/3 [00:03<00:00,  1.04s/it]\n"
     ]
    },
    {
     "name": "stdout",
     "output_type": "stream",
     "text": [
      "| \u001b[39m77       \u001b[39m | \u001b[39m0.1971   \u001b[39m | \u001b[39m19.66    \u001b[39m | \u001b[39m0.01677  \u001b[39m |\n"
     ]
    },
    {
     "name": "stderr",
     "output_type": "stream",
     "text": [
      "Running basic active sampling: 100%|██████████| 3/3 [00:02<00:00,  1.19it/s]\n"
     ]
    },
    {
     "name": "stdout",
     "output_type": "stream",
     "text": [
      "| \u001b[39m78       \u001b[39m | \u001b[39m0.2253   \u001b[39m | \u001b[39m28.74    \u001b[39m | \u001b[39m0.05146  \u001b[39m |\n"
     ]
    },
    {
     "name": "stderr",
     "output_type": "stream",
     "text": [
      "Running basic active sampling: 100%|██████████| 3/3 [00:01<00:00,  2.21it/s]\n"
     ]
    },
    {
     "name": "stdout",
     "output_type": "stream",
     "text": [
      "| \u001b[39m79       \u001b[39m | \u001b[39m0.6058   \u001b[39m | \u001b[39m20.77    \u001b[39m | \u001b[39m0.09541  \u001b[39m |\n"
     ]
    },
    {
     "name": "stderr",
     "output_type": "stream",
     "text": [
      "Running basic active sampling: 100%|██████████| 3/3 [00:01<00:00,  1.92it/s]\n"
     ]
    },
    {
     "name": "stdout",
     "output_type": "stream",
     "text": [
      "| \u001b[39m80       \u001b[39m | \u001b[39m0.5789   \u001b[39m | \u001b[39m25.86    \u001b[39m | \u001b[39m0.08287  \u001b[39m |\n"
     ]
    },
    {
     "name": "stderr",
     "output_type": "stream",
     "text": [
      "Running basic active sampling: 100%|██████████| 3/3 [00:01<00:00,  2.14it/s]\n"
     ]
    },
    {
     "name": "stdout",
     "output_type": "stream",
     "text": [
      "| \u001b[39m81       \u001b[39m | \u001b[39m0.5433   \u001b[39m | \u001b[39m10.54    \u001b[39m | \u001b[39m0.09371  \u001b[39m |\n"
     ]
    },
    {
     "name": "stderr",
     "output_type": "stream",
     "text": [
      "Running basic active sampling: 100%|██████████| 3/3 [00:01<00:00,  2.03it/s]\n"
     ]
    },
    {
     "name": "stdout",
     "output_type": "stream",
     "text": [
      "| \u001b[39m82       \u001b[39m | \u001b[39m0.4794   \u001b[39m | \u001b[39m10.54    \u001b[39m | \u001b[39m0.08636  \u001b[39m |\n"
     ]
    },
    {
     "name": "stderr",
     "output_type": "stream",
     "text": [
      "Running basic active sampling: 100%|██████████| 3/3 [00:02<00:00,  1.09it/s]\n"
     ]
    },
    {
     "name": "stdout",
     "output_type": "stream",
     "text": [
      "| \u001b[39m83       \u001b[39m | \u001b[39m0.2417   \u001b[39m | \u001b[39m18.25    \u001b[39m | \u001b[39m0.0241   \u001b[39m |\n"
     ]
    },
    {
     "name": "stderr",
     "output_type": "stream",
     "text": [
      "Running basic active sampling: 100%|██████████| 3/3 [00:02<00:00,  1.27it/s]\n"
     ]
    },
    {
     "name": "stdout",
     "output_type": "stream",
     "text": [
      "| \u001b[39m84       \u001b[39m | \u001b[39m0.4412   \u001b[39m | \u001b[39m16.44    \u001b[39m | \u001b[39m0.06818  \u001b[39m |\n"
     ]
    },
    {
     "name": "stderr",
     "output_type": "stream",
     "text": [
      "Running basic active sampling: 100%|██████████| 3/3 [00:01<00:00,  1.80it/s]\n"
     ]
    },
    {
     "name": "stdout",
     "output_type": "stream",
     "text": [
      "| \u001b[39m85       \u001b[39m | \u001b[39m0.5496   \u001b[39m | \u001b[39m12.72    \u001b[39m | \u001b[39m0.09251  \u001b[39m |\n"
     ]
    },
    {
     "name": "stderr",
     "output_type": "stream",
     "text": [
      "Running basic active sampling: 100%|██████████| 3/3 [00:01<00:00,  2.21it/s]\n"
     ]
    },
    {
     "name": "stdout",
     "output_type": "stream",
     "text": [
      "| \u001b[39m86       \u001b[39m | \u001b[39m0.4861   \u001b[39m | \u001b[39m10.54    \u001b[39m | \u001b[39m0.0976   \u001b[39m |\n"
     ]
    },
    {
     "name": "stderr",
     "output_type": "stream",
     "text": [
      "Running basic active sampling: 100%|██████████| 3/3 [00:02<00:00,  1.36it/s]\n"
     ]
    },
    {
     "name": "stdout",
     "output_type": "stream",
     "text": [
      "| \u001b[39m87       \u001b[39m | \u001b[39m0.46     \u001b[39m | \u001b[39m25.86    \u001b[39m | \u001b[39m0.08472  \u001b[39m |\n"
     ]
    },
    {
     "name": "stderr",
     "output_type": "stream",
     "text": [
      "Running basic active sampling: 100%|██████████| 3/3 [00:03<00:00,  1.25s/it]\n"
     ]
    },
    {
     "name": "stdout",
     "output_type": "stream",
     "text": [
      "| \u001b[39m88       \u001b[39m | \u001b[39m0.5067   \u001b[39m | \u001b[39m20.78    \u001b[39m | \u001b[39m0.09541  \u001b[39m |\n"
     ]
    },
    {
     "name": "stderr",
     "output_type": "stream",
     "text": [
      "Running basic active sampling: 100%|██████████| 3/3 [00:01<00:00,  1.53it/s]\n"
     ]
    },
    {
     "name": "stdout",
     "output_type": "stream",
     "text": [
      "| \u001b[39m89       \u001b[39m | \u001b[39m0.5022   \u001b[39m | \u001b[39m11.35    \u001b[39m | \u001b[39m0.04382  \u001b[39m |\n"
     ]
    },
    {
     "name": "stderr",
     "output_type": "stream",
     "text": [
      "Running basic active sampling: 100%|██████████| 3/3 [00:02<00:00,  1.35it/s]\n"
     ]
    },
    {
     "name": "stdout",
     "output_type": "stream",
     "text": [
      "| \u001b[39m90       \u001b[39m | \u001b[39m0.4972   \u001b[39m | \u001b[39m29.84    \u001b[39m | \u001b[39m0.09539  \u001b[39m |\n"
     ]
    },
    {
     "name": "stderr",
     "output_type": "stream",
     "text": [
      "Running basic active sampling: 100%|██████████| 3/3 [00:02<00:00,  1.50it/s]\n"
     ]
    },
    {
     "name": "stdout",
     "output_type": "stream",
     "text": [
      "| \u001b[39m91       \u001b[39m | \u001b[39m0.4577   \u001b[39m | \u001b[39m10.38    \u001b[39m | \u001b[39m0.04295  \u001b[39m |\n"
     ]
    },
    {
     "name": "stderr",
     "output_type": "stream",
     "text": [
      "Running basic active sampling: 100%|██████████| 3/3 [00:01<00:00,  1.83it/s]\n"
     ]
    },
    {
     "name": "stdout",
     "output_type": "stream",
     "text": [
      "| \u001b[39m92       \u001b[39m | \u001b[39m0.6058   \u001b[39m | \u001b[39m20.78    \u001b[39m | \u001b[39m0.09173  \u001b[39m |\n"
     ]
    },
    {
     "name": "stderr",
     "output_type": "stream",
     "text": [
      "Running basic active sampling: 100%|██████████| 3/3 [00:01<00:00,  1.87it/s]\n"
     ]
    },
    {
     "name": "stdout",
     "output_type": "stream",
     "text": [
      "| \u001b[39m93       \u001b[39m | \u001b[39m0.5947   \u001b[39m | \u001b[39m17.48    \u001b[39m | \u001b[39m0.09765  \u001b[39m |\n"
     ]
    },
    {
     "name": "stderr",
     "output_type": "stream",
     "text": [
      "Running basic active sampling: 100%|██████████| 3/3 [00:01<00:00,  2.07it/s]\n"
     ]
    },
    {
     "name": "stdout",
     "output_type": "stream",
     "text": [
      "| \u001b[39m94       \u001b[39m | \u001b[39m0.5836   \u001b[39m | \u001b[39m17.49    \u001b[39m | \u001b[39m0.09921  \u001b[39m |\n"
     ]
    },
    {
     "name": "stderr",
     "output_type": "stream",
     "text": [
      "Running basic active sampling: 100%|██████████| 3/3 [00:01<00:00,  2.03it/s]\n"
     ]
    },
    {
     "name": "stdout",
     "output_type": "stream",
     "text": [
      "| \u001b[39m95       \u001b[39m | \u001b[39m0.4783   \u001b[39m | \u001b[39m11.36    \u001b[39m | \u001b[39m0.03944  \u001b[39m |\n"
     ]
    },
    {
     "name": "stderr",
     "output_type": "stream",
     "text": [
      "Running basic active sampling: 100%|██████████| 3/3 [00:01<00:00,  1.88it/s]\n"
     ]
    },
    {
     "name": "stdout",
     "output_type": "stream",
     "text": [
      "| \u001b[39m96       \u001b[39m | \u001b[39m0.4399   \u001b[39m | \u001b[39m25.85    \u001b[39m | \u001b[39m0.07915  \u001b[39m |\n"
     ]
    },
    {
     "name": "stderr",
     "output_type": "stream",
     "text": [
      "Running basic active sampling: 100%|██████████| 3/3 [00:01<00:00,  1.87it/s]\n"
     ]
    },
    {
     "name": "stdout",
     "output_type": "stream",
     "text": [
      "| \u001b[39m97       \u001b[39m | \u001b[39m0.4968   \u001b[39m | \u001b[39m12.12    \u001b[39m | \u001b[39m0.06278  \u001b[39m |\n"
     ]
    },
    {
     "name": "stderr",
     "output_type": "stream",
     "text": [
      "Running basic active sampling: 100%|██████████| 3/3 [00:02<00:00,  1.01it/s]\n"
     ]
    },
    {
     "name": "stdout",
     "output_type": "stream",
     "text": [
      "| \u001b[39m98       \u001b[39m | \u001b[39m0.01111  \u001b[39m | \u001b[39m26.95    \u001b[39m | \u001b[39m0.01014  \u001b[39m |\n"
     ]
    },
    {
     "name": "stderr",
     "output_type": "stream",
     "text": [
      "Running basic active sampling: 100%|██████████| 3/3 [00:01<00:00,  1.76it/s]\n"
     ]
    },
    {
     "name": "stdout",
     "output_type": "stream",
     "text": [
      "| \u001b[39m99       \u001b[39m | \u001b[39m0.4387   \u001b[39m | \u001b[39m20.78    \u001b[39m | \u001b[39m0.08749  \u001b[39m |\n"
     ]
    },
    {
     "name": "stderr",
     "output_type": "stream",
     "text": [
      "Running basic active sampling: 100%|██████████| 3/3 [00:01<00:00,  2.11it/s]\n"
     ]
    },
    {
     "name": "stdout",
     "output_type": "stream",
     "text": [
      "| \u001b[39m100      \u001b[39m | \u001b[39m0.56     \u001b[39m | \u001b[39m25.86    \u001b[39m | \u001b[39m0.0825   \u001b[39m |\n"
     ]
    },
    {
     "name": "stderr",
     "output_type": "stream",
     "text": [
      "Running basic active sampling: 100%|██████████| 3/3 [00:01<00:00,  2.13it/s]\n"
     ]
    },
    {
     "name": "stdout",
     "output_type": "stream",
     "text": [
      "| \u001b[39m101      \u001b[39m | \u001b[39m0.5846   \u001b[39m | \u001b[39m17.48    \u001b[39m | \u001b[39m0.0962   \u001b[39m |\n"
     ]
    },
    {
     "name": "stderr",
     "output_type": "stream",
     "text": [
      "Running basic active sampling: 100%|██████████| 3/3 [00:01<00:00,  1.86it/s]\n"
     ]
    },
    {
     "name": "stdout",
     "output_type": "stream",
     "text": [
      "| \u001b[39m102      \u001b[39m | \u001b[39m0.5117   \u001b[39m | \u001b[39m12.72    \u001b[39m | \u001b[39m0.09011  \u001b[39m |\n"
     ]
    },
    {
     "name": "stderr",
     "output_type": "stream",
     "text": [
      "Running basic active sampling: 100%|██████████| 3/3 [00:02<00:00,  1.46it/s]\n"
     ]
    },
    {
     "name": "stdout",
     "output_type": "stream",
     "text": [
      "| \u001b[39m103      \u001b[39m | \u001b[39m0.4671   \u001b[39m | \u001b[39m20.78    \u001b[39m | \u001b[39m0.09167  \u001b[39m |\n"
     ]
    },
    {
     "name": "stderr",
     "output_type": "stream",
     "text": [
      "Running basic active sampling: 100%|██████████| 3/3 [00:02<00:00,  1.29it/s]\n"
     ]
    },
    {
     "name": "stdout",
     "output_type": "stream",
     "text": [
      "| \u001b[39m104      \u001b[39m | \u001b[39m0.5656   \u001b[39m | \u001b[39m11.16    \u001b[39m | \u001b[39m0.09064  \u001b[39m |\n"
     ]
    },
    {
     "name": "stderr",
     "output_type": "stream",
     "text": [
      "Running basic active sampling: 100%|██████████| 3/3 [00:02<00:00,  1.41it/s]\n"
     ]
    },
    {
     "name": "stdout",
     "output_type": "stream",
     "text": [
      "| \u001b[39m105      \u001b[39m | \u001b[39m0.6032   \u001b[39m | \u001b[39m20.77    \u001b[39m | \u001b[39m0.09764  \u001b[39m |\n"
     ]
    },
    {
     "name": "stderr",
     "output_type": "stream",
     "text": [
      "Running basic active sampling: 100%|██████████| 3/3 [00:01<00:00,  2.22it/s]\n"
     ]
    },
    {
     "name": "stdout",
     "output_type": "stream",
     "text": [
      "| \u001b[39m106      \u001b[39m | \u001b[39m0.4499   \u001b[39m | \u001b[39m10.11    \u001b[39m | \u001b[39m0.05455  \u001b[39m |\n"
     ]
    },
    {
     "name": "stderr",
     "output_type": "stream",
     "text": [
      "Running basic active sampling: 100%|██████████| 3/3 [00:01<00:00,  1.99it/s]\n"
     ]
    },
    {
     "name": "stdout",
     "output_type": "stream",
     "text": [
      "| \u001b[39m107      \u001b[39m | \u001b[39m0.4727   \u001b[39m | \u001b[39m21.59    \u001b[39m | \u001b[39m0.08573  \u001b[39m |\n"
     ]
    },
    {
     "name": "stderr",
     "output_type": "stream",
     "text": [
      "Running basic active sampling: 100%|██████████| 3/3 [00:01<00:00,  2.14it/s]\n"
     ]
    },
    {
     "name": "stdout",
     "output_type": "stream",
     "text": [
      "| \u001b[39m108      \u001b[39m | \u001b[39m0.5758   \u001b[39m | \u001b[39m11.16    \u001b[39m | \u001b[39m0.09582  \u001b[39m |\n"
     ]
    },
    {
     "name": "stderr",
     "output_type": "stream",
     "text": [
      "Running basic active sampling: 100%|██████████| 3/3 [00:01<00:00,  2.03it/s]\n"
     ]
    },
    {
     "name": "stdout",
     "output_type": "stream",
     "text": [
      "| \u001b[39m109      \u001b[39m | \u001b[39m0.5498   \u001b[39m | \u001b[39m20.77    \u001b[39m | \u001b[39m0.09206  \u001b[39m |\n"
     ]
    },
    {
     "name": "stderr",
     "output_type": "stream",
     "text": [
      "Running basic active sampling: 100%|██████████| 3/3 [00:01<00:00,  2.55it/s]\n"
     ]
    },
    {
     "name": "stdout",
     "output_type": "stream",
     "text": [
      "| \u001b[39m110      \u001b[39m | \u001b[39m0.5533   \u001b[39m | \u001b[39m20.77    \u001b[39m | \u001b[39m0.09716  \u001b[39m |\n"
     ]
    },
    {
     "name": "stderr",
     "output_type": "stream",
     "text": [
      "Running basic active sampling: 100%|██████████| 3/3 [00:01<00:00,  2.37it/s]\n"
     ]
    },
    {
     "name": "stdout",
     "output_type": "stream",
     "text": [
      "| \u001b[39m111      \u001b[39m | \u001b[39m0.5816   \u001b[39m | \u001b[39m17.48    \u001b[39m | \u001b[39m0.08953  \u001b[39m |\n"
     ]
    },
    {
     "name": "stderr",
     "output_type": "stream",
     "text": [
      "Running basic active sampling: 100%|██████████| 3/3 [00:03<00:00,  1.06s/it]\n"
     ]
    },
    {
     "name": "stdout",
     "output_type": "stream",
     "text": [
      "| \u001b[39m112      \u001b[39m | \u001b[39m0.08527  \u001b[39m | \u001b[39m29.23    \u001b[39m | \u001b[39m0.03222  \u001b[39m |\n"
     ]
    },
    {
     "name": "stderr",
     "output_type": "stream",
     "text": [
      "Running basic active sampling: 100%|██████████| 3/3 [00:01<00:00,  2.23it/s]\n"
     ]
    },
    {
     "name": "stdout",
     "output_type": "stream",
     "text": [
      "| \u001b[39m113      \u001b[39m | \u001b[39m0.4788   \u001b[39m | \u001b[39m17.48    \u001b[39m | \u001b[39m0.08824  \u001b[39m |\n"
     ]
    },
    {
     "name": "stderr",
     "output_type": "stream",
     "text": [
      "Running basic active sampling: 100%|██████████| 3/3 [00:01<00:00,  2.50it/s]\n"
     ]
    },
    {
     "name": "stdout",
     "output_type": "stream",
     "text": [
      "| \u001b[39m114      \u001b[39m | \u001b[39m0.5833   \u001b[39m | \u001b[39m11.16    \u001b[39m | \u001b[39m0.09418  \u001b[39m |\n"
     ]
    },
    {
     "name": "stderr",
     "output_type": "stream",
     "text": [
      "Running basic active sampling: 100%|██████████| 3/3 [00:01<00:00,  2.22it/s]\n"
     ]
    },
    {
     "name": "stdout",
     "output_type": "stream",
     "text": [
      "| \u001b[39m115      \u001b[39m | \u001b[39m0.5476   \u001b[39m | \u001b[39m10.54    \u001b[39m | \u001b[39m0.0892   \u001b[39m |\n"
     ]
    },
    {
     "name": "stderr",
     "output_type": "stream",
     "text": [
      "Running basic active sampling: 100%|██████████| 3/3 [00:01<00:00,  2.18it/s]\n"
     ]
    },
    {
     "name": "stdout",
     "output_type": "stream",
     "text": [
      "| \u001b[39m116      \u001b[39m | \u001b[39m0.476    \u001b[39m | \u001b[39m25.86    \u001b[39m | \u001b[39m0.07777  \u001b[39m |\n"
     ]
    },
    {
     "name": "stderr",
     "output_type": "stream",
     "text": [
      "Running basic active sampling: 100%|██████████| 3/3 [00:01<00:00,  2.38it/s]\n"
     ]
    },
    {
     "name": "stdout",
     "output_type": "stream",
     "text": [
      "| \u001b[39m117      \u001b[39m | \u001b[39m0.5624   \u001b[39m | \u001b[39m11.15    \u001b[39m | \u001b[39m0.09145  \u001b[39m |\n"
     ]
    },
    {
     "name": "stderr",
     "output_type": "stream",
     "text": [
      "Running basic active sampling: 100%|██████████| 3/3 [00:01<00:00,  2.11it/s]\n"
     ]
    },
    {
     "name": "stdout",
     "output_type": "stream",
     "text": [
      "| \u001b[39m118      \u001b[39m | \u001b[39m0.5482   \u001b[39m | \u001b[39m11.17    \u001b[39m | \u001b[39m0.09319  \u001b[39m |\n"
     ]
    },
    {
     "name": "stderr",
     "output_type": "stream",
     "text": [
      "Running basic active sampling: 100%|██████████| 3/3 [00:01<00:00,  2.39it/s]\n"
     ]
    },
    {
     "name": "stdout",
     "output_type": "stream",
     "text": [
      "| \u001b[39m119      \u001b[39m | \u001b[39m0.4656   \u001b[39m | \u001b[39m10.37    \u001b[39m | \u001b[39m0.05713  \u001b[39m |\n"
     ]
    },
    {
     "name": "stderr",
     "output_type": "stream",
     "text": [
      "Running basic active sampling: 100%|██████████| 3/3 [00:01<00:00,  1.88it/s]\n"
     ]
    },
    {
     "name": "stdout",
     "output_type": "stream",
     "text": [
      "| \u001b[39m120      \u001b[39m | \u001b[39m0.4178   \u001b[39m | \u001b[39m17.48    \u001b[39m | \u001b[39m0.08333  \u001b[39m |\n"
     ]
    },
    {
     "name": "stderr",
     "output_type": "stream",
     "text": [
      "Running basic active sampling: 100%|██████████| 3/3 [00:01<00:00,  1.77it/s]\n"
     ]
    },
    {
     "name": "stdout",
     "output_type": "stream",
     "text": [
      "| \u001b[39m121      \u001b[39m | \u001b[39m0.4452   \u001b[39m | \u001b[39m21.09    \u001b[39m | \u001b[39m0.07447  \u001b[39m |\n"
     ]
    },
    {
     "name": "stderr",
     "output_type": "stream",
     "text": [
      "Running basic active sampling: 100%|██████████| 3/3 [00:01<00:00,  2.45it/s]\n"
     ]
    },
    {
     "name": "stdout",
     "output_type": "stream",
     "text": [
      "| \u001b[39m122      \u001b[39m | \u001b[39m0.5408   \u001b[39m | \u001b[39m11.15    \u001b[39m | \u001b[39m0.09883  \u001b[39m |\n"
     ]
    },
    {
     "name": "stderr",
     "output_type": "stream",
     "text": [
      "Running basic active sampling: 100%|██████████| 3/3 [00:01<00:00,  2.12it/s]\n"
     ]
    },
    {
     "name": "stdout",
     "output_type": "stream",
     "text": [
      "| \u001b[39m123      \u001b[39m | \u001b[39m0.4794   \u001b[39m | \u001b[39m12.72    \u001b[39m | \u001b[39m0.09803  \u001b[39m |\n"
     ]
    },
    {
     "name": "stderr",
     "output_type": "stream",
     "text": [
      "Running basic active sampling: 100%|██████████| 3/3 [00:01<00:00,  2.66it/s]\n"
     ]
    },
    {
     "name": "stdout",
     "output_type": "stream",
     "text": [
      "| \u001b[39m124      \u001b[39m | \u001b[39m0.5478   \u001b[39m | \u001b[39m11.17    \u001b[39m | \u001b[39m0.0981   \u001b[39m |\n"
     ]
    },
    {
     "name": "stderr",
     "output_type": "stream",
     "text": [
      "Running basic active sampling: 100%|██████████| 3/3 [00:01<00:00,  1.55it/s]\n"
     ]
    },
    {
     "name": "stdout",
     "output_type": "stream",
     "text": [
      "| \u001b[39m125      \u001b[39m | \u001b[39m0.5437   \u001b[39m | \u001b[39m17.49    \u001b[39m | \u001b[39m0.08772  \u001b[39m |\n"
     ]
    },
    {
     "name": "stderr",
     "output_type": "stream",
     "text": [
      "Running basic active sampling: 100%|██████████| 3/3 [00:01<00:00,  1.63it/s]\n"
     ]
    },
    {
     "name": "stdout",
     "output_type": "stream",
     "text": [
      "| \u001b[35m126      \u001b[39m | \u001b[35m0.626    \u001b[39m | \u001b[35m20.77    \u001b[39m | \u001b[35m0.09141  \u001b[39m |\n"
     ]
    },
    {
     "name": "stderr",
     "output_type": "stream",
     "text": [
      "Running basic active sampling: 100%|██████████| 3/3 [00:01<00:00,  2.45it/s]\n"
     ]
    },
    {
     "name": "stdout",
     "output_type": "stream",
     "text": [
      "| \u001b[39m127      \u001b[39m | \u001b[39m0.5854   \u001b[39m | \u001b[39m11.15    \u001b[39m | \u001b[39m0.09098  \u001b[39m |\n"
     ]
    },
    {
     "name": "stderr",
     "output_type": "stream",
     "text": [
      "Running basic active sampling: 100%|██████████| 3/3 [00:01<00:00,  2.20it/s]\n"
     ]
    },
    {
     "name": "stdout",
     "output_type": "stream",
     "text": [
      "| \u001b[39m128      \u001b[39m | \u001b[39m0.5183   \u001b[39m | \u001b[39m11.14    \u001b[39m | \u001b[39m0.09011  \u001b[39m |\n"
     ]
    },
    {
     "name": "stderr",
     "output_type": "stream",
     "text": [
      "Running basic active sampling: 100%|██████████| 3/3 [00:01<00:00,  2.13it/s]\n"
     ]
    },
    {
     "name": "stdout",
     "output_type": "stream",
     "text": [
      "| \u001b[39m129      \u001b[39m | \u001b[39m0.5306   \u001b[39m | \u001b[39m11.14    \u001b[39m | \u001b[39m0.09401  \u001b[39m |\n"
     ]
    },
    {
     "name": "stderr",
     "output_type": "stream",
     "text": [
      "Running basic active sampling: 100%|██████████| 3/3 [00:01<00:00,  2.80it/s]\n"
     ]
    },
    {
     "name": "stdout",
     "output_type": "stream",
     "text": [
      "| \u001b[39m130      \u001b[39m | \u001b[39m0.5694   \u001b[39m | \u001b[39m11.13    \u001b[39m | \u001b[39m0.09291  \u001b[39m |\n"
     ]
    },
    {
     "name": "stderr",
     "output_type": "stream",
     "text": [
      "Running basic active sampling: 100%|██████████| 3/3 [00:02<00:00,  1.11it/s]\n"
     ]
    },
    {
     "name": "stdout",
     "output_type": "stream",
     "text": [
      "| \u001b[39m131      \u001b[39m | \u001b[39m0.01282  \u001b[39m | \u001b[39m23.9     \u001b[39m | \u001b[39m0.03177  \u001b[39m |\n"
     ]
    },
    {
     "name": "stderr",
     "output_type": "stream",
     "text": [
      "Running basic active sampling: 100%|██████████| 3/3 [00:01<00:00,  2.47it/s]\n"
     ]
    },
    {
     "name": "stdout",
     "output_type": "stream",
     "text": [
      "| \u001b[39m132      \u001b[39m | \u001b[39m0.535    \u001b[39m | \u001b[39m11.16    \u001b[39m | \u001b[39m0.09333  \u001b[39m |\n"
     ]
    },
    {
     "name": "stderr",
     "output_type": "stream",
     "text": [
      "Running basic active sampling: 100%|██████████| 3/3 [00:02<00:00,  1.11it/s]\n"
     ]
    },
    {
     "name": "stdout",
     "output_type": "stream",
     "text": [
      "| \u001b[39m133      \u001b[39m | \u001b[39m0.1111   \u001b[39m | \u001b[39m22.66    \u001b[39m | \u001b[39m0.02182  \u001b[39m |\n"
     ]
    },
    {
     "name": "stderr",
     "output_type": "stream",
     "text": [
      "Running basic active sampling: 100%|██████████| 3/3 [00:02<00:00,  1.15it/s]\n"
     ]
    },
    {
     "name": "stdout",
     "output_type": "stream",
     "text": [
      "| \u001b[39m134      \u001b[39m | \u001b[39m0.1311   \u001b[39m | \u001b[39m26.61    \u001b[39m | \u001b[39m0.04757  \u001b[39m |\n"
     ]
    },
    {
     "name": "stderr",
     "output_type": "stream",
     "text": [
      "Running basic active sampling: 100%|██████████| 3/3 [00:01<00:00,  2.27it/s]\n"
     ]
    },
    {
     "name": "stdout",
     "output_type": "stream",
     "text": [
      "| \u001b[39m135      \u001b[39m | \u001b[39m0.493    \u001b[39m | \u001b[39m17.4     \u001b[39m | \u001b[39m0.07972  \u001b[39m |\n"
     ]
    },
    {
     "name": "stderr",
     "output_type": "stream",
     "text": [
      "Running basic active sampling: 100%|██████████| 3/3 [00:01<00:00,  1.86it/s]\n"
     ]
    },
    {
     "name": "stdout",
     "output_type": "stream",
     "text": [
      "| \u001b[39m136      \u001b[39m | \u001b[39m0.5026   \u001b[39m | \u001b[39m11.15    \u001b[39m | \u001b[39m0.08489  \u001b[39m |\n"
     ]
    },
    {
     "name": "stderr",
     "output_type": "stream",
     "text": [
      "Running basic active sampling: 100%|██████████| 3/3 [00:01<00:00,  1.90it/s]\n"
     ]
    },
    {
     "name": "stdout",
     "output_type": "stream",
     "text": [
      "| \u001b[39m137      \u001b[39m | \u001b[39m0.3833   \u001b[39m | \u001b[39m12.42    \u001b[39m | \u001b[39m0.05921  \u001b[39m |\n"
     ]
    },
    {
     "name": "stderr",
     "output_type": "stream",
     "text": [
      "Running basic active sampling: 100%|██████████| 3/3 [00:01<00:00,  1.58it/s]\n"
     ]
    },
    {
     "name": "stdout",
     "output_type": "stream",
     "text": [
      "| \u001b[39m138      \u001b[39m | \u001b[39m0.36     \u001b[39m | \u001b[39m18.24    \u001b[39m | \u001b[39m0.06038  \u001b[39m |\n"
     ]
    },
    {
     "name": "stderr",
     "output_type": "stream",
     "text": [
      "Running basic active sampling: 100%|██████████| 3/3 [00:01<00:00,  2.32it/s]\n"
     ]
    },
    {
     "name": "stdout",
     "output_type": "stream",
     "text": [
      "| \u001b[39m139      \u001b[39m | \u001b[39m0.4667   \u001b[39m | \u001b[39m11.15    \u001b[39m | \u001b[39m0.08627  \u001b[39m |\n"
     ]
    },
    {
     "name": "stderr",
     "output_type": "stream",
     "text": [
      "Running basic active sampling: 100%|██████████| 3/3 [00:01<00:00,  2.18it/s]\n"
     ]
    },
    {
     "name": "stdout",
     "output_type": "stream",
     "text": [
      "| \u001b[39m140      \u001b[39m | \u001b[39m0.5137   \u001b[39m | \u001b[39m12.71    \u001b[39m | \u001b[39m0.08598  \u001b[39m |\n"
     ]
    },
    {
     "name": "stderr",
     "output_type": "stream",
     "text": [
      "Running basic active sampling: 100%|██████████| 3/3 [00:01<00:00,  1.63it/s]\n"
     ]
    },
    {
     "name": "stdout",
     "output_type": "stream",
     "text": [
      "| \u001b[39m141      \u001b[39m | \u001b[39m0.3287   \u001b[39m | \u001b[39m14.22    \u001b[39m | \u001b[39m0.05302  \u001b[39m |\n"
     ]
    },
    {
     "name": "stderr",
     "output_type": "stream",
     "text": [
      "Running basic active sampling: 100%|██████████| 3/3 [00:01<00:00,  2.27it/s]\n"
     ]
    },
    {
     "name": "stdout",
     "output_type": "stream",
     "text": [
      "| \u001b[39m142      \u001b[39m | \u001b[39m0.5189   \u001b[39m | \u001b[39m11.13    \u001b[39m | \u001b[39m0.08854  \u001b[39m |\n"
     ]
    },
    {
     "name": "stderr",
     "output_type": "stream",
     "text": [
      "Running basic active sampling: 100%|██████████| 3/3 [00:01<00:00,  2.07it/s]\n"
     ]
    },
    {
     "name": "stdout",
     "output_type": "stream",
     "text": [
      "| \u001b[39m143      \u001b[39m | \u001b[39m0.5018   \u001b[39m | \u001b[39m11.17    \u001b[39m | \u001b[39m0.08815  \u001b[39m |\n"
     ]
    },
    {
     "name": "stderr",
     "output_type": "stream",
     "text": [
      "Running basic active sampling: 100%|██████████| 3/3 [00:02<00:00,  1.40it/s]\n"
     ]
    },
    {
     "name": "stdout",
     "output_type": "stream",
     "text": [
      "| \u001b[39m144      \u001b[39m | \u001b[39m0.5966   \u001b[39m | \u001b[39m11.13    \u001b[39m | \u001b[39m0.09367  \u001b[39m |\n"
     ]
    },
    {
     "name": "stderr",
     "output_type": "stream",
     "text": [
      "Running basic active sampling: 100%|██████████| 3/3 [00:01<00:00,  2.01it/s]\n"
     ]
    },
    {
     "name": "stdout",
     "output_type": "stream",
     "text": [
      "| \u001b[39m145      \u001b[39m | \u001b[39m0.5568   \u001b[39m | \u001b[39m17.48    \u001b[39m | \u001b[39m0.09313  \u001b[39m |\n"
     ]
    },
    {
     "name": "stderr",
     "output_type": "stream",
     "text": [
      "Running basic active sampling: 100%|██████████| 3/3 [00:01<00:00,  2.31it/s]\n"
     ]
    },
    {
     "name": "stdout",
     "output_type": "stream",
     "text": [
      "| \u001b[39m146      \u001b[39m | \u001b[39m0.5656   \u001b[39m | \u001b[39m11.14    \u001b[39m | \u001b[39m0.09819  \u001b[39m |\n"
     ]
    },
    {
     "name": "stderr",
     "output_type": "stream",
     "text": [
      "Running basic active sampling: 100%|██████████| 3/3 [00:01<00:00,  1.92it/s]\n"
     ]
    },
    {
     "name": "stdout",
     "output_type": "stream",
     "text": [
      "| \u001b[39m147      \u001b[39m | \u001b[39m0.4381   \u001b[39m | \u001b[39m12.23    \u001b[39m | \u001b[39m0.07602  \u001b[39m |\n"
     ]
    },
    {
     "name": "stderr",
     "output_type": "stream",
     "text": [
      "Running basic active sampling: 100%|██████████| 3/3 [00:01<00:00,  2.27it/s]\n"
     ]
    },
    {
     "name": "stdout",
     "output_type": "stream",
     "text": [
      "| \u001b[39m148      \u001b[39m | \u001b[39m0.5472   \u001b[39m | \u001b[39m11.13    \u001b[39m | \u001b[39m0.09963  \u001b[39m |\n"
     ]
    },
    {
     "name": "stderr",
     "output_type": "stream",
     "text": [
      "Running basic active sampling: 100%|██████████| 3/3 [00:01<00:00,  2.21it/s]\n"
     ]
    },
    {
     "name": "stdout",
     "output_type": "stream",
     "text": [
      "| \u001b[39m149      \u001b[39m | \u001b[39m0.6115   \u001b[39m | \u001b[39m11.12    \u001b[39m | \u001b[39m0.09648  \u001b[39m |\n"
     ]
    },
    {
     "name": "stderr",
     "output_type": "stream",
     "text": [
      "Running basic active sampling: 100%|██████████| 3/3 [00:01<00:00,  1.80it/s]\n"
     ]
    },
    {
     "name": "stdout",
     "output_type": "stream",
     "text": [
      "| \u001b[39m150      \u001b[39m | \u001b[39m0.3665   \u001b[39m | \u001b[39m17.7     \u001b[39m | \u001b[39m0.07217  \u001b[39m |\n"
     ]
    },
    {
     "name": "stderr",
     "output_type": "stream",
     "text": [
      "Running basic active sampling: 100%|██████████| 3/3 [00:01<00:00,  1.78it/s]\n"
     ]
    },
    {
     "name": "stdout",
     "output_type": "stream",
     "text": [
      "| \u001b[39m151      \u001b[39m | \u001b[39m0.4583   \u001b[39m | \u001b[39m12.02    \u001b[39m | \u001b[39m0.05286  \u001b[39m |\n"
     ]
    },
    {
     "name": "stderr",
     "output_type": "stream",
     "text": [
      "Running basic active sampling: 100%|██████████| 3/3 [00:01<00:00,  1.88it/s]\n"
     ]
    },
    {
     "name": "stdout",
     "output_type": "stream",
     "text": [
      "| \u001b[39m152      \u001b[39m | \u001b[39m0.4287   \u001b[39m | \u001b[39m17.49    \u001b[39m | \u001b[39m0.08641  \u001b[39m |\n"
     ]
    },
    {
     "name": "stderr",
     "output_type": "stream",
     "text": [
      "Running basic active sampling: 100%|██████████| 3/3 [00:01<00:00,  2.47it/s]\n"
     ]
    },
    {
     "name": "stdout",
     "output_type": "stream",
     "text": [
      "| \u001b[39m153      \u001b[39m | \u001b[39m0.5395   \u001b[39m | \u001b[39m10.53    \u001b[39m | \u001b[39m0.0786   \u001b[39m |\n"
     ]
    },
    {
     "name": "stderr",
     "output_type": "stream",
     "text": [
      "Running basic active sampling: 100%|██████████| 3/3 [00:02<00:00,  1.45it/s]\n"
     ]
    },
    {
     "name": "stdout",
     "output_type": "stream",
     "text": [
      "| \u001b[39m154      \u001b[39m | \u001b[39m0.2957   \u001b[39m | \u001b[39m15.65    \u001b[39m | \u001b[39m0.01972  \u001b[39m |\n"
     ]
    },
    {
     "name": "stderr",
     "output_type": "stream",
     "text": [
      "Running basic active sampling: 100%|██████████| 3/3 [00:01<00:00,  2.37it/s]"
     ]
    },
    {
     "name": "stdout",
     "output_type": "stream",
     "text": [
      "| \u001b[39m155      \u001b[39m | \u001b[39m0.5339   \u001b[39m | \u001b[39m11.12    \u001b[39m | \u001b[39m0.09261  \u001b[39m |\n",
      "=================================================\n"
     ]
    },
    {
     "name": "stderr",
     "output_type": "stream",
     "text": [
      "\n"
     ]
    }
   ],
   "source": [
    "import random\n",
    "from bayes_opt import BayesianOptimization\n",
    "import pickle\n",
    "\n",
    "def objective_hyperparams_basic(uncertainty_threshold, max_iterations):\n",
    "    max_iterations = int(max_iterations)\n",
    "    hyperparams = {\"max_iterations\": max_iterations, \"uncertainty_threshold\": uncertainty_threshold}\n",
    "\n",
    "    selected_params = random.sample(params_mostData, 3)\n",
    "    results_list = run_active_sampling_basic(selected_params, data_filtered, sort=True, verbose=False, **hyperparams)\n",
    "    \n",
    "    avg_r2 = sum(result['final_r2'] for result in results_list) / len(results_list)\n",
    "    utilization_vals = [result['total_samples_used'] / result['total_data_count'] for result in results_list]\n",
    "    avg_utilization = sum(utilization_vals) / len(utilization_vals)\n",
    "    score = 1 - avg_utilization\n",
    "    if avg_r2 < 0.96:\n",
    "        penalty = (0.96 - avg_r2) * 100\n",
    "        score -= penalty\n",
    "    return score\n",
    "\n",
    "pbounds_basic = {\"uncertainty_threshold\": (0.01, 0.1), \"max_iterations\": (10, 30)}\n",
    "\n",
    "optimizer_basic = BayesianOptimization(f=objective_hyperparams_basic, pbounds=pbounds_basic, random_state=42)\n",
    "optimizer_basic.maximize(init_points=5, n_iter=150)\n",
    "\n",
    "basic_optimized_hyperparameters = {k: int(v) if k == \"max_iterations\" else v for k, v in optimizer_basic.max['params'].items()}\n",
    "\n",
    "with open(\"basic_optimized_hyperparameters.pkl\", \"wb\") as f:\n",
    "    pickle.dump(basic_optimized_hyperparameters, f)\n"
   ]
  },
  {
   "cell_type": "code",
   "execution_count": 30,
   "metadata": {},
   "outputs": [
    {
     "name": "stderr",
     "output_type": "stream",
     "text": [
      "Running basic active sampling: 100%|██████████| 40/40 [00:21<00:00,  1.86it/s]\n"
     ]
    },
    {
     "data": {
      "image/png": "[encoded data removed]",
      "text/plain": [
       "<Figure size 1800x600 with 3 Axes>"
      ]
     },
     "metadata": {},
     "output_type": "display_data"
    },
    {
     "name": "stdout",
     "output_type": "stream",
     "text": [
      "Average Final R²: 0.9999\n",
      "Average Samples Used: 11.95\n",
      "Average Data Utilization: 45.25%\n"
     ]
    }
   ],
   "source": [
    "with open(\"basic_optimized_hyperparameters.pkl\", \"rb\") as f:\n",
    "    basic_optimized_hyperparameters = pickle.load(f)\n",
    "\n",
    "results_basic = run_active_sampling_basic(params_mostData, data_filtered, sort=True, verbose=False, **basic_optimized_hyperparameters)\n",
    "visualize_aggregated_results(results_basic, \"Basic - sorted - optimized \", basic_optimized_hyperparameters)"
   ]
  },
  {
   "cell_type": "markdown",
   "metadata": {},
   "source": [
    "##### Stagnant hyperparameters optimization"
   ]
  },
  {
   "cell_type": "code",
   "execution_count": null,
   "metadata": {},
   "outputs": [],
   "source": [
    "import random\n",
    "from bayes_opt import BayesianOptimization\n",
    "import pickle\n",
    "\n",
    "def objective_hyperparams_stagnant(uncertainty_threshold, higher_uncertainty_threshold, r2_improvement_threshold, max_stagnant_iterations, max_iterations):\n",
    "    max_stagnant_iterations = int(max_stagnant_iterations)\n",
    "    max_iterations = int(max_iterations)\n",
    "    hyperparams = {\n",
    "        \"max_iterations\": max_iterations,\n",
    "        \"uncertainty_threshold\": uncertainty_threshold,\n",
    "        \"higher_uncertainty_threshold\": higher_uncertainty_threshold,\n",
    "        \"r2_improvement_threshold\": r2_improvement_threshold,\n",
    "        \"max_stagnant_iterations\": max_stagnant_iterations,\n",
    "    }\n",
    "    selected_params = random.sample(params_mostData, 3)\n",
    "    results_list = run_active_sampling_stagnant(selected_params, data_filtered, sort=True, verbose=False, **hyperparams)\n",
    "    avg_r2 = sum(result['final_r2'] for result in results_list) / len(results_list)\n",
    "    utilization_vals = [result['total_samples_used'] / result['total_data_count'] for result in results_list]\n",
    "    avg_utilization = sum(utilization_vals) / len(utilization_vals)\n",
    "    score = 1 - avg_utilization\n",
    "    if avg_r2 < 0.96:\n",
    "        penalty = (0.96 - avg_r2) * 100\n",
    "        score -= penalty\n",
    "    return score\n",
    "\n",
    "pbounds = {\n",
    "    \"uncertainty_threshold\": (0.01, 0.1),\n",
    "    \"higher_uncertainty_threshold\": (0.05, 0.2),\n",
    "    \"r2_improvement_threshold\": (1e-5, 1e-3),\n",
    "    \"max_stagnant_iterations\": (2, 5),\n",
    "    \"max_iterations\": (10, 30),\n",
    "}\n",
    "\n",
    "optimizer = BayesianOptimization(\n",
    "    f=objective_hyperparams_stagnant,\n",
    "    pbounds=pbounds,\n",
    "    random_state=42,\n",
    ")\n",
    "optimizer.maximize(init_points=5, n_iter=150)\n",
    "\n",
    "stagnant_optimized_hyperparameters = {\n",
    "    k: int(v) if k in ['max_iterations', 'max_stagnant_iterations'] else v \n",
    "    for k, v in optimizer.max['params'].items()\n",
    "}\n",
    "\n",
    "with open(\"stagnant_optimized_hyperparameters.pkl\", \"wb\") as f:\n",
    "    pickle.dump(stagnant_optimized_hyperparameters, f)\n"
   ]
  },
  {
   "cell_type": "code",
   "execution_count": null,
   "metadata": {},
   "outputs": [],
   "source": [
    "import pickle\n",
    "\n",
    "with open(\"stagnant_optimized_hyperparameters.pkl\", \"rb\") as f:\n",
    "    stagnant_optimized_hyperparameters = pickle.load(f)\n",
    "\n",
    "results_stagnant = run_active_sampling_stagnant(params_mostData, data_filtered, sort=True ,verbose=False, **stagnant_optimized_hyperparameters)\n",
    "visualize_aggregated_results(results_stagnant, \"Stagnant - sorted - optimized\", stagnant_optimized_hyperparameters)\n"
   ]
  },
  {
   "cell_type": "markdown",
   "metadata": {},
   "source": [
    "##### Hyperparameters Fine-Tuning Result Analysis"
   ]
  },
  {
   "cell_type": "markdown",
   "metadata": {},
   "source": [
    "After fine-tuning our hyperparameters using Bayesian Optimization, we achieved impressive improvements in data utilization without sacrificing model performance.\n",
    "\n",
    "**Results visualized**\n",
    "\n",
    "**Before optimization:**\n",
    "![Basic results pre](./images/step4-basic-sorted-Result(pre-tuning).png)\n",
    "![stagnat results pre](./images/step4-stagnat-sorted-Result(pre-tuning).png)\n",
    "\n",
    "\n",
    "**After optimization:**\n",
    "![Basic results post](./images/step4-optimized-basic.png)\n",
    "![stagnat results post](./images/step4-optimized-stagnat.png)\n",
    "\n",
    "\n",
    "**Compression**\n",
    "\n",
    "| **Model**    | **Metric**           | **Before Tuning**               | **After Tuning**                | **Percentage Change**        |\n",
    "|--------------|----------------------|---------------------------------|---------------------------------|------------------------------|\n",
    "| **Stagnant** | Data Utilization     | 48.24% (~12.78 samples/run)     | 37.52% (~9.95 samples/run)         | ~25% reduction               |\n",
    "|              | R² Reduction         | 0% drop                         | ~0.13% drop (<0.0015 reduction)   | ~0.13% drop (negligible)     |\n",
    "| **Basic**    | Data Utilization     | 67.82% (~18 samples/run)      | 42.94% (~11.35 samples/run)         | ~36% reduction               |\n",
    "|              | R² Reduction         | 0% drop                         | No visible drop                | 0% change                   |\n",
    "\n",
    "\n",
    "**Summary**\n",
    "\n",
    "We are very pleased with the final results. With the tuned hyperparameters, our stagnant model now uses only about 10 samples per run to predict the entire month’s prices with nearly 100% accuracy. This level of efficiency and performance is truly remarkable and demonstrates the strength of our approach in balancing model accuracy with data efficiency."
   ]
  },
  {
   "cell_type": "markdown",
   "metadata": {},
   "source": [
    "## step 5 - PySpark & Mllib for step 3"
   ]
  },
  {
   "cell_type": "markdown",
   "metadata": {},
   "source": [
    "### Installation"
   ]
  },
  {
   "cell_type": "markdown",
   "metadata": {},
   "source": [
    "Spark requires a java version of 8 or 11 to work"
   ]
  },
  {
   "cell_type": "code",
   "execution_count": null,
   "metadata": {},
   "outputs": [],
   "source": [
    "%%capture \n",
    "!conda install -c conda-forge openjdk=11 -y"
   ]
  },
  {
   "cell_type": "markdown",
   "metadata": {},
   "source": [
    "config spark to work with our env java version(11)"
   ]
  },
  {
   "cell_type": "code",
   "execution_count": null,
   "metadata": {},
   "outputs": [],
   "source": [
    "import os \n",
    "java_home_path = os.popen('dirname $(dirname $(which java))').read().strip()\n",
    "os.environ[\"JAVA_HOME\"] = java_home_path\n",
    "print(f\"JAVA_HOME is set to: {os.environ['JAVA_HOME']}\")\n"
   ]
  },
  {
   "cell_type": "code",
   "execution_count": null,
   "metadata": {},
   "outputs": [],
   "source": [
    "%%capture \n",
    "%pip install pyspark plotly"
   ]
  },
  {
   "cell_type": "markdown",
   "metadata": {},
   "source": [
    "### Create Spark session"
   ]
  },
  {
   "cell_type": "code",
   "execution_count": null,
   "metadata": {},
   "outputs": [],
   "source": [
    "from pyspark.sql import SparkSession\n",
    "from pyspark.sql.functions import col, count, lit, concat, first, array, udf\n",
    "from pyspark.sql.types import ArrayType, IntegerType\n",
    "from pyspark.ml.feature import VectorAssembler\n",
    "from pyspark.ml.clustering import BisectingKMeans\n",
    "from pyspark.sql.functions import min as spark_min\n",
    "\n",
    "try:\n",
    "    spark.stop()\n",
    "except:\n",
    "    pass\n",
    "\n",
    "spark = SparkSession.builder.appName(\"HotelClustering\").getOrCreate()\n",
    "print(\"Create Spark session\") "
   ]
  },
  {
   "cell_type": "markdown",
   "metadata": {},
   "source": [
    "### Data Loading and Filtering"
   ]
  },
  {
   "cell_type": "markdown",
   "metadata": {},
   "source": [
    "- Load the CSV file.\n",
    "- Select the top 150 hotels (by number of records).\n",
    "- Select the top 40 checkin dates."
   ]
  },
  {
   "cell_type": "code",
   "execution_count": null,
   "metadata": {},
   "outputs": [],
   "source": [
    "file_path = \"./hotels_data_changed.csv\"\n",
    "\n",
    "df = spark.read.option(\"header\", \"true\").option(\"inferSchema\", \"true\").csv(file_path)\n",
    "\n",
    "top150_hotels = df.groupBy(\"Hotel Name\").agg(count(\"*\").alias(\"cnt\")) .orderBy(col(\"cnt\").desc()).limit(150)\n",
    "\n",
    "\n",
    "df_top150 = df.join(top150_hotels.select(\"Hotel Name\"), on=\"Hotel Name\", how=\"inner\")\n",
    "\n",
    "\n",
    "top40_dates = df_top150.groupBy(\"Checkin Date\").agg(count(\"*\").alias(\"cnt\")).orderBy(col(\"cnt\").desc()).limit(40)\n",
    "\n",
    "df_top150_dates = df_top150.join(top40_dates.select(\"Checkin Date\"), on=\"Checkin Date\", how=\"inner\")\n",
    "\n",
    "df_top150_dates.head()\n"
   ]
  },
  {
   "cell_type": "markdown",
   "metadata": {},
   "source": [
    "### Convert to 160-dims vector"
   ]
  },
  {
   "cell_type": "code",
   "execution_count": null,
   "metadata": {},
   "outputs": [],
   "source": [
    "df_grouped = df_top150_dates.groupBy(\"Hotel Name\", \"Checkin Date\", \"Discount Code\").agg(spark_min(\"Discount Price\").alias(\"minDiscountPrice\"))\n",
    "\n",
    "df_grouped = df_grouped.withColumn(\"date_code\", concat(col(\"Checkin Date\"), lit(\"_\"), col(\"Discount Code\")))\n",
    "\n",
    "df_pivot = df_grouped.groupBy(\"Hotel Name\").pivot(\"date_code\").agg(first(\"minDiscountPrice\"))\n",
    "\n",
    "df_pivot = df_pivot.fillna(-1)\n",
    "\n",
    "df_pivot.head(3)"
   ]
  },
  {
   "cell_type": "markdown",
   "metadata": {},
   "source": [
    "We might find ourself in a situation where some of the hotels don't have a column for all the 160 dates + discount codes.\n",
    "So we would ensure thy all have that."
   ]
  },
  {
   "cell_type": "code",
   "execution_count": null,
   "metadata": {},
   "outputs": [],
   "source": [
    "top40_list = [row[\"Checkin Date\"] for row in top40_dates.collect()]\n",
    "discount_codes = [1, 2, 3, 4]\n",
    "\n",
    "# Build the expected column names (format: \"YYYY-MM-DD_1\", etc.)\n",
    "expected_cols = [f\"{date}_{code}\" for date in top40_list for code in discount_codes]\n",
    "\n",
    "# Add any missing expected columns with default -1\n",
    "existing_cols = df_pivot.columns\n",
    "for col_name in expected_cols:\n",
    "    if col_name not in existing_cols:\n",
    "        df_pivot = df_pivot.withColumn(col_name, lit(-1))\n",
    "\n",
    "# Reorder the DataFrame columns so that they appear in the desired order:\n",
    "df_pivot = df_pivot.select([\"Hotel Name\"] + expected_cols)\n",
    "df_pivot.head(3)"
   ]
  },
  {
   "cell_type": "markdown",
   "metadata": {},
   "source": [
    "### Normalization and Save to CSV"
   ]
  },
  {
   "cell_type": "markdown",
   "metadata": {},
   "source": [
    "Normalize the 160 price columns row-by-row (scaling valid prices to a 0–100 range, leaving missing values as -1)."
   ]
  },
  {
   "cell_type": "code",
   "execution_count": null,
   "metadata": {},
   "outputs": [],
   "source": [
    "# Combine the 160 price columns into an array column\n",
    "df_pivot = df_pivot.withColumn(\"prices_array\", array(*expected_cols))\n",
    "\n",
    "# Define a UDF for normalizing the prices for each hotel (ignoring -1 values)\n",
    "def normalize_prices(prices):\n",
    "    # Filter out missing values (-1)\n",
    "    valid_prices = [p for p in prices if p != -1]\n",
    "    if not valid_prices:\n",
    "        return prices\n",
    "    min_price = min(valid_prices)\n",
    "    max_price = max(valid_prices)\n",
    "    if min_price == max_price:\n",
    "        return [0 if p != -1 else -1 for p in prices]\n",
    "    normalized = []\n",
    "    for p in prices:\n",
    "        if p == -1:\n",
    "            normalized.append(-1)\n",
    "        else:\n",
    "            norm_val = round(((p - min_price) / (max_price - min_price)) * 100)\n",
    "            normalized.append(int(norm_val))\n",
    "    return normalized\n",
    "\n",
    "normalize_udf = udf(normalize_prices, ArrayType(IntegerType()))\n",
    "\n",
    "# Apply the normalization UDF to create a new column with normalized prices.\n",
    "df_pivot = df_pivot.withColumn(\"norm_prices_array\", normalize_udf(\"prices_array\"))\n",
    "\n",
    "# Replace the original price columns with the normalized values.\n",
    "for i, col_name in enumerate(expected_cols):\n",
    "    df_pivot = df_pivot.withColumn(col_name, col(\"norm_prices_array\")[i])\n",
    "\n",
    "# Optionally, drop helper columns.\n",
    "df_final = df_pivot.drop(\"prices_array\", \"norm_prices_array\")\n"
   ]
  },
  {
   "cell_type": "markdown",
   "metadata": {},
   "source": [
    "**Save to CSV**"
   ]
  },
  {
   "cell_type": "code",
   "execution_count": null,
   "metadata": {},
   "outputs": [],
   "source": [
    "pyspark_hotels_clustering_data= \"./pyspark_hotels_clustering_data.csv\"\n",
    "df_final.write.option(\"header\", \"true\").mode(\"overwrite\").csv(pyspark_hotels_clustering_data)\n"
   ]
  },
  {
   "cell_type": "markdown",
   "metadata": {},
   "source": [
    "### Clustering"
   ]
  },
  {
   "cell_type": "markdown",
   "metadata": {},
   "source": [
    "#### Read CSV and assemble features"
   ]
  },
  {
   "cell_type": "code",
   "execution_count": null,
   "metadata": {},
   "outputs": [],
   "source": [
    "from pyspark.ml.feature import VectorAssembler\n",
    "\n",
    "# Define the path to the CSV folder that was saved in Step 5.\n",
    "pyspark_hotels_clustering_data = \"./pyspark_hotels_clustering_data.csv\"\n",
    "\n",
    "# Read the CSV data (Spark will read all part files in the folder)\n",
    "df_loaded = spark.read.option(\"header\", \"true\").option(\"inferSchema\", \"true\").csv(pyspark_hotels_clustering_data)\n",
    "\n",
    "# Identify the feature columns (all columns except \"Hotel Name\")\n",
    "feature_cols = [col for col in df_loaded.columns if col != \"Hotel Name\"]\n",
    "\n",
    "# Assemble the 160 normalized price columns into a single feature vector.\n",
    "\n",
    "assembler = VectorAssembler(inputCols=feature_cols, outputCol=\"features\")\n",
    "df_features = assembler.transform(df_loaded)\n"
   ]
  },
  {
   "cell_type": "markdown",
   "metadata": {},
   "source": [
    "#### Clustering with MLlib (BisectingKMeans)"
   ]
  },
  {
   "cell_type": "code",
   "execution_count": null,
   "metadata": {},
   "outputs": [],
   "source": [
    "from pyspark.ml.clustering import BisectingKMeans\n",
    "\n",
    "# Set the number of clusters (adjust k as needed)\n",
    "bkmeans = BisectingKMeans(featuresCol=\"features\", predictionCol=\"cluster\", k=4)\n",
    "\n",
    "# Train the model\n",
    "model = bkmeans.fit(df_features)\n",
    "\n",
    "# Add the cluster assignments to the DataFrame\n",
    "df_clustered = model.transform(df_features)\n",
    "\n",
    "# Show the hotel names along with their cluster assignments\n",
    "df_clustered.select(\"Hotel Name\", \"cluster\").show(truncate=False)\n"
   ]
  },
  {
   "cell_type": "markdown",
   "metadata": {},
   "source": [
    "#### Visualization with PCA and Plotly"
   ]
  },
  {
   "cell_type": "markdown",
   "metadata": {},
   "source": [
    "Since the features are 160-dimensional, we use PCA to reduce them to 2 dimensions for visualization. Then, we convert the Spark DataFrame to a Pandas DataFrame and use Plotly Express to create a scatter plot."
   ]
  },
  {
   "cell_type": "code",
   "execution_count": null,
   "metadata": {},
   "outputs": [],
   "source": [
    "from pyspark.ml.feature import PCA\n",
    "pca = PCA(k=2, inputCol=\"features\", outputCol=\"pcaFeatures\")\n",
    "pca_model = pca.fit(df_clustered)\n",
    "df_pca = pca_model.transform(df_clustered)\n",
    "\n",
    "pandas_df = df_pca.select(\"Hotel Name\", \"cluster\", \"pcaFeatures\").toPandas()\n",
    "\n",
    "# Split the PCA features into two separate columns for plotting\n",
    "pandas_df[\"pca1\"] = pandas_df[\"pcaFeatures\"].apply(lambda x: x[0])\n",
    "pandas_df[\"pca2\"] = pandas_df[\"pcaFeatures\"].apply(lambda x: x[1])\n"
   ]
  },
  {
   "cell_type": "code",
   "execution_count": null,
   "metadata": {},
   "outputs": [],
   "source": [
    "import plotly.express as px\n",
    "\n",
    "fig = px.scatter(\n",
    "    pandas_df,\n",
    "    x=\"pca1\",\n",
    "    y=\"pca2\",\n",
    "    color=\"cluster\",\n",
    "    hover_data=[\"Hotel Name\"],\n",
    "    title=\"Hotel Clusters Visualization (PCA Reduced)\"\n",
    ")\n",
    "fig.show()\n"
   ]
  },
  {
   "cell_type": "markdown",
   "metadata": {},
   "source": [
    "#### Stop the spark session"
   ]
  },
  {
   "cell_type": "code",
   "execution_count": null,
   "metadata": {},
   "outputs": [],
   "source": [
    "spark.stop()"
   ]
  }
 ],
 "metadata": {
  "kernelspec": {
   "display_name": "DS-101-Final",
   "language": "python",
   "name": "python3"
  },
  "language_info": {
   "codemirror_mode": {
    "name": "ipython",
    "version": 3
   },
   "file_extension": ".py",
   "mimetype": "text/x-python",
   "name": "python",
   "nbconvert_exporter": "python",
   "pygments_lexer": "ipython3",
   "version": "3.12.8"
  }
 },
 "nbformat": 4,
 "nbformat_minor": 2
}
