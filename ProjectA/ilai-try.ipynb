{
 "cells": [
  {
   "cell_type": "code",
   "execution_count": 7,
   "metadata": {},
   "outputs": [
    {
     "name": "stdout",
     "output_type": "stream",
     "text": [
      "Requirement already satisfied: pandas in c:\\users\\ilai\\anaconda3\\lib\\site-packages (2.2.3)\n",
      "Requirement already satisfied: matplotlib in c:\\users\\ilai\\anaconda3\\lib\\site-packages (3.9.4)\n",
      "Requirement already satisfied: seaborn in c:\\users\\ilai\\anaconda3\\lib\\site-packages (0.13.2)\n",
      "Requirement already satisfied: sklearn in c:\\users\\ilai\\anaconda3\\lib\\site-packages (0.0)\n",
      "Requirement already satisfied: tensorflow in c:\\users\\ilai\\anaconda3\\lib\\site-packages (2.18.0)\n",
      "Requirement already satisfied: python-dateutil>=2.8.2 in c:\\users\\ilai\\anaconda3\\lib\\site-packages (from pandas) (2.9.0.post0)\n",
      "Requirement already satisfied: tzdata>=2022.7 in c:\\users\\ilai\\anaconda3\\lib\\site-packages (from pandas) (2025.1)\n",
      "Requirement already satisfied: numpy>=1.22.4 in c:\\users\\ilai\\anaconda3\\lib\\site-packages (from pandas) (1.26.4)\n",
      "Requirement already satisfied: pytz>=2020.1 in c:\\users\\ilai\\anaconda3\\lib\\site-packages (from pandas) (2025.1)\n",
      "Requirement already satisfied: contourpy>=1.0.1 in c:\\users\\ilai\\anaconda3\\lib\\site-packages (from matplotlib) (1.3.0)\n",
      "Requirement already satisfied: packaging>=20.0 in c:\\users\\ilai\\anaconda3\\lib\\site-packages (from matplotlib) (21.0)\n",
      "Requirement already satisfied: cycler>=0.10 in c:\\users\\ilai\\anaconda3\\lib\\site-packages (from matplotlib) (0.10.0)\n",
      "Requirement already satisfied: pillow>=8 in c:\\users\\ilai\\anaconda3\\lib\\site-packages (from matplotlib) (8.4.0)\n",
      "Requirement already satisfied: pyparsing>=2.3.1 in c:\\users\\ilai\\anaconda3\\lib\\site-packages (from matplotlib) (3.0.4)\n",
      "Requirement already satisfied: importlib-resources>=3.2.0 in c:\\users\\ilai\\anaconda3\\lib\\site-packages (from matplotlib) (6.5.2)\n",
      "Requirement already satisfied: fonttools>=4.22.0 in c:\\users\\ilai\\anaconda3\\lib\\site-packages (from matplotlib) (4.25.0)\n",
      "Requirement already satisfied: kiwisolver>=1.3.1 in c:\\users\\ilai\\anaconda3\\lib\\site-packages (from matplotlib) (1.3.1)\n",
      "Requirement already satisfied: scikit-learn in c:\\users\\ilai\\anaconda3\\lib\\site-packages (from sklearn) (0.24.2)\n",
      "Requirement already satisfied: tensorflow-intel==2.18.0 in c:\\users\\ilai\\anaconda3\\lib\\site-packages (from tensorflow) (2.18.0)\n",
      "Requirement already satisfied: keras>=3.5.0 in c:\\users\\ilai\\anaconda3\\lib\\site-packages (from tensorflow-intel==2.18.0->tensorflow) (3.8.0)\n",
      "Requirement already satisfied: requests<3,>=2.21.0 in c:\\users\\ilai\\anaconda3\\lib\\site-packages (from tensorflow-intel==2.18.0->tensorflow) (2.26.0)\n",
      "Requirement already satisfied: h5py>=3.11.0 in c:\\users\\ilai\\anaconda3\\lib\\site-packages (from tensorflow-intel==2.18.0->tensorflow) (3.12.1)\n",
      "Requirement already satisfied: setuptools in c:\\users\\ilai\\anaconda3\\lib\\site-packages (from tensorflow-intel==2.18.0->tensorflow) (58.0.4)\n",
      "Requirement already satisfied: wrapt>=1.11.0 in c:\\users\\ilai\\anaconda3\\lib\\site-packages (from tensorflow-intel==2.18.0->tensorflow) (1.12.1)\n",
      "Requirement already satisfied: grpcio<2.0,>=1.24.3 in c:\\users\\ilai\\anaconda3\\lib\\site-packages (from tensorflow-intel==2.18.0->tensorflow) (1.70.0)\n",
      "Requirement already satisfied: termcolor>=1.1.0 in c:\\users\\ilai\\anaconda3\\lib\\site-packages (from tensorflow-intel==2.18.0->tensorflow) (2.5.0)\n",
      "Requirement already satisfied: absl-py>=1.0.0 in c:\\users\\ilai\\anaconda3\\lib\\site-packages (from tensorflow-intel==2.18.0->tensorflow) (2.1.0)\n",
      "Requirement already satisfied: typing-extensions>=3.6.6 in c:\\users\\ilai\\anaconda3\\lib\\site-packages (from tensorflow-intel==2.18.0->tensorflow) (4.12.2)\n",
      "Requirement already satisfied: ml-dtypes<0.5.0,>=0.4.0 in c:\\users\\ilai\\anaconda3\\lib\\site-packages (from tensorflow-intel==2.18.0->tensorflow) (0.4.1)\n",
      "Requirement already satisfied: six>=1.12.0 in c:\\users\\ilai\\anaconda3\\lib\\site-packages (from tensorflow-intel==2.18.0->tensorflow) (1.17.0)\n",
      "Requirement already satisfied: opt-einsum>=2.3.2 in c:\\users\\ilai\\anaconda3\\lib\\site-packages (from tensorflow-intel==2.18.0->tensorflow) (3.4.0)\n",
      "Requirement already satisfied: google-pasta>=0.1.1 in c:\\users\\ilai\\anaconda3\\lib\\site-packages (from tensorflow-intel==2.18.0->tensorflow) (0.2.0)\n",
      "Requirement already satisfied: flatbuffers>=24.3.25 in c:\\users\\ilai\\anaconda3\\lib\\site-packages (from tensorflow-intel==2.18.0->tensorflow) (25.1.24)\n",
      "Requirement already satisfied: tensorflow-io-gcs-filesystem>=0.23.1 in c:\\users\\ilai\\anaconda3\\lib\\site-packages (from tensorflow-intel==2.18.0->tensorflow) (0.31.0)\n",
      "Requirement already satisfied: libclang>=13.0.0 in c:\\users\\ilai\\anaconda3\\lib\\site-packages (from tensorflow-intel==2.18.0->tensorflow) (18.1.1)\n",
      "Requirement already satisfied: tensorboard<2.19,>=2.18 in c:\\users\\ilai\\anaconda3\\lib\\site-packages (from tensorflow-intel==2.18.0->tensorflow) (2.18.0)\n",
      "Requirement already satisfied: protobuf!=4.21.0,!=4.21.1,!=4.21.2,!=4.21.3,!=4.21.4,!=4.21.5,<6.0.0dev,>=3.20.3 in c:\\users\\ilai\\anaconda3\\lib\\site-packages (from tensorflow-intel==2.18.0->tensorflow) (5.29.3)\n",
      "Requirement already satisfied: gast!=0.5.0,!=0.5.1,!=0.5.2,>=0.2.1 in c:\\users\\ilai\\anaconda3\\lib\\site-packages (from tensorflow-intel==2.18.0->tensorflow) (0.6.0)\n",
      "Requirement already satisfied: astunparse>=1.6.0 in c:\\users\\ilai\\anaconda3\\lib\\site-packages (from tensorflow-intel==2.18.0->tensorflow) (1.6.3)\n",
      "Requirement already satisfied: wheel<1.0,>=0.23.0 in c:\\users\\ilai\\anaconda3\\lib\\site-packages (from astunparse>=1.6.0->tensorflow-intel==2.18.0->tensorflow) (0.37.0)\n",
      "Requirement already satisfied: zipp>=3.1.0 in c:\\users\\ilai\\anaconda3\\lib\\site-packages (from importlib-resources>=3.2.0->matplotlib) (3.6.0)\n",
      "Requirement already satisfied: rich in c:\\users\\ilai\\anaconda3\\lib\\site-packages (from keras>=3.5.0->tensorflow-intel==2.18.0->tensorflow) (13.9.4)\n",
      "Requirement already satisfied: optree in c:\\users\\ilai\\anaconda3\\lib\\site-packages (from keras>=3.5.0->tensorflow-intel==2.18.0->tensorflow) (0.14.0)\n",
      "Requirement already satisfied: namex in c:\\users\\ilai\\anaconda3\\lib\\site-packages (from keras>=3.5.0->tensorflow-intel==2.18.0->tensorflow) (0.0.8)\n",
      "Requirement already satisfied: charset-normalizer~=2.0.0 in c:\\users\\ilai\\anaconda3\\lib\\site-packages (from requests<3,>=2.21.0->tensorflow-intel==2.18.0->tensorflow) (2.0.4)\n",
      "Requirement already satisfied: urllib3<1.27,>=1.21.1 in c:\\users\\ilai\\anaconda3\\lib\\site-packages (from requests<3,>=2.21.0->tensorflow-intel==2.18.0->tensorflow) (1.26.7)\n",
      "Requirement already satisfied: idna<4,>=2.5 in c:\\users\\ilai\\anaconda3\\lib\\site-packages (from requests<3,>=2.21.0->tensorflow-intel==2.18.0->tensorflow) (3.2)\n",
      "Requirement already satisfied: certifi>=2017.4.17 in c:\\users\\ilai\\anaconda3\\lib\\site-packages (from requests<3,>=2.21.0->tensorflow-intel==2.18.0->tensorflow) (2021.10.8)\n",
      "Requirement already satisfied: tensorboard-data-server<0.8.0,>=0.7.0 in c:\\users\\ilai\\anaconda3\\lib\\site-packages (from tensorboard<2.19,>=2.18->tensorflow-intel==2.18.0->tensorflow) (0.7.2)\n",
      "Requirement already satisfied: markdown>=2.6.8 in c:\\users\\ilai\\anaconda3\\lib\\site-packages (from tensorboard<2.19,>=2.18->tensorflow-intel==2.18.0->tensorflow) (3.7)\n",
      "Requirement already satisfied: werkzeug>=1.0.1 in c:\\users\\ilai\\anaconda3\\lib\\site-packages (from tensorboard<2.19,>=2.18->tensorflow-intel==2.18.0->tensorflow) (2.0.2)\n",
      "Requirement already satisfied: importlib-metadata>=4.4 in c:\\users\\ilai\\anaconda3\\lib\\site-packages (from markdown>=2.6.8->tensorboard<2.19,>=2.18->tensorflow-intel==2.18.0->tensorflow) (4.8.1)\n",
      "Requirement already satisfied: markdown-it-py>=2.2.0 in c:\\users\\ilai\\anaconda3\\lib\\site-packages (from rich->keras>=3.5.0->tensorflow-intel==2.18.0->tensorflow) (3.0.0)\n",
      "Requirement already satisfied: pygments<3.0.0,>=2.13.0 in c:\\users\\ilai\\anaconda3\\lib\\site-packages (from rich->keras>=3.5.0->tensorflow-intel==2.18.0->tensorflow) (2.19.1)\n",
      "Requirement already satisfied: mdurl~=0.1 in c:\\users\\ilai\\anaconda3\\lib\\site-packages (from markdown-it-py>=2.2.0->rich->keras>=3.5.0->tensorflow-intel==2.18.0->tensorflow) (0.1.2)\n",
      "Requirement already satisfied: threadpoolctl>=2.0.0 in c:\\users\\ilai\\anaconda3\\lib\\site-packages (from scikit-learn->sklearn) (2.2.0)\n",
      "Requirement already satisfied: joblib>=0.11 in c:\\users\\ilai\\anaconda3\\lib\\site-packages (from scikit-learn->sklearn) (1.1.0)\n",
      "Requirement already satisfied: scipy>=0.19.1 in c:\\users\\ilai\\anaconda3\\lib\\site-packages (from scikit-learn->sklearn) (1.13.1)\n"
     ]
    },
    {
     "name": "stderr",
     "output_type": "stream",
     "text": [
      "WARNING: Ignoring invalid distribution -atplotlib (c:\\users\\ilai\\anaconda3\\lib\\site-packages)\n",
      "WARNING: Ignoring invalid distribution -atplotlib (c:\\users\\ilai\\anaconda3\\lib\\site-packages)\n",
      "WARNING: Ignoring invalid distribution -atplotlib (c:\\users\\ilai\\anaconda3\\lib\\site-packages)\n",
      "WARNING: Ignoring invalid distribution -atplotlib (c:\\users\\ilai\\anaconda3\\lib\\site-packages)\n",
      "WARNING: Ignoring invalid distribution -atplotlib (c:\\users\\ilai\\anaconda3\\lib\\site-packages)\n",
      "WARNING: Ignoring invalid distribution -atplotlib (c:\\users\\ilai\\anaconda3\\lib\\site-packages)\n"
     ]
    },
    {
     "name": "stdout",
     "output_type": "stream",
     "text": [
      "Requirement already satisfied: numpy<2 in c:\\users\\ilai\\anaconda3\\lib\\site-packages (1.26.4)\n"
     ]
    },
    {
     "name": "stderr",
     "output_type": "stream",
     "text": [
      "WARNING: Ignoring invalid distribution -atplotlib (c:\\users\\ilai\\anaconda3\\lib\\site-packages)\n",
      "WARNING: Ignoring invalid distribution -atplotlib (c:\\users\\ilai\\anaconda3\\lib\\site-packages)\n",
      "WARNING: Ignoring invalid distribution -atplotlib (c:\\users\\ilai\\anaconda3\\lib\\site-packages)\n",
      "WARNING: Ignoring invalid distribution -atplotlib (c:\\users\\ilai\\anaconda3\\lib\\site-packages)\n",
      "WARNING: Ignoring invalid distribution -atplotlib (c:\\users\\ilai\\anaconda3\\lib\\site-packages)\n",
      "WARNING: Ignoring invalid distribution -atplotlib (c:\\users\\ilai\\anaconda3\\lib\\site-packages)\n"
     ]
    }
   ],
   "source": [
    "!pip install pandas matplotlib seaborn sklearn tensorflow\n",
    "!pip install \"numpy<2\"\n"
   ]
  },
  {
   "cell_type": "code",
   "execution_count": 8,
   "metadata": {},
   "outputs": [],
   "source": [
    "import pandas as pd\n",
    "import numpy as np\n",
    "import matplotlib.pyplot as plt\n",
    "import seaborn as sns\n",
    "from sklearn.model_selection import train_test_split\n",
    "from sklearn.preprocessing import StandardScaler, LabelEncoder\n",
    "from sklearn.linear_model import LinearRegression\n",
    "from sklearn.tree import DecisionTreeRegressor\n",
    "from sklearn.gaussian_process import GaussianProcessRegressor\n",
    "from sklearn.gaussian_process.kernels import RBF, ConstantKernel as C\n",
    "from sklearn.svm import SVR\n",
    "from sklearn.ensemble import RandomForestRegressor, GradientBoostingRegressor\n",
    "from sklearn.metrics import mean_absolute_error, mean_squared_error, r2_score\n",
    "import tensorflow as tf\n",
    "from tensorflow import keras\n",
    "from tensorflow.keras import layers"
   ]
  },
  {
   "cell_type": "code",
   "execution_count": 9,
   "metadata": {},
   "outputs": [
    {
     "name": "stdout",
     "output_type": "stream",
     "text": [
      "<class 'pandas.core.frame.DataFrame'>\n",
      "RangeIndex: 29990 entries, 0 to 29989\n",
      "Data columns (total 47 columns):\n",
      " #   Column                                     Non-Null Count  Dtype  \n",
      "---  ------                                     --------------  -----  \n",
      " 0   Unnamed: 0.1                               29990 non-null  int64  \n",
      " 1   Unnamed: 0                                 29509 non-null  float64\n",
      " 2   name                                       29509 non-null  object \n",
      " 3   original_price                             29509 non-null  float64\n",
      " 4   discounted_price                           29509 non-null  float64\n",
      " 5   discount                                   29509 non-null  object \n",
      " 6   review_score                               29505 non-null  float64\n",
      " 7   review_title                               28271 non-null  float64\n",
      " 8   number_of_reviews                          29505 non-null  float64\n",
      " 9   star_rating                                29202 non-null  float64\n",
      " 10  is_apartment                               29202 non-null  object \n",
      " 11  kms_from_centre                            14420 non-null  float64\n",
      " 12  location_score                             15596 non-null  float64\n",
      " 13  bed_type                                   0 non-null      float64\n",
      " 14  room_type                                  29509 non-null  object \n",
      " 15  breakfast_included                         29509 non-null  object \n",
      " 16  time_to_travel                             29509 non-null  float64\n",
      " 17  length_of_stay                             29509 non-null  float64\n",
      " 18  snapshot_date                              29509 non-null  object \n",
      " 19  discounted_price_per_night                 29509 non-null  float64\n",
      " 20  original_price_per_night                   29509 non-null  float64\n",
      " 21  free_cancellation_True                     29509 non-null  float64\n",
      " 22  prepayment_needed_True                     29509 non-null  float64\n",
      " 23  neighborhood_Chelsea, New York             29509 non-null  float64\n",
      " 24  neighborhood_Chinatown, New York           29509 non-null  float64\n",
      " 25  neighborhood_East Harlem, New York         29509 non-null  float64\n",
      " 26  neighborhood_East Village, New York        29509 non-null  float64\n",
      " 27  neighborhood_Flatiron District, New York   29509 non-null  float64\n",
      " 28  neighborhood_Gramercy, New York            29509 non-null  float64\n",
      " 29  neighborhood_Greenwich Village, New York   29509 non-null  float64\n",
      " 30  neighborhood_Harlem, New York              29509 non-null  float64\n",
      " 31  neighborhood_Hell's Kitchen, New York      29509 non-null  float64\n",
      " 32  neighborhood_Hudson Yards, New York        29509 non-null  float64\n",
      " 33  neighborhood_Kips Bay, New York            29509 non-null  float64\n",
      " 34  neighborhood_Little Italy, New York        29509 non-null  float64\n",
      " 35  neighborhood_Lower East Side, New York     29509 non-null  float64\n",
      " 36  neighborhood_Manhattan, New York           29509 non-null  float64\n",
      " 37  neighborhood_Midtown East, New York        29509 non-null  float64\n",
      " 38  neighborhood_Murray Hill, New York         29509 non-null  float64\n",
      " 39  neighborhood_New York                      29509 non-null  float64\n",
      " 40  neighborhood_NoMad, New York               29509 non-null  float64\n",
      " 41  neighborhood_SoHo, New York                29509 non-null  float64\n",
      " 42  neighborhood_Tribeca, New York             29509 non-null  float64\n",
      " 43  neighborhood_Union Square, New York        29509 non-null  float64\n",
      " 44  neighborhood_Upper East Side, New York     29509 non-null  float64\n",
      " 45  neighborhood_Upper West Side, New York     29509 non-null  float64\n",
      " 46  neighborhood_Washington Heights, New York  29509 non-null  float64\n",
      "dtypes: float64(40), int64(1), object(6)\n",
      "memory usage: 10.8+ MB\n"
     ]
    },
    {
     "data": {
      "text/plain": [
       "None"
      ]
     },
     "metadata": {},
     "output_type": "display_data"
    },
    {
     "data": {
      "text/html": [
       "<div>\n",
       "<style scoped>\n",
       "    .dataframe tbody tr th:only-of-type {\n",
       "        vertical-align: middle;\n",
       "    }\n",
       "\n",
       "    .dataframe tbody tr th {\n",
       "        vertical-align: top;\n",
       "    }\n",
       "\n",
       "    .dataframe thead th {\n",
       "        text-align: right;\n",
       "    }\n",
       "</style>\n",
       "<table border=\"1\" class=\"dataframe\">\n",
       "  <thead>\n",
       "    <tr style=\"text-align: right;\">\n",
       "      <th></th>\n",
       "      <th>Unnamed: 0.1</th>\n",
       "      <th>Unnamed: 0</th>\n",
       "      <th>name</th>\n",
       "      <th>original_price</th>\n",
       "      <th>discounted_price</th>\n",
       "      <th>discount</th>\n",
       "      <th>review_score</th>\n",
       "      <th>review_title</th>\n",
       "      <th>number_of_reviews</th>\n",
       "      <th>star_rating</th>\n",
       "      <th>...</th>\n",
       "      <th>neighborhood_Midtown East, New York</th>\n",
       "      <th>neighborhood_Murray Hill, New York</th>\n",
       "      <th>neighborhood_New York</th>\n",
       "      <th>neighborhood_NoMad, New York</th>\n",
       "      <th>neighborhood_SoHo, New York</th>\n",
       "      <th>neighborhood_Tribeca, New York</th>\n",
       "      <th>neighborhood_Union Square, New York</th>\n",
       "      <th>neighborhood_Upper East Side, New York</th>\n",
       "      <th>neighborhood_Upper West Side, New York</th>\n",
       "      <th>neighborhood_Washington Heights, New York</th>\n",
       "    </tr>\n",
       "  </thead>\n",
       "  <tbody>\n",
       "    <tr>\n",
       "      <th>0</th>\n",
       "      <td>0</td>\n",
       "      <td>0.0</td>\n",
       "      <td>Iroquois New York Times Square</td>\n",
       "      <td>292.0</td>\n",
       "      <td>218.0</td>\n",
       "      <td>True</td>\n",
       "      <td>8.5</td>\n",
       "      <td>4.0</td>\n",
       "      <td>2625.0</td>\n",
       "      <td>5.0</td>\n",
       "      <td>...</td>\n",
       "      <td>0.0</td>\n",
       "      <td>0.0</td>\n",
       "      <td>0.0</td>\n",
       "      <td>0.0</td>\n",
       "      <td>0.0</td>\n",
       "      <td>0.0</td>\n",
       "      <td>0.0</td>\n",
       "      <td>0.0</td>\n",
       "      <td>0.0</td>\n",
       "      <td>0.0</td>\n",
       "    </tr>\n",
       "    <tr>\n",
       "      <th>1</th>\n",
       "      <td>1</td>\n",
       "      <td>1.0</td>\n",
       "      <td>Four Points by Sheraton New York Downtown</td>\n",
       "      <td>130.0</td>\n",
       "      <td>111.0</td>\n",
       "      <td>True</td>\n",
       "      <td>7.8</td>\n",
       "      <td>3.0</td>\n",
       "      <td>1987.0</td>\n",
       "      <td>3.0</td>\n",
       "      <td>...</td>\n",
       "      <td>0.0</td>\n",
       "      <td>0.0</td>\n",
       "      <td>0.0</td>\n",
       "      <td>0.0</td>\n",
       "      <td>0.0</td>\n",
       "      <td>0.0</td>\n",
       "      <td>0.0</td>\n",
       "      <td>0.0</td>\n",
       "      <td>0.0</td>\n",
       "      <td>0.0</td>\n",
       "    </tr>\n",
       "    <tr>\n",
       "      <th>2</th>\n",
       "      <td>2</td>\n",
       "      <td>2.0</td>\n",
       "      <td>The Mayfair Hotel Times Square, Ascend Hotel C...</td>\n",
       "      <td>141.0</td>\n",
       "      <td>141.0</td>\n",
       "      <td>False</td>\n",
       "      <td>8.6</td>\n",
       "      <td>5.0</td>\n",
       "      <td>1895.0</td>\n",
       "      <td>3.0</td>\n",
       "      <td>...</td>\n",
       "      <td>0.0</td>\n",
       "      <td>0.0</td>\n",
       "      <td>0.0</td>\n",
       "      <td>0.0</td>\n",
       "      <td>0.0</td>\n",
       "      <td>0.0</td>\n",
       "      <td>0.0</td>\n",
       "      <td>0.0</td>\n",
       "      <td>0.0</td>\n",
       "      <td>0.0</td>\n",
       "    </tr>\n",
       "    <tr>\n",
       "      <th>3</th>\n",
       "      <td>3</td>\n",
       "      <td>3.0</td>\n",
       "      <td>The Washington by LuxUrban</td>\n",
       "      <td>160.0</td>\n",
       "      <td>160.0</td>\n",
       "      <td>False</td>\n",
       "      <td>7.7</td>\n",
       "      <td>3.0</td>\n",
       "      <td>9442.0</td>\n",
       "      <td>4.0</td>\n",
       "      <td>...</td>\n",
       "      <td>0.0</td>\n",
       "      <td>0.0</td>\n",
       "      <td>0.0</td>\n",
       "      <td>0.0</td>\n",
       "      <td>0.0</td>\n",
       "      <td>0.0</td>\n",
       "      <td>0.0</td>\n",
       "      <td>0.0</td>\n",
       "      <td>0.0</td>\n",
       "      <td>0.0</td>\n",
       "    </tr>\n",
       "    <tr>\n",
       "      <th>4</th>\n",
       "      <td>4</td>\n",
       "      <td>4.0</td>\n",
       "      <td>Hampton Inn by Hilton New York Times Square</td>\n",
       "      <td>152.0</td>\n",
       "      <td>152.0</td>\n",
       "      <td>False</td>\n",
       "      <td>7.8</td>\n",
       "      <td>3.0</td>\n",
       "      <td>2432.0</td>\n",
       "      <td>3.0</td>\n",
       "      <td>...</td>\n",
       "      <td>0.0</td>\n",
       "      <td>0.0</td>\n",
       "      <td>0.0</td>\n",
       "      <td>0.0</td>\n",
       "      <td>0.0</td>\n",
       "      <td>0.0</td>\n",
       "      <td>0.0</td>\n",
       "      <td>0.0</td>\n",
       "      <td>0.0</td>\n",
       "      <td>0.0</td>\n",
       "    </tr>\n",
       "  </tbody>\n",
       "</table>\n",
       "<p>5 rows × 47 columns</p>\n",
       "</div>"
      ],
      "text/plain": [
       "   Unnamed: 0.1  Unnamed: 0  \\\n",
       "0             0         0.0   \n",
       "1             1         1.0   \n",
       "2             2         2.0   \n",
       "3             3         3.0   \n",
       "4             4         4.0   \n",
       "\n",
       "                                                name  original_price  \\\n",
       "0                     Iroquois New York Times Square           292.0   \n",
       "1          Four Points by Sheraton New York Downtown           130.0   \n",
       "2  The Mayfair Hotel Times Square, Ascend Hotel C...           141.0   \n",
       "3                         The Washington by LuxUrban           160.0   \n",
       "4        Hampton Inn by Hilton New York Times Square           152.0   \n",
       "\n",
       "   discounted_price discount  review_score  review_title  number_of_reviews  \\\n",
       "0             218.0     True           8.5           4.0             2625.0   \n",
       "1             111.0     True           7.8           3.0             1987.0   \n",
       "2             141.0    False           8.6           5.0             1895.0   \n",
       "3             160.0    False           7.7           3.0             9442.0   \n",
       "4             152.0    False           7.8           3.0             2432.0   \n",
       "\n",
       "   star_rating  ... neighborhood_Midtown East, New York  \\\n",
       "0          5.0  ...                                 0.0   \n",
       "1          3.0  ...                                 0.0   \n",
       "2          3.0  ...                                 0.0   \n",
       "3          4.0  ...                                 0.0   \n",
       "4          3.0  ...                                 0.0   \n",
       "\n",
       "   neighborhood_Murray Hill, New York  neighborhood_New York  \\\n",
       "0                                 0.0                    0.0   \n",
       "1                                 0.0                    0.0   \n",
       "2                                 0.0                    0.0   \n",
       "3                                 0.0                    0.0   \n",
       "4                                 0.0                    0.0   \n",
       "\n",
       "   neighborhood_NoMad, New York neighborhood_SoHo, New York  \\\n",
       "0                           0.0                         0.0   \n",
       "1                           0.0                         0.0   \n",
       "2                           0.0                         0.0   \n",
       "3                           0.0                         0.0   \n",
       "4                           0.0                         0.0   \n",
       "\n",
       "  neighborhood_Tribeca, New York  neighborhood_Union Square, New York  \\\n",
       "0                            0.0                                  0.0   \n",
       "1                            0.0                                  0.0   \n",
       "2                            0.0                                  0.0   \n",
       "3                            0.0                                  0.0   \n",
       "4                            0.0                                  0.0   \n",
       "\n",
       "   neighborhood_Upper East Side, New York  \\\n",
       "0                                     0.0   \n",
       "1                                     0.0   \n",
       "2                                     0.0   \n",
       "3                                     0.0   \n",
       "4                                     0.0   \n",
       "\n",
       "  neighborhood_Upper West Side, New York  \\\n",
       "0                                    0.0   \n",
       "1                                    0.0   \n",
       "2                                    0.0   \n",
       "3                                    0.0   \n",
       "4                                    0.0   \n",
       "\n",
       "   neighborhood_Washington Heights, New York  \n",
       "0                                        0.0  \n",
       "1                                        0.0  \n",
       "2                                        0.0  \n",
       "3                                        0.0  \n",
       "4                                        0.0  \n",
       "\n",
       "[5 rows x 47 columns]"
      ]
     },
     "metadata": {},
     "output_type": "display_data"
    }
   ],
   "source": [
    "# Load the dataset\n",
    "file_path = \"./proccessedBookings.csv\"\n",
    "df = pd.read_csv(file_path)\n",
    "\n",
    "# Display basic info\n",
    "display(df.info())\n",
    "display(df.head())"
   ]
  },
  {
   "cell_type": "code",
   "execution_count": 10,
   "metadata": {},
   "outputs": [],
   "source": [
    "# Feature Engineering\n",
    "df['log_time_to_travel'] = np.log1p(df['time_to_travel'])  # Log transformation\n",
    "df['long_stay'] = (df['length_of_stay'] > 3).astype(int)  # 1 if stay > 3 nights, else 0\n",
    "df['review_score'] = df['review_score'].fillna(df['review_score'].mean()).astype(int)\n",
    "df['location_score'] = (df['location_score']).fillna(df['review_score'].mean()).astype(int)\n",
    "df['is_apartment'] = (df['is_apartment']).fillna(df['review_score'].mean()).astype(int)\n",
    "df['breakfast_included'] = (df['breakfast_included']).fillna(df['review_score'].mean()).astype(int)"
   ]
  },
  {
   "cell_type": "code",
   "execution_count": 11,
   "metadata": {},
   "outputs": [],
   "source": [
    "room_type_ranking = {\n",
    "    \"King Room\": 1,\n",
    "    \"Standard King Room\": 2,\n",
    "    \"King Room - Non-Smoking\": 3,\n",
    "    \"Queen Room\": 4,\n",
    "    \"Double Room\": 5,\n",
    "    \"Standard Queen Room\": 6,\n",
    "    \"Queen Room - Non-Smoking\": 7,\n",
    "    \"Guest Room, 1 King\": 8,\n",
    "    \"Deluxe Queen Room\": 9,\n",
    "    \"Deluxe King Room\": 10,\n",
    "    \"Superior King Room\": 11,\n",
    "    \"King Studio\": 12,\n",
    "    \"King Room - Disability Access\": 13,\n",
    "    \"Superior Queen Room\": 14,\n",
    "    \"Standard Room\": 15,\n",
    "    \"Queen Studio\": 16,\n",
    "    \"Double Room with Two Double Beds\": 17,\n",
    "    \"Standard Full\": 18,\n",
    "    \"Deluxe King Room - Non-Smoking\": 19,\n",
    "    \"Den King Room\": 20,\n",
    "    \"Deluxe King\": 21,\n",
    "    \"SoHo King\": 22,\n",
    "    \"King Room with City View\": 23,\n",
    "    \"Standard Double Room\": 24,\n",
    "    \"Executive Queen Room\": 25\n",
    "}\n",
    "df['room_type_grade'] = df['room_type'].map(room_type_ranking).fillna(25).astype(int)"
   ]
  },
  {
   "cell_type": "code",
   "execution_count": 12,
   "metadata": {},
   "outputs": [
    {
     "name": "stdout",
     "output_type": "stream",
     "text": [
      "float64\n",
      "0        218.0\n",
      "1        111.0\n",
      "2        141.0\n",
      "3        160.0\n",
      "4        152.0\n",
      "         ...  \n",
      "29985    285.8\n",
      "29986    244.4\n",
      "29987    338.6\n",
      "29988    317.4\n",
      "29989    350.0\n",
      "Name: discounted_price_per_night, Length: 29990, dtype: float64\n"
     ]
    }
   ],
   "source": [
    "print(df['discounted_price_per_night'].dtype)\n",
    "print(df['discounted_price_per_night'])"
   ]
  },
  {
   "cell_type": "code",
   "execution_count": 13,
   "metadata": {},
   "outputs": [],
   "source": [
    "# Define Features and Target\n",
    "df_cleaned = df.dropna(subset=['log_time_to_travel', 'length_of_stay', 'long_stay', 'discounted_price_per_night','review_score','number_of_reviews', 'location_score','is_apartment','breakfast_included','room_type_grade'])\n",
    "X = df_cleaned[['log_time_to_travel', 'length_of_stay', 'long_stay', 'discounted_price_per_night','review_score','number_of_reviews', 'location_score','is_apartment','breakfast_included','room_type_grade']]  # Features\n",
    "y = df_cleaned['discounted_price_per_night']  # Target Variable"
   ]
  },
  {
   "cell_type": "code",
   "execution_count": 14,
   "metadata": {},
   "outputs": [
    {
     "name": "stdout",
     "output_type": "stream",
     "text": [
      "(29505, 10)\n",
      "(29505,)\n",
      "   log_time_to_travel  length_of_stay  long_stay  discounted_price_per_night  \\\n",
      "0            0.693147             1.0          0                       218.0   \n",
      "1            0.693147             1.0          0                       111.0   \n",
      "2            0.693147             1.0          0                       141.0   \n",
      "3            0.693147             1.0          0                       160.0   \n",
      "4            0.693147             1.0          0                       152.0   \n",
      "\n",
      "   review_score  number_of_reviews  location_score  is_apartment  \\\n",
      "0             8             2625.0               9             0   \n",
      "1             7             1987.0               7             0   \n",
      "2             8             1895.0               9             0   \n",
      "3             7             9442.0               9             0   \n",
      "4             7             2432.0               9             0   \n",
      "\n",
      "   breakfast_included  room_type_grade  \n",
      "0                   1               25  \n",
      "1                   0                8  \n",
      "2                   0               25  \n",
      "3                   0               25  \n",
      "4                   1               25  \n",
      "0    218.0\n",
      "1    111.0\n",
      "2    141.0\n",
      "3    160.0\n",
      "4    152.0\n",
      "Name: discounted_price_per_night, dtype: float64\n"
     ]
    }
   ],
   "source": [
    "print(X.shape)\n",
    "print(y.shape)\n",
    "print(X.head())  # Check if X contains valid data\n",
    "print(y.head())  # Check if y contains valid target values"
   ]
  },
  {
   "cell_type": "code",
   "execution_count": 15,
   "metadata": {},
   "outputs": [],
   "source": [
    "# Split Data\n",
    "X_train, X_test, y_train, y_test = train_test_split(X, y, test_size=0.3, random_state=42)"
   ]
  },
  {
   "cell_type": "code",
   "execution_count": 16,
   "metadata": {},
   "outputs": [],
   "source": [
    "# Normalize Data\n",
    "scaler = StandardScaler()\n",
    "X_train_scaled = scaler.fit_transform(X_train)\n",
    "X_test_scaled = scaler.transform(X_test)\n"
   ]
  },
  {
   "cell_type": "code",
   "execution_count": 17,
   "metadata": {},
   "outputs": [],
   "source": [
    "# Train Multiple Regression Models\n",
    "models = {\n",
    "    'Linear Regression': LinearRegression(),\n",
    "    'Decision Tree': DecisionTreeRegressor(max_depth=5),\n",
    "    'Gaussian Process': GaussianProcessRegressor(kernel=C(1.0) * RBF(1.0)),\n",
    "    'Random Forest': RandomForestRegressor(n_estimators=100, max_depth=5),\n",
    "    'Gradient Boosting': GradientBoostingRegressor(n_estimators=100, learning_rate=0.1),\n",
    "    'SVR': SVR(kernel='rbf')\n",
    "}"
   ]
  },
  {
   "cell_type": "code",
   "execution_count": 18,
   "metadata": {},
   "outputs": [
    {
     "name": "stdout",
     "output_type": "stream",
     "text": [
      "Number of NaN values in X_train_scaled: 0\n"
     ]
    }
   ],
   "source": [
    "nan_vals = np.isnan(y_train).sum()\n",
    "print(f\"Number of NaN values in X_train_scaled: {nan_vals}\")"
   ]
  },
  {
   "cell_type": "code",
   "execution_count": 19,
   "metadata": {},
   "outputs": [],
   "source": [
    "# Train and Evaluate Models\n",
    "results = {}\n",
    "for name, model in models.items():\n",
    "     model.fit(X_train_scaled, y_train)\n",
    "     y_pred = model.predict(X_test_scaled)\n",
    "     results[name] = {\n",
    "          'R2': r2_score(y_test, y_pred),\n",
    "          \n",
    "          'MAE': mean_absolute_error(y_test, y_pred),\n",
    "          'MSE': mean_squared_error(y_test, y_pred),\n",
    "          'RMSE': np.sqrt(mean_squared_error(y_test, y_pred))\n",
    "     }"
   ]
  },
  {
   "cell_type": "code",
   "execution_count": 20,
   "metadata": {},
   "outputs": [
    {
     "name": "stdout",
     "output_type": "stream",
     "text": [
      "                         R2           MAE           MSE          RMSE\n",
      "Linear Regression  1.000000  1.054705e-13  1.745736e-26  1.321263e-13\n",
      "Decision Tree      0.996413  3.077026e+00  2.322320e+01  4.819046e+00\n",
      "Gaussian Process   0.966325  1.055468e+00  2.180498e+02  1.476651e+01\n",
      "Random Forest      0.998168  2.062979e+00  1.185924e+01  3.443724e+00\n",
      "Gradient Boosting  0.999864  5.686503e-01  8.837373e-01  9.400730e-01\n",
      "SVR                0.929071  5.916356e+00  4.592674e+02  2.143053e+01\n"
     ]
    }
   ],
   "source": [
    "# Convert Results to DataFrame\n",
    "results_df = pd.DataFrame(results).T\n",
    "print(results_df)\n"
   ]
  },
  {
   "cell_type": "code",
   "execution_count": 21,
   "metadata": {},
   "outputs": [],
   "source": [
    "# Plot Residuals for Best Model (Based on R² Score)\n",
    "best_model_name = results_df['R2'].idxmax()\n",
    "best_model = models[best_model_name]\n",
    "y_pred_best = best_model.predict(X_test_scaled)\n",
    "residuals = y_test - y_pred_best"
   ]
  },
  {
   "cell_type": "code",
   "execution_count": 22,
   "metadata": {},
   "outputs": [
    {
     "name": "stderr",
     "output_type": "stream",
     "text": [
      "C:\\Users\\Ilai\\AppData\\Local\\Temp/ipykernel_32176/1404117669.py:2: UserWarning: \n",
      "\n",
      "`distplot` is a deprecated function and will be removed in seaborn v0.14.0.\n",
      "\n",
      "Please adapt your code to use either `displot` (a figure-level function with\n",
      "similar flexibility) or `histplot` (an axes-level function for histograms).\n",
      "\n",
      "For a guide to updating your code to use the new functions, please see\n",
      "https://gist.github.com/mwaskom/de44147ed2974457ad6372750bbe5751\n",
      "\n",
      "  sns.distplot(residuals, bins=30, kde=True)\n"
     ]
    },
    {
     "data": {
      "image/png": "[encoded data removed]",
      "text/plain": [
       "<Figure size 720x360 with 1 Axes>"
      ]
     },
     "metadata": {
      "needs_background": "light"
     },
     "output_type": "display_data"
    }
   ],
   "source": [
    "plt.figure(figsize=(10, 5))\n",
    "sns.distplot(residuals, bins=30, kde=True)\n",
    "plt.title(f'Residual Plot for {best_model_name}')\n",
    "plt.xlabel('Residuals')\n",
    "plt.ylabel('Frequency')\n",
    "plt.show()\n",
    "\n"
   ]
  },
  {
   "cell_type": "code",
   "execution_count": 23,
   "metadata": {},
   "outputs": [
    {
     "data": {
      "image/png": "[encoded data removed]",
      "text/plain": [
       "<Figure size 576x288 with 1 Axes>"
      ]
     },
     "metadata": {
      "needs_background": "light"
     },
     "output_type": "display_data"
    },
    {
     "data": {
      "image/png": "[encoded data removed]",
      "text/plain": [
       "<Figure size 576x288 with 1 Axes>"
      ]
     },
     "metadata": {
      "needs_background": "light"
     },
     "output_type": "display_data"
    }
   ],
   "source": [
    "# Feature Importance for Decision Tree and Random Forest\n",
    "for model_name in ['Decision Tree', 'Random Forest']:\n",
    "    model = models[model_name]\n",
    "    feature_importance = model.feature_importances_\n",
    "    plt.figure(figsize=(8, 4))\n",
    "    sns.barplot(x=X.columns, y=feature_importance)\n",
    "    plt.title(f'Feature Importance - {model_name}')\n",
    "    plt.show()"
   ]
  },
  {
   "cell_type": "code",
   "execution_count": 24,
   "metadata": {},
   "outputs": [
    {
     "name": "stderr",
     "output_type": "stream",
     "text": [
      "c:\\Users\\Ilai\\anaconda3\\lib\\site-packages\\keras\\src\\layers\\core\\dense.py:87: UserWarning: Do not pass an `input_shape`/`input_dim` argument to a layer. When using Sequential models, prefer using an `Input(shape)` object as the first layer in the model instead.\n",
      "  super().__init__(activity_regularizer=activity_regularizer, **kwargs)\n"
     ]
    },
    {
     "data": {
      "text/plain": [
       "<keras.src.callbacks.history.History at 0x1652916ee50>"
      ]
     },
     "execution_count": 24,
     "metadata": {},
     "output_type": "execute_result"
    }
   ],
   "source": [
    "# Neural Network Model 1\n",
    "nn_model_1 = keras.Sequential([\n",
    "    layers.Dense(64, activation='relu', input_shape=(X_train_scaled.shape[1],)),\n",
    "    layers.Dense(32, activation='relu'),\n",
    "    layers.Dense(1)\n",
    "])\n",
    "nn_model_1.compile(optimizer='adam', loss='mse', metrics=['mae'])\n",
    "nn_model_1.fit(X_train_scaled, y_train, epochs=50, batch_size=16, validation_data=(X_test_scaled, y_test), verbose=0)"
   ]
  },
  {
   "cell_type": "code",
   "execution_count": 25,
   "metadata": {},
   "outputs": [
    {
     "data": {
      "text/plain": [
       "<keras.src.callbacks.history.History at 0x16528c25f40>"
      ]
     },
     "execution_count": 25,
     "metadata": {},
     "output_type": "execute_result"
    }
   ],
   "source": [
    "# Neural Network Model 2 with Embedding\n",
    "embedding_dim = 5\n",
    "input_layer = layers.Input(shape=(X_train_scaled.shape[1],))\n",
    "embedding_layer = layers.Dense(embedding_dim, activation='relu')(input_layer)\n",
    "hidden_layer = layers.Dense(32, activation='relu')(embedding_layer)\n",
    "output_layer = layers.Dense(1)(hidden_layer)\n",
    "nn_model_2 = keras.Model(inputs=input_layer, outputs=output_layer)\n",
    "nn_model_2.compile(optimizer='adam', loss='mse', metrics=['mae'])\n",
    "nn_model_2.fit(X_train_scaled, y_train, epochs=50, batch_size=16, validation_data=(X_test_scaled, y_test), verbose=0)"
   ]
  }
 ],
 "metadata": {
  "kernelspec": {
   "display_name": "base",
   "language": "python",
   "name": "python3"
  },
  "language_info": {
   "codemirror_mode": {
    "name": "ipython",
    "version": 3
   },
   "file_extension": ".py",
   "mimetype": "text/x-python",
   "name": "python",
   "nbconvert_exporter": "python",
   "pygments_lexer": "ipython3",
   "version": "3.9.7"
  }
 },
 "nbformat": 4,
 "nbformat_minor": 2
}
