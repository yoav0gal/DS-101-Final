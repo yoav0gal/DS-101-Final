{
 "cells": [
  {
   "cell_type": "code",
   "execution_count": 32,
   "metadata": {},
   "outputs": [
    {
     "name": "stdout",
     "output_type": "stream",
     "text": [
      "Collecting plotly\n",
      "  Downloading plotly-6.0.0-py3-none-any.whl.metadata (5.6 kB)\n",
      "Collecting narwhals>=1.15.1 (from plotly)\n",
      "  Downloading narwhals-1.25.0-py3-none-any.whl.metadata (10 kB)\n",
      "Requirement already satisfied: packaging in c:\\users\\hamamahome\\appdata\\roaming\\python\\python312\\site-packages (from plotly) (24.2)\n",
      "Downloading plotly-6.0.0-py3-none-any.whl (14.8 MB)\n",
      "   ---------------------------------------- 0.0/14.8 MB ? eta -:--:--\n",
      "    --------------------------------------- 0.3/14.8 MB ? eta -:--:--\n",
      "   ------- -------------------------------- 2.6/14.8 MB 10.8 MB/s eta 0:00:02\n",
      "   ----------------------------------- ---- 13.1/14.8 MB 29.3 MB/s eta 0:00:01\n",
      "   ---------------------------------------- 14.8/14.8 MB 30.0 MB/s eta 0:00:00\n",
      "Downloading narwhals-1.25.0-py3-none-any.whl (313 kB)\n",
      "Installing collected packages: narwhals, plotly\n",
      "Successfully installed narwhals-1.25.0 plotly-6.0.0\n"
     ]
    }
   ],
   "source": [
    "!pip install plotly"
   ]
  },
  {
   "cell_type": "code",
   "execution_count": 2,
   "metadata": {},
   "outputs": [],
   "source": [
    "import pandas as pd\n",
    "\n",
    "bookings = pd.read_csv('./bookings.csv')"
   ]
  },
  {
   "cell_type": "markdown",
   "metadata": {},
   "source": [
    "### Fix typings"
   ]
  },
  {
   "cell_type": "code",
   "execution_count": 3,
   "metadata": {},
   "outputs": [],
   "source": [
    "bookings['number_of_reviews'] = bookings['number_of_reviews'].str.replace(',', '', regex=True)\n",
    "bookings['number_of_reviews'] = pd.to_numeric(bookings['number_of_reviews'], errors='coerce')\n",
    "bookings['review_score'] = pd.to_numeric(bookings['review_score'], errors='coerce')"
   ]
  },
  {
   "cell_type": "markdown",
   "metadata": {},
   "source": [
    "### Reviews Distribution\n",
    "Group the review counts by snapshot dates, and the names of the hotels. the `number_of_reviews` will be a the same for the same hotel in a certain snapshot.   "
   ]
  },
  {
   "cell_type": "code",
   "execution_count": 4,
   "metadata": {},
   "outputs": [
    {
     "data": {
      "text/html": [
       "<div>\n",
       "<style scoped>\n",
       "    .dataframe tbody tr th:only-of-type {\n",
       "        vertical-align: middle;\n",
       "    }\n",
       "\n",
       "    .dataframe tbody tr th {\n",
       "        vertical-align: top;\n",
       "    }\n",
       "\n",
       "    .dataframe thead th {\n",
       "        text-align: right;\n",
       "    }\n",
       "</style>\n",
       "<table border=\"1\" class=\"dataframe\">\n",
       "  <thead>\n",
       "    <tr style=\"text-align: right;\">\n",
       "      <th></th>\n",
       "      <th>name</th>\n",
       "      <th>snapshot_date</th>\n",
       "      <th>number_of_reviews</th>\n",
       "    </tr>\n",
       "  </thead>\n",
       "  <tbody>\n",
       "    <tr>\n",
       "      <th>0</th>\n",
       "      <td>1 Hotel Central Park</td>\n",
       "      <td>2025-02-02</td>\n",
       "      <td>556.0</td>\n",
       "    </tr>\n",
       "    <tr>\n",
       "      <th>1</th>\n",
       "      <td>1 Hotel Central Park</td>\n",
       "      <td>2025-02-03</td>\n",
       "      <td>556.0</td>\n",
       "    </tr>\n",
       "    <tr>\n",
       "      <th>2</th>\n",
       "      <td>17John</td>\n",
       "      <td>2025-02-02</td>\n",
       "      <td>209.0</td>\n",
       "    </tr>\n",
       "    <tr>\n",
       "      <th>3</th>\n",
       "      <td>17John</td>\n",
       "      <td>2025-02-03</td>\n",
       "      <td>209.0</td>\n",
       "    </tr>\n",
       "    <tr>\n",
       "      <th>4</th>\n",
       "      <td>2 Bedroom Cozy Central Apartment</td>\n",
       "      <td>2025-02-02</td>\n",
       "      <td>8.0</td>\n",
       "    </tr>\n",
       "    <tr>\n",
       "      <th>...</th>\n",
       "      <td>...</td>\n",
       "      <td>...</td>\n",
       "      <td>...</td>\n",
       "    </tr>\n",
       "    <tr>\n",
       "      <th>711</th>\n",
       "      <td>citizenM New York Times Square</td>\n",
       "      <td>2025-02-03</td>\n",
       "      <td>3999.0</td>\n",
       "    </tr>\n",
       "    <tr>\n",
       "      <th>712</th>\n",
       "      <td>voco The Franklin New York, an IHG Hotel</td>\n",
       "      <td>2025-02-02</td>\n",
       "      <td>508.0</td>\n",
       "    </tr>\n",
       "    <tr>\n",
       "      <th>713</th>\n",
       "      <td>voco The Franklin New York, an IHG Hotel</td>\n",
       "      <td>2025-02-03</td>\n",
       "      <td>508.0</td>\n",
       "    </tr>\n",
       "    <tr>\n",
       "      <th>714</th>\n",
       "      <td>voco Times Square South New York, an IHG Hotel</td>\n",
       "      <td>2025-02-02</td>\n",
       "      <td>3803.0</td>\n",
       "    </tr>\n",
       "    <tr>\n",
       "      <th>715</th>\n",
       "      <td>voco Times Square South New York, an IHG Hotel</td>\n",
       "      <td>2025-02-03</td>\n",
       "      <td>3806.0</td>\n",
       "    </tr>\n",
       "  </tbody>\n",
       "</table>\n",
       "<p>716 rows × 3 columns</p>\n",
       "</div>"
      ],
      "text/plain": [
       "                                               name snapshot_date  \\\n",
       "0                              1 Hotel Central Park    2025-02-02   \n",
       "1                              1 Hotel Central Park    2025-02-03   \n",
       "2                                            17John    2025-02-02   \n",
       "3                                            17John    2025-02-03   \n",
       "4                  2 Bedroom Cozy Central Apartment    2025-02-02   \n",
       "..                                              ...           ...   \n",
       "711                  citizenM New York Times Square    2025-02-03   \n",
       "712        voco The Franklin New York, an IHG Hotel    2025-02-02   \n",
       "713        voco The Franklin New York, an IHG Hotel    2025-02-03   \n",
       "714  voco Times Square South New York, an IHG Hotel    2025-02-02   \n",
       "715  voco Times Square South New York, an IHG Hotel    2025-02-03   \n",
       "\n",
       "     number_of_reviews  \n",
       "0                556.0  \n",
       "1                556.0  \n",
       "2                209.0  \n",
       "3                209.0  \n",
       "4                  8.0  \n",
       "..                 ...  \n",
       "711             3999.0  \n",
       "712              508.0  \n",
       "713              508.0  \n",
       "714             3803.0  \n",
       "715             3806.0  \n",
       "\n",
       "[716 rows x 3 columns]"
      ]
     },
     "execution_count": 4,
     "metadata": {},
     "output_type": "execute_result"
    }
   ],
   "source": [
    "number_of_reviews = bookings.groupby(['name', 'snapshot_date'], as_index=False)['number_of_reviews'].first()\n",
    "number_of_reviews"
   ]
  },
  {
   "cell_type": "code",
   "execution_count": 5,
   "metadata": {},
   "outputs": [],
   "source": [
    "snapshot_dates = bookings['snapshot_date'].unique()"
   ]
  },
  {
   "cell_type": "code",
   "execution_count": 37,
   "metadata": {},
   "outputs": [
    {
     "data": {
      "application/vnd.plotly.v1+json": {
       "config": {
        "plotlyServerURL": "https://plot.ly"
       },
       "data": [
        {
         "autobinx": true,
         "name": "2025-02-02",
         "opacity": 0.5,
         "type": "histogram",
         "x": {
          "bdata": "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",
          "dtype": "f8"
         }
        },
        {
         "autobinx": true,
         "name": "2025-02-03",
         "opacity": 0.5,
         "type": "histogram",
         "x": {
          "bdata": "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",
          "dtype": "f8"
         }
        }
       ],
       "layout": {
        "barmode": "overlay",
        "height": 800,
        "legend": {
         "title": {
          "text": "Snapshot Date"
         }
        },
        "template": {
         "data": {
          "bar": [
           {
            "error_x": {
             "color": "#2a3f5f"
            },
            "error_y": {
             "color": "#2a3f5f"
            },
            "marker": {
             "line": {
              "color": "#E5ECF6",
              "width": 0.5
             },
             "pattern": {
              "fillmode": "overlay",
              "size": 10,
              "solidity": 0.2
             }
            },
            "type": "bar"
           }
          ],
          "barpolar": [
           {
            "marker": {
             "line": {
              "color": "#E5ECF6",
              "width": 0.5
             },
             "pattern": {
              "fillmode": "overlay",
              "size": 10,
              "solidity": 0.2
             }
            },
            "type": "barpolar"
           }
          ],
          "carpet": [
           {
            "aaxis": {
             "endlinecolor": "#2a3f5f",
             "gridcolor": "white",
             "linecolor": "white",
             "minorgridcolor": "white",
             "startlinecolor": "#2a3f5f"
            },
            "baxis": {
             "endlinecolor": "#2a3f5f",
             "gridcolor": "white",
             "linecolor": "white",
             "minorgridcolor": "white",
             "startlinecolor": "#2a3f5f"
            },
            "type": "carpet"
           }
          ],
          "choropleth": [
           {
            "colorbar": {
             "outlinewidth": 0,
             "ticks": ""
            },
            "type": "choropleth"
           }
          ],
          "contour": [
           {
            "colorbar": {
             "outlinewidth": 0,
             "ticks": ""
            },
            "colorscale": [
             [
              0,
              "#0d0887"
             ],
             [
              0.1111111111111111,
              "#46039f"
             ],
             [
              0.2222222222222222,
              "#7201a8"
             ],
             [
              0.3333333333333333,
              "#9c179e"
             ],
             [
              0.4444444444444444,
              "#bd3786"
             ],
             [
              0.5555555555555556,
              "#d8576b"
             ],
             [
              0.6666666666666666,
              "#ed7953"
             ],
             [
              0.7777777777777778,
              "#fb9f3a"
             ],
             [
              0.8888888888888888,
              "#fdca26"
             ],
             [
              1,
              "#f0f921"
             ]
            ],
            "type": "contour"
           }
          ],
          "contourcarpet": [
           {
            "colorbar": {
             "outlinewidth": 0,
             "ticks": ""
            },
            "type": "contourcarpet"
           }
          ],
          "heatmap": [
           {
            "colorbar": {
             "outlinewidth": 0,
             "ticks": ""
            },
            "colorscale": [
             [
              0,
              "#0d0887"
             ],
             [
              0.1111111111111111,
              "#46039f"
             ],
             [
              0.2222222222222222,
              "#7201a8"
             ],
             [
              0.3333333333333333,
              "#9c179e"
             ],
             [
              0.4444444444444444,
              "#bd3786"
             ],
             [
              0.5555555555555556,
              "#d8576b"
             ],
             [
              0.6666666666666666,
              "#ed7953"
             ],
             [
              0.7777777777777778,
              "#fb9f3a"
             ],
             [
              0.8888888888888888,
              "#fdca26"
             ],
             [
              1,
              "#f0f921"
             ]
            ],
            "type": "heatmap"
           }
          ],
          "histogram": [
           {
            "marker": {
             "pattern": {
              "fillmode": "overlay",
              "size": 10,
              "solidity": 0.2
             }
            },
            "type": "histogram"
           }
          ],
          "histogram2d": [
           {
            "colorbar": {
             "outlinewidth": 0,
             "ticks": ""
            },
            "colorscale": [
             [
              0,
              "#0d0887"
             ],
             [
              0.1111111111111111,
              "#46039f"
             ],
             [
              0.2222222222222222,
              "#7201a8"
             ],
             [
              0.3333333333333333,
              "#9c179e"
             ],
             [
              0.4444444444444444,
              "#bd3786"
             ],
             [
              0.5555555555555556,
              "#d8576b"
             ],
             [
              0.6666666666666666,
              "#ed7953"
             ],
             [
              0.7777777777777778,
              "#fb9f3a"
             ],
             [
              0.8888888888888888,
              "#fdca26"
             ],
             [
              1,
              "#f0f921"
             ]
            ],
            "type": "histogram2d"
           }
          ],
          "histogram2dcontour": [
           {
            "colorbar": {
             "outlinewidth": 0,
             "ticks": ""
            },
            "colorscale": [
             [
              0,
              "#0d0887"
             ],
             [
              0.1111111111111111,
              "#46039f"
             ],
             [
              0.2222222222222222,
              "#7201a8"
             ],
             [
              0.3333333333333333,
              "#9c179e"
             ],
             [
              0.4444444444444444,
              "#bd3786"
             ],
             [
              0.5555555555555556,
              "#d8576b"
             ],
             [
              0.6666666666666666,
              "#ed7953"
             ],
             [
              0.7777777777777778,
              "#fb9f3a"
             ],
             [
              0.8888888888888888,
              "#fdca26"
             ],
             [
              1,
              "#f0f921"
             ]
            ],
            "type": "histogram2dcontour"
           }
          ],
          "mesh3d": [
           {
            "colorbar": {
             "outlinewidth": 0,
             "ticks": ""
            },
            "type": "mesh3d"
           }
          ],
          "parcoords": [
           {
            "line": {
             "colorbar": {
              "outlinewidth": 0,
              "ticks": ""
             }
            },
            "type": "parcoords"
           }
          ],
          "pie": [
           {
            "automargin": true,
            "type": "pie"
           }
          ],
          "scatter": [
           {
            "fillpattern": {
             "fillmode": "overlay",
             "size": 10,
             "solidity": 0.2
            },
            "type": "scatter"
           }
          ],
          "scatter3d": [
           {
            "line": {
             "colorbar": {
              "outlinewidth": 0,
              "ticks": ""
             }
            },
            "marker": {
             "colorbar": {
              "outlinewidth": 0,
              "ticks": ""
             }
            },
            "type": "scatter3d"
           }
          ],
          "scattercarpet": [
           {
            "marker": {
             "colorbar": {
              "outlinewidth": 0,
              "ticks": ""
             }
            },
            "type": "scattercarpet"
           }
          ],
          "scattergeo": [
           {
            "marker": {
             "colorbar": {
              "outlinewidth": 0,
              "ticks": ""
             }
            },
            "type": "scattergeo"
           }
          ],
          "scattergl": [
           {
            "marker": {
             "colorbar": {
              "outlinewidth": 0,
              "ticks": ""
             }
            },
            "type": "scattergl"
           }
          ],
          "scattermap": [
           {
            "marker": {
             "colorbar": {
              "outlinewidth": 0,
              "ticks": ""
             }
            },
            "type": "scattermap"
           }
          ],
          "scattermapbox": [
           {
            "marker": {
             "colorbar": {
              "outlinewidth": 0,
              "ticks": ""
             }
            },
            "type": "scattermapbox"
           }
          ],
          "scatterpolar": [
           {
            "marker": {
             "colorbar": {
              "outlinewidth": 0,
              "ticks": ""
             }
            },
            "type": "scatterpolar"
           }
          ],
          "scatterpolargl": [
           {
            "marker": {
             "colorbar": {
              "outlinewidth": 0,
              "ticks": ""
             }
            },
            "type": "scatterpolargl"
           }
          ],
          "scatterternary": [
           {
            "marker": {
             "colorbar": {
              "outlinewidth": 0,
              "ticks": ""
             }
            },
            "type": "scatterternary"
           }
          ],
          "surface": [
           {
            "colorbar": {
             "outlinewidth": 0,
             "ticks": ""
            },
            "colorscale": [
             [
              0,
              "#0d0887"
             ],
             [
              0.1111111111111111,
              "#46039f"
             ],
             [
              0.2222222222222222,
              "#7201a8"
             ],
             [
              0.3333333333333333,
              "#9c179e"
             ],
             [
              0.4444444444444444,
              "#bd3786"
             ],
             [
              0.5555555555555556,
              "#d8576b"
             ],
             [
              0.6666666666666666,
              "#ed7953"
             ],
             [
              0.7777777777777778,
              "#fb9f3a"
             ],
             [
              0.8888888888888888,
              "#fdca26"
             ],
             [
              1,
              "#f0f921"
             ]
            ],
            "type": "surface"
           }
          ],
          "table": [
           {
            "cells": {
             "fill": {
              "color": "#EBF0F8"
             },
             "line": {
              "color": "white"
             }
            },
            "header": {
             "fill": {
              "color": "#C8D4E3"
             },
             "line": {
              "color": "white"
             }
            },
            "type": "table"
           }
          ]
         },
         "layout": {
          "annotationdefaults": {
           "arrowcolor": "#2a3f5f",
           "arrowhead": 0,
           "arrowwidth": 1
          },
          "autotypenumbers": "strict",
          "coloraxis": {
           "colorbar": {
            "outlinewidth": 0,
            "ticks": ""
           }
          },
          "colorscale": {
           "diverging": [
            [
             0,
             "#8e0152"
            ],
            [
             0.1,
             "#c51b7d"
            ],
            [
             0.2,
             "#de77ae"
            ],
            [
             0.3,
             "#f1b6da"
            ],
            [
             0.4,
             "#fde0ef"
            ],
            [
             0.5,
             "#f7f7f7"
            ],
            [
             0.6,
             "#e6f5d0"
            ],
            [
             0.7,
             "#b8e186"
            ],
            [
             0.8,
             "#7fbc41"
            ],
            [
             0.9,
             "#4d9221"
            ],
            [
             1,
             "#276419"
            ]
           ],
           "sequential": [
            [
             0,
             "#0d0887"
            ],
            [
             0.1111111111111111,
             "#46039f"
            ],
            [
             0.2222222222222222,
             "#7201a8"
            ],
            [
             0.3333333333333333,
             "#9c179e"
            ],
            [
             0.4444444444444444,
             "#bd3786"
            ],
            [
             0.5555555555555556,
             "#d8576b"
            ],
            [
             0.6666666666666666,
             "#ed7953"
            ],
            [
             0.7777777777777778,
             "#fb9f3a"
            ],
            [
             0.8888888888888888,
             "#fdca26"
            ],
            [
             1,
             "#f0f921"
            ]
           ],
           "sequentialminus": [
            [
             0,
             "#0d0887"
            ],
            [
             0.1111111111111111,
             "#46039f"
            ],
            [
             0.2222222222222222,
             "#7201a8"
            ],
            [
             0.3333333333333333,
             "#9c179e"
            ],
            [
             0.4444444444444444,
             "#bd3786"
            ],
            [
             0.5555555555555556,
             "#d8576b"
            ],
            [
             0.6666666666666666,
             "#ed7953"
            ],
            [
             0.7777777777777778,
             "#fb9f3a"
            ],
            [
             0.8888888888888888,
             "#fdca26"
            ],
            [
             1,
             "#f0f921"
            ]
           ]
          },
          "colorway": [
           "#636efa",
           "#EF553B",
           "#00cc96",
           "#ab63fa",
           "#FFA15A",
           "#19d3f3",
           "#FF6692",
           "#B6E880",
           "#FF97FF",
           "#FECB52"
          ],
          "font": {
           "color": "#2a3f5f"
          },
          "geo": {
           "bgcolor": "white",
           "lakecolor": "white",
           "landcolor": "#E5ECF6",
           "showlakes": true,
           "showland": true,
           "subunitcolor": "white"
          },
          "hoverlabel": {
           "align": "left"
          },
          "hovermode": "closest",
          "mapbox": {
           "style": "light"
          },
          "paper_bgcolor": "white",
          "plot_bgcolor": "#E5ECF6",
          "polar": {
           "angularaxis": {
            "gridcolor": "white",
            "linecolor": "white",
            "ticks": ""
           },
           "bgcolor": "#E5ECF6",
           "radialaxis": {
            "gridcolor": "white",
            "linecolor": "white",
            "ticks": ""
           }
          },
          "scene": {
           "xaxis": {
            "backgroundcolor": "#E5ECF6",
            "gridcolor": "white",
            "gridwidth": 2,
            "linecolor": "white",
            "showbackground": true,
            "ticks": "",
            "zerolinecolor": "white"
           },
           "yaxis": {
            "backgroundcolor": "#E5ECF6",
            "gridcolor": "white",
            "gridwidth": 2,
            "linecolor": "white",
            "showbackground": true,
            "ticks": "",
            "zerolinecolor": "white"
           },
           "zaxis": {
            "backgroundcolor": "#E5ECF6",
            "gridcolor": "white",
            "gridwidth": 2,
            "linecolor": "white",
            "showbackground": true,
            "ticks": "",
            "zerolinecolor": "white"
           }
          },
          "shapedefaults": {
           "line": {
            "color": "#2a3f5f"
           }
          },
          "ternary": {
           "aaxis": {
            "gridcolor": "white",
            "linecolor": "white",
            "ticks": ""
           },
           "baxis": {
            "gridcolor": "white",
            "linecolor": "white",
            "ticks": ""
           },
           "bgcolor": "#E5ECF6",
           "caxis": {
            "gridcolor": "white",
            "linecolor": "white",
            "ticks": ""
           }
          },
          "title": {
           "x": 0.05
          },
          "xaxis": {
           "automargin": true,
           "gridcolor": "white",
           "linecolor": "white",
           "ticks": "",
           "title": {
            "standoff": 15
           },
           "zerolinecolor": "white",
           "zerolinewidth": 2
          },
          "yaxis": {
           "automargin": true,
           "gridcolor": "white",
           "linecolor": "white",
           "ticks": "",
           "title": {
            "standoff": 15
           },
           "zerolinecolor": "white",
           "zerolinewidth": 2
          }
         }
        },
        "title": {
         "text": "Distribution of Number of Reviews for Each Snapshot Date"
        },
        "width": 1400,
        "xaxis": {
         "title": {
          "text": "Number of Reviews"
         }
        },
        "yaxis": {
         "title": {
          "text": "Frequency"
         }
        }
       }
      }
     },
     "metadata": {},
     "output_type": "display_data"
    }
   ],
   "source": [
    "import plotly.graph_objects as go\n",
    "\n",
    "fig = go.Figure()\n",
    "\n",
    "for date in snapshot_dates:\n",
    "    data = number_of_reviews[number_of_reviews['snapshot_date'] == date]['number_of_reviews'].dropna()\n",
    "    fig.add_trace(go.Histogram(x=data, name=str(date), opacity=0.5, autobinx=True))\n",
    "\n",
    "# Update layout for better visualization\n",
    "fig.update_layout(\n",
    "    title= \"Distribution of Number of Reviews for Each Snapshot Date\",\n",
    "    xaxis_title=\"Number of Reviews\",\n",
    "    yaxis_title=\"Frequency\",\n",
    "    barmode=\"overlay\",  # Makes histograms overlap\n",
    "    legend_title=\"Snapshot Date\",\n",
    "    width=1400,  # Increase figure width\n",
    "    height=800   # Increase figure height\n",
    ")\n",
    "\n",
    "# Show interactive plot\n",
    "fig.show()"
   ]
  },
  {
   "cell_type": "code",
   "execution_count": 50,
   "metadata": {},
   "outputs": [
    {
     "data": {
      "application/vnd.plotly.v1+json": {
       "config": {
        "plotlyServerURL": "https://plot.ly"
       },
       "data": [
        {
         "bingroup": "100",
         "name": "2025-02-02",
         "opacity": 0.5,
         "type": "histogram",
         "x": {
          "bdata": "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",
          "dtype": "f8"
         }
        },
        {
         "bingroup": "100",
         "name": "2025-02-03",
         "opacity": 0.5,
         "type": "histogram",
         "x": {
          "bdata": "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",
          "dtype": "f8"
         }
        }
       ],
       "layout": {
        "barmode": "overlay",
        "height": 600,
        "legend": {
         "title": {
          "text": "Snapshot Date"
         }
        },
        "template": {
         "data": {
          "bar": [
           {
            "error_x": {
             "color": "#2a3f5f"
            },
            "error_y": {
             "color": "#2a3f5f"
            },
            "marker": {
             "line": {
              "color": "#E5ECF6",
              "width": 0.5
             },
             "pattern": {
              "fillmode": "overlay",
              "size": 10,
              "solidity": 0.2
             }
            },
            "type": "bar"
           }
          ],
          "barpolar": [
           {
            "marker": {
             "line": {
              "color": "#E5ECF6",
              "width": 0.5
             },
             "pattern": {
              "fillmode": "overlay",
              "size": 10,
              "solidity": 0.2
             }
            },
            "type": "barpolar"
           }
          ],
          "carpet": [
           {
            "aaxis": {
             "endlinecolor": "#2a3f5f",
             "gridcolor": "white",
             "linecolor": "white",
             "minorgridcolor": "white",
             "startlinecolor": "#2a3f5f"
            },
            "baxis": {
             "endlinecolor": "#2a3f5f",
             "gridcolor": "white",
             "linecolor": "white",
             "minorgridcolor": "white",
             "startlinecolor": "#2a3f5f"
            },
            "type": "carpet"
           }
          ],
          "choropleth": [
           {
            "colorbar": {
             "outlinewidth": 0,
             "ticks": ""
            },
            "type": "choropleth"
           }
          ],
          "contour": [
           {
            "colorbar": {
             "outlinewidth": 0,
             "ticks": ""
            },
            "colorscale": [
             [
              0,
              "#0d0887"
             ],
             [
              0.1111111111111111,
              "#46039f"
             ],
             [
              0.2222222222222222,
              "#7201a8"
             ],
             [
              0.3333333333333333,
              "#9c179e"
             ],
             [
              0.4444444444444444,
              "#bd3786"
             ],
             [
              0.5555555555555556,
              "#d8576b"
             ],
             [
              0.6666666666666666,
              "#ed7953"
             ],
             [
              0.7777777777777778,
              "#fb9f3a"
             ],
             [
              0.8888888888888888,
              "#fdca26"
             ],
             [
              1,
              "#f0f921"
             ]
            ],
            "type": "contour"
           }
          ],
          "contourcarpet": [
           {
            "colorbar": {
             "outlinewidth": 0,
             "ticks": ""
            },
            "type": "contourcarpet"
           }
          ],
          "heatmap": [
           {
            "colorbar": {
             "outlinewidth": 0,
             "ticks": ""
            },
            "colorscale": [
             [
              0,
              "#0d0887"
             ],
             [
              0.1111111111111111,
              "#46039f"
             ],
             [
              0.2222222222222222,
              "#7201a8"
             ],
             [
              0.3333333333333333,
              "#9c179e"
             ],
             [
              0.4444444444444444,
              "#bd3786"
             ],
             [
              0.5555555555555556,
              "#d8576b"
             ],
             [
              0.6666666666666666,
              "#ed7953"
             ],
             [
              0.7777777777777778,
              "#fb9f3a"
             ],
             [
              0.8888888888888888,
              "#fdca26"
             ],
             [
              1,
              "#f0f921"
             ]
            ],
            "type": "heatmap"
           }
          ],
          "histogram": [
           {
            "marker": {
             "pattern": {
              "fillmode": "overlay",
              "size": 10,
              "solidity": 0.2
             }
            },
            "type": "histogram"
           }
          ],
          "histogram2d": [
           {
            "colorbar": {
             "outlinewidth": 0,
             "ticks": ""
            },
            "colorscale": [
             [
              0,
              "#0d0887"
             ],
             [
              0.1111111111111111,
              "#46039f"
             ],
             [
              0.2222222222222222,
              "#7201a8"
             ],
             [
              0.3333333333333333,
              "#9c179e"
             ],
             [
              0.4444444444444444,
              "#bd3786"
             ],
             [
              0.5555555555555556,
              "#d8576b"
             ],
             [
              0.6666666666666666,
              "#ed7953"
             ],
             [
              0.7777777777777778,
              "#fb9f3a"
             ],
             [
              0.8888888888888888,
              "#fdca26"
             ],
             [
              1,
              "#f0f921"
             ]
            ],
            "type": "histogram2d"
           }
          ],
          "histogram2dcontour": [
           {
            "colorbar": {
             "outlinewidth": 0,
             "ticks": ""
            },
            "colorscale": [
             [
              0,
              "#0d0887"
             ],
             [
              0.1111111111111111,
              "#46039f"
             ],
             [
              0.2222222222222222,
              "#7201a8"
             ],
             [
              0.3333333333333333,
              "#9c179e"
             ],
             [
              0.4444444444444444,
              "#bd3786"
             ],
             [
              0.5555555555555556,
              "#d8576b"
             ],
             [
              0.6666666666666666,
              "#ed7953"
             ],
             [
              0.7777777777777778,
              "#fb9f3a"
             ],
             [
              0.8888888888888888,
              "#fdca26"
             ],
             [
              1,
              "#f0f921"
             ]
            ],
            "type": "histogram2dcontour"
           }
          ],
          "mesh3d": [
           {
            "colorbar": {
             "outlinewidth": 0,
             "ticks": ""
            },
            "type": "mesh3d"
           }
          ],
          "parcoords": [
           {
            "line": {
             "colorbar": {
              "outlinewidth": 0,
              "ticks": ""
             }
            },
            "type": "parcoords"
           }
          ],
          "pie": [
           {
            "automargin": true,
            "type": "pie"
           }
          ],
          "scatter": [
           {
            "fillpattern": {
             "fillmode": "overlay",
             "size": 10,
             "solidity": 0.2
            },
            "type": "scatter"
           }
          ],
          "scatter3d": [
           {
            "line": {
             "colorbar": {
              "outlinewidth": 0,
              "ticks": ""
             }
            },
            "marker": {
             "colorbar": {
              "outlinewidth": 0,
              "ticks": ""
             }
            },
            "type": "scatter3d"
           }
          ],
          "scattercarpet": [
           {
            "marker": {
             "colorbar": {
              "outlinewidth": 0,
              "ticks": ""
             }
            },
            "type": "scattercarpet"
           }
          ],
          "scattergeo": [
           {
            "marker": {
             "colorbar": {
              "outlinewidth": 0,
              "ticks": ""
             }
            },
            "type": "scattergeo"
           }
          ],
          "scattergl": [
           {
            "marker": {
             "colorbar": {
              "outlinewidth": 0,
              "ticks": ""
             }
            },
            "type": "scattergl"
           }
          ],
          "scattermap": [
           {
            "marker": {
             "colorbar": {
              "outlinewidth": 0,
              "ticks": ""
             }
            },
            "type": "scattermap"
           }
          ],
          "scattermapbox": [
           {
            "marker": {
             "colorbar": {
              "outlinewidth": 0,
              "ticks": ""
             }
            },
            "type": "scattermapbox"
           }
          ],
          "scatterpolar": [
           {
            "marker": {
             "colorbar": {
              "outlinewidth": 0,
              "ticks": ""
             }
            },
            "type": "scatterpolar"
           }
          ],
          "scatterpolargl": [
           {
            "marker": {
             "colorbar": {
              "outlinewidth": 0,
              "ticks": ""
             }
            },
            "type": "scatterpolargl"
           }
          ],
          "scatterternary": [
           {
            "marker": {
             "colorbar": {
              "outlinewidth": 0,
              "ticks": ""
             }
            },
            "type": "scatterternary"
           }
          ],
          "surface": [
           {
            "colorbar": {
             "outlinewidth": 0,
             "ticks": ""
            },
            "colorscale": [
             [
              0,
              "#0d0887"
             ],
             [
              0.1111111111111111,
              "#46039f"
             ],
             [
              0.2222222222222222,
              "#7201a8"
             ],
             [
              0.3333333333333333,
              "#9c179e"
             ],
             [
              0.4444444444444444,
              "#bd3786"
             ],
             [
              0.5555555555555556,
              "#d8576b"
             ],
             [
              0.6666666666666666,
              "#ed7953"
             ],
             [
              0.7777777777777778,
              "#fb9f3a"
             ],
             [
              0.8888888888888888,
              "#fdca26"
             ],
             [
              1,
              "#f0f921"
             ]
            ],
            "type": "surface"
           }
          ],
          "table": [
           {
            "cells": {
             "fill": {
              "color": "#EBF0F8"
             },
             "line": {
              "color": "white"
             }
            },
            "header": {
             "fill": {
              "color": "#C8D4E3"
             },
             "line": {
              "color": "white"
             }
            },
            "type": "table"
           }
          ]
         },
         "layout": {
          "annotationdefaults": {
           "arrowcolor": "#2a3f5f",
           "arrowhead": 0,
           "arrowwidth": 1
          },
          "autotypenumbers": "strict",
          "coloraxis": {
           "colorbar": {
            "outlinewidth": 0,
            "ticks": ""
           }
          },
          "colorscale": {
           "diverging": [
            [
             0,
             "#8e0152"
            ],
            [
             0.1,
             "#c51b7d"
            ],
            [
             0.2,
             "#de77ae"
            ],
            [
             0.3,
             "#f1b6da"
            ],
            [
             0.4,
             "#fde0ef"
            ],
            [
             0.5,
             "#f7f7f7"
            ],
            [
             0.6,
             "#e6f5d0"
            ],
            [
             0.7,
             "#b8e186"
            ],
            [
             0.8,
             "#7fbc41"
            ],
            [
             0.9,
             "#4d9221"
            ],
            [
             1,
             "#276419"
            ]
           ],
           "sequential": [
            [
             0,
             "#0d0887"
            ],
            [
             0.1111111111111111,
             "#46039f"
            ],
            [
             0.2222222222222222,
             "#7201a8"
            ],
            [
             0.3333333333333333,
             "#9c179e"
            ],
            [
             0.4444444444444444,
             "#bd3786"
            ],
            [
             0.5555555555555556,
             "#d8576b"
            ],
            [
             0.6666666666666666,
             "#ed7953"
            ],
            [
             0.7777777777777778,
             "#fb9f3a"
            ],
            [
             0.8888888888888888,
             "#fdca26"
            ],
            [
             1,
             "#f0f921"
            ]
           ],
           "sequentialminus": [
            [
             0,
             "#0d0887"
            ],
            [
             0.1111111111111111,
             "#46039f"
            ],
            [
             0.2222222222222222,
             "#7201a8"
            ],
            [
             0.3333333333333333,
             "#9c179e"
            ],
            [
             0.4444444444444444,
             "#bd3786"
            ],
            [
             0.5555555555555556,
             "#d8576b"
            ],
            [
             0.6666666666666666,
             "#ed7953"
            ],
            [
             0.7777777777777778,
             "#fb9f3a"
            ],
            [
             0.8888888888888888,
             "#fdca26"
            ],
            [
             1,
             "#f0f921"
            ]
           ]
          },
          "colorway": [
           "#636efa",
           "#EF553B",
           "#00cc96",
           "#ab63fa",
           "#FFA15A",
           "#19d3f3",
           "#FF6692",
           "#B6E880",
           "#FF97FF",
           "#FECB52"
          ],
          "font": {
           "color": "#2a3f5f"
          },
          "geo": {
           "bgcolor": "white",
           "lakecolor": "white",
           "landcolor": "#E5ECF6",
           "showlakes": true,
           "showland": true,
           "subunitcolor": "white"
          },
          "hoverlabel": {
           "align": "left"
          },
          "hovermode": "closest",
          "mapbox": {
           "style": "light"
          },
          "paper_bgcolor": "white",
          "plot_bgcolor": "#E5ECF6",
          "polar": {
           "angularaxis": {
            "gridcolor": "white",
            "linecolor": "white",
            "ticks": ""
           },
           "bgcolor": "#E5ECF6",
           "radialaxis": {
            "gridcolor": "white",
            "linecolor": "white",
            "ticks": ""
           }
          },
          "scene": {
           "xaxis": {
            "backgroundcolor": "#E5ECF6",
            "gridcolor": "white",
            "gridwidth": 2,
            "linecolor": "white",
            "showbackground": true,
            "ticks": "",
            "zerolinecolor": "white"
           },
           "yaxis": {
            "backgroundcolor": "#E5ECF6",
            "gridcolor": "white",
            "gridwidth": 2,
            "linecolor": "white",
            "showbackground": true,
            "ticks": "",
            "zerolinecolor": "white"
           },
           "zaxis": {
            "backgroundcolor": "#E5ECF6",
            "gridcolor": "white",
            "gridwidth": 2,
            "linecolor": "white",
            "showbackground": true,
            "ticks": "",
            "zerolinecolor": "white"
           }
          },
          "shapedefaults": {
           "line": {
            "color": "#2a3f5f"
           }
          },
          "ternary": {
           "aaxis": {
            "gridcolor": "white",
            "linecolor": "white",
            "ticks": ""
           },
           "baxis": {
            "gridcolor": "white",
            "linecolor": "white",
            "ticks": ""
           },
           "bgcolor": "#E5ECF6",
           "caxis": {
            "gridcolor": "white",
            "linecolor": "white",
            "ticks": ""
           }
          },
          "title": {
           "x": 0.05
          },
          "xaxis": {
           "automargin": true,
           "gridcolor": "white",
           "linecolor": "white",
           "ticks": "",
           "title": {
            "standoff": 15
           },
           "zerolinecolor": "white",
           "zerolinewidth": 2
          },
          "yaxis": {
           "automargin": true,
           "gridcolor": "white",
           "linecolor": "white",
           "ticks": "",
           "title": {
            "standoff": 15
           },
           "zerolinecolor": "white",
           "zerolinewidth": 2
          }
         }
        },
        "title": {
         "text": "Distribution of Review Scores for Each Snapshot Date"
        },
        "width": 1000,
        "xaxis": {
         "title": {
          "text": "Review Score"
         }
        },
        "yaxis": {
         "title": {
          "text": "Frequency"
         }
        }
       }
      }
     },
     "metadata": {},
     "output_type": "display_data"
    }
   ],
   "source": [
    "# Drop NaN values from 'review_score'\n",
    "\n",
    "import plotly.express as px\n",
    "\n",
    "review_scores = bookings.groupby(['name', 'snapshot_date'], as_index=False)['review_score'].first()\n",
    "\n",
    "# Create subplots for each snapshot date\n",
    "fig = go.Figure()\n",
    "\n",
    "for date in snapshot_dates:\n",
    "    data = review_scores[review_scores['snapshot_date'] == date]['review_score'].dropna()\n",
    "    fig.add_trace(go.Histogram(x=data, name=str(date), opacity=0.5, bingroup=100))\n",
    "\n",
    "# Update layout to separate the graphs\n",
    "fig.update_layout(\n",
    "    title=\"Distribution of Review Scores for Each Snapshot Date\",\n",
    "    xaxis_title=\"Review Score\",\n",
    "    yaxis_title=\"Frequency\",\n",
    "    barmode='overlay',  # Ensures histograms are separate\n",
    "    legend_title=\"Snapshot Date\",\n",
    "    width=1000,\n",
    "    height=600\n",
    ")\n",
    "\n",
    "# Show interactive plot\n",
    "fig.show()"
   ]
  }
 ],
 "metadata": {
  "kernelspec": {
   "display_name": "DS-101-Final",
   "language": "python",
   "name": "python3"
  },
  "language_info": {
   "codemirror_mode": {
    "name": "ipython",
    "version": 3
   },
   "file_extension": ".py",
   "mimetype": "text/x-python",
   "name": "python",
   "nbconvert_exporter": "python",
   "pygments_lexer": "ipython3",
   "version": "3.12.8"
  }
 },
 "nbformat": 4,
 "nbformat_minor": 2
}
