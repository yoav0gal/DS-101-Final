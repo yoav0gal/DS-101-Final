{
 "cells": [
  {
   "cell_type": "markdown",
   "metadata": {},
   "source": [
    "Hotel Scraping project"
   ]
  },
  {
   "cell_type": "code",
   "execution_count": 136,
   "metadata": {},
   "outputs": [
    {
     "name": "stdout",
     "output_type": "stream",
     "text": [
      "Requirement already satisfied: beautifulsoup4 in c:\\users\\hamamahome\\anaconda3\\envs\\ds-101-final\\lib\\site-packages (4.12.3)\n",
      "Requirement already satisfied: soupsieve>1.2 in c:\\users\\hamamahome\\anaconda3\\envs\\ds-101-final\\lib\\site-packages (from beautifulsoup4) (2.6)\n",
      "Requirement already satisfied: selenium in c:\\users\\hamamahome\\anaconda3\\envs\\ds-101-final\\lib\\site-packages (4.28.1)\n",
      "Requirement already satisfied: urllib3<3,>=1.26 in c:\\users\\hamamahome\\anaconda3\\envs\\ds-101-final\\lib\\site-packages (from urllib3[socks]<3,>=1.26->selenium) (2.3.0)\n",
      "Requirement already satisfied: trio~=0.17 in c:\\users\\hamamahome\\anaconda3\\envs\\ds-101-final\\lib\\site-packages (from selenium) (0.28.0)\n",
      "Requirement already satisfied: trio-websocket~=0.9 in c:\\users\\hamamahome\\anaconda3\\envs\\ds-101-final\\lib\\site-packages (from selenium) (0.11.1)\n",
      "Requirement already satisfied: certifi>=2021.10.8 in c:\\users\\hamamahome\\anaconda3\\envs\\ds-101-final\\lib\\site-packages (from selenium) (2025.1.31)\n",
      "Requirement already satisfied: typing_extensions~=4.9 in c:\\users\\hamamahome\\anaconda3\\envs\\ds-101-final\\lib\\site-packages (from selenium) (4.12.2)\n",
      "Requirement already satisfied: websocket-client~=1.8 in c:\\users\\hamamahome\\anaconda3\\envs\\ds-101-final\\lib\\site-packages (from selenium) (1.8.0)\n",
      "Requirement already satisfied: attrs>=23.2.0 in c:\\users\\hamamahome\\anaconda3\\envs\\ds-101-final\\lib\\site-packages (from trio~=0.17->selenium) (25.1.0)\n",
      "Requirement already satisfied: sortedcontainers in c:\\users\\hamamahome\\anaconda3\\envs\\ds-101-final\\lib\\site-packages (from trio~=0.17->selenium) (2.4.0)\n",
      "Requirement already satisfied: idna in c:\\users\\hamamahome\\anaconda3\\envs\\ds-101-final\\lib\\site-packages (from trio~=0.17->selenium) (3.10)\n",
      "Requirement already satisfied: outcome in c:\\users\\hamamahome\\anaconda3\\envs\\ds-101-final\\lib\\site-packages (from trio~=0.17->selenium) (1.3.0.post0)\n",
      "Requirement already satisfied: sniffio>=1.3.0 in c:\\users\\hamamahome\\anaconda3\\envs\\ds-101-final\\lib\\site-packages (from trio~=0.17->selenium) (1.3.1)\n",
      "Requirement already satisfied: cffi>=1.14 in c:\\users\\hamamahome\\anaconda3\\envs\\ds-101-final\\lib\\site-packages (from trio~=0.17->selenium) (1.17.1)\n",
      "Requirement already satisfied: wsproto>=0.14 in c:\\users\\hamamahome\\anaconda3\\envs\\ds-101-final\\lib\\site-packages (from trio-websocket~=0.9->selenium) (1.2.0)\n",
      "Requirement already satisfied: pysocks!=1.5.7,<2.0,>=1.5.6 in c:\\users\\hamamahome\\anaconda3\\envs\\ds-101-final\\lib\\site-packages (from urllib3[socks]<3,>=1.26->selenium) (1.7.1)\n",
      "Requirement already satisfied: pycparser in c:\\users\\hamamahome\\anaconda3\\envs\\ds-101-final\\lib\\site-packages (from cffi>=1.14->trio~=0.17->selenium) (2.22)\n",
      "Requirement already satisfied: h11<1,>=0.9.0 in c:\\users\\hamamahome\\anaconda3\\envs\\ds-101-final\\lib\\site-packages (from wsproto>=0.14->trio-websocket~=0.9->selenium) (0.14.0)\n",
      "Requirement already satisfied: requests in c:\\users\\hamamahome\\anaconda3\\envs\\ds-101-final\\lib\\site-packages (2.32.3)\n",
      "Requirement already satisfied: charset-normalizer<4,>=2 in c:\\users\\hamamahome\\anaconda3\\envs\\ds-101-final\\lib\\site-packages (from requests) (3.4.1)\n",
      "Requirement already satisfied: idna<4,>=2.5 in c:\\users\\hamamahome\\anaconda3\\envs\\ds-101-final\\lib\\site-packages (from requests) (3.10)\n",
      "Requirement already satisfied: urllib3<3,>=1.21.1 in c:\\users\\hamamahome\\anaconda3\\envs\\ds-101-final\\lib\\site-packages (from requests) (2.3.0)\n",
      "Requirement already satisfied: certifi>=2017.4.17 in c:\\users\\hamamahome\\anaconda3\\envs\\ds-101-final\\lib\\site-packages (from requests) (2025.1.31)\n",
      "Collecting tqdm\n",
      "  Downloading tqdm-4.67.1-py3-none-any.whl.metadata (57 kB)\n",
      "Requirement already satisfied: colorama in c:\\users\\hamamahome\\appdata\\roaming\\python\\python312\\site-packages (from tqdm) (0.4.6)\n",
      "Downloading tqdm-4.67.1-py3-none-any.whl (78 kB)\n",
      "Installing collected packages: tqdm\n",
      "Successfully installed tqdm-4.67.1\n"
     ]
    }
   ],
   "source": [
    "!pip install beautifulsoup4\n",
    "!pip install selenium\n",
    "!pip install requests\n",
    "!pip install tqdm"
   ]
  },
  {
   "cell_type": "code",
   "execution_count": 4,
   "metadata": {},
   "outputs": [],
   "source": [
    "from bs4 import BeautifulSoup, ResultSet\n",
    "from datetime import datetime,timedelta\n",
    "from selenium import webdriver\n",
    "from selenium.webdriver.common.by import By\n",
    "from selenium.webdriver.common.keys import Keys\n",
    "from selenium.webdriver.support.ui import WebDriverWait\n",
    "from selenium.webdriver.support import expected_conditions as EC\n",
    "from selenium.common.exceptions import NoSuchElementException, TimeoutException\n",
    "from selenium.webdriver.chrome.options import Options\n",
    "import time\n",
    "from typing import *"
   ]
  },
  {
   "cell_type": "code",
   "execution_count": 5,
   "metadata": {},
   "outputs": [],
   "source": [
    "options = Options()\n",
    "options.add_argument(\"--window-size=1920,1080\") \n",
    "\n",
    "driver = webdriver.Chrome(options=options)"
   ]
  },
  {
   "cell_type": "markdown",
   "metadata": {},
   "source": [
    "### Scraping logic: \n",
    "Scroll to the end of the page until you see the `Load more results` button, click it and scroll again. right now the whole page is loaded with more than 100 hotels. take the hotels from the page and extract the data from that"
   ]
  },
  {
   "cell_type": "code",
   "execution_count": 6,
   "metadata": {},
   "outputs": [],
   "source": [
    "def click_load_more(driver: webdriver.Chrome) -> bool:\n",
    "    try:\n",
    "        # Scroll to the bottom of the page to load more content\n",
    "        driver.execute_script(\"window.scrollTo(0, document.body.scrollHeight);\")\n",
    "        \n",
    "        load_more_button = WebDriverWait(driver, 10).until(\n",
    "            EC.element_to_be_clickable((By.XPATH, \"//button[contains(translate(., 'LOAD MORE RESULTS', 'load more results'), 'load more results')]\"))\n",
    "        )\n",
    "        load_more_button.click()\n",
    "        return True\n",
    "    except (NoSuchElementException, TimeoutException):\n",
    "        return False"
   ]
  },
  {
   "cell_type": "code",
   "execution_count": 7,
   "metadata": {},
   "outputs": [],
   "source": [
    "def build_url(time_to_travel: int, length_of_stay: int) -> str:\n",
    "    today = datetime.today()\n",
    "\n",
    "    checkin_date = today + timedelta(days=time_to_travel)\n",
    "    checkout_date = checkin_date + timedelta(days=length_of_stay)\n",
    "    checkin_date_str = checkin_date.strftime('%Y-%m-%d')\n",
    "    checkout_date_str = checkout_date.strftime('%Y-%m-%d')\n",
    "    url = f'https://www.booking.com/searchresults.en-gb.html?ss=New+York&ssne=New+York&ssne_untouched=New+York&lang=en-gb&dest_id=20088325&dest_type=city&checkin={checkin_date_str}&checkout={checkout_date_str}&group_adults=2&no_rooms=1&group_children=0&selected_currency=USD'\n",
    "    return url\n"
   ]
  },
  {
   "cell_type": "code",
   "execution_count": 8,
   "metadata": {},
   "outputs": [],
   "source": [
    "def close_genius_modal(driver: webdriver.Chrome) -> bool:\n",
    "    try:\n",
    "        genius_modal_close_button = driver.find_element(By.XPATH, '//*[@id=\"b2searchresultsPage\"]/div[21]/div/div/div/div[1]/div[1]/div/button')\n",
    "        genius_modal_close_button.click()\n",
    "        return True    \n",
    "    except (NoSuchElementException, TimeoutException):\n",
    "        return False"
   ]
  },
  {
   "cell_type": "code",
   "execution_count": 9,
   "metadata": {},
   "outputs": [],
   "source": [
    "def load_more(driver: webdriver.Chrome) -> bool:\n",
    "    body = driver.find_element(By.TAG_NAME, 'body')\n",
    "    body.send_keys(Keys.HOME)\n",
    "    time.sleep(0.5)\n",
    "    body.send_keys(Keys.END)\n",
    "\n",
    "    try:\n",
    "        button = driver.find_element(By.XPATH, \"//button[span[contains(text(), 'Load more results')]]\")\n",
    "        button.click()\n",
    "        return True    \n",
    "    except Exception:\n",
    "        return False"
   ]
  },
  {
   "cell_type": "code",
   "execution_count": 10,
   "metadata": {},
   "outputs": [],
   "source": [
    "import bs4\n",
    "\n",
    "def get_hotels(driver: webdriver.Chrome, url: str) -> List[bs4.element.Tag]:\n",
    "    driver.get(url)\n",
    "    time.sleep(3)\n",
    "\n",
    "    soup = None\n",
    "    hotels=[]\n",
    "    while len(hotels) < 100:\n",
    "        time.sleep(2)\n",
    "        close_genius_modal(driver)\n",
    "        load_more(driver)\n",
    "        soup = BeautifulSoup(driver.page_source, 'html.parser')\n",
    "        hotels = soup.find_all('div', {'data-testid': \"property-card\"})\n",
    "    return hotels"
   ]
  },
  {
   "cell_type": "code",
   "execution_count": 11,
   "metadata": {},
   "outputs": [],
   "source": [
    "import re\n",
    "\n",
    "kms_from_centre = lambda text: float(re.search(r'([\\d]+(?:\\.\\d+)?)\\s*km\\s+from\\s+centre', text).group(1))\n",
    "\n",
    "def extract_hotel_info(hotel: bs4.element.Tag) -> Dict[str, Any]:\n",
    "    hotel_info = {}\n",
    "    # basic info\n",
    "    hotel_info['name'] = hotel.find('div', {'data-testid': 'title'}).text\n",
    "    hotel_info['price'] = hotel.find('span', {'data-testid': 'price-and-discounted-price'}).text\n",
    "    \n",
    "    # review parameters\n",
    "    rating_div = hotel.find('div', {'data-testid': 'review-score'})\n",
    "    review_divs = rating_div.find_all('div')\n",
    "\n",
    "    hotel_info['review_score'] = review_divs[0].get_text(separator=':)', strip=True).split(':)')[1] \n",
    "    hotel_info['review_title'] = review_divs[3].get_text(strip=True)\n",
    "    hotel_info['number_of_reviews'] = review_divs[4].get_text(separator=' ', strip=True).split(' ')[0] \n",
    "    \n",
    "    # star rating\n",
    "    star_rating_div = hotel.find('div', {'data-testid': 'rating-stars'})\n",
    "    if star_rating_div:\n",
    "        hotel_info['star_rating'] = len(star_rating_div.find_all('svg'))\n",
    "    else:\n",
    "        hotel_info['star_rating'] = None\n",
    "\n",
    "    # distance from centre\n",
    "    distance_div = hotel.find('span', {'data-testid': 'distance'})\n",
    "    if distance_div:\n",
    "        distance = distance_div.get_text(strip=True)\n",
    "        hotel_info['kms_from_centre'] = kms_from_centre(distance)\n",
    "    else:\n",
    "        hotel_info['kms_from_centre'] = None\n",
    "\n",
    "    # location score\n",
    "    location_link = hotel.find('a', {'data-testid': 'secondary-review-score-link'})\n",
    "    if location_link:\n",
    "        location_score_match = re.search(r'Scored\\s(\\d+\\.\\d+)', location_link['aria-label'])\n",
    "        hotel_info['location_score'] = location_score_match.group(1) if location_score_match else None\n",
    "    else:\n",
    "        hotel_info['location_score'] = None\n",
    "\n",
    "    # room type and bed type\n",
    "    recommended_units_div = hotel.find('div', {'data-testid': 'recommended-units'})\n",
    "    hotel_info['room_type'] = (recommended_units_div and \n",
    "                               recommended_units_div.h4 and \n",
    "                               recommended_units_div.h4.get_text(strip=True))\n",
    "    hotel_info['bed_type'] = (recommended_units_div and \n",
    "                              recommended_units_div.ul and \n",
    "                              recommended_units_div.ul.li and \n",
    "                              recommended_units_div.ul.li.div and \n",
    "                              recommended_units_div.ul.li.div.div and \n",
    "                              recommended_units_div.ul.li.div.div.get_text(strip=True))\n",
    "\n",
    "    # breakfast\n",
    "    gallery_ribbon =  hotel.find('div', {'data-testid': 'gallery-ribbon'})\n",
    "    if gallery_ribbon and 'Breakfast included' in gallery_ribbon.get_text(strip=True):\n",
    "        hotel_info['breakfast_included'] = True\n",
    "    else:\n",
    "        hotel_info['breakfast_included'] = False\n",
    "\n",
    "    # free cancellation\n",
    "    hotel_info['free_cancellation'] = True if hotel.find('div', {'data-testid': 'cancellation-policy-icon'}) else False\n",
    "    # prepayment \n",
    "    hotel_info['prepayment_needed'] = False if hotel.find('div', {'data-testid': 'prepayment-policy-icon'}) else True\n",
    "\n",
    "\n",
    "    return hotel_info"
   ]
  },
  {
   "cell_type": "code",
   "execution_count": 12,
   "metadata": {},
   "outputs": [],
   "source": [
    "import pandas as pd \n",
    "\n",
    "def get_hotels_dataframe(hotels: List[bs4.element.Tag]) -> pd.DataFrame:\n",
    "    hotels_info = [extract_hotel_info(hotel) for hotel in hotels]\n",
    "    return pd.DataFrame(hotels_info)"
   ]
  },
  {
   "cell_type": "code",
   "execution_count": 15,
   "metadata": {},
   "outputs": [
    {
     "name": "stdout",
     "output_type": "stream",
     "text": [
      "1 / 30, 1 / 5\n"
     ]
    },
    {
     "ename": "KeyboardInterrupt",
     "evalue": "",
     "output_type": "error",
     "traceback": [
      "\u001b[1;31m---------------------------------------------------------------------------\u001b[0m",
      "\u001b[1;31mKeyboardInterrupt\u001b[0m                         Traceback (most recent call last)",
      "Cell \u001b[1;32mIn[15], line 7\u001b[0m\n\u001b[0;32m      5\u001b[0m \u001b[38;5;28mprint\u001b[39m(\u001b[38;5;124mf\u001b[39m\u001b[38;5;124m'\u001b[39m\u001b[38;5;132;01m{\u001b[39;00mTTT\u001b[38;5;132;01m}\u001b[39;00m\u001b[38;5;124m / 30, \u001b[39m\u001b[38;5;132;01m{\u001b[39;00mLOS\u001b[38;5;132;01m}\u001b[39;00m\u001b[38;5;124m / 5\u001b[39m\u001b[38;5;124m'\u001b[39m)\n\u001b[0;32m      6\u001b[0m url \u001b[38;5;241m=\u001b[39m build_url(TTT, LOS)\n\u001b[1;32m----> 7\u001b[0m hotels \u001b[38;5;241m=\u001b[39m \u001b[43mget_hotels\u001b[49m\u001b[43m(\u001b[49m\u001b[43mdriver\u001b[49m\u001b[43m,\u001b[49m\u001b[43m \u001b[49m\u001b[43murl\u001b[49m\u001b[43m)\u001b[49m\n\u001b[0;32m      8\u001b[0m hotels_df \u001b[38;5;241m=\u001b[39m get_hotels_dataframe(hotels)\n\u001b[0;32m      9\u001b[0m hotels_df[\u001b[38;5;124m'\u001b[39m\u001b[38;5;124mtime_to_travel\u001b[39m\u001b[38;5;124m'\u001b[39m] \u001b[38;5;241m=\u001b[39m TTT\n",
      "Cell \u001b[1;32mIn[10], line 10\u001b[0m, in \u001b[0;36mget_hotels\u001b[1;34m(driver, url)\u001b[0m\n\u001b[0;32m      8\u001b[0m hotels\u001b[38;5;241m=\u001b[39m[]\n\u001b[0;32m      9\u001b[0m \u001b[38;5;28;01mwhile\u001b[39;00m \u001b[38;5;28mlen\u001b[39m(hotels) \u001b[38;5;241m<\u001b[39m \u001b[38;5;241m100\u001b[39m:\n\u001b[1;32m---> 10\u001b[0m     \u001b[43mtime\u001b[49m\u001b[38;5;241;43m.\u001b[39;49m\u001b[43msleep\u001b[49m\u001b[43m(\u001b[49m\u001b[38;5;241;43m2\u001b[39;49m\u001b[43m)\u001b[49m\n\u001b[0;32m     11\u001b[0m     close_genius_modal(driver)\n\u001b[0;32m     12\u001b[0m     load_more(driver)\n",
      "\u001b[1;31mKeyboardInterrupt\u001b[0m: "
     ]
    }
   ],
   "source": [
    "SNAPSHOT_DATE = datetime.today().strftime('%Y-%m-%d')\n",
    "df = pd.DataFrame()\n",
    "for TTT in range(1, 30 + 1):\n",
    "    for LOS in range(1, 5 + 1):\n",
    "        print(f'{TTT} / 30, {LOS} / 5')\n",
    "        url = build_url(TTT, LOS)\n",
    "        hotels = get_hotels(driver, url)\n",
    "        hotels_df = get_hotels_dataframe(hotels)\n",
    "        hotels_df['time_to_travel'] = TTT\n",
    "        hotels_df['length_of_stay'] = LOS\n",
    "        hotels_df['snapshot_date'] = SNAPSHOT_DATE\n",
    "\n",
    "        df = pd.concat([df, hotels_df], ignore_index=True)\n",
    "df.to_csv(f'booking_snapshot_{SNAPSHOT_DATE}.csv', index=False)"
   ]
  }
 ],
 "metadata": {
  "kernelspec": {
   "display_name": "DS-101-Final",
   "language": "python",
   "name": "python3"
  },
  "language_info": {
   "codemirror_mode": {
    "name": "ipython",
    "version": 3
   },
   "file_extension": ".py",
   "mimetype": "text/x-python",
   "name": "python",
   "nbconvert_exporter": "python",
   "pygments_lexer": "ipython3",
   "version": "3.12.8"
  }
 },
 "nbformat": 4,
 "nbformat_minor": 2
}
