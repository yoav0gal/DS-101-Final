{
 "cells": [
  {
   "cell_type": "markdown",
   "metadata": {},
   "source": [
    "## step 4 - Building a Predictive Model for Hotel Pricing Dynamics Using Snapshot Data (V2)\n",
    "\n"
   ]
  },
  {
   "cell_type": "markdown",
   "metadata": {},
   "source": [
    "\n",
    "- **Objective:**  \n",
    "  Predict the `Discount Price` for check-in dates within 30 days of a given `Snapshot Date` while minimizing the number of price samples (queries) from the database.\n",
    "\n",
    "- **Context:**  \n",
    "  Given fields of `Snapshot Date`, `Hotel Name`, `Discount Code`, build a relevant data set to predict the `Discount Price` for check-in dates within 30 days of the `Snapshot Date`.\n",
    "\n",
    "- **Performance Measure:**  \n",
    "  The model's success is evaluated by the R-squared metric on a subset of 40 hotels with the most complete data.\n"
   ]
  },
  {
   "cell_type": "markdown",
   "metadata": {},
   "source": [
    "### Solution Approaches: Gaussian Process Regression vs. Bayesian Linear and Polynomial Regression\n"
   ]
  },
  {
   "cell_type": "markdown",
   "metadata": {},
   "source": [
    "\n",
    "#### Gaussian Process Regression\n"
   ]
  },
  {
   "cell_type": "markdown",
   "metadata": {},
   "source": [
    "\n",
    "- **Pros:**\n",
    "  - **Uncertainty Quantification:** Provides both predictions and confidence intervals, which is key for active sampling.\n",
    "  - **Sample Efficiency:** Excels when data is limited, helping us select the most informative samples.\n",
    "  - **Flexibility:** Capable of modeling complex, non-linear relationships inherent in price trends.\n",
    "  \n",
    "- **Cons:**\n",
    "  - **Computational Cost:** Can become computationally expensive with larger datasets.\n",
    "  - **Kernel Selection:** Requires careful tuning of the kernel functions to capture the underlying data patterns accurately.\n",
    "\n",
    "- **Fit to the Problem:**  \n",
    "  Ideal for our task since its uncertainty estimates allow us to strategically choose the next check-in dates to sample, ensuring we use as few queries as possible while maintaining high prediction performance.\n",
    "\n"
   ]
  },
  {
   "cell_type": "markdown",
   "metadata": {},
   "source": [
    "\n",
    "#### Bayesian Linear and Polynomial Regression\n"
   ]
  },
  {
   "cell_type": "markdown",
   "metadata": {},
   "source": [
    "\n",
    "- **Pros:**\n",
    "  - **Simplicity:** Easy to implement and interpret.\n",
    "  - **Speed:** Generally faster to train compared to GP, which can be advantageous with simpler or smooth trends.\n",
    "  \n",
    "- **Cons:**\n",
    "  - **Limited Flexibility:** May not capture complex non-linear patterns as effectively.\n",
    "  - **Uncertainty Estimates:** While Bayesian methods provide uncertainty measures, they are often less robust in capturing the variability in complex datasets compared to GP.\n",
    "\n",
    "- **Fit to the Problem:**  \n",
    "  Suitable if the price trends were very smooth and predictable. However, the nuances in hotel pricing (e.g., varying discount strategies, day-of-week effects) suggest a need for a more flexible approach.\n",
    "\n"
   ]
  },
  {
   "cell_type": "markdown",
   "metadata": {},
   "source": [
    "\n",
    "#### Chosen Approach:\n"
   ]
  },
  {
   "cell_type": "markdown",
   "metadata": {},
   "source": [
    "\n",
    "- **Gaussian Process Regression** is selected as the primary method. Its ability to provide uncertainty estimates and guide active sampling makes it the best fit for minimizing the number of price queries while still achieving a high R-squared on the test set.\n"
   ]
  },
  {
   "cell_type": "markdown",
   "metadata": {},
   "source": [
    "### Data Loading and Extraction:"
   ]
  },
  {
   "cell_type": "markdown",
   "metadata": {},
   "source": [
    "1. **Load the Data:**  \n",
    "   We read the CSV file into a DataFrame and ensure that date columns are properly converted to datetime objects.\n",
    "\n",
    "2. **Filter the Data:**  \n",
    "   We filter the dataset to include only rows where `DayDiff` is 30 or less, meaning the check-in is within 30 days after the snapshot date.\n",
    "\n",
    "3. **Group the Data:**  \n",
    "   We group by `Snapshot Date`, `Hotel Name`, and `Discount Code`, and count the number of transactions (rows) in each group. This count is stored in the column `transaction_count`.\n",
    "\n",
    "4. **Dataset: onePerHotel:**  \n",
    "   - For each hotel, we sort by `transaction_count` in descending order and select the combination with the maximum count.  \n",
    "   - Then, we sort these unique hotel rows by `transaction_count` and take the top 40.\n",
    "\n",
    "5. **Dataset: mostData:**  \n",
    "   - We simply sort all the grouped combinations by `transaction_count` in descending order and select the top 40 combinations.\n",
    "\n",
    "6. **Extracting Parameters:**  \n",
    "   For each dataset, we extract a list of dictionaries (or \"params\") containing `Snapshot Date`, `Hotel Name`, and `Discount Code`.\n"
   ]
  },
  {
   "cell_type": "code",
   "execution_count": 5,
   "metadata": {},
   "outputs": [
    {
     "name": "stdout",
     "output_type": "stream",
     "text": [
      "onePerHotel (Top 40 hotels with best combination per hotel):\n"
     ]
    },
    {
     "data": {
      "text/html": [
       "<div>\n",
       "<style scoped>\n",
       "    .dataframe tbody tr th:only-of-type {\n",
       "        vertical-align: middle;\n",
       "    }\n",
       "\n",
       "    .dataframe tbody tr th {\n",
       "        vertical-align: top;\n",
       "    }\n",
       "\n",
       "    .dataframe thead th {\n",
       "        text-align: right;\n",
       "    }\n",
       "</style>\n",
       "<table border=\"1\" class=\"dataframe\">\n",
       "  <thead>\n",
       "    <tr style=\"text-align: right;\">\n",
       "      <th></th>\n",
       "      <th>Hotel Name</th>\n",
       "      <th>Snapshot Date</th>\n",
       "      <th>Discount Code</th>\n",
       "      <th>transaction_count</th>\n",
       "    </tr>\n",
       "  </thead>\n",
       "  <tbody>\n",
       "    <tr>\n",
       "      <th>339</th>\n",
       "      <td>Park Hyatt New York</td>\n",
       "      <td>2015-07-22</td>\n",
       "      <td>3</td>\n",
       "      <td>44</td>\n",
       "    </tr>\n",
       "    <tr>\n",
       "      <th>325</th>\n",
       "      <td>Newark Liberty International Airport Marriott</td>\n",
       "      <td>2015-07-22</td>\n",
       "      <td>3</td>\n",
       "      <td>30</td>\n",
       "    </tr>\n",
       "    <tr>\n",
       "      <th>468</th>\n",
       "      <td>The New York EDITION</td>\n",
       "      <td>2015-07-27</td>\n",
       "      <td>2</td>\n",
       "      <td>30</td>\n",
       "    </tr>\n",
       "    <tr>\n",
       "      <th>168</th>\n",
       "      <td>Hampton Inn Madison Square Garden Area Hotel</td>\n",
       "      <td>2015-07-23</td>\n",
       "      <td>4</td>\n",
       "      <td>26</td>\n",
       "    </tr>\n",
       "    <tr>\n",
       "      <th>431</th>\n",
       "      <td>The Carlyle A Rosewood Hotel</td>\n",
       "      <td>2015-12-20</td>\n",
       "      <td>4</td>\n",
       "      <td>26</td>\n",
       "    </tr>\n",
       "  </tbody>\n",
       "</table>\n",
       "</div>"
      ],
      "text/plain": [
       "                                        Hotel Name Snapshot Date  \\\n",
       "339                            Park Hyatt New York    2015-07-22   \n",
       "325  Newark Liberty International Airport Marriott    2015-07-22   \n",
       "468                           The New York EDITION    2015-07-27   \n",
       "168   Hampton Inn Madison Square Garden Area Hotel    2015-07-23   \n",
       "431                   The Carlyle A Rosewood Hotel    2015-12-20   \n",
       "\n",
       "     Discount Code  transaction_count  \n",
       "339              3                 44  \n",
       "325              3                 30  \n",
       "468              2                 30  \n",
       "168              4                 26  \n",
       "431              4                 26  "
      ]
     },
     "metadata": {},
     "output_type": "display_data"
    },
    {
     "name": "stdout",
     "output_type": "stream",
     "text": [
      "mostData (Top 40 combinations overall):\n"
     ]
    },
    {
     "data": {
      "text/html": [
       "<div>\n",
       "<style scoped>\n",
       "    .dataframe tbody tr th:only-of-type {\n",
       "        vertical-align: middle;\n",
       "    }\n",
       "\n",
       "    .dataframe tbody tr th {\n",
       "        vertical-align: top;\n",
       "    }\n",
       "\n",
       "    .dataframe thead th {\n",
       "        text-align: right;\n",
       "    }\n",
       "</style>\n",
       "<table border=\"1\" class=\"dataframe\">\n",
       "  <thead>\n",
       "    <tr style=\"text-align: right;\">\n",
       "      <th></th>\n",
       "      <th>Snapshot Date</th>\n",
       "      <th>Hotel Name</th>\n",
       "      <th>Discount Code</th>\n",
       "      <th>transaction_count</th>\n",
       "    </tr>\n",
       "  </thead>\n",
       "  <tbody>\n",
       "    <tr>\n",
       "      <th>1684</th>\n",
       "      <td>2015-07-22</td>\n",
       "      <td>Park Hyatt New York</td>\n",
       "      <td>3</td>\n",
       "      <td>44</td>\n",
       "    </tr>\n",
       "    <tr>\n",
       "      <th>1683</th>\n",
       "      <td>2015-07-22</td>\n",
       "      <td>Park Hyatt New York</td>\n",
       "      <td>2</td>\n",
       "      <td>43</td>\n",
       "    </tr>\n",
       "    <tr>\n",
       "      <th>1682</th>\n",
       "      <td>2015-07-22</td>\n",
       "      <td>Park Hyatt New York</td>\n",
       "      <td>1</td>\n",
       "      <td>30</td>\n",
       "    </tr>\n",
       "    <tr>\n",
       "      <th>3312</th>\n",
       "      <td>2015-07-27</td>\n",
       "      <td>The New York EDITION</td>\n",
       "      <td>2</td>\n",
       "      <td>30</td>\n",
       "    </tr>\n",
       "    <tr>\n",
       "      <th>1967</th>\n",
       "      <td>2015-07-23</td>\n",
       "      <td>Newark Liberty International Airport Marriott</td>\n",
       "      <td>3</td>\n",
       "      <td>30</td>\n",
       "    </tr>\n",
       "  </tbody>\n",
       "</table>\n",
       "</div>"
      ],
      "text/plain": [
       "     Snapshot Date                                     Hotel Name  \\\n",
       "1684    2015-07-22                            Park Hyatt New York   \n",
       "1683    2015-07-22                            Park Hyatt New York   \n",
       "1682    2015-07-22                            Park Hyatt New York   \n",
       "3312    2015-07-27                           The New York EDITION   \n",
       "1967    2015-07-23  Newark Liberty International Airport Marriott   \n",
       "\n",
       "      Discount Code  transaction_count  \n",
       "1684              3                 44  \n",
       "1683              2                 43  \n",
       "1682              1                 30  \n",
       "3312              2                 30  \n",
       "1967              3                 30  "
      ]
     },
     "metadata": {},
     "output_type": "display_data"
    }
   ],
   "source": [
    "import pandas as pd\n",
    "\n",
    "data_path = \"./hotels_data_changed.csv\"\n",
    "data = pd.read_csv(data_path)\n",
    "\n",
    "# We are only interested in transactions with a check-in date within 30 days after the snapshot.\n",
    "data_filtered = data[data['DayDiff'] <= 30].copy()\n",
    "\n",
    "data_filtered['Snapshot Date'] = pd.to_datetime(data_filtered['Snapshot Date']).dt.normalize()\n",
    "\n",
    "# We group by the combination of 'Snapshot Date', 'Hotel Name', and 'Discount Code', and count the number of transactions.\n",
    "grouped = data_filtered.groupby(\n",
    "    ['Snapshot Date', 'Hotel Name', 'Discount Code']\n",
    ").size().reset_index(name='transaction_count')\n",
    "\n",
    "# For each hotel, choose the combination with the highest transaction_count.\n",
    "# First, sort within each hotel so that the highest count is on top,\n",
    "# then group by 'Hotel Name' and take the first (best) row.\n",
    "onePerHotel = (\n",
    "    grouped.sort_values(['Hotel Name', 'transaction_count'], ascending=[True, False])\n",
    "    .groupby('Hotel Name')\n",
    "    .first()\n",
    "    .reset_index()\n",
    ")\n",
    "\n",
    "onePerHotel = onePerHotel.sort_values('transaction_count', ascending=False).head(40)\n",
    "\n",
    "mostData = grouped.sort_values('transaction_count', ascending=False).head(40)\n",
    "\n",
    "params_onePerHotel = onePerHotel[['Snapshot Date', 'Hotel Name', 'Discount Code']].to_dict('records')\n",
    "params_mostData   = mostData[['Snapshot Date', 'Hotel Name', 'Discount Code']].to_dict('records')\n",
    "\n",
    "print(\"onePerHotel (Top 40 hotels with best combination per hotel):\")\n",
    "display(onePerHotel.head())\n",
    "\n",
    "print(\"mostData (Top 40 combinations overall):\")\n",
    "display(mostData.head())"
   ]
  },
  {
   "cell_type": "markdown",
   "metadata": {},
   "source": [
    "### Feature Engineering and Data Preparation "
   ]
  },
  {
   "cell_type": "markdown",
   "metadata": {},
   "source": [
    "In this section we would create a function that gets the `Snapshot Date`, `Hotel Name`, and `Discount Code` and returns all we need to start training the model.\n",
    "This includes the following:\n",
    "-  get relevant data from the dataset\n",
    "-  apply feature engineering on that data\n",
    "-  normalize and scale the data\n",
    "-  Splitting into X and y & Creating the Wrapper Function"
   ]
  },
  {
   "cell_type": "markdown",
   "metadata": {},
   "source": [
    "#### Get the data "
   ]
  },
  {
   "cell_type": "code",
   "execution_count": 6,
   "metadata": {},
   "outputs": [
    {
     "name": "stdout",
     "output_type": "stream",
     "text": [
      "Parameters: {'Snapshot Date': Timestamp('2015-07-22 00:00:00'), 'Hotel Name': 'Park Hyatt New York', 'Discount Code': 3}\n",
      "Relevant Data (first 5 rows):\n"
     ]
    },
    {
     "data": {
      "text/html": [
       "<div>\n",
       "<style scoped>\n",
       "    .dataframe tbody tr th:only-of-type {\n",
       "        vertical-align: middle;\n",
       "    }\n",
       "\n",
       "    .dataframe tbody tr th {\n",
       "        vertical-align: top;\n",
       "    }\n",
       "\n",
       "    .dataframe thead th {\n",
       "        text-align: right;\n",
       "    }\n",
       "</style>\n",
       "<table border=\"1\" class=\"dataframe\">\n",
       "  <thead>\n",
       "    <tr style=\"text-align: right;\">\n",
       "      <th></th>\n",
       "      <th>Snapshot ID</th>\n",
       "      <th>Snapshot Date</th>\n",
       "      <th>Checkin Date</th>\n",
       "      <th>Days</th>\n",
       "      <th>Original Price</th>\n",
       "      <th>Discount Price</th>\n",
       "      <th>Discount Code</th>\n",
       "      <th>Available Rooms</th>\n",
       "      <th>Hotel Name</th>\n",
       "      <th>Hotel Stars</th>\n",
       "      <th>DayDiff</th>\n",
       "      <th>WeekDay</th>\n",
       "      <th>DiscountDiff</th>\n",
       "      <th>DiscountPerc</th>\n",
       "    </tr>\n",
       "  </thead>\n",
       "  <tbody>\n",
       "    <tr>\n",
       "      <th>4119</th>\n",
       "      <td>11</td>\n",
       "      <td>2015-07-22</td>\n",
       "      <td>2015-07-23</td>\n",
       "      <td>5</td>\n",
       "      <td>3900</td>\n",
       "      <td>3600</td>\n",
       "      <td>3</td>\n",
       "      <td>3</td>\n",
       "      <td>Park Hyatt New York</td>\n",
       "      <td>5</td>\n",
       "      <td>1</td>\n",
       "      <td>Thursday</td>\n",
       "      <td>300</td>\n",
       "      <td>7.692308</td>\n",
       "    </tr>\n",
       "    <tr>\n",
       "      <th>4120</th>\n",
       "      <td>11</td>\n",
       "      <td>2015-07-22</td>\n",
       "      <td>2015-07-24</td>\n",
       "      <td>5</td>\n",
       "      <td>3900</td>\n",
       "      <td>3600</td>\n",
       "      <td>3</td>\n",
       "      <td>7</td>\n",
       "      <td>Park Hyatt New York</td>\n",
       "      <td>5</td>\n",
       "      <td>2</td>\n",
       "      <td>Friday</td>\n",
       "      <td>300</td>\n",
       "      <td>7.692308</td>\n",
       "    </tr>\n",
       "    <tr>\n",
       "      <th>4121</th>\n",
       "      <td>11</td>\n",
       "      <td>2015-07-22</td>\n",
       "      <td>2015-07-25</td>\n",
       "      <td>5</td>\n",
       "      <td>3900</td>\n",
       "      <td>3600</td>\n",
       "      <td>3</td>\n",
       "      <td>7</td>\n",
       "      <td>Park Hyatt New York</td>\n",
       "      <td>5</td>\n",
       "      <td>3</td>\n",
       "      <td>Saturday</td>\n",
       "      <td>300</td>\n",
       "      <td>7.692308</td>\n",
       "    </tr>\n",
       "    <tr>\n",
       "      <th>4122</th>\n",
       "      <td>11</td>\n",
       "      <td>2015-07-22</td>\n",
       "      <td>2015-07-28</td>\n",
       "      <td>5</td>\n",
       "      <td>3900</td>\n",
       "      <td>3600</td>\n",
       "      <td>3</td>\n",
       "      <td>7</td>\n",
       "      <td>Park Hyatt New York</td>\n",
       "      <td>5</td>\n",
       "      <td>6</td>\n",
       "      <td>Tuesday</td>\n",
       "      <td>300</td>\n",
       "      <td>7.692308</td>\n",
       "    </tr>\n",
       "    <tr>\n",
       "      <th>4123</th>\n",
       "      <td>11</td>\n",
       "      <td>2015-07-22</td>\n",
       "      <td>2015-07-29</td>\n",
       "      <td>5</td>\n",
       "      <td>3900</td>\n",
       "      <td>3400</td>\n",
       "      <td>3</td>\n",
       "      <td>9</td>\n",
       "      <td>Park Hyatt New York</td>\n",
       "      <td>5</td>\n",
       "      <td>7</td>\n",
       "      <td>Wednesday</td>\n",
       "      <td>500</td>\n",
       "      <td>12.820513</td>\n",
       "    </tr>\n",
       "  </tbody>\n",
       "</table>\n",
       "</div>"
      ],
      "text/plain": [
       "      Snapshot ID Snapshot Date Checkin Date  Days  Original Price  \\\n",
       "4119           11    2015-07-22   2015-07-23     5            3900   \n",
       "4120           11    2015-07-22   2015-07-24     5            3900   \n",
       "4121           11    2015-07-22   2015-07-25     5            3900   \n",
       "4122           11    2015-07-22   2015-07-28     5            3900   \n",
       "4123           11    2015-07-22   2015-07-29     5            3900   \n",
       "\n",
       "      Discount Price  Discount Code  Available Rooms           Hotel Name  \\\n",
       "4119            3600              3                3  Park Hyatt New York   \n",
       "4120            3600              3                7  Park Hyatt New York   \n",
       "4121            3600              3                7  Park Hyatt New York   \n",
       "4122            3600              3                7  Park Hyatt New York   \n",
       "4123            3400              3                9  Park Hyatt New York   \n",
       "\n",
       "      Hotel Stars  DayDiff    WeekDay  DiscountDiff  DiscountPerc  \n",
       "4119            5        1   Thursday           300      7.692308  \n",
       "4120            5        2     Friday           300      7.692308  \n",
       "4121            5        3   Saturday           300      7.692308  \n",
       "4122            5        6    Tuesday           300      7.692308  \n",
       "4123            5        7  Wednesday           500     12.820513  "
      ]
     },
     "metadata": {},
     "output_type": "display_data"
    }
   ],
   "source": [
    "def load_relevant_data(params, data):\n",
    " \n",
    "    snapshot_date = pd.to_datetime(params['Snapshot Date']).normalize()\n",
    "    \n",
    "    subset = data[\n",
    "        (data['Snapshot Date'] == snapshot_date) &\n",
    "        (data['Hotel Name'] == params['Hotel Name']) &\n",
    "        (data['Discount Code'] == params['Discount Code']) &\n",
    "        (data['DayDiff'] <= 30) \n",
    "    ]\n",
    "    return subset\n",
    "\n",
    "test_params = params_mostData[0]\n",
    "relevant_subset = load_relevant_data(test_params, data_filtered)\n",
    "print(\"Parameters:\", test_params)\n",
    "print(\"Relevant Data (first 5 rows):\")\n",
    "display(relevant_subset.head())"
   ]
  },
  {
   "cell_type": "markdown",
   "metadata": {},
   "source": [
    "#### Feature engineering"
   ]
  },
  {
   "cell_type": "markdown",
   "metadata": {},
   "source": [
    "In this step, we transform our raw data into a format that is ready for model training. The goals are to:\n",
    "\n",
    "- **Convert Date Information:**  \n",
    "  We convert the date column `Checkin Date` into numerical values (Unix timestamps) so that the model can understand and work with temporal data.\n",
    "\n",
    "- **Encode Weekday Information:**  \n",
    "  We convert the weekday from a string (e.g., \"Monday\") into a numeric value using the helper function `convert_weekday_to_num`, storing it as `WeekDay_num`.\n",
    "\n",
    "- **Remove Irrelevant or Constant Columns:**  \n",
    "  After feature engineering, some columns become redundant or uninformative:\n",
    "  - **`Hotel Name`:** Removed because the data is filtered for a specific hotel, or if used for filtering, the raw name is no longer needed.\n",
    "  - **`Checkin Date`:** Once their numerical representations are extracted, the raw date values are no longer required.\n",
    "  - **`WeekDay`:** We already have the numeric `WeekDay_num`, making the original string column redundant.\n",
    "  - **`Days`:** This column is always the same (always 5), so it does not provide any variance or useful information for training.\n",
    "  - **`Snapshot Date`:** Since the snapshot is the same across the subset, this column is constant and does not help differentiate between records.\n",
    "  - **`Snapshot ID`:** This is also constant for a given snapshot and can be removed to reduce noise.\n",
    "\n",
    "The removal of these columns helps to simplify our dataset and ensures that the model is trained only on features that provide meaningful variation.\n"
   ]
  },
  {
   "cell_type": "code",
   "execution_count": 10,
   "metadata": {},
   "outputs": [
    {
     "name": "stdout",
     "output_type": "stream",
     "text": [
      "Engineered Data (first 5 rows):\n"
     ]
    },
    {
     "data": {
      "text/html": [
       "<div>\n",
       "<style scoped>\n",
       "    .dataframe tbody tr th:only-of-type {\n",
       "        vertical-align: middle;\n",
       "    }\n",
       "\n",
       "    .dataframe tbody tr th {\n",
       "        vertical-align: top;\n",
       "    }\n",
       "\n",
       "    .dataframe thead th {\n",
       "        text-align: right;\n",
       "    }\n",
       "</style>\n",
       "<table border=\"1\" class=\"dataframe\">\n",
       "  <thead>\n",
       "    <tr style=\"text-align: right;\">\n",
       "      <th></th>\n",
       "      <th>Original Price</th>\n",
       "      <th>Discount Price</th>\n",
       "      <th>Discount Code</th>\n",
       "      <th>Available Rooms</th>\n",
       "      <th>Hotel Stars</th>\n",
       "      <th>DayDiff</th>\n",
       "      <th>DiscountDiff</th>\n",
       "      <th>DiscountPerc</th>\n",
       "      <th>Checkin_Date_num</th>\n",
       "      <th>WeekDay_num</th>\n",
       "    </tr>\n",
       "  </thead>\n",
       "  <tbody>\n",
       "    <tr>\n",
       "      <th>4119</th>\n",
       "      <td>3900</td>\n",
       "      <td>3600</td>\n",
       "      <td>3</td>\n",
       "      <td>3</td>\n",
       "      <td>5</td>\n",
       "      <td>1</td>\n",
       "      <td>300</td>\n",
       "      <td>7.692308</td>\n",
       "      <td>1.437610e+09</td>\n",
       "      <td>3</td>\n",
       "    </tr>\n",
       "    <tr>\n",
       "      <th>4120</th>\n",
       "      <td>3900</td>\n",
       "      <td>3600</td>\n",
       "      <td>3</td>\n",
       "      <td>7</td>\n",
       "      <td>5</td>\n",
       "      <td>2</td>\n",
       "      <td>300</td>\n",
       "      <td>7.692308</td>\n",
       "      <td>1.437696e+09</td>\n",
       "      <td>4</td>\n",
       "    </tr>\n",
       "    <tr>\n",
       "      <th>4121</th>\n",
       "      <td>3900</td>\n",
       "      <td>3600</td>\n",
       "      <td>3</td>\n",
       "      <td>7</td>\n",
       "      <td>5</td>\n",
       "      <td>3</td>\n",
       "      <td>300</td>\n",
       "      <td>7.692308</td>\n",
       "      <td>1.437782e+09</td>\n",
       "      <td>5</td>\n",
       "    </tr>\n",
       "    <tr>\n",
       "      <th>4122</th>\n",
       "      <td>3900</td>\n",
       "      <td>3600</td>\n",
       "      <td>3</td>\n",
       "      <td>7</td>\n",
       "      <td>5</td>\n",
       "      <td>6</td>\n",
       "      <td>300</td>\n",
       "      <td>7.692308</td>\n",
       "      <td>1.438042e+09</td>\n",
       "      <td>1</td>\n",
       "    </tr>\n",
       "    <tr>\n",
       "      <th>4123</th>\n",
       "      <td>3900</td>\n",
       "      <td>3400</td>\n",
       "      <td>3</td>\n",
       "      <td>9</td>\n",
       "      <td>5</td>\n",
       "      <td>7</td>\n",
       "      <td>500</td>\n",
       "      <td>12.820513</td>\n",
       "      <td>1.438128e+09</td>\n",
       "      <td>2</td>\n",
       "    </tr>\n",
       "  </tbody>\n",
       "</table>\n",
       "</div>"
      ],
      "text/plain": [
       "      Original Price  Discount Price  Discount Code  Available Rooms  \\\n",
       "4119            3900            3600              3                3   \n",
       "4120            3900            3600              3                7   \n",
       "4121            3900            3600              3                7   \n",
       "4122            3900            3600              3                7   \n",
       "4123            3900            3400              3                9   \n",
       "\n",
       "      Hotel Stars  DayDiff  DiscountDiff  DiscountPerc  Checkin_Date_num  \\\n",
       "4119            5        1           300      7.692308      1.437610e+09   \n",
       "4120            5        2           300      7.692308      1.437696e+09   \n",
       "4121            5        3           300      7.692308      1.437782e+09   \n",
       "4122            5        6           300      7.692308      1.438042e+09   \n",
       "4123            5        7           500     12.820513      1.438128e+09   \n",
       "\n",
       "      WeekDay_num  \n",
       "4119            3  \n",
       "4120            4  \n",
       "4121            5  \n",
       "4122            1  \n",
       "4123            2  "
      ]
     },
     "metadata": {},
     "output_type": "display_data"
    },
    {
     "name": "stdout",
     "output_type": "stream",
     "text": [
      "Index(['Original Price', 'Discount Price', 'Discount Code', 'Available Rooms',\n",
      "       'Hotel Stars', 'DayDiff', 'DiscountDiff', 'DiscountPerc',\n",
      "       'Checkin_Date_num', 'WeekDay_num'],\n",
      "      dtype='object')\n"
     ]
    }
   ],
   "source": [
    "def convert_weekday_to_num(weekday):\n",
    "    mapping = {\n",
    "        'Monday': 0,\n",
    "        'Tuesday': 1,\n",
    "        'Wednesday': 2,\n",
    "        'Thursday': 3,\n",
    "        'Friday': 4,\n",
    "        'Saturday': 5,\n",
    "        'Sunday': 6\n",
    "    }\n",
    "    return mapping.get(weekday, -1)  # Returns -1 if the weekday is not found\n",
    "\n",
    "def feature_engineering(df):\n",
    "    df['Checkin Date'] = pd.to_datetime(df['Checkin Date'])\n",
    "    \n",
    "    df['Checkin_Date_num'] = df['Checkin Date'].apply(lambda x: x.timestamp())\n",
    "    \n",
    "    \n",
    "    df['WeekDay_num'] = df['WeekDay'].apply(convert_weekday_to_num)\n",
    "    \n",
    "    # Remove columns that are not useful for training:\n",
    "    # 'Hotel Name'   - No longer needed since the data is already filtered per hotel.\n",
    "    # 'Checkin Date' - Raw dates are replaced by numerical features.\n",
    "    # 'WeekDay'      - Replaced by 'WeekDay_num'.\n",
    "    # 'Days'         - Always constant (5) across the dataset.\n",
    "    # 'Snapshot Date' - Constant within a given snapshot.\n",
    "    # 'Snapshot ID'  - Constant within the dataset.\n",
    "    columns_to_drop = ['Hotel Name', 'Snapshot Date', 'Checkin Date', 'WeekDay', 'Days', 'Snapshot ID' ]\n",
    "    df = df.drop(columns=columns_to_drop)\n",
    "    \n",
    "    return df\n",
    "engineered_data = feature_engineering(relevant_subset.copy())\n",
    "\n",
    "print(\"Engineered Data (first 5 rows):\")\n",
    "display(engineered_data.head())\n",
    "print(engineered_data.columns)"
   ]
  },
  {
   "cell_type": "markdown",
   "metadata": {},
   "source": [
    "#### Normalize and scale the data"
   ]
  },
  {
   "cell_type": "markdown",
   "metadata": {},
   "source": [
    "**What are we doing?**  \n",
    "We use a `StandardScaler` to standardize the continuous features by removing the mean and scaling to unit variance. This process prevents features with larger numeric ranges from dominating the learning process.\n",
    "\n",
    "**Why are we doing it?**  \n",
    "Normalization is crucial in many machine learning algorithms—especially when using distance-based metrics or gradient descent—for faster convergence and improved performance.\n",
    "\n",
    "**Features to Scale:**  \n",
    "Based on our engineered dataset, we scale:\n",
    "- `Checkin_Date_num` (numerical representation of the check-in date)  \n",
    "- `Original Price`  \n",
    "- `Discount Price`  \n",
    "- `Available Rooms`  \n",
    "- `DayDiff`  \n",
    "- `DiscountDiff`  \n",
    "- `DiscountPerc`"
   ]
  },
  {
   "cell_type": "code",
   "execution_count": 12,
   "metadata": {},
   "outputs": [
    {
     "name": "stdout",
     "output_type": "stream",
     "text": [
      "Normalized Data (first 5 rows):\n"
     ]
    },
    {
     "data": {
      "text/html": [
       "<div>\n",
       "<style scoped>\n",
       "    .dataframe tbody tr th:only-of-type {\n",
       "        vertical-align: middle;\n",
       "    }\n",
       "\n",
       "    .dataframe tbody tr th {\n",
       "        vertical-align: top;\n",
       "    }\n",
       "\n",
       "    .dataframe thead th {\n",
       "        text-align: right;\n",
       "    }\n",
       "</style>\n",
       "<table border=\"1\" class=\"dataframe\">\n",
       "  <thead>\n",
       "    <tr style=\"text-align: right;\">\n",
       "      <th></th>\n",
       "      <th>Original Price</th>\n",
       "      <th>Discount Price</th>\n",
       "      <th>Discount Code</th>\n",
       "      <th>Available Rooms</th>\n",
       "      <th>Hotel Stars</th>\n",
       "      <th>DayDiff</th>\n",
       "      <th>DiscountDiff</th>\n",
       "      <th>DiscountPerc</th>\n",
       "      <th>Checkin_Date_num</th>\n",
       "      <th>WeekDay_num</th>\n",
       "    </tr>\n",
       "  </thead>\n",
       "  <tbody>\n",
       "    <tr>\n",
       "      <th>4119</th>\n",
       "      <td>1.632993</td>\n",
       "      <td>1.323327</td>\n",
       "      <td>3</td>\n",
       "      <td>-0.960855</td>\n",
       "      <td>5</td>\n",
       "      <td>-1.811602</td>\n",
       "      <td>-0.640292</td>\n",
       "      <td>-0.721008</td>\n",
       "      <td>-1.811602</td>\n",
       "      <td>3</td>\n",
       "    </tr>\n",
       "    <tr>\n",
       "      <th>4120</th>\n",
       "      <td>1.632993</td>\n",
       "      <td>1.323327</td>\n",
       "      <td>3</td>\n",
       "      <td>-0.783776</td>\n",
       "      <td>5</td>\n",
       "      <td>-1.694724</td>\n",
       "      <td>-0.640292</td>\n",
       "      <td>-0.721008</td>\n",
       "      <td>-1.694724</td>\n",
       "      <td>4</td>\n",
       "    </tr>\n",
       "    <tr>\n",
       "      <th>4121</th>\n",
       "      <td>1.632993</td>\n",
       "      <td>1.323327</td>\n",
       "      <td>3</td>\n",
       "      <td>-0.783776</td>\n",
       "      <td>5</td>\n",
       "      <td>-1.577846</td>\n",
       "      <td>-0.640292</td>\n",
       "      <td>-0.721008</td>\n",
       "      <td>-1.577846</td>\n",
       "      <td>5</td>\n",
       "    </tr>\n",
       "    <tr>\n",
       "      <th>4122</th>\n",
       "      <td>1.632993</td>\n",
       "      <td>1.323327</td>\n",
       "      <td>3</td>\n",
       "      <td>-0.783776</td>\n",
       "      <td>5</td>\n",
       "      <td>-1.227214</td>\n",
       "      <td>-0.640292</td>\n",
       "      <td>-0.721008</td>\n",
       "      <td>-1.227214</td>\n",
       "      <td>1</td>\n",
       "    </tr>\n",
       "    <tr>\n",
       "      <th>4123</th>\n",
       "      <td>1.632993</td>\n",
       "      <td>-0.409601</td>\n",
       "      <td>3</td>\n",
       "      <td>-0.695236</td>\n",
       "      <td>5</td>\n",
       "      <td>-1.110336</td>\n",
       "      <td>1.771768</td>\n",
       "      <td>1.575134</td>\n",
       "      <td>-1.110336</td>\n",
       "      <td>2</td>\n",
       "    </tr>\n",
       "  </tbody>\n",
       "</table>\n",
       "</div>"
      ],
      "text/plain": [
       "      Original Price  Discount Price  Discount Code  Available Rooms  \\\n",
       "4119        1.632993        1.323327              3        -0.960855   \n",
       "4120        1.632993        1.323327              3        -0.783776   \n",
       "4121        1.632993        1.323327              3        -0.783776   \n",
       "4122        1.632993        1.323327              3        -0.783776   \n",
       "4123        1.632993       -0.409601              3        -0.695236   \n",
       "\n",
       "      Hotel Stars   DayDiff  DiscountDiff  DiscountPerc  Checkin_Date_num  \\\n",
       "4119            5 -1.811602     -0.640292     -0.721008         -1.811602   \n",
       "4120            5 -1.694724     -0.640292     -0.721008         -1.694724   \n",
       "4121            5 -1.577846     -0.640292     -0.721008         -1.577846   \n",
       "4122            5 -1.227214     -0.640292     -0.721008         -1.227214   \n",
       "4123            5 -1.110336      1.771768      1.575134         -1.110336   \n",
       "\n",
       "      WeekDay_num  \n",
       "4119            3  \n",
       "4120            4  \n",
       "4121            5  \n",
       "4122            1  \n",
       "4123            2  "
      ]
     },
     "metadata": {},
     "output_type": "display_data"
    }
   ],
   "source": [
    "from sklearn.preprocessing import StandardScaler\n",
    "\n",
    "def normalize_features(df, features_to_scale, scaler=None):\n",
    "    if scaler is None:\n",
    "        scaler = StandardScaler()\n",
    "    \n",
    "    df_scaled = df.copy()\n",
    "    \n",
    "    df_scaled[features_to_scale] = scaler.fit_transform(df_scaled[features_to_scale])\n",
    "    \n",
    "    return df_scaled, scaler\n",
    "\n",
    "features_to_scale = [\n",
    "    \"Checkin_Date_num\", \n",
    "    \"Original Price\", \n",
    "    \"Discount Price\", \n",
    "    \"Available Rooms\", \n",
    "    \"DayDiff\", \n",
    "    \"DiscountDiff\", \n",
    "    \"DiscountPerc\"\n",
    "]\n",
    "\n",
    "normalized_data, fitted_scaler = normalize_features(engineered_data, features_to_scale)\n",
    "\n",
    "print(\"Normalized Data (first 5 rows):\")\n",
    "display(normalized_data.head())"
   ]
  },
  {
   "cell_type": "markdown",
   "metadata": {},
   "source": [
    "####  Splitting into X and y & Creating the Wrapper Function"
   ]
  },
  {
   "cell_type": "markdown",
   "metadata": {},
   "source": [
    "In this step, we:\n",
    "\n",
    "- Split the normalized data into features (`X`) and target (`y`). Here, `y` is the scaled \"Discount Price\".  \n",
    "- Create a wrapper function that runs the entire preprocessing pipeline (from getting relevant data to normalization) and returns `X`, `y`, the fitted scaler, and a helper function to reverse the scaling for the target.  \n",
    "- The helper function uses the scaling parameters for \"Discount Price\" (found in the fitted scaler) so that later we can convert predictions back to their original values.\n",
    "\n",
    "> **Why Remove \"Discount Price\" from X?**  \n",
    "> The target variable should not be present in the features. By dropping \"Discount Price\" from the normalized data, we ensure that `X` contains only the input features while `y` contains the target variable.\n",
    "\n",
    "> **Reversing the Scaling:**  \n",
    "> Since the scaler is fitted on multiple columns, we locate the index corresponding to \"Discount Price\" in our `features_to_scale` list and use its mean and scale to convert scaled predictions back to their original values."
   ]
  },
  {
   "cell_type": "code",
   "execution_count": 52,
   "metadata": {},
   "outputs": [
    {
     "data": {
      "text/html": [
       "<div>\n",
       "<style scoped>\n",
       "    .dataframe tbody tr th:only-of-type {\n",
       "        vertical-align: middle;\n",
       "    }\n",
       "\n",
       "    .dataframe tbody tr th {\n",
       "        vertical-align: top;\n",
       "    }\n",
       "\n",
       "    .dataframe thead th {\n",
       "        text-align: right;\n",
       "    }\n",
       "</style>\n",
       "<table border=\"1\" class=\"dataframe\">\n",
       "  <thead>\n",
       "    <tr style=\"text-align: right;\">\n",
       "      <th></th>\n",
       "      <th>Discount Code</th>\n",
       "      <th>Available Rooms</th>\n",
       "      <th>Hotel Stars</th>\n",
       "      <th>DayDiff</th>\n",
       "      <th>Checkin_Date_num</th>\n",
       "      <th>WeekDay_num</th>\n",
       "    </tr>\n",
       "  </thead>\n",
       "  <tbody>\n",
       "    <tr>\n",
       "      <th>12619</th>\n",
       "      <td>3</td>\n",
       "      <td>-1.137934</td>\n",
       "      <td>5</td>\n",
       "      <td>-0.175316</td>\n",
       "      <td>-0.175316</td>\n",
       "      <td>3</td>\n",
       "    </tr>\n",
       "    <tr>\n",
       "      <th>12620</th>\n",
       "      <td>3</td>\n",
       "      <td>-1.137934</td>\n",
       "      <td>5</td>\n",
       "      <td>-0.058439</td>\n",
       "      <td>-0.058439</td>\n",
       "      <td>4</td>\n",
       "    </tr>\n",
       "    <tr>\n",
       "      <th>4127</th>\n",
       "      <td>3</td>\n",
       "      <td>-1.137934</td>\n",
       "      <td>5</td>\n",
       "      <td>-0.175316</td>\n",
       "      <td>-0.175316</td>\n",
       "      <td>3</td>\n",
       "    </tr>\n",
       "    <tr>\n",
       "      <th>4128</th>\n",
       "      <td>3</td>\n",
       "      <td>-1.137934</td>\n",
       "      <td>5</td>\n",
       "      <td>-0.058439</td>\n",
       "      <td>-0.058439</td>\n",
       "      <td>4</td>\n",
       "    </tr>\n",
       "    <tr>\n",
       "      <th>12617</th>\n",
       "      <td>3</td>\n",
       "      <td>1.075553</td>\n",
       "      <td>5</td>\n",
       "      <td>-0.409071</td>\n",
       "      <td>-0.409071</td>\n",
       "      <td>1</td>\n",
       "    </tr>\n",
       "  </tbody>\n",
       "</table>\n",
       "</div>"
      ],
      "text/plain": [
       "       Discount Code  Available Rooms  Hotel Stars   DayDiff  \\\n",
       "12619              3        -1.137934            5 -0.175316   \n",
       "12620              3        -1.137934            5 -0.058439   \n",
       "4127               3        -1.137934            5 -0.175316   \n",
       "4128               3        -1.137934            5 -0.058439   \n",
       "12617              3         1.075553            5 -0.409071   \n",
       "\n",
       "       Checkin_Date_num  WeekDay_num  \n",
       "12619         -0.175316            3  \n",
       "12620         -0.058439            4  \n",
       "4127          -0.175316            3  \n",
       "4128          -0.058439            4  \n",
       "12617         -0.409071            1  "
      ]
     },
     "execution_count": 52,
     "metadata": {},
     "output_type": "execute_result"
    }
   ],
   "source": [
    "X.head()"
   ]
  },
  {
   "cell_type": "code",
   "execution_count": null,
   "metadata": {},
   "outputs": [
    {
     "name": "stdout",
     "output_type": "stream",
     "text": [
      "X shape: (44, 6)\n",
      "y shape: (44,)\n",
      "First 5 values of y (scaled): [-1.66597419 -1.66597419 -1.66597419 -1.66597419 -1.49268137]\n",
      "First 5 values of y (original): [3255. 3255. 3255. 3255. 3275.]\n"
     ]
    }
   ],
   "source": [
    "def prepare_training_data(params, data, sort=False):\n",
    "    relevant = load_relevant_data(params, data)\n",
    "    engineered = feature_engineering(relevant.copy())\n",
    "    normalized, scaler = normalize_features(engineered, features_to_scale)\n",
    "    price_related_columns = [\"Discount Price\",\"DiscountPerc\", \"DiscountDiff\", \"Original Price\"]\n",
    "    if sorted:\n",
    "        normalized = normalized.sort_values(by=\"Discount Price\")\n",
    "\n",
    "    X = normalized.drop(columns=price_related_columns)\n",
    "    y = normalized[\"Discount Price\"]\n",
    "\n",
    "    idx = features_to_scale.index(\"Discount Price\")\n",
    "    \n",
    "    def reverse_scaling(y_scaled):\n",
    "        return y_scaled * scaler.scale_[idx] + scaler.mean_[idx]\n",
    "    \n",
    "    return X, y, scaler, reverse_scaling\n",
    "\n",
    "X, y, scaler, reverse_scaling = prepare_training_data(test_params,data_filtered )\n",
    "print(\"X shape:\", X.shape)\n",
    "print(\"y shape:\", y.shape)\n",
    "print(\"First 5 values of y (scaled):\", y.head().values)\n",
    "print(\"First 5 values of y (original):\", reverse_scaling(y.head().values))\n"
   ]
  },
  {
   "cell_type": "markdown",
   "metadata": {},
   "source": [
    "### Gaussian Process Regression: Training And Testing\n",
    "\n"
   ]
  },
  {
   "cell_type": "markdown",
   "metadata": {},
   "source": [
    "#### Model Initialization\n"
   ]
  },
  {
   "cell_type": "markdown",
   "metadata": {},
   "source": [
    "\n",
    "In this cell, we initialize our GaussianProcessRegressor model. We use a kernel that combines a ConstantKernel and an RBF kernel. \n",
    "\n",
    "- **GaussianProcessRegressor:**  \n",
    "  Provides both predictions and uncertainty estimates, which are essential for our active sampling approach.\n",
    "\n",
    "- **ConstantKernel:**  \n",
    "  Represents a constant bias in the function, serving as a baseline.\n",
    "\n",
    "- **RBF Kernel (Radial Basis Function):**  \n",
    "  Models smooth variations in the data, which is ideal for capturing trends in discount prices.\n",
    "\n"
   ]
  },
  {
   "cell_type": "code",
   "execution_count": 49,
   "metadata": {},
   "outputs": [
    {
     "name": "stdout",
     "output_type": "stream",
     "text": [
      "Initialized Model:\n",
      "GaussianProcessRegressor(alpha=0.01, kernel=1**2 * RBF(length_scale=1),\n",
      "                         n_restarts_optimizer=10, normalize_y=True)\n"
     ]
    }
   ],
   "source": [
    "from sklearn.gaussian_process import GaussianProcessRegressor\n",
    "from sklearn.gaussian_process.kernels import RBF, ConstantKernel as C\n",
    "\n",
    "def initialize_model():\n",
    "    kernel = C(1.0, (1e-3, 1e3)) * RBF(length_scale=1.0, length_scale_bounds=(1e-2, 1e2))\n",
    "    gp = GaussianProcessRegressor(kernel=kernel, n_restarts_optimizer=10, alpha=1e-2, normalize_y=True)\n",
    "    return gp\n",
    "\n",
    "model = initialize_model()\n",
    "print(\"Initialized Model:\")\n",
    "print(model)\n"
   ]
  },
  {
   "cell_type": "markdown",
   "metadata": {},
   "source": [
    "#### Active Sampling Loop\n"
   ]
  },
  {
   "cell_type": "markdown",
   "metadata": {},
   "source": [
    "##### Maximum uncertainty based stop"
   ]
  },
  {
   "cell_type": "markdown",
   "metadata": {},
   "source": [
    "\n",
    "In this cell, we implement the active sampling loop. The process is as follows:\n",
    "\n",
    "- Start with an initial set of samples (e.g., the first, middle, and last indices).\n",
    "- Iteratively fit the Gaussian Process model on the current training set.\n",
    "- Predict on the remaining (unsampled) data and obtain uncertainty estimates.\n",
    "- Select the candidate with the highest uncertainty and add it to the training set.\n",
    "- Compute the `R²` score to monitor performance.\n",
    "- Stop when the maximum uncertainty is below a threshold or when the maximum iterations are reached.\n",
    "\n"
   ]
  },
  {
   "cell_type": "code",
   "execution_count": 54,
   "metadata": {},
   "outputs": [
    {
     "name": "stderr",
     "output_type": "stream",
     "text": [
      "/opt/anaconda3/envs/DS-101-Final/lib/python3.12/site-packages/sklearn/gaussian_process/kernels.py:442: ConvergenceWarning: The optimal value found for dimension 0 of parameter k2__length_scale is close to the specified lower bound 0.01. Decreasing the bound and calling fit again may find a better value.\n",
      "  warnings.warn(\n"
     ]
    },
    {
     "name": "stdout",
     "output_type": "stream",
     "text": [
      "Final R² Score: 0.8978481673476298\n",
      "Total Samples Used: 18\n",
      "Iteration Log:\n",
      "{'iteration': 0, 'num_samples': 3, 'max_uncertainty': np.float64(1.219392425765039), 'r2': 0.19636525280073847}\n",
      "{'iteration': 1, 'num_samples': 4, 'max_uncertainty': np.float64(1.2163144389612657), 'r2': 0.07622868535577276}\n",
      "{'iteration': 2, 'num_samples': 5, 'max_uncertainty': np.float64(1.1623101443868693), 'r2': 0.10970401048056022}\n",
      "{'iteration': 3, 'num_samples': 6, 'max_uncertainty': np.float64(1.079389836510903), 'r2': 0.2829620650433191}\n",
      "{'iteration': 4, 'num_samples': 7, 'max_uncertainty': np.float64(1.0493249567503327), 'r2': 0.23118422870581457}\n",
      "{'iteration': 5, 'num_samples': 8, 'max_uncertainty': np.float64(1.0477405116837384), 'r2': 0.4568485029754764}\n",
      "{'iteration': 6, 'num_samples': 9, 'max_uncertainty': np.float64(0.9886982061659962), 'r2': 0.4894789947661914}\n",
      "{'iteration': 7, 'num_samples': 10, 'max_uncertainty': np.float64(0.959321566655188), 'r2': 0.5717868862179192}\n",
      "{'iteration': 8, 'num_samples': 11, 'max_uncertainty': np.float64(1.052238448192382), 'r2': 0.7503429171960335}\n",
      "{'iteration': 9, 'num_samples': 12, 'max_uncertainty': np.float64(0.8725510041633164), 'r2': 0.7520252103736683}\n",
      "{'iteration': 10, 'num_samples': 13, 'max_uncertainty': np.float64(0.8499097919913456), 'r2': 0.7785670457778604}\n",
      "{'iteration': 11, 'num_samples': 14, 'max_uncertainty': np.float64(0.783088386707231), 'r2': 0.7775502740461513}\n",
      "{'iteration': 12, 'num_samples': 15, 'max_uncertainty': np.float64(0.8385641039930346), 'r2': 0.8800148606679024}\n",
      "{'iteration': 13, 'num_samples': 16, 'max_uncertainty': np.float64(0.7601228195460958), 'r2': 0.8762954968898339}\n",
      "{'iteration': 14, 'num_samples': 17, 'max_uncertainty': np.float64(0.8924607948422525), 'r2': 0.8782415597264444}\n"
     ]
    }
   ],
   "source": [
    "import numpy as np\n",
    "from sklearn.metrics import r2_score\n",
    "\n",
    "def active_sampling_loop(X, y, max_iterations=10, uncertainty_threshold=0.05, initial_sample_indices=None):\n",
    "    n_samples = X.shape[0]\n",
    "    \n",
    "    if initial_sample_indices is None:\n",
    "        initial_sample_indices = [0, n_samples // 2, n_samples - 1]\n",
    "    \n",
    "    training_indices = set(initial_sample_indices)\n",
    "    candidate_indices = set(range(n_samples)) - training_indices\n",
    "    iteration_log = []\n",
    "    \n",
    "    for iteration in range(max_iterations):\n",
    "        # Prepare current training data\n",
    "        X_train = X.iloc[sorted(list(training_indices))]\n",
    "        y_train = y.iloc[sorted(list(training_indices))]\n",
    "        \n",
    "        # Initialize and fit the Gaussian Process model\n",
    "        model = initialize_model()\n",
    "        model.fit(X_train, y_train)\n",
    "        \n",
    "        # Predict on candidate data and obtain uncertainties\n",
    "        candidate_list = sorted(list(candidate_indices))\n",
    "        if not candidate_list:\n",
    "            break\n",
    "\n",
    "        X_candidates = X.iloc[candidate_list]\n",
    "        y_pred_candidates, std_candidates = model.predict(X_candidates, return_std=True)\n",
    "        \n",
    "        # Find candidate with maximum uncertainty\n",
    "        max_std = np.max(std_candidates)\n",
    "        chosen_candidate_idx = candidate_list[np.argmax(std_candidates)]\n",
    "        \n",
    "        y_pred_full = model.predict(X)\n",
    "        current_r2 = r2_score(y, y_pred_full)\n",
    "        iteration_log.append({\n",
    "            'iteration': iteration,\n",
    "            'num_samples': len(training_indices),\n",
    "            'max_uncertainty': max_std,\n",
    "            'r2': current_r2\n",
    "        })\n",
    "        \n",
    "        \n",
    "        if max_std < uncertainty_threshold:\n",
    "            break\n",
    "        \n",
    "        # Add the most uncertain candidate to the training set\n",
    "        training_indices.add(chosen_candidate_idx)\n",
    "        candidate_indices.remove(chosen_candidate_idx)\n",
    "    \n",
    "    # Final training on the selected samples\n",
    "    X_final = X.iloc[sorted(list(training_indices))]\n",
    "    y_final = y.iloc[sorted(list(training_indices))]\n",
    "    final_model = initialize_model()\n",
    "    final_model.fit(X_final, y_final)\n",
    "    final_predictions = final_model.predict(X)\n",
    "    final_r2 = r2_score(y, final_predictions)\n",
    "    \n",
    "    return {\n",
    "        'final_model': final_model,\n",
    "        'final_predictions': final_predictions,\n",
    "        'final_r2': final_r2,\n",
    "        'iteration_log': iteration_log,\n",
    "        'total_samples_used': len(training_indices)\n",
    "    }\n",
    "\n",
    "results = active_sampling_loop(X, y, max_iterations=15, uncertainty_threshold=0.05)\n",
    "\n",
    "print(\"Final R² Score:\", results['final_r2'])\n",
    "print(\"Total Samples Used:\", results['total_samples_used'])\n",
    "print(\"Iteration Log:\")\n",
    "for log in results['iteration_log']:\n",
    "    print(log)\n"
   ]
  },
  {
   "cell_type": "markdown",
   "metadata": {},
   "source": [
    "##### Maximum uncertainty and stagnant Iterations based stop"
   ]
  },
  {
   "cell_type": "markdown",
   "metadata": {},
   "source": [
    "In this cell we implement an enhanced active sampling loop. In addition to stopping when the maximum uncertainty is very low, we also monitor `R²` improvement. The loop will stop if either:\n",
    "- The model's uncertainty is very low (`max_std < uncertainty_threshold`), or\n",
    "- The uncertainty is moderately low (`max_std < higher_uncertainty_threshold`) **and** the `R²` improvement has been stagnant for a set number of iterations.\n"
   ]
  },
  {
   "cell_type": "code",
   "execution_count": 55,
   "metadata": {},
   "outputs": [
    {
     "name": "stdout",
     "output_type": "stream",
     "text": [
      "Final R² Score: 0.9094458718968679\n",
      "Total Samples Used: 18\n",
      "Iteration Log:\n",
      "{'iteration': 0, 'num_samples': 3, 'max_uncertainty': np.float64(1.2193924197311177), 'r2': 0.19634395134943305, 'r2_improvement': inf}\n",
      "{'iteration': 1, 'num_samples': 4, 'max_uncertainty': np.float64(1.1931119473801752), 'r2': 0.253532417524468, 'r2_improvement': 0.057188466175034924}\n",
      "{'iteration': 2, 'num_samples': 5, 'max_uncertainty': np.float64(1.0634257901681252), 'r2': 0.31057932371120744, 'r2_improvement': 0.057046906186739466}\n",
      "{'iteration': 3, 'num_samples': 6, 'max_uncertainty': np.float64(1.0793338923033537), 'r2': 0.2728535865779872, 'r2_improvement': -0.03772573713322025}\n",
      "{'iteration': 4, 'num_samples': 7, 'max_uncertainty': np.float64(1.0120138146743323), 'r2': 0.32830776183402466, 'r2_improvement': 0.05545417525603746}\n",
      "{'iteration': 5, 'num_samples': 8, 'max_uncertainty': np.float64(1.0111698240600293), 'r2': 0.28244613785583383, 'r2_improvement': -0.045861623978190824}\n",
      "{'iteration': 6, 'num_samples': 9, 'max_uncertainty': np.float64(1.1016050891219016), 'r2': 0.4910954307626638, 'r2_improvement': 0.20864929290683}\n",
      "{'iteration': 7, 'num_samples': 10, 'max_uncertainty': np.float64(1.1253869712132425), 'r2': 0.6932276345231626, 'r2_improvement': 0.20213220376049879}\n",
      "{'iteration': 8, 'num_samples': 11, 'max_uncertainty': np.float64(1.0188652681291657), 'r2': 0.7176060703590144, 'r2_improvement': 0.024378435835851753}\n",
      "{'iteration': 9, 'num_samples': 12, 'max_uncertainty': np.float64(0.8131694171156991), 'r2': 0.720766826280471, 'r2_improvement': 0.003160755921456593}\n",
      "{'iteration': 10, 'num_samples': 13, 'max_uncertainty': np.float64(0.8423865954036787), 'r2': 0.7669924978888063, 'r2_improvement': 0.04622567160833535}\n",
      "{'iteration': 11, 'num_samples': 14, 'max_uncertainty': np.float64(0.7645445380262395), 'r2': 0.7619365904483759, 'r2_improvement': -0.005055907440430385}\n",
      "{'iteration': 12, 'num_samples': 15, 'max_uncertainty': np.float64(0.8452825245776576), 'r2': 0.8787026232354348, 'r2_improvement': 0.11676603278705888}\n",
      "{'iteration': 13, 'num_samples': 16, 'max_uncertainty': np.float64(0.7914969329562135), 'r2': 0.876180224730293, 'r2_improvement': -0.0025223985051417985}\n",
      "{'iteration': 14, 'num_samples': 17, 'max_uncertainty': np.float64(0.7697986805209361), 'r2': 0.9176427182112733, 'r2_improvement': 0.0414624934809803}\n"
     ]
    }
   ],
   "source": [
    "def active_sampling_loop_with_stagnant_iterations_stop(X, y, max_iterations=10, \n",
    "                                                        uncertainty_threshold=0.05, \n",
    "                                                        higher_uncertainty_threshold=0.1,\n",
    "                                                        initial_sample_indices=None, \n",
    "                                                        r2_improvement_threshold=1e-4, \n",
    "                                                        max_stagnant_iterations=3):\n",
    "    n_samples = X.shape[0]\n",
    "    if initial_sample_indices is None:\n",
    "        initial_sample_indices = [0, n_samples // 2, n_samples - 1]\n",
    "    \n",
    "    training_indices = set(initial_sample_indices)\n",
    "    candidate_indices = set(range(n_samples)) - training_indices\n",
    "    iteration_log = []\n",
    "    \n",
    "    previous_r2 = -np.inf  \n",
    "    stagnant_iterations = 0  \n",
    "    \n",
    "    for iteration in range(max_iterations):\n",
    "        # Prepare training data for the current iteration\n",
    "        X_train = X.iloc[sorted(list(training_indices))]\n",
    "        y_train = y.iloc[sorted(list(training_indices))]\n",
    "        \n",
    "        # Initialize and fit the model\n",
    "        model = initialize_model()\n",
    "        model.fit(X_train, y_train)\n",
    "        \n",
    "        # Predict on candidate data to obtain uncertainties\n",
    "        candidate_list = sorted(list(candidate_indices))\n",
    "        if not candidate_list:\n",
    "            break\n",
    "\n",
    "        X_candidates = X.iloc[candidate_list]\n",
    "        y_pred_candidates, std_candidates = model.predict(X_candidates, return_std=True)\n",
    "        \n",
    "        max_std = np.max(std_candidates)\n",
    "        chosen_candidate_idx = candidate_list[np.argmax(std_candidates)]\n",
    "        \n",
    "        \n",
    "        y_pred_full = model.predict(X)\n",
    "        current_r2 = r2_score(y, y_pred_full)\n",
    "        \n",
    "        \n",
    "        r2_improvement = current_r2 - previous_r2\n",
    "        if r2_improvement < r2_improvement_threshold:\n",
    "            stagnant_iterations += 1\n",
    "        else:\n",
    "            stagnant_iterations = 0\n",
    "        \n",
    "        previous_r2 = current_r2  \n",
    "        \n",
    "        iteration_log.append({\n",
    "            'iteration': iteration,\n",
    "            'num_samples': len(training_indices),\n",
    "            'max_uncertainty': max_std,\n",
    "            'r2': current_r2,\n",
    "            'r2_improvement': r2_improvement\n",
    "        })\n",
    "        \n",
    "        \n",
    "        # Stop if the model is very confident OR if it is moderately confident and not improving.\n",
    "        if (max_std < uncertainty_threshold) or ((max_std < higher_uncertainty_threshold) and (stagnant_iterations >= max_stagnant_iterations)):\n",
    "            break\n",
    "        \n",
    "        # Add the candidate with highest uncertainty to the training set\n",
    "        training_indices.add(chosen_candidate_idx)\n",
    "        candidate_indices.remove(chosen_candidate_idx)\n",
    "    \n",
    "    # Final training on the selected samples\n",
    "    X_final = X.iloc[sorted(list(training_indices))]\n",
    "    y_final = y.iloc[sorted(list(training_indices))]\n",
    "    final_model = initialize_model()\n",
    "    final_model.fit(X_final, y_final)\n",
    "    final_predictions = final_model.predict(X)\n",
    "    final_r2 = r2_score(y, final_predictions)\n",
    "    \n",
    "    return {\n",
    "        'final_model': final_model,\n",
    "        'final_predictions': final_predictions,\n",
    "        'final_r2': final_r2,\n",
    "        'iteration_log': iteration_log,\n",
    "        'total_samples_used': len(training_indices)\n",
    "    }\n",
    "\n",
    "\n",
    "results = active_sampling_loop_with_stagnant_iterations_stop(X, y, max_iterations=15, \n",
    "                                                              uncertainty_threshold=0.05, \n",
    "                                                              higher_uncertainty_threshold=0.1,\n",
    "                                                              r2_improvement_threshold=1e-4, \n",
    "                                                              max_stagnant_iterations=3)\n",
    "\n",
    "print(\"Final R² Score:\", results['final_r2'])\n",
    "print(\"Total Samples Used:\", results['total_samples_used'])\n",
    "print(\"Iteration Log:\")\n",
    "for log in results['iteration_log']:\n",
    "    print(log)\n"
   ]
  },
  {
   "cell_type": "markdown",
   "metadata": {},
   "source": [
    "#### Visualizing the Results\n"
   ]
  },
  {
   "cell_type": "markdown",
   "metadata": {},
   "source": [
    "\n",
    "In this cell we visualize the active sampling process. The first part prints a log that shows, for each iteration, the number of samples used, the maximum uncertainty, and the R² score. The chart below shows two plots:\n",
    "- **R² Evolution:** How the model's performance improves over iterations.\n",
    "- **Max Uncertainty Evolution:** How the maximum prediction uncertainty decreases as more samples are added.\n"
   ]
  },
  {
   "cell_type": "code",
   "execution_count": 40,
   "metadata": {},
   "outputs": [
    {
     "name": "stdout",
     "output_type": "stream",
     "text": [
      "Total Data Available: 44\n",
      "Total Samples Used: 18 (40.91%)\n",
      "\n",
      "Iteration Log:\n",
      "Iteration 0: 3 samples, Max Uncertainty: 1.2194, R²: 0.1963\n",
      "Iteration 1: 4 samples, Max Uncertainty: 1.1849, R²: 0.4413\n",
      "Iteration 2: 5 samples, Max Uncertainty: 1.0278, R²: 0.4874\n",
      "Iteration 3: 6 samples, Max Uncertainty: 1.0535, R²: 0.4823\n",
      "Iteration 4: 7 samples, Max Uncertainty: 0.9960, R²: 0.5286\n",
      "Iteration 5: 8 samples, Max Uncertainty: 0.9923, R²: 0.4958\n",
      "Iteration 6: 9 samples, Max Uncertainty: 0.9799, R²: 0.5823\n",
      "Iteration 7: 10 samples, Max Uncertainty: 0.9167, R²: 0.7166\n",
      "Iteration 8: 11 samples, Max Uncertainty: 0.7733, R²: 0.7793\n",
      "Iteration 9: 12 samples, Max Uncertainty: 0.6745, R²: 0.7797\n",
      "Iteration 10: 13 samples, Max Uncertainty: 0.5754, R²: 0.7758\n",
      "Iteration 11: 14 samples, Max Uncertainty: 0.5110, R²: 0.7782\n",
      "Iteration 12: 15 samples, Max Uncertainty: 0.3742, R²: 0.7742\n",
      "Iteration 13: 16 samples, Max Uncertainty: 0.5524, R²: 0.8927\n",
      "Iteration 14: 17 samples, Max Uncertainty: 0.8345, R²: 0.9158\n",
      "\n",
      "Final R² Score: 0.9117\n"
     ]
    },
    {
     "data": {
      "image/png": "[encoded data removed]",
      "text/plain": [
       "<Figure size 800x1000 with 2 Axes>"
      ]
     },
     "metadata": {},
     "output_type": "display_data"
    }
   ],
   "source": [
    "import matplotlib.pyplot as plt\n",
    "\n",
    "def print_iteration_log(results, total_data_count):\n",
    "    final_samples = results['total_samples_used']\n",
    "    percent_used = final_samples / total_data_count * 100\n",
    "    print(f\"Total Data Available: {total_data_count}\")\n",
    "    print(f\"Total Samples Used: {final_samples} ({percent_used:.2f}%)\")\n",
    "    print(\"\\nIteration Log:\")\n",
    "    for log in results['iteration_log']:\n",
    "        print(f\"Iteration {log['iteration']}: {log['num_samples']} samples, \"\n",
    "              f\"Max Uncertainty: {log['max_uncertainty']:.4f}, R²: {log['r2']:.4f}\")\n",
    "    print(f\"\\nFinal R² Score: {results['final_r2']:.4f}\")\n",
    "\n",
    "def plot_active_sampling_results(results, total_data_count):\n",
    "    iterations = [log['iteration'] for log in results['iteration_log']]\n",
    "    r2_values = [log['r2'] for log in results['iteration_log']]\n",
    "    uncertainties = [log['max_uncertainty'] for log in results['iteration_log']]\n",
    "    \n",
    "    final_samples = results['total_samples_used']\n",
    "    percent_used = final_samples / total_data_count * 100\n",
    "\n",
    "    fig, ax = plt.subplots(2, 1, figsize=(8, 10))\n",
    "    \n",
    "    ax[0].plot(iterations, r2_values, marker='o', linestyle='-')\n",
    "    ax[0].set_title('R² Evolution Over Iterations')\n",
    "    ax[0].set_xlabel('Iteration')\n",
    "    ax[0].set_ylabel('R² Score')\n",
    "    ax[0].grid(True)\n",
    "    ax[0].text(0.5, 0.1, f'Final R²: {results[\"final_r2\"]:.4f}', \n",
    "               transform=ax[0].transAxes, fontsize=12, color='green',\n",
    "               bbox=dict(facecolor='white', alpha=0.8, edgecolor='green'))\n",
    "    \n",
    "    \n",
    "    ax[1].plot(iterations, uncertainties, marker='o', linestyle='-')\n",
    "    ax[1].set_title('Max Uncertainty Evolution Over Iterations')\n",
    "    ax[1].set_xlabel('Iteration')\n",
    "    ax[1].set_ylabel('Max Uncertainty (std)')\n",
    "    ax[1].grid(True)\n",
    "    \n",
    "    plt.suptitle(f'Active Sampling: {final_samples} of {total_data_count} samples used ({percent_used:.2f}%)', fontsize=14)\n",
    "    plt.tight_layout(rect=[0, 0, 1, 0.95])\n",
    "    plt.show()\n",
    "\n",
    "total_data_count = X.shape[0]  # For example, if X has 44 rows\n",
    "\n",
    "print_iteration_log(results, total_data_count)\n",
    "plot_active_sampling_results(results, total_data_count)\n"
   ]
  },
  {
   "cell_type": "markdown",
   "metadata": {},
   "source": [
    "### Gaussian Process Regression - Full dataset Testing"
   ]
  },
  {
   "cell_type": "markdown",
   "metadata": {},
   "source": [
    "#### Active Sampling Model Execution"
   ]
  },
  {
   "cell_type": "markdown",
   "metadata": {},
   "source": [
    "In this section, we execute our active sampling models over all parameter combinations. We provide two variants:\n",
    "- **Basic Active Sampling Loop:** The standard loop that iteratively selects samples based on maximum uncertainty.\n",
    "- **Active Sampling Loop with Stagnant Iterations Stop:** An enhanced loop that also monitors `R²` improvements and stops if the model's performance stagnates while uncertainty is moderately low.\n",
    "\n",
    "This section prepares the results for each parameter combination by running the appropriate active sampling function and collecting key metrics such as the final R², total samples used, and iteration logs.\n"
   ]
  },
  {
   "cell_type": "code",
   "execution_count": 26,
   "metadata": {},
   "outputs": [],
   "source": [
    "%%capture\n",
    "%pip install tqdm"
   ]
  },
  {
   "cell_type": "code",
   "execution_count": 56,
   "metadata": {},
   "outputs": [
    {
     "name": "stdout",
     "output_type": "stream",
     "text": [
      "Completed parameter 1/3: R² = 0.9094, Samples = 18 of 44\n",
      "Completed parameter 2/3: R² = 0.7756, Samples = 18 of 43\n"
     ]
    },
    {
     "name": "stderr",
     "output_type": "stream",
     "text": [
      "/opt/anaconda3/envs/DS-101-Final/lib/python3.12/site-packages/sklearn/gaussian_process/kernels.py:442: ConvergenceWarning: The optimal value found for dimension 0 of parameter k2__length_scale is close to the specified lower bound 0.01. Decreasing the bound and calling fit again may find a better value.\n",
      "  warnings.warn(\n",
      "/opt/anaconda3/envs/DS-101-Final/lib/python3.12/site-packages/sklearn/gaussian_process/kernels.py:442: ConvergenceWarning: The optimal value found for dimension 0 of parameter k2__length_scale is close to the specified lower bound 0.01. Decreasing the bound and calling fit again may find a better value.\n",
      "  warnings.warn(\n",
      "/opt/anaconda3/envs/DS-101-Final/lib/python3.12/site-packages/sklearn/gaussian_process/kernels.py:442: ConvergenceWarning: The optimal value found for dimension 0 of parameter k2__length_scale is close to the specified lower bound 0.01. Decreasing the bound and calling fit again may find a better value.\n",
      "  warnings.warn(\n",
      "/opt/anaconda3/envs/DS-101-Final/lib/python3.12/site-packages/sklearn/gaussian_process/kernels.py:442: ConvergenceWarning: The optimal value found for dimension 0 of parameter k2__length_scale is close to the specified lower bound 0.01. Decreasing the bound and calling fit again may find a better value.\n",
      "  warnings.warn(\n",
      "/opt/anaconda3/envs/DS-101-Final/lib/python3.12/site-packages/sklearn/gaussian_process/kernels.py:442: ConvergenceWarning: The optimal value found for dimension 0 of parameter k2__length_scale is close to the specified lower bound 0.01. Decreasing the bound and calling fit again may find a better value.\n",
      "  warnings.warn(\n",
      "/opt/anaconda3/envs/DS-101-Final/lib/python3.12/site-packages/sklearn/gaussian_process/kernels.py:442: ConvergenceWarning: The optimal value found for dimension 0 of parameter k2__length_scale is close to the specified lower bound 0.01. Decreasing the bound and calling fit again may find a better value.\n",
      "  warnings.warn(\n",
      "/opt/anaconda3/envs/DS-101-Final/lib/python3.12/site-packages/sklearn/gaussian_process/kernels.py:442: ConvergenceWarning: The optimal value found for dimension 0 of parameter k2__length_scale is close to the specified lower bound 0.01. Decreasing the bound and calling fit again may find a better value.\n",
      "  warnings.warn(\n"
     ]
    },
    {
     "name": "stdout",
     "output_type": "stream",
     "text": [
      "Completed parameter 3/3: R² = 0.9999, Samples = 18 of 30\n"
     ]
    },
    {
     "name": "stderr",
     "output_type": "stream",
     "text": [
      "/opt/anaconda3/envs/DS-101-Final/lib/python3.12/site-packages/sklearn/gaussian_process/kernels.py:442: ConvergenceWarning: The optimal value found for dimension 0 of parameter k2__length_scale is close to the specified lower bound 0.01. Decreasing the bound and calling fit again may find a better value.\n",
      "  warnings.warn(\n"
     ]
    }
   ],
   "source": [
    "import warnings\n",
    "from sklearn.exceptions import ConvergenceWarning\n",
    "from tqdm import tqdm\n",
    "\n",
    "def run_active_sampling_basic(params_list, data, sort=False, verbose=False, **hyperparams):\n",
    "    results_list = []\n",
    "    if not verbose:\n",
    "        warnings.filterwarnings(\"ignore\", category=ConvergenceWarning)\n",
    "    \n",
    "    for i, param in enumerate(tqdm(params_list, desc=\"Running basic active sampling\", disable=verbose)):\n",
    "        X, y, scaler, reverse_scaling = prepare_training_data(param, data, sort=sort)\n",
    "        total_data_count = X.shape[0] \n",
    "        \n",
    "        result = active_sampling_loop(X, y, **hyperparams)\n",
    "        result['params'] = param\n",
    "        result['total_data_count'] = total_data_count\n",
    "        results_list.append(result)\n",
    "        if verbose:\n",
    "            print(f\"Completed parameter {i+1}/{len(params_list)}: R² = {result['final_r2']:.4f}, Samples = {result['total_samples_used']} of {X.shape[0]}\")\n",
    "            \n",
    "    warnings.filterwarnings(\"default\", category=ConvergenceWarning)\n",
    "\n",
    "    return results_list\n",
    "\n",
    "basic_hyperparams = {\n",
    "    \"max_iterations\": 15,\n",
    "    \"uncertainty_threshold\": 0.05,\n",
    "}\n",
    "\n",
    "results_basic = run_active_sampling_basic(\n",
    "params_mostData[:3], data_filtered, \n",
    "verbose=True,\n",
    "**basic_hyperparams\n",
    ")"
   ]
  },
  {
   "cell_type": "code",
   "execution_count": 42,
   "metadata": {},
   "outputs": [
    {
     "name": "stderr",
     "output_type": "stream",
     "text": [
      "/opt/anaconda3/envs/DS-101-Final/lib/python3.12/site-packages/sklearn/gaussian_process/kernels.py:442: ConvergenceWarning: The optimal value found for dimension 0 of parameter k2__length_scale is close to the specified lower bound 0.01. Decreasing the bound and calling fit again may find a better value.\n",
      "  warnings.warn(\n"
     ]
    },
    {
     "name": "stdout",
     "output_type": "stream",
     "text": [
      "Completed parameter 1/3: R² = 0.9117, Samples = 18 of 44\n",
      "Completed parameter 2/3: R² = 0.7719, Samples = 18 of 43\n"
     ]
    },
    {
     "name": "stderr",
     "output_type": "stream",
     "text": [
      "/opt/anaconda3/envs/DS-101-Final/lib/python3.12/site-packages/sklearn/gaussian_process/kernels.py:442: ConvergenceWarning: The optimal value found for dimension 0 of parameter k2__length_scale is close to the specified lower bound 0.01. Decreasing the bound and calling fit again may find a better value.\n",
      "  warnings.warn(\n",
      "/opt/anaconda3/envs/DS-101-Final/lib/python3.12/site-packages/sklearn/gaussian_process/kernels.py:442: ConvergenceWarning: The optimal value found for dimension 0 of parameter k2__length_scale is close to the specified lower bound 0.01. Decreasing the bound and calling fit again may find a better value.\n",
      "  warnings.warn(\n",
      "/opt/anaconda3/envs/DS-101-Final/lib/python3.12/site-packages/sklearn/gaussian_process/kernels.py:442: ConvergenceWarning: The optimal value found for dimension 0 of parameter k2__length_scale is close to the specified lower bound 0.01. Decreasing the bound and calling fit again may find a better value.\n",
      "  warnings.warn(\n",
      "/opt/anaconda3/envs/DS-101-Final/lib/python3.12/site-packages/sklearn/gaussian_process/kernels.py:442: ConvergenceWarning: The optimal value found for dimension 0 of parameter k2__length_scale is close to the specified lower bound 0.01. Decreasing the bound and calling fit again may find a better value.\n",
      "  warnings.warn(\n",
      "/opt/anaconda3/envs/DS-101-Final/lib/python3.12/site-packages/sklearn/gaussian_process/kernels.py:442: ConvergenceWarning: The optimal value found for dimension 0 of parameter k2__length_scale is close to the specified lower bound 0.01. Decreasing the bound and calling fit again may find a better value.\n",
      "  warnings.warn(\n",
      "/opt/anaconda3/envs/DS-101-Final/lib/python3.12/site-packages/sklearn/gaussian_process/kernels.py:442: ConvergenceWarning: The optimal value found for dimension 0 of parameter k2__length_scale is close to the specified lower bound 0.01. Decreasing the bound and calling fit again may find a better value.\n",
      "  warnings.warn(\n",
      "/opt/anaconda3/envs/DS-101-Final/lib/python3.12/site-packages/sklearn/gaussian_process/kernels.py:442: ConvergenceWarning: The optimal value found for dimension 0 of parameter k2__length_scale is close to the specified lower bound 0.01. Decreasing the bound and calling fit again may find a better value.\n",
      "  warnings.warn(\n",
      "/opt/anaconda3/envs/DS-101-Final/lib/python3.12/site-packages/sklearn/gaussian_process/kernels.py:442: ConvergenceWarning: The optimal value found for dimension 0 of parameter k2__length_scale is close to the specified lower bound 0.01. Decreasing the bound and calling fit again may find a better value.\n",
      "  warnings.warn(\n"
     ]
    },
    {
     "name": "stdout",
     "output_type": "stream",
     "text": [
      "Completed parameter 3/3: R² = 0.9999, Samples = 18 of 30\n"
     ]
    }
   ],
   "source": [
    "\n",
    "def run_active_sampling_stagnant(params_list, data, sort=False ,verbose=False, **hyperparams):\n",
    "    results_list = []\n",
    "    if not verbose:\n",
    "        warnings.filterwarnings(\"ignore\", category=ConvergenceWarning)\n",
    "    \n",
    "    for i, param in enumerate(tqdm(params_list, desc=\"Running stagnant active sampling\", disable=verbose)):\n",
    "        X, y, scaler, reverse_scaling = prepare_training_data(param, data, sort=sort)\n",
    "        total_data_count = X.shape[0] \n",
    "        \n",
    "        result = active_sampling_loop_with_stagnant_iterations_stop(X, y, **hyperparams)\n",
    "        result['params'] = param\n",
    "        result['total_data_count'] = total_data_count \n",
    "        results_list.append(result)\n",
    "        if verbose:\n",
    "            print(f\"Completed parameter {i+1}/{len(params_list)}: R² = {result['final_r2']:.4f}, Samples = {result['total_samples_used']} of {total_data_count}\")\n",
    "    \n",
    "    warnings.filterwarnings(\"default\", category=ConvergenceWarning)\n",
    "\n",
    "    return results_list\n",
    "\n",
    "stagnant_hyperparams = {\n",
    "    \"max_iterations\": 15,\n",
    "    \"uncertainty_threshold\": 0.05,\n",
    "    \"higher_uncertainty_threshold\": 0.1,\n",
    "    \"r2_improvement_threshold\": 1e-4,\n",
    "    \"max_stagnant_iterations\": 3\n",
    "}\n",
    "\n",
    "results_stagnant = run_active_sampling_stagnant(\n",
    "params_mostData[:3], data_filtered,\n",
    "verbose =True,\n",
    "**stagnant_hyperparams\n",
    ")"
   ]
  },
  {
   "cell_type": "markdown",
   "metadata": {},
   "source": [
    "#### Results Visualization & Preliminary Conclusions\n",
    "\n"
   ]
  },
  {
   "cell_type": "markdown",
   "metadata": {},
   "source": [
    "##### Visualization "
   ]
  },
  {
   "cell_type": "markdown",
   "metadata": {},
   "source": [
    "\n",
    "In this cell, we visualize the aggregated results. The visualization function now accepts:\n",
    "- `loop_type`: A string indicating the active sampling variant (e.g., \"Basic Active Loop\" or \"Stagnant Active Loop\").\n",
    "- `hyperparams`: A dictionary of hyperparameter values used for the active sampling loop.\n",
    "\n",
    "The function then creates a title that includes these hyperparameter values and displays three bar charts:\n",
    "- Final `R²` scores.\n",
    "- Total samples used.\n",
    "- Data utilization percentages (samples used as a percentage of total available data).\n",
    "\n"
   ]
  },
  {
   "cell_type": "code",
   "execution_count": 57,
   "metadata": {},
   "outputs": [],
   "source": [
    "import matplotlib.pyplot as plt\n",
    "\n",
    "def visualize_aggregated_results(results_list, loop_type, hyperparams):\n",
    "    title_str = f\"{loop_type} Results\"\n",
    "    \n",
    "    hyperparams_items = [f\"{k}: {v}\" for k, v in hyperparams.items()]\n",
    "    hyperparams_str = \"\"\n",
    "    for i in range(0, len(hyperparams_items), 3):\n",
    "        chunk = \" | \".join(hyperparams_items[i:i+3])\n",
    "        hyperparams_str += chunk + (\"\\n\" if i + 3 < len(hyperparams_items) else \"\")\n",
    "    \n",
    "    final_r2_list = [r['final_r2'] for r in results_list]\n",
    "    samples_used_list = [r['total_samples_used'] for r in results_list]\n",
    "    total_data_counts = [r['total_data_count'] for r in results_list]\n",
    "    data_utilization_list = [ (used / total) * 100 for used, total in zip(samples_used_list, total_data_counts)]\n",
    "    \n",
    "    n = len(results_list)\n",
    "    indices = range(n)\n",
    "    \n",
    "    avg_r2 = sum(final_r2_list) / n\n",
    "    avg_samples = sum(samples_used_list) / n\n",
    "    avg_utilization = sum(data_utilization_list) / n\n",
    "    \n",
    "    # Create subplots for the aggregated metrics.\n",
    "    fig, axes = plt.subplots(1, 3, figsize=(18, 6))\n",
    "    \n",
    "    # Bar chart for final R².\n",
    "    axes[0].bar(indices, final_r2_list, color='skyblue')\n",
    "    axes[0].axhline(avg_r2, color='red', linestyle='--', label=f'Avg R² = {avg_r2:.4f}')\n",
    "    axes[0].set_xlabel('Parameter Combination Index')\n",
    "    axes[0].set_ylabel('Final R²')\n",
    "    axes[0].set_title('Final R² for Each Combination')\n",
    "    axes[0].legend()\n",
    "    \n",
    "    # Bar chart for total samples used.\n",
    "    axes[1].bar(indices, samples_used_list, color='lightgreen')\n",
    "    axes[1].axhline(avg_samples, color='red', linestyle='--', label=f'Avg Samples = {avg_samples:.2f}')\n",
    "    axes[1].set_xlabel('Parameter Combination Index')\n",
    "    axes[1].set_ylabel('Total Samples Used')\n",
    "    axes[1].set_title('Samples Used per Combination')\n",
    "    axes[1].legend()\n",
    "    \n",
    "    # Bar chart for data utilization (%).\n",
    "    axes[2].bar(indices, data_utilization_list, color='plum')\n",
    "    axes[2].axhline(avg_utilization, color='red', linestyle='--', label=f'Avg Utilization = {avg_utilization:.2f}%')\n",
    "    axes[2].set_xlabel('Parameter Combination Index')\n",
    "    axes[2].set_ylabel('Data Utilization (%)')\n",
    "    axes[2].set_title('Data Utilization per Combination')\n",
    "    axes[2].legend()\n",
    "    \n",
    "    # Set a prominent super-title at the top.\n",
    "    plt.suptitle(title_str, fontsize=20, fontweight='bold', color='navy', y=0.98)\n",
    "    \n",
    "    # Add a centered hyperparameters container below the title.\n",
    "    # This container is placed at y=0.93 and is horizontally centered (x=0.5).\n",
    "    plt.gcf().text(0.5, 0.85, f\"Hyperparameters:\\n\\n{hyperparams_str}\", \n",
    "                   fontsize=12, ha='center', va='center',\n",
    "                   bbox=dict(facecolor='lightgrey', alpha=0.6, boxstyle='round,pad=0.5'))\n",
    "    \n",
    "    # Adjust the layout so that subplots start below the hyperparameters container.\n",
    "    plt.tight_layout(rect=[0, 0, 1, 0.83])\n",
    "    plt.show()\n",
    "    \n",
    "    print(f\"Average Final R²: {avg_r2:.4f}\")\n",
    "    print(f\"Average Samples Used: {avg_samples:.2f}\")\n",
    "    print(f\"Average Data Utilization: {avg_utilization:.2f}%\")"
   ]
  },
  {
   "cell_type": "code",
   "execution_count": 59,
   "metadata": {},
   "outputs": [
    {
     "data": {
      "text/html": [
       "<div>\n",
       "<style scoped>\n",
       "    .dataframe tbody tr th:only-of-type {\n",
       "        vertical-align: middle;\n",
       "    }\n",
       "\n",
       "    .dataframe tbody tr th {\n",
       "        vertical-align: top;\n",
       "    }\n",
       "\n",
       "    .dataframe thead th {\n",
       "        text-align: right;\n",
       "    }\n",
       "</style>\n",
       "<table border=\"1\" class=\"dataframe\">\n",
       "  <thead>\n",
       "    <tr style=\"text-align: right;\">\n",
       "      <th></th>\n",
       "      <th>Discount Code</th>\n",
       "      <th>Available Rooms</th>\n",
       "      <th>Hotel Stars</th>\n",
       "      <th>DayDiff</th>\n",
       "      <th>Checkin_Date_num</th>\n",
       "      <th>WeekDay_num</th>\n",
       "    </tr>\n",
       "  </thead>\n",
       "  <tbody>\n",
       "    <tr>\n",
       "      <th>12619</th>\n",
       "      <td>3</td>\n",
       "      <td>-1.137934</td>\n",
       "      <td>5</td>\n",
       "      <td>-0.175316</td>\n",
       "      <td>-0.175316</td>\n",
       "      <td>3</td>\n",
       "    </tr>\n",
       "    <tr>\n",
       "      <th>12620</th>\n",
       "      <td>3</td>\n",
       "      <td>-1.137934</td>\n",
       "      <td>5</td>\n",
       "      <td>-0.058439</td>\n",
       "      <td>-0.058439</td>\n",
       "      <td>4</td>\n",
       "    </tr>\n",
       "    <tr>\n",
       "      <th>4127</th>\n",
       "      <td>3</td>\n",
       "      <td>-1.137934</td>\n",
       "      <td>5</td>\n",
       "      <td>-0.175316</td>\n",
       "      <td>-0.175316</td>\n",
       "      <td>3</td>\n",
       "    </tr>\n",
       "    <tr>\n",
       "      <th>4128</th>\n",
       "      <td>3</td>\n",
       "      <td>-1.137934</td>\n",
       "      <td>5</td>\n",
       "      <td>-0.058439</td>\n",
       "      <td>-0.058439</td>\n",
       "      <td>4</td>\n",
       "    </tr>\n",
       "    <tr>\n",
       "      <th>12617</th>\n",
       "      <td>3</td>\n",
       "      <td>1.075553</td>\n",
       "      <td>5</td>\n",
       "      <td>-0.409071</td>\n",
       "      <td>-0.409071</td>\n",
       "      <td>1</td>\n",
       "    </tr>\n",
       "  </tbody>\n",
       "</table>\n",
       "</div>"
      ],
      "text/plain": [
       "       Discount Code  Available Rooms  Hotel Stars   DayDiff  \\\n",
       "12619              3        -1.137934            5 -0.175316   \n",
       "12620              3        -1.137934            5 -0.058439   \n",
       "4127               3        -1.137934            5 -0.175316   \n",
       "4128               3        -1.137934            5 -0.058439   \n",
       "12617              3         1.075553            5 -0.409071   \n",
       "\n",
       "       Checkin_Date_num  WeekDay_num  \n",
       "12619         -0.175316            3  \n",
       "12620         -0.058439            4  \n",
       "4127          -0.175316            3  \n",
       "4128          -0.058439            4  \n",
       "12617         -0.409071            1  "
      ]
     },
     "execution_count": 59,
     "metadata": {},
     "output_type": "execute_result"
    }
   ],
   "source": [
    "X.head()"
   ]
  },
  {
   "cell_type": "code",
   "execution_count": 58,
   "metadata": {},
   "outputs": [
    {
     "name": "stderr",
     "output_type": "stream",
     "text": [
      "Running basic active sampling: 100%|██████████| 40/40 [00:28<00:00,  1.39it/s]\n"
     ]
    },
    {
     "data": {
      "image/png": "[encoded data removed]",
      "text/plain": [
       "<Figure size 1800x600 with 3 Axes>"
      ]
     },
     "metadata": {},
     "output_type": "display_data"
    },
    {
     "name": "stdout",
     "output_type": "stream",
     "text": [
      "Average Final R²: 0.9464\n",
      "Average Samples Used: 18.00\n",
      "Average Data Utilization: 67.93%\n"
     ]
    }
   ],
   "source": [
    "results_basic = run_active_sampling_basic(params_mostData, data_filtered, verbose=False, **basic_hyperparams)\n",
    "visualize_aggregated_results(results_basic, \"Basic Active Loop\", basic_hyperparams)"
   ]
  },
  {
   "cell_type": "code",
   "execution_count": 60,
   "metadata": {},
   "outputs": [
    {
     "name": "stderr",
     "output_type": "stream",
     "text": [
      "Running stagnant active sampling: 100%|██████████| 40/40 [00:32<00:00,  1.24it/s]\n"
     ]
    },
    {
     "data": {
      "image/png": "[encoded data removed]",
      "text/plain": [
       "<Figure size 1800x600 with 3 Axes>"
      ]
     },
     "metadata": {},
     "output_type": "display_data"
    },
    {
     "name": "stdout",
     "output_type": "stream",
     "text": [
      "Average Final R²: 0.9440\n",
      "Average Samples Used: 18.00\n",
      "Average Data Utilization: 67.93%\n"
     ]
    }
   ],
   "source": [
    "results_stagnant = run_active_sampling_stagnant(params_mostData, data_filtered, verbose=False, **stagnant_hyperparams)\n",
    "visualize_aggregated_results(results_stagnant, \"Stagnant Active Loop\", stagnant_hyperparams)"
   ]
  },
  {
   "cell_type": "markdown",
   "metadata": {},
   "source": [
    "##### Preliminary Conclusions"
   ]
  },
  {
   "cell_type": "markdown",
   "metadata": {},
   "source": [
    "**Results**:\n",
    "\n",
    "![Basic results updated](./images/step-4-Basic-initial-results.png)\n",
    "\n",
    "![Stagnant results](./images/step-4-stagnat-initial-results.png)  \n",
    "\n",
    "**Basic V.S. Stagnant**\n",
    "\n",
    "- **Basic Active Sampling Loop:**\n",
    "  - **Robustness:** Tends to use around 18 samples per parameter combination, yielding high `R²` scores (often 1.0000).\n",
    "  - **Efficiency:** Uses more data, which may be unnecessary in cases with abundant information.\n",
    "\n",
    "- **Stagnant Active Sampling Loop:**\n",
    "  - **Efficiency:** Stops early when `R²` improvement stagnates, generally using fewer samples (between 11–16) and still achieving high performance in most cases.\n",
    "  - **Risks:** In some cases (e.g., parameter combinations with very few total data points), the loop stops after only 3 samples, leading to negative `R²` values and clear underfitting.\n",
    "\n",
    " **Outliers and Data Issues**\n",
    "\n",
    "- **Outlier Cases:**  \n",
    "  Some parameter combinations consistently use only 3 samples and report poor performance (e.g., negative `R²`). These cases likely represent scenarios where the available data is sparse or noisy, right now its looking like  the most promising direction to investigate and improve.\n",
    "\n",
    "- **Implication:**  \n",
    "  Relying solely on the stagnant loop's stopping criterion can result in premature termination. A minimum sample threshold may be necessary to ensure that the model has enough data to learn meaningful patterns.\n",
    "\n",
    " **Next Steps**\n",
    "\n",
    "1. **Revisit the Data:**  \n",
    "   Analyze the outlier parameter combinations with low total data counts. Determine if these cases should be treated differently or if more data can be acquired.\n",
    "\n",
    "2. **Implement a Minimum Sample Threshold:**  \n",
    "   Adjust the stagnant loop to enforce a minimum number of samples (e.g., at least 5 or 7 samples) before allowing early termination (probably most promising result).\n",
    "\n",
    "3. **Hyperparameter Tuning:**  \n",
    "   Experiment with different settings for the uncertainty thresholds and maximum stagnant iterations to balance efficiency and robustness. Fine-tuning may reduce instances where the model stops too early.\n"
   ]
  },
  {
   "cell_type": "markdown",
   "metadata": {},
   "source": [
    "### Final Optimization and Data Revision"
   ]
  },
  {
   "cell_type": "markdown",
   "metadata": {},
   "source": [
    "In this section, would try to improve our results and address the points raised in the [preliminary conclusions](#preliminary-conclusions)\n",
    "\n",
    "- Revisit the Data\n",
    "- Implement a Minimum Sample Threshold\n",
    "- Hyperparameter Tuning"
   ]
  },
  {
   "cell_type": "markdown",
   "metadata": {},
   "source": [
    "#### Revisit the data"
   ]
  },
  {
   "cell_type": "markdown",
   "metadata": {},
   "source": [
    "##### Revisit Parameter Sampling\n"
   ]
  },
  {
   "cell_type": "markdown",
   "metadata": {},
   "source": [
    "Here we re-calculate the parameter combinations using our two strategies:\n",
    "- **onePerHotel:** For each hotel, we select the combination (of `Snapshot Date`, `Hotel Name`, and `Discount Code`) with the highest transaction count.\n",
    "- **mostData:** We select the top 40 overall combinations based on transaction counts.\n",
    "\n",
    "We then display these results in a table (including the transaction counts) so we can review the distribution and identify any potential outliers in data availability.\n"
   ]
  },
  {
   "cell_type": "code",
   "execution_count": 32,
   "metadata": {},
   "outputs": [
    {
     "name": "stdout",
     "output_type": "stream",
     "text": [
      "One Per Hotel (Top 40) Parameter Combinations with Transaction Counts:\n"
     ]
    },
    {
     "data": {
      "text/html": [
       "<div>\n",
       "<style scoped>\n",
       "    .dataframe tbody tr th:only-of-type {\n",
       "        vertical-align: middle;\n",
       "    }\n",
       "\n",
       "    .dataframe tbody tr th {\n",
       "        vertical-align: top;\n",
       "    }\n",
       "\n",
       "    .dataframe thead th {\n",
       "        text-align: right;\n",
       "    }\n",
       "</style>\n",
       "<table border=\"1\" class=\"dataframe\">\n",
       "  <thead>\n",
       "    <tr style=\"text-align: right;\">\n",
       "      <th></th>\n",
       "      <th>Hotel Name</th>\n",
       "      <th>Snapshot Date</th>\n",
       "      <th>Discount Code</th>\n",
       "      <th>transaction_count</th>\n",
       "    </tr>\n",
       "  </thead>\n",
       "  <tbody>\n",
       "    <tr>\n",
       "      <th>339</th>\n",
       "      <td>Park Hyatt New York</td>\n",
       "      <td>2015-07-22</td>\n",
       "      <td>3</td>\n",
       "      <td>44</td>\n",
       "    </tr>\n",
       "    <tr>\n",
       "      <th>325</th>\n",
       "      <td>Newark Liberty International Airport Marriott</td>\n",
       "      <td>2015-07-22</td>\n",
       "      <td>3</td>\n",
       "      <td>30</td>\n",
       "    </tr>\n",
       "    <tr>\n",
       "      <th>468</th>\n",
       "      <td>The New York EDITION</td>\n",
       "      <td>2015-07-27</td>\n",
       "      <td>2</td>\n",
       "      <td>30</td>\n",
       "    </tr>\n",
       "    <tr>\n",
       "      <th>168</th>\n",
       "      <td>Hampton Inn Madison Square Garden Area Hotel</td>\n",
       "      <td>2015-07-23</td>\n",
       "      <td>4</td>\n",
       "      <td>26</td>\n",
       "    </tr>\n",
       "    <tr>\n",
       "      <th>431</th>\n",
       "      <td>The Carlyle A Rosewood Hotel</td>\n",
       "      <td>2015-12-20</td>\n",
       "      <td>4</td>\n",
       "      <td>26</td>\n",
       "    </tr>\n",
       "    <tr>\n",
       "      <th>540</th>\n",
       "      <td>Wyndham Garden Brooklyn Sunset Park</td>\n",
       "      <td>2015-10-28</td>\n",
       "      <td>3</td>\n",
       "      <td>24</td>\n",
       "    </tr>\n",
       "    <tr>\n",
       "      <th>172</th>\n",
       "      <td>Hampton Inn Manhattan Times Square South</td>\n",
       "      <td>2015-07-22</td>\n",
       "      <td>2</td>\n",
       "      <td>24</td>\n",
       "    </tr>\n",
       "    <tr>\n",
       "      <th>521</th>\n",
       "      <td>Viceroy New York</td>\n",
       "      <td>2015-12-29</td>\n",
       "      <td>4</td>\n",
       "      <td>22</td>\n",
       "    </tr>\n",
       "    <tr>\n",
       "      <th>534</th>\n",
       "      <td>Westin New York at Times Square</td>\n",
       "      <td>2015-10-21</td>\n",
       "      <td>2</td>\n",
       "      <td>21</td>\n",
       "    </tr>\n",
       "    <tr>\n",
       "      <th>290</th>\n",
       "      <td>Magnuson Convention Center Hotel</td>\n",
       "      <td>2015-07-27</td>\n",
       "      <td>2</td>\n",
       "      <td>20</td>\n",
       "    </tr>\n",
       "    <tr>\n",
       "      <th>372</th>\n",
       "      <td>Residence Inn Newark Elizabeth Liberty Interna...</td>\n",
       "      <td>2015-07-23</td>\n",
       "      <td>3</td>\n",
       "      <td>20</td>\n",
       "    </tr>\n",
       "    <tr>\n",
       "      <th>478</th>\n",
       "      <td>The Peninsula New York</td>\n",
       "      <td>2015-07-22</td>\n",
       "      <td>2</td>\n",
       "      <td>20</td>\n",
       "    </tr>\n",
       "    <tr>\n",
       "      <th>140</th>\n",
       "      <td>Fairfield Inn by Marriott LaGuardia Airport Fl...</td>\n",
       "      <td>2015-07-23</td>\n",
       "      <td>2</td>\n",
       "      <td>20</td>\n",
       "    </tr>\n",
       "    <tr>\n",
       "      <th>349</th>\n",
       "      <td>Quality Inn Woodside</td>\n",
       "      <td>2015-10-26</td>\n",
       "      <td>3</td>\n",
       "      <td>19</td>\n",
       "    </tr>\n",
       "    <tr>\n",
       "      <th>113</th>\n",
       "      <td>DoubleTree by Hilton New York City - Financial...</td>\n",
       "      <td>2015-07-29</td>\n",
       "      <td>2</td>\n",
       "      <td>19</td>\n",
       "    </tr>\n",
       "    <tr>\n",
       "      <th>78</th>\n",
       "      <td>Conrad New York</td>\n",
       "      <td>2015-07-22</td>\n",
       "      <td>1</td>\n",
       "      <td>18</td>\n",
       "    </tr>\n",
       "    <tr>\n",
       "      <th>524</th>\n",
       "      <td>W New York - Union Square</td>\n",
       "      <td>2015-07-22</td>\n",
       "      <td>1</td>\n",
       "      <td>18</td>\n",
       "    </tr>\n",
       "    <tr>\n",
       "      <th>361</th>\n",
       "      <td>Red Carpet Inn New York City</td>\n",
       "      <td>2015-07-22</td>\n",
       "      <td>2</td>\n",
       "      <td>18</td>\n",
       "    </tr>\n",
       "    <tr>\n",
       "      <th>198</th>\n",
       "      <td>Hilton Newark Airport</td>\n",
       "      <td>2015-07-23</td>\n",
       "      <td>3</td>\n",
       "      <td>18</td>\n",
       "    </tr>\n",
       "    <tr>\n",
       "      <th>477</th>\n",
       "      <td>The Pearl New York</td>\n",
       "      <td>2015-12-14</td>\n",
       "      <td>1</td>\n",
       "      <td>18</td>\n",
       "    </tr>\n",
       "    <tr>\n",
       "      <th>302</th>\n",
       "      <td>Millenium Hilton</td>\n",
       "      <td>2015-07-22</td>\n",
       "      <td>2</td>\n",
       "      <td>18</td>\n",
       "    </tr>\n",
       "    <tr>\n",
       "      <th>288</th>\n",
       "      <td>Loews Regency New York Hotel</td>\n",
       "      <td>2015-08-25</td>\n",
       "      <td>2</td>\n",
       "      <td>17</td>\n",
       "    </tr>\n",
       "    <tr>\n",
       "      <th>522</th>\n",
       "      <td>W New York</td>\n",
       "      <td>2015-08-03</td>\n",
       "      <td>3</td>\n",
       "      <td>17</td>\n",
       "    </tr>\n",
       "    <tr>\n",
       "      <th>321</th>\n",
       "      <td>New York Marriott Downtown</td>\n",
       "      <td>2015-10-08</td>\n",
       "      <td>3</td>\n",
       "      <td>17</td>\n",
       "    </tr>\n",
       "    <tr>\n",
       "      <th>160</th>\n",
       "      <td>Gild Hall A Thompson Hotel</td>\n",
       "      <td>2015-07-22</td>\n",
       "      <td>1</td>\n",
       "      <td>17</td>\n",
       "    </tr>\n",
       "    <tr>\n",
       "      <th>175</th>\n",
       "      <td>Hampton Inn New York - 35th Street - Empire St...</td>\n",
       "      <td>2015-11-17</td>\n",
       "      <td>2</td>\n",
       "      <td>16</td>\n",
       "    </tr>\n",
       "    <tr>\n",
       "      <th>406</th>\n",
       "      <td>Smyth A Thompson Hotel</td>\n",
       "      <td>2015-08-18</td>\n",
       "      <td>2</td>\n",
       "      <td>16</td>\n",
       "    </tr>\n",
       "    <tr>\n",
       "      <th>368</th>\n",
       "      <td>Renaissance Newark Airport Hotel</td>\n",
       "      <td>2015-12-29</td>\n",
       "      <td>3</td>\n",
       "      <td>16</td>\n",
       "    </tr>\n",
       "    <tr>\n",
       "      <th>395</th>\n",
       "      <td>Sheraton New York Times Square Hotel</td>\n",
       "      <td>2015-07-23</td>\n",
       "      <td>3</td>\n",
       "      <td>16</td>\n",
       "    </tr>\n",
       "    <tr>\n",
       "      <th>391</th>\n",
       "      <td>Shelburne NYC-an Affinia hotel</td>\n",
       "      <td>2015-10-29</td>\n",
       "      <td>2</td>\n",
       "      <td>16</td>\n",
       "    </tr>\n",
       "    <tr>\n",
       "      <th>193</th>\n",
       "      <td>Hilton Garden Inn Times Square</td>\n",
       "      <td>2015-09-18</td>\n",
       "      <td>2</td>\n",
       "      <td>16</td>\n",
       "    </tr>\n",
       "    <tr>\n",
       "      <th>481</th>\n",
       "      <td>The Plaza Hotel</td>\n",
       "      <td>2015-07-28</td>\n",
       "      <td>2</td>\n",
       "      <td>16</td>\n",
       "    </tr>\n",
       "    <tr>\n",
       "      <th>299</th>\n",
       "      <td>McCarren Hotel &amp; Pool</td>\n",
       "      <td>2015-08-27</td>\n",
       "      <td>2</td>\n",
       "      <td>16</td>\n",
       "    </tr>\n",
       "    <tr>\n",
       "      <th>332</th>\n",
       "      <td>Omni Berkshire Place</td>\n",
       "      <td>2015-07-22</td>\n",
       "      <td>3</td>\n",
       "      <td>16</td>\n",
       "    </tr>\n",
       "    <tr>\n",
       "      <th>486</th>\n",
       "      <td>The Roger</td>\n",
       "      <td>2015-10-31</td>\n",
       "      <td>2</td>\n",
       "      <td>16</td>\n",
       "    </tr>\n",
       "    <tr>\n",
       "      <th>450</th>\n",
       "      <td>The Lexington New York City Autograph Collection</td>\n",
       "      <td>2015-08-17</td>\n",
       "      <td>2</td>\n",
       "      <td>15</td>\n",
       "    </tr>\n",
       "    <tr>\n",
       "      <th>283</th>\n",
       "      <td>Langham Place New York Fifth Avenue</td>\n",
       "      <td>2015-07-23</td>\n",
       "      <td>1</td>\n",
       "      <td>15</td>\n",
       "    </tr>\n",
       "    <tr>\n",
       "      <th>219</th>\n",
       "      <td>Holiday Inn New York JFK Airport Area</td>\n",
       "      <td>2015-11-21</td>\n",
       "      <td>4</td>\n",
       "      <td>15</td>\n",
       "    </tr>\n",
       "    <tr>\n",
       "      <th>223</th>\n",
       "      <td>Homewood Suites by Hilton NY Midtown Manhattan...</td>\n",
       "      <td>2015-08-02</td>\n",
       "      <td>2</td>\n",
       "      <td>15</td>\n",
       "    </tr>\n",
       "    <tr>\n",
       "      <th>488</th>\n",
       "      <td>The Roosevelt Hotel New York City</td>\n",
       "      <td>2015-10-10</td>\n",
       "      <td>2</td>\n",
       "      <td>15</td>\n",
       "    </tr>\n",
       "  </tbody>\n",
       "</table>\n",
       "</div>"
      ],
      "text/plain": [
       "                                            Hotel Name Snapshot Date  \\\n",
       "339                                Park Hyatt New York    2015-07-22   \n",
       "325      Newark Liberty International Airport Marriott    2015-07-22   \n",
       "468                               The New York EDITION    2015-07-27   \n",
       "168       Hampton Inn Madison Square Garden Area Hotel    2015-07-23   \n",
       "431                       The Carlyle A Rosewood Hotel    2015-12-20   \n",
       "540                Wyndham Garden Brooklyn Sunset Park    2015-10-28   \n",
       "172           Hampton Inn Manhattan Times Square South    2015-07-22   \n",
       "521                                   Viceroy New York    2015-12-29   \n",
       "534                    Westin New York at Times Square    2015-10-21   \n",
       "290                   Magnuson Convention Center Hotel    2015-07-27   \n",
       "372  Residence Inn Newark Elizabeth Liberty Interna...    2015-07-23   \n",
       "478                             The Peninsula New York    2015-07-22   \n",
       "140  Fairfield Inn by Marriott LaGuardia Airport Fl...    2015-07-23   \n",
       "349                               Quality Inn Woodside    2015-10-26   \n",
       "113  DoubleTree by Hilton New York City - Financial...    2015-07-29   \n",
       "78                                     Conrad New York    2015-07-22   \n",
       "524                          W New York - Union Square    2015-07-22   \n",
       "361                       Red Carpet Inn New York City    2015-07-22   \n",
       "198                              Hilton Newark Airport    2015-07-23   \n",
       "477                                 The Pearl New York    2015-12-14   \n",
       "302                                   Millenium Hilton    2015-07-22   \n",
       "288                       Loews Regency New York Hotel    2015-08-25   \n",
       "522                                         W New York    2015-08-03   \n",
       "321                         New York Marriott Downtown    2015-10-08   \n",
       "160                         Gild Hall A Thompson Hotel    2015-07-22   \n",
       "175  Hampton Inn New York - 35th Street - Empire St...    2015-11-17   \n",
       "406                             Smyth A Thompson Hotel    2015-08-18   \n",
       "368                   Renaissance Newark Airport Hotel    2015-12-29   \n",
       "395               Sheraton New York Times Square Hotel    2015-07-23   \n",
       "391                     Shelburne NYC-an Affinia hotel    2015-10-29   \n",
       "193                     Hilton Garden Inn Times Square    2015-09-18   \n",
       "481                                    The Plaza Hotel    2015-07-28   \n",
       "299                              McCarren Hotel & Pool    2015-08-27   \n",
       "332                               Omni Berkshire Place    2015-07-22   \n",
       "486                                          The Roger    2015-10-31   \n",
       "450   The Lexington New York City Autograph Collection    2015-08-17   \n",
       "283                Langham Place New York Fifth Avenue    2015-07-23   \n",
       "219              Holiday Inn New York JFK Airport Area    2015-11-21   \n",
       "223  Homewood Suites by Hilton NY Midtown Manhattan...    2015-08-02   \n",
       "488                  The Roosevelt Hotel New York City    2015-10-10   \n",
       "\n",
       "     Discount Code  transaction_count  \n",
       "339              3                 44  \n",
       "325              3                 30  \n",
       "468              2                 30  \n",
       "168              4                 26  \n",
       "431              4                 26  \n",
       "540              3                 24  \n",
       "172              2                 24  \n",
       "521              4                 22  \n",
       "534              2                 21  \n",
       "290              2                 20  \n",
       "372              3                 20  \n",
       "478              2                 20  \n",
       "140              2                 20  \n",
       "349              3                 19  \n",
       "113              2                 19  \n",
       "78               1                 18  \n",
       "524              1                 18  \n",
       "361              2                 18  \n",
       "198              3                 18  \n",
       "477              1                 18  \n",
       "302              2                 18  \n",
       "288              2                 17  \n",
       "522              3                 17  \n",
       "321              3                 17  \n",
       "160              1                 17  \n",
       "175              2                 16  \n",
       "406              2                 16  \n",
       "368              3                 16  \n",
       "395              3                 16  \n",
       "391              2                 16  \n",
       "193              2                 16  \n",
       "481              2                 16  \n",
       "299              2                 16  \n",
       "332              3                 16  \n",
       "486              2                 16  \n",
       "450              2                 15  \n",
       "283              1                 15  \n",
       "219              4                 15  \n",
       "223              2                 15  \n",
       "488              2                 15  "
      ]
     },
     "metadata": {},
     "output_type": "display_data"
    },
    {
     "name": "stdout",
     "output_type": "stream",
     "text": [
      "\n",
      "Most Data (Top 40) Parameter Combinations with Transaction Counts:\n"
     ]
    },
    {
     "data": {
      "text/html": [
       "<div>\n",
       "<style scoped>\n",
       "    .dataframe tbody tr th:only-of-type {\n",
       "        vertical-align: middle;\n",
       "    }\n",
       "\n",
       "    .dataframe tbody tr th {\n",
       "        vertical-align: top;\n",
       "    }\n",
       "\n",
       "    .dataframe thead th {\n",
       "        text-align: right;\n",
       "    }\n",
       "</style>\n",
       "<table border=\"1\" class=\"dataframe\">\n",
       "  <thead>\n",
       "    <tr style=\"text-align: right;\">\n",
       "      <th></th>\n",
       "      <th>Snapshot Date</th>\n",
       "      <th>Hotel Name</th>\n",
       "      <th>Discount Code</th>\n",
       "      <th>transaction_count</th>\n",
       "    </tr>\n",
       "  </thead>\n",
       "  <tbody>\n",
       "    <tr>\n",
       "      <th>1684</th>\n",
       "      <td>2015-07-22</td>\n",
       "      <td>Park Hyatt New York</td>\n",
       "      <td>3</td>\n",
       "      <td>44</td>\n",
       "    </tr>\n",
       "    <tr>\n",
       "      <th>1683</th>\n",
       "      <td>2015-07-22</td>\n",
       "      <td>Park Hyatt New York</td>\n",
       "      <td>2</td>\n",
       "      <td>43</td>\n",
       "    </tr>\n",
       "    <tr>\n",
       "      <th>1682</th>\n",
       "      <td>2015-07-22</td>\n",
       "      <td>Park Hyatt New York</td>\n",
       "      <td>1</td>\n",
       "      <td>30</td>\n",
       "    </tr>\n",
       "    <tr>\n",
       "      <th>3312</th>\n",
       "      <td>2015-07-27</td>\n",
       "      <td>The New York EDITION</td>\n",
       "      <td>2</td>\n",
       "      <td>30</td>\n",
       "    </tr>\n",
       "    <tr>\n",
       "      <th>1967</th>\n",
       "      <td>2015-07-23</td>\n",
       "      <td>Newark Liberty International Airport Marriott</td>\n",
       "      <td>3</td>\n",
       "      <td>30</td>\n",
       "    </tr>\n",
       "    <tr>\n",
       "      <th>1676</th>\n",
       "      <td>2015-07-22</td>\n",
       "      <td>Newark Liberty International Airport Marriott</td>\n",
       "      <td>3</td>\n",
       "      <td>30</td>\n",
       "    </tr>\n",
       "    <tr>\n",
       "      <th>3984</th>\n",
       "      <td>2015-07-29</td>\n",
       "      <td>The New York EDITION</td>\n",
       "      <td>3</td>\n",
       "      <td>30</td>\n",
       "    </tr>\n",
       "    <tr>\n",
       "      <th>3983</th>\n",
       "      <td>2015-07-29</td>\n",
       "      <td>The New York EDITION</td>\n",
       "      <td>2</td>\n",
       "      <td>30</td>\n",
       "    </tr>\n",
       "    <tr>\n",
       "      <th>3313</th>\n",
       "      <td>2015-07-27</td>\n",
       "      <td>The New York EDITION</td>\n",
       "      <td>3</td>\n",
       "      <td>30</td>\n",
       "    </tr>\n",
       "    <tr>\n",
       "      <th>2630</th>\n",
       "      <td>2015-07-25</td>\n",
       "      <td>The New York EDITION</td>\n",
       "      <td>2</td>\n",
       "      <td>29</td>\n",
       "    </tr>\n",
       "    <tr>\n",
       "      <th>3624</th>\n",
       "      <td>2015-07-28</td>\n",
       "      <td>The New York EDITION</td>\n",
       "      <td>2</td>\n",
       "      <td>29</td>\n",
       "    </tr>\n",
       "    <tr>\n",
       "      <th>3625</th>\n",
       "      <td>2015-07-28</td>\n",
       "      <td>The New York EDITION</td>\n",
       "      <td>3</td>\n",
       "      <td>29</td>\n",
       "    </tr>\n",
       "    <tr>\n",
       "      <th>2631</th>\n",
       "      <td>2015-07-25</td>\n",
       "      <td>The New York EDITION</td>\n",
       "      <td>3</td>\n",
       "      <td>28</td>\n",
       "    </tr>\n",
       "    <tr>\n",
       "      <th>2979</th>\n",
       "      <td>2015-07-26</td>\n",
       "      <td>The New York EDITION</td>\n",
       "      <td>3</td>\n",
       "      <td>28</td>\n",
       "    </tr>\n",
       "    <tr>\n",
       "      <th>2978</th>\n",
       "      <td>2015-07-26</td>\n",
       "      <td>The New York EDITION</td>\n",
       "      <td>2</td>\n",
       "      <td>28</td>\n",
       "    </tr>\n",
       "    <tr>\n",
       "      <th>1685</th>\n",
       "      <td>2015-07-22</td>\n",
       "      <td>Park Hyatt New York</td>\n",
       "      <td>4</td>\n",
       "      <td>26</td>\n",
       "    </tr>\n",
       "    <tr>\n",
       "      <th>1847</th>\n",
       "      <td>2015-07-23</td>\n",
       "      <td>Hampton Inn Madison Square Garden Area Hotel</td>\n",
       "      <td>4</td>\n",
       "      <td>26</td>\n",
       "    </tr>\n",
       "    <tr>\n",
       "      <th>1966</th>\n",
       "      <td>2015-07-23</td>\n",
       "      <td>Newark Liberty International Airport Marriott</td>\n",
       "      <td>2</td>\n",
       "      <td>26</td>\n",
       "    </tr>\n",
       "    <tr>\n",
       "      <th>52793</th>\n",
       "      <td>2015-12-20</td>\n",
       "      <td>The Carlyle A Rosewood Hotel</td>\n",
       "      <td>4</td>\n",
       "      <td>26</td>\n",
       "    </tr>\n",
       "    <tr>\n",
       "      <th>1675</th>\n",
       "      <td>2015-07-22</td>\n",
       "      <td>Newark Liberty International Airport Marriott</td>\n",
       "      <td>2</td>\n",
       "      <td>26</td>\n",
       "    </tr>\n",
       "    <tr>\n",
       "      <th>52043</th>\n",
       "      <td>2015-12-18</td>\n",
       "      <td>The Carlyle A Rosewood Hotel</td>\n",
       "      <td>4</td>\n",
       "      <td>25</td>\n",
       "    </tr>\n",
       "    <tr>\n",
       "      <th>56602</th>\n",
       "      <td>2016-01-01</td>\n",
       "      <td>The Carlyle A Rosewood Hotel</td>\n",
       "      <td>2</td>\n",
       "      <td>25</td>\n",
       "    </tr>\n",
       "    <tr>\n",
       "      <th>56603</th>\n",
       "      <td>2016-01-01</td>\n",
       "      <td>The Carlyle A Rosewood Hotel</td>\n",
       "      <td>3</td>\n",
       "      <td>25</td>\n",
       "    </tr>\n",
       "    <tr>\n",
       "      <th>52792</th>\n",
       "      <td>2015-12-20</td>\n",
       "      <td>The Carlyle A Rosewood Hotel</td>\n",
       "      <td>3</td>\n",
       "      <td>25</td>\n",
       "    </tr>\n",
       "    <tr>\n",
       "      <th>56087</th>\n",
       "      <td>2015-12-30</td>\n",
       "      <td>The Carlyle A Rosewood Hotel</td>\n",
       "      <td>2</td>\n",
       "      <td>25</td>\n",
       "    </tr>\n",
       "    <tr>\n",
       "      <th>52414</th>\n",
       "      <td>2015-12-19</td>\n",
       "      <td>The Carlyle A Rosewood Hotel</td>\n",
       "      <td>4</td>\n",
       "      <td>25</td>\n",
       "    </tr>\n",
       "    <tr>\n",
       "      <th>56368</th>\n",
       "      <td>2015-12-31</td>\n",
       "      <td>The Carlyle A Rosewood Hotel</td>\n",
       "      <td>2</td>\n",
       "      <td>25</td>\n",
       "    </tr>\n",
       "    <tr>\n",
       "      <th>56369</th>\n",
       "      <td>2015-12-31</td>\n",
       "      <td>The Carlyle A Rosewood Hotel</td>\n",
       "      <td>3</td>\n",
       "      <td>25</td>\n",
       "    </tr>\n",
       "    <tr>\n",
       "      <th>52791</th>\n",
       "      <td>2015-12-20</td>\n",
       "      <td>The Carlyle A Rosewood Hotel</td>\n",
       "      <td>2</td>\n",
       "      <td>24</td>\n",
       "    </tr>\n",
       "    <tr>\n",
       "      <th>1974</th>\n",
       "      <td>2015-07-23</td>\n",
       "      <td>Park Hyatt New York</td>\n",
       "      <td>2</td>\n",
       "      <td>24</td>\n",
       "    </tr>\n",
       "    <tr>\n",
       "      <th>1975</th>\n",
       "      <td>2015-07-23</td>\n",
       "      <td>Park Hyatt New York</td>\n",
       "      <td>3</td>\n",
       "      <td>24</td>\n",
       "    </tr>\n",
       "    <tr>\n",
       "      <th>56604</th>\n",
       "      <td>2016-01-01</td>\n",
       "      <td>The Carlyle A Rosewood Hotel</td>\n",
       "      <td>4</td>\n",
       "      <td>24</td>\n",
       "    </tr>\n",
       "    <tr>\n",
       "      <th>36678</th>\n",
       "      <td>2015-10-28</td>\n",
       "      <td>Wyndham Garden Brooklyn Sunset Park</td>\n",
       "      <td>3</td>\n",
       "      <td>24</td>\n",
       "    </tr>\n",
       "    <tr>\n",
       "      <th>51682</th>\n",
       "      <td>2015-12-17</td>\n",
       "      <td>The Carlyle A Rosewood Hotel</td>\n",
       "      <td>4</td>\n",
       "      <td>24</td>\n",
       "    </tr>\n",
       "    <tr>\n",
       "      <th>56088</th>\n",
       "      <td>2015-12-30</td>\n",
       "      <td>The Carlyle A Rosewood Hotel</td>\n",
       "      <td>3</td>\n",
       "      <td>24</td>\n",
       "    </tr>\n",
       "    <tr>\n",
       "      <th>1566</th>\n",
       "      <td>2015-07-22</td>\n",
       "      <td>Hampton Inn Manhattan Times Square South</td>\n",
       "      <td>2</td>\n",
       "      <td>24</td>\n",
       "    </tr>\n",
       "    <tr>\n",
       "      <th>55231</th>\n",
       "      <td>2015-12-27</td>\n",
       "      <td>The Carlyle A Rosewood Hotel</td>\n",
       "      <td>2</td>\n",
       "      <td>23</td>\n",
       "    </tr>\n",
       "    <tr>\n",
       "      <th>35887</th>\n",
       "      <td>2015-10-26</td>\n",
       "      <td>Wyndham Garden Brooklyn Sunset Park</td>\n",
       "      <td>2</td>\n",
       "      <td>23</td>\n",
       "    </tr>\n",
       "    <tr>\n",
       "      <th>56370</th>\n",
       "      <td>2015-12-31</td>\n",
       "      <td>The Carlyle A Rosewood Hotel</td>\n",
       "      <td>4</td>\n",
       "      <td>23</td>\n",
       "    </tr>\n",
       "    <tr>\n",
       "      <th>56089</th>\n",
       "      <td>2015-12-30</td>\n",
       "      <td>The Carlyle A Rosewood Hotel</td>\n",
       "      <td>4</td>\n",
       "      <td>23</td>\n",
       "    </tr>\n",
       "  </tbody>\n",
       "</table>\n",
       "</div>"
      ],
      "text/plain": [
       "      Snapshot Date                                     Hotel Name  \\\n",
       "1684     2015-07-22                            Park Hyatt New York   \n",
       "1683     2015-07-22                            Park Hyatt New York   \n",
       "1682     2015-07-22                            Park Hyatt New York   \n",
       "3312     2015-07-27                           The New York EDITION   \n",
       "1967     2015-07-23  Newark Liberty International Airport Marriott   \n",
       "1676     2015-07-22  Newark Liberty International Airport Marriott   \n",
       "3984     2015-07-29                           The New York EDITION   \n",
       "3983     2015-07-29                           The New York EDITION   \n",
       "3313     2015-07-27                           The New York EDITION   \n",
       "2630     2015-07-25                           The New York EDITION   \n",
       "3624     2015-07-28                           The New York EDITION   \n",
       "3625     2015-07-28                           The New York EDITION   \n",
       "2631     2015-07-25                           The New York EDITION   \n",
       "2979     2015-07-26                           The New York EDITION   \n",
       "2978     2015-07-26                           The New York EDITION   \n",
       "1685     2015-07-22                            Park Hyatt New York   \n",
       "1847     2015-07-23   Hampton Inn Madison Square Garden Area Hotel   \n",
       "1966     2015-07-23  Newark Liberty International Airport Marriott   \n",
       "52793    2015-12-20                   The Carlyle A Rosewood Hotel   \n",
       "1675     2015-07-22  Newark Liberty International Airport Marriott   \n",
       "52043    2015-12-18                   The Carlyle A Rosewood Hotel   \n",
       "56602    2016-01-01                   The Carlyle A Rosewood Hotel   \n",
       "56603    2016-01-01                   The Carlyle A Rosewood Hotel   \n",
       "52792    2015-12-20                   The Carlyle A Rosewood Hotel   \n",
       "56087    2015-12-30                   The Carlyle A Rosewood Hotel   \n",
       "52414    2015-12-19                   The Carlyle A Rosewood Hotel   \n",
       "56368    2015-12-31                   The Carlyle A Rosewood Hotel   \n",
       "56369    2015-12-31                   The Carlyle A Rosewood Hotel   \n",
       "52791    2015-12-20                   The Carlyle A Rosewood Hotel   \n",
       "1974     2015-07-23                            Park Hyatt New York   \n",
       "1975     2015-07-23                            Park Hyatt New York   \n",
       "56604    2016-01-01                   The Carlyle A Rosewood Hotel   \n",
       "36678    2015-10-28            Wyndham Garden Brooklyn Sunset Park   \n",
       "51682    2015-12-17                   The Carlyle A Rosewood Hotel   \n",
       "56088    2015-12-30                   The Carlyle A Rosewood Hotel   \n",
       "1566     2015-07-22       Hampton Inn Manhattan Times Square South   \n",
       "55231    2015-12-27                   The Carlyle A Rosewood Hotel   \n",
       "35887    2015-10-26            Wyndham Garden Brooklyn Sunset Park   \n",
       "56370    2015-12-31                   The Carlyle A Rosewood Hotel   \n",
       "56089    2015-12-30                   The Carlyle A Rosewood Hotel   \n",
       "\n",
       "       Discount Code  transaction_count  \n",
       "1684               3                 44  \n",
       "1683               2                 43  \n",
       "1682               1                 30  \n",
       "3312               2                 30  \n",
       "1967               3                 30  \n",
       "1676               3                 30  \n",
       "3984               3                 30  \n",
       "3983               2                 30  \n",
       "3313               3                 30  \n",
       "2630               2                 29  \n",
       "3624               2                 29  \n",
       "3625               3                 29  \n",
       "2631               3                 28  \n",
       "2979               3                 28  \n",
       "2978               2                 28  \n",
       "1685               4                 26  \n",
       "1847               4                 26  \n",
       "1966               2                 26  \n",
       "52793              4                 26  \n",
       "1675               2                 26  \n",
       "52043              4                 25  \n",
       "56602              2                 25  \n",
       "56603              3                 25  \n",
       "52792              3                 25  \n",
       "56087              2                 25  \n",
       "52414              4                 25  \n",
       "56368              2                 25  \n",
       "56369              3                 25  \n",
       "52791              2                 24  \n",
       "1974               2                 24  \n",
       "1975               3                 24  \n",
       "56604              4                 24  \n",
       "36678              3                 24  \n",
       "51682              4                 24  \n",
       "56088              3                 24  \n",
       "1566               2                 24  \n",
       "55231              2                 23  \n",
       "35887              2                 23  \n",
       "56370              4                 23  \n",
       "56089              4                 23  "
      ]
     },
     "metadata": {},
     "output_type": "display_data"
    }
   ],
   "source": [
    "grouped = data_filtered.groupby(\n",
    "    ['Snapshot Date', 'Hotel Name', 'Discount Code']\n",
    ").size().reset_index(name='transaction_count')\n",
    "\n",
    "onePerHotel = (\n",
    "    grouped.sort_values(['Hotel Name', 'transaction_count'], ascending=[True, False])\n",
    "    .groupby('Hotel Name')\n",
    "    .first()\n",
    "    .reset_index()\n",
    ")\n",
    "onePerHotel = onePerHotel.sort_values('transaction_count', ascending=False).head(40)\n",
    "\n",
    "mostData = grouped.sort_values('transaction_count', ascending=False).head(40)\n",
    "\n",
    "print(\"One Per Hotel (Top 40) Parameter Combinations with Transaction Counts:\")\n",
    "display(onePerHotel)\n",
    "\n",
    "print(\"\\nMost Data (Top 40) Parameter Combinations with Transaction Counts:\")\n",
    "display(mostData)\n"
   ]
  },
  {
   "cell_type": "markdown",
   "metadata": {},
   "source": [
    "This looks solid to me, shows again the for maximum data we rather stick to Most Data params instead of One Per Hotel"
   ]
  },
  {
   "cell_type": "markdown",
   "metadata": {},
   "source": [
    "##### Investigating Valid Data and Outliers for Parameter Combinations"
   ]
  },
  {
   "cell_type": "markdown",
   "metadata": {},
   "source": [
    "Here, we further analyze the data returned by `load_relevant_data` for each parameter combination. For each combination, we compute:\n",
    "- Total rows (number of transactions)\n",
    "- Unique counts for WeekDays, Snapshot IDs, Check-in Dates, and Available Rooms\n",
    "- Weekend count and Holiday-Connected count (using US holidays for 2014–2016, with a check for a holiday occurring within 3 days before or 1 day after the check-in date)\n",
    "- Data range (from snapshot date to snapshot date + 30 days)\n",
    "- **Price Metrics:**\n",
    "  - Minimum and maximum Discount Price\n",
    "  - Price range as a percentage\n",
    "  - An array of price points (each price point is `[price, showcount]`)\n",
    "\n",
    "We then split the parameter combinations into two groups (Good Predictions vs. Suspected Outliers) based on the final `R²` value and display an average comparison table."
   ]
  },
  {
   "cell_type": "code",
   "execution_count": 33,
   "metadata": {},
   "outputs": [],
   "source": [
    "%%capture\n",
    "%pip install holidays"
   ]
  },
  {
   "cell_type": "code",
   "execution_count": 34,
   "metadata": {},
   "outputs": [
    {
     "name": "stdout",
     "output_type": "stream",
     "text": [
      "Average Metrics Comparison:\n"
     ]
    },
    {
     "data": {
      "text/html": [
       "<div>\n",
       "<style scoped>\n",
       "    .dataframe tbody tr th:only-of-type {\n",
       "        vertical-align: middle;\n",
       "    }\n",
       "\n",
       "    .dataframe tbody tr th {\n",
       "        vertical-align: top;\n",
       "    }\n",
       "\n",
       "    .dataframe thead th {\n",
       "        text-align: right;\n",
       "    }\n",
       "</style>\n",
       "<table border=\"1\" class=\"dataframe\">\n",
       "  <thead>\n",
       "    <tr style=\"text-align: right;\">\n",
       "      <th></th>\n",
       "      <th>Good Predictions</th>\n",
       "      <th>Bad Predictions</th>\n",
       "    </tr>\n",
       "  </thead>\n",
       "  <tbody>\n",
       "    <tr>\n",
       "      <th>Final R²</th>\n",
       "      <td>0.986878</td>\n",
       "      <td>NaN</td>\n",
       "    </tr>\n",
       "    <tr>\n",
       "      <th>Total Rows</th>\n",
       "      <td>27.050000</td>\n",
       "      <td>NaN</td>\n",
       "    </tr>\n",
       "    <tr>\n",
       "      <th>Unique WeekDays</th>\n",
       "      <td>6.550000</td>\n",
       "      <td>NaN</td>\n",
       "    </tr>\n",
       "    <tr>\n",
       "      <th>Unique Snapshot IDs</th>\n",
       "      <td>1.300000</td>\n",
       "      <td>NaN</td>\n",
       "    </tr>\n",
       "    <tr>\n",
       "      <th>Unique Checkin Dates</th>\n",
       "      <td>22.825000</td>\n",
       "      <td>NaN</td>\n",
       "    </tr>\n",
       "    <tr>\n",
       "      <th>Unique Rooms</th>\n",
       "      <td>6.150000</td>\n",
       "      <td>NaN</td>\n",
       "    </tr>\n",
       "    <tr>\n",
       "      <th>Weekend Count</th>\n",
       "      <td>10.025000</td>\n",
       "      <td>NaN</td>\n",
       "    </tr>\n",
       "    <tr>\n",
       "      <th>Holiday Connected Count</th>\n",
       "      <td>2.900000</td>\n",
       "      <td>NaN</td>\n",
       "    </tr>\n",
       "    <tr>\n",
       "      <th>Price Points length</th>\n",
       "      <td>5.625000</td>\n",
       "      <td>NaN</td>\n",
       "    </tr>\n",
       "  </tbody>\n",
       "</table>\n",
       "</div>"
      ],
      "text/plain": [
       "                         Good Predictions  Bad Predictions\n",
       "Final R²                         0.986878              NaN\n",
       "Total Rows                      27.050000              NaN\n",
       "Unique WeekDays                  6.550000              NaN\n",
       "Unique Snapshot IDs              1.300000              NaN\n",
       "Unique Checkin Dates            22.825000              NaN\n",
       "Unique Rooms                     6.150000              NaN\n",
       "Weekend Count                   10.025000              NaN\n",
       "Holiday Connected Count          2.900000              NaN\n",
       "Price Points length              5.625000              NaN"
      ]
     },
     "metadata": {},
     "output_type": "display_data"
    },
    {
     "name": "stdout",
     "output_type": "stream",
     "text": [
      "\n",
      "Detailed Metrics for Good Predictions:\n"
     ]
    },
    {
     "data": {
      "text/html": [
       "<div>\n",
       "<style scoped>\n",
       "    .dataframe tbody tr th:only-of-type {\n",
       "        vertical-align: middle;\n",
       "    }\n",
       "\n",
       "    .dataframe tbody tr th {\n",
       "        vertical-align: top;\n",
       "    }\n",
       "\n",
       "    .dataframe thead th {\n",
       "        text-align: right;\n",
       "    }\n",
       "</style>\n",
       "<table border=\"1\" class=\"dataframe\">\n",
       "  <thead>\n",
       "    <tr style=\"text-align: right;\">\n",
       "      <th></th>\n",
       "      <th>Parameter</th>\n",
       "      <th>Final R²</th>\n",
       "      <th>Total Rows</th>\n",
       "      <th>Unique WeekDays</th>\n",
       "      <th>Unique Snapshot IDs</th>\n",
       "      <th>Unique Checkin Dates</th>\n",
       "      <th>Unique Rooms</th>\n",
       "      <th>Weekend Count</th>\n",
       "      <th>Holiday Connected Count</th>\n",
       "      <th>Data Range</th>\n",
       "      <th>Price Points</th>\n",
       "      <th>Price Points length</th>\n",
       "    </tr>\n",
       "  </thead>\n",
       "  <tbody>\n",
       "    <tr>\n",
       "      <th>0</th>\n",
       "      <td>2015-07-22 00:00:00 | Park Hyatt New York | 3</td>\n",
       "      <td>0.911719</td>\n",
       "      <td>44</td>\n",
       "      <td>7</td>\n",
       "      <td>2</td>\n",
       "      <td>23</td>\n",
       "      <td>11</td>\n",
       "      <td>17</td>\n",
       "      <td>0</td>\n",
       "      <td>2015-07-22 - 2015-08-21</td>\n",
       "      <td>[[3255, 4], [3275, 6], [3400, 1], [3455, 22], ...</td>\n",
       "      <td>5</td>\n",
       "    </tr>\n",
       "    <tr>\n",
       "      <th>1</th>\n",
       "      <td>2015-07-22 00:00:00 | Park Hyatt New York | 2</td>\n",
       "      <td>0.771914</td>\n",
       "      <td>43</td>\n",
       "      <td>7</td>\n",
       "      <td>2</td>\n",
       "      <td>22</td>\n",
       "      <td>8</td>\n",
       "      <td>18</td>\n",
       "      <td>0</td>\n",
       "      <td>2015-07-22 - 2015-08-21</td>\n",
       "      <td>[[3255, 6], [3275, 8], [3400, 2], [3455, 14], ...</td>\n",
       "      <td>5</td>\n",
       "    </tr>\n",
       "    <tr>\n",
       "      <th>2</th>\n",
       "      <td>2015-07-22 00:00:00 | Park Hyatt New York | 1</td>\n",
       "      <td>0.999886</td>\n",
       "      <td>30</td>\n",
       "      <td>7</td>\n",
       "      <td>2</td>\n",
       "      <td>16</td>\n",
       "      <td>7</td>\n",
       "      <td>12</td>\n",
       "      <td>0</td>\n",
       "      <td>2015-07-22 - 2015-08-21</td>\n",
       "      <td>[[3378, 4], [3588, 6], [3650, 2], [3678, 12], ...</td>\n",
       "      <td>5</td>\n",
       "    </tr>\n",
       "    <tr>\n",
       "      <th>3</th>\n",
       "      <td>2015-07-27 00:00:00 | The New York EDITION | 2</td>\n",
       "      <td>0.997681</td>\n",
       "      <td>30</td>\n",
       "      <td>7</td>\n",
       "      <td>1</td>\n",
       "      <td>30</td>\n",
       "      <td>1</td>\n",
       "      <td>12</td>\n",
       "      <td>0</td>\n",
       "      <td>2015-07-27 - 2015-08-26</td>\n",
       "      <td>[[1900, 4], [1925, 4], [1950, 5], [1951, 4], [...</td>\n",
       "      <td>7</td>\n",
       "    </tr>\n",
       "    <tr>\n",
       "      <th>4</th>\n",
       "      <td>2015-07-23 00:00:00 | Newark Liberty Internati...</td>\n",
       "      <td>0.999629</td>\n",
       "      <td>30</td>\n",
       "      <td>4</td>\n",
       "      <td>2</td>\n",
       "      <td>15</td>\n",
       "      <td>1</td>\n",
       "      <td>0</td>\n",
       "      <td>0</td>\n",
       "      <td>2015-07-23 - 2015-08-22</td>\n",
       "      <td>[[785, 2], [855, 6], [962, 2], [970, 2], [991,...</td>\n",
       "      <td>9</td>\n",
       "    </tr>\n",
       "    <tr>\n",
       "      <th>5</th>\n",
       "      <td>2015-07-22 00:00:00 | Newark Liberty Internati...</td>\n",
       "      <td>0.999721</td>\n",
       "      <td>30</td>\n",
       "      <td>4</td>\n",
       "      <td>2</td>\n",
       "      <td>15</td>\n",
       "      <td>1</td>\n",
       "      <td>0</td>\n",
       "      <td>0</td>\n",
       "      <td>2015-07-22 - 2015-08-21</td>\n",
       "      <td>[[785, 2], [828, 2], [846, 4], [944, 2], [956,...</td>\n",
       "      <td>13</td>\n",
       "    </tr>\n",
       "    <tr>\n",
       "      <th>6</th>\n",
       "      <td>2015-07-29 00:00:00 | The New York EDITION | 3</td>\n",
       "      <td>0.998093</td>\n",
       "      <td>30</td>\n",
       "      <td>7</td>\n",
       "      <td>1</td>\n",
       "      <td>30</td>\n",
       "      <td>1</td>\n",
       "      <td>13</td>\n",
       "      <td>0</td>\n",
       "      <td>2015-07-29 - 2015-08-28</td>\n",
       "      <td>[[1900, 4], [1925, 5], [1950, 5], [1951, 4], [...</td>\n",
       "      <td>7</td>\n",
       "    </tr>\n",
       "    <tr>\n",
       "      <th>7</th>\n",
       "      <td>2015-07-29 00:00:00 | The New York EDITION | 2</td>\n",
       "      <td>0.998138</td>\n",
       "      <td>30</td>\n",
       "      <td>7</td>\n",
       "      <td>1</td>\n",
       "      <td>30</td>\n",
       "      <td>1</td>\n",
       "      <td>13</td>\n",
       "      <td>0</td>\n",
       "      <td>2015-07-29 - 2015-08-28</td>\n",
       "      <td>[[1900, 5], [1925, 5], [1950, 4], [1951, 4], [...</td>\n",
       "      <td>7</td>\n",
       "    </tr>\n",
       "    <tr>\n",
       "      <th>8</th>\n",
       "      <td>2015-07-27 00:00:00 | The New York EDITION | 3</td>\n",
       "      <td>0.997766</td>\n",
       "      <td>30</td>\n",
       "      <td>7</td>\n",
       "      <td>1</td>\n",
       "      <td>30</td>\n",
       "      <td>1</td>\n",
       "      <td>12</td>\n",
       "      <td>0</td>\n",
       "      <td>2015-07-27 - 2015-08-26</td>\n",
       "      <td>[[1900, 5], [1925, 4], [1950, 4], [1951, 5], [...</td>\n",
       "      <td>7</td>\n",
       "    </tr>\n",
       "    <tr>\n",
       "      <th>9</th>\n",
       "      <td>2015-07-25 00:00:00 | The New York EDITION | 2</td>\n",
       "      <td>0.997864</td>\n",
       "      <td>29</td>\n",
       "      <td>7</td>\n",
       "      <td>1</td>\n",
       "      <td>29</td>\n",
       "      <td>1</td>\n",
       "      <td>12</td>\n",
       "      <td>0</td>\n",
       "      <td>2015-07-25 - 2015-08-24</td>\n",
       "      <td>[[1900, 4], [1925, 4], [1950, 4], [1951, 4], [...</td>\n",
       "      <td>7</td>\n",
       "    </tr>\n",
       "    <tr>\n",
       "      <th>10</th>\n",
       "      <td>2015-07-28 00:00:00 | The New York EDITION | 2</td>\n",
       "      <td>0.998020</td>\n",
       "      <td>29</td>\n",
       "      <td>7</td>\n",
       "      <td>1</td>\n",
       "      <td>29</td>\n",
       "      <td>1</td>\n",
       "      <td>11</td>\n",
       "      <td>0</td>\n",
       "      <td>2015-07-28 - 2015-08-27</td>\n",
       "      <td>[[1900, 3], [1925, 5], [1950, 5], [1951, 4], [...</td>\n",
       "      <td>7</td>\n",
       "    </tr>\n",
       "    <tr>\n",
       "      <th>11</th>\n",
       "      <td>2015-07-28 00:00:00 | The New York EDITION | 3</td>\n",
       "      <td>0.997969</td>\n",
       "      <td>29</td>\n",
       "      <td>7</td>\n",
       "      <td>1</td>\n",
       "      <td>29</td>\n",
       "      <td>1</td>\n",
       "      <td>11</td>\n",
       "      <td>0</td>\n",
       "      <td>2015-07-28 - 2015-08-27</td>\n",
       "      <td>[[1900, 5], [1925, 5], [1950, 3], [1951, 4], [...</td>\n",
       "      <td>7</td>\n",
       "    </tr>\n",
       "    <tr>\n",
       "      <th>12</th>\n",
       "      <td>2015-07-25 00:00:00 | The New York EDITION | 3</td>\n",
       "      <td>0.997857</td>\n",
       "      <td>28</td>\n",
       "      <td>7</td>\n",
       "      <td>1</td>\n",
       "      <td>28</td>\n",
       "      <td>1</td>\n",
       "      <td>12</td>\n",
       "      <td>0</td>\n",
       "      <td>2015-07-25 - 2015-08-24</td>\n",
       "      <td>[[1900, 4], [1925, 4], [1950, 4], [1951, 3], [...</td>\n",
       "      <td>7</td>\n",
       "    </tr>\n",
       "    <tr>\n",
       "      <th>13</th>\n",
       "      <td>2015-07-26 00:00:00 | The New York EDITION | 3</td>\n",
       "      <td>0.997648</td>\n",
       "      <td>28</td>\n",
       "      <td>7</td>\n",
       "      <td>1</td>\n",
       "      <td>28</td>\n",
       "      <td>1</td>\n",
       "      <td>12</td>\n",
       "      <td>0</td>\n",
       "      <td>2015-07-26 - 2015-08-25</td>\n",
       "      <td>[[1900, 3], [1925, 3], [1950, 4], [1951, 5], [...</td>\n",
       "      <td>7</td>\n",
       "    </tr>\n",
       "    <tr>\n",
       "      <th>14</th>\n",
       "      <td>2015-07-26 00:00:00 | The New York EDITION | 2</td>\n",
       "      <td>0.998241</td>\n",
       "      <td>28</td>\n",
       "      <td>7</td>\n",
       "      <td>1</td>\n",
       "      <td>28</td>\n",
       "      <td>1</td>\n",
       "      <td>12</td>\n",
       "      <td>0</td>\n",
       "      <td>2015-07-26 - 2015-08-25</td>\n",
       "      <td>[[1900, 4], [1925, 4], [1950, 3], [1951, 4], [...</td>\n",
       "      <td>7</td>\n",
       "    </tr>\n",
       "    <tr>\n",
       "      <th>15</th>\n",
       "      <td>2015-07-22 00:00:00 | Park Hyatt New York | 4</td>\n",
       "      <td>0.999833</td>\n",
       "      <td>26</td>\n",
       "      <td>7</td>\n",
       "      <td>2</td>\n",
       "      <td>15</td>\n",
       "      <td>9</td>\n",
       "      <td>10</td>\n",
       "      <td>0</td>\n",
       "      <td>2015-07-22 - 2015-08-21</td>\n",
       "      <td>[[3588, 4], [3650, 2], [3678, 14], [3750, 6]]</td>\n",
       "      <td>4</td>\n",
       "    </tr>\n",
       "    <tr>\n",
       "      <th>16</th>\n",
       "      <td>2015-07-23 00:00:00 | Hampton Inn Madison Squa...</td>\n",
       "      <td>0.998020</td>\n",
       "      <td>26</td>\n",
       "      <td>5</td>\n",
       "      <td>2</td>\n",
       "      <td>13</td>\n",
       "      <td>1</td>\n",
       "      <td>12</td>\n",
       "      <td>0</td>\n",
       "      <td>2015-07-23 - 2015-08-22</td>\n",
       "      <td>[[1188, 2], [1254, 2], [1265, 2], [1278, 2], [...</td>\n",
       "      <td>13</td>\n",
       "    </tr>\n",
       "    <tr>\n",
       "      <th>17</th>\n",
       "      <td>2015-07-23 00:00:00 | Newark Liberty Internati...</td>\n",
       "      <td>0.999778</td>\n",
       "      <td>26</td>\n",
       "      <td>4</td>\n",
       "      <td>2</td>\n",
       "      <td>13</td>\n",
       "      <td>1</td>\n",
       "      <td>2</td>\n",
       "      <td>0</td>\n",
       "      <td>2015-07-23 - 2015-08-22</td>\n",
       "      <td>[[845, 2], [879, 2], [881, 4], [915, 6], [1015...</td>\n",
       "      <td>8</td>\n",
       "    </tr>\n",
       "    <tr>\n",
       "      <th>18</th>\n",
       "      <td>2015-12-20 00:00:00 | The Carlyle A Rosewood H...</td>\n",
       "      <td>0.998024</td>\n",
       "      <td>26</td>\n",
       "      <td>7</td>\n",
       "      <td>1</td>\n",
       "      <td>26</td>\n",
       "      <td>11</td>\n",
       "      <td>9</td>\n",
       "      <td>10</td>\n",
       "      <td>2015-12-20 - 2016-01-19</td>\n",
       "      <td>[[1800, 19], [2340, 1], [2520, 4], [2970, 2]]</td>\n",
       "      <td>4</td>\n",
       "    </tr>\n",
       "    <tr>\n",
       "      <th>19</th>\n",
       "      <td>2015-07-22 00:00:00 | Newark Liberty Internati...</td>\n",
       "      <td>0.999744</td>\n",
       "      <td>26</td>\n",
       "      <td>3</td>\n",
       "      <td>2</td>\n",
       "      <td>13</td>\n",
       "      <td>1</td>\n",
       "      <td>0</td>\n",
       "      <td>0</td>\n",
       "      <td>2015-07-22 - 2015-08-21</td>\n",
       "      <td>[[836, 2], [854, 2], [861, 2], [872, 2], [879,...</td>\n",
       "      <td>11</td>\n",
       "    </tr>\n",
       "    <tr>\n",
       "      <th>20</th>\n",
       "      <td>2015-12-18 00:00:00 | The Carlyle A Rosewood H...</td>\n",
       "      <td>0.998889</td>\n",
       "      <td>25</td>\n",
       "      <td>7</td>\n",
       "      <td>1</td>\n",
       "      <td>25</td>\n",
       "      <td>14</td>\n",
       "      <td>10</td>\n",
       "      <td>8</td>\n",
       "      <td>2015-12-18 - 2016-01-17</td>\n",
       "      <td>[[1800, 17], [2340, 1], [2520, 5], [2970, 2]]</td>\n",
       "      <td>4</td>\n",
       "    </tr>\n",
       "    <tr>\n",
       "      <th>21</th>\n",
       "      <td>2016-01-01 00:00:00 | The Carlyle A Rosewood H...</td>\n",
       "      <td>0.999940</td>\n",
       "      <td>25</td>\n",
       "      <td>7</td>\n",
       "      <td>1</td>\n",
       "      <td>25</td>\n",
       "      <td>12</td>\n",
       "      <td>11</td>\n",
       "      <td>5</td>\n",
       "      <td>2016-01-01 - 2016-01-31</td>\n",
       "      <td>[[1800, 23], [2200, 2]]</td>\n",
       "      <td>2</td>\n",
       "    </tr>\n",
       "    <tr>\n",
       "      <th>22</th>\n",
       "      <td>2016-01-01 00:00:00 | The Carlyle A Rosewood H...</td>\n",
       "      <td>0.999932</td>\n",
       "      <td>25</td>\n",
       "      <td>7</td>\n",
       "      <td>1</td>\n",
       "      <td>25</td>\n",
       "      <td>12</td>\n",
       "      <td>11</td>\n",
       "      <td>5</td>\n",
       "      <td>2016-01-01 - 2016-01-31</td>\n",
       "      <td>[[1800, 23], [2200, 2]]</td>\n",
       "      <td>2</td>\n",
       "    </tr>\n",
       "    <tr>\n",
       "      <th>23</th>\n",
       "      <td>2015-12-20 00:00:00 | The Carlyle A Rosewood H...</td>\n",
       "      <td>0.998709</td>\n",
       "      <td>25</td>\n",
       "      <td>7</td>\n",
       "      <td>1</td>\n",
       "      <td>25</td>\n",
       "      <td>11</td>\n",
       "      <td>10</td>\n",
       "      <td>9</td>\n",
       "      <td>2015-12-20 - 2016-01-19</td>\n",
       "      <td>[[1800, 19], [2520, 5], [2790, 1]]</td>\n",
       "      <td>3</td>\n",
       "    </tr>\n",
       "    <tr>\n",
       "      <th>24</th>\n",
       "      <td>2015-12-30 00:00:00 | The Carlyle A Rosewood H...</td>\n",
       "      <td>0.999958</td>\n",
       "      <td>25</td>\n",
       "      <td>7</td>\n",
       "      <td>1</td>\n",
       "      <td>25</td>\n",
       "      <td>10</td>\n",
       "      <td>10</td>\n",
       "      <td>7</td>\n",
       "      <td>2015-12-30 - 2016-01-29</td>\n",
       "      <td>[[1800, 22], [2200, 2], [2340, 1]]</td>\n",
       "      <td>3</td>\n",
       "    </tr>\n",
       "    <tr>\n",
       "      <th>25</th>\n",
       "      <td>2015-12-19 00:00:00 | The Carlyle A Rosewood H...</td>\n",
       "      <td>0.998172</td>\n",
       "      <td>25</td>\n",
       "      <td>7</td>\n",
       "      <td>1</td>\n",
       "      <td>25</td>\n",
       "      <td>13</td>\n",
       "      <td>10</td>\n",
       "      <td>8</td>\n",
       "      <td>2015-12-19 - 2016-01-18</td>\n",
       "      <td>[[1800, 18], [2340, 1], [2520, 5], [2970, 1]]</td>\n",
       "      <td>4</td>\n",
       "    </tr>\n",
       "    <tr>\n",
       "      <th>26</th>\n",
       "      <td>2015-12-31 00:00:00 | The Carlyle A Rosewood H...</td>\n",
       "      <td>0.999933</td>\n",
       "      <td>25</td>\n",
       "      <td>7</td>\n",
       "      <td>1</td>\n",
       "      <td>25</td>\n",
       "      <td>11</td>\n",
       "      <td>11</td>\n",
       "      <td>6</td>\n",
       "      <td>2015-12-31 - 2016-01-30</td>\n",
       "      <td>[[1800, 23], [2200, 2]]</td>\n",
       "      <td>2</td>\n",
       "    </tr>\n",
       "    <tr>\n",
       "      <th>27</th>\n",
       "      <td>2015-12-31 00:00:00 | The Carlyle A Rosewood H...</td>\n",
       "      <td>0.999938</td>\n",
       "      <td>25</td>\n",
       "      <td>7</td>\n",
       "      <td>1</td>\n",
       "      <td>25</td>\n",
       "      <td>11</td>\n",
       "      <td>11</td>\n",
       "      <td>6</td>\n",
       "      <td>2015-12-31 - 2016-01-30</td>\n",
       "      <td>[[1800, 23], [2200, 2]]</td>\n",
       "      <td>2</td>\n",
       "    </tr>\n",
       "    <tr>\n",
       "      <th>28</th>\n",
       "      <td>2015-12-20 00:00:00 | The Carlyle A Rosewood H...</td>\n",
       "      <td>0.996865</td>\n",
       "      <td>24</td>\n",
       "      <td>7</td>\n",
       "      <td>1</td>\n",
       "      <td>24</td>\n",
       "      <td>11</td>\n",
       "      <td>9</td>\n",
       "      <td>8</td>\n",
       "      <td>2015-12-20 - 2016-01-19</td>\n",
       "      <td>[[1800, 19], [2340, 1], [2430, 1], [2520, 3]]</td>\n",
       "      <td>4</td>\n",
       "    </tr>\n",
       "    <tr>\n",
       "      <th>29</th>\n",
       "      <td>2015-07-23 00:00:00 | Park Hyatt New York | 2</td>\n",
       "      <td>0.999881</td>\n",
       "      <td>24</td>\n",
       "      <td>7</td>\n",
       "      <td>2</td>\n",
       "      <td>13</td>\n",
       "      <td>6</td>\n",
       "      <td>12</td>\n",
       "      <td>0</td>\n",
       "      <td>2015-07-23 - 2015-08-22</td>\n",
       "      <td>[[3255, 2], [3275, 8], [3400, 2], [3455, 8], [...</td>\n",
       "      <td>5</td>\n",
       "    </tr>\n",
       "    <tr>\n",
       "      <th>30</th>\n",
       "      <td>2015-07-23 00:00:00 | Park Hyatt New York | 3</td>\n",
       "      <td>0.999490</td>\n",
       "      <td>24</td>\n",
       "      <td>7</td>\n",
       "      <td>2</td>\n",
       "      <td>14</td>\n",
       "      <td>7</td>\n",
       "      <td>7</td>\n",
       "      <td>0</td>\n",
       "      <td>2015-07-23 - 2015-08-22</td>\n",
       "      <td>[[3255, 2], [3275, 4], [3455, 12], [3600, 6]]</td>\n",
       "      <td>4</td>\n",
       "    </tr>\n",
       "    <tr>\n",
       "      <th>31</th>\n",
       "      <td>2016-01-01 00:00:00 | The Carlyle A Rosewood H...</td>\n",
       "      <td>0.999952</td>\n",
       "      <td>24</td>\n",
       "      <td>7</td>\n",
       "      <td>1</td>\n",
       "      <td>24</td>\n",
       "      <td>12</td>\n",
       "      <td>11</td>\n",
       "      <td>4</td>\n",
       "      <td>2016-01-01 - 2016-01-31</td>\n",
       "      <td>[[1800, 23], [2200, 1]]</td>\n",
       "      <td>2</td>\n",
       "    </tr>\n",
       "    <tr>\n",
       "      <th>32</th>\n",
       "      <td>2015-10-28 00:00:00 | Wyndham Garden Brooklyn ...</td>\n",
       "      <td>0.994755</td>\n",
       "      <td>24</td>\n",
       "      <td>6</td>\n",
       "      <td>1</td>\n",
       "      <td>24</td>\n",
       "      <td>1</td>\n",
       "      <td>11</td>\n",
       "      <td>6</td>\n",
       "      <td>2015-10-28 - 2015-11-27</td>\n",
       "      <td>[[786, 5], [820, 10], [871, 4], [888, 1], [922...</td>\n",
       "      <td>8</td>\n",
       "    </tr>\n",
       "    <tr>\n",
       "      <th>33</th>\n",
       "      <td>2015-12-17 00:00:00 | The Carlyle A Rosewood H...</td>\n",
       "      <td>0.999321</td>\n",
       "      <td>24</td>\n",
       "      <td>7</td>\n",
       "      <td>1</td>\n",
       "      <td>24</td>\n",
       "      <td>12</td>\n",
       "      <td>9</td>\n",
       "      <td>7</td>\n",
       "      <td>2015-12-17 - 2016-01-16</td>\n",
       "      <td>[[1800, 16], [2340, 1], [2520, 5], [2970, 2]]</td>\n",
       "      <td>4</td>\n",
       "    </tr>\n",
       "    <tr>\n",
       "      <th>34</th>\n",
       "      <td>2015-12-30 00:00:00 | The Carlyle A Rosewood H...</td>\n",
       "      <td>0.999946</td>\n",
       "      <td>24</td>\n",
       "      <td>7</td>\n",
       "      <td>1</td>\n",
       "      <td>24</td>\n",
       "      <td>9</td>\n",
       "      <td>10</td>\n",
       "      <td>6</td>\n",
       "      <td>2015-12-30 - 2016-01-29</td>\n",
       "      <td>[[1800, 22], [2200, 2]]</td>\n",
       "      <td>2</td>\n",
       "    </tr>\n",
       "    <tr>\n",
       "      <th>35</th>\n",
       "      <td>2015-07-22 00:00:00 | Hampton Inn Manhattan Ti...</td>\n",
       "      <td>0.840496</td>\n",
       "      <td>24</td>\n",
       "      <td>6</td>\n",
       "      <td>2</td>\n",
       "      <td>12</td>\n",
       "      <td>1</td>\n",
       "      <td>10</td>\n",
       "      <td>0</td>\n",
       "      <td>2015-07-22 - 2015-08-21</td>\n",
       "      <td>[[1241, 2], [1313, 2], [1314, 2], [1403, 2], [...</td>\n",
       "      <td>12</td>\n",
       "    </tr>\n",
       "    <tr>\n",
       "      <th>36</th>\n",
       "      <td>2015-12-27 00:00:00 | The Carlyle A Rosewood H...</td>\n",
       "      <td>0.995286</td>\n",
       "      <td>23</td>\n",
       "      <td>7</td>\n",
       "      <td>1</td>\n",
       "      <td>23</td>\n",
       "      <td>11</td>\n",
       "      <td>9</td>\n",
       "      <td>7</td>\n",
       "      <td>2015-12-27 - 2016-01-26</td>\n",
       "      <td>[[1800, 19], [2200, 2], [2340, 1], [2430, 1]]</td>\n",
       "      <td>4</td>\n",
       "    </tr>\n",
       "    <tr>\n",
       "      <th>37</th>\n",
       "      <td>2015-10-26 00:00:00 | Wyndham Garden Brooklyn ...</td>\n",
       "      <td>0.996229</td>\n",
       "      <td>23</td>\n",
       "      <td>6</td>\n",
       "      <td>1</td>\n",
       "      <td>23</td>\n",
       "      <td>1</td>\n",
       "      <td>10</td>\n",
       "      <td>4</td>\n",
       "      <td>2015-10-26 - 2015-11-25</td>\n",
       "      <td>[[786, 5], [820, 9], [871, 5], [889, 1], [991,...</td>\n",
       "      <td>6</td>\n",
       "    </tr>\n",
       "    <tr>\n",
       "      <th>38</th>\n",
       "      <td>2015-12-31 00:00:00 | The Carlyle A Rosewood H...</td>\n",
       "      <td>0.999925</td>\n",
       "      <td>23</td>\n",
       "      <td>7</td>\n",
       "      <td>1</td>\n",
       "      <td>23</td>\n",
       "      <td>10</td>\n",
       "      <td>10</td>\n",
       "      <td>5</td>\n",
       "      <td>2015-12-31 - 2016-01-30</td>\n",
       "      <td>[[1800, 22], [2200, 1]]</td>\n",
       "      <td>2</td>\n",
       "    </tr>\n",
       "    <tr>\n",
       "      <th>39</th>\n",
       "      <td>2015-12-30 00:00:00 | The Carlyle A Rosewood H...</td>\n",
       "      <td>0.999969</td>\n",
       "      <td>23</td>\n",
       "      <td>7</td>\n",
       "      <td>1</td>\n",
       "      <td>23</td>\n",
       "      <td>10</td>\n",
       "      <td>9</td>\n",
       "      <td>5</td>\n",
       "      <td>2015-12-30 - 2016-01-29</td>\n",
       "      <td>[[1800, 21], [2200, 1], [2340, 1]]</td>\n",
       "      <td>3</td>\n",
       "    </tr>\n",
       "  </tbody>\n",
       "</table>\n",
       "</div>"
      ],
      "text/plain": [
       "                                            Parameter  Final R²  Total Rows  \\\n",
       "0       2015-07-22 00:00:00 | Park Hyatt New York | 3  0.911719          44   \n",
       "1       2015-07-22 00:00:00 | Park Hyatt New York | 2  0.771914          43   \n",
       "2       2015-07-22 00:00:00 | Park Hyatt New York | 1  0.999886          30   \n",
       "3      2015-07-27 00:00:00 | The New York EDITION | 2  0.997681          30   \n",
       "4   2015-07-23 00:00:00 | Newark Liberty Internati...  0.999629          30   \n",
       "5   2015-07-22 00:00:00 | Newark Liberty Internati...  0.999721          30   \n",
       "6      2015-07-29 00:00:00 | The New York EDITION | 3  0.998093          30   \n",
       "7      2015-07-29 00:00:00 | The New York EDITION | 2  0.998138          30   \n",
       "8      2015-07-27 00:00:00 | The New York EDITION | 3  0.997766          30   \n",
       "9      2015-07-25 00:00:00 | The New York EDITION | 2  0.997864          29   \n",
       "10     2015-07-28 00:00:00 | The New York EDITION | 2  0.998020          29   \n",
       "11     2015-07-28 00:00:00 | The New York EDITION | 3  0.997969          29   \n",
       "12     2015-07-25 00:00:00 | The New York EDITION | 3  0.997857          28   \n",
       "13     2015-07-26 00:00:00 | The New York EDITION | 3  0.997648          28   \n",
       "14     2015-07-26 00:00:00 | The New York EDITION | 2  0.998241          28   \n",
       "15      2015-07-22 00:00:00 | Park Hyatt New York | 4  0.999833          26   \n",
       "16  2015-07-23 00:00:00 | Hampton Inn Madison Squa...  0.998020          26   \n",
       "17  2015-07-23 00:00:00 | Newark Liberty Internati...  0.999778          26   \n",
       "18  2015-12-20 00:00:00 | The Carlyle A Rosewood H...  0.998024          26   \n",
       "19  2015-07-22 00:00:00 | Newark Liberty Internati...  0.999744          26   \n",
       "20  2015-12-18 00:00:00 | The Carlyle A Rosewood H...  0.998889          25   \n",
       "21  2016-01-01 00:00:00 | The Carlyle A Rosewood H...  0.999940          25   \n",
       "22  2016-01-01 00:00:00 | The Carlyle A Rosewood H...  0.999932          25   \n",
       "23  2015-12-20 00:00:00 | The Carlyle A Rosewood H...  0.998709          25   \n",
       "24  2015-12-30 00:00:00 | The Carlyle A Rosewood H...  0.999958          25   \n",
       "25  2015-12-19 00:00:00 | The Carlyle A Rosewood H...  0.998172          25   \n",
       "26  2015-12-31 00:00:00 | The Carlyle A Rosewood H...  0.999933          25   \n",
       "27  2015-12-31 00:00:00 | The Carlyle A Rosewood H...  0.999938          25   \n",
       "28  2015-12-20 00:00:00 | The Carlyle A Rosewood H...  0.996865          24   \n",
       "29      2015-07-23 00:00:00 | Park Hyatt New York | 2  0.999881          24   \n",
       "30      2015-07-23 00:00:00 | Park Hyatt New York | 3  0.999490          24   \n",
       "31  2016-01-01 00:00:00 | The Carlyle A Rosewood H...  0.999952          24   \n",
       "32  2015-10-28 00:00:00 | Wyndham Garden Brooklyn ...  0.994755          24   \n",
       "33  2015-12-17 00:00:00 | The Carlyle A Rosewood H...  0.999321          24   \n",
       "34  2015-12-30 00:00:00 | The Carlyle A Rosewood H...  0.999946          24   \n",
       "35  2015-07-22 00:00:00 | Hampton Inn Manhattan Ti...  0.840496          24   \n",
       "36  2015-12-27 00:00:00 | The Carlyle A Rosewood H...  0.995286          23   \n",
       "37  2015-10-26 00:00:00 | Wyndham Garden Brooklyn ...  0.996229          23   \n",
       "38  2015-12-31 00:00:00 | The Carlyle A Rosewood H...  0.999925          23   \n",
       "39  2015-12-30 00:00:00 | The Carlyle A Rosewood H...  0.999969          23   \n",
       "\n",
       "    Unique WeekDays  Unique Snapshot IDs  Unique Checkin Dates  Unique Rooms  \\\n",
       "0                 7                    2                    23            11   \n",
       "1                 7                    2                    22             8   \n",
       "2                 7                    2                    16             7   \n",
       "3                 7                    1                    30             1   \n",
       "4                 4                    2                    15             1   \n",
       "5                 4                    2                    15             1   \n",
       "6                 7                    1                    30             1   \n",
       "7                 7                    1                    30             1   \n",
       "8                 7                    1                    30             1   \n",
       "9                 7                    1                    29             1   \n",
       "10                7                    1                    29             1   \n",
       "11                7                    1                    29             1   \n",
       "12                7                    1                    28             1   \n",
       "13                7                    1                    28             1   \n",
       "14                7                    1                    28             1   \n",
       "15                7                    2                    15             9   \n",
       "16                5                    2                    13             1   \n",
       "17                4                    2                    13             1   \n",
       "18                7                    1                    26            11   \n",
       "19                3                    2                    13             1   \n",
       "20                7                    1                    25            14   \n",
       "21                7                    1                    25            12   \n",
       "22                7                    1                    25            12   \n",
       "23                7                    1                    25            11   \n",
       "24                7                    1                    25            10   \n",
       "25                7                    1                    25            13   \n",
       "26                7                    1                    25            11   \n",
       "27                7                    1                    25            11   \n",
       "28                7                    1                    24            11   \n",
       "29                7                    2                    13             6   \n",
       "30                7                    2                    14             7   \n",
       "31                7                    1                    24            12   \n",
       "32                6                    1                    24             1   \n",
       "33                7                    1                    24            12   \n",
       "34                7                    1                    24             9   \n",
       "35                6                    2                    12             1   \n",
       "36                7                    1                    23            11   \n",
       "37                6                    1                    23             1   \n",
       "38                7                    1                    23            10   \n",
       "39                7                    1                    23            10   \n",
       "\n",
       "    Weekend Count  Holiday Connected Count               Data Range  \\\n",
       "0              17                        0  2015-07-22 - 2015-08-21   \n",
       "1              18                        0  2015-07-22 - 2015-08-21   \n",
       "2              12                        0  2015-07-22 - 2015-08-21   \n",
       "3              12                        0  2015-07-27 - 2015-08-26   \n",
       "4               0                        0  2015-07-23 - 2015-08-22   \n",
       "5               0                        0  2015-07-22 - 2015-08-21   \n",
       "6              13                        0  2015-07-29 - 2015-08-28   \n",
       "7              13                        0  2015-07-29 - 2015-08-28   \n",
       "8              12                        0  2015-07-27 - 2015-08-26   \n",
       "9              12                        0  2015-07-25 - 2015-08-24   \n",
       "10             11                        0  2015-07-28 - 2015-08-27   \n",
       "11             11                        0  2015-07-28 - 2015-08-27   \n",
       "12             12                        0  2015-07-25 - 2015-08-24   \n",
       "13             12                        0  2015-07-26 - 2015-08-25   \n",
       "14             12                        0  2015-07-26 - 2015-08-25   \n",
       "15             10                        0  2015-07-22 - 2015-08-21   \n",
       "16             12                        0  2015-07-23 - 2015-08-22   \n",
       "17              2                        0  2015-07-23 - 2015-08-22   \n",
       "18              9                       10  2015-12-20 - 2016-01-19   \n",
       "19              0                        0  2015-07-22 - 2015-08-21   \n",
       "20             10                        8  2015-12-18 - 2016-01-17   \n",
       "21             11                        5  2016-01-01 - 2016-01-31   \n",
       "22             11                        5  2016-01-01 - 2016-01-31   \n",
       "23             10                        9  2015-12-20 - 2016-01-19   \n",
       "24             10                        7  2015-12-30 - 2016-01-29   \n",
       "25             10                        8  2015-12-19 - 2016-01-18   \n",
       "26             11                        6  2015-12-31 - 2016-01-30   \n",
       "27             11                        6  2015-12-31 - 2016-01-30   \n",
       "28              9                        8  2015-12-20 - 2016-01-19   \n",
       "29             12                        0  2015-07-23 - 2015-08-22   \n",
       "30              7                        0  2015-07-23 - 2015-08-22   \n",
       "31             11                        4  2016-01-01 - 2016-01-31   \n",
       "32             11                        6  2015-10-28 - 2015-11-27   \n",
       "33              9                        7  2015-12-17 - 2016-01-16   \n",
       "34             10                        6  2015-12-30 - 2016-01-29   \n",
       "35             10                        0  2015-07-22 - 2015-08-21   \n",
       "36              9                        7  2015-12-27 - 2016-01-26   \n",
       "37             10                        4  2015-10-26 - 2015-11-25   \n",
       "38             10                        5  2015-12-31 - 2016-01-30   \n",
       "39              9                        5  2015-12-30 - 2016-01-29   \n",
       "\n",
       "                                         Price Points  Price Points length  \n",
       "0   [[3255, 4], [3275, 6], [3400, 1], [3455, 22], ...                    5  \n",
       "1   [[3255, 6], [3275, 8], [3400, 2], [3455, 14], ...                    5  \n",
       "2   [[3378, 4], [3588, 6], [3650, 2], [3678, 12], ...                    5  \n",
       "3   [[1900, 4], [1925, 4], [1950, 5], [1951, 4], [...                    7  \n",
       "4   [[785, 2], [855, 6], [962, 2], [970, 2], [991,...                    9  \n",
       "5   [[785, 2], [828, 2], [846, 4], [944, 2], [956,...                   13  \n",
       "6   [[1900, 4], [1925, 5], [1950, 5], [1951, 4], [...                    7  \n",
       "7   [[1900, 5], [1925, 5], [1950, 4], [1951, 4], [...                    7  \n",
       "8   [[1900, 5], [1925, 4], [1950, 4], [1951, 5], [...                    7  \n",
       "9   [[1900, 4], [1925, 4], [1950, 4], [1951, 4], [...                    7  \n",
       "10  [[1900, 3], [1925, 5], [1950, 5], [1951, 4], [...                    7  \n",
       "11  [[1900, 5], [1925, 5], [1950, 3], [1951, 4], [...                    7  \n",
       "12  [[1900, 4], [1925, 4], [1950, 4], [1951, 3], [...                    7  \n",
       "13  [[1900, 3], [1925, 3], [1950, 4], [1951, 5], [...                    7  \n",
       "14  [[1900, 4], [1925, 4], [1950, 3], [1951, 4], [...                    7  \n",
       "15      [[3588, 4], [3650, 2], [3678, 14], [3750, 6]]                    4  \n",
       "16  [[1188, 2], [1254, 2], [1265, 2], [1278, 2], [...                   13  \n",
       "17  [[845, 2], [879, 2], [881, 4], [915, 6], [1015...                    8  \n",
       "18      [[1800, 19], [2340, 1], [2520, 4], [2970, 2]]                    4  \n",
       "19  [[836, 2], [854, 2], [861, 2], [872, 2], [879,...                   11  \n",
       "20      [[1800, 17], [2340, 1], [2520, 5], [2970, 2]]                    4  \n",
       "21                            [[1800, 23], [2200, 2]]                    2  \n",
       "22                            [[1800, 23], [2200, 2]]                    2  \n",
       "23                 [[1800, 19], [2520, 5], [2790, 1]]                    3  \n",
       "24                 [[1800, 22], [2200, 2], [2340, 1]]                    3  \n",
       "25      [[1800, 18], [2340, 1], [2520, 5], [2970, 1]]                    4  \n",
       "26                            [[1800, 23], [2200, 2]]                    2  \n",
       "27                            [[1800, 23], [2200, 2]]                    2  \n",
       "28      [[1800, 19], [2340, 1], [2430, 1], [2520, 3]]                    4  \n",
       "29  [[3255, 2], [3275, 8], [3400, 2], [3455, 8], [...                    5  \n",
       "30      [[3255, 2], [3275, 4], [3455, 12], [3600, 6]]                    4  \n",
       "31                            [[1800, 23], [2200, 1]]                    2  \n",
       "32  [[786, 5], [820, 10], [871, 4], [888, 1], [922...                    8  \n",
       "33      [[1800, 16], [2340, 1], [2520, 5], [2970, 2]]                    4  \n",
       "34                            [[1800, 22], [2200, 2]]                    2  \n",
       "35  [[1241, 2], [1313, 2], [1314, 2], [1403, 2], [...                   12  \n",
       "36      [[1800, 19], [2200, 2], [2340, 1], [2430, 1]]                    4  \n",
       "37  [[786, 5], [820, 9], [871, 5], [889, 1], [991,...                    6  \n",
       "38                            [[1800, 22], [2200, 1]]                    2  \n",
       "39                 [[1800, 21], [2200, 1], [2340, 1]]                    3  "
      ]
     },
     "metadata": {},
     "output_type": "display_data"
    },
    {
     "name": "stdout",
     "output_type": "stream",
     "text": [
      "\n",
      "Detailed Metrics for Suspected Outliers:\n"
     ]
    },
    {
     "data": {
      "text/html": [
       "<div>\n",
       "<style scoped>\n",
       "    .dataframe tbody tr th:only-of-type {\n",
       "        vertical-align: middle;\n",
       "    }\n",
       "\n",
       "    .dataframe tbody tr th {\n",
       "        vertical-align: top;\n",
       "    }\n",
       "\n",
       "    .dataframe thead th {\n",
       "        text-align: right;\n",
       "    }\n",
       "</style>\n",
       "<table border=\"1\" class=\"dataframe\">\n",
       "  <thead>\n",
       "    <tr style=\"text-align: right;\">\n",
       "      <th></th>\n",
       "      <th>Parameter</th>\n",
       "      <th>Final R²</th>\n",
       "      <th>Total Rows</th>\n",
       "      <th>Unique WeekDays</th>\n",
       "      <th>Unique Snapshot IDs</th>\n",
       "      <th>Unique Checkin Dates</th>\n",
       "      <th>Unique Rooms</th>\n",
       "      <th>Weekend Count</th>\n",
       "      <th>Holiday Connected Count</th>\n",
       "      <th>Data Range</th>\n",
       "      <th>Price Points</th>\n",
       "      <th>Price Points length</th>\n",
       "    </tr>\n",
       "  </thead>\n",
       "  <tbody>\n",
       "  </tbody>\n",
       "</table>\n",
       "</div>"
      ],
      "text/plain": [
       "Empty DataFrame\n",
       "Columns: [Parameter, Final R², Total Rows, Unique WeekDays, Unique Snapshot IDs, Unique Checkin Dates, Unique Rooms, Weekend Count, Holiday Connected Count, Data Range, Price Points, Price Points length]\n",
       "Index: []"
      ]
     },
     "metadata": {},
     "output_type": "display_data"
    }
   ],
   "source": [
    "import pandas as pd\n",
    "import holidays\n",
    "\n",
    "# Create a US holidays object for the years 2014-2016.\n",
    "us_holidays = holidays.US(years=[2014, 2015, 2016])\n",
    "\n",
    "def is_connected_to_holiday(checkin_date, window_before=3, window_after=1):\n",
    "    checkin_date = pd.to_datetime(checkin_date)\n",
    "    start_window = checkin_date - pd.Timedelta(days=window_before)\n",
    "    end_window = checkin_date + pd.Timedelta(days=window_after)\n",
    "    for holiday_date in us_holidays.keys():\n",
    "        holiday_ts = pd.to_datetime(holiday_date)\n",
    "        if start_window <= holiday_ts <= end_window:\n",
    "            return True\n",
    "    return False\n",
    "\n",
    "summary_metrics = []\n",
    "for result in results_stagnant:  # (Use results from the stagnant or basic loop as needed)\n",
    "    param = result['params']\n",
    "    df_subset = load_relevant_data(param, data_filtered)\n",
    "    total_rows = df_subset.shape[0]\n",
    "    \n",
    "    unique_weekdays = df_subset['WeekDay'].nunique() if 'WeekDay' in df_subset.columns else None\n",
    "    unique_snapshot_ids = df_subset['Snapshot ID'].nunique() if 'Snapshot ID' in df_subset.columns else None\n",
    "    unique_checkin_dates = df_subset['Checkin Date'].nunique() if 'Checkin Date' in df_subset.columns else None\n",
    "    unique_rooms = df_subset['Available Rooms'].nunique() if 'Available Rooms' in df_subset.columns else None\n",
    "    \n",
    "    weekend_count = df_subset[df_subset['WeekDay'].isin([\"Friday\", \"Saturday\", \"Sunday\"])].shape[0]\n",
    "    holiday_connected_count = df_subset[df_subset['Checkin Date'].apply(is_connected_to_holiday)].shape[0]\n",
    "    \n",
    "    snapshot_dt = pd.to_datetime(param['Snapshot Date'])\n",
    "    data_range = f\"{snapshot_dt.strftime('%Y-%m-%d')} - {(snapshot_dt + pd.Timedelta(days=30)).strftime('%Y-%m-%d')}\"\n",
    "    \n",
    "    # Price metrics\n",
    "    if total_rows > 0:\n",
    "        discount_price_min = df_subset[\"Discount Price\"].min()\n",
    "        discount_price_max = df_subset[\"Discount Price\"].max()\n",
    "        discount_price_mean = df_subset[\"Discount Price\"].mean()\n",
    "        discount_price_std = df_subset[\"Discount Price\"].std()\n",
    "        price_range_percent = ((discount_price_max - discount_price_min) / discount_price_min) * 100 if discount_price_min != 0 else None\n",
    "        price_counts = df_subset[\"Discount Price\"].value_counts().sort_index()\n",
    "        price_points = [[price, count] for price, count in price_counts.items()]\n",
    "    else:\n",
    "        discount_price_min = discount_price_max = discount_price_mean = discount_price_std = price_range_percent = None\n",
    "        price_points = []\n",
    "    \n",
    "    param_key = f\"{param['Snapshot Date']} | {param['Hotel Name']} | {param['Discount Code']}\"\n",
    "    \n",
    "    summary_metrics.append({\n",
    "        \"Parameter\": param_key,\n",
    "        \"Final R²\": result['final_r2'],\n",
    "        \"Total Rows\": total_rows,\n",
    "        \"Unique WeekDays\": unique_weekdays,\n",
    "        \"Unique Snapshot IDs\": unique_snapshot_ids,\n",
    "        \"Unique Checkin Dates\": unique_checkin_dates,\n",
    "        \"Unique Rooms\": unique_rooms,\n",
    "        \"Weekend Count\": weekend_count,\n",
    "        \"Holiday Connected Count\": holiday_connected_count,\n",
    "        \"Data Range\": data_range,\n",
    "        \"Price Points\": price_points,\n",
    "        \"Price Points length\": len(price_points),\n",
    "    })\n",
    "\n",
    "df_metrics = pd.DataFrame(summary_metrics)\n",
    "\n",
    "# Split into groups based on final R² (good predictions vs. suspected outliers)\n",
    "df_predicting_well = df_metrics[df_metrics[\"Final R²\"] >= 0]\n",
    "df_outliers = df_metrics[df_metrics[\"Final R²\"] < 0]\n",
    "\n",
    "# Compute averages for numeric columns (price metrics will be averaged only for percentage metrics)\n",
    "avg_good = df_predicting_well.mean(numeric_only=True)\n",
    "avg_bad = df_outliers.mean(numeric_only=True)\n",
    "\n",
    "avg_table = pd.DataFrame({\"Good Predictions\": avg_good, \"Bad Predictions\": avg_bad})\n",
    "print(\"Average Metrics Comparison:\")\n",
    "display(avg_table)\n",
    "\n",
    "print(\"\\nDetailed Metrics for Good Predictions:\")\n",
    "display(df_predicting_well)\n",
    "print(\"\\nDetailed Metrics for Suspected Outliers:\")\n",
    "display(df_outliers)"
   ]
  },
  {
   "cell_type": "markdown",
   "metadata": {},
   "source": [
    "\n",
    " **Average Metrics Comparison**\n",
    "\n",
    "| Metric                      | Good Predictions | Bad Predictions  |\n",
    "|-----------------------------|------------------|------------------|\n",
    "| Final R²                    | 0.999862         | -0.603804        |\n",
    "| Total Rows                  | 27.677419        | 24.888889        |\n",
    "| Unique WeekDays             | 6.419355         | 7.000000         |\n",
    "| Unique Snapshot IDs         | 1.354839         | 1.111111         |\n",
    "| Unique Checkin Dates        | 22.580645        | 23.666667        |\n",
    "| Unique Rooms                | 5.225806         | 9.333333         |\n",
    "| Weekend Count               | 9.741935         | 11.000000        |\n",
    "| Holiday Connected Count     | 2.548387         | 4.111111         |\n",
    "| Price Points Length         | 6.419355         | 2.888889         |\n",
    "\n",
    "*Note: The current dataset used for model training did not include the \"holiday connected\" feature. The holiday connected count is computed solely for this analysis.*\n",
    "\n",
    "**Key Observations**\n",
    "\n",
    "- **Overall Quality:**  \n",
    "  - **Similarities:**  \n",
    "  Both groups have comparable totals for rows, unique weekdays, snapshot IDs, and check-in dates.\n",
    "\n",
    "  - **Differences:**  \n",
    "  The outlier group shows notably higher variability in unique rooms (9.33 vs. 5.23) and a higher holiday connected count (4.11 vs. 2.55).\n",
    "\n",
    "- **Outlier Behavior: Two Subgroups **  \n",
    "  1. **The Carlyle A Rosewood Group:**  \n",
    "   - **Performance:** Final R² values are very low or negative.  \n",
    "   - **Price Data:** Limited price variability (there are only unique 2 price points per data set), with many entries concentrated at one price.  \n",
    "   - **Other Metrics:** Higher unique rooms and holiday connected counts suggest inconsistencies in the data for this hotel.\n",
    "\n",
    "  2. **The New York EDITION and Park Hyatt New York Group:**  \n",
    "    - **Performance:** Despite being flagged as outliers, these cases exhibit high final R² (good model performance).  \n",
    "    - **Price Data:** They display greater diversity in price points and more consistent room data, which might be influenced by market factors not captured in the current model.\n",
    "\n",
    "\n",
    "\n",
    "**Next Steps and Conclusions**\n",
    "\n",
    "- The overall data quality appears acceptable. Although adding the holiday connected feature is an option, my intuition is that it may not significantly improve the model—and could potentially add more noise.\n",
    "- The limited price variability in the Carlyle A Rosewood subgroup is a promising direction for further investigation.\n",
    "- The immediate next step should be to examine the algorithm's stopping criteria. In particular, we need to understand why the active sampling stops after only 3 requests and explore the effects of modifying this behavior to request more data points before termination.\n",
    "\n"
   ]
  },
  {
   "cell_type": "markdown",
   "metadata": {},
   "source": [
    "#### Why do we stop? (Minimum Sample Threshold)"
   ]
  },
  {
   "cell_type": "markdown",
   "metadata": {},
   "source": [
    "**Questions**: \n",
    "- Why did the model stop sampling after 3 iterations? \n",
    "- what would happen if we set a minimum number of iterations (higher)?"
   ]
  },
  {
   "cell_type": "markdown",
   "metadata": {},
   "source": [
    "##### Debugging the Stop\n"
   ]
  },
  {
   "cell_type": "markdown",
   "metadata": {},
   "source": [
    "\n",
    "In this section, we investigate why the basic active sampling loop stops after only a few iterations. We focus on three parameter combinations from the suspected outlier group:\n",
    "- **params_mostData[9]** (The New York EDITION)\n",
    "- **params_mostData[21]** (The Carlyle A Rosewood)\n",
    "- **params_mostData[29]** (Park Hyatt New York)\n",
    "\n",
    "We use a debug version of the active sampling loop that prints:\n",
    "- The training and candidate indices at each iteration.\n",
    "- The uncertainty values for each candidate.\n",
    "- The final training Data.\n",
    "- The maximum uncertainty and the chosen candidate index.\n",
    "- The current `R²` score.\n",
    "\n",
    "This information should shed light on why the loop is stopping early, helping us determine if a higher minimum sample threshold might be necessary.\n"
   ]
  },
  {
   "cell_type": "code",
   "execution_count": 35,
   "metadata": {},
   "outputs": [
    {
     "name": "stdout",
     "output_type": "stream",
     "text": [
      "--------------------------------------------------\n",
      "Debugging for parameter: 2015-07-25 00:00:00 | The New York EDITION | 2\n",
      "Iteration Details:\n"
     ]
    },
    {
     "data": {
      "text/html": [
       "<div>\n",
       "<style scoped>\n",
       "    .dataframe tbody tr th:only-of-type {\n",
       "        vertical-align: middle;\n",
       "    }\n",
       "\n",
       "    .dataframe tbody tr th {\n",
       "        vertical-align: top;\n",
       "    }\n",
       "\n",
       "    .dataframe thead th {\n",
       "        text-align: right;\n",
       "    }\n",
       "</style>\n",
       "<table border=\"1\" class=\"dataframe\">\n",
       "  <thead>\n",
       "    <tr style=\"text-align: right;\">\n",
       "      <th></th>\n",
       "      <th>Iteration</th>\n",
       "      <th>Training Indices</th>\n",
       "      <th>Candidate Indices</th>\n",
       "      <th>Candidate Uncertainties</th>\n",
       "      <th>Max Uncertainty</th>\n",
       "      <th>Chosen Candidate</th>\n",
       "      <th>Current R²</th>\n",
       "    </tr>\n",
       "  </thead>\n",
       "  <tbody>\n",
       "    <tr>\n",
       "      <th>0</th>\n",
       "      <td>0</td>\n",
       "      <td>0, 14, 28</td>\n",
       "      <td>1, 2, 3, 4, 5, 6, 7, 8, 9, 10, 11, 12, 13, 15,...</td>\n",
       "      <td>[1.2173, 0.8452, 1.1726, 0.7154, 1.2184, 1.027...</td>\n",
       "      <td>1.2191</td>\n",
       "      <td>18</td>\n",
       "      <td>0.4704</td>\n",
       "    </tr>\n",
       "    <tr>\n",
       "      <th>1</th>\n",
       "      <td>1</td>\n",
       "      <td>0, 14, 18, 28</td>\n",
       "      <td>1, 2, 3, 4, 5, 6, 7, 8, 9, 10, 11, 12, 13, 15,...</td>\n",
       "      <td>[1.0566, 0.7592, 1.028, 0.6496, 1.0274, 0.9143...</td>\n",
       "      <td>1.0593</td>\n",
       "      <td>21</td>\n",
       "      <td>0.5152</td>\n",
       "    </tr>\n",
       "    <tr>\n",
       "      <th>2</th>\n",
       "      <td>2</td>\n",
       "      <td>0, 14, 18, 21, 28</td>\n",
       "      <td>1, 2, 3, 4, 5, 6, 7, 8, 9, 10, 11, 12, 13, 15,...</td>\n",
       "      <td>[0.9906, 0.7036, 0.9613, 0.5998, 0.9636, 0.851...</td>\n",
       "      <td>0.9906</td>\n",
       "      <td>1</td>\n",
       "      <td>0.5028</td>\n",
       "    </tr>\n",
       "    <tr>\n",
       "      <th>3</th>\n",
       "      <td>3</td>\n",
       "      <td>0, 1, 14, 18, 21, 28</td>\n",
       "      <td>2, 3, 4, 5, 6, 7, 8, 9, 10, 11, 12, 13, 15, 16...</td>\n",
       "      <td>[0.8918, 0.8924, 0.8026, 0.8114, 1.0366, 0.984...</td>\n",
       "      <td>1.1105</td>\n",
       "      <td>9</td>\n",
       "      <td>0.7017</td>\n",
       "    </tr>\n",
       "    <tr>\n",
       "      <th>4</th>\n",
       "      <td>4</td>\n",
       "      <td>0, 1, 9, 14, 18, 21, 28</td>\n",
       "      <td>2, 3, 4, 5, 6, 7, 8, 10, 11, 12, 13, 15, 16, 1...</td>\n",
       "      <td>[0.7648, 0.7697, 0.6261, 0.7023, 0.6341, 0.729...</td>\n",
       "      <td>1.0270</td>\n",
       "      <td>25</td>\n",
       "      <td>0.7307</td>\n",
       "    </tr>\n",
       "    <tr>\n",
       "      <th>5</th>\n",
       "      <td>5</td>\n",
       "      <td>0, 1, 9, 14, 18, 21, 25, 28</td>\n",
       "      <td>2, 3, 4, 5, 6, 7, 8, 10, 11, 12, 13, 15, 16, 1...</td>\n",
       "      <td>[0.2389, 0.2408, 0.1881, 0.1962, 0.1697, 0.188...</td>\n",
       "      <td>0.4287</td>\n",
       "      <td>20</td>\n",
       "      <td>0.9706</td>\n",
       "    </tr>\n",
       "    <tr>\n",
       "      <th>6</th>\n",
       "      <td>6</td>\n",
       "      <td>0, 1, 9, 14, 18, 20, 21, 25, 28</td>\n",
       "      <td>2, 3, 4, 5, 6, 7, 8, 10, 11, 12, 13, 15, 16, 1...</td>\n",
       "      <td>[0.1787, 0.1835, 0.1525, 0.1526, 0.1352, 0.148...</td>\n",
       "      <td>0.3421</td>\n",
       "      <td>24</td>\n",
       "      <td>0.9872</td>\n",
       "    </tr>\n",
       "    <tr>\n",
       "      <th>7</th>\n",
       "      <td>7</td>\n",
       "      <td>0, 1, 9, 14, 18, 20, 21, 24, 25, 28</td>\n",
       "      <td>2, 3, 4, 5, 6, 7, 8, 10, 11, 12, 13, 15, 16, 1...</td>\n",
       "      <td>[0.1381, 0.1454, 0.1282, 0.1233, 0.1141, 0.120...</td>\n",
       "      <td>0.1836</td>\n",
       "      <td>13</td>\n",
       "      <td>0.9946</td>\n",
       "    </tr>\n",
       "    <tr>\n",
       "      <th>8</th>\n",
       "      <td>8</td>\n",
       "      <td>0, 1, 9, 13, 14, 18, 20, 21, 24, 25, 28</td>\n",
       "      <td>2, 3, 4, 5, 6, 7, 8, 10, 11, 12, 15, 16, 17, 1...</td>\n",
       "      <td>[0.0965, 0.0989, 0.1148, 0.1127, 0.0927, 0.096...</td>\n",
       "      <td>0.1412</td>\n",
       "      <td>11</td>\n",
       "      <td>0.9955</td>\n",
       "    </tr>\n",
       "    <tr>\n",
       "      <th>9</th>\n",
       "      <td>9</td>\n",
       "      <td>0, 1, 9, 11, 13, 14, 18, 20, 21, 24, 25, 28</td>\n",
       "      <td>2, 3, 4, 5, 6, 7, 8, 10, 12, 15, 16, 17, 19, 2...</td>\n",
       "      <td>[0.093, 0.0938, 0.0835, 0.109, 0.0848, 0.0932,...</td>\n",
       "      <td>0.1350</td>\n",
       "      <td>8</td>\n",
       "      <td>0.9956</td>\n",
       "    </tr>\n",
       "    <tr>\n",
       "      <th>10</th>\n",
       "      <td>10</td>\n",
       "      <td>0, 1, 8, 9, 11, 13, 14, 18, 20, 21, 24, 25, 28</td>\n",
       "      <td>2, 3, 4, 5, 6, 7, 10, 12, 15, 16, 17, 19, 22, ...</td>\n",
       "      <td>[0.0901, 0.0899, 0.081, 0.0837, 0.0821, 0.0842...</td>\n",
       "      <td>0.1178</td>\n",
       "      <td>22</td>\n",
       "      <td>0.9970</td>\n",
       "    </tr>\n",
       "    <tr>\n",
       "      <th>11</th>\n",
       "      <td>11</td>\n",
       "      <td>0, 1, 8, 9, 11, 13, 14, 18, 20, 21, 22, 24, 25...</td>\n",
       "      <td>2, 3, 4, 5, 6, 7, 10, 12, 15, 16, 17, 19, 23, ...</td>\n",
       "      <td>[0.0849, 0.0859, 0.0786, 0.0811, 0.0785, 0.080...</td>\n",
       "      <td>0.0993</td>\n",
       "      <td>19</td>\n",
       "      <td>0.9971</td>\n",
       "    </tr>\n",
       "    <tr>\n",
       "      <th>12</th>\n",
       "      <td>12</td>\n",
       "      <td>0, 1, 8, 9, 11, 13, 14, 18, 19, 20, 21, 22, 24...</td>\n",
       "      <td>2, 3, 4, 5, 6, 7, 10, 12, 15, 16, 17, 23, 26, 27</td>\n",
       "      <td>[0.0798, 0.081, 0.0744, 0.0785, 0.0753, 0.0779...</td>\n",
       "      <td>0.0872</td>\n",
       "      <td>15</td>\n",
       "      <td>0.9980</td>\n",
       "    </tr>\n",
       "    <tr>\n",
       "      <th>13</th>\n",
       "      <td>13</td>\n",
       "      <td>0, 1, 8, 9, 11, 13, 14, 15, 18, 19, 20, 21, 22...</td>\n",
       "      <td>2, 3, 4, 5, 6, 7, 10, 12, 16, 17, 23, 26, 27</td>\n",
       "      <td>[0.0779, 0.0785, 0.0729, 0.0746, 0.0735, 0.075...</td>\n",
       "      <td>0.0785</td>\n",
       "      <td>3</td>\n",
       "      <td>0.9981</td>\n",
       "    </tr>\n",
       "    <tr>\n",
       "      <th>14</th>\n",
       "      <td>14</td>\n",
       "      <td>0, 1, 3, 8, 9, 11, 13, 14, 15, 18, 19, 20, 21,...</td>\n",
       "      <td>2, 4, 5, 6, 7, 10, 12, 16, 17, 23, 26, 27</td>\n",
       "      <td>[0.0667, 0.0749, 0.0749, 0.0685, 0.0691, 0.068...</td>\n",
       "      <td>0.0811</td>\n",
       "      <td>26</td>\n",
       "      <td>0.9979</td>\n",
       "    </tr>\n",
       "  </tbody>\n",
       "</table>\n",
       "</div>"
      ],
      "text/plain": [
       "    Iteration                                   Training Indices  \\\n",
       "0           0                                          0, 14, 28   \n",
       "1           1                                      0, 14, 18, 28   \n",
       "2           2                                  0, 14, 18, 21, 28   \n",
       "3           3                               0, 1, 14, 18, 21, 28   \n",
       "4           4                            0, 1, 9, 14, 18, 21, 28   \n",
       "5           5                        0, 1, 9, 14, 18, 21, 25, 28   \n",
       "6           6                    0, 1, 9, 14, 18, 20, 21, 25, 28   \n",
       "7           7                0, 1, 9, 14, 18, 20, 21, 24, 25, 28   \n",
       "8           8            0, 1, 9, 13, 14, 18, 20, 21, 24, 25, 28   \n",
       "9           9        0, 1, 9, 11, 13, 14, 18, 20, 21, 24, 25, 28   \n",
       "10         10     0, 1, 8, 9, 11, 13, 14, 18, 20, 21, 24, 25, 28   \n",
       "11         11  0, 1, 8, 9, 11, 13, 14, 18, 20, 21, 22, 24, 25...   \n",
       "12         12  0, 1, 8, 9, 11, 13, 14, 18, 19, 20, 21, 22, 24...   \n",
       "13         13  0, 1, 8, 9, 11, 13, 14, 15, 18, 19, 20, 21, 22...   \n",
       "14         14  0, 1, 3, 8, 9, 11, 13, 14, 15, 18, 19, 20, 21,...   \n",
       "\n",
       "                                    Candidate Indices  \\\n",
       "0   1, 2, 3, 4, 5, 6, 7, 8, 9, 10, 11, 12, 13, 15,...   \n",
       "1   1, 2, 3, 4, 5, 6, 7, 8, 9, 10, 11, 12, 13, 15,...   \n",
       "2   1, 2, 3, 4, 5, 6, 7, 8, 9, 10, 11, 12, 13, 15,...   \n",
       "3   2, 3, 4, 5, 6, 7, 8, 9, 10, 11, 12, 13, 15, 16...   \n",
       "4   2, 3, 4, 5, 6, 7, 8, 10, 11, 12, 13, 15, 16, 1...   \n",
       "5   2, 3, 4, 5, 6, 7, 8, 10, 11, 12, 13, 15, 16, 1...   \n",
       "6   2, 3, 4, 5, 6, 7, 8, 10, 11, 12, 13, 15, 16, 1...   \n",
       "7   2, 3, 4, 5, 6, 7, 8, 10, 11, 12, 13, 15, 16, 1...   \n",
       "8   2, 3, 4, 5, 6, 7, 8, 10, 11, 12, 15, 16, 17, 1...   \n",
       "9   2, 3, 4, 5, 6, 7, 8, 10, 12, 15, 16, 17, 19, 2...   \n",
       "10  2, 3, 4, 5, 6, 7, 10, 12, 15, 16, 17, 19, 22, ...   \n",
       "11  2, 3, 4, 5, 6, 7, 10, 12, 15, 16, 17, 19, 23, ...   \n",
       "12   2, 3, 4, 5, 6, 7, 10, 12, 15, 16, 17, 23, 26, 27   \n",
       "13       2, 3, 4, 5, 6, 7, 10, 12, 16, 17, 23, 26, 27   \n",
       "14          2, 4, 5, 6, 7, 10, 12, 16, 17, 23, 26, 27   \n",
       "\n",
       "                              Candidate Uncertainties  Max Uncertainty  \\\n",
       "0   [1.2173, 0.8452, 1.1726, 0.7154, 1.2184, 1.027...           1.2191   \n",
       "1   [1.0566, 0.7592, 1.028, 0.6496, 1.0274, 0.9143...           1.0593   \n",
       "2   [0.9906, 0.7036, 0.9613, 0.5998, 0.9636, 0.851...           0.9906   \n",
       "3   [0.8918, 0.8924, 0.8026, 0.8114, 1.0366, 0.984...           1.1105   \n",
       "4   [0.7648, 0.7697, 0.6261, 0.7023, 0.6341, 0.729...           1.0270   \n",
       "5   [0.2389, 0.2408, 0.1881, 0.1962, 0.1697, 0.188...           0.4287   \n",
       "6   [0.1787, 0.1835, 0.1525, 0.1526, 0.1352, 0.148...           0.3421   \n",
       "7   [0.1381, 0.1454, 0.1282, 0.1233, 0.1141, 0.120...           0.1836   \n",
       "8   [0.0965, 0.0989, 0.1148, 0.1127, 0.0927, 0.096...           0.1412   \n",
       "9   [0.093, 0.0938, 0.0835, 0.109, 0.0848, 0.0932,...           0.1350   \n",
       "10  [0.0901, 0.0899, 0.081, 0.0837, 0.0821, 0.0842...           0.1178   \n",
       "11  [0.0849, 0.0859, 0.0786, 0.0811, 0.0785, 0.080...           0.0993   \n",
       "12  [0.0798, 0.081, 0.0744, 0.0785, 0.0753, 0.0779...           0.0872   \n",
       "13  [0.0779, 0.0785, 0.0729, 0.0746, 0.0735, 0.075...           0.0785   \n",
       "14  [0.0667, 0.0749, 0.0749, 0.0685, 0.0691, 0.068...           0.0811   \n",
       "\n",
       "    Chosen Candidate  Current R²  \n",
       "0                 18      0.4704  \n",
       "1                 21      0.5152  \n",
       "2                  1      0.5028  \n",
       "3                  9      0.7017  \n",
       "4                 25      0.7307  \n",
       "5                 20      0.9706  \n",
       "6                 24      0.9872  \n",
       "7                 13      0.9946  \n",
       "8                 11      0.9955  \n",
       "9                  8      0.9956  \n",
       "10                22      0.9970  \n",
       "11                19      0.9971  \n",
       "12                15      0.9980  \n",
       "13                 3      0.9981  \n",
       "14                26      0.9979  "
      ]
     },
     "metadata": {},
     "output_type": "display_data"
    },
    {
     "name": "stdout",
     "output_type": "stream",
     "text": [
      "\n",
      "Final Details:\n"
     ]
    },
    {
     "data": {
      "text/html": [
       "<div>\n",
       "<style scoped>\n",
       "    .dataframe tbody tr th:only-of-type {\n",
       "        vertical-align: middle;\n",
       "    }\n",
       "\n",
       "    .dataframe tbody tr th {\n",
       "        vertical-align: top;\n",
       "    }\n",
       "\n",
       "    .dataframe thead th {\n",
       "        text-align: right;\n",
       "    }\n",
       "</style>\n",
       "<table border=\"1\" class=\"dataframe\">\n",
       "  <thead>\n",
       "    <tr style=\"text-align: right;\">\n",
       "      <th></th>\n",
       "      <th>Final R²</th>\n",
       "      <th>Total Samples Used</th>\n",
       "    </tr>\n",
       "  </thead>\n",
       "  <tbody>\n",
       "    <tr>\n",
       "      <th>0</th>\n",
       "      <td>0.9979</td>\n",
       "      <td>18</td>\n",
       "    </tr>\n",
       "  </tbody>\n",
       "</table>\n",
       "</div>"
      ],
      "text/plain": [
       "   Final R²  Total Samples Used\n",
       "0    0.9979                  18"
      ]
     },
     "metadata": {},
     "output_type": "display_data"
    },
    {
     "name": "stdout",
     "output_type": "stream",
     "text": [
      "\n",
      "Final Training Data (first 10 rows):\n"
     ]
    },
    {
     "data": {
      "text/html": [
       "<div>\n",
       "<style scoped>\n",
       "    .dataframe tbody tr th:only-of-type {\n",
       "        vertical-align: middle;\n",
       "    }\n",
       "\n",
       "    .dataframe tbody tr th {\n",
       "        vertical-align: top;\n",
       "    }\n",
       "\n",
       "    .dataframe thead th {\n",
       "        text-align: right;\n",
       "    }\n",
       "</style>\n",
       "<table border=\"1\" class=\"dataframe\">\n",
       "  <thead>\n",
       "    <tr style=\"text-align: right;\">\n",
       "      <th></th>\n",
       "      <th>Original Price</th>\n",
       "      <th>Discount Code</th>\n",
       "      <th>Available Rooms</th>\n",
       "      <th>Hotel Stars</th>\n",
       "      <th>DayDiff</th>\n",
       "      <th>Checkin_Date_num</th>\n",
       "      <th>WeekDay_num</th>\n",
       "    </tr>\n",
       "  </thead>\n",
       "  <tbody>\n",
       "    <tr>\n",
       "      <th>33921</th>\n",
       "      <td>-1.061446</td>\n",
       "      <td>2</td>\n",
       "      <td>0.0</td>\n",
       "      <td>5</td>\n",
       "      <td>1.314751</td>\n",
       "      <td>1.314751</td>\n",
       "      <td>4</td>\n",
       "    </tr>\n",
       "    <tr>\n",
       "      <th>33900</th>\n",
       "      <td>-1.061446</td>\n",
       "      <td>2</td>\n",
       "      <td>0.0</td>\n",
       "      <td>5</td>\n",
       "      <td>-1.195229</td>\n",
       "      <td>-1.195229</td>\n",
       "      <td>4</td>\n",
       "    </tr>\n",
       "    <tr>\n",
       "      <th>33907</th>\n",
       "      <td>-1.061446</td>\n",
       "      <td>2</td>\n",
       "      <td>0.0</td>\n",
       "      <td>5</td>\n",
       "      <td>-0.358569</td>\n",
       "      <td>-0.358569</td>\n",
       "      <td>4</td>\n",
       "    </tr>\n",
       "    <tr>\n",
       "      <th>33898</th>\n",
       "      <td>-1.061446</td>\n",
       "      <td>2</td>\n",
       "      <td>0.0</td>\n",
       "      <td>5</td>\n",
       "      <td>-1.434274</td>\n",
       "      <td>-1.434274</td>\n",
       "      <td>2</td>\n",
       "    </tr>\n",
       "    <tr>\n",
       "      <th>33912</th>\n",
       "      <td>-1.061446</td>\n",
       "      <td>2</td>\n",
       "      <td>0.0</td>\n",
       "      <td>5</td>\n",
       "      <td>0.239046</td>\n",
       "      <td>0.239046</td>\n",
       "      <td>2</td>\n",
       "    </tr>\n",
       "    <tr>\n",
       "      <th>33919</th>\n",
       "      <td>-1.061446</td>\n",
       "      <td>2</td>\n",
       "      <td>0.0</td>\n",
       "      <td>5</td>\n",
       "      <td>1.075706</td>\n",
       "      <td>1.075706</td>\n",
       "      <td>2</td>\n",
       "    </tr>\n",
       "    <tr>\n",
       "      <th>33908</th>\n",
       "      <td>0.122474</td>\n",
       "      <td>2</td>\n",
       "      <td>0.0</td>\n",
       "      <td>5</td>\n",
       "      <td>-0.239046</td>\n",
       "      <td>-0.239046</td>\n",
       "      <td>5</td>\n",
       "    </tr>\n",
       "    <tr>\n",
       "      <th>33922</th>\n",
       "      <td>0.122474</td>\n",
       "      <td>2</td>\n",
       "      <td>0.0</td>\n",
       "      <td>5</td>\n",
       "      <td>1.434274</td>\n",
       "      <td>1.434274</td>\n",
       "      <td>5</td>\n",
       "    </tr>\n",
       "    <tr>\n",
       "      <th>33901</th>\n",
       "      <td>0.122474</td>\n",
       "      <td>2</td>\n",
       "      <td>0.0</td>\n",
       "      <td>5</td>\n",
       "      <td>-1.075706</td>\n",
       "      <td>-1.075706</td>\n",
       "      <td>5</td>\n",
       "    </tr>\n",
       "    <tr>\n",
       "      <th>33897</th>\n",
       "      <td>0.122474</td>\n",
       "      <td>2</td>\n",
       "      <td>0.0</td>\n",
       "      <td>5</td>\n",
       "      <td>-1.553797</td>\n",
       "      <td>-1.553797</td>\n",
       "      <td>1</td>\n",
       "    </tr>\n",
       "  </tbody>\n",
       "</table>\n",
       "</div>"
      ],
      "text/plain": [
       "       Original Price  Discount Code  Available Rooms  Hotel Stars   DayDiff  \\\n",
       "33921       -1.061446              2              0.0            5  1.314751   \n",
       "33900       -1.061446              2              0.0            5 -1.195229   \n",
       "33907       -1.061446              2              0.0            5 -0.358569   \n",
       "33898       -1.061446              2              0.0            5 -1.434274   \n",
       "33912       -1.061446              2              0.0            5  0.239046   \n",
       "33919       -1.061446              2              0.0            5  1.075706   \n",
       "33908        0.122474              2              0.0            5 -0.239046   \n",
       "33922        0.122474              2              0.0            5  1.434274   \n",
       "33901        0.122474              2              0.0            5 -1.075706   \n",
       "33897        0.122474              2              0.0            5 -1.553797   \n",
       "\n",
       "       Checkin_Date_num  WeekDay_num  \n",
       "33921          1.314751            4  \n",
       "33900         -1.195229            4  \n",
       "33907         -0.358569            4  \n",
       "33898         -1.434274            2  \n",
       "33912          0.239046            2  \n",
       "33919          1.075706            2  \n",
       "33908         -0.239046            5  \n",
       "33922          1.434274            5  \n",
       "33901         -1.075706            5  \n",
       "33897         -1.553797            1  "
      ]
     },
     "metadata": {},
     "output_type": "display_data"
    },
    {
     "name": "stdout",
     "output_type": "stream",
     "text": [
      "Final Training Target (first 10 rows):\n"
     ]
    },
    {
     "data": {
      "text/plain": [
       "33921   -1.431884\n",
       "33900   -1.431884\n",
       "33907   -1.431884\n",
       "33898   -0.469775\n",
       "33912   -0.469775\n",
       "33919   -0.469775\n",
       "33908   -0.450532\n",
       "33922   -0.450532\n",
       "33901   -0.450532\n",
       "33897    0.492334\n",
       "Name: Discount Price, dtype: float64"
      ]
     },
     "metadata": {},
     "output_type": "display_data"
    },
    {
     "name": "stdout",
     "output_type": "stream",
     "text": [
      "--------------------------------------------------\n",
      "\n",
      "--------------------------------------------------\n",
      "Debugging for parameter: 2016-01-01 00:00:00 | The Carlyle A Rosewood Hotel | 2\n"
     ]
    },
    {
     "name": "stderr",
     "output_type": "stream",
     "text": [
      "/opt/anaconda3/envs/DS-101-Final/lib/python3.12/site-packages/sklearn/gaussian_process/kernels.py:442: ConvergenceWarning: The optimal value found for dimension 0 of parameter k2__length_scale is close to the specified lower bound 0.01. Decreasing the bound and calling fit again may find a better value.\n",
      "  warnings.warn(\n"
     ]
    },
    {
     "name": "stdout",
     "output_type": "stream",
     "text": [
      "Iteration Details:\n"
     ]
    },
    {
     "data": {
      "text/html": [
       "<div>\n",
       "<style scoped>\n",
       "    .dataframe tbody tr th:only-of-type {\n",
       "        vertical-align: middle;\n",
       "    }\n",
       "\n",
       "    .dataframe tbody tr th {\n",
       "        vertical-align: top;\n",
       "    }\n",
       "\n",
       "    .dataframe thead th {\n",
       "        text-align: right;\n",
       "    }\n",
       "</style>\n",
       "<table border=\"1\" class=\"dataframe\">\n",
       "  <thead>\n",
       "    <tr style=\"text-align: right;\">\n",
       "      <th></th>\n",
       "      <th>Iteration</th>\n",
       "      <th>Training Indices</th>\n",
       "      <th>Candidate Indices</th>\n",
       "      <th>Candidate Uncertainties</th>\n",
       "      <th>Max Uncertainty</th>\n",
       "      <th>Chosen Candidate</th>\n",
       "      <th>Current R²</th>\n",
       "    </tr>\n",
       "  </thead>\n",
       "  <tbody>\n",
       "    <tr>\n",
       "      <th>0</th>\n",
       "      <td>0</td>\n",
       "      <td>0, 12, 24</td>\n",
       "      <td>1, 2, 3, 4, 5, 6, 7, 8, 9, 10, 11, 13, 14, 15,...</td>\n",
       "      <td>[1.7289, 1.7289, 1.7289, 1.7289, 1.7289, 1.728...</td>\n",
       "      <td>1.7289</td>\n",
       "      <td>1</td>\n",
       "      <td>-0.5097</td>\n",
       "    </tr>\n",
       "    <tr>\n",
       "      <th>1</th>\n",
       "      <td>1</td>\n",
       "      <td>0, 1, 12, 24</td>\n",
       "      <td>2, 3, 4, 5, 6, 7, 8, 9, 10, 11, 13, 14, 15, 16...</td>\n",
       "      <td>[1.5881, 1.5881, 1.5881, 1.5881, 1.5881, 1.588...</td>\n",
       "      <td>1.5881</td>\n",
       "      <td>2</td>\n",
       "      <td>0.0149</td>\n",
       "    </tr>\n",
       "    <tr>\n",
       "      <th>2</th>\n",
       "      <td>2</td>\n",
       "      <td>0, 1, 2, 12, 24</td>\n",
       "      <td>3, 4, 5, 6, 7, 8, 9, 10, 11, 13, 14, 15, 16, 1...</td>\n",
       "      <td>[0.3642, 0.6734, 0.9265, 0.9022, 0.9544, 0.935...</td>\n",
       "      <td>1.1511</td>\n",
       "      <td>17</td>\n",
       "      <td>0.9420</td>\n",
       "    </tr>\n",
       "    <tr>\n",
       "      <th>3</th>\n",
       "      <td>3</td>\n",
       "      <td>0, 1, 2, 12, 17, 24</td>\n",
       "      <td>3, 4, 5, 6, 7, 8, 9, 10, 11, 13, 14, 15, 16, 1...</td>\n",
       "      <td>[0.2406, 0.3769, 0.5443, 0.575, 0.5814, 0.4391...</td>\n",
       "      <td>0.7141</td>\n",
       "      <td>22</td>\n",
       "      <td>0.9889</td>\n",
       "    </tr>\n",
       "    <tr>\n",
       "      <th>4</th>\n",
       "      <td>4</td>\n",
       "      <td>0, 1, 2, 12, 17, 22, 24</td>\n",
       "      <td>3, 4, 5, 6, 7, 8, 9, 10, 11, 13, 14, 15, 16, 1...</td>\n",
       "      <td>[0.1605, 0.2398, 0.3556, 0.367, 0.3767, 0.2562...</td>\n",
       "      <td>0.4535</td>\n",
       "      <td>20</td>\n",
       "      <td>0.9961</td>\n",
       "    </tr>\n",
       "    <tr>\n",
       "      <th>5</th>\n",
       "      <td>5</td>\n",
       "      <td>0, 1, 2, 12, 17, 20, 22, 24</td>\n",
       "      <td>3, 4, 5, 6, 7, 8, 9, 10, 11, 13, 14, 15, 16, 1...</td>\n",
       "      <td>[0.1064, 0.1355, 0.1771, 0.1355, 0.1301, 0.108...</td>\n",
       "      <td>0.1771</td>\n",
       "      <td>5</td>\n",
       "      <td>0.9998</td>\n",
       "    </tr>\n",
       "    <tr>\n",
       "      <th>6</th>\n",
       "      <td>6</td>\n",
       "      <td>0, 1, 2, 5, 12, 17, 20, 22, 24</td>\n",
       "      <td>3, 4, 6, 7, 8, 9, 10, 11, 13, 14, 15, 16, 18, ...</td>\n",
       "      <td>[0.0707, 0.0761, 0.1112, 0.1123, 0.0953, 0.075...</td>\n",
       "      <td>0.1454</td>\n",
       "      <td>19</td>\n",
       "      <td>0.9998</td>\n",
       "    </tr>\n",
       "    <tr>\n",
       "      <th>7</th>\n",
       "      <td>7</td>\n",
       "      <td>0, 1, 2, 5, 12, 17, 19, 20, 22, 24</td>\n",
       "      <td>3, 4, 6, 7, 8, 9, 10, 11, 13, 14, 15, 16, 18, ...</td>\n",
       "      <td>[0.0651, 0.0707, 0.0981, 0.1014, 0.0855, 0.070...</td>\n",
       "      <td>0.1183</td>\n",
       "      <td>23</td>\n",
       "      <td>0.9999</td>\n",
       "    </tr>\n",
       "    <tr>\n",
       "      <th>8</th>\n",
       "      <td>8</td>\n",
       "      <td>0, 1, 2, 5, 12, 17, 19, 20, 22, 23, 24</td>\n",
       "      <td>3, 4, 6, 7, 8, 9, 10, 11, 13, 14, 15, 16, 18, 21</td>\n",
       "      <td>[0.0832, 0.0903, 0.123, 0.1276, 0.108, 0.0898,...</td>\n",
       "      <td>0.1276</td>\n",
       "      <td>7</td>\n",
       "      <td>0.9998</td>\n",
       "    </tr>\n",
       "    <tr>\n",
       "      <th>9</th>\n",
       "      <td>9</td>\n",
       "      <td>0, 1, 2, 5, 7, 12, 17, 19, 20, 22, 23, 24</td>\n",
       "      <td>3, 4, 6, 8, 9, 10, 11, 13, 14, 15, 16, 18, 21</td>\n",
       "      <td>[0.0784, 0.0862, 0.0965, 0.0794, 0.0808, 0.072...</td>\n",
       "      <td>0.1210</td>\n",
       "      <td>13</td>\n",
       "      <td>0.9999</td>\n",
       "    </tr>\n",
       "    <tr>\n",
       "      <th>10</th>\n",
       "      <td>10</td>\n",
       "      <td>0, 1, 2, 5, 7, 12, 13, 17, 19, 20, 22, 23, 24</td>\n",
       "      <td>3, 4, 6, 8, 9, 10, 11, 14, 15, 16, 18, 21</td>\n",
       "      <td>[0.075, 0.0826, 0.0906, 0.0762, 0.0774, 0.0683...</td>\n",
       "      <td>0.0906</td>\n",
       "      <td>6</td>\n",
       "      <td>0.9999</td>\n",
       "    </tr>\n",
       "    <tr>\n",
       "      <th>11</th>\n",
       "      <td>11</td>\n",
       "      <td>0, 1, 2, 5, 6, 7, 12, 13, 17, 19, 20, 22, 23, 24</td>\n",
       "      <td>3, 4, 8, 9, 10, 11, 14, 15, 16, 18, 21</td>\n",
       "      <td>[0.0719, 0.0794, 0.0693, 0.0676, 0.0651, 0.066...</td>\n",
       "      <td>0.0794</td>\n",
       "      <td>4</td>\n",
       "      <td>1.0000</td>\n",
       "    </tr>\n",
       "    <tr>\n",
       "      <th>12</th>\n",
       "      <td>12</td>\n",
       "      <td>0, 1, 2, 4, 5, 6, 7, 12, 13, 17, 19, 20, 22, 2...</td>\n",
       "      <td>3, 8, 9, 10, 11, 14, 15, 16, 18, 21</td>\n",
       "      <td>[0.0604, 0.0668, 0.0644, 0.0616, 0.0635, 0.062...</td>\n",
       "      <td>0.0755</td>\n",
       "      <td>18</td>\n",
       "      <td>1.0000</td>\n",
       "    </tr>\n",
       "    <tr>\n",
       "      <th>13</th>\n",
       "      <td>13</td>\n",
       "      <td>0, 1, 2, 4, 5, 6, 7, 12, 13, 17, 18, 19, 20, 2...</td>\n",
       "      <td>3, 8, 9, 10, 11, 14, 15, 16, 21</td>\n",
       "      <td>[0.0585, 0.0628, 0.0625, 0.0545, 0.0581, 0.060...</td>\n",
       "      <td>0.0628</td>\n",
       "      <td>8</td>\n",
       "      <td>1.0000</td>\n",
       "    </tr>\n",
       "    <tr>\n",
       "      <th>14</th>\n",
       "      <td>14</td>\n",
       "      <td>0, 1, 2, 4, 5, 6, 7, 8, 12, 13, 17, 18, 19, 20...</td>\n",
       "      <td>3, 9, 10, 11, 14, 15, 16, 21</td>\n",
       "      <td>[0.0561, 0.0602, 0.0488, 0.0507, 0.0585, 0.053...</td>\n",
       "      <td>0.0602</td>\n",
       "      <td>9</td>\n",
       "      <td>1.0000</td>\n",
       "    </tr>\n",
       "  </tbody>\n",
       "</table>\n",
       "</div>"
      ],
      "text/plain": [
       "    Iteration                                   Training Indices  \\\n",
       "0           0                                          0, 12, 24   \n",
       "1           1                                       0, 1, 12, 24   \n",
       "2           2                                    0, 1, 2, 12, 24   \n",
       "3           3                                0, 1, 2, 12, 17, 24   \n",
       "4           4                            0, 1, 2, 12, 17, 22, 24   \n",
       "5           5                        0, 1, 2, 12, 17, 20, 22, 24   \n",
       "6           6                     0, 1, 2, 5, 12, 17, 20, 22, 24   \n",
       "7           7                 0, 1, 2, 5, 12, 17, 19, 20, 22, 24   \n",
       "8           8             0, 1, 2, 5, 12, 17, 19, 20, 22, 23, 24   \n",
       "9           9          0, 1, 2, 5, 7, 12, 17, 19, 20, 22, 23, 24   \n",
       "10         10      0, 1, 2, 5, 7, 12, 13, 17, 19, 20, 22, 23, 24   \n",
       "11         11   0, 1, 2, 5, 6, 7, 12, 13, 17, 19, 20, 22, 23, 24   \n",
       "12         12  0, 1, 2, 4, 5, 6, 7, 12, 13, 17, 19, 20, 22, 2...   \n",
       "13         13  0, 1, 2, 4, 5, 6, 7, 12, 13, 17, 18, 19, 20, 2...   \n",
       "14         14  0, 1, 2, 4, 5, 6, 7, 8, 12, 13, 17, 18, 19, 20...   \n",
       "\n",
       "                                    Candidate Indices  \\\n",
       "0   1, 2, 3, 4, 5, 6, 7, 8, 9, 10, 11, 13, 14, 15,...   \n",
       "1   2, 3, 4, 5, 6, 7, 8, 9, 10, 11, 13, 14, 15, 16...   \n",
       "2   3, 4, 5, 6, 7, 8, 9, 10, 11, 13, 14, 15, 16, 1...   \n",
       "3   3, 4, 5, 6, 7, 8, 9, 10, 11, 13, 14, 15, 16, 1...   \n",
       "4   3, 4, 5, 6, 7, 8, 9, 10, 11, 13, 14, 15, 16, 1...   \n",
       "5   3, 4, 5, 6, 7, 8, 9, 10, 11, 13, 14, 15, 16, 1...   \n",
       "6   3, 4, 6, 7, 8, 9, 10, 11, 13, 14, 15, 16, 18, ...   \n",
       "7   3, 4, 6, 7, 8, 9, 10, 11, 13, 14, 15, 16, 18, ...   \n",
       "8    3, 4, 6, 7, 8, 9, 10, 11, 13, 14, 15, 16, 18, 21   \n",
       "9       3, 4, 6, 8, 9, 10, 11, 13, 14, 15, 16, 18, 21   \n",
       "10          3, 4, 6, 8, 9, 10, 11, 14, 15, 16, 18, 21   \n",
       "11             3, 4, 8, 9, 10, 11, 14, 15, 16, 18, 21   \n",
       "12                3, 8, 9, 10, 11, 14, 15, 16, 18, 21   \n",
       "13                    3, 8, 9, 10, 11, 14, 15, 16, 21   \n",
       "14                       3, 9, 10, 11, 14, 15, 16, 21   \n",
       "\n",
       "                              Candidate Uncertainties  Max Uncertainty  \\\n",
       "0   [1.7289, 1.7289, 1.7289, 1.7289, 1.7289, 1.728...           1.7289   \n",
       "1   [1.5881, 1.5881, 1.5881, 1.5881, 1.5881, 1.588...           1.5881   \n",
       "2   [0.3642, 0.6734, 0.9265, 0.9022, 0.9544, 0.935...           1.1511   \n",
       "3   [0.2406, 0.3769, 0.5443, 0.575, 0.5814, 0.4391...           0.7141   \n",
       "4   [0.1605, 0.2398, 0.3556, 0.367, 0.3767, 0.2562...           0.4535   \n",
       "5   [0.1064, 0.1355, 0.1771, 0.1355, 0.1301, 0.108...           0.1771   \n",
       "6   [0.0707, 0.0761, 0.1112, 0.1123, 0.0953, 0.075...           0.1454   \n",
       "7   [0.0651, 0.0707, 0.0981, 0.1014, 0.0855, 0.070...           0.1183   \n",
       "8   [0.0832, 0.0903, 0.123, 0.1276, 0.108, 0.0898,...           0.1276   \n",
       "9   [0.0784, 0.0862, 0.0965, 0.0794, 0.0808, 0.072...           0.1210   \n",
       "10  [0.075, 0.0826, 0.0906, 0.0762, 0.0774, 0.0683...           0.0906   \n",
       "11  [0.0719, 0.0794, 0.0693, 0.0676, 0.0651, 0.066...           0.0794   \n",
       "12  [0.0604, 0.0668, 0.0644, 0.0616, 0.0635, 0.062...           0.0755   \n",
       "13  [0.0585, 0.0628, 0.0625, 0.0545, 0.0581, 0.060...           0.0628   \n",
       "14  [0.0561, 0.0602, 0.0488, 0.0507, 0.0585, 0.053...           0.0602   \n",
       "\n",
       "    Chosen Candidate  Current R²  \n",
       "0                  1     -0.5097  \n",
       "1                  2      0.0149  \n",
       "2                 17      0.9420  \n",
       "3                 22      0.9889  \n",
       "4                 20      0.9961  \n",
       "5                  5      0.9998  \n",
       "6                 19      0.9998  \n",
       "7                 23      0.9999  \n",
       "8                  7      0.9998  \n",
       "9                 13      0.9999  \n",
       "10                 6      0.9999  \n",
       "11                 4      1.0000  \n",
       "12                18      1.0000  \n",
       "13                 8      1.0000  \n",
       "14                 9      1.0000  "
      ]
     },
     "metadata": {},
     "output_type": "display_data"
    },
    {
     "name": "stdout",
     "output_type": "stream",
     "text": [
      "\n",
      "Final Details:\n"
     ]
    },
    {
     "data": {
      "text/html": [
       "<div>\n",
       "<style scoped>\n",
       "    .dataframe tbody tr th:only-of-type {\n",
       "        vertical-align: middle;\n",
       "    }\n",
       "\n",
       "    .dataframe tbody tr th {\n",
       "        vertical-align: top;\n",
       "    }\n",
       "\n",
       "    .dataframe thead th {\n",
       "        text-align: right;\n",
       "    }\n",
       "</style>\n",
       "<table border=\"1\" class=\"dataframe\">\n",
       "  <thead>\n",
       "    <tr style=\"text-align: right;\">\n",
       "      <th></th>\n",
       "      <th>Final R²</th>\n",
       "      <th>Total Samples Used</th>\n",
       "    </tr>\n",
       "  </thead>\n",
       "  <tbody>\n",
       "    <tr>\n",
       "      <th>0</th>\n",
       "      <td>1.0</td>\n",
       "      <td>18</td>\n",
       "    </tr>\n",
       "  </tbody>\n",
       "</table>\n",
       "</div>"
      ],
      "text/plain": [
       "   Final R²  Total Samples Used\n",
       "0       1.0                  18"
      ]
     },
     "metadata": {},
     "output_type": "display_data"
    },
    {
     "name": "stdout",
     "output_type": "stream",
     "text": [
      "\n",
      "Final Training Data (first 10 rows):\n"
     ]
    },
    {
     "data": {
      "text/html": [
       "<div>\n",
       "<style scoped>\n",
       "    .dataframe tbody tr th:only-of-type {\n",
       "        vertical-align: middle;\n",
       "    }\n",
       "\n",
       "    .dataframe tbody tr th {\n",
       "        vertical-align: top;\n",
       "    }\n",
       "\n",
       "    .dataframe thead th {\n",
       "        text-align: right;\n",
       "    }\n",
       "</style>\n",
       "<table border=\"1\" class=\"dataframe\">\n",
       "  <thead>\n",
       "    <tr style=\"text-align: right;\">\n",
       "      <th></th>\n",
       "      <th>Original Price</th>\n",
       "      <th>Discount Code</th>\n",
       "      <th>Available Rooms</th>\n",
       "      <th>Hotel Stars</th>\n",
       "      <th>DayDiff</th>\n",
       "      <th>Checkin_Date_num</th>\n",
       "      <th>WeekDay_num</th>\n",
       "    </tr>\n",
       "  </thead>\n",
       "  <tbody>\n",
       "    <tr>\n",
       "      <th>175945</th>\n",
       "      <td>-0.294884</td>\n",
       "      <td>2</td>\n",
       "      <td>0.046575</td>\n",
       "      <td>5</td>\n",
       "      <td>-1.490549</td>\n",
       "      <td>-1.490549</td>\n",
       "      <td>5</td>\n",
       "    </tr>\n",
       "    <tr>\n",
       "      <th>175967</th>\n",
       "      <td>-0.294884</td>\n",
       "      <td>2</td>\n",
       "      <td>1.094504</td>\n",
       "      <td>5</td>\n",
       "      <td>1.417314</td>\n",
       "      <td>1.417314</td>\n",
       "      <td>4</td>\n",
       "    </tr>\n",
       "    <tr>\n",
       "      <th>175966</th>\n",
       "      <td>-0.294884</td>\n",
       "      <td>2</td>\n",
       "      <td>0.978068</td>\n",
       "      <td>5</td>\n",
       "      <td>1.309615</td>\n",
       "      <td>1.309615</td>\n",
       "      <td>3</td>\n",
       "    </tr>\n",
       "    <tr>\n",
       "      <th>175964</th>\n",
       "      <td>-0.294884</td>\n",
       "      <td>2</td>\n",
       "      <td>0.978068</td>\n",
       "      <td>5</td>\n",
       "      <td>1.094218</td>\n",
       "      <td>1.094218</td>\n",
       "      <td>1</td>\n",
       "    </tr>\n",
       "    <tr>\n",
       "      <th>175963</th>\n",
       "      <td>-0.294884</td>\n",
       "      <td>2</td>\n",
       "      <td>0.861631</td>\n",
       "      <td>5</td>\n",
       "      <td>0.986519</td>\n",
       "      <td>0.986519</td>\n",
       "      <td>0</td>\n",
       "    </tr>\n",
       "    <tr>\n",
       "      <th>175962</th>\n",
       "      <td>-0.294884</td>\n",
       "      <td>2</td>\n",
       "      <td>0.628758</td>\n",
       "      <td>5</td>\n",
       "      <td>0.878821</td>\n",
       "      <td>0.878821</td>\n",
       "      <td>6</td>\n",
       "    </tr>\n",
       "    <tr>\n",
       "      <th>175959</th>\n",
       "      <td>-0.294884</td>\n",
       "      <td>2</td>\n",
       "      <td>-0.652045</td>\n",
       "      <td>5</td>\n",
       "      <td>0.017232</td>\n",
       "      <td>0.017232</td>\n",
       "      <td>5</td>\n",
       "    </tr>\n",
       "    <tr>\n",
       "      <th>175958</th>\n",
       "      <td>-0.294884</td>\n",
       "      <td>2</td>\n",
       "      <td>-0.652045</td>\n",
       "      <td>5</td>\n",
       "      <td>-0.090467</td>\n",
       "      <td>-0.090467</td>\n",
       "      <td>4</td>\n",
       "    </tr>\n",
       "    <tr>\n",
       "      <th>175968</th>\n",
       "      <td>-0.294884</td>\n",
       "      <td>2</td>\n",
       "      <td>1.443814</td>\n",
       "      <td>5</td>\n",
       "      <td>1.525012</td>\n",
       "      <td>1.525012</td>\n",
       "      <td>5</td>\n",
       "    </tr>\n",
       "    <tr>\n",
       "      <th>175954</th>\n",
       "      <td>-0.294884</td>\n",
       "      <td>2</td>\n",
       "      <td>0.628758</td>\n",
       "      <td>5</td>\n",
       "      <td>-0.521261</td>\n",
       "      <td>-0.521261</td>\n",
       "      <td>0</td>\n",
       "    </tr>\n",
       "  </tbody>\n",
       "</table>\n",
       "</div>"
      ],
      "text/plain": [
       "        Original Price  Discount Code  Available Rooms  Hotel Stars   DayDiff  \\\n",
       "175945       -0.294884              2         0.046575            5 -1.490549   \n",
       "175967       -0.294884              2         1.094504            5  1.417314   \n",
       "175966       -0.294884              2         0.978068            5  1.309615   \n",
       "175964       -0.294884              2         0.978068            5  1.094218   \n",
       "175963       -0.294884              2         0.861631            5  0.986519   \n",
       "175962       -0.294884              2         0.628758            5  0.878821   \n",
       "175959       -0.294884              2        -0.652045            5  0.017232   \n",
       "175958       -0.294884              2        -0.652045            5 -0.090467   \n",
       "175968       -0.294884              2         1.443814            5  1.525012   \n",
       "175954       -0.294884              2         0.628758            5 -0.521261   \n",
       "\n",
       "        Checkin_Date_num  WeekDay_num  \n",
       "175945         -1.490549            5  \n",
       "175967          1.417314            4  \n",
       "175966          1.309615            3  \n",
       "175964          1.094218            1  \n",
       "175963          0.986519            0  \n",
       "175962          0.878821            6  \n",
       "175959          0.017232            5  \n",
       "175958         -0.090467            4  \n",
       "175968          1.525012            5  \n",
       "175954         -0.521261            0  "
      ]
     },
     "metadata": {},
     "output_type": "display_data"
    },
    {
     "name": "stdout",
     "output_type": "stream",
     "text": [
      "Final Training Target (first 10 rows):\n"
     ]
    },
    {
     "data": {
      "text/plain": [
       "175945   -0.294884\n",
       "175967   -0.294884\n",
       "175966   -0.294884\n",
       "175964   -0.294884\n",
       "175963   -0.294884\n",
       "175962   -0.294884\n",
       "175959   -0.294884\n",
       "175958   -0.294884\n",
       "175968   -0.294884\n",
       "175954   -0.294884\n",
       "Name: Discount Price, dtype: float64"
      ]
     },
     "metadata": {},
     "output_type": "display_data"
    },
    {
     "name": "stdout",
     "output_type": "stream",
     "text": [
      "--------------------------------------------------\n",
      "\n",
      "--------------------------------------------------\n",
      "Debugging for parameter: 2015-07-23 00:00:00 | Park Hyatt New York | 2\n"
     ]
    },
    {
     "name": "stderr",
     "output_type": "stream",
     "text": [
      "/opt/anaconda3/envs/DS-101-Final/lib/python3.12/site-packages/sklearn/gaussian_process/kernels.py:442: ConvergenceWarning: The optimal value found for dimension 0 of parameter k2__length_scale is close to the specified lower bound 0.01. Decreasing the bound and calling fit again may find a better value.\n",
      "  warnings.warn(\n"
     ]
    },
    {
     "name": "stdout",
     "output_type": "stream",
     "text": [
      "Iteration Details:\n"
     ]
    },
    {
     "data": {
      "text/html": [
       "<div>\n",
       "<style scoped>\n",
       "    .dataframe tbody tr th:only-of-type {\n",
       "        vertical-align: middle;\n",
       "    }\n",
       "\n",
       "    .dataframe tbody tr th {\n",
       "        vertical-align: top;\n",
       "    }\n",
       "\n",
       "    .dataframe thead th {\n",
       "        text-align: right;\n",
       "    }\n",
       "</style>\n",
       "<table border=\"1\" class=\"dataframe\">\n",
       "  <thead>\n",
       "    <tr style=\"text-align: right;\">\n",
       "      <th></th>\n",
       "      <th>Iteration</th>\n",
       "      <th>Training Indices</th>\n",
       "      <th>Candidate Indices</th>\n",
       "      <th>Candidate Uncertainties</th>\n",
       "      <th>Max Uncertainty</th>\n",
       "      <th>Chosen Candidate</th>\n",
       "      <th>Current R²</th>\n",
       "    </tr>\n",
       "  </thead>\n",
       "  <tbody>\n",
       "    <tr>\n",
       "      <th>0</th>\n",
       "      <td>0</td>\n",
       "      <td>0, 12, 23</td>\n",
       "      <td>1, 2, 3, 4, 5, 6, 7, 8, 9, 10, 11, 13, 14, 15,...</td>\n",
       "      <td>[0.1163, 1.1635, 1.1635, 1.1635, 1.1635, 1.163...</td>\n",
       "      <td>1.1635</td>\n",
       "      <td>2</td>\n",
       "      <td>0.2382</td>\n",
       "    </tr>\n",
       "    <tr>\n",
       "      <th>1</th>\n",
       "      <td>1</td>\n",
       "      <td>0, 2, 12, 23</td>\n",
       "      <td>1, 3, 4, 5, 6, 7, 8, 9, 10, 11, 13, 14, 15, 16...</td>\n",
       "      <td>[0.116, 1.0724, 0.6079, 0.9544, 1.0724, 0.9544...</td>\n",
       "      <td>1.1554</td>\n",
       "      <td>21</td>\n",
       "      <td>0.4993</td>\n",
       "    </tr>\n",
       "    <tr>\n",
       "      <th>2</th>\n",
       "      <td>2</td>\n",
       "      <td>0, 2, 12, 21, 23</td>\n",
       "      <td>1, 3, 4, 5, 6, 7, 8, 9, 10, 11, 13, 14, 15, 16...</td>\n",
       "      <td>[0.1235, 1.1431, 0.6669, 1.0295, 1.1431, 1.029...</td>\n",
       "      <td>1.1883</td>\n",
       "      <td>15</td>\n",
       "      <td>0.6538</td>\n",
       "    </tr>\n",
       "    <tr>\n",
       "      <th>3</th>\n",
       "      <td>3</td>\n",
       "      <td>0, 2, 12, 15, 21, 23</td>\n",
       "      <td>1, 3, 4, 5, 6, 7, 8, 9, 10, 11, 13, 14, 16, 17...</td>\n",
       "      <td>[0.1129, 0.6612, 0.5851, 0.8611, 0.6612, 0.861...</td>\n",
       "      <td>0.9352</td>\n",
       "      <td>14</td>\n",
       "      <td>0.6438</td>\n",
       "    </tr>\n",
       "    <tr>\n",
       "      <th>4</th>\n",
       "      <td>4</td>\n",
       "      <td>0, 2, 12, 14, 15, 21, 23</td>\n",
       "      <td>1, 3, 4, 5, 6, 7, 8, 9, 10, 11, 13, 16, 17, 18...</td>\n",
       "      <td>[0.1046, 0.6317, 0.5697, 0.8276, 0.6317, 0.827...</td>\n",
       "      <td>0.8276</td>\n",
       "      <td>5</td>\n",
       "      <td>0.6981</td>\n",
       "    </tr>\n",
       "    <tr>\n",
       "      <th>5</th>\n",
       "      <td>5</td>\n",
       "      <td>0, 2, 5, 12, 14, 15, 21, 23</td>\n",
       "      <td>1, 3, 4, 6, 7, 8, 9, 10, 11, 13, 16, 17, 18, 1...</td>\n",
       "      <td>[0.1076, 0.2617, 0.2054, 0.2617, 0.1073, 0.107...</td>\n",
       "      <td>0.5384</td>\n",
       "      <td>10</td>\n",
       "      <td>0.7529</td>\n",
       "    </tr>\n",
       "    <tr>\n",
       "      <th>6</th>\n",
       "      <td>6</td>\n",
       "      <td>0, 2, 5, 10, 12, 14, 15, 21, 23</td>\n",
       "      <td>1, 3, 4, 6, 7, 8, 9, 11, 13, 16, 17, 18, 19, 2...</td>\n",
       "      <td>[0.1019, 1.0191, 1.0191, 1.0191, 0.1019, 0.101...</td>\n",
       "      <td>1.0191</td>\n",
       "      <td>3</td>\n",
       "      <td>0.7529</td>\n",
       "    </tr>\n",
       "    <tr>\n",
       "      <th>7</th>\n",
       "      <td>7</td>\n",
       "      <td>0, 2, 3, 5, 10, 12, 14, 15, 21, 23</td>\n",
       "      <td>1, 4, 6, 7, 8, 9, 11, 13, 16, 17, 18, 19, 20, 22</td>\n",
       "      <td>[0.103, 0.8912, 0.1029, 0.103, 0.103, 0.8912, ...</td>\n",
       "      <td>0.9690</td>\n",
       "      <td>13</td>\n",
       "      <td>0.9712</td>\n",
       "    </tr>\n",
       "    <tr>\n",
       "      <th>8</th>\n",
       "      <td>8</td>\n",
       "      <td>0, 2, 3, 5, 10, 12, 13, 14, 15, 21, 23</td>\n",
       "      <td>1, 4, 6, 7, 8, 9, 11, 16, 17, 18, 19, 20, 22</td>\n",
       "      <td>[0.099, 0.6663, 0.0987, 0.0988, 0.099, 0.6663,...</td>\n",
       "      <td>0.8069</td>\n",
       "      <td>18</td>\n",
       "      <td>0.9708</td>\n",
       "    </tr>\n",
       "    <tr>\n",
       "      <th>9</th>\n",
       "      <td>9</td>\n",
       "      <td>0, 2, 3, 5, 10, 12, 13, 14, 15, 18, 21, 23</td>\n",
       "      <td>1, 4, 6, 7, 8, 9, 11, 16, 17, 19, 20, 22</td>\n",
       "      <td>[0.0953, 0.7014, 0.0951, 0.0952, 0.0953, 0.701...</td>\n",
       "      <td>0.7014</td>\n",
       "      <td>4</td>\n",
       "      <td>0.9984</td>\n",
       "    </tr>\n",
       "    <tr>\n",
       "      <th>10</th>\n",
       "      <td>10</td>\n",
       "      <td>0, 2, 3, 4, 5, 10, 12, 13, 14, 15, 18, 21, 23</td>\n",
       "      <td>1, 6, 7, 8, 9, 11, 16, 17, 19, 20, 22</td>\n",
       "      <td>[0.0959, 0.0955, 0.0948, 0.0963, 0.0948, 0.096...</td>\n",
       "      <td>0.0965</td>\n",
       "      <td>20</td>\n",
       "      <td>0.9998</td>\n",
       "    </tr>\n",
       "    <tr>\n",
       "      <th>11</th>\n",
       "      <td>11</td>\n",
       "      <td>0, 2, 3, 4, 5, 10, 12, 13, 14, 15, 18, 20, 21, 23</td>\n",
       "      <td>1, 6, 7, 8, 9, 11, 16, 17, 19, 22</td>\n",
       "      <td>[0.1012, 0.1006, 0.0998, 0.1017, 0.0997, 0.101...</td>\n",
       "      <td>0.1017</td>\n",
       "      <td>8</td>\n",
       "      <td>0.9998</td>\n",
       "    </tr>\n",
       "    <tr>\n",
       "      <th>12</th>\n",
       "      <td>12</td>\n",
       "      <td>0, 2, 3, 4, 5, 8, 10, 12, 13, 14, 15, 18, 20, ...</td>\n",
       "      <td>1, 6, 7, 9, 11, 16, 17, 19, 22</td>\n",
       "      <td>[0.1019, 0.1014, 0.1006, 0.1006, 0.1022, 0.102...</td>\n",
       "      <td>0.1022</td>\n",
       "      <td>22</td>\n",
       "      <td>0.9998</td>\n",
       "    </tr>\n",
       "    <tr>\n",
       "      <th>13</th>\n",
       "      <td>13</td>\n",
       "      <td>0, 2, 3, 4, 5, 8, 10, 12, 13, 14, 15, 18, 20, ...</td>\n",
       "      <td>1, 6, 7, 9, 11, 16, 17, 19</td>\n",
       "      <td>[0.1057, 0.105, 0.104, 0.104, 0.1061, 0.106, 0...</td>\n",
       "      <td>0.1061</td>\n",
       "      <td>11</td>\n",
       "      <td>0.9998</td>\n",
       "    </tr>\n",
       "    <tr>\n",
       "      <th>14</th>\n",
       "      <td>14</td>\n",
       "      <td>0, 2, 3, 4, 5, 8, 10, 11, 12, 13, 14, 15, 18, ...</td>\n",
       "      <td>1, 6, 7, 9, 16, 17, 19</td>\n",
       "      <td>[0.1027, 0.1021, 0.1012, 0.1012, 0.103, 0.1029...</td>\n",
       "      <td>0.1030</td>\n",
       "      <td>16</td>\n",
       "      <td>0.9999</td>\n",
       "    </tr>\n",
       "  </tbody>\n",
       "</table>\n",
       "</div>"
      ],
      "text/plain": [
       "    Iteration                                   Training Indices  \\\n",
       "0           0                                          0, 12, 23   \n",
       "1           1                                       0, 2, 12, 23   \n",
       "2           2                                   0, 2, 12, 21, 23   \n",
       "3           3                               0, 2, 12, 15, 21, 23   \n",
       "4           4                           0, 2, 12, 14, 15, 21, 23   \n",
       "5           5                        0, 2, 5, 12, 14, 15, 21, 23   \n",
       "6           6                    0, 2, 5, 10, 12, 14, 15, 21, 23   \n",
       "7           7                 0, 2, 3, 5, 10, 12, 14, 15, 21, 23   \n",
       "8           8             0, 2, 3, 5, 10, 12, 13, 14, 15, 21, 23   \n",
       "9           9         0, 2, 3, 5, 10, 12, 13, 14, 15, 18, 21, 23   \n",
       "10         10      0, 2, 3, 4, 5, 10, 12, 13, 14, 15, 18, 21, 23   \n",
       "11         11  0, 2, 3, 4, 5, 10, 12, 13, 14, 15, 18, 20, 21, 23   \n",
       "12         12  0, 2, 3, 4, 5, 8, 10, 12, 13, 14, 15, 18, 20, ...   \n",
       "13         13  0, 2, 3, 4, 5, 8, 10, 12, 13, 14, 15, 18, 20, ...   \n",
       "14         14  0, 2, 3, 4, 5, 8, 10, 11, 12, 13, 14, 15, 18, ...   \n",
       "\n",
       "                                    Candidate Indices  \\\n",
       "0   1, 2, 3, 4, 5, 6, 7, 8, 9, 10, 11, 13, 14, 15,...   \n",
       "1   1, 3, 4, 5, 6, 7, 8, 9, 10, 11, 13, 14, 15, 16...   \n",
       "2   1, 3, 4, 5, 6, 7, 8, 9, 10, 11, 13, 14, 15, 16...   \n",
       "3   1, 3, 4, 5, 6, 7, 8, 9, 10, 11, 13, 14, 16, 17...   \n",
       "4   1, 3, 4, 5, 6, 7, 8, 9, 10, 11, 13, 16, 17, 18...   \n",
       "5   1, 3, 4, 6, 7, 8, 9, 10, 11, 13, 16, 17, 18, 1...   \n",
       "6   1, 3, 4, 6, 7, 8, 9, 11, 13, 16, 17, 18, 19, 2...   \n",
       "7    1, 4, 6, 7, 8, 9, 11, 13, 16, 17, 18, 19, 20, 22   \n",
       "8        1, 4, 6, 7, 8, 9, 11, 16, 17, 18, 19, 20, 22   \n",
       "9            1, 4, 6, 7, 8, 9, 11, 16, 17, 19, 20, 22   \n",
       "10              1, 6, 7, 8, 9, 11, 16, 17, 19, 20, 22   \n",
       "11                  1, 6, 7, 8, 9, 11, 16, 17, 19, 22   \n",
       "12                     1, 6, 7, 9, 11, 16, 17, 19, 22   \n",
       "13                         1, 6, 7, 9, 11, 16, 17, 19   \n",
       "14                             1, 6, 7, 9, 16, 17, 19   \n",
       "\n",
       "                              Candidate Uncertainties  Max Uncertainty  \\\n",
       "0   [0.1163, 1.1635, 1.1635, 1.1635, 1.1635, 1.163...           1.1635   \n",
       "1   [0.116, 1.0724, 0.6079, 0.9544, 1.0724, 0.9544...           1.1554   \n",
       "2   [0.1235, 1.1431, 0.6669, 1.0295, 1.1431, 1.029...           1.1883   \n",
       "3   [0.1129, 0.6612, 0.5851, 0.8611, 0.6612, 0.861...           0.9352   \n",
       "4   [0.1046, 0.6317, 0.5697, 0.8276, 0.6317, 0.827...           0.8276   \n",
       "5   [0.1076, 0.2617, 0.2054, 0.2617, 0.1073, 0.107...           0.5384   \n",
       "6   [0.1019, 1.0191, 1.0191, 1.0191, 0.1019, 0.101...           1.0191   \n",
       "7   [0.103, 0.8912, 0.1029, 0.103, 0.103, 0.8912, ...           0.9690   \n",
       "8   [0.099, 0.6663, 0.0987, 0.0988, 0.099, 0.6663,...           0.8069   \n",
       "9   [0.0953, 0.7014, 0.0951, 0.0952, 0.0953, 0.701...           0.7014   \n",
       "10  [0.0959, 0.0955, 0.0948, 0.0963, 0.0948, 0.096...           0.0965   \n",
       "11  [0.1012, 0.1006, 0.0998, 0.1017, 0.0997, 0.101...           0.1017   \n",
       "12  [0.1019, 0.1014, 0.1006, 0.1006, 0.1022, 0.102...           0.1022   \n",
       "13  [0.1057, 0.105, 0.104, 0.104, 0.1061, 0.106, 0...           0.1061   \n",
       "14  [0.1027, 0.1021, 0.1012, 0.1012, 0.103, 0.1029...           0.1030   \n",
       "\n",
       "    Chosen Candidate  Current R²  \n",
       "0                  2      0.2382  \n",
       "1                 21      0.4993  \n",
       "2                 15      0.6538  \n",
       "3                 14      0.6438  \n",
       "4                  5      0.6981  \n",
       "5                 10      0.7529  \n",
       "6                  3      0.7529  \n",
       "7                 13      0.9712  \n",
       "8                 18      0.9708  \n",
       "9                  4      0.9984  \n",
       "10                20      0.9998  \n",
       "11                 8      0.9998  \n",
       "12                22      0.9998  \n",
       "13                11      0.9998  \n",
       "14                16      0.9999  "
      ]
     },
     "metadata": {},
     "output_type": "display_data"
    },
    {
     "name": "stdout",
     "output_type": "stream",
     "text": [
      "\n",
      "Final Details:\n"
     ]
    },
    {
     "data": {
      "text/html": [
       "<div>\n",
       "<style scoped>\n",
       "    .dataframe tbody tr th:only-of-type {\n",
       "        vertical-align: middle;\n",
       "    }\n",
       "\n",
       "    .dataframe tbody tr th {\n",
       "        vertical-align: top;\n",
       "    }\n",
       "\n",
       "    .dataframe thead th {\n",
       "        text-align: right;\n",
       "    }\n",
       "</style>\n",
       "<table border=\"1\" class=\"dataframe\">\n",
       "  <thead>\n",
       "    <tr style=\"text-align: right;\">\n",
       "      <th></th>\n",
       "      <th>Final R²</th>\n",
       "      <th>Total Samples Used</th>\n",
       "    </tr>\n",
       "  </thead>\n",
       "  <tbody>\n",
       "    <tr>\n",
       "      <th>0</th>\n",
       "      <td>0.9999</td>\n",
       "      <td>18</td>\n",
       "    </tr>\n",
       "  </tbody>\n",
       "</table>\n",
       "</div>"
      ],
      "text/plain": [
       "   Final R²  Total Samples Used\n",
       "0    0.9999                  18"
      ]
     },
     "metadata": {},
     "output_type": "display_data"
    },
    {
     "name": "stdout",
     "output_type": "stream",
     "text": [
      "\n",
      "Final Training Data (first 10 rows):\n"
     ]
    },
    {
     "data": {
      "text/html": [
       "<div>\n",
       "<style scoped>\n",
       "    .dataframe tbody tr th:only-of-type {\n",
       "        vertical-align: middle;\n",
       "    }\n",
       "\n",
       "    .dataframe tbody tr th {\n",
       "        vertical-align: top;\n",
       "    }\n",
       "\n",
       "    .dataframe thead th {\n",
       "        text-align: right;\n",
       "    }\n",
       "</style>\n",
       "<table border=\"1\" class=\"dataframe\">\n",
       "  <thead>\n",
       "    <tr style=\"text-align: right;\">\n",
       "      <th></th>\n",
       "      <th>Original Price</th>\n",
       "      <th>Discount Code</th>\n",
       "      <th>Available Rooms</th>\n",
       "      <th>Hotel Stars</th>\n",
       "      <th>DayDiff</th>\n",
       "      <th>Checkin_Date_num</th>\n",
       "      <th>WeekDay_num</th>\n",
       "    </tr>\n",
       "  </thead>\n",
       "  <tbody>\n",
       "    <tr>\n",
       "      <th>14674</th>\n",
       "      <td>-0.577350</td>\n",
       "      <td>2</td>\n",
       "      <td>0.894789</td>\n",
       "      <td>5</td>\n",
       "      <td>-0.740191</td>\n",
       "      <td>-0.740191</td>\n",
       "      <td>2</td>\n",
       "    </tr>\n",
       "    <tr>\n",
       "      <th>23128</th>\n",
       "      <td>-0.577350</td>\n",
       "      <td>2</td>\n",
       "      <td>-0.308821</td>\n",
       "      <td>5</td>\n",
       "      <td>0.893334</td>\n",
       "      <td>0.893334</td>\n",
       "      <td>3</td>\n",
       "    </tr>\n",
       "    <tr>\n",
       "      <th>23126</th>\n",
       "      <td>-0.577350</td>\n",
       "      <td>2</td>\n",
       "      <td>0.324658</td>\n",
       "      <td>5</td>\n",
       "      <td>-0.127619</td>\n",
       "      <td>-0.127619</td>\n",
       "      <td>5</td>\n",
       "    </tr>\n",
       "    <tr>\n",
       "      <th>14675</th>\n",
       "      <td>-0.577350</td>\n",
       "      <td>2</td>\n",
       "      <td>0.894789</td>\n",
       "      <td>5</td>\n",
       "      <td>-0.536000</td>\n",
       "      <td>-0.536000</td>\n",
       "      <td>3</td>\n",
       "    </tr>\n",
       "    <tr>\n",
       "      <th>14676</th>\n",
       "      <td>-0.577350</td>\n",
       "      <td>2</td>\n",
       "      <td>0.894789</td>\n",
       "      <td>5</td>\n",
       "      <td>-0.331810</td>\n",
       "      <td>-0.331810</td>\n",
       "      <td>4</td>\n",
       "    </tr>\n",
       "    <tr>\n",
       "      <th>14679</th>\n",
       "      <td>-0.577350</td>\n",
       "      <td>2</td>\n",
       "      <td>-0.308821</td>\n",
       "      <td>5</td>\n",
       "      <td>0.893334</td>\n",
       "      <td>0.893334</td>\n",
       "      <td>3</td>\n",
       "    </tr>\n",
       "    <tr>\n",
       "      <th>14673</th>\n",
       "      <td>1.732051</td>\n",
       "      <td>2</td>\n",
       "      <td>-1.575779</td>\n",
       "      <td>5</td>\n",
       "      <td>-0.944382</td>\n",
       "      <td>-0.944382</td>\n",
       "      <td>1</td>\n",
       "    </tr>\n",
       "    <tr>\n",
       "      <th>23122</th>\n",
       "      <td>1.732051</td>\n",
       "      <td>2</td>\n",
       "      <td>-1.575779</td>\n",
       "      <td>5</td>\n",
       "      <td>-0.944382</td>\n",
       "      <td>-0.944382</td>\n",
       "      <td>1</td>\n",
       "    </tr>\n",
       "    <tr>\n",
       "      <th>14682</th>\n",
       "      <td>-0.577350</td>\n",
       "      <td>2</td>\n",
       "      <td>0.958137</td>\n",
       "      <td>5</td>\n",
       "      <td>1.914287</td>\n",
       "      <td>1.914287</td>\n",
       "      <td>1</td>\n",
       "    </tr>\n",
       "    <tr>\n",
       "      <th>23131</th>\n",
       "      <td>-0.577350</td>\n",
       "      <td>2</td>\n",
       "      <td>0.894789</td>\n",
       "      <td>5</td>\n",
       "      <td>1.710096</td>\n",
       "      <td>1.710096</td>\n",
       "      <td>0</td>\n",
       "    </tr>\n",
       "  </tbody>\n",
       "</table>\n",
       "</div>"
      ],
      "text/plain": [
       "       Original Price  Discount Code  Available Rooms  Hotel Stars   DayDiff  \\\n",
       "14674       -0.577350              2         0.894789            5 -0.740191   \n",
       "23128       -0.577350              2        -0.308821            5  0.893334   \n",
       "23126       -0.577350              2         0.324658            5 -0.127619   \n",
       "14675       -0.577350              2         0.894789            5 -0.536000   \n",
       "14676       -0.577350              2         0.894789            5 -0.331810   \n",
       "14679       -0.577350              2        -0.308821            5  0.893334   \n",
       "14673        1.732051              2        -1.575779            5 -0.944382   \n",
       "23122        1.732051              2        -1.575779            5 -0.944382   \n",
       "14682       -0.577350              2         0.958137            5  1.914287   \n",
       "23131       -0.577350              2         0.894789            5  1.710096   \n",
       "\n",
       "       Checkin_Date_num  WeekDay_num  \n",
       "14674         -0.740191            2  \n",
       "23128          0.893334            3  \n",
       "23126         -0.127619            5  \n",
       "14675         -0.536000            3  \n",
       "14676         -0.331810            4  \n",
       "14679          0.893334            3  \n",
       "14673         -0.944382            1  \n",
       "23122         -0.944382            1  \n",
       "14682          1.914287            1  \n",
       "23131          1.710096            0  "
      ]
     },
     "metadata": {},
     "output_type": "display_data"
    },
    {
     "name": "stdout",
     "output_type": "stream",
     "text": [
      "Final Training Target (first 10 rows):\n"
     ]
    },
    {
     "data": {
      "text/plain": [
       "14674   -1.181530\n",
       "23128   -1.016185\n",
       "23126   -1.016185\n",
       "14675   -1.016185\n",
       "14676   -1.016185\n",
       "14679   -1.016185\n",
       "14673    0.017223\n",
       "23122    0.017223\n",
       "14682    0.471923\n",
       "23131    0.471923\n",
       "Name: Discount Price, dtype: float64"
      ]
     },
     "metadata": {},
     "output_type": "display_data"
    },
    {
     "name": "stdout",
     "output_type": "stream",
     "text": [
      "--------------------------------------------------\n",
      "\n"
     ]
    }
   ],
   "source": [
    "def active_sampling_loop_debug_table(X, y, max_iterations=10, uncertainty_threshold=0.05, initial_sample_indices=None):\n",
    "    n_samples = X.shape[0]\n",
    "    if initial_sample_indices is None:\n",
    "        initial_sample_indices = [0, n_samples // 2, n_samples - 1]\n",
    "    \n",
    "    training_indices = set(initial_sample_indices)\n",
    "    candidate_indices = set(range(n_samples)) - training_indices\n",
    "    iteration_log = []\n",
    "    \n",
    "    for iteration in range(max_iterations):\n",
    "        X_train = X.iloc[sorted(list(training_indices))]\n",
    "        y_train = y.iloc[sorted(list(training_indices))]\n",
    "\n",
    "        model = initialize_model()\n",
    "        model.fit(X_train, y_train)\n",
    "        \n",
    "        candidate_list = sorted(list(candidate_indices))\n",
    "        X_candidates = X.iloc[candidate_list]\n",
    "        y_pred_candidates, std_candidates = model.predict(X_candidates, return_std=True)\n",
    "        \n",
    "        max_std = np.max(std_candidates)\n",
    "        chosen_candidate_idx = candidate_list[np.argmax(std_candidates)]\n",
    "        \n",
    "        y_pred_full = model.predict(X)\n",
    "        current_r2 = r2_score(y, y_pred_full)\n",
    "        \n",
    "        iteration_details = {\n",
    "            \"Iteration\": iteration,\n",
    "            \"Training Indices\": \", \".join(map(str, sorted(training_indices))),\n",
    "            \"Candidate Indices\": \", \".join(map(str, sorted(candidate_indices))),\n",
    "            \"Candidate Uncertainties\": str(np.round(std_candidates, 4).tolist()),\n",
    "            \"Max Uncertainty\": round(max_std, 4),\n",
    "            \"Chosen Candidate\": chosen_candidate_idx,\n",
    "            \"Current R²\": round(current_r2, 4)\n",
    "        }\n",
    "        iteration_log.append(iteration_details)\n",
    "        \n",
    "        if max_std < uncertainty_threshold:\n",
    "            break\n",
    "        \n",
    "        training_indices.add(chosen_candidate_idx)\n",
    "        candidate_indices.remove(chosen_candidate_idx)\n",
    "    \n",
    "    X_final = X.iloc[sorted(list(training_indices))]\n",
    "    y_final = y.iloc[sorted(list(training_indices))]\n",
    "    final_model = initialize_model()\n",
    "    final_model.fit(X_final, y_final)\n",
    "    final_predictions = final_model.predict(X)\n",
    "    final_r2 = r2_score(y, final_predictions)\n",
    "    \n",
    "    final_details = {\n",
    "        \"Final R²\": round(final_r2, 4),\n",
    "        \"Total Samples Used\": len(training_indices)\n",
    "    }\n",
    "    \n",
    "    print(\"Iteration Details:\")\n",
    "    display(pd.DataFrame(iteration_log))\n",
    "    print(\"\\nFinal Details:\")\n",
    "    display(pd.DataFrame([final_details]))\n",
    "    \n",
    "    print(\"\\nFinal Training Data (first 10 rows):\")\n",
    "    display(X_final.head(10))\n",
    "    print(\"Final Training Target (first 10 rows):\")\n",
    "    display(y_final.head(10))\n",
    "    \n",
    "    return {\n",
    "        'final_model': final_model,\n",
    "        'final_predictions': final_predictions,\n",
    "        'final_r2': final_r2,\n",
    "        'iteration_log': iteration_log,\n",
    "        'total_samples_used': len(training_indices)\n",
    "    }\n",
    "\n",
    "# Debug the basic loop for selected parameters from the suspected outlier group.\n",
    "params_to_debug = [params_mostData[9], params_mostData[21], params_mostData[29]]\n",
    "\n",
    "for param in params_to_debug:\n",
    "    print(\"--------------------------------------------------\")\n",
    "    print(f\"Debugging for parameter: {param['Snapshot Date']} | {param['Hotel Name']} | {param['Discount Code']}\")\n",
    "    X_debug, y_debug, scaler, reverse_scaling = prepare_training_data(param, data_filtered)\n",
    "    result_debug = active_sampling_loop_debug_table(X_debug, y_debug, max_iterations=15, uncertainty_threshold=0.05)\n",
    "    print(\"--------------------------------------------------\\n\")\n"
   ]
  },
  {
   "cell_type": "markdown",
   "metadata": {},
   "source": [
    "**Analysis and Improvements: Understanding R² and Model Behavior**\n",
    "\n",
    " **What We Found**\n",
    "- **Initial Sample Homogeneity:**  \n",
    "  We observed that the three initial samples (selected using indices `[0, n_samples // 2, n_samples - 1]`) in out outliers cased often turn out to be very similar. having the same discount price. \n",
    "  - This causes the model to quickly learn a prediction near initial indices discount price.\n",
    "\n",
    " **A Reminder About R²**\n",
    "- **R² (Coefficient of Determination):**  \n",
    "  Measures how well the model explains the variance in the target variable.\n",
    "  - **R² ≈ 1:** The model explains nearly all the variability.\n",
    "  - **R² ≈ 0:** The model performs no better than simply predicting the mean.\n",
    "  - **Negative R²:** The model performs worse than predicting the mean.\n",
    "\n",
    " **Illustrative Examples**\n",
    "1. **Example 1:** `[1, 3, 5, 7, 1, 8, 4, 7, 1]`\n",
    "   - **Average Calculation:**  \n",
    "     Sum = 37, Average ≈ 4.11  \n",
    "   - **Scenario:**  \n",
    "     If the model starts with three initial samples that are all `1`, it learns that the target is about 1.  \n",
    "     However, because the overall average is 4.11, predicting 1 is far off, resulting in a very poor model fit (negative R²).\n",
    "\n",
    "2. **Example 2:** `[1, 1, 1, 1, 1, 1, 1, 3, 1]`\n",
    "   - **Average Calculation:**  \n",
    "     Sum = 11, Average ≈ 1.22  \n",
    "   - **Scenario:**  \n",
    "     If the model again starts with three `1`s, it learns that the target is about 1.  \n",
    "     Here, because the overall average is close to 1 (1.22), the prediction is nearly as good as the average, leading to an R² close to 0.\n",
    "\n",
    "These examples illustrate that when initial samples are too similar, the model essentially learns to predict a single value—its prediction is then almost equivalent to the mean, causing R² to be very low or even negative.\n",
    "\n",
    " **How to Improve the Model**\n",
    "**Potential Strategies:**\n",
    "- **Quantile-Based (Sorted) Sampling:**  \n",
    "  - *Pros:* Ensures that the initial samples cover the full range of discount prices.\n",
    "  - *Cons:* Requires additional preprocessing to determine quantile indices. im most cases this would lead to a trade of with sampling amount.\n",
    "- **Increasing the Initial Sample Count:**  \n",
    "  - *Pros:* Captures more variability by starting with more diverse data points.\n",
    "  - *Cons:* Increases computational cost in early iterations + may not solve the problem in all cases (see example 2).\n",
    "- **Random or Stratified Sampling:**  \n",
    "  - *Pros:* Reduces bias and ensures different segments of the data are represented.\n",
    "  - *Cons:* May yield inconsistent results unless a fixed random seed is used + may not solve the problem in all cases (see example 2).\n",
    "\n",
    "**Current Approach:**  \n",
    "We currently sort the sub-dataset by discount price so that the initial samples are drawn from different parts of the distribution. However, when the data are naturally homogeneous, this method may still select very similar points.\n",
    "\n",
    " **Summary**\n",
    "When the initial sample points are too similar, the model essentially learns to predict a value near the average, leading to an R² near 0 or even negative scores. In contrast, a more diverse set of initial samples could improve the model’s ability to capture the data’s variability. Our next steps will focus on refining the sampling strategy—possibly using quantile-based or stratified sampling—and exploring a higher minimum sample threshold to achieve better model performance.\n"
   ]
  },
  {
   "cell_type": "markdown",
   "metadata": {},
   "source": [
    "##### "
   ]
  },
  {
   "cell_type": "markdown",
   "metadata": {},
   "source": [
    "### Sorting the data and visualizing the results"
   ]
  },
  {
   "cell_type": "markdown",
   "metadata": {},
   "source": [
    "I add the sort option to `prepare_training_data`, if sort=true the data will be sorted by discount price.\n",
    "```py\n",
    "\n",
    "if sorted:\n",
    "        normalized = normalized.sort_values(by=\"Discount Price\")\n",
    "\n",
    "```\n",
    "\n",
    "and added the same option to `run_active_sampling_stagnant` and `run_active_sampling_basic`.\n",
    "\n",
    "lets see the result."
   ]
  },
  {
   "cell_type": "code",
   "execution_count": null,
   "metadata": {},
   "outputs": [
    {
     "name": "stderr",
     "output_type": "stream",
     "text": [
      "Running basic active sampling: 100%|██████████| 40/40 [00:37<00:00,  1.07it/s]\n"
     ]
    },
    {
     "data": {
      "image/png": "[encoded data removed]",
      "text/plain": [
       "<Figure size 1800x600 with 3 Axes>"
      ]
     },
     "metadata": {},
     "output_type": "display_data"
    },
    {
     "name": "stdout",
     "output_type": "stream",
     "text": [
      "Average Final R²: 0.9999\n",
      "Average Samples Used: 17.98\n",
      "Average Data Utilization: 67.82%\n"
     ]
    }
   ],
   "source": [
    "results_basic = run_active_sampling_basic(params_mostData, data_filtered, sort=True, verbose=False, **basic_hyperparams)\n",
    "visualize_aggregated_results(results_basic, \"Basic - sorted\", basic_hyperparams)"
   ]
  },
  {
   "cell_type": "code",
   "execution_count": null,
   "metadata": {},
   "outputs": [
    {
     "name": "stderr",
     "output_type": "stream",
     "text": [
      "Running stagnant active sampling: 100%|██████████| 40/40 [00:23<00:00,  1.71it/s]\n"
     ]
    },
    {
     "data": {
      "image/png": "[encoded data removed]",
      "text/plain": [
       "<Figure size 1800x600 with 3 Axes>"
      ]
     },
     "metadata": {},
     "output_type": "display_data"
    },
    {
     "name": "stdout",
     "output_type": "stream",
     "text": [
      "Average Final R²: 0.9998\n",
      "Average Samples Used: 12.80\n",
      "Average Data Utilization: 48.33%\n"
     ]
    }
   ],
   "source": [
    "results_stagnant = run_active_sampling_stagnant(params_mostData, data_filtered, sort=True ,verbose=False, **stagnant_hyperparams)\n",
    "visualize_aggregated_results(results_stagnant, \"Stagnant - sorted\", stagnant_hyperparams)"
   ]
  },
  {
   "cell_type": "markdown",
   "metadata": {},
   "source": [
    "![Basic results](./images/step4-basic-sorted-Result(pre-tuning).png)\n",
    "![stagnat results](./images/step4-stagnat-sorted-Result(pre-tuning).png)\n",
    "\n",
    "**Wow!** This improvement is insane! but the data utilization is not so great, 67% percent for basic and 48% for stagnant, we can do better!\n",
    "Lets fine tune the hyper parameters to lose some performance for less trining."
   ]
  },
  {
   "cell_type": "markdown",
   "metadata": {},
   "source": [
    "### Fine-tuning hyperparameters  to get the best R^2 to Data utilization"
   ]
  },
  {
   "cell_type": "markdown",
   "metadata": {},
   "source": [
    "Our goal is to strike the right balance between model performance (as measured by R²) and data efficiency (minimizing the percentage of available data used).\n",
    "In our active sampling loops, the stopping criteria play a key role in this trade-off.\n",
    "\n",
    " **What We’re Tuning**\n",
    "\n",
    "**For the Basic Active Sampling Loop:**\n",
    "- **max_iterations:** The maximum number of iterations allowed.\n",
    "- **uncertainty_threshold:** The threshold below which the model’s uncertainty is considered low enough to stop sampling.\n",
    "\n",
    "**For the Stagnant Active Sampling Loop:**\n",
    "- **max_iterations:** Same as above.\n",
    "- **uncertainty_threshold:** Primary stopping threshold.\n",
    "- **higher_uncertainty_threshold:** A secondary threshold used when combined with stagnation.\n",
    "- **r2_improvement_threshold:** The minimum improvement in R² required between iterations.\n",
    "- **max_stagnant_iterations:** The maximum number of consecutive iterations with minimal R² improvement before stopping.\n",
    "\n",
    "**How would we do that?**\n",
    "\n",
    "We would use **BayesianOptimization** to fine-tune our hyperparameters because it efficiently explores the hyperparameter space by balancing exploration and exploitation. This method requires fewer iterations compared to exhaustive grid search and quickly converges to the best set of parameters that maximize our model's R².\n",
    "\n",
    "Our objective function returns the final R², and we define bounds for key hyperparameters (like uncertainty thresholds, R² improvement thresholds, and the maximum stagnant iterations). The optimized parameters help improve model performance and data utilization."
   ]
  },
  {
   "cell_type": "markdown",
   "metadata": {},
   "source": [
    "#### Fine-Tuning with Bayesian Optimization\n"
   ]
  },
  {
   "cell_type": "markdown",
   "metadata": {},
   "source": [
    "**Fine-Tuning Hyperparameters with Bayesian Optimization**\n",
    "\n",
    "We use Bayesian Optimization to search for the best hyperparameters for our stagnant active sampling loop. Our objective function, `objective_hyperparams_stagnant/basic`, randomly selects 5 parameter combinations from `params_mostData` (with sorted data) and runs the stagnant active sampling loop on each. It then computes the average final R² and average data utilization. A penalty is applied if the average R² falls below 0.96, ensuring that only hyperparameters yielding strong performance are favored.\n",
    "\n",
    "The optimizer then finds the hyperparameter values that maximize our objective. We save the optimized hyperparameters in a variable (`stagnant/basic_optimized_hyperparameters`) and also pickle them to disk for future use. Finally, we run the stagnant active sampling loop with these optimized parameters and visualize the results.\n",
    "\n",
    "This process ensures we balance high R² performance with low data utilization.\n"
   ]
  },
  {
   "cell_type": "code",
   "execution_count": null,
   "metadata": {},
   "outputs": [],
   "source": [
    "%%capture\n",
    "%pip install bayesian-optimization"
   ]
  },
  {
   "cell_type": "markdown",
   "metadata": {},
   "source": [
    "##### Basic hyperparameters optimization"
   ]
  },
  {
   "cell_type": "code",
   "execution_count": null,
   "metadata": {},
   "outputs": [
    {
     "name": "stdout",
     "output_type": "stream",
     "text": [
      "|   iter    |  target   | max_it... | uncert... |\n",
      "-------------------------------------------------\n"
     ]
    },
    {
     "name": "stderr",
     "output_type": "stream",
     "text": [
      "Running basic active sampling: 100%|██████████| 3/3 [00:03<00:00,  1.05s/it]\n"
     ]
    },
    {
     "name": "stdout",
     "output_type": "stream",
     "text": [
      "| \u001b[39m1        \u001b[39m | \u001b[39m0.5144   \u001b[39m | \u001b[39m17.49    \u001b[39m | \u001b[39m0.09556  \u001b[39m |\n"
     ]
    },
    {
     "name": "stderr",
     "output_type": "stream",
     "text": [
      "Running basic active sampling: 100%|██████████| 3/3 [00:02<00:00,  1.29it/s]\n"
     ]
    },
    {
     "name": "stdout",
     "output_type": "stream",
     "text": [
      "| \u001b[39m2        \u001b[39m | \u001b[39m0.3338   \u001b[39m | \u001b[39m24.64    \u001b[39m | \u001b[39m0.06388  \u001b[39m |\n"
     ]
    },
    {
     "name": "stderr",
     "output_type": "stream",
     "text": [
      "Running basic active sampling: 100%|██████████| 3/3 [00:01<00:00,  1.62it/s]\n"
     ]
    },
    {
     "name": "stdout",
     "output_type": "stream",
     "text": [
      "| \u001b[39m3        \u001b[39m | \u001b[39m0.3593   \u001b[39m | \u001b[39m13.12    \u001b[39m | \u001b[39m0.02404  \u001b[39m |\n"
     ]
    },
    {
     "name": "stderr",
     "output_type": "stream",
     "text": [
      "Running basic active sampling: 100%|██████████| 3/3 [00:01<00:00,  2.06it/s]\n"
     ]
    },
    {
     "name": "stdout",
     "output_type": "stream",
     "text": [
      "| \u001b[39m4        \u001b[39m | \u001b[39m0.5011   \u001b[39m | \u001b[39m11.16    \u001b[39m | \u001b[39m0.08796  \u001b[39m |\n"
     ]
    },
    {
     "name": "stderr",
     "output_type": "stream",
     "text": [
      "Running basic active sampling: 100%|██████████| 3/3 [00:02<00:00,  1.46it/s]\n"
     ]
    },
    {
     "name": "stdout",
     "output_type": "stream",
     "text": [
      "| \u001b[39m5        \u001b[39m | \u001b[39m0.476    \u001b[39m | \u001b[39m22.02    \u001b[39m | \u001b[39m0.07373  \u001b[39m |\n"
     ]
    },
    {
     "name": "stderr",
     "output_type": "stream",
     "text": [
      "Running basic active sampling: 100%|██████████| 3/3 [00:02<00:00,  1.07it/s]\n"
     ]
    },
    {
     "name": "stdout",
     "output_type": "stream",
     "text": [
      "| \u001b[39m6        \u001b[39m | \u001b[39m0.2101   \u001b[39m | \u001b[39m17.45    \u001b[39m | \u001b[39m0.03864  \u001b[39m |\n"
     ]
    },
    {
     "name": "stderr",
     "output_type": "stream",
     "text": [
      "Running basic active sampling: 100%|██████████| 3/3 [00:04<00:00,  1.55s/it]\n"
     ]
    },
    {
     "name": "stdout",
     "output_type": "stream",
     "text": [
      "| \u001b[39m7        \u001b[39m | \u001b[39m0.0732   \u001b[39m | \u001b[39m26.57    \u001b[39m | \u001b[39m0.03702  \u001b[39m |\n"
     ]
    },
    {
     "name": "stderr",
     "output_type": "stream",
     "text": [
      "Running basic active sampling: 100%|██████████| 3/3 [00:02<00:00,  1.11it/s]\n"
     ]
    },
    {
     "name": "stdout",
     "output_type": "stream",
     "text": [
      "| \u001b[39m8        \u001b[39m | \u001b[39m0.4464   \u001b[39m | \u001b[39m12.03    \u001b[39m | \u001b[39m0.05695  \u001b[39m |\n"
     ]
    },
    {
     "name": "stderr",
     "output_type": "stream",
     "text": [
      "Running basic active sampling: 100%|██████████| 3/3 [00:02<00:00,  1.45it/s]\n"
     ]
    },
    {
     "name": "stdout",
     "output_type": "stream",
     "text": [
      "| \u001b[35m9        \u001b[39m | \u001b[35m0.5667   \u001b[39m | \u001b[35m10.11    \u001b[39m | \u001b[35m0.05174  \u001b[39m |\n"
     ]
    },
    {
     "name": "stderr",
     "output_type": "stream",
     "text": [
      "Running basic active sampling: 100%|██████████| 3/3 [00:02<00:00,  1.13it/s]\n"
     ]
    },
    {
     "name": "stdout",
     "output_type": "stream",
     "text": [
      "| \u001b[39m10       \u001b[39m | \u001b[39m0.4188   \u001b[39m | \u001b[39m23.35    \u001b[39m | \u001b[39m0.0678   \u001b[39m |\n"
     ]
    },
    {
     "name": "stderr",
     "output_type": "stream",
     "text": [
      "Running basic active sampling: 100%|██████████| 3/3 [00:01<00:00,  1.63it/s]\n"
     ]
    },
    {
     "name": "stdout",
     "output_type": "stream",
     "text": [
      "| \u001b[39m11       \u001b[39m | \u001b[39m0.4577   \u001b[39m | \u001b[39m10.65    \u001b[39m | \u001b[39m0.02937  \u001b[39m |\n"
     ]
    },
    {
     "name": "stderr",
     "output_type": "stream",
     "text": [
      "Running basic active sampling: 100%|██████████| 3/3 [00:02<00:00,  1.47it/s]\n"
     ]
    },
    {
     "name": "stdout",
     "output_type": "stream",
     "text": [
      "| \u001b[39m12       \u001b[39m | \u001b[39m0.4906   \u001b[39m | \u001b[39m18.84    \u001b[39m | \u001b[39m0.08419  \u001b[39m |\n"
     ]
    },
    {
     "name": "stderr",
     "output_type": "stream",
     "text": [
      "Running basic active sampling: 100%|██████████| 3/3 [00:02<00:00,  1.46it/s]\n"
     ]
    },
    {
     "name": "stdout",
     "output_type": "stream",
     "text": [
      "| \u001b[39m13       \u001b[39m | \u001b[39m0.5328   \u001b[39m | \u001b[39m10.37    \u001b[39m | \u001b[39m0.04945  \u001b[39m |\n"
     ]
    },
    {
     "name": "stderr",
     "output_type": "stream",
     "text": [
      "Running basic active sampling: 100%|██████████| 3/3 [00:03<00:00,  1.23s/it]\n"
     ]
    },
    {
     "name": "stdout",
     "output_type": "stream",
     "text": [
      "| \u001b[39m14       \u001b[39m | \u001b[39m0.253    \u001b[39m | \u001b[39m17.9     \u001b[39m | \u001b[39m0.05386  \u001b[39m |\n"
     ]
    },
    {
     "name": "stderr",
     "output_type": "stream",
     "text": [
      "Running basic active sampling: 100%|██████████| 3/3 [00:05<00:00,  1.89s/it]\n"
     ]
    },
    {
     "name": "stdout",
     "output_type": "stream",
     "text": [
      "| \u001b[39m15       \u001b[39m | \u001b[39m0.08889  \u001b[39m | \u001b[39m23.8     \u001b[39m | \u001b[39m0.02102  \u001b[39m |\n"
     ]
    },
    {
     "name": "stderr",
     "output_type": "stream",
     "text": [
      "Running basic active sampling: 100%|██████████| 3/3 [00:03<00:00,  1.17s/it]\n"
     ]
    },
    {
     "name": "stdout",
     "output_type": "stream",
     "text": [
      "| \u001b[39m16       \u001b[39m | \u001b[39m0.0      \u001b[39m | \u001b[39m22.08    \u001b[39m | \u001b[39m0.02365  \u001b[39m |\n"
     ]
    },
    {
     "name": "stderr",
     "output_type": "stream",
     "text": [
      "Running basic active sampling: 100%|██████████| 3/3 [00:01<00:00,  1.98it/s]\n"
     ]
    },
    {
     "name": "stdout",
     "output_type": "stream",
     "text": [
      "| \u001b[39m17       \u001b[39m | \u001b[39m0.4733   \u001b[39m | \u001b[39m25.86    \u001b[39m | \u001b[39m0.08955  \u001b[39m |\n"
     ]
    },
    {
     "name": "stderr",
     "output_type": "stream",
     "text": [
      "Running basic active sampling: 100%|██████████| 3/3 [00:02<00:00,  1.01it/s]\n"
     ]
    },
    {
     "name": "stdout",
     "output_type": "stream",
     "text": [
      "| \u001b[39m18       \u001b[39m | \u001b[39m0.1707   \u001b[39m | \u001b[39m18.39    \u001b[39m | \u001b[39m0.02489  \u001b[39m |\n"
     ]
    },
    {
     "name": "stderr",
     "output_type": "stream",
     "text": [
      "Running basic active sampling: 100%|██████████| 3/3 [00:02<00:00,  1.39it/s]\n"
     ]
    },
    {
     "name": "stdout",
     "output_type": "stream",
     "text": [
      "| \u001b[39m19       \u001b[39m | \u001b[39m0.3659   \u001b[39m | \u001b[39m12.3     \u001b[39m | \u001b[39m0.02786  \u001b[39m |\n"
     ]
    },
    {
     "name": "stderr",
     "output_type": "stream",
     "text": [
      "Running basic active sampling: 100%|██████████| 3/3 [00:04<00:00,  1.35s/it]\n"
     ]
    },
    {
     "name": "stdout",
     "output_type": "stream",
     "text": [
      "| \u001b[39m20       \u001b[39m | \u001b[39m0.04786  \u001b[39m | \u001b[39m29.11    \u001b[39m | \u001b[39m0.03353  \u001b[39m |\n"
     ]
    },
    {
     "name": "stderr",
     "output_type": "stream",
     "text": [
      "Running basic active sampling: 100%|██████████| 3/3 [00:01<00:00,  1.65it/s]\n"
     ]
    },
    {
     "name": "stdout",
     "output_type": "stream",
     "text": [
      "| \u001b[39m21       \u001b[39m | \u001b[39m0.4889   \u001b[39m | \u001b[39m26.27    \u001b[39m | \u001b[39m0.0822   \u001b[39m |\n"
     ]
    },
    {
     "name": "stderr",
     "output_type": "stream",
     "text": [
      "Running basic active sampling: 100%|██████████| 3/3 [00:01<00:00,  1.59it/s]\n"
     ]
    },
    {
     "name": "stdout",
     "output_type": "stream",
     "text": [
      "| \u001b[39m22       \u001b[39m | \u001b[39m0.4221   \u001b[39m | \u001b[39m14.17    \u001b[39m | \u001b[39m0.07975  \u001b[39m |\n"
     ]
    },
    {
     "name": "stderr",
     "output_type": "stream",
     "text": [
      "Running basic active sampling: 100%|██████████| 3/3 [00:01<00:00,  1.72it/s]\n"
     ]
    },
    {
     "name": "stdout",
     "output_type": "stream",
     "text": [
      "| \u001b[39m23       \u001b[39m | \u001b[39m0.4332   \u001b[39m | \u001b[39m26.38    \u001b[39m | \u001b[39m0.07127  \u001b[39m |\n"
     ]
    },
    {
     "name": "stderr",
     "output_type": "stream",
     "text": [
      "Running basic active sampling: 100%|██████████| 3/3 [00:01<00:00,  1.54it/s]\n"
     ]
    },
    {
     "name": "stdout",
     "output_type": "stream",
     "text": [
      "| \u001b[39m24       \u001b[39m | \u001b[39m0.3815   \u001b[39m | \u001b[39m20.04    \u001b[39m | \u001b[39m0.07047  \u001b[39m |\n"
     ]
    },
    {
     "name": "stderr",
     "output_type": "stream",
     "text": [
      "Running basic active sampling: 100%|██████████| 3/3 [00:01<00:00,  1.54it/s]\n"
     ]
    },
    {
     "name": "stdout",
     "output_type": "stream",
     "text": [
      "| \u001b[39m25       \u001b[39m | \u001b[39m0.4569   \u001b[39m | \u001b[39m22.69    \u001b[39m | \u001b[39m0.07888  \u001b[39m |\n"
     ]
    },
    {
     "name": "stderr",
     "output_type": "stream",
     "text": [
      "Running basic active sampling: 100%|██████████| 3/3 [00:01<00:00,  1.82it/s]\n"
     ]
    },
    {
     "name": "stdout",
     "output_type": "stream",
     "text": [
      "| \u001b[39m26       \u001b[39m | \u001b[39m0.3988   \u001b[39m | \u001b[39m18.19    \u001b[39m | \u001b[39m0.08213  \u001b[39m |\n"
     ]
    },
    {
     "name": "stderr",
     "output_type": "stream",
     "text": [
      "Running basic active sampling: 100%|██████████| 3/3 [00:01<00:00,  1.89it/s]\n"
     ]
    },
    {
     "name": "stdout",
     "output_type": "stream",
     "text": [
      "| \u001b[39m27       \u001b[39m | \u001b[39m0.5022   \u001b[39m | \u001b[39m11.36    \u001b[39m | \u001b[39m0.04701  \u001b[39m |\n"
     ]
    },
    {
     "name": "stderr",
     "output_type": "stream",
     "text": [
      "Running basic active sampling: 100%|██████████| 3/3 [00:02<00:00,  1.39it/s]\n"
     ]
    },
    {
     "name": "stdout",
     "output_type": "stream",
     "text": [
      "| \u001b[35m28       \u001b[39m | \u001b[35m0.6036   \u001b[39m | \u001b[35m10.53    \u001b[39m | \u001b[35m0.09099  \u001b[39m |\n"
     ]
    },
    {
     "name": "stderr",
     "output_type": "stream",
     "text": [
      "Running basic active sampling: 100%|██████████| 3/3 [00:05<00:00,  1.72s/it]\n"
     ]
    },
    {
     "name": "stdout",
     "output_type": "stream",
     "text": [
      "| \u001b[39m29       \u001b[39m | \u001b[39m0.05556  \u001b[39m | \u001b[39m22.96    \u001b[39m | \u001b[39m0.02055  \u001b[39m |\n"
     ]
    },
    {
     "name": "stderr",
     "output_type": "stream",
     "text": [
      "Running basic active sampling: 100%|██████████| 3/3 [00:03<00:00,  1.04s/it]\n"
     ]
    },
    {
     "name": "stdout",
     "output_type": "stream",
     "text": [
      "| \u001b[39m30       \u001b[39m | \u001b[39m0.1392   \u001b[39m | \u001b[39m19.27    \u001b[39m | \u001b[39m0.04267  \u001b[39m |\n"
     ]
    },
    {
     "name": "stderr",
     "output_type": "stream",
     "text": [
      "Running basic active sampling: 100%|██████████| 3/3 [00:01<00:00,  1.87it/s]\n"
     ]
    },
    {
     "name": "stdout",
     "output_type": "stream",
     "text": [
      "| \u001b[39m31       \u001b[39m | \u001b[39m0.4843   \u001b[39m | \u001b[39m19.3     \u001b[39m | \u001b[39m0.07982  \u001b[39m |\n"
     ]
    },
    {
     "name": "stderr",
     "output_type": "stream",
     "text": [
      "Running basic active sampling: 100%|██████████| 3/3 [00:02<00:00,  1.14it/s]\n"
     ]
    },
    {
     "name": "stdout",
     "output_type": "stream",
     "text": [
      "| \u001b[39m32       \u001b[39m | \u001b[39m0.2175   \u001b[39m | \u001b[39m17.26    \u001b[39m | \u001b[39m0.01591  \u001b[39m |\n"
     ]
    },
    {
     "name": "stderr",
     "output_type": "stream",
     "text": [
      "Running basic active sampling: 100%|██████████| 3/3 [00:03<00:00,  1.29s/it]\n"
     ]
    },
    {
     "name": "stdout",
     "output_type": "stream",
     "text": [
      "| \u001b[39m33       \u001b[39m | \u001b[39m0.0      \u001b[39m | \u001b[39m26.36    \u001b[39m | \u001b[39m0.02943  \u001b[39m |\n"
     ]
    },
    {
     "name": "stderr",
     "output_type": "stream",
     "text": [
      "Running basic active sampling: 100%|██████████| 3/3 [00:01<00:00,  1.60it/s]\n"
     ]
    },
    {
     "name": "stdout",
     "output_type": "stream",
     "text": [
      "| \u001b[39m34       \u001b[39m | \u001b[39m0.4415   \u001b[39m | \u001b[39m28.4     \u001b[39m | \u001b[39m0.08193  \u001b[39m |\n"
     ]
    },
    {
     "name": "stderr",
     "output_type": "stream",
     "text": [
      "Running basic active sampling: 100%|██████████| 3/3 [00:03<00:00,  1.25s/it]\n"
     ]
    },
    {
     "name": "stdout",
     "output_type": "stream",
     "text": [
      "| \u001b[39m35       \u001b[39m | \u001b[39m0.02222  \u001b[39m | \u001b[39m25.8     \u001b[39m | \u001b[39m0.01671  \u001b[39m |\n"
     ]
    },
    {
     "name": "stderr",
     "output_type": "stream",
     "text": [
      "Running basic active sampling: 100%|██████████| 3/3 [00:01<00:00,  1.85it/s]\n"
     ]
    },
    {
     "name": "stdout",
     "output_type": "stream",
     "text": [
      "| \u001b[39m36       \u001b[39m | \u001b[39m0.4456   \u001b[39m | \u001b[39m14.31    \u001b[39m | \u001b[39m0.08573  \u001b[39m |\n"
     ]
    },
    {
     "name": "stderr",
     "output_type": "stream",
     "text": [
      "Running basic active sampling: 100%|██████████| 3/3 [00:02<00:00,  1.29it/s]\n"
     ]
    },
    {
     "name": "stdout",
     "output_type": "stream",
     "text": [
      "| \u001b[39m37       \u001b[39m | \u001b[39m0.2745   \u001b[39m | \u001b[39m17.09    \u001b[39m | \u001b[39m0.05796  \u001b[39m |\n"
     ]
    },
    {
     "name": "stderr",
     "output_type": "stream",
     "text": [
      "Running basic active sampling: 100%|██████████| 3/3 [00:01<00:00,  2.20it/s]\n"
     ]
    },
    {
     "name": "stdout",
     "output_type": "stream",
     "text": [
      "| \u001b[39m38       \u001b[39m | \u001b[39m0.5975   \u001b[39m | \u001b[39m29.85    \u001b[39m | \u001b[39m0.09738  \u001b[39m |\n"
     ]
    },
    {
     "name": "stderr",
     "output_type": "stream",
     "text": [
      "Running basic active sampling: 100%|██████████| 3/3 [00:03<00:00,  1.05s/it]\n"
     ]
    },
    {
     "name": "stdout",
     "output_type": "stream",
     "text": [
      "| \u001b[39m39       \u001b[39m | \u001b[39m0.2692   \u001b[39m | \u001b[39m27.75    \u001b[39m | \u001b[39m0.05319  \u001b[39m |\n"
     ]
    },
    {
     "name": "stderr",
     "output_type": "stream",
     "text": [
      "Running basic active sampling: 100%|██████████| 3/3 [00:01<00:00,  1.60it/s]\n"
     ]
    },
    {
     "name": "stdout",
     "output_type": "stream",
     "text": [
      "| \u001b[39m40       \u001b[39m | \u001b[39m0.382    \u001b[39m | \u001b[39m12.99    \u001b[39m | \u001b[39m0.05059  \u001b[39m |\n"
     ]
    },
    {
     "name": "stderr",
     "output_type": "stream",
     "text": [
      "Running basic active sampling: 100%|██████████| 3/3 [00:02<00:00,  1.28it/s]\n"
     ]
    },
    {
     "name": "stdout",
     "output_type": "stream",
     "text": [
      "| \u001b[39m41       \u001b[39m | \u001b[39m0.2575   \u001b[39m | \u001b[39m17.69    \u001b[39m | \u001b[39m0.05549  \u001b[39m |\n"
     ]
    },
    {
     "name": "stderr",
     "output_type": "stream",
     "text": [
      "Running basic active sampling: 100%|██████████| 3/3 [00:03<00:00,  1.18s/it]\n"
     ]
    },
    {
     "name": "stdout",
     "output_type": "stream",
     "text": [
      "| \u001b[39m42       \u001b[39m | \u001b[39m0.0      \u001b[39m | \u001b[39m27.71    \u001b[39m | \u001b[39m0.0235   \u001b[39m |\n"
     ]
    },
    {
     "name": "stderr",
     "output_type": "stream",
     "text": [
      "Running basic active sampling: 100%|██████████| 3/3 [00:03<00:00,  1.07s/it]\n"
     ]
    },
    {
     "name": "stdout",
     "output_type": "stream",
     "text": [
      "| \u001b[39m43       \u001b[39m | \u001b[39m0.08222  \u001b[39m | \u001b[39m22.47    \u001b[39m | \u001b[39m0.03765  \u001b[39m |\n"
     ]
    },
    {
     "name": "stderr",
     "output_type": "stream",
     "text": [
      "Running basic active sampling: 100%|██████████| 3/3 [00:03<00:00,  1.12s/it]\n"
     ]
    },
    {
     "name": "stdout",
     "output_type": "stream",
     "text": [
      "| \u001b[39m44       \u001b[39m | \u001b[39m0.2759   \u001b[39m | \u001b[39m29.98    \u001b[39m | \u001b[39m0.05371  \u001b[39m |\n"
     ]
    },
    {
     "name": "stderr",
     "output_type": "stream",
     "text": [
      "Running basic active sampling: 100%|██████████| 3/3 [00:03<00:00,  1.24s/it]\n"
     ]
    },
    {
     "name": "stdout",
     "output_type": "stream",
     "text": [
      "| \u001b[39m45       \u001b[39m | \u001b[39m0.01333  \u001b[39m | \u001b[39m27.19    \u001b[39m | \u001b[39m0.0318   \u001b[39m |\n"
     ]
    },
    {
     "name": "stderr",
     "output_type": "stream",
     "text": [
      "Running basic active sampling: 100%|██████████| 3/3 [00:03<00:00,  1.02s/it]\n"
     ]
    },
    {
     "name": "stdout",
     "output_type": "stream",
     "text": [
      "| \u001b[39m46       \u001b[39m | \u001b[39m0.3072   \u001b[39m | \u001b[39m24.64    \u001b[39m | \u001b[39m0.06378  \u001b[39m |\n"
     ]
    },
    {
     "name": "stderr",
     "output_type": "stream",
     "text": [
      "Running basic active sampling: 100%|██████████| 3/3 [00:01<00:00,  1.52it/s]\n"
     ]
    },
    {
     "name": "stdout",
     "output_type": "stream",
     "text": [
      "| \u001b[39m47       \u001b[39m | \u001b[39m0.3659   \u001b[39m | \u001b[39m12.03    \u001b[39m | \u001b[39m0.05725  \u001b[39m |\n"
     ]
    },
    {
     "name": "stderr",
     "output_type": "stream",
     "text": [
      "Running basic active sampling: 100%|██████████| 3/3 [00:01<00:00,  1.61it/s]\n"
     ]
    },
    {
     "name": "stdout",
     "output_type": "stream",
     "text": [
      "| \u001b[39m48       \u001b[39m | \u001b[39m0.5383   \u001b[39m | \u001b[39m10.53    \u001b[39m | \u001b[39m0.09165  \u001b[39m |\n"
     ]
    },
    {
     "name": "stderr",
     "output_type": "stream",
     "text": [
      "Running basic active sampling: 100%|██████████| 3/3 [00:01<00:00,  1.97it/s]\n"
     ]
    },
    {
     "name": "stdout",
     "output_type": "stream",
     "text": [
      "| \u001b[39m49       \u001b[39m | \u001b[39m0.5639   \u001b[39m | \u001b[39m10.11    \u001b[39m | \u001b[39m0.0521   \u001b[39m |\n"
     ]
    },
    {
     "name": "stderr",
     "output_type": "stream",
     "text": [
      "Running basic active sampling: 100%|██████████| 3/3 [00:01<00:00,  1.75it/s]\n"
     ]
    },
    {
     "name": "stdout",
     "output_type": "stream",
     "text": [
      "| \u001b[39m50       \u001b[39m | \u001b[39m0.4725   \u001b[39m | \u001b[39m18.84    \u001b[39m | \u001b[39m0.08258  \u001b[39m |\n"
     ]
    },
    {
     "name": "stderr",
     "output_type": "stream",
     "text": [
      "Running basic active sampling: 100%|██████████| 3/3 [00:01<00:00,  1.92it/s]\n"
     ]
    },
    {
     "name": "stdout",
     "output_type": "stream",
     "text": [
      "| \u001b[39m51       \u001b[39m | \u001b[39m0.46     \u001b[39m | \u001b[39m11.36    \u001b[39m | \u001b[39m0.05     \u001b[39m |\n"
     ]
    },
    {
     "name": "stderr",
     "output_type": "stream",
     "text": [
      "Running basic active sampling: 100%|██████████| 3/3 [00:02<00:00,  1.38it/s]\n"
     ]
    },
    {
     "name": "stdout",
     "output_type": "stream",
     "text": [
      "| \u001b[39m52       \u001b[39m | \u001b[39m0.3237   \u001b[39m | \u001b[39m26.69    \u001b[39m | \u001b[39m0.06233  \u001b[39m |\n"
     ]
    },
    {
     "name": "stderr",
     "output_type": "stream",
     "text": [
      "Running basic active sampling: 100%|██████████| 3/3 [00:01<00:00,  2.36it/s]\n"
     ]
    },
    {
     "name": "stdout",
     "output_type": "stream",
     "text": [
      "| \u001b[35m53       \u001b[39m | \u001b[35m0.624    \u001b[39m | \u001b[35m12.71    \u001b[39m | \u001b[35m0.09002  \u001b[39m |\n"
     ]
    },
    {
     "name": "stderr",
     "output_type": "stream",
     "text": [
      "Running basic active sampling: 100%|██████████| 3/3 [00:01<00:00,  1.91it/s]\n"
     ]
    },
    {
     "name": "stdout",
     "output_type": "stream",
     "text": [
      "| \u001b[39m54       \u001b[39m | \u001b[39m0.4866   \u001b[39m | \u001b[39m10.11    \u001b[39m | \u001b[39m0.0502   \u001b[39m |\n"
     ]
    },
    {
     "name": "stderr",
     "output_type": "stream",
     "text": [
      "Running basic active sampling: 100%|██████████| 3/3 [00:01<00:00,  1.73it/s]\n"
     ]
    },
    {
     "name": "stdout",
     "output_type": "stream",
     "text": [
      "| \u001b[39m55       \u001b[39m | \u001b[39m0.5605   \u001b[39m | \u001b[39m25.86    \u001b[39m | \u001b[39m0.08695  \u001b[39m |\n"
     ]
    },
    {
     "name": "stderr",
     "output_type": "stream",
     "text": [
      "Running basic active sampling: 100%|██████████| 3/3 [00:01<00:00,  2.04it/s]\n"
     ]
    },
    {
     "name": "stdout",
     "output_type": "stream",
     "text": [
      "| \u001b[39m56       \u001b[39m | \u001b[39m0.5874   \u001b[39m | \u001b[39m29.85    \u001b[39m | \u001b[39m0.09818  \u001b[39m |\n"
     ]
    },
    {
     "name": "stderr",
     "output_type": "stream",
     "text": [
      "Running basic active sampling: 100%|██████████| 3/3 [00:01<00:00,  1.94it/s]\n"
     ]
    },
    {
     "name": "stdout",
     "output_type": "stream",
     "text": [
      "| \u001b[39m57       \u001b[39m | \u001b[39m0.5833   \u001b[39m | \u001b[39m12.72    \u001b[39m | \u001b[39m0.08987  \u001b[39m |\n"
     ]
    },
    {
     "name": "stderr",
     "output_type": "stream",
     "text": [
      "Running basic active sampling: 100%|██████████| 3/3 [00:01<00:00,  1.51it/s]\n"
     ]
    },
    {
     "name": "stdout",
     "output_type": "stream",
     "text": [
      "| \u001b[39m58       \u001b[39m | \u001b[39m0.4167   \u001b[39m | \u001b[39m12.15    \u001b[39m | \u001b[39m0.03426  \u001b[39m |\n"
     ]
    },
    {
     "name": "stderr",
     "output_type": "stream",
     "text": [
      "Running basic active sampling: 100%|██████████| 3/3 [00:01<00:00,  1.88it/s]\n"
     ]
    },
    {
     "name": "stdout",
     "output_type": "stream",
     "text": [
      "| \u001b[39m59       \u001b[39m | \u001b[39m0.5417   \u001b[39m | \u001b[39m17.49    \u001b[39m | \u001b[39m0.09279  \u001b[39m |\n"
     ]
    },
    {
     "name": "stderr",
     "output_type": "stream",
     "text": [
      "Running basic active sampling: 100%|██████████| 3/3 [00:01<00:00,  1.85it/s]\n"
     ]
    },
    {
     "name": "stdout",
     "output_type": "stream",
     "text": [
      "| \u001b[39m60       \u001b[39m | \u001b[39m0.4867   \u001b[39m | \u001b[39m29.85    \u001b[39m | \u001b[39m0.09247  \u001b[39m |\n"
     ]
    },
    {
     "name": "stderr",
     "output_type": "stream",
     "text": [
      "Running basic active sampling: 100%|██████████| 3/3 [00:01<00:00,  1.95it/s]\n"
     ]
    },
    {
     "name": "stdout",
     "output_type": "stream",
     "text": [
      "| \u001b[39m61       \u001b[39m | \u001b[39m0.5293   \u001b[39m | \u001b[39m12.71    \u001b[39m | \u001b[39m0.09184  \u001b[39m |\n"
     ]
    },
    {
     "name": "stderr",
     "output_type": "stream",
     "text": [
      "Running basic active sampling: 100%|██████████| 3/3 [00:02<00:00,  1.45it/s]\n"
     ]
    },
    {
     "name": "stdout",
     "output_type": "stream",
     "text": [
      "| \u001b[39m62       \u001b[39m | \u001b[39m0.5133   \u001b[39m | \u001b[39m12.71    \u001b[39m | \u001b[39m0.08792  \u001b[39m |\n"
     ]
    },
    {
     "name": "stderr",
     "output_type": "stream",
     "text": [
      "Running basic active sampling: 100%|██████████| 3/3 [00:01<00:00,  2.11it/s]\n"
     ]
    },
    {
     "name": "stdout",
     "output_type": "stream",
     "text": [
      "| \u001b[39m63       \u001b[39m | \u001b[39m0.5618   \u001b[39m | \u001b[39m17.48    \u001b[39m | \u001b[39m0.09273  \u001b[39m |\n"
     ]
    },
    {
     "name": "stderr",
     "output_type": "stream",
     "text": [
      "Running basic active sampling: 100%|██████████| 3/3 [00:02<00:00,  1.45it/s]\n"
     ]
    },
    {
     "name": "stdout",
     "output_type": "stream",
     "text": [
      "| \u001b[39m64       \u001b[39m | \u001b[39m0.4416   \u001b[39m | \u001b[39m24.64    \u001b[39m | \u001b[39m0.06676  \u001b[39m |\n"
     ]
    },
    {
     "name": "stderr",
     "output_type": "stream",
     "text": [
      "Running basic active sampling: 100%|██████████| 3/3 [00:01<00:00,  2.27it/s]\n"
     ]
    },
    {
     "name": "stdout",
     "output_type": "stream",
     "text": [
      "| \u001b[39m65       \u001b[39m | \u001b[39m0.5912   \u001b[39m | \u001b[39m10.53    \u001b[39m | \u001b[39m0.08642  \u001b[39m |\n"
     ]
    },
    {
     "name": "stderr",
     "output_type": "stream",
     "text": [
      "Running basic active sampling: 100%|██████████| 3/3 [00:01<00:00,  2.19it/s]\n"
     ]
    },
    {
     "name": "stdout",
     "output_type": "stream",
     "text": [
      "| \u001b[39m66       \u001b[39m | \u001b[39m0.5444   \u001b[39m | \u001b[39m10.37    \u001b[39m | \u001b[39m0.05247  \u001b[39m |\n"
     ]
    },
    {
     "name": "stderr",
     "output_type": "stream",
     "text": [
      "Running basic active sampling: 100%|██████████| 3/3 [00:01<00:00,  1.55it/s]\n"
     ]
    },
    {
     "name": "stdout",
     "output_type": "stream",
     "text": [
      "| \u001b[39m67       \u001b[39m | \u001b[39m0.3681   \u001b[39m | \u001b[39m13.64    \u001b[39m | \u001b[39m0.02882  \u001b[39m |\n"
     ]
    },
    {
     "name": "stderr",
     "output_type": "stream",
     "text": [
      "Running basic active sampling: 100%|██████████| 3/3 [00:02<00:00,  1.35it/s]\n"
     ]
    },
    {
     "name": "stdout",
     "output_type": "stream",
     "text": [
      "| \u001b[39m68       \u001b[39m | \u001b[39m0.5742   \u001b[39m | \u001b[39m10.53    \u001b[39m | \u001b[39m0.08382  \u001b[39m |\n"
     ]
    },
    {
     "name": "stderr",
     "output_type": "stream",
     "text": [
      "Running basic active sampling: 100%|██████████| 3/3 [00:02<00:00,  1.29it/s]\n"
     ]
    },
    {
     "name": "stdout",
     "output_type": "stream",
     "text": [
      "| \u001b[39m69       \u001b[39m | \u001b[39m0.5089   \u001b[39m | \u001b[39m10.37    \u001b[39m | \u001b[39m0.04563  \u001b[39m |\n"
     ]
    },
    {
     "name": "stderr",
     "output_type": "stream",
     "text": [
      "Running basic active sampling: 100%|██████████| 3/3 [00:01<00:00,  1.65it/s]\n"
     ]
    },
    {
     "name": "stdout",
     "output_type": "stream",
     "text": [
      "| \u001b[39m70       \u001b[39m | \u001b[39m0.5339   \u001b[39m | \u001b[39m29.85    \u001b[39m | \u001b[39m0.0975   \u001b[39m |\n"
     ]
    },
    {
     "name": "stderr",
     "output_type": "stream",
     "text": [
      "Running basic active sampling: 100%|██████████| 3/3 [00:01<00:00,  2.44it/s]\n"
     ]
    },
    {
     "name": "stdout",
     "output_type": "stream",
     "text": [
      "| \u001b[39m71       \u001b[39m | \u001b[39m0.6184   \u001b[39m | \u001b[39m10.53    \u001b[39m | \u001b[39m0.08657  \u001b[39m |\n"
     ]
    },
    {
     "name": "stderr",
     "output_type": "stream",
     "text": [
      "Running basic active sampling: 100%|██████████| 3/3 [00:01<00:00,  1.60it/s]\n"
     ]
    },
    {
     "name": "stdout",
     "output_type": "stream",
     "text": [
      "| \u001b[39m72       \u001b[39m | \u001b[39m0.4733   \u001b[39m | \u001b[39m25.85    \u001b[39m | \u001b[39m0.08628  \u001b[39m |\n"
     ]
    },
    {
     "name": "stderr",
     "output_type": "stream",
     "text": [
      "Running basic active sampling: 100%|██████████| 3/3 [00:01<00:00,  2.26it/s]\n"
     ]
    },
    {
     "name": "stdout",
     "output_type": "stream",
     "text": [
      "| \u001b[39m73       \u001b[39m | \u001b[39m0.5418   \u001b[39m | \u001b[39m10.53    \u001b[39m | \u001b[39m0.09378  \u001b[39m |\n"
     ]
    },
    {
     "name": "stderr",
     "output_type": "stream",
     "text": [
      "Running basic active sampling: 100%|██████████| 3/3 [00:01<00:00,  2.12it/s]\n"
     ]
    },
    {
     "name": "stdout",
     "output_type": "stream",
     "text": [
      "| \u001b[39m74       \u001b[39m | \u001b[39m0.5153   \u001b[39m | \u001b[39m10.38    \u001b[39m | \u001b[39m0.04731  \u001b[39m |\n"
     ]
    },
    {
     "name": "stderr",
     "output_type": "stream",
     "text": [
      "Running basic active sampling: 100%|██████████| 3/3 [00:02<00:00,  1.36it/s]\n"
     ]
    },
    {
     "name": "stdout",
     "output_type": "stream",
     "text": [
      "| \u001b[39m75       \u001b[39m | \u001b[39m0.3127   \u001b[39m | \u001b[39m18.06    \u001b[39m | \u001b[39m0.05748  \u001b[39m |\n"
     ]
    },
    {
     "name": "stderr",
     "output_type": "stream",
     "text": [
      "Running basic active sampling: 100%|██████████| 3/3 [00:01<00:00,  2.16it/s]\n"
     ]
    },
    {
     "name": "stdout",
     "output_type": "stream",
     "text": [
      "| \u001b[39m76       \u001b[39m | \u001b[39m0.5809   \u001b[39m | \u001b[39m10.54    \u001b[39m | \u001b[39m0.09206  \u001b[39m |\n"
     ]
    },
    {
     "name": "stderr",
     "output_type": "stream",
     "text": [
      "Running basic active sampling: 100%|██████████| 3/3 [00:03<00:00,  1.04s/it]\n"
     ]
    },
    {
     "name": "stdout",
     "output_type": "stream",
     "text": [
      "| \u001b[39m77       \u001b[39m | \u001b[39m0.1971   \u001b[39m | \u001b[39m19.66    \u001b[39m | \u001b[39m0.01677  \u001b[39m |\n"
     ]
    },
    {
     "name": "stderr",
     "output_type": "stream",
     "text": [
      "Running basic active sampling: 100%|██████████| 3/3 [00:02<00:00,  1.19it/s]\n"
     ]
    },
    {
     "name": "stdout",
     "output_type": "stream",
     "text": [
      "| \u001b[39m78       \u001b[39m | \u001b[39m0.2253   \u001b[39m | \u001b[39m28.74    \u001b[39m | \u001b[39m0.05146  \u001b[39m |\n"
     ]
    },
    {
     "name": "stderr",
     "output_type": "stream",
     "text": [
      "Running basic active sampling: 100%|██████████| 3/3 [00:01<00:00,  2.21it/s]\n"
     ]
    },
    {
     "name": "stdout",
     "output_type": "stream",
     "text": [
      "| \u001b[39m79       \u001b[39m | \u001b[39m0.6058   \u001b[39m | \u001b[39m20.77    \u001b[39m | \u001b[39m0.09541  \u001b[39m |\n"
     ]
    },
    {
     "name": "stderr",
     "output_type": "stream",
     "text": [
      "Running basic active sampling: 100%|██████████| 3/3 [00:01<00:00,  1.92it/s]\n"
     ]
    },
    {
     "name": "stdout",
     "output_type": "stream",
     "text": [
      "| \u001b[39m80       \u001b[39m | \u001b[39m0.5789   \u001b[39m | \u001b[39m25.86    \u001b[39m | \u001b[39m0.08287  \u001b[39m |\n"
     ]
    },
    {
     "name": "stderr",
     "output_type": "stream",
     "text": [
      "Running basic active sampling: 100%|██████████| 3/3 [00:01<00:00,  2.14it/s]\n"
     ]
    },
    {
     "name": "stdout",
     "output_type": "stream",
     "text": [
      "| \u001b[39m81       \u001b[39m | \u001b[39m0.5433   \u001b[39m | \u001b[39m10.54    \u001b[39m | \u001b[39m0.09371  \u001b[39m |\n"
     ]
    },
    {
     "name": "stderr",
     "output_type": "stream",
     "text": [
      "Running basic active sampling: 100%|██████████| 3/3 [00:01<00:00,  2.03it/s]\n"
     ]
    },
    {
     "name": "stdout",
     "output_type": "stream",
     "text": [
      "| \u001b[39m82       \u001b[39m | \u001b[39m0.4794   \u001b[39m | \u001b[39m10.54    \u001b[39m | \u001b[39m0.08636  \u001b[39m |\n"
     ]
    },
    {
     "name": "stderr",
     "output_type": "stream",
     "text": [
      "Running basic active sampling: 100%|██████████| 3/3 [00:02<00:00,  1.09it/s]\n"
     ]
    },
    {
     "name": "stdout",
     "output_type": "stream",
     "text": [
      "| \u001b[39m83       \u001b[39m | \u001b[39m0.2417   \u001b[39m | \u001b[39m18.25    \u001b[39m | \u001b[39m0.0241   \u001b[39m |\n"
     ]
    },
    {
     "name": "stderr",
     "output_type": "stream",
     "text": [
      "Running basic active sampling: 100%|██████████| 3/3 [00:02<00:00,  1.27it/s]\n"
     ]
    },
    {
     "name": "stdout",
     "output_type": "stream",
     "text": [
      "| \u001b[39m84       \u001b[39m | \u001b[39m0.4412   \u001b[39m | \u001b[39m16.44    \u001b[39m | \u001b[39m0.06818  \u001b[39m |\n"
     ]
    },
    {
     "name": "stderr",
     "output_type": "stream",
     "text": [
      "Running basic active sampling: 100%|██████████| 3/3 [00:01<00:00,  1.80it/s]\n"
     ]
    },
    {
     "name": "stdout",
     "output_type": "stream",
     "text": [
      "| \u001b[39m85       \u001b[39m | \u001b[39m0.5496   \u001b[39m | \u001b[39m12.72    \u001b[39m | \u001b[39m0.09251  \u001b[39m |\n"
     ]
    },
    {
     "name": "stderr",
     "output_type": "stream",
     "text": [
      "Running basic active sampling: 100%|██████████| 3/3 [00:01<00:00,  2.21it/s]\n"
     ]
    },
    {
     "name": "stdout",
     "output_type": "stream",
     "text": [
      "| \u001b[39m86       \u001b[39m | \u001b[39m0.4861   \u001b[39m | \u001b[39m10.54    \u001b[39m | \u001b[39m0.0976   \u001b[39m |\n"
     ]
    },
    {
     "name": "stderr",
     "output_type": "stream",
     "text": [
      "Running basic active sampling: 100%|██████████| 3/3 [00:02<00:00,  1.36it/s]\n"
     ]
    },
    {
     "name": "stdout",
     "output_type": "stream",
     "text": [
      "| \u001b[39m87       \u001b[39m | \u001b[39m0.46     \u001b[39m | \u001b[39m25.86    \u001b[39m | \u001b[39m0.08472  \u001b[39m |\n"
     ]
    },
    {
     "name": "stderr",
     "output_type": "stream",
     "text": [
      "Running basic active sampling: 100%|██████████| 3/3 [00:03<00:00,  1.25s/it]\n"
     ]
    },
    {
     "name": "stdout",
     "output_type": "stream",
     "text": [
      "| \u001b[39m88       \u001b[39m | \u001b[39m0.5067   \u001b[39m | \u001b[39m20.78    \u001b[39m | \u001b[39m0.09541  \u001b[39m |\n"
     ]
    },
    {
     "name": "stderr",
     "output_type": "stream",
     "text": [
      "Running basic active sampling: 100%|██████████| 3/3 [00:01<00:00,  1.53it/s]\n"
     ]
    },
    {
     "name": "stdout",
     "output_type": "stream",
     "text": [
      "| \u001b[39m89       \u001b[39m | \u001b[39m0.5022   \u001b[39m | \u001b[39m11.35    \u001b[39m | \u001b[39m0.04382  \u001b[39m |\n"
     ]
    },
    {
     "name": "stderr",
     "output_type": "stream",
     "text": [
      "Running basic active sampling: 100%|██████████| 3/3 [00:02<00:00,  1.35it/s]\n"
     ]
    },
    {
     "name": "stdout",
     "output_type": "stream",
     "text": [
      "| \u001b[39m90       \u001b[39m | \u001b[39m0.4972   \u001b[39m | \u001b[39m29.84    \u001b[39m | \u001b[39m0.09539  \u001b[39m |\n"
     ]
    },
    {
     "name": "stderr",
     "output_type": "stream",
     "text": [
      "Running basic active sampling: 100%|██████████| 3/3 [00:02<00:00,  1.50it/s]\n"
     ]
    },
    {
     "name": "stdout",
     "output_type": "stream",
     "text": [
      "| \u001b[39m91       \u001b[39m | \u001b[39m0.4577   \u001b[39m | \u001b[39m10.38    \u001b[39m | \u001b[39m0.04295  \u001b[39m |\n"
     ]
    },
    {
     "name": "stderr",
     "output_type": "stream",
     "text": [
      "Running basic active sampling: 100%|██████████| 3/3 [00:01<00:00,  1.83it/s]\n"
     ]
    },
    {
     "name": "stdout",
     "output_type": "stream",
     "text": [
      "| \u001b[39m92       \u001b[39m | \u001b[39m0.6058   \u001b[39m | \u001b[39m20.78    \u001b[39m | \u001b[39m0.09173  \u001b[39m |\n"
     ]
    },
    {
     "name": "stderr",
     "output_type": "stream",
     "text": [
      "Running basic active sampling: 100%|██████████| 3/3 [00:01<00:00,  1.87it/s]\n"
     ]
    },
    {
     "name": "stdout",
     "output_type": "stream",
     "text": [
      "| \u001b[39m93       \u001b[39m | \u001b[39m0.5947   \u001b[39m | \u001b[39m17.48    \u001b[39m | \u001b[39m0.09765  \u001b[39m |\n"
     ]
    },
    {
     "name": "stderr",
     "output_type": "stream",
     "text": [
      "Running basic active sampling: 100%|██████████| 3/3 [00:01<00:00,  2.07it/s]\n"
     ]
    },
    {
     "name": "stdout",
     "output_type": "stream",
     "text": [
      "| \u001b[39m94       \u001b[39m | \u001b[39m0.5836   \u001b[39m | \u001b[39m17.49    \u001b[39m | \u001b[39m0.09921  \u001b[39m |\n"
     ]
    },
    {
     "name": "stderr",
     "output_type": "stream",
     "text": [
      "Running basic active sampling: 100%|██████████| 3/3 [00:01<00:00,  2.03it/s]\n"
     ]
    },
    {
     "name": "stdout",
     "output_type": "stream",
     "text": [
      "| \u001b[39m95       \u001b[39m | \u001b[39m0.4783   \u001b[39m | \u001b[39m11.36    \u001b[39m | \u001b[39m0.03944  \u001b[39m |\n"
     ]
    },
    {
     "name": "stderr",
     "output_type": "stream",
     "text": [
      "Running basic active sampling: 100%|██████████| 3/3 [00:01<00:00,  1.88it/s]\n"
     ]
    },
    {
     "name": "stdout",
     "output_type": "stream",
     "text": [
      "| \u001b[39m96       \u001b[39m | \u001b[39m0.4399   \u001b[39m | \u001b[39m25.85    \u001b[39m | \u001b[39m0.07915  \u001b[39m |\n"
     ]
    },
    {
     "name": "stderr",
     "output_type": "stream",
     "text": [
      "Running basic active sampling: 100%|██████████| 3/3 [00:01<00:00,  1.87it/s]\n"
     ]
    },
    {
     "name": "stdout",
     "output_type": "stream",
     "text": [
      "| \u001b[39m97       \u001b[39m | \u001b[39m0.4968   \u001b[39m | \u001b[39m12.12    \u001b[39m | \u001b[39m0.06278  \u001b[39m |\n"
     ]
    },
    {
     "name": "stderr",
     "output_type": "stream",
     "text": [
      "Running basic active sampling: 100%|██████████| 3/3 [00:02<00:00,  1.01it/s]\n"
     ]
    },
    {
     "name": "stdout",
     "output_type": "stream",
     "text": [
      "| \u001b[39m98       \u001b[39m | \u001b[39m0.01111  \u001b[39m | \u001b[39m26.95    \u001b[39m | \u001b[39m0.01014  \u001b[39m |\n"
     ]
    },
    {
     "name": "stderr",
     "output_type": "stream",
     "text": [
      "Running basic active sampling: 100%|██████████| 3/3 [00:01<00:00,  1.76it/s]\n"
     ]
    },
    {
     "name": "stdout",
     "output_type": "stream",
     "text": [
      "| \u001b[39m99       \u001b[39m | \u001b[39m0.4387   \u001b[39m | \u001b[39m20.78    \u001b[39m | \u001b[39m0.08749  \u001b[39m |\n"
     ]
    },
    {
     "name": "stderr",
     "output_type": "stream",
     "text": [
      "Running basic active sampling: 100%|██████████| 3/3 [00:01<00:00,  2.11it/s]\n"
     ]
    },
    {
     "name": "stdout",
     "output_type": "stream",
     "text": [
      "| \u001b[39m100      \u001b[39m | \u001b[39m0.56     \u001b[39m | \u001b[39m25.86    \u001b[39m | \u001b[39m0.0825   \u001b[39m |\n"
     ]
    },
    {
     "name": "stderr",
     "output_type": "stream",
     "text": [
      "Running basic active sampling: 100%|██████████| 3/3 [00:01<00:00,  2.13it/s]\n"
     ]
    },
    {
     "name": "stdout",
     "output_type": "stream",
     "text": [
      "| \u001b[39m101      \u001b[39m | \u001b[39m0.5846   \u001b[39m | \u001b[39m17.48    \u001b[39m | \u001b[39m0.0962   \u001b[39m |\n"
     ]
    },
    {
     "name": "stderr",
     "output_type": "stream",
     "text": [
      "Running basic active sampling: 100%|██████████| 3/3 [00:01<00:00,  1.86it/s]\n"
     ]
    },
    {
     "name": "stdout",
     "output_type": "stream",
     "text": [
      "| \u001b[39m102      \u001b[39m | \u001b[39m0.5117   \u001b[39m | \u001b[39m12.72    \u001b[39m | \u001b[39m0.09011  \u001b[39m |\n"
     ]
    },
    {
     "name": "stderr",
     "output_type": "stream",
     "text": [
      "Running basic active sampling: 100%|██████████| 3/3 [00:02<00:00,  1.46it/s]\n"
     ]
    },
    {
     "name": "stdout",
     "output_type": "stream",
     "text": [
      "| \u001b[39m103      \u001b[39m | \u001b[39m0.4671   \u001b[39m | \u001b[39m20.78    \u001b[39m | \u001b[39m0.09167  \u001b[39m |\n"
     ]
    },
    {
     "name": "stderr",
     "output_type": "stream",
     "text": [
      "Running basic active sampling: 100%|██████████| 3/3 [00:02<00:00,  1.29it/s]\n"
     ]
    },
    {
     "name": "stdout",
     "output_type": "stream",
     "text": [
      "| \u001b[39m104      \u001b[39m | \u001b[39m0.5656   \u001b[39m | \u001b[39m11.16    \u001b[39m | \u001b[39m0.09064  \u001b[39m |\n"
     ]
    },
    {
     "name": "stderr",
     "output_type": "stream",
     "text": [
      "Running basic active sampling: 100%|██████████| 3/3 [00:02<00:00,  1.41it/s]\n"
     ]
    },
    {
     "name": "stdout",
     "output_type": "stream",
     "text": [
      "| \u001b[39m105      \u001b[39m | \u001b[39m0.6032   \u001b[39m | \u001b[39m20.77    \u001b[39m | \u001b[39m0.09764  \u001b[39m |\n"
     ]
    },
    {
     "name": "stderr",
     "output_type": "stream",
     "text": [
      "Running basic active sampling: 100%|██████████| 3/3 [00:01<00:00,  2.22it/s]\n"
     ]
    },
    {
     "name": "stdout",
     "output_type": "stream",
     "text": [
      "| \u001b[39m106      \u001b[39m | \u001b[39m0.4499   \u001b[39m | \u001b[39m10.11    \u001b[39m | \u001b[39m0.05455  \u001b[39m |\n"
     ]
    },
    {
     "name": "stderr",
     "output_type": "stream",
     "text": [
      "Running basic active sampling: 100%|██████████| 3/3 [00:01<00:00,  1.99it/s]\n"
     ]
    },
    {
     "name": "stdout",
     "output_type": "stream",
     "text": [
      "| \u001b[39m107      \u001b[39m | \u001b[39m0.4727   \u001b[39m | \u001b[39m21.59    \u001b[39m | \u001b[39m0.08573  \u001b[39m |\n"
     ]
    },
    {
     "name": "stderr",
     "output_type": "stream",
     "text": [
      "Running basic active sampling: 100%|██████████| 3/3 [00:01<00:00,  2.14it/s]\n"
     ]
    },
    {
     "name": "stdout",
     "output_type": "stream",
     "text": [
      "| \u001b[39m108      \u001b[39m | \u001b[39m0.5758   \u001b[39m | \u001b[39m11.16    \u001b[39m | \u001b[39m0.09582  \u001b[39m |\n"
     ]
    },
    {
     "name": "stderr",
     "output_type": "stream",
     "text": [
      "Running basic active sampling: 100%|██████████| 3/3 [00:01<00:00,  2.03it/s]\n"
     ]
    },
    {
     "name": "stdout",
     "output_type": "stream",
     "text": [
      "| \u001b[39m109      \u001b[39m | \u001b[39m0.5498   \u001b[39m | \u001b[39m20.77    \u001b[39m | \u001b[39m0.09206  \u001b[39m |\n"
     ]
    },
    {
     "name": "stderr",
     "output_type": "stream",
     "text": [
      "Running basic active sampling: 100%|██████████| 3/3 [00:01<00:00,  2.55it/s]\n"
     ]
    },
    {
     "name": "stdout",
     "output_type": "stream",
     "text": [
      "| \u001b[39m110      \u001b[39m | \u001b[39m0.5533   \u001b[39m | \u001b[39m20.77    \u001b[39m | \u001b[39m0.09716  \u001b[39m |\n"
     ]
    },
    {
     "name": "stderr",
     "output_type": "stream",
     "text": [
      "Running basic active sampling: 100%|██████████| 3/3 [00:01<00:00,  2.37it/s]\n"
     ]
    },
    {
     "name": "stdout",
     "output_type": "stream",
     "text": [
      "| \u001b[39m111      \u001b[39m | \u001b[39m0.5816   \u001b[39m | \u001b[39m17.48    \u001b[39m | \u001b[39m0.08953  \u001b[39m |\n"
     ]
    },
    {
     "name": "stderr",
     "output_type": "stream",
     "text": [
      "Running basic active sampling: 100%|██████████| 3/3 [00:03<00:00,  1.06s/it]\n"
     ]
    },
    {
     "name": "stdout",
     "output_type": "stream",
     "text": [
      "| \u001b[39m112      \u001b[39m | \u001b[39m0.08527  \u001b[39m | \u001b[39m29.23    \u001b[39m | \u001b[39m0.03222  \u001b[39m |\n"
     ]
    },
    {
     "name": "stderr",
     "output_type": "stream",
     "text": [
      "Running basic active sampling: 100%|██████████| 3/3 [00:01<00:00,  2.23it/s]\n"
     ]
    },
    {
     "name": "stdout",
     "output_type": "stream",
     "text": [
      "| \u001b[39m113      \u001b[39m | \u001b[39m0.4788   \u001b[39m | \u001b[39m17.48    \u001b[39m | \u001b[39m0.08824  \u001b[39m |\n"
     ]
    },
    {
     "name": "stderr",
     "output_type": "stream",
     "text": [
      "Running basic active sampling: 100%|██████████| 3/3 [00:01<00:00,  2.50it/s]\n"
     ]
    },
    {
     "name": "stdout",
     "output_type": "stream",
     "text": [
      "| \u001b[39m114      \u001b[39m | \u001b[39m0.5833   \u001b[39m | \u001b[39m11.16    \u001b[39m | \u001b[39m0.09418  \u001b[39m |\n"
     ]
    },
    {
     "name": "stderr",
     "output_type": "stream",
     "text": [
      "Running basic active sampling: 100%|██████████| 3/3 [00:01<00:00,  2.22it/s]\n"
     ]
    },
    {
     "name": "stdout",
     "output_type": "stream",
     "text": [
      "| \u001b[39m115      \u001b[39m | \u001b[39m0.5476   \u001b[39m | \u001b[39m10.54    \u001b[39m | \u001b[39m0.0892   \u001b[39m |\n"
     ]
    },
    {
     "name": "stderr",
     "output_type": "stream",
     "text": [
      "Running basic active sampling: 100%|██████████| 3/3 [00:01<00:00,  2.18it/s]\n"
     ]
    },
    {
     "name": "stdout",
     "output_type": "stream",
     "text": [
      "| \u001b[39m116      \u001b[39m | \u001b[39m0.476    \u001b[39m | \u001b[39m25.86    \u001b[39m | \u001b[39m0.07777  \u001b[39m |\n"
     ]
    },
    {
     "name": "stderr",
     "output_type": "stream",
     "text": [
      "Running basic active sampling: 100%|██████████| 3/3 [00:01<00:00,  2.38it/s]\n"
     ]
    },
    {
     "name": "stdout",
     "output_type": "stream",
     "text": [
      "| \u001b[39m117      \u001b[39m | \u001b[39m0.5624   \u001b[39m | \u001b[39m11.15    \u001b[39m | \u001b[39m0.09145  \u001b[39m |\n"
     ]
    },
    {
     "name": "stderr",
     "output_type": "stream",
     "text": [
      "Running basic active sampling: 100%|██████████| 3/3 [00:01<00:00,  2.11it/s]\n"
     ]
    },
    {
     "name": "stdout",
     "output_type": "stream",
     "text": [
      "| \u001b[39m118      \u001b[39m | \u001b[39m0.5482   \u001b[39m | \u001b[39m11.17    \u001b[39m | \u001b[39m0.09319  \u001b[39m |\n"
     ]
    },
    {
     "name": "stderr",
     "output_type": "stream",
     "text": [
      "Running basic active sampling: 100%|██████████| 3/3 [00:01<00:00,  2.39it/s]\n"
     ]
    },
    {
     "name": "stdout",
     "output_type": "stream",
     "text": [
      "| \u001b[39m119      \u001b[39m | \u001b[39m0.4656   \u001b[39m | \u001b[39m10.37    \u001b[39m | \u001b[39m0.05713  \u001b[39m |\n"
     ]
    },
    {
     "name": "stderr",
     "output_type": "stream",
     "text": [
      "Running basic active sampling: 100%|██████████| 3/3 [00:01<00:00,  1.88it/s]\n"
     ]
    },
    {
     "name": "stdout",
     "output_type": "stream",
     "text": [
      "| \u001b[39m120      \u001b[39m | \u001b[39m0.4178   \u001b[39m | \u001b[39m17.48    \u001b[39m | \u001b[39m0.08333  \u001b[39m |\n"
     ]
    },
    {
     "name": "stderr",
     "output_type": "stream",
     "text": [
      "Running basic active sampling: 100%|██████████| 3/3 [00:01<00:00,  1.77it/s]\n"
     ]
    },
    {
     "name": "stdout",
     "output_type": "stream",
     "text": [
      "| \u001b[39m121      \u001b[39m | \u001b[39m0.4452   \u001b[39m | \u001b[39m21.09    \u001b[39m | \u001b[39m0.07447  \u001b[39m |\n"
     ]
    },
    {
     "name": "stderr",
     "output_type": "stream",
     "text": [
      "Running basic active sampling: 100%|██████████| 3/3 [00:01<00:00,  2.45it/s]\n"
     ]
    },
    {
     "name": "stdout",
     "output_type": "stream",
     "text": [
      "| \u001b[39m122      \u001b[39m | \u001b[39m0.5408   \u001b[39m | \u001b[39m11.15    \u001b[39m | \u001b[39m0.09883  \u001b[39m |\n"
     ]
    },
    {
     "name": "stderr",
     "output_type": "stream",
     "text": [
      "Running basic active sampling: 100%|██████████| 3/3 [00:01<00:00,  2.12it/s]\n"
     ]
    },
    {
     "name": "stdout",
     "output_type": "stream",
     "text": [
      "| \u001b[39m123      \u001b[39m | \u001b[39m0.4794   \u001b[39m | \u001b[39m12.72    \u001b[39m | \u001b[39m0.09803  \u001b[39m |\n"
     ]
    },
    {
     "name": "stderr",
     "output_type": "stream",
     "text": [
      "Running basic active sampling: 100%|██████████| 3/3 [00:01<00:00,  2.66it/s]\n"
     ]
    },
    {
     "name": "stdout",
     "output_type": "stream",
     "text": [
      "| \u001b[39m124      \u001b[39m | \u001b[39m0.5478   \u001b[39m | \u001b[39m11.17    \u001b[39m | \u001b[39m0.0981   \u001b[39m |\n"
     ]
    },
    {
     "name": "stderr",
     "output_type": "stream",
     "text": [
      "Running basic active sampling: 100%|██████████| 3/3 [00:01<00:00,  1.55it/s]\n"
     ]
    },
    {
     "name": "stdout",
     "output_type": "stream",
     "text": [
      "| \u001b[39m125      \u001b[39m | \u001b[39m0.5437   \u001b[39m | \u001b[39m17.49    \u001b[39m | \u001b[39m0.08772  \u001b[39m |\n"
     ]
    },
    {
     "name": "stderr",
     "output_type": "stream",
     "text": [
      "Running basic active sampling: 100%|██████████| 3/3 [00:01<00:00,  1.63it/s]\n"
     ]
    },
    {
     "name": "stdout",
     "output_type": "stream",
     "text": [
      "| \u001b[35m126      \u001b[39m | \u001b[35m0.626    \u001b[39m | \u001b[35m20.77    \u001b[39m | \u001b[35m0.09141  \u001b[39m |\n"
     ]
    },
    {
     "name": "stderr",
     "output_type": "stream",
     "text": [
      "Running basic active sampling: 100%|██████████| 3/3 [00:01<00:00,  2.45it/s]\n"
     ]
    },
    {
     "name": "stdout",
     "output_type": "stream",
     "text": [
      "| \u001b[39m127      \u001b[39m | \u001b[39m0.5854   \u001b[39m | \u001b[39m11.15    \u001b[39m | \u001b[39m0.09098  \u001b[39m |\n"
     ]
    },
    {
     "name": "stderr",
     "output_type": "stream",
     "text": [
      "Running basic active sampling: 100%|██████████| 3/3 [00:01<00:00,  2.20it/s]\n"
     ]
    },
    {
     "name": "stdout",
     "output_type": "stream",
     "text": [
      "| \u001b[39m128      \u001b[39m | \u001b[39m0.5183   \u001b[39m | \u001b[39m11.14    \u001b[39m | \u001b[39m0.09011  \u001b[39m |\n"
     ]
    },
    {
     "name": "stderr",
     "output_type": "stream",
     "text": [
      "Running basic active sampling: 100%|██████████| 3/3 [00:01<00:00,  2.13it/s]\n"
     ]
    },
    {
     "name": "stdout",
     "output_type": "stream",
     "text": [
      "| \u001b[39m129      \u001b[39m | \u001b[39m0.5306   \u001b[39m | \u001b[39m11.14    \u001b[39m | \u001b[39m0.09401  \u001b[39m |\n"
     ]
    },
    {
     "name": "stderr",
     "output_type": "stream",
     "text": [
      "Running basic active sampling: 100%|██████████| 3/3 [00:01<00:00,  2.80it/s]\n"
     ]
    },
    {
     "name": "stdout",
     "output_type": "stream",
     "text": [
      "| \u001b[39m130      \u001b[39m | \u001b[39m0.5694   \u001b[39m | \u001b[39m11.13    \u001b[39m | \u001b[39m0.09291  \u001b[39m |\n"
     ]
    },
    {
     "name": "stderr",
     "output_type": "stream",
     "text": [
      "Running basic active sampling: 100%|██████████| 3/3 [00:02<00:00,  1.11it/s]\n"
     ]
    },
    {
     "name": "stdout",
     "output_type": "stream",
     "text": [
      "| \u001b[39m131      \u001b[39m | \u001b[39m0.01282  \u001b[39m | \u001b[39m23.9     \u001b[39m | \u001b[39m0.03177  \u001b[39m |\n"
     ]
    },
    {
     "name": "stderr",
     "output_type": "stream",
     "text": [
      "Running basic active sampling: 100%|██████████| 3/3 [00:01<00:00,  2.47it/s]\n"
     ]
    },
    {
     "name": "stdout",
     "output_type": "stream",
     "text": [
      "| \u001b[39m132      \u001b[39m | \u001b[39m0.535    \u001b[39m | \u001b[39m11.16    \u001b[39m | \u001b[39m0.09333  \u001b[39m |\n"
     ]
    },
    {
     "name": "stderr",
     "output_type": "stream",
     "text": [
      "Running basic active sampling: 100%|██████████| 3/3 [00:02<00:00,  1.11it/s]\n"
     ]
    },
    {
     "name": "stdout",
     "output_type": "stream",
     "text": [
      "| \u001b[39m133      \u001b[39m | \u001b[39m0.1111   \u001b[39m | \u001b[39m22.66    \u001b[39m | \u001b[39m0.02182  \u001b[39m |\n"
     ]
    },
    {
     "name": "stderr",
     "output_type": "stream",
     "text": [
      "Running basic active sampling: 100%|██████████| 3/3 [00:02<00:00,  1.15it/s]\n"
     ]
    },
    {
     "name": "stdout",
     "output_type": "stream",
     "text": [
      "| \u001b[39m134      \u001b[39m | \u001b[39m0.1311   \u001b[39m | \u001b[39m26.61    \u001b[39m | \u001b[39m0.04757  \u001b[39m |\n"
     ]
    },
    {
     "name": "stderr",
     "output_type": "stream",
     "text": [
      "Running basic active sampling: 100%|██████████| 3/3 [00:01<00:00,  2.27it/s]\n"
     ]
    },
    {
     "name": "stdout",
     "output_type": "stream",
     "text": [
      "| \u001b[39m135      \u001b[39m | \u001b[39m0.493    \u001b[39m | \u001b[39m17.4     \u001b[39m | \u001b[39m0.07972  \u001b[39m |\n"
     ]
    },
    {
     "name": "stderr",
     "output_type": "stream",
     "text": [
      "Running basic active sampling: 100%|██████████| 3/3 [00:01<00:00,  1.86it/s]\n"
     ]
    },
    {
     "name": "stdout",
     "output_type": "stream",
     "text": [
      "| \u001b[39m136      \u001b[39m | \u001b[39m0.5026   \u001b[39m | \u001b[39m11.15    \u001b[39m | \u001b[39m0.08489  \u001b[39m |\n"
     ]
    },
    {
     "name": "stderr",
     "output_type": "stream",
     "text": [
      "Running basic active sampling: 100%|██████████| 3/3 [00:01<00:00,  1.90it/s]\n"
     ]
    },
    {
     "name": "stdout",
     "output_type": "stream",
     "text": [
      "| \u001b[39m137      \u001b[39m | \u001b[39m0.3833   \u001b[39m | \u001b[39m12.42    \u001b[39m | \u001b[39m0.05921  \u001b[39m |\n"
     ]
    },
    {
     "name": "stderr",
     "output_type": "stream",
     "text": [
      "Running basic active sampling: 100%|██████████| 3/3 [00:01<00:00,  1.58it/s]\n"
     ]
    },
    {
     "name": "stdout",
     "output_type": "stream",
     "text": [
      "| \u001b[39m138      \u001b[39m | \u001b[39m0.36     \u001b[39m | \u001b[39m18.24    \u001b[39m | \u001b[39m0.06038  \u001b[39m |\n"
     ]
    },
    {
     "name": "stderr",
     "output_type": "stream",
     "text": [
      "Running basic active sampling: 100%|██████████| 3/3 [00:01<00:00,  2.32it/s]\n"
     ]
    },
    {
     "name": "stdout",
     "output_type": "stream",
     "text": [
      "| \u001b[39m139      \u001b[39m | \u001b[39m0.4667   \u001b[39m | \u001b[39m11.15    \u001b[39m | \u001b[39m0.08627  \u001b[39m |\n"
     ]
    },
    {
     "name": "stderr",
     "output_type": "stream",
     "text": [
      "Running basic active sampling: 100%|██████████| 3/3 [00:01<00:00,  2.18it/s]\n"
     ]
    },
    {
     "name": "stdout",
     "output_type": "stream",
     "text": [
      "| \u001b[39m140      \u001b[39m | \u001b[39m0.5137   \u001b[39m | \u001b[39m12.71    \u001b[39m | \u001b[39m0.08598  \u001b[39m |\n"
     ]
    },
    {
     "name": "stderr",
     "output_type": "stream",
     "text": [
      "Running basic active sampling: 100%|██████████| 3/3 [00:01<00:00,  1.63it/s]\n"
     ]
    },
    {
     "name": "stdout",
     "output_type": "stream",
     "text": [
      "| \u001b[39m141      \u001b[39m | \u001b[39m0.3287   \u001b[39m | \u001b[39m14.22    \u001b[39m | \u001b[39m0.05302  \u001b[39m |\n"
     ]
    },
    {
     "name": "stderr",
     "output_type": "stream",
     "text": [
      "Running basic active sampling: 100%|██████████| 3/3 [00:01<00:00,  2.27it/s]\n"
     ]
    },
    {
     "name": "stdout",
     "output_type": "stream",
     "text": [
      "| \u001b[39m142      \u001b[39m | \u001b[39m0.5189   \u001b[39m | \u001b[39m11.13    \u001b[39m | \u001b[39m0.08854  \u001b[39m |\n"
     ]
    },
    {
     "name": "stderr",
     "output_type": "stream",
     "text": [
      "Running basic active sampling: 100%|██████████| 3/3 [00:01<00:00,  2.07it/s]\n"
     ]
    },
    {
     "name": "stdout",
     "output_type": "stream",
     "text": [
      "| \u001b[39m143      \u001b[39m | \u001b[39m0.5018   \u001b[39m | \u001b[39m11.17    \u001b[39m | \u001b[39m0.08815  \u001b[39m |\n"
     ]
    },
    {
     "name": "stderr",
     "output_type": "stream",
     "text": [
      "Running basic active sampling: 100%|██████████| 3/3 [00:02<00:00,  1.40it/s]\n"
     ]
    },
    {
     "name": "stdout",
     "output_type": "stream",
     "text": [
      "| \u001b[39m144      \u001b[39m | \u001b[39m0.5966   \u001b[39m | \u001b[39m11.13    \u001b[39m | \u001b[39m0.09367  \u001b[39m |\n"
     ]
    },
    {
     "name": "stderr",
     "output_type": "stream",
     "text": [
      "Running basic active sampling: 100%|██████████| 3/3 [00:01<00:00,  2.01it/s]\n"
     ]
    },
    {
     "name": "stdout",
     "output_type": "stream",
     "text": [
      "| \u001b[39m145      \u001b[39m | \u001b[39m0.5568   \u001b[39m | \u001b[39m17.48    \u001b[39m | \u001b[39m0.09313  \u001b[39m |\n"
     ]
    },
    {
     "name": "stderr",
     "output_type": "stream",
     "text": [
      "Running basic active sampling: 100%|██████████| 3/3 [00:01<00:00,  2.31it/s]\n"
     ]
    },
    {
     "name": "stdout",
     "output_type": "stream",
     "text": [
      "| \u001b[39m146      \u001b[39m | \u001b[39m0.5656   \u001b[39m | \u001b[39m11.14    \u001b[39m | \u001b[39m0.09819  \u001b[39m |\n"
     ]
    },
    {
     "name": "stderr",
     "output_type": "stream",
     "text": [
      "Running basic active sampling: 100%|██████████| 3/3 [00:01<00:00,  1.92it/s]\n"
     ]
    },
    {
     "name": "stdout",
     "output_type": "stream",
     "text": [
      "| \u001b[39m147      \u001b[39m | \u001b[39m0.4381   \u001b[39m | \u001b[39m12.23    \u001b[39m | \u001b[39m0.07602  \u001b[39m |\n"
     ]
    },
    {
     "name": "stderr",
     "output_type": "stream",
     "text": [
      "Running basic active sampling: 100%|██████████| 3/3 [00:01<00:00,  2.27it/s]\n"
     ]
    },
    {
     "name": "stdout",
     "output_type": "stream",
     "text": [
      "| \u001b[39m148      \u001b[39m | \u001b[39m0.5472   \u001b[39m | \u001b[39m11.13    \u001b[39m | \u001b[39m0.09963  \u001b[39m |\n"
     ]
    },
    {
     "name": "stderr",
     "output_type": "stream",
     "text": [
      "Running basic active sampling: 100%|██████████| 3/3 [00:01<00:00,  2.21it/s]\n"
     ]
    },
    {
     "name": "stdout",
     "output_type": "stream",
     "text": [
      "| \u001b[39m149      \u001b[39m | \u001b[39m0.6115   \u001b[39m | \u001b[39m11.12    \u001b[39m | \u001b[39m0.09648  \u001b[39m |\n"
     ]
    },
    {
     "name": "stderr",
     "output_type": "stream",
     "text": [
      "Running basic active sampling: 100%|██████████| 3/3 [00:01<00:00,  1.80it/s]\n"
     ]
    },
    {
     "name": "stdout",
     "output_type": "stream",
     "text": [
      "| \u001b[39m150      \u001b[39m | \u001b[39m0.3665   \u001b[39m | \u001b[39m17.7     \u001b[39m | \u001b[39m0.07217  \u001b[39m |\n"
     ]
    },
    {
     "name": "stderr",
     "output_type": "stream",
     "text": [
      "Running basic active sampling: 100%|██████████| 3/3 [00:01<00:00,  1.78it/s]\n"
     ]
    },
    {
     "name": "stdout",
     "output_type": "stream",
     "text": [
      "| \u001b[39m151      \u001b[39m | \u001b[39m0.4583   \u001b[39m | \u001b[39m12.02    \u001b[39m | \u001b[39m0.05286  \u001b[39m |\n"
     ]
    },
    {
     "name": "stderr",
     "output_type": "stream",
     "text": [
      "Running basic active sampling: 100%|██████████| 3/3 [00:01<00:00,  1.88it/s]\n"
     ]
    },
    {
     "name": "stdout",
     "output_type": "stream",
     "text": [
      "| \u001b[39m152      \u001b[39m | \u001b[39m0.4287   \u001b[39m | \u001b[39m17.49    \u001b[39m | \u001b[39m0.08641  \u001b[39m |\n"
     ]
    },
    {
     "name": "stderr",
     "output_type": "stream",
     "text": [
      "Running basic active sampling: 100%|██████████| 3/3 [00:01<00:00,  2.47it/s]\n"
     ]
    },
    {
     "name": "stdout",
     "output_type": "stream",
     "text": [
      "| \u001b[39m153      \u001b[39m | \u001b[39m0.5395   \u001b[39m | \u001b[39m10.53    \u001b[39m | \u001b[39m0.0786   \u001b[39m |\n"
     ]
    },
    {
     "name": "stderr",
     "output_type": "stream",
     "text": [
      "Running basic active sampling: 100%|██████████| 3/3 [00:02<00:00,  1.45it/s]\n"
     ]
    },
    {
     "name": "stdout",
     "output_type": "stream",
     "text": [
      "| \u001b[39m154      \u001b[39m | \u001b[39m0.2957   \u001b[39m | \u001b[39m15.65    \u001b[39m | \u001b[39m0.01972  \u001b[39m |\n"
     ]
    },
    {
     "name": "stderr",
     "output_type": "stream",
     "text": [
      "Running basic active sampling: 100%|██████████| 3/3 [00:01<00:00,  2.37it/s]"
     ]
    },
    {
     "name": "stdout",
     "output_type": "stream",
     "text": [
      "| \u001b[39m155      \u001b[39m | \u001b[39m0.5339   \u001b[39m | \u001b[39m11.12    \u001b[39m | \u001b[39m0.09261  \u001b[39m |\n",
      "=================================================\n"
     ]
    },
    {
     "name": "stderr",
     "output_type": "stream",
     "text": [
      "\n"
     ]
    }
   ],
   "source": [
    "import random\n",
    "from bayes_opt import BayesianOptimization\n",
    "import pickle\n",
    "\n",
    "def objective_hyperparams_basic(uncertainty_threshold, max_iterations):\n",
    "    max_iterations = int(max_iterations)\n",
    "    hyperparams = {\"max_iterations\": max_iterations, \"uncertainty_threshold\": uncertainty_threshold}\n",
    "\n",
    "    selected_params = random.sample(params_mostData, 3)\n",
    "    results_list = run_active_sampling_basic(selected_params, data_filtered, sort=True, verbose=False, **hyperparams)\n",
    "    \n",
    "    avg_r2 = sum(result['final_r2'] for result in results_list) / len(results_list)\n",
    "    utilization_vals = [result['total_samples_used'] / result['total_data_count'] for result in results_list]\n",
    "    avg_utilization = sum(utilization_vals) / len(utilization_vals)\n",
    "    score = 1 - avg_utilization\n",
    "    if avg_r2 < 0.96:\n",
    "        penalty = (0.96 - avg_r2) * 100\n",
    "        score -= penalty\n",
    "    return score\n",
    "\n",
    "pbounds_basic = {\"uncertainty_threshold\": (0.01, 0.1), \"max_iterations\": (10, 30)}\n",
    "\n",
    "optimizer_basic = BayesianOptimization(f=objective_hyperparams_basic, pbounds=pbounds_basic, random_state=42)\n",
    "optimizer_basic.maximize(init_points=5, n_iter=150)\n",
    "\n",
    "basic_optimized_hyperparameters = {k: int(v) if k == \"max_iterations\" else v for k, v in optimizer_basic.max['params'].items()}\n",
    "\n",
    "with open(\"basic_optimized_hyperparameters.pkl\", \"wb\") as f:\n",
    "    pickle.dump(basic_optimized_hyperparameters, f)\n"
   ]
  },
  {
   "cell_type": "code",
   "execution_count": null,
   "metadata": {},
   "outputs": [
    {
     "name": "stderr",
     "output_type": "stream",
     "text": [
      "Running basic active sampling: 100%|██████████| 40/40 [00:21<00:00,  1.86it/s]\n"
     ]
    },
    {
     "data": {
      "image/png": "[encoded data removed]",
      "text/plain": [
       "<Figure size 1800x600 with 3 Axes>"
      ]
     },
     "metadata": {},
     "output_type": "display_data"
    },
    {
     "name": "stdout",
     "output_type": "stream",
     "text": [
      "Average Final R²: 0.9999\n",
      "Average Samples Used: 11.95\n",
      "Average Data Utilization: 45.25%\n"
     ]
    }
   ],
   "source": [
    "with open(\"basic_optimized_hyperparameters.pkl\", \"rb\") as f:\n",
    "    basic_optimized_hyperparameters = pickle.load(f)\n",
    "\n",
    "results_basic = run_active_sampling_basic(params_mostData, data_filtered, sort=True, verbose=False, **basic_optimized_hyperparameters)\n",
    "visualize_aggregated_results(results_basic, \"Basic - sorted - optimized \", basic_optimized_hyperparameters)"
   ]
  },
  {
   "cell_type": "markdown",
   "metadata": {},
   "source": [
    "##### Stagnant hyperparameters optimization"
   ]
  },
  {
   "cell_type": "code",
   "execution_count": null,
   "metadata": {},
   "outputs": [],
   "source": [
    "import random\n",
    "from bayes_opt import BayesianOptimization\n",
    "import pickle\n",
    "\n",
    "def objective_hyperparams_stagnant(uncertainty_threshold, higher_uncertainty_threshold, r2_improvement_threshold, max_stagnant_iterations, max_iterations):\n",
    "    max_stagnant_iterations = int(max_stagnant_iterations)\n",
    "    max_iterations = int(max_iterations)\n",
    "    hyperparams = {\n",
    "        \"max_iterations\": max_iterations,\n",
    "        \"uncertainty_threshold\": uncertainty_threshold,\n",
    "        \"higher_uncertainty_threshold\": higher_uncertainty_threshold,\n",
    "        \"r2_improvement_threshold\": r2_improvement_threshold,\n",
    "        \"max_stagnant_iterations\": max_stagnant_iterations,\n",
    "    }\n",
    "    selected_params = random.sample(params_mostData, 3)\n",
    "    results_list = run_active_sampling_stagnant(selected_params, data_filtered, sort=True, verbose=False, **hyperparams)\n",
    "    avg_r2 = sum(result['final_r2'] for result in results_list) / len(results_list)\n",
    "    utilization_vals = [result['total_samples_used'] / result['total_data_count'] for result in results_list]\n",
    "    avg_utilization = sum(utilization_vals) / len(utilization_vals)\n",
    "    score = 1 - avg_utilization\n",
    "    if avg_r2 < 0.96:\n",
    "        penalty = (0.96 - avg_r2) * 100\n",
    "        score -= penalty\n",
    "    return score\n",
    "\n",
    "pbounds = {\n",
    "    \"uncertainty_threshold\": (0.01, 0.1),\n",
    "    \"higher_uncertainty_threshold\": (0.05, 0.2),\n",
    "    \"r2_improvement_threshold\": (1e-5, 1e-3),\n",
    "    \"max_stagnant_iterations\": (2, 5),\n",
    "    \"max_iterations\": (10, 30),\n",
    "}\n",
    "\n",
    "optimizer = BayesianOptimization(\n",
    "    f=objective_hyperparams_stagnant,\n",
    "    pbounds=pbounds,\n",
    "    random_state=42,\n",
    ")\n",
    "optimizer.maximize(init_points=5, n_iter=150)\n",
    "\n",
    "stagnant_optimized_hyperparameters = {\n",
    "    k: int(v) if k in ['max_iterations', 'max_stagnant_iterations'] else v \n",
    "    for k, v in optimizer.max['params'].items()\n",
    "}\n",
    "\n",
    "with open(\"stagnant_optimized_hyperparameters.pkl\", \"wb\") as f:\n",
    "    pickle.dump(stagnant_optimized_hyperparameters, f)\n"
   ]
  },
  {
   "cell_type": "code",
   "execution_count": null,
   "metadata": {},
   "outputs": [],
   "source": [
    "import pickle\n",
    "\n",
    "with open(\"stagnant_optimized_hyperparameters.pkl\", \"rb\") as f:\n",
    "    stagnant_optimized_hyperparameters = pickle.load(f)\n",
    "\n",
    "results_stagnant = run_active_sampling_stagnant(params_mostData, data_filtered, sort=True ,verbose=False, **stagnant_optimized_hyperparameters)\n",
    "visualize_aggregated_results(results_stagnant, \"Stagnant - sorted - optimized\", stagnant_optimized_hyperparameters)\n"
   ]
  },
  {
   "cell_type": "markdown",
   "metadata": {},
   "source": [
    "##### Hyperparameters Fine-Tuning Result Analysis"
   ]
  },
  {
   "cell_type": "markdown",
   "metadata": {},
   "source": [
    "After fine-tuning our hyperparameters using Bayesian Optimization, we achieved impressive improvements in data utilization without sacrificing model performance.\n",
    "\n",
    "**Results visualized**\n",
    "\n",
    "**Before optimization:**\n",
    "![Basic results pre](./images/step4-basic-sorted-Result(pre-tuning).png)\n",
    "![stagnat results pre](./images/step4-stagnat-sorted-Result(pre-tuning).png)\n",
    "\n",
    "\n",
    "**After optimization:**\n",
    "![Basic results post](./images/step4-optimized-basic.png)\n",
    "![stagnat results post](./images/step4-optimized-stagnat.png)\n",
    "\n",
    "\n",
    "**Compression**\n",
    "\n",
    "| **Model**    | **Metric**           | **Before Tuning**               | **After Tuning**                | **Percentage Change**        |\n",
    "|--------------|----------------------|---------------------------------|---------------------------------|------------------------------|\n",
    "| **Stagnant** | Data Utilization     | 48.24% (~12.78 samples/run)     | 37.52% (~9.95 samples/run)         | ~25% reduction               |\n",
    "|              | R² Reduction         | 0% drop                         | ~0.13% drop (<0.0015 reduction)   | ~0.13% drop (negligible)     |\n",
    "| **Basic**    | Data Utilization     | 67.82% (~18 samples/run)      | 42.94% (~11.35 samples/run)         | ~36% reduction               |\n",
    "|              | R² Reduction         | 0% drop                         | No visible drop                | 0% change                   |\n",
    "\n",
    "\n",
    "**Summary**\n",
    "\n",
    "We are very pleased with the final results. With the tuned hyperparameters, our stagnant model now uses only about 10 samples per run to predict the entire month’s prices with nearly 100% accuracy. This level of efficiency and performance is truly remarkable and demonstrates the strength of our approach in balancing model accuracy with data efficiency."
   ]
  }
 ],
 "metadata": {
  "kernelspec": {
   "display_name": "DS-101-Final",
   "language": "python",
   "name": "python3"
  },
  "language_info": {
   "codemirror_mode": {
    "name": "ipython",
    "version": 3
   },
   "file_extension": ".py",
   "mimetype": "text/x-python",
   "name": "python",
   "nbconvert_exporter": "python",
   "pygments_lexer": "ipython3",
   "version": "3.12.8"
  }
 },
 "nbformat": 4,
 "nbformat_minor": 2
}
