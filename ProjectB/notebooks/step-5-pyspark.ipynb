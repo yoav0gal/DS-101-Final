{
 "cells": [
  {
   "cell_type": "markdown",
   "metadata": {},
   "source": [
    "# step 5 - PySpark & Mllib for step 3"
   ]
  },
  {
   "cell_type": "markdown",
   "metadata": {},
   "source": [
    "### Installation and Setup"
   ]
  },
  {
   "cell_type": "markdown",
   "metadata": {},
   "source": [
    "Spark requires a java version of 8 or 11 to work"
   ]
  },
  {
   "cell_type": "code",
   "execution_count": null,
   "metadata": {},
   "outputs": [],
   "source": [
    "%%capture \n",
    "%conda install -c conda-forge openjdk=11 -y"
   ]
  },
  {
   "cell_type": "markdown",
   "metadata": {},
   "source": [
    "config spark to work with our env java version(11)"
   ]
  },
  {
   "cell_type": "code",
   "execution_count": 1,
   "metadata": {},
   "outputs": [
    {
     "name": "stdout",
     "output_type": "stream",
     "text": [
      "JAVA_HOME is set to: /opt/anaconda3/envs/DS-101-Final\n"
     ]
    }
   ],
   "source": [
    "import os \n",
    "java_home_path = os.popen('dirname $(dirname $(which java))').read().strip()\n",
    "os.environ[\"JAVA_HOME\"] = java_home_path\n",
    "print(f\"JAVA_HOME is set to: {os.environ['JAVA_HOME']}\")\n"
   ]
  },
  {
   "cell_type": "code",
   "execution_count": null,
   "metadata": {},
   "outputs": [],
   "source": [
    "%%capture \n",
    "%pip install pyspark pandas"
   ]
  },
  {
   "cell_type": "code",
   "execution_count": null,
   "metadata": {},
   "outputs": [],
   "source": [
    "from pyspark.sql import SparkSession\n",
    "from pyspark.sql.functions import col, count, lit, concat, first, array, udf, min as spark_min\n",
    "from pyspark.sql.types import ArrayType, IntegerType\n",
    "from pyspark.ml.feature import VectorAssembler, PCA\n",
    "from pyspark.ml.clustering import BisectingKMeans\n",
    "import plotly.express as px\n",
    "import pandas as pd\n",
    "import os"
   ]
  },
  {
   "cell_type": "markdown",
   "metadata": {},
   "source": [
    "### Create Spark session"
   ]
  },
  {
   "cell_type": "code",
   "execution_count": 1,
   "metadata": {},
   "outputs": [
    {
     "name": "stderr",
     "output_type": "stream",
     "text": [
      "25/03/12 13:00:01 WARN Utils: Your hostname, Yoavs-MacBook-Pro.local resolves to a loopback address: 127.0.0.1; using 10.0.0.122 instead (on interface en0)\n",
      "25/03/12 13:00:01 WARN Utils: Set SPARK_LOCAL_IP if you need to bind to another address\n",
      "Setting default log level to \"WARN\".\n",
      "To adjust logging level use sc.setLogLevel(newLevel). For SparkR, use setLogLevel(newLevel).\n",
      "25/03/12 13:00:02 WARN NativeCodeLoader: Unable to load native-hadoop library for your platform... using builtin-java classes where applicable\n",
      "25/03/12 13:00:02 WARN Utils: Service 'SparkUI' could not bind on port 4040. Attempting port 4041.\n"
     ]
    },
    {
     "name": "stdout",
     "output_type": "stream",
     "text": [
      "Create Spark session\n"
     ]
    }
   ],
   "source": [
    "from pyspark.sql import SparkSession\n",
    "from pyspark.sql.functions import col, count, lit, concat, first, array, udf\n",
    "from pyspark.sql.types import ArrayType, IntegerType\n",
    "from pyspark.ml.feature import VectorAssembler\n",
    "from pyspark.ml.clustering import BisectingKMeans\n",
    "from pyspark.sql.functions import min as spark_min\n",
    "\n",
    "try:\n",
    "    spark.stop()\n",
    "except:\n",
    "    pass\n",
    "\n",
    "spark = SparkSession.builder.appName(\"HotelClustering\").getOrCreate()\n",
    "print(\"Create Spark session\") "
   ]
  },
  {
   "cell_type": "markdown",
   "metadata": {},
   "source": [
    "### Data Loading and Filtering"
   ]
  },
  {
   "cell_type": "markdown",
   "metadata": {},
   "source": [
    "- Load the CSV file.\n",
    "- Select the top 150 hotels (by number of records).\n",
    "- Select the top 40 checkin dates."
   ]
  },
  {
   "cell_type": "code",
   "execution_count": 2,
   "metadata": {},
   "outputs": [
    {
     "data": {
      "text/plain": [
       "Row(Checkin Date=datetime.date(2015, 8, 13), Hotel Name='The Peninsula New York', Snapshot ID=1, Snapshot Date=datetime.date(2015, 7, 17), Days=5, Original Price=4370, Discount Price=4240, Discount Code=1, Available Rooms=3, Hotel Stars=5, DayDiff=27, WeekDay='Thursday', DiscountDiff=130, DiscountPerc=2.9748283752860414)"
      ]
     },
     "execution_count": 2,
     "metadata": {},
     "output_type": "execute_result"
    }
   ],
   "source": [
    "file_path = \"../data/hotels_data_changed.csv\"\n",
    "\n",
    "df = spark.read.option(\"header\", \"true\").option(\"inferSchema\", \"true\").csv(file_path)\n",
    "\n",
    "top150_hotels = df.groupBy(\"Hotel Name\").agg(count(\"*\").alias(\"cnt\")) .orderBy(col(\"cnt\").desc()).limit(150)\n",
    "\n",
    "\n",
    "df_top150 = df.join(top150_hotels.select(\"Hotel Name\"), on=\"Hotel Name\", how=\"inner\")\n",
    "\n",
    "\n",
    "top40_dates = df_top150.groupBy(\"Checkin Date\").agg(count(\"*\").alias(\"cnt\")).orderBy(col(\"cnt\").desc()).limit(40)\n",
    "\n",
    "df_top150_dates = df_top150.join(top40_dates.select(\"Checkin Date\"), on=\"Checkin Date\", how=\"inner\")\n",
    "\n",
    "df_top150_dates.head()\n"
   ]
  },
  {
   "cell_type": "markdown",
   "metadata": {},
   "source": [
    "### Convert to 160-dims vector"
   ]
  },
  {
   "cell_type": "code",
   "execution_count": 3,
   "metadata": {},
   "outputs": [
    {
     "name": "stderr",
     "output_type": "stream",
     "text": [
      "25/03/12 13:00:14 WARN SparkStringUtils: Truncated the string representation of a plan since it was too large. This behavior can be adjusted by setting 'spark.sql.debug.maxToStringFields'.\n"
     ]
    },
    {
     "data": {
      "text/plain": [
       "[Row(Hotel Name='Bentley Hotel', 2015-08-12_1=-1, 2015-08-12_2=-1, 2015-08-12_3=-1, 2015-08-12_4=-1, 2015-08-13_1=-1, 2015-08-13_2=-1, 2015-08-13_3=-1, 2015-08-13_4=-1, 2015-08-19_1=-1, 2015-08-19_2=-1, 2015-08-19_3=-1, 2015-08-19_4=-1, 2015-08-26_1=-1, 2015-08-26_2=-1, 2015-08-26_3=-1, 2015-08-26_4=-1, 2015-08-27_1=-1, 2015-08-27_2=-1, 2015-08-27_3=980, 2015-08-27_4=-1, 2015-08-28_1=-1, 2015-08-28_2=-1, 2015-08-28_3=-1, 2015-08-28_4=-1, 2015-09-09_1=-1, 2015-09-09_2=-1, 2015-09-09_3=-1, 2015-09-09_4=-1, 2015-09-10_1=-1, 2015-09-10_2=-1, 2015-09-10_3=-1, 2015-09-10_4=-1, 2015-09-11_1=-1, 2015-09-11_2=-1, 2015-09-11_3=-1, 2015-09-11_4=-1, 2015-09-16_1=-1, 2015-09-16_2=-1, 2015-09-16_3=-1, 2015-09-16_4=-1, 2015-09-17_1=-1, 2015-09-17_2=-1, 2015-09-17_3=-1, 2015-09-17_4=-1, 2015-09-18_1=-1, 2015-09-18_2=-1, 2015-09-18_3=-1, 2015-09-18_4=-1, 2015-09-30_1=-1, 2015-09-30_2=-1, 2015-09-30_3=-1, 2015-09-30_4=-1, 2015-10-01_1=-1, 2015-10-01_2=-1, 2015-10-01_3=-1, 2015-10-01_4=-1, 2015-10-02_1=-1, 2015-10-02_2=-1, 2015-10-02_3=-1, 2015-10-02_4=-1, 2015-10-07_1=-1, 2015-10-07_2=-1, 2015-10-07_3=-1, 2015-10-07_4=-1, 2015-10-14_1=-1, 2015-10-14_2=-1, 2015-10-14_3=-1, 2015-10-14_4=-1, 2015-10-15_1=-1, 2015-10-15_2=-1, 2015-10-15_3=2923, 2015-10-15_4=-1, 2015-10-16_1=-1, 2015-10-16_2=-1, 2015-10-16_3=-1, 2015-10-16_4=-1, 2015-10-21_1=1405, 2015-10-21_2=1403, 2015-10-21_3=1394, 2015-10-21_4=1389, 2015-10-22_1=-1, 2015-10-22_2=-1, 2015-10-22_3=-1, 2015-10-22_4=-1, 2015-10-27_1=-1, 2015-10-27_2=-1, 2015-10-27_3=2985, 2015-10-27_4=-1, 2015-10-28_1=-1, 2015-10-28_2=-1, 2015-10-28_3=-1, 2015-10-28_4=-1, 2015-10-29_1=-1, 2015-10-29_2=-1, 2015-10-29_3=2076, 2015-10-29_4=-1, 2015-10-30_1=-1, 2015-10-30_2=1798, 2015-10-30_3=1889, 2015-10-30_4=-1, 2015-11-03_1=-1, 2015-11-03_2=-1, 2015-11-03_3=-1, 2015-11-03_4=-1, 2015-11-04_1=-1, 2015-11-04_2=-1, 2015-11-04_3=-1, 2015-11-04_4=-1, 2015-11-05_1=1184, 2015-11-05_2=1138, 2015-11-05_3=1133, 2015-11-05_4=1179, 2015-11-06_1=-1, 2015-11-06_2=-1, 2015-11-06_3=-1, 2015-11-06_4=-1, 2015-11-07_1=-1, 2015-11-07_2=-1, 2015-11-07_3=-1, 2015-11-07_4=-1, 2015-11-10_1=-1, 2015-11-10_2=-1, 2015-11-10_3=-1, 2015-11-10_4=-1, 2015-11-11_1=-1, 2015-11-11_2=-1, 2015-11-11_3=-1, 2015-11-11_4=-1, 2015-11-12_1=-1, 2015-11-12_2=-1, 2015-11-12_3=-1, 2015-11-12_4=-1, 2015-11-13_1=-1, 2015-11-13_2=-1, 2015-11-13_3=-1, 2015-11-13_4=-1, 2015-11-18_1=-1, 2015-11-18_2=-1, 2015-11-18_3=-1, 2015-11-18_4=-1, 2015-11-21_1=868, 2015-11-21_2=-1, 2015-11-21_3=1488, 2015-11-21_4=-1, 2015-11-25_1=-1, 2015-11-25_2=2023, 2015-11-25_3=2041, 2015-11-25_4=-1, 2015-11-26_1=-1, 2015-11-26_2=-1, 2015-11-26_3=-1, 2015-11-26_4=-1, 2015-11-27_1=-1, 2015-11-27_2=-1, 2015-11-27_3=-1, 2015-11-27_4=-1, 2015-11-28_1=-1, 2015-11-28_2=-1, 2015-11-28_3=1104, 2015-11-28_4=-1),\n",
       " Row(Hotel Name='Westin New York at Times Square', 2015-08-12_1=1263, 2015-08-12_2=1277, 2015-08-12_3=1328, 2015-08-12_4=-1, 2015-08-13_1=-1, 2015-08-13_2=1285, 2015-08-13_3=-1, 2015-08-13_4=1261, 2015-08-19_1=1163, 2015-08-19_2=1214, 2015-08-19_3=1317, 2015-08-19_4=-1, 2015-08-26_1=1083, 2015-08-26_2=1129, 2015-08-26_3=1227, 2015-08-26_4=1328, 2015-08-27_1=-1, 2015-08-27_2=-1, 2015-08-27_3=-1, 2015-08-27_4=-1, 2015-08-28_1=1070, 2015-08-28_2=1250, 2015-08-28_3=1194, 2015-08-28_4=1166, 2015-09-09_1=-1, 2015-09-09_2=-1, 2015-09-09_3=2165, 2015-09-09_4=-1, 2015-09-10_1=1658, 2015-09-10_2=1695, 2015-09-10_3=1767, 2015-09-10_4=-1, 2015-09-11_1=-1, 2015-09-11_2=1833, 2015-09-11_3=1759, 2015-09-11_4=-1, 2015-09-16_1=-1, 2015-09-16_2=2398, 2015-09-16_3=2018, 2015-09-16_4=2230, 2015-09-17_1=1526, 2015-09-17_2=1544, 2015-09-17_3=1640, 2015-09-17_4=-1, 2015-09-18_1=-1, 2015-09-18_2=1425, 2015-09-18_3=1380, 2015-09-18_4=1425, 2015-09-30_1=1810, 2015-09-30_2=1778, 2015-09-30_3=1837, 2015-09-30_4=2098, 2015-10-01_1=-1, 2015-10-01_2=-1, 2015-10-01_3=-1, 2015-10-01_4=-1, 2015-10-02_1=-1, 2015-10-02_2=1981, 2015-10-02_3=-1, 2015-10-02_4=2147, 2015-10-07_1=2044, 2015-10-07_2=2138, 2015-10-07_3=2217, 2015-10-07_4=-1, 2015-10-14_1=1356, 2015-10-14_2=1426, 2015-10-14_3=1475, 2015-10-14_4=1965, 2015-10-15_1=-1, 2015-10-15_2=1440, 2015-10-15_3=-1, 2015-10-15_4=1326, 2015-10-16_1=-1, 2015-10-16_2=1627, 2015-10-16_3=1446, 2015-10-16_4=1493, 2015-10-21_1=1656, 2015-10-21_2=1716, 2015-10-21_3=1775, 2015-10-21_4=2265, 2015-10-22_1=-1, 2015-10-22_2=1705, 2015-10-22_3=1606, 2015-10-22_4=1556, 2015-10-27_1=-1, 2015-10-27_2=1939, 2015-10-27_3=1985, 2015-10-27_4=-1, 2015-10-28_1=1606, 2015-10-28_2=1674, 2015-10-28_3=1719, 2015-10-28_4=-1, 2015-10-29_1=1754, 2015-10-29_2=1649, 2015-10-29_3=1611, 2015-10-29_4=1527, 2015-10-30_1=-1, 2015-10-30_2=1695, 2015-10-30_3=1600, 2015-10-30_4=1827, 2015-11-03_1=-1, 2015-11-03_2=1746, 2015-11-03_3=1882, 2015-11-03_4=-1, 2015-11-04_1=1336, 2015-11-04_2=1396, 2015-11-04_3=1445, 2015-11-04_4=-1, 2015-11-05_1=1458, 2015-11-05_2=1355, 2015-11-05_3=1334, 2015-11-05_4=1256, 2015-11-06_1=-1, 2015-11-06_2=1565, 2015-11-06_3=1516, 2015-11-06_4=1728, 2015-11-07_1=1825, 2015-11-07_2=1695, 2015-11-07_3=1896, 2015-11-07_4=-1, 2015-11-10_1=1576, 2015-11-10_2=1656, 2015-11-10_3=1723, 2015-11-10_4=-1, 2015-11-11_1=1532, 2015-11-11_2=1586, 2015-11-11_3=1631, 2015-11-11_4=1681, 2015-11-12_1=-1, 2015-11-12_2=1343, 2015-11-12_3=1264, 2015-11-12_4=1246, 2015-11-13_1=-1, 2015-11-13_2=1423, 2015-11-13_3=1374, 2015-11-13_4=1673, 2015-11-18_1=1400, 2015-11-18_2=1476, 2015-11-18_3=1519, 2015-11-18_4=-1, 2015-11-21_1=-1, 2015-11-21_2=1219, 2015-11-21_3=-1, 2015-11-21_4=1180, 2015-11-25_1=1106, 2015-11-25_2=1168, 2015-11-25_3=1181, 2015-11-25_4=1172, 2015-11-26_1=-1, 2015-11-26_2=1467, 2015-11-26_3=1352, 2015-11-26_4=1365, 2015-11-27_1=-1, 2015-11-27_2=1425, 2015-11-27_3=1388, 2015-11-27_4=1330, 2015-11-28_1=-1, 2015-11-28_2=1727, 2015-11-28_3=1678, 2015-11-28_4=-1),\n",
       " Row(Hotel Name='The Westin New York Grand Central', 2015-08-12_1=1282, 2015-08-12_2=1386, 2015-08-12_3=1441, 2015-08-12_4=1446, 2015-08-13_1=1247, 2015-08-13_2=-1, 2015-08-13_3=-1, 2015-08-13_4=-1, 2015-08-19_1=1198, 2015-08-19_2=1200, 2015-08-19_3=1245, 2015-08-19_4=-1, 2015-08-26_1=1218, 2015-08-26_2=1238, 2015-08-26_3=1283, 2015-08-26_4=1388, 2015-08-27_1=-1, 2015-08-27_2=-1, 2015-08-27_3=-1, 2015-08-27_4=-1, 2015-08-28_1=-1, 2015-08-28_2=-1, 2015-08-28_3=-1, 2015-08-28_4=-1, 2015-09-09_1=-1, 2015-09-09_2=1926, 2015-09-09_3=1993, 2015-09-09_4=-1, 2015-09-10_1=-1, 2015-09-10_2=2026, 2015-09-10_3=1983, 2015-09-10_4=1947, 2015-09-11_1=-1, 2015-09-11_2=-1, 2015-09-11_3=-1, 2015-09-11_4=-1, 2015-09-16_1=-1, 2015-09-16_2=2149, 2015-09-16_3=2251, 2015-09-16_4=2458, 2015-09-17_1=-1, 2015-09-17_2=2243, 2015-09-17_3=2200, 2015-09-17_4=2159, 2015-09-18_1=-1, 2015-09-18_2=-1, 2015-09-18_3=-1, 2015-09-18_4=-1, 2015-09-30_1=1967, 2015-09-30_2=2128, 2015-09-30_3=2134, 2015-09-30_4=-1, 2015-10-01_1=2334, 2015-10-01_2=-1, 2015-10-01_3=-1, 2015-10-01_4=1867, 2015-10-02_1=-1, 2015-10-02_2=-1, 2015-10-02_3=-1, 2015-10-02_4=-1, 2015-10-07_1=-1, 2015-10-07_2=2190, 2015-10-07_3=2299, 2015-10-07_4=2716, 2015-10-14_1=1694, 2015-10-14_2=1949, 2015-10-14_3=2045, 2015-10-14_4=1932, 2015-10-15_1=-1, 2015-10-15_2=-1, 2015-10-15_3=-1, 2015-10-15_4=1664, 2015-10-16_1=-1, 2015-10-16_2=-1, 2015-10-16_3=1764, 2015-10-16_4=-1, 2015-10-21_1=-1, 2015-10-21_2=1914, 2015-10-21_3=1959, 2015-10-21_4=-1, 2015-10-22_1=1967, 2015-10-22_2=-1, 2015-10-22_3=-1, 2015-10-22_4=1776, 2015-10-27_1=-1, 2015-10-27_2=1932, 2015-10-27_3=-1, 2015-10-27_4=-1, 2015-10-28_1=1788, 2015-10-28_2=1810, 2015-10-28_3=1879, 2015-10-28_4=-1, 2015-10-29_1=-1, 2015-10-29_2=-1, 2015-10-29_3=1780, 2015-10-29_4=-1, 2015-10-30_1=1921, 2015-10-30_2=1845, 2015-10-30_3=-1, 2015-10-30_4=-1, 2015-11-03_1=-1, 2015-11-03_2=1840, 2015-11-03_3=1921, 2015-11-03_4=-1, 2015-11-04_1=1522, 2015-11-04_2=1614, 2015-11-04_3=1671, 2015-11-04_4=1784, 2015-11-05_1=-1, 2015-11-05_2=1450, 2015-11-05_3=-1, 2015-11-05_4=1334, 2015-11-06_1=-1, 2015-11-06_2=-1, 2015-11-06_3=1506, 2015-11-06_4=1508, 2015-11-07_1=-1, 2015-11-07_2=1733, 2015-11-07_3=1678, 2015-11-07_4=-1, 2015-11-10_1=-1, 2015-11-10_2=-1, 2015-11-10_3=-1, 2015-11-10_4=-1, 2015-11-11_1=1320, 2015-11-11_2=1370, 2015-11-11_3=1411, 2015-11-11_4=1624, 2015-11-12_1=-1, 2015-11-12_2=-1, 2015-11-12_3=-1, 2015-11-12_4=1260, 2015-11-13_1=-1, 2015-11-13_2=-1, 2015-11-13_3=1432, 2015-11-13_4=-1, 2015-11-18_1=-1, 2015-11-18_2=1426, 2015-11-18_3=1473, 2015-11-18_4=-1, 2015-11-21_1=1240, 2015-11-21_2=1239, 2015-11-21_3=-1, 2015-11-21_4=-1, 2015-11-25_1=1084, 2015-11-25_2=1084, 2015-11-25_3=1247, 2015-11-25_4=-1, 2015-11-26_1=-1, 2015-11-26_2=-1, 2015-11-26_3=-1, 2015-11-26_4=-1, 2015-11-27_1=-1, 2015-11-27_2=-1, 2015-11-27_3=-1, 2015-11-27_4=-1, 2015-11-28_1=-1, 2015-11-28_2=-1, 2015-11-28_3=-1, 2015-11-28_4=-1)]"
      ]
     },
     "execution_count": 3,
     "metadata": {},
     "output_type": "execute_result"
    }
   ],
   "source": [
    "df_grouped = df_top150_dates.groupBy(\"Hotel Name\", \"Checkin Date\", \"Discount Code\").agg(spark_min(\"Discount Price\").alias(\"minDiscountPrice\"))\n",
    "\n",
    "df_grouped = df_grouped.withColumn(\"date_code\", concat(col(\"Checkin Date\"), lit(\"_\"), col(\"Discount Code\")))\n",
    "\n",
    "df_pivot = df_grouped.groupBy(\"Hotel Name\").pivot(\"date_code\").agg(first(\"minDiscountPrice\"))\n",
    "\n",
    "df_pivot = df_pivot.fillna(-1)\n",
    "\n",
    "df_pivot.head(3)"
   ]
  },
  {
   "cell_type": "markdown",
   "metadata": {},
   "source": [
    "We might find ourself in a situation where some of the hotels don't have a column for all the 160 dates + discount codes.\n",
    "So we would ensure thy all have that."
   ]
  },
  {
   "cell_type": "code",
   "execution_count": 4,
   "metadata": {},
   "outputs": [
    {
     "data": {
      "text/plain": [
       "[Row(Hotel Name='Bentley Hotel', 2015-11-11_1=-1, 2015-11-11_2=-1, 2015-11-11_3=-1, 2015-11-11_4=-1, 2015-10-14_1=-1, 2015-10-14_2=-1, 2015-10-14_3=-1, 2015-10-14_4=-1, 2015-11-04_1=-1, 2015-11-04_2=-1, 2015-11-04_3=-1, 2015-11-04_4=-1, 2015-08-19_1=-1, 2015-08-19_2=-1, 2015-08-19_3=-1, 2015-08-19_4=-1, 2015-10-28_1=-1, 2015-10-28_2=-1, 2015-10-28_3=-1, 2015-10-28_4=-1, 2015-10-21_1=1405, 2015-10-21_2=1403, 2015-10-21_3=1394, 2015-10-21_4=1389, 2015-11-06_1=-1, 2015-11-06_2=-1, 2015-11-06_3=-1, 2015-11-06_4=-1, 2015-08-12_1=-1, 2015-08-12_2=-1, 2015-08-12_3=-1, 2015-08-12_4=-1, 2015-11-05_1=1184, 2015-11-05_2=1138, 2015-11-05_3=1133, 2015-11-05_4=1179, 2015-10-22_1=-1, 2015-10-22_2=-1, 2015-10-22_3=-1, 2015-10-22_4=-1, 2015-11-12_1=-1, 2015-11-12_2=-1, 2015-11-12_3=-1, 2015-11-12_4=-1, 2015-09-10_1=-1, 2015-09-10_2=-1, 2015-09-10_3=-1, 2015-09-10_4=-1, 2015-10-29_1=-1, 2015-10-29_2=-1, 2015-10-29_3=2076, 2015-10-29_4=-1, 2015-09-09_1=-1, 2015-09-09_2=-1, 2015-09-09_3=-1, 2015-09-09_4=-1, 2015-11-18_1=-1, 2015-11-18_2=-1, 2015-11-18_3=-1, 2015-11-18_4=-1, 2015-08-26_1=-1, 2015-08-26_2=-1, 2015-08-26_3=-1, 2015-08-26_4=-1, 2015-11-10_1=-1, 2015-11-10_2=-1, 2015-11-10_3=-1, 2015-11-10_4=-1, 2015-11-13_1=-1, 2015-11-13_2=-1, 2015-11-13_3=-1, 2015-11-13_4=-1, 2015-10-15_1=-1, 2015-10-15_2=-1, 2015-10-15_3=2923, 2015-10-15_4=-1, 2015-11-21_1=868, 2015-11-21_2=-1, 2015-11-21_3=1488, 2015-11-21_4=-1, 2015-09-30_1=-1, 2015-09-30_2=-1, 2015-09-30_3=-1, 2015-09-30_4=-1, 2015-10-30_1=-1, 2015-10-30_2=1798, 2015-10-30_3=1889, 2015-10-30_4=-1, 2015-09-16_1=-1, 2015-09-16_2=-1, 2015-09-16_3=-1, 2015-09-16_4=-1, 2015-09-17_1=-1, 2015-09-17_2=-1, 2015-09-17_3=-1, 2015-09-17_4=-1, 2015-11-28_1=-1, 2015-11-28_2=-1, 2015-11-28_3=1104, 2015-11-28_4=-1, 2015-10-01_1=-1, 2015-10-01_2=-1, 2015-10-01_3=-1, 2015-10-01_4=-1, 2015-11-26_1=-1, 2015-11-26_2=-1, 2015-11-26_3=-1, 2015-11-26_4=-1, 2015-09-11_1=-1, 2015-09-11_2=-1, 2015-09-11_3=-1, 2015-09-11_4=-1, 2015-09-18_1=-1, 2015-09-18_2=-1, 2015-09-18_3=-1, 2015-09-18_4=-1, 2015-10-16_1=-1, 2015-10-16_2=-1, 2015-10-16_3=-1, 2015-10-16_4=-1, 2015-11-27_1=-1, 2015-11-27_2=-1, 2015-11-27_3=-1, 2015-11-27_4=-1, 2015-10-02_1=-1, 2015-10-02_2=-1, 2015-10-02_3=-1, 2015-10-02_4=-1, 2015-10-07_1=-1, 2015-10-07_2=-1, 2015-10-07_3=-1, 2015-10-07_4=-1, 2015-11-07_1=-1, 2015-11-07_2=-1, 2015-11-07_3=-1, 2015-11-07_4=-1, 2015-08-28_1=-1, 2015-08-28_2=-1, 2015-08-28_3=-1, 2015-08-28_4=-1, 2015-08-27_1=-1, 2015-08-27_2=-1, 2015-08-27_3=980, 2015-08-27_4=-1, 2015-10-27_1=-1, 2015-10-27_2=-1, 2015-10-27_3=2985, 2015-10-27_4=-1, 2015-11-03_1=-1, 2015-11-03_2=-1, 2015-11-03_3=-1, 2015-11-03_4=-1, 2015-08-13_1=-1, 2015-08-13_2=-1, 2015-08-13_3=-1, 2015-08-13_4=-1, 2015-11-25_1=-1, 2015-11-25_2=2023, 2015-11-25_3=2041, 2015-11-25_4=-1),\n",
       " Row(Hotel Name='Westin New York at Times Square', 2015-11-11_1=1532, 2015-11-11_2=1586, 2015-11-11_3=1631, 2015-11-11_4=1681, 2015-10-14_1=1356, 2015-10-14_2=1426, 2015-10-14_3=1475, 2015-10-14_4=1965, 2015-11-04_1=1336, 2015-11-04_2=1396, 2015-11-04_3=1445, 2015-11-04_4=-1, 2015-08-19_1=1163, 2015-08-19_2=1214, 2015-08-19_3=1317, 2015-08-19_4=-1, 2015-10-28_1=1606, 2015-10-28_2=1674, 2015-10-28_3=1719, 2015-10-28_4=-1, 2015-10-21_1=1656, 2015-10-21_2=1716, 2015-10-21_3=1775, 2015-10-21_4=2265, 2015-11-06_1=-1, 2015-11-06_2=1565, 2015-11-06_3=1516, 2015-11-06_4=1728, 2015-08-12_1=1263, 2015-08-12_2=1277, 2015-08-12_3=1328, 2015-08-12_4=-1, 2015-11-05_1=1458, 2015-11-05_2=1355, 2015-11-05_3=1334, 2015-11-05_4=1256, 2015-10-22_1=-1, 2015-10-22_2=1705, 2015-10-22_3=1606, 2015-10-22_4=1556, 2015-11-12_1=-1, 2015-11-12_2=1343, 2015-11-12_3=1264, 2015-11-12_4=1246, 2015-09-10_1=1658, 2015-09-10_2=1695, 2015-09-10_3=1767, 2015-09-10_4=-1, 2015-10-29_1=1754, 2015-10-29_2=1649, 2015-10-29_3=1611, 2015-10-29_4=1527, 2015-09-09_1=-1, 2015-09-09_2=-1, 2015-09-09_3=2165, 2015-09-09_4=-1, 2015-11-18_1=1400, 2015-11-18_2=1476, 2015-11-18_3=1519, 2015-11-18_4=-1, 2015-08-26_1=1083, 2015-08-26_2=1129, 2015-08-26_3=1227, 2015-08-26_4=1328, 2015-11-10_1=1576, 2015-11-10_2=1656, 2015-11-10_3=1723, 2015-11-10_4=-1, 2015-11-13_1=-1, 2015-11-13_2=1423, 2015-11-13_3=1374, 2015-11-13_4=1673, 2015-10-15_1=-1, 2015-10-15_2=1440, 2015-10-15_3=-1, 2015-10-15_4=1326, 2015-11-21_1=-1, 2015-11-21_2=1219, 2015-11-21_3=-1, 2015-11-21_4=1180, 2015-09-30_1=1810, 2015-09-30_2=1778, 2015-09-30_3=1837, 2015-09-30_4=2098, 2015-10-30_1=-1, 2015-10-30_2=1695, 2015-10-30_3=1600, 2015-10-30_4=1827, 2015-09-16_1=-1, 2015-09-16_2=2398, 2015-09-16_3=2018, 2015-09-16_4=2230, 2015-09-17_1=1526, 2015-09-17_2=1544, 2015-09-17_3=1640, 2015-09-17_4=-1, 2015-11-28_1=-1, 2015-11-28_2=1727, 2015-11-28_3=1678, 2015-11-28_4=-1, 2015-10-01_1=-1, 2015-10-01_2=-1, 2015-10-01_3=-1, 2015-10-01_4=-1, 2015-11-26_1=-1, 2015-11-26_2=1467, 2015-11-26_3=1352, 2015-11-26_4=1365, 2015-09-11_1=-1, 2015-09-11_2=1833, 2015-09-11_3=1759, 2015-09-11_4=-1, 2015-09-18_1=-1, 2015-09-18_2=1425, 2015-09-18_3=1380, 2015-09-18_4=1425, 2015-10-16_1=-1, 2015-10-16_2=1627, 2015-10-16_3=1446, 2015-10-16_4=1493, 2015-11-27_1=-1, 2015-11-27_2=1425, 2015-11-27_3=1388, 2015-11-27_4=1330, 2015-10-02_1=-1, 2015-10-02_2=1981, 2015-10-02_3=-1, 2015-10-02_4=2147, 2015-10-07_1=2044, 2015-10-07_2=2138, 2015-10-07_3=2217, 2015-10-07_4=-1, 2015-11-07_1=1825, 2015-11-07_2=1695, 2015-11-07_3=1896, 2015-11-07_4=-1, 2015-08-28_1=1070, 2015-08-28_2=1250, 2015-08-28_3=1194, 2015-08-28_4=1166, 2015-08-27_1=-1, 2015-08-27_2=-1, 2015-08-27_3=-1, 2015-08-27_4=-1, 2015-10-27_1=-1, 2015-10-27_2=1939, 2015-10-27_3=1985, 2015-10-27_4=-1, 2015-11-03_1=-1, 2015-11-03_2=1746, 2015-11-03_3=1882, 2015-11-03_4=-1, 2015-08-13_1=-1, 2015-08-13_2=1285, 2015-08-13_3=-1, 2015-08-13_4=1261, 2015-11-25_1=1106, 2015-11-25_2=1168, 2015-11-25_3=1181, 2015-11-25_4=1172),\n",
       " Row(Hotel Name='The Westin New York Grand Central', 2015-11-11_1=1320, 2015-11-11_2=1370, 2015-11-11_3=1411, 2015-11-11_4=1624, 2015-10-14_1=1694, 2015-10-14_2=1949, 2015-10-14_3=2045, 2015-10-14_4=1932, 2015-11-04_1=1522, 2015-11-04_2=1614, 2015-11-04_3=1671, 2015-11-04_4=1784, 2015-08-19_1=1198, 2015-08-19_2=1200, 2015-08-19_3=1245, 2015-08-19_4=-1, 2015-10-28_1=1788, 2015-10-28_2=1810, 2015-10-28_3=1879, 2015-10-28_4=-1, 2015-10-21_1=-1, 2015-10-21_2=1914, 2015-10-21_3=1959, 2015-10-21_4=-1, 2015-11-06_1=-1, 2015-11-06_2=-1, 2015-11-06_3=1506, 2015-11-06_4=1508, 2015-08-12_1=1282, 2015-08-12_2=1386, 2015-08-12_3=1441, 2015-08-12_4=1446, 2015-11-05_1=-1, 2015-11-05_2=1450, 2015-11-05_3=-1, 2015-11-05_4=1334, 2015-10-22_1=1967, 2015-10-22_2=-1, 2015-10-22_3=-1, 2015-10-22_4=1776, 2015-11-12_1=-1, 2015-11-12_2=-1, 2015-11-12_3=-1, 2015-11-12_4=1260, 2015-09-10_1=-1, 2015-09-10_2=2026, 2015-09-10_3=1983, 2015-09-10_4=1947, 2015-10-29_1=-1, 2015-10-29_2=-1, 2015-10-29_3=1780, 2015-10-29_4=-1, 2015-09-09_1=-1, 2015-09-09_2=1926, 2015-09-09_3=1993, 2015-09-09_4=-1, 2015-11-18_1=-1, 2015-11-18_2=1426, 2015-11-18_3=1473, 2015-11-18_4=-1, 2015-08-26_1=1218, 2015-08-26_2=1238, 2015-08-26_3=1283, 2015-08-26_4=1388, 2015-11-10_1=-1, 2015-11-10_2=-1, 2015-11-10_3=-1, 2015-11-10_4=-1, 2015-11-13_1=-1, 2015-11-13_2=-1, 2015-11-13_3=1432, 2015-11-13_4=-1, 2015-10-15_1=-1, 2015-10-15_2=-1, 2015-10-15_3=-1, 2015-10-15_4=1664, 2015-11-21_1=1240, 2015-11-21_2=1239, 2015-11-21_3=-1, 2015-11-21_4=-1, 2015-09-30_1=1967, 2015-09-30_2=2128, 2015-09-30_3=2134, 2015-09-30_4=-1, 2015-10-30_1=1921, 2015-10-30_2=1845, 2015-10-30_3=-1, 2015-10-30_4=-1, 2015-09-16_1=-1, 2015-09-16_2=2149, 2015-09-16_3=2251, 2015-09-16_4=2458, 2015-09-17_1=-1, 2015-09-17_2=2243, 2015-09-17_3=2200, 2015-09-17_4=2159, 2015-11-28_1=-1, 2015-11-28_2=-1, 2015-11-28_3=-1, 2015-11-28_4=-1, 2015-10-01_1=2334, 2015-10-01_2=-1, 2015-10-01_3=-1, 2015-10-01_4=1867, 2015-11-26_1=-1, 2015-11-26_2=-1, 2015-11-26_3=-1, 2015-11-26_4=-1, 2015-09-11_1=-1, 2015-09-11_2=-1, 2015-09-11_3=-1, 2015-09-11_4=-1, 2015-09-18_1=-1, 2015-09-18_2=-1, 2015-09-18_3=-1, 2015-09-18_4=-1, 2015-10-16_1=-1, 2015-10-16_2=-1, 2015-10-16_3=1764, 2015-10-16_4=-1, 2015-11-27_1=-1, 2015-11-27_2=-1, 2015-11-27_3=-1, 2015-11-27_4=-1, 2015-10-02_1=-1, 2015-10-02_2=-1, 2015-10-02_3=-1, 2015-10-02_4=-1, 2015-10-07_1=-1, 2015-10-07_2=2190, 2015-10-07_3=2299, 2015-10-07_4=2716, 2015-11-07_1=-1, 2015-11-07_2=1733, 2015-11-07_3=1678, 2015-11-07_4=-1, 2015-08-28_1=-1, 2015-08-28_2=-1, 2015-08-28_3=-1, 2015-08-28_4=-1, 2015-08-27_1=-1, 2015-08-27_2=-1, 2015-08-27_3=-1, 2015-08-27_4=-1, 2015-10-27_1=-1, 2015-10-27_2=1932, 2015-10-27_3=-1, 2015-10-27_4=-1, 2015-11-03_1=-1, 2015-11-03_2=1840, 2015-11-03_3=1921, 2015-11-03_4=-1, 2015-08-13_1=1247, 2015-08-13_2=-1, 2015-08-13_3=-1, 2015-08-13_4=-1, 2015-11-25_1=1084, 2015-11-25_2=1084, 2015-11-25_3=1247, 2015-11-25_4=-1)]"
      ]
     },
     "execution_count": 4,
     "metadata": {},
     "output_type": "execute_result"
    }
   ],
   "source": [
    "top40_list = [row[\"Checkin Date\"] for row in top40_dates.collect()]\n",
    "discount_codes = [1, 2, 3, 4]\n",
    "\n",
    "# Build the expected column names (format: \"YYYY-MM-DD_1\", etc.)\n",
    "expected_cols = [f\"{date}_{code}\" for date in top40_list for code in discount_codes]\n",
    "\n",
    "# Add any missing expected columns with default -1\n",
    "existing_cols = df_pivot.columns\n",
    "for col_name in expected_cols:\n",
    "    if col_name not in existing_cols:\n",
    "        df_pivot = df_pivot.withColumn(col_name, lit(-1))\n",
    "\n",
    "# Reorder the DataFrame columns so that they appear in the desired order:\n",
    "df_pivot = df_pivot.select([\"Hotel Name\"] + expected_cols)\n",
    "df_pivot.head(3)"
   ]
  },
  {
   "cell_type": "markdown",
   "metadata": {},
   "source": [
    "### Normalization and Save to CSV"
   ]
  },
  {
   "cell_type": "markdown",
   "metadata": {},
   "source": [
    "Normalize the 160 price columns row-by-row (scaling valid prices to a 0–100 range, leaving missing values as -1)."
   ]
  },
  {
   "cell_type": "code",
   "execution_count": 5,
   "metadata": {},
   "outputs": [],
   "source": [
    "# Combine the 160 price columns into an array column\n",
    "df_pivot = df_pivot.withColumn(\"prices_array\", array(*expected_cols))\n",
    "\n",
    "# Define a UDF for normalizing the prices for each hotel (ignoring -1 values)\n",
    "def normalize_prices(prices):\n",
    "    # Filter out missing values (-1)\n",
    "    valid_prices = [p for p in prices if p != -1]\n",
    "    if not valid_prices:\n",
    "        return prices\n",
    "    min_price = min(valid_prices)\n",
    "    max_price = max(valid_prices)\n",
    "    if min_price == max_price:\n",
    "        return [0 if p != -1 else -1 for p in prices]\n",
    "    normalized = []\n",
    "    for p in prices:\n",
    "        if p == -1:\n",
    "            normalized.append(-1)\n",
    "        else:\n",
    "            norm_val = round(((p - min_price) / (max_price - min_price)) * 100)\n",
    "            normalized.append(int(norm_val))\n",
    "    return normalized\n",
    "\n",
    "normalize_udf = udf(normalize_prices, ArrayType(IntegerType()))\n",
    "\n",
    "# Apply the normalization UDF to create a new column with normalized prices.\n",
    "df_pivot = df_pivot.withColumn(\"norm_prices_array\", normalize_udf(\"prices_array\"))\n",
    "\n",
    "# Replace the original price columns with the normalized values.\n",
    "for i, col_name in enumerate(expected_cols):\n",
    "    df_pivot = df_pivot.withColumn(col_name, col(\"norm_prices_array\")[i])\n",
    "\n",
    "# Optionally, drop helper columns.\n",
    "df_final = df_pivot.drop(\"prices_array\", \"norm_prices_array\")\n"
   ]
  },
  {
   "cell_type": "markdown",
   "metadata": {},
   "source": [
    "**Save to CSV**"
   ]
  },
  {
   "cell_type": "code",
   "execution_count": 6,
   "metadata": {},
   "outputs": [
    {
     "name": "stderr",
     "output_type": "stream",
     "text": [
      "                                                                                \r"
     ]
    }
   ],
   "source": [
    "pyspark_hotels_clustering_data= \"../data/pyspark_hotels_clustering_data.csv\"\n",
    "df_final.write.option(\"header\", \"true\").mode(\"overwrite\").csv(pyspark_hotels_clustering_data)\n"
   ]
  },
  {
   "cell_type": "markdown",
   "metadata": {},
   "source": [
    "### Clustering"
   ]
  },
  {
   "cell_type": "markdown",
   "metadata": {},
   "source": [
    "#### Read CSV and assemble features"
   ]
  },
  {
   "cell_type": "code",
   "execution_count": 7,
   "metadata": {},
   "outputs": [],
   "source": [
    "from pyspark.ml.feature import VectorAssembler\n",
    "\n",
    "# Define the path to the CSV folder that was saved in Step 5.\n",
    "pyspark_hotels_clustering_data = \"../data/pyspark_hotels_clustering_data.csv\"\n",
    "\n",
    "# Read the CSV data (Spark will read all part files in the folder)\n",
    "df_loaded = spark.read.option(\"header\", \"true\").option(\"inferSchema\", \"true\").csv(pyspark_hotels_clustering_data)\n",
    "\n",
    "# Identify the feature columns (all columns except \"Hotel Name\")\n",
    "feature_cols = [col for col in df_loaded.columns if col != \"Hotel Name\"]\n",
    "\n",
    "# Assemble the 160 normalized price columns into a single feature vector.\n",
    "\n",
    "assembler = VectorAssembler(inputCols=feature_cols, outputCol=\"features\")\n",
    "df_features = assembler.transform(df_loaded)\n"
   ]
  },
  {
   "cell_type": "markdown",
   "metadata": {},
   "source": [
    "#### Clustering with MLlib (BisectingKMeans)"
   ]
  },
  {
   "cell_type": "code",
   "execution_count": 8,
   "metadata": {},
   "outputs": [
    {
     "name": "stderr",
     "output_type": "stream",
     "text": [
      "25/03/12 13:00:42 WARN InstanceBuilder: Failed to load implementation from:dev.ludovic.netlib.blas.JNIBLAS\n"
     ]
    },
    {
     "name": "stdout",
     "output_type": "stream",
     "text": [
      "+-----------------------------------------------------+-------+\n",
      "|Hotel Name                                           |cluster|\n",
      "+-----------------------------------------------------+-------+\n",
      "|Bentley Hotel                                        |0      |\n",
      "|Westin New York at Times Square                      |3      |\n",
      "|The Westin New York Grand Central                    |2      |\n",
      "|Super 8 Brooklyn   Park Slope Hotel                  |0      |\n",
      "|Four Seasons Hotel New York                          |3      |\n",
      "|Omni Berkshire Place                                 |2      |\n",
      "|DoubleTree by Hilton Metropolitan - New York City    |3      |\n",
      "|Dumont NYC-an Affinia hotel                          |1      |\n",
      "|Hampton Inn Manhattan Downtown-Financial District    |3      |\n",
      "|Eventi Hotel a Kimpton Hotel                         |2      |\n",
      "|Magnuson Convention Center Hotel                     |3      |\n",
      "|Courtyard Newark Elizabeth                           |0      |\n",
      "|Park Hyatt New York                                  |1      |\n",
      "|Roxy Hotel Tribeca (formerly the Tribeca Grand Hotel)|0      |\n",
      "|The Kitano New York                                  |0      |\n",
      "|Waldorf Astoria New York                             |2      |\n",
      "|Courtyard by Marriott New York Manhattan SoHo        |0      |\n",
      "|Hyatt Place New York Midtown South                   |1      |\n",
      "|Hilton Garden Inn New York Manhattan-Chelsea         |2      |\n",
      "|Baccarat Hotel and Residences New York               |0      |\n",
      "+-----------------------------------------------------+-------+\n",
      "only showing top 20 rows\n",
      "\n"
     ]
    }
   ],
   "source": [
    "from pyspark.ml.clustering import BisectingKMeans\n",
    "\n",
    "# Set the number of clusters (adjust k as needed)\n",
    "bkmeans = BisectingKMeans(featuresCol=\"features\", predictionCol=\"cluster\", k=4)\n",
    "\n",
    "# Train the model\n",
    "model = bkmeans.fit(df_features)\n",
    "\n",
    "# Add the cluster assignments to the DataFrame\n",
    "df_clustered = model.transform(df_features)\n",
    "\n",
    "# Show the hotel names along with their cluster assignments\n",
    "df_clustered.select(\"Hotel Name\", \"cluster\").show(truncate=False)\n"
   ]
  },
  {
   "cell_type": "markdown",
   "metadata": {},
   "source": [
    "#### Visualization with PCA and Plotly"
   ]
  },
  {
   "cell_type": "markdown",
   "metadata": {},
   "source": [
    "Since the features are 160-dimensional, we use PCA to reduce them to 2 dimensions for visualization. Then, we convert the Spark DataFrame to a Pandas DataFrame and use Plotly Express to create a scatter plot."
   ]
  },
  {
   "cell_type": "code",
   "execution_count": 9,
   "metadata": {},
   "outputs": [
    {
     "name": "stderr",
     "output_type": "stream",
     "text": [
      "25/03/12 13:00:52 WARN InstanceBuilder: Failed to load implementation from:dev.ludovic.netlib.lapack.JNILAPACK\n"
     ]
    }
   ],
   "source": [
    "from pyspark.ml.feature import PCA\n",
    "pca = PCA(k=2, inputCol=\"features\", outputCol=\"pcaFeatures\")\n",
    "pca_model = pca.fit(df_clustered)\n",
    "df_pca = pca_model.transform(df_clustered)\n",
    "\n",
    "pandas_df = df_pca.select(\"Hotel Name\", \"cluster\", \"pcaFeatures\").toPandas()\n",
    "\n",
    "# Split the PCA features into two separate columns for plotting\n",
    "pandas_df[\"pca1\"] = pandas_df[\"pcaFeatures\"].apply(lambda x: x[0])\n",
    "pandas_df[\"pca2\"] = pandas_df[\"pcaFeatures\"].apply(lambda x: x[1])\n"
   ]
  },
  {
   "cell_type": "code",
   "execution_count": 10,
   "metadata": {},
   "outputs": [
    {
     "data": {
      "application/vnd.plotly.v1+json": {
       "config": {
        "plotlyServerURL": "https://plot.ly"
       },
       "data": [
        {
         "customdata": [
          [
           "Bentley Hotel"
          ],
          [
           "Westin New York at Times Square"
          ],
          [
           "The Westin New York Grand Central"
          ],
          [
           "Super 8 Brooklyn   Park Slope Hotel"
          ],
          [
           "Four Seasons Hotel New York"
          ],
          [
           "Omni Berkshire Place"
          ],
          [
           "DoubleTree by Hilton Metropolitan - New York City"
          ],
          [
           "Dumont NYC-an Affinia hotel"
          ],
          [
           "Hampton Inn Manhattan Downtown-Financial District"
          ],
          [
           "Eventi Hotel a Kimpton Hotel"
          ],
          [
           "Magnuson Convention Center Hotel"
          ],
          [
           "Courtyard Newark Elizabeth"
          ],
          [
           "Park Hyatt New York"
          ],
          [
           "Roxy Hotel Tribeca (formerly the Tribeca Grand Hotel)"
          ],
          [
           "The Kitano New York"
          ],
          [
           "Waldorf Astoria New York"
          ],
          [
           "Courtyard by Marriott New York Manhattan SoHo"
          ],
          [
           "Hyatt Place New York Midtown South"
          ],
          [
           "Hilton Garden Inn New York Manhattan-Chelsea"
          ],
          [
           "Baccarat Hotel and Residences New York"
          ],
          [
           "The St. Regis New York"
          ],
          [
           "Hampton Inn Manhattan Times Square South"
          ],
          [
           "New York Hilton Midtown"
          ],
          [
           "The Pearl New York"
          ],
          [
           "Best Western Plus Newark Airport West"
          ],
          [
           "Wyndham Garden - Manhattan Chelsea West"
          ],
          [
           "Martha Washington"
          ],
          [
           "GEM Hotel - Chelsea an Ascend Hotel Collection Member"
          ],
          [
           "The Plaza Hotel"
          ],
          [
           "Best Western Plus Arena Hotel"
          ],
          [
           "Courtyard New York Manhattan Times Square West"
          ],
          [
           "W New York - Downtown"
          ],
          [
           "Renaissance Newark Airport Hotel"
          ],
          [
           "Hilton Garden Inn Tribeca"
          ],
          [
           "Aloft Harlem"
          ],
          [
           "The High Line Hotel"
          ],
          [
           "Wyndham New Yorker"
          ],
          [
           "SpringHill Suites by Marriott Newark Liberty International"
          ],
          [
           "Wyndham Garden Chinatown"
          ],
          [
           "DoubleTree by Hilton Hotel New York - Times Square South"
          ],
          [
           "Smyth A Thompson Hotel"
          ],
          [
           "Hampton Inn & Suites Staten Island"
          ],
          [
           "Conrad New York"
          ],
          [
           "DoubleTree by Hilton New York City - Chelsea"
          ],
          [
           "The Lexington New York City Autograph Collection"
          ],
          [
           "New York Marriott Downtown"
          ],
          [
           "Loews Regency New York Hotel"
          ],
          [
           "SIXTY Lower East Side"
          ],
          [
           "Hampton Inn JFK Airport"
          ],
          [
           "Hilton Newark Airport"
          ],
          [
           "Hilton Times Square"
          ],
          [
           "The Towers of the Waldorf Astoria New York"
          ],
          [
           "Wyndham Garden Long Island City Manhattan View"
          ],
          [
           "Hampton Inn New York - LaGuardia Airport"
          ],
          [
           "DoubleTree Suites by Hilton New York City - Times Square"
          ],
          [
           "Howard Johnson Flushing"
          ],
          [
           "Hyatt Times Square New York"
          ],
          [
           "Hilton Garden Inn New York Manhattan-Midtown East"
          ],
          [
           "Andaz 5th Avenue - a concept by Hyatt"
          ],
          [
           "Hilton New York JFK Airport"
          ],
          [
           "Howard Johnson Inn Jamaica JFK Airport NYC"
          ],
          [
           "Residence Inn Newark Elizabeth Liberty International Airport"
          ],
          [
           "New York Marriott at the Brooklyn Bridge"
          ],
          [
           "Jet Luxury at the Trump SoHo"
          ],
          [
           "Hampton Inn New York Chelsea"
          ],
          [
           "The Roosevelt Hotel New York City"
          ],
          [
           "Hyatt Place Flushing LaGuardia Airport"
          ],
          [
           "Fairfield Inn by Marriott LaGuardia Airport Flushing"
          ],
          [
           "Gild Hall A Thompson Hotel"
          ],
          [
           "The New York EDITION"
          ],
          [
           "Best Western Bayside Inn"
          ],
          [
           "Hilton Garden Inn New York Midtown Park Ave"
          ],
          [
           "Newark Liberty International Airport Marriott"
          ],
          [
           "Hotel 48LEX New York"
          ],
          [
           "Homewood Suites by Hilton NY Midtown Manhattan Times Square"
          ],
          [
           "Holiday Inn New York JFK Airport Area"
          ],
          [
           "Hudson New York Central Park"
          ],
          [
           "W New York Times Square"
          ],
          [
           "Wyndham Garden Brooklyn Sunset Park"
          ],
          [
           "ink48 hotel a Kimpton Hotel"
          ],
          [
           "Courtyard by Marriott New York Manhattan Times Square"
          ],
          [
           "Cassa Hotel 45th Street"
          ],
          [
           "The SunBright"
          ],
          [
           "Hilton New York Fashion District"
          ],
          [
           "The Carlyle A Rosewood Hotel"
          ],
          [
           "Courtyard by Marriott New York City Manhattan Fifth Avenue"
          ],
          [
           "Hampton Inn Manhattan Soho"
          ],
          [
           "Days Inn Bronx Near Stadium"
          ],
          [
           "Hampton Inn Times Square North"
          ],
          [
           "Home2 Suites by Hilton NY Long Island City Manhattan View"
          ],
          [
           "Comfort Inn Times Square South Area"
          ],
          [
           "Hilton Manhattan East"
          ],
          [
           "The Out NYC"
          ],
          [
           "Blakely New York"
          ],
          [
           "Hampton Inn Manhattan Times Square Central"
          ],
          [
           "TRYP By Wyndham Times Square South"
          ],
          [
           "Le Parker Meridien New York"
          ],
          [
           "The Roger"
          ],
          [
           "Andaz Wall Street - a concept by Hyatt"
          ],
          [
           "McCarren Hotel & Pool"
          ],
          [
           "Howard Johnson Bronx Near Stadium"
          ],
          [
           "Courtyard by Marriott New York Manhattan Upper East Side"
          ],
          [
           "The Shoreham Hotel"
          ],
          [
           "Hampton Inn Manhattan United Nations"
          ],
          [
           "The Muse Hotel a Kimpton Hotel"
          ],
          [
           "Quality Inn Woodside"
          ],
          [
           "NOMO SOHO"
          ],
          [
           "Langham Place New York Fifth Avenue"
          ],
          [
           "Courtyard by Marriott New York Manhattan   Central Park"
          ],
          [
           "The Peninsula New York"
          ],
          [
           "San Carlos Hotel"
          ],
          [
           "The Lombardy"
          ],
          [
           "Hyatt Union Square New York"
          ],
          [
           "Millenium Hilton"
          ],
          [
           "Radisson Martinique on Broadway"
          ],
          [
           "Hilton Garden Inn New York Long Island City"
          ],
          [
           "Quality Inn Convention Center"
          ],
          [
           "Hampton Inn Manhattan-Seaport-Financial District"
          ],
          [
           "New York Marriott East Side"
          ],
          [
           "W New York - Union Square"
          ],
          [
           "Hilton Garden Inn New York West 35th Street"
          ],
          [
           "Ramada Long Island City"
          ],
          [
           "Residence Inn New York The Bronx At Metro Center Atrium"
          ],
          [
           "Viceroy New York"
          ],
          [
           "Hilton Garden Inn New York-Times Square Central"
          ],
          [
           "Hilton Garden Inn New York Central Park South-Midtown West"
          ],
          [
           "Chelsea Inn"
          ],
          [
           "Crowne Plaza Times Square Manhattan"
          ],
          [
           "W New York"
          ],
          [
           "DoubleTree by Hilton New York City - Financial District"
          ],
          [
           "The Standard East Village"
          ],
          [
           "Grand Hyatt New York"
          ],
          [
           "Best Western Bowery Hanbee Hotel"
          ],
          [
           "The Benjamin"
          ],
          [
           "United Nations Apartment Hotel"
          ],
          [
           "Residence Inn by Marriott New York Manhattan Midtown East"
          ],
          [
           "Hampton Inn New York - 35th Street - Empire State Building"
          ],
          [
           "Hampton Inn Madison Square Garden Area Hotel"
          ],
          [
           "Red Carpet Inn New York City"
          ],
          [
           "Manhattan NYC-an Affinia hotel"
          ],
          [
           "The Chatwal a Luxury Collection Hotel New York City"
          ],
          [
           "Hilton Garden Inn Times Square"
          ],
          [
           "The Premier Hotel New York"
          ],
          [
           "Shelburne NYC-an Affinia hotel"
          ],
          [
           "Hyatt Herald Square New York"
          ],
          [
           "DoubleTree by Hilton Hotel Newark Airport"
          ],
          [
           "The Mark"
          ],
          [
           "Sheraton LaGuardia East Hotel"
          ],
          [
           "Sheraton New York Times Square Hotel"
          ]
         ],
         "hovertemplate": "pca1=%{x}<br>pca2=%{y}<br>Hotel Name=%{customdata[0]}<br>cluster=%{marker.color}<extra></extra>",
         "legendgroup": "",
         "marker": {
          "color": {
           "bdata": "AAAAAAMAAAACAAAAAAAAAAMAAAACAAAAAwAAAAEAAAADAAAAAgAAAAMAAAAAAAAAAQAAAAAAAAAAAAAAAgAAAAAAAAABAAAAAgAAAAAAAAABAAAAAQAAAAIAAAAAAAAAAAAAAAAAAAADAAAAAAAAAAMAAAAAAAAAAAAAAAAAAAACAAAAAQAAAAAAAAABAAAAAAAAAAEAAAAAAAAAAQAAAAIAAAAAAAAAAwAAAAIAAAADAAAAAgAAAAMAAAABAAAAAAAAAAIAAAADAAAAAQAAAAAAAAAAAAAAAQAAAAAAAAACAAAAAgAAAAIAAAAAAAAAAAAAAAIAAAABAAAAAAAAAAIAAAADAAAAAAAAAAEAAAACAAAAAQAAAAEAAAADAAAAAgAAAAAAAAADAAAAAAAAAAAAAAADAAAAAgAAAAEAAAAAAAAAAwAAAAAAAAACAAAAAAAAAAAAAAACAAAAAAAAAAEAAAABAAAAAQAAAAMAAAABAAAAAQAAAAEAAAAAAAAAAwAAAAEAAAACAAAAAgAAAAAAAAAAAAAAAAAAAAMAAAAAAAAAAgAAAAIAAAADAAAAAAAAAAEAAAAAAAAAAAAAAAMAAAADAAAAAQAAAAEAAAABAAAAAwAAAAEAAAADAAAAAwAAAAAAAAAAAAAAAwAAAAMAAAADAAAAAAAAAAEAAAADAAAAAwAAAAIAAAADAAAAAQAAAAEAAAABAAAAAAAAAAIAAAACAAAAAAAAAAIAAAAAAAAAAwAAAAAAAAABAAAAAgAAAAEAAAAAAAAAAQAAAAIAAAA=",
           "dtype": "i4"
          },
          "coloraxis": "coloraxis",
          "symbol": "circle"
         },
         "mode": "markers",
         "name": "",
         "orientation": "v",
         "showlegend": false,
         "type": "scatter",
         "x": {
          "bdata": "xLaghwjPQsC9nlOrXX92wINm1jsL73DAZcuOlHdeKsDAMeuQZGJ4wO2AtnpzkXHAJhAwSD2Be8B4UiRROBtmwPJx66TMu3fAh50z5bCra8DYKTnmPCl+wMKUAV2F4lnAi/OB1T2hY8Cl9NJ6uPVHwCY3EJoc41HAQI8y9ysScMDpp0wAsldSwPiDWhZ3oGjAKPU7/dkQbsCQuB05imYPwB3WmvECLWnA1AmGO6ryY8Ace87gO6NxwIsul3gQChvAjFNkAGmCTMDpGevUZrNTwFDctp1ltXnAljG/akXKVcCpp4pOoCd3wFJ0f3rf9ErA26cioZfCIMCkE3yTGjVTwA0JxJBgInHA3YPKV8oKVsAdEaS/Z8ZTwEyTlD3AmFLA3z0y1edmQsAWSy4spxRawCg8hbikskrAt0pJtvjpY8C/JhVDTMFvwIEKSoycJ0DA+h2MdXXUfsCB56YDEXZzwJnoJr29GXrAYRfMVm6tcsBxNfzgKl5+wGytvD6J8lnAoJD2pNtwS8B3L1MfKqZywLfg/VOs1oHA7q546ImHYsDoTl8e5JFHwBnxBmtyLRNACdSsHHsuYcASnk0LdHYswMjOsD/QCHTAVnxe2/WGcsCbpom2zAN1wH6Mneo3KzXA6v6sgXkRR8B+gdzglhNuwHliL79cC2jA5XovWoRVT8BcuNpULhpvwA23zds46XvANDldF5sNVMDIGMMsjVVhwGnh2PozIHHA4m5SwpE+YsCodZ+wkqlewDjKm0AwLHfA5bPgYjxNdMCX634mgV1SwMije7d1A3rADIRO3QzgSsDFxL0em7EpwJQ6D0Q1i3jAQSFPikFuccDXyj/VZ5pfwLbUYBBXYFXA5/87ewhWfMCLnixEnUJPwNVWkMd6ymvAaJ2BdwHVXsBBqfVG3phCwL00Fa0i03LAuBxjxso0DcCvWlEHqhRewND2e7J5tmTAyfk+pGx+a8Cj8cVATWZ4wCZCBJbVOmXA7Rhbqpx+acCur9D9fOFqwEaYDMAOO0PAcgYc8pj4esC2FjEo73NpwIPBXzMEZ3LAyy3yziS7dMBr9BVNtsNRwFNPY/wG3EbATx9zDzexV8Cu+pWQTv93wEhrKFV6PkTALYnNRmDpa8Bmq9fufaZvwFt9wJG3/3rAs5JOFj2oT8BGdhTm2K5ewFYS9mTHbQzAixzMwyHiPMBiSgD4KQB5wBU/IsuTJXrAEUpy658LYcAEIse9o0tiwKEoPoxOJmTAeoyFhBsMd8DNV6u488pjwPXHIJDnMXbAM8hGqk9jecAMiT5OMO1WwMAAnrsGGiZADXASf2DjgcCnCUMh1lV8wLHEKQN0i3nAUX9YgsIIRcDcyeEj8bBgwLZocNEYAHrAA1mp1WY6fcBD+Pm9sgpwwF003UZQynjAWYHq6c2FZcCGcLKoCcllwPb4Y9yK5l/AKD+a9OZ/TsBAk2o/q190wKnVhasJ123Apv7sBIXAQcCbwlflc85ywAEqHCbFVU7AsNPhN8obg8DOEvUK6TxHwHc6GsjchGLATcv9v7aTdcB/FOyh9kNiwLAcDY+NbCVAeHhSdXjkY8CzZ9d/TsZrwA==",
          "dtype": "f8"
         },
         "xaxis": "x",
         "y": {
          "bdata": "a5/JeKwpKkBgrdATSfRCQL3PWim8CVtAHM7j3rf3HECeOb6JXehPwLo4eRgzHFzAJMAyKN2jSkBof6SgwgNKwKL/Ou8MrErA7dWnlZsKOkAisiQx/jZIwPLOgCaYrFDA00tptlT6PUCksoMnkhJNwDquRDfrESZA/4EmBclsZcCCxqK+xhw2QL+cTnV7l0/AmfS9dVFxTUD8zVwCIxwvwI5Ro69o+lDAonJ3eTAsTEAqYHuM4ctCwLD/iHfaWjNAp6ORNN70B0B6qIpGpS5bwMaVmteGQ2RAltxL0crIQ8DDqYgT5V1KQLtUaL/yNDVATFBppZHZAMD2U282r/JewHmF6CnfHWPA7IbpyBxzTsCFL6HbV/wwQAHdkvB490XAhXTen4O3Q8DeES0t6MA/wBvWkJKnH1jAJMhGnoMeNkAqCfzWVIRMQH/256HPez5ARNY1JtnMa8AxFRWUjVJFwAqoO3xzi0xA5JH1mRq8UsBB116iwmEzQA3U16X+NkRAStnD+blDNcDbGxwnwrEaQAClGucQEANAxQHTpLPSC8CKBjO3C6cSwKZMm3e+Wh/AgaPKjllHG8DdsqgrlvApwIZmTke5wlzA3zCNHzDcPEAJOgwprzJdwLNdOMb4wxJAYlz0M7nmScBMaI0yHcVlQCyuRXDU7kLAcSU9Am6+QcAecgvqMPJkwKAzzixdRDdAyglV9OzLJMAaunY8qQRCwC2lp4n2PF9AqVQOK6NnQEDq4hFXgm5AQOChEG5SHzBAmBMrJAmhYsBaRLzMt+YQQNLkq9z69lDAjf0TcVbnM8DL0Z1NgjNAwFylUP1vsypAv0k6Rk0qV0CfitHqdYtiwFe5F0rrOULAccEuRDF0VUDLT6/4FishwGyesgxu10PASGbVHwexT0Cfapo4RY5AQAS2+0RhMk1A3dzDZw4FKcC2KxS39Ig/QIePnj8AUVZAaITReOTlXcCkKo0NZQA3wJ6WkMzGe1NAUbZYI3TgN0C4Y8D6eBM8wLzK84ohxz7Auz8dc0G7YsCh+x4v5TJvwHXhhkbjcCfAcNlGLMETUUCpo+rCLkBKwNtIefzuGDVAO8H5Oz0EF8BTeDoAJKhDwMC3bBIn8DbAHsqKMSFtO8C3Jql+QlQ+wD6pHicVa2JAvI1IYtSNKUCykYjzsttMQCchZq1SCu2/9MUQIzA+JUDIbSgb4EVCwMAAqnJEHUlAsQcTBqXmEEDi7Dw9Yq4PQBLJGqEtmzHAIqbRh2XmacBr8r/7iNVFwK1Spme4cV7ALyOb73/aMUA5ISp2tY5TwK5CwdLBKfg/9cpsjJyTKsAuMND5ZFkhwMuQiCjIOUtAs9uQraQpFkBlGIp8GFRBwMSxnDXJl0/AA5mMYFktPcBgRH3tU25BQDGaZUSvcGLAN63WgCS9W0By+Gy9vGJVwGuE+OSsuV/AIBZVWi+ARkAE2Gv6XjNWQA80pQUdAUNAd8fQYs7VOMDasaz0XlhSwM68WnMfS1FAZeXMhFVKUUAcCfjDu11FwC1y+EDkVGPATk7KcqOIN0DZIaA9FJg7QLbY0VaiEvG/aXzFivc+MUCBwJdIyiRJQA==",
          "dtype": "f8"
         },
         "yaxis": "y"
        }
       ],
       "layout": {
        "coloraxis": {
         "colorbar": {
          "title": {
           "text": "cluster"
          }
         },
         "colorscale": [
          [
           0,
           "#0d0887"
          ],
          [
           0.1111111111111111,
           "#46039f"
          ],
          [
           0.2222222222222222,
           "#7201a8"
          ],
          [
           0.3333333333333333,
           "#9c179e"
          ],
          [
           0.4444444444444444,
           "#bd3786"
          ],
          [
           0.5555555555555556,
           "#d8576b"
          ],
          [
           0.6666666666666666,
           "#ed7953"
          ],
          [
           0.7777777777777778,
           "#fb9f3a"
          ],
          [
           0.8888888888888888,
           "#fdca26"
          ],
          [
           1,
           "#f0f921"
          ]
         ]
        },
        "legend": {
         "tracegroupgap": 0
        },
        "template": {
         "data": {
          "bar": [
           {
            "error_x": {
             "color": "#2a3f5f"
            },
            "error_y": {
             "color": "#2a3f5f"
            },
            "marker": {
             "line": {
              "color": "#E5ECF6",
              "width": 0.5
             },
             "pattern": {
              "fillmode": "overlay",
              "size": 10,
              "solidity": 0.2
             }
            },
            "type": "bar"
           }
          ],
          "barpolar": [
           {
            "marker": {
             "line": {
              "color": "#E5ECF6",
              "width": 0.5
             },
             "pattern": {
              "fillmode": "overlay",
              "size": 10,
              "solidity": 0.2
             }
            },
            "type": "barpolar"
           }
          ],
          "carpet": [
           {
            "aaxis": {
             "endlinecolor": "#2a3f5f",
             "gridcolor": "white",
             "linecolor": "white",
             "minorgridcolor": "white",
             "startlinecolor": "#2a3f5f"
            },
            "baxis": {
             "endlinecolor": "#2a3f5f",
             "gridcolor": "white",
             "linecolor": "white",
             "minorgridcolor": "white",
             "startlinecolor": "#2a3f5f"
            },
            "type": "carpet"
           }
          ],
          "choropleth": [
           {
            "colorbar": {
             "outlinewidth": 0,
             "ticks": ""
            },
            "type": "choropleth"
           }
          ],
          "contour": [
           {
            "colorbar": {
             "outlinewidth": 0,
             "ticks": ""
            },
            "colorscale": [
             [
              0,
              "#0d0887"
             ],
             [
              0.1111111111111111,
              "#46039f"
             ],
             [
              0.2222222222222222,
              "#7201a8"
             ],
             [
              0.3333333333333333,
              "#9c179e"
             ],
             [
              0.4444444444444444,
              "#bd3786"
             ],
             [
              0.5555555555555556,
              "#d8576b"
             ],
             [
              0.6666666666666666,
              "#ed7953"
             ],
             [
              0.7777777777777778,
              "#fb9f3a"
             ],
             [
              0.8888888888888888,
              "#fdca26"
             ],
             [
              1,
              "#f0f921"
             ]
            ],
            "type": "contour"
           }
          ],
          "contourcarpet": [
           {
            "colorbar": {
             "outlinewidth": 0,
             "ticks": ""
            },
            "type": "contourcarpet"
           }
          ],
          "heatmap": [
           {
            "colorbar": {
             "outlinewidth": 0,
             "ticks": ""
            },
            "colorscale": [
             [
              0,
              "#0d0887"
             ],
             [
              0.1111111111111111,
              "#46039f"
             ],
             [
              0.2222222222222222,
              "#7201a8"
             ],
             [
              0.3333333333333333,
              "#9c179e"
             ],
             [
              0.4444444444444444,
              "#bd3786"
             ],
             [
              0.5555555555555556,
              "#d8576b"
             ],
             [
              0.6666666666666666,
              "#ed7953"
             ],
             [
              0.7777777777777778,
              "#fb9f3a"
             ],
             [
              0.8888888888888888,
              "#fdca26"
             ],
             [
              1,
              "#f0f921"
             ]
            ],
            "type": "heatmap"
           }
          ],
          "histogram": [
           {
            "marker": {
             "pattern": {
              "fillmode": "overlay",
              "size": 10,
              "solidity": 0.2
             }
            },
            "type": "histogram"
           }
          ],
          "histogram2d": [
           {
            "colorbar": {
             "outlinewidth": 0,
             "ticks": ""
            },
            "colorscale": [
             [
              0,
              "#0d0887"
             ],
             [
              0.1111111111111111,
              "#46039f"
             ],
             [
              0.2222222222222222,
              "#7201a8"
             ],
             [
              0.3333333333333333,
              "#9c179e"
             ],
             [
              0.4444444444444444,
              "#bd3786"
             ],
             [
              0.5555555555555556,
              "#d8576b"
             ],
             [
              0.6666666666666666,
              "#ed7953"
             ],
             [
              0.7777777777777778,
              "#fb9f3a"
             ],
             [
              0.8888888888888888,
              "#fdca26"
             ],
             [
              1,
              "#f0f921"
             ]
            ],
            "type": "histogram2d"
           }
          ],
          "histogram2dcontour": [
           {
            "colorbar": {
             "outlinewidth": 0,
             "ticks": ""
            },
            "colorscale": [
             [
              0,
              "#0d0887"
             ],
             [
              0.1111111111111111,
              "#46039f"
             ],
             [
              0.2222222222222222,
              "#7201a8"
             ],
             [
              0.3333333333333333,
              "#9c179e"
             ],
             [
              0.4444444444444444,
              "#bd3786"
             ],
             [
              0.5555555555555556,
              "#d8576b"
             ],
             [
              0.6666666666666666,
              "#ed7953"
             ],
             [
              0.7777777777777778,
              "#fb9f3a"
             ],
             [
              0.8888888888888888,
              "#fdca26"
             ],
             [
              1,
              "#f0f921"
             ]
            ],
            "type": "histogram2dcontour"
           }
          ],
          "mesh3d": [
           {
            "colorbar": {
             "outlinewidth": 0,
             "ticks": ""
            },
            "type": "mesh3d"
           }
          ],
          "parcoords": [
           {
            "line": {
             "colorbar": {
              "outlinewidth": 0,
              "ticks": ""
             }
            },
            "type": "parcoords"
           }
          ],
          "pie": [
           {
            "automargin": true,
            "type": "pie"
           }
          ],
          "scatter": [
           {
            "fillpattern": {
             "fillmode": "overlay",
             "size": 10,
             "solidity": 0.2
            },
            "type": "scatter"
           }
          ],
          "scatter3d": [
           {
            "line": {
             "colorbar": {
              "outlinewidth": 0,
              "ticks": ""
             }
            },
            "marker": {
             "colorbar": {
              "outlinewidth": 0,
              "ticks": ""
             }
            },
            "type": "scatter3d"
           }
          ],
          "scattercarpet": [
           {
            "marker": {
             "colorbar": {
              "outlinewidth": 0,
              "ticks": ""
             }
            },
            "type": "scattercarpet"
           }
          ],
          "scattergeo": [
           {
            "marker": {
             "colorbar": {
              "outlinewidth": 0,
              "ticks": ""
             }
            },
            "type": "scattergeo"
           }
          ],
          "scattergl": [
           {
            "marker": {
             "colorbar": {
              "outlinewidth": 0,
              "ticks": ""
             }
            },
            "type": "scattergl"
           }
          ],
          "scattermap": [
           {
            "marker": {
             "colorbar": {
              "outlinewidth": 0,
              "ticks": ""
             }
            },
            "type": "scattermap"
           }
          ],
          "scattermapbox": [
           {
            "marker": {
             "colorbar": {
              "outlinewidth": 0,
              "ticks": ""
             }
            },
            "type": "scattermapbox"
           }
          ],
          "scatterpolar": [
           {
            "marker": {
             "colorbar": {
              "outlinewidth": 0,
              "ticks": ""
             }
            },
            "type": "scatterpolar"
           }
          ],
          "scatterpolargl": [
           {
            "marker": {
             "colorbar": {
              "outlinewidth": 0,
              "ticks": ""
             }
            },
            "type": "scatterpolargl"
           }
          ],
          "scatterternary": [
           {
            "marker": {
             "colorbar": {
              "outlinewidth": 0,
              "ticks": ""
             }
            },
            "type": "scatterternary"
           }
          ],
          "surface": [
           {
            "colorbar": {
             "outlinewidth": 0,
             "ticks": ""
            },
            "colorscale": [
             [
              0,
              "#0d0887"
             ],
             [
              0.1111111111111111,
              "#46039f"
             ],
             [
              0.2222222222222222,
              "#7201a8"
             ],
             [
              0.3333333333333333,
              "#9c179e"
             ],
             [
              0.4444444444444444,
              "#bd3786"
             ],
             [
              0.5555555555555556,
              "#d8576b"
             ],
             [
              0.6666666666666666,
              "#ed7953"
             ],
             [
              0.7777777777777778,
              "#fb9f3a"
             ],
             [
              0.8888888888888888,
              "#fdca26"
             ],
             [
              1,
              "#f0f921"
             ]
            ],
            "type": "surface"
           }
          ],
          "table": [
           {
            "cells": {
             "fill": {
              "color": "#EBF0F8"
             },
             "line": {
              "color": "white"
             }
            },
            "header": {
             "fill": {
              "color": "#C8D4E3"
             },
             "line": {
              "color": "white"
             }
            },
            "type": "table"
           }
          ]
         },
         "layout": {
          "annotationdefaults": {
           "arrowcolor": "#2a3f5f",
           "arrowhead": 0,
           "arrowwidth": 1
          },
          "autotypenumbers": "strict",
          "coloraxis": {
           "colorbar": {
            "outlinewidth": 0,
            "ticks": ""
           }
          },
          "colorscale": {
           "diverging": [
            [
             0,
             "#8e0152"
            ],
            [
             0.1,
             "#c51b7d"
            ],
            [
             0.2,
             "#de77ae"
            ],
            [
             0.3,
             "#f1b6da"
            ],
            [
             0.4,
             "#fde0ef"
            ],
            [
             0.5,
             "#f7f7f7"
            ],
            [
             0.6,
             "#e6f5d0"
            ],
            [
             0.7,
             "#b8e186"
            ],
            [
             0.8,
             "#7fbc41"
            ],
            [
             0.9,
             "#4d9221"
            ],
            [
             1,
             "#276419"
            ]
           ],
           "sequential": [
            [
             0,
             "#0d0887"
            ],
            [
             0.1111111111111111,
             "#46039f"
            ],
            [
             0.2222222222222222,
             "#7201a8"
            ],
            [
             0.3333333333333333,
             "#9c179e"
            ],
            [
             0.4444444444444444,
             "#bd3786"
            ],
            [
             0.5555555555555556,
             "#d8576b"
            ],
            [
             0.6666666666666666,
             "#ed7953"
            ],
            [
             0.7777777777777778,
             "#fb9f3a"
            ],
            [
             0.8888888888888888,
             "#fdca26"
            ],
            [
             1,
             "#f0f921"
            ]
           ],
           "sequentialminus": [
            [
             0,
             "#0d0887"
            ],
            [
             0.1111111111111111,
             "#46039f"
            ],
            [
             0.2222222222222222,
             "#7201a8"
            ],
            [
             0.3333333333333333,
             "#9c179e"
            ],
            [
             0.4444444444444444,
             "#bd3786"
            ],
            [
             0.5555555555555556,
             "#d8576b"
            ],
            [
             0.6666666666666666,
             "#ed7953"
            ],
            [
             0.7777777777777778,
             "#fb9f3a"
            ],
            [
             0.8888888888888888,
             "#fdca26"
            ],
            [
             1,
             "#f0f921"
            ]
           ]
          },
          "colorway": [
           "#636efa",
           "#EF553B",
           "#00cc96",
           "#ab63fa",
           "#FFA15A",
           "#19d3f3",
           "#FF6692",
           "#B6E880",
           "#FF97FF",
           "#FECB52"
          ],
          "font": {
           "color": "#2a3f5f"
          },
          "geo": {
           "bgcolor": "white",
           "lakecolor": "white",
           "landcolor": "#E5ECF6",
           "showlakes": true,
           "showland": true,
           "subunitcolor": "white"
          },
          "hoverlabel": {
           "align": "left"
          },
          "hovermode": "closest",
          "mapbox": {
           "style": "light"
          },
          "paper_bgcolor": "white",
          "plot_bgcolor": "#E5ECF6",
          "polar": {
           "angularaxis": {
            "gridcolor": "white",
            "linecolor": "white",
            "ticks": ""
           },
           "bgcolor": "#E5ECF6",
           "radialaxis": {
            "gridcolor": "white",
            "linecolor": "white",
            "ticks": ""
           }
          },
          "scene": {
           "xaxis": {
            "backgroundcolor": "#E5ECF6",
            "gridcolor": "white",
            "gridwidth": 2,
            "linecolor": "white",
            "showbackground": true,
            "ticks": "",
            "zerolinecolor": "white"
           },
           "yaxis": {
            "backgroundcolor": "#E5ECF6",
            "gridcolor": "white",
            "gridwidth": 2,
            "linecolor": "white",
            "showbackground": true,
            "ticks": "",
            "zerolinecolor": "white"
           },
           "zaxis": {
            "backgroundcolor": "#E5ECF6",
            "gridcolor": "white",
            "gridwidth": 2,
            "linecolor": "white",
            "showbackground": true,
            "ticks": "",
            "zerolinecolor": "white"
           }
          },
          "shapedefaults": {
           "line": {
            "color": "#2a3f5f"
           }
          },
          "ternary": {
           "aaxis": {
            "gridcolor": "white",
            "linecolor": "white",
            "ticks": ""
           },
           "baxis": {
            "gridcolor": "white",
            "linecolor": "white",
            "ticks": ""
           },
           "bgcolor": "#E5ECF6",
           "caxis": {
            "gridcolor": "white",
            "linecolor": "white",
            "ticks": ""
           }
          },
          "title": {
           "x": 0.05
          },
          "xaxis": {
           "automargin": true,
           "gridcolor": "white",
           "linecolor": "white",
           "ticks": "",
           "title": {
            "standoff": 15
           },
           "zerolinecolor": "white",
           "zerolinewidth": 2
          },
          "yaxis": {
           "automargin": true,
           "gridcolor": "white",
           "linecolor": "white",
           "ticks": "",
           "title": {
            "standoff": 15
           },
           "zerolinecolor": "white",
           "zerolinewidth": 2
          }
         }
        },
        "title": {
         "text": "Hotel Clusters Visualization (PCA Reduced)"
        },
        "xaxis": {
         "anchor": "y",
         "domain": [
          0,
          1
         ],
         "title": {
          "text": "pca1"
         }
        },
        "yaxis": {
         "anchor": "x",
         "domain": [
          0,
          1
         ],
         "title": {
          "text": "pca2"
         }
        }
       }
      }
     },
     "metadata": {},
     "output_type": "display_data"
    }
   ],
   "source": [
    "import plotly.express as px\n",
    "\n",
    "fig = px.scatter(\n",
    "    pandas_df,\n",
    "    x=\"pca1\",\n",
    "    y=\"pca2\",\n",
    "    color=\"cluster\",\n",
    "    hover_data=[\"Hotel Name\"],\n",
    "    title=\"Hotel Clusters Visualization (PCA Reduced)\"\n",
    ")\n",
    "fig.show()\n"
   ]
  },
  {
   "cell_type": "markdown",
   "metadata": {},
   "source": [
    "#### Stop the spark session"
   ]
  },
  {
   "cell_type": "code",
   "execution_count": 11,
   "metadata": {},
   "outputs": [],
   "source": [
    "spark.stop()"
   ]
  }
 ],
 "metadata": {
  "kernelspec": {
   "display_name": "DS-101-Final",
   "language": "python",
   "name": "python3"
  },
  "language_info": {
   "codemirror_mode": {
    "name": "ipython",
    "version": 3
   },
   "file_extension": ".py",
   "mimetype": "text/x-python",
   "name": "python",
   "nbconvert_exporter": "python",
   "pygments_lexer": "ipython3",
   "version": "3.12.8"
  }
 },
 "nbformat": 4,
 "nbformat_minor": 2
}
