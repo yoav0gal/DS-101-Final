{
 "cells": [
  {
   "cell_type": "code",
   "execution_count": 27,
   "metadata": {},
   "outputs": [
    {
     "name": "stdout",
     "output_type": "stream",
     "text": [
      "Requirement already satisfied: plotly in c:\\users\\ilai\\anaconda3\\lib\\site-packages (6.0.0)\n",
      "Requirement already satisfied: packaging in c:\\users\\ilai\\anaconda3\\lib\\site-packages (from plotly) (21.0)\n",
      "Requirement already satisfied: narwhals>=1.15.1 in c:\\users\\ilai\\anaconda3\\lib\\site-packages (from plotly) (1.25.0)\n",
      "Requirement already satisfied: pyparsing>=2.0.2 in c:\\users\\ilai\\anaconda3\\lib\\site-packages (from packaging->plotly) (3.0.4)\n"
     ]
    }
   ],
   "source": [
    "!pip install plotly"
   ]
  },
  {
   "cell_type": "code",
   "execution_count": 3,
   "metadata": {},
   "outputs": [],
   "source": [
    "import pandas as pd\n",
    "\n",
    "bookings = pd.read_csv('./bookings.csv')"
   ]
  },
  {
   "cell_type": "markdown",
   "metadata": {},
   "source": [
    "### Fix typings"
   ]
  },
  {
   "cell_type": "code",
   "execution_count": 4,
   "metadata": {},
   "outputs": [],
   "source": [
    "bookings['number_of_reviews'] = bookings['number_of_reviews'].str.replace(',', '', regex=True)\n",
    "bookings['number_of_reviews'] = pd.to_numeric(bookings['number_of_reviews'], errors='coerce')\n",
    "bookings['review_score'] = pd.to_numeric(bookings['review_score'], errors='coerce')\n",
    "bookings['original_price'] = pd.to_numeric(bookings['original_price'], errors='coerce')\n",
    "bookings['discounted_price'] = pd.to_numeric(bookings['discounted_price'], errors='coerce')"
   ]
  },
  {
   "cell_type": "markdown",
   "metadata": {},
   "source": [
    "### Reviews Distribution\n",
    "Group the review counts by snapshot dates, and the names of the hotels. the `number_of_reviews` will be a the same for the same hotel in a certain snapshot.   "
   ]
  },
  {
   "cell_type": "code",
   "execution_count": 5,
   "metadata": {},
   "outputs": [
    {
     "data": {
      "text/html": [
       "<div>\n",
       "<style scoped>\n",
       "    .dataframe tbody tr th:only-of-type {\n",
       "        vertical-align: middle;\n",
       "    }\n",
       "\n",
       "    .dataframe tbody tr th {\n",
       "        vertical-align: top;\n",
       "    }\n",
       "\n",
       "    .dataframe thead th {\n",
       "        text-align: right;\n",
       "    }\n",
       "</style>\n",
       "<table border=\"1\" class=\"dataframe\">\n",
       "  <thead>\n",
       "    <tr style=\"text-align: right;\">\n",
       "      <th></th>\n",
       "      <th>name</th>\n",
       "      <th>snapshot_date</th>\n",
       "      <th>number_of_reviews</th>\n",
       "    </tr>\n",
       "  </thead>\n",
       "  <tbody>\n",
       "    <tr>\n",
       "      <th>0</th>\n",
       "      <td>1 Hotel Central Park</td>\n",
       "      <td>2025-02-02</td>\n",
       "      <td>556.0</td>\n",
       "    </tr>\n",
       "    <tr>\n",
       "      <th>1</th>\n",
       "      <td>1 Hotel Central Park</td>\n",
       "      <td>2025-02-03</td>\n",
       "      <td>556.0</td>\n",
       "    </tr>\n",
       "    <tr>\n",
       "      <th>2</th>\n",
       "      <td>17John</td>\n",
       "      <td>2025-02-02</td>\n",
       "      <td>209.0</td>\n",
       "    </tr>\n",
       "    <tr>\n",
       "      <th>3</th>\n",
       "      <td>17John</td>\n",
       "      <td>2025-02-03</td>\n",
       "      <td>209.0</td>\n",
       "    </tr>\n",
       "    <tr>\n",
       "      <th>4</th>\n",
       "      <td>2 Bedroom Cozy Central Apartment</td>\n",
       "      <td>2025-02-02</td>\n",
       "      <td>8.0</td>\n",
       "    </tr>\n",
       "    <tr>\n",
       "      <th>...</th>\n",
       "      <td>...</td>\n",
       "      <td>...</td>\n",
       "      <td>...</td>\n",
       "    </tr>\n",
       "    <tr>\n",
       "      <th>711</th>\n",
       "      <td>citizenM New York Times Square</td>\n",
       "      <td>2025-02-03</td>\n",
       "      <td>3999.0</td>\n",
       "    </tr>\n",
       "    <tr>\n",
       "      <th>712</th>\n",
       "      <td>voco The Franklin New York, an IHG Hotel</td>\n",
       "      <td>2025-02-02</td>\n",
       "      <td>508.0</td>\n",
       "    </tr>\n",
       "    <tr>\n",
       "      <th>713</th>\n",
       "      <td>voco The Franklin New York, an IHG Hotel</td>\n",
       "      <td>2025-02-03</td>\n",
       "      <td>508.0</td>\n",
       "    </tr>\n",
       "    <tr>\n",
       "      <th>714</th>\n",
       "      <td>voco Times Square South New York, an IHG Hotel</td>\n",
       "      <td>2025-02-02</td>\n",
       "      <td>3803.0</td>\n",
       "    </tr>\n",
       "    <tr>\n",
       "      <th>715</th>\n",
       "      <td>voco Times Square South New York, an IHG Hotel</td>\n",
       "      <td>2025-02-03</td>\n",
       "      <td>3806.0</td>\n",
       "    </tr>\n",
       "  </tbody>\n",
       "</table>\n",
       "<p>716 rows × 3 columns</p>\n",
       "</div>"
      ],
      "text/plain": [
       "                                               name snapshot_date  \\\n",
       "0                              1 Hotel Central Park    2025-02-02   \n",
       "1                              1 Hotel Central Park    2025-02-03   \n",
       "2                                            17John    2025-02-02   \n",
       "3                                            17John    2025-02-03   \n",
       "4                  2 Bedroom Cozy Central Apartment    2025-02-02   \n",
       "..                                              ...           ...   \n",
       "711                  citizenM New York Times Square    2025-02-03   \n",
       "712        voco The Franklin New York, an IHG Hotel    2025-02-02   \n",
       "713        voco The Franklin New York, an IHG Hotel    2025-02-03   \n",
       "714  voco Times Square South New York, an IHG Hotel    2025-02-02   \n",
       "715  voco Times Square South New York, an IHG Hotel    2025-02-03   \n",
       "\n",
       "     number_of_reviews  \n",
       "0                556.0  \n",
       "1                556.0  \n",
       "2                209.0  \n",
       "3                209.0  \n",
       "4                  8.0  \n",
       "..                 ...  \n",
       "711             3999.0  \n",
       "712              508.0  \n",
       "713              508.0  \n",
       "714             3803.0  \n",
       "715             3806.0  \n",
       "\n",
       "[716 rows x 3 columns]"
      ]
     },
     "execution_count": 5,
     "metadata": {},
     "output_type": "execute_result"
    }
   ],
   "source": [
    "number_of_reviews = bookings.groupby(['name', 'snapshot_date'], as_index=False)['number_of_reviews'].first()\n",
    "number_of_reviews"
   ]
  },
  {
   "cell_type": "code",
   "execution_count": 6,
   "metadata": {},
   "outputs": [],
   "source": [
    "snapshot_dates = bookings['snapshot_date'].unique()"
   ]
  },
  {
   "cell_type": "code",
   "execution_count": 7,
   "metadata": {},
   "outputs": [
    {
     "data": {
      "application/vnd.plotly.v1+json": {
       "config": {
        "plotlyServerURL": "https://plot.ly"
       },
       "data": [
        {
         "autobinx": true,
         "name": "2025-02-02",
         "opacity": 0.5,
         "type": "histogram",
         "x": {
          "bdata": "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",
          "dtype": "f8"
         }
        },
        {
         "autobinx": true,
         "name": "2025-02-03",
         "opacity": 0.5,
         "type": "histogram",
         "x": {
          "bdata": "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",
          "dtype": "f8"
         }
        }
       ],
       "layout": {
        "barmode": "overlay",
        "height": 800,
        "legend": {
         "title": {
          "text": "Snapshot Date"
         }
        },
        "template": {
         "data": {
          "bar": [
           {
            "error_x": {
             "color": "#2a3f5f"
            },
            "error_y": {
             "color": "#2a3f5f"
            },
            "marker": {
             "line": {
              "color": "#E5ECF6",
              "width": 0.5
             },
             "pattern": {
              "fillmode": "overlay",
              "size": 10,
              "solidity": 0.2
             }
            },
            "type": "bar"
           }
          ],
          "barpolar": [
           {
            "marker": {
             "line": {
              "color": "#E5ECF6",
              "width": 0.5
             },
             "pattern": {
              "fillmode": "overlay",
              "size": 10,
              "solidity": 0.2
             }
            },
            "type": "barpolar"
           }
          ],
          "carpet": [
           {
            "aaxis": {
             "endlinecolor": "#2a3f5f",
             "gridcolor": "white",
             "linecolor": "white",
             "minorgridcolor": "white",
             "startlinecolor": "#2a3f5f"
            },
            "baxis": {
             "endlinecolor": "#2a3f5f",
             "gridcolor": "white",
             "linecolor": "white",
             "minorgridcolor": "white",
             "startlinecolor": "#2a3f5f"
            },
            "type": "carpet"
           }
          ],
          "choropleth": [
           {
            "colorbar": {
             "outlinewidth": 0,
             "ticks": ""
            },
            "type": "choropleth"
           }
          ],
          "contour": [
           {
            "colorbar": {
             "outlinewidth": 0,
             "ticks": ""
            },
            "colorscale": [
             [
              0,
              "#0d0887"
             ],
             [
              0.1111111111111111,
              "#46039f"
             ],
             [
              0.2222222222222222,
              "#7201a8"
             ],
             [
              0.3333333333333333,
              "#9c179e"
             ],
             [
              0.4444444444444444,
              "#bd3786"
             ],
             [
              0.5555555555555556,
              "#d8576b"
             ],
             [
              0.6666666666666666,
              "#ed7953"
             ],
             [
              0.7777777777777778,
              "#fb9f3a"
             ],
             [
              0.8888888888888888,
              "#fdca26"
             ],
             [
              1,
              "#f0f921"
             ]
            ],
            "type": "contour"
           }
          ],
          "contourcarpet": [
           {
            "colorbar": {
             "outlinewidth": 0,
             "ticks": ""
            },
            "type": "contourcarpet"
           }
          ],
          "heatmap": [
           {
            "colorbar": {
             "outlinewidth": 0,
             "ticks": ""
            },
            "colorscale": [
             [
              0,
              "#0d0887"
             ],
             [
              0.1111111111111111,
              "#46039f"
             ],
             [
              0.2222222222222222,
              "#7201a8"
             ],
             [
              0.3333333333333333,
              "#9c179e"
             ],
             [
              0.4444444444444444,
              "#bd3786"
             ],
             [
              0.5555555555555556,
              "#d8576b"
             ],
             [
              0.6666666666666666,
              "#ed7953"
             ],
             [
              0.7777777777777778,
              "#fb9f3a"
             ],
             [
              0.8888888888888888,
              "#fdca26"
             ],
             [
              1,
              "#f0f921"
             ]
            ],
            "type": "heatmap"
           }
          ],
          "histogram": [
           {
            "marker": {
             "pattern": {
              "fillmode": "overlay",
              "size": 10,
              "solidity": 0.2
             }
            },
            "type": "histogram"
           }
          ],
          "histogram2d": [
           {
            "colorbar": {
             "outlinewidth": 0,
             "ticks": ""
            },
            "colorscale": [
             [
              0,
              "#0d0887"
             ],
             [
              0.1111111111111111,
              "#46039f"
             ],
             [
              0.2222222222222222,
              "#7201a8"
             ],
             [
              0.3333333333333333,
              "#9c179e"
             ],
             [
              0.4444444444444444,
              "#bd3786"
             ],
             [
              0.5555555555555556,
              "#d8576b"
             ],
             [
              0.6666666666666666,
              "#ed7953"
             ],
             [
              0.7777777777777778,
              "#fb9f3a"
             ],
             [
              0.8888888888888888,
              "#fdca26"
             ],
             [
              1,
              "#f0f921"
             ]
            ],
            "type": "histogram2d"
           }
          ],
          "histogram2dcontour": [
           {
            "colorbar": {
             "outlinewidth": 0,
             "ticks": ""
            },
            "colorscale": [
             [
              0,
              "#0d0887"
             ],
             [
              0.1111111111111111,
              "#46039f"
             ],
             [
              0.2222222222222222,
              "#7201a8"
             ],
             [
              0.3333333333333333,
              "#9c179e"
             ],
             [
              0.4444444444444444,
              "#bd3786"
             ],
             [
              0.5555555555555556,
              "#d8576b"
             ],
             [
              0.6666666666666666,
              "#ed7953"
             ],
             [
              0.7777777777777778,
              "#fb9f3a"
             ],
             [
              0.8888888888888888,
              "#fdca26"
             ],
             [
              1,
              "#f0f921"
             ]
            ],
            "type": "histogram2dcontour"
           }
          ],
          "mesh3d": [
           {
            "colorbar": {
             "outlinewidth": 0,
             "ticks": ""
            },
            "type": "mesh3d"
           }
          ],
          "parcoords": [
           {
            "line": {
             "colorbar": {
              "outlinewidth": 0,
              "ticks": ""
             }
            },
            "type": "parcoords"
           }
          ],
          "pie": [
           {
            "automargin": true,
            "type": "pie"
           }
          ],
          "scatter": [
           {
            "fillpattern": {
             "fillmode": "overlay",
             "size": 10,
             "solidity": 0.2
            },
            "type": "scatter"
           }
          ],
          "scatter3d": [
           {
            "line": {
             "colorbar": {
              "outlinewidth": 0,
              "ticks": ""
             }
            },
            "marker": {
             "colorbar": {
              "outlinewidth": 0,
              "ticks": ""
             }
            },
            "type": "scatter3d"
           }
          ],
          "scattercarpet": [
           {
            "marker": {
             "colorbar": {
              "outlinewidth": 0,
              "ticks": ""
             }
            },
            "type": "scattercarpet"
           }
          ],
          "scattergeo": [
           {
            "marker": {
             "colorbar": {
              "outlinewidth": 0,
              "ticks": ""
             }
            },
            "type": "scattergeo"
           }
          ],
          "scattergl": [
           {
            "marker": {
             "colorbar": {
              "outlinewidth": 0,
              "ticks": ""
             }
            },
            "type": "scattergl"
           }
          ],
          "scattermap": [
           {
            "marker": {
             "colorbar": {
              "outlinewidth": 0,
              "ticks": ""
             }
            },
            "type": "scattermap"
           }
          ],
          "scattermapbox": [
           {
            "marker": {
             "colorbar": {
              "outlinewidth": 0,
              "ticks": ""
             }
            },
            "type": "scattermapbox"
           }
          ],
          "scatterpolar": [
           {
            "marker": {
             "colorbar": {
              "outlinewidth": 0,
              "ticks": ""
             }
            },
            "type": "scatterpolar"
           }
          ],
          "scatterpolargl": [
           {
            "marker": {
             "colorbar": {
              "outlinewidth": 0,
              "ticks": ""
             }
            },
            "type": "scatterpolargl"
           }
          ],
          "scatterternary": [
           {
            "marker": {
             "colorbar": {
              "outlinewidth": 0,
              "ticks": ""
             }
            },
            "type": "scatterternary"
           }
          ],
          "surface": [
           {
            "colorbar": {
             "outlinewidth": 0,
             "ticks": ""
            },
            "colorscale": [
             [
              0,
              "#0d0887"
             ],
             [
              0.1111111111111111,
              "#46039f"
             ],
             [
              0.2222222222222222,
              "#7201a8"
             ],
             [
              0.3333333333333333,
              "#9c179e"
             ],
             [
              0.4444444444444444,
              "#bd3786"
             ],
             [
              0.5555555555555556,
              "#d8576b"
             ],
             [
              0.6666666666666666,
              "#ed7953"
             ],
             [
              0.7777777777777778,
              "#fb9f3a"
             ],
             [
              0.8888888888888888,
              "#fdca26"
             ],
             [
              1,
              "#f0f921"
             ]
            ],
            "type": "surface"
           }
          ],
          "table": [
           {
            "cells": {
             "fill": {
              "color": "#EBF0F8"
             },
             "line": {
              "color": "white"
             }
            },
            "header": {
             "fill": {
              "color": "#C8D4E3"
             },
             "line": {
              "color": "white"
             }
            },
            "type": "table"
           }
          ]
         },
         "layout": {
          "annotationdefaults": {
           "arrowcolor": "#2a3f5f",
           "arrowhead": 0,
           "arrowwidth": 1
          },
          "autotypenumbers": "strict",
          "coloraxis": {
           "colorbar": {
            "outlinewidth": 0,
            "ticks": ""
           }
          },
          "colorscale": {
           "diverging": [
            [
             0,
             "#8e0152"
            ],
            [
             0.1,
             "#c51b7d"
            ],
            [
             0.2,
             "#de77ae"
            ],
            [
             0.3,
             "#f1b6da"
            ],
            [
             0.4,
             "#fde0ef"
            ],
            [
             0.5,
             "#f7f7f7"
            ],
            [
             0.6,
             "#e6f5d0"
            ],
            [
             0.7,
             "#b8e186"
            ],
            [
             0.8,
             "#7fbc41"
            ],
            [
             0.9,
             "#4d9221"
            ],
            [
             1,
             "#276419"
            ]
           ],
           "sequential": [
            [
             0,
             "#0d0887"
            ],
            [
             0.1111111111111111,
             "#46039f"
            ],
            [
             0.2222222222222222,
             "#7201a8"
            ],
            [
             0.3333333333333333,
             "#9c179e"
            ],
            [
             0.4444444444444444,
             "#bd3786"
            ],
            [
             0.5555555555555556,
             "#d8576b"
            ],
            [
             0.6666666666666666,
             "#ed7953"
            ],
            [
             0.7777777777777778,
             "#fb9f3a"
            ],
            [
             0.8888888888888888,
             "#fdca26"
            ],
            [
             1,
             "#f0f921"
            ]
           ],
           "sequentialminus": [
            [
             0,
             "#0d0887"
            ],
            [
             0.1111111111111111,
             "#46039f"
            ],
            [
             0.2222222222222222,
             "#7201a8"
            ],
            [
             0.3333333333333333,
             "#9c179e"
            ],
            [
             0.4444444444444444,
             "#bd3786"
            ],
            [
             0.5555555555555556,
             "#d8576b"
            ],
            [
             0.6666666666666666,
             "#ed7953"
            ],
            [
             0.7777777777777778,
             "#fb9f3a"
            ],
            [
             0.8888888888888888,
             "#fdca26"
            ],
            [
             1,
             "#f0f921"
            ]
           ]
          },
          "colorway": [
           "#636efa",
           "#EF553B",
           "#00cc96",
           "#ab63fa",
           "#FFA15A",
           "#19d3f3",
           "#FF6692",
           "#B6E880",
           "#FF97FF",
           "#FECB52"
          ],
          "font": {
           "color": "#2a3f5f"
          },
          "geo": {
           "bgcolor": "white",
           "lakecolor": "white",
           "landcolor": "#E5ECF6",
           "showlakes": true,
           "showland": true,
           "subunitcolor": "white"
          },
          "hoverlabel": {
           "align": "left"
          },
          "hovermode": "closest",
          "mapbox": {
           "style": "light"
          },
          "paper_bgcolor": "white",
          "plot_bgcolor": "#E5ECF6",
          "polar": {
           "angularaxis": {
            "gridcolor": "white",
            "linecolor": "white",
            "ticks": ""
           },
           "bgcolor": "#E5ECF6",
           "radialaxis": {
            "gridcolor": "white",
            "linecolor": "white",
            "ticks": ""
           }
          },
          "scene": {
           "xaxis": {
            "backgroundcolor": "#E5ECF6",
            "gridcolor": "white",
            "gridwidth": 2,
            "linecolor": "white",
            "showbackground": true,
            "ticks": "",
            "zerolinecolor": "white"
           },
           "yaxis": {
            "backgroundcolor": "#E5ECF6",
            "gridcolor": "white",
            "gridwidth": 2,
            "linecolor": "white",
            "showbackground": true,
            "ticks": "",
            "zerolinecolor": "white"
           },
           "zaxis": {
            "backgroundcolor": "#E5ECF6",
            "gridcolor": "white",
            "gridwidth": 2,
            "linecolor": "white",
            "showbackground": true,
            "ticks": "",
            "zerolinecolor": "white"
           }
          },
          "shapedefaults": {
           "line": {
            "color": "#2a3f5f"
           }
          },
          "ternary": {
           "aaxis": {
            "gridcolor": "white",
            "linecolor": "white",
            "ticks": ""
           },
           "baxis": {
            "gridcolor": "white",
            "linecolor": "white",
            "ticks": ""
           },
           "bgcolor": "#E5ECF6",
           "caxis": {
            "gridcolor": "white",
            "linecolor": "white",
            "ticks": ""
           }
          },
          "title": {
           "x": 0.05
          },
          "xaxis": {
           "automargin": true,
           "gridcolor": "white",
           "linecolor": "white",
           "ticks": "",
           "title": {
            "standoff": 15
           },
           "zerolinecolor": "white",
           "zerolinewidth": 2
          },
          "yaxis": {
           "automargin": true,
           "gridcolor": "white",
           "linecolor": "white",
           "ticks": "",
           "title": {
            "standoff": 15
           },
           "zerolinecolor": "white",
           "zerolinewidth": 2
          }
         }
        },
        "title": {
         "text": "Distribution of Number of Reviews for Each Snapshot Date"
        },
        "width": 1400,
        "xaxis": {
         "title": {
          "text": "Number of Reviews"
         }
        },
        "yaxis": {
         "title": {
          "text": "Frequency"
         }
        }
       }
      }
     },
     "metadata": {},
     "output_type": "display_data"
    }
   ],
   "source": [
    "import plotly.graph_objects as go\n",
    "\n",
    "fig = go.Figure()\n",
    "\n",
    "for date in snapshot_dates:\n",
    "    data = number_of_reviews[number_of_reviews['snapshot_date'] == date]['number_of_reviews'].dropna()\n",
    "    fig.add_trace(go.Histogram(x=data, name=str(date), opacity=0.5, autobinx=True))\n",
    "\n",
    "# Update layout for better visualization\n",
    "fig.update_layout(\n",
    "    title= \"Distribution of Number of Reviews for Each Snapshot Date\",\n",
    "    xaxis_title=\"Number of Reviews\",\n",
    "    yaxis_title=\"Frequency\",\n",
    "    barmode=\"overlay\",  # Makes histograms overlap\n",
    "    legend_title=\"Snapshot Date\",\n",
    "    width=1400,  # Increase figure width\n",
    "    height=800   # Increase figure height\n",
    ")\n",
    "\n",
    "# Show interactive plot\n",
    "fig.show()"
   ]
  },
  {
   "cell_type": "markdown",
   "metadata": {},
   "source": [
    "The histogram above shows a right-skewed distribution of the number of reviews, where lower review counts appear with higher frequency. This suggests a heavy-tailed distribution, meaning that while most hotels have relatively few reviews, a small number of hotels have significantly higher review counts."
   ]
  },
  {
   "cell_type": "code",
   "execution_count": 9,
   "metadata": {},
   "outputs": [
    {
     "data": {
      "application/vnd.plotly.v1+json": {
       "config": {
        "plotlyServerURL": "https://plot.ly"
       },
       "data": [
        {
         "bingroup": "100",
         "name": "2025-02-02",
         "opacity": 0.5,
         "type": "histogram",
         "x": {
          "bdata": "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",
          "dtype": "f8"
         }
        },
        {
         "bingroup": "100",
         "name": "2025-02-03",
         "opacity": 0.5,
         "type": "histogram",
         "x": {
          "bdata": "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",
          "dtype": "f8"
         }
        }
       ],
       "layout": {
        "barmode": "overlay",
        "height": 600,
        "legend": {
         "title": {
          "text": "Snapshot Date"
         }
        },
        "template": {
         "data": {
          "bar": [
           {
            "error_x": {
             "color": "#2a3f5f"
            },
            "error_y": {
             "color": "#2a3f5f"
            },
            "marker": {
             "line": {
              "color": "#E5ECF6",
              "width": 0.5
             },
             "pattern": {
              "fillmode": "overlay",
              "size": 10,
              "solidity": 0.2
             }
            },
            "type": "bar"
           }
          ],
          "barpolar": [
           {
            "marker": {
             "line": {
              "color": "#E5ECF6",
              "width": 0.5
             },
             "pattern": {
              "fillmode": "overlay",
              "size": 10,
              "solidity": 0.2
             }
            },
            "type": "barpolar"
           }
          ],
          "carpet": [
           {
            "aaxis": {
             "endlinecolor": "#2a3f5f",
             "gridcolor": "white",
             "linecolor": "white",
             "minorgridcolor": "white",
             "startlinecolor": "#2a3f5f"
            },
            "baxis": {
             "endlinecolor": "#2a3f5f",
             "gridcolor": "white",
             "linecolor": "white",
             "minorgridcolor": "white",
             "startlinecolor": "#2a3f5f"
            },
            "type": "carpet"
           }
          ],
          "choropleth": [
           {
            "colorbar": {
             "outlinewidth": 0,
             "ticks": ""
            },
            "type": "choropleth"
           }
          ],
          "contour": [
           {
            "colorbar": {
             "outlinewidth": 0,
             "ticks": ""
            },
            "colorscale": [
             [
              0,
              "#0d0887"
             ],
             [
              0.1111111111111111,
              "#46039f"
             ],
             [
              0.2222222222222222,
              "#7201a8"
             ],
             [
              0.3333333333333333,
              "#9c179e"
             ],
             [
              0.4444444444444444,
              "#bd3786"
             ],
             [
              0.5555555555555556,
              "#d8576b"
             ],
             [
              0.6666666666666666,
              "#ed7953"
             ],
             [
              0.7777777777777778,
              "#fb9f3a"
             ],
             [
              0.8888888888888888,
              "#fdca26"
             ],
             [
              1,
              "#f0f921"
             ]
            ],
            "type": "contour"
           }
          ],
          "contourcarpet": [
           {
            "colorbar": {
             "outlinewidth": 0,
             "ticks": ""
            },
            "type": "contourcarpet"
           }
          ],
          "heatmap": [
           {
            "colorbar": {
             "outlinewidth": 0,
             "ticks": ""
            },
            "colorscale": [
             [
              0,
              "#0d0887"
             ],
             [
              0.1111111111111111,
              "#46039f"
             ],
             [
              0.2222222222222222,
              "#7201a8"
             ],
             [
              0.3333333333333333,
              "#9c179e"
             ],
             [
              0.4444444444444444,
              "#bd3786"
             ],
             [
              0.5555555555555556,
              "#d8576b"
             ],
             [
              0.6666666666666666,
              "#ed7953"
             ],
             [
              0.7777777777777778,
              "#fb9f3a"
             ],
             [
              0.8888888888888888,
              "#fdca26"
             ],
             [
              1,
              "#f0f921"
             ]
            ],
            "type": "heatmap"
           }
          ],
          "histogram": [
           {
            "marker": {
             "pattern": {
              "fillmode": "overlay",
              "size": 10,
              "solidity": 0.2
             }
            },
            "type": "histogram"
           }
          ],
          "histogram2d": [
           {
            "colorbar": {
             "outlinewidth": 0,
             "ticks": ""
            },
            "colorscale": [
             [
              0,
              "#0d0887"
             ],
             [
              0.1111111111111111,
              "#46039f"
             ],
             [
              0.2222222222222222,
              "#7201a8"
             ],
             [
              0.3333333333333333,
              "#9c179e"
             ],
             [
              0.4444444444444444,
              "#bd3786"
             ],
             [
              0.5555555555555556,
              "#d8576b"
             ],
             [
              0.6666666666666666,
              "#ed7953"
             ],
             [
              0.7777777777777778,
              "#fb9f3a"
             ],
             [
              0.8888888888888888,
              "#fdca26"
             ],
             [
              1,
              "#f0f921"
             ]
            ],
            "type": "histogram2d"
           }
          ],
          "histogram2dcontour": [
           {
            "colorbar": {
             "outlinewidth": 0,
             "ticks": ""
            },
            "colorscale": [
             [
              0,
              "#0d0887"
             ],
             [
              0.1111111111111111,
              "#46039f"
             ],
             [
              0.2222222222222222,
              "#7201a8"
             ],
             [
              0.3333333333333333,
              "#9c179e"
             ],
             [
              0.4444444444444444,
              "#bd3786"
             ],
             [
              0.5555555555555556,
              "#d8576b"
             ],
             [
              0.6666666666666666,
              "#ed7953"
             ],
             [
              0.7777777777777778,
              "#fb9f3a"
             ],
             [
              0.8888888888888888,
              "#fdca26"
             ],
             [
              1,
              "#f0f921"
             ]
            ],
            "type": "histogram2dcontour"
           }
          ],
          "mesh3d": [
           {
            "colorbar": {
             "outlinewidth": 0,
             "ticks": ""
            },
            "type": "mesh3d"
           }
          ],
          "parcoords": [
           {
            "line": {
             "colorbar": {
              "outlinewidth": 0,
              "ticks": ""
             }
            },
            "type": "parcoords"
           }
          ],
          "pie": [
           {
            "automargin": true,
            "type": "pie"
           }
          ],
          "scatter": [
           {
            "fillpattern": {
             "fillmode": "overlay",
             "size": 10,
             "solidity": 0.2
            },
            "type": "scatter"
           }
          ],
          "scatter3d": [
           {
            "line": {
             "colorbar": {
              "outlinewidth": 0,
              "ticks": ""
             }
            },
            "marker": {
             "colorbar": {
              "outlinewidth": 0,
              "ticks": ""
             }
            },
            "type": "scatter3d"
           }
          ],
          "scattercarpet": [
           {
            "marker": {
             "colorbar": {
              "outlinewidth": 0,
              "ticks": ""
             }
            },
            "type": "scattercarpet"
           }
          ],
          "scattergeo": [
           {
            "marker": {
             "colorbar": {
              "outlinewidth": 0,
              "ticks": ""
             }
            },
            "type": "scattergeo"
           }
          ],
          "scattergl": [
           {
            "marker": {
             "colorbar": {
              "outlinewidth": 0,
              "ticks": ""
             }
            },
            "type": "scattergl"
           }
          ],
          "scattermap": [
           {
            "marker": {
             "colorbar": {
              "outlinewidth": 0,
              "ticks": ""
             }
            },
            "type": "scattermap"
           }
          ],
          "scattermapbox": [
           {
            "marker": {
             "colorbar": {
              "outlinewidth": 0,
              "ticks": ""
             }
            },
            "type": "scattermapbox"
           }
          ],
          "scatterpolar": [
           {
            "marker": {
             "colorbar": {
              "outlinewidth": 0,
              "ticks": ""
             }
            },
            "type": "scatterpolar"
           }
          ],
          "scatterpolargl": [
           {
            "marker": {
             "colorbar": {
              "outlinewidth": 0,
              "ticks": ""
             }
            },
            "type": "scatterpolargl"
           }
          ],
          "scatterternary": [
           {
            "marker": {
             "colorbar": {
              "outlinewidth": 0,
              "ticks": ""
             }
            },
            "type": "scatterternary"
           }
          ],
          "surface": [
           {
            "colorbar": {
             "outlinewidth": 0,
             "ticks": ""
            },
            "colorscale": [
             [
              0,
              "#0d0887"
             ],
             [
              0.1111111111111111,
              "#46039f"
             ],
             [
              0.2222222222222222,
              "#7201a8"
             ],
             [
              0.3333333333333333,
              "#9c179e"
             ],
             [
              0.4444444444444444,
              "#bd3786"
             ],
             [
              0.5555555555555556,
              "#d8576b"
             ],
             [
              0.6666666666666666,
              "#ed7953"
             ],
             [
              0.7777777777777778,
              "#fb9f3a"
             ],
             [
              0.8888888888888888,
              "#fdca26"
             ],
             [
              1,
              "#f0f921"
             ]
            ],
            "type": "surface"
           }
          ],
          "table": [
           {
            "cells": {
             "fill": {
              "color": "#EBF0F8"
             },
             "line": {
              "color": "white"
             }
            },
            "header": {
             "fill": {
              "color": "#C8D4E3"
             },
             "line": {
              "color": "white"
             }
            },
            "type": "table"
           }
          ]
         },
         "layout": {
          "annotationdefaults": {
           "arrowcolor": "#2a3f5f",
           "arrowhead": 0,
           "arrowwidth": 1
          },
          "autotypenumbers": "strict",
          "coloraxis": {
           "colorbar": {
            "outlinewidth": 0,
            "ticks": ""
           }
          },
          "colorscale": {
           "diverging": [
            [
             0,
             "#8e0152"
            ],
            [
             0.1,
             "#c51b7d"
            ],
            [
             0.2,
             "#de77ae"
            ],
            [
             0.3,
             "#f1b6da"
            ],
            [
             0.4,
             "#fde0ef"
            ],
            [
             0.5,
             "#f7f7f7"
            ],
            [
             0.6,
             "#e6f5d0"
            ],
            [
             0.7,
             "#b8e186"
            ],
            [
             0.8,
             "#7fbc41"
            ],
            [
             0.9,
             "#4d9221"
            ],
            [
             1,
             "#276419"
            ]
           ],
           "sequential": [
            [
             0,
             "#0d0887"
            ],
            [
             0.1111111111111111,
             "#46039f"
            ],
            [
             0.2222222222222222,
             "#7201a8"
            ],
            [
             0.3333333333333333,
             "#9c179e"
            ],
            [
             0.4444444444444444,
             "#bd3786"
            ],
            [
             0.5555555555555556,
             "#d8576b"
            ],
            [
             0.6666666666666666,
             "#ed7953"
            ],
            [
             0.7777777777777778,
             "#fb9f3a"
            ],
            [
             0.8888888888888888,
             "#fdca26"
            ],
            [
             1,
             "#f0f921"
            ]
           ],
           "sequentialminus": [
            [
             0,
             "#0d0887"
            ],
            [
             0.1111111111111111,
             "#46039f"
            ],
            [
             0.2222222222222222,
             "#7201a8"
            ],
            [
             0.3333333333333333,
             "#9c179e"
            ],
            [
             0.4444444444444444,
             "#bd3786"
            ],
            [
             0.5555555555555556,
             "#d8576b"
            ],
            [
             0.6666666666666666,
             "#ed7953"
            ],
            [
             0.7777777777777778,
             "#fb9f3a"
            ],
            [
             0.8888888888888888,
             "#fdca26"
            ],
            [
             1,
             "#f0f921"
            ]
           ]
          },
          "colorway": [
           "#636efa",
           "#EF553B",
           "#00cc96",
           "#ab63fa",
           "#FFA15A",
           "#19d3f3",
           "#FF6692",
           "#B6E880",
           "#FF97FF",
           "#FECB52"
          ],
          "font": {
           "color": "#2a3f5f"
          },
          "geo": {
           "bgcolor": "white",
           "lakecolor": "white",
           "landcolor": "#E5ECF6",
           "showlakes": true,
           "showland": true,
           "subunitcolor": "white"
          },
          "hoverlabel": {
           "align": "left"
          },
          "hovermode": "closest",
          "mapbox": {
           "style": "light"
          },
          "paper_bgcolor": "white",
          "plot_bgcolor": "#E5ECF6",
          "polar": {
           "angularaxis": {
            "gridcolor": "white",
            "linecolor": "white",
            "ticks": ""
           },
           "bgcolor": "#E5ECF6",
           "radialaxis": {
            "gridcolor": "white",
            "linecolor": "white",
            "ticks": ""
           }
          },
          "scene": {
           "xaxis": {
            "backgroundcolor": "#E5ECF6",
            "gridcolor": "white",
            "gridwidth": 2,
            "linecolor": "white",
            "showbackground": true,
            "ticks": "",
            "zerolinecolor": "white"
           },
           "yaxis": {
            "backgroundcolor": "#E5ECF6",
            "gridcolor": "white",
            "gridwidth": 2,
            "linecolor": "white",
            "showbackground": true,
            "ticks": "",
            "zerolinecolor": "white"
           },
           "zaxis": {
            "backgroundcolor": "#E5ECF6",
            "gridcolor": "white",
            "gridwidth": 2,
            "linecolor": "white",
            "showbackground": true,
            "ticks": "",
            "zerolinecolor": "white"
           }
          },
          "shapedefaults": {
           "line": {
            "color": "#2a3f5f"
           }
          },
          "ternary": {
           "aaxis": {
            "gridcolor": "white",
            "linecolor": "white",
            "ticks": ""
           },
           "baxis": {
            "gridcolor": "white",
            "linecolor": "white",
            "ticks": ""
           },
           "bgcolor": "#E5ECF6",
           "caxis": {
            "gridcolor": "white",
            "linecolor": "white",
            "ticks": ""
           }
          },
          "title": {
           "x": 0.05
          },
          "xaxis": {
           "automargin": true,
           "gridcolor": "white",
           "linecolor": "white",
           "ticks": "",
           "title": {
            "standoff": 15
           },
           "zerolinecolor": "white",
           "zerolinewidth": 2
          },
          "yaxis": {
           "automargin": true,
           "gridcolor": "white",
           "linecolor": "white",
           "ticks": "",
           "title": {
            "standoff": 15
           },
           "zerolinecolor": "white",
           "zerolinewidth": 2
          }
         }
        },
        "title": {
         "text": "Distribution of Review Scores for Each Snapshot Date"
        },
        "width": 1000,
        "xaxis": {
         "title": {
          "text": "Review Score"
         }
        },
        "yaxis": {
         "title": {
          "text": "Frequency"
         }
        }
       }
      }
     },
     "metadata": {},
     "output_type": "display_data"
    }
   ],
   "source": [
    "review_scores = bookings.groupby(['name', 'snapshot_date'], as_index=False)['review_score'].first()\n",
    "\n",
    "# Create subplots for each snapshot date\n",
    "fig = go.Figure()\n",
    "\n",
    "for date in snapshot_dates:\n",
    "    data = review_scores[review_scores['snapshot_date'] == date]['review_score'].dropna()\n",
    "    fig.add_trace(go.Histogram(x=data, name=str(date), opacity=0.5, bingroup=100))\n",
    "\n",
    "# Update layout to separate the graphs\n",
    "fig.update_layout(\n",
    "    title=\"Distribution of Review Scores for Each Snapshot Date\",\n",
    "    xaxis_title=\"Review Score\",\n",
    "    yaxis_title=\"Frequency\",\n",
    "    barmode='overlay',  # Ensures histograms are separate\n",
    "    legend_title=\"Snapshot Date\",\n",
    "    width=1000,\n",
    "    height=600\n",
    ")\n",
    "\n",
    "# Show interactive plot\n",
    "fig.show()"
   ]
  },
  {
   "cell_type": "markdown",
   "metadata": {},
   "source": [
    "The histogram shows that most hotel review scores fall between **7 and 9**, with a peak around **8**, indicating generally positive experiences. Scores below **5** are rare to none.  \n",
    "\n",
    "The similarity between the snapshot dates suggests that hotel ratings remain stable over time. While a few hotels receive low scores (**1-4**), these are outliers rather than the norm.  \n",
    "\n",
    "The data above shows that **Booking.com prioritizes highly rated hotels** in its listings. Among the 100 hotels that appeared in each search, none have a review score below **6**, indicating that poorly rated hotels are likely filtered out. This aligns with Booking.com’s strategy of promoting well-reviewed properties to enhance user experience, while \"punishing\" lesser options.  "
   ]
  },
  {
   "cell_type": "code",
   "execution_count": 10,
   "metadata": {},
   "outputs": [
    {
     "data": {
      "application/vnd.plotly.v1+json": {
       "config": {
        "plotlyServerURL": "https://plot.ly"
       },
       "data": [
        {
         "name": "Original Price - 2025-02-02",
         "opacity": 0.5,
         "type": "histogram",
         "x": {
          "bdata": "9wmuBT4DXwJGAn8CqQLnAMwCOgLoALABnwH5AGcCIAKsAacC2QT2AHAB4QKVAaoFxgCZANEA5wB2Aa0AFgUkBHgDRgGCAFwB8wTFAJsAXAJBAVgE2QHTAI8B7gBJArQA/gFZAQMBXgnEBNoBgQDcAAUB+QOjAAED9QWqAgkECQRCAqMHlwFWAAEBngCYAKMA8QKyAJgAsADEBrsBFgGGAzkFDQEqAW8CpgB5APYArgBzAo8CFwJ0AFkDxwCYALkBBwKLASICfwGCAKYA9QFMB08F7Ad/AoUA0QDRAPQBiwGYAEQBdAG0AbwDrQQdCCEJggd9A7sG/AGeAn8E7gF3AKQAugDQAN4ANAGuAJYBugBqALgC9gCMAFgB4gB4AbwAWgG3AI4DCAbLALEARQHJAe4A3AAqAfwDXgGrALkC7wDRAMUA3QB/AdUGVACzAHcAggCcAU8BGAPmAEMBHAHXBMsC2QDGAF8CrgA4AccAigjBByQBcwDAAFwBEQFTAfoAlQCiAE8DpADbAUECuwCCAdABCQHAAHwAHRzRAdoCqAAdATcCfgbBAFQCEQEhBK4AOwJbAvMAuwDiBSEBEwHjAocDZgGBCcABIQGxAbsACgGTA7oAAASDAegDPAJoBeAAjACCAYEA1wMkAbEA+wI+BR0ChwU/AZoAlgEtCLkFIQUkAYEA6ABrAZcGRAKPBg0DXQGhBJ4ACgMHAbIBjACBAmAI6AABAXABrwEXA6sAnQEeA6ECQgPBAVsCFAK6AyMNmwBlAScBDgaOAC4BSAHsACMDjACjAEICngFTAegEswCKAZYAAQH5AIsAGgHPAOwAugB1AcAIhQLSB4ACeQUXCcEEVwO7AfsCdQOmAY0AiwbeA4cFqQCsAocA+AUXBHsDHgGeAqAAMAOGAbMKpAfeMekCswLTAHwAmgDRAPIATQG3A+oA8QEAATkKCQKQAB0CxQHRANEAtgHFAA==",
          "dtype": "i2"
         }
        },
        {
         "name": "Discounted Price - 2025-02-02",
         "opacity": 0.3,
         "type": "histogram",
         "x": {
          "bdata": "5AauBT4DXwJGAn8CqQLnAMwCIQLSALABnwH5AGcC3AFoAacC2QT2AHAB4QKVAaoFxgCZANEA5wBLAYMAFgUkBHgDRgGCAFwB8wS8AJsA8QFBAVgE2QHTADoB7gBJArQAmQE+AQMBXgnEBNoBgQDcAAUB+QOjAAED9QWqAgkECQTQAaMHlwFWAAEBngCYAKMA8QKyAJgAsADEBnIBFgGGAzkFDQEqAW8CpgB5APYArgBzAo8CFwJ0AFkDxwCYALkBBwKLASICfwFvAKYA9QFMB08F7Ad/AoUA0QDRAPQBiwGYAEQBdAG0AbwDrQQdCCEJggd9A7sGmQGeAg0E7gF3AKQAugDQAN4ANAGuACkBugBqAEAC9gCMAFgB4gB4AbwAWgG3AI4DCAbLALEARQHJAbEAqQAqAfwDXgGrAIcC7wDRAMUA3QB/AdUGVACzAHcAggBfAU8BGAPmAEMBHAHXBMsC2QDGAF8CrgA4AbgAigjBB9oAcwCaAFwBEQFTAfoAlQCiAE8DpADbAUECsgCCAbYBCQHAAHwATxnRAYgCqADrADcCfgaxAPcBEQGTA64AOwJbAvMAuwDiBSEBEwHjAocDZgGBCcABIQGxAbsACgGTA7oAeAODAasD3AFoBeAAjACCAYEA1wMkAbEA+wI+Bc0BhwU/AZoAlgEtCLkFfAPcAIEA6ABrAZcGIgKPBqgCXQGhBJ4ACgMHAWYBjACBAp0HxQABAXABrwEXA6sANwEeA6ECQgPBAVsC4gG6AyMNmwBlAScBDgaAAC4BSAGyALYCeACjAEICngFTAegEswCKAZYAAQH5AIsAGgHPALIAugB1AeIHhQIlB4ACOwVIB8EEVwO7AfsCdQN8AY0A/wXeAxIFqQA6AocA+AVcA3sDHgGeAqAAMAOGAbMKpAdYI+kCswLTAHwAmgDRAPIATQG3A+oA8QHYAHQJ3gGQAB0CxQHRANEAtgHFAA==",
          "dtype": "i2"
         }
        },
        {
         "name": "Original Price - 2025-02-03",
         "opacity": 0.5,
         "type": "histogram",
         "x": {
          "bdata": "zw2hBJoCXwIbAqkCpQEIBsoCGQKWAPkANwSXAagD7AGxAmgCcAHhApUBGwIOAd8A9gDnALsA5QKqBiQEvAHkAhoBqQBkA9wAzgBcAqEArAMhA2ME2AHNAW8DmwD5ANsCywD+AXYCMgHaAaMA3AAFAegAiwEtASMGsQS1BGYBtguXAeAAGAGjAMUAugAWAccAmABnATYCngIWASEBMwUNAZ8AYQIqAzwGmQANAfMArQHXABcCkgLvAZgAwgFCBoICIgKtAZ0AkwHWAfIAlQaZAQsBRAEKAaMAiwHSAKUEiAOaAFYD4waqCMYGHQE6AuYBfgWMA9MAdwCHAOEAlgKrASkBxQC6AGoA7AGjApgAWwPHANMAdgG3ANcBsQAQB2cG0AK0AO8ANwFMA2QHqwAyAR0B/gHFAPYALwFdA7MAfQCMAFUDMQZrAI4CRAE+BfEALAM/A7EAowA8AdoAiggiBucAVQFoAy0BDQHLANQDsgK5AE8DpACtAGEBXwFgASwS6AAVATkEcAGjANoCqAAlAkkBoAHBALQAywWwBbUAxgA1AvMAuwDcABYBMQFaAlICIQa3Af0CzgHHAAoBOQO6AAsElAHBAsICyQCNA6MAAQGMAJoAVgA+AVQDtABPAdoExwCWAWwIYAEGAYEA8ADHAAoH5gBdAbkCogFSAh0B0QOMAHgCYAjdAJcCawGaBK8D7AM5A6kAoQL9BMwCfASKADwC+AN1ApkATAGWAKcCjgBfAkgB9wCMAKMAPQwKAd4CNAGzAFIFlgDnAAYC9gAEAeYA/QDcACcEfwLvA64AgALTARoFwQQlBGEDeQKYAE4C6AKNAMgDQwGHBakA3ABOA5YACwb0AtcBewODA1kCJgW3ACwChgvpAkgChgCYAGgA6wG7BPUJzwPXAOYBHwINBOwEQQGLAOgA/wC2AcUA",
          "dtype": "i2"
         }
        },
        {
         "name": "Discounted Price - 2025-02-03",
         "opacity": 0.3,
         "type": "histogram",
         "x": {
          "bdata": "RwmhBJoCXwIbAqkCpQE6BagCGQKWAPkANwSXAQ8D7AGxAmgCcAHhApUBGwIOAd8A9gDnAKYAVAKqBiQEvAHkAhoBqQBkA9IAzgDWAaEArAMhA2ME2AHNAbACmwD5ANsCywCZAXYCMgHaAaMA3AAFAegAiwEtASMGsQS1BB8BtguXAeAAGAGjAMUAugAWAccAmABnATYCLwIWASEBMwUNAZ8AYQIqAzwGewANAfMArQHXABcCkgLvAZgAwgFCBoICIgKtAYYAkwHWAfIAlQaZAQsBRAEKAaMAiwHSAKUEFAOaAFYD4waqCMYGHQE6AocBfgUyA9MAdwCHAOEAlgKrASkBxQC6AGoAlwGjApgAWwPHANMAdgG3ANcBsQAQB2cG2AG0ALYANwFMA2QHqwAyAR0B/gHFAPYALwHXArMAfQCMANcCMQZrAI4CRAE+BfEALAM/A7EAowA8AckAiggiBucAEQFoAy0BDQHLANQDsgK5AE8DpACtAGEBTgFgASwS6AAVATkEcAGPAIgCqADGAUkBoAGxALQAywXvBLUAxgA1AvMAuwDcABYBMQFaAlICIQa3Af0CzgHHAAoBOQO6AIIDlAHBAk4CyQCNA6MAAQGMAJoAVgA+AVQDtAANAdoExwCWAWwICAHHAIEA8ADHAAoH0wBdAbkCogFSAh0BIwOMAHgCnQfdAEcCawGaBK8D7ANuAqkAoQL9BMwCfASKADwC+AN1ApkATAGWAKcCgABfAkgBugB4AKMAaQkKAd4CNAGzAFIFlgDnAAYC9gAEAeYAvwDcAL0DfwLFA64AgALTARoFwQQlBGEDeQKYAE4CngKNAKADQwESBakA3ABOA5YACwb0AogBewODA1kCJgW3ACwChgvpAkgChgCYAGgAvwG7BDoJzwPXAOYBygENBOwEQQGLAOgA/wC2AcUA",
          "dtype": "i2"
         }
        }
       ],
       "layout": {
        "barmode": "overlay",
        "height": 600,
        "legend": {
         "title": {
          "text": "Snapshot Date & Price Type"
         }
        },
        "template": {
         "data": {
          "bar": [
           {
            "error_x": {
             "color": "#2a3f5f"
            },
            "error_y": {
             "color": "#2a3f5f"
            },
            "marker": {
             "line": {
              "color": "#E5ECF6",
              "width": 0.5
             },
             "pattern": {
              "fillmode": "overlay",
              "size": 10,
              "solidity": 0.2
             }
            },
            "type": "bar"
           }
          ],
          "barpolar": [
           {
            "marker": {
             "line": {
              "color": "#E5ECF6",
              "width": 0.5
             },
             "pattern": {
              "fillmode": "overlay",
              "size": 10,
              "solidity": 0.2
             }
            },
            "type": "barpolar"
           }
          ],
          "carpet": [
           {
            "aaxis": {
             "endlinecolor": "#2a3f5f",
             "gridcolor": "white",
             "linecolor": "white",
             "minorgridcolor": "white",
             "startlinecolor": "#2a3f5f"
            },
            "baxis": {
             "endlinecolor": "#2a3f5f",
             "gridcolor": "white",
             "linecolor": "white",
             "minorgridcolor": "white",
             "startlinecolor": "#2a3f5f"
            },
            "type": "carpet"
           }
          ],
          "choropleth": [
           {
            "colorbar": {
             "outlinewidth": 0,
             "ticks": ""
            },
            "type": "choropleth"
           }
          ],
          "contour": [
           {
            "colorbar": {
             "outlinewidth": 0,
             "ticks": ""
            },
            "colorscale": [
             [
              0,
              "#0d0887"
             ],
             [
              0.1111111111111111,
              "#46039f"
             ],
             [
              0.2222222222222222,
              "#7201a8"
             ],
             [
              0.3333333333333333,
              "#9c179e"
             ],
             [
              0.4444444444444444,
              "#bd3786"
             ],
             [
              0.5555555555555556,
              "#d8576b"
             ],
             [
              0.6666666666666666,
              "#ed7953"
             ],
             [
              0.7777777777777778,
              "#fb9f3a"
             ],
             [
              0.8888888888888888,
              "#fdca26"
             ],
             [
              1,
              "#f0f921"
             ]
            ],
            "type": "contour"
           }
          ],
          "contourcarpet": [
           {
            "colorbar": {
             "outlinewidth": 0,
             "ticks": ""
            },
            "type": "contourcarpet"
           }
          ],
          "heatmap": [
           {
            "colorbar": {
             "outlinewidth": 0,
             "ticks": ""
            },
            "colorscale": [
             [
              0,
              "#0d0887"
             ],
             [
              0.1111111111111111,
              "#46039f"
             ],
             [
              0.2222222222222222,
              "#7201a8"
             ],
             [
              0.3333333333333333,
              "#9c179e"
             ],
             [
              0.4444444444444444,
              "#bd3786"
             ],
             [
              0.5555555555555556,
              "#d8576b"
             ],
             [
              0.6666666666666666,
              "#ed7953"
             ],
             [
              0.7777777777777778,
              "#fb9f3a"
             ],
             [
              0.8888888888888888,
              "#fdca26"
             ],
             [
              1,
              "#f0f921"
             ]
            ],
            "type": "heatmap"
           }
          ],
          "histogram": [
           {
            "marker": {
             "pattern": {
              "fillmode": "overlay",
              "size": 10,
              "solidity": 0.2
             }
            },
            "type": "histogram"
           }
          ],
          "histogram2d": [
           {
            "colorbar": {
             "outlinewidth": 0,
             "ticks": ""
            },
            "colorscale": [
             [
              0,
              "#0d0887"
             ],
             [
              0.1111111111111111,
              "#46039f"
             ],
             [
              0.2222222222222222,
              "#7201a8"
             ],
             [
              0.3333333333333333,
              "#9c179e"
             ],
             [
              0.4444444444444444,
              "#bd3786"
             ],
             [
              0.5555555555555556,
              "#d8576b"
             ],
             [
              0.6666666666666666,
              "#ed7953"
             ],
             [
              0.7777777777777778,
              "#fb9f3a"
             ],
             [
              0.8888888888888888,
              "#fdca26"
             ],
             [
              1,
              "#f0f921"
             ]
            ],
            "type": "histogram2d"
           }
          ],
          "histogram2dcontour": [
           {
            "colorbar": {
             "outlinewidth": 0,
             "ticks": ""
            },
            "colorscale": [
             [
              0,
              "#0d0887"
             ],
             [
              0.1111111111111111,
              "#46039f"
             ],
             [
              0.2222222222222222,
              "#7201a8"
             ],
             [
              0.3333333333333333,
              "#9c179e"
             ],
             [
              0.4444444444444444,
              "#bd3786"
             ],
             [
              0.5555555555555556,
              "#d8576b"
             ],
             [
              0.6666666666666666,
              "#ed7953"
             ],
             [
              0.7777777777777778,
              "#fb9f3a"
             ],
             [
              0.8888888888888888,
              "#fdca26"
             ],
             [
              1,
              "#f0f921"
             ]
            ],
            "type": "histogram2dcontour"
           }
          ],
          "mesh3d": [
           {
            "colorbar": {
             "outlinewidth": 0,
             "ticks": ""
            },
            "type": "mesh3d"
           }
          ],
          "parcoords": [
           {
            "line": {
             "colorbar": {
              "outlinewidth": 0,
              "ticks": ""
             }
            },
            "type": "parcoords"
           }
          ],
          "pie": [
           {
            "automargin": true,
            "type": "pie"
           }
          ],
          "scatter": [
           {
            "fillpattern": {
             "fillmode": "overlay",
             "size": 10,
             "solidity": 0.2
            },
            "type": "scatter"
           }
          ],
          "scatter3d": [
           {
            "line": {
             "colorbar": {
              "outlinewidth": 0,
              "ticks": ""
             }
            },
            "marker": {
             "colorbar": {
              "outlinewidth": 0,
              "ticks": ""
             }
            },
            "type": "scatter3d"
           }
          ],
          "scattercarpet": [
           {
            "marker": {
             "colorbar": {
              "outlinewidth": 0,
              "ticks": ""
             }
            },
            "type": "scattercarpet"
           }
          ],
          "scattergeo": [
           {
            "marker": {
             "colorbar": {
              "outlinewidth": 0,
              "ticks": ""
             }
            },
            "type": "scattergeo"
           }
          ],
          "scattergl": [
           {
            "marker": {
             "colorbar": {
              "outlinewidth": 0,
              "ticks": ""
             }
            },
            "type": "scattergl"
           }
          ],
          "scattermap": [
           {
            "marker": {
             "colorbar": {
              "outlinewidth": 0,
              "ticks": ""
             }
            },
            "type": "scattermap"
           }
          ],
          "scattermapbox": [
           {
            "marker": {
             "colorbar": {
              "outlinewidth": 0,
              "ticks": ""
             }
            },
            "type": "scattermapbox"
           }
          ],
          "scatterpolar": [
           {
            "marker": {
             "colorbar": {
              "outlinewidth": 0,
              "ticks": ""
             }
            },
            "type": "scatterpolar"
           }
          ],
          "scatterpolargl": [
           {
            "marker": {
             "colorbar": {
              "outlinewidth": 0,
              "ticks": ""
             }
            },
            "type": "scatterpolargl"
           }
          ],
          "scatterternary": [
           {
            "marker": {
             "colorbar": {
              "outlinewidth": 0,
              "ticks": ""
             }
            },
            "type": "scatterternary"
           }
          ],
          "surface": [
           {
            "colorbar": {
             "outlinewidth": 0,
             "ticks": ""
            },
            "colorscale": [
             [
              0,
              "#0d0887"
             ],
             [
              0.1111111111111111,
              "#46039f"
             ],
             [
              0.2222222222222222,
              "#7201a8"
             ],
             [
              0.3333333333333333,
              "#9c179e"
             ],
             [
              0.4444444444444444,
              "#bd3786"
             ],
             [
              0.5555555555555556,
              "#d8576b"
             ],
             [
              0.6666666666666666,
              "#ed7953"
             ],
             [
              0.7777777777777778,
              "#fb9f3a"
             ],
             [
              0.8888888888888888,
              "#fdca26"
             ],
             [
              1,
              "#f0f921"
             ]
            ],
            "type": "surface"
           }
          ],
          "table": [
           {
            "cells": {
             "fill": {
              "color": "#EBF0F8"
             },
             "line": {
              "color": "white"
             }
            },
            "header": {
             "fill": {
              "color": "#C8D4E3"
             },
             "line": {
              "color": "white"
             }
            },
            "type": "table"
           }
          ]
         },
         "layout": {
          "annotationdefaults": {
           "arrowcolor": "#2a3f5f",
           "arrowhead": 0,
           "arrowwidth": 1
          },
          "autotypenumbers": "strict",
          "coloraxis": {
           "colorbar": {
            "outlinewidth": 0,
            "ticks": ""
           }
          },
          "colorscale": {
           "diverging": [
            [
             0,
             "#8e0152"
            ],
            [
             0.1,
             "#c51b7d"
            ],
            [
             0.2,
             "#de77ae"
            ],
            [
             0.3,
             "#f1b6da"
            ],
            [
             0.4,
             "#fde0ef"
            ],
            [
             0.5,
             "#f7f7f7"
            ],
            [
             0.6,
             "#e6f5d0"
            ],
            [
             0.7,
             "#b8e186"
            ],
            [
             0.8,
             "#7fbc41"
            ],
            [
             0.9,
             "#4d9221"
            ],
            [
             1,
             "#276419"
            ]
           ],
           "sequential": [
            [
             0,
             "#0d0887"
            ],
            [
             0.1111111111111111,
             "#46039f"
            ],
            [
             0.2222222222222222,
             "#7201a8"
            ],
            [
             0.3333333333333333,
             "#9c179e"
            ],
            [
             0.4444444444444444,
             "#bd3786"
            ],
            [
             0.5555555555555556,
             "#d8576b"
            ],
            [
             0.6666666666666666,
             "#ed7953"
            ],
            [
             0.7777777777777778,
             "#fb9f3a"
            ],
            [
             0.8888888888888888,
             "#fdca26"
            ],
            [
             1,
             "#f0f921"
            ]
           ],
           "sequentialminus": [
            [
             0,
             "#0d0887"
            ],
            [
             0.1111111111111111,
             "#46039f"
            ],
            [
             0.2222222222222222,
             "#7201a8"
            ],
            [
             0.3333333333333333,
             "#9c179e"
            ],
            [
             0.4444444444444444,
             "#bd3786"
            ],
            [
             0.5555555555555556,
             "#d8576b"
            ],
            [
             0.6666666666666666,
             "#ed7953"
            ],
            [
             0.7777777777777778,
             "#fb9f3a"
            ],
            [
             0.8888888888888888,
             "#fdca26"
            ],
            [
             1,
             "#f0f921"
            ]
           ]
          },
          "colorway": [
           "#636efa",
           "#EF553B",
           "#00cc96",
           "#ab63fa",
           "#FFA15A",
           "#19d3f3",
           "#FF6692",
           "#B6E880",
           "#FF97FF",
           "#FECB52"
          ],
          "font": {
           "color": "#2a3f5f"
          },
          "geo": {
           "bgcolor": "white",
           "lakecolor": "white",
           "landcolor": "#E5ECF6",
           "showlakes": true,
           "showland": true,
           "subunitcolor": "white"
          },
          "hoverlabel": {
           "align": "left"
          },
          "hovermode": "closest",
          "mapbox": {
           "style": "light"
          },
          "paper_bgcolor": "white",
          "plot_bgcolor": "#E5ECF6",
          "polar": {
           "angularaxis": {
            "gridcolor": "white",
            "linecolor": "white",
            "ticks": ""
           },
           "bgcolor": "#E5ECF6",
           "radialaxis": {
            "gridcolor": "white",
            "linecolor": "white",
            "ticks": ""
           }
          },
          "scene": {
           "xaxis": {
            "backgroundcolor": "#E5ECF6",
            "gridcolor": "white",
            "gridwidth": 2,
            "linecolor": "white",
            "showbackground": true,
            "ticks": "",
            "zerolinecolor": "white"
           },
           "yaxis": {
            "backgroundcolor": "#E5ECF6",
            "gridcolor": "white",
            "gridwidth": 2,
            "linecolor": "white",
            "showbackground": true,
            "ticks": "",
            "zerolinecolor": "white"
           },
           "zaxis": {
            "backgroundcolor": "#E5ECF6",
            "gridcolor": "white",
            "gridwidth": 2,
            "linecolor": "white",
            "showbackground": true,
            "ticks": "",
            "zerolinecolor": "white"
           }
          },
          "shapedefaults": {
           "line": {
            "color": "#2a3f5f"
           }
          },
          "ternary": {
           "aaxis": {
            "gridcolor": "white",
            "linecolor": "white",
            "ticks": ""
           },
           "baxis": {
            "gridcolor": "white",
            "linecolor": "white",
            "ticks": ""
           },
           "bgcolor": "#E5ECF6",
           "caxis": {
            "gridcolor": "white",
            "linecolor": "white",
            "ticks": ""
           }
          },
          "title": {
           "x": 0.05
          },
          "xaxis": {
           "automargin": true,
           "gridcolor": "white",
           "linecolor": "white",
           "ticks": "",
           "title": {
            "standoff": 15
           },
           "zerolinecolor": "white",
           "zerolinewidth": 2
          },
          "yaxis": {
           "automargin": true,
           "gridcolor": "white",
           "linecolor": "white",
           "ticks": "",
           "title": {
            "standoff": 15
           },
           "zerolinecolor": "white",
           "zerolinewidth": 2
          }
         }
        },
        "title": {
         "text": "Distribution of Original and Discounted Prices for Each Snapshot Date"
        },
        "width": 1000,
        "xaxis": {
         "title": {
          "text": "Price"
         }
        },
        "yaxis": {
         "title": {
          "text": "Frequency"
         }
        }
       }
      }
     },
     "metadata": {},
     "output_type": "display_data"
    }
   ],
   "source": [
    "price_data = bookings.groupby(['name', 'snapshot_date'], as_index=False)[['original_price', 'discounted_price']].first()\n",
    "\n",
    "# Get unique snapshot dates\n",
    "snapshot_dates = price_data['snapshot_date'].unique()\n",
    "\n",
    "# Create subplots for each snapshot date\n",
    "fig = go.Figure()\n",
    "\n",
    "for date in snapshot_dates:\n",
    "    snapshot_prices = price_data[price_data['snapshot_date'] == date]\n",
    "    \n",
    "    fig.add_trace(go.Histogram(\n",
    "        x=snapshot_prices['original_price'].dropna(),\n",
    "        name=f\"Original Price - {date}\",\n",
    "        opacity=0.5\n",
    "    ))\n",
    "    \n",
    "    fig.add_trace(go.Histogram(\n",
    "        x=snapshot_prices['discounted_price'].dropna(),\n",
    "        name=f\"Discounted Price - {date}\",\n",
    "        opacity=0.3\n",
    "    ))\n",
    "\n",
    "# Update layout for better visualization\n",
    "fig.update_layout(\n",
    "    title=\"Distribution of Original and Discounted Prices for Each Snapshot Date\",\n",
    "    xaxis_title=\"Price\",\n",
    "    yaxis_title=\"Frequency\",\n",
    "    barmode='overlay',  # Ensures histograms overlap for comparison\n",
    "    legend_title=\"Snapshot Date & Price Type\",\n",
    "    width=1000,\n",
    "    height=600\n",
    ")\n",
    "\n",
    "# Show the interactive plot\n",
    "fig.show()"
   ]
  },
  {
   "cell_type": "markdown",
   "metadata": {},
   "source": [
    "The prices shown in the graph above do not account for the length of stay. The graph below displays the distribution of \"price per night.\""
   ]
  },
  {
   "cell_type": "code",
   "execution_count": 12,
   "metadata": {},
   "outputs": [
    {
     "data": {
      "application/vnd.plotly.v1+json": {
       "config": {
        "plotlyServerURL": "https://plot.ly"
       },
       "data": [
        {
         "name": "Original Price per night - 2025-02-02",
         "opacity": 0.5,
         "type": "histogram",
         "x": {
          "bdata": "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",
          "dtype": "f8"
         }
        },
        {
         "name": "Discounted Price per night - 2025-02-02",
         "opacity": 0.3,
         "type": "histogram",
         "x": {
          "bdata": "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",
          "dtype": "f8"
         }
        },
        {
         "name": "Original Price per night - 2025-02-03",
         "opacity": 0.5,
         "type": "histogram",
         "x": {
          "bdata": "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",
          "dtype": "f8"
         }
        },
        {
         "name": "Discounted Price per night - 2025-02-03",
         "opacity": 0.3,
         "type": "histogram",
         "x": {
          "bdata": "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",
          "dtype": "f8"
         }
        }
       ],
       "layout": {
        "barmode": "overlay",
        "height": 600,
        "legend": {
         "title": {
          "text": "Snapshot Date & Price Type"
         }
        },
        "template": {
         "data": {
          "bar": [
           {
            "error_x": {
             "color": "#2a3f5f"
            },
            "error_y": {
             "color": "#2a3f5f"
            },
            "marker": {
             "line": {
              "color": "#E5ECF6",
              "width": 0.5
             },
             "pattern": {
              "fillmode": "overlay",
              "size": 10,
              "solidity": 0.2
             }
            },
            "type": "bar"
           }
          ],
          "barpolar": [
           {
            "marker": {
             "line": {
              "color": "#E5ECF6",
              "width": 0.5
             },
             "pattern": {
              "fillmode": "overlay",
              "size": 10,
              "solidity": 0.2
             }
            },
            "type": "barpolar"
           }
          ],
          "carpet": [
           {
            "aaxis": {
             "endlinecolor": "#2a3f5f",
             "gridcolor": "white",
             "linecolor": "white",
             "minorgridcolor": "white",
             "startlinecolor": "#2a3f5f"
            },
            "baxis": {
             "endlinecolor": "#2a3f5f",
             "gridcolor": "white",
             "linecolor": "white",
             "minorgridcolor": "white",
             "startlinecolor": "#2a3f5f"
            },
            "type": "carpet"
           }
          ],
          "choropleth": [
           {
            "colorbar": {
             "outlinewidth": 0,
             "ticks": ""
            },
            "type": "choropleth"
           }
          ],
          "contour": [
           {
            "colorbar": {
             "outlinewidth": 0,
             "ticks": ""
            },
            "colorscale": [
             [
              0,
              "#0d0887"
             ],
             [
              0.1111111111111111,
              "#46039f"
             ],
             [
              0.2222222222222222,
              "#7201a8"
             ],
             [
              0.3333333333333333,
              "#9c179e"
             ],
             [
              0.4444444444444444,
              "#bd3786"
             ],
             [
              0.5555555555555556,
              "#d8576b"
             ],
             [
              0.6666666666666666,
              "#ed7953"
             ],
             [
              0.7777777777777778,
              "#fb9f3a"
             ],
             [
              0.8888888888888888,
              "#fdca26"
             ],
             [
              1,
              "#f0f921"
             ]
            ],
            "type": "contour"
           }
          ],
          "contourcarpet": [
           {
            "colorbar": {
             "outlinewidth": 0,
             "ticks": ""
            },
            "type": "contourcarpet"
           }
          ],
          "heatmap": [
           {
            "colorbar": {
             "outlinewidth": 0,
             "ticks": ""
            },
            "colorscale": [
             [
              0,
              "#0d0887"
             ],
             [
              0.1111111111111111,
              "#46039f"
             ],
             [
              0.2222222222222222,
              "#7201a8"
             ],
             [
              0.3333333333333333,
              "#9c179e"
             ],
             [
              0.4444444444444444,
              "#bd3786"
             ],
             [
              0.5555555555555556,
              "#d8576b"
             ],
             [
              0.6666666666666666,
              "#ed7953"
             ],
             [
              0.7777777777777778,
              "#fb9f3a"
             ],
             [
              0.8888888888888888,
              "#fdca26"
             ],
             [
              1,
              "#f0f921"
             ]
            ],
            "type": "heatmap"
           }
          ],
          "histogram": [
           {
            "marker": {
             "pattern": {
              "fillmode": "overlay",
              "size": 10,
              "solidity": 0.2
             }
            },
            "type": "histogram"
           }
          ],
          "histogram2d": [
           {
            "colorbar": {
             "outlinewidth": 0,
             "ticks": ""
            },
            "colorscale": [
             [
              0,
              "#0d0887"
             ],
             [
              0.1111111111111111,
              "#46039f"
             ],
             [
              0.2222222222222222,
              "#7201a8"
             ],
             [
              0.3333333333333333,
              "#9c179e"
             ],
             [
              0.4444444444444444,
              "#bd3786"
             ],
             [
              0.5555555555555556,
              "#d8576b"
             ],
             [
              0.6666666666666666,
              "#ed7953"
             ],
             [
              0.7777777777777778,
              "#fb9f3a"
             ],
             [
              0.8888888888888888,
              "#fdca26"
             ],
             [
              1,
              "#f0f921"
             ]
            ],
            "type": "histogram2d"
           }
          ],
          "histogram2dcontour": [
           {
            "colorbar": {
             "outlinewidth": 0,
             "ticks": ""
            },
            "colorscale": [
             [
              0,
              "#0d0887"
             ],
             [
              0.1111111111111111,
              "#46039f"
             ],
             [
              0.2222222222222222,
              "#7201a8"
             ],
             [
              0.3333333333333333,
              "#9c179e"
             ],
             [
              0.4444444444444444,
              "#bd3786"
             ],
             [
              0.5555555555555556,
              "#d8576b"
             ],
             [
              0.6666666666666666,
              "#ed7953"
             ],
             [
              0.7777777777777778,
              "#fb9f3a"
             ],
             [
              0.8888888888888888,
              "#fdca26"
             ],
             [
              1,
              "#f0f921"
             ]
            ],
            "type": "histogram2dcontour"
           }
          ],
          "mesh3d": [
           {
            "colorbar": {
             "outlinewidth": 0,
             "ticks": ""
            },
            "type": "mesh3d"
           }
          ],
          "parcoords": [
           {
            "line": {
             "colorbar": {
              "outlinewidth": 0,
              "ticks": ""
             }
            },
            "type": "parcoords"
           }
          ],
          "pie": [
           {
            "automargin": true,
            "type": "pie"
           }
          ],
          "scatter": [
           {
            "fillpattern": {
             "fillmode": "overlay",
             "size": 10,
             "solidity": 0.2
            },
            "type": "scatter"
           }
          ],
          "scatter3d": [
           {
            "line": {
             "colorbar": {
              "outlinewidth": 0,
              "ticks": ""
             }
            },
            "marker": {
             "colorbar": {
              "outlinewidth": 0,
              "ticks": ""
             }
            },
            "type": "scatter3d"
           }
          ],
          "scattercarpet": [
           {
            "marker": {
             "colorbar": {
              "outlinewidth": 0,
              "ticks": ""
             }
            },
            "type": "scattercarpet"
           }
          ],
          "scattergeo": [
           {
            "marker": {
             "colorbar": {
              "outlinewidth": 0,
              "ticks": ""
             }
            },
            "type": "scattergeo"
           }
          ],
          "scattergl": [
           {
            "marker": {
             "colorbar": {
              "outlinewidth": 0,
              "ticks": ""
             }
            },
            "type": "scattergl"
           }
          ],
          "scattermap": [
           {
            "marker": {
             "colorbar": {
              "outlinewidth": 0,
              "ticks": ""
             }
            },
            "type": "scattermap"
           }
          ],
          "scattermapbox": [
           {
            "marker": {
             "colorbar": {
              "outlinewidth": 0,
              "ticks": ""
             }
            },
            "type": "scattermapbox"
           }
          ],
          "scatterpolar": [
           {
            "marker": {
             "colorbar": {
              "outlinewidth": 0,
              "ticks": ""
             }
            },
            "type": "scatterpolar"
           }
          ],
          "scatterpolargl": [
           {
            "marker": {
             "colorbar": {
              "outlinewidth": 0,
              "ticks": ""
             }
            },
            "type": "scatterpolargl"
           }
          ],
          "scatterternary": [
           {
            "marker": {
             "colorbar": {
              "outlinewidth": 0,
              "ticks": ""
             }
            },
            "type": "scatterternary"
           }
          ],
          "surface": [
           {
            "colorbar": {
             "outlinewidth": 0,
             "ticks": ""
            },
            "colorscale": [
             [
              0,
              "#0d0887"
             ],
             [
              0.1111111111111111,
              "#46039f"
             ],
             [
              0.2222222222222222,
              "#7201a8"
             ],
             [
              0.3333333333333333,
              "#9c179e"
             ],
             [
              0.4444444444444444,
              "#bd3786"
             ],
             [
              0.5555555555555556,
              "#d8576b"
             ],
             [
              0.6666666666666666,
              "#ed7953"
             ],
             [
              0.7777777777777778,
              "#fb9f3a"
             ],
             [
              0.8888888888888888,
              "#fdca26"
             ],
             [
              1,
              "#f0f921"
             ]
            ],
            "type": "surface"
           }
          ],
          "table": [
           {
            "cells": {
             "fill": {
              "color": "#EBF0F8"
             },
             "line": {
              "color": "white"
             }
            },
            "header": {
             "fill": {
              "color": "#C8D4E3"
             },
             "line": {
              "color": "white"
             }
            },
            "type": "table"
           }
          ]
         },
         "layout": {
          "annotationdefaults": {
           "arrowcolor": "#2a3f5f",
           "arrowhead": 0,
           "arrowwidth": 1
          },
          "autotypenumbers": "strict",
          "coloraxis": {
           "colorbar": {
            "outlinewidth": 0,
            "ticks": ""
           }
          },
          "colorscale": {
           "diverging": [
            [
             0,
             "#8e0152"
            ],
            [
             0.1,
             "#c51b7d"
            ],
            [
             0.2,
             "#de77ae"
            ],
            [
             0.3,
             "#f1b6da"
            ],
            [
             0.4,
             "#fde0ef"
            ],
            [
             0.5,
             "#f7f7f7"
            ],
            [
             0.6,
             "#e6f5d0"
            ],
            [
             0.7,
             "#b8e186"
            ],
            [
             0.8,
             "#7fbc41"
            ],
            [
             0.9,
             "#4d9221"
            ],
            [
             1,
             "#276419"
            ]
           ],
           "sequential": [
            [
             0,
             "#0d0887"
            ],
            [
             0.1111111111111111,
             "#46039f"
            ],
            [
             0.2222222222222222,
             "#7201a8"
            ],
            [
             0.3333333333333333,
             "#9c179e"
            ],
            [
             0.4444444444444444,
             "#bd3786"
            ],
            [
             0.5555555555555556,
             "#d8576b"
            ],
            [
             0.6666666666666666,
             "#ed7953"
            ],
            [
             0.7777777777777778,
             "#fb9f3a"
            ],
            [
             0.8888888888888888,
             "#fdca26"
            ],
            [
             1,
             "#f0f921"
            ]
           ],
           "sequentialminus": [
            [
             0,
             "#0d0887"
            ],
            [
             0.1111111111111111,
             "#46039f"
            ],
            [
             0.2222222222222222,
             "#7201a8"
            ],
            [
             0.3333333333333333,
             "#9c179e"
            ],
            [
             0.4444444444444444,
             "#bd3786"
            ],
            [
             0.5555555555555556,
             "#d8576b"
            ],
            [
             0.6666666666666666,
             "#ed7953"
            ],
            [
             0.7777777777777778,
             "#fb9f3a"
            ],
            [
             0.8888888888888888,
             "#fdca26"
            ],
            [
             1,
             "#f0f921"
            ]
           ]
          },
          "colorway": [
           "#636efa",
           "#EF553B",
           "#00cc96",
           "#ab63fa",
           "#FFA15A",
           "#19d3f3",
           "#FF6692",
           "#B6E880",
           "#FF97FF",
           "#FECB52"
          ],
          "font": {
           "color": "#2a3f5f"
          },
          "geo": {
           "bgcolor": "white",
           "lakecolor": "white",
           "landcolor": "#E5ECF6",
           "showlakes": true,
           "showland": true,
           "subunitcolor": "white"
          },
          "hoverlabel": {
           "align": "left"
          },
          "hovermode": "closest",
          "mapbox": {
           "style": "light"
          },
          "paper_bgcolor": "white",
          "plot_bgcolor": "#E5ECF6",
          "polar": {
           "angularaxis": {
            "gridcolor": "white",
            "linecolor": "white",
            "ticks": ""
           },
           "bgcolor": "#E5ECF6",
           "radialaxis": {
            "gridcolor": "white",
            "linecolor": "white",
            "ticks": ""
           }
          },
          "scene": {
           "xaxis": {
            "backgroundcolor": "#E5ECF6",
            "gridcolor": "white",
            "gridwidth": 2,
            "linecolor": "white",
            "showbackground": true,
            "ticks": "",
            "zerolinecolor": "white"
           },
           "yaxis": {
            "backgroundcolor": "#E5ECF6",
            "gridcolor": "white",
            "gridwidth": 2,
            "linecolor": "white",
            "showbackground": true,
            "ticks": "",
            "zerolinecolor": "white"
           },
           "zaxis": {
            "backgroundcolor": "#E5ECF6",
            "gridcolor": "white",
            "gridwidth": 2,
            "linecolor": "white",
            "showbackground": true,
            "ticks": "",
            "zerolinecolor": "white"
           }
          },
          "shapedefaults": {
           "line": {
            "color": "#2a3f5f"
           }
          },
          "ternary": {
           "aaxis": {
            "gridcolor": "white",
            "linecolor": "white",
            "ticks": ""
           },
           "baxis": {
            "gridcolor": "white",
            "linecolor": "white",
            "ticks": ""
           },
           "bgcolor": "#E5ECF6",
           "caxis": {
            "gridcolor": "white",
            "linecolor": "white",
            "ticks": ""
           }
          },
          "title": {
           "x": 0.05
          },
          "xaxis": {
           "automargin": true,
           "gridcolor": "white",
           "linecolor": "white",
           "ticks": "",
           "title": {
            "standoff": 15
           },
           "zerolinecolor": "white",
           "zerolinewidth": 2
          },
          "yaxis": {
           "automargin": true,
           "gridcolor": "white",
           "linecolor": "white",
           "ticks": "",
           "title": {
            "standoff": 15
           },
           "zerolinecolor": "white",
           "zerolinewidth": 2
          }
         }
        },
        "title": {
         "text": "Distribution of Original and Discounted Prices per night for Each Snapshot Date"
        },
        "width": 1000,
        "xaxis": {
         "title": {
          "text": "Price per night"
         }
        },
        "yaxis": {
         "title": {
          "text": "Frequency"
         }
        }
       }
      }
     },
     "metadata": {},
     "output_type": "display_data"
    }
   ],
   "source": [
    "bookings['discounted_price_per_night'] = bookings['discounted_price'] / bookings['length_of_stay']\n",
    "bookings['original_price_per_night'] = bookings['original_price'] / bookings['length_of_stay']\n",
    "\n",
    "price_per_night_data = bookings.groupby(['name', 'snapshot_date'], as_index=False)[['original_price_per_night', 'discounted_price_per_night']].first()\n",
    "\n",
    "# Get unique snapshot dates\n",
    "snapshot_dates = price_per_night_data['snapshot_date'].unique()\n",
    "\n",
    "# Create subplots for each snapshot date\n",
    "fig = go.Figure()\n",
    "\n",
    "for date in snapshot_dates:\n",
    "    snapshot_prices = price_per_night_data[price_per_night_data['snapshot_date'] == date]\n",
    "    \n",
    "    fig.add_trace(go.Histogram(\n",
    "        x=snapshot_prices['original_price_per_night'].dropna(),\n",
    "        name=f\"Original Price per night - {date}\",\n",
    "        opacity=0.5\n",
    "    ))\n",
    "    \n",
    "    fig.add_trace(go.Histogram(\n",
    "        x=snapshot_prices['discounted_price_per_night'].dropna(),\n",
    "        name=f\"Discounted Price per night - {date}\",\n",
    "        opacity=0.3\n",
    "    ))\n",
    "\n",
    "# Update layout for better visualization\n",
    "fig.update_layout(\n",
    "    title=\"Distribution of Original and Discounted Prices per night for Each Snapshot Date\",\n",
    "    xaxis_title=\"Price per night\",\n",
    "    yaxis_title=\"Frequency\",\n",
    "    barmode='overlay',  # Ensures histograms overlap for comparison\n",
    "    legend_title=\"Snapshot Date & Price Type\",\n",
    "    width=1000,\n",
    "    height=600\n",
    ")\n",
    "\n",
    "# Show the interactive plot\n",
    "fig.show()"
   ]
  },
  {
   "cell_type": "markdown",
   "metadata": {},
   "source": [
    "The plot above reveals a **wide range** of hotel prices, extending beyond **$3000 per night**, indicating the presence of high-end luxury hotels. However, when focusing on the **main distribution**—excluding extreme outliers—it becomes clear that most hotels are priced **below $500 per night**, with a peak around **$150-$300**. This suggests that while premium listings exist, Booking.com primarily features mid-range accommodations.  "
   ]
  },
  {
   "cell_type": "markdown",
   "metadata": {},
   "source": [
    "### Filter outliers by price per night data"
   ]
  },
  {
   "cell_type": "code",
   "execution_count": null,
   "metadata": {},
   "outputs": [
    {
     "data": {
      "application/vnd.plotly.v1+json": {
       "config": {
        "plotlyServerURL": "https://plot.ly"
       },
       "data": [
        {
         "alignmentgroup": "True",
         "hovertemplate": "Price Type=original_price_per_night<br>Snapshot Date=%{x}<br>Price per Night=%{y}<extra></extra>",
         "legendgroup": "original_price_per_night",
         "marker": {
          "color": "#636efa"
         },
         "name": "original_price_per_night",
         "notched": false,
         "offsetgroup": "original_price_per_night",
         "orientation": "v",
         "showlegend": true,
         "type": "box",
         "x": [
          "2025-02-02",
          "2025-02-03",
          "2025-02-02",
          "2025-02-03",
          "2025-02-02",
          "2025-02-03",
          "2025-02-02",
          "2025-02-03",
          "2025-02-02",
          "2025-02-02",
          "2025-02-03",
          "2025-02-02",
          "2025-02-03",
          "2025-02-02",
          "2025-02-03",
          "2025-02-02",
          "2025-02-03",
          "2025-02-02",
          "2025-02-03",
          "2025-02-02",
          "2025-02-03",
          "2025-02-02",
          "2025-02-03",
          "2025-02-02",
          "2025-02-02",
          "2025-02-03",
          "2025-02-02",
          "2025-02-03",
          "2025-02-02",
          "2025-02-03",
          "2025-02-02",
          "2025-02-03",
          "2025-02-02",
          "2025-02-03",
          "2025-02-02",
          "2025-02-03",
          "2025-02-02",
          "2025-02-03",
          "2025-02-02",
          "2025-02-03",
          "2025-02-02",
          "2025-02-03",
          "2025-02-02",
          "2025-02-03",
          "2025-02-02",
          "2025-02-03",
          "2025-02-02",
          "2025-02-03",
          "2025-02-02",
          "2025-02-03",
          "2025-02-02",
          "2025-02-03",
          "2025-02-02",
          "2025-02-03",
          "2025-02-02",
          "2025-02-03",
          "2025-02-02",
          "2025-02-03",
          "2025-02-02",
          "2025-02-03",
          "2025-02-02",
          "2025-02-03",
          "2025-02-02",
          "2025-02-03",
          "2025-02-02",
          "2025-02-03",
          "2025-02-02",
          "2025-02-03",
          "2025-02-02",
          "2025-02-03",
          "2025-02-02",
          "2025-02-03",
          "2025-02-02",
          "2025-02-03",
          "2025-02-02",
          "2025-02-03",
          "2025-02-02",
          "2025-02-03",
          "2025-02-02",
          "2025-02-03",
          "2025-02-02",
          "2025-02-03",
          "2025-02-03",
          "2025-02-02",
          "2025-02-03",
          "2025-02-03",
          "2025-02-02",
          "2025-02-03",
          "2025-02-02",
          "2025-02-03",
          "2025-02-02",
          "2025-02-03",
          "2025-02-02",
          "2025-02-03",
          "2025-02-03",
          "2025-02-02",
          "2025-02-03",
          "2025-02-02",
          "2025-02-03",
          "2025-02-02",
          "2025-02-02",
          "2025-02-03",
          "2025-02-02",
          "2025-02-02",
          "2025-02-03",
          "2025-02-02",
          "2025-02-03",
          "2025-02-02",
          "2025-02-03",
          "2025-02-02",
          "2025-02-03",
          "2025-02-02",
          "2025-02-03",
          "2025-02-02",
          "2025-02-03",
          "2025-02-02",
          "2025-02-03",
          "2025-02-02",
          "2025-02-03",
          "2025-02-02",
          "2025-02-02",
          "2025-02-03",
          "2025-02-02",
          "2025-02-03",
          "2025-02-02",
          "2025-02-03",
          "2025-02-02",
          "2025-02-03",
          "2025-02-02",
          "2025-02-03",
          "2025-02-02",
          "2025-02-03",
          "2025-02-02",
          "2025-02-03",
          "2025-02-02",
          "2025-02-03",
          "2025-02-02",
          "2025-02-03",
          "2025-02-02",
          "2025-02-03",
          "2025-02-02",
          "2025-02-03",
          "2025-02-02",
          "2025-02-03",
          "2025-02-02",
          "2025-02-03",
          "2025-02-02",
          "2025-02-03",
          "2025-02-02",
          "2025-02-03",
          "2025-02-02",
          "2025-02-03",
          "2025-02-02",
          "2025-02-03",
          "2025-02-02",
          "2025-02-03",
          "2025-02-02",
          "2025-02-03",
          "2025-02-02",
          "2025-02-03",
          "2025-02-02",
          "2025-02-03",
          "2025-02-02",
          "2025-02-03",
          "2025-02-02",
          "2025-02-03",
          "2025-02-02",
          "2025-02-03",
          "2025-02-03",
          "2025-02-02",
          "2025-02-03",
          "2025-02-02",
          "2025-02-03",
          "2025-02-02",
          "2025-02-03",
          "2025-02-02",
          "2025-02-03",
          "2025-02-02",
          "2025-02-03",
          "2025-02-02",
          "2025-02-03",
          "2025-02-02",
          "2025-02-02",
          "2025-02-03",
          "2025-02-02",
          "2025-02-03",
          "2025-02-02",
          "2025-02-03",
          "2025-02-02",
          "2025-02-03",
          "2025-02-02",
          "2025-02-03",
          "2025-02-02",
          "2025-02-03",
          "2025-02-02",
          "2025-02-03",
          "2025-02-02",
          "2025-02-03",
          "2025-02-02",
          "2025-02-03",
          "2025-02-02",
          "2025-02-03",
          "2025-02-02",
          "2025-02-03",
          "2025-02-02",
          "2025-02-02",
          "2025-02-03",
          "2025-02-02",
          "2025-02-03",
          "2025-02-02",
          "2025-02-03",
          "2025-02-02",
          "2025-02-03",
          "2025-02-02",
          "2025-02-03",
          "2025-02-02",
          "2025-02-03",
          "2025-02-02",
          "2025-02-03",
          "2025-02-02",
          "2025-02-03",
          "2025-02-02",
          "2025-02-03",
          "2025-02-02",
          "2025-02-03",
          "2025-02-02",
          "2025-02-03",
          "2025-02-02",
          "2025-02-03",
          "2025-02-02",
          "2025-02-02",
          "2025-02-03",
          "2025-02-02",
          "2025-02-03",
          "2025-02-02",
          "2025-02-03",
          "2025-02-02",
          "2025-02-03",
          "2025-02-02",
          "2025-02-03",
          "2025-02-02",
          "2025-02-03",
          "2025-02-02",
          "2025-02-03",
          "2025-02-02",
          "2025-02-03",
          "2025-02-02",
          "2025-02-03",
          "2025-02-02",
          "2025-02-03",
          "2025-02-02",
          "2025-02-03",
          "2025-02-02",
          "2025-02-03",
          "2025-02-02",
          "2025-02-03",
          "2025-02-02",
          "2025-02-03",
          "2025-02-02",
          "2025-02-03",
          "2025-02-02",
          "2025-02-03",
          "2025-02-02",
          "2025-02-03",
          "2025-02-02",
          "2025-02-02",
          "2025-02-03",
          "2025-02-02",
          "2025-02-03",
          "2025-02-02",
          "2025-02-03",
          "2025-02-02",
          "2025-02-03",
          "2025-02-02",
          "2025-02-03",
          "2025-02-02",
          "2025-02-03",
          "2025-02-02",
          "2025-02-02",
          "2025-02-03",
          "2025-02-02",
          "2025-02-03",
          "2025-02-02",
          "2025-02-03",
          "2025-02-02",
          "2025-02-03",
          "2025-02-02",
          "2025-02-02",
          "2025-02-02",
          "2025-02-03",
          "2025-02-02",
          "2025-02-03",
          "2025-02-02",
          "2025-02-03",
          "2025-02-03",
          "2025-02-02",
          "2025-02-03",
          "2025-02-02",
          "2025-02-03",
          "2025-02-02",
          "2025-02-03",
          "2025-02-02",
          "2025-02-03",
          "2025-02-02",
          "2025-02-03",
          "2025-02-02",
          "2025-02-03",
          "2025-02-02",
          "2025-02-03",
          "2025-02-02",
          "2025-02-03",
          "2025-02-02",
          "2025-02-03",
          "2025-02-02",
          "2025-02-03",
          "2025-02-02",
          "2025-02-03",
          "2025-02-02",
          "2025-02-03",
          "2025-02-02",
          "2025-02-03",
          "2025-02-02",
          "2025-02-02",
          "2025-02-03",
          "2025-02-02",
          "2025-02-03",
          "2025-02-02",
          "2025-02-03",
          "2025-02-02",
          "2025-02-03",
          "2025-02-02",
          "2025-02-03",
          "2025-02-02",
          "2025-02-02",
          "2025-02-03",
          "2025-02-02",
          "2025-02-03",
          "2025-02-02",
          "2025-02-03",
          "2025-02-02",
          "2025-02-03",
          "2025-02-02",
          "2025-02-03",
          "2025-02-02",
          "2025-02-03",
          "2025-02-02",
          "2025-02-03",
          "2025-02-02",
          "2025-02-03",
          "2025-02-02",
          "2025-02-03",
          "2025-02-02",
          "2025-02-03",
          "2025-02-02",
          "2025-02-03",
          "2025-02-02",
          "2025-02-03",
          "2025-02-02",
          "2025-02-03",
          "2025-02-02",
          "2025-02-03",
          "2025-02-02",
          "2025-02-02",
          "2025-02-03",
          "2025-02-02",
          "2025-02-03",
          "2025-02-03",
          "2025-02-02",
          "2025-02-03",
          "2025-02-02",
          "2025-02-03",
          "2025-02-02",
          "2025-02-03",
          "2025-02-02",
          "2025-02-03",
          "2025-02-02",
          "2025-02-03",
          "2025-02-02",
          "2025-02-03",
          "2025-02-02",
          "2025-02-03",
          "2025-02-02",
          "2025-02-03",
          "2025-02-02",
          "2025-02-03",
          "2025-02-02",
          "2025-02-03",
          "2025-02-02",
          "2025-02-03",
          "2025-02-02",
          "2025-02-03",
          "2025-02-03",
          "2025-02-02",
          "2025-02-03",
          "2025-02-02",
          "2025-02-03",
          "2025-02-02",
          "2025-02-03",
          "2025-02-03",
          "2025-02-02",
          "2025-02-03",
          "2025-02-02",
          "2025-02-02",
          "2025-02-02",
          "2025-02-03",
          "2025-02-02",
          "2025-02-03",
          "2025-02-02",
          "2025-02-03",
          "2025-02-02",
          "2025-02-03",
          "2025-02-02",
          "2025-02-03",
          "2025-02-02",
          "2025-02-03",
          "2025-02-02",
          "2025-02-03",
          "2025-02-02",
          "2025-02-03",
          "2025-02-02",
          "2025-02-03",
          "2025-02-02",
          "2025-02-03",
          "2025-02-02",
          "2025-02-03",
          "2025-02-02",
          "2025-02-03",
          "2025-02-02",
          "2025-02-03",
          "2025-02-02",
          "2025-02-03",
          "2025-02-02",
          "2025-02-03",
          "2025-02-02",
          "2025-02-03",
          "2025-02-02",
          "2025-02-03",
          "2025-02-02",
          "2025-02-02",
          "2025-02-03",
          "2025-02-02",
          "2025-02-02",
          "2025-02-03",
          "2025-02-03",
          "2025-02-02",
          "2025-02-03",
          "2025-02-02",
          "2025-02-03",
          "2025-02-02",
          "2025-02-03",
          "2025-02-02",
          "2025-02-03",
          "2025-02-02",
          "2025-02-03",
          "2025-02-02",
          "2025-02-03",
          "2025-02-02",
          "2025-02-03",
          "2025-02-02",
          "2025-02-03",
          "2025-02-02",
          "2025-02-03",
          "2025-02-02",
          "2025-02-03",
          "2025-02-02",
          "2025-02-03",
          "2025-02-02",
          "2025-02-03",
          "2025-02-02",
          "2025-02-03",
          "2025-02-02",
          "2025-02-03",
          "2025-02-02",
          "2025-02-03",
          "2025-02-02",
          "2025-02-03",
          "2025-02-02",
          "2025-02-02",
          "2025-02-03",
          "2025-02-02",
          "2025-02-03",
          "2025-02-02",
          "2025-02-03",
          "2025-02-02",
          "2025-02-03",
          "2025-02-02",
          "2025-02-03",
          "2025-02-02",
          "2025-02-03",
          "2025-02-02",
          "2025-02-03",
          "2025-02-02",
          "2025-02-03",
          "2025-02-02",
          "2025-02-03",
          "2025-02-02",
          "2025-02-02",
          "2025-02-03",
          "2025-02-02",
          "2025-02-03",
          "2025-02-02",
          "2025-02-03",
          "2025-02-02",
          "2025-02-03",
          "2025-02-02",
          "2025-02-03",
          "2025-02-02",
          "2025-02-03",
          "2025-02-02",
          "2025-02-03",
          "2025-02-02",
          "2025-02-02",
          "2025-02-02",
          "2025-02-03",
          "2025-02-02",
          "2025-02-03",
          "2025-02-02",
          "2025-02-03",
          "2025-02-02",
          "2025-02-03",
          "2025-02-02",
          "2025-02-03",
          "2025-02-02",
          "2025-02-03",
          "2025-02-02",
          "2025-02-03",
          "2025-02-02",
          "2025-02-03",
          "2025-02-02",
          "2025-02-03",
          "2025-02-02",
          "2025-02-03",
          "2025-02-02",
          "2025-02-03",
          "2025-02-02",
          "2025-02-03",
          "2025-02-02",
          "2025-02-03",
          "2025-02-02",
          "2025-02-03",
          "2025-02-02",
          "2025-02-03",
          "2025-02-02",
          "2025-02-03",
          "2025-02-02",
          "2025-02-03",
          "2025-02-02",
          "2025-02-03",
          "2025-02-02",
          "2025-02-03",
          "2025-02-02",
          "2025-02-03",
          "2025-02-02",
          "2025-02-03",
          "2025-02-02",
          "2025-02-03",
          "2025-02-02",
          "2025-02-03",
          "2025-02-03",
          "2025-02-02",
          "2025-02-03",
          "2025-02-03",
          "2025-02-02",
          "2025-02-02",
          "2025-02-03",
          "2025-02-02",
          "2025-02-03",
          "2025-02-02",
          "2025-02-03",
          "2025-02-02",
          "2025-02-03",
          "2025-02-02",
          "2025-02-03",
          "2025-02-02",
          "2025-02-03",
          "2025-02-02",
          "2025-02-03",
          "2025-02-02",
          "2025-02-03",
          "2025-02-02",
          "2025-02-02",
          "2025-02-03",
          "2025-02-02",
          "2025-02-03",
          "2025-02-02",
          "2025-02-03",
          "2025-02-02",
          "2025-02-03",
          "2025-02-02",
          "2025-02-03",
          "2025-02-02",
          "2025-02-03",
          "2025-02-02",
          "2025-02-03",
          "2025-02-02",
          "2025-02-03",
          "2025-02-02",
          "2025-02-03",
          "2025-02-02",
          "2025-02-03",
          "2025-02-02",
          "2025-02-03",
          "2025-02-02",
          "2025-02-03",
          "2025-02-02",
          "2025-02-03",
          "2025-02-02",
          "2025-02-03",
          "2025-02-02",
          "2025-02-03",
          "2025-02-02",
          "2025-02-03",
          "2025-02-02",
          "2025-02-02",
          "2025-02-03",
          "2025-02-02",
          "2025-02-03",
          "2025-02-02",
          "2025-02-03",
          "2025-02-03",
          "2025-02-02",
          "2025-02-03",
          "2025-02-02",
          "2025-02-03",
          "2025-02-02",
          "2025-02-03",
          "2025-02-02",
          "2025-02-03",
          "2025-02-02",
          "2025-02-03",
          "2025-02-03",
          "2025-02-02",
          "2025-02-03",
          "2025-02-02",
          "2025-02-03",
          "2025-02-02",
          "2025-02-03",
          "2025-02-02",
          "2025-02-03",
          "2025-02-02",
          "2025-02-03",
          "2025-02-02",
          "2025-02-03",
          "2025-02-02",
          "2025-02-03",
          "2025-02-02",
          "2025-02-03",
          "2025-02-02",
          "2025-02-03",
          "2025-02-02",
          "2025-02-03",
          "2025-02-03",
          "2025-02-02",
          "2025-02-03",
          "2025-02-02",
          "2025-02-03",
          "2025-02-03",
          "2025-02-02",
          "2025-02-03",
          "2025-02-02",
          "2025-02-03",
          "2025-02-03",
          "2025-02-02",
          "2025-02-03",
          "2025-02-02",
          "2025-02-03",
          "2025-02-02",
          "2025-02-03",
          "2025-02-02",
          "2025-02-03",
          "2025-02-02",
          "2025-02-02",
          "2025-02-03",
          "2025-02-02",
          "2025-02-02",
          "2025-02-02",
          "2025-02-03",
          "2025-02-02",
          "2025-02-03",
          "2025-02-02",
          "2025-02-02",
          "2025-02-03",
          "2025-02-02",
          "2025-02-03",
          "2025-02-02",
          "2025-02-03",
          "2025-02-02",
          "2025-02-03",
          "2025-02-03",
          "2025-02-02",
          "2025-02-03",
          "2025-02-02",
          "2025-02-03",
          "2025-02-02",
          "2025-02-03",
          "2025-02-02",
          "2025-02-03",
          "2025-02-02",
          "2025-02-03",
          "2025-02-02",
          "2025-02-03",
          "2025-02-02",
          "2025-02-03",
          "2025-02-02",
          "2025-02-03",
          "2025-02-02",
          "2025-02-03",
          "2025-02-02",
          "2025-02-02",
          "2025-02-03",
          "2025-02-02",
          "2025-02-03",
          "2025-02-02",
          "2025-02-03",
          "2025-02-02",
          "2025-02-03"
         ],
         "x0": " ",
         "xaxis": "x",
         "y": {
          "bdata": "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",
          "dtype": "f8"
         },
         "y0": " ",
         "yaxis": "y"
        },
        {
         "alignmentgroup": "True",
         "hovertemplate": "Price Type=discounted_price_per_night<br>Snapshot Date=%{x}<br>Price per Night=%{y}<extra></extra>",
         "legendgroup": "discounted_price_per_night",
         "marker": {
          "color": "#EF553B"
         },
         "name": "discounted_price_per_night",
         "notched": false,
         "offsetgroup": "discounted_price_per_night",
         "orientation": "v",
         "showlegend": true,
         "type": "box",
         "x": [
          "2025-02-02",
          "2025-02-03",
          "2025-02-02",
          "2025-02-03",
          "2025-02-02",
          "2025-02-03",
          "2025-02-02",
          "2025-02-03",
          "2025-02-02",
          "2025-02-02",
          "2025-02-03",
          "2025-02-02",
          "2025-02-03",
          "2025-02-02",
          "2025-02-03",
          "2025-02-02",
          "2025-02-03",
          "2025-02-02",
          "2025-02-03",
          "2025-02-02",
          "2025-02-03",
          "2025-02-02",
          "2025-02-03",
          "2025-02-02",
          "2025-02-02",
          "2025-02-03",
          "2025-02-02",
          "2025-02-03",
          "2025-02-02",
          "2025-02-03",
          "2025-02-02",
          "2025-02-03",
          "2025-02-02",
          "2025-02-03",
          "2025-02-02",
          "2025-02-03",
          "2025-02-02",
          "2025-02-03",
          "2025-02-02",
          "2025-02-03",
          "2025-02-02",
          "2025-02-03",
          "2025-02-02",
          "2025-02-03",
          "2025-02-02",
          "2025-02-03",
          "2025-02-02",
          "2025-02-03",
          "2025-02-02",
          "2025-02-03",
          "2025-02-02",
          "2025-02-03",
          "2025-02-02",
          "2025-02-03",
          "2025-02-02",
          "2025-02-03",
          "2025-02-02",
          "2025-02-03",
          "2025-02-02",
          "2025-02-03",
          "2025-02-02",
          "2025-02-03",
          "2025-02-02",
          "2025-02-03",
          "2025-02-02",
          "2025-02-03",
          "2025-02-02",
          "2025-02-03",
          "2025-02-02",
          "2025-02-03",
          "2025-02-02",
          "2025-02-03",
          "2025-02-02",
          "2025-02-03",
          "2025-02-02",
          "2025-02-03",
          "2025-02-02",
          "2025-02-03",
          "2025-02-02",
          "2025-02-03",
          "2025-02-02",
          "2025-02-03",
          "2025-02-03",
          "2025-02-02",
          "2025-02-03",
          "2025-02-03",
          "2025-02-02",
          "2025-02-03",
          "2025-02-02",
          "2025-02-03",
          "2025-02-02",
          "2025-02-03",
          "2025-02-02",
          "2025-02-03",
          "2025-02-03",
          "2025-02-02",
          "2025-02-03",
          "2025-02-02",
          "2025-02-03",
          "2025-02-02",
          "2025-02-02",
          "2025-02-03",
          "2025-02-02",
          "2025-02-02",
          "2025-02-03",
          "2025-02-02",
          "2025-02-03",
          "2025-02-02",
          "2025-02-03",
          "2025-02-02",
          "2025-02-03",
          "2025-02-02",
          "2025-02-03",
          "2025-02-02",
          "2025-02-03",
          "2025-02-02",
          "2025-02-03",
          "2025-02-02",
          "2025-02-03",
          "2025-02-02",
          "2025-02-02",
          "2025-02-03",
          "2025-02-02",
          "2025-02-03",
          "2025-02-02",
          "2025-02-03",
          "2025-02-02",
          "2025-02-03",
          "2025-02-02",
          "2025-02-03",
          "2025-02-02",
          "2025-02-03",
          "2025-02-02",
          "2025-02-03",
          "2025-02-02",
          "2025-02-03",
          "2025-02-02",
          "2025-02-03",
          "2025-02-02",
          "2025-02-03",
          "2025-02-02",
          "2025-02-03",
          "2025-02-02",
          "2025-02-03",
          "2025-02-02",
          "2025-02-03",
          "2025-02-02",
          "2025-02-03",
          "2025-02-02",
          "2025-02-03",
          "2025-02-02",
          "2025-02-03",
          "2025-02-02",
          "2025-02-03",
          "2025-02-02",
          "2025-02-03",
          "2025-02-02",
          "2025-02-03",
          "2025-02-02",
          "2025-02-03",
          "2025-02-02",
          "2025-02-03",
          "2025-02-02",
          "2025-02-03",
          "2025-02-02",
          "2025-02-03",
          "2025-02-02",
          "2025-02-03",
          "2025-02-03",
          "2025-02-02",
          "2025-02-03",
          "2025-02-02",
          "2025-02-03",
          "2025-02-02",
          "2025-02-03",
          "2025-02-02",
          "2025-02-03",
          "2025-02-02",
          "2025-02-03",
          "2025-02-02",
          "2025-02-03",
          "2025-02-02",
          "2025-02-02",
          "2025-02-03",
          "2025-02-02",
          "2025-02-03",
          "2025-02-02",
          "2025-02-03",
          "2025-02-02",
          "2025-02-03",
          "2025-02-02",
          "2025-02-03",
          "2025-02-02",
          "2025-02-03",
          "2025-02-02",
          "2025-02-03",
          "2025-02-02",
          "2025-02-03",
          "2025-02-02",
          "2025-02-03",
          "2025-02-02",
          "2025-02-03",
          "2025-02-02",
          "2025-02-03",
          "2025-02-02",
          "2025-02-02",
          "2025-02-03",
          "2025-02-02",
          "2025-02-03",
          "2025-02-02",
          "2025-02-03",
          "2025-02-02",
          "2025-02-03",
          "2025-02-02",
          "2025-02-03",
          "2025-02-02",
          "2025-02-03",
          "2025-02-02",
          "2025-02-03",
          "2025-02-02",
          "2025-02-03",
          "2025-02-02",
          "2025-02-03",
          "2025-02-02",
          "2025-02-03",
          "2025-02-02",
          "2025-02-03",
          "2025-02-02",
          "2025-02-03",
          "2025-02-02",
          "2025-02-02",
          "2025-02-03",
          "2025-02-02",
          "2025-02-03",
          "2025-02-02",
          "2025-02-03",
          "2025-02-02",
          "2025-02-03",
          "2025-02-02",
          "2025-02-03",
          "2025-02-02",
          "2025-02-03",
          "2025-02-02",
          "2025-02-03",
          "2025-02-02",
          "2025-02-03",
          "2025-02-02",
          "2025-02-03",
          "2025-02-02",
          "2025-02-03",
          "2025-02-02",
          "2025-02-03",
          "2025-02-02",
          "2025-02-03",
          "2025-02-02",
          "2025-02-03",
          "2025-02-02",
          "2025-02-03",
          "2025-02-02",
          "2025-02-03",
          "2025-02-02",
          "2025-02-03",
          "2025-02-02",
          "2025-02-03",
          "2025-02-02",
          "2025-02-02",
          "2025-02-03",
          "2025-02-02",
          "2025-02-03",
          "2025-02-02",
          "2025-02-03",
          "2025-02-02",
          "2025-02-03",
          "2025-02-02",
          "2025-02-03",
          "2025-02-02",
          "2025-02-03",
          "2025-02-02",
          "2025-02-02",
          "2025-02-03",
          "2025-02-02",
          "2025-02-03",
          "2025-02-02",
          "2025-02-03",
          "2025-02-02",
          "2025-02-03",
          "2025-02-02",
          "2025-02-02",
          "2025-02-02",
          "2025-02-03",
          "2025-02-02",
          "2025-02-03",
          "2025-02-02",
          "2025-02-03",
          "2025-02-03",
          "2025-02-02",
          "2025-02-03",
          "2025-02-02",
          "2025-02-03",
          "2025-02-02",
          "2025-02-03",
          "2025-02-02",
          "2025-02-03",
          "2025-02-02",
          "2025-02-03",
          "2025-02-02",
          "2025-02-03",
          "2025-02-02",
          "2025-02-03",
          "2025-02-02",
          "2025-02-03",
          "2025-02-02",
          "2025-02-03",
          "2025-02-02",
          "2025-02-03",
          "2025-02-02",
          "2025-02-03",
          "2025-02-02",
          "2025-02-03",
          "2025-02-02",
          "2025-02-03",
          "2025-02-02",
          "2025-02-02",
          "2025-02-03",
          "2025-02-02",
          "2025-02-03",
          "2025-02-02",
          "2025-02-03",
          "2025-02-02",
          "2025-02-03",
          "2025-02-02",
          "2025-02-03",
          "2025-02-02",
          "2025-02-02",
          "2025-02-03",
          "2025-02-02",
          "2025-02-03",
          "2025-02-02",
          "2025-02-03",
          "2025-02-02",
          "2025-02-03",
          "2025-02-02",
          "2025-02-03",
          "2025-02-02",
          "2025-02-03",
          "2025-02-02",
          "2025-02-03",
          "2025-02-02",
          "2025-02-03",
          "2025-02-02",
          "2025-02-03",
          "2025-02-02",
          "2025-02-03",
          "2025-02-02",
          "2025-02-03",
          "2025-02-02",
          "2025-02-03",
          "2025-02-02",
          "2025-02-03",
          "2025-02-02",
          "2025-02-03",
          "2025-02-02",
          "2025-02-02",
          "2025-02-03",
          "2025-02-02",
          "2025-02-03",
          "2025-02-03",
          "2025-02-02",
          "2025-02-03",
          "2025-02-02",
          "2025-02-03",
          "2025-02-02",
          "2025-02-03",
          "2025-02-02",
          "2025-02-03",
          "2025-02-02",
          "2025-02-03",
          "2025-02-02",
          "2025-02-03",
          "2025-02-02",
          "2025-02-03",
          "2025-02-02",
          "2025-02-03",
          "2025-02-02",
          "2025-02-03",
          "2025-02-02",
          "2025-02-03",
          "2025-02-02",
          "2025-02-03",
          "2025-02-02",
          "2025-02-03",
          "2025-02-03",
          "2025-02-02",
          "2025-02-03",
          "2025-02-02",
          "2025-02-03",
          "2025-02-02",
          "2025-02-03",
          "2025-02-03",
          "2025-02-02",
          "2025-02-03",
          "2025-02-02",
          "2025-02-02",
          "2025-02-02",
          "2025-02-03",
          "2025-02-02",
          "2025-02-03",
          "2025-02-02",
          "2025-02-03",
          "2025-02-02",
          "2025-02-03",
          "2025-02-02",
          "2025-02-03",
          "2025-02-02",
          "2025-02-03",
          "2025-02-02",
          "2025-02-03",
          "2025-02-02",
          "2025-02-03",
          "2025-02-02",
          "2025-02-03",
          "2025-02-02",
          "2025-02-03",
          "2025-02-02",
          "2025-02-03",
          "2025-02-02",
          "2025-02-03",
          "2025-02-02",
          "2025-02-03",
          "2025-02-02",
          "2025-02-03",
          "2025-02-02",
          "2025-02-03",
          "2025-02-02",
          "2025-02-03",
          "2025-02-02",
          "2025-02-03",
          "2025-02-02",
          "2025-02-02",
          "2025-02-03",
          "2025-02-02",
          "2025-02-02",
          "2025-02-03",
          "2025-02-03",
          "2025-02-02",
          "2025-02-03",
          "2025-02-02",
          "2025-02-03",
          "2025-02-02",
          "2025-02-03",
          "2025-02-02",
          "2025-02-03",
          "2025-02-02",
          "2025-02-03",
          "2025-02-02",
          "2025-02-03",
          "2025-02-02",
          "2025-02-03",
          "2025-02-02",
          "2025-02-03",
          "2025-02-02",
          "2025-02-03",
          "2025-02-02",
          "2025-02-03",
          "2025-02-02",
          "2025-02-03",
          "2025-02-02",
          "2025-02-03",
          "2025-02-02",
          "2025-02-03",
          "2025-02-02",
          "2025-02-03",
          "2025-02-02",
          "2025-02-03",
          "2025-02-02",
          "2025-02-03",
          "2025-02-02",
          "2025-02-02",
          "2025-02-03",
          "2025-02-02",
          "2025-02-03",
          "2025-02-02",
          "2025-02-03",
          "2025-02-02",
          "2025-02-03",
          "2025-02-02",
          "2025-02-03",
          "2025-02-02",
          "2025-02-03",
          "2025-02-02",
          "2025-02-03",
          "2025-02-02",
          "2025-02-03",
          "2025-02-02",
          "2025-02-03",
          "2025-02-02",
          "2025-02-02",
          "2025-02-03",
          "2025-02-02",
          "2025-02-03",
          "2025-02-02",
          "2025-02-03",
          "2025-02-02",
          "2025-02-03",
          "2025-02-02",
          "2025-02-03",
          "2025-02-02",
          "2025-02-03",
          "2025-02-02",
          "2025-02-03",
          "2025-02-02",
          "2025-02-02",
          "2025-02-02",
          "2025-02-03",
          "2025-02-02",
          "2025-02-03",
          "2025-02-02",
          "2025-02-03",
          "2025-02-02",
          "2025-02-03",
          "2025-02-02",
          "2025-02-03",
          "2025-02-02",
          "2025-02-03",
          "2025-02-02",
          "2025-02-03",
          "2025-02-02",
          "2025-02-03",
          "2025-02-02",
          "2025-02-03",
          "2025-02-02",
          "2025-02-03",
          "2025-02-02",
          "2025-02-03",
          "2025-02-02",
          "2025-02-03",
          "2025-02-02",
          "2025-02-03",
          "2025-02-02",
          "2025-02-03",
          "2025-02-02",
          "2025-02-03",
          "2025-02-02",
          "2025-02-03",
          "2025-02-02",
          "2025-02-03",
          "2025-02-02",
          "2025-02-03",
          "2025-02-02",
          "2025-02-03",
          "2025-02-02",
          "2025-02-03",
          "2025-02-02",
          "2025-02-03",
          "2025-02-02",
          "2025-02-03",
          "2025-02-02",
          "2025-02-03",
          "2025-02-03",
          "2025-02-02",
          "2025-02-03",
          "2025-02-03",
          "2025-02-02",
          "2025-02-02",
          "2025-02-03",
          "2025-02-02",
          "2025-02-03",
          "2025-02-02",
          "2025-02-03",
          "2025-02-02",
          "2025-02-03",
          "2025-02-02",
          "2025-02-03",
          "2025-02-02",
          "2025-02-03",
          "2025-02-02",
          "2025-02-03",
          "2025-02-02",
          "2025-02-03",
          "2025-02-02",
          "2025-02-02",
          "2025-02-03",
          "2025-02-02",
          "2025-02-03",
          "2025-02-02",
          "2025-02-03",
          "2025-02-02",
          "2025-02-03",
          "2025-02-02",
          "2025-02-03",
          "2025-02-02",
          "2025-02-03",
          "2025-02-02",
          "2025-02-03",
          "2025-02-02",
          "2025-02-03",
          "2025-02-02",
          "2025-02-03",
          "2025-02-02",
          "2025-02-03",
          "2025-02-02",
          "2025-02-03",
          "2025-02-02",
          "2025-02-03",
          "2025-02-02",
          "2025-02-03",
          "2025-02-02",
          "2025-02-03",
          "2025-02-02",
          "2025-02-03",
          "2025-02-02",
          "2025-02-03",
          "2025-02-02",
          "2025-02-02",
          "2025-02-03",
          "2025-02-02",
          "2025-02-03",
          "2025-02-02",
          "2025-02-03",
          "2025-02-03",
          "2025-02-02",
          "2025-02-03",
          "2025-02-02",
          "2025-02-03",
          "2025-02-02",
          "2025-02-03",
          "2025-02-02",
          "2025-02-03",
          "2025-02-02",
          "2025-02-03",
          "2025-02-03",
          "2025-02-02",
          "2025-02-03",
          "2025-02-02",
          "2025-02-03",
          "2025-02-02",
          "2025-02-03",
          "2025-02-02",
          "2025-02-03",
          "2025-02-02",
          "2025-02-03",
          "2025-02-02",
          "2025-02-03",
          "2025-02-02",
          "2025-02-03",
          "2025-02-02",
          "2025-02-03",
          "2025-02-02",
          "2025-02-03",
          "2025-02-02",
          "2025-02-03",
          "2025-02-03",
          "2025-02-02",
          "2025-02-03",
          "2025-02-02",
          "2025-02-03",
          "2025-02-03",
          "2025-02-02",
          "2025-02-03",
          "2025-02-02",
          "2025-02-03",
          "2025-02-03",
          "2025-02-02",
          "2025-02-03",
          "2025-02-02",
          "2025-02-03",
          "2025-02-02",
          "2025-02-03",
          "2025-02-02",
          "2025-02-03",
          "2025-02-02",
          "2025-02-02",
          "2025-02-03",
          "2025-02-02",
          "2025-02-02",
          "2025-02-02",
          "2025-02-03",
          "2025-02-02",
          "2025-02-03",
          "2025-02-02",
          "2025-02-02",
          "2025-02-03",
          "2025-02-02",
          "2025-02-03",
          "2025-02-02",
          "2025-02-03",
          "2025-02-02",
          "2025-02-03",
          "2025-02-03",
          "2025-02-02",
          "2025-02-03",
          "2025-02-02",
          "2025-02-03",
          "2025-02-02",
          "2025-02-03",
          "2025-02-02",
          "2025-02-03",
          "2025-02-02",
          "2025-02-03",
          "2025-02-02",
          "2025-02-03",
          "2025-02-02",
          "2025-02-03",
          "2025-02-02",
          "2025-02-03",
          "2025-02-02",
          "2025-02-03",
          "2025-02-02",
          "2025-02-02",
          "2025-02-03",
          "2025-02-02",
          "2025-02-03",
          "2025-02-02",
          "2025-02-03",
          "2025-02-02",
          "2025-02-03"
         ],
         "x0": " ",
         "xaxis": "x",
         "y": {
          "bdata": "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",
          "dtype": "f8"
         },
         "y0": " ",
         "yaxis": "y"
        }
       ],
       "layout": {
        "boxmode": "group",
        "height": 600,
        "legend": {
         "title": {
          "text": "Price Type"
         },
         "tracegroupgap": 0
        },
        "template": {
         "data": {
          "bar": [
           {
            "error_x": {
             "color": "#2a3f5f"
            },
            "error_y": {
             "color": "#2a3f5f"
            },
            "marker": {
             "line": {
              "color": "#E5ECF6",
              "width": 0.5
             },
             "pattern": {
              "fillmode": "overlay",
              "size": 10,
              "solidity": 0.2
             }
            },
            "type": "bar"
           }
          ],
          "barpolar": [
           {
            "marker": {
             "line": {
              "color": "#E5ECF6",
              "width": 0.5
             },
             "pattern": {
              "fillmode": "overlay",
              "size": 10,
              "solidity": 0.2
             }
            },
            "type": "barpolar"
           }
          ],
          "carpet": [
           {
            "aaxis": {
             "endlinecolor": "#2a3f5f",
             "gridcolor": "white",
             "linecolor": "white",
             "minorgridcolor": "white",
             "startlinecolor": "#2a3f5f"
            },
            "baxis": {
             "endlinecolor": "#2a3f5f",
             "gridcolor": "white",
             "linecolor": "white",
             "minorgridcolor": "white",
             "startlinecolor": "#2a3f5f"
            },
            "type": "carpet"
           }
          ],
          "choropleth": [
           {
            "colorbar": {
             "outlinewidth": 0,
             "ticks": ""
            },
            "type": "choropleth"
           }
          ],
          "contour": [
           {
            "colorbar": {
             "outlinewidth": 0,
             "ticks": ""
            },
            "colorscale": [
             [
              0,
              "#0d0887"
             ],
             [
              0.1111111111111111,
              "#46039f"
             ],
             [
              0.2222222222222222,
              "#7201a8"
             ],
             [
              0.3333333333333333,
              "#9c179e"
             ],
             [
              0.4444444444444444,
              "#bd3786"
             ],
             [
              0.5555555555555556,
              "#d8576b"
             ],
             [
              0.6666666666666666,
              "#ed7953"
             ],
             [
              0.7777777777777778,
              "#fb9f3a"
             ],
             [
              0.8888888888888888,
              "#fdca26"
             ],
             [
              1,
              "#f0f921"
             ]
            ],
            "type": "contour"
           }
          ],
          "contourcarpet": [
           {
            "colorbar": {
             "outlinewidth": 0,
             "ticks": ""
            },
            "type": "contourcarpet"
           }
          ],
          "heatmap": [
           {
            "colorbar": {
             "outlinewidth": 0,
             "ticks": ""
            },
            "colorscale": [
             [
              0,
              "#0d0887"
             ],
             [
              0.1111111111111111,
              "#46039f"
             ],
             [
              0.2222222222222222,
              "#7201a8"
             ],
             [
              0.3333333333333333,
              "#9c179e"
             ],
             [
              0.4444444444444444,
              "#bd3786"
             ],
             [
              0.5555555555555556,
              "#d8576b"
             ],
             [
              0.6666666666666666,
              "#ed7953"
             ],
             [
              0.7777777777777778,
              "#fb9f3a"
             ],
             [
              0.8888888888888888,
              "#fdca26"
             ],
             [
              1,
              "#f0f921"
             ]
            ],
            "type": "heatmap"
           }
          ],
          "histogram": [
           {
            "marker": {
             "pattern": {
              "fillmode": "overlay",
              "size": 10,
              "solidity": 0.2
             }
            },
            "type": "histogram"
           }
          ],
          "histogram2d": [
           {
            "colorbar": {
             "outlinewidth": 0,
             "ticks": ""
            },
            "colorscale": [
             [
              0,
              "#0d0887"
             ],
             [
              0.1111111111111111,
              "#46039f"
             ],
             [
              0.2222222222222222,
              "#7201a8"
             ],
             [
              0.3333333333333333,
              "#9c179e"
             ],
             [
              0.4444444444444444,
              "#bd3786"
             ],
             [
              0.5555555555555556,
              "#d8576b"
             ],
             [
              0.6666666666666666,
              "#ed7953"
             ],
             [
              0.7777777777777778,
              "#fb9f3a"
             ],
             [
              0.8888888888888888,
              "#fdca26"
             ],
             [
              1,
              "#f0f921"
             ]
            ],
            "type": "histogram2d"
           }
          ],
          "histogram2dcontour": [
           {
            "colorbar": {
             "outlinewidth": 0,
             "ticks": ""
            },
            "colorscale": [
             [
              0,
              "#0d0887"
             ],
             [
              0.1111111111111111,
              "#46039f"
             ],
             [
              0.2222222222222222,
              "#7201a8"
             ],
             [
              0.3333333333333333,
              "#9c179e"
             ],
             [
              0.4444444444444444,
              "#bd3786"
             ],
             [
              0.5555555555555556,
              "#d8576b"
             ],
             [
              0.6666666666666666,
              "#ed7953"
             ],
             [
              0.7777777777777778,
              "#fb9f3a"
             ],
             [
              0.8888888888888888,
              "#fdca26"
             ],
             [
              1,
              "#f0f921"
             ]
            ],
            "type": "histogram2dcontour"
           }
          ],
          "mesh3d": [
           {
            "colorbar": {
             "outlinewidth": 0,
             "ticks": ""
            },
            "type": "mesh3d"
           }
          ],
          "parcoords": [
           {
            "line": {
             "colorbar": {
              "outlinewidth": 0,
              "ticks": ""
             }
            },
            "type": "parcoords"
           }
          ],
          "pie": [
           {
            "automargin": true,
            "type": "pie"
           }
          ],
          "scatter": [
           {
            "fillpattern": {
             "fillmode": "overlay",
             "size": 10,
             "solidity": 0.2
            },
            "type": "scatter"
           }
          ],
          "scatter3d": [
           {
            "line": {
             "colorbar": {
              "outlinewidth": 0,
              "ticks": ""
             }
            },
            "marker": {
             "colorbar": {
              "outlinewidth": 0,
              "ticks": ""
             }
            },
            "type": "scatter3d"
           }
          ],
          "scattercarpet": [
           {
            "marker": {
             "colorbar": {
              "outlinewidth": 0,
              "ticks": ""
             }
            },
            "type": "scattercarpet"
           }
          ],
          "scattergeo": [
           {
            "marker": {
             "colorbar": {
              "outlinewidth": 0,
              "ticks": ""
             }
            },
            "type": "scattergeo"
           }
          ],
          "scattergl": [
           {
            "marker": {
             "colorbar": {
              "outlinewidth": 0,
              "ticks": ""
             }
            },
            "type": "scattergl"
           }
          ],
          "scattermap": [
           {
            "marker": {
             "colorbar": {
              "outlinewidth": 0,
              "ticks": ""
             }
            },
            "type": "scattermap"
           }
          ],
          "scattermapbox": [
           {
            "marker": {
             "colorbar": {
              "outlinewidth": 0,
              "ticks": ""
             }
            },
            "type": "scattermapbox"
           }
          ],
          "scatterpolar": [
           {
            "marker": {
             "colorbar": {
              "outlinewidth": 0,
              "ticks": ""
             }
            },
            "type": "scatterpolar"
           }
          ],
          "scatterpolargl": [
           {
            "marker": {
             "colorbar": {
              "outlinewidth": 0,
              "ticks": ""
             }
            },
            "type": "scatterpolargl"
           }
          ],
          "scatterternary": [
           {
            "marker": {
             "colorbar": {
              "outlinewidth": 0,
              "ticks": ""
             }
            },
            "type": "scatterternary"
           }
          ],
          "surface": [
           {
            "colorbar": {
             "outlinewidth": 0,
             "ticks": ""
            },
            "colorscale": [
             [
              0,
              "#0d0887"
             ],
             [
              0.1111111111111111,
              "#46039f"
             ],
             [
              0.2222222222222222,
              "#7201a8"
             ],
             [
              0.3333333333333333,
              "#9c179e"
             ],
             [
              0.4444444444444444,
              "#bd3786"
             ],
             [
              0.5555555555555556,
              "#d8576b"
             ],
             [
              0.6666666666666666,
              "#ed7953"
             ],
             [
              0.7777777777777778,
              "#fb9f3a"
             ],
             [
              0.8888888888888888,
              "#fdca26"
             ],
             [
              1,
              "#f0f921"
             ]
            ],
            "type": "surface"
           }
          ],
          "table": [
           {
            "cells": {
             "fill": {
              "color": "#EBF0F8"
             },
             "line": {
              "color": "white"
             }
            },
            "header": {
             "fill": {
              "color": "#C8D4E3"
             },
             "line": {
              "color": "white"
             }
            },
            "type": "table"
           }
          ]
         },
         "layout": {
          "annotationdefaults": {
           "arrowcolor": "#2a3f5f",
           "arrowhead": 0,
           "arrowwidth": 1
          },
          "autotypenumbers": "strict",
          "coloraxis": {
           "colorbar": {
            "outlinewidth": 0,
            "ticks": ""
           }
          },
          "colorscale": {
           "diverging": [
            [
             0,
             "#8e0152"
            ],
            [
             0.1,
             "#c51b7d"
            ],
            [
             0.2,
             "#de77ae"
            ],
            [
             0.3,
             "#f1b6da"
            ],
            [
             0.4,
             "#fde0ef"
            ],
            [
             0.5,
             "#f7f7f7"
            ],
            [
             0.6,
             "#e6f5d0"
            ],
            [
             0.7,
             "#b8e186"
            ],
            [
             0.8,
             "#7fbc41"
            ],
            [
             0.9,
             "#4d9221"
            ],
            [
             1,
             "#276419"
            ]
           ],
           "sequential": [
            [
             0,
             "#0d0887"
            ],
            [
             0.1111111111111111,
             "#46039f"
            ],
            [
             0.2222222222222222,
             "#7201a8"
            ],
            [
             0.3333333333333333,
             "#9c179e"
            ],
            [
             0.4444444444444444,
             "#bd3786"
            ],
            [
             0.5555555555555556,
             "#d8576b"
            ],
            [
             0.6666666666666666,
             "#ed7953"
            ],
            [
             0.7777777777777778,
             "#fb9f3a"
            ],
            [
             0.8888888888888888,
             "#fdca26"
            ],
            [
             1,
             "#f0f921"
            ]
           ],
           "sequentialminus": [
            [
             0,
             "#0d0887"
            ],
            [
             0.1111111111111111,
             "#46039f"
            ],
            [
             0.2222222222222222,
             "#7201a8"
            ],
            [
             0.3333333333333333,
             "#9c179e"
            ],
            [
             0.4444444444444444,
             "#bd3786"
            ],
            [
             0.5555555555555556,
             "#d8576b"
            ],
            [
             0.6666666666666666,
             "#ed7953"
            ],
            [
             0.7777777777777778,
             "#fb9f3a"
            ],
            [
             0.8888888888888888,
             "#fdca26"
            ],
            [
             1,
             "#f0f921"
            ]
           ]
          },
          "colorway": [
           "#636efa",
           "#EF553B",
           "#00cc96",
           "#ab63fa",
           "#FFA15A",
           "#19d3f3",
           "#FF6692",
           "#B6E880",
           "#FF97FF",
           "#FECB52"
          ],
          "font": {
           "color": "#2a3f5f"
          },
          "geo": {
           "bgcolor": "white",
           "lakecolor": "white",
           "landcolor": "#E5ECF6",
           "showlakes": true,
           "showland": true,
           "subunitcolor": "white"
          },
          "hoverlabel": {
           "align": "left"
          },
          "hovermode": "closest",
          "mapbox": {
           "style": "light"
          },
          "paper_bgcolor": "white",
          "plot_bgcolor": "#E5ECF6",
          "polar": {
           "angularaxis": {
            "gridcolor": "white",
            "linecolor": "white",
            "ticks": ""
           },
           "bgcolor": "#E5ECF6",
           "radialaxis": {
            "gridcolor": "white",
            "linecolor": "white",
            "ticks": ""
           }
          },
          "scene": {
           "xaxis": {
            "backgroundcolor": "#E5ECF6",
            "gridcolor": "white",
            "gridwidth": 2,
            "linecolor": "white",
            "showbackground": true,
            "ticks": "",
            "zerolinecolor": "white"
           },
           "yaxis": {
            "backgroundcolor": "#E5ECF6",
            "gridcolor": "white",
            "gridwidth": 2,
            "linecolor": "white",
            "showbackground": true,
            "ticks": "",
            "zerolinecolor": "white"
           },
           "zaxis": {
            "backgroundcolor": "#E5ECF6",
            "gridcolor": "white",
            "gridwidth": 2,
            "linecolor": "white",
            "showbackground": true,
            "ticks": "",
            "zerolinecolor": "white"
           }
          },
          "shapedefaults": {
           "line": {
            "color": "#2a3f5f"
           }
          },
          "ternary": {
           "aaxis": {
            "gridcolor": "white",
            "linecolor": "white",
            "ticks": ""
           },
           "baxis": {
            "gridcolor": "white",
            "linecolor": "white",
            "ticks": ""
           },
           "bgcolor": "#E5ECF6",
           "caxis": {
            "gridcolor": "white",
            "linecolor": "white",
            "ticks": ""
           }
          },
          "title": {
           "x": 0.05
          },
          "xaxis": {
           "automargin": true,
           "gridcolor": "white",
           "linecolor": "white",
           "ticks": "",
           "title": {
            "standoff": 15
           },
           "zerolinecolor": "white",
           "zerolinewidth": 2
          },
          "yaxis": {
           "automargin": true,
           "gridcolor": "white",
           "linecolor": "white",
           "ticks": "",
           "title": {
            "standoff": 15
           },
           "zerolinecolor": "white",
           "zerolinewidth": 2
          }
         }
        },
        "title": {
         "text": "Box Plot of Original and Discounted Prices per Night for Each Snapshot Date"
        },
        "width": 1000,
        "xaxis": {
         "anchor": "y",
         "domain": [
          0,
          1
         ],
         "title": {
          "text": "Snapshot Date"
         }
        },
        "yaxis": {
         "anchor": "x",
         "domain": [
          0,
          1
         ],
         "title": {
          "text": "Price per Night"
         }
        }
       }
      }
     },
     "metadata": {},
     "output_type": "display_data"
    }
   ],
   "source": [
    "import plotly.express as px\n",
    "\n",
    "# Create a box plot (hbox) for original and discounted price per night\n",
    "fig = px.box(\n",
    "    price_per_night_data.melt(id_vars=['snapshot_date'], value_vars=['original_price_per_night', 'discounted_price_per_night'], \n",
    "                              var_name=\"Price Type\", value_name=\"Price per Night\"),\n",
    "    x=\"snapshot_date\",\n",
    "    y=\"Price per Night\",\n",
    "    color=\"Price Type\",\n",
    "    title=\"Box Plot of Original and Discounted Prices per Night for Each Snapshot Date\",\n",
    "    labels={\"snapshot_date\": \"Snapshot Date\", \"Price per Night\": \"Price per Night\"},\n",
    "    width=1000,\n",
    "    height=600\n",
    ")\n",
    "\n",
    "# Show the interactive box plot\n",
    "fig.show()"
   ]
  },
  {
   "cell_type": "markdown",
   "metadata": {},
   "source": [
    "The **matching upper and lower fences for Feb 2** indicate that the interquartile range (IQR) and whiskers are exactly the same for both original and discounted prices.\n",
    "The hotels that appear in the first 100 searches mostly (bounded by the upper and lower fences) are in the range of 86$ per night and 470$ per night.  \n",
    "\n",
    "**Key observation**: \n",
    "The site suggest discounts when the original price does not fall in the IQR. The prices shown all fall in the same price range\n"
   ]
  },
  {
   "cell_type": "code",
   "execution_count": 14,
   "metadata": {},
   "outputs": [
    {
     "name": "stdout",
     "output_type": "stream",
     "text": [
      "Rows after filtering: 29104, Rows before filtering: 29998\n"
     ]
    }
   ],
   "source": [
    "# Remove price outliers using Tukey's IQR method\n",
    "new_bookings = bookings.copy()\n",
    "Q1 = new_bookings[\"original_price_per_night\"].quantile(0.25)\n",
    "Q3 = new_bookings[\"original_price_per_night\"].quantile(0.75)\n",
    "IQR = Q3 - Q1\n",
    "\n",
    "lower_bound = Q1 - 1.5 * IQR\n",
    "upper_bound = Q3 + 1.5 * IQR\n",
    "\n",
    "# Filter the dataset\n",
    "new_bookings = new_bookings[(new_bookings[\"original_price_per_night\"] >= lower_bound) & (new_bookings[\"original_price_per_night\"] <= upper_bound)]\n",
    "\n",
    "# Drop bookings without review title\n",
    "new_bookings = new_bookings.dropna(subset=['review_title'])\n",
    "\n",
    "# Display the number of rows after filtering\n",
    "print(f\"Rows after filtering: {len(new_bookings)}, Rows before filtering: {len(bookings)}\")"
   ]
  },
  {
   "cell_type": "code",
   "execution_count": 15,
   "metadata": {},
   "outputs": [
    {
     "data": {
      "text/plain": [
       "array(['Very good', 'Good', 'Fabulous', 'Review score', 'Superb',\n",
       "       'Exceptional'], dtype=object)"
      ]
     },
     "execution_count": 15,
     "metadata": {},
     "output_type": "execute_result"
    }
   ],
   "source": [
    "new_bookings['review_title'].unique()"
   ]
  },
  {
   "cell_type": "code",
   "execution_count": 16,
   "metadata": {},
   "outputs": [],
   "source": [
    "# Define ordinal mappings for review titles\n",
    "review_title_mapping = {\n",
    "    'Review score': 1,   # Lowest\n",
    "    'Good': 2,\n",
    "    'Very good': 3,\n",
    "    'Fabulous': 4,\n",
    "    'Superb': 5,\n",
    "    'Exceptional': 6    # Highest\n",
    "}\n",
    "\n",
    "# Apply the mapping to review_title column\n",
    "new_bookings[\"review_title_rank\"] = new_bookings[\"review_title\"].map(review_title_mapping)"
   ]
  },
  {
   "cell_type": "code",
   "execution_count": 17,
   "metadata": {},
   "outputs": [
    {
     "data": {
      "text/plain": [
       "array(['1 large double bed', '1 extra-large double bed', '1 double bed',\n",
       "       '1 single bed', '2 single beds', '2 double beds',\n",
       "       '2 large double beds', 'Multiple bed types', '1 bunk bed',\n",
       "       'Private suite', '3 beds (2 doubles, 1 sofa bed)',\n",
       "       '2 beds (1 extra-large double, 1 sofa bed)',\n",
       "       '2 extra-large double beds', '2 beds (1 bunk bed, 1 large double)',\n",
       "       '2 bunk beds', '2 beds (1 double, 1 sofa bed)',\n",
       "       '5 beds (3 extra-large doubles, 2 large doubles)',\n",
       "       '2 beds (1 single, 1 extra-large double)', '3 single beds',\n",
       "       '2 beds (1 single, 1 large double)', '2 beds (1 single, 1 double)',\n",
       "       'Beds: 1 double or 2 singles',\n",
       "       '2 beds (1 sofa bed, 1 large double)',\n",
       "       '4 beds (1 double, 1 bunk bed, 1 sofa bed, 1 large double)',\n",
       "       '3 beds (1 bunk bed, 2 large doubles)'], dtype=object)"
      ]
     },
     "execution_count": 17,
     "metadata": {},
     "output_type": "execute_result"
    }
   ],
   "source": [
    "# Extract unique bed types\n",
    "unique_beds = bookings[\"bed_type\"].dropna().unique()\n",
    "unique_beds"
   ]
  },
  {
   "cell_type": "code",
   "execution_count": 18,
   "metadata": {},
   "outputs": [
    {
     "data": {
      "text/html": [
       "<div>\n",
       "<style scoped>\n",
       "    .dataframe tbody tr th:only-of-type {\n",
       "        vertical-align: middle;\n",
       "    }\n",
       "\n",
       "    .dataframe tbody tr th {\n",
       "        vertical-align: top;\n",
       "    }\n",
       "\n",
       "    .dataframe thead th {\n",
       "        text-align: right;\n",
       "    }\n",
       "</style>\n",
       "<table border=\"1\" class=\"dataframe\">\n",
       "  <thead>\n",
       "    <tr style=\"text-align: right;\">\n",
       "      <th></th>\n",
       "      <th>review_title</th>\n",
       "      <th>review_title_rank</th>\n",
       "      <th>bed_type</th>\n",
       "      <th>bed_type_rank</th>\n",
       "    </tr>\n",
       "  </thead>\n",
       "  <tbody>\n",
       "    <tr>\n",
       "      <th>0</th>\n",
       "      <td>Very good</td>\n",
       "      <td>3</td>\n",
       "      <td>1 large double bed</td>\n",
       "      <td>5.0</td>\n",
       "    </tr>\n",
       "    <tr>\n",
       "      <th>1</th>\n",
       "      <td>Good</td>\n",
       "      <td>2</td>\n",
       "      <td>1 extra-large double bed</td>\n",
       "      <td>6.0</td>\n",
       "    </tr>\n",
       "    <tr>\n",
       "      <th>2</th>\n",
       "      <td>Fabulous</td>\n",
       "      <td>4</td>\n",
       "      <td>1 double bed</td>\n",
       "      <td>4.0</td>\n",
       "    </tr>\n",
       "    <tr>\n",
       "      <th>3</th>\n",
       "      <td>Good</td>\n",
       "      <td>2</td>\n",
       "      <td>1 single bed</td>\n",
       "      <td>2.0</td>\n",
       "    </tr>\n",
       "    <tr>\n",
       "      <th>4</th>\n",
       "      <td>Good</td>\n",
       "      <td>2</td>\n",
       "      <td>1 extra-large double bed</td>\n",
       "      <td>6.0</td>\n",
       "    </tr>\n",
       "  </tbody>\n",
       "</table>\n",
       "</div>"
      ],
      "text/plain": [
       "  review_title  review_title_rank                  bed_type  bed_type_rank\n",
       "0    Very good                  3        1 large double bed            5.0\n",
       "1         Good                  2  1 extra-large double bed            6.0\n",
       "2     Fabulous                  4              1 double bed            4.0\n",
       "3         Good                  2              1 single bed            2.0\n",
       "4         Good                  2  1 extra-large double bed            6.0"
      ]
     },
     "execution_count": 18,
     "metadata": {},
     "output_type": "execute_result"
    }
   ],
   "source": [
    "# Example ranking for bed types (adjust as needed)\n",
    "bed_type_mapping = {\n",
    "    'Multiple bed types': 1,  # Vague and lacks specifics\n",
    "    '1 single bed': 2,  # Least valuable, smallest sleeping arrangement\n",
    "    '1 bunk bed': 3,  # Compact but only good for certain situations\n",
    "    '1 double bed': 4,  # Standard, but smaller than a large double\n",
    "    '1 large double bed': 5,  # Comfortable for two\n",
    "    '1 extra-large double bed': 6,  # Large and luxurious for two\n",
    "    '2 single beds': 7,  # Simple twin setup, less desirable than a double\n",
    "    '2 bunk beds': 8,  # Sleeps four but is less comfortable\n",
    "    '3 single beds': 9,  # Good for separate sleepers but lacks bed size variety\n",
    "    '2 beds (1 single, 1 double)': 10,  # One double and one single, still decent\n",
    "    '2 beds (1 single, 1 large double)': 11,  # One large and one single, slightly less valuable than extra-large\n",
    "    '2 beds (1 single, 1 extra-large double)': 12,  # One very large and one small bed\n",
    "    '2 beds (1 bunk bed, 1 large double)': 13,  # One solid large bed + bunk bed for kids\n",
    "    '2 beds (1 sofa bed, 1 large double)': 14,  # Large double + extra seating/bed\n",
    "    '2 beds (1 double, 1 sofa bed)': 15,  # Standard double bed + sofa, good for a couple + 1\n",
    "    '2 beds (1 extra-large double, 1 sofa bed)': 16,  # Large main bed + extra sofa sleeper\n",
    "    'Beds: 1 double or 2 singles': 17,  # Flexibility makes this valuable\n",
    "    '2 double beds': 18,  # Standard two-bed setup, good for small families/groups\n",
    "    '2 large double beds': 19,  # Large but slightly less spacious than extra-large beds\n",
    "    '2 extra-large double beds': 20,  # Luxury and spacious for up to four people\n",
    "    '3 beds (2 doubles, 1 sofa bed)': 21,  # Two doubles + a sofa bed is a flexible setup\n",
    "    '3 beds (1 bunk bed, 2 large doubles)': 22,  # Large family/group-friendly\n",
    "    '4 beds (1 double, 1 bunk bed, 1 sofa bed, 1 large double)': 23,  # Great for a mix of sleepers\n",
    "    '5 beds (3 extra-large doubles, 2 large doubles)': 24,  # Accommodates large groups comfortably\n",
    "    'Private suite': 25  # Typically premium, offering the best experience\n",
    "}\n",
    "\n",
    "# Apply bed type ranking\n",
    "new_bookings[\"bed_type_rank\"] = new_bookings[\"bed_type\"].map(bed_type_mapping)\n",
    "\n",
    "# Show a preview of the transformed columns\n",
    "new_bookings[[\"review_title\", \"review_title_rank\", \"bed_type\", \"bed_type_rank\"]].head()"
   ]
  },
  {
   "cell_type": "code",
   "execution_count": 19,
   "metadata": {},
   "outputs": [
    {
     "data": {
      "text/plain": [
       "array(['Manhattan, New York', \"Hell's Kitchen, New York\",\n",
       "       'Upper West Side, New York', 'Chelsea, New York',\n",
       "       'Lower East Side, New York', 'SoHo, New York',\n",
       "       'Midtown East, New York', 'Tribeca, New York',\n",
       "       'Gramercy, New York', 'Murray Hill, New York',\n",
       "       'Chinatown, New York', 'Upper East Side, New York',\n",
       "       'NoMad, New York', 'Flatiron District, New York',\n",
       "       'Washington Heights, New York', 'Little Italy, New York',\n",
       "       'Kips Bay, New York', 'Harlem, New York', 'New York',\n",
       "       'Greenwich Village, New York', 'Hudson Yards, New York',\n",
       "       'Union Square, New York', 'East Village, New York',\n",
       "       'Battery Park, New York', 'East Harlem, New York'], dtype=object)"
      ]
     },
     "execution_count": 19,
     "metadata": {},
     "output_type": "execute_result"
    }
   ],
   "source": [
    "new_bookings['neighborhood'].unique()"
   ]
  },
  {
   "cell_type": "code",
   "execution_count": 21,
   "metadata": {},
   "outputs": [
    {
     "data": {
      "text/plain": [
       "array([[0., 0., 0., ..., 0., 0., 0.],\n",
       "       [0., 0., 0., ..., 0., 0., 0.],\n",
       "       [0., 0., 0., ..., 0., 0., 0.],\n",
       "       ...,\n",
       "       [0., 0., 0., ..., 0., 0., 0.],\n",
       "       [0., 0., 0., ..., 0., 0., 0.],\n",
       "       [0., 0., 0., ..., 0., 0., 0.]], shape=(29104, 24))"
      ]
     },
     "execution_count": 21,
     "metadata": {},
     "output_type": "execute_result"
    }
   ],
   "source": [
    "from sklearn.preprocessing import OneHotEncoder\n",
    "import pandas as pd\n",
    "\n",
    "# Initialize OneHotEncoder\n",
    "encoder = OneHotEncoder(drop=\"first\", sparse_output=False)  \n",
    "\n",
    "# Fit and transform the data\n",
    "encoded_data = encoder.fit_transform(new_bookings[[\"neighborhood\"]])\n",
    "encoded_data"
   ]
  },
  {
   "cell_type": "markdown",
   "metadata": {},
   "source": [
    "one hot encoded neighborhood dataframe:"
   ]
  },
  {
   "cell_type": "code",
   "execution_count": 22,
   "metadata": {},
   "outputs": [
    {
     "data": {
      "text/html": [
       "<div>\n",
       "<style scoped>\n",
       "    .dataframe tbody tr th:only-of-type {\n",
       "        vertical-align: middle;\n",
       "    }\n",
       "\n",
       "    .dataframe tbody tr th {\n",
       "        vertical-align: top;\n",
       "    }\n",
       "\n",
       "    .dataframe thead th {\n",
       "        text-align: right;\n",
       "    }\n",
       "</style>\n",
       "<table border=\"1\" class=\"dataframe\">\n",
       "  <thead>\n",
       "    <tr style=\"text-align: right;\">\n",
       "      <th></th>\n",
       "      <th>Chelsea</th>\n",
       "      <th>Chinatown</th>\n",
       "      <th>East Harlem</th>\n",
       "      <th>East Village</th>\n",
       "      <th>Flatiron District</th>\n",
       "      <th>Gramercy</th>\n",
       "      <th>Greenwich Village</th>\n",
       "      <th>Harlem</th>\n",
       "      <th>Hell's Kitchen</th>\n",
       "      <th>Hudson Yards</th>\n",
       "      <th>...</th>\n",
       "      <th>Midtown East</th>\n",
       "      <th>Murray Hill</th>\n",
       "      <th>New York</th>\n",
       "      <th>NoMad</th>\n",
       "      <th>SoHo</th>\n",
       "      <th>Tribeca</th>\n",
       "      <th>Union Square</th>\n",
       "      <th>Upper East Side</th>\n",
       "      <th>Upper West Side</th>\n",
       "      <th>Washington Heights</th>\n",
       "    </tr>\n",
       "  </thead>\n",
       "  <tbody>\n",
       "    <tr>\n",
       "      <th>0</th>\n",
       "      <td>0.0</td>\n",
       "      <td>0.0</td>\n",
       "      <td>0.0</td>\n",
       "      <td>0.0</td>\n",
       "      <td>0.0</td>\n",
       "      <td>0.0</td>\n",
       "      <td>0.0</td>\n",
       "      <td>0.0</td>\n",
       "      <td>0.0</td>\n",
       "      <td>0.0</td>\n",
       "      <td>...</td>\n",
       "      <td>0.0</td>\n",
       "      <td>0.0</td>\n",
       "      <td>0.0</td>\n",
       "      <td>0.0</td>\n",
       "      <td>0.0</td>\n",
       "      <td>0.0</td>\n",
       "      <td>0.0</td>\n",
       "      <td>0.0</td>\n",
       "      <td>0.0</td>\n",
       "      <td>0.0</td>\n",
       "    </tr>\n",
       "    <tr>\n",
       "      <th>1</th>\n",
       "      <td>0.0</td>\n",
       "      <td>0.0</td>\n",
       "      <td>0.0</td>\n",
       "      <td>0.0</td>\n",
       "      <td>0.0</td>\n",
       "      <td>0.0</td>\n",
       "      <td>0.0</td>\n",
       "      <td>0.0</td>\n",
       "      <td>0.0</td>\n",
       "      <td>0.0</td>\n",
       "      <td>...</td>\n",
       "      <td>0.0</td>\n",
       "      <td>0.0</td>\n",
       "      <td>0.0</td>\n",
       "      <td>0.0</td>\n",
       "      <td>0.0</td>\n",
       "      <td>0.0</td>\n",
       "      <td>0.0</td>\n",
       "      <td>0.0</td>\n",
       "      <td>0.0</td>\n",
       "      <td>0.0</td>\n",
       "    </tr>\n",
       "    <tr>\n",
       "      <th>2</th>\n",
       "      <td>0.0</td>\n",
       "      <td>0.0</td>\n",
       "      <td>0.0</td>\n",
       "      <td>0.0</td>\n",
       "      <td>0.0</td>\n",
       "      <td>0.0</td>\n",
       "      <td>0.0</td>\n",
       "      <td>0.0</td>\n",
       "      <td>0.0</td>\n",
       "      <td>0.0</td>\n",
       "      <td>...</td>\n",
       "      <td>0.0</td>\n",
       "      <td>0.0</td>\n",
       "      <td>0.0</td>\n",
       "      <td>0.0</td>\n",
       "      <td>0.0</td>\n",
       "      <td>0.0</td>\n",
       "      <td>0.0</td>\n",
       "      <td>0.0</td>\n",
       "      <td>0.0</td>\n",
       "      <td>0.0</td>\n",
       "    </tr>\n",
       "    <tr>\n",
       "      <th>3</th>\n",
       "      <td>0.0</td>\n",
       "      <td>0.0</td>\n",
       "      <td>0.0</td>\n",
       "      <td>0.0</td>\n",
       "      <td>0.0</td>\n",
       "      <td>0.0</td>\n",
       "      <td>0.0</td>\n",
       "      <td>0.0</td>\n",
       "      <td>0.0</td>\n",
       "      <td>0.0</td>\n",
       "      <td>...</td>\n",
       "      <td>0.0</td>\n",
       "      <td>0.0</td>\n",
       "      <td>0.0</td>\n",
       "      <td>0.0</td>\n",
       "      <td>0.0</td>\n",
       "      <td>0.0</td>\n",
       "      <td>0.0</td>\n",
       "      <td>0.0</td>\n",
       "      <td>0.0</td>\n",
       "      <td>0.0</td>\n",
       "    </tr>\n",
       "    <tr>\n",
       "      <th>4</th>\n",
       "      <td>0.0</td>\n",
       "      <td>0.0</td>\n",
       "      <td>0.0</td>\n",
       "      <td>0.0</td>\n",
       "      <td>0.0</td>\n",
       "      <td>0.0</td>\n",
       "      <td>0.0</td>\n",
       "      <td>0.0</td>\n",
       "      <td>0.0</td>\n",
       "      <td>0.0</td>\n",
       "      <td>...</td>\n",
       "      <td>0.0</td>\n",
       "      <td>0.0</td>\n",
       "      <td>0.0</td>\n",
       "      <td>0.0</td>\n",
       "      <td>0.0</td>\n",
       "      <td>0.0</td>\n",
       "      <td>0.0</td>\n",
       "      <td>0.0</td>\n",
       "      <td>0.0</td>\n",
       "      <td>0.0</td>\n",
       "    </tr>\n",
       "    <tr>\n",
       "      <th>...</th>\n",
       "      <td>...</td>\n",
       "      <td>...</td>\n",
       "      <td>...</td>\n",
       "      <td>...</td>\n",
       "      <td>...</td>\n",
       "      <td>...</td>\n",
       "      <td>...</td>\n",
       "      <td>...</td>\n",
       "      <td>...</td>\n",
       "      <td>...</td>\n",
       "      <td>...</td>\n",
       "      <td>...</td>\n",
       "      <td>...</td>\n",
       "      <td>...</td>\n",
       "      <td>...</td>\n",
       "      <td>...</td>\n",
       "      <td>...</td>\n",
       "      <td>...</td>\n",
       "      <td>...</td>\n",
       "      <td>...</td>\n",
       "      <td>...</td>\n",
       "    </tr>\n",
       "    <tr>\n",
       "      <th>29099</th>\n",
       "      <td>0.0</td>\n",
       "      <td>0.0</td>\n",
       "      <td>0.0</td>\n",
       "      <td>0.0</td>\n",
       "      <td>0.0</td>\n",
       "      <td>0.0</td>\n",
       "      <td>0.0</td>\n",
       "      <td>0.0</td>\n",
       "      <td>0.0</td>\n",
       "      <td>0.0</td>\n",
       "      <td>...</td>\n",
       "      <td>0.0</td>\n",
       "      <td>0.0</td>\n",
       "      <td>0.0</td>\n",
       "      <td>0.0</td>\n",
       "      <td>0.0</td>\n",
       "      <td>0.0</td>\n",
       "      <td>0.0</td>\n",
       "      <td>0.0</td>\n",
       "      <td>0.0</td>\n",
       "      <td>0.0</td>\n",
       "    </tr>\n",
       "    <tr>\n",
       "      <th>29100</th>\n",
       "      <td>0.0</td>\n",
       "      <td>0.0</td>\n",
       "      <td>0.0</td>\n",
       "      <td>0.0</td>\n",
       "      <td>0.0</td>\n",
       "      <td>0.0</td>\n",
       "      <td>0.0</td>\n",
       "      <td>0.0</td>\n",
       "      <td>0.0</td>\n",
       "      <td>0.0</td>\n",
       "      <td>...</td>\n",
       "      <td>0.0</td>\n",
       "      <td>0.0</td>\n",
       "      <td>0.0</td>\n",
       "      <td>0.0</td>\n",
       "      <td>0.0</td>\n",
       "      <td>0.0</td>\n",
       "      <td>0.0</td>\n",
       "      <td>0.0</td>\n",
       "      <td>0.0</td>\n",
       "      <td>0.0</td>\n",
       "    </tr>\n",
       "    <tr>\n",
       "      <th>29101</th>\n",
       "      <td>0.0</td>\n",
       "      <td>0.0</td>\n",
       "      <td>0.0</td>\n",
       "      <td>0.0</td>\n",
       "      <td>0.0</td>\n",
       "      <td>0.0</td>\n",
       "      <td>0.0</td>\n",
       "      <td>0.0</td>\n",
       "      <td>0.0</td>\n",
       "      <td>0.0</td>\n",
       "      <td>...</td>\n",
       "      <td>0.0</td>\n",
       "      <td>0.0</td>\n",
       "      <td>0.0</td>\n",
       "      <td>1.0</td>\n",
       "      <td>0.0</td>\n",
       "      <td>0.0</td>\n",
       "      <td>0.0</td>\n",
       "      <td>0.0</td>\n",
       "      <td>0.0</td>\n",
       "      <td>0.0</td>\n",
       "    </tr>\n",
       "    <tr>\n",
       "      <th>29102</th>\n",
       "      <td>0.0</td>\n",
       "      <td>0.0</td>\n",
       "      <td>0.0</td>\n",
       "      <td>0.0</td>\n",
       "      <td>0.0</td>\n",
       "      <td>0.0</td>\n",
       "      <td>0.0</td>\n",
       "      <td>0.0</td>\n",
       "      <td>1.0</td>\n",
       "      <td>0.0</td>\n",
       "      <td>...</td>\n",
       "      <td>0.0</td>\n",
       "      <td>0.0</td>\n",
       "      <td>0.0</td>\n",
       "      <td>0.0</td>\n",
       "      <td>0.0</td>\n",
       "      <td>0.0</td>\n",
       "      <td>0.0</td>\n",
       "      <td>0.0</td>\n",
       "      <td>0.0</td>\n",
       "      <td>0.0</td>\n",
       "    </tr>\n",
       "    <tr>\n",
       "      <th>29103</th>\n",
       "      <td>0.0</td>\n",
       "      <td>0.0</td>\n",
       "      <td>0.0</td>\n",
       "      <td>0.0</td>\n",
       "      <td>0.0</td>\n",
       "      <td>0.0</td>\n",
       "      <td>0.0</td>\n",
       "      <td>0.0</td>\n",
       "      <td>0.0</td>\n",
       "      <td>0.0</td>\n",
       "      <td>...</td>\n",
       "      <td>0.0</td>\n",
       "      <td>0.0</td>\n",
       "      <td>0.0</td>\n",
       "      <td>1.0</td>\n",
       "      <td>0.0</td>\n",
       "      <td>0.0</td>\n",
       "      <td>0.0</td>\n",
       "      <td>0.0</td>\n",
       "      <td>0.0</td>\n",
       "      <td>0.0</td>\n",
       "    </tr>\n",
       "  </tbody>\n",
       "</table>\n",
       "<p>29104 rows × 24 columns</p>\n",
       "</div>"
      ],
      "text/plain": [
       "       Chelsea  Chinatown  East Harlem  East Village  Flatiron District  \\\n",
       "0          0.0        0.0          0.0           0.0                0.0   \n",
       "1          0.0        0.0          0.0           0.0                0.0   \n",
       "2          0.0        0.0          0.0           0.0                0.0   \n",
       "3          0.0        0.0          0.0           0.0                0.0   \n",
       "4          0.0        0.0          0.0           0.0                0.0   \n",
       "...        ...        ...          ...           ...                ...   \n",
       "29099      0.0        0.0          0.0           0.0                0.0   \n",
       "29100      0.0        0.0          0.0           0.0                0.0   \n",
       "29101      0.0        0.0          0.0           0.0                0.0   \n",
       "29102      0.0        0.0          0.0           0.0                0.0   \n",
       "29103      0.0        0.0          0.0           0.0                0.0   \n",
       "\n",
       "       Gramercy  Greenwich Village  Harlem  Hell's Kitchen  Hudson Yards  ...  \\\n",
       "0           0.0                0.0     0.0             0.0           0.0  ...   \n",
       "1           0.0                0.0     0.0             0.0           0.0  ...   \n",
       "2           0.0                0.0     0.0             0.0           0.0  ...   \n",
       "3           0.0                0.0     0.0             0.0           0.0  ...   \n",
       "4           0.0                0.0     0.0             0.0           0.0  ...   \n",
       "...         ...                ...     ...             ...           ...  ...   \n",
       "29099       0.0                0.0     0.0             0.0           0.0  ...   \n",
       "29100       0.0                0.0     0.0             0.0           0.0  ...   \n",
       "29101       0.0                0.0     0.0             0.0           0.0  ...   \n",
       "29102       0.0                0.0     0.0             1.0           0.0  ...   \n",
       "29103       0.0                0.0     0.0             0.0           0.0  ...   \n",
       "\n",
       "       Midtown East  Murray Hill  New York  NoMad  SoHo  Tribeca  \\\n",
       "0               0.0          0.0       0.0    0.0   0.0      0.0   \n",
       "1               0.0          0.0       0.0    0.0   0.0      0.0   \n",
       "2               0.0          0.0       0.0    0.0   0.0      0.0   \n",
       "3               0.0          0.0       0.0    0.0   0.0      0.0   \n",
       "4               0.0          0.0       0.0    0.0   0.0      0.0   \n",
       "...             ...          ...       ...    ...   ...      ...   \n",
       "29099           0.0          0.0       0.0    0.0   0.0      0.0   \n",
       "29100           0.0          0.0       0.0    0.0   0.0      0.0   \n",
       "29101           0.0          0.0       0.0    1.0   0.0      0.0   \n",
       "29102           0.0          0.0       0.0    0.0   0.0      0.0   \n",
       "29103           0.0          0.0       0.0    1.0   0.0      0.0   \n",
       "\n",
       "       Union Square  Upper East Side  Upper West Side  Washington Heights  \n",
       "0               0.0              0.0              0.0                 0.0  \n",
       "1               0.0              0.0              0.0                 0.0  \n",
       "2               0.0              0.0              0.0                 0.0  \n",
       "3               0.0              0.0              0.0                 0.0  \n",
       "4               0.0              0.0              0.0                 0.0  \n",
       "...             ...              ...              ...                 ...  \n",
       "29099           0.0              0.0              0.0                 0.0  \n",
       "29100           0.0              0.0              0.0                 0.0  \n",
       "29101           0.0              0.0              0.0                 0.0  \n",
       "29102           0.0              0.0              0.0                 0.0  \n",
       "29103           0.0              0.0              0.0                 0.0  \n",
       "\n",
       "[29104 rows x 24 columns]"
      ]
     },
     "execution_count": 22,
     "metadata": {},
     "output_type": "execute_result"
    }
   ],
   "source": [
    "encoded_df = pd.DataFrame(encoded_data, columns=encoder.get_feature_names_out(['neighborhood']))\n",
    "encoded_df.columns = [col.replace(\"neighborhood_\", \"\").replace(\", New York\", \"\").strip() for col in encoded_df.columns]\n",
    "\n",
    "encoded_df"
   ]
  },
  {
   "cell_type": "markdown",
   "metadata": {},
   "source": [
    "Combine the dataframes"
   ]
  },
  {
   "cell_type": "code",
   "execution_count": 23,
   "metadata": {},
   "outputs": [
    {
     "data": {
      "text/html": [
       "<div>\n",
       "<style scoped>\n",
       "    .dataframe tbody tr th:only-of-type {\n",
       "        vertical-align: middle;\n",
       "    }\n",
       "\n",
       "    .dataframe tbody tr th {\n",
       "        vertical-align: top;\n",
       "    }\n",
       "\n",
       "    .dataframe thead th {\n",
       "        text-align: right;\n",
       "    }\n",
       "</style>\n",
       "<table border=\"1\" class=\"dataframe\">\n",
       "  <thead>\n",
       "    <tr style=\"text-align: right;\">\n",
       "      <th></th>\n",
       "      <th>Unnamed: 0</th>\n",
       "      <th>name</th>\n",
       "      <th>original_price</th>\n",
       "      <th>discounted_price</th>\n",
       "      <th>discount</th>\n",
       "      <th>review_score</th>\n",
       "      <th>review_title</th>\n",
       "      <th>number_of_reviews</th>\n",
       "      <th>star_rating</th>\n",
       "      <th>is_apartment</th>\n",
       "      <th>...</th>\n",
       "      <th>Midtown East</th>\n",
       "      <th>Murray Hill</th>\n",
       "      <th>New York</th>\n",
       "      <th>NoMad</th>\n",
       "      <th>SoHo</th>\n",
       "      <th>Tribeca</th>\n",
       "      <th>Union Square</th>\n",
       "      <th>Upper East Side</th>\n",
       "      <th>Upper West Side</th>\n",
       "      <th>Washington Heights</th>\n",
       "    </tr>\n",
       "  </thead>\n",
       "  <tbody>\n",
       "    <tr>\n",
       "      <th>0</th>\n",
       "      <td>0</td>\n",
       "      <td>Iroquois New York Times Square</td>\n",
       "      <td>292</td>\n",
       "      <td>218</td>\n",
       "      <td>True</td>\n",
       "      <td>8.5</td>\n",
       "      <td>Very good</td>\n",
       "      <td>2625.0</td>\n",
       "      <td>5.0</td>\n",
       "      <td>False</td>\n",
       "      <td>...</td>\n",
       "      <td>0.0</td>\n",
       "      <td>0.0</td>\n",
       "      <td>0.0</td>\n",
       "      <td>0.0</td>\n",
       "      <td>0.0</td>\n",
       "      <td>0.0</td>\n",
       "      <td>0.0</td>\n",
       "      <td>0.0</td>\n",
       "      <td>0.0</td>\n",
       "      <td>0.0</td>\n",
       "    </tr>\n",
       "    <tr>\n",
       "      <th>1</th>\n",
       "      <td>1</td>\n",
       "      <td>Four Points by Sheraton New York Downtown</td>\n",
       "      <td>130</td>\n",
       "      <td>111</td>\n",
       "      <td>True</td>\n",
       "      <td>7.8</td>\n",
       "      <td>Good</td>\n",
       "      <td>1987.0</td>\n",
       "      <td>3.0</td>\n",
       "      <td>False</td>\n",
       "      <td>...</td>\n",
       "      <td>0.0</td>\n",
       "      <td>0.0</td>\n",
       "      <td>0.0</td>\n",
       "      <td>0.0</td>\n",
       "      <td>0.0</td>\n",
       "      <td>0.0</td>\n",
       "      <td>0.0</td>\n",
       "      <td>0.0</td>\n",
       "      <td>0.0</td>\n",
       "      <td>0.0</td>\n",
       "    </tr>\n",
       "    <tr>\n",
       "      <th>2</th>\n",
       "      <td>2</td>\n",
       "      <td>The Mayfair Hotel Times Square, Ascend Hotel C...</td>\n",
       "      <td>141</td>\n",
       "      <td>141</td>\n",
       "      <td>False</td>\n",
       "      <td>8.6</td>\n",
       "      <td>Fabulous</td>\n",
       "      <td>1895.0</td>\n",
       "      <td>3.0</td>\n",
       "      <td>False</td>\n",
       "      <td>...</td>\n",
       "      <td>0.0</td>\n",
       "      <td>0.0</td>\n",
       "      <td>0.0</td>\n",
       "      <td>0.0</td>\n",
       "      <td>0.0</td>\n",
       "      <td>0.0</td>\n",
       "      <td>0.0</td>\n",
       "      <td>0.0</td>\n",
       "      <td>0.0</td>\n",
       "      <td>0.0</td>\n",
       "    </tr>\n",
       "    <tr>\n",
       "      <th>3</th>\n",
       "      <td>3</td>\n",
       "      <td>The Washington by LuxUrban</td>\n",
       "      <td>160</td>\n",
       "      <td>160</td>\n",
       "      <td>False</td>\n",
       "      <td>7.7</td>\n",
       "      <td>Good</td>\n",
       "      <td>9442.0</td>\n",
       "      <td>4.0</td>\n",
       "      <td>False</td>\n",
       "      <td>...</td>\n",
       "      <td>0.0</td>\n",
       "      <td>0.0</td>\n",
       "      <td>0.0</td>\n",
       "      <td>0.0</td>\n",
       "      <td>0.0</td>\n",
       "      <td>0.0</td>\n",
       "      <td>0.0</td>\n",
       "      <td>0.0</td>\n",
       "      <td>0.0</td>\n",
       "      <td>0.0</td>\n",
       "    </tr>\n",
       "    <tr>\n",
       "      <th>4</th>\n",
       "      <td>4</td>\n",
       "      <td>Hampton Inn by Hilton New York Times Square</td>\n",
       "      <td>152</td>\n",
       "      <td>152</td>\n",
       "      <td>False</td>\n",
       "      <td>7.8</td>\n",
       "      <td>Good</td>\n",
       "      <td>2432.0</td>\n",
       "      <td>3.0</td>\n",
       "      <td>False</td>\n",
       "      <td>...</td>\n",
       "      <td>0.0</td>\n",
       "      <td>0.0</td>\n",
       "      <td>0.0</td>\n",
       "      <td>0.0</td>\n",
       "      <td>0.0</td>\n",
       "      <td>0.0</td>\n",
       "      <td>0.0</td>\n",
       "      <td>0.0</td>\n",
       "      <td>0.0</td>\n",
       "      <td>0.0</td>\n",
       "    </tr>\n",
       "    <tr>\n",
       "      <th>...</th>\n",
       "      <td>...</td>\n",
       "      <td>...</td>\n",
       "      <td>...</td>\n",
       "      <td>...</td>\n",
       "      <td>...</td>\n",
       "      <td>...</td>\n",
       "      <td>...</td>\n",
       "      <td>...</td>\n",
       "      <td>...</td>\n",
       "      <td>...</td>\n",
       "      <td>...</td>\n",
       "      <td>...</td>\n",
       "      <td>...</td>\n",
       "      <td>...</td>\n",
       "      <td>...</td>\n",
       "      <td>...</td>\n",
       "      <td>...</td>\n",
       "      <td>...</td>\n",
       "      <td>...</td>\n",
       "      <td>...</td>\n",
       "      <td>...</td>\n",
       "    </tr>\n",
       "    <tr>\n",
       "      <th>29099</th>\n",
       "      <td>29993</td>\n",
       "      <td>Sheraton New York Times Square Hotel</td>\n",
       "      <td>1429</td>\n",
       "      <td>1429</td>\n",
       "      <td>False</td>\n",
       "      <td>6.4</td>\n",
       "      <td>Review score</td>\n",
       "      <td>1795.0</td>\n",
       "      <td>4.0</td>\n",
       "      <td>False</td>\n",
       "      <td>...</td>\n",
       "      <td>0.0</td>\n",
       "      <td>0.0</td>\n",
       "      <td>0.0</td>\n",
       "      <td>0.0</td>\n",
       "      <td>0.0</td>\n",
       "      <td>0.0</td>\n",
       "      <td>0.0</td>\n",
       "      <td>0.0</td>\n",
       "      <td>0.0</td>\n",
       "      <td>0.0</td>\n",
       "    </tr>\n",
       "    <tr>\n",
       "      <th>29100</th>\n",
       "      <td>29994</td>\n",
       "      <td>Wingate by Wyndham New York Midtown South/5th Ave</td>\n",
       "      <td>1222</td>\n",
       "      <td>1222</td>\n",
       "      <td>False</td>\n",
       "      <td>8.4</td>\n",
       "      <td>Very good</td>\n",
       "      <td>2384.0</td>\n",
       "      <td>3.0</td>\n",
       "      <td>False</td>\n",
       "      <td>...</td>\n",
       "      <td>0.0</td>\n",
       "      <td>0.0</td>\n",
       "      <td>0.0</td>\n",
       "      <td>0.0</td>\n",
       "      <td>0.0</td>\n",
       "      <td>0.0</td>\n",
       "      <td>0.0</td>\n",
       "      <td>0.0</td>\n",
       "      <td>0.0</td>\n",
       "      <td>0.0</td>\n",
       "    </tr>\n",
       "    <tr>\n",
       "      <th>29101</th>\n",
       "      <td>29995</td>\n",
       "      <td>Hotel AKA NoMad</td>\n",
       "      <td>1802</td>\n",
       "      <td>1693</td>\n",
       "      <td>True</td>\n",
       "      <td>8.3</td>\n",
       "      <td>Very good</td>\n",
       "      <td>663.0</td>\n",
       "      <td>4.0</td>\n",
       "      <td>False</td>\n",
       "      <td>...</td>\n",
       "      <td>0.0</td>\n",
       "      <td>0.0</td>\n",
       "      <td>0.0</td>\n",
       "      <td>1.0</td>\n",
       "      <td>0.0</td>\n",
       "      <td>0.0</td>\n",
       "      <td>0.0</td>\n",
       "      <td>0.0</td>\n",
       "      <td>0.0</td>\n",
       "      <td>0.0</td>\n",
       "    </tr>\n",
       "    <tr>\n",
       "      <th>29102</th>\n",
       "      <td>29996</td>\n",
       "      <td>InterContinental New York Times Square, an IHG...</td>\n",
       "      <td>1587</td>\n",
       "      <td>1587</td>\n",
       "      <td>False</td>\n",
       "      <td>7.9</td>\n",
       "      <td>Good</td>\n",
       "      <td>1787.0</td>\n",
       "      <td>4.0</td>\n",
       "      <td>False</td>\n",
       "      <td>...</td>\n",
       "      <td>0.0</td>\n",
       "      <td>0.0</td>\n",
       "      <td>0.0</td>\n",
       "      <td>0.0</td>\n",
       "      <td>0.0</td>\n",
       "      <td>0.0</td>\n",
       "      <td>0.0</td>\n",
       "      <td>0.0</td>\n",
       "      <td>0.0</td>\n",
       "      <td>0.0</td>\n",
       "    </tr>\n",
       "    <tr>\n",
       "      <th>29103</th>\n",
       "      <td>29997</td>\n",
       "      <td>The Evelyn NoMad</td>\n",
       "      <td>1750</td>\n",
       "      <td>1750</td>\n",
       "      <td>False</td>\n",
       "      <td>8.4</td>\n",
       "      <td>Very good</td>\n",
       "      <td>2551.0</td>\n",
       "      <td>5.0</td>\n",
       "      <td>False</td>\n",
       "      <td>...</td>\n",
       "      <td>0.0</td>\n",
       "      <td>0.0</td>\n",
       "      <td>0.0</td>\n",
       "      <td>1.0</td>\n",
       "      <td>0.0</td>\n",
       "      <td>0.0</td>\n",
       "      <td>0.0</td>\n",
       "      <td>0.0</td>\n",
       "      <td>0.0</td>\n",
       "      <td>0.0</td>\n",
       "    </tr>\n",
       "  </tbody>\n",
       "</table>\n",
       "<p>29104 rows × 49 columns</p>\n",
       "</div>"
      ],
      "text/plain": [
       "       Unnamed: 0                                               name  \\\n",
       "0               0                     Iroquois New York Times Square   \n",
       "1               1          Four Points by Sheraton New York Downtown   \n",
       "2               2  The Mayfair Hotel Times Square, Ascend Hotel C...   \n",
       "3               3                         The Washington by LuxUrban   \n",
       "4               4        Hampton Inn by Hilton New York Times Square   \n",
       "...           ...                                                ...   \n",
       "29099       29993               Sheraton New York Times Square Hotel   \n",
       "29100       29994  Wingate by Wyndham New York Midtown South/5th Ave   \n",
       "29101       29995                                    Hotel AKA NoMad   \n",
       "29102       29996  InterContinental New York Times Square, an IHG...   \n",
       "29103       29997                                   The Evelyn NoMad   \n",
       "\n",
       "       original_price  discounted_price  discount  review_score  review_title  \\\n",
       "0                 292               218      True           8.5     Very good   \n",
       "1                 130               111      True           7.8          Good   \n",
       "2                 141               141     False           8.6      Fabulous   \n",
       "3                 160               160     False           7.7          Good   \n",
       "4                 152               152     False           7.8          Good   \n",
       "...               ...               ...       ...           ...           ...   \n",
       "29099            1429              1429     False           6.4  Review score   \n",
       "29100            1222              1222     False           8.4     Very good   \n",
       "29101            1802              1693      True           8.3     Very good   \n",
       "29102            1587              1587     False           7.9          Good   \n",
       "29103            1750              1750     False           8.4     Very good   \n",
       "\n",
       "       number_of_reviews  star_rating is_apartment  ... Midtown East  \\\n",
       "0                 2625.0          5.0        False  ...          0.0   \n",
       "1                 1987.0          3.0        False  ...          0.0   \n",
       "2                 1895.0          3.0        False  ...          0.0   \n",
       "3                 9442.0          4.0        False  ...          0.0   \n",
       "4                 2432.0          3.0        False  ...          0.0   \n",
       "...                  ...          ...          ...  ...          ...   \n",
       "29099             1795.0          4.0        False  ...          0.0   \n",
       "29100             2384.0          3.0        False  ...          0.0   \n",
       "29101              663.0          4.0        False  ...          0.0   \n",
       "29102             1787.0          4.0        False  ...          0.0   \n",
       "29103             2551.0          5.0        False  ...          0.0   \n",
       "\n",
       "       Murray Hill  New York NoMad SoHo  Tribeca  Union Square  \\\n",
       "0              0.0       0.0   0.0  0.0      0.0           0.0   \n",
       "1              0.0       0.0   0.0  0.0      0.0           0.0   \n",
       "2              0.0       0.0   0.0  0.0      0.0           0.0   \n",
       "3              0.0       0.0   0.0  0.0      0.0           0.0   \n",
       "4              0.0       0.0   0.0  0.0      0.0           0.0   \n",
       "...            ...       ...   ...  ...      ...           ...   \n",
       "29099          0.0       0.0   0.0  0.0      0.0           0.0   \n",
       "29100          0.0       0.0   0.0  0.0      0.0           0.0   \n",
       "29101          0.0       0.0   1.0  0.0      0.0           0.0   \n",
       "29102          0.0       0.0   0.0  0.0      0.0           0.0   \n",
       "29103          0.0       0.0   1.0  0.0      0.0           0.0   \n",
       "\n",
       "       Upper East Side  Upper West Side  Washington Heights  \n",
       "0                  0.0              0.0                 0.0  \n",
       "1                  0.0              0.0                 0.0  \n",
       "2                  0.0              0.0                 0.0  \n",
       "3                  0.0              0.0                 0.0  \n",
       "4                  0.0              0.0                 0.0  \n",
       "...                ...              ...                 ...  \n",
       "29099              0.0              0.0                 0.0  \n",
       "29100              0.0              0.0                 0.0  \n",
       "29101              0.0              0.0                 0.0  \n",
       "29102              0.0              0.0                 0.0  \n",
       "29103              0.0              0.0                 0.0  \n",
       "\n",
       "[29104 rows x 49 columns]"
      ]
     },
     "execution_count": 23,
     "metadata": {},
     "output_type": "execute_result"
    }
   ],
   "source": [
    "encoded_df = encoded_df.reset_index(drop=True)\n",
    "new_bookings = new_bookings.reset_index(drop=True)\n",
    "\n",
    "# Concatenate along columns\n",
    "new_bookings = pd.concat([new_bookings, encoded_df], axis=1)\n",
    "new_bookings"
   ]
  },
  {
   "cell_type": "code",
   "execution_count": 26,
   "metadata": {},
   "outputs": [
    {
     "data": {
      "image/png": "[encoded data removed]",
      "text/plain": [
       "<Figure size 1250x1250 with 30 Axes>"
      ]
     },
     "metadata": {},
     "output_type": "display_data"
    }
   ],
   "source": [
    "import seaborn as sns\n",
    "import matplotlib.pyplot as plt\n",
    "\n",
    "# Select numerical variables for PairGrid\n",
    "selected_columns = [\"discounted_price_per_night\", \"review_score\", \"number_of_reviews\", \"location_score\", \"star_rating\"]\n",
    "pairgrid_df = new_bookings[selected_columns].dropna()  # Drop NaN values for plotting\n",
    "\n",
    "# Create PairGrid\n",
    "g = sns.PairGrid(pairgrid_df)\n",
    "g.map_diag(sns.histplot)  # Histograms on the diagonal\n",
    "g.map_offdiag(sns.scatterplot)  # Scatter plots on off-diagonal\n",
    "\n",
    "# Show the plot\n",
    "plt.show()"
   ]
  },
  {
   "cell_type": "markdown",
   "metadata": {},
   "source": [
    "**Pair Plot Analysis of Hotel Features**\n",
    "\n",
    "This pair plot visualizes relationships between key hotel features using histograms (diagonal) and scatter plots (off-diagonal).  \n",
    "\n",
    "**Key Insights**  \n",
    "\n",
    "- **Pricing:** Most hotels are **affordable**, with prices **right-skewed**, meaning a few expensive hotels exist. Higher **star ratings generally correlate with higher prices**, but exceptions exist.  \n",
    "- **Review Scores:** Hotels **consistently receive high ratings (8-9)**, with no clear link between **price and review score**. **Location scores** show a slight **positive correlation with review scores**, suggesting location impacts satisfaction.  \n",
    "- **Number of Reviews:** **Right-skewed distribution**—a few hotels accumulate most reviews, while many have fewer. Highly-reviewed hotels tend to have **more stable** ratings.\n",
    "- **Price vs. Review Score:** No strong correlation—higher prices do not guarantee better reviews, suggesting that factors like service, location, and value perception influence satisfaction.  \n",
    "- **Number of Reviews vs. Review Score:** Hotels with fewer reviews show **greater rating variability**, while those with many reviews tend to **stabilize around 8+**, indicating that higher review counts lead to more reliable ratings.  \n",
    "- **Location Score vs. Review Score:** A slight **positive correlation** suggests that **better location ratings contribute to higher customer satisfaction**, but it's not the sole factor.  \n",
    "- **Star Rating vs. Price:** Higher **star ratings generally lead to higher prices**, but some **lower-star hotels are still expensive**, likely due to location, brand, or amenities.    \n",
    "\n",
    "### **Conclusion**  \n",
    "Booking.com prioritizes **well-rated, well-located, and mostly mid-range hotels**. While **price varies widely**, **review scores remain consistently high**. Further analysis could explore time-based pricing trends or neighborhood influences.  \n"
   ]
  },
  {
   "cell_type": "code",
   "execution_count": 27,
   "metadata": {},
   "outputs": [],
   "source": [
    "new_bookings.to_csv('./proccessed_bookings.csv')"
   ]
  }
 ],
 "metadata": {
  "kernelspec": {
   "display_name": "DS-101-Final",
   "language": "python",
   "name": "python3"
  },
  "language_info": {
   "codemirror_mode": {
    "name": "ipython",
    "version": 3
   },
   "file_extension": ".py",
   "mimetype": "text/x-python",
   "name": "python",
   "nbconvert_exporter": "python",
   "pygments_lexer": "ipython3",
   "version": "3.12.8"
  }
 },
 "nbformat": 4,
 "nbformat_minor": 2
}
