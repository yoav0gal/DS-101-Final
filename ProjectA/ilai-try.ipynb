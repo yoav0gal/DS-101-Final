{
 "cells": [
  {
   "cell_type": "code",
   "execution_count": null,
   "metadata": {},
   "outputs": [
    {
     "name": "stdout",
     "output_type": "stream",
     "text": [
      "Requirement already satisfied: pandas in c:\\users\\ilai\\anaconda3\\lib\\site-packages (2.2.3)\n",
      "Requirement already satisfied: matplotlib in c:\\users\\ilai\\anaconda3\\lib\\site-packages (3.9.4)\n",
      "Requirement already satisfied: seaborn in c:\\users\\ilai\\anaconda3\\lib\\site-packages (0.13.2)\n",
      "Requirement already satisfied: sklearn in c:\\users\\ilai\\anaconda3\\lib\\site-packages (0.0)\n",
      "Requirement already satisfied: torch in c:\\users\\ilai\\anaconda3\\lib\\site-packages (2.0.1)\n",
      "Requirement already satisfied: pytz>=2020.1 in c:\\users\\ilai\\anaconda3\\lib\\site-packages (from pandas) (2025.1)\n",
      "Requirement already satisfied: python-dateutil>=2.8.2 in c:\\users\\ilai\\anaconda3\\lib\\site-packages (from pandas) (2.9.0.post0)\n",
      "Requirement already satisfied: tzdata>=2022.7 in c:\\users\\ilai\\anaconda3\\lib\\site-packages (from pandas) (2025.1)\n",
      "Requirement already satisfied: numpy>=1.22.4 in c:\\users\\ilai\\anaconda3\\lib\\site-packages (from pandas) (1.26.4)\n",
      "Requirement already satisfied: packaging>=20.0 in c:\\users\\ilai\\anaconda3\\lib\\site-packages (from matplotlib) (21.0)\n",
      "Requirement already satisfied: pyparsing>=2.3.1 in c:\\users\\ilai\\anaconda3\\lib\\site-packages (from matplotlib) (3.0.4)\n",
      "Requirement already satisfied: cycler>=0.10 in c:\\users\\ilai\\anaconda3\\lib\\site-packages (from matplotlib) (0.10.0)\n",
      "Requirement already satisfied: fonttools>=4.22.0 in c:\\users\\ilai\\anaconda3\\lib\\site-packages (from matplotlib) (4.25.0)\n",
      "Requirement already satisfied: kiwisolver>=1.3.1 in c:\\users\\ilai\\anaconda3\\lib\\site-packages (from matplotlib) (1.3.1)\n",
      "Requirement already satisfied: pillow>=8 in c:\\users\\ilai\\anaconda3\\lib\\site-packages (from matplotlib) (8.4.0)\n",
      "Requirement already satisfied: contourpy>=1.0.1 in c:\\users\\ilai\\anaconda3\\lib\\site-packages (from matplotlib) (1.3.0)\n",
      "Requirement already satisfied: importlib-resources>=3.2.0 in c:\\users\\ilai\\anaconda3\\lib\\site-packages (from matplotlib) (6.5.2)\n",
      "Requirement already satisfied: scikit-learn in c:\\users\\ilai\\anaconda3\\lib\\site-packages (from sklearn) (0.24.2)\n",
      "Requirement already satisfied: typing-extensions in c:\\users\\ilai\\anaconda3\\lib\\site-packages (from torch) (4.12.2)\n",
      "Requirement already satisfied: filelock in c:\\users\\ilai\\anaconda3\\lib\\site-packages (from torch) (3.3.1)\n",
      "Requirement already satisfied: jinja2 in c:\\users\\ilai\\anaconda3\\lib\\site-packages (from torch) (2.11.3)\n",
      "Requirement already satisfied: sympy in c:\\users\\ilai\\anaconda3\\lib\\site-packages (from torch) (1.13.1)\n",
      "Requirement already satisfied: networkx in c:\\users\\ilai\\anaconda3\\lib\\site-packages (from torch) (2.6.3)\n",
      "Requirement already satisfied: six in c:\\users\\ilai\\anaconda3\\lib\\site-packages (from cycler>=0.10->matplotlib) (1.17.0)\n",
      "Requirement already satisfied: zipp>=3.1.0 in c:\\users\\ilai\\anaconda3\\lib\\site-packages (from importlib-resources>=3.2.0->matplotlib) (3.6.0)\n",
      "Requirement already satisfied: MarkupSafe>=0.23 in c:\\users\\ilai\\anaconda3\\lib\\site-packages (from jinja2->torch) (1.1.1)\n",
      "Requirement already satisfied: joblib>=0.11 in c:\\users\\ilai\\anaconda3\\lib\\site-packages (from scikit-learn->sklearn) (1.1.0)\n",
      "Requirement already satisfied: threadpoolctl>=2.0.0 in c:\\users\\ilai\\anaconda3\\lib\\site-packages (from scikit-learn->sklearn) (2.2.0)\n",
      "Requirement already satisfied: scipy>=0.19.1 in c:\\users\\ilai\\anaconda3\\lib\\site-packages (from scikit-learn->sklearn) (1.13.1)\n",
      "Requirement already satisfied: mpmath<1.4,>=1.1.0 in c:\\users\\ilai\\anaconda3\\lib\\site-packages (from sympy->torch) (1.2.1)\n",
      "Note: you may need to restart the kernel to use updated packages.\n"
     ]
    },
    {
     "name": "stderr",
     "output_type": "stream",
     "text": [
      "WARNING: Ignoring invalid distribution -atplotlib (c:\\users\\ilai\\anaconda3\\lib\\site-packages)\n",
      "WARNING: Ignoring invalid distribution -atplotlib (c:\\users\\ilai\\anaconda3\\lib\\site-packages)\n",
      "WARNING: Ignoring invalid distribution -atplotlib (c:\\users\\ilai\\anaconda3\\lib\\site-packages)\n",
      "WARNING: Ignoring invalid distribution -atplotlib (c:\\users\\ilai\\anaconda3\\lib\\site-packages)\n",
      "WARNING: Ignoring invalid distribution -atplotlib (c:\\users\\ilai\\anaconda3\\lib\\site-packages)\n",
      "WARNING: Ignoring invalid distribution -atplotlib (c:\\users\\ilai\\anaconda3\\lib\\site-packages)\n"
     ]
    },
    {
     "name": "stdout",
     "output_type": "stream",
     "text": [
      "Requirement already satisfied: numpy<2 in c:\\users\\ilai\\anaconda3\\lib\\site-packages (1.26.4)\n",
      "Note: you may need to restart the kernel to use updated packages.\n"
     ]
    },
    {
     "name": "stderr",
     "output_type": "stream",
     "text": [
      "WARNING: Ignoring invalid distribution -atplotlib (c:\\users\\ilai\\anaconda3\\lib\\site-packages)\n",
      "WARNING: Ignoring invalid distribution -atplotlib (c:\\users\\ilai\\anaconda3\\lib\\site-packages)\n",
      "WARNING: Ignoring invalid distribution -atplotlib (c:\\users\\ilai\\anaconda3\\lib\\site-packages)\n",
      "WARNING: Ignoring invalid distribution -atplotlib (c:\\users\\ilai\\anaconda3\\lib\\site-packages)\n",
      "WARNING: Ignoring invalid distribution -atplotlib (c:\\users\\ilai\\anaconda3\\lib\\site-packages)\n",
      "WARNING: Ignoring invalid distribution -atplotlib (c:\\users\\ilai\\anaconda3\\lib\\site-packages)\n"
     ]
    }
   ],
   "source": [
    "%pip install pandas matplotlib seaborn sklearn torch\n",
    "%pip install \"numpy<2\" "
   ]
  },
  {
   "cell_type": "code",
   "execution_count": null,
   "metadata": {},
   "outputs": [],
   "source": [
    "import pandas as pd\n",
    "import numpy as np\n",
    "import torch\n",
    "import torch.nn as nn\n",
    "import torch.optim as optim\n",
    "from torch.utils.data import DataLoader, TensorDataset\n",
    "import matplotlib.pyplot as plt\n",
    "import seaborn as sns\n",
    "from sklearn.model_selection import train_test_split\n",
    "from sklearn.preprocessing import StandardScaler\n",
    "from sklearn.linear_model import LinearRegression\n",
    "from sklearn.tree import DecisionTreeRegressor\n",
    "from sklearn.gaussian_process import GaussianProcessRegressor\n",
    "from sklearn.gaussian_process.kernels import RBF, Matern\n",
    "from sklearn.svm import SVR\n",
    "from sklearn.ensemble import RandomForestRegressor, GradientBoostingRegressor\n",
    "from sklearn.metrics import mean_absolute_error, mean_squared_error, r2_score"
   ]
  },
  {
   "cell_type": "code",
   "execution_count": 35,
   "metadata": {},
   "outputs": [],
   "source": [
    "# Load the dataset\n",
    "file_path = \"./proccessedBookings.csv\"\n",
    "df = pd.read_csv(file_path)\n",
    "\n",
    "df = df.dropna(subset=['review_score','is_apartment','breakfast_included'])"
   ]
  },
  {
   "cell_type": "code",
   "execution_count": 36,
   "metadata": {},
   "outputs": [],
   "source": [
    "# Feature Engineering\n",
    "df['long_stay'] = (df['length_of_stay'] > 3).astype(int)  # 1 if stay > 3 nights, else 0\n",
    "df['review_score'] = df['review_score'].astype(int)\n",
    "df['location_score'] = (df['location_score']).fillna(df['review_score'].mean()).astype(int)\n",
    "df['is_apartment'] = (df['is_apartment']).astype(int)\n",
    "df['breakfast_included'] = (df['breakfast_included']).astype(int)"
   ]
  },
  {
   "cell_type": "code",
   "execution_count": 37,
   "metadata": {},
   "outputs": [],
   "source": [
    "room_type_ranking = {\n",
    "    \"King Room\": 1,\n",
    "    \"Standard King Room\": 2,\n",
    "    \"King Room - Non-Smoking\": 3,\n",
    "    \"Queen Room\": 4,\n",
    "    \"Double Room\": 5,\n",
    "    \"Standard Queen Room\": 6,\n",
    "    \"Queen Room - Non-Smoking\": 7,\n",
    "    \"Guest Room, 1 King\": 8,\n",
    "    \"Deluxe Queen Room\": 9,\n",
    "    \"Deluxe King Room\": 10,\n",
    "    \"Superior King Room\": 11,\n",
    "    \"King Studio\": 12,\n",
    "    \"King Room - Disability Access\": 13,\n",
    "    \"Superior Queen Room\": 14,\n",
    "    \"Standard Room\": 15,\n",
    "    \"Queen Studio\": 16,\n",
    "    \"Double Room with Two Double Beds\": 17,\n",
    "    \"Standard Full\": 18,\n",
    "    \"Deluxe King Room - Non-Smoking\": 19,\n",
    "    \"Den King Room\": 20,\n",
    "    \"Deluxe King\": 21,\n",
    "    \"SoHo King\": 22,\n",
    "    \"King Room with City View\": 23,\n",
    "    \"Standard Double Room\": 24,\n",
    "    \"Executive Queen Room\": 25\n",
    "}\n",
    "df['room_type_grade'] = df['room_type'].map(room_type_ranking).fillna(15).astype(int)"
   ]
  },
  {
   "cell_type": "code",
   "execution_count": 38,
   "metadata": {},
   "outputs": [],
   "source": [
    "# Define Features and Target\n",
    "X = df[['time_to_travel', 'length_of_stay', 'long_stay', 'discounted_price_per_night','review_score','number_of_reviews', 'location_score','is_apartment','breakfast_included','room_type_grade']]  # Features\n",
    "y = df['discounted_price_per_night']  # Target Variable"
   ]
  },
  {
   "cell_type": "code",
   "execution_count": 39,
   "metadata": {},
   "outputs": [],
   "source": [
    "# Split Data\n",
    "X_train, X_test, y_train, y_test = train_test_split(X, y, test_size=0.3, random_state=42)"
   ]
  },
  {
   "cell_type": "code",
   "execution_count": 40,
   "metadata": {},
   "outputs": [],
   "source": [
    "# Normalize Data\n",
    "scaler = StandardScaler()\n",
    "X_train_scaled = scaler.fit_transform(X_train)\n",
    "X_test_scaled = scaler.transform(X_test)\n"
   ]
  },
  {
   "cell_type": "code",
   "execution_count": null,
   "metadata": {},
   "outputs": [],
   "source": [
    "# Train Multiple Regression Models\n",
    "models = {\n",
    "    'Linear Regression': LinearRegression(),\n",
    "    'Decision Tree depth 5': DecisionTreeRegressor(max_depth=5),\n",
    "    'Decision Tree depth 10': DecisionTreeRegressor(max_depth=10),\n",
    "    'Gaussian Process (RBF)': GaussianProcessRegressor(kernel=RBF(1.0)),\n",
    "    'Gaussian Process (Matern)': GaussianProcessRegressor(kernel=Matern(length_scale=1.0, nu=1.5)),\n",
    "    'Random Forest depth 5': RandomForestRegressor(n_estimators=100, max_depth=5),\n",
    "    'Random Forest depth 5': RandomForestRegressor(n_estimators=100, max_depth=10),\n",
    "    'Gradient Boosting learning_rate 0.1': GradientBoostingRegressor(n_estimators=100, learning_rate=0.1),\n",
    "    'Gradient Boosting learning_rate 0.05': GradientBoostingRegressor(n_estimators=100, learning_rate=0.05),\n",
    "    'SVR (kernel=rbf)': SVR(kernel='rbf'),\n",
    "    'SVR (kernel=linear)': SVR(kernel='linear')\n",
    "}"
   ]
  },
  {
   "cell_type": "code",
   "execution_count": null,
   "metadata": {},
   "outputs": [],
   "source": [
    "#Train and Evaluate Models\n",
    "results = {}\n",
    "for name, model in models.items():\n",
    "     model.fit(X_train_scaled, y_train)\n",
    "     y_pred = model.predict(X_test_scaled)\n",
    "     results[name] = {\n",
    "          'R2': r2_score(y_test, y_pred),\n",
    "          'MAE': mean_absolute_error(y_test, y_pred),\n",
    "          'MSE': mean_squared_error(y_test, y_pred),\n",
    "          'RMSE': np.sqrt(mean_squared_error(y_test, y_pred))\n",
    "     }"
   ]
  },
  {
   "cell_type": "code",
   "execution_count": null,
   "metadata": {},
   "outputs": [
    {
     "name": "stdout",
     "output_type": "stream",
     "text": [
      "                         R2           MAE           MSE          RMSE\n",
      "Linear Regression  1.000000  4.813945e-14  4.003331e-27  6.327188e-14\n",
      "Decision Tree      0.996145  3.145834e+00  2.497234e+01  4.997234e+00\n",
      "Gaussian Process   0.973268  8.921966e-01  1.731644e+02  1.315919e+01\n",
      "Random Forest      0.998621  2.103851e+00  8.932947e+00  2.988804e+00\n",
      "Gradient Boosting  0.999839  5.657019e-01  1.043492e+00  1.021515e+00\n",
      "SVR                0.938678  5.942667e+00  3.972283e+02  1.993059e+01\n"
     ]
    }
   ],
   "source": [
    "# Convert Results to DataFrame\n",
    "results_df = pd.DataFrame(results).T\n",
    "print(results_df)\n"
   ]
  },
  {
   "cell_type": "code",
   "execution_count": null,
   "metadata": {},
   "outputs": [],
   "source": [
    "# Plot Residuals for Best Model (Based on R² Score)\n",
    "best_model_name = results_df['R2'].idxmax()\n",
    "best_model = models[best_model_name]\n",
    "y_pred_best = best_model.predict(X_test_scaled)\n",
    "residuals = y_test - y_pred_best"
   ]
  },
  {
   "cell_type": "code",
   "execution_count": 46,
   "metadata": {},
   "outputs": [
    {
     "name": "stderr",
     "output_type": "stream",
     "text": [
      "C:\\Users\\Ilai\\AppData\\Local\\Temp/ipykernel_5628/1404117669.py:2: UserWarning: \n",
      "\n",
      "`distplot` is a deprecated function and will be removed in seaborn v0.14.0.\n",
      "\n",
      "Please adapt your code to use either `displot` (a figure-level function with\n",
      "similar flexibility) or `histplot` (an axes-level function for histograms).\n",
      "\n",
      "For a guide to updating your code to use the new functions, please see\n",
      "https://gist.github.com/mwaskom/de44147ed2974457ad6372750bbe5751\n",
      "\n",
      "  sns.distplot(residuals, bins=30, kde=True)\n"
     ]
    },
    {
     "data": {
      "image/png": "[encoded data removed]",
      "text/plain": [
       "<Figure size 720x360 with 1 Axes>"
      ]
     },
     "metadata": {
      "needs_background": "light"
     },
     "output_type": "display_data"
    }
   ],
   "source": [
    "plt.figure(figsize=(10, 5))\n",
    "sns.distplot(residuals, bins=30, kde=True)\n",
    "plt.title(f'Residual Plot for {best_model_name}')\n",
    "plt.xlabel('Residuals')\n",
    "plt.ylabel('Frequency')\n",
    "plt.show()\n",
    "\n"
   ]
  },
  {
   "cell_type": "code",
   "execution_count": 47,
   "metadata": {},
   "outputs": [
    {
     "data": {
      "image/png": "[encoded data removed]",
      "text/plain": [
       "<Figure size 576x288 with 1 Axes>"
      ]
     },
     "metadata": {
      "needs_background": "light"
     },
     "output_type": "display_data"
    },
    {
     "data": {
      "image/png": "[encoded data removed]",
      "text/plain": [
       "<Figure size 576x288 with 1 Axes>"
      ]
     },
     "metadata": {
      "needs_background": "light"
     },
     "output_type": "display_data"
    }
   ],
   "source": [
    "# Feature Importance for Decision Tree and Random Forest\n",
    "for model_name in ['Decision Tree', 'Random Forest']:\n",
    "    model = models[model_name]\n",
    "    feature_importance = model.feature_importances_\n",
    "    plt.figure(figsize=(8, 4))\n",
    "    sns.barplot(x=X.columns, y=feature_importance)\n",
    "    plt.title(f'Feature Importance - {model_name}')\n",
    "    plt.show()"
   ]
  },
  {
   "cell_type": "code",
   "execution_count": null,
   "metadata": {},
   "outputs": [
    {
     "name": "stdout",
     "output_type": "stream",
     "text": [
      "Epoch 1/50, Validation Loss: 319.3197\n",
      "Epoch 2/50, Validation Loss: 115.2489\n",
      "Epoch 3/50, Validation Loss: 49.6945\n",
      "Epoch 4/50, Validation Loss: 24.8653\n",
      "Epoch 5/50, Validation Loss: 12.6737\n",
      "Epoch 6/50, Validation Loss: 6.0694\n",
      "Epoch 7/50, Validation Loss: 3.0256\n",
      "Epoch 8/50, Validation Loss: 7.2723\n",
      "Epoch 9/50, Validation Loss: 1.8461\n",
      "Epoch 10/50, Validation Loss: 0.7214\n",
      "Epoch 11/50, Validation Loss: 1.4252\n",
      "Epoch 12/50, Validation Loss: 0.4232\n",
      "Epoch 13/50, Validation Loss: 0.6947\n",
      "Epoch 14/50, Validation Loss: 3.9924\n",
      "Epoch 15/50, Validation Loss: 0.7782\n",
      "Epoch 16/50, Validation Loss: 0.1450\n",
      "Epoch 17/50, Validation Loss: 1.7236\n",
      "Epoch 18/50, Validation Loss: 0.2749\n",
      "Epoch 19/50, Validation Loss: 0.1307\n",
      "Epoch 20/50, Validation Loss: 2.8651\n",
      "Epoch 21/50, Validation Loss: 0.4600\n",
      "Epoch 22/50, Validation Loss: 0.1481\n",
      "Epoch 23/50, Validation Loss: 0.2071\n",
      "Epoch 24/50, Validation Loss: 0.2076\n",
      "Epoch 25/50, Validation Loss: 0.4289\n",
      "Epoch 26/50, Validation Loss: 0.2788\n",
      "Epoch 27/50, Validation Loss: 0.2248\n",
      "Epoch 28/50, Validation Loss: 0.1627\n",
      "Epoch 29/50, Validation Loss: 0.1658\n",
      "Epoch 30/50, Validation Loss: 0.2843\n",
      "Epoch 31/50, Validation Loss: 0.2752\n",
      "Epoch 32/50, Validation Loss: 0.4645\n",
      "Epoch 33/50, Validation Loss: 0.1942\n",
      "Epoch 34/50, Validation Loss: 0.1372\n",
      "Epoch 35/50, Validation Loss: 0.2692\n",
      "Epoch 36/50, Validation Loss: 0.2043\n",
      "Epoch 37/50, Validation Loss: 0.0748\n",
      "Epoch 38/50, Validation Loss: 0.3980\n",
      "Epoch 39/50, Validation Loss: 0.0703\n",
      "Epoch 40/50, Validation Loss: 2.0197\n",
      "Epoch 41/50, Validation Loss: 0.2269\n",
      "Epoch 42/50, Validation Loss: 0.0642\n",
      "Epoch 43/50, Validation Loss: 0.1632\n",
      "Epoch 44/50, Validation Loss: 0.4267\n",
      "Epoch 45/50, Validation Loss: 0.5781\n",
      "Epoch 46/50, Validation Loss: 0.1052\n",
      "Epoch 47/50, Validation Loss: 0.8867\n",
      "Epoch 48/50, Validation Loss: 0.4213\n",
      "Epoch 49/50, Validation Loss: 0.0642\n",
      "Epoch 50/50, Validation Loss: 0.0887\n",
      "Epoch 1/50, Validation Loss: 1265.1779\n",
      "Epoch 2/50, Validation Loss: 616.1212\n",
      "Epoch 3/50, Validation Loss: 430.0489\n",
      "Epoch 4/50, Validation Loss: 345.6755\n",
      "Epoch 5/50, Validation Loss: 320.4619\n",
      "Epoch 6/50, Validation Loss: 309.4878\n",
      "Epoch 7/50, Validation Loss: 297.3675\n",
      "Epoch 8/50, Validation Loss: 279.6787\n",
      "Epoch 9/50, Validation Loss: 259.8581\n",
      "Epoch 10/50, Validation Loss: 240.2461\n",
      "Epoch 11/50, Validation Loss: 224.6557\n",
      "Epoch 12/50, Validation Loss: 213.6404\n",
      "Epoch 13/50, Validation Loss: 209.4423\n",
      "Epoch 14/50, Validation Loss: 209.1105\n",
      "Epoch 15/50, Validation Loss: 209.0008\n",
      "Epoch 16/50, Validation Loss: 209.0735\n",
      "Epoch 17/50, Validation Loss: 209.2841\n",
      "Epoch 18/50, Validation Loss: 209.2550\n",
      "Epoch 19/50, Validation Loss: 209.3356\n",
      "Epoch 20/50, Validation Loss: 208.8853\n",
      "Epoch 21/50, Validation Loss: 208.9063\n",
      "Epoch 22/50, Validation Loss: 209.3563\n",
      "Epoch 23/50, Validation Loss: 209.7783\n",
      "Epoch 24/50, Validation Loss: 209.3103\n",
      "Epoch 25/50, Validation Loss: 209.4787\n",
      "Epoch 26/50, Validation Loss: 209.7459\n",
      "Epoch 27/50, Validation Loss: 209.2608\n",
      "Epoch 28/50, Validation Loss: 209.0262\n",
      "Epoch 29/50, Validation Loss: 209.4933\n",
      "Epoch 30/50, Validation Loss: 209.1523\n",
      "Epoch 31/50, Validation Loss: 209.2646\n",
      "Epoch 32/50, Validation Loss: 209.0876\n",
      "Epoch 33/50, Validation Loss: 208.8456\n",
      "Epoch 34/50, Validation Loss: 209.2040\n",
      "Epoch 35/50, Validation Loss: 209.9045\n",
      "Epoch 36/50, Validation Loss: 209.4445\n",
      "Epoch 37/50, Validation Loss: 208.9132\n",
      "Epoch 38/50, Validation Loss: 209.1510\n",
      "Epoch 39/50, Validation Loss: 208.9522\n",
      "Epoch 40/50, Validation Loss: 208.8344\n",
      "Epoch 41/50, Validation Loss: 209.5976\n",
      "Epoch 42/50, Validation Loss: 209.2526\n",
      "Epoch 43/50, Validation Loss: 209.4061\n",
      "Epoch 44/50, Validation Loss: 209.5354\n",
      "Epoch 45/50, Validation Loss: 209.3803\n",
      "Epoch 46/50, Validation Loss: 209.7713\n",
      "Epoch 47/50, Validation Loss: 209.0274\n",
      "Epoch 48/50, Validation Loss: 209.1301\n",
      "Epoch 49/50, Validation Loss: 209.1141\n",
      "Epoch 50/50, Validation Loss: 209.5079\n"
     ]
    }
   ],
   "source": [
    "# Convert data to PyTorch tensors\n",
    "X_train_tensor = torch.tensor(X_train_scaled, dtype=torch.float32)\n",
    "y_train_tensor = torch.tensor(y_train.values, dtype=torch.float32).view(-1, 1)\n",
    "X_test_tensor = torch.tensor(X_test_scaled, dtype=torch.float32)\n",
    "y_test_tensor = torch.tensor(y_test.values, dtype=torch.float32).view(-1, 1)\n",
    "\n",
    "# Create data loaders\n",
    "train_dataset = TensorDataset(X_train_tensor, y_train_tensor)\n",
    "test_dataset = TensorDataset(X_test_tensor, y_test_tensor)\n",
    "train_loader = DataLoader(train_dataset, batch_size=16, shuffle=True)\n",
    "test_loader = DataLoader(test_dataset, batch_size=16, shuffle=False)\n",
    "\n",
    "# Neural Network Model 1\n",
    "class NeuralNet1(nn.Module):\n",
    "    def __init__(self, input_dim):\n",
    "        super(NeuralNet1, self).__init__()\n",
    "        self.fc1 = nn.Linear(input_dim, 64)\n",
    "        self.fc2 = nn.Linear(64, 32)\n",
    "        self.fc3 = nn.Linear(32, 1)\n",
    "        \n",
    "    def forward(self, x):\n",
    "        x = torch.relu(self.fc1(x))\n",
    "        x = torch.relu(self.fc2(x))\n",
    "        x = self.fc3(x)\n",
    "        return x\n",
    "\n",
    "# Neural Network Model 2 with Embedding\n",
    "class NeuralNet2(nn.Module):\n",
    "    def __init__(self, input_dim, embedding_dim=5):\n",
    "        super(NeuralNet2, self).__init__()\n",
    "        self.embedding = nn.Linear(input_dim, embedding_dim)\n",
    "        self.fc1 = nn.Linear(embedding_dim, 32)\n",
    "        self.fc2 = nn.Linear(32, 1)\n",
    "        \n",
    "    def forward(self, x):\n",
    "        x = torch.sigmoid(self.embedding(x))\n",
    "        x = torch.sigmoid(self.fc1(x))\n",
    "        x = self.fc2(x)\n",
    "        return x\n",
    "\n",
    "def train_model(model, train_loader, test_loader, epochs=50):\n",
    "    criterion = nn.MSELoss()\n",
    "    optimizer = optim.Adam(model.parameters(), lr=0.001)\n",
    "    \n",
    "    for epoch in range(epochs):\n",
    "        model.train()\n",
    "        for X_batch, y_batch in train_loader:\n",
    "            optimizer.zero_grad()\n",
    "            y_pred = model(X_batch)\n",
    "            loss = criterion(y_pred, y_batch)\n",
    "            loss.backward()\n",
    "            optimizer.step()\n",
    "        \n",
    "        # Validation\n",
    "        model.eval()\n",
    "        val_loss = 0\n",
    "        with torch.no_grad():\n",
    "            for X_batch, y_batch in test_loader:\n",
    "                y_pred = model(X_batch)\n",
    "                val_loss += criterion(y_pred, y_batch).item()\n",
    "        val_loss /= len(test_loader)\n",
    "        print(f\"Epoch {epoch+1}/{epochs}, Validation Loss: {val_loss:.4f}\")\n",
    "\n",
    "# Train NeuralNet1\n",
    "model1 = NeuralNet1(X_train_scaled.shape[1])\n",
    "train_model(model1, train_loader, test_loader)\n",
    "\n",
    "# Train NeuralNet2\n",
    "model2 = NeuralNet2(X_train_scaled.shape[1])\n",
    "train_model(model2, train_loader, test_loader)\n"
   ]
  },
  {
   "cell_type": "code",
   "execution_count": 76,
   "metadata": {},
   "outputs": [],
   "source": [
    "def evaluate_model(model, X_test, y_test):\n",
    "    model.eval()\n",
    "    with torch.no_grad():\n",
    "        y_pred = model(X_test).numpy()\n",
    "    \n",
    "    # Scatter plot: Predictions vs Actual\n",
    "    plt.figure()\n",
    "    plt.scatter(y_test.numpy(), y_pred, alpha=0.5, color='blue')\n",
    "    plt.xlabel('Actual Values')\n",
    "    plt.ylabel('Predicted Values')\n",
    "    plt.title('Actual vs Predicted')\n",
    "    plt.plot([y_test.min(), y_test.max()], [y_test.min(), y_test.max()], 'r')  # Identity line\n",
    "    plt.show()"
   ]
  },
  {
   "cell_type": "code",
   "execution_count": 77,
   "metadata": {},
   "outputs": [
    {
     "data": {
      "image/png": "[encoded data removed]",
      "text/plain": [
       "<Figure size 432x288 with 1 Axes>"
      ]
     },
     "metadata": {
      "needs_background": "light"
     },
     "output_type": "display_data"
    }
   ],
   "source": [
    "evaluate_model(model1, X_test_tensor, y_test_tensor)"
   ]
  },
  {
   "cell_type": "code",
   "execution_count": 53,
   "metadata": {},
   "outputs": [
    {
     "data": {
      "image/png": "[encoded data removed]",
      "text/plain": [
       "<Figure size 432x288 with 1 Axes>"
      ]
     },
     "metadata": {
      "needs_background": "light"
     },
     "output_type": "display_data"
    }
   ],
   "source": [
    "evaluate_model(model2, X_test_tensor, y_test_tensor)"
   ]
  }
 ],
 "metadata": {
  "kernelspec": {
   "display_name": "base",
   "language": "python",
   "name": "python3"
  },
  "language_info": {
   "codemirror_mode": {
    "name": "ipython",
    "version": 3
   },
   "file_extension": ".py",
   "mimetype": "text/x-python",
   "name": "python",
   "nbconvert_exporter": "python",
   "pygments_lexer": "ipython3",
   "version": "3.9.7"
  }
 },
 "nbformat": 4,
 "nbformat_minor": 2
}
