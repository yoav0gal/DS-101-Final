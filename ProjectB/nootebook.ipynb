{
 "cells": [
  {
   "cell_type": "markdown",
   "metadata": {},
   "source": [
    "# Part B"
   ]
  },
  {
   "cell_type": "markdown",
   "metadata": {},
   "source": [
    "## Step 1 - Adding Features"
   ]
  },
  {
   "cell_type": "markdown",
   "metadata": {},
   "source": [
    "#### Load Data"
   ]
  },
  {
   "cell_type": "code",
   "execution_count": null,
   "metadata": {},
   "outputs": [],
   "source": [
    "import pandas as pd\n",
    "\n",
    "hotels_file_path = \"./hotels_data.csv\"  \n",
    "df = pd.read_csv(hotels_file_path)\n",
    "\n",
    "df.head()"
   ]
  },
  {
   "cell_type": "markdown",
   "metadata": {},
   "source": [
    "#### Add columns and load to new CSV"
   ]
  },
  {
   "cell_type": "code",
   "execution_count": null,
   "metadata": {},
   "outputs": [],
   "source": [
    "#Ensure dates are in correct format\n",
    "df['Snapshot Date'] = pd.to_datetime(df['Snapshot Date'])\n",
    "df['Checkin Date'] = pd.to_datetime(df['Checkin Date'])\n",
    "\n",
    "df['DayDiff'] = (df['Checkin Date'] - df['Snapshot Date']).dt.days\n",
    "df['WeekDay'] = df['Checkin Date'].dt.day_name()\n",
    "df['DiscountDiff'] = df['Original Price'] - df['Discount Price']\n",
    "df['DiscountPerc'] = (df['DiscountDiff'] / df['Original Price']) * 100\n",
    "\n",
    "print(df.head())"
   ]
  },
  {
   "cell_type": "markdown",
   "metadata": {},
   "source": [
    "\n",
    "**New csv format**\n",
    "\n",
    "| Column Name       | Description                                                                                         | Example Value                       |\n",
    "|--------------------|-----------------------------------------------------------------------------------------------------|-------------------------------------|\n",
    "| **Snapshot ID**    | Unique identifier for each snapshot of data                                                        | 1                                   |\n",
    "| **Snapshot Date**  | The date when the snapshot was taken                                                               | 2015-07-17                          |\n",
    "| **Checkin Date**   | The date of check-in for the hotel                                                                 | 2015-08-12                          |\n",
    "| **Days**           | Duration of the stay in days                                                                       | 5                                   |\n",
    "| **Original Price** | Price of the stay without any discount (in dollars)                                                | 1178                                |\n",
    "| **Discount Price** | Price of the stay after applying the discount (in dollars)                                         | 1040                                |\n",
    "| **Discount Code**  | Code representing the type of discount applied (values 1-4, with 1 indicating no discount possible) | 1                                   |\n",
    "| **Available Rooms**| Number of rooms available at the specified check-in date                                           | 6                                   |\n",
    "| **Hotel Name**     | Name of the hotel                                                                                  | Best Western Plus Seaport Inn Downtown |\n",
    "| **Hotel Stars**    | Star rating of the hotel                                                                           | 3                                   |\n",
    "| **DayDiff**        | Number of days between the Snapshot Date and Checkin Date                                          | 26                                  |\n",
    "| **WeekDay**        | Day of the week corresponding to the Checkin Date                                                  | Wednesday                           |\n",
    "| **DiscountDiff**   | Difference between the Original Price and Discount Price (in dollars)                              | 138                                 |\n",
    "| **DiscountPerc**   | Percentage of discount applied, calculated as `(DiscountDiff / Original Price) * 100`             | 11.714770797962649                           |\n"
   ]
  },
  {
   "cell_type": "markdown",
   "metadata": {},
   "source": [
    "#### Save To CSV"
   ]
  },
  {
   "cell_type": "code",
   "execution_count": null,
   "metadata": {},
   "outputs": [],
   "source": [
    "changed_hotels_path = \"./hotels_data_changed.csv\"\n",
    "df.to_csv(changed_hotels_path, index=False)"
   ]
  },
  {
   "cell_type": "markdown",
   "metadata": {},
   "source": [
    "## Step 2 - Best Discount Code\n",
    "\n",
    "\n",
    "**b. Classification Algorithms:** \n",
    "   - After creating this dataset, we will implement various classification algorithms in Python to predict the maximum discount code given the input parameters. \n",
    "   - Implement and evaluate the following five algorithms: Random Forest, Decision Tree, Naïve Bayes, XGBoost, and a simple Random classifier.\n",
    "   - For each algorithm, you need to experiment with different parameter settings to find the optimal combination that yields the best performance. \n",
    "   - Explanation of how each chosen parameter affects the algorithm's performance. "
   ]
  },
  {
   "cell_type": "markdown",
   "metadata": {},
   "source": [
    "#### Data Preperation"
   ]
  },
  {
   "cell_type": "code",
   "execution_count": null,
   "metadata": {},
   "outputs": [],
   "source": [
    "# Drop irrelevant columns\n",
    "\n",
    "df = pd.read_csv(changed_hotels_path) \n",
    "df = df[['WeekDay', 'Snapshot Date', 'Checkin Date', 'DayDiff', 'Hotel Name', 'Discount Code']] \n",
    "df = df.rename(columns={'Discount Code': 'Class'})\n",
    "df.head()"
   ]
  },
  {
   "cell_type": "code",
   "execution_count": null,
   "metadata": {},
   "outputs": [],
   "source": [
    "# Feature Engineering\n",
    "\n",
    "def map_days_to_numbers(df: pd.DataFrame) -> pd.DataFrame:\n",
    "    weekday_mapping = {'Sunday': 1, 'Monday': 2, 'Tuesday': 3, 'Wednesday': 4, 'Thursday': 5, 'Friday': 6, 'Saturday': 7}\n",
    "    df['WeekDay'] = df['WeekDay'].map(weekday_mapping)\n",
    "    return df\n",
    "\n",
    "def map_hotel_names_to_numbers(df: pd.DataFrame) -> pd.DataFrame:\n",
    "    hotel_mapping = {hotel: i for i, hotel in enumerate(df['Hotel Name'].unique())}\n",
    "    df['Hotel_Index'] = df['Hotel Name'].map(hotel_mapping)\n",
    "    df.drop(['Hotel Name'], axis=1, inplace=True)\n",
    "    return df\n",
    "\n",
    "def map_date_to_numbers(df: pd.DataFrame, old_coloumn: str, new_coloumn: str) -> pd.DataFrame:\n",
    "    df[old_coloumn] = pd.to_datetime(df[old_coloumn])\n",
    "    df[f'{new_coloumn}_Year'] = df[old_coloumn].dt.year\n",
    "    df[f'{new_coloumn}_Month'] = df[old_coloumn].dt.month\n",
    "    df[f'{new_coloumn}_Day'] = df[old_coloumn].dt.day\n",
    "    df.drop([old_coloumn], axis=1, inplace=True)\n",
    "\n",
    "    return df"
   ]
  },
  {
   "cell_type": "code",
   "execution_count": null,
   "metadata": {},
   "outputs": [],
   "source": [
    "df = map_days_to_numbers(df)\n",
    "df = map_hotel_names_to_numbers(df)\n",
    "df = map_date_to_numbers(df, 'Snapshot Date', 'Snapshot')\n",
    "df = map_date_to_numbers(df, 'Checkin Date', 'Checkin')\n",
    "df.head()"
   ]
  },
  {
   "cell_type": "code",
   "execution_count": null,
   "metadata": {},
   "outputs": [],
   "source": [
    "import matplotlib.pyplot as plt\n",
    "import seaborn as sns\n",
    "\n",
    "numerical_features = ['DayDiff', 'Snapshot_Year', 'Snapshot_Month', 'Snapshot_Day', 'Checkin_Year', 'Checkin_Month', 'Checkin_Day']\n",
    "categorical_features = ['WeekDay', 'Hotel_Index']\n",
    "\n",
    "# Create subplots\n",
    "fig, axes = plt.subplots(nrows=2, ncols=4, figsize=(15, 8))\n",
    "axes = axes.flatten()\n",
    "\n",
    "# Plot histograms for numerical features\n",
    "for i, feature in enumerate(numerical_features):\n",
    "  sns.histplot(data=df, x=feature, ax=axes[i])\n",
    "  axes[i].set_title(f'Distribution of {feature}')\n",
    "\n",
    "# Plot bar charts for categorical features (assuming enough data for each category)\n",
    "for i, feature in enumerate(categorical_features):\n",
    "  sns.countplot(data=df, x=feature, ax=axes[i])\n",
    "  axes[i].set_title(f'Distribution of {feature}')\n",
    "\n",
    "plt.tight_layout()\n",
    "plt.show()"
   ]
  },
  {
   "cell_type": "code",
   "execution_count": null,
   "metadata": {},
   "outputs": [],
   "source": [
    "# Train Test Split\n",
    "\n",
    "from sklearn.model_selection import train_test_split\n",
    "\n",
    "# Define features (X) and target variable (y)\n",
    "X = df[['WeekDay', 'DayDiff', 'Hotel_Index', 'Snapshot_Year', 'Snapshot_Month', 'Snapshot_Day', 'Checkin_Year', 'Checkin_Month', 'Checkin_Day']]\n",
    "y = df['Class']\n",
    "\n",
    "X_train, X_test, y_train, y_test = train_test_split(X, y, test_size=0.2, random_state=42) "
   ]
  },
  {
   "cell_type": "markdown",
   "metadata": {},
   "source": [
    "#### Naive Bayes\n",
    "We have the following feature types:\n",
    "\n",
    "* **Continuous:**\n",
    "    - `DayDiff` \n",
    "    - `Snapshot_Year`\n",
    "    - `Snapshot_Month`\n",
    "    - `Snapshot_Day`\n",
    "    - `Checkin_Year`\n",
    "    - `Checkin_Month`\n",
    "    - `Checkin_Day`\n",
    "\n",
    "* **Categorical:**\n",
    "    - `WeekDay` \n",
    "    - `Hotel_Index`\n",
    "\n",
    "**Naive Bayes Variants and Suitability:**\n",
    "\n",
    "* **GaussianNB:**\n",
    "    - **Best suited for continuous features.** It assumes that the features are normally distributed (Gaussian). Since we have several continuous features GaussianNB seems like the choice.\n",
    "\n",
    "* **MultinomialNB:**\n",
    "    - **Suitable for discrete features.** While `WeekDay` and `Hotel_Index` can be treated as categorical, they don't inherently represent counts or frequencies.\n",
    "\n",
    "* **BernoulliNB:**\n",
    "    - **Suitable for binary features.** Not applicable in this case as none of the features are binary."
   ]
  },
  {
   "cell_type": "code",
   "execution_count": null,
   "metadata": {},
   "outputs": [],
   "source": [
    "from sklearn.naive_bayes import GaussianNB\n",
    "from sklearn.metrics import accuracy_score, classification_report\n",
    "\n",
    "naive_bayes = GaussianNB()\n",
    "naive_bayes.fit(X_train, y_train)\n",
    "y_pred = naive_bayes.predict(X_test)\n",
    "\n",
    "accuracy = accuracy_score(y_test, y_pred)\n",
    "print(f\"Accuracy: {accuracy:.2f}\")\n",
    "print(classification_report(y_test, y_pred)) "
   ]
  },
  {
   "cell_type": "markdown",
   "metadata": {},
   "source": [
    "## Step 3 - Clustering Based on Price Polices \n"
   ]
  },
  {
   "cell_type": "markdown",
   "metadata": {},
   "source": [
    "### Data Preparation  "
   ]
  },
  {
   "cell_type": "markdown",
   "metadata": {},
   "source": [
    "\n",
    "Identify the 150 hotels with the most data in the dataset and extract their records."
   ]
  },
  {
   "cell_type": "code",
   "execution_count": null,
   "metadata": {},
   "outputs": [],
   "source": [
    "import pandas as pd\n",
    "\n",
    "file_path = \"./hotels_data_changed.csv\"  \n",
    "df = pd.read_csv(file_path)\n",
    "\n",
    "hotel_counts = df['Hotel Name'].value_counts()\n",
    "top_150_hotels = hotel_counts.head(150).index\n",
    "filtered_df = df[df['Hotel Name'].isin(top_150_hotels)]\n",
    "\n",
    "filtered_df.head()"
   ]
  },
  {
   "cell_type": "markdown",
   "metadata": {},
   "source": [
    "Find the 40 most common check-in dates  in the dataset and extract their records.\n"
   ]
  },
  {
   "cell_type": "code",
   "execution_count": null,
   "metadata": {},
   "outputs": [],
   "source": [
    "checkin_counts = filtered_df['Checkin Date'].value_counts()\n",
    "top_40_checkin_dates = checkin_counts.head(40).index\n",
    "filtered_checkin_df = filtered_df[filtered_df['Checkin Date'].isin(top_40_checkin_dates)]\n",
    "\n",
    "filtered_checkin_df.head()"
   ]
  },
  {
   "cell_type": "markdown",
   "metadata": {},
   "source": [
    "**Task**\n",
    "\n",
    "Build a 160-dimensional feature vector for each hotel based on its discount pricing behavior. Each vector is constructed by:\n",
    "- Filtering the top 150 hotels (by record count) and the top 40 checkin dates.\n",
    "- For each hotel, extracting 4 discount prices (one per discount code) for each of the 40 checkin dates.\n",
    "- If no data is available for a specific (checkin date, discount code) combination, mark it with `-1`.\n",
    "\n",
    "**Plan**\n",
    "\n",
    "1. **Group the Data:**  \n",
    "   Group the filtered data by **Hotel Name**, **Checkin Date**, and **Discount Code**. For each group, compute the minimum discount price, ensuring that only the best (lowest) price per combination is selected.\n",
    "\n",
    "2. **Pivot to Wide Format:**  \n",
    "   Transform the grouped data into a wide format where:\n",
    "   - Each row represents a single hotel.\n",
    "   - Each column represents a unique (Checkin Date, Discount Code) combination, totaling 160 columns (40 dates × 4 codes).\n",
    "\n",
    "3. **Fill Missing Data:**  \n",
    "   - Reindex the pivoted DataFrame so that every hotel has all 160 combinations, filling missing entries with `-1`.\n",
    "\n",
    "\n"
   ]
  },
  {
   "cell_type": "code",
   "execution_count": null,
   "metadata": {},
   "outputs": [],
   "source": [
    "# 1. Group by Hotel Name, Checkin Date, and Discount Code and select the minimum Discount Price.\n",
    "grouped = (\n",
    "    filtered_checkin_df\n",
    "    .groupby(['Hotel Name', 'Checkin Date', 'Discount Code'])['Discount Price']\n",
    "    .min()\n",
    "    .reset_index()\n",
    ")\n",
    "\n",
    "\n",
    "# 2. Pivot the DataFrame so that:\n",
    "#    - The index is 'Hotel Name'\n",
    "#    - The columns are a MultiIndex with levels (Checkin Date, Discount Code)\n",
    "#    - The values are the minimum discount prices.\n",
    "pivot_df = grouped.pivot_table(index='Hotel Name',\n",
    "                               columns=['Checkin Date', 'Discount Code'],\n",
    "                               values='Discount Price')\n",
    "\n",
    "\n",
    "# 3. Reindex the columns so that all 40 checkin dates and 4 discount codes are present.\n",
    "#    Use the top_40_checkin_dates (from your earlier filtering) and the list [1, 2, 3, 4] for discount codes. \n",
    "all_combinations = pd.MultiIndex.from_product([top_40_checkin_dates, [1, 2, 3, 4]],\n",
    "                                                names=['Checkin Date', 'Discount Code'])\n",
    "\n",
    "pivot_df = pivot_df.reindex(columns=all_combinations, fill_value=-1)\n",
    "pivot_df = pivot_df.fillna(-1)\n",
    "\n",
    "\n",
    "pivot_df.columns = [\n",
    "    col if isinstance(col, str) else f\"{col[0]} - {col[1]}\"\n",
    "    for col in pivot_df.columns\n",
    "]\n",
    "pivot_df = pivot_df.reset_index()\n",
    "\n",
    "print(pivot_df.head())\n",
    "print(pivot_df.shape[0]) # Note we have 149 hotels instead of 150 - solution in next cell"
   ]
  },
  {
   "cell_type": "markdown",
   "metadata": {},
   "source": [
    "**Verifying Missing Hotel Data**\n",
    "\n",
    "After filtering and pivoting the data, we expect to have 150 hotels, but only 149 appear in our pivot table. This indicates that one (or more) of the top 150 hotels has no records for the top 40 check-in dates used in our analysis.\n",
    "\n",
    "The code above does the following:\n",
    "1. **Identify Missing Hotels:**  \n",
    "   It compares the complete list of top 150 hotels (`top_150_hotels`) with the hotel names present in the pivoted DataFrame (`pivot_df`). Any hotel that is not present is added to the `missing_hotels` list.\n",
    "\n",
    "2. **Check Data for Each Missing Hotel:**  \n",
    "   For each missing hotel, it filters `filtered_checkin_df` (which already contains only records from the top 40 check-in dates) to see if there are any records for that hotel.  \n",
    "   - If the resulting DataFrame is empty, it confirms that the hotel indeed has no data for those check-in dates.  \n",
    "   - This explains why the hotel did not appear in the pivot table.\n",
    "\n",
    "By verifying that the missing hotel has no records in the filtered data, we can conclude that the drop in the number of hotels is due to the absence of data for those check-in dates rather than an error in our processing pipeline.\n",
    "\n"
   ]
  },
  {
   "cell_type": "code",
   "execution_count": null,
   "metadata": {},
   "outputs": [],
   "source": [
    "# Assuming you have already defined:\n",
    "# - top_150_hotels: the complete list of top 150 hotel names.\n",
    "# - pivot_df: the pivoted DataFrame after grouping and filtering.\n",
    "# - filtered_checkin_df: the DataFrame filtered by top 40 check-in dates.\n",
    "#\n",
    "# And the missing hotels are identified as:\n",
    "missing_hotels = [hotel for hotel in top_150_hotels if hotel not in pivot_df['Hotel Name'].values]\n",
    "print(\"Missing hotels:\", missing_hotels)\n",
    "\n",
    "# For each missing hotel, check if there is any record in the filtered_checkin_df.\n",
    "for hotel in missing_hotels:\n",
    "    hotel_records = filtered_checkin_df[filtered_checkin_df['Hotel Name'] == hotel]\n",
    "    print(f\"\\nRecords for missing hotel '{hotel}':\")\n",
    "    print(hotel_records)  # This should print an empty DataFrame if no data is present.\n"
   ]
  },
  {
   "cell_type": "markdown",
   "metadata": {},
   "source": [
    "\n",
    "**Task**\n",
    "\n",
    "For each hotel, we have a 160-dimensional vector of discount prices (one for each combination of Checkin Date and Discount Code). The goal is to normalize these prices so that, for each hotel, the lowest valid discount price becomes 0 and the highest becomes 100. Any missing value (indicated by `-1`) should remain unchanged.\n",
    "\n",
    "**Plan**\n",
    "\n",
    "1. **Define a Normalization Function:**  \n",
    "   Create a function (`normalize_row`) that:\n",
    "   - Filters out the missing values (`-1`) from the row.\n",
    "   - Computes the minimum and maximum values among the valid discount prices.\n",
    "   - Applies the normalization formula:\n",
    "     $$\n",
    "     \\text{normalized\\_price} = \\frac{(\\text{price} - \\text{min\\_price})}{(\\text{max\\_price} - \\text{min\\_price})} \\times 100\n",
    "     $$\n",
    "   - Handles the case where all valid prices are equal (to avoid division by zero) by setting them to 0.\n",
    "\n",
    "2. **Apply the Function Row-wise:**  \n",
    "   Normalize the discount prices for each hotel (i.e., for each row) by applying the function to all columns except the \"Hotel Name\".\n",
    "\n",
    "3. **Round and Convert to Integers:**  \n",
    "   After normalization, round the values to the nearest integer and convert them to an integer type, ensuring that the normalized prices are stored as integers.\n",
    "\n"
   ]
  },
  {
   "cell_type": "code",
   "execution_count": null,
   "metadata": {},
   "outputs": [],
   "source": [
    "def normalize_row(row):\n",
    "    valid_mask = row != -1\n",
    "    valid_prices = row[valid_mask]\n",
    "    \n",
    "    if valid_prices.empty:\n",
    "        return row\n",
    "    \n",
    "    min_price = valid_prices.min()\n",
    "    max_price = valid_prices.max()\n",
    "    \n",
    "   # Avoid division by zero if all valid prices are identical\n",
    "    if min_price == max_price:\n",
    "        row[valid_mask] = 0\n",
    "    else:\n",
    "        # Compute the normalized values, round them, and cast to int\n",
    "        normalized_values = ((row[valid_mask] - min_price) / (max_price - min_price)) * 100\n",
    "        row[valid_mask] = normalized_values.round(0).astype(int)\n",
    "    \n",
    "    return row\n",
    "\n",
    "\n",
    "pivot_df.iloc[:, 1:] = pivot_df.iloc[:, 1:].apply(normalize_row, axis=1)\n",
    "\n",
    "for col in pivot_df.columns[1:]:\n",
    "    pivot_df[col] = pd.to_numeric(pivot_df[col], errors='coerce')\n",
    "    pivot_df[col] = pivot_df[col].astype(\"Int64\")\n",
    "\n",
    "\n",
    "\n",
    "\n",
    "print(pivot_df.head(5))\n",
    "\n"
   ]
  },
  {
   "cell_type": "markdown",
   "metadata": {},
   "source": [
    "**Save to CSV**"
   ]
  },
  {
   "cell_type": "code",
   "execution_count": null,
   "metadata": {},
   "outputs": [],
   "source": [
    "hotels_clustering_data = \"./hotels_clustering_data.csv\"\n",
    "pivot_df.to_csv(hotels_clustering_data, index=False)"
   ]
  },
  {
   "cell_type": "markdown",
   "metadata": {},
   "source": [
    "### Hierarchical Clustering"
   ]
  },
  {
   "cell_type": "markdown",
   "metadata": {},
   "source": [
    "**Task**\n",
    "\n",
    "Using the normalized discount prices for each hotel, we will perform hierarchical clustering to group hotels that exhibit similar pricing behaviors. We have a 160-dimensional feature vector for each hotel (each dimension corresponds to a specific (Checkin Date, Discount Code) pair).\n",
    "\n",
    "**Plan**\n",
    "\n",
    "1. **Prepare the Data:**  \n",
    "   - Load the saved CSV file (`hotels_clustering_data.csv`).\n",
    "   - Separate the \"Hotel Name\" column (for labeling) from the numeric feature columns.\n",
    "\n",
    "2. **Perform Hierarchical Clustering:**  \n",
    "   - Use SciPy's `linkage` function with Ward's method (which works well with Euclidean distance) to compute the clustering.\n",
    "   - Generate a linkage matrix that represents the hierarchical clustering.\n",
    "\n",
    "3. **Plot the Dendrogram:**  \n",
    "   - Use SciPy's `dendrogram` function to visualize the hierarchical clustering.\n",
    "   - Label each leaf in the dendrogram with the corresponding hotel name to help interpret the clusters.\n"
   ]
  },
  {
   "cell_type": "code",
   "execution_count": null,
   "metadata": {},
   "outputs": [],
   "source": [
    "!pip install plotly"
   ]
  },
  {
   "cell_type": "code",
   "execution_count": null,
   "metadata": {},
   "outputs": [],
   "source": [
    "import pandas as pd\n",
    "import plotly.figure_factory as ff\n",
    "from scipy.cluster.hierarchy import linkage\n",
    "\n",
    "def create_dendrogram_from_csv(csv_path, color_threshold=825, width=1200, height=1800):\n",
    "\n",
    "    clu_df = pd.read_csv(csv_path)\n",
    "    hotel_names = clu_df[\"Hotel Name\"].values\n",
    "    X = clu_df.drop(\"Hotel Name\", axis=1).values\n",
    "    Z = linkage(X, method='ward')\n",
    "\n",
    "    fig = ff.create_dendrogram(\n",
    "        X,\n",
    "        orientation='left',\n",
    "        labels=hotel_names,\n",
    "        color_threshold=color_threshold,\n",
    "        linkagefun=lambda x: Z\n",
    "    )\n",
    "\n",
    "    fig.update_layout(\n",
    "        width=width,\n",
    "        height=height\n",
    "    )\n",
    "    fig.show()\n",
    "    \n",
    "    return fig\n",
    "\n",
    "color_threshold_list = [825, 750, 625, 500]\n",
    "for color_threshold in color_threshold_list:\n",
    "    print (f'color_threshold={color_threshold}')\n",
    "    create_dendrogram_from_csv(\"hotels_clustering_data.csv\", color_threshold=color_threshold)\n"
   ]
  },
  {
   "cell_type": "markdown",
   "metadata": {},
   "source": [
    "### Results analysis"
   ]
  },
  {
   "cell_type": "markdown",
   "metadata": {},
   "source": [
    "We performed hierarchical clustering on a dataset of hotels, where each hotel is represented by a **160-dimensional vector** of normalized discount prices. In simpler terms, each hotel’s vector shows *how* it discounts (and by how much) across different dates and discount codes. The dendrogram below clusters these hotels based on their similarity in discounting patterns.\n",
    "\n",
    "Below, we examine **five different “cut” distances**—825, 750, 625, 500, and an additional view with fewer, broader clusters—and describe the cluster/subgroup formations you see in each figure.\n",
    "\n",
    "---\n",
    "\n",
    "#### Overall Explanation of the Dendrogram\n",
    "- **X-axis**: The distance (or dissimilarity) at which clusters merge. Larger values mean more dissimilar groups.  \n",
    "- **Y-axis**: The list of hotels, labeled along the left side.  \n",
    "- **Colored Branches**: Each color indicates a cluster or subgroup under the specified distance threshold.\n",
    "\n",
    "In general:  \n",
    "- Hotels that **merge at smaller distances** (farther to the left in the dendrogram) are quite similar in how they price their discounts.  \n",
    "- If you follow the dendrogram to the right until a major branch merges, that indicates hotels (or clusters of hotels) that are more dissimilar in their pricing behavior.\n",
    "\n",
    "---\n",
    "\n",
    "#### 1. Cut at Distance ≈ 825\n",
    "\n",
    "![Cut at ~825](./images/clustering-825.png)  \n",
    "\n",
    "- We see **three main clusters** forming at this high distance threshold.  \n",
    "- **Group 1** (green), **Group 2** (red), and **Group 3** (blue) represent broad differences in discounting strategies. \n",
    "- Within each group, hotels share overall similarities in their discount patterns, but we’re not yet seeing the finer differences.\n",
    "\n",
    "---\n",
    "\n",
    "#### 2. Cut at Distance ≈ 750\n",
    "\n",
    "![Cut at ~750](./images/clustering-750.png)  \n",
    "\n",
    "- Lowering the threshold to **~750** begins to reveal **subgroups** within **Groups 1** and **3**, while **Group 2** remains mostly intact.  \n",
    "- **Group 1** (previously green) starts splitting into multiple smaller clusters. These subgroups suggest that, while these hotels share a broad discount pattern, some differences in exact pricing behavior are now visible.  \n",
    "- **Group 3** also subdivides more than before.\n",
    "- **Group 2** is still one cluster, which indicates that these hotels are, as a whole, more cohesive or less varied in their discount strategies at this distance.\n",
    "\n",
    "---\n",
    "\n",
    "#### 3. Cut at Distance ≈ 625\n",
    "\n",
    "![Cut at ~625](./images/clustering-625.png)  \n",
    "\n",
    "- By **~625**, **Group 1** and **Group 3** break into several distinct subgroups, illustrating more granular differences.  \n",
    "- **Group 2** is still a single cluster—indicating even at this more fine-grained level, the hotels in Group 2 remain very similar.  \n",
    "- This suggests **Group 2** has a stable, uniform discount pattern, or at least they differ less from each other than from the other groups.\n",
    "\n",
    "---\n",
    "\n",
    "#### 4. Cut at Distance ≈ 500\n",
    "\n",
    "![Cut at ~500](./images/clustering-500.png)  \n",
    "\n",
    "- Finally, at **~500**, **Group 2** splits into **two subgroups**, showing that there are *at least* two distinct discounting patterns within Group 2 when we look closely.  \n",
    "- **Groups 1 and 3** now fragment into many smaller subgroups. If you count them, there could be several mini-clusters in each.  \n",
    "- Each **subgroup** here represents hotels that are very closely aligned in how they handle discounts across time—likely direct competitors or hotels following near-identical pricing guidelines.\n",
    "\n",
    "---\n",
    "\n",
    "#### Meaning of Subgroups\n",
    "\n",
    "1. **Competitive Landscape**  \n",
    "   - Hotels in the **same subgroup** are likely *direct competitors*, as they share nearly identical discount structures and timelines.\n",
    "\n",
    "2. **Revenue Management Strategy**  \n",
    "   - Subgroups often align with brand or chain policies (e.g., a single chain might appear as a tight cluster if they use centralized pricing software).  \n",
    "   - The level of granularity around **500** distance reveals the *very fine details* of each hotel’s promotional activities.\n",
    "\n",
    "3. **Marketing & Differentiation**  \n",
    "   - If you manage a hotel in these clusters, you might examine how close neighbors in the dendrogram are discounting.  \n",
    "   - Being in a tight cluster might motivate you to **differentiate** or **align** your pricing further.\n",
    "\n",
    "4. **Insights for Group 2**  \n",
    "   - Group 2’s stability up to a lower threshold (625) suggests a coherent pricing approach among its hotels. They only start splitting at ~500, which indicates that their differences are more subtle and only become apparent under a finer lens.\n",
    "\n",
    "---\n",
    "\n",
    "#### Putting It All Together\n",
    "At **higher thresholds** (825+), we see broad strokes: *three main pricing behaviors*.  As we lower the cut distance, we discover **finer distinctions** within each major group:\n",
    "- **Groups 1 & 3** develop several distinct subgroups earlier (around 750 or 625).  \n",
    "- **Group 2** remains consistent longer and only splits around 500, revealing that even seemingly uniform clusters can exhibit small internal differences if you zoom in far enough.\n",
    "\n",
    "In essence, **each subgroup** helps us understand small sets of hotels that might share very close discounting patterns—key information for competitive analysis and strategic pricing decisions.\n",
    "\n"
   ]
  },
  {
   "cell_type": "markdown",
   "metadata": {},
   "source": [
    "### diving even deeper - (checking the hotel stars and average price with the pricing strategy)"
   ]
  },
  {
   "cell_type": "markdown",
   "metadata": {},
   "source": [
    "The results from the last section were interesting, so i decided to run the same clustering but with the hotels stars, prices and discounts to see if some patterns emerge.\n",
    "\n",
    "The new label now contains:\n",
    "- stars\n",
    "- avg price\n",
    "- avg discount\n",
    "- avg discount rate \n",
    "\n",
    "in this format:\n",
    "\n",
    "`(stars) - price - discount - discount rate`\n",
    "\n",
    "example:\n",
    "\n",
    "(5) - 3898 - 3663 - 6% "
   ]
  },
  {
   "cell_type": "code",
   "execution_count": null,
   "metadata": {},
   "outputs": [],
   "source": [
    "import pandas as pd\n",
    "\n",
    "pivot_df = pd.read_csv(\"hotels_clustering_data.csv\")\n",
    "df = pd.read_csv(\"./hotels_data_changed.csv\")\n",
    "\n",
    "pivot_df[\"Hotel Name\"] = pivot_df[\"Hotel Name\"].astype(str).str.strip()\n",
    "hotel_counts = df[\"Hotel Name\"].value_counts()\n",
    "top_150_hotels = hotel_counts.head(150).index\n",
    "\n",
    "summary_df = (\n",
    "    df[df[\"Hotel Name\"].isin(top_150_hotels)]\n",
    "    .groupby(\"Hotel Name\")\n",
    "    .agg({\"Original Price\": \"mean\", \"Discount Price\": \"mean\", \"Hotel Stars\": \"first\"})\n",
    "    .reset_index()\n",
    ")\n",
    "\n",
    "summary_df[\"Hotel Name\"] = summary_df[\"Hotel Name\"].astype(str).str.strip()\n",
    "summary_df[\"Original Price\"] = summary_df[\"Original Price\"].round(0).astype(int)\n",
    "summary_df[\"Discount Price\"] = summary_df[\"Discount Price\"].round(0).astype(int)\n",
    "merged_df = pivot_df.merge(summary_df, on=\"Hotel Name\", how=\"left\")\n",
    "\n",
    "merged_df[\"DiscountPerc\"] = (((merged_df[\"Original Price\"] - merged_df[\"Discount Price\"]) / merged_df[\"Original Price\"]) * 100).round(0).astype(int)\n",
    "merged_df[\"Label\"] = merged_df.apply(lambda row: f\"({row['Hotel Stars']}) - {row['Original Price']} - {row['Discount Price']} - {row['DiscountPerc']}%\", axis=1)\n",
    "\n",
    "print(merged_df.head())\n",
    "merged_df.to_csv(\"./hotels_clustering_data_with_summary.csv\", index=False)\n"
   ]
  },
  {
   "cell_type": "code",
   "execution_count": null,
   "metadata": {},
   "outputs": [],
   "source": [
    "import pandas as pd\n",
    "import plotly.figure_factory as ff\n",
    "from scipy.cluster.hierarchy import linkage\n",
    "\n",
    "def create_dendrogram_from_csv(csv_path, color_threshold=825, width=1200, height=1800):\n",
    "    clu_df = pd.read_csv(csv_path)\n",
    "    if \"Label\" in clu_df.columns:\n",
    "        labels = clu_df[\"Label\"].values\n",
    "        non_clustering = [\"Hotel Name\", \"Label\", \"Hotel Stars\", \"Original Price\", \"Discount Price\", \"DiscountPerc\"]\n",
    "    else:\n",
    "        labels = clu_df[\"Hotel Name\"].values\n",
    "        non_clustering = [\"Hotel Name\", \"Hotel Stars\", \"Original Price\", \"Discount Price\", \"DiscountPerc\"]\n",
    "    X = clu_df.drop(columns=non_clustering, errors='ignore').values\n",
    "    Z = linkage(X, method='ward')\n",
    "    fig = ff.create_dendrogram(\n",
    "        X,\n",
    "        orientation='left',\n",
    "        labels=labels,\n",
    "        color_threshold=color_threshold,\n",
    "        linkagefun=lambda x: Z\n",
    "    )\n",
    "    fig.update_layout(width=width, height=height)\n",
    "    fig.show()\n",
    "    return fig\n",
    "\n",
    "color_threshold_list = [825, 750, 625, 500]\n",
    "for color_threshold in color_threshold_list:\n",
    "    print(f'color_threshold={color_threshold}')\n",
    "    create_dendrogram_from_csv(\"hotels_clustering_data_with_summary.csv\", color_threshold=color_threshold)\n"
   ]
  },
  {
   "cell_type": "markdown",
   "metadata": {},
   "source": [
    "#### Hierarchical Clustering with Star Rating, Avg Price, and Discounts\n",
    "\n",
    "We re-ran clustering with four features:\n",
    "1. **Hotel star rating**  \n",
    "2. **Avg nightly price**  \n",
    "3. **Avg absolute discount**  \n",
    "4. **Avg discount rate (%)**\n",
    "\n",
    "Each dendrogram label is `(stars) – price – discount – discount rate`.\n",
    "\n",
    "#### 1. Main Observations\n",
    "\n",
    "- **Star Rating & Price** dominate the first major splits:\n",
    "  - **Budget/Midscale** (2–3★, ~1,200–1,800 price) form one big group.\n",
    "  - **Upscale/Luxury** (4–5★, 2,500–4,000+) cluster separately.\n",
    "- **Discount Patterns** refine clusters within each star tier:\n",
    "  - Hotels sharing similar price but different discount behavior split into distinct subgroups.\n",
    "  - Aggressive vs. conservative discounters separate at lower distance thresholds.\n",
    "\n",
    "#### 2. Cluster Insights\n",
    "\n",
    "1. **Large Distance Clusters**:\n",
    "   - Budget vs. Luxury hotels split clearly by base price and star rating.\n",
    "   - Some **mixed star** groups appear if their price/discount overlap.\n",
    "\n",
    "2. **Subgroups at Tighter Distances**:\n",
    "   - Within the same star tier, variations in discount size or percentage form separate sub-clusters.\n",
    "   - Outliers can include a high-star hotel with heavy discounts or a low-star with high pricing.\n",
    "\n",
    "#### 3. Takeaways\n",
    "\n",
    "- **Star Rating is Primary**; discount strategies refine subgroups.  \n",
    "- Hotels in tight clusters likely share near-identical pricing/discount policies, suggesting **direct competition**.  \n",
    "- Examine outliers for unique pricing approaches or potential repositioning strategies."
   ]
  },
  {
   "cell_type": "markdown",
   "metadata": {},
   "source": [
    "## step 4 - Building a Predictive Model for Hotel Pricing Dynamics Using Snapshot Data\n",
    "\n"
   ]
  },
  {
   "cell_type": "markdown",
   "metadata": {},
   "source": [
    "## step 5 - PySpark & Mllib for step 3"
   ]
  },
  {
   "cell_type": "markdown",
   "metadata": {},
   "source": [
    "### Installation"
   ]
  },
  {
   "cell_type": "markdown",
   "metadata": {},
   "source": [
    "Spark requires a java version of 8 or 11 to work"
   ]
  },
  {
   "cell_type": "code",
   "execution_count": 1,
   "metadata": {},
   "outputs": [],
   "source": [
    "%%capture \n",
    "!conda install -c conda-forge openjdk=11 -y"
   ]
  },
  {
   "cell_type": "markdown",
   "metadata": {},
   "source": [
    "config spark to work with our env java version(11)"
   ]
  },
  {
   "cell_type": "code",
   "execution_count": 5,
   "metadata": {},
   "outputs": [
    {
     "name": "stdout",
     "output_type": "stream",
     "text": [
      "JAVA_HOME is set to: /opt/anaconda3/envs/DS-101-Final\n"
     ]
    }
   ],
   "source": [
    "import os \n",
    "java_home_path = os.popen('dirname $(dirname $(which java))').read().strip()\n",
    "os.environ[\"JAVA_HOME\"] = java_home_path\n",
    "print(f\"JAVA_HOME is set to: {os.environ['JAVA_HOME']}\")\n"
   ]
  },
  {
   "cell_type": "code",
   "execution_count": null,
   "metadata": {},
   "outputs": [
    {
     "name": "stdout",
     "output_type": "stream",
     "text": [
      "Requirement already satisfied: pyspark in /opt/anaconda3/envs/DS-101-Final/lib/python3.12/site-packages (3.5.4)\n",
      "Requirement already satisfied: plotly in /opt/anaconda3/envs/DS-101-Final/lib/python3.12/site-packages (6.0.0)\n",
      "Requirement already satisfied: py4j==0.10.9.7 in /opt/anaconda3/envs/DS-101-Final/lib/python3.12/site-packages (from pyspark) (0.10.9.7)\n",
      "Requirement already satisfied: narwhals>=1.15.1 in /opt/anaconda3/envs/DS-101-Final/lib/python3.12/site-packages (from plotly) (1.25.2)\n",
      "Requirement already satisfied: packaging in /opt/anaconda3/envs/DS-101-Final/lib/python3.12/site-packages (from plotly) (24.2)\n"
     ]
    }
   ],
   "source": [
    "%%capture \n",
    "!pip install pyspark plotly"
   ]
  },
  {
   "cell_type": "markdown",
   "metadata": {},
   "source": [
    "### Create Spark session"
   ]
  },
  {
   "cell_type": "code",
   "execution_count": 3,
   "metadata": {},
   "outputs": [
    {
     "name": "stderr",
     "output_type": "stream",
     "text": [
      "25/02/08 11:08:23 WARN Utils: Your hostname, Yoavs-MacBook-Pro.local resolves to a loopback address: 127.0.0.1; using 10.0.0.120 instead (on interface en0)\n",
      "25/02/08 11:08:23 WARN Utils: Set SPARK_LOCAL_IP if you need to bind to another address\n",
      "Setting default log level to \"WARN\".\n",
      "To adjust logging level use sc.setLogLevel(newLevel). For SparkR, use setLogLevel(newLevel).\n",
      "25/02/08 11:08:23 WARN NativeCodeLoader: Unable to load native-hadoop library for your platform... using builtin-java classes where applicable\n"
     ]
    },
    {
     "name": "stdout",
     "output_type": "stream",
     "text": [
      "Create Spark session\n"
     ]
    }
   ],
   "source": [
    "from pyspark.sql import SparkSession\n",
    "from pyspark.sql.functions import col, count, lit, concat, first, array, udf\n",
    "from pyspark.sql.types import ArrayType, IntegerType\n",
    "from pyspark.ml.feature import VectorAssembler\n",
    "from pyspark.ml.clustering import BisectingKMeans\n",
    "from pyspark.sql.functions import min as spark_min\n",
    "\n",
    "try:\n",
    "    spark.stop()\n",
    "except:\n",
    "    pass\n",
    "\n",
    "spark = SparkSession.builder.appName(\"HotelClustering\").getOrCreate()\n",
    "print(\"Create Spark session\") "
   ]
  },
  {
   "cell_type": "markdown",
   "metadata": {},
   "source": [
    "### Data Loading and Filtering"
   ]
  },
  {
   "cell_type": "markdown",
   "metadata": {},
   "source": [
    "- Load the CSV file.\n",
    "- Select the top 150 hotels (by number of records).\n",
    "- Select the top 40 checkin dates."
   ]
  },
  {
   "cell_type": "code",
   "execution_count": 6,
   "metadata": {},
   "outputs": [
    {
     "data": {
      "text/plain": [
       "Row(Checkin Date=datetime.date(2015, 8, 13), Hotel Name='The Peninsula New York', Snapshot ID=1, Snapshot Date=datetime.date(2015, 7, 17), Days=5, Original Price=4370, Discount Price=4240, Discount Code=1, Available Rooms=3, Hotel Stars=5, DayDiff=27, WeekDay='Thursday', DiscountDiff=130, DiscountPerc=2.9748283752860414)"
      ]
     },
     "execution_count": 6,
     "metadata": {},
     "output_type": "execute_result"
    }
   ],
   "source": [
    "file_path = \"./hotels_data_changed.csv\"\n",
    "\n",
    "df = spark.read.option(\"header\", \"true\").option(\"inferSchema\", \"true\").csv(file_path)\n",
    "\n",
    "top150_hotels = df.groupBy(\"Hotel Name\").agg(count(\"*\").alias(\"cnt\")) .orderBy(col(\"cnt\").desc()).limit(150)\n",
    "\n",
    "\n",
    "df_top150 = df.join(top150_hotels.select(\"Hotel Name\"), on=\"Hotel Name\", how=\"inner\")\n",
    "\n",
    "\n",
    "top40_dates = df_top150.groupBy(\"Checkin Date\").agg(count(\"*\").alias(\"cnt\")).orderBy(col(\"cnt\").desc()).limit(40)\n",
    "\n",
    "df_top150_dates = df_top150.join(top40_dates.select(\"Checkin Date\"), on=\"Checkin Date\", how=\"inner\")\n",
    "\n",
    "df_top150_dates.head()\n"
   ]
  },
  {
   "cell_type": "markdown",
   "metadata": {},
   "source": [
    "### Convert to 160-dims vector"
   ]
  },
  {
   "cell_type": "code",
   "execution_count": 8,
   "metadata": {},
   "outputs": [
    {
     "name": "stderr",
     "output_type": "stream",
     "text": [
      "25/02/08 11:13:56 WARN SparkStringUtils: Truncated the string representation of a plan since it was too large. This behavior can be adjusted by setting 'spark.sql.debug.maxToStringFields'.\n"
     ]
    },
    {
     "data": {
      "text/plain": [
       "[Row(Hotel Name='Bentley Hotel', 2015-08-12_1=-1, 2015-08-12_2=-1, 2015-08-12_3=-1, 2015-08-12_4=-1, 2015-08-13_1=-1, 2015-08-13_2=-1, 2015-08-13_3=-1, 2015-08-13_4=-1, 2015-08-19_1=-1, 2015-08-19_2=-1, 2015-08-19_3=-1, 2015-08-19_4=-1, 2015-08-26_1=-1, 2015-08-26_2=-1, 2015-08-26_3=-1, 2015-08-26_4=-1, 2015-08-27_1=-1, 2015-08-27_2=-1, 2015-08-27_3=980, 2015-08-27_4=-1, 2015-08-28_1=-1, 2015-08-28_2=-1, 2015-08-28_3=-1, 2015-08-28_4=-1, 2015-09-09_1=-1, 2015-09-09_2=-1, 2015-09-09_3=-1, 2015-09-09_4=-1, 2015-09-10_1=-1, 2015-09-10_2=-1, 2015-09-10_3=-1, 2015-09-10_4=-1, 2015-09-11_1=-1, 2015-09-11_2=-1, 2015-09-11_3=-1, 2015-09-11_4=-1, 2015-09-16_1=-1, 2015-09-16_2=-1, 2015-09-16_3=-1, 2015-09-16_4=-1, 2015-09-17_1=-1, 2015-09-17_2=-1, 2015-09-17_3=-1, 2015-09-17_4=-1, 2015-09-18_1=-1, 2015-09-18_2=-1, 2015-09-18_3=-1, 2015-09-18_4=-1, 2015-09-30_1=-1, 2015-09-30_2=-1, 2015-09-30_3=-1, 2015-09-30_4=-1, 2015-10-01_1=-1, 2015-10-01_2=-1, 2015-10-01_3=-1, 2015-10-01_4=-1, 2015-10-02_1=-1, 2015-10-02_2=-1, 2015-10-02_3=-1, 2015-10-02_4=-1, 2015-10-07_1=-1, 2015-10-07_2=-1, 2015-10-07_3=-1, 2015-10-07_4=-1, 2015-10-14_1=-1, 2015-10-14_2=-1, 2015-10-14_3=-1, 2015-10-14_4=-1, 2015-10-15_1=-1, 2015-10-15_2=-1, 2015-10-15_3=2923, 2015-10-15_4=-1, 2015-10-16_1=-1, 2015-10-16_2=-1, 2015-10-16_3=-1, 2015-10-16_4=-1, 2015-10-21_1=1405, 2015-10-21_2=1403, 2015-10-21_3=1394, 2015-10-21_4=1389, 2015-10-22_1=-1, 2015-10-22_2=-1, 2015-10-22_3=-1, 2015-10-22_4=-1, 2015-10-27_1=-1, 2015-10-27_2=-1, 2015-10-27_3=2985, 2015-10-27_4=-1, 2015-10-28_1=-1, 2015-10-28_2=-1, 2015-10-28_3=-1, 2015-10-28_4=-1, 2015-10-29_1=-1, 2015-10-29_2=-1, 2015-10-29_3=2076, 2015-10-29_4=-1, 2015-10-30_1=-1, 2015-10-30_2=1798, 2015-10-30_3=1889, 2015-10-30_4=-1, 2015-11-03_1=-1, 2015-11-03_2=-1, 2015-11-03_3=-1, 2015-11-03_4=-1, 2015-11-04_1=-1, 2015-11-04_2=-1, 2015-11-04_3=-1, 2015-11-04_4=-1, 2015-11-05_1=1184, 2015-11-05_2=1138, 2015-11-05_3=1133, 2015-11-05_4=1179, 2015-11-06_1=-1, 2015-11-06_2=-1, 2015-11-06_3=-1, 2015-11-06_4=-1, 2015-11-07_1=-1, 2015-11-07_2=-1, 2015-11-07_3=-1, 2015-11-07_4=-1, 2015-11-10_1=-1, 2015-11-10_2=-1, 2015-11-10_3=-1, 2015-11-10_4=-1, 2015-11-11_1=-1, 2015-11-11_2=-1, 2015-11-11_3=-1, 2015-11-11_4=-1, 2015-11-12_1=-1, 2015-11-12_2=-1, 2015-11-12_3=-1, 2015-11-12_4=-1, 2015-11-13_1=-1, 2015-11-13_2=-1, 2015-11-13_3=-1, 2015-11-13_4=-1, 2015-11-18_1=-1, 2015-11-18_2=-1, 2015-11-18_3=-1, 2015-11-18_4=-1, 2015-11-21_1=868, 2015-11-21_2=-1, 2015-11-21_3=1488, 2015-11-21_4=-1, 2015-11-25_1=-1, 2015-11-25_2=2023, 2015-11-25_3=2041, 2015-11-25_4=-1, 2015-11-26_1=-1, 2015-11-26_2=-1, 2015-11-26_3=-1, 2015-11-26_4=-1, 2015-11-27_1=-1, 2015-11-27_2=-1, 2015-11-27_3=-1, 2015-11-27_4=-1, 2015-11-28_1=-1, 2015-11-28_2=-1, 2015-11-28_3=1104, 2015-11-28_4=-1),\n",
       " Row(Hotel Name='Westin New York at Times Square', 2015-08-12_1=1263, 2015-08-12_2=1277, 2015-08-12_3=1328, 2015-08-12_4=-1, 2015-08-13_1=-1, 2015-08-13_2=1285, 2015-08-13_3=-1, 2015-08-13_4=1261, 2015-08-19_1=1163, 2015-08-19_2=1214, 2015-08-19_3=1317, 2015-08-19_4=-1, 2015-08-26_1=1083, 2015-08-26_2=1129, 2015-08-26_3=1227, 2015-08-26_4=1328, 2015-08-27_1=-1, 2015-08-27_2=-1, 2015-08-27_3=-1, 2015-08-27_4=-1, 2015-08-28_1=1070, 2015-08-28_2=1250, 2015-08-28_3=1194, 2015-08-28_4=1166, 2015-09-09_1=-1, 2015-09-09_2=-1, 2015-09-09_3=2165, 2015-09-09_4=-1, 2015-09-10_1=1658, 2015-09-10_2=1695, 2015-09-10_3=1767, 2015-09-10_4=-1, 2015-09-11_1=-1, 2015-09-11_2=1833, 2015-09-11_3=1759, 2015-09-11_4=-1, 2015-09-16_1=-1, 2015-09-16_2=2398, 2015-09-16_3=2018, 2015-09-16_4=2230, 2015-09-17_1=1526, 2015-09-17_2=1544, 2015-09-17_3=1640, 2015-09-17_4=-1, 2015-09-18_1=-1, 2015-09-18_2=1425, 2015-09-18_3=1380, 2015-09-18_4=1425, 2015-09-30_1=1810, 2015-09-30_2=1778, 2015-09-30_3=1837, 2015-09-30_4=2098, 2015-10-01_1=-1, 2015-10-01_2=-1, 2015-10-01_3=-1, 2015-10-01_4=-1, 2015-10-02_1=-1, 2015-10-02_2=1981, 2015-10-02_3=-1, 2015-10-02_4=2147, 2015-10-07_1=2044, 2015-10-07_2=2138, 2015-10-07_3=2217, 2015-10-07_4=-1, 2015-10-14_1=1356, 2015-10-14_2=1426, 2015-10-14_3=1475, 2015-10-14_4=1965, 2015-10-15_1=-1, 2015-10-15_2=1440, 2015-10-15_3=-1, 2015-10-15_4=1326, 2015-10-16_1=-1, 2015-10-16_2=1627, 2015-10-16_3=1446, 2015-10-16_4=1493, 2015-10-21_1=1656, 2015-10-21_2=1716, 2015-10-21_3=1775, 2015-10-21_4=2265, 2015-10-22_1=-1, 2015-10-22_2=1705, 2015-10-22_3=1606, 2015-10-22_4=1556, 2015-10-27_1=-1, 2015-10-27_2=1939, 2015-10-27_3=1985, 2015-10-27_4=-1, 2015-10-28_1=1606, 2015-10-28_2=1674, 2015-10-28_3=1719, 2015-10-28_4=-1, 2015-10-29_1=1754, 2015-10-29_2=1649, 2015-10-29_3=1611, 2015-10-29_4=1527, 2015-10-30_1=-1, 2015-10-30_2=1695, 2015-10-30_3=1600, 2015-10-30_4=1827, 2015-11-03_1=-1, 2015-11-03_2=1746, 2015-11-03_3=1882, 2015-11-03_4=-1, 2015-11-04_1=1336, 2015-11-04_2=1396, 2015-11-04_3=1445, 2015-11-04_4=-1, 2015-11-05_1=1458, 2015-11-05_2=1355, 2015-11-05_3=1334, 2015-11-05_4=1256, 2015-11-06_1=-1, 2015-11-06_2=1565, 2015-11-06_3=1516, 2015-11-06_4=1728, 2015-11-07_1=1825, 2015-11-07_2=1695, 2015-11-07_3=1896, 2015-11-07_4=-1, 2015-11-10_1=1576, 2015-11-10_2=1656, 2015-11-10_3=1723, 2015-11-10_4=-1, 2015-11-11_1=1532, 2015-11-11_2=1586, 2015-11-11_3=1631, 2015-11-11_4=1681, 2015-11-12_1=-1, 2015-11-12_2=1343, 2015-11-12_3=1264, 2015-11-12_4=1246, 2015-11-13_1=-1, 2015-11-13_2=1423, 2015-11-13_3=1374, 2015-11-13_4=1673, 2015-11-18_1=1400, 2015-11-18_2=1476, 2015-11-18_3=1519, 2015-11-18_4=-1, 2015-11-21_1=-1, 2015-11-21_2=1219, 2015-11-21_3=-1, 2015-11-21_4=1180, 2015-11-25_1=1106, 2015-11-25_2=1168, 2015-11-25_3=1181, 2015-11-25_4=1172, 2015-11-26_1=-1, 2015-11-26_2=1467, 2015-11-26_3=1352, 2015-11-26_4=1365, 2015-11-27_1=-1, 2015-11-27_2=1425, 2015-11-27_3=1388, 2015-11-27_4=1330, 2015-11-28_1=-1, 2015-11-28_2=1727, 2015-11-28_3=1678, 2015-11-28_4=-1),\n",
       " Row(Hotel Name='The Westin New York Grand Central', 2015-08-12_1=1282, 2015-08-12_2=1386, 2015-08-12_3=1441, 2015-08-12_4=1446, 2015-08-13_1=1247, 2015-08-13_2=-1, 2015-08-13_3=-1, 2015-08-13_4=-1, 2015-08-19_1=1198, 2015-08-19_2=1200, 2015-08-19_3=1245, 2015-08-19_4=-1, 2015-08-26_1=1218, 2015-08-26_2=1238, 2015-08-26_3=1283, 2015-08-26_4=1388, 2015-08-27_1=-1, 2015-08-27_2=-1, 2015-08-27_3=-1, 2015-08-27_4=-1, 2015-08-28_1=-1, 2015-08-28_2=-1, 2015-08-28_3=-1, 2015-08-28_4=-1, 2015-09-09_1=-1, 2015-09-09_2=1926, 2015-09-09_3=1993, 2015-09-09_4=-1, 2015-09-10_1=-1, 2015-09-10_2=2026, 2015-09-10_3=1983, 2015-09-10_4=1947, 2015-09-11_1=-1, 2015-09-11_2=-1, 2015-09-11_3=-1, 2015-09-11_4=-1, 2015-09-16_1=-1, 2015-09-16_2=2149, 2015-09-16_3=2251, 2015-09-16_4=2458, 2015-09-17_1=-1, 2015-09-17_2=2243, 2015-09-17_3=2200, 2015-09-17_4=2159, 2015-09-18_1=-1, 2015-09-18_2=-1, 2015-09-18_3=-1, 2015-09-18_4=-1, 2015-09-30_1=1967, 2015-09-30_2=2128, 2015-09-30_3=2134, 2015-09-30_4=-1, 2015-10-01_1=2334, 2015-10-01_2=-1, 2015-10-01_3=-1, 2015-10-01_4=1867, 2015-10-02_1=-1, 2015-10-02_2=-1, 2015-10-02_3=-1, 2015-10-02_4=-1, 2015-10-07_1=-1, 2015-10-07_2=2190, 2015-10-07_3=2299, 2015-10-07_4=2716, 2015-10-14_1=1694, 2015-10-14_2=1949, 2015-10-14_3=2045, 2015-10-14_4=1932, 2015-10-15_1=-1, 2015-10-15_2=-1, 2015-10-15_3=-1, 2015-10-15_4=1664, 2015-10-16_1=-1, 2015-10-16_2=-1, 2015-10-16_3=1764, 2015-10-16_4=-1, 2015-10-21_1=-1, 2015-10-21_2=1914, 2015-10-21_3=1959, 2015-10-21_4=-1, 2015-10-22_1=1967, 2015-10-22_2=-1, 2015-10-22_3=-1, 2015-10-22_4=1776, 2015-10-27_1=-1, 2015-10-27_2=1932, 2015-10-27_3=-1, 2015-10-27_4=-1, 2015-10-28_1=1788, 2015-10-28_2=1810, 2015-10-28_3=1879, 2015-10-28_4=-1, 2015-10-29_1=-1, 2015-10-29_2=-1, 2015-10-29_3=1780, 2015-10-29_4=-1, 2015-10-30_1=1921, 2015-10-30_2=1845, 2015-10-30_3=-1, 2015-10-30_4=-1, 2015-11-03_1=-1, 2015-11-03_2=1840, 2015-11-03_3=1921, 2015-11-03_4=-1, 2015-11-04_1=1522, 2015-11-04_2=1614, 2015-11-04_3=1671, 2015-11-04_4=1784, 2015-11-05_1=-1, 2015-11-05_2=1450, 2015-11-05_3=-1, 2015-11-05_4=1334, 2015-11-06_1=-1, 2015-11-06_2=-1, 2015-11-06_3=1506, 2015-11-06_4=1508, 2015-11-07_1=-1, 2015-11-07_2=1733, 2015-11-07_3=1678, 2015-11-07_4=-1, 2015-11-10_1=-1, 2015-11-10_2=-1, 2015-11-10_3=-1, 2015-11-10_4=-1, 2015-11-11_1=1320, 2015-11-11_2=1370, 2015-11-11_3=1411, 2015-11-11_4=1624, 2015-11-12_1=-1, 2015-11-12_2=-1, 2015-11-12_3=-1, 2015-11-12_4=1260, 2015-11-13_1=-1, 2015-11-13_2=-1, 2015-11-13_3=1432, 2015-11-13_4=-1, 2015-11-18_1=-1, 2015-11-18_2=1426, 2015-11-18_3=1473, 2015-11-18_4=-1, 2015-11-21_1=1240, 2015-11-21_2=1239, 2015-11-21_3=-1, 2015-11-21_4=-1, 2015-11-25_1=1084, 2015-11-25_2=1084, 2015-11-25_3=1247, 2015-11-25_4=-1, 2015-11-26_1=-1, 2015-11-26_2=-1, 2015-11-26_3=-1, 2015-11-26_4=-1, 2015-11-27_1=-1, 2015-11-27_2=-1, 2015-11-27_3=-1, 2015-11-27_4=-1, 2015-11-28_1=-1, 2015-11-28_2=-1, 2015-11-28_3=-1, 2015-11-28_4=-1)]"
      ]
     },
     "execution_count": 8,
     "metadata": {},
     "output_type": "execute_result"
    }
   ],
   "source": [
    "df_grouped = df_top150_dates.groupBy(\"Hotel Name\", \"Checkin Date\", \"Discount Code\").agg(spark_min(\"Discount Price\").alias(\"minDiscountPrice\"))\n",
    "\n",
    "df_grouped = df_grouped.withColumn(\"date_code\", concat(col(\"Checkin Date\"), lit(\"_\"), col(\"Discount Code\")))\n",
    "\n",
    "df_pivot = df_grouped.groupBy(\"Hotel Name\").pivot(\"date_code\").agg(first(\"minDiscountPrice\"))\n",
    "\n",
    "df_pivot = df_pivot.fillna(-1)\n",
    "\n",
    "df_pivot.head(3)"
   ]
  },
  {
   "cell_type": "markdown",
   "metadata": {},
   "source": [
    "We might find ourself in a situation where some of the hotels don't have a column for all the 160 dates + discount codes.\n",
    "So we would ensure thy all have that."
   ]
  },
  {
   "cell_type": "code",
   "execution_count": 10,
   "metadata": {},
   "outputs": [
    {
     "data": {
      "text/plain": [
       "[Row(Hotel Name='Bentley Hotel', 2015-11-11_1=-1, 2015-11-11_2=-1, 2015-11-11_3=-1, 2015-11-11_4=-1, 2015-10-14_1=-1, 2015-10-14_2=-1, 2015-10-14_3=-1, 2015-10-14_4=-1, 2015-11-04_1=-1, 2015-11-04_2=-1, 2015-11-04_3=-1, 2015-11-04_4=-1, 2015-08-19_1=-1, 2015-08-19_2=-1, 2015-08-19_3=-1, 2015-08-19_4=-1, 2015-10-28_1=-1, 2015-10-28_2=-1, 2015-10-28_3=-1, 2015-10-28_4=-1, 2015-10-21_1=1405, 2015-10-21_2=1403, 2015-10-21_3=1394, 2015-10-21_4=1389, 2015-11-06_1=-1, 2015-11-06_2=-1, 2015-11-06_3=-1, 2015-11-06_4=-1, 2015-08-12_1=-1, 2015-08-12_2=-1, 2015-08-12_3=-1, 2015-08-12_4=-1, 2015-11-05_1=1184, 2015-11-05_2=1138, 2015-11-05_3=1133, 2015-11-05_4=1179, 2015-10-22_1=-1, 2015-10-22_2=-1, 2015-10-22_3=-1, 2015-10-22_4=-1, 2015-11-12_1=-1, 2015-11-12_2=-1, 2015-11-12_3=-1, 2015-11-12_4=-1, 2015-09-10_1=-1, 2015-09-10_2=-1, 2015-09-10_3=-1, 2015-09-10_4=-1, 2015-10-29_1=-1, 2015-10-29_2=-1, 2015-10-29_3=2076, 2015-10-29_4=-1, 2015-09-09_1=-1, 2015-09-09_2=-1, 2015-09-09_3=-1, 2015-09-09_4=-1, 2015-11-18_1=-1, 2015-11-18_2=-1, 2015-11-18_3=-1, 2015-11-18_4=-1, 2015-08-26_1=-1, 2015-08-26_2=-1, 2015-08-26_3=-1, 2015-08-26_4=-1, 2015-11-10_1=-1, 2015-11-10_2=-1, 2015-11-10_3=-1, 2015-11-10_4=-1, 2015-11-13_1=-1, 2015-11-13_2=-1, 2015-11-13_3=-1, 2015-11-13_4=-1, 2015-10-15_1=-1, 2015-10-15_2=-1, 2015-10-15_3=2923, 2015-10-15_4=-1, 2015-11-21_1=868, 2015-11-21_2=-1, 2015-11-21_3=1488, 2015-11-21_4=-1, 2015-09-30_1=-1, 2015-09-30_2=-1, 2015-09-30_3=-1, 2015-09-30_4=-1, 2015-10-30_1=-1, 2015-10-30_2=1798, 2015-10-30_3=1889, 2015-10-30_4=-1, 2015-09-16_1=-1, 2015-09-16_2=-1, 2015-09-16_3=-1, 2015-09-16_4=-1, 2015-09-17_1=-1, 2015-09-17_2=-1, 2015-09-17_3=-1, 2015-09-17_4=-1, 2015-11-28_1=-1, 2015-11-28_2=-1, 2015-11-28_3=1104, 2015-11-28_4=-1, 2015-10-01_1=-1, 2015-10-01_2=-1, 2015-10-01_3=-1, 2015-10-01_4=-1, 2015-11-26_1=-1, 2015-11-26_2=-1, 2015-11-26_3=-1, 2015-11-26_4=-1, 2015-09-11_1=-1, 2015-09-11_2=-1, 2015-09-11_3=-1, 2015-09-11_4=-1, 2015-09-18_1=-1, 2015-09-18_2=-1, 2015-09-18_3=-1, 2015-09-18_4=-1, 2015-10-16_1=-1, 2015-10-16_2=-1, 2015-10-16_3=-1, 2015-10-16_4=-1, 2015-11-27_1=-1, 2015-11-27_2=-1, 2015-11-27_3=-1, 2015-11-27_4=-1, 2015-10-02_1=-1, 2015-10-02_2=-1, 2015-10-02_3=-1, 2015-10-02_4=-1, 2015-10-07_1=-1, 2015-10-07_2=-1, 2015-10-07_3=-1, 2015-10-07_4=-1, 2015-11-07_1=-1, 2015-11-07_2=-1, 2015-11-07_3=-1, 2015-11-07_4=-1, 2015-08-28_1=-1, 2015-08-28_2=-1, 2015-08-28_3=-1, 2015-08-28_4=-1, 2015-08-27_1=-1, 2015-08-27_2=-1, 2015-08-27_3=980, 2015-08-27_4=-1, 2015-10-27_1=-1, 2015-10-27_2=-1, 2015-10-27_3=2985, 2015-10-27_4=-1, 2015-11-03_1=-1, 2015-11-03_2=-1, 2015-11-03_3=-1, 2015-11-03_4=-1, 2015-08-13_1=-1, 2015-08-13_2=-1, 2015-08-13_3=-1, 2015-08-13_4=-1, 2015-11-25_1=-1, 2015-11-25_2=2023, 2015-11-25_3=2041, 2015-11-25_4=-1),\n",
       " Row(Hotel Name='Westin New York at Times Square', 2015-11-11_1=1532, 2015-11-11_2=1586, 2015-11-11_3=1631, 2015-11-11_4=1681, 2015-10-14_1=1356, 2015-10-14_2=1426, 2015-10-14_3=1475, 2015-10-14_4=1965, 2015-11-04_1=1336, 2015-11-04_2=1396, 2015-11-04_3=1445, 2015-11-04_4=-1, 2015-08-19_1=1163, 2015-08-19_2=1214, 2015-08-19_3=1317, 2015-08-19_4=-1, 2015-10-28_1=1606, 2015-10-28_2=1674, 2015-10-28_3=1719, 2015-10-28_4=-1, 2015-10-21_1=1656, 2015-10-21_2=1716, 2015-10-21_3=1775, 2015-10-21_4=2265, 2015-11-06_1=-1, 2015-11-06_2=1565, 2015-11-06_3=1516, 2015-11-06_4=1728, 2015-08-12_1=1263, 2015-08-12_2=1277, 2015-08-12_3=1328, 2015-08-12_4=-1, 2015-11-05_1=1458, 2015-11-05_2=1355, 2015-11-05_3=1334, 2015-11-05_4=1256, 2015-10-22_1=-1, 2015-10-22_2=1705, 2015-10-22_3=1606, 2015-10-22_4=1556, 2015-11-12_1=-1, 2015-11-12_2=1343, 2015-11-12_3=1264, 2015-11-12_4=1246, 2015-09-10_1=1658, 2015-09-10_2=1695, 2015-09-10_3=1767, 2015-09-10_4=-1, 2015-10-29_1=1754, 2015-10-29_2=1649, 2015-10-29_3=1611, 2015-10-29_4=1527, 2015-09-09_1=-1, 2015-09-09_2=-1, 2015-09-09_3=2165, 2015-09-09_4=-1, 2015-11-18_1=1400, 2015-11-18_2=1476, 2015-11-18_3=1519, 2015-11-18_4=-1, 2015-08-26_1=1083, 2015-08-26_2=1129, 2015-08-26_3=1227, 2015-08-26_4=1328, 2015-11-10_1=1576, 2015-11-10_2=1656, 2015-11-10_3=1723, 2015-11-10_4=-1, 2015-11-13_1=-1, 2015-11-13_2=1423, 2015-11-13_3=1374, 2015-11-13_4=1673, 2015-10-15_1=-1, 2015-10-15_2=1440, 2015-10-15_3=-1, 2015-10-15_4=1326, 2015-11-21_1=-1, 2015-11-21_2=1219, 2015-11-21_3=-1, 2015-11-21_4=1180, 2015-09-30_1=1810, 2015-09-30_2=1778, 2015-09-30_3=1837, 2015-09-30_4=2098, 2015-10-30_1=-1, 2015-10-30_2=1695, 2015-10-30_3=1600, 2015-10-30_4=1827, 2015-09-16_1=-1, 2015-09-16_2=2398, 2015-09-16_3=2018, 2015-09-16_4=2230, 2015-09-17_1=1526, 2015-09-17_2=1544, 2015-09-17_3=1640, 2015-09-17_4=-1, 2015-11-28_1=-1, 2015-11-28_2=1727, 2015-11-28_3=1678, 2015-11-28_4=-1, 2015-10-01_1=-1, 2015-10-01_2=-1, 2015-10-01_3=-1, 2015-10-01_4=-1, 2015-11-26_1=-1, 2015-11-26_2=1467, 2015-11-26_3=1352, 2015-11-26_4=1365, 2015-09-11_1=-1, 2015-09-11_2=1833, 2015-09-11_3=1759, 2015-09-11_4=-1, 2015-09-18_1=-1, 2015-09-18_2=1425, 2015-09-18_3=1380, 2015-09-18_4=1425, 2015-10-16_1=-1, 2015-10-16_2=1627, 2015-10-16_3=1446, 2015-10-16_4=1493, 2015-11-27_1=-1, 2015-11-27_2=1425, 2015-11-27_3=1388, 2015-11-27_4=1330, 2015-10-02_1=-1, 2015-10-02_2=1981, 2015-10-02_3=-1, 2015-10-02_4=2147, 2015-10-07_1=2044, 2015-10-07_2=2138, 2015-10-07_3=2217, 2015-10-07_4=-1, 2015-11-07_1=1825, 2015-11-07_2=1695, 2015-11-07_3=1896, 2015-11-07_4=-1, 2015-08-28_1=1070, 2015-08-28_2=1250, 2015-08-28_3=1194, 2015-08-28_4=1166, 2015-08-27_1=-1, 2015-08-27_2=-1, 2015-08-27_3=-1, 2015-08-27_4=-1, 2015-10-27_1=-1, 2015-10-27_2=1939, 2015-10-27_3=1985, 2015-10-27_4=-1, 2015-11-03_1=-1, 2015-11-03_2=1746, 2015-11-03_3=1882, 2015-11-03_4=-1, 2015-08-13_1=-1, 2015-08-13_2=1285, 2015-08-13_3=-1, 2015-08-13_4=1261, 2015-11-25_1=1106, 2015-11-25_2=1168, 2015-11-25_3=1181, 2015-11-25_4=1172),\n",
       " Row(Hotel Name='The Westin New York Grand Central', 2015-11-11_1=1320, 2015-11-11_2=1370, 2015-11-11_3=1411, 2015-11-11_4=1624, 2015-10-14_1=1694, 2015-10-14_2=1949, 2015-10-14_3=2045, 2015-10-14_4=1932, 2015-11-04_1=1522, 2015-11-04_2=1614, 2015-11-04_3=1671, 2015-11-04_4=1784, 2015-08-19_1=1198, 2015-08-19_2=1200, 2015-08-19_3=1245, 2015-08-19_4=-1, 2015-10-28_1=1788, 2015-10-28_2=1810, 2015-10-28_3=1879, 2015-10-28_4=-1, 2015-10-21_1=-1, 2015-10-21_2=1914, 2015-10-21_3=1959, 2015-10-21_4=-1, 2015-11-06_1=-1, 2015-11-06_2=-1, 2015-11-06_3=1506, 2015-11-06_4=1508, 2015-08-12_1=1282, 2015-08-12_2=1386, 2015-08-12_3=1441, 2015-08-12_4=1446, 2015-11-05_1=-1, 2015-11-05_2=1450, 2015-11-05_3=-1, 2015-11-05_4=1334, 2015-10-22_1=1967, 2015-10-22_2=-1, 2015-10-22_3=-1, 2015-10-22_4=1776, 2015-11-12_1=-1, 2015-11-12_2=-1, 2015-11-12_3=-1, 2015-11-12_4=1260, 2015-09-10_1=-1, 2015-09-10_2=2026, 2015-09-10_3=1983, 2015-09-10_4=1947, 2015-10-29_1=-1, 2015-10-29_2=-1, 2015-10-29_3=1780, 2015-10-29_4=-1, 2015-09-09_1=-1, 2015-09-09_2=1926, 2015-09-09_3=1993, 2015-09-09_4=-1, 2015-11-18_1=-1, 2015-11-18_2=1426, 2015-11-18_3=1473, 2015-11-18_4=-1, 2015-08-26_1=1218, 2015-08-26_2=1238, 2015-08-26_3=1283, 2015-08-26_4=1388, 2015-11-10_1=-1, 2015-11-10_2=-1, 2015-11-10_3=-1, 2015-11-10_4=-1, 2015-11-13_1=-1, 2015-11-13_2=-1, 2015-11-13_3=1432, 2015-11-13_4=-1, 2015-10-15_1=-1, 2015-10-15_2=-1, 2015-10-15_3=-1, 2015-10-15_4=1664, 2015-11-21_1=1240, 2015-11-21_2=1239, 2015-11-21_3=-1, 2015-11-21_4=-1, 2015-09-30_1=1967, 2015-09-30_2=2128, 2015-09-30_3=2134, 2015-09-30_4=-1, 2015-10-30_1=1921, 2015-10-30_2=1845, 2015-10-30_3=-1, 2015-10-30_4=-1, 2015-09-16_1=-1, 2015-09-16_2=2149, 2015-09-16_3=2251, 2015-09-16_4=2458, 2015-09-17_1=-1, 2015-09-17_2=2243, 2015-09-17_3=2200, 2015-09-17_4=2159, 2015-11-28_1=-1, 2015-11-28_2=-1, 2015-11-28_3=-1, 2015-11-28_4=-1, 2015-10-01_1=2334, 2015-10-01_2=-1, 2015-10-01_3=-1, 2015-10-01_4=1867, 2015-11-26_1=-1, 2015-11-26_2=-1, 2015-11-26_3=-1, 2015-11-26_4=-1, 2015-09-11_1=-1, 2015-09-11_2=-1, 2015-09-11_3=-1, 2015-09-11_4=-1, 2015-09-18_1=-1, 2015-09-18_2=-1, 2015-09-18_3=-1, 2015-09-18_4=-1, 2015-10-16_1=-1, 2015-10-16_2=-1, 2015-10-16_3=1764, 2015-10-16_4=-1, 2015-11-27_1=-1, 2015-11-27_2=-1, 2015-11-27_3=-1, 2015-11-27_4=-1, 2015-10-02_1=-1, 2015-10-02_2=-1, 2015-10-02_3=-1, 2015-10-02_4=-1, 2015-10-07_1=-1, 2015-10-07_2=2190, 2015-10-07_3=2299, 2015-10-07_4=2716, 2015-11-07_1=-1, 2015-11-07_2=1733, 2015-11-07_3=1678, 2015-11-07_4=-1, 2015-08-28_1=-1, 2015-08-28_2=-1, 2015-08-28_3=-1, 2015-08-28_4=-1, 2015-08-27_1=-1, 2015-08-27_2=-1, 2015-08-27_3=-1, 2015-08-27_4=-1, 2015-10-27_1=-1, 2015-10-27_2=1932, 2015-10-27_3=-1, 2015-10-27_4=-1, 2015-11-03_1=-1, 2015-11-03_2=1840, 2015-11-03_3=1921, 2015-11-03_4=-1, 2015-08-13_1=1247, 2015-08-13_2=-1, 2015-08-13_3=-1, 2015-08-13_4=-1, 2015-11-25_1=1084, 2015-11-25_2=1084, 2015-11-25_3=1247, 2015-11-25_4=-1)]"
      ]
     },
     "execution_count": 10,
     "metadata": {},
     "output_type": "execute_result"
    }
   ],
   "source": [
    "top40_list = [row[\"Checkin Date\"] for row in top40_dates.collect()]\n",
    "discount_codes = [1, 2, 3, 4]\n",
    "\n",
    "# Build the expected column names (format: \"YYYY-MM-DD_1\", etc.)\n",
    "expected_cols = [f\"{date}_{code}\" for date in top40_list for code in discount_codes]\n",
    "\n",
    "# Add any missing expected columns with default -1\n",
    "existing_cols = df_pivot.columns\n",
    "for col_name in expected_cols:\n",
    "    if col_name not in existing_cols:\n",
    "        df_pivot = df_pivot.withColumn(col_name, lit(-1))\n",
    "\n",
    "# Reorder the DataFrame columns so that they appear in the desired order:\n",
    "df_pivot = df_pivot.select([\"Hotel Name\"] + expected_cols)\n",
    "df_pivot.head(3)"
   ]
  },
  {
   "cell_type": "markdown",
   "metadata": {},
   "source": [
    "### Normalization and Save to CSV"
   ]
  },
  {
   "cell_type": "markdown",
   "metadata": {},
   "source": [
    "Normalize the 160 price columns row-by-row (scaling valid prices to a 0–100 range, leaving missing values as -1)."
   ]
  },
  {
   "cell_type": "code",
   "execution_count": 11,
   "metadata": {},
   "outputs": [],
   "source": [
    "# Combine the 160 price columns into an array column\n",
    "df_pivot = df_pivot.withColumn(\"prices_array\", array(*expected_cols))\n",
    "\n",
    "# Define a UDF for normalizing the prices for each hotel (ignoring -1 values)\n",
    "def normalize_prices(prices):\n",
    "    # Filter out missing values (-1)\n",
    "    valid_prices = [p for p in prices if p != -1]\n",
    "    if not valid_prices:\n",
    "        return prices\n",
    "    min_price = min(valid_prices)\n",
    "    max_price = max(valid_prices)\n",
    "    if min_price == max_price:\n",
    "        return [0 if p != -1 else -1 for p in prices]\n",
    "    normalized = []\n",
    "    for p in prices:\n",
    "        if p == -1:\n",
    "            normalized.append(-1)\n",
    "        else:\n",
    "            norm_val = round(((p - min_price) / (max_price - min_price)) * 100)\n",
    "            normalized.append(int(norm_val))\n",
    "    return normalized\n",
    "\n",
    "normalize_udf = udf(normalize_prices, ArrayType(IntegerType()))\n",
    "\n",
    "# Apply the normalization UDF to create a new column with normalized prices.\n",
    "df_pivot = df_pivot.withColumn(\"norm_prices_array\", normalize_udf(\"prices_array\"))\n",
    "\n",
    "# Replace the original price columns with the normalized values.\n",
    "for i, col_name in enumerate(expected_cols):\n",
    "    df_pivot = df_pivot.withColumn(col_name, col(\"norm_prices_array\")[i])\n",
    "\n",
    "# Optionally, drop helper columns.\n",
    "df_final = df_pivot.drop(\"prices_array\", \"norm_prices_array\")\n"
   ]
  },
  {
   "cell_type": "markdown",
   "metadata": {},
   "source": [
    "**Save to CSV**"
   ]
  },
  {
   "cell_type": "code",
   "execution_count": 12,
   "metadata": {},
   "outputs": [
    {
     "name": "stderr",
     "output_type": "stream",
     "text": [
      "                                                                                \r"
     ]
    }
   ],
   "source": [
    "pyspark_hotels_clustering_data= \"./pyspark_hotels_clustering_data.csv\"\n",
    "df_final.write.option(\"header\", \"true\").mode(\"overwrite\").csv(pyspark_hotels_clustering_data)\n"
   ]
  },
  {
   "cell_type": "markdown",
   "metadata": {},
   "source": [
    "### Clustering"
   ]
  },
  {
   "cell_type": "markdown",
   "metadata": {},
   "source": [
    "#### Read CSV and assemble features"
   ]
  },
  {
   "cell_type": "code",
   "execution_count": null,
   "metadata": {},
   "outputs": [
    {
     "name": "stdout",
     "output_type": "stream",
     "text": [
      "root\n",
      " |-- Hotel Name: string (nullable = true)\n",
      " |-- 2015-11-11_1: integer (nullable = true)\n",
      " |-- 2015-11-11_2: integer (nullable = true)\n",
      " |-- 2015-11-11_3: integer (nullable = true)\n",
      " |-- 2015-11-11_4: integer (nullable = true)\n",
      " |-- 2015-10-14_1: integer (nullable = true)\n",
      " |-- 2015-10-14_2: integer (nullable = true)\n",
      " |-- 2015-10-14_3: integer (nullable = true)\n",
      " |-- 2015-10-14_4: integer (nullable = true)\n",
      " |-- 2015-11-04_1: integer (nullable = true)\n",
      " |-- 2015-11-04_2: integer (nullable = true)\n",
      " |-- 2015-11-04_3: integer (nullable = true)\n",
      " |-- 2015-11-04_4: integer (nullable = true)\n",
      " |-- 2015-08-19_1: integer (nullable = true)\n",
      " |-- 2015-08-19_2: integer (nullable = true)\n",
      " |-- 2015-08-19_3: integer (nullable = true)\n",
      " |-- 2015-08-19_4: integer (nullable = true)\n",
      " |-- 2015-10-28_1: integer (nullable = true)\n",
      " |-- 2015-10-28_2: integer (nullable = true)\n",
      " |-- 2015-10-28_3: integer (nullable = true)\n",
      " |-- 2015-10-28_4: integer (nullable = true)\n",
      " |-- 2015-10-21_1: integer (nullable = true)\n",
      " |-- 2015-10-21_2: integer (nullable = true)\n",
      " |-- 2015-10-21_3: integer (nullable = true)\n",
      " |-- 2015-10-21_4: integer (nullable = true)\n",
      " |-- 2015-11-06_1: integer (nullable = true)\n",
      " |-- 2015-11-06_2: integer (nullable = true)\n",
      " |-- 2015-11-06_3: integer (nullable = true)\n",
      " |-- 2015-11-06_4: integer (nullable = true)\n",
      " |-- 2015-08-12_1: integer (nullable = true)\n",
      " |-- 2015-08-12_2: integer (nullable = true)\n",
      " |-- 2015-08-12_3: integer (nullable = true)\n",
      " |-- 2015-08-12_4: integer (nullable = true)\n",
      " |-- 2015-11-05_1: integer (nullable = true)\n",
      " |-- 2015-11-05_2: integer (nullable = true)\n",
      " |-- 2015-11-05_3: integer (nullable = true)\n",
      " |-- 2015-11-05_4: integer (nullable = true)\n",
      " |-- 2015-10-22_1: integer (nullable = true)\n",
      " |-- 2015-10-22_2: integer (nullable = true)\n",
      " |-- 2015-10-22_3: integer (nullable = true)\n",
      " |-- 2015-10-22_4: integer (nullable = true)\n",
      " |-- 2015-11-12_1: integer (nullable = true)\n",
      " |-- 2015-11-12_2: integer (nullable = true)\n",
      " |-- 2015-11-12_3: integer (nullable = true)\n",
      " |-- 2015-11-12_4: integer (nullable = true)\n",
      " |-- 2015-09-10_1: integer (nullable = true)\n",
      " |-- 2015-09-10_2: integer (nullable = true)\n",
      " |-- 2015-09-10_3: integer (nullable = true)\n",
      " |-- 2015-09-10_4: integer (nullable = true)\n",
      " |-- 2015-10-29_1: integer (nullable = true)\n",
      " |-- 2015-10-29_2: integer (nullable = true)\n",
      " |-- 2015-10-29_3: integer (nullable = true)\n",
      " |-- 2015-10-29_4: integer (nullable = true)\n",
      " |-- 2015-09-09_1: integer (nullable = true)\n",
      " |-- 2015-09-09_2: integer (nullable = true)\n",
      " |-- 2015-09-09_3: integer (nullable = true)\n",
      " |-- 2015-09-09_4: integer (nullable = true)\n",
      " |-- 2015-11-18_1: integer (nullable = true)\n",
      " |-- 2015-11-18_2: integer (nullable = true)\n",
      " |-- 2015-11-18_3: integer (nullable = true)\n",
      " |-- 2015-11-18_4: integer (nullable = true)\n",
      " |-- 2015-08-26_1: integer (nullable = true)\n",
      " |-- 2015-08-26_2: integer (nullable = true)\n",
      " |-- 2015-08-26_3: integer (nullable = true)\n",
      " |-- 2015-08-26_4: integer (nullable = true)\n",
      " |-- 2015-11-10_1: integer (nullable = true)\n",
      " |-- 2015-11-10_2: integer (nullable = true)\n",
      " |-- 2015-11-10_3: integer (nullable = true)\n",
      " |-- 2015-11-10_4: integer (nullable = true)\n",
      " |-- 2015-11-13_1: integer (nullable = true)\n",
      " |-- 2015-11-13_2: integer (nullable = true)\n",
      " |-- 2015-11-13_3: integer (nullable = true)\n",
      " |-- 2015-11-13_4: integer (nullable = true)\n",
      " |-- 2015-10-15_1: integer (nullable = true)\n",
      " |-- 2015-10-15_2: integer (nullable = true)\n",
      " |-- 2015-10-15_3: integer (nullable = true)\n",
      " |-- 2015-10-15_4: integer (nullable = true)\n",
      " |-- 2015-11-21_1: integer (nullable = true)\n",
      " |-- 2015-11-21_2: integer (nullable = true)\n",
      " |-- 2015-11-21_3: integer (nullable = true)\n",
      " |-- 2015-11-21_4: integer (nullable = true)\n",
      " |-- 2015-09-30_1: integer (nullable = true)\n",
      " |-- 2015-09-30_2: integer (nullable = true)\n",
      " |-- 2015-09-30_3: integer (nullable = true)\n",
      " |-- 2015-09-30_4: integer (nullable = true)\n",
      " |-- 2015-10-30_1: integer (nullable = true)\n",
      " |-- 2015-10-30_2: integer (nullable = true)\n",
      " |-- 2015-10-30_3: integer (nullable = true)\n",
      " |-- 2015-10-30_4: integer (nullable = true)\n",
      " |-- 2015-09-16_1: integer (nullable = true)\n",
      " |-- 2015-09-16_2: integer (nullable = true)\n",
      " |-- 2015-09-16_3: integer (nullable = true)\n",
      " |-- 2015-09-16_4: integer (nullable = true)\n",
      " |-- 2015-09-17_1: integer (nullable = true)\n",
      " |-- 2015-09-17_2: integer (nullable = true)\n",
      " |-- 2015-09-17_3: integer (nullable = true)\n",
      " |-- 2015-09-17_4: integer (nullable = true)\n",
      " |-- 2015-11-28_1: integer (nullable = true)\n",
      " |-- 2015-11-28_2: integer (nullable = true)\n",
      " |-- 2015-11-28_3: integer (nullable = true)\n",
      " |-- 2015-11-28_4: integer (nullable = true)\n",
      " |-- 2015-10-01_1: integer (nullable = true)\n",
      " |-- 2015-10-01_2: integer (nullable = true)\n",
      " |-- 2015-10-01_3: integer (nullable = true)\n",
      " |-- 2015-10-01_4: integer (nullable = true)\n",
      " |-- 2015-11-26_1: integer (nullable = true)\n",
      " |-- 2015-11-26_2: integer (nullable = true)\n",
      " |-- 2015-11-26_3: integer (nullable = true)\n",
      " |-- 2015-11-26_4: integer (nullable = true)\n",
      " |-- 2015-09-11_1: integer (nullable = true)\n",
      " |-- 2015-09-11_2: integer (nullable = true)\n",
      " |-- 2015-09-11_3: integer (nullable = true)\n",
      " |-- 2015-09-11_4: integer (nullable = true)\n",
      " |-- 2015-09-18_1: integer (nullable = true)\n",
      " |-- 2015-09-18_2: integer (nullable = true)\n",
      " |-- 2015-09-18_3: integer (nullable = true)\n",
      " |-- 2015-09-18_4: integer (nullable = true)\n",
      " |-- 2015-10-16_1: integer (nullable = true)\n",
      " |-- 2015-10-16_2: integer (nullable = true)\n",
      " |-- 2015-10-16_3: integer (nullable = true)\n",
      " |-- 2015-10-16_4: integer (nullable = true)\n",
      " |-- 2015-11-27_1: integer (nullable = true)\n",
      " |-- 2015-11-27_2: integer (nullable = true)\n",
      " |-- 2015-11-27_3: integer (nullable = true)\n",
      " |-- 2015-11-27_4: integer (nullable = true)\n",
      " |-- 2015-10-02_1: integer (nullable = true)\n",
      " |-- 2015-10-02_2: integer (nullable = true)\n",
      " |-- 2015-10-02_3: integer (nullable = true)\n",
      " |-- 2015-10-02_4: integer (nullable = true)\n",
      " |-- 2015-10-07_1: integer (nullable = true)\n",
      " |-- 2015-10-07_2: integer (nullable = true)\n",
      " |-- 2015-10-07_3: integer (nullable = true)\n",
      " |-- 2015-10-07_4: integer (nullable = true)\n",
      " |-- 2015-11-07_1: integer (nullable = true)\n",
      " |-- 2015-11-07_2: integer (nullable = true)\n",
      " |-- 2015-11-07_3: integer (nullable = true)\n",
      " |-- 2015-11-07_4: integer (nullable = true)\n",
      " |-- 2015-08-28_1: integer (nullable = true)\n",
      " |-- 2015-08-28_2: integer (nullable = true)\n",
      " |-- 2015-08-28_3: integer (nullable = true)\n",
      " |-- 2015-08-28_4: integer (nullable = true)\n",
      " |-- 2015-08-27_1: integer (nullable = true)\n",
      " |-- 2015-08-27_2: integer (nullable = true)\n",
      " |-- 2015-08-27_3: integer (nullable = true)\n",
      " |-- 2015-08-27_4: integer (nullable = true)\n",
      " |-- 2015-10-27_1: integer (nullable = true)\n",
      " |-- 2015-10-27_2: integer (nullable = true)\n",
      " |-- 2015-10-27_3: integer (nullable = true)\n",
      " |-- 2015-10-27_4: integer (nullable = true)\n",
      " |-- 2015-11-03_1: integer (nullable = true)\n",
      " |-- 2015-11-03_2: integer (nullable = true)\n",
      " |-- 2015-11-03_3: integer (nullable = true)\n",
      " |-- 2015-11-03_4: integer (nullable = true)\n",
      " |-- 2015-08-13_1: integer (nullable = true)\n",
      " |-- 2015-08-13_2: integer (nullable = true)\n",
      " |-- 2015-08-13_3: integer (nullable = true)\n",
      " |-- 2015-08-13_4: integer (nullable = true)\n",
      " |-- 2015-11-25_1: integer (nullable = true)\n",
      " |-- 2015-11-25_2: integer (nullable = true)\n",
      " |-- 2015-11-25_3: integer (nullable = true)\n",
      " |-- 2015-11-25_4: integer (nullable = true)\n",
      "\n",
      "+-----------------------------------+------------+------------+------------+------------+------------+------------+------------+------------+------------+------------+------------+------------+------------+------------+------------+------------+------------+------------+------------+------------+------------+------------+------------+------------+------------+------------+------------+------------+------------+------------+------------+------------+------------+------------+------------+------------+------------+------------+------------+------------+------------+------------+------------+------------+------------+------------+------------+------------+------------+------------+------------+------------+------------+------------+------------+------------+------------+------------+------------+------------+------------+------------+------------+------------+------------+------------+------------+------------+------------+------------+------------+------------+------------+------------+------------+------------+------------+------------+------------+------------+------------+------------+------------+------------+------------+------------+------------+------------+------------+------------+------------+------------+------------+------------+------------+------------+------------+------------+------------+------------+------------+------------+------------+------------+------------+------------+------------+------------+------------+------------+------------+------------+------------+------------+------------+------------+------------+------------+------------+------------+------------+------------+------------+------------+------------+------------+------------+------------+------------+------------+------------+------------+------------+------------+------------+------------+------------+------------+------------+------------+------------+------------+------------+------------+------------+------------+------------+------------+------------+------------+------------+------------+------------+------------+------------+------------+------------+------------+------------+------------+\n",
      "|Hotel Name                         |2015-11-11_1|2015-11-11_2|2015-11-11_3|2015-11-11_4|2015-10-14_1|2015-10-14_2|2015-10-14_3|2015-10-14_4|2015-11-04_1|2015-11-04_2|2015-11-04_3|2015-11-04_4|2015-08-19_1|2015-08-19_2|2015-08-19_3|2015-08-19_4|2015-10-28_1|2015-10-28_2|2015-10-28_3|2015-10-28_4|2015-10-21_1|2015-10-21_2|2015-10-21_3|2015-10-21_4|2015-11-06_1|2015-11-06_2|2015-11-06_3|2015-11-06_4|2015-08-12_1|2015-08-12_2|2015-08-12_3|2015-08-12_4|2015-11-05_1|2015-11-05_2|2015-11-05_3|2015-11-05_4|2015-10-22_1|2015-10-22_2|2015-10-22_3|2015-10-22_4|2015-11-12_1|2015-11-12_2|2015-11-12_3|2015-11-12_4|2015-09-10_1|2015-09-10_2|2015-09-10_3|2015-09-10_4|2015-10-29_1|2015-10-29_2|2015-10-29_3|2015-10-29_4|2015-09-09_1|2015-09-09_2|2015-09-09_3|2015-09-09_4|2015-11-18_1|2015-11-18_2|2015-11-18_3|2015-11-18_4|2015-08-26_1|2015-08-26_2|2015-08-26_3|2015-08-26_4|2015-11-10_1|2015-11-10_2|2015-11-10_3|2015-11-10_4|2015-11-13_1|2015-11-13_2|2015-11-13_3|2015-11-13_4|2015-10-15_1|2015-10-15_2|2015-10-15_3|2015-10-15_4|2015-11-21_1|2015-11-21_2|2015-11-21_3|2015-11-21_4|2015-09-30_1|2015-09-30_2|2015-09-30_3|2015-09-30_4|2015-10-30_1|2015-10-30_2|2015-10-30_3|2015-10-30_4|2015-09-16_1|2015-09-16_2|2015-09-16_3|2015-09-16_4|2015-09-17_1|2015-09-17_2|2015-09-17_3|2015-09-17_4|2015-11-28_1|2015-11-28_2|2015-11-28_3|2015-11-28_4|2015-10-01_1|2015-10-01_2|2015-10-01_3|2015-10-01_4|2015-11-26_1|2015-11-26_2|2015-11-26_3|2015-11-26_4|2015-09-11_1|2015-09-11_2|2015-09-11_3|2015-09-11_4|2015-09-18_1|2015-09-18_2|2015-09-18_3|2015-09-18_4|2015-10-16_1|2015-10-16_2|2015-10-16_3|2015-10-16_4|2015-11-27_1|2015-11-27_2|2015-11-27_3|2015-11-27_4|2015-10-02_1|2015-10-02_2|2015-10-02_3|2015-10-02_4|2015-10-07_1|2015-10-07_2|2015-10-07_3|2015-10-07_4|2015-11-07_1|2015-11-07_2|2015-11-07_3|2015-11-07_4|2015-08-28_1|2015-08-28_2|2015-08-28_3|2015-08-28_4|2015-08-27_1|2015-08-27_2|2015-08-27_3|2015-08-27_4|2015-10-27_1|2015-10-27_2|2015-10-27_3|2015-10-27_4|2015-11-03_1|2015-11-03_2|2015-11-03_3|2015-11-03_4|2015-08-13_1|2015-08-13_2|2015-08-13_3|2015-08-13_4|2015-11-25_1|2015-11-25_2|2015-11-25_3|2015-11-25_4|\n",
      "+-----------------------------------+------------+------------+------------+------------+------------+------------+------------+------------+------------+------------+------------+------------+------------+------------+------------+------------+------------+------------+------------+------------+------------+------------+------------+------------+------------+------------+------------+------------+------------+------------+------------+------------+------------+------------+------------+------------+------------+------------+------------+------------+------------+------------+------------+------------+------------+------------+------------+------------+------------+------------+------------+------------+------------+------------+------------+------------+------------+------------+------------+------------+------------+------------+------------+------------+------------+------------+------------+------------+------------+------------+------------+------------+------------+------------+------------+------------+------------+------------+------------+------------+------------+------------+------------+------------+------------+------------+------------+------------+------------+------------+------------+------------+------------+------------+------------+------------+------------+------------+------------+------------+------------+------------+------------+------------+------------+------------+------------+------------+------------+------------+------------+------------+------------+------------+------------+------------+------------+------------+------------+------------+------------+------------+------------+------------+------------+------------+------------+------------+------------+------------+------------+------------+------------+------------+------------+------------+------------+------------+------------+------------+------------+------------+------------+------------+------------+------------+------------+------------+------------+------------+------------+------------+------------+------------+------------+------------+------------+------------+------------+------------+\n",
      "|Bentley Hotel                      |-1          |-1          |-1          |-1          |-1          |-1          |-1          |-1          |-1          |-1          |-1          |-1          |-1          |-1          |-1          |-1          |-1          |-1          |-1          |-1          |25          |25          |25          |25          |-1          |-1          |-1          |-1          |-1          |-1          |-1          |-1          |15          |13          |13          |15          |-1          |-1          |-1          |-1          |-1          |-1          |-1          |-1          |-1          |-1          |-1          |-1          |-1          |-1          |57          |-1          |-1          |-1          |-1          |-1          |-1          |-1          |-1          |-1          |-1          |-1          |-1          |-1          |-1          |-1          |-1          |-1          |-1          |-1          |-1          |-1          |-1          |-1          |97          |-1          |0           |-1          |29          |-1          |-1          |-1          |-1          |-1          |-1          |44          |48          |-1          |-1          |-1          |-1          |-1          |-1          |-1          |-1          |-1          |-1          |-1          |11          |-1          |-1          |-1          |-1          |-1          |-1          |-1          |-1          |-1          |-1          |-1          |-1          |-1          |-1          |-1          |-1          |-1          |-1          |-1          |-1          |-1          |-1          |-1          |-1          |-1          |-1          |-1          |-1          |-1          |-1          |-1          |-1          |-1          |-1          |-1          |-1          |-1          |-1          |-1          |-1          |-1          |-1          |-1          |5           |-1          |-1          |-1          |100         |-1          |-1          |-1          |-1          |-1          |-1          |-1          |-1          |-1          |-1          |55          |55          |-1          |\n",
      "|Westin New York at Times Square    |35          |39          |42          |46          |22          |27          |30          |67          |20          |25          |28          |-1          |7           |11          |19          |-1          |40          |45          |49          |-1          |44          |49          |53          |90          |-1          |37          |34          |50          |15          |16          |19          |-1          |29          |21          |20          |14          |-1          |48          |40          |37          |-1          |21          |15          |13          |44          |47          |52          |-1          |52          |44          |41          |34          |-1          |-1          |82          |-1          |25          |31          |34          |-1          |1           |4           |12          |19          |38          |44          |49          |-1          |-1          |27          |23          |45          |-1          |28          |-1          |19          |-1          |11          |-1          |8           |56          |53          |58          |77          |-1          |47          |40          |57          |-1          |100         |71          |87          |34          |36          |43          |-1          |-1          |49          |46          |-1          |-1          |-1          |-1          |-1          |-1          |30          |21          |22          |-1          |57          |52          |-1          |-1          |27          |23          |27          |-1          |42          |28          |32          |-1          |27          |24          |20          |-1          |69          |-1          |81          |73          |80          |86          |-1          |57          |47          |62          |-1          |0           |14          |9           |7           |-1          |-1          |-1          |-1          |-1          |65          |69          |-1          |-1          |51          |61          |-1          |-1          |16          |-1          |14          |3           |7           |8           |8           |\n",
      "|The Westin New York Grand Central  |14          |18          |20          |33          |37          |53          |59          |52          |27          |32          |36          |43          |7           |7           |10          |-1          |43          |44          |49          |-1          |-1          |51          |54          |-1          |-1          |-1          |26          |26          |12          |19          |22          |22          |-1          |22          |-1          |15          |54          |-1          |-1          |42          |-1          |-1          |-1          |11          |-1          |58          |55          |53          |-1          |-1          |43          |-1          |-1          |52          |56          |-1          |-1          |21          |24          |-1          |8           |9           |12          |19          |-1          |-1          |-1          |-1          |-1          |-1          |21          |-1          |-1          |-1          |-1          |36          |10          |9           |-1          |-1          |54          |64          |64          |-1          |51          |47          |-1          |-1          |-1          |65          |72          |84          |-1          |71          |68          |66          |-1          |-1          |-1          |-1          |77          |-1          |-1          |48          |-1          |-1          |-1          |-1          |-1          |-1          |-1          |-1          |-1          |-1          |-1          |-1          |-1          |-1          |42          |-1          |-1          |-1          |-1          |-1          |-1          |-1          |-1          |-1          |-1          |68          |74          |100         |-1          |40          |36          |-1          |-1          |-1          |-1          |-1          |-1          |-1          |-1          |-1          |-1          |52          |-1          |-1          |-1          |46          |51          |-1          |10          |-1          |-1          |-1          |0           |0           |10          |-1          |\n",
      "|Super 8 Brooklyn   Park Slope Hotel|-1          |-1          |-1          |-1          |-1          |-1          |-1          |-1          |-1          |-1          |-1          |-1          |-1          |-1          |-1          |-1          |-1          |-1          |-1          |-1          |-1          |-1          |-1          |-1          |-1          |-1          |-1          |-1          |-1          |-1          |-1          |-1          |-1          |-1          |-1          |-1          |-1          |-1          |-1          |-1          |-1          |-1          |-1          |-1          |-1          |-1          |-1          |-1          |-1          |-1          |-1          |-1          |-1          |-1          |100         |-1          |-1          |-1          |60          |-1          |-1          |-1          |-1          |-1          |-1          |-1          |-1          |-1          |-1          |-1          |-1          |-1          |-1          |-1          |-1          |-1          |-1          |-1          |-1          |-1          |-1          |-1          |-1          |-1          |-1          |-1          |-1          |-1          |-1          |-1          |-1          |-1          |-1          |-1          |-1          |-1          |-1          |25          |-1          |-1          |-1          |-1          |-1          |-1          |-1          |-1          |-1          |-1          |-1          |100         |-1          |-1          |-1          |-1          |-1          |-1          |-1          |-1          |-1          |-1          |-1          |-1          |-1          |-1          |-1          |0           |-1          |-1          |-1          |-1          |-1          |-1          |-1          |-1          |-1          |-1          |-1          |100         |-1          |-1          |-1          |-1          |-1          |-1          |-1          |-1          |-1          |-1          |-1          |-1          |-1          |-1          |-1          |-1          |12          |-1          |-1          |-1          |-1          |-1          |\n",
      "|Four Seasons Hotel New York        |-1          |-1          |53          |56          |-1          |37          |40          |42          |47          |44          |53          |42          |1           |5           |-1          |-1          |47          |43          |40          |42          |49          |67          |48          |54          |56          |44          |56          |-1          |1           |5           |-1          |-1          |44          |44          |40          |49          |-1          |-1          |48          |-1          |-1          |-1          |53          |-1          |-1          |-1          |52          |47          |35          |37          |40          |44          |52          |53          |57          |62          |-1          |-1          |-1          |-1          |-1          |5           |-1          |-1          |-1          |-1          |-1          |56          |44          |44          |47          |50          |35          |37          |40          |-1          |42          |32          |32          |32          |-1          |-1          |-1          |-1          |42          |40          |37          |35          |57          |57          |64          |61          |44          |44          |44          |47          |47          |48          |43          |-1          |-1          |78          |48          |57          |32          |32          |32          |35          |56          |50          |53          |72          |-1          |-1          |-1          |-1          |32          |32          |40          |36          |32          |40          |37          |39          |54          |37          |64          |100         |-1          |-1          |53          |54          |44          |53          |50          |-1          |-1          |-1          |-1          |-1          |0           |3           |-1          |-1          |57          |50          |53          |54          |44          |44          |48          |56          |-1          |-1          |-1          |-1          |30          |32          |30          |30          |\n",
      "+-----------------------------------+------------+------------+------------+------------+------------+------------+------------+------------+------------+------------+------------+------------+------------+------------+------------+------------+------------+------------+------------+------------+------------+------------+------------+------------+------------+------------+------------+------------+------------+------------+------------+------------+------------+------------+------------+------------+------------+------------+------------+------------+------------+------------+------------+------------+------------+------------+------------+------------+------------+------------+------------+------------+------------+------------+------------+------------+------------+------------+------------+------------+------------+------------+------------+------------+------------+------------+------------+------------+------------+------------+------------+------------+------------+------------+------------+------------+------------+------------+------------+------------+------------+------------+------------+------------+------------+------------+------------+------------+------------+------------+------------+------------+------------+------------+------------+------------+------------+------------+------------+------------+------------+------------+------------+------------+------------+------------+------------+------------+------------+------------+------------+------------+------------+------------+------------+------------+------------+------------+------------+------------+------------+------------+------------+------------+------------+------------+------------+------------+------------+------------+------------+------------+------------+------------+------------+------------+------------+------------+------------+------------+------------+------------+------------+------------+------------+------------+------------+------------+------------+------------+------------+------------+------------+------------+------------+------------+------------+------------+------------+------------+\n",
      "only showing top 5 rows\n",
      "\n"
     ]
    },
    {
     "data": {
      "text/plain": [
       "DataFrame[Hotel Name: string, 2015-11-11_1: int, 2015-11-11_2: int, 2015-11-11_3: int, 2015-11-11_4: int, 2015-10-14_1: int, 2015-10-14_2: int, 2015-10-14_3: int, 2015-10-14_4: int, 2015-11-04_1: int, 2015-11-04_2: int, 2015-11-04_3: int, 2015-11-04_4: int, 2015-08-19_1: int, 2015-08-19_2: int, 2015-08-19_3: int, 2015-08-19_4: int, 2015-10-28_1: int, 2015-10-28_2: int, 2015-10-28_3: int, 2015-10-28_4: int, 2015-10-21_1: int, 2015-10-21_2: int, 2015-10-21_3: int, 2015-10-21_4: int, 2015-11-06_1: int, 2015-11-06_2: int, 2015-11-06_3: int, 2015-11-06_4: int, 2015-08-12_1: int, 2015-08-12_2: int, 2015-08-12_3: int, 2015-08-12_4: int, 2015-11-05_1: int, 2015-11-05_2: int, 2015-11-05_3: int, 2015-11-05_4: int, 2015-10-22_1: int, 2015-10-22_2: int, 2015-10-22_3: int, 2015-10-22_4: int, 2015-11-12_1: int, 2015-11-12_2: int, 2015-11-12_3: int, 2015-11-12_4: int, 2015-09-10_1: int, 2015-09-10_2: int, 2015-09-10_3: int, 2015-09-10_4: int, 2015-10-29_1: int, 2015-10-29_2: int, 2015-10-29_3: int, 2015-10-29_4: int, 2015-09-09_1: int, 2015-09-09_2: int, 2015-09-09_3: int, 2015-09-09_4: int, 2015-11-18_1: int, 2015-11-18_2: int, 2015-11-18_3: int, 2015-11-18_4: int, 2015-08-26_1: int, 2015-08-26_2: int, 2015-08-26_3: int, 2015-08-26_4: int, 2015-11-10_1: int, 2015-11-10_2: int, 2015-11-10_3: int, 2015-11-10_4: int, 2015-11-13_1: int, 2015-11-13_2: int, 2015-11-13_3: int, 2015-11-13_4: int, 2015-10-15_1: int, 2015-10-15_2: int, 2015-10-15_3: int, 2015-10-15_4: int, 2015-11-21_1: int, 2015-11-21_2: int, 2015-11-21_3: int, 2015-11-21_4: int, 2015-09-30_1: int, 2015-09-30_2: int, 2015-09-30_3: int, 2015-09-30_4: int, 2015-10-30_1: int, 2015-10-30_2: int, 2015-10-30_3: int, 2015-10-30_4: int, 2015-09-16_1: int, 2015-09-16_2: int, 2015-09-16_3: int, 2015-09-16_4: int, 2015-09-17_1: int, 2015-09-17_2: int, 2015-09-17_3: int, 2015-09-17_4: int, 2015-11-28_1: int, 2015-11-28_2: int, 2015-11-28_3: int, 2015-11-28_4: int, 2015-10-01_1: int, 2015-10-01_2: int, 2015-10-01_3: int, 2015-10-01_4: int, 2015-11-26_1: int, 2015-11-26_2: int, 2015-11-26_3: int, 2015-11-26_4: int, 2015-09-11_1: int, 2015-09-11_2: int, 2015-09-11_3: int, 2015-09-11_4: int, 2015-09-18_1: int, 2015-09-18_2: int, 2015-09-18_3: int, 2015-09-18_4: int, 2015-10-16_1: int, 2015-10-16_2: int, 2015-10-16_3: int, 2015-10-16_4: int, 2015-11-27_1: int, 2015-11-27_2: int, 2015-11-27_3: int, 2015-11-27_4: int, 2015-10-02_1: int, 2015-10-02_2: int, 2015-10-02_3: int, 2015-10-02_4: int, 2015-10-07_1: int, 2015-10-07_2: int, 2015-10-07_3: int, 2015-10-07_4: int, 2015-11-07_1: int, 2015-11-07_2: int, 2015-11-07_3: int, 2015-11-07_4: int, 2015-08-28_1: int, 2015-08-28_2: int, 2015-08-28_3: int, 2015-08-28_4: int, 2015-08-27_1: int, 2015-08-27_2: int, 2015-08-27_3: int, 2015-08-27_4: int, 2015-10-27_1: int, 2015-10-27_2: int, 2015-10-27_3: int, 2015-10-27_4: int, 2015-11-03_1: int, 2015-11-03_2: int, 2015-11-03_3: int, 2015-11-03_4: int, 2015-08-13_1: int, 2015-08-13_2: int, 2015-08-13_3: int, 2015-08-13_4: int, 2015-11-25_1: int, 2015-11-25_2: int, 2015-11-25_3: int, 2015-11-25_4: int, features: vector]"
      ]
     },
     "execution_count": 14,
     "metadata": {},
     "output_type": "execute_result"
    }
   ],
   "source": [
    "from pyspark.ml.feature import VectorAssembler\n",
    "\n",
    "# Define the path to the CSV folder that was saved in Step 5.\n",
    "pyspark_hotels_clustering_data = \"./pyspark_hotels_clustering_data.csv\"\n",
    "\n",
    "# Read the CSV data (Spark will read all part files in the folder)\n",
    "df_loaded = spark.read.option(\"header\", \"true\").option(\"inferSchema\", \"true\").csv(pyspark_hotels_clustering_data)\n",
    "\n",
    "# Identify the feature columns (all columns except \"Hotel Name\")\n",
    "feature_cols = [col for col in df_loaded.columns if col != \"Hotel Name\"]\n",
    "\n",
    "# Assemble the 160 normalized price columns into a single feature vector.\n",
    "\n",
    "assembler = VectorAssembler(inputCols=feature_cols, outputCol=\"features\")\n",
    "df_features = assembler.transform(df_loaded)\n"
   ]
  },
  {
   "cell_type": "markdown",
   "metadata": {},
   "source": [
    "#### Clustering with MLlib (BisectingKMeans)"
   ]
  },
  {
   "cell_type": "code",
   "execution_count": 15,
   "metadata": {},
   "outputs": [
    {
     "name": "stderr",
     "output_type": "stream",
     "text": [
      "25/02/08 11:39:38 WARN InstanceBuilder: Failed to load implementation from:dev.ludovic.netlib.blas.JNIBLAS\n"
     ]
    },
    {
     "name": "stdout",
     "output_type": "stream",
     "text": [
      "+-----------------------------------------------------+-------+\n",
      "|Hotel Name                                           |cluster|\n",
      "+-----------------------------------------------------+-------+\n",
      "|Bentley Hotel                                        |0      |\n",
      "|Westin New York at Times Square                      |2      |\n",
      "|The Westin New York Grand Central                    |2      |\n",
      "|Super 8 Brooklyn   Park Slope Hotel                  |0      |\n",
      "|Four Seasons Hotel New York                          |3      |\n",
      "|Omni Berkshire Place                                 |2      |\n",
      "|DoubleTree by Hilton Metropolitan - New York City    |3      |\n",
      "|Dumont NYC-an Affinia hotel                          |1      |\n",
      "|Hampton Inn Manhattan Downtown-Financial District    |2      |\n",
      "|Eventi Hotel a Kimpton Hotel                         |2      |\n",
      "|Magnuson Convention Center Hotel                     |3      |\n",
      "|Courtyard Newark Elizabeth                           |1      |\n",
      "|Park Hyatt New York                                  |1      |\n",
      "|Roxy Hotel Tribeca (formerly the Tribeca Grand Hotel)|0      |\n",
      "|The Kitano New York                                  |0      |\n",
      "|Waldorf Astoria New York                             |2      |\n",
      "|Courtyard by Marriott New York Manhattan SoHo        |0      |\n",
      "|Hyatt Place New York Midtown South                   |1      |\n",
      "|Hilton Garden Inn New York Manhattan-Chelsea         |2      |\n",
      "|Baccarat Hotel and Residences New York               |0      |\n",
      "+-----------------------------------------------------+-------+\n",
      "only showing top 20 rows\n",
      "\n"
     ]
    }
   ],
   "source": [
    "from pyspark.ml.clustering import BisectingKMeans\n",
    "\n",
    "# Set the number of clusters (adjust k as needed)\n",
    "bkmeans = BisectingKMeans(featuresCol=\"features\", predictionCol=\"cluster\", k=4)\n",
    "\n",
    "# Train the model\n",
    "model = bkmeans.fit(df_features)\n",
    "\n",
    "# Add the cluster assignments to the DataFrame\n",
    "df_clustered = model.transform(df_features)\n",
    "\n",
    "# Show the hotel names along with their cluster assignments\n",
    "df_clustered.select(\"Hotel Name\", \"cluster\").show(truncate=False)\n"
   ]
  },
  {
   "cell_type": "markdown",
   "metadata": {},
   "source": [
    "#### Visualization with PCA and Plotly"
   ]
  },
  {
   "cell_type": "markdown",
   "metadata": {},
   "source": [
    "Since the features are 160-dimensional, we use PCA to reduce them to 2 dimensions for visualization. Then, we convert the Spark DataFrame to a Pandas DataFrame and use Plotly Express to create a scatter plot."
   ]
  },
  {
   "cell_type": "code",
   "execution_count": 16,
   "metadata": {},
   "outputs": [
    {
     "name": "stderr",
     "output_type": "stream",
     "text": [
      "25/02/08 11:42:38 WARN InstanceBuilder: Failed to load implementation from:dev.ludovic.netlib.lapack.JNILAPACK\n"
     ]
    }
   ],
   "source": [
    "from pyspark.ml.feature import PCA\n",
    "pca = PCA(k=2, inputCol=\"features\", outputCol=\"pcaFeatures\")\n",
    "pca_model = pca.fit(df_clustered)\n",
    "df_pca = pca_model.transform(df_clustered)\n",
    "\n",
    "pandas_df = df_pca.select(\"Hotel Name\", \"cluster\", \"pcaFeatures\").toPandas()\n",
    "\n",
    "# Split the PCA features into two separate columns for plotting\n",
    "pandas_df[\"pca1\"] = pandas_df[\"pcaFeatures\"].apply(lambda x: x[0])\n",
    "pandas_df[\"pca2\"] = pandas_df[\"pcaFeatures\"].apply(lambda x: x[1])\n"
   ]
  },
  {
   "cell_type": "code",
   "execution_count": 17,
   "metadata": {},
   "outputs": [
    {
     "data": {
      "application/vnd.plotly.v1+json": {
       "config": {
        "plotlyServerURL": "https://plot.ly"
       },
       "data": [
        {
         "customdata": [
          [
           "Bentley Hotel"
          ],
          [
           "Westin New York at Times Square"
          ],
          [
           "The Westin New York Grand Central"
          ],
          [
           "Super 8 Brooklyn   Park Slope Hotel"
          ],
          [
           "Four Seasons Hotel New York"
          ],
          [
           "Omni Berkshire Place"
          ],
          [
           "DoubleTree by Hilton Metropolitan - New York City"
          ],
          [
           "Dumont NYC-an Affinia hotel"
          ],
          [
           "Hampton Inn Manhattan Downtown-Financial District"
          ],
          [
           "Eventi Hotel a Kimpton Hotel"
          ],
          [
           "Magnuson Convention Center Hotel"
          ],
          [
           "Courtyard Newark Elizabeth"
          ],
          [
           "Park Hyatt New York"
          ],
          [
           "Roxy Hotel Tribeca (formerly the Tribeca Grand Hotel)"
          ],
          [
           "The Kitano New York"
          ],
          [
           "Waldorf Astoria New York"
          ],
          [
           "Courtyard by Marriott New York Manhattan SoHo"
          ],
          [
           "Hyatt Place New York Midtown South"
          ],
          [
           "Hilton Garden Inn New York Manhattan-Chelsea"
          ],
          [
           "Baccarat Hotel and Residences New York"
          ],
          [
           "The St. Regis New York"
          ],
          [
           "Hampton Inn Manhattan Times Square South"
          ],
          [
           "New York Hilton Midtown"
          ],
          [
           "The Pearl New York"
          ],
          [
           "Best Western Plus Newark Airport West"
          ],
          [
           "Wyndham Garden - Manhattan Chelsea West"
          ],
          [
           "Martha Washington"
          ],
          [
           "GEM Hotel - Chelsea an Ascend Hotel Collection Member"
          ],
          [
           "The Plaza Hotel"
          ],
          [
           "Best Western Plus Arena Hotel"
          ],
          [
           "Courtyard New York Manhattan Times Square West"
          ],
          [
           "W New York - Downtown"
          ],
          [
           "Renaissance Newark Airport Hotel"
          ],
          [
           "Hilton Garden Inn Tribeca"
          ],
          [
           "Aloft Harlem"
          ],
          [
           "The High Line Hotel"
          ],
          [
           "Wyndham New Yorker"
          ],
          [
           "SpringHill Suites by Marriott Newark Liberty International"
          ],
          [
           "Wyndham Garden Chinatown"
          ],
          [
           "DoubleTree by Hilton Hotel New York - Times Square South"
          ],
          [
           "Smyth A Thompson Hotel"
          ],
          [
           "Hampton Inn & Suites Staten Island"
          ],
          [
           "Conrad New York"
          ],
          [
           "DoubleTree by Hilton New York City - Chelsea"
          ],
          [
           "The Lexington New York City Autograph Collection"
          ],
          [
           "New York Marriott Downtown"
          ],
          [
           "Loews Regency New York Hotel"
          ],
          [
           "SIXTY Lower East Side"
          ],
          [
           "Hampton Inn JFK Airport"
          ],
          [
           "Hilton Newark Airport"
          ],
          [
           "Hilton Times Square"
          ],
          [
           "The Towers of the Waldorf Astoria New York"
          ],
          [
           "Wyndham Garden Long Island City Manhattan View"
          ],
          [
           "Hampton Inn New York - LaGuardia Airport"
          ],
          [
           "DoubleTree Suites by Hilton New York City - Times Square"
          ],
          [
           "Howard Johnson Flushing"
          ],
          [
           "Hyatt Times Square New York"
          ],
          [
           "Hilton Garden Inn New York Manhattan-Midtown East"
          ],
          [
           "Andaz 5th Avenue - a concept by Hyatt"
          ],
          [
           "Hilton New York JFK Airport"
          ],
          [
           "Howard Johnson Inn Jamaica JFK Airport NYC"
          ],
          [
           "Residence Inn Newark Elizabeth Liberty International Airport"
          ],
          [
           "New York Marriott at the Brooklyn Bridge"
          ],
          [
           "Jet Luxury at the Trump SoHo"
          ],
          [
           "Hampton Inn New York Chelsea"
          ],
          [
           "The Roosevelt Hotel New York City"
          ],
          [
           "Hyatt Place Flushing LaGuardia Airport"
          ],
          [
           "Fairfield Inn by Marriott LaGuardia Airport Flushing"
          ],
          [
           "Gild Hall A Thompson Hotel"
          ],
          [
           "The New York EDITION"
          ],
          [
           "Best Western Bayside Inn"
          ],
          [
           "Hilton Garden Inn New York Midtown Park Ave"
          ],
          [
           "Newark Liberty International Airport Marriott"
          ],
          [
           "Hotel 48LEX New York"
          ],
          [
           "Homewood Suites by Hilton NY Midtown Manhattan Times Square"
          ],
          [
           "Holiday Inn New York JFK Airport Area"
          ],
          [
           "Hudson New York Central Park"
          ],
          [
           "W New York Times Square"
          ],
          [
           "Wyndham Garden Brooklyn Sunset Park"
          ],
          [
           "ink48 hotel a Kimpton Hotel"
          ],
          [
           "Courtyard by Marriott New York Manhattan Times Square"
          ],
          [
           "Cassa Hotel 45th Street"
          ],
          [
           "The SunBright"
          ],
          [
           "Hilton New York Fashion District"
          ],
          [
           "The Carlyle A Rosewood Hotel"
          ],
          [
           "Courtyard by Marriott New York City Manhattan Fifth Avenue"
          ],
          [
           "Hampton Inn Manhattan Soho"
          ],
          [
           "Days Inn Bronx Near Stadium"
          ],
          [
           "Hampton Inn Times Square North"
          ],
          [
           "Home2 Suites by Hilton NY Long Island City Manhattan View"
          ],
          [
           "Comfort Inn Times Square South Area"
          ],
          [
           "Hilton Manhattan East"
          ],
          [
           "The Out NYC"
          ],
          [
           "Blakely New York"
          ],
          [
           "Hampton Inn Manhattan Times Square Central"
          ],
          [
           "TRYP By Wyndham Times Square South"
          ],
          [
           "Le Parker Meridien New York"
          ],
          [
           "The Roger"
          ],
          [
           "Andaz Wall Street - a concept by Hyatt"
          ],
          [
           "McCarren Hotel & Pool"
          ],
          [
           "Howard Johnson Bronx Near Stadium"
          ],
          [
           "Courtyard by Marriott New York Manhattan Upper East Side"
          ],
          [
           "The Shoreham Hotel"
          ],
          [
           "Hampton Inn Manhattan United Nations"
          ],
          [
           "The Muse Hotel a Kimpton Hotel"
          ],
          [
           "Quality Inn Woodside"
          ],
          [
           "NOMO SOHO"
          ],
          [
           "Langham Place New York Fifth Avenue"
          ],
          [
           "Courtyard by Marriott New York Manhattan   Central Park"
          ],
          [
           "The Peninsula New York"
          ],
          [
           "San Carlos Hotel"
          ],
          [
           "The Lombardy"
          ],
          [
           "Hyatt Union Square New York"
          ],
          [
           "Millenium Hilton"
          ],
          [
           "Radisson Martinique on Broadway"
          ],
          [
           "Hilton Garden Inn New York Long Island City"
          ],
          [
           "Quality Inn Convention Center"
          ],
          [
           "Hampton Inn Manhattan-Seaport-Financial District"
          ],
          [
           "New York Marriott East Side"
          ],
          [
           "W New York - Union Square"
          ],
          [
           "Hilton Garden Inn New York West 35th Street"
          ],
          [
           "Ramada Long Island City"
          ],
          [
           "Residence Inn New York The Bronx At Metro Center Atrium"
          ],
          [
           "Viceroy New York"
          ],
          [
           "Hilton Garden Inn New York-Times Square Central"
          ],
          [
           "Hilton Garden Inn New York Central Park South-Midtown West"
          ],
          [
           "Chelsea Inn"
          ],
          [
           "Crowne Plaza Times Square Manhattan"
          ],
          [
           "W New York"
          ],
          [
           "DoubleTree by Hilton New York City - Financial District"
          ],
          [
           "The Standard East Village"
          ],
          [
           "Grand Hyatt New York"
          ],
          [
           "Best Western Bowery Hanbee Hotel"
          ],
          [
           "The Benjamin"
          ],
          [
           "United Nations Apartment Hotel"
          ],
          [
           "Residence Inn by Marriott New York Manhattan Midtown East"
          ],
          [
           "Hampton Inn New York - 35th Street - Empire State Building"
          ],
          [
           "Hampton Inn Madison Square Garden Area Hotel"
          ],
          [
           "Red Carpet Inn New York City"
          ],
          [
           "Manhattan NYC-an Affinia hotel"
          ],
          [
           "The Chatwal a Luxury Collection Hotel New York City"
          ],
          [
           "Hilton Garden Inn Times Square"
          ],
          [
           "The Premier Hotel New York"
          ],
          [
           "Shelburne NYC-an Affinia hotel"
          ],
          [
           "Hyatt Herald Square New York"
          ],
          [
           "DoubleTree by Hilton Hotel Newark Airport"
          ],
          [
           "The Mark"
          ],
          [
           "Sheraton LaGuardia East Hotel"
          ],
          [
           "Sheraton New York Times Square Hotel"
          ]
         ],
         "hovertemplate": "pca1=%{x}<br>pca2=%{y}<br>Hotel Name=%{customdata[0]}<br>cluster=%{marker.color}<extra></extra>",
         "legendgroup": "",
         "marker": {
          "color": {
           "bdata": "AAAAAAIAAAACAAAAAAAAAAMAAAACAAAAAwAAAAEAAAACAAAAAgAAAAMAAAABAAAAAQAAAAAAAAAAAAAAAgAAAAAAAAABAAAAAgAAAAAAAAABAAAAAQAAAAIAAAAAAAAAAAAAAAAAAAADAAAAAAAAAAMAAAAAAAAAAAAAAAAAAAACAAAAAQAAAAAAAAABAAAAAAAAAAEAAAAAAAAAAQAAAAIAAAAAAAAAAwAAAAIAAAADAAAAAgAAAAMAAAABAAAAAAAAAAIAAAADAAAAAQAAAAAAAAAAAAAAAQAAAAAAAAACAAAAAgAAAAIAAAAAAAAAAAAAAAIAAAABAAAAAAAAAAIAAAADAAAAAAAAAAEAAAACAAAAAQAAAAAAAAADAAAAAgAAAAAAAAADAAAAAAAAAAAAAAADAAAAAgAAAAEAAAAAAAAAAwAAAAAAAAACAAAAAAAAAAAAAAACAAAAAAAAAAAAAAABAAAAAQAAAAMAAAABAAAAAQAAAAEAAAAAAAAAAwAAAAEAAAACAAAAAgAAAAAAAAAAAAAAAAAAAAMAAAAAAAAAAQAAAAIAAAADAAAAAAAAAAEAAAAAAAAAAAAAAAMAAAADAAAAAQAAAAEAAAABAAAAAgAAAAEAAAACAAAAAwAAAAEAAAAAAAAAAwAAAAMAAAADAAAAAAAAAAEAAAADAAAAAwAAAAIAAAADAAAAAQAAAAEAAAABAAAAAAAAAAIAAAACAAAAAAAAAAIAAAAAAAAAAwAAAAAAAAABAAAAAgAAAAEAAAAAAAAAAQAAAAEAAAA=",
           "dtype": "i4"
          },
          "coloraxis": "coloraxis",
          "symbol": "circle"
         },
         "mode": "markers",
         "name": "",
         "orientation": "v",
         "showlegend": false,
         "type": "scatter",
         "x": {
          "bdata": "xLaghwjPQsC9nlOrXX92wINm1jsL73DAZcuOlHdeKsDAMeuQZGJ4wO2AtnpzkXHAJhAwSD2Be8B4UiRROBtmwPJx66TMu3fAh50z5bCra8DYKTnmPCl+wMKUAV2F4lnAi/OB1T2hY8Cl9NJ6uPVHwCY3EJoc41HAQI8y9ysScMDpp0wAsldSwPiDWhZ3oGjAKPU7/dkQbsCQuB05imYPwB3WmvECLWnA1AmGO6ryY8Ace87gO6NxwIsul3gQChvAjFNkAGmCTMDpGevUZrNTwFDctp1ltXnAljG/akXKVcCpp4pOoCd3wFJ0f3rf9ErA26cioZfCIMCkE3yTGjVTwA0JxJBgInHA3YPKV8oKVsAdEaS/Z8ZTwEyTlD3AmFLA3z0y1edmQsAWSy4spxRawCg8hbikskrAt0pJtvjpY8C/JhVDTMFvwIEKSoycJ0DA+h2MdXXUfsCB56YDEXZzwJnoJr29GXrAYRfMVm6tcsBxNfzgKl5+wGytvD6J8lnAoJD2pNtwS8B3L1MfKqZywLfg/VOs1oHA7q546ImHYsDoTl8e5JFHwBnxBmtyLRNACdSsHHsuYcASnk0LdHYswMjOsD/QCHTAVnxe2/WGcsCbpom2zAN1wH6Mneo3KzXA6v6sgXkRR8B+gdzglhNuwHliL79cC2jA5XovWoRVT8BcuNpULhpvwA23zds46XvANDldF5sNVMDIGMMsjVVhwGnh2PozIHHA4m5SwpE+YsCodZ+wkqlewDjKm0AwLHfA5bPgYjxNdMCX634mgV1SwMije7d1A3rADIRO3QzgSsDFxL0em7EpwJQ6D0Q1i3jAQSFPikFuccDXyj/VZ5pfwLbUYBBXYFXA5/87ewhWfMCLnixEnUJPwNVWkMd6ymvAaJ2BdwHVXsBBqfVG3phCwL00Fa0i03LAuBxjxso0DcCvWlEHqhRewND2e7J5tmTAyfk+pGx+a8Cj8cVATWZ4wCZCBJbVOmXA7Rhbqpx+acCur9D9fOFqwEaYDMAOO0PAcgYc8pj4esC2FjEo73NpwIPBXzMEZ3LAyy3yziS7dMBr9BVNtsNRwFNPY/wG3EbATx9zDzexV8Cu+pWQTv93wEhrKFV6PkTALYnNRmDpa8Bmq9fufaZvwFt9wJG3/3rAs5JOFj2oT8BGdhTm2K5ewFYS9mTHbQzAixzMwyHiPMBiSgD4KQB5wBU/IsuTJXrAEUpy658LYcAEIse9o0tiwKEoPoxOJmTAeoyFhBsMd8DNV6u488pjwPXHIJDnMXbAM8hGqk9jecAMiT5OMO1WwMAAnrsGGiZADXASf2DjgcCnCUMh1lV8wLHEKQN0i3nAUX9YgsIIRcDcyeEj8bBgwLZocNEYAHrAA1mp1WY6fcBD+Pm9sgpwwF003UZQynjAWYHq6c2FZcCGcLKoCcllwPb4Y9yK5l/AKD+a9OZ/TsBAk2o/q190wKnVhasJ123Apv7sBIXAQcCbwlflc85ywAEqHCbFVU7AsNPhN8obg8DOEvUK6TxHwHc6GsjchGLATcv9v7aTdcB/FOyh9kNiwLAcDY+NbCVAeHhSdXjkY8CzZ9d/TsZrwA==",
          "dtype": "f8"
         },
         "xaxis": "x",
         "y": {
          "bdata": "a5/JeKwpKkBgrdATSfRCQL3PWim8CVtAHM7j3rf3HECeOb6JXehPwLo4eRgzHFzAJMAyKN2jSkBof6SgwgNKwKL/Ou8MrErA7dWnlZsKOkAisiQx/jZIwPLOgCaYrFDA00tptlT6PUCksoMnkhJNwDquRDfrESZA/4EmBclsZcCCxqK+xhw2QL+cTnV7l0/AmfS9dVFxTUD8zVwCIxwvwI5Ro69o+lDAonJ3eTAsTEAqYHuM4ctCwLD/iHfaWjNAp6ORNN70B0B6qIpGpS5bwMaVmteGQ2RAltxL0crIQ8DDqYgT5V1KQLtUaL/yNDVATFBppZHZAMD2U282r/JewHmF6CnfHWPA7IbpyBxzTsCFL6HbV/wwQAHdkvB490XAhXTen4O3Q8DeES0t6MA/wBvWkJKnH1jAJMhGnoMeNkAqCfzWVIRMQH/256HPez5ARNY1JtnMa8AxFRWUjVJFwAqoO3xzi0xA5JH1mRq8UsBB116iwmEzQA3U16X+NkRAStnD+blDNcDbGxwnwrEaQAClGucQEANAxQHTpLPSC8CKBjO3C6cSwKZMm3e+Wh/AgaPKjllHG8DdsqgrlvApwIZmTke5wlzA3zCNHzDcPEAJOgwprzJdwLNdOMb4wxJAYlz0M7nmScBMaI0yHcVlQCyuRXDU7kLAcSU9Am6+QcAecgvqMPJkwKAzzixdRDdAyglV9OzLJMAaunY8qQRCwC2lp4n2PF9AqVQOK6NnQEDq4hFXgm5AQOChEG5SHzBAmBMrJAmhYsBaRLzMt+YQQNLkq9z69lDAjf0TcVbnM8DL0Z1NgjNAwFylUP1vsypAv0k6Rk0qV0CfitHqdYtiwFe5F0rrOULAccEuRDF0VUDLT6/4FishwGyesgxu10PASGbVHwexT0Cfapo4RY5AQAS2+0RhMk1A3dzDZw4FKcC2KxS39Ig/QIePnj8AUVZAaITReOTlXcCkKo0NZQA3wJ6WkMzGe1NAUbZYI3TgN0C4Y8D6eBM8wLzK84ohxz7Auz8dc0G7YsCh+x4v5TJvwHXhhkbjcCfAcNlGLMETUUCpo+rCLkBKwNtIefzuGDVAO8H5Oz0EF8BTeDoAJKhDwMC3bBIn8DbAHsqKMSFtO8C3Jql+QlQ+wD6pHicVa2JAvI1IYtSNKUCykYjzsttMQCchZq1SCu2/9MUQIzA+JUDIbSgb4EVCwMAAqnJEHUlAsQcTBqXmEEDi7Dw9Yq4PQBLJGqEtmzHAIqbRh2XmacBr8r/7iNVFwK1Spme4cV7ALyOb73/aMUA5ISp2tY5TwK5CwdLBKfg/9cpsjJyTKsAuMND5ZFkhwMuQiCjIOUtAs9uQraQpFkBlGIp8GFRBwMSxnDXJl0/AA5mMYFktPcBgRH3tU25BQDGaZUSvcGLAN63WgCS9W0By+Gy9vGJVwGuE+OSsuV/AIBZVWi+ARkAE2Gv6XjNWQA80pQUdAUNAd8fQYs7VOMDasaz0XlhSwM68WnMfS1FAZeXMhFVKUUAcCfjDu11FwC1y+EDkVGPATk7KcqOIN0DZIaA9FJg7QLbY0VaiEvG/aXzFivc+MUCBwJdIyiRJQA==",
          "dtype": "f8"
         },
         "yaxis": "y"
        }
       ],
       "layout": {
        "coloraxis": {
         "colorbar": {
          "title": {
           "text": "cluster"
          }
         },
         "colorscale": [
          [
           0,
           "#0d0887"
          ],
          [
           0.1111111111111111,
           "#46039f"
          ],
          [
           0.2222222222222222,
           "#7201a8"
          ],
          [
           0.3333333333333333,
           "#9c179e"
          ],
          [
           0.4444444444444444,
           "#bd3786"
          ],
          [
           0.5555555555555556,
           "#d8576b"
          ],
          [
           0.6666666666666666,
           "#ed7953"
          ],
          [
           0.7777777777777778,
           "#fb9f3a"
          ],
          [
           0.8888888888888888,
           "#fdca26"
          ],
          [
           1,
           "#f0f921"
          ]
         ]
        },
        "legend": {
         "tracegroupgap": 0
        },
        "template": {
         "data": {
          "bar": [
           {
            "error_x": {
             "color": "#2a3f5f"
            },
            "error_y": {
             "color": "#2a3f5f"
            },
            "marker": {
             "line": {
              "color": "#E5ECF6",
              "width": 0.5
             },
             "pattern": {
              "fillmode": "overlay",
              "size": 10,
              "solidity": 0.2
             }
            },
            "type": "bar"
           }
          ],
          "barpolar": [
           {
            "marker": {
             "line": {
              "color": "#E5ECF6",
              "width": 0.5
             },
             "pattern": {
              "fillmode": "overlay",
              "size": 10,
              "solidity": 0.2
             }
            },
            "type": "barpolar"
           }
          ],
          "carpet": [
           {
            "aaxis": {
             "endlinecolor": "#2a3f5f",
             "gridcolor": "white",
             "linecolor": "white",
             "minorgridcolor": "white",
             "startlinecolor": "#2a3f5f"
            },
            "baxis": {
             "endlinecolor": "#2a3f5f",
             "gridcolor": "white",
             "linecolor": "white",
             "minorgridcolor": "white",
             "startlinecolor": "#2a3f5f"
            },
            "type": "carpet"
           }
          ],
          "choropleth": [
           {
            "colorbar": {
             "outlinewidth": 0,
             "ticks": ""
            },
            "type": "choropleth"
           }
          ],
          "contour": [
           {
            "colorbar": {
             "outlinewidth": 0,
             "ticks": ""
            },
            "colorscale": [
             [
              0,
              "#0d0887"
             ],
             [
              0.1111111111111111,
              "#46039f"
             ],
             [
              0.2222222222222222,
              "#7201a8"
             ],
             [
              0.3333333333333333,
              "#9c179e"
             ],
             [
              0.4444444444444444,
              "#bd3786"
             ],
             [
              0.5555555555555556,
              "#d8576b"
             ],
             [
              0.6666666666666666,
              "#ed7953"
             ],
             [
              0.7777777777777778,
              "#fb9f3a"
             ],
             [
              0.8888888888888888,
              "#fdca26"
             ],
             [
              1,
              "#f0f921"
             ]
            ],
            "type": "contour"
           }
          ],
          "contourcarpet": [
           {
            "colorbar": {
             "outlinewidth": 0,
             "ticks": ""
            },
            "type": "contourcarpet"
           }
          ],
          "heatmap": [
           {
            "colorbar": {
             "outlinewidth": 0,
             "ticks": ""
            },
            "colorscale": [
             [
              0,
              "#0d0887"
             ],
             [
              0.1111111111111111,
              "#46039f"
             ],
             [
              0.2222222222222222,
              "#7201a8"
             ],
             [
              0.3333333333333333,
              "#9c179e"
             ],
             [
              0.4444444444444444,
              "#bd3786"
             ],
             [
              0.5555555555555556,
              "#d8576b"
             ],
             [
              0.6666666666666666,
              "#ed7953"
             ],
             [
              0.7777777777777778,
              "#fb9f3a"
             ],
             [
              0.8888888888888888,
              "#fdca26"
             ],
             [
              1,
              "#f0f921"
             ]
            ],
            "type": "heatmap"
           }
          ],
          "histogram": [
           {
            "marker": {
             "pattern": {
              "fillmode": "overlay",
              "size": 10,
              "solidity": 0.2
             }
            },
            "type": "histogram"
           }
          ],
          "histogram2d": [
           {
            "colorbar": {
             "outlinewidth": 0,
             "ticks": ""
            },
            "colorscale": [
             [
              0,
              "#0d0887"
             ],
             [
              0.1111111111111111,
              "#46039f"
             ],
             [
              0.2222222222222222,
              "#7201a8"
             ],
             [
              0.3333333333333333,
              "#9c179e"
             ],
             [
              0.4444444444444444,
              "#bd3786"
             ],
             [
              0.5555555555555556,
              "#d8576b"
             ],
             [
              0.6666666666666666,
              "#ed7953"
             ],
             [
              0.7777777777777778,
              "#fb9f3a"
             ],
             [
              0.8888888888888888,
              "#fdca26"
             ],
             [
              1,
              "#f0f921"
             ]
            ],
            "type": "histogram2d"
           }
          ],
          "histogram2dcontour": [
           {
            "colorbar": {
             "outlinewidth": 0,
             "ticks": ""
            },
            "colorscale": [
             [
              0,
              "#0d0887"
             ],
             [
              0.1111111111111111,
              "#46039f"
             ],
             [
              0.2222222222222222,
              "#7201a8"
             ],
             [
              0.3333333333333333,
              "#9c179e"
             ],
             [
              0.4444444444444444,
              "#bd3786"
             ],
             [
              0.5555555555555556,
              "#d8576b"
             ],
             [
              0.6666666666666666,
              "#ed7953"
             ],
             [
              0.7777777777777778,
              "#fb9f3a"
             ],
             [
              0.8888888888888888,
              "#fdca26"
             ],
             [
              1,
              "#f0f921"
             ]
            ],
            "type": "histogram2dcontour"
           }
          ],
          "mesh3d": [
           {
            "colorbar": {
             "outlinewidth": 0,
             "ticks": ""
            },
            "type": "mesh3d"
           }
          ],
          "parcoords": [
           {
            "line": {
             "colorbar": {
              "outlinewidth": 0,
              "ticks": ""
             }
            },
            "type": "parcoords"
           }
          ],
          "pie": [
           {
            "automargin": true,
            "type": "pie"
           }
          ],
          "scatter": [
           {
            "fillpattern": {
             "fillmode": "overlay",
             "size": 10,
             "solidity": 0.2
            },
            "type": "scatter"
           }
          ],
          "scatter3d": [
           {
            "line": {
             "colorbar": {
              "outlinewidth": 0,
              "ticks": ""
             }
            },
            "marker": {
             "colorbar": {
              "outlinewidth": 0,
              "ticks": ""
             }
            },
            "type": "scatter3d"
           }
          ],
          "scattercarpet": [
           {
            "marker": {
             "colorbar": {
              "outlinewidth": 0,
              "ticks": ""
             }
            },
            "type": "scattercarpet"
           }
          ],
          "scattergeo": [
           {
            "marker": {
             "colorbar": {
              "outlinewidth": 0,
              "ticks": ""
             }
            },
            "type": "scattergeo"
           }
          ],
          "scattergl": [
           {
            "marker": {
             "colorbar": {
              "outlinewidth": 0,
              "ticks": ""
             }
            },
            "type": "scattergl"
           }
          ],
          "scattermap": [
           {
            "marker": {
             "colorbar": {
              "outlinewidth": 0,
              "ticks": ""
             }
            },
            "type": "scattermap"
           }
          ],
          "scattermapbox": [
           {
            "marker": {
             "colorbar": {
              "outlinewidth": 0,
              "ticks": ""
             }
            },
            "type": "scattermapbox"
           }
          ],
          "scatterpolar": [
           {
            "marker": {
             "colorbar": {
              "outlinewidth": 0,
              "ticks": ""
             }
            },
            "type": "scatterpolar"
           }
          ],
          "scatterpolargl": [
           {
            "marker": {
             "colorbar": {
              "outlinewidth": 0,
              "ticks": ""
             }
            },
            "type": "scatterpolargl"
           }
          ],
          "scatterternary": [
           {
            "marker": {
             "colorbar": {
              "outlinewidth": 0,
              "ticks": ""
             }
            },
            "type": "scatterternary"
           }
          ],
          "surface": [
           {
            "colorbar": {
             "outlinewidth": 0,
             "ticks": ""
            },
            "colorscale": [
             [
              0,
              "#0d0887"
             ],
             [
              0.1111111111111111,
              "#46039f"
             ],
             [
              0.2222222222222222,
              "#7201a8"
             ],
             [
              0.3333333333333333,
              "#9c179e"
             ],
             [
              0.4444444444444444,
              "#bd3786"
             ],
             [
              0.5555555555555556,
              "#d8576b"
             ],
             [
              0.6666666666666666,
              "#ed7953"
             ],
             [
              0.7777777777777778,
              "#fb9f3a"
             ],
             [
              0.8888888888888888,
              "#fdca26"
             ],
             [
              1,
              "#f0f921"
             ]
            ],
            "type": "surface"
           }
          ],
          "table": [
           {
            "cells": {
             "fill": {
              "color": "#EBF0F8"
             },
             "line": {
              "color": "white"
             }
            },
            "header": {
             "fill": {
              "color": "#C8D4E3"
             },
             "line": {
              "color": "white"
             }
            },
            "type": "table"
           }
          ]
         },
         "layout": {
          "annotationdefaults": {
           "arrowcolor": "#2a3f5f",
           "arrowhead": 0,
           "arrowwidth": 1
          },
          "autotypenumbers": "strict",
          "coloraxis": {
           "colorbar": {
            "outlinewidth": 0,
            "ticks": ""
           }
          },
          "colorscale": {
           "diverging": [
            [
             0,
             "#8e0152"
            ],
            [
             0.1,
             "#c51b7d"
            ],
            [
             0.2,
             "#de77ae"
            ],
            [
             0.3,
             "#f1b6da"
            ],
            [
             0.4,
             "#fde0ef"
            ],
            [
             0.5,
             "#f7f7f7"
            ],
            [
             0.6,
             "#e6f5d0"
            ],
            [
             0.7,
             "#b8e186"
            ],
            [
             0.8,
             "#7fbc41"
            ],
            [
             0.9,
             "#4d9221"
            ],
            [
             1,
             "#276419"
            ]
           ],
           "sequential": [
            [
             0,
             "#0d0887"
            ],
            [
             0.1111111111111111,
             "#46039f"
            ],
            [
             0.2222222222222222,
             "#7201a8"
            ],
            [
             0.3333333333333333,
             "#9c179e"
            ],
            [
             0.4444444444444444,
             "#bd3786"
            ],
            [
             0.5555555555555556,
             "#d8576b"
            ],
            [
             0.6666666666666666,
             "#ed7953"
            ],
            [
             0.7777777777777778,
             "#fb9f3a"
            ],
            [
             0.8888888888888888,
             "#fdca26"
            ],
            [
             1,
             "#f0f921"
            ]
           ],
           "sequentialminus": [
            [
             0,
             "#0d0887"
            ],
            [
             0.1111111111111111,
             "#46039f"
            ],
            [
             0.2222222222222222,
             "#7201a8"
            ],
            [
             0.3333333333333333,
             "#9c179e"
            ],
            [
             0.4444444444444444,
             "#bd3786"
            ],
            [
             0.5555555555555556,
             "#d8576b"
            ],
            [
             0.6666666666666666,
             "#ed7953"
            ],
            [
             0.7777777777777778,
             "#fb9f3a"
            ],
            [
             0.8888888888888888,
             "#fdca26"
            ],
            [
             1,
             "#f0f921"
            ]
           ]
          },
          "colorway": [
           "#636efa",
           "#EF553B",
           "#00cc96",
           "#ab63fa",
           "#FFA15A",
           "#19d3f3",
           "#FF6692",
           "#B6E880",
           "#FF97FF",
           "#FECB52"
          ],
          "font": {
           "color": "#2a3f5f"
          },
          "geo": {
           "bgcolor": "white",
           "lakecolor": "white",
           "landcolor": "#E5ECF6",
           "showlakes": true,
           "showland": true,
           "subunitcolor": "white"
          },
          "hoverlabel": {
           "align": "left"
          },
          "hovermode": "closest",
          "mapbox": {
           "style": "light"
          },
          "paper_bgcolor": "white",
          "plot_bgcolor": "#E5ECF6",
          "polar": {
           "angularaxis": {
            "gridcolor": "white",
            "linecolor": "white",
            "ticks": ""
           },
           "bgcolor": "#E5ECF6",
           "radialaxis": {
            "gridcolor": "white",
            "linecolor": "white",
            "ticks": ""
           }
          },
          "scene": {
           "xaxis": {
            "backgroundcolor": "#E5ECF6",
            "gridcolor": "white",
            "gridwidth": 2,
            "linecolor": "white",
            "showbackground": true,
            "ticks": "",
            "zerolinecolor": "white"
           },
           "yaxis": {
            "backgroundcolor": "#E5ECF6",
            "gridcolor": "white",
            "gridwidth": 2,
            "linecolor": "white",
            "showbackground": true,
            "ticks": "",
            "zerolinecolor": "white"
           },
           "zaxis": {
            "backgroundcolor": "#E5ECF6",
            "gridcolor": "white",
            "gridwidth": 2,
            "linecolor": "white",
            "showbackground": true,
            "ticks": "",
            "zerolinecolor": "white"
           }
          },
          "shapedefaults": {
           "line": {
            "color": "#2a3f5f"
           }
          },
          "ternary": {
           "aaxis": {
            "gridcolor": "white",
            "linecolor": "white",
            "ticks": ""
           },
           "baxis": {
            "gridcolor": "white",
            "linecolor": "white",
            "ticks": ""
           },
           "bgcolor": "#E5ECF6",
           "caxis": {
            "gridcolor": "white",
            "linecolor": "white",
            "ticks": ""
           }
          },
          "title": {
           "x": 0.05
          },
          "xaxis": {
           "automargin": true,
           "gridcolor": "white",
           "linecolor": "white",
           "ticks": "",
           "title": {
            "standoff": 15
           },
           "zerolinecolor": "white",
           "zerolinewidth": 2
          },
          "yaxis": {
           "automargin": true,
           "gridcolor": "white",
           "linecolor": "white",
           "ticks": "",
           "title": {
            "standoff": 15
           },
           "zerolinecolor": "white",
           "zerolinewidth": 2
          }
         }
        },
        "title": {
         "text": "Hotel Clusters Visualization (PCA Reduced)"
        },
        "xaxis": {
         "anchor": "y",
         "domain": [
          0,
          1
         ],
         "title": {
          "text": "pca1"
         }
        },
        "yaxis": {
         "anchor": "x",
         "domain": [
          0,
          1
         ],
         "title": {
          "text": "pca2"
         }
        }
       }
      }
     },
     "metadata": {},
     "output_type": "display_data"
    }
   ],
   "source": [
    "import plotly.express as px\n",
    "\n",
    "fig = px.scatter(\n",
    "    pandas_df,\n",
    "    x=\"pca1\",\n",
    "    y=\"pca2\",\n",
    "    color=\"cluster\",\n",
    "    hover_data=[\"Hotel Name\"],\n",
    "    title=\"Hotel Clusters Visualization (PCA Reduced)\"\n",
    ")\n",
    "fig.show()\n"
   ]
  },
  {
   "cell_type": "markdown",
   "metadata": {},
   "source": [
    "#### Stop the spark session"
   ]
  },
  {
   "cell_type": "code",
   "execution_count": 18,
   "metadata": {},
   "outputs": [],
   "source": [
    "spark.stop()"
   ]
  }
 ],
 "metadata": {
  "kernelspec": {
   "display_name": "DS-101-Final",
   "language": "python",
   "name": "python3"
  },
  "language_info": {
   "codemirror_mode": {
    "name": "ipython",
    "version": 3
   },
   "file_extension": ".py",
   "mimetype": "text/x-python",
   "name": "python",
   "nbconvert_exporter": "python",
   "pygments_lexer": "ipython3",
   "version": "3.12.8"
  }
 },
 "nbformat": 4,
 "nbformat_minor": 2
}
