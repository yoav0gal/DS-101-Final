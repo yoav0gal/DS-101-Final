{
 "cells": [
  {
   "cell_type": "markdown",
   "metadata": {},
   "source": [
    "## Step 3 - Clustering Based on Price Polices \n"
   ]
  },
  {
   "cell_type": "markdown",
   "metadata": {},
   "source": [
    "### 3.6 Identify the 150 hotels with the most data in the dataset and extract their records.\n"
   ]
  },
  {
   "cell_type": "code",
   "execution_count": null,
   "metadata": {},
   "outputs": [],
   "source": [
    "import pandas as pd\n",
    "\n",
    "file_path = \"./hotels_data_changed.csv\"  \n",
    "df = pd.read_csv(file_path)\n",
    "\n",
    "hotel_counts = df['Hotel Name'].value_counts()\n",
    "top_150_hotels = hotel_counts.head(150).index\n",
    "filtered_df = df[df['Hotel Name'].isin(top_150_hotels)]\n",
    "\n",
    "display(filtered_df)"
   ]
  },
  {
   "cell_type": "markdown",
   "metadata": {},
   "source": [
    "### 3.7 Find the 40 most common check-in dates  in the dataset and extract their records.\n"
   ]
  },
  {
   "cell_type": "code",
   "execution_count": null,
   "metadata": {},
   "outputs": [],
   "source": [
    "checkin_counts = filtered_df['Checkin Date'].value_counts()\n",
    "top_40_checkin_dates = checkin_counts.head(40).index\n",
    "filtered_checkin_df = filtered_df[filtered_df['Checkin Date'].isin(top_40_checkin_dates)]\n",
    "\n",
    "display(filtered_checkin_df)"
   ]
  },
  {
   "cell_type": "markdown",
   "metadata": {},
   "source": [
    "### 3.8 160-dimensional feature vector"
   ]
  },
  {
   "cell_type": "markdown",
   "metadata": {},
   "source": [
    "**Task**\n",
    "\n",
    "Build a 160-dimensional feature vector for each hotel based on its discount pricing behavior. Each vector is constructed by:\n",
    "- Filtering the top 150 hotels (by record count) and the top 40 checkin dates.\n",
    "- For each hotel, extracting 4 discount prices (one per discount code) for each of the 40 checkin dates. If several snapshots exist, we will select the one's with minimal prices.\n",
    "- If no data is available for a specific (checkin date, discount code) combination, mark it with `-1`.\n",
    "\n",
    "**Plan**\n",
    "\n",
    "1. **Group the Data:**  \n",
    "   Group the filtered data by **Hotel Name**, **Checkin Date**, and **Discount Code**. For each group, compute the minimum discount price, ensuring that only the best (lowest) price per combination is selected.\n",
    "\n",
    "2. **Pivot to Wide Format:**  \n",
    "   Transform the grouped data into a wide format where:\n",
    "   - Each row represents a single hotel.\n",
    "   - Each column represents a unique (Checkin Date, Discount Code) combination, totaling 160 columns (40 dates × 4 codes).\n",
    "\n",
    "3. **Fill Missing Data:**  \n",
    "   - Reindex the pivoted DataFrame so that every hotel has all 160 combinations, filling missing entries with `-1`."
   ]
  },
  {
   "cell_type": "code",
   "execution_count": null,
   "metadata": {},
   "outputs": [],
   "source": [
    "# 1. Group by Hotel Name, Checkin Date, and Discount Code and select the minimum Discount Price.\n",
    "grouped = (\n",
    "    filtered_checkin_df\n",
    "    .groupby(['Hotel Name', 'Checkin Date', 'Discount Code'])['Discount Price']\n",
    "    .min()\n",
    "    .reset_index()\n",
    ")\n",
    "\n",
    "# 2. Pivot the DataFrame so that:\n",
    "#    - The index is 'Hotel Name'\n",
    "#    - The columns are a MultiIndex with levels (Checkin Date, Discount Code)\n",
    "#    - The values are the minimum discount prices.\n",
    "pivot_df = grouped.pivot_table(index='Hotel Name',\n",
    "                               columns=['Checkin Date', 'Discount Code'],\n",
    "                               values='Discount Price')\n",
    "\n",
    "\n",
    "# 3. Reindex the columns so that all 40 checkin dates and 4 discount codes are present.\n",
    "#    Use the top_40_checkin_dates (from your earlier filtering) and the list [1, 2, 3, 4] for discount codes. \n",
    "all_combinations = pd.MultiIndex.from_product([top_40_checkin_dates, [1, 2, 3, 4]],\n",
    "                                                names=['Checkin Date', 'Discount Code'])\n",
    "\n",
    "pivot_df = pivot_df.reindex(columns=all_combinations, fill_value=-1)\n",
    "pivot_df = pivot_df.fillna(-1)\n",
    "\n",
    "\n",
    "pivot_df.columns = [\n",
    "    col if isinstance(col, str) else f\"{col[0]} - {col[1]}\"\n",
    "    for col in pivot_df.columns\n",
    "]\n",
    "pivot_df = pivot_df.reset_index()\n",
    "\n",
    "print(pivot_df.shape[0]) # Note we have 149 hotels instead of 150 - solution in next cell\n",
    "display(pivot_df)"
   ]
  },
  {
   "cell_type": "markdown",
   "metadata": {},
   "source": [
    "#### Identifying Missing Hotel"
   ]
  },
  {
   "cell_type": "markdown",
   "metadata": {},
   "source": [
    "**Verifying Missing Hotel Data**\n",
    "\n",
    "After filtering and pivoting the data, we expect to have 150 hotels, but only 149 appear in our pivot table. This indicates that one (or more) of the top 150 hotels has no records for the top 40 check-in dates used in our analysis.\n",
    "\n",
    "The code above does the following:\n",
    "1. **Identify Missing Hotels:**  \n",
    "   It compares the complete list of top 150 hotels (`top_150_hotels`) with the hotel names present in the pivoted DataFrame (`pivot_df`). Any hotel that is not present is added to the `missing_hotels` list.\n",
    "\n",
    "2. **Check Data for Each Missing Hotel:**  \n",
    "   For each missing hotel, it filters `filtered_checkin_df` (which already contains only records from the top 40 check-in dates) to see if there are any records for that hotel.  \n",
    "   - If the resulting DataFrame is empty, it confirms that the hotel indeed has no data for those check-in dates.  \n",
    "   - This explains why the hotel did not appear in the pivot table.\n",
    "\n",
    "By verifying that the missing hotel has no records in the filtered data, we can conclude that the drop in the number of hotels is due to the absence of data for those check-in dates rather than an error in our processing pipeline.\n",
    "\n"
   ]
  },
  {
   "cell_type": "code",
   "execution_count": null,
   "metadata": {},
   "outputs": [],
   "source": [
    "# Assuming you have already defined:\n",
    "# - top_150_hotels: the complete list of top 150 hotel names.\n",
    "# - pivot_df: the pivoted DataFrame after grouping and filtering.\n",
    "# - filtered_checkin_df: the DataFrame filtered by top 40 check-in dates.\n",
    "#\n",
    "# And the missing hotels are identified as:\n",
    "missing_hotels = [hotel for hotel in top_150_hotels if hotel not in pivot_df['Hotel Name'].values]\n",
    "print(\"Missing hotels:\", missing_hotels)\n",
    "\n",
    "# For each missing hotel, check if there is any record in the filtered_checkin_df.\n",
    "for hotel in missing_hotels:\n",
    "    hotel_records = filtered_checkin_df[filtered_checkin_df['Hotel Name'] == hotel]\n",
    "    print(f\"\\nRecords for missing hotel '{hotel}':\")\n",
    "    print(hotel_records)  # This should print an empty DataFrame if no data is present.\n"
   ]
  },
  {
   "cell_type": "markdown",
   "metadata": {},
   "source": [
    "### 3.9 Normalize 0-100"
   ]
  },
  {
   "cell_type": "markdown",
   "metadata": {},
   "source": [
    "\n",
    "**Task**\n",
    "\n",
    "For each hotel, we have a 160-dimensional vector of discount prices (one for each combination of Checkin Date and Discount Code). The goal is to normalize these prices so that, for each hotel, the lowest valid discount price becomes 0 and the highest becomes 100. Any missing value (indicated by `-1`) should remain unchanged.\n",
    "\n",
    "**Plan**\n",
    "\n",
    "1. **Define a Normalization Function:**  \n",
    "   Create a function (`normalize_row`) that:\n",
    "   - Filters out the missing values (`-1`) from the row.\n",
    "   - Computes the minimum and maximum values among the valid discount prices.\n",
    "   - Applies the normalization formula:\n",
    "     $$\n",
    "     \\text{normalized\\_price} = \\frac{(\\text{price} - \\text{min\\_price})}{(\\text{max\\_price} - \\text{min\\_price})} \\times 100\n",
    "     $$\n",
    "   - Handles the case where all valid prices are equal (to avoid division by zero) by setting them to 0.\n",
    "\n",
    "2. **Apply the Function Row-wise:**  \n",
    "   Normalize the discount prices for each hotel (i.e., for each row) by applying the function to all columns except the \"Hotel Name\".\n",
    "\n",
    "3. **Round and Convert to Integers:**  \n",
    "   After normalization, round the values to the nearest integer and convert them to an integer type, ensuring that the normalized prices are stored as integers.\n",
    "\n"
   ]
  },
  {
   "cell_type": "code",
   "execution_count": null,
   "metadata": {},
   "outputs": [],
   "source": [
    "def normalize_row(row):\n",
    "    valid_mask = row != -1\n",
    "    valid_prices = row[valid_mask]\n",
    "    \n",
    "    if valid_prices.empty:\n",
    "        return row\n",
    "    \n",
    "    min_price = valid_prices.min()\n",
    "    max_price = valid_prices.max()\n",
    "    \n",
    "   # Avoid division by zero if all valid prices are identical\n",
    "    if min_price == max_price:\n",
    "        row[valid_mask] = 0\n",
    "    else:\n",
    "        # Compute the normalized values, round them, and cast to int\n",
    "        normalized_values = ((row[valid_mask] - min_price) / (max_price - min_price)) * 100\n",
    "        row[valid_mask] = normalized_values.round(0).astype(int)\n",
    "    \n",
    "    return row\n",
    "\n",
    "\n",
    "pivot_df.iloc[:, 1:] = pivot_df.iloc[:, 1:].apply(normalize_row, axis=1)\n",
    "\n",
    "for col in pivot_df.columns[1:]:\n",
    "    pivot_df[col] = pd.to_numeric(pivot_df[col], errors='coerce')\n",
    "    pivot_df[col] = pivot_df[col].astype(\"Int64\")\n",
    "\n",
    "\n",
    "display(pivot_df)"
   ]
  },
  {
   "cell_type": "markdown",
   "metadata": {},
   "source": [
    "### 3.10 Save to CSV"
   ]
  },
  {
   "cell_type": "code",
   "execution_count": null,
   "metadata": {},
   "outputs": [],
   "source": [
    "hotels_clustering_data = \"./hotels_clustering_data.csv\"\n",
    "pivot_df.to_csv(hotels_clustering_data, index=False)"
   ]
  },
  {
   "cell_type": "markdown",
   "metadata": {},
   "source": [
    "### 3.11 Hierarchical Clustering"
   ]
  },
  {
   "cell_type": "markdown",
   "metadata": {},
   "source": [
    "**Task**\n",
    "\n",
    "Using the normalized discount prices for each hotel, we will perform hierarchical clustering to group hotels that exhibit similar pricing behaviors. We have a 160-dimensional feature vector for each hotel (each dimension corresponds to a specific (Checkin Date, Discount Code) pair).\n",
    "\n",
    "**Plan**\n",
    "\n",
    "1. **Prepare the Data:**  \n",
    "   - Load the saved CSV file (`hotels_clustering_data.csv`).\n",
    "   - Separate the \"Hotel Name\" column (for labeling) from the numeric feature columns.\n",
    "\n",
    "2. **Perform Hierarchical Clustering:**  \n",
    "   - Use SciPy's `linkage` function with Ward's method (which works well with Euclidean distance) to compute the clustering.\n",
    "   - Generate a linkage matrix that represents the hierarchical clustering.\n",
    "\n",
    "3. **Plot the Dendrogram:**  \n",
    "   - Use SciPy's `dendrogram` function to visualize the hierarchical clustering.\n",
    "   - Label each leaf in the dendrogram with the corresponding hotel name to help interpret the clusters.\n"
   ]
  },
  {
   "cell_type": "code",
   "execution_count": null,
   "metadata": {},
   "outputs": [],
   "source": [
    "%pip install plotly"
   ]
  },
  {
   "cell_type": "code",
   "execution_count": null,
   "metadata": {},
   "outputs": [],
   "source": [
    "import pandas as pd\n",
    "import plotly.figure_factory as ff\n",
    "from scipy.cluster.hierarchy import linkage\n",
    "from plotly.subplots import make_subplots\n",
    "import plotly.graph_objects as go\n",
    "\n",
    "def create_dendrogram_from_csv(csv_path, color_threshold=825, width=600, height=800):\n",
    "    \"\"\"Creates a dendrogram figure.\"\"\"\n",
    "    clu_df = pd.read_csv(csv_path)\n",
    "    hotel_names = clu_df[\"Hotel Name\"].values\n",
    "    X = clu_df.drop(\"Hotel Name\", axis=1).values\n",
    "    Z = linkage(X, method='ward')\n",
    "\n",
    "    fig = ff.create_dendrogram(\n",
    "        X,\n",
    "        orientation='left',\n",
    "        labels=hotel_names,\n",
    "        color_threshold=color_threshold,\n",
    "        linkagefun=lambda x: Z\n",
    "    )\n",
    "\n",
    "    fig.update_layout(\n",
    "        width=width,\n",
    "        height=height,\n",
    "        margin=dict(l=20, r=20, t=20, b=20) \n",
    "    )\n",
    "\n",
    "    return fig\n",
    "\n",
    "def display_dendrograms_in_grid(csv_path, color_threshold_list=[825, 750, 625, 500]):\n",
    "    \"\"\"Displays dendrograms in a 2x2 grid.\"\"\"\n",
    "\n",
    "    fig = make_subplots(rows=2, cols=2, subplot_titles=[f\"Cut at ~{ct}\" for ct in color_threshold_list])\n",
    "\n",
    "    for i, color_threshold in enumerate(color_threshold_list):\n",
    "        row = i // 2 + 1\n",
    "        col = i % 2 + 1\n",
    "        dendrogram_fig = create_dendrogram_from_csv(csv_path, color_threshold=color_threshold)\n",
    "\n",
    "        for trace in dendrogram_fig.data:\n",
    "            fig.add_trace(trace, row=row, col=col)\n",
    "\n",
    "        fig.update_xaxes(showticklabels=False, showline=False, zeroline=False, ticks=\"\", row=row, col=col)\n",
    "        fig.update_yaxes(showticklabels=False, showline=False, zeroline=False, ticks=\"\", row=row, col=col)  \n",
    "        fig.update_layout(showlegend=False)\n",
    "\n",
    "    fig.update_layout(\n",
    "        width=2000, \n",
    "        height=1000,\n",
    "        title_text=\"Hotel Clustering Dendrograms\",\n",
    "        margin=dict(l=20, r=20, t=60, b=20)\n",
    "    )\n",
    "\n",
    "    fig.show()\n",
    "\n",
    "# Example usage:\n",
    "display_dendrograms_in_grid(\"hotels_clustering_data.csv\")"
   ]
  },
  {
   "cell_type": "markdown",
   "metadata": {},
   "source": [
    "##### Results analysis"
   ]
  },
  {
   "cell_type": "markdown",
   "metadata": {},
   "source": [
    "**Hotel Pricing Strategies Over Time: Hierarchical Clustering Analysis**\n",
    "\n",
    "We performed hierarchical clustering on a dataset of hotels, where each hotel is represented by a **160-dimensional vector** of normalized discount prices. In simpler terms, each hotel’s vector shows *how* it discounts (and by how much) across different dates and discount codes. The dendrogram below clusters these hotels based on their similarity in discounting patterns.\n",
    "\n",
    "Below, we examine **five different “cut” distances**—825, 750, 625, 500, and an additional view with fewer, broader clusters—and describe the cluster/subgroup formations you see in each figure.\n",
    "\n",
    "\n",
    "**Overall Explanation of the Dendrogram**\n",
    "- **X-axis**: The distance (or dissimilarity) at which clusters merge. Larger values mean more dissimilar groups.  \n",
    "- **Y-axis**: The list of hotels, labeled along the left side.  \n",
    "- **Colored Branches**: Each color indicates a cluster or subgroup under the specified distance threshold.\n",
    "\n",
    "In general:  \n",
    "- Hotels that **merge at smaller distances** (farther to the left in the dendrogram) are quite similar in how they price their discounts.  \n",
    "- If you follow the dendrogram to the right until a major branch merges, that indicates hotels (or clusters of hotels) that are more dissimilar in their pricing behavior.\n",
    "\n",
    "---\n",
    "\n",
    "<div style=\"display: grid; grid-template-columns: repeat(2, 1fr); gap: 5%;\">\n",
    "  <div >\n",
    "    <h4>Cut at ~825</h4>\n",
    "    <br>\n",
    "    <img src=\"./images/clustering-825.png\" alt=\"Cut at ~825\" style=\"width: 100%; height: auto;\">\n",
    "  </div>\n",
    "  <div >\n",
    "   <h4>Cut at ~750</h4>\n",
    "    <br>\n",
    "    <img src=\"./images/clustering-750.png\" alt=\"Cut at ~750\" style=\"width: 100%; height: auto;\">\n",
    "  </div>\n",
    "  <div >\n",
    "    <h4>Cut at ~625</h4>\n",
    "    <br>\n",
    "    <img src=\"./images/clustering-625.png\" alt=\"Cut at ~625\" style=\"width: 100%; height: auto;\">\n",
    "  </div>\n",
    "  <div >\n",
    "    <h4>Cut at ~500</h4>\n",
    "    <br>\n",
    "    <img src=\"./images/clustering-500.png\" alt=\"Cut at ~500\" style=\"width: 100%; height: auto;\">\n",
    "  </div>\n",
    "</div>\n",
    "\n",
    "<br>\n",
    "<br>\n",
    "<br>\n",
    "\n",
    "\n",
    "**Overall Results Explanation:**\n",
    "\n",
    "The analysis reveals that there are clearly three different popular pricing strategies on the high level. The closer you take a look, each strategy has its own \"sub-strategies\". These subgroups represent hotels with closely aligned discounting patterns, providing valuable insights for competitive analysis and strategic pricing decisions.\n",
    "\n",
    "**Possible Meanings of Subgroups:**\n",
    "\n",
    "* **Competitive Landscape:** Hotels within the same subgroup likely compete directly, as they share similar discount structures and timelines.\n",
    "* **Revenue Management Strategy:** Subgroups can reflect brand or chain policies, centralized pricing software, or shared revenue management practices.\n",
    "* **Marketing & Differentiation:** Understanding subgroup membership can inform competitive analysis and strategic pricing decisions, motivating hotels to differentiate or align their pricing.\n",
    "* **Shared Ownership:** Hotels with shared ownership often have similar pricing.\n",
    "* **Same Chain Hotels:** Hotel chains often have similar pricing strategies.\n",
    "* **Close Competitors:** Hotels near each other, that compete for the same customers, will often have similar pricing.\n"
   ]
  },
  {
   "cell_type": "markdown",
   "metadata": {},
   "source": [
    "#### diving even deeper - (checking the hotel stars and average price with the pricing strategy)"
   ]
  },
  {
   "cell_type": "markdown",
   "metadata": {},
   "source": [
    "The results from the last section were interesting, so i decided to run the same clustering but with the hotels stars, prices and discounts to see if some patterns emerge.\n",
    "\n",
    "The new label now contains:\n",
    "- stars\n",
    "- avg price\n",
    "- avg discount\n",
    "- avg discount rate \n",
    "\n",
    "in this format:\n",
    "\n",
    "`(stars) - price - discount - discount rate`\n",
    "\n",
    "example:\n",
    "\n",
    "(5) - 3898 - 3663 - 6% "
   ]
  },
  {
   "cell_type": "code",
   "execution_count": null,
   "metadata": {},
   "outputs": [],
   "source": [
    "import pandas as pd\n",
    "\n",
    "pivot_df = pd.read_csv(\"hotels_clustering_data.csv\")\n",
    "df = pd.read_csv(\"./hotels_data_changed.csv\")\n",
    "\n",
    "pivot_df[\"Hotel Name\"] = pivot_df[\"Hotel Name\"].astype(str).str.strip()\n",
    "hotel_counts = df[\"Hotel Name\"].value_counts()\n",
    "top_150_hotels = hotel_counts.head(150).index\n",
    "\n",
    "summary_df = (\n",
    "    df[df[\"Hotel Name\"].isin(top_150_hotels)]\n",
    "    .groupby(\"Hotel Name\")\n",
    "    .agg({\"Original Price\": \"mean\", \"Discount Price\": \"mean\", \"Hotel Stars\": \"first\"})\n",
    "    .reset_index()\n",
    ")\n",
    "\n",
    "summary_df[\"Hotel Name\"] = summary_df[\"Hotel Name\"].astype(str).str.strip()\n",
    "summary_df[\"Original Price\"] = summary_df[\"Original Price\"].round(0).astype(int)\n",
    "summary_df[\"Discount Price\"] = summary_df[\"Discount Price\"].round(0).astype(int)\n",
    "merged_df = pivot_df.merge(summary_df, on=\"Hotel Name\", how=\"left\")\n",
    "\n",
    "merged_df[\"DiscountPerc\"] = (((merged_df[\"Original Price\"] - merged_df[\"Discount Price\"]) / merged_df[\"Original Price\"]) * 100).round(0).astype(int)\n",
    "merged_df[\"Label\"] = merged_df.apply(lambda row: f\"({row['Hotel Stars']}) - {row['Original Price']} - {row['Discount Price']} - {row['DiscountPerc']}%\", axis=1)\n",
    "\n",
    "merged_df.head()\n",
    "merged_df.to_csv(\"./hotels_clustering_data_with_summary.csv\", index=False)\n"
   ]
  },
  {
   "cell_type": "code",
   "execution_count": null,
   "metadata": {},
   "outputs": [],
   "source": [
    "import pandas as pd\n",
    "import plotly.figure_factory as ff\n",
    "from scipy.cluster.hierarchy import linkage\n",
    "\n",
    "def create_dendrogram_from_csv(csv_path, color_threshold=825, width=1600, height=1800):\n",
    "    clu_df = pd.read_csv(csv_path)\n",
    "    if \"Label\" in clu_df.columns:\n",
    "        labels = clu_df[\"Label\"].values\n",
    "        non_clustering = [\"Hotel Name\", \"Label\", \"Hotel Stars\", \"Original Price\", \"Discount Price\", \"DiscountPerc\"]\n",
    "    else:\n",
    "        labels = clu_df[\"Hotel Name\"].values\n",
    "        non_clustering = [\"Hotel Name\", \"Hotel Stars\", \"Original Price\", \"Discount Price\", \"DiscountPerc\"]\n",
    "    X = clu_df.drop(columns=non_clustering, errors='ignore').values\n",
    "    Z = linkage(X, method='ward')\n",
    "    fig = ff.create_dendrogram(\n",
    "        X,\n",
    "        orientation='left',\n",
    "        labels=labels,\n",
    "        color_threshold=color_threshold,\n",
    "        linkagefun=lambda x: Z\n",
    "    )\n",
    "    fig.update_layout(width=width, height=height)\n",
    "    fig.show()\n",
    "    return fig\n",
    "\n",
    "color_threshold_list = [625]\n",
    "for color_threshold in color_threshold_list:\n",
    "    print(f'color_threshold={color_threshold}')\n",
    "    create_dendrogram_from_csv(\"hotels_clustering_data_with_summary.csv\", color_threshold=color_threshold)\n"
   ]
  },
  {
   "cell_type": "markdown",
   "metadata": {},
   "source": [
    "###### Hierarchical Clustering with Star Rating, Avg Price, and Discounts\n",
    "\n",
    "We re-ran clustering with four features:\n",
    "1. **Hotel star rating**  \n",
    "2. **Avg nightly price**  \n",
    "3. **Avg absolute discount**  \n",
    "4. **Avg discount rate (%)**\n",
    "\n",
    "Each dendrogram label is `(stars) – price – discount – discount rate`.\n",
    "\n",
    "###### Takeaways\n",
    "- data was pretty inconclusive, did not add much.\n",
    "- **Star Rating is Primary** - hotels with the smae stras are likely to be gouped together but they are all over the place. \n",
    "- Hotels in tight clusters likely share near-identical pricing/discount policies, suggesting **direct competition**.  "
   ]
  }
 ],
 "metadata": {
  "kernelspec": {
   "display_name": "DS-101-Final",
   "language": "python",
   "name": "python3"
  },
  "language_info": {
   "codemirror_mode": {
    "name": "ipython",
    "version": 3
   },
   "file_extension": ".py",
   "mimetype": "text/x-python",
   "name": "python",
   "nbconvert_exporter": "python",
   "pygments_lexer": "ipython3"
  }
 },
 "nbformat": 4,
 "nbformat_minor": 2
}
