{
 "cells": [
  {
   "cell_type": "code",
   "execution_count": 23,
   "metadata": {},
   "outputs": [
    {
     "name": "stdout",
     "output_type": "stream",
     "text": [
      "Requirement already satisfied: plotly in c:\\users\\hamamahome\\anaconda3\\envs\\ds-101-final\\lib\\site-packages (6.0.0)\n",
      "Requirement already satisfied: narwhals>=1.15.1 in c:\\users\\hamamahome\\anaconda3\\envs\\ds-101-final\\lib\\site-packages (from plotly) (1.25.0)\n",
      "Requirement already satisfied: packaging in c:\\users\\hamamahome\\appdata\\roaming\\python\\python312\\site-packages (from plotly) (24.2)\n"
     ]
    }
   ],
   "source": [
    "!pip install plotly"
   ]
  },
  {
   "cell_type": "code",
   "execution_count": 24,
   "metadata": {},
   "outputs": [],
   "source": [
    "import pandas as pd\n",
    "\n",
    "bookings = pd.read_csv('./bookings.csv')"
   ]
  },
  {
   "cell_type": "markdown",
   "metadata": {},
   "source": [
    "### Fix typings"
   ]
  },
  {
   "cell_type": "code",
   "execution_count": 25,
   "metadata": {},
   "outputs": [],
   "source": [
    "bookings['number_of_reviews'] = bookings['number_of_reviews'].str.replace(',', '', regex=True)\n",
    "bookings['number_of_reviews'] = pd.to_numeric(bookings['number_of_reviews'], errors='coerce')\n",
    "bookings['review_score'] = pd.to_numeric(bookings['review_score'], errors='coerce')\n",
    "bookings['original_price'] = pd.to_numeric(bookings['original_price'], errors='coerce')\n",
    "bookings['discounted_price'] = pd.to_numeric(bookings['discounted_price'], errors='coerce')"
   ]
  },
  {
   "cell_type": "code",
   "execution_count": 26,
   "metadata": {},
   "outputs": [],
   "source": [
    "bookings['discount'] = bookings['discount'].apply(lambda x: 1 if x == 'True' else 0)\n",
    "bookings['breakfast_included'] = bookings['breakfast_included'].apply(lambda x: 1 if x == 'True' else 0)\n",
    "bookings['free_cancellation'] = bookings['free_cancellation'].apply(lambda x: 1 if x == 'True' else 0)\n",
    "bookings['prepayment_needed'] = bookings['prepayment_needed'].apply(lambda x: 1 if x == 'True' else 0)\n",
    "bookings['is_apartment'] = bookings['is_apartment'].apply(lambda x: 1 if x == 'True' else 0)\n",
    "bookings.fillna(bookings['review_score'].min(), inplace=True)"
   ]
  },
  {
   "cell_type": "markdown",
   "metadata": {},
   "source": [
    "### Reviews Distribution\n",
    "Group the review counts by snapshot dates, and the names of the hotels. the `number_of_reviews` will be a the same for the same hotel in a certain snapshot.   "
   ]
  },
  {
   "cell_type": "code",
   "execution_count": 27,
   "metadata": {},
   "outputs": [
    {
     "data": {
      "text/html": [
       "<div>\n",
       "<style scoped>\n",
       "    .dataframe tbody tr th:only-of-type {\n",
       "        vertical-align: middle;\n",
       "    }\n",
       "\n",
       "    .dataframe tbody tr th {\n",
       "        vertical-align: top;\n",
       "    }\n",
       "\n",
       "    .dataframe thead th {\n",
       "        text-align: right;\n",
       "    }\n",
       "</style>\n",
       "<table border=\"1\" class=\"dataframe\">\n",
       "  <thead>\n",
       "    <tr style=\"text-align: right;\">\n",
       "      <th></th>\n",
       "      <th>name</th>\n",
       "      <th>snapshot_date</th>\n",
       "      <th>number_of_reviews</th>\n",
       "    </tr>\n",
       "  </thead>\n",
       "  <tbody>\n",
       "    <tr>\n",
       "      <th>0</th>\n",
       "      <td>1 Hotel Central Park</td>\n",
       "      <td>2025-02-02</td>\n",
       "      <td>556.0</td>\n",
       "    </tr>\n",
       "    <tr>\n",
       "      <th>1</th>\n",
       "      <td>1 Hotel Central Park</td>\n",
       "      <td>2025-02-03</td>\n",
       "      <td>556.0</td>\n",
       "    </tr>\n",
       "    <tr>\n",
       "      <th>2</th>\n",
       "      <td>1 Hotel Central Park</td>\n",
       "      <td>2025-02-04</td>\n",
       "      <td>555.0</td>\n",
       "    </tr>\n",
       "    <tr>\n",
       "      <th>3</th>\n",
       "      <td>17John</td>\n",
       "      <td>2025-02-02</td>\n",
       "      <td>209.0</td>\n",
       "    </tr>\n",
       "    <tr>\n",
       "      <th>4</th>\n",
       "      <td>17John</td>\n",
       "      <td>2025-02-03</td>\n",
       "      <td>209.0</td>\n",
       "    </tr>\n",
       "    <tr>\n",
       "      <th>...</th>\n",
       "      <td>...</td>\n",
       "      <td>...</td>\n",
       "      <td>...</td>\n",
       "    </tr>\n",
       "    <tr>\n",
       "      <th>1068</th>\n",
       "      <td>voco The Franklin New York, an IHG Hotel</td>\n",
       "      <td>2025-02-02</td>\n",
       "      <td>508.0</td>\n",
       "    </tr>\n",
       "    <tr>\n",
       "      <th>1069</th>\n",
       "      <td>voco The Franklin New York, an IHG Hotel</td>\n",
       "      <td>2025-02-03</td>\n",
       "      <td>508.0</td>\n",
       "    </tr>\n",
       "    <tr>\n",
       "      <th>1070</th>\n",
       "      <td>voco Times Square South New York, an IHG Hotel</td>\n",
       "      <td>2025-02-02</td>\n",
       "      <td>3803.0</td>\n",
       "    </tr>\n",
       "    <tr>\n",
       "      <th>1071</th>\n",
       "      <td>voco Times Square South New York, an IHG Hotel</td>\n",
       "      <td>2025-02-03</td>\n",
       "      <td>3806.0</td>\n",
       "    </tr>\n",
       "    <tr>\n",
       "      <th>1072</th>\n",
       "      <td>voco Times Square South New York, an IHG Hotel</td>\n",
       "      <td>2025-02-04</td>\n",
       "      <td>3809.0</td>\n",
       "    </tr>\n",
       "  </tbody>\n",
       "</table>\n",
       "<p>1073 rows × 3 columns</p>\n",
       "</div>"
      ],
      "text/plain": [
       "                                                name snapshot_date  \\\n",
       "0                               1 Hotel Central Park    2025-02-02   \n",
       "1                               1 Hotel Central Park    2025-02-03   \n",
       "2                               1 Hotel Central Park    2025-02-04   \n",
       "3                                             17John    2025-02-02   \n",
       "4                                             17John    2025-02-03   \n",
       "...                                              ...           ...   \n",
       "1068        voco The Franklin New York, an IHG Hotel    2025-02-02   \n",
       "1069        voco The Franklin New York, an IHG Hotel    2025-02-03   \n",
       "1070  voco Times Square South New York, an IHG Hotel    2025-02-02   \n",
       "1071  voco Times Square South New York, an IHG Hotel    2025-02-03   \n",
       "1072  voco Times Square South New York, an IHG Hotel    2025-02-04   \n",
       "\n",
       "      number_of_reviews  \n",
       "0                 556.0  \n",
       "1                 556.0  \n",
       "2                 555.0  \n",
       "3                 209.0  \n",
       "4                 209.0  \n",
       "...                 ...  \n",
       "1068              508.0  \n",
       "1069              508.0  \n",
       "1070             3803.0  \n",
       "1071             3806.0  \n",
       "1072             3809.0  \n",
       "\n",
       "[1073 rows x 3 columns]"
      ]
     },
     "execution_count": 27,
     "metadata": {},
     "output_type": "execute_result"
    }
   ],
   "source": [
    "number_of_reviews = bookings.groupby(['name', 'snapshot_date'], as_index=False)['number_of_reviews'].first()\n",
    "number_of_reviews"
   ]
  },
  {
   "cell_type": "code",
   "execution_count": 28,
   "metadata": {},
   "outputs": [],
   "source": [
    "snapshot_dates = bookings['snapshot_date'].unique()"
   ]
  },
  {
   "cell_type": "code",
   "execution_count": 29,
   "metadata": {},
   "outputs": [
    {
     "data": {
      "application/vnd.plotly.v1+json": {
       "config": {
        "plotlyServerURL": "https://plot.ly"
       },
       "data": [
        {
         "autobinx": true,
         "name": "2025-02-02",
         "opacity": 0.5,
         "type": "histogram",
         "x": {
          "bdata": "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",
          "dtype": "f8"
         }
        },
        {
         "autobinx": true,
         "name": "2025-02-03",
         "opacity": 0.5,
         "type": "histogram",
         "x": {
          "bdata": "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",
          "dtype": "f8"
         }
        },
        {
         "autobinx": true,
         "name": "2025-02-04",
         "opacity": 0.5,
         "type": "histogram",
         "x": {
          "bdata": "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",
          "dtype": "f8"
         }
        }
       ],
       "layout": {
        "barmode": "overlay",
        "height": 800,
        "legend": {
         "title": {
          "text": "Snapshot Date"
         }
        },
        "template": {
         "data": {
          "bar": [
           {
            "error_x": {
             "color": "#2a3f5f"
            },
            "error_y": {
             "color": "#2a3f5f"
            },
            "marker": {
             "line": {
              "color": "#E5ECF6",
              "width": 0.5
             },
             "pattern": {
              "fillmode": "overlay",
              "size": 10,
              "solidity": 0.2
             }
            },
            "type": "bar"
           }
          ],
          "barpolar": [
           {
            "marker": {
             "line": {
              "color": "#E5ECF6",
              "width": 0.5
             },
             "pattern": {
              "fillmode": "overlay",
              "size": 10,
              "solidity": 0.2
             }
            },
            "type": "barpolar"
           }
          ],
          "carpet": [
           {
            "aaxis": {
             "endlinecolor": "#2a3f5f",
             "gridcolor": "white",
             "linecolor": "white",
             "minorgridcolor": "white",
             "startlinecolor": "#2a3f5f"
            },
            "baxis": {
             "endlinecolor": "#2a3f5f",
             "gridcolor": "white",
             "linecolor": "white",
             "minorgridcolor": "white",
             "startlinecolor": "#2a3f5f"
            },
            "type": "carpet"
           }
          ],
          "choropleth": [
           {
            "colorbar": {
             "outlinewidth": 0,
             "ticks": ""
            },
            "type": "choropleth"
           }
          ],
          "contour": [
           {
            "colorbar": {
             "outlinewidth": 0,
             "ticks": ""
            },
            "colorscale": [
             [
              0,
              "#0d0887"
             ],
             [
              0.1111111111111111,
              "#46039f"
             ],
             [
              0.2222222222222222,
              "#7201a8"
             ],
             [
              0.3333333333333333,
              "#9c179e"
             ],
             [
              0.4444444444444444,
              "#bd3786"
             ],
             [
              0.5555555555555556,
              "#d8576b"
             ],
             [
              0.6666666666666666,
              "#ed7953"
             ],
             [
              0.7777777777777778,
              "#fb9f3a"
             ],
             [
              0.8888888888888888,
              "#fdca26"
             ],
             [
              1,
              "#f0f921"
             ]
            ],
            "type": "contour"
           }
          ],
          "contourcarpet": [
           {
            "colorbar": {
             "outlinewidth": 0,
             "ticks": ""
            },
            "type": "contourcarpet"
           }
          ],
          "heatmap": [
           {
            "colorbar": {
             "outlinewidth": 0,
             "ticks": ""
            },
            "colorscale": [
             [
              0,
              "#0d0887"
             ],
             [
              0.1111111111111111,
              "#46039f"
             ],
             [
              0.2222222222222222,
              "#7201a8"
             ],
             [
              0.3333333333333333,
              "#9c179e"
             ],
             [
              0.4444444444444444,
              "#bd3786"
             ],
             [
              0.5555555555555556,
              "#d8576b"
             ],
             [
              0.6666666666666666,
              "#ed7953"
             ],
             [
              0.7777777777777778,
              "#fb9f3a"
             ],
             [
              0.8888888888888888,
              "#fdca26"
             ],
             [
              1,
              "#f0f921"
             ]
            ],
            "type": "heatmap"
           }
          ],
          "histogram": [
           {
            "marker": {
             "pattern": {
              "fillmode": "overlay",
              "size": 10,
              "solidity": 0.2
             }
            },
            "type": "histogram"
           }
          ],
          "histogram2d": [
           {
            "colorbar": {
             "outlinewidth": 0,
             "ticks": ""
            },
            "colorscale": [
             [
              0,
              "#0d0887"
             ],
             [
              0.1111111111111111,
              "#46039f"
             ],
             [
              0.2222222222222222,
              "#7201a8"
             ],
             [
              0.3333333333333333,
              "#9c179e"
             ],
             [
              0.4444444444444444,
              "#bd3786"
             ],
             [
              0.5555555555555556,
              "#d8576b"
             ],
             [
              0.6666666666666666,
              "#ed7953"
             ],
             [
              0.7777777777777778,
              "#fb9f3a"
             ],
             [
              0.8888888888888888,
              "#fdca26"
             ],
             [
              1,
              "#f0f921"
             ]
            ],
            "type": "histogram2d"
           }
          ],
          "histogram2dcontour": [
           {
            "colorbar": {
             "outlinewidth": 0,
             "ticks": ""
            },
            "colorscale": [
             [
              0,
              "#0d0887"
             ],
             [
              0.1111111111111111,
              "#46039f"
             ],
             [
              0.2222222222222222,
              "#7201a8"
             ],
             [
              0.3333333333333333,
              "#9c179e"
             ],
             [
              0.4444444444444444,
              "#bd3786"
             ],
             [
              0.5555555555555556,
              "#d8576b"
             ],
             [
              0.6666666666666666,
              "#ed7953"
             ],
             [
              0.7777777777777778,
              "#fb9f3a"
             ],
             [
              0.8888888888888888,
              "#fdca26"
             ],
             [
              1,
              "#f0f921"
             ]
            ],
            "type": "histogram2dcontour"
           }
          ],
          "mesh3d": [
           {
            "colorbar": {
             "outlinewidth": 0,
             "ticks": ""
            },
            "type": "mesh3d"
           }
          ],
          "parcoords": [
           {
            "line": {
             "colorbar": {
              "outlinewidth": 0,
              "ticks": ""
             }
            },
            "type": "parcoords"
           }
          ],
          "pie": [
           {
            "automargin": true,
            "type": "pie"
           }
          ],
          "scatter": [
           {
            "fillpattern": {
             "fillmode": "overlay",
             "size": 10,
             "solidity": 0.2
            },
            "type": "scatter"
           }
          ],
          "scatter3d": [
           {
            "line": {
             "colorbar": {
              "outlinewidth": 0,
              "ticks": ""
             }
            },
            "marker": {
             "colorbar": {
              "outlinewidth": 0,
              "ticks": ""
             }
            },
            "type": "scatter3d"
           }
          ],
          "scattercarpet": [
           {
            "marker": {
             "colorbar": {
              "outlinewidth": 0,
              "ticks": ""
             }
            },
            "type": "scattercarpet"
           }
          ],
          "scattergeo": [
           {
            "marker": {
             "colorbar": {
              "outlinewidth": 0,
              "ticks": ""
             }
            },
            "type": "scattergeo"
           }
          ],
          "scattergl": [
           {
            "marker": {
             "colorbar": {
              "outlinewidth": 0,
              "ticks": ""
             }
            },
            "type": "scattergl"
           }
          ],
          "scattermap": [
           {
            "marker": {
             "colorbar": {
              "outlinewidth": 0,
              "ticks": ""
             }
            },
            "type": "scattermap"
           }
          ],
          "scattermapbox": [
           {
            "marker": {
             "colorbar": {
              "outlinewidth": 0,
              "ticks": ""
             }
            },
            "type": "scattermapbox"
           }
          ],
          "scatterpolar": [
           {
            "marker": {
             "colorbar": {
              "outlinewidth": 0,
              "ticks": ""
             }
            },
            "type": "scatterpolar"
           }
          ],
          "scatterpolargl": [
           {
            "marker": {
             "colorbar": {
              "outlinewidth": 0,
              "ticks": ""
             }
            },
            "type": "scatterpolargl"
           }
          ],
          "scatterternary": [
           {
            "marker": {
             "colorbar": {
              "outlinewidth": 0,
              "ticks": ""
             }
            },
            "type": "scatterternary"
           }
          ],
          "surface": [
           {
            "colorbar": {
             "outlinewidth": 0,
             "ticks": ""
            },
            "colorscale": [
             [
              0,
              "#0d0887"
             ],
             [
              0.1111111111111111,
              "#46039f"
             ],
             [
              0.2222222222222222,
              "#7201a8"
             ],
             [
              0.3333333333333333,
              "#9c179e"
             ],
             [
              0.4444444444444444,
              "#bd3786"
             ],
             [
              0.5555555555555556,
              "#d8576b"
             ],
             [
              0.6666666666666666,
              "#ed7953"
             ],
             [
              0.7777777777777778,
              "#fb9f3a"
             ],
             [
              0.8888888888888888,
              "#fdca26"
             ],
             [
              1,
              "#f0f921"
             ]
            ],
            "type": "surface"
           }
          ],
          "table": [
           {
            "cells": {
             "fill": {
              "color": "#EBF0F8"
             },
             "line": {
              "color": "white"
             }
            },
            "header": {
             "fill": {
              "color": "#C8D4E3"
             },
             "line": {
              "color": "white"
             }
            },
            "type": "table"
           }
          ]
         },
         "layout": {
          "annotationdefaults": {
           "arrowcolor": "#2a3f5f",
           "arrowhead": 0,
           "arrowwidth": 1
          },
          "autotypenumbers": "strict",
          "coloraxis": {
           "colorbar": {
            "outlinewidth": 0,
            "ticks": ""
           }
          },
          "colorscale": {
           "diverging": [
            [
             0,
             "#8e0152"
            ],
            [
             0.1,
             "#c51b7d"
            ],
            [
             0.2,
             "#de77ae"
            ],
            [
             0.3,
             "#f1b6da"
            ],
            [
             0.4,
             "#fde0ef"
            ],
            [
             0.5,
             "#f7f7f7"
            ],
            [
             0.6,
             "#e6f5d0"
            ],
            [
             0.7,
             "#b8e186"
            ],
            [
             0.8,
             "#7fbc41"
            ],
            [
             0.9,
             "#4d9221"
            ],
            [
             1,
             "#276419"
            ]
           ],
           "sequential": [
            [
             0,
             "#0d0887"
            ],
            [
             0.1111111111111111,
             "#46039f"
            ],
            [
             0.2222222222222222,
             "#7201a8"
            ],
            [
             0.3333333333333333,
             "#9c179e"
            ],
            [
             0.4444444444444444,
             "#bd3786"
            ],
            [
             0.5555555555555556,
             "#d8576b"
            ],
            [
             0.6666666666666666,
             "#ed7953"
            ],
            [
             0.7777777777777778,
             "#fb9f3a"
            ],
            [
             0.8888888888888888,
             "#fdca26"
            ],
            [
             1,
             "#f0f921"
            ]
           ],
           "sequentialminus": [
            [
             0,
             "#0d0887"
            ],
            [
             0.1111111111111111,
             "#46039f"
            ],
            [
             0.2222222222222222,
             "#7201a8"
            ],
            [
             0.3333333333333333,
             "#9c179e"
            ],
            [
             0.4444444444444444,
             "#bd3786"
            ],
            [
             0.5555555555555556,
             "#d8576b"
            ],
            [
             0.6666666666666666,
             "#ed7953"
            ],
            [
             0.7777777777777778,
             "#fb9f3a"
            ],
            [
             0.8888888888888888,
             "#fdca26"
            ],
            [
             1,
             "#f0f921"
            ]
           ]
          },
          "colorway": [
           "#636efa",
           "#EF553B",
           "#00cc96",
           "#ab63fa",
           "#FFA15A",
           "#19d3f3",
           "#FF6692",
           "#B6E880",
           "#FF97FF",
           "#FECB52"
          ],
          "font": {
           "color": "#2a3f5f"
          },
          "geo": {
           "bgcolor": "white",
           "lakecolor": "white",
           "landcolor": "#E5ECF6",
           "showlakes": true,
           "showland": true,
           "subunitcolor": "white"
          },
          "hoverlabel": {
           "align": "left"
          },
          "hovermode": "closest",
          "mapbox": {
           "style": "light"
          },
          "paper_bgcolor": "white",
          "plot_bgcolor": "#E5ECF6",
          "polar": {
           "angularaxis": {
            "gridcolor": "white",
            "linecolor": "white",
            "ticks": ""
           },
           "bgcolor": "#E5ECF6",
           "radialaxis": {
            "gridcolor": "white",
            "linecolor": "white",
            "ticks": ""
           }
          },
          "scene": {
           "xaxis": {
            "backgroundcolor": "#E5ECF6",
            "gridcolor": "white",
            "gridwidth": 2,
            "linecolor": "white",
            "showbackground": true,
            "ticks": "",
            "zerolinecolor": "white"
           },
           "yaxis": {
            "backgroundcolor": "#E5ECF6",
            "gridcolor": "white",
            "gridwidth": 2,
            "linecolor": "white",
            "showbackground": true,
            "ticks": "",
            "zerolinecolor": "white"
           },
           "zaxis": {
            "backgroundcolor": "#E5ECF6",
            "gridcolor": "white",
            "gridwidth": 2,
            "linecolor": "white",
            "showbackground": true,
            "ticks": "",
            "zerolinecolor": "white"
           }
          },
          "shapedefaults": {
           "line": {
            "color": "#2a3f5f"
           }
          },
          "ternary": {
           "aaxis": {
            "gridcolor": "white",
            "linecolor": "white",
            "ticks": ""
           },
           "baxis": {
            "gridcolor": "white",
            "linecolor": "white",
            "ticks": ""
           },
           "bgcolor": "#E5ECF6",
           "caxis": {
            "gridcolor": "white",
            "linecolor": "white",
            "ticks": ""
           }
          },
          "title": {
           "x": 0.05
          },
          "xaxis": {
           "automargin": true,
           "gridcolor": "white",
           "linecolor": "white",
           "ticks": "",
           "title": {
            "standoff": 15
           },
           "zerolinecolor": "white",
           "zerolinewidth": 2
          },
          "yaxis": {
           "automargin": true,
           "gridcolor": "white",
           "linecolor": "white",
           "ticks": "",
           "title": {
            "standoff": 15
           },
           "zerolinecolor": "white",
           "zerolinewidth": 2
          }
         }
        },
        "title": {
         "text": "Distribution of Number of Reviews for Each Snapshot Date"
        },
        "width": 1400,
        "xaxis": {
         "title": {
          "text": "Number of Reviews"
         }
        },
        "yaxis": {
         "title": {
          "text": "Frequency"
         }
        }
       }
      }
     },
     "metadata": {},
     "output_type": "display_data"
    }
   ],
   "source": [
    "import plotly.graph_objects as go\n",
    "\n",
    "fig = go.Figure()\n",
    "\n",
    "for date in snapshot_dates:\n",
    "    data = number_of_reviews[number_of_reviews['snapshot_date'] == date]['number_of_reviews'].dropna()\n",
    "    fig.add_trace(go.Histogram(x=data, name=str(date), opacity=0.5, autobinx=True))\n",
    "\n",
    "# Update layout for better visualization\n",
    "fig.update_layout(\n",
    "    title= \"Distribution of Number of Reviews for Each Snapshot Date\",\n",
    "    xaxis_title=\"Number of Reviews\",\n",
    "    yaxis_title=\"Frequency\",\n",
    "    barmode=\"overlay\",  # Makes histograms overlap\n",
    "    legend_title=\"Snapshot Date\",\n",
    "    width=1400,  # Increase figure width\n",
    "    height=800   # Increase figure height\n",
    ")\n",
    "\n",
    "# Show interactive plot\n",
    "fig.show()"
   ]
  },
  {
   "cell_type": "markdown",
   "metadata": {},
   "source": [
    "The histogram above shows a right-skewed distribution of the number of reviews, where lower review counts appear with higher frequency. This suggests a heavy-tailed distribution, meaning that while most hotels have relatively few reviews, a small number of hotels have significantly higher review counts."
   ]
  },
  {
   "cell_type": "code",
   "execution_count": 30,
   "metadata": {},
   "outputs": [
    {
     "data": {
      "application/vnd.plotly.v1+json": {
       "config": {
        "plotlyServerURL": "https://plot.ly"
       },
       "data": [
        {
         "bingroup": "100",
         "name": "2025-02-02",
         "opacity": 0.5,
         "type": "histogram",
         "x": {
          "bdata": "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",
          "dtype": "f8"
         }
        },
        {
         "bingroup": "100",
         "name": "2025-02-03",
         "opacity": 0.5,
         "type": "histogram",
         "x": {
          "bdata": "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",
          "dtype": "f8"
         }
        },
        {
         "bingroup": "100",
         "name": "2025-02-04",
         "opacity": 0.5,
         "type": "histogram",
         "x": {
          "bdata": "zczMzMzMIEBmZmZmZmYhQDMzMzMzMyBAzczMzMzMIEAAAAAAAAAhQJqZmZmZmSFAAAAAAAAAHECamZmZmZkgQJqZmZmZmSBAzczMzMzMIEBmZmZmZmYeQAAAAAAAACBAMzMzMzMzH0CamZmZmZkgQAAAAAAAACBAMzMzMzMzG0CamZmZmZkhQDMzMzMzMyFAzczMzMzMIEAzMzMzMzMgQGZmZmZmZiJAmpmZmZmZH0BmZmZmZmYeQAAAAAAAABpAzczMzMzMIEAzMzMzMzMhQAAAAAAAACFAMzMzMzMzH0AAAAAAAAAcQAAAAAAAACJAMzMzMzMzIkAzMzMzMzMhQJqZmZmZmR9AAAAAAAAAIEBmZmZmZmYcQDMzMzMzMyFAMzMzMzMzIkAzMzMzMzMgQDMzMzMzMyNAMzMzMzMzHUCamZmZmZkdQDMzMzMzMx1AmpmZmZmZIECamZmZmZkgQM3MzMzMzCBAAAAAAAAAHEBmZmZmZmYhQM3MzMzMzCFAzczMzMzMHkAAAAAAAAAgQDMzMzMzMyFAMzMzMzMzIEAAAAAAAAAeQDMzMzMzMx9AMzMzMzMzH0BmZmZmZmYgQGZmZmZmZiBAZmZmZmZmIEDNzMzMzMwgQM3MzMzMzCBAmpmZmZmZHUDNzMzMzMweQDMzMzMzMx9AZmZmZmZmHEAAAAAAAAAeQGZmZmZmZh5AZmZmZmZmIEAzMzMzMzMbQJqZmZmZmR1AMzMzMzMzHUDNzMzMzMweQDMzMzMzMyBAzczMzMzMIEAAAAAAAAAcQDMzMzMzMyBAzczMzMzMHkBmZmZmZmYYQJqZmZmZmR9AZmZmZmZmIUCamZmZmZkgQGZmZmZmZiBAmpmZmZmZH0AAAAAAAAAgQM3MzMzMzB5AzczMzMzMIECamZmZmZkfQDMzMzMzMx9AAAAAAAAAEEAAAAAAAAAhQDMzMzMzMyFAmpmZmZmZIECamZmZmZkfQDMzMzMzMyBAMzMzMzMzH0AAAAAAAAAgQAAAAAAAACFAmpmZmZmZIUAAAAAAAAAhQM3MzMzMzBxAAAAAAAAAIEBmZmZmZmYgQDMzMzMzMx9AmpmZmZmZIEAzMzMzMzMfQDMzMzMzMyFAMzMzMzMzIUCamZmZmZkdQAAAAAAAACJAzczMzMzMIUAAAAAAAAAiQJqZmZmZmSBAzczMzMzMHkBmZmZmZmYeQJqZmZmZmR1AMzMzMzMzIEBmZmZmZmYgQGZmZmZmZh5AMzMzMzMzIEAAAAAAAAAeQGZmZmZmZiBAAAAAAAAAHkDNzMzMzMwcQDMzMzMzMyBAzczMzMzMGkAzMzMzMzMfQDMzMzMzMx1AMzMzMzMzH0CamZmZmZkfQGZmZmZmZh5AMzMzMzMzH0AzMzMzMzMdQM3MzMzMzB5AmpmZmZmZIECamZmZmZkbQGZmZmZmZhhAAAAAAAAAIUAAAAAAAAAcQJqZmZmZmSBAmpmZmZmZHUBmZmZmZmYhQDMzMzMzMyBAzczMzMzMHkAzMzMzMzMhQGZmZmZmZh5AzczMzMzMIUBmZmZmZmYcQDMzMzMzMx1AmpmZmZmZIEDNzMzMzMwhQAAAAAAAACFAmpmZmZmZIEAAAAAAAAAhQGZmZmZmZiBAZmZmZmZmIkAAAAAAAAAcQDMzMzMzMyBAmpmZmZmZH0CamZmZmZkFQAAAAAAAABhAAAAAAAAAIEDNzMzMzMwgQDMzMzMzMyBAMzMzMzMzHUAAAAAAAAAgQM3MzMzMzCBAmpmZmZmZH0AzMzMzMzMfQJqZmZmZmSBAAAAAAAAAHkAAAAAAAAAeQDMzMzMzMyBAmpmZmZmZH0BmZmZmZmYcQM3MzMzMzB5AzczMzMzMIEAzMzMzMzMgQM3MzMzMzCBAzczMzMzMIUBmZmZmZmYaQAAAAAAAACFAmpmZmZmZG0AzMzMzMzMfQAAAAAAAACBAZmZmZmZmIEAAAAAAAAAgQM3MzMzMzCBAAAAAAAAAIUAAAAAAAAAgQM3MzMzMzCBAZmZmZmZmIUAzMzMzMzMgQDMzMzMzMx1AmpmZmZmZGUBmZmZmZmYeQAAAAAAAACFAZmZmZmZmIUDNzMzMzMwUQGZmZmZmZhxAmpmZmZmZHUCamZmZmZkdQJqZmZmZmR1AZmZmZmZmIkBmZmZmZmYgQDMzMzMzMyBAAAAAAAAAIEAAAAAAAAAhQJqZmZmZmSBAMzMzMzMzIECamZmZmZkgQAAAAAAAACBAzczMzMzMIECamZmZmZkiQJqZmZmZmR1AZmZmZmZmHkCamZmZmZkgQGZmZmZmZg5AZmZmZmZmGkDNzMzMzMweQAAAAAAAACJAMzMzMzMzH0AzMzMzMzMfQDMzMzMzMyFAAAAAAAAAIkAzMzMzMzMbQDMzMzMzMx1AmpmZmZmZH0CamZmZmZkgQJqZmZmZmSFAMzMzMzMzIUCamZmZmZkhQJqZmZmZmSBAmpmZmZmZH0BmZmZmZmYgQGZmZmZmZiFAzczMzMzMHkCamZmZmZkdQDMzMzMzMyFAMzMzMzMzIECamZmZmZkfQGZmZmZmZiFAzczMzMzMIEAzMzMzMzMgQAAAAAAAACFAAAAAAAAAIUAzMzMzMzMgQDMzMzMzMyFAAAAAAAAAIUAAAAAAAAAhQDMzMzMzMyFAAAAAAAAAHkDNzMzMzMwgQJqZmZmZmSFAZmZmZmZmIEBmZmZmZmYhQAAAAAAAABpAmpmZmZmZH0AzMzMzMzMdQM3MzMzMzB5AZmZmZmZmIEBmZmZmZmYeQDMzMzMzMx9AmpmZmZmZIECamZmZmZkfQDMzMzMzMx9AAAAAAAAAIUBmZmZmZmYeQJqZmZmZmR9AMzMzMzMzIEAAAAAAAAAgQJqZmZmZmSBAMzMzMzMzIEBmZmZmZmYgQAAAAAAAACBAAAAAAAAAIEAzMzMzMzMhQJqZmZmZmRtAZmZmZmZmIUCamZmZmZkdQAAAAAAAACFAmpmZmZmZH0DNzMzMzMwgQGZmZmZmZiFAmpmZmZmZH0AzMzMzMzMgQAAAAAAAACBAmpmZmZmZHUCamZmZmZkhQAAAAAAAABxAMzMzMzMzIUAzMzMzMzMhQGZmZmZmZiFAZmZmZmZmIEAzMzMzMzMbQM3MzMzMzCBAMzMzMzMzIECamZmZmZkfQJqZmZmZmR9AmpmZmZmZIEBmZmZmZmYWQJqZmZmZmRtAAAAAAAAAIUCamZmZmZkgQM3MzMzMzB5AZmZmZmZmIUCamZmZmZkiQJqZmZmZmR9AMzMzMzMzIEDNzMzMzMwWQDMzMzMzMyFAMzMzMzMzIUAzMzMzMzMiQJqZmZmZmR9AAAAAAAAAIkAAAAAAAAAgQGZmZmZmZiBAAAAAAAAAFkBmZmZmZmYhQM3MzMzMzCBAMzMzMzMzIUAAAAAAAAAhQAAAAAAAACFAAAAAAAAAIUDNzMzMzMweQGZmZmZmZiFAAAAAAAAAIUDNzMzMzMwgQGZmZmZmZh5AmpmZmZmZIEBmZmZmZmYeQDMzMzMzMyFAmpmZmZmZIECamZmZmZkiQM3MzMzMzB5AzczMzMzMIEBmZmZmZmYgQGZmZmZmZiBAAAAAAAAAGEAAAAAAAAAkQGZmZmZmZiBAzczMzMzMIEBmZmZmZmYeQJqZmZmZmR9AmpmZmZmZF0DNzMzMzMwgQDMzMzMzMyJAmpmZmZmZIECamZmZmZkfQGZmZmZmZiBAmpmZmZmZIEBmZmZmZmYaQDMzMzMzMyBAmpmZmZmZIEDNzMzMzMwgQJqZmZmZmSBAZmZmZmZmIUBmZmZmZmYhQDMzMzMzMyBA",
          "dtype": "f8"
         }
        }
       ],
       "layout": {
        "barmode": "overlay",
        "height": 600,
        "legend": {
         "title": {
          "text": "Snapshot Date"
         }
        },
        "template": {
         "data": {
          "bar": [
           {
            "error_x": {
             "color": "#2a3f5f"
            },
            "error_y": {
             "color": "#2a3f5f"
            },
            "marker": {
             "line": {
              "color": "#E5ECF6",
              "width": 0.5
             },
             "pattern": {
              "fillmode": "overlay",
              "size": 10,
              "solidity": 0.2
             }
            },
            "type": "bar"
           }
          ],
          "barpolar": [
           {
            "marker": {
             "line": {
              "color": "#E5ECF6",
              "width": 0.5
             },
             "pattern": {
              "fillmode": "overlay",
              "size": 10,
              "solidity": 0.2
             }
            },
            "type": "barpolar"
           }
          ],
          "carpet": [
           {
            "aaxis": {
             "endlinecolor": "#2a3f5f",
             "gridcolor": "white",
             "linecolor": "white",
             "minorgridcolor": "white",
             "startlinecolor": "#2a3f5f"
            },
            "baxis": {
             "endlinecolor": "#2a3f5f",
             "gridcolor": "white",
             "linecolor": "white",
             "minorgridcolor": "white",
             "startlinecolor": "#2a3f5f"
            },
            "type": "carpet"
           }
          ],
          "choropleth": [
           {
            "colorbar": {
             "outlinewidth": 0,
             "ticks": ""
            },
            "type": "choropleth"
           }
          ],
          "contour": [
           {
            "colorbar": {
             "outlinewidth": 0,
             "ticks": ""
            },
            "colorscale": [
             [
              0,
              "#0d0887"
             ],
             [
              0.1111111111111111,
              "#46039f"
             ],
             [
              0.2222222222222222,
              "#7201a8"
             ],
             [
              0.3333333333333333,
              "#9c179e"
             ],
             [
              0.4444444444444444,
              "#bd3786"
             ],
             [
              0.5555555555555556,
              "#d8576b"
             ],
             [
              0.6666666666666666,
              "#ed7953"
             ],
             [
              0.7777777777777778,
              "#fb9f3a"
             ],
             [
              0.8888888888888888,
              "#fdca26"
             ],
             [
              1,
              "#f0f921"
             ]
            ],
            "type": "contour"
           }
          ],
          "contourcarpet": [
           {
            "colorbar": {
             "outlinewidth": 0,
             "ticks": ""
            },
            "type": "contourcarpet"
           }
          ],
          "heatmap": [
           {
            "colorbar": {
             "outlinewidth": 0,
             "ticks": ""
            },
            "colorscale": [
             [
              0,
              "#0d0887"
             ],
             [
              0.1111111111111111,
              "#46039f"
             ],
             [
              0.2222222222222222,
              "#7201a8"
             ],
             [
              0.3333333333333333,
              "#9c179e"
             ],
             [
              0.4444444444444444,
              "#bd3786"
             ],
             [
              0.5555555555555556,
              "#d8576b"
             ],
             [
              0.6666666666666666,
              "#ed7953"
             ],
             [
              0.7777777777777778,
              "#fb9f3a"
             ],
             [
              0.8888888888888888,
              "#fdca26"
             ],
             [
              1,
              "#f0f921"
             ]
            ],
            "type": "heatmap"
           }
          ],
          "histogram": [
           {
            "marker": {
             "pattern": {
              "fillmode": "overlay",
              "size": 10,
              "solidity": 0.2
             }
            },
            "type": "histogram"
           }
          ],
          "histogram2d": [
           {
            "colorbar": {
             "outlinewidth": 0,
             "ticks": ""
            },
            "colorscale": [
             [
              0,
              "#0d0887"
             ],
             [
              0.1111111111111111,
              "#46039f"
             ],
             [
              0.2222222222222222,
              "#7201a8"
             ],
             [
              0.3333333333333333,
              "#9c179e"
             ],
             [
              0.4444444444444444,
              "#bd3786"
             ],
             [
              0.5555555555555556,
              "#d8576b"
             ],
             [
              0.6666666666666666,
              "#ed7953"
             ],
             [
              0.7777777777777778,
              "#fb9f3a"
             ],
             [
              0.8888888888888888,
              "#fdca26"
             ],
             [
              1,
              "#f0f921"
             ]
            ],
            "type": "histogram2d"
           }
          ],
          "histogram2dcontour": [
           {
            "colorbar": {
             "outlinewidth": 0,
             "ticks": ""
            },
            "colorscale": [
             [
              0,
              "#0d0887"
             ],
             [
              0.1111111111111111,
              "#46039f"
             ],
             [
              0.2222222222222222,
              "#7201a8"
             ],
             [
              0.3333333333333333,
              "#9c179e"
             ],
             [
              0.4444444444444444,
              "#bd3786"
             ],
             [
              0.5555555555555556,
              "#d8576b"
             ],
             [
              0.6666666666666666,
              "#ed7953"
             ],
             [
              0.7777777777777778,
              "#fb9f3a"
             ],
             [
              0.8888888888888888,
              "#fdca26"
             ],
             [
              1,
              "#f0f921"
             ]
            ],
            "type": "histogram2dcontour"
           }
          ],
          "mesh3d": [
           {
            "colorbar": {
             "outlinewidth": 0,
             "ticks": ""
            },
            "type": "mesh3d"
           }
          ],
          "parcoords": [
           {
            "line": {
             "colorbar": {
              "outlinewidth": 0,
              "ticks": ""
             }
            },
            "type": "parcoords"
           }
          ],
          "pie": [
           {
            "automargin": true,
            "type": "pie"
           }
          ],
          "scatter": [
           {
            "fillpattern": {
             "fillmode": "overlay",
             "size": 10,
             "solidity": 0.2
            },
            "type": "scatter"
           }
          ],
          "scatter3d": [
           {
            "line": {
             "colorbar": {
              "outlinewidth": 0,
              "ticks": ""
             }
            },
            "marker": {
             "colorbar": {
              "outlinewidth": 0,
              "ticks": ""
             }
            },
            "type": "scatter3d"
           }
          ],
          "scattercarpet": [
           {
            "marker": {
             "colorbar": {
              "outlinewidth": 0,
              "ticks": ""
             }
            },
            "type": "scattercarpet"
           }
          ],
          "scattergeo": [
           {
            "marker": {
             "colorbar": {
              "outlinewidth": 0,
              "ticks": ""
             }
            },
            "type": "scattergeo"
           }
          ],
          "scattergl": [
           {
            "marker": {
             "colorbar": {
              "outlinewidth": 0,
              "ticks": ""
             }
            },
            "type": "scattergl"
           }
          ],
          "scattermap": [
           {
            "marker": {
             "colorbar": {
              "outlinewidth": 0,
              "ticks": ""
             }
            },
            "type": "scattermap"
           }
          ],
          "scattermapbox": [
           {
            "marker": {
             "colorbar": {
              "outlinewidth": 0,
              "ticks": ""
             }
            },
            "type": "scattermapbox"
           }
          ],
          "scatterpolar": [
           {
            "marker": {
             "colorbar": {
              "outlinewidth": 0,
              "ticks": ""
             }
            },
            "type": "scatterpolar"
           }
          ],
          "scatterpolargl": [
           {
            "marker": {
             "colorbar": {
              "outlinewidth": 0,
              "ticks": ""
             }
            },
            "type": "scatterpolargl"
           }
          ],
          "scatterternary": [
           {
            "marker": {
             "colorbar": {
              "outlinewidth": 0,
              "ticks": ""
             }
            },
            "type": "scatterternary"
           }
          ],
          "surface": [
           {
            "colorbar": {
             "outlinewidth": 0,
             "ticks": ""
            },
            "colorscale": [
             [
              0,
              "#0d0887"
             ],
             [
              0.1111111111111111,
              "#46039f"
             ],
             [
              0.2222222222222222,
              "#7201a8"
             ],
             [
              0.3333333333333333,
              "#9c179e"
             ],
             [
              0.4444444444444444,
              "#bd3786"
             ],
             [
              0.5555555555555556,
              "#d8576b"
             ],
             [
              0.6666666666666666,
              "#ed7953"
             ],
             [
              0.7777777777777778,
              "#fb9f3a"
             ],
             [
              0.8888888888888888,
              "#fdca26"
             ],
             [
              1,
              "#f0f921"
             ]
            ],
            "type": "surface"
           }
          ],
          "table": [
           {
            "cells": {
             "fill": {
              "color": "#EBF0F8"
             },
             "line": {
              "color": "white"
             }
            },
            "header": {
             "fill": {
              "color": "#C8D4E3"
             },
             "line": {
              "color": "white"
             }
            },
            "type": "table"
           }
          ]
         },
         "layout": {
          "annotationdefaults": {
           "arrowcolor": "#2a3f5f",
           "arrowhead": 0,
           "arrowwidth": 1
          },
          "autotypenumbers": "strict",
          "coloraxis": {
           "colorbar": {
            "outlinewidth": 0,
            "ticks": ""
           }
          },
          "colorscale": {
           "diverging": [
            [
             0,
             "#8e0152"
            ],
            [
             0.1,
             "#c51b7d"
            ],
            [
             0.2,
             "#de77ae"
            ],
            [
             0.3,
             "#f1b6da"
            ],
            [
             0.4,
             "#fde0ef"
            ],
            [
             0.5,
             "#f7f7f7"
            ],
            [
             0.6,
             "#e6f5d0"
            ],
            [
             0.7,
             "#b8e186"
            ],
            [
             0.8,
             "#7fbc41"
            ],
            [
             0.9,
             "#4d9221"
            ],
            [
             1,
             "#276419"
            ]
           ],
           "sequential": [
            [
             0,
             "#0d0887"
            ],
            [
             0.1111111111111111,
             "#46039f"
            ],
            [
             0.2222222222222222,
             "#7201a8"
            ],
            [
             0.3333333333333333,
             "#9c179e"
            ],
            [
             0.4444444444444444,
             "#bd3786"
            ],
            [
             0.5555555555555556,
             "#d8576b"
            ],
            [
             0.6666666666666666,
             "#ed7953"
            ],
            [
             0.7777777777777778,
             "#fb9f3a"
            ],
            [
             0.8888888888888888,
             "#fdca26"
            ],
            [
             1,
             "#f0f921"
            ]
           ],
           "sequentialminus": [
            [
             0,
             "#0d0887"
            ],
            [
             0.1111111111111111,
             "#46039f"
            ],
            [
             0.2222222222222222,
             "#7201a8"
            ],
            [
             0.3333333333333333,
             "#9c179e"
            ],
            [
             0.4444444444444444,
             "#bd3786"
            ],
            [
             0.5555555555555556,
             "#d8576b"
            ],
            [
             0.6666666666666666,
             "#ed7953"
            ],
            [
             0.7777777777777778,
             "#fb9f3a"
            ],
            [
             0.8888888888888888,
             "#fdca26"
            ],
            [
             1,
             "#f0f921"
            ]
           ]
          },
          "colorway": [
           "#636efa",
           "#EF553B",
           "#00cc96",
           "#ab63fa",
           "#FFA15A",
           "#19d3f3",
           "#FF6692",
           "#B6E880",
           "#FF97FF",
           "#FECB52"
          ],
          "font": {
           "color": "#2a3f5f"
          },
          "geo": {
           "bgcolor": "white",
           "lakecolor": "white",
           "landcolor": "#E5ECF6",
           "showlakes": true,
           "showland": true,
           "subunitcolor": "white"
          },
          "hoverlabel": {
           "align": "left"
          },
          "hovermode": "closest",
          "mapbox": {
           "style": "light"
          },
          "paper_bgcolor": "white",
          "plot_bgcolor": "#E5ECF6",
          "polar": {
           "angularaxis": {
            "gridcolor": "white",
            "linecolor": "white",
            "ticks": ""
           },
           "bgcolor": "#E5ECF6",
           "radialaxis": {
            "gridcolor": "white",
            "linecolor": "white",
            "ticks": ""
           }
          },
          "scene": {
           "xaxis": {
            "backgroundcolor": "#E5ECF6",
            "gridcolor": "white",
            "gridwidth": 2,
            "linecolor": "white",
            "showbackground": true,
            "ticks": "",
            "zerolinecolor": "white"
           },
           "yaxis": {
            "backgroundcolor": "#E5ECF6",
            "gridcolor": "white",
            "gridwidth": 2,
            "linecolor": "white",
            "showbackground": true,
            "ticks": "",
            "zerolinecolor": "white"
           },
           "zaxis": {
            "backgroundcolor": "#E5ECF6",
            "gridcolor": "white",
            "gridwidth": 2,
            "linecolor": "white",
            "showbackground": true,
            "ticks": "",
            "zerolinecolor": "white"
           }
          },
          "shapedefaults": {
           "line": {
            "color": "#2a3f5f"
           }
          },
          "ternary": {
           "aaxis": {
            "gridcolor": "white",
            "linecolor": "white",
            "ticks": ""
           },
           "baxis": {
            "gridcolor": "white",
            "linecolor": "white",
            "ticks": ""
           },
           "bgcolor": "#E5ECF6",
           "caxis": {
            "gridcolor": "white",
            "linecolor": "white",
            "ticks": ""
           }
          },
          "title": {
           "x": 0.05
          },
          "xaxis": {
           "automargin": true,
           "gridcolor": "white",
           "linecolor": "white",
           "ticks": "",
           "title": {
            "standoff": 15
           },
           "zerolinecolor": "white",
           "zerolinewidth": 2
          },
          "yaxis": {
           "automargin": true,
           "gridcolor": "white",
           "linecolor": "white",
           "ticks": "",
           "title": {
            "standoff": 15
           },
           "zerolinecolor": "white",
           "zerolinewidth": 2
          }
         }
        },
        "title": {
         "text": "Distribution of Review Scores for Each Snapshot Date"
        },
        "width": 1000,
        "xaxis": {
         "title": {
          "text": "Review Score"
         }
        },
        "yaxis": {
         "title": {
          "text": "Frequency"
         }
        }
       }
      }
     },
     "metadata": {},
     "output_type": "display_data"
    }
   ],
   "source": [
    "review_scores = bookings.groupby(['name', 'snapshot_date'], as_index=False)['review_score'].first()\n",
    "\n",
    "# Create subplots for each snapshot date\n",
    "fig = go.Figure()\n",
    "\n",
    "for date in snapshot_dates:\n",
    "    data = review_scores[review_scores['snapshot_date'] == date]['review_score'].dropna()\n",
    "    fig.add_trace(go.Histogram(x=data, name=str(date), opacity=0.5, bingroup=100))\n",
    "\n",
    "# Update layout to separate the graphs\n",
    "fig.update_layout(\n",
    "    title=\"Distribution of Review Scores for Each Snapshot Date\",\n",
    "    xaxis_title=\"Review Score\",\n",
    "    yaxis_title=\"Frequency\",\n",
    "    barmode='overlay',  # Ensures histograms are separate\n",
    "    legend_title=\"Snapshot Date\",\n",
    "    width=1000,\n",
    "    height=600\n",
    ")\n",
    "\n",
    "# Show interactive plot\n",
    "fig.show()"
   ]
  },
  {
   "cell_type": "markdown",
   "metadata": {},
   "source": [
    "The histogram shows that most hotel review scores fall between **7 and 9**, with a peak around **8**, indicating generally positive experiences. Scores below **5** are rare to none.  \n",
    "\n",
    "The similarity between the snapshot dates suggests that hotel ratings remain stable over time. While a few hotels receive low scores (**1-4**), these are outliers rather than the norm.  \n",
    "\n",
    "The data above shows that **Booking.com prioritizes highly rated hotels** in its listings. Among the 100 hotels that appeared in each search, none have a review score below **6**, indicating that poorly rated hotels are likely filtered out. This aligns with Booking.com’s strategy of promoting well-reviewed properties to enhance user experience, while \"punishing\" lesser options.  "
   ]
  },
  {
   "cell_type": "code",
   "execution_count": 31,
   "metadata": {},
   "outputs": [
    {
     "data": {
      "application/vnd.plotly.v1+json": {
       "config": {
        "plotlyServerURL": "https://plot.ly"
       },
       "data": [
        {
         "name": "Original Price - 2025-02-02",
         "opacity": 0.5,
         "type": "histogram",
         "x": {
          "bdata": "9wmuBT4DXwJGAn8CqQLnAMwCOgLoALABnwH5AGcCIAKsAacC2QT2AHAB4QKVAaoFxgCZANEA5wB2Aa0AFgUkBHgDRgGCAFwB8wTFAJsAXAJBAVgE2QHTAI8B7gBJArQA/gFZAQMBXgnEBNoBgQDcAAUB+QOjAAED9QWqAgkECQRCAqMHlwFWAAEBngCYAKMA8QKyAJgAsADEBrsBFgGGAzkFDQEqAW8CpgB5APYArgBzAo8CFwJ0AFkDxwCYALkBBwKLASICfwGCAKYA9QFMB08F7Ad/AoUA0QDRAPQBiwGYAEQBdAG0AbwDrQQdCCEJggd9A7sG/AGeAn8E7gF3AKQAugDQAN4ANAGuAJYBugBqALgC9gCMAFgB4gB4AbwAWgG3AI4DCAbLALEARQHJAe4A3AAqAfwDXgGrALkC7wDRAMUA3QB/AdUGVACzAHcAggCcAU8BGAPmAEMBHAHXBMsC2QDGAF8CrgA4AccAigjBByQBcwDAAFwBEQFTAfoAlQCiAE8DpADbAUECuwCCAdABCQHAAHwAHRzRAdoCqAAdATcCfgbBAFQCEQEhBK4AOwJbAvMAuwDiBSEBEwHjAocDZgGBCcABIQGxAbsACgGTA7oAAASDAegDPAJoBeAAjACCAYEA1wMkAbEA+wI+BR0ChwU/AZoAlgEtCLkFIQUkAYEA6ABrAZcGRAKPBg0DXQGhBJ4ACgMHAbIBjACBAmAI6AABAXABrwEXA6sAnQEeA6ECQgPBAVsCFAK6AyMNmwBlAScBDgaOAC4BSAHsACMDjACjAEICngFTAegEswCKAZYAAQH5AIsAGgHPAOwAugB1AcAIhQLSB4ACeQUXCcEEVwO7AfsCdQOmAY0AiwbeA4cFqQCsAocA+AUXBHsDHgGeAqAAMAOGAbMKpAfeMekCswLTAHwAmgDRAPIATQG3A+oA8QEAATkKCQKQAB0CxQHRANEAtgHFAA==",
          "dtype": "i2"
         }
        },
        {
         "name": "Discounted Price - 2025-02-02",
         "opacity": 0.3,
         "type": "histogram",
         "x": {
          "bdata": "5AauBT4DXwJGAn8CqQLnAMwCIQLSALABnwH5AGcC3AFoAacC2QT2AHAB4QKVAaoFxgCZANEA5wBLAYMAFgUkBHgDRgGCAFwB8wS8AJsA8QFBAVgE2QHTADoB7gBJArQAmQE+AQMBXgnEBNoBgQDcAAUB+QOjAAED9QWqAgkECQTQAaMHlwFWAAEBngCYAKMA8QKyAJgAsADEBnIBFgGGAzkFDQEqAW8CpgB5APYArgBzAo8CFwJ0AFkDxwCYALkBBwKLASICfwFvAKYA9QFMB08F7Ad/AoUA0QDRAPQBiwGYAEQBdAG0AbwDrQQdCCEJggd9A7sGmQGeAg0E7gF3AKQAugDQAN4ANAGuACkBugBqAEAC9gCMAFgB4gB4AbwAWgG3AI4DCAbLALEARQHJAbEAqQAqAfwDXgGrAIcC7wDRAMUA3QB/AdUGVACzAHcAggBfAU8BGAPmAEMBHAHXBMsC2QDGAF8CrgA4AbgAigjBB9oAcwCaAFwBEQFTAfoAlQCiAE8DpADbAUECsgCCAbYBCQHAAHwATxnRAYgCqADrADcCfgaxAPcBEQGTA64AOwJbAvMAuwDiBSEBEwHjAocDZgGBCcABIQGxAbsACgGTA7oAeAODAasD3AFoBeAAjACCAYEA1wMkAbEA+wI+Bc0BhwU/AZoAlgEtCLkFfAPcAIEA6ABrAZcGIgKPBqgCXQGhBJ4ACgMHAWYBjACBAp0HxQABAXABrwEXA6sANwEeA6ECQgPBAVsC4gG6AyMNmwBlAScBDgaAAC4BSAGyALYCeACjAEICngFTAegEswCKAZYAAQH5AIsAGgHPALIAugB1AeIHhQIlB4ACOwVIB8EEVwO7AfsCdQN8AY0A/wXeAxIFqQA6AocA+AVcA3sDHgGeAqAAMAOGAbMKpAdYI+kCswLTAHwAmgDRAPIATQG3A+oA8QHYAHQJ3gGQAB0CxQHRANEAtgHFAA==",
          "dtype": "i2"
         }
        },
        {
         "name": "Original Price - 2025-02-03",
         "opacity": 0.5,
         "type": "histogram",
         "x": {
          "bdata": "zw2hBJoCXwIbAqkCpQEIBsoCGQKWAPkANwSXAagD7AGxAmgCcAHhApUBGwIOAd8A9gDnALsA5QKqBiQEvAHkAhoBqQBkA9wAzgBcAqEArAMhA2ME2AHNAW8DmwD5ANsCywD+AXYCMgHaAaMA3AAFAegAiwEtASMGsQS1BGYBtguXAeAAGAGjAMUAugAWAccAmABnATYCngIWASEBMwUNAZ8AYQIqAzwGmQANAfMArQHXABcCkgLvAZgAwgFCBoICIgKtAZ0AkwHWAfIAlQaZAQsBRAEKAaMAiwHSAKUEiAOaAFYD4waqCMYGHQE6AuYBfgWMA9MAdwCHAOEAlgKrASkBxQC6AGoA7AGjApgAWwPHANMAdgG3ANcBsQAQB2cG0AK0AO8ANwFMA2QHqwAyAR0B/gHFAPYALwFdA7MAfQCMAFUDMQZrAI4CRAE+BfEALAM/A7EAowA8AdoAiggiBucAVQFoAy0BDQHLANQDsgK5AE8DpACtAGEBXwFgASwS6AAVATkEcAGjANoCqAAlAkkBoAHBALQAywWwBbUAxgA1AvMAuwDcABYBMQFaAlICIQa3Af0CzgHHAAoBOQO6AAsElAHBAsICyQCNA6MAAQGMAJoAVgA+AVQDtABPAdoExwCWAWwIYAEGAYEA8ADHAAoH5gBdAbkCogFSAh0B0QOMAHgCYAjdAJcCawGaBK8D7AM5A6kAoQL9BMwCfASKADwC+AN1ApkATAGWAKcCjgBfAkgB9wCMAKMAPQwKAd4CNAGzAFIFlgDnAAYC9gAEAeYA/QDcACcEfwLvA64AgALTARoFwQQlBGEDeQKYAE4C6AKNAMgDQwGHBakA3ABOA5YACwb0AtcBewODA1kCJgW3ACwChgvpAkgChgCYAGgA6wG7BPUJzwPXAOYBHwINBOwEQQGLAOgA/wC2AcUA",
          "dtype": "i2"
         }
        },
        {
         "name": "Discounted Price - 2025-02-03",
         "opacity": 0.3,
         "type": "histogram",
         "x": {
          "bdata": "RwmhBJoCXwIbAqkCpQE6BagCGQKWAPkANwSXAQ8D7AGxAmgCcAHhApUBGwIOAd8A9gDnAKYAVAKqBiQEvAHkAhoBqQBkA9IAzgDWAaEArAMhA2ME2AHNAbACmwD5ANsCywCZAXYCMgHaAaMA3AAFAegAiwEtASMGsQS1BB8BtguXAeAAGAGjAMUAugAWAccAmABnATYCLwIWASEBMwUNAZ8AYQIqAzwGewANAfMArQHXABcCkgLvAZgAwgFCBoICIgKtAYYAkwHWAfIAlQaZAQsBRAEKAaMAiwHSAKUEFAOaAFYD4waqCMYGHQE6AocBfgUyA9MAdwCHAOEAlgKrASkBxQC6AGoAlwGjApgAWwPHANMAdgG3ANcBsQAQB2cG2AG0ALYANwFMA2QHqwAyAR0B/gHFAPYALwHXArMAfQCMANcCMQZrAI4CRAE+BfEALAM/A7EAowA8AckAiggiBucAEQFoAy0BDQHLANQDsgK5AE8DpACtAGEBTgFgASwS6AAVATkEcAGPAIgCqADGAUkBoAGxALQAywXvBLUAxgA1AvMAuwDcABYBMQFaAlICIQa3Af0CzgHHAAoBOQO6AIIDlAHBAk4CyQCNA6MAAQGMAJoAVgA+AVQDtAANAdoExwCWAWwICAHHAIEA8ADHAAoH0wBdAbkCogFSAh0BIwOMAHgCnQfdAEcCawGaBK8D7ANuAqkAoQL9BMwCfASKADwC+AN1ApkATAGWAKcCgABfAkgBugB4AKMAaQkKAd4CNAGzAFIFlgDnAAYC9gAEAeYAvwDcAL0DfwLFA64AgALTARoFwQQlBGEDeQKYAE4CngKNAKADQwESBakA3ABOA5YACwb0AogBewODA1kCJgW3ACwChgvpAkgChgCYAGgAvwG7BDoJzwPXAOYBygENBOwEQQGLAOgA/wC2AcUA",
          "dtype": "i2"
         }
        },
        {
         "name": "Original Price - 2025-02-04",
         "opacity": 0.5,
         "type": "histogram",
         "x": {
          "bdata": "UArcA5oCRgJMAu8C6AChAOAA6ADuABMFrQGPA3EB+AKVAekABAH+ACYCzQG7ABQE3gWYA0cBPQGjAgoCZAPRAK4AZwPiAfkA2QMzBcQCPQFlBNQCigHLAGcDoAEpAdoBrgDcAKUEkwJiAugArgDWA+ICiwFzAjQEWQBTAqoA6ACuAAoB8ACjAFgAAgjYAD0C0ABjA5UA2wF8BAwB9wHiAJgAsgKYAOYBSATHAKMA9gTCAZcEuQDzAsQB6ADSABwI8gA4AYQAFgH/AK4AugBbAccEdAGaAIcCighrBboAxQCpALgA0AHUAMIBXwFqAqwBxQAhAcUAmASuAPIA1wDeAJgAUAHyAt8B5QCPAt0B5QHxAEcEfgJKCNsAtQA3AUADEQZKAdIFrgDFAMUAVwHRAr8CogB3AD4BiwF6D5gAqQNEAewA+gD6AX0BqADCAA8IbgHQAOQEyAPdAFUBFwHaBIADPwEAAosAbgIVAqQArQC5AI0AAgFPBaoCFQHSAX0AfQEPA/wCzAAlAu4AiQNQBLQAZwKwBbUAxgDcADcCuwBmAZMCSQG4Ai0BZgEpAhcCrQEhAYQDLgV5Ax8DeAEPA9EAOwdEAUkHmQAjBYwAgQCBAOADsAAoAj4BLQO0AE8BeAHkAr0AyQnPAZEBQQGCAf8AjQHEAwQG5gBdAb4CzQPRAE0BvgQ7AUkBawjxABID1wBiAYcCEQGrAC0BiwHLAVECrgKwADACsxGnADIBrQBbBEYGmgD5A8UA/wBNAf8C3wJEA7UMFgLFAyQBswCaBZAABgEAAY0APQH5AfgAuwAQCpICAAaMAgsFsQEjCcEEJQTEBrgEgQCAAZwCAwKoBhoBSAapAOcBTgOyApYA1gCXAkAIbgFYBR4CJgWTAYMIhwLJLLgAjASqBi8BOQHyACYEzAGsAhABAwNrAgcCXgUIArIDqQQKAakA",
          "dtype": "i2"
         }
        },
        {
         "name": "Discounted Price - 2025-02-04",
         "opacity": 0.3,
         "type": "histogram",
         "x": {
          "bdata": "HwfcA5oCRgJMAu8C6AChAOAA6ADuADsErQGPA3EB+AKVAekABAH+ACYCzQGmADMD3gWYA0cBPQGjAgoCZAPHAK4AZwPiAfkAfwMzBcQCPQFwA54CigHLAGcDoAEpAdoBrgDcAKUEkwJiAugArgDWA+ICiwFzAjQEWQBTAqoA6ACuAAoB8ACjAFgAAgi0AD0C0ABjA5UA2wF8BAwB9wHiAJgAsgKYAOYBSATHAKMA9gTCAZcEuQCEAsQB6ADSABwI8gA4AYQAFgH/AK4AugBbAccEdAGaAIcCighrBboAxQCIALgA0AHUAMIBXwFqAqwBxQAhAcUAjAOuAPIA1wDeAJgAUAHyAt8B5QCPAt0B5QG1AEcEfgJtBdsAtQA3AUADEQZKAdIFrgDFAMUAVwHRAlACogB3AD4BUQF6D3oAqQNEAewA+gD6AX0BqADCAA8IbgHBAOQEyAPdABEBFwFyBIADPwEAAosAbgIVAqQArQC5AIYAAgFPBYECFQHSAX0AfQEPA6UCzAAlAu4AiQPBA7QAZwLvBLUAxgDcADcCuwBmAZMCSQG4Ai0BZgEpAhcCGgEhAYQDFQR5Ax8DeAEPA9EAQAZEAaQGmQAjBYwAgQCBAOADsAAoAj4BLQO0AA0BeAHkAr0AyQnPASsB8gCCAf8AjQHEAwQG0wBdAb4CzQO0AE0B7AM7AUkBpwfxALQC1wBiAYcCEQGrAC0BiwHLAVECrgKwADACsxGnADIBrQBbBEYGiwD5A8UAwABNAYQC3wJEA8QJFgLFAyQBswCaBZAABgEAAY0APQH5AbsAuwDdCJICvgWMAgsFsQFRB8EEJQTEBrgEgQCAAVoCAwIZBhoBAgapAOcBTgOWApYA1gAqAkAIbgFYBR4CJgWTAYMIhwLJLLgAjAQEBS8BOQHyACYEzAGsAhABAwMWAgcC6gQIArIDMwQKAakA",
          "dtype": "i2"
         }
        }
       ],
       "layout": {
        "barmode": "overlay",
        "height": 600,
        "legend": {
         "title": {
          "text": "Snapshot Date & Price Type"
         }
        },
        "template": {
         "data": {
          "bar": [
           {
            "error_x": {
             "color": "#2a3f5f"
            },
            "error_y": {
             "color": "#2a3f5f"
            },
            "marker": {
             "line": {
              "color": "#E5ECF6",
              "width": 0.5
             },
             "pattern": {
              "fillmode": "overlay",
              "size": 10,
              "solidity": 0.2
             }
            },
            "type": "bar"
           }
          ],
          "barpolar": [
           {
            "marker": {
             "line": {
              "color": "#E5ECF6",
              "width": 0.5
             },
             "pattern": {
              "fillmode": "overlay",
              "size": 10,
              "solidity": 0.2
             }
            },
            "type": "barpolar"
           }
          ],
          "carpet": [
           {
            "aaxis": {
             "endlinecolor": "#2a3f5f",
             "gridcolor": "white",
             "linecolor": "white",
             "minorgridcolor": "white",
             "startlinecolor": "#2a3f5f"
            },
            "baxis": {
             "endlinecolor": "#2a3f5f",
             "gridcolor": "white",
             "linecolor": "white",
             "minorgridcolor": "white",
             "startlinecolor": "#2a3f5f"
            },
            "type": "carpet"
           }
          ],
          "choropleth": [
           {
            "colorbar": {
             "outlinewidth": 0,
             "ticks": ""
            },
            "type": "choropleth"
           }
          ],
          "contour": [
           {
            "colorbar": {
             "outlinewidth": 0,
             "ticks": ""
            },
            "colorscale": [
             [
              0,
              "#0d0887"
             ],
             [
              0.1111111111111111,
              "#46039f"
             ],
             [
              0.2222222222222222,
              "#7201a8"
             ],
             [
              0.3333333333333333,
              "#9c179e"
             ],
             [
              0.4444444444444444,
              "#bd3786"
             ],
             [
              0.5555555555555556,
              "#d8576b"
             ],
             [
              0.6666666666666666,
              "#ed7953"
             ],
             [
              0.7777777777777778,
              "#fb9f3a"
             ],
             [
              0.8888888888888888,
              "#fdca26"
             ],
             [
              1,
              "#f0f921"
             ]
            ],
            "type": "contour"
           }
          ],
          "contourcarpet": [
           {
            "colorbar": {
             "outlinewidth": 0,
             "ticks": ""
            },
            "type": "contourcarpet"
           }
          ],
          "heatmap": [
           {
            "colorbar": {
             "outlinewidth": 0,
             "ticks": ""
            },
            "colorscale": [
             [
              0,
              "#0d0887"
             ],
             [
              0.1111111111111111,
              "#46039f"
             ],
             [
              0.2222222222222222,
              "#7201a8"
             ],
             [
              0.3333333333333333,
              "#9c179e"
             ],
             [
              0.4444444444444444,
              "#bd3786"
             ],
             [
              0.5555555555555556,
              "#d8576b"
             ],
             [
              0.6666666666666666,
              "#ed7953"
             ],
             [
              0.7777777777777778,
              "#fb9f3a"
             ],
             [
              0.8888888888888888,
              "#fdca26"
             ],
             [
              1,
              "#f0f921"
             ]
            ],
            "type": "heatmap"
           }
          ],
          "histogram": [
           {
            "marker": {
             "pattern": {
              "fillmode": "overlay",
              "size": 10,
              "solidity": 0.2
             }
            },
            "type": "histogram"
           }
          ],
          "histogram2d": [
           {
            "colorbar": {
             "outlinewidth": 0,
             "ticks": ""
            },
            "colorscale": [
             [
              0,
              "#0d0887"
             ],
             [
              0.1111111111111111,
              "#46039f"
             ],
             [
              0.2222222222222222,
              "#7201a8"
             ],
             [
              0.3333333333333333,
              "#9c179e"
             ],
             [
              0.4444444444444444,
              "#bd3786"
             ],
             [
              0.5555555555555556,
              "#d8576b"
             ],
             [
              0.6666666666666666,
              "#ed7953"
             ],
             [
              0.7777777777777778,
              "#fb9f3a"
             ],
             [
              0.8888888888888888,
              "#fdca26"
             ],
             [
              1,
              "#f0f921"
             ]
            ],
            "type": "histogram2d"
           }
          ],
          "histogram2dcontour": [
           {
            "colorbar": {
             "outlinewidth": 0,
             "ticks": ""
            },
            "colorscale": [
             [
              0,
              "#0d0887"
             ],
             [
              0.1111111111111111,
              "#46039f"
             ],
             [
              0.2222222222222222,
              "#7201a8"
             ],
             [
              0.3333333333333333,
              "#9c179e"
             ],
             [
              0.4444444444444444,
              "#bd3786"
             ],
             [
              0.5555555555555556,
              "#d8576b"
             ],
             [
              0.6666666666666666,
              "#ed7953"
             ],
             [
              0.7777777777777778,
              "#fb9f3a"
             ],
             [
              0.8888888888888888,
              "#fdca26"
             ],
             [
              1,
              "#f0f921"
             ]
            ],
            "type": "histogram2dcontour"
           }
          ],
          "mesh3d": [
           {
            "colorbar": {
             "outlinewidth": 0,
             "ticks": ""
            },
            "type": "mesh3d"
           }
          ],
          "parcoords": [
           {
            "line": {
             "colorbar": {
              "outlinewidth": 0,
              "ticks": ""
             }
            },
            "type": "parcoords"
           }
          ],
          "pie": [
           {
            "automargin": true,
            "type": "pie"
           }
          ],
          "scatter": [
           {
            "fillpattern": {
             "fillmode": "overlay",
             "size": 10,
             "solidity": 0.2
            },
            "type": "scatter"
           }
          ],
          "scatter3d": [
           {
            "line": {
             "colorbar": {
              "outlinewidth": 0,
              "ticks": ""
             }
            },
            "marker": {
             "colorbar": {
              "outlinewidth": 0,
              "ticks": ""
             }
            },
            "type": "scatter3d"
           }
          ],
          "scattercarpet": [
           {
            "marker": {
             "colorbar": {
              "outlinewidth": 0,
              "ticks": ""
             }
            },
            "type": "scattercarpet"
           }
          ],
          "scattergeo": [
           {
            "marker": {
             "colorbar": {
              "outlinewidth": 0,
              "ticks": ""
             }
            },
            "type": "scattergeo"
           }
          ],
          "scattergl": [
           {
            "marker": {
             "colorbar": {
              "outlinewidth": 0,
              "ticks": ""
             }
            },
            "type": "scattergl"
           }
          ],
          "scattermap": [
           {
            "marker": {
             "colorbar": {
              "outlinewidth": 0,
              "ticks": ""
             }
            },
            "type": "scattermap"
           }
          ],
          "scattermapbox": [
           {
            "marker": {
             "colorbar": {
              "outlinewidth": 0,
              "ticks": ""
             }
            },
            "type": "scattermapbox"
           }
          ],
          "scatterpolar": [
           {
            "marker": {
             "colorbar": {
              "outlinewidth": 0,
              "ticks": ""
             }
            },
            "type": "scatterpolar"
           }
          ],
          "scatterpolargl": [
           {
            "marker": {
             "colorbar": {
              "outlinewidth": 0,
              "ticks": ""
             }
            },
            "type": "scatterpolargl"
           }
          ],
          "scatterternary": [
           {
            "marker": {
             "colorbar": {
              "outlinewidth": 0,
              "ticks": ""
             }
            },
            "type": "scatterternary"
           }
          ],
          "surface": [
           {
            "colorbar": {
             "outlinewidth": 0,
             "ticks": ""
            },
            "colorscale": [
             [
              0,
              "#0d0887"
             ],
             [
              0.1111111111111111,
              "#46039f"
             ],
             [
              0.2222222222222222,
              "#7201a8"
             ],
             [
              0.3333333333333333,
              "#9c179e"
             ],
             [
              0.4444444444444444,
              "#bd3786"
             ],
             [
              0.5555555555555556,
              "#d8576b"
             ],
             [
              0.6666666666666666,
              "#ed7953"
             ],
             [
              0.7777777777777778,
              "#fb9f3a"
             ],
             [
              0.8888888888888888,
              "#fdca26"
             ],
             [
              1,
              "#f0f921"
             ]
            ],
            "type": "surface"
           }
          ],
          "table": [
           {
            "cells": {
             "fill": {
              "color": "#EBF0F8"
             },
             "line": {
              "color": "white"
             }
            },
            "header": {
             "fill": {
              "color": "#C8D4E3"
             },
             "line": {
              "color": "white"
             }
            },
            "type": "table"
           }
          ]
         },
         "layout": {
          "annotationdefaults": {
           "arrowcolor": "#2a3f5f",
           "arrowhead": 0,
           "arrowwidth": 1
          },
          "autotypenumbers": "strict",
          "coloraxis": {
           "colorbar": {
            "outlinewidth": 0,
            "ticks": ""
           }
          },
          "colorscale": {
           "diverging": [
            [
             0,
             "#8e0152"
            ],
            [
             0.1,
             "#c51b7d"
            ],
            [
             0.2,
             "#de77ae"
            ],
            [
             0.3,
             "#f1b6da"
            ],
            [
             0.4,
             "#fde0ef"
            ],
            [
             0.5,
             "#f7f7f7"
            ],
            [
             0.6,
             "#e6f5d0"
            ],
            [
             0.7,
             "#b8e186"
            ],
            [
             0.8,
             "#7fbc41"
            ],
            [
             0.9,
             "#4d9221"
            ],
            [
             1,
             "#276419"
            ]
           ],
           "sequential": [
            [
             0,
             "#0d0887"
            ],
            [
             0.1111111111111111,
             "#46039f"
            ],
            [
             0.2222222222222222,
             "#7201a8"
            ],
            [
             0.3333333333333333,
             "#9c179e"
            ],
            [
             0.4444444444444444,
             "#bd3786"
            ],
            [
             0.5555555555555556,
             "#d8576b"
            ],
            [
             0.6666666666666666,
             "#ed7953"
            ],
            [
             0.7777777777777778,
             "#fb9f3a"
            ],
            [
             0.8888888888888888,
             "#fdca26"
            ],
            [
             1,
             "#f0f921"
            ]
           ],
           "sequentialminus": [
            [
             0,
             "#0d0887"
            ],
            [
             0.1111111111111111,
             "#46039f"
            ],
            [
             0.2222222222222222,
             "#7201a8"
            ],
            [
             0.3333333333333333,
             "#9c179e"
            ],
            [
             0.4444444444444444,
             "#bd3786"
            ],
            [
             0.5555555555555556,
             "#d8576b"
            ],
            [
             0.6666666666666666,
             "#ed7953"
            ],
            [
             0.7777777777777778,
             "#fb9f3a"
            ],
            [
             0.8888888888888888,
             "#fdca26"
            ],
            [
             1,
             "#f0f921"
            ]
           ]
          },
          "colorway": [
           "#636efa",
           "#EF553B",
           "#00cc96",
           "#ab63fa",
           "#FFA15A",
           "#19d3f3",
           "#FF6692",
           "#B6E880",
           "#FF97FF",
           "#FECB52"
          ],
          "font": {
           "color": "#2a3f5f"
          },
          "geo": {
           "bgcolor": "white",
           "lakecolor": "white",
           "landcolor": "#E5ECF6",
           "showlakes": true,
           "showland": true,
           "subunitcolor": "white"
          },
          "hoverlabel": {
           "align": "left"
          },
          "hovermode": "closest",
          "mapbox": {
           "style": "light"
          },
          "paper_bgcolor": "white",
          "plot_bgcolor": "#E5ECF6",
          "polar": {
           "angularaxis": {
            "gridcolor": "white",
            "linecolor": "white",
            "ticks": ""
           },
           "bgcolor": "#E5ECF6",
           "radialaxis": {
            "gridcolor": "white",
            "linecolor": "white",
            "ticks": ""
           }
          },
          "scene": {
           "xaxis": {
            "backgroundcolor": "#E5ECF6",
            "gridcolor": "white",
            "gridwidth": 2,
            "linecolor": "white",
            "showbackground": true,
            "ticks": "",
            "zerolinecolor": "white"
           },
           "yaxis": {
            "backgroundcolor": "#E5ECF6",
            "gridcolor": "white",
            "gridwidth": 2,
            "linecolor": "white",
            "showbackground": true,
            "ticks": "",
            "zerolinecolor": "white"
           },
           "zaxis": {
            "backgroundcolor": "#E5ECF6",
            "gridcolor": "white",
            "gridwidth": 2,
            "linecolor": "white",
            "showbackground": true,
            "ticks": "",
            "zerolinecolor": "white"
           }
          },
          "shapedefaults": {
           "line": {
            "color": "#2a3f5f"
           }
          },
          "ternary": {
           "aaxis": {
            "gridcolor": "white",
            "linecolor": "white",
            "ticks": ""
           },
           "baxis": {
            "gridcolor": "white",
            "linecolor": "white",
            "ticks": ""
           },
           "bgcolor": "#E5ECF6",
           "caxis": {
            "gridcolor": "white",
            "linecolor": "white",
            "ticks": ""
           }
          },
          "title": {
           "x": 0.05
          },
          "xaxis": {
           "automargin": true,
           "gridcolor": "white",
           "linecolor": "white",
           "ticks": "",
           "title": {
            "standoff": 15
           },
           "zerolinecolor": "white",
           "zerolinewidth": 2
          },
          "yaxis": {
           "automargin": true,
           "gridcolor": "white",
           "linecolor": "white",
           "ticks": "",
           "title": {
            "standoff": 15
           },
           "zerolinecolor": "white",
           "zerolinewidth": 2
          }
         }
        },
        "title": {
         "text": "Distribution of Original and Discounted Prices for Each Snapshot Date"
        },
        "width": 1000,
        "xaxis": {
         "title": {
          "text": "Price"
         }
        },
        "yaxis": {
         "title": {
          "text": "Frequency"
         }
        }
       }
      }
     },
     "metadata": {},
     "output_type": "display_data"
    }
   ],
   "source": [
    "price_data = bookings.groupby(['name', 'snapshot_date'], as_index=False)[['original_price', 'discounted_price']].first()\n",
    "\n",
    "# Get unique snapshot dates\n",
    "snapshot_dates = price_data['snapshot_date'].unique()\n",
    "\n",
    "# Create subplots for each snapshot date\n",
    "fig = go.Figure()\n",
    "\n",
    "for date in snapshot_dates:\n",
    "    snapshot_prices = price_data[price_data['snapshot_date'] == date]\n",
    "    \n",
    "    fig.add_trace(go.Histogram(\n",
    "        x=snapshot_prices['original_price'].dropna(),\n",
    "        name=f\"Original Price - {date}\",\n",
    "        opacity=0.5\n",
    "    ))\n",
    "    \n",
    "    fig.add_trace(go.Histogram(\n",
    "        x=snapshot_prices['discounted_price'].dropna(),\n",
    "        name=f\"Discounted Price - {date}\",\n",
    "        opacity=0.3\n",
    "    ))\n",
    "\n",
    "# Update layout for better visualization\n",
    "fig.update_layout(\n",
    "    title=\"Distribution of Original and Discounted Prices for Each Snapshot Date\",\n",
    "    xaxis_title=\"Price\",\n",
    "    yaxis_title=\"Frequency\",\n",
    "    barmode='overlay',  # Ensures histograms overlap for comparison\n",
    "    legend_title=\"Snapshot Date & Price Type\",\n",
    "    width=1000,\n",
    "    height=600\n",
    ")\n",
    "\n",
    "# Show the interactive plot\n",
    "fig.show()"
   ]
  },
  {
   "cell_type": "markdown",
   "metadata": {},
   "source": [
    "The prices shown in the graph above do not account for the length of stay. The graph below displays the distribution of \"price per night.\""
   ]
  },
  {
   "cell_type": "code",
   "execution_count": 32,
   "metadata": {},
   "outputs": [
    {
     "data": {
      "application/vnd.plotly.v1+json": {
       "config": {
        "plotlyServerURL": "https://plot.ly"
       },
       "data": [
        {
         "name": "Original Price per night - 2025-02-02",
         "opacity": 0.5,
         "type": "histogram",
         "x": {
          "bdata": "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",
          "dtype": "f8"
         }
        },
        {
         "name": "Discounted Price per night - 2025-02-02",
         "opacity": 0.3,
         "type": "histogram",
         "x": {
          "bdata": "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",
          "dtype": "f8"
         }
        },
        {
         "name": "Original Price per night - 2025-02-03",
         "opacity": 0.5,
         "type": "histogram",
         "x": {
          "bdata": "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",
          "dtype": "f8"
         }
        },
        {
         "name": "Discounted Price per night - 2025-02-03",
         "opacity": 0.3,
         "type": "histogram",
         "x": {
          "bdata": "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",
          "dtype": "f8"
         }
        },
        {
         "name": "Original Price per night - 2025-02-04",
         "opacity": 0.5,
         "type": "histogram",
         "x": {
          "bdata": "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",
          "dtype": "f8"
         }
        },
        {
         "name": "Discounted Price per night - 2025-02-04",
         "opacity": 0.3,
         "type": "histogram",
         "x": {
          "bdata": "VVVVVVX9gkAAAAAAAOBuQAAAAAAAwGtAAAAAAABAaEAAAAAAAIBoQAAAAAAAeHdAAAAAAAAAXUAAAAAAACBkQAAAAAAAAGxAAAAAAAAAbUAAAAAAAMBtQDMzMzMzE2tAAAAAAADgYUBmZmZmZsZmQAAAAAAAwF5AAAAAAADAZ0AAAAAAAFB5QAAAAAAAIG1AAAAAAABAcEAAAAAAAMBvQKuqqqqq6mZAAAAAAADQbEAAAAAAAMBkQJqZmZmZeWRAZmZmZmbGckAAAAAAAABnQAAAAAAAcGRAAAAAAADQY0AAAAAAABh1QAAAAAAAUHBAAAAAAAAge0AAAAAAAOBoQAAAAAAAwGVAZmZmZmbGZUBVVVVVVRVkQAAAAAAAIG9AVVVVVVWlckAzMzMzM6NwQAAAAAAAgG1Aq6qqqqpqWkAAAAAAAABmQAAAAAAA8GRAAAAAAACgaEAAAAAAAGBpQFVVVVVVJXJAVVVVVVVVYUAAAAAAAJByQAAAAAAAoH1AAAAAAADAZUAAAAAAAIBrQFVVVVVVxXhAAAAAAACYdEAAAAAAABBzQAAAAAAAAG1AAAAAAADAZUBVVVVVVXV0QAAAAAAAwG5AAAAAAACwaEAAAAAAACBqQAAAAAAA0HBAAAAAAABAVkAAAAAAAJhiQAAAAAAAQGVAAAAAAAAAbUAAAAAAAMBlQAAAAAAAoHBAAAAAAAAAbkAAAAAAAGBkQAAAAAAAAFZAAAAAAACgeUAAAAAAAIBmQAAAAAAA6HFAAAAAAAAAakAAAAAAABByQAAAAAAAoGJAAAAAAACwbUAzMzMzM7NsQAAAAAAAwGBAAAAAAABwb0AAAAAAAEBsQAAAAAAAAGNAAAAAAADAbEAAAAAAAABjQAAAAAAAQGRAZmZmZmZma0AAAAAAAOBoQAAAAAAAYGRAVVVVVVV1ekAAAAAAACBsQAAAAAAAXHJAAAAAAAAgZ0AAAAAAACBkQAAAAAAAQGxAAAAAAAAAbUAAAAAAAEBqQDMzMzMz83lAAAAAAABAbkAAAAAAAIBzQAAAAAAAgGBAAAAAAABgcUAAAAAAAOBvQAAAAAAAwGVAAAAAAABAZ0AAAAAAALB1QKuqqqqqenlAAAAAAABAZ0AAAAAAAEBjQAAAAAAAOIRAMzMzMzNTe0AAAAAAAKx1QAAAAAAAQGdAAAAAAACgaEAAAAAAAABhQAAAAAAAAGdAAAAAAAAAbUAAAAAAAIBqQAAAAAAAwGJAAAAAAADwZUAAAAAAAMBpQAAAAAAAwGpAAAAAAACgaEAAAAAAABByQAAAAAAAoGhAMzMzMzOzZkAAAAAAAMBlQAAAAAAAQF5AAAAAAADgakAAAAAAAMBbQAAAAAAAAGNAAAAAAAAAZUCamZmZmdliQAAAAAAA8G1AAAAAAACgbEAAAAAAAGBgQJqZmZmZ2VdAAAAAAABQbkAAAAAAAKBmQAAAAAAA0HZAVVVVVVWVakDNzMzMzFxxQAAAAAAAYGtAAAAAAACgZkAAAAAAAHBzQAAAAAAAAGpAAAAAAABEeEAAAAAAAKBkQAAAAAAAoHJAAAAAAADAZUAAAAAAAKBoQAAAAAAAoGhAVVVVVVWVXEAAAAAAAIhmQAAAAAAAgGJAAAAAAABAZEAAAAAAAMBdQAAAAAAA4GNAAAAAAAAQZUAzMzMzM8OIQAAAAAAAgF5AVVVVVVWFc0AAAAAAAEB0QAAAAAAAgG1AAAAAAABAb0AAAAAAAKBvQAAAAAAA0HdAAAAAAAAAZUAAAAAAAEBoQJqZmZmZyXlAAAAAAADgdkAAAAAAACBoQFVVVVVVFXpAq6qqqqoqdEAAAAAAAKBrQAAAAAAAEHFAAAAAAABwcUAAAAAAAMhxQAAAAAAAAGxAAAAAAADwc0BVVVVVVVVlQAAAAAAAYGFAAAAAAABwg0AAAAAAAKhwQAAAAAAAgGRAAAAAAACgZUAAAAAAACBnQAAAAAAAwGBAAAAAAAAgYEAAAAAAAFB8QAAAAAAACHRAAAAAAABQcUAAAAAAACBtQAAAAAAAQF9AAAAAAADQV0AAAAAAAFBwQFVVVVVVNWxAAAAAAACAaUAAAAAAAChhQAAAAAAAwG1Aq6qqqqrackAAAAAAAAhuQAAAAAAAgGZAAAAAAAA4c0AAAAAAAFB6QAAAAAAAoGZAAAAAAADAaEAAAAAAAIBrQAAAAAAAuHFAAAAAAABgZ0AAAAAAAGB2QAAAAAAAmHRAAAAAAACQdEAAAAAAAABtQAAAAAAA0HJAAAAAAABgdkAAAAAAAEiBQAAAAAAAuHBAAAAAAACgYUAAAAAAABByQAAAAAAAIGxAAAAAAAAgakAAAAAAAMhrQFVVVVVVpXBAAAAAAACAd0AAAAAAAHhoQAAAAAAAIGpAq6qqqqqqgEAAAAAAAEB0QAAAAAAAQHVAAAAAAAAgY0AAAAAAAHBwQAAAAAAAgGFAAAAAAAAgYEAAAAAAACBgQM3MzMzMzGhAAAAAAAAAVkAAAAAAAEBhQAAAAAAA4HNAAAAAAADwcEAAAAAAAIBmQAAAAAAA0HBAAAAAAACAd0AAAAAAACBnQAAAAAAAoGdAAAAAAABQf0AAAAAAAPB8QAAAAAAAsHJAAAAAAABAbkBVVVVVVRVgQAAAAAAA4G9AAAAAAADQaEBVVVVVVRV0QAAAAAAAQHNAAAAAAABgakAAAAAAANBlQAAAAAAAQG1AAAAAAABobkAAAAAAAIBmQAAAAAAA0HRAq6qqqqrqdEAAAAAAALBjQAAAAAAAkHRAAAAAAACcfkAAAAAAACBuQM3MzMzMTGFAAAAAAADgakAAAAAAACBmQAAAAAAAOGRAAAAAAAAQcUAAAAAAAGBlQAAAAAAA0HJAAAAAAACwaEAAAAAAALBsQFVVVVVVtWhAVVVVVVWVbEAAAAAAAABmQAAAAAAAgGFAmpmZmZlRjEAAAAAAAOBkQAAAAAAAIHNAAAAAAACgZUAAAAAAAOBrQAAAAAAAGHlAAAAAAABgYUAAAAAAADB1QAAAAAAAoGhAAAAAAAAAaEAAAAAAANB0QAAAAAAAIGRAAAAAAAD4dkAAAAAAACBqQAAAAAAAiINAAAAAAABAZkAAAAAAACBoQAAAAAAAQHJAAAAAAABgZkDNzMzMzOxxQAAAAAAAAGJAAAAAAABgcEAAAAAAAABgQAAAAAAAoGFAAAAAAADQc0AAAAAAAJBvQAAAAAAAYGdAAAAAAABgZ0DNzMzMzFx8QDMzMzMzc2BAAAAAAAD4dkAAAAAAAGBkQDMzMzMzI3BAAAAAAAAQe0CrqqqqqoKDQM3MzMzMbG5AAAAAAACUgEAAAAAAABB7QDMzMzMzM25AAAAAAAAgYEAAAAAAAAB4QAAAAAAA0HJAVVVVVVV1ZUAzMzMzM4NzQAAAAAAAoHFAAAAAAAAIeEAAAAAAACBlQAAAAAAAcG5AAAAAAABwikBVVVVVVZVrQAAAAAAAwGJAAAAAAADAakBVVVVVVRVnQGZmZmZmZnpAAAAAAADgZkAAAAAAAIB8QFVVVVVVlWZAAAAAAACYdECrqqqqqspgQAAAAAAABoFAVVVVVVX1akBVVVVVVdutQAAAAAAAAGdAmpmZmZkZbUDNzMzMzAxwQAAAAAAA8GJAVVVVVVUVWkAAAAAAAEBuQM3MzMzMjGpAAAAAAADAfEAAAAAAAGB1QAAAAAAAAHFAAAAAAAAQcEAzMzMzM7NaQAAAAAAAOIBAMzMzMzNzb0CrqqqqqqplQGZmZmZmpmdAAAAAAADgakAAAAAAAKBwQAAAAAAAIGVA",
          "dtype": "f8"
         }
        }
       ],
       "layout": {
        "barmode": "overlay",
        "height": 600,
        "legend": {
         "title": {
          "text": "Snapshot Date & Price Type"
         }
        },
        "template": {
         "data": {
          "bar": [
           {
            "error_x": {
             "color": "#2a3f5f"
            },
            "error_y": {
             "color": "#2a3f5f"
            },
            "marker": {
             "line": {
              "color": "#E5ECF6",
              "width": 0.5
             },
             "pattern": {
              "fillmode": "overlay",
              "size": 10,
              "solidity": 0.2
             }
            },
            "type": "bar"
           }
          ],
          "barpolar": [
           {
            "marker": {
             "line": {
              "color": "#E5ECF6",
              "width": 0.5
             },
             "pattern": {
              "fillmode": "overlay",
              "size": 10,
              "solidity": 0.2
             }
            },
            "type": "barpolar"
           }
          ],
          "carpet": [
           {
            "aaxis": {
             "endlinecolor": "#2a3f5f",
             "gridcolor": "white",
             "linecolor": "white",
             "minorgridcolor": "white",
             "startlinecolor": "#2a3f5f"
            },
            "baxis": {
             "endlinecolor": "#2a3f5f",
             "gridcolor": "white",
             "linecolor": "white",
             "minorgridcolor": "white",
             "startlinecolor": "#2a3f5f"
            },
            "type": "carpet"
           }
          ],
          "choropleth": [
           {
            "colorbar": {
             "outlinewidth": 0,
             "ticks": ""
            },
            "type": "choropleth"
           }
          ],
          "contour": [
           {
            "colorbar": {
             "outlinewidth": 0,
             "ticks": ""
            },
            "colorscale": [
             [
              0,
              "#0d0887"
             ],
             [
              0.1111111111111111,
              "#46039f"
             ],
             [
              0.2222222222222222,
              "#7201a8"
             ],
             [
              0.3333333333333333,
              "#9c179e"
             ],
             [
              0.4444444444444444,
              "#bd3786"
             ],
             [
              0.5555555555555556,
              "#d8576b"
             ],
             [
              0.6666666666666666,
              "#ed7953"
             ],
             [
              0.7777777777777778,
              "#fb9f3a"
             ],
             [
              0.8888888888888888,
              "#fdca26"
             ],
             [
              1,
              "#f0f921"
             ]
            ],
            "type": "contour"
           }
          ],
          "contourcarpet": [
           {
            "colorbar": {
             "outlinewidth": 0,
             "ticks": ""
            },
            "type": "contourcarpet"
           }
          ],
          "heatmap": [
           {
            "colorbar": {
             "outlinewidth": 0,
             "ticks": ""
            },
            "colorscale": [
             [
              0,
              "#0d0887"
             ],
             [
              0.1111111111111111,
              "#46039f"
             ],
             [
              0.2222222222222222,
              "#7201a8"
             ],
             [
              0.3333333333333333,
              "#9c179e"
             ],
             [
              0.4444444444444444,
              "#bd3786"
             ],
             [
              0.5555555555555556,
              "#d8576b"
             ],
             [
              0.6666666666666666,
              "#ed7953"
             ],
             [
              0.7777777777777778,
              "#fb9f3a"
             ],
             [
              0.8888888888888888,
              "#fdca26"
             ],
             [
              1,
              "#f0f921"
             ]
            ],
            "type": "heatmap"
           }
          ],
          "histogram": [
           {
            "marker": {
             "pattern": {
              "fillmode": "overlay",
              "size": 10,
              "solidity": 0.2
             }
            },
            "type": "histogram"
           }
          ],
          "histogram2d": [
           {
            "colorbar": {
             "outlinewidth": 0,
             "ticks": ""
            },
            "colorscale": [
             [
              0,
              "#0d0887"
             ],
             [
              0.1111111111111111,
              "#46039f"
             ],
             [
              0.2222222222222222,
              "#7201a8"
             ],
             [
              0.3333333333333333,
              "#9c179e"
             ],
             [
              0.4444444444444444,
              "#bd3786"
             ],
             [
              0.5555555555555556,
              "#d8576b"
             ],
             [
              0.6666666666666666,
              "#ed7953"
             ],
             [
              0.7777777777777778,
              "#fb9f3a"
             ],
             [
              0.8888888888888888,
              "#fdca26"
             ],
             [
              1,
              "#f0f921"
             ]
            ],
            "type": "histogram2d"
           }
          ],
          "histogram2dcontour": [
           {
            "colorbar": {
             "outlinewidth": 0,
             "ticks": ""
            },
            "colorscale": [
             [
              0,
              "#0d0887"
             ],
             [
              0.1111111111111111,
              "#46039f"
             ],
             [
              0.2222222222222222,
              "#7201a8"
             ],
             [
              0.3333333333333333,
              "#9c179e"
             ],
             [
              0.4444444444444444,
              "#bd3786"
             ],
             [
              0.5555555555555556,
              "#d8576b"
             ],
             [
              0.6666666666666666,
              "#ed7953"
             ],
             [
              0.7777777777777778,
              "#fb9f3a"
             ],
             [
              0.8888888888888888,
              "#fdca26"
             ],
             [
              1,
              "#f0f921"
             ]
            ],
            "type": "histogram2dcontour"
           }
          ],
          "mesh3d": [
           {
            "colorbar": {
             "outlinewidth": 0,
             "ticks": ""
            },
            "type": "mesh3d"
           }
          ],
          "parcoords": [
           {
            "line": {
             "colorbar": {
              "outlinewidth": 0,
              "ticks": ""
             }
            },
            "type": "parcoords"
           }
          ],
          "pie": [
           {
            "automargin": true,
            "type": "pie"
           }
          ],
          "scatter": [
           {
            "fillpattern": {
             "fillmode": "overlay",
             "size": 10,
             "solidity": 0.2
            },
            "type": "scatter"
           }
          ],
          "scatter3d": [
           {
            "line": {
             "colorbar": {
              "outlinewidth": 0,
              "ticks": ""
             }
            },
            "marker": {
             "colorbar": {
              "outlinewidth": 0,
              "ticks": ""
             }
            },
            "type": "scatter3d"
           }
          ],
          "scattercarpet": [
           {
            "marker": {
             "colorbar": {
              "outlinewidth": 0,
              "ticks": ""
             }
            },
            "type": "scattercarpet"
           }
          ],
          "scattergeo": [
           {
            "marker": {
             "colorbar": {
              "outlinewidth": 0,
              "ticks": ""
             }
            },
            "type": "scattergeo"
           }
          ],
          "scattergl": [
           {
            "marker": {
             "colorbar": {
              "outlinewidth": 0,
              "ticks": ""
             }
            },
            "type": "scattergl"
           }
          ],
          "scattermap": [
           {
            "marker": {
             "colorbar": {
              "outlinewidth": 0,
              "ticks": ""
             }
            },
            "type": "scattermap"
           }
          ],
          "scattermapbox": [
           {
            "marker": {
             "colorbar": {
              "outlinewidth": 0,
              "ticks": ""
             }
            },
            "type": "scattermapbox"
           }
          ],
          "scatterpolar": [
           {
            "marker": {
             "colorbar": {
              "outlinewidth": 0,
              "ticks": ""
             }
            },
            "type": "scatterpolar"
           }
          ],
          "scatterpolargl": [
           {
            "marker": {
             "colorbar": {
              "outlinewidth": 0,
              "ticks": ""
             }
            },
            "type": "scatterpolargl"
           }
          ],
          "scatterternary": [
           {
            "marker": {
             "colorbar": {
              "outlinewidth": 0,
              "ticks": ""
             }
            },
            "type": "scatterternary"
           }
          ],
          "surface": [
           {
            "colorbar": {
             "outlinewidth": 0,
             "ticks": ""
            },
            "colorscale": [
             [
              0,
              "#0d0887"
             ],
             [
              0.1111111111111111,
              "#46039f"
             ],
             [
              0.2222222222222222,
              "#7201a8"
             ],
             [
              0.3333333333333333,
              "#9c179e"
             ],
             [
              0.4444444444444444,
              "#bd3786"
             ],
             [
              0.5555555555555556,
              "#d8576b"
             ],
             [
              0.6666666666666666,
              "#ed7953"
             ],
             [
              0.7777777777777778,
              "#fb9f3a"
             ],
             [
              0.8888888888888888,
              "#fdca26"
             ],
             [
              1,
              "#f0f921"
             ]
            ],
            "type": "surface"
           }
          ],
          "table": [
           {
            "cells": {
             "fill": {
              "color": "#EBF0F8"
             },
             "line": {
              "color": "white"
             }
            },
            "header": {
             "fill": {
              "color": "#C8D4E3"
             },
             "line": {
              "color": "white"
             }
            },
            "type": "table"
           }
          ]
         },
         "layout": {
          "annotationdefaults": {
           "arrowcolor": "#2a3f5f",
           "arrowhead": 0,
           "arrowwidth": 1
          },
          "autotypenumbers": "strict",
          "coloraxis": {
           "colorbar": {
            "outlinewidth": 0,
            "ticks": ""
           }
          },
          "colorscale": {
           "diverging": [
            [
             0,
             "#8e0152"
            ],
            [
             0.1,
             "#c51b7d"
            ],
            [
             0.2,
             "#de77ae"
            ],
            [
             0.3,
             "#f1b6da"
            ],
            [
             0.4,
             "#fde0ef"
            ],
            [
             0.5,
             "#f7f7f7"
            ],
            [
             0.6,
             "#e6f5d0"
            ],
            [
             0.7,
             "#b8e186"
            ],
            [
             0.8,
             "#7fbc41"
            ],
            [
             0.9,
             "#4d9221"
            ],
            [
             1,
             "#276419"
            ]
           ],
           "sequential": [
            [
             0,
             "#0d0887"
            ],
            [
             0.1111111111111111,
             "#46039f"
            ],
            [
             0.2222222222222222,
             "#7201a8"
            ],
            [
             0.3333333333333333,
             "#9c179e"
            ],
            [
             0.4444444444444444,
             "#bd3786"
            ],
            [
             0.5555555555555556,
             "#d8576b"
            ],
            [
             0.6666666666666666,
             "#ed7953"
            ],
            [
             0.7777777777777778,
             "#fb9f3a"
            ],
            [
             0.8888888888888888,
             "#fdca26"
            ],
            [
             1,
             "#f0f921"
            ]
           ],
           "sequentialminus": [
            [
             0,
             "#0d0887"
            ],
            [
             0.1111111111111111,
             "#46039f"
            ],
            [
             0.2222222222222222,
             "#7201a8"
            ],
            [
             0.3333333333333333,
             "#9c179e"
            ],
            [
             0.4444444444444444,
             "#bd3786"
            ],
            [
             0.5555555555555556,
             "#d8576b"
            ],
            [
             0.6666666666666666,
             "#ed7953"
            ],
            [
             0.7777777777777778,
             "#fb9f3a"
            ],
            [
             0.8888888888888888,
             "#fdca26"
            ],
            [
             1,
             "#f0f921"
            ]
           ]
          },
          "colorway": [
           "#636efa",
           "#EF553B",
           "#00cc96",
           "#ab63fa",
           "#FFA15A",
           "#19d3f3",
           "#FF6692",
           "#B6E880",
           "#FF97FF",
           "#FECB52"
          ],
          "font": {
           "color": "#2a3f5f"
          },
          "geo": {
           "bgcolor": "white",
           "lakecolor": "white",
           "landcolor": "#E5ECF6",
           "showlakes": true,
           "showland": true,
           "subunitcolor": "white"
          },
          "hoverlabel": {
           "align": "left"
          },
          "hovermode": "closest",
          "mapbox": {
           "style": "light"
          },
          "paper_bgcolor": "white",
          "plot_bgcolor": "#E5ECF6",
          "polar": {
           "angularaxis": {
            "gridcolor": "white",
            "linecolor": "white",
            "ticks": ""
           },
           "bgcolor": "#E5ECF6",
           "radialaxis": {
            "gridcolor": "white",
            "linecolor": "white",
            "ticks": ""
           }
          },
          "scene": {
           "xaxis": {
            "backgroundcolor": "#E5ECF6",
            "gridcolor": "white",
            "gridwidth": 2,
            "linecolor": "white",
            "showbackground": true,
            "ticks": "",
            "zerolinecolor": "white"
           },
           "yaxis": {
            "backgroundcolor": "#E5ECF6",
            "gridcolor": "white",
            "gridwidth": 2,
            "linecolor": "white",
            "showbackground": true,
            "ticks": "",
            "zerolinecolor": "white"
           },
           "zaxis": {
            "backgroundcolor": "#E5ECF6",
            "gridcolor": "white",
            "gridwidth": 2,
            "linecolor": "white",
            "showbackground": true,
            "ticks": "",
            "zerolinecolor": "white"
           }
          },
          "shapedefaults": {
           "line": {
            "color": "#2a3f5f"
           }
          },
          "ternary": {
           "aaxis": {
            "gridcolor": "white",
            "linecolor": "white",
            "ticks": ""
           },
           "baxis": {
            "gridcolor": "white",
            "linecolor": "white",
            "ticks": ""
           },
           "bgcolor": "#E5ECF6",
           "caxis": {
            "gridcolor": "white",
            "linecolor": "white",
            "ticks": ""
           }
          },
          "title": {
           "x": 0.05
          },
          "xaxis": {
           "automargin": true,
           "gridcolor": "white",
           "linecolor": "white",
           "ticks": "",
           "title": {
            "standoff": 15
           },
           "zerolinecolor": "white",
           "zerolinewidth": 2
          },
          "yaxis": {
           "automargin": true,
           "gridcolor": "white",
           "linecolor": "white",
           "ticks": "",
           "title": {
            "standoff": 15
           },
           "zerolinecolor": "white",
           "zerolinewidth": 2
          }
         }
        },
        "title": {
         "text": "Distribution of Original and Discounted Prices per night for Each Snapshot Date"
        },
        "width": 1000,
        "xaxis": {
         "title": {
          "text": "Price per night"
         }
        },
        "yaxis": {
         "title": {
          "text": "Frequency"
         }
        }
       }
      }
     },
     "metadata": {},
     "output_type": "display_data"
    }
   ],
   "source": [
    "bookings['discounted_price_per_night'] = bookings['discounted_price'] / bookings['length_of_stay']\n",
    "bookings['original_price_per_night'] = bookings['original_price'] / bookings['length_of_stay']\n",
    "\n",
    "price_per_night_data = bookings.groupby(['name', 'snapshot_date'], as_index=False)[['original_price_per_night', 'discounted_price_per_night']].first()\n",
    "\n",
    "# Get unique snapshot dates\n",
    "snapshot_dates = price_per_night_data['snapshot_date'].unique()\n",
    "\n",
    "# Create subplots for each snapshot date\n",
    "fig = go.Figure()\n",
    "\n",
    "for date in snapshot_dates:\n",
    "    snapshot_prices = price_per_night_data[price_per_night_data['snapshot_date'] == date]\n",
    "    \n",
    "    fig.add_trace(go.Histogram(\n",
    "        x=snapshot_prices['original_price_per_night'].dropna(),\n",
    "        name=f\"Original Price per night - {date}\",\n",
    "        opacity=0.5\n",
    "    ))\n",
    "    \n",
    "    fig.add_trace(go.Histogram(\n",
    "        x=snapshot_prices['discounted_price_per_night'].dropna(),\n",
    "        name=f\"Discounted Price per night - {date}\",\n",
    "        opacity=0.3\n",
    "    ))\n",
    "\n",
    "# Update layout for better visualization\n",
    "fig.update_layout(\n",
    "    title=\"Distribution of Original and Discounted Prices per night for Each Snapshot Date\",\n",
    "    xaxis_title=\"Price per night\",\n",
    "    yaxis_title=\"Frequency\",\n",
    "    barmode='overlay',  # Ensures histograms overlap for comparison\n",
    "    legend_title=\"Snapshot Date & Price Type\",\n",
    "    width=1000,\n",
    "    height=600\n",
    ")\n",
    "\n",
    "# Show the interactive plot\n",
    "fig.show()"
   ]
  },
  {
   "cell_type": "markdown",
   "metadata": {},
   "source": [
    "The plot above reveals a **wide range** of hotel prices, extending beyond **$3000 per night**, indicating the presence of high-end luxury hotels. However, when focusing on the **main distribution**—excluding extreme outliers—it becomes clear that most hotels are priced **below $500 per night**, with a peak around **$150-$300**. This suggests that while premium listings exist, Booking.com primarily features mid-range accommodations.  "
   ]
  },
  {
   "cell_type": "markdown",
   "metadata": {},
   "source": [
    "### Filter outliers by price per night data"
   ]
  },
  {
   "cell_type": "code",
   "execution_count": 33,
   "metadata": {},
   "outputs": [
    {
     "data": {
      "application/vnd.plotly.v1+json": {
       "config": {
        "plotlyServerURL": "https://plot.ly"
       },
       "data": [
        {
         "alignmentgroup": "True",
         "hovertemplate": "Price Type=original_price_per_night<br>Snapshot Date=%{x}<br>Price per Night=%{y}<extra></extra>",
         "legendgroup": "original_price_per_night",
         "marker": {
          "color": "#636efa"
         },
         "name": "original_price_per_night",
         "notched": false,
         "offsetgroup": "original_price_per_night",
         "orientation": "v",
         "showlegend": true,
         "type": "box",
         "x": [
          "2025-02-02",
          "2025-02-03",
          "2025-02-04",
          "2025-02-02",
          "2025-02-03",
          "2025-02-04",
          "2025-02-02",
          "2025-02-03",
          "2025-02-04",
          "2025-02-02",
          "2025-02-03",
          "2025-02-02",
          "2025-02-04",
          "2025-02-02",
          "2025-02-03",
          "2025-02-02",
          "2025-02-03",
          "2025-02-02",
          "2025-02-03",
          "2025-02-04",
          "2025-02-02",
          "2025-02-03",
          "2025-02-04",
          "2025-02-02",
          "2025-02-03",
          "2025-02-02",
          "2025-02-03",
          "2025-02-04",
          "2025-02-02",
          "2025-02-03",
          "2025-02-04",
          "2025-02-02",
          "2025-02-02",
          "2025-02-03",
          "2025-02-04",
          "2025-02-02",
          "2025-02-03",
          "2025-02-04",
          "2025-02-02",
          "2025-02-03",
          "2025-02-04",
          "2025-02-02",
          "2025-02-03",
          "2025-02-04",
          "2025-02-02",
          "2025-02-03",
          "2025-02-04",
          "2025-02-02",
          "2025-02-03",
          "2025-02-04",
          "2025-02-02",
          "2025-02-03",
          "2025-02-04",
          "2025-02-02",
          "2025-02-03",
          "2025-02-04",
          "2025-02-02",
          "2025-02-03",
          "2025-02-02",
          "2025-02-03",
          "2025-02-04",
          "2025-02-02",
          "2025-02-03",
          "2025-02-04",
          "2025-02-02",
          "2025-02-03",
          "2025-02-04",
          "2025-02-02",
          "2025-02-03",
          "2025-02-04",
          "2025-02-02",
          "2025-02-03",
          "2025-02-04",
          "2025-02-02",
          "2025-02-03",
          "2025-02-04",
          "2025-02-02",
          "2025-02-03",
          "2025-02-04",
          "2025-02-02",
          "2025-02-03",
          "2025-02-04",
          "2025-02-02",
          "2025-02-03",
          "2025-02-02",
          "2025-02-03",
          "2025-02-04",
          "2025-02-02",
          "2025-02-03",
          "2025-02-04",
          "2025-02-02",
          "2025-02-03",
          "2025-02-04",
          "2025-02-02",
          "2025-02-03",
          "2025-02-04",
          "2025-02-04",
          "2025-02-02",
          "2025-02-03",
          "2025-02-04",
          "2025-02-02",
          "2025-02-03",
          "2025-02-04",
          "2025-02-02",
          "2025-02-03",
          "2025-02-04",
          "2025-02-02",
          "2025-02-03",
          "2025-02-04",
          "2025-02-02",
          "2025-02-03",
          "2025-02-04",
          "2025-02-02",
          "2025-02-03",
          "2025-02-04",
          "2025-02-02",
          "2025-02-03",
          "2025-02-04",
          "2025-02-04",
          "2025-02-03",
          "2025-02-02",
          "2025-02-03",
          "2025-02-04",
          "2025-02-03",
          "2025-02-04",
          "2025-02-02",
          "2025-02-03",
          "2025-02-04",
          "2025-02-02",
          "2025-02-03",
          "2025-02-04",
          "2025-02-02",
          "2025-02-03",
          "2025-02-04",
          "2025-02-02",
          "2025-02-03",
          "2025-02-04",
          "2025-02-03",
          "2025-02-02",
          "2025-02-03",
          "2025-02-04",
          "2025-02-02",
          "2025-02-03",
          "2025-02-04",
          "2025-02-02",
          "2025-02-02",
          "2025-02-03",
          "2025-02-04",
          "2025-02-02",
          "2025-02-02",
          "2025-02-03",
          "2025-02-04",
          "2025-02-02",
          "2025-02-03",
          "2025-02-04",
          "2025-02-02",
          "2025-02-03",
          "2025-02-04",
          "2025-02-02",
          "2025-02-03",
          "2025-02-04",
          "2025-02-02",
          "2025-02-03",
          "2025-02-04",
          "2025-02-02",
          "2025-02-03",
          "2025-02-04",
          "2025-02-02",
          "2025-02-03",
          "2025-02-04",
          "2025-02-02",
          "2025-02-03",
          "2025-02-04",
          "2025-02-02",
          "2025-02-04",
          "2025-02-02",
          "2025-02-03",
          "2025-02-04",
          "2025-02-02",
          "2025-02-03",
          "2025-02-04",
          "2025-02-02",
          "2025-02-03",
          "2025-02-04",
          "2025-02-02",
          "2025-02-03",
          "2025-02-04",
          "2025-02-02",
          "2025-02-03",
          "2025-02-02",
          "2025-02-03",
          "2025-02-04",
          "2025-02-02",
          "2025-02-03",
          "2025-02-04",
          "2025-02-02",
          "2025-02-03",
          "2025-02-04",
          "2025-02-02",
          "2025-02-03",
          "2025-02-04",
          "2025-02-02",
          "2025-02-03",
          "2025-02-04",
          "2025-02-02",
          "2025-02-03",
          "2025-02-04",
          "2025-02-02",
          "2025-02-03",
          "2025-02-04",
          "2025-02-02",
          "2025-02-03",
          "2025-02-04",
          "2025-02-02",
          "2025-02-03",
          "2025-02-04",
          "2025-02-02",
          "2025-02-03",
          "2025-02-04",
          "2025-02-02",
          "2025-02-03",
          "2025-02-04",
          "2025-02-02",
          "2025-02-03",
          "2025-02-04",
          "2025-02-02",
          "2025-02-03",
          "2025-02-02",
          "2025-02-03",
          "2025-02-04",
          "2025-02-02",
          "2025-02-03",
          "2025-02-04",
          "2025-02-02",
          "2025-02-03",
          "2025-02-04",
          "2025-02-02",
          "2025-02-03",
          "2025-02-04",
          "2025-02-02",
          "2025-02-03",
          "2025-02-02",
          "2025-02-03",
          "2025-02-04",
          "2025-02-03",
          "2025-02-04",
          "2025-02-02",
          "2025-02-03",
          "2025-02-04",
          "2025-02-02",
          "2025-02-03",
          "2025-02-04",
          "2025-02-02",
          "2025-02-03",
          "2025-02-04",
          "2025-02-02",
          "2025-02-03",
          "2025-02-04",
          "2025-02-02",
          "2025-02-03",
          "2025-02-04",
          "2025-02-02",
          "2025-02-03",
          "2025-02-04",
          "2025-02-02",
          "2025-02-04",
          "2025-02-02",
          "2025-02-03",
          "2025-02-04",
          "2025-02-02",
          "2025-02-03",
          "2025-02-04",
          "2025-02-02",
          "2025-02-03",
          "2025-02-04",
          "2025-02-04",
          "2025-02-02",
          "2025-02-03",
          "2025-02-04",
          "2025-02-02",
          "2025-02-03",
          "2025-02-04",
          "2025-02-02",
          "2025-02-03",
          "2025-02-04",
          "2025-02-02",
          "2025-02-03",
          "2025-02-04",
          "2025-02-02",
          "2025-02-03",
          "2025-02-04",
          "2025-02-02",
          "2025-02-03",
          "2025-02-04",
          "2025-02-02",
          "2025-02-03",
          "2025-02-04",
          "2025-02-02",
          "2025-02-03",
          "2025-02-02",
          "2025-02-04",
          "2025-02-02",
          "2025-02-03",
          "2025-02-04",
          "2025-02-02",
          "2025-02-03",
          "2025-02-04",
          "2025-02-02",
          "2025-02-03",
          "2025-02-02",
          "2025-02-03",
          "2025-02-04",
          "2025-02-02",
          "2025-02-03",
          "2025-02-04",
          "2025-02-02",
          "2025-02-03",
          "2025-02-04",
          "2025-02-02",
          "2025-02-03",
          "2025-02-04",
          "2025-02-02",
          "2025-02-03",
          "2025-02-04",
          "2025-02-02",
          "2025-02-03",
          "2025-02-04",
          "2025-02-02",
          "2025-02-03",
          "2025-02-04",
          "2025-02-02",
          "2025-02-03",
          "2025-02-04",
          "2025-02-02",
          "2025-02-03",
          "2025-02-04",
          "2025-02-02",
          "2025-02-02",
          "2025-02-03",
          "2025-02-02",
          "2025-02-03",
          "2025-02-04",
          "2025-02-02",
          "2025-02-03",
          "2025-02-04",
          "2025-02-02",
          "2025-02-03",
          "2025-02-04",
          "2025-02-02",
          "2025-02-03",
          "2025-02-04",
          "2025-02-02",
          "2025-02-03",
          "2025-02-04",
          "2025-02-02",
          "2025-02-03",
          "2025-02-04",
          "2025-02-02",
          "2025-02-03",
          "2025-02-04",
          "2025-02-02",
          "2025-02-03",
          "2025-02-04",
          "2025-02-02",
          "2025-02-03",
          "2025-02-04",
          "2025-02-02",
          "2025-02-03",
          "2025-02-04",
          "2025-02-02",
          "2025-02-03",
          "2025-02-04",
          "2025-02-02",
          "2025-02-03",
          "2025-02-04",
          "2025-02-02",
          "2025-02-03",
          "2025-02-04",
          "2025-02-02",
          "2025-02-03",
          "2025-02-04",
          "2025-02-02",
          "2025-02-03",
          "2025-02-04",
          "2025-02-02",
          "2025-02-03",
          "2025-02-04",
          "2025-02-02",
          "2025-02-04",
          "2025-02-02",
          "2025-02-03",
          "2025-02-04",
          "2025-02-02",
          "2025-02-03",
          "2025-02-04",
          "2025-02-02",
          "2025-02-03",
          "2025-02-04",
          "2025-02-02",
          "2025-02-03",
          "2025-02-04",
          "2025-02-02",
          "2025-02-03",
          "2025-02-04",
          "2025-02-02",
          "2025-02-03",
          "2025-02-04",
          "2025-02-02",
          "2025-02-04",
          "2025-02-02",
          "2025-02-03",
          "2025-02-04",
          "2025-02-02",
          "2025-02-03",
          "2025-02-04",
          "2025-02-02",
          "2025-02-03",
          "2025-02-04",
          "2025-02-02",
          "2025-02-03",
          "2025-02-04",
          "2025-02-02",
          "2025-02-02",
          "2025-02-02",
          "2025-02-03",
          "2025-02-04",
          "2025-02-02",
          "2025-02-03",
          "2025-02-04",
          "2025-02-02",
          "2025-02-03",
          "2025-02-04",
          "2025-02-03",
          "2025-02-04",
          "2025-02-02",
          "2025-02-03",
          "2025-02-04",
          "2025-02-02",
          "2025-02-03",
          "2025-02-04",
          "2025-02-02",
          "2025-02-03",
          "2025-02-04",
          "2025-02-02",
          "2025-02-03",
          "2025-02-04",
          "2025-02-02",
          "2025-02-03",
          "2025-02-04",
          "2025-02-02",
          "2025-02-03",
          "2025-02-04",
          "2025-02-02",
          "2025-02-03",
          "2025-02-04",
          "2025-02-02",
          "2025-02-03",
          "2025-02-02",
          "2025-02-03",
          "2025-02-04",
          "2025-02-04",
          "2025-02-02",
          "2025-02-03",
          "2025-02-04",
          "2025-02-02",
          "2025-02-03",
          "2025-02-04",
          "2025-02-02",
          "2025-02-03",
          "2025-02-04",
          "2025-02-02",
          "2025-02-03",
          "2025-02-04",
          "2025-02-02",
          "2025-02-02",
          "2025-02-03",
          "2025-02-04",
          "2025-02-02",
          "2025-02-03",
          "2025-02-04",
          "2025-02-02",
          "2025-02-03",
          "2025-02-04",
          "2025-02-02",
          "2025-02-03",
          "2025-02-04",
          "2025-02-02",
          "2025-02-03",
          "2025-02-04",
          "2025-02-02",
          "2025-02-02",
          "2025-02-03",
          "2025-02-04",
          "2025-02-02",
          "2025-02-03",
          "2025-02-04",
          "2025-02-02",
          "2025-02-03",
          "2025-02-04",
          "2025-02-02",
          "2025-02-03",
          "2025-02-04",
          "2025-02-02",
          "2025-02-03",
          "2025-02-04",
          "2025-02-02",
          "2025-02-03",
          "2025-02-04",
          "2025-02-04",
          "2025-02-02",
          "2025-02-03",
          "2025-02-04",
          "2025-02-02",
          "2025-02-03",
          "2025-02-04",
          "2025-02-02",
          "2025-02-03",
          "2025-02-04",
          "2025-02-02",
          "2025-02-03",
          "2025-02-04",
          "2025-02-02",
          "2025-02-03",
          "2025-02-04",
          "2025-02-02",
          "2025-02-03",
          "2025-02-04",
          "2025-02-02",
          "2025-02-03",
          "2025-02-04",
          "2025-02-02",
          "2025-02-03",
          "2025-02-04",
          "2025-02-02",
          "2025-02-02",
          "2025-02-03",
          "2025-02-04",
          "2025-02-02",
          "2025-02-03",
          "2025-02-04",
          "2025-02-03",
          "2025-02-02",
          "2025-02-03",
          "2025-02-04",
          "2025-02-02",
          "2025-02-03",
          "2025-02-04",
          "2025-02-02",
          "2025-02-03",
          "2025-02-04",
          "2025-02-02",
          "2025-02-03",
          "2025-02-04",
          "2025-02-02",
          "2025-02-03",
          "2025-02-04",
          "2025-02-02",
          "2025-02-03",
          "2025-02-04",
          "2025-02-04",
          "2025-02-02",
          "2025-02-03",
          "2025-02-04",
          "2025-02-02",
          "2025-02-03",
          "2025-02-04",
          "2025-02-02",
          "2025-02-03",
          "2025-02-04",
          "2025-02-02",
          "2025-02-03",
          "2025-02-04",
          "2025-02-02",
          "2025-02-03",
          "2025-02-04",
          "2025-02-02",
          "2025-02-03",
          "2025-02-04",
          "2025-02-04",
          "2025-02-03",
          "2025-02-02",
          "2025-02-03",
          "2025-02-04",
          "2025-02-02",
          "2025-02-03",
          "2025-02-04",
          "2025-02-02",
          "2025-02-03",
          "2025-02-04",
          "2025-02-03",
          "2025-02-02",
          "2025-02-03",
          "2025-02-04",
          "2025-02-02",
          "2025-02-04",
          "2025-02-02",
          "2025-02-04",
          "2025-02-02",
          "2025-02-03",
          "2025-02-04",
          "2025-02-02",
          "2025-02-03",
          "2025-02-04",
          "2025-02-02",
          "2025-02-03",
          "2025-02-04",
          "2025-02-02",
          "2025-02-03",
          "2025-02-04",
          "2025-02-02",
          "2025-02-03",
          "2025-02-04",
          "2025-02-02",
          "2025-02-03",
          "2025-02-04",
          "2025-02-02",
          "2025-02-03",
          "2025-02-04",
          "2025-02-02",
          "2025-02-03",
          "2025-02-04",
          "2025-02-02",
          "2025-02-03",
          "2025-02-04",
          "2025-02-02",
          "2025-02-03",
          "2025-02-04",
          "2025-02-02",
          "2025-02-03",
          "2025-02-04",
          "2025-02-02",
          "2025-02-03",
          "2025-02-04",
          "2025-02-02",
          "2025-02-03",
          "2025-02-04",
          "2025-02-02",
          "2025-02-03",
          "2025-02-04",
          "2025-02-02",
          "2025-02-03",
          "2025-02-04",
          "2025-02-02",
          "2025-02-03",
          "2025-02-04",
          "2025-02-02",
          "2025-02-03",
          "2025-02-04",
          "2025-02-02",
          "2025-02-04",
          "2025-02-02",
          "2025-02-03",
          "2025-02-04",
          "2025-02-02",
          "2025-02-04",
          "2025-02-02",
          "2025-02-03",
          "2025-02-04",
          "2025-02-04",
          "2025-02-03",
          "2025-02-02",
          "2025-02-03",
          "2025-02-04",
          "2025-02-02",
          "2025-02-03",
          "2025-02-04",
          "2025-02-02",
          "2025-02-03",
          "2025-02-04",
          "2025-02-02",
          "2025-02-03",
          "2025-02-04",
          "2025-02-04",
          "2025-02-02",
          "2025-02-03",
          "2025-02-04",
          "2025-02-02",
          "2025-02-04",
          "2025-02-03",
          "2025-02-04",
          "2025-02-02",
          "2025-02-03",
          "2025-02-04",
          "2025-02-02",
          "2025-02-03",
          "2025-02-04",
          "2025-02-02",
          "2025-02-03",
          "2025-02-04",
          "2025-02-02",
          "2025-02-03",
          "2025-02-04",
          "2025-02-02",
          "2025-02-03",
          "2025-02-04",
          "2025-02-02",
          "2025-02-03",
          "2025-02-04",
          "2025-02-02",
          "2025-02-03",
          "2025-02-02",
          "2025-02-03",
          "2025-02-04",
          "2025-02-02",
          "2025-02-03",
          "2025-02-04",
          "2025-02-02",
          "2025-02-03",
          "2025-02-04",
          "2025-02-02",
          "2025-02-02",
          "2025-02-03",
          "2025-02-04",
          "2025-02-02",
          "2025-02-03",
          "2025-02-04",
          "2025-02-04",
          "2025-02-02",
          "2025-02-03",
          "2025-02-04",
          "2025-02-02",
          "2025-02-03",
          "2025-02-04",
          "2025-02-02",
          "2025-02-03",
          "2025-02-04",
          "2025-02-02",
          "2025-02-03",
          "2025-02-04",
          "2025-02-02",
          "2025-02-03",
          "2025-02-04",
          "2025-02-02",
          "2025-02-03",
          "2025-02-04",
          "2025-02-02",
          "2025-02-03",
          "2025-02-04",
          "2025-02-02",
          "2025-02-04",
          "2025-02-02",
          "2025-02-03",
          "2025-02-04",
          "2025-02-02",
          "2025-02-03",
          "2025-02-04",
          "2025-02-02",
          "2025-02-03",
          "2025-02-04",
          "2025-02-02",
          "2025-02-03",
          "2025-02-04",
          "2025-02-02",
          "2025-02-03",
          "2025-02-04",
          "2025-02-02",
          "2025-02-03",
          "2025-02-04",
          "2025-02-02",
          "2025-02-03",
          "2025-02-04",
          "2025-02-02",
          "2025-02-02",
          "2025-02-04",
          "2025-02-02",
          "2025-02-03",
          "2025-02-04",
          "2025-02-02",
          "2025-02-03",
          "2025-02-04",
          "2025-02-02",
          "2025-02-03",
          "2025-02-04",
          "2025-02-02",
          "2025-02-03",
          "2025-02-04",
          "2025-02-02",
          "2025-02-03",
          "2025-02-04",
          "2025-02-02",
          "2025-02-03",
          "2025-02-04",
          "2025-02-02",
          "2025-02-03",
          "2025-02-04",
          "2025-02-02",
          "2025-02-03",
          "2025-02-04",
          "2025-02-02",
          "2025-02-03",
          "2025-02-04",
          "2025-02-02",
          "2025-02-03",
          "2025-02-04",
          "2025-02-02",
          "2025-02-03",
          "2025-02-04",
          "2025-02-02",
          "2025-02-03",
          "2025-02-04",
          "2025-02-02",
          "2025-02-03",
          "2025-02-04",
          "2025-02-02",
          "2025-02-03",
          "2025-02-04",
          "2025-02-04",
          "2025-02-02",
          "2025-02-03",
          "2025-02-04",
          "2025-02-02",
          "2025-02-03",
          "2025-02-04",
          "2025-02-02",
          "2025-02-03",
          "2025-02-02",
          "2025-02-03",
          "2025-02-04",
          "2025-02-02",
          "2025-02-03",
          "2025-02-04",
          "2025-02-02",
          "2025-02-03",
          "2025-02-04",
          "2025-02-02",
          "2025-02-03",
          "2025-02-04",
          "2025-02-02",
          "2025-02-03",
          "2025-02-04",
          "2025-02-02",
          "2025-02-03",
          "2025-02-04",
          "2025-02-03",
          "2025-02-04",
          "2025-02-02",
          "2025-02-03",
          "2025-02-03",
          "2025-02-04",
          "2025-02-02",
          "2025-02-02",
          "2025-02-03",
          "2025-02-04",
          "2025-02-02",
          "2025-02-03",
          "2025-02-04",
          "2025-02-02",
          "2025-02-03",
          "2025-02-04",
          "2025-02-02",
          "2025-02-03",
          "2025-02-04",
          "2025-02-04",
          "2025-02-02",
          "2025-02-03",
          "2025-02-04",
          "2025-02-02",
          "2025-02-03",
          "2025-02-04",
          "2025-02-02",
          "2025-02-03",
          "2025-02-04",
          "2025-02-02",
          "2025-02-03",
          "2025-02-04",
          "2025-02-02",
          "2025-02-04",
          "2025-02-02",
          "2025-02-03",
          "2025-02-04",
          "2025-02-04",
          "2025-02-02",
          "2025-02-03",
          "2025-02-04",
          "2025-02-02",
          "2025-02-03",
          "2025-02-04",
          "2025-02-02",
          "2025-02-03",
          "2025-02-04",
          "2025-02-02",
          "2025-02-03",
          "2025-02-04",
          "2025-02-02",
          "2025-02-03",
          "2025-02-04",
          "2025-02-02",
          "2025-02-03",
          "2025-02-04",
          "2025-02-02",
          "2025-02-03",
          "2025-02-04",
          "2025-02-02",
          "2025-02-03",
          "2025-02-04",
          "2025-02-02",
          "2025-02-03",
          "2025-02-04",
          "2025-02-02",
          "2025-02-03",
          "2025-02-04",
          "2025-02-02",
          "2025-02-03",
          "2025-02-04",
          "2025-02-02",
          "2025-02-03",
          "2025-02-04",
          "2025-02-02",
          "2025-02-03",
          "2025-02-04",
          "2025-02-02",
          "2025-02-03",
          "2025-02-04",
          "2025-02-02",
          "2025-02-03",
          "2025-02-04",
          "2025-02-02",
          "2025-02-02",
          "2025-02-03",
          "2025-02-04",
          "2025-02-02",
          "2025-02-03",
          "2025-02-04",
          "2025-02-02",
          "2025-02-03",
          "2025-02-04",
          "2025-02-03",
          "2025-02-04",
          "2025-02-02",
          "2025-02-03",
          "2025-02-04",
          "2025-02-02",
          "2025-02-03",
          "2025-02-04",
          "2025-02-02",
          "2025-02-03",
          "2025-02-04",
          "2025-02-02",
          "2025-02-03",
          "2025-02-04",
          "2025-02-02",
          "2025-02-03",
          "2025-02-04",
          "2025-02-03",
          "2025-02-04",
          "2025-02-02",
          "2025-02-03",
          "2025-02-04",
          "2025-02-02",
          "2025-02-03",
          "2025-02-04",
          "2025-02-02",
          "2025-02-03",
          "2025-02-04",
          "2025-02-02",
          "2025-02-03",
          "2025-02-04",
          "2025-02-02",
          "2025-02-03",
          "2025-02-04",
          "2025-02-02",
          "2025-02-03",
          "2025-02-04",
          "2025-02-02",
          "2025-02-03",
          "2025-02-04",
          "2025-02-02",
          "2025-02-03",
          "2025-02-04",
          "2025-02-02",
          "2025-02-03",
          "2025-02-04",
          "2025-02-02",
          "2025-02-03",
          "2025-02-04",
          "2025-02-03",
          "2025-02-04",
          "2025-02-04",
          "2025-02-02",
          "2025-02-03",
          "2025-02-04",
          "2025-02-02",
          "2025-02-03",
          "2025-02-04",
          "2025-02-03",
          "2025-02-02",
          "2025-02-03",
          "2025-02-04",
          "2025-02-02",
          "2025-02-03",
          "2025-02-04",
          "2025-02-03",
          "2025-02-02",
          "2025-02-03",
          "2025-02-04",
          "2025-02-02",
          "2025-02-03",
          "2025-02-04",
          "2025-02-02",
          "2025-02-03",
          "2025-02-04",
          "2025-02-02",
          "2025-02-03",
          "2025-02-04",
          "2025-02-02",
          "2025-02-04",
          "2025-02-02",
          "2025-02-03",
          "2025-02-04",
          "2025-02-02",
          "2025-02-04",
          "2025-02-02",
          "2025-02-04",
          "2025-02-02",
          "2025-02-03",
          "2025-02-04",
          "2025-02-02",
          "2025-02-03",
          "2025-02-04",
          "2025-02-02",
          "2025-02-02",
          "2025-02-03",
          "2025-02-04",
          "2025-02-02",
          "2025-02-03",
          "2025-02-04",
          "2025-02-02",
          "2025-02-03",
          "2025-02-04",
          "2025-02-02",
          "2025-02-03",
          "2025-02-04",
          "2025-02-03",
          "2025-02-04",
          "2025-02-02",
          "2025-02-03",
          "2025-02-04",
          "2025-02-02",
          "2025-02-03",
          "2025-02-04",
          "2025-02-02",
          "2025-02-03",
          "2025-02-04",
          "2025-02-02",
          "2025-02-03",
          "2025-02-04",
          "2025-02-02",
          "2025-02-03",
          "2025-02-04",
          "2025-02-02",
          "2025-02-03",
          "2025-02-04",
          "2025-02-02",
          "2025-02-03",
          "2025-02-04",
          "2025-02-02",
          "2025-02-03",
          "2025-02-04",
          "2025-02-02",
          "2025-02-03",
          "2025-02-04",
          "2025-02-02",
          "2025-02-02",
          "2025-02-03",
          "2025-02-04",
          "2025-02-02",
          "2025-02-03",
          "2025-02-04",
          "2025-02-02",
          "2025-02-03",
          "2025-02-02",
          "2025-02-03",
          "2025-02-04"
         ],
         "x0": " ",
         "xaxis": "x",
         "y": {
          "bdata": "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",
          "dtype": "f8"
         },
         "y0": " ",
         "yaxis": "y"
        },
        {
         "alignmentgroup": "True",
         "hovertemplate": "Price Type=discounted_price_per_night<br>Snapshot Date=%{x}<br>Price per Night=%{y}<extra></extra>",
         "legendgroup": "discounted_price_per_night",
         "marker": {
          "color": "#EF553B"
         },
         "name": "discounted_price_per_night",
         "notched": false,
         "offsetgroup": "discounted_price_per_night",
         "orientation": "v",
         "showlegend": true,
         "type": "box",
         "x": [
          "2025-02-02",
          "2025-02-03",
          "2025-02-04",
          "2025-02-02",
          "2025-02-03",
          "2025-02-04",
          "2025-02-02",
          "2025-02-03",
          "2025-02-04",
          "2025-02-02",
          "2025-02-03",
          "2025-02-02",
          "2025-02-04",
          "2025-02-02",
          "2025-02-03",
          "2025-02-02",
          "2025-02-03",
          "2025-02-02",
          "2025-02-03",
          "2025-02-04",
          "2025-02-02",
          "2025-02-03",
          "2025-02-04",
          "2025-02-02",
          "2025-02-03",
          "2025-02-02",
          "2025-02-03",
          "2025-02-04",
          "2025-02-02",
          "2025-02-03",
          "2025-02-04",
          "2025-02-02",
          "2025-02-02",
          "2025-02-03",
          "2025-02-04",
          "2025-02-02",
          "2025-02-03",
          "2025-02-04",
          "2025-02-02",
          "2025-02-03",
          "2025-02-04",
          "2025-02-02",
          "2025-02-03",
          "2025-02-04",
          "2025-02-02",
          "2025-02-03",
          "2025-02-04",
          "2025-02-02",
          "2025-02-03",
          "2025-02-04",
          "2025-02-02",
          "2025-02-03",
          "2025-02-04",
          "2025-02-02",
          "2025-02-03",
          "2025-02-04",
          "2025-02-02",
          "2025-02-03",
          "2025-02-02",
          "2025-02-03",
          "2025-02-04",
          "2025-02-02",
          "2025-02-03",
          "2025-02-04",
          "2025-02-02",
          "2025-02-03",
          "2025-02-04",
          "2025-02-02",
          "2025-02-03",
          "2025-02-04",
          "2025-02-02",
          "2025-02-03",
          "2025-02-04",
          "2025-02-02",
          "2025-02-03",
          "2025-02-04",
          "2025-02-02",
          "2025-02-03",
          "2025-02-04",
          "2025-02-02",
          "2025-02-03",
          "2025-02-04",
          "2025-02-02",
          "2025-02-03",
          "2025-02-02",
          "2025-02-03",
          "2025-02-04",
          "2025-02-02",
          "2025-02-03",
          "2025-02-04",
          "2025-02-02",
          "2025-02-03",
          "2025-02-04",
          "2025-02-02",
          "2025-02-03",
          "2025-02-04",
          "2025-02-04",
          "2025-02-02",
          "2025-02-03",
          "2025-02-04",
          "2025-02-02",
          "2025-02-03",
          "2025-02-04",
          "2025-02-02",
          "2025-02-03",
          "2025-02-04",
          "2025-02-02",
          "2025-02-03",
          "2025-02-04",
          "2025-02-02",
          "2025-02-03",
          "2025-02-04",
          "2025-02-02",
          "2025-02-03",
          "2025-02-04",
          "2025-02-02",
          "2025-02-03",
          "2025-02-04",
          "2025-02-04",
          "2025-02-03",
          "2025-02-02",
          "2025-02-03",
          "2025-02-04",
          "2025-02-03",
          "2025-02-04",
          "2025-02-02",
          "2025-02-03",
          "2025-02-04",
          "2025-02-02",
          "2025-02-03",
          "2025-02-04",
          "2025-02-02",
          "2025-02-03",
          "2025-02-04",
          "2025-02-02",
          "2025-02-03",
          "2025-02-04",
          "2025-02-03",
          "2025-02-02",
          "2025-02-03",
          "2025-02-04",
          "2025-02-02",
          "2025-02-03",
          "2025-02-04",
          "2025-02-02",
          "2025-02-02",
          "2025-02-03",
          "2025-02-04",
          "2025-02-02",
          "2025-02-02",
          "2025-02-03",
          "2025-02-04",
          "2025-02-02",
          "2025-02-03",
          "2025-02-04",
          "2025-02-02",
          "2025-02-03",
          "2025-02-04",
          "2025-02-02",
          "2025-02-03",
          "2025-02-04",
          "2025-02-02",
          "2025-02-03",
          "2025-02-04",
          "2025-02-02",
          "2025-02-03",
          "2025-02-04",
          "2025-02-02",
          "2025-02-03",
          "2025-02-04",
          "2025-02-02",
          "2025-02-03",
          "2025-02-04",
          "2025-02-02",
          "2025-02-04",
          "2025-02-02",
          "2025-02-03",
          "2025-02-04",
          "2025-02-02",
          "2025-02-03",
          "2025-02-04",
          "2025-02-02",
          "2025-02-03",
          "2025-02-04",
          "2025-02-02",
          "2025-02-03",
          "2025-02-04",
          "2025-02-02",
          "2025-02-03",
          "2025-02-02",
          "2025-02-03",
          "2025-02-04",
          "2025-02-02",
          "2025-02-03",
          "2025-02-04",
          "2025-02-02",
          "2025-02-03",
          "2025-02-04",
          "2025-02-02",
          "2025-02-03",
          "2025-02-04",
          "2025-02-02",
          "2025-02-03",
          "2025-02-04",
          "2025-02-02",
          "2025-02-03",
          "2025-02-04",
          "2025-02-02",
          "2025-02-03",
          "2025-02-04",
          "2025-02-02",
          "2025-02-03",
          "2025-02-04",
          "2025-02-02",
          "2025-02-03",
          "2025-02-04",
          "2025-02-02",
          "2025-02-03",
          "2025-02-04",
          "2025-02-02",
          "2025-02-03",
          "2025-02-04",
          "2025-02-02",
          "2025-02-03",
          "2025-02-04",
          "2025-02-02",
          "2025-02-03",
          "2025-02-02",
          "2025-02-03",
          "2025-02-04",
          "2025-02-02",
          "2025-02-03",
          "2025-02-04",
          "2025-02-02",
          "2025-02-03",
          "2025-02-04",
          "2025-02-02",
          "2025-02-03",
          "2025-02-04",
          "2025-02-02",
          "2025-02-03",
          "2025-02-02",
          "2025-02-03",
          "2025-02-04",
          "2025-02-03",
          "2025-02-04",
          "2025-02-02",
          "2025-02-03",
          "2025-02-04",
          "2025-02-02",
          "2025-02-03",
          "2025-02-04",
          "2025-02-02",
          "2025-02-03",
          "2025-02-04",
          "2025-02-02",
          "2025-02-03",
          "2025-02-04",
          "2025-02-02",
          "2025-02-03",
          "2025-02-04",
          "2025-02-02",
          "2025-02-03",
          "2025-02-04",
          "2025-02-02",
          "2025-02-04",
          "2025-02-02",
          "2025-02-03",
          "2025-02-04",
          "2025-02-02",
          "2025-02-03",
          "2025-02-04",
          "2025-02-02",
          "2025-02-03",
          "2025-02-04",
          "2025-02-04",
          "2025-02-02",
          "2025-02-03",
          "2025-02-04",
          "2025-02-02",
          "2025-02-03",
          "2025-02-04",
          "2025-02-02",
          "2025-02-03",
          "2025-02-04",
          "2025-02-02",
          "2025-02-03",
          "2025-02-04",
          "2025-02-02",
          "2025-02-03",
          "2025-02-04",
          "2025-02-02",
          "2025-02-03",
          "2025-02-04",
          "2025-02-02",
          "2025-02-03",
          "2025-02-04",
          "2025-02-02",
          "2025-02-03",
          "2025-02-02",
          "2025-02-04",
          "2025-02-02",
          "2025-02-03",
          "2025-02-04",
          "2025-02-02",
          "2025-02-03",
          "2025-02-04",
          "2025-02-02",
          "2025-02-03",
          "2025-02-02",
          "2025-02-03",
          "2025-02-04",
          "2025-02-02",
          "2025-02-03",
          "2025-02-04",
          "2025-02-02",
          "2025-02-03",
          "2025-02-04",
          "2025-02-02",
          "2025-02-03",
          "2025-02-04",
          "2025-02-02",
          "2025-02-03",
          "2025-02-04",
          "2025-02-02",
          "2025-02-03",
          "2025-02-04",
          "2025-02-02",
          "2025-02-03",
          "2025-02-04",
          "2025-02-02",
          "2025-02-03",
          "2025-02-04",
          "2025-02-02",
          "2025-02-03",
          "2025-02-04",
          "2025-02-02",
          "2025-02-02",
          "2025-02-03",
          "2025-02-02",
          "2025-02-03",
          "2025-02-04",
          "2025-02-02",
          "2025-02-03",
          "2025-02-04",
          "2025-02-02",
          "2025-02-03",
          "2025-02-04",
          "2025-02-02",
          "2025-02-03",
          "2025-02-04",
          "2025-02-02",
          "2025-02-03",
          "2025-02-04",
          "2025-02-02",
          "2025-02-03",
          "2025-02-04",
          "2025-02-02",
          "2025-02-03",
          "2025-02-04",
          "2025-02-02",
          "2025-02-03",
          "2025-02-04",
          "2025-02-02",
          "2025-02-03",
          "2025-02-04",
          "2025-02-02",
          "2025-02-03",
          "2025-02-04",
          "2025-02-02",
          "2025-02-03",
          "2025-02-04",
          "2025-02-02",
          "2025-02-03",
          "2025-02-04",
          "2025-02-02",
          "2025-02-03",
          "2025-02-04",
          "2025-02-02",
          "2025-02-03",
          "2025-02-04",
          "2025-02-02",
          "2025-02-03",
          "2025-02-04",
          "2025-02-02",
          "2025-02-03",
          "2025-02-04",
          "2025-02-02",
          "2025-02-04",
          "2025-02-02",
          "2025-02-03",
          "2025-02-04",
          "2025-02-02",
          "2025-02-03",
          "2025-02-04",
          "2025-02-02",
          "2025-02-03",
          "2025-02-04",
          "2025-02-02",
          "2025-02-03",
          "2025-02-04",
          "2025-02-02",
          "2025-02-03",
          "2025-02-04",
          "2025-02-02",
          "2025-02-03",
          "2025-02-04",
          "2025-02-02",
          "2025-02-04",
          "2025-02-02",
          "2025-02-03",
          "2025-02-04",
          "2025-02-02",
          "2025-02-03",
          "2025-02-04",
          "2025-02-02",
          "2025-02-03",
          "2025-02-04",
          "2025-02-02",
          "2025-02-03",
          "2025-02-04",
          "2025-02-02",
          "2025-02-02",
          "2025-02-02",
          "2025-02-03",
          "2025-02-04",
          "2025-02-02",
          "2025-02-03",
          "2025-02-04",
          "2025-02-02",
          "2025-02-03",
          "2025-02-04",
          "2025-02-03",
          "2025-02-04",
          "2025-02-02",
          "2025-02-03",
          "2025-02-04",
          "2025-02-02",
          "2025-02-03",
          "2025-02-04",
          "2025-02-02",
          "2025-02-03",
          "2025-02-04",
          "2025-02-02",
          "2025-02-03",
          "2025-02-04",
          "2025-02-02",
          "2025-02-03",
          "2025-02-04",
          "2025-02-02",
          "2025-02-03",
          "2025-02-04",
          "2025-02-02",
          "2025-02-03",
          "2025-02-04",
          "2025-02-02",
          "2025-02-03",
          "2025-02-02",
          "2025-02-03",
          "2025-02-04",
          "2025-02-04",
          "2025-02-02",
          "2025-02-03",
          "2025-02-04",
          "2025-02-02",
          "2025-02-03",
          "2025-02-04",
          "2025-02-02",
          "2025-02-03",
          "2025-02-04",
          "2025-02-02",
          "2025-02-03",
          "2025-02-04",
          "2025-02-02",
          "2025-02-02",
          "2025-02-03",
          "2025-02-04",
          "2025-02-02",
          "2025-02-03",
          "2025-02-04",
          "2025-02-02",
          "2025-02-03",
          "2025-02-04",
          "2025-02-02",
          "2025-02-03",
          "2025-02-04",
          "2025-02-02",
          "2025-02-03",
          "2025-02-04",
          "2025-02-02",
          "2025-02-02",
          "2025-02-03",
          "2025-02-04",
          "2025-02-02",
          "2025-02-03",
          "2025-02-04",
          "2025-02-02",
          "2025-02-03",
          "2025-02-04",
          "2025-02-02",
          "2025-02-03",
          "2025-02-04",
          "2025-02-02",
          "2025-02-03",
          "2025-02-04",
          "2025-02-02",
          "2025-02-03",
          "2025-02-04",
          "2025-02-04",
          "2025-02-02",
          "2025-02-03",
          "2025-02-04",
          "2025-02-02",
          "2025-02-03",
          "2025-02-04",
          "2025-02-02",
          "2025-02-03",
          "2025-02-04",
          "2025-02-02",
          "2025-02-03",
          "2025-02-04",
          "2025-02-02",
          "2025-02-03",
          "2025-02-04",
          "2025-02-02",
          "2025-02-03",
          "2025-02-04",
          "2025-02-02",
          "2025-02-03",
          "2025-02-04",
          "2025-02-02",
          "2025-02-03",
          "2025-02-04",
          "2025-02-02",
          "2025-02-02",
          "2025-02-03",
          "2025-02-04",
          "2025-02-02",
          "2025-02-03",
          "2025-02-04",
          "2025-02-03",
          "2025-02-02",
          "2025-02-03",
          "2025-02-04",
          "2025-02-02",
          "2025-02-03",
          "2025-02-04",
          "2025-02-02",
          "2025-02-03",
          "2025-02-04",
          "2025-02-02",
          "2025-02-03",
          "2025-02-04",
          "2025-02-02",
          "2025-02-03",
          "2025-02-04",
          "2025-02-02",
          "2025-02-03",
          "2025-02-04",
          "2025-02-04",
          "2025-02-02",
          "2025-02-03",
          "2025-02-04",
          "2025-02-02",
          "2025-02-03",
          "2025-02-04",
          "2025-02-02",
          "2025-02-03",
          "2025-02-04",
          "2025-02-02",
          "2025-02-03",
          "2025-02-04",
          "2025-02-02",
          "2025-02-03",
          "2025-02-04",
          "2025-02-02",
          "2025-02-03",
          "2025-02-04",
          "2025-02-04",
          "2025-02-03",
          "2025-02-02",
          "2025-02-03",
          "2025-02-04",
          "2025-02-02",
          "2025-02-03",
          "2025-02-04",
          "2025-02-02",
          "2025-02-03",
          "2025-02-04",
          "2025-02-03",
          "2025-02-02",
          "2025-02-03",
          "2025-02-04",
          "2025-02-02",
          "2025-02-04",
          "2025-02-02",
          "2025-02-04",
          "2025-02-02",
          "2025-02-03",
          "2025-02-04",
          "2025-02-02",
          "2025-02-03",
          "2025-02-04",
          "2025-02-02",
          "2025-02-03",
          "2025-02-04",
          "2025-02-02",
          "2025-02-03",
          "2025-02-04",
          "2025-02-02",
          "2025-02-03",
          "2025-02-04",
          "2025-02-02",
          "2025-02-03",
          "2025-02-04",
          "2025-02-02",
          "2025-02-03",
          "2025-02-04",
          "2025-02-02",
          "2025-02-03",
          "2025-02-04",
          "2025-02-02",
          "2025-02-03",
          "2025-02-04",
          "2025-02-02",
          "2025-02-03",
          "2025-02-04",
          "2025-02-02",
          "2025-02-03",
          "2025-02-04",
          "2025-02-02",
          "2025-02-03",
          "2025-02-04",
          "2025-02-02",
          "2025-02-03",
          "2025-02-04",
          "2025-02-02",
          "2025-02-03",
          "2025-02-04",
          "2025-02-02",
          "2025-02-03",
          "2025-02-04",
          "2025-02-02",
          "2025-02-03",
          "2025-02-04",
          "2025-02-02",
          "2025-02-03",
          "2025-02-04",
          "2025-02-02",
          "2025-02-04",
          "2025-02-02",
          "2025-02-03",
          "2025-02-04",
          "2025-02-02",
          "2025-02-04",
          "2025-02-02",
          "2025-02-03",
          "2025-02-04",
          "2025-02-04",
          "2025-02-03",
          "2025-02-02",
          "2025-02-03",
          "2025-02-04",
          "2025-02-02",
          "2025-02-03",
          "2025-02-04",
          "2025-02-02",
          "2025-02-03",
          "2025-02-04",
          "2025-02-02",
          "2025-02-03",
          "2025-02-04",
          "2025-02-04",
          "2025-02-02",
          "2025-02-03",
          "2025-02-04",
          "2025-02-02",
          "2025-02-04",
          "2025-02-03",
          "2025-02-04",
          "2025-02-02",
          "2025-02-03",
          "2025-02-04",
          "2025-02-02",
          "2025-02-03",
          "2025-02-04",
          "2025-02-02",
          "2025-02-03",
          "2025-02-04",
          "2025-02-02",
          "2025-02-03",
          "2025-02-04",
          "2025-02-02",
          "2025-02-03",
          "2025-02-04",
          "2025-02-02",
          "2025-02-03",
          "2025-02-04",
          "2025-02-02",
          "2025-02-03",
          "2025-02-02",
          "2025-02-03",
          "2025-02-04",
          "2025-02-02",
          "2025-02-03",
          "2025-02-04",
          "2025-02-02",
          "2025-02-03",
          "2025-02-04",
          "2025-02-02",
          "2025-02-02",
          "2025-02-03",
          "2025-02-04",
          "2025-02-02",
          "2025-02-03",
          "2025-02-04",
          "2025-02-04",
          "2025-02-02",
          "2025-02-03",
          "2025-02-04",
          "2025-02-02",
          "2025-02-03",
          "2025-02-04",
          "2025-02-02",
          "2025-02-03",
          "2025-02-04",
          "2025-02-02",
          "2025-02-03",
          "2025-02-04",
          "2025-02-02",
          "2025-02-03",
          "2025-02-04",
          "2025-02-02",
          "2025-02-03",
          "2025-02-04",
          "2025-02-02",
          "2025-02-03",
          "2025-02-04",
          "2025-02-02",
          "2025-02-04",
          "2025-02-02",
          "2025-02-03",
          "2025-02-04",
          "2025-02-02",
          "2025-02-03",
          "2025-02-04",
          "2025-02-02",
          "2025-02-03",
          "2025-02-04",
          "2025-02-02",
          "2025-02-03",
          "2025-02-04",
          "2025-02-02",
          "2025-02-03",
          "2025-02-04",
          "2025-02-02",
          "2025-02-03",
          "2025-02-04",
          "2025-02-02",
          "2025-02-03",
          "2025-02-04",
          "2025-02-02",
          "2025-02-02",
          "2025-02-04",
          "2025-02-02",
          "2025-02-03",
          "2025-02-04",
          "2025-02-02",
          "2025-02-03",
          "2025-02-04",
          "2025-02-02",
          "2025-02-03",
          "2025-02-04",
          "2025-02-02",
          "2025-02-03",
          "2025-02-04",
          "2025-02-02",
          "2025-02-03",
          "2025-02-04",
          "2025-02-02",
          "2025-02-03",
          "2025-02-04",
          "2025-02-02",
          "2025-02-03",
          "2025-02-04",
          "2025-02-02",
          "2025-02-03",
          "2025-02-04",
          "2025-02-02",
          "2025-02-03",
          "2025-02-04",
          "2025-02-02",
          "2025-02-03",
          "2025-02-04",
          "2025-02-02",
          "2025-02-03",
          "2025-02-04",
          "2025-02-02",
          "2025-02-03",
          "2025-02-04",
          "2025-02-02",
          "2025-02-03",
          "2025-02-04",
          "2025-02-02",
          "2025-02-03",
          "2025-02-04",
          "2025-02-04",
          "2025-02-02",
          "2025-02-03",
          "2025-02-04",
          "2025-02-02",
          "2025-02-03",
          "2025-02-04",
          "2025-02-02",
          "2025-02-03",
          "2025-02-02",
          "2025-02-03",
          "2025-02-04",
          "2025-02-02",
          "2025-02-03",
          "2025-02-04",
          "2025-02-02",
          "2025-02-03",
          "2025-02-04",
          "2025-02-02",
          "2025-02-03",
          "2025-02-04",
          "2025-02-02",
          "2025-02-03",
          "2025-02-04",
          "2025-02-02",
          "2025-02-03",
          "2025-02-04",
          "2025-02-03",
          "2025-02-04",
          "2025-02-02",
          "2025-02-03",
          "2025-02-03",
          "2025-02-04",
          "2025-02-02",
          "2025-02-02",
          "2025-02-03",
          "2025-02-04",
          "2025-02-02",
          "2025-02-03",
          "2025-02-04",
          "2025-02-02",
          "2025-02-03",
          "2025-02-04",
          "2025-02-02",
          "2025-02-03",
          "2025-02-04",
          "2025-02-04",
          "2025-02-02",
          "2025-02-03",
          "2025-02-04",
          "2025-02-02",
          "2025-02-03",
          "2025-02-04",
          "2025-02-02",
          "2025-02-03",
          "2025-02-04",
          "2025-02-02",
          "2025-02-03",
          "2025-02-04",
          "2025-02-02",
          "2025-02-04",
          "2025-02-02",
          "2025-02-03",
          "2025-02-04",
          "2025-02-04",
          "2025-02-02",
          "2025-02-03",
          "2025-02-04",
          "2025-02-02",
          "2025-02-03",
          "2025-02-04",
          "2025-02-02",
          "2025-02-03",
          "2025-02-04",
          "2025-02-02",
          "2025-02-03",
          "2025-02-04",
          "2025-02-02",
          "2025-02-03",
          "2025-02-04",
          "2025-02-02",
          "2025-02-03",
          "2025-02-04",
          "2025-02-02",
          "2025-02-03",
          "2025-02-04",
          "2025-02-02",
          "2025-02-03",
          "2025-02-04",
          "2025-02-02",
          "2025-02-03",
          "2025-02-04",
          "2025-02-02",
          "2025-02-03",
          "2025-02-04",
          "2025-02-02",
          "2025-02-03",
          "2025-02-04",
          "2025-02-02",
          "2025-02-03",
          "2025-02-04",
          "2025-02-02",
          "2025-02-03",
          "2025-02-04",
          "2025-02-02",
          "2025-02-03",
          "2025-02-04",
          "2025-02-02",
          "2025-02-03",
          "2025-02-04",
          "2025-02-02",
          "2025-02-02",
          "2025-02-03",
          "2025-02-04",
          "2025-02-02",
          "2025-02-03",
          "2025-02-04",
          "2025-02-02",
          "2025-02-03",
          "2025-02-04",
          "2025-02-03",
          "2025-02-04",
          "2025-02-02",
          "2025-02-03",
          "2025-02-04",
          "2025-02-02",
          "2025-02-03",
          "2025-02-04",
          "2025-02-02",
          "2025-02-03",
          "2025-02-04",
          "2025-02-02",
          "2025-02-03",
          "2025-02-04",
          "2025-02-02",
          "2025-02-03",
          "2025-02-04",
          "2025-02-03",
          "2025-02-04",
          "2025-02-02",
          "2025-02-03",
          "2025-02-04",
          "2025-02-02",
          "2025-02-03",
          "2025-02-04",
          "2025-02-02",
          "2025-02-03",
          "2025-02-04",
          "2025-02-02",
          "2025-02-03",
          "2025-02-04",
          "2025-02-02",
          "2025-02-03",
          "2025-02-04",
          "2025-02-02",
          "2025-02-03",
          "2025-02-04",
          "2025-02-02",
          "2025-02-03",
          "2025-02-04",
          "2025-02-02",
          "2025-02-03",
          "2025-02-04",
          "2025-02-02",
          "2025-02-03",
          "2025-02-04",
          "2025-02-02",
          "2025-02-03",
          "2025-02-04",
          "2025-02-03",
          "2025-02-04",
          "2025-02-04",
          "2025-02-02",
          "2025-02-03",
          "2025-02-04",
          "2025-02-02",
          "2025-02-03",
          "2025-02-04",
          "2025-02-03",
          "2025-02-02",
          "2025-02-03",
          "2025-02-04",
          "2025-02-02",
          "2025-02-03",
          "2025-02-04",
          "2025-02-03",
          "2025-02-02",
          "2025-02-03",
          "2025-02-04",
          "2025-02-02",
          "2025-02-03",
          "2025-02-04",
          "2025-02-02",
          "2025-02-03",
          "2025-02-04",
          "2025-02-02",
          "2025-02-03",
          "2025-02-04",
          "2025-02-02",
          "2025-02-04",
          "2025-02-02",
          "2025-02-03",
          "2025-02-04",
          "2025-02-02",
          "2025-02-04",
          "2025-02-02",
          "2025-02-04",
          "2025-02-02",
          "2025-02-03",
          "2025-02-04",
          "2025-02-02",
          "2025-02-03",
          "2025-02-04",
          "2025-02-02",
          "2025-02-02",
          "2025-02-03",
          "2025-02-04",
          "2025-02-02",
          "2025-02-03",
          "2025-02-04",
          "2025-02-02",
          "2025-02-03",
          "2025-02-04",
          "2025-02-02",
          "2025-02-03",
          "2025-02-04",
          "2025-02-03",
          "2025-02-04",
          "2025-02-02",
          "2025-02-03",
          "2025-02-04",
          "2025-02-02",
          "2025-02-03",
          "2025-02-04",
          "2025-02-02",
          "2025-02-03",
          "2025-02-04",
          "2025-02-02",
          "2025-02-03",
          "2025-02-04",
          "2025-02-02",
          "2025-02-03",
          "2025-02-04",
          "2025-02-02",
          "2025-02-03",
          "2025-02-04",
          "2025-02-02",
          "2025-02-03",
          "2025-02-04",
          "2025-02-02",
          "2025-02-03",
          "2025-02-04",
          "2025-02-02",
          "2025-02-03",
          "2025-02-04",
          "2025-02-02",
          "2025-02-02",
          "2025-02-03",
          "2025-02-04",
          "2025-02-02",
          "2025-02-03",
          "2025-02-04",
          "2025-02-02",
          "2025-02-03",
          "2025-02-02",
          "2025-02-03",
          "2025-02-04"
         ],
         "x0": " ",
         "xaxis": "x",
         "y": {
          "bdata": "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",
          "dtype": "f8"
         },
         "y0": " ",
         "yaxis": "y"
        }
       ],
       "layout": {
        "boxmode": "group",
        "height": 600,
        "legend": {
         "title": {
          "text": "Price Type"
         },
         "tracegroupgap": 0
        },
        "template": {
         "data": {
          "bar": [
           {
            "error_x": {
             "color": "#2a3f5f"
            },
            "error_y": {
             "color": "#2a3f5f"
            },
            "marker": {
             "line": {
              "color": "#E5ECF6",
              "width": 0.5
             },
             "pattern": {
              "fillmode": "overlay",
              "size": 10,
              "solidity": 0.2
             }
            },
            "type": "bar"
           }
          ],
          "barpolar": [
           {
            "marker": {
             "line": {
              "color": "#E5ECF6",
              "width": 0.5
             },
             "pattern": {
              "fillmode": "overlay",
              "size": 10,
              "solidity": 0.2
             }
            },
            "type": "barpolar"
           }
          ],
          "carpet": [
           {
            "aaxis": {
             "endlinecolor": "#2a3f5f",
             "gridcolor": "white",
             "linecolor": "white",
             "minorgridcolor": "white",
             "startlinecolor": "#2a3f5f"
            },
            "baxis": {
             "endlinecolor": "#2a3f5f",
             "gridcolor": "white",
             "linecolor": "white",
             "minorgridcolor": "white",
             "startlinecolor": "#2a3f5f"
            },
            "type": "carpet"
           }
          ],
          "choropleth": [
           {
            "colorbar": {
             "outlinewidth": 0,
             "ticks": ""
            },
            "type": "choropleth"
           }
          ],
          "contour": [
           {
            "colorbar": {
             "outlinewidth": 0,
             "ticks": ""
            },
            "colorscale": [
             [
              0,
              "#0d0887"
             ],
             [
              0.1111111111111111,
              "#46039f"
             ],
             [
              0.2222222222222222,
              "#7201a8"
             ],
             [
              0.3333333333333333,
              "#9c179e"
             ],
             [
              0.4444444444444444,
              "#bd3786"
             ],
             [
              0.5555555555555556,
              "#d8576b"
             ],
             [
              0.6666666666666666,
              "#ed7953"
             ],
             [
              0.7777777777777778,
              "#fb9f3a"
             ],
             [
              0.8888888888888888,
              "#fdca26"
             ],
             [
              1,
              "#f0f921"
             ]
            ],
            "type": "contour"
           }
          ],
          "contourcarpet": [
           {
            "colorbar": {
             "outlinewidth": 0,
             "ticks": ""
            },
            "type": "contourcarpet"
           }
          ],
          "heatmap": [
           {
            "colorbar": {
             "outlinewidth": 0,
             "ticks": ""
            },
            "colorscale": [
             [
              0,
              "#0d0887"
             ],
             [
              0.1111111111111111,
              "#46039f"
             ],
             [
              0.2222222222222222,
              "#7201a8"
             ],
             [
              0.3333333333333333,
              "#9c179e"
             ],
             [
              0.4444444444444444,
              "#bd3786"
             ],
             [
              0.5555555555555556,
              "#d8576b"
             ],
             [
              0.6666666666666666,
              "#ed7953"
             ],
             [
              0.7777777777777778,
              "#fb9f3a"
             ],
             [
              0.8888888888888888,
              "#fdca26"
             ],
             [
              1,
              "#f0f921"
             ]
            ],
            "type": "heatmap"
           }
          ],
          "histogram": [
           {
            "marker": {
             "pattern": {
              "fillmode": "overlay",
              "size": 10,
              "solidity": 0.2
             }
            },
            "type": "histogram"
           }
          ],
          "histogram2d": [
           {
            "colorbar": {
             "outlinewidth": 0,
             "ticks": ""
            },
            "colorscale": [
             [
              0,
              "#0d0887"
             ],
             [
              0.1111111111111111,
              "#46039f"
             ],
             [
              0.2222222222222222,
              "#7201a8"
             ],
             [
              0.3333333333333333,
              "#9c179e"
             ],
             [
              0.4444444444444444,
              "#bd3786"
             ],
             [
              0.5555555555555556,
              "#d8576b"
             ],
             [
              0.6666666666666666,
              "#ed7953"
             ],
             [
              0.7777777777777778,
              "#fb9f3a"
             ],
             [
              0.8888888888888888,
              "#fdca26"
             ],
             [
              1,
              "#f0f921"
             ]
            ],
            "type": "histogram2d"
           }
          ],
          "histogram2dcontour": [
           {
            "colorbar": {
             "outlinewidth": 0,
             "ticks": ""
            },
            "colorscale": [
             [
              0,
              "#0d0887"
             ],
             [
              0.1111111111111111,
              "#46039f"
             ],
             [
              0.2222222222222222,
              "#7201a8"
             ],
             [
              0.3333333333333333,
              "#9c179e"
             ],
             [
              0.4444444444444444,
              "#bd3786"
             ],
             [
              0.5555555555555556,
              "#d8576b"
             ],
             [
              0.6666666666666666,
              "#ed7953"
             ],
             [
              0.7777777777777778,
              "#fb9f3a"
             ],
             [
              0.8888888888888888,
              "#fdca26"
             ],
             [
              1,
              "#f0f921"
             ]
            ],
            "type": "histogram2dcontour"
           }
          ],
          "mesh3d": [
           {
            "colorbar": {
             "outlinewidth": 0,
             "ticks": ""
            },
            "type": "mesh3d"
           }
          ],
          "parcoords": [
           {
            "line": {
             "colorbar": {
              "outlinewidth": 0,
              "ticks": ""
             }
            },
            "type": "parcoords"
           }
          ],
          "pie": [
           {
            "automargin": true,
            "type": "pie"
           }
          ],
          "scatter": [
           {
            "fillpattern": {
             "fillmode": "overlay",
             "size": 10,
             "solidity": 0.2
            },
            "type": "scatter"
           }
          ],
          "scatter3d": [
           {
            "line": {
             "colorbar": {
              "outlinewidth": 0,
              "ticks": ""
             }
            },
            "marker": {
             "colorbar": {
              "outlinewidth": 0,
              "ticks": ""
             }
            },
            "type": "scatter3d"
           }
          ],
          "scattercarpet": [
           {
            "marker": {
             "colorbar": {
              "outlinewidth": 0,
              "ticks": ""
             }
            },
            "type": "scattercarpet"
           }
          ],
          "scattergeo": [
           {
            "marker": {
             "colorbar": {
              "outlinewidth": 0,
              "ticks": ""
             }
            },
            "type": "scattergeo"
           }
          ],
          "scattergl": [
           {
            "marker": {
             "colorbar": {
              "outlinewidth": 0,
              "ticks": ""
             }
            },
            "type": "scattergl"
           }
          ],
          "scattermap": [
           {
            "marker": {
             "colorbar": {
              "outlinewidth": 0,
              "ticks": ""
             }
            },
            "type": "scattermap"
           }
          ],
          "scattermapbox": [
           {
            "marker": {
             "colorbar": {
              "outlinewidth": 0,
              "ticks": ""
             }
            },
            "type": "scattermapbox"
           }
          ],
          "scatterpolar": [
           {
            "marker": {
             "colorbar": {
              "outlinewidth": 0,
              "ticks": ""
             }
            },
            "type": "scatterpolar"
           }
          ],
          "scatterpolargl": [
           {
            "marker": {
             "colorbar": {
              "outlinewidth": 0,
              "ticks": ""
             }
            },
            "type": "scatterpolargl"
           }
          ],
          "scatterternary": [
           {
            "marker": {
             "colorbar": {
              "outlinewidth": 0,
              "ticks": ""
             }
            },
            "type": "scatterternary"
           }
          ],
          "surface": [
           {
            "colorbar": {
             "outlinewidth": 0,
             "ticks": ""
            },
            "colorscale": [
             [
              0,
              "#0d0887"
             ],
             [
              0.1111111111111111,
              "#46039f"
             ],
             [
              0.2222222222222222,
              "#7201a8"
             ],
             [
              0.3333333333333333,
              "#9c179e"
             ],
             [
              0.4444444444444444,
              "#bd3786"
             ],
             [
              0.5555555555555556,
              "#d8576b"
             ],
             [
              0.6666666666666666,
              "#ed7953"
             ],
             [
              0.7777777777777778,
              "#fb9f3a"
             ],
             [
              0.8888888888888888,
              "#fdca26"
             ],
             [
              1,
              "#f0f921"
             ]
            ],
            "type": "surface"
           }
          ],
          "table": [
           {
            "cells": {
             "fill": {
              "color": "#EBF0F8"
             },
             "line": {
              "color": "white"
             }
            },
            "header": {
             "fill": {
              "color": "#C8D4E3"
             },
             "line": {
              "color": "white"
             }
            },
            "type": "table"
           }
          ]
         },
         "layout": {
          "annotationdefaults": {
           "arrowcolor": "#2a3f5f",
           "arrowhead": 0,
           "arrowwidth": 1
          },
          "autotypenumbers": "strict",
          "coloraxis": {
           "colorbar": {
            "outlinewidth": 0,
            "ticks": ""
           }
          },
          "colorscale": {
           "diverging": [
            [
             0,
             "#8e0152"
            ],
            [
             0.1,
             "#c51b7d"
            ],
            [
             0.2,
             "#de77ae"
            ],
            [
             0.3,
             "#f1b6da"
            ],
            [
             0.4,
             "#fde0ef"
            ],
            [
             0.5,
             "#f7f7f7"
            ],
            [
             0.6,
             "#e6f5d0"
            ],
            [
             0.7,
             "#b8e186"
            ],
            [
             0.8,
             "#7fbc41"
            ],
            [
             0.9,
             "#4d9221"
            ],
            [
             1,
             "#276419"
            ]
           ],
           "sequential": [
            [
             0,
             "#0d0887"
            ],
            [
             0.1111111111111111,
             "#46039f"
            ],
            [
             0.2222222222222222,
             "#7201a8"
            ],
            [
             0.3333333333333333,
             "#9c179e"
            ],
            [
             0.4444444444444444,
             "#bd3786"
            ],
            [
             0.5555555555555556,
             "#d8576b"
            ],
            [
             0.6666666666666666,
             "#ed7953"
            ],
            [
             0.7777777777777778,
             "#fb9f3a"
            ],
            [
             0.8888888888888888,
             "#fdca26"
            ],
            [
             1,
             "#f0f921"
            ]
           ],
           "sequentialminus": [
            [
             0,
             "#0d0887"
            ],
            [
             0.1111111111111111,
             "#46039f"
            ],
            [
             0.2222222222222222,
             "#7201a8"
            ],
            [
             0.3333333333333333,
             "#9c179e"
            ],
            [
             0.4444444444444444,
             "#bd3786"
            ],
            [
             0.5555555555555556,
             "#d8576b"
            ],
            [
             0.6666666666666666,
             "#ed7953"
            ],
            [
             0.7777777777777778,
             "#fb9f3a"
            ],
            [
             0.8888888888888888,
             "#fdca26"
            ],
            [
             1,
             "#f0f921"
            ]
           ]
          },
          "colorway": [
           "#636efa",
           "#EF553B",
           "#00cc96",
           "#ab63fa",
           "#FFA15A",
           "#19d3f3",
           "#FF6692",
           "#B6E880",
           "#FF97FF",
           "#FECB52"
          ],
          "font": {
           "color": "#2a3f5f"
          },
          "geo": {
           "bgcolor": "white",
           "lakecolor": "white",
           "landcolor": "#E5ECF6",
           "showlakes": true,
           "showland": true,
           "subunitcolor": "white"
          },
          "hoverlabel": {
           "align": "left"
          },
          "hovermode": "closest",
          "mapbox": {
           "style": "light"
          },
          "paper_bgcolor": "white",
          "plot_bgcolor": "#E5ECF6",
          "polar": {
           "angularaxis": {
            "gridcolor": "white",
            "linecolor": "white",
            "ticks": ""
           },
           "bgcolor": "#E5ECF6",
           "radialaxis": {
            "gridcolor": "white",
            "linecolor": "white",
            "ticks": ""
           }
          },
          "scene": {
           "xaxis": {
            "backgroundcolor": "#E5ECF6",
            "gridcolor": "white",
            "gridwidth": 2,
            "linecolor": "white",
            "showbackground": true,
            "ticks": "",
            "zerolinecolor": "white"
           },
           "yaxis": {
            "backgroundcolor": "#E5ECF6",
            "gridcolor": "white",
            "gridwidth": 2,
            "linecolor": "white",
            "showbackground": true,
            "ticks": "",
            "zerolinecolor": "white"
           },
           "zaxis": {
            "backgroundcolor": "#E5ECF6",
            "gridcolor": "white",
            "gridwidth": 2,
            "linecolor": "white",
            "showbackground": true,
            "ticks": "",
            "zerolinecolor": "white"
           }
          },
          "shapedefaults": {
           "line": {
            "color": "#2a3f5f"
           }
          },
          "ternary": {
           "aaxis": {
            "gridcolor": "white",
            "linecolor": "white",
            "ticks": ""
           },
           "baxis": {
            "gridcolor": "white",
            "linecolor": "white",
            "ticks": ""
           },
           "bgcolor": "#E5ECF6",
           "caxis": {
            "gridcolor": "white",
            "linecolor": "white",
            "ticks": ""
           }
          },
          "title": {
           "x": 0.05
          },
          "xaxis": {
           "automargin": true,
           "gridcolor": "white",
           "linecolor": "white",
           "ticks": "",
           "title": {
            "standoff": 15
           },
           "zerolinecolor": "white",
           "zerolinewidth": 2
          },
          "yaxis": {
           "automargin": true,
           "gridcolor": "white",
           "linecolor": "white",
           "ticks": "",
           "title": {
            "standoff": 15
           },
           "zerolinecolor": "white",
           "zerolinewidth": 2
          }
         }
        },
        "title": {
         "text": "Box Plot of Original and Discounted Prices per Night for Each Snapshot Date"
        },
        "width": 1000,
        "xaxis": {
         "anchor": "y",
         "domain": [
          0,
          1
         ],
         "title": {
          "text": "Snapshot Date"
         }
        },
        "yaxis": {
         "anchor": "x",
         "domain": [
          0,
          1
         ],
         "title": {
          "text": "Price per Night"
         }
        }
       }
      }
     },
     "metadata": {},
     "output_type": "display_data"
    }
   ],
   "source": [
    "import plotly.express as px\n",
    "\n",
    "# Create a box plot (hbox) for original and discounted price per night\n",
    "fig = px.box(\n",
    "    price_per_night_data.melt(id_vars=['snapshot_date'], value_vars=['original_price_per_night', 'discounted_price_per_night'], \n",
    "                              var_name=\"Price Type\", value_name=\"Price per Night\"),\n",
    "    x=\"snapshot_date\",\n",
    "    y=\"Price per Night\",\n",
    "    color=\"Price Type\",\n",
    "    title=\"Box Plot of Original and Discounted Prices per Night for Each Snapshot Date\",\n",
    "    labels={\"snapshot_date\": \"Snapshot Date\", \"Price per Night\": \"Price per Night\"},\n",
    "    width=1000,\n",
    "    height=600\n",
    ")\n",
    "\n",
    "# Show the interactive box plot\n",
    "fig.show()"
   ]
  },
  {
   "cell_type": "markdown",
   "metadata": {},
   "source": [
    "The **matching upper and lower fences for Feb 2** indicate that the interquartile range (IQR) and whiskers are exactly the same for both original and discounted prices.\n",
    "The hotels that appear in the first 100 searches mostly (bounded by the upper and lower fences) are in the range of 86$ per night and 470$ per night.  \n",
    "\n",
    "**Key observation**: \n",
    "The site suggest discounts when the original price does not fall in the IQR. The prices shown all fall in the same price range\n"
   ]
  },
  {
   "cell_type": "code",
   "execution_count": 34,
   "metadata": {},
   "outputs": [
    {
     "name": "stdout",
     "output_type": "stream",
     "text": [
      "Rows after filtering: 43694, Rows before filtering: 44998\n"
     ]
    }
   ],
   "source": [
    "# Remove price outliers using Tukey's IQR method\n",
    "new_bookings = bookings.copy()\n",
    "Q1 = new_bookings[\"original_price_per_night\"].quantile(0.25)\n",
    "Q3 = new_bookings[\"original_price_per_night\"].quantile(0.75)\n",
    "IQR = Q3 - Q1\n",
    "\n",
    "lower_bound = Q1 - 1.5 * IQR\n",
    "upper_bound = Q3 + 1.5 * IQR\n",
    "\n",
    "# Filter the dataset\n",
    "new_bookings = new_bookings[(new_bookings[\"original_price_per_night\"] >= lower_bound) & (new_bookings[\"original_price_per_night\"] <= upper_bound)]\n",
    "\n",
    "# Drop bookings without review title\n",
    "new_bookings = new_bookings.dropna(subset=['review_title'])\n",
    "\n",
    "# Display the number of rows after filtering\n",
    "print(f\"Rows after filtering: {len(new_bookings)}, Rows before filtering: {len(bookings)}\")"
   ]
  },
  {
   "cell_type": "code",
   "execution_count": 35,
   "metadata": {},
   "outputs": [
    {
     "data": {
      "text/plain": [
       "array(['Very good', 'Good', 'Fabulous', 'Review score', 'Superb',\n",
       "       'Exceptional', np.float64(1.0)], dtype=object)"
      ]
     },
     "execution_count": 35,
     "metadata": {},
     "output_type": "execute_result"
    }
   ],
   "source": [
    "new_bookings['review_title'].unique()"
   ]
  },
  {
   "cell_type": "code",
   "execution_count": 36,
   "metadata": {},
   "outputs": [],
   "source": [
    "# Define ordinal mappings for review titles\n",
    "review_title_mapping = {\n",
    "    'Review score': 1,   # Lowest\n",
    "    'Good': 2,\n",
    "    'Very good': 3,\n",
    "    'Fabulous': 4,\n",
    "    'Superb': 5,\n",
    "    'Exceptional': 6    # Highest\n",
    "}\n",
    "\n",
    "# Apply the mapping to review_title column\n",
    "new_bookings[\"review_title_rank\"] = new_bookings[\"review_title\"].map(review_title_mapping)"
   ]
  },
  {
   "cell_type": "code",
   "execution_count": 37,
   "metadata": {},
   "outputs": [
    {
     "data": {
      "text/plain": [
       "array(['1 large double bed', '1 extra-large double bed', '1 double bed',\n",
       "       '1 single bed', '2 single beds', '2 double beds',\n",
       "       '2 large double beds', np.float64(1.0), 'Multiple bed types',\n",
       "       '1 bunk bed', 'Private suite', '3 beds (2 doubles, 1 sofa bed)',\n",
       "       '2 beds (1 extra-large double, 1 sofa bed)',\n",
       "       '2 extra-large double beds', '2 beds (1 bunk bed, 1 large double)',\n",
       "       '2 bunk beds', '2 beds (1 double, 1 sofa bed)',\n",
       "       '5 beds (3 extra-large doubles, 2 large doubles)',\n",
       "       '2 beds (1 single, 1 extra-large double)', '3 single beds',\n",
       "       '2 beds (1 single, 1 large double)', '2 beds (1 single, 1 double)',\n",
       "       'Beds: 1 double or 2 singles',\n",
       "       '2 beds (1 sofa bed, 1 large double)',\n",
       "       '4 beds (1 double, 1 bunk bed, 1 sofa bed, 1 large double)',\n",
       "       '3 beds (1 bunk bed, 2 large doubles)',\n",
       "       '4 beds (1 bunk bed, 3 large doubles)'], dtype=object)"
      ]
     },
     "execution_count": 37,
     "metadata": {},
     "output_type": "execute_result"
    }
   ],
   "source": [
    "# Extract unique bed types\n",
    "unique_beds = bookings[\"bed_type\"].dropna().unique()\n",
    "unique_beds"
   ]
  },
  {
   "cell_type": "code",
   "execution_count": 38,
   "metadata": {},
   "outputs": [
    {
     "data": {
      "text/html": [
       "<div>\n",
       "<style scoped>\n",
       "    .dataframe tbody tr th:only-of-type {\n",
       "        vertical-align: middle;\n",
       "    }\n",
       "\n",
       "    .dataframe tbody tr th {\n",
       "        vertical-align: top;\n",
       "    }\n",
       "\n",
       "    .dataframe thead th {\n",
       "        text-align: right;\n",
       "    }\n",
       "</style>\n",
       "<table border=\"1\" class=\"dataframe\">\n",
       "  <thead>\n",
       "    <tr style=\"text-align: right;\">\n",
       "      <th></th>\n",
       "      <th>review_title</th>\n",
       "      <th>review_title_rank</th>\n",
       "      <th>bed_type</th>\n",
       "      <th>bed_type_rank</th>\n",
       "    </tr>\n",
       "  </thead>\n",
       "  <tbody>\n",
       "    <tr>\n",
       "      <th>0</th>\n",
       "      <td>Very good</td>\n",
       "      <td>3.0</td>\n",
       "      <td>1 large double bed</td>\n",
       "      <td>5.0</td>\n",
       "    </tr>\n",
       "    <tr>\n",
       "      <th>1</th>\n",
       "      <td>Good</td>\n",
       "      <td>2.0</td>\n",
       "      <td>1 extra-large double bed</td>\n",
       "      <td>6.0</td>\n",
       "    </tr>\n",
       "    <tr>\n",
       "      <th>2</th>\n",
       "      <td>Fabulous</td>\n",
       "      <td>4.0</td>\n",
       "      <td>1 double bed</td>\n",
       "      <td>4.0</td>\n",
       "    </tr>\n",
       "    <tr>\n",
       "      <th>3</th>\n",
       "      <td>Good</td>\n",
       "      <td>2.0</td>\n",
       "      <td>1 single bed</td>\n",
       "      <td>2.0</td>\n",
       "    </tr>\n",
       "    <tr>\n",
       "      <th>4</th>\n",
       "      <td>Good</td>\n",
       "      <td>2.0</td>\n",
       "      <td>1 extra-large double bed</td>\n",
       "      <td>6.0</td>\n",
       "    </tr>\n",
       "  </tbody>\n",
       "</table>\n",
       "</div>"
      ],
      "text/plain": [
       "  review_title  review_title_rank                  bed_type  bed_type_rank\n",
       "0    Very good                3.0        1 large double bed            5.0\n",
       "1         Good                2.0  1 extra-large double bed            6.0\n",
       "2     Fabulous                4.0              1 double bed            4.0\n",
       "3         Good                2.0              1 single bed            2.0\n",
       "4         Good                2.0  1 extra-large double bed            6.0"
      ]
     },
     "execution_count": 38,
     "metadata": {},
     "output_type": "execute_result"
    }
   ],
   "source": [
    "# Example ranking for bed types (adjust as needed)\n",
    "bed_type_mapping = {\n",
    "    'Multiple bed types': 1,  # Vague and lacks specifics\n",
    "    '1 single bed': 2,  # Least valuable, smallest sleeping arrangement\n",
    "    '1 bunk bed': 3,  # Compact but only good for certain situations\n",
    "    '1 double bed': 4,  # Standard, but smaller than a large double\n",
    "    '1 large double bed': 5,  # Comfortable for two\n",
    "    '1 extra-large double bed': 6,  # Large and luxurious for two\n",
    "    '2 single beds': 7,  # Simple twin setup, less desirable than a double\n",
    "    '2 bunk beds': 8,  # Sleeps four but is less comfortable\n",
    "    '3 single beds': 9,  # Good for separate sleepers but lacks bed size variety\n",
    "    '2 beds (1 single, 1 double)': 10,  # One double and one single, still decent\n",
    "    '2 beds (1 single, 1 large double)': 11,  # One large and one single, slightly less valuable than extra-large\n",
    "    '2 beds (1 single, 1 extra-large double)': 12,  # One very large and one small bed\n",
    "    '2 beds (1 bunk bed, 1 large double)': 13,  # One solid large bed + bunk bed for kids\n",
    "    '2 beds (1 sofa bed, 1 large double)': 14,  # Large double + extra seating/bed\n",
    "    '2 beds (1 double, 1 sofa bed)': 15,  # Standard double bed + sofa, good for a couple + 1\n",
    "    '2 beds (1 extra-large double, 1 sofa bed)': 16,  # Large main bed + extra sofa sleeper\n",
    "    'Beds: 1 double or 2 singles': 17,  # Flexibility makes this valuable\n",
    "    '2 double beds': 18,  # Standard two-bed setup, good for small families/groups\n",
    "    '2 large double beds': 19,  # Large but slightly less spacious than extra-large beds\n",
    "    '2 extra-large double beds': 20,  # Luxury and spacious for up to four people\n",
    "    '3 beds (2 doubles, 1 sofa bed)': 21,  # Two doubles + a sofa bed is a flexible setup\n",
    "    '3 beds (1 bunk bed, 2 large doubles)': 22,  # Large family/group-friendly\n",
    "    '4 beds (1 double, 1 bunk bed, 1 sofa bed, 1 large double)': 23,  # Great for a mix of sleepers\n",
    "    '5 beds (3 extra-large doubles, 2 large doubles)': 24,  # Accommodates large groups comfortably\n",
    "    'Private suite': 25  # Typically premium, offering the best experience\n",
    "}\n",
    "\n",
    "# Apply bed type ranking\n",
    "new_bookings[\"bed_type_rank\"] = new_bookings[\"bed_type\"].map(bed_type_mapping)\n",
    "\n",
    "# Show a preview of the transformed columns\n",
    "new_bookings[[\"review_title\", \"review_title_rank\", \"bed_type\", \"bed_type_rank\"]].head()"
   ]
  },
  {
   "cell_type": "code",
   "execution_count": 39,
   "metadata": {},
   "outputs": [
    {
     "data": {
      "text/plain": [
       "array(['Manhattan, New York', \"Hell's Kitchen, New York\",\n",
       "       'Upper West Side, New York', 'Chelsea, New York',\n",
       "       'Lower East Side, New York', 'SoHo, New York',\n",
       "       'Midtown East, New York', 'Tribeca, New York',\n",
       "       'Gramercy, New York', 'Murray Hill, New York',\n",
       "       'Chinatown, New York', 'Upper East Side, New York',\n",
       "       'NoMad, New York', 'Flatiron District, New York',\n",
       "       'Washington Heights, New York', 'Little Italy, New York',\n",
       "       'Kips Bay, New York', 'Harlem, New York', 'New York',\n",
       "       'Greenwich Village, New York', 'Hudson Yards, New York',\n",
       "       'Union Square, New York', 'East Village, New York',\n",
       "       'Battery Park, New York', 'East Harlem, New York'], dtype=object)"
      ]
     },
     "execution_count": 39,
     "metadata": {},
     "output_type": "execute_result"
    }
   ],
   "source": [
    "new_bookings['neighborhood'].unique()"
   ]
  },
  {
   "cell_type": "code",
   "execution_count": 40,
   "metadata": {},
   "outputs": [
    {
     "data": {
      "text/plain": [
       "array([[0., 0., 0., ..., 0., 0., 0.],\n",
       "       [0., 0., 0., ..., 0., 0., 0.],\n",
       "       [0., 0., 0., ..., 0., 0., 0.],\n",
       "       ...,\n",
       "       [0., 0., 0., ..., 0., 0., 0.],\n",
       "       [0., 0., 0., ..., 0., 0., 0.],\n",
       "       [0., 0., 0., ..., 0., 0., 0.]], shape=(43694, 24))"
      ]
     },
     "execution_count": 40,
     "metadata": {},
     "output_type": "execute_result"
    }
   ],
   "source": [
    "from sklearn.preprocessing import OneHotEncoder\n",
    "import pandas as pd\n",
    "\n",
    "# Initialize OneHotEncoder\n",
    "encoder = OneHotEncoder(drop=\"first\", sparse_output=False)  \n",
    "\n",
    "# Fit and transform the data\n",
    "encoded_data = encoder.fit_transform(new_bookings[[\"neighborhood\"]])\n",
    "encoded_data"
   ]
  },
  {
   "cell_type": "markdown",
   "metadata": {},
   "source": [
    "one hot encoded neighborhood dataframe:"
   ]
  },
  {
   "cell_type": "code",
   "execution_count": 41,
   "metadata": {},
   "outputs": [
    {
     "data": {
      "text/html": [
       "<div>\n",
       "<style scoped>\n",
       "    .dataframe tbody tr th:only-of-type {\n",
       "        vertical-align: middle;\n",
       "    }\n",
       "\n",
       "    .dataframe tbody tr th {\n",
       "        vertical-align: top;\n",
       "    }\n",
       "\n",
       "    .dataframe thead th {\n",
       "        text-align: right;\n",
       "    }\n",
       "</style>\n",
       "<table border=\"1\" class=\"dataframe\">\n",
       "  <thead>\n",
       "    <tr style=\"text-align: right;\">\n",
       "      <th></th>\n",
       "      <th>neighborhood_Chelsea</th>\n",
       "      <th>neighborhood_Chinatown</th>\n",
       "      <th>neighborhood_East Harlem</th>\n",
       "      <th>neighborhood_East Village</th>\n",
       "      <th>neighborhood_Flatiron District</th>\n",
       "      <th>neighborhood_Gramercy</th>\n",
       "      <th>neighborhood_Greenwich Village</th>\n",
       "      <th>neighborhood_Harlem</th>\n",
       "      <th>neighborhood_Hell's Kitchen</th>\n",
       "      <th>neighborhood_Hudson Yards</th>\n",
       "      <th>...</th>\n",
       "      <th>neighborhood_Midtown East</th>\n",
       "      <th>neighborhood_Murray Hill</th>\n",
       "      <th>neighborhood_New York</th>\n",
       "      <th>neighborhood_NoMad</th>\n",
       "      <th>neighborhood_SoHo</th>\n",
       "      <th>neighborhood_Tribeca</th>\n",
       "      <th>neighborhood_Union Square</th>\n",
       "      <th>neighborhood_Upper East Side</th>\n",
       "      <th>neighborhood_Upper West Side</th>\n",
       "      <th>neighborhood_Washington Heights</th>\n",
       "    </tr>\n",
       "  </thead>\n",
       "  <tbody>\n",
       "    <tr>\n",
       "      <th>0</th>\n",
       "      <td>0.0</td>\n",
       "      <td>0.0</td>\n",
       "      <td>0.0</td>\n",
       "      <td>0.0</td>\n",
       "      <td>0.0</td>\n",
       "      <td>0.0</td>\n",
       "      <td>0.0</td>\n",
       "      <td>0.0</td>\n",
       "      <td>0.0</td>\n",
       "      <td>0.0</td>\n",
       "      <td>...</td>\n",
       "      <td>0.0</td>\n",
       "      <td>0.0</td>\n",
       "      <td>0.0</td>\n",
       "      <td>0.0</td>\n",
       "      <td>0.0</td>\n",
       "      <td>0.0</td>\n",
       "      <td>0.0</td>\n",
       "      <td>0.0</td>\n",
       "      <td>0.0</td>\n",
       "      <td>0.0</td>\n",
       "    </tr>\n",
       "    <tr>\n",
       "      <th>1</th>\n",
       "      <td>0.0</td>\n",
       "      <td>0.0</td>\n",
       "      <td>0.0</td>\n",
       "      <td>0.0</td>\n",
       "      <td>0.0</td>\n",
       "      <td>0.0</td>\n",
       "      <td>0.0</td>\n",
       "      <td>0.0</td>\n",
       "      <td>0.0</td>\n",
       "      <td>0.0</td>\n",
       "      <td>...</td>\n",
       "      <td>0.0</td>\n",
       "      <td>0.0</td>\n",
       "      <td>0.0</td>\n",
       "      <td>0.0</td>\n",
       "      <td>0.0</td>\n",
       "      <td>0.0</td>\n",
       "      <td>0.0</td>\n",
       "      <td>0.0</td>\n",
       "      <td>0.0</td>\n",
       "      <td>0.0</td>\n",
       "    </tr>\n",
       "    <tr>\n",
       "      <th>2</th>\n",
       "      <td>0.0</td>\n",
       "      <td>0.0</td>\n",
       "      <td>0.0</td>\n",
       "      <td>0.0</td>\n",
       "      <td>0.0</td>\n",
       "      <td>0.0</td>\n",
       "      <td>0.0</td>\n",
       "      <td>0.0</td>\n",
       "      <td>0.0</td>\n",
       "      <td>0.0</td>\n",
       "      <td>...</td>\n",
       "      <td>0.0</td>\n",
       "      <td>0.0</td>\n",
       "      <td>0.0</td>\n",
       "      <td>0.0</td>\n",
       "      <td>0.0</td>\n",
       "      <td>0.0</td>\n",
       "      <td>0.0</td>\n",
       "      <td>0.0</td>\n",
       "      <td>0.0</td>\n",
       "      <td>0.0</td>\n",
       "    </tr>\n",
       "    <tr>\n",
       "      <th>3</th>\n",
       "      <td>0.0</td>\n",
       "      <td>0.0</td>\n",
       "      <td>0.0</td>\n",
       "      <td>0.0</td>\n",
       "      <td>0.0</td>\n",
       "      <td>0.0</td>\n",
       "      <td>0.0</td>\n",
       "      <td>0.0</td>\n",
       "      <td>0.0</td>\n",
       "      <td>0.0</td>\n",
       "      <td>...</td>\n",
       "      <td>0.0</td>\n",
       "      <td>0.0</td>\n",
       "      <td>0.0</td>\n",
       "      <td>0.0</td>\n",
       "      <td>0.0</td>\n",
       "      <td>0.0</td>\n",
       "      <td>0.0</td>\n",
       "      <td>0.0</td>\n",
       "      <td>0.0</td>\n",
       "      <td>0.0</td>\n",
       "    </tr>\n",
       "    <tr>\n",
       "      <th>4</th>\n",
       "      <td>0.0</td>\n",
       "      <td>0.0</td>\n",
       "      <td>0.0</td>\n",
       "      <td>0.0</td>\n",
       "      <td>0.0</td>\n",
       "      <td>0.0</td>\n",
       "      <td>0.0</td>\n",
       "      <td>0.0</td>\n",
       "      <td>0.0</td>\n",
       "      <td>0.0</td>\n",
       "      <td>...</td>\n",
       "      <td>0.0</td>\n",
       "      <td>0.0</td>\n",
       "      <td>0.0</td>\n",
       "      <td>0.0</td>\n",
       "      <td>0.0</td>\n",
       "      <td>0.0</td>\n",
       "      <td>0.0</td>\n",
       "      <td>0.0</td>\n",
       "      <td>0.0</td>\n",
       "      <td>0.0</td>\n",
       "    </tr>\n",
       "    <tr>\n",
       "      <th>...</th>\n",
       "      <td>...</td>\n",
       "      <td>...</td>\n",
       "      <td>...</td>\n",
       "      <td>...</td>\n",
       "      <td>...</td>\n",
       "      <td>...</td>\n",
       "      <td>...</td>\n",
       "      <td>...</td>\n",
       "      <td>...</td>\n",
       "      <td>...</td>\n",
       "      <td>...</td>\n",
       "      <td>...</td>\n",
       "      <td>...</td>\n",
       "      <td>...</td>\n",
       "      <td>...</td>\n",
       "      <td>...</td>\n",
       "      <td>...</td>\n",
       "      <td>...</td>\n",
       "      <td>...</td>\n",
       "      <td>...</td>\n",
       "      <td>...</td>\n",
       "    </tr>\n",
       "    <tr>\n",
       "      <th>43689</th>\n",
       "      <td>0.0</td>\n",
       "      <td>0.0</td>\n",
       "      <td>0.0</td>\n",
       "      <td>0.0</td>\n",
       "      <td>0.0</td>\n",
       "      <td>0.0</td>\n",
       "      <td>0.0</td>\n",
       "      <td>0.0</td>\n",
       "      <td>0.0</td>\n",
       "      <td>0.0</td>\n",
       "      <td>...</td>\n",
       "      <td>0.0</td>\n",
       "      <td>0.0</td>\n",
       "      <td>0.0</td>\n",
       "      <td>0.0</td>\n",
       "      <td>0.0</td>\n",
       "      <td>0.0</td>\n",
       "      <td>0.0</td>\n",
       "      <td>0.0</td>\n",
       "      <td>0.0</td>\n",
       "      <td>0.0</td>\n",
       "    </tr>\n",
       "    <tr>\n",
       "      <th>43690</th>\n",
       "      <td>0.0</td>\n",
       "      <td>0.0</td>\n",
       "      <td>0.0</td>\n",
       "      <td>0.0</td>\n",
       "      <td>0.0</td>\n",
       "      <td>0.0</td>\n",
       "      <td>0.0</td>\n",
       "      <td>0.0</td>\n",
       "      <td>0.0</td>\n",
       "      <td>0.0</td>\n",
       "      <td>...</td>\n",
       "      <td>0.0</td>\n",
       "      <td>0.0</td>\n",
       "      <td>0.0</td>\n",
       "      <td>0.0</td>\n",
       "      <td>0.0</td>\n",
       "      <td>0.0</td>\n",
       "      <td>0.0</td>\n",
       "      <td>0.0</td>\n",
       "      <td>0.0</td>\n",
       "      <td>0.0</td>\n",
       "    </tr>\n",
       "    <tr>\n",
       "      <th>43691</th>\n",
       "      <td>0.0</td>\n",
       "      <td>0.0</td>\n",
       "      <td>0.0</td>\n",
       "      <td>0.0</td>\n",
       "      <td>0.0</td>\n",
       "      <td>0.0</td>\n",
       "      <td>0.0</td>\n",
       "      <td>0.0</td>\n",
       "      <td>0.0</td>\n",
       "      <td>0.0</td>\n",
       "      <td>...</td>\n",
       "      <td>0.0</td>\n",
       "      <td>0.0</td>\n",
       "      <td>0.0</td>\n",
       "      <td>0.0</td>\n",
       "      <td>0.0</td>\n",
       "      <td>0.0</td>\n",
       "      <td>0.0</td>\n",
       "      <td>0.0</td>\n",
       "      <td>0.0</td>\n",
       "      <td>0.0</td>\n",
       "    </tr>\n",
       "    <tr>\n",
       "      <th>43692</th>\n",
       "      <td>0.0</td>\n",
       "      <td>0.0</td>\n",
       "      <td>0.0</td>\n",
       "      <td>0.0</td>\n",
       "      <td>0.0</td>\n",
       "      <td>0.0</td>\n",
       "      <td>0.0</td>\n",
       "      <td>0.0</td>\n",
       "      <td>0.0</td>\n",
       "      <td>0.0</td>\n",
       "      <td>...</td>\n",
       "      <td>0.0</td>\n",
       "      <td>0.0</td>\n",
       "      <td>0.0</td>\n",
       "      <td>0.0</td>\n",
       "      <td>0.0</td>\n",
       "      <td>0.0</td>\n",
       "      <td>0.0</td>\n",
       "      <td>0.0</td>\n",
       "      <td>0.0</td>\n",
       "      <td>0.0</td>\n",
       "    </tr>\n",
       "    <tr>\n",
       "      <th>43693</th>\n",
       "      <td>0.0</td>\n",
       "      <td>0.0</td>\n",
       "      <td>0.0</td>\n",
       "      <td>0.0</td>\n",
       "      <td>0.0</td>\n",
       "      <td>0.0</td>\n",
       "      <td>0.0</td>\n",
       "      <td>0.0</td>\n",
       "      <td>0.0</td>\n",
       "      <td>0.0</td>\n",
       "      <td>...</td>\n",
       "      <td>1.0</td>\n",
       "      <td>0.0</td>\n",
       "      <td>0.0</td>\n",
       "      <td>0.0</td>\n",
       "      <td>0.0</td>\n",
       "      <td>0.0</td>\n",
       "      <td>0.0</td>\n",
       "      <td>0.0</td>\n",
       "      <td>0.0</td>\n",
       "      <td>0.0</td>\n",
       "    </tr>\n",
       "  </tbody>\n",
       "</table>\n",
       "<p>43694 rows × 24 columns</p>\n",
       "</div>"
      ],
      "text/plain": [
       "       neighborhood_Chelsea  neighborhood_Chinatown  neighborhood_East Harlem  \\\n",
       "0                       0.0                     0.0                       0.0   \n",
       "1                       0.0                     0.0                       0.0   \n",
       "2                       0.0                     0.0                       0.0   \n",
       "3                       0.0                     0.0                       0.0   \n",
       "4                       0.0                     0.0                       0.0   \n",
       "...                     ...                     ...                       ...   \n",
       "43689                   0.0                     0.0                       0.0   \n",
       "43690                   0.0                     0.0                       0.0   \n",
       "43691                   0.0                     0.0                       0.0   \n",
       "43692                   0.0                     0.0                       0.0   \n",
       "43693                   0.0                     0.0                       0.0   \n",
       "\n",
       "       neighborhood_East Village  neighborhood_Flatiron District  \\\n",
       "0                            0.0                             0.0   \n",
       "1                            0.0                             0.0   \n",
       "2                            0.0                             0.0   \n",
       "3                            0.0                             0.0   \n",
       "4                            0.0                             0.0   \n",
       "...                          ...                             ...   \n",
       "43689                        0.0                             0.0   \n",
       "43690                        0.0                             0.0   \n",
       "43691                        0.0                             0.0   \n",
       "43692                        0.0                             0.0   \n",
       "43693                        0.0                             0.0   \n",
       "\n",
       "       neighborhood_Gramercy  neighborhood_Greenwich Village  \\\n",
       "0                        0.0                             0.0   \n",
       "1                        0.0                             0.0   \n",
       "2                        0.0                             0.0   \n",
       "3                        0.0                             0.0   \n",
       "4                        0.0                             0.0   \n",
       "...                      ...                             ...   \n",
       "43689                    0.0                             0.0   \n",
       "43690                    0.0                             0.0   \n",
       "43691                    0.0                             0.0   \n",
       "43692                    0.0                             0.0   \n",
       "43693                    0.0                             0.0   \n",
       "\n",
       "       neighborhood_Harlem  neighborhood_Hell's Kitchen  \\\n",
       "0                      0.0                          0.0   \n",
       "1                      0.0                          0.0   \n",
       "2                      0.0                          0.0   \n",
       "3                      0.0                          0.0   \n",
       "4                      0.0                          0.0   \n",
       "...                    ...                          ...   \n",
       "43689                  0.0                          0.0   \n",
       "43690                  0.0                          0.0   \n",
       "43691                  0.0                          0.0   \n",
       "43692                  0.0                          0.0   \n",
       "43693                  0.0                          0.0   \n",
       "\n",
       "       neighborhood_Hudson Yards  ...  neighborhood_Midtown East  \\\n",
       "0                            0.0  ...                        0.0   \n",
       "1                            0.0  ...                        0.0   \n",
       "2                            0.0  ...                        0.0   \n",
       "3                            0.0  ...                        0.0   \n",
       "4                            0.0  ...                        0.0   \n",
       "...                          ...  ...                        ...   \n",
       "43689                        0.0  ...                        0.0   \n",
       "43690                        0.0  ...                        0.0   \n",
       "43691                        0.0  ...                        0.0   \n",
       "43692                        0.0  ...                        0.0   \n",
       "43693                        0.0  ...                        1.0   \n",
       "\n",
       "       neighborhood_Murray Hill  neighborhood_New York  neighborhood_NoMad  \\\n",
       "0                           0.0                    0.0                 0.0   \n",
       "1                           0.0                    0.0                 0.0   \n",
       "2                           0.0                    0.0                 0.0   \n",
       "3                           0.0                    0.0                 0.0   \n",
       "4                           0.0                    0.0                 0.0   \n",
       "...                         ...                    ...                 ...   \n",
       "43689                       0.0                    0.0                 0.0   \n",
       "43690                       0.0                    0.0                 0.0   \n",
       "43691                       0.0                    0.0                 0.0   \n",
       "43692                       0.0                    0.0                 0.0   \n",
       "43693                       0.0                    0.0                 0.0   \n",
       "\n",
       "       neighborhood_SoHo  neighborhood_Tribeca  neighborhood_Union Square  \\\n",
       "0                    0.0                   0.0                        0.0   \n",
       "1                    0.0                   0.0                        0.0   \n",
       "2                    0.0                   0.0                        0.0   \n",
       "3                    0.0                   0.0                        0.0   \n",
       "4                    0.0                   0.0                        0.0   \n",
       "...                  ...                   ...                        ...   \n",
       "43689                0.0                   0.0                        0.0   \n",
       "43690                0.0                   0.0                        0.0   \n",
       "43691                0.0                   0.0                        0.0   \n",
       "43692                0.0                   0.0                        0.0   \n",
       "43693                0.0                   0.0                        0.0   \n",
       "\n",
       "       neighborhood_Upper East Side  neighborhood_Upper West Side  \\\n",
       "0                               0.0                           0.0   \n",
       "1                               0.0                           0.0   \n",
       "2                               0.0                           0.0   \n",
       "3                               0.0                           0.0   \n",
       "4                               0.0                           0.0   \n",
       "...                             ...                           ...   \n",
       "43689                           0.0                           0.0   \n",
       "43690                           0.0                           0.0   \n",
       "43691                           0.0                           0.0   \n",
       "43692                           0.0                           0.0   \n",
       "43693                           0.0                           0.0   \n",
       "\n",
       "       neighborhood_Washington Heights  \n",
       "0                                  0.0  \n",
       "1                                  0.0  \n",
       "2                                  0.0  \n",
       "3                                  0.0  \n",
       "4                                  0.0  \n",
       "...                                ...  \n",
       "43689                              0.0  \n",
       "43690                              0.0  \n",
       "43691                              0.0  \n",
       "43692                              0.0  \n",
       "43693                              0.0  \n",
       "\n",
       "[43694 rows x 24 columns]"
      ]
     },
     "execution_count": 41,
     "metadata": {},
     "output_type": "execute_result"
    }
   ],
   "source": [
    "encoded_df = pd.DataFrame(encoded_data, columns=encoder.get_feature_names_out(['neighborhood']))\n",
    "encoded_df.columns = [col.replace(\", New York\", \"\").strip() for col in encoded_df.columns]\n",
    "\n",
    "encoded_df"
   ]
  },
  {
   "cell_type": "markdown",
   "metadata": {},
   "source": [
    "Combine the dataframes"
   ]
  },
  {
   "cell_type": "code",
   "execution_count": 42,
   "metadata": {},
   "outputs": [
    {
     "data": {
      "text/html": [
       "<div>\n",
       "<style scoped>\n",
       "    .dataframe tbody tr th:only-of-type {\n",
       "        vertical-align: middle;\n",
       "    }\n",
       "\n",
       "    .dataframe tbody tr th {\n",
       "        vertical-align: top;\n",
       "    }\n",
       "\n",
       "    .dataframe thead th {\n",
       "        text-align: right;\n",
       "    }\n",
       "</style>\n",
       "<table border=\"1\" class=\"dataframe\">\n",
       "  <thead>\n",
       "    <tr style=\"text-align: right;\">\n",
       "      <th></th>\n",
       "      <th>Unnamed: 0</th>\n",
       "      <th>name</th>\n",
       "      <th>original_price</th>\n",
       "      <th>discounted_price</th>\n",
       "      <th>discount</th>\n",
       "      <th>review_score</th>\n",
       "      <th>review_title</th>\n",
       "      <th>number_of_reviews</th>\n",
       "      <th>star_rating</th>\n",
       "      <th>is_apartment</th>\n",
       "      <th>...</th>\n",
       "      <th>neighborhood_Midtown East</th>\n",
       "      <th>neighborhood_Murray Hill</th>\n",
       "      <th>neighborhood_New York</th>\n",
       "      <th>neighborhood_NoMad</th>\n",
       "      <th>neighborhood_SoHo</th>\n",
       "      <th>neighborhood_Tribeca</th>\n",
       "      <th>neighborhood_Union Square</th>\n",
       "      <th>neighborhood_Upper East Side</th>\n",
       "      <th>neighborhood_Upper West Side</th>\n",
       "      <th>neighborhood_Washington Heights</th>\n",
       "    </tr>\n",
       "  </thead>\n",
       "  <tbody>\n",
       "    <tr>\n",
       "      <th>0</th>\n",
       "      <td>0</td>\n",
       "      <td>Iroquois New York Times Square</td>\n",
       "      <td>292</td>\n",
       "      <td>218</td>\n",
       "      <td>0</td>\n",
       "      <td>8.5</td>\n",
       "      <td>Very good</td>\n",
       "      <td>2625.0</td>\n",
       "      <td>5.0</td>\n",
       "      <td>0</td>\n",
       "      <td>...</td>\n",
       "      <td>0.0</td>\n",
       "      <td>0.0</td>\n",
       "      <td>0.0</td>\n",
       "      <td>0.0</td>\n",
       "      <td>0.0</td>\n",
       "      <td>0.0</td>\n",
       "      <td>0.0</td>\n",
       "      <td>0.0</td>\n",
       "      <td>0.0</td>\n",
       "      <td>0.0</td>\n",
       "    </tr>\n",
       "    <tr>\n",
       "      <th>1</th>\n",
       "      <td>1</td>\n",
       "      <td>Four Points by Sheraton New York Downtown</td>\n",
       "      <td>130</td>\n",
       "      <td>111</td>\n",
       "      <td>0</td>\n",
       "      <td>7.8</td>\n",
       "      <td>Good</td>\n",
       "      <td>1987.0</td>\n",
       "      <td>3.0</td>\n",
       "      <td>0</td>\n",
       "      <td>...</td>\n",
       "      <td>0.0</td>\n",
       "      <td>0.0</td>\n",
       "      <td>0.0</td>\n",
       "      <td>0.0</td>\n",
       "      <td>0.0</td>\n",
       "      <td>0.0</td>\n",
       "      <td>0.0</td>\n",
       "      <td>0.0</td>\n",
       "      <td>0.0</td>\n",
       "      <td>0.0</td>\n",
       "    </tr>\n",
       "    <tr>\n",
       "      <th>2</th>\n",
       "      <td>2</td>\n",
       "      <td>The Mayfair Hotel Times Square, Ascend Hotel C...</td>\n",
       "      <td>141</td>\n",
       "      <td>141</td>\n",
       "      <td>0</td>\n",
       "      <td>8.6</td>\n",
       "      <td>Fabulous</td>\n",
       "      <td>1895.0</td>\n",
       "      <td>3.0</td>\n",
       "      <td>0</td>\n",
       "      <td>...</td>\n",
       "      <td>0.0</td>\n",
       "      <td>0.0</td>\n",
       "      <td>0.0</td>\n",
       "      <td>0.0</td>\n",
       "      <td>0.0</td>\n",
       "      <td>0.0</td>\n",
       "      <td>0.0</td>\n",
       "      <td>0.0</td>\n",
       "      <td>0.0</td>\n",
       "      <td>0.0</td>\n",
       "    </tr>\n",
       "    <tr>\n",
       "      <th>3</th>\n",
       "      <td>3</td>\n",
       "      <td>The Washington by LuxUrban</td>\n",
       "      <td>160</td>\n",
       "      <td>160</td>\n",
       "      <td>0</td>\n",
       "      <td>7.7</td>\n",
       "      <td>Good</td>\n",
       "      <td>9442.0</td>\n",
       "      <td>4.0</td>\n",
       "      <td>0</td>\n",
       "      <td>...</td>\n",
       "      <td>0.0</td>\n",
       "      <td>0.0</td>\n",
       "      <td>0.0</td>\n",
       "      <td>0.0</td>\n",
       "      <td>0.0</td>\n",
       "      <td>0.0</td>\n",
       "      <td>0.0</td>\n",
       "      <td>0.0</td>\n",
       "      <td>0.0</td>\n",
       "      <td>0.0</td>\n",
       "    </tr>\n",
       "    <tr>\n",
       "      <th>4</th>\n",
       "      <td>4</td>\n",
       "      <td>Hampton Inn by Hilton New York Times Square</td>\n",
       "      <td>152</td>\n",
       "      <td>152</td>\n",
       "      <td>0</td>\n",
       "      <td>7.8</td>\n",
       "      <td>Good</td>\n",
       "      <td>2432.0</td>\n",
       "      <td>3.0</td>\n",
       "      <td>0</td>\n",
       "      <td>...</td>\n",
       "      <td>0.0</td>\n",
       "      <td>0.0</td>\n",
       "      <td>0.0</td>\n",
       "      <td>0.0</td>\n",
       "      <td>0.0</td>\n",
       "      <td>0.0</td>\n",
       "      <td>0.0</td>\n",
       "      <td>0.0</td>\n",
       "      <td>0.0</td>\n",
       "      <td>0.0</td>\n",
       "    </tr>\n",
       "    <tr>\n",
       "      <th>...</th>\n",
       "      <td>...</td>\n",
       "      <td>...</td>\n",
       "      <td>...</td>\n",
       "      <td>...</td>\n",
       "      <td>...</td>\n",
       "      <td>...</td>\n",
       "      <td>...</td>\n",
       "      <td>...</td>\n",
       "      <td>...</td>\n",
       "      <td>...</td>\n",
       "      <td>...</td>\n",
       "      <td>...</td>\n",
       "      <td>...</td>\n",
       "      <td>...</td>\n",
       "      <td>...</td>\n",
       "      <td>...</td>\n",
       "      <td>...</td>\n",
       "      <td>...</td>\n",
       "      <td>...</td>\n",
       "      <td>...</td>\n",
       "      <td>...</td>\n",
       "    </tr>\n",
       "    <tr>\n",
       "      <th>43689</th>\n",
       "      <td>44992</td>\n",
       "      <td>Hampton Inn Manhattan-35th St Empire State Bldg</td>\n",
       "      <td>1207</td>\n",
       "      <td>1207</td>\n",
       "      <td>0</td>\n",
       "      <td>8.2</td>\n",
       "      <td>Very good</td>\n",
       "      <td>6701.0</td>\n",
       "      <td>3.0</td>\n",
       "      <td>0</td>\n",
       "      <td>...</td>\n",
       "      <td>0.0</td>\n",
       "      <td>0.0</td>\n",
       "      <td>0.0</td>\n",
       "      <td>0.0</td>\n",
       "      <td>0.0</td>\n",
       "      <td>0.0</td>\n",
       "      <td>0.0</td>\n",
       "      <td>0.0</td>\n",
       "      <td>0.0</td>\n",
       "      <td>0.0</td>\n",
       "    </tr>\n",
       "    <tr>\n",
       "      <th>43690</th>\n",
       "      <td>44994</td>\n",
       "      <td>Renaissance New York Midtown Hotel</td>\n",
       "      <td>1896</td>\n",
       "      <td>1521</td>\n",
       "      <td>0</td>\n",
       "      <td>8.7</td>\n",
       "      <td>Fabulous</td>\n",
       "      <td>1601.0</td>\n",
       "      <td>4.0</td>\n",
       "      <td>0</td>\n",
       "      <td>...</td>\n",
       "      <td>0.0</td>\n",
       "      <td>0.0</td>\n",
       "      <td>0.0</td>\n",
       "      <td>0.0</td>\n",
       "      <td>0.0</td>\n",
       "      <td>0.0</td>\n",
       "      <td>0.0</td>\n",
       "      <td>0.0</td>\n",
       "      <td>0.0</td>\n",
       "      <td>0.0</td>\n",
       "    </tr>\n",
       "    <tr>\n",
       "      <th>43691</th>\n",
       "      <td>44995</td>\n",
       "      <td>Hotel Indigo NYC Financial District, an IHG Hotel</td>\n",
       "      <td>1047</td>\n",
       "      <td>1047</td>\n",
       "      <td>0</td>\n",
       "      <td>8.9</td>\n",
       "      <td>Fabulous</td>\n",
       "      <td>1548.0</td>\n",
       "      <td>3.0</td>\n",
       "      <td>0</td>\n",
       "      <td>...</td>\n",
       "      <td>0.0</td>\n",
       "      <td>0.0</td>\n",
       "      <td>0.0</td>\n",
       "      <td>0.0</td>\n",
       "      <td>0.0</td>\n",
       "      <td>0.0</td>\n",
       "      <td>0.0</td>\n",
       "      <td>0.0</td>\n",
       "      <td>0.0</td>\n",
       "      <td>0.0</td>\n",
       "    </tr>\n",
       "    <tr>\n",
       "      <th>43692</th>\n",
       "      <td>44996</td>\n",
       "      <td>Hilton Garden Inn NYC Financial Center/Manhatt...</td>\n",
       "      <td>999</td>\n",
       "      <td>999</td>\n",
       "      <td>0</td>\n",
       "      <td>8.3</td>\n",
       "      <td>Very good</td>\n",
       "      <td>5048.0</td>\n",
       "      <td>3.0</td>\n",
       "      <td>0</td>\n",
       "      <td>...</td>\n",
       "      <td>0.0</td>\n",
       "      <td>0.0</td>\n",
       "      <td>0.0</td>\n",
       "      <td>0.0</td>\n",
       "      <td>0.0</td>\n",
       "      <td>0.0</td>\n",
       "      <td>0.0</td>\n",
       "      <td>0.0</td>\n",
       "      <td>0.0</td>\n",
       "      <td>0.0</td>\n",
       "    </tr>\n",
       "    <tr>\n",
       "      <th>43693</th>\n",
       "      <td>44997</td>\n",
       "      <td>InterContinental New York Barclay Hotel, an IH...</td>\n",
       "      <td>1694</td>\n",
       "      <td>1694</td>\n",
       "      <td>0</td>\n",
       "      <td>8.1</td>\n",
       "      <td>Very good</td>\n",
       "      <td>1586.0</td>\n",
       "      <td>5.0</td>\n",
       "      <td>0</td>\n",
       "      <td>...</td>\n",
       "      <td>1.0</td>\n",
       "      <td>0.0</td>\n",
       "      <td>0.0</td>\n",
       "      <td>0.0</td>\n",
       "      <td>0.0</td>\n",
       "      <td>0.0</td>\n",
       "      <td>0.0</td>\n",
       "      <td>0.0</td>\n",
       "      <td>0.0</td>\n",
       "      <td>0.0</td>\n",
       "    </tr>\n",
       "  </tbody>\n",
       "</table>\n",
       "<p>43694 rows × 49 columns</p>\n",
       "</div>"
      ],
      "text/plain": [
       "       Unnamed: 0                                               name  \\\n",
       "0               0                     Iroquois New York Times Square   \n",
       "1               1          Four Points by Sheraton New York Downtown   \n",
       "2               2  The Mayfair Hotel Times Square, Ascend Hotel C...   \n",
       "3               3                         The Washington by LuxUrban   \n",
       "4               4        Hampton Inn by Hilton New York Times Square   \n",
       "...           ...                                                ...   \n",
       "43689       44992    Hampton Inn Manhattan-35th St Empire State Bldg   \n",
       "43690       44994                 Renaissance New York Midtown Hotel   \n",
       "43691       44995  Hotel Indigo NYC Financial District, an IHG Hotel   \n",
       "43692       44996  Hilton Garden Inn NYC Financial Center/Manhatt...   \n",
       "43693       44997  InterContinental New York Barclay Hotel, an IH...   \n",
       "\n",
       "       original_price  discounted_price  discount  review_score review_title  \\\n",
       "0                 292               218         0           8.5    Very good   \n",
       "1                 130               111         0           7.8         Good   \n",
       "2                 141               141         0           8.6     Fabulous   \n",
       "3                 160               160         0           7.7         Good   \n",
       "4                 152               152         0           7.8         Good   \n",
       "...               ...               ...       ...           ...          ...   \n",
       "43689            1207              1207         0           8.2    Very good   \n",
       "43690            1896              1521         0           8.7     Fabulous   \n",
       "43691            1047              1047         0           8.9     Fabulous   \n",
       "43692             999               999         0           8.3    Very good   \n",
       "43693            1694              1694         0           8.1    Very good   \n",
       "\n",
       "       number_of_reviews  star_rating  is_apartment  ...  \\\n",
       "0                 2625.0          5.0             0  ...   \n",
       "1                 1987.0          3.0             0  ...   \n",
       "2                 1895.0          3.0             0  ...   \n",
       "3                 9442.0          4.0             0  ...   \n",
       "4                 2432.0          3.0             0  ...   \n",
       "...                  ...          ...           ...  ...   \n",
       "43689             6701.0          3.0             0  ...   \n",
       "43690             1601.0          4.0             0  ...   \n",
       "43691             1548.0          3.0             0  ...   \n",
       "43692             5048.0          3.0             0  ...   \n",
       "43693             1586.0          5.0             0  ...   \n",
       "\n",
       "      neighborhood_Midtown East  neighborhood_Murray Hill  \\\n",
       "0                           0.0                       0.0   \n",
       "1                           0.0                       0.0   \n",
       "2                           0.0                       0.0   \n",
       "3                           0.0                       0.0   \n",
       "4                           0.0                       0.0   \n",
       "...                         ...                       ...   \n",
       "43689                       0.0                       0.0   \n",
       "43690                       0.0                       0.0   \n",
       "43691                       0.0                       0.0   \n",
       "43692                       0.0                       0.0   \n",
       "43693                       1.0                       0.0   \n",
       "\n",
       "       neighborhood_New York neighborhood_NoMad neighborhood_SoHo  \\\n",
       "0                        0.0                0.0               0.0   \n",
       "1                        0.0                0.0               0.0   \n",
       "2                        0.0                0.0               0.0   \n",
       "3                        0.0                0.0               0.0   \n",
       "4                        0.0                0.0               0.0   \n",
       "...                      ...                ...               ...   \n",
       "43689                    0.0                0.0               0.0   \n",
       "43690                    0.0                0.0               0.0   \n",
       "43691                    0.0                0.0               0.0   \n",
       "43692                    0.0                0.0               0.0   \n",
       "43693                    0.0                0.0               0.0   \n",
       "\n",
       "       neighborhood_Tribeca  neighborhood_Union Square  \\\n",
       "0                       0.0                        0.0   \n",
       "1                       0.0                        0.0   \n",
       "2                       0.0                        0.0   \n",
       "3                       0.0                        0.0   \n",
       "4                       0.0                        0.0   \n",
       "...                     ...                        ...   \n",
       "43689                   0.0                        0.0   \n",
       "43690                   0.0                        0.0   \n",
       "43691                   0.0                        0.0   \n",
       "43692                   0.0                        0.0   \n",
       "43693                   0.0                        0.0   \n",
       "\n",
       "       neighborhood_Upper East Side  neighborhood_Upper West Side  \\\n",
       "0                               0.0                           0.0   \n",
       "1                               0.0                           0.0   \n",
       "2                               0.0                           0.0   \n",
       "3                               0.0                           0.0   \n",
       "4                               0.0                           0.0   \n",
       "...                             ...                           ...   \n",
       "43689                           0.0                           0.0   \n",
       "43690                           0.0                           0.0   \n",
       "43691                           0.0                           0.0   \n",
       "43692                           0.0                           0.0   \n",
       "43693                           0.0                           0.0   \n",
       "\n",
       "       neighborhood_Washington Heights  \n",
       "0                                  0.0  \n",
       "1                                  0.0  \n",
       "2                                  0.0  \n",
       "3                                  0.0  \n",
       "4                                  0.0  \n",
       "...                                ...  \n",
       "43689                              0.0  \n",
       "43690                              0.0  \n",
       "43691                              0.0  \n",
       "43692                              0.0  \n",
       "43693                              0.0  \n",
       "\n",
       "[43694 rows x 49 columns]"
      ]
     },
     "execution_count": 42,
     "metadata": {},
     "output_type": "execute_result"
    }
   ],
   "source": [
    "encoded_df = encoded_df.reset_index(drop=True)\n",
    "new_bookings = new_bookings.reset_index(drop=True)\n",
    "\n",
    "# Concatenate along columns\n",
    "new_bookings = pd.concat([new_bookings, encoded_df], axis=1)\n",
    "new_bookings"
   ]
  },
  {
   "cell_type": "code",
   "execution_count": 43,
   "metadata": {},
   "outputs": [
    {
     "data": {
      "image/png": "[encoded data removed]",
      "text/plain": [
       "<Figure size 1250x1250 with 30 Axes>"
      ]
     },
     "metadata": {},
     "output_type": "display_data"
    }
   ],
   "source": [
    "import seaborn as sns\n",
    "import matplotlib.pyplot as plt\n",
    "\n",
    "# Select numerical variables for PairGrid\n",
    "selected_columns = [\"discounted_price_per_night\", \"review_score\", \"number_of_reviews\", \"location_score\", \"star_rating\"]\n",
    "pairgrid_df = new_bookings[selected_columns].dropna()  # Drop NaN values for plotting\n",
    "\n",
    "# Create PairGrid\n",
    "g = sns.PairGrid(pairgrid_df)\n",
    "g.map_diag(sns.histplot)  # Histograms on the diagonal\n",
    "g.map_offdiag(sns.scatterplot)  # Scatter plots on off-diagonal\n",
    "\n",
    "# Show the plot\n",
    "plt.show()"
   ]
  },
  {
   "cell_type": "markdown",
   "metadata": {},
   "source": [
    "**Pair Plot Analysis of Hotel Features**\n",
    "\n",
    "This pair plot visualizes relationships between key hotel features using histograms (diagonal) and scatter plots (off-diagonal).  \n",
    "\n",
    "**Key Insights**  \n",
    "\n",
    "- **Pricing:** Most hotels are **affordable**, with prices **right-skewed**, meaning a few expensive hotels exist. Higher **star ratings generally correlate with higher prices**, but exceptions exist.  \n",
    "- **Review Scores:** Hotels **consistently receive high ratings (8-9)**, with no clear link between **price and review score**. **Location scores** show a slight **positive correlation with review scores**, suggesting location impacts satisfaction.  \n",
    "- **Number of Reviews:** **Right-skewed distribution**—a few hotels accumulate most reviews, while many have fewer. Highly-reviewed hotels tend to have **more stable** ratings.\n",
    "- **Price vs. Review Score:** No strong correlation—higher prices do not guarantee better reviews, suggesting that factors like service, location, and value perception influence satisfaction.  \n",
    "- **Number of Reviews vs. Review Score:** Hotels with fewer reviews show **greater rating variability**, while those with many reviews tend to **stabilize around 8+**, indicating that higher review counts lead to more reliable ratings.  \n",
    "- **Location Score vs. Review Score:** A slight **positive correlation** suggests that **better location ratings contribute to higher customer satisfaction**, but it's not the sole factor.  \n",
    "- **Star Rating vs. Price:** Higher **star ratings generally lead to higher prices**, but some **lower-star hotels are still expensive**, likely due to location, brand, or amenities.    \n",
    "\n",
    "### **Conclusion**  \n",
    "Booking.com prioritizes **well-rated, well-located, and mostly mid-range hotels**. While **price varies widely**, **review scores remain consistently high**. Further analysis could explore time-based pricing trends or neighborhood influences.  \n"
   ]
  },
  {
   "cell_type": "code",
   "execution_count": 44,
   "metadata": {},
   "outputs": [],
   "source": [
    "new_bookings.to_csv('./processed_booking.csv', index=False)"
   ]
  }
 ],
 "metadata": {
  "kernelspec": {
   "display_name": "DS-101-Final",
   "language": "python",
   "name": "python3"
  },
  "language_info": {
   "codemirror_mode": {
    "name": "ipython",
    "version": 3
   },
   "file_extension": ".py",
   "mimetype": "text/x-python",
   "name": "python",
   "nbconvert_exporter": "python",
   "pygments_lexer": "ipython3",
   "version": "3.12.8"
  }
 },
 "nbformat": 4,
 "nbformat_minor": 2
}
