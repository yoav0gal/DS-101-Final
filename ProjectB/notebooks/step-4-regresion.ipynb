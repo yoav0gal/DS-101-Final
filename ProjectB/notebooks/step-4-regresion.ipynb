{
 "cells": [
  {
   "cell_type": "markdown",
   "metadata": {},
   "source": [
    "## step 4 - Building a Predictive Model for Hotel Pricing Dynamics Using Snapshot Data (V2)\n",
    "\n"
   ]
  },
  {
   "cell_type": "markdown",
   "metadata": {},
   "source": [
    "\n",
    "- **Objective:**  \n",
    "  Predict the `Discount Price` for check-in dates within 30 days of a given `Snapshot Date` while minimizing the number of price samples (queries) from the database.\n",
    "\n",
    "- **Context:**  \n",
    "  Given fields of `Snapshot Date`, `Hotel Name`, `Discount Code`, build a relevant data set to predict the `Discount Price` for check-in dates within 30 days of the `Snapshot Date`.\n",
    "\n",
    "- **Performance Measure:**  \n",
    "  The model's success is evaluated by the R-squared metric on a subset of 40 hotels with the most complete data, The goal is to score a good balance of high R-squared and low number of queries.  \n"
   ]
  },
  {
   "cell_type": "markdown",
   "metadata": {},
   "source": [
    "### Solution Approaches: Gaussian Process Regression vs. Bayesian Linear and Polynomial Regression\n"
   ]
  },
  {
   "cell_type": "markdown",
   "metadata": {},
   "source": [
    "\n",
    "#### Gaussian Process Regression\n"
   ]
  },
  {
   "cell_type": "markdown",
   "metadata": {},
   "source": [
    "\n",
    "- **Pros:**\n",
    "  - **Uncertainty Quantification:** Provides both predictions and confidence intervals, which is key for active sampling.\n",
    "  - **Sample Efficiency:** Excels when data is limited, helping us select the most informative samples.\n",
    "  - **Flexibility:** Capable of modeling complex, non-linear relationships inherent in price trends.\n",
    "  \n",
    "- **Cons:**\n",
    "  - **Computational Cost:** Can become computationally expensive with larger datasets.\n",
    "  - **Kernel Selection:** Requires careful tuning of the kernel functions to capture the underlying data patterns accurately.\n",
    "\n",
    "- **Fit to the Problem:**  \n",
    "  Ideal for our task since its uncertainty estimates allow us to strategically choose the next check-in dates to sample, ensuring we use as few queries as possible while maintaining high prediction performance.\n",
    "\n"
   ]
  },
  {
   "cell_type": "markdown",
   "metadata": {},
   "source": [
    "\n",
    "#### Bayesian Linear and Polynomial Regression\n"
   ]
  },
  {
   "cell_type": "markdown",
   "metadata": {},
   "source": [
    "\n",
    "- **Pros:**\n",
    "  - **Simplicity:** Easy to implement and interpret.\n",
    "  - **Speed:** Generally faster to train compared to GP, which can be advantageous with simpler or smooth trends.\n",
    "  \n",
    "- **Cons:**\n",
    "  - **Limited Flexibility:** May not capture complex non-linear patterns as effectively.\n",
    "  - **Uncertainty Estimates:** While Bayesian methods provide uncertainty measures, they are often less robust in capturing the variability in complex datasets compared to GP.\n",
    "\n",
    "- **Fit to the Problem:**  \n",
    "  Suitable if the price trends were very smooth and predictable. However, the nuances in hotel pricing (e.g., varying discount strategies, day-of-week effects) suggest a need for a more flexible approach.\n",
    "\n"
   ]
  },
  {
   "cell_type": "markdown",
   "metadata": {},
   "source": [
    "\n",
    "#### Chosen Approach:\n"
   ]
  },
  {
   "cell_type": "markdown",
   "metadata": {},
   "source": [
    "\n",
    "- **Gaussian Process Regression** is selected as the primary method. Its ability to provide uncertainty estimates and guide active sampling makes it the best fit for minimizing the number of price queries while still achieving a high R-squared on the test set.\n"
   ]
  },
  {
   "cell_type": "markdown",
   "metadata": {},
   "source": [
    "### Installation and setup"
   ]
  },
  {
   "cell_type": "code",
   "execution_count": 2,
   "metadata": {},
   "outputs": [],
   "source": [
    "%%capture\n",
    "%pip install pandas scikit-learn matplotlib tqdm bayesian-optimization"
   ]
  },
  {
   "cell_type": "code",
   "execution_count": 39,
   "metadata": {},
   "outputs": [],
   "source": [
    "import pandas as pd\n",
    "import numpy as np\n",
    "from sklearn.preprocessing import StandardScaler\n",
    "from sklearn.gaussian_process import GaussianProcessRegressor\n",
    "from sklearn.gaussian_process.kernels import RBF, ConstantKernel as C\n",
    "from sklearn.metrics import r2_score\n",
    "import matplotlib.pyplot as plt\n",
    "import warnings\n",
    "from sklearn.exceptions import ConvergenceWarning\n",
    "from tqdm import tqdm\n",
    "from bayes_opt import BayesianOptimization\n",
    "import pickle\n",
    "import random"
   ]
  },
  {
   "cell_type": "markdown",
   "metadata": {},
   "source": [
    "### Data Loading and Extraction:"
   ]
  },
  {
   "cell_type": "markdown",
   "metadata": {},
   "source": [
    "1. **Load the Data:**  \n",
    "   We read the CSV file into a DataFrame and ensure that date columns are properly converted to datetime objects.\n",
    "\n",
    "2. **Filter the Data:**  \n",
    "   We filter the dataset to include only rows where `DayDiff` is 30 or less, meaning the check-in is within 30 days after the snapshot date.\n",
    "\n",
    "3. **Group the Data:**  \n",
    "   We group by `Snapshot Date`, `Hotel Name`, and `Discount Code`, and count the number of transactions (rows) in each group. This count is stored in the column `transaction_count`.\n",
    "\n",
    "4. **Dataset: onePerHotel:**  \n",
    "   - For each hotel, we sort by `transaction_count` in descending order and select the combination with the maximum count.  \n",
    "   - Then, we sort these unique hotel rows by `transaction_count` and take the top 40.\n",
    "\n",
    "5. **Dataset: mostData:**  \n",
    "   - We simply sort all the grouped combinations by `transaction_count` in descending order and select the top 40 combinations.\n",
    "\n",
    "6. **Extracting Parameters:**  \n",
    "   For each dataset, we extract a list of dictionaries (or \"params\") containing `Snapshot Date`, `Hotel Name`, and `Discount Code`.\n"
   ]
  },
  {
   "cell_type": "code",
   "execution_count": 4,
   "metadata": {},
   "outputs": [
    {
     "name": "stdout",
     "output_type": "stream",
     "text": [
      "onePerHotel (Top 40 hotels with best combination per hotel):\n"
     ]
    },
    {
     "data": {
      "text/html": [
       "<div>\n",
       "<style scoped>\n",
       "    .dataframe tbody tr th:only-of-type {\n",
       "        vertical-align: middle;\n",
       "    }\n",
       "\n",
       "    .dataframe tbody tr th {\n",
       "        vertical-align: top;\n",
       "    }\n",
       "\n",
       "    .dataframe thead th {\n",
       "        text-align: right;\n",
       "    }\n",
       "</style>\n",
       "<table border=\"1\" class=\"dataframe\">\n",
       "  <thead>\n",
       "    <tr style=\"text-align: right;\">\n",
       "      <th></th>\n",
       "      <th>Hotel Name</th>\n",
       "      <th>Snapshot Date</th>\n",
       "      <th>Discount Code</th>\n",
       "      <th>transaction_count</th>\n",
       "    </tr>\n",
       "  </thead>\n",
       "  <tbody>\n",
       "    <tr>\n",
       "      <th>339</th>\n",
       "      <td>Park Hyatt New York</td>\n",
       "      <td>2015-07-22</td>\n",
       "      <td>3</td>\n",
       "      <td>44</td>\n",
       "    </tr>\n",
       "    <tr>\n",
       "      <th>325</th>\n",
       "      <td>Newark Liberty International Airport Marriott</td>\n",
       "      <td>2015-07-22</td>\n",
       "      <td>3</td>\n",
       "      <td>30</td>\n",
       "    </tr>\n",
       "    <tr>\n",
       "      <th>468</th>\n",
       "      <td>The New York EDITION</td>\n",
       "      <td>2015-07-27</td>\n",
       "      <td>2</td>\n",
       "      <td>30</td>\n",
       "    </tr>\n",
       "    <tr>\n",
       "      <th>168</th>\n",
       "      <td>Hampton Inn Madison Square Garden Area Hotel</td>\n",
       "      <td>2015-07-23</td>\n",
       "      <td>4</td>\n",
       "      <td>26</td>\n",
       "    </tr>\n",
       "    <tr>\n",
       "      <th>431</th>\n",
       "      <td>The Carlyle A Rosewood Hotel</td>\n",
       "      <td>2015-12-20</td>\n",
       "      <td>4</td>\n",
       "      <td>26</td>\n",
       "    </tr>\n",
       "  </tbody>\n",
       "</table>\n",
       "</div>"
      ],
      "text/plain": [
       "                                        Hotel Name Snapshot Date  \\\n",
       "339                            Park Hyatt New York    2015-07-22   \n",
       "325  Newark Liberty International Airport Marriott    2015-07-22   \n",
       "468                           The New York EDITION    2015-07-27   \n",
       "168   Hampton Inn Madison Square Garden Area Hotel    2015-07-23   \n",
       "431                   The Carlyle A Rosewood Hotel    2015-12-20   \n",
       "\n",
       "     Discount Code  transaction_count  \n",
       "339              3                 44  \n",
       "325              3                 30  \n",
       "468              2                 30  \n",
       "168              4                 26  \n",
       "431              4                 26  "
      ]
     },
     "metadata": {},
     "output_type": "display_data"
    },
    {
     "name": "stdout",
     "output_type": "stream",
     "text": [
      "mostData (Top 40 combinations overall):\n"
     ]
    },
    {
     "data": {
      "text/html": [
       "<div>\n",
       "<style scoped>\n",
       "    .dataframe tbody tr th:only-of-type {\n",
       "        vertical-align: middle;\n",
       "    }\n",
       "\n",
       "    .dataframe tbody tr th {\n",
       "        vertical-align: top;\n",
       "    }\n",
       "\n",
       "    .dataframe thead th {\n",
       "        text-align: right;\n",
       "    }\n",
       "</style>\n",
       "<table border=\"1\" class=\"dataframe\">\n",
       "  <thead>\n",
       "    <tr style=\"text-align: right;\">\n",
       "      <th></th>\n",
       "      <th>Snapshot Date</th>\n",
       "      <th>Hotel Name</th>\n",
       "      <th>Discount Code</th>\n",
       "      <th>transaction_count</th>\n",
       "    </tr>\n",
       "  </thead>\n",
       "  <tbody>\n",
       "    <tr>\n",
       "      <th>1684</th>\n",
       "      <td>2015-07-22</td>\n",
       "      <td>Park Hyatt New York</td>\n",
       "      <td>3</td>\n",
       "      <td>44</td>\n",
       "    </tr>\n",
       "    <tr>\n",
       "      <th>1683</th>\n",
       "      <td>2015-07-22</td>\n",
       "      <td>Park Hyatt New York</td>\n",
       "      <td>2</td>\n",
       "      <td>43</td>\n",
       "    </tr>\n",
       "    <tr>\n",
       "      <th>1682</th>\n",
       "      <td>2015-07-22</td>\n",
       "      <td>Park Hyatt New York</td>\n",
       "      <td>1</td>\n",
       "      <td>30</td>\n",
       "    </tr>\n",
       "    <tr>\n",
       "      <th>3312</th>\n",
       "      <td>2015-07-27</td>\n",
       "      <td>The New York EDITION</td>\n",
       "      <td>2</td>\n",
       "      <td>30</td>\n",
       "    </tr>\n",
       "    <tr>\n",
       "      <th>1967</th>\n",
       "      <td>2015-07-23</td>\n",
       "      <td>Newark Liberty International Airport Marriott</td>\n",
       "      <td>3</td>\n",
       "      <td>30</td>\n",
       "    </tr>\n",
       "  </tbody>\n",
       "</table>\n",
       "</div>"
      ],
      "text/plain": [
       "     Snapshot Date                                     Hotel Name  \\\n",
       "1684    2015-07-22                            Park Hyatt New York   \n",
       "1683    2015-07-22                            Park Hyatt New York   \n",
       "1682    2015-07-22                            Park Hyatt New York   \n",
       "3312    2015-07-27                           The New York EDITION   \n",
       "1967    2015-07-23  Newark Liberty International Airport Marriott   \n",
       "\n",
       "      Discount Code  transaction_count  \n",
       "1684              3                 44  \n",
       "1683              2                 43  \n",
       "1682              1                 30  \n",
       "3312              2                 30  \n",
       "1967              3                 30  "
      ]
     },
     "metadata": {},
     "output_type": "display_data"
    }
   ],
   "source": [
    "import pandas as pd\n",
    "\n",
    "data_path = \"../data/hotels_data_changed.csv\"\n",
    "data = pd.read_csv(data_path)\n",
    "\n",
    "# We are only interested in transactions with a check-in date within 30 days after the snapshot.\n",
    "data_filtered = data[data['DayDiff'] <= 30].copy()\n",
    "\n",
    "data_filtered['Snapshot Date'] = pd.to_datetime(data_filtered['Snapshot Date']).dt.normalize()\n",
    "\n",
    "# We group by the combination of 'Snapshot Date', 'Hotel Name', and 'Discount Code', and count the number of transactions.\n",
    "grouped = data_filtered.groupby(\n",
    "    ['Snapshot Date', 'Hotel Name', 'Discount Code']\n",
    ").size().reset_index(name='transaction_count')\n",
    "\n",
    "# For each hotel, choose the combination with the highest transaction_count.\n",
    "# First, sort within each hotel so that the highest count is on top,\n",
    "# then group by 'Hotel Name' and take the first (best) row.\n",
    "onePerHotel = (\n",
    "    grouped.sort_values(['Hotel Name', 'transaction_count'], ascending=[True, False])\n",
    "    .groupby('Hotel Name')\n",
    "    .first()\n",
    "    .reset_index()\n",
    ")\n",
    "\n",
    "onePerHotel = onePerHotel.sort_values('transaction_count', ascending=False).head(40)\n",
    "\n",
    "mostData = grouped.sort_values('transaction_count', ascending=False).head(40)\n",
    "\n",
    "params_onePerHotel = onePerHotel[['Snapshot Date', 'Hotel Name', 'Discount Code']].to_dict('records')\n",
    "params_mostData   = mostData[['Snapshot Date', 'Hotel Name', 'Discount Code']].to_dict('records')\n",
    "\n",
    "print(\"onePerHotel (Top 40 hotels with best combination per hotel):\")\n",
    "display(onePerHotel.head())\n",
    "\n",
    "print(\"mostData (Top 40 combinations overall):\")\n",
    "display(mostData.head())"
   ]
  },
  {
   "cell_type": "markdown",
   "metadata": {},
   "source": [
    "### Feature Engineering and Data Preparation "
   ]
  },
  {
   "cell_type": "markdown",
   "metadata": {},
   "source": [
    "In this section we would create a function that gets the `Snapshot Date`, `Hotel Name`, and `Discount Code` and returns all we need to start training the model.\n",
    "This includes the following:\n",
    "-  get relevant data from the dataset\n",
    "-  apply feature engineering on that data\n",
    "-  normalize and scale the data\n",
    "-  Splitting into X and y & Creating the Wrapper Function"
   ]
  },
  {
   "cell_type": "markdown",
   "metadata": {},
   "source": [
    "#### Get the data "
   ]
  },
  {
   "cell_type": "code",
   "execution_count": 9,
   "metadata": {},
   "outputs": [
    {
     "name": "stdout",
     "output_type": "stream",
     "text": [
      "Parameters: {'Snapshot Date': Timestamp('2015-07-22 00:00:00'), 'Hotel Name': 'Park Hyatt New York', 'Discount Code': 3}\n",
      "Relevant Data (first 5 rows):\n"
     ]
    },
    {
     "data": {
      "text/html": [
       "<div>\n",
       "<style scoped>\n",
       "    .dataframe tbody tr th:only-of-type {\n",
       "        vertical-align: middle;\n",
       "    }\n",
       "\n",
       "    .dataframe tbody tr th {\n",
       "        vertical-align: top;\n",
       "    }\n",
       "\n",
       "    .dataframe thead th {\n",
       "        text-align: right;\n",
       "    }\n",
       "</style>\n",
       "<table border=\"1\" class=\"dataframe\">\n",
       "  <thead>\n",
       "    <tr style=\"text-align: right;\">\n",
       "      <th></th>\n",
       "      <th>Snapshot ID</th>\n",
       "      <th>Snapshot Date</th>\n",
       "      <th>Checkin Date</th>\n",
       "      <th>Days</th>\n",
       "      <th>Original Price</th>\n",
       "      <th>Discount Price</th>\n",
       "      <th>Discount Code</th>\n",
       "      <th>Available Rooms</th>\n",
       "      <th>Hotel Name</th>\n",
       "      <th>Hotel Stars</th>\n",
       "      <th>DayDiff</th>\n",
       "      <th>WeekDay</th>\n",
       "      <th>DiscountDiff</th>\n",
       "      <th>DiscountPerc</th>\n",
       "    </tr>\n",
       "  </thead>\n",
       "  <tbody>\n",
       "    <tr>\n",
       "      <th>4119</th>\n",
       "      <td>11</td>\n",
       "      <td>2015-07-22</td>\n",
       "      <td>2015-07-23</td>\n",
       "      <td>5</td>\n",
       "      <td>3900</td>\n",
       "      <td>3600</td>\n",
       "      <td>3</td>\n",
       "      <td>3</td>\n",
       "      <td>Park Hyatt New York</td>\n",
       "      <td>5</td>\n",
       "      <td>1</td>\n",
       "      <td>Thursday</td>\n",
       "      <td>300</td>\n",
       "      <td>7.692308</td>\n",
       "    </tr>\n",
       "    <tr>\n",
       "      <th>4120</th>\n",
       "      <td>11</td>\n",
       "      <td>2015-07-22</td>\n",
       "      <td>2015-07-24</td>\n",
       "      <td>5</td>\n",
       "      <td>3900</td>\n",
       "      <td>3600</td>\n",
       "      <td>3</td>\n",
       "      <td>7</td>\n",
       "      <td>Park Hyatt New York</td>\n",
       "      <td>5</td>\n",
       "      <td>2</td>\n",
       "      <td>Friday</td>\n",
       "      <td>300</td>\n",
       "      <td>7.692308</td>\n",
       "    </tr>\n",
       "    <tr>\n",
       "      <th>4121</th>\n",
       "      <td>11</td>\n",
       "      <td>2015-07-22</td>\n",
       "      <td>2015-07-25</td>\n",
       "      <td>5</td>\n",
       "      <td>3900</td>\n",
       "      <td>3600</td>\n",
       "      <td>3</td>\n",
       "      <td>7</td>\n",
       "      <td>Park Hyatt New York</td>\n",
       "      <td>5</td>\n",
       "      <td>3</td>\n",
       "      <td>Saturday</td>\n",
       "      <td>300</td>\n",
       "      <td>7.692308</td>\n",
       "    </tr>\n",
       "    <tr>\n",
       "      <th>4122</th>\n",
       "      <td>11</td>\n",
       "      <td>2015-07-22</td>\n",
       "      <td>2015-07-28</td>\n",
       "      <td>5</td>\n",
       "      <td>3900</td>\n",
       "      <td>3600</td>\n",
       "      <td>3</td>\n",
       "      <td>7</td>\n",
       "      <td>Park Hyatt New York</td>\n",
       "      <td>5</td>\n",
       "      <td>6</td>\n",
       "      <td>Tuesday</td>\n",
       "      <td>300</td>\n",
       "      <td>7.692308</td>\n",
       "    </tr>\n",
       "    <tr>\n",
       "      <th>4123</th>\n",
       "      <td>11</td>\n",
       "      <td>2015-07-22</td>\n",
       "      <td>2015-07-29</td>\n",
       "      <td>5</td>\n",
       "      <td>3900</td>\n",
       "      <td>3400</td>\n",
       "      <td>3</td>\n",
       "      <td>9</td>\n",
       "      <td>Park Hyatt New York</td>\n",
       "      <td>5</td>\n",
       "      <td>7</td>\n",
       "      <td>Wednesday</td>\n",
       "      <td>500</td>\n",
       "      <td>12.820513</td>\n",
       "    </tr>\n",
       "  </tbody>\n",
       "</table>\n",
       "</div>"
      ],
      "text/plain": [
       "      Snapshot ID Snapshot Date Checkin Date  Days  Original Price  \\\n",
       "4119           11    2015-07-22   2015-07-23     5            3900   \n",
       "4120           11    2015-07-22   2015-07-24     5            3900   \n",
       "4121           11    2015-07-22   2015-07-25     5            3900   \n",
       "4122           11    2015-07-22   2015-07-28     5            3900   \n",
       "4123           11    2015-07-22   2015-07-29     5            3900   \n",
       "\n",
       "      Discount Price  Discount Code  Available Rooms           Hotel Name  \\\n",
       "4119            3600              3                3  Park Hyatt New York   \n",
       "4120            3600              3                7  Park Hyatt New York   \n",
       "4121            3600              3                7  Park Hyatt New York   \n",
       "4122            3600              3                7  Park Hyatt New York   \n",
       "4123            3400              3                9  Park Hyatt New York   \n",
       "\n",
       "      Hotel Stars  DayDiff    WeekDay  DiscountDiff  DiscountPerc  \n",
       "4119            5        1   Thursday           300      7.692308  \n",
       "4120            5        2     Friday           300      7.692308  \n",
       "4121            5        3   Saturday           300      7.692308  \n",
       "4122            5        6    Tuesday           300      7.692308  \n",
       "4123            5        7  Wednesday           500     12.820513  "
      ]
     },
     "metadata": {},
     "output_type": "display_data"
    }
   ],
   "source": [
    "def load_relevant_data(params, data):\n",
    " \n",
    "    snapshot_date = pd.to_datetime(params['Snapshot Date']).normalize()\n",
    "    \n",
    "    subset = data[\n",
    "        (data['Snapshot Date'] == snapshot_date) &\n",
    "        (data['Hotel Name'] == params['Hotel Name']) &\n",
    "        (data['Discount Code'] == params['Discount Code']) &\n",
    "        (data['DayDiff'] <= 30) \n",
    "    ]\n",
    "    return subset\n",
    "\n",
    "test_params = params_mostData[0]\n",
    "relevant_subset = load_relevant_data(test_params, data_filtered)\n",
    "print(\"Parameters:\", test_params)\n",
    "print(\"Relevant Data (first 5 rows):\")\n",
    "display(relevant_subset.head())"
   ]
  },
  {
   "cell_type": "markdown",
   "metadata": {},
   "source": [
    "#### Feature engineering"
   ]
  },
  {
   "cell_type": "markdown",
   "metadata": {},
   "source": [
    "In this step, we transform our raw data into a format that is ready for model training. The goals are to:\n",
    "\n",
    "- **Convert Date Information:**  \n",
    "  We convert the date column `Checkin Date` into numerical values (Unix timestamps) so that the model can understand and work with temporal data.\n",
    "\n",
    "- **Encode Weekday Information:**  \n",
    "  We convert the weekday from a string (e.g., \"Monday\") into a numeric value using the helper function `convert_weekday_to_num`, storing it as `WeekDay_num`.\n",
    "\n",
    "- **Remove Irrelevant or Constant Columns:**  \n",
    "  After feature engineering, some columns become redundant or uninformative:\n",
    "  - **`Hotel Name`:** Removed because the data is filtered for a specific hotel, or if used for filtering, the raw name is no longer needed.\n",
    "  - **`Checkin Date`:** Once their numerical representations are extracted, the raw date values are no longer required.\n",
    "  - **`WeekDay`:** We already have the numeric `WeekDay_num`, making the original string column redundant.\n",
    "  - **`Days`:** This column is always the same (always 5), so it does not provide any variance or useful information for training.\n",
    "  - **`Snapshot Date`:** Since the snapshot is the same across the subset, this column is constant and does not help differentiate between records.\n",
    "  - **`Snapshot ID`:** This is also constant for a given snapshot and can be removed to reduce noise.\n",
    "\n",
    "The removal of these columns helps to simplify our dataset and ensures that the model is trained only on features that provide meaningful variation.\n"
   ]
  },
  {
   "cell_type": "code",
   "execution_count": 10,
   "metadata": {},
   "outputs": [
    {
     "name": "stdout",
     "output_type": "stream",
     "text": [
      "Engineered Data (first 5 rows):\n"
     ]
    },
    {
     "data": {
      "text/html": [
       "<div>\n",
       "<style scoped>\n",
       "    .dataframe tbody tr th:only-of-type {\n",
       "        vertical-align: middle;\n",
       "    }\n",
       "\n",
       "    .dataframe tbody tr th {\n",
       "        vertical-align: top;\n",
       "    }\n",
       "\n",
       "    .dataframe thead th {\n",
       "        text-align: right;\n",
       "    }\n",
       "</style>\n",
       "<table border=\"1\" class=\"dataframe\">\n",
       "  <thead>\n",
       "    <tr style=\"text-align: right;\">\n",
       "      <th></th>\n",
       "      <th>Original Price</th>\n",
       "      <th>Discount Price</th>\n",
       "      <th>Discount Code</th>\n",
       "      <th>Available Rooms</th>\n",
       "      <th>Hotel Stars</th>\n",
       "      <th>DayDiff</th>\n",
       "      <th>DiscountDiff</th>\n",
       "      <th>DiscountPerc</th>\n",
       "      <th>Checkin_Date_num</th>\n",
       "      <th>WeekDay_num</th>\n",
       "    </tr>\n",
       "  </thead>\n",
       "  <tbody>\n",
       "    <tr>\n",
       "      <th>4119</th>\n",
       "      <td>3900</td>\n",
       "      <td>3600</td>\n",
       "      <td>3</td>\n",
       "      <td>3</td>\n",
       "      <td>5</td>\n",
       "      <td>1</td>\n",
       "      <td>300</td>\n",
       "      <td>7.692308</td>\n",
       "      <td>1.437610e+09</td>\n",
       "      <td>3</td>\n",
       "    </tr>\n",
       "    <tr>\n",
       "      <th>4120</th>\n",
       "      <td>3900</td>\n",
       "      <td>3600</td>\n",
       "      <td>3</td>\n",
       "      <td>7</td>\n",
       "      <td>5</td>\n",
       "      <td>2</td>\n",
       "      <td>300</td>\n",
       "      <td>7.692308</td>\n",
       "      <td>1.437696e+09</td>\n",
       "      <td>4</td>\n",
       "    </tr>\n",
       "    <tr>\n",
       "      <th>4121</th>\n",
       "      <td>3900</td>\n",
       "      <td>3600</td>\n",
       "      <td>3</td>\n",
       "      <td>7</td>\n",
       "      <td>5</td>\n",
       "      <td>3</td>\n",
       "      <td>300</td>\n",
       "      <td>7.692308</td>\n",
       "      <td>1.437782e+09</td>\n",
       "      <td>5</td>\n",
       "    </tr>\n",
       "    <tr>\n",
       "      <th>4122</th>\n",
       "      <td>3900</td>\n",
       "      <td>3600</td>\n",
       "      <td>3</td>\n",
       "      <td>7</td>\n",
       "      <td>5</td>\n",
       "      <td>6</td>\n",
       "      <td>300</td>\n",
       "      <td>7.692308</td>\n",
       "      <td>1.438042e+09</td>\n",
       "      <td>1</td>\n",
       "    </tr>\n",
       "    <tr>\n",
       "      <th>4123</th>\n",
       "      <td>3900</td>\n",
       "      <td>3400</td>\n",
       "      <td>3</td>\n",
       "      <td>9</td>\n",
       "      <td>5</td>\n",
       "      <td>7</td>\n",
       "      <td>500</td>\n",
       "      <td>12.820513</td>\n",
       "      <td>1.438128e+09</td>\n",
       "      <td>2</td>\n",
       "    </tr>\n",
       "  </tbody>\n",
       "</table>\n",
       "</div>"
      ],
      "text/plain": [
       "      Original Price  Discount Price  Discount Code  Available Rooms  \\\n",
       "4119            3900            3600              3                3   \n",
       "4120            3900            3600              3                7   \n",
       "4121            3900            3600              3                7   \n",
       "4122            3900            3600              3                7   \n",
       "4123            3900            3400              3                9   \n",
       "\n",
       "      Hotel Stars  DayDiff  DiscountDiff  DiscountPerc  Checkin_Date_num  \\\n",
       "4119            5        1           300      7.692308      1.437610e+09   \n",
       "4120            5        2           300      7.692308      1.437696e+09   \n",
       "4121            5        3           300      7.692308      1.437782e+09   \n",
       "4122            5        6           300      7.692308      1.438042e+09   \n",
       "4123            5        7           500     12.820513      1.438128e+09   \n",
       "\n",
       "      WeekDay_num  \n",
       "4119            3  \n",
       "4120            4  \n",
       "4121            5  \n",
       "4122            1  \n",
       "4123            2  "
      ]
     },
     "metadata": {},
     "output_type": "display_data"
    }
   ],
   "source": [
    "def convert_weekday_to_num(weekday):\n",
    "    mapping = {\n",
    "        'Monday': 0,\n",
    "        'Tuesday': 1,\n",
    "        'Wednesday': 2,\n",
    "        'Thursday': 3,\n",
    "        'Friday': 4,\n",
    "        'Saturday': 5,\n",
    "        'Sunday': 6\n",
    "    }\n",
    "    return mapping.get(weekday, -1)  # Returns -1 if the weekday is not found\n",
    "\n",
    "def feature_engineering(df):\n",
    "    df['Checkin Date'] = pd.to_datetime(df['Checkin Date'])\n",
    "    \n",
    "    df['Checkin_Date_num'] = df['Checkin Date'].apply(lambda x: x.timestamp())\n",
    "    \n",
    "    \n",
    "    df['WeekDay_num'] = df['WeekDay'].apply(convert_weekday_to_num)\n",
    "    \n",
    "    # Remove columns that are not useful for training:\n",
    "    # 'Hotel Name'   - No longer needed since the data is already filtered per hotel.\n",
    "    # 'Checkin Date' - Raw dates are replaced by numerical features.\n",
    "    # 'WeekDay'      - Replaced by 'WeekDay_num'.\n",
    "    # 'Days'         - Always constant (5) across the dataset.\n",
    "    # 'Snapshot Date' - Constant within a given snapshot.\n",
    "    # 'Snapshot ID'  - Constant within the dataset.\n",
    "    columns_to_drop = ['Hotel Name', 'Snapshot Date', 'Checkin Date', 'WeekDay', 'Days', 'Snapshot ID' ]\n",
    "    df = df.drop(columns=columns_to_drop)\n",
    "    \n",
    "    return df\n",
    "engineered_data = feature_engineering(relevant_subset.copy())\n",
    "\n",
    "print(\"Engineered Data (first 5 rows):\")\n",
    "display(engineered_data.head())"
   ]
  },
  {
   "cell_type": "markdown",
   "metadata": {},
   "source": [
    "#### Normalize and scale the data"
   ]
  },
  {
   "cell_type": "markdown",
   "metadata": {},
   "source": [
    "**What are we doing?**  \n",
    "We use a `StandardScaler` to standardize the continuous features by removing the mean and scaling to unit variance. This process prevents features with larger numeric ranges from dominating the learning process.\n",
    "\n",
    "**Why are we doing it?**  \n",
    "Normalization is crucial in many machine learning algorithms—especially when using distance-based metrics or gradient descent—for faster convergence and improved performance.\n",
    "\n",
    "**Features to Scale:**  \n",
    "Based on our engineered dataset, we scale:\n",
    "- `Checkin_Date_num` (numerical representation of the check-in date)  \n",
    "- `Available Rooms`  \n",
    "- `DayDiff`  \n",
    "- `Discount Price`\n"
   ]
  },
  {
   "cell_type": "code",
   "execution_count": 11,
   "metadata": {},
   "outputs": [
    {
     "name": "stdout",
     "output_type": "stream",
     "text": [
      "Normalized Data (first 5 rows):\n"
     ]
    },
    {
     "data": {
      "text/html": [
       "<div>\n",
       "<style scoped>\n",
       "    .dataframe tbody tr th:only-of-type {\n",
       "        vertical-align: middle;\n",
       "    }\n",
       "\n",
       "    .dataframe tbody tr th {\n",
       "        vertical-align: top;\n",
       "    }\n",
       "\n",
       "    .dataframe thead th {\n",
       "        text-align: right;\n",
       "    }\n",
       "</style>\n",
       "<table border=\"1\" class=\"dataframe\">\n",
       "  <thead>\n",
       "    <tr style=\"text-align: right;\">\n",
       "      <th></th>\n",
       "      <th>Original Price</th>\n",
       "      <th>Discount Price</th>\n",
       "      <th>Discount Code</th>\n",
       "      <th>Available Rooms</th>\n",
       "      <th>Hotel Stars</th>\n",
       "      <th>DayDiff</th>\n",
       "      <th>DiscountDiff</th>\n",
       "      <th>DiscountPerc</th>\n",
       "      <th>Checkin_Date_num</th>\n",
       "      <th>WeekDay_num</th>\n",
       "    </tr>\n",
       "  </thead>\n",
       "  <tbody>\n",
       "    <tr>\n",
       "      <th>4119</th>\n",
       "      <td>3900</td>\n",
       "      <td>1.323327</td>\n",
       "      <td>3</td>\n",
       "      <td>-0.960855</td>\n",
       "      <td>5</td>\n",
       "      <td>-1.811602</td>\n",
       "      <td>300</td>\n",
       "      <td>7.692308</td>\n",
       "      <td>-1.811602</td>\n",
       "      <td>3</td>\n",
       "    </tr>\n",
       "    <tr>\n",
       "      <th>4120</th>\n",
       "      <td>3900</td>\n",
       "      <td>1.323327</td>\n",
       "      <td>3</td>\n",
       "      <td>-0.783776</td>\n",
       "      <td>5</td>\n",
       "      <td>-1.694724</td>\n",
       "      <td>300</td>\n",
       "      <td>7.692308</td>\n",
       "      <td>-1.694724</td>\n",
       "      <td>4</td>\n",
       "    </tr>\n",
       "    <tr>\n",
       "      <th>4121</th>\n",
       "      <td>3900</td>\n",
       "      <td>1.323327</td>\n",
       "      <td>3</td>\n",
       "      <td>-0.783776</td>\n",
       "      <td>5</td>\n",
       "      <td>-1.577846</td>\n",
       "      <td>300</td>\n",
       "      <td>7.692308</td>\n",
       "      <td>-1.577846</td>\n",
       "      <td>5</td>\n",
       "    </tr>\n",
       "    <tr>\n",
       "      <th>4122</th>\n",
       "      <td>3900</td>\n",
       "      <td>1.323327</td>\n",
       "      <td>3</td>\n",
       "      <td>-0.783776</td>\n",
       "      <td>5</td>\n",
       "      <td>-1.227214</td>\n",
       "      <td>300</td>\n",
       "      <td>7.692308</td>\n",
       "      <td>-1.227214</td>\n",
       "      <td>1</td>\n",
       "    </tr>\n",
       "    <tr>\n",
       "      <th>4123</th>\n",
       "      <td>3900</td>\n",
       "      <td>-0.409601</td>\n",
       "      <td>3</td>\n",
       "      <td>-0.695236</td>\n",
       "      <td>5</td>\n",
       "      <td>-1.110336</td>\n",
       "      <td>500</td>\n",
       "      <td>12.820513</td>\n",
       "      <td>-1.110336</td>\n",
       "      <td>2</td>\n",
       "    </tr>\n",
       "  </tbody>\n",
       "</table>\n",
       "</div>"
      ],
      "text/plain": [
       "      Original Price  Discount Price  Discount Code  Available Rooms  \\\n",
       "4119            3900        1.323327              3        -0.960855   \n",
       "4120            3900        1.323327              3        -0.783776   \n",
       "4121            3900        1.323327              3        -0.783776   \n",
       "4122            3900        1.323327              3        -0.783776   \n",
       "4123            3900       -0.409601              3        -0.695236   \n",
       "\n",
       "      Hotel Stars   DayDiff  DiscountDiff  DiscountPerc  Checkin_Date_num  \\\n",
       "4119            5 -1.811602           300      7.692308         -1.811602   \n",
       "4120            5 -1.694724           300      7.692308         -1.694724   \n",
       "4121            5 -1.577846           300      7.692308         -1.577846   \n",
       "4122            5 -1.227214           300      7.692308         -1.227214   \n",
       "4123            5 -1.110336           500     12.820513         -1.110336   \n",
       "\n",
       "      WeekDay_num  \n",
       "4119            3  \n",
       "4120            4  \n",
       "4121            5  \n",
       "4122            1  \n",
       "4123            2  "
      ]
     },
     "metadata": {},
     "output_type": "display_data"
    }
   ],
   "source": [
    "from sklearn.preprocessing import StandardScaler\n",
    "\n",
    "def normalize_features(df, features_to_scale, scaler=None):\n",
    "    if scaler is None:\n",
    "        scaler = StandardScaler()\n",
    "    \n",
    "    df_scaled = df.copy()\n",
    "    \n",
    "    df_scaled[features_to_scale] = scaler.fit_transform(df_scaled[features_to_scale])\n",
    "    \n",
    "    return df_scaled, scaler\n",
    "\n",
    "features_to_scale = [\n",
    "    \"Checkin_Date_num\", \n",
    "    \"Available Rooms\", \n",
    "    \"DayDiff\", \n",
    "    \"Discount Price\"\n",
    "]\n",
    "\n",
    "normalized_data, fitted_scaler = normalize_features(engineered_data, features_to_scale)\n",
    "\n",
    "print(\"Normalized Data (first 5 rows):\")\n",
    "display(normalized_data.head())"
   ]
  },
  {
   "cell_type": "markdown",
   "metadata": {},
   "source": [
    "####  Splitting into X and y & Creating the Wrapper Function"
   ]
  },
  {
   "cell_type": "markdown",
   "metadata": {},
   "source": [
    "In this step, we:\n",
    "\n",
    "- Split the normalized data into features (`X`) and target (`y`). Here, `y` is the scaled \"Discount Price\".  \n",
    "- Create a wrapper function that runs the entire preprocessing pipeline (from getting relevant data to normalization) and returns `X`, `y`, the fitted scaler, and a helper function to reverse the scaling for the target.  \n",
    "- The helper function uses the scaling parameters for \"Discount Price\" (found in the fitted scaler) so that later we can convert predictions back to their original values.\n",
    "\n",
    "> **Why Remove `price_related_columns` from X?**  \n",
    "> The target variable should not be present in the features. By dropping `price_related_columns` from the normalized data, we ensure that `X` contains only the input features while `y` contains the target variable.\n",
    "\n",
    "> **Reversing the Scaling:**  \n",
    "> Since the scaler is fitted on multiple columns, we locate the index corresponding to \"Discount Price\" in our `features_to_scale` list and use its mean and scale to convert scaled predictions back to their original values."
   ]
  },
  {
   "cell_type": "code",
   "execution_count": 12,
   "metadata": {},
   "outputs": [
    {
     "data": {
      "text/html": [
       "<div>\n",
       "<style scoped>\n",
       "    .dataframe tbody tr th:only-of-type {\n",
       "        vertical-align: middle;\n",
       "    }\n",
       "\n",
       "    .dataframe tbody tr th {\n",
       "        vertical-align: top;\n",
       "    }\n",
       "\n",
       "    .dataframe thead th {\n",
       "        text-align: right;\n",
       "    }\n",
       "</style>\n",
       "<table border=\"1\" class=\"dataframe\">\n",
       "  <thead>\n",
       "    <tr style=\"text-align: right;\">\n",
       "      <th></th>\n",
       "      <th>Discount Code</th>\n",
       "      <th>Available Rooms</th>\n",
       "      <th>Hotel Stars</th>\n",
       "      <th>DayDiff</th>\n",
       "      <th>Checkin_Date_num</th>\n",
       "      <th>WeekDay_num</th>\n",
       "    </tr>\n",
       "  </thead>\n",
       "  <tbody>\n",
       "    <tr>\n",
       "      <th>0</th>\n",
       "      <td>3</td>\n",
       "      <td>-1.137934</td>\n",
       "      <td>5</td>\n",
       "      <td>-0.175316</td>\n",
       "      <td>-0.175316</td>\n",
       "      <td>3</td>\n",
       "    </tr>\n",
       "    <tr>\n",
       "      <th>1</th>\n",
       "      <td>3</td>\n",
       "      <td>-1.137934</td>\n",
       "      <td>5</td>\n",
       "      <td>-0.058439</td>\n",
       "      <td>-0.058439</td>\n",
       "      <td>4</td>\n",
       "    </tr>\n",
       "    <tr>\n",
       "      <th>2</th>\n",
       "      <td>3</td>\n",
       "      <td>-1.137934</td>\n",
       "      <td>5</td>\n",
       "      <td>-0.175316</td>\n",
       "      <td>-0.175316</td>\n",
       "      <td>3</td>\n",
       "    </tr>\n",
       "    <tr>\n",
       "      <th>3</th>\n",
       "      <td>3</td>\n",
       "      <td>-1.137934</td>\n",
       "      <td>5</td>\n",
       "      <td>-0.058439</td>\n",
       "      <td>-0.058439</td>\n",
       "      <td>4</td>\n",
       "    </tr>\n",
       "    <tr>\n",
       "      <th>4</th>\n",
       "      <td>3</td>\n",
       "      <td>1.075553</td>\n",
       "      <td>5</td>\n",
       "      <td>-0.409071</td>\n",
       "      <td>-0.409071</td>\n",
       "      <td>1</td>\n",
       "    </tr>\n",
       "  </tbody>\n",
       "</table>\n",
       "</div>"
      ],
      "text/plain": [
       "   Discount Code  Available Rooms  Hotel Stars   DayDiff  Checkin_Date_num  \\\n",
       "0              3        -1.137934            5 -0.175316         -0.175316   \n",
       "1              3        -1.137934            5 -0.058439         -0.058439   \n",
       "2              3        -1.137934            5 -0.175316         -0.175316   \n",
       "3              3        -1.137934            5 -0.058439         -0.058439   \n",
       "4              3         1.075553            5 -0.409071         -0.409071   \n",
       "\n",
       "   WeekDay_num  \n",
       "0            3  \n",
       "1            4  \n",
       "2            3  \n",
       "3            4  \n",
       "4            1  "
      ]
     },
     "metadata": {},
     "output_type": "display_data"
    },
    {
     "data": {
      "text/plain": [
       "0   -1.665974\n",
       "1   -1.665974\n",
       "2   -1.665974\n",
       "3   -1.665974\n",
       "4   -1.492681\n",
       "Name: Discount Price, dtype: float64"
      ]
     },
     "metadata": {},
     "output_type": "display_data"
    },
    {
     "name": "stdout",
     "output_type": "stream",
     "text": [
      "First 5 values of y (scaled): [-1.66597419 -1.66597419 -1.66597419 -1.66597419 -1.49268137]\n",
      "First 5 values of y (original): [3255. 3255. 3255. 3255. 3275.]\n"
     ]
    }
   ],
   "source": [
    "def prepare_training_data(params, data, sort=True):\n",
    "    relevant = load_relevant_data(params, data)\n",
    "    engineered = feature_engineering(relevant.copy())\n",
    "    normalized, scaler = normalize_features(engineered, features_to_scale)\n",
    "    price_related_columns = [\"Discount Price\",\"DiscountPerc\", \"DiscountDiff\", \"Original Price\"]\n",
    "    if sorted:\n",
    "        normalized = normalized.sort_values(by=\"Discount Price\")\n",
    "\n",
    "    normalized = normalized.reset_index(drop=True)\n",
    "    y = normalized[\"Discount Price\"]\n",
    "    X = normalized.drop(columns=price_related_columns)\n",
    "    idx = features_to_scale.index(\"Discount Price\")\n",
    "    \n",
    "\n",
    "    def reverse_scaling(y_scaled):\n",
    "        return y_scaled * scaler.scale_[idx] + scaler.mean_[idx]\n",
    "    \n",
    "    return X, y, scaler, reverse_scaling\n",
    "\n",
    "X, y, scaler, reverse_scaling = prepare_training_data(test_params,data_filtered )\n",
    "display(X.head())\n",
    "display(y.head())\n",
    "print(\"First 5 values of y (scaled):\", y.head().values)\n",
    "print(\"First 5 values of y (original):\", reverse_scaling(y.head().values))\n"
   ]
  },
  {
   "cell_type": "markdown",
   "metadata": {},
   "source": [
    "### Gaussian Process Regression: Training And Testing\n",
    "\n"
   ]
  },
  {
   "cell_type": "markdown",
   "metadata": {},
   "source": [
    "#### Model Initialization\n"
   ]
  },
  {
   "cell_type": "markdown",
   "metadata": {},
   "source": [
    "\n",
    "In this cell, we initialize our GaussianProcessRegressor model. We use a kernel that combines a ConstantKernel and an RBF kernel. \n",
    "\n",
    "- **GaussianProcessRegressor:**  \n",
    "  Provides both predictions and uncertainty estimates, which are essential for our active sampling approach.\n",
    "\n",
    "- **ConstantKernel:**  \n",
    "  Represents a constant bias in the function, serving as a baseline.\n",
    "\n",
    "- **RBF Kernel (Radial Basis Function):**  \n",
    "  Models smooth variations in the data, which is ideal for capturing trends in discount prices.\n",
    "\n"
   ]
  },
  {
   "cell_type": "code",
   "execution_count": 13,
   "metadata": {},
   "outputs": [
    {
     "name": "stdout",
     "output_type": "stream",
     "text": [
      "Initialized Model:\n",
      "GaussianProcessRegressor(alpha=0.01, kernel=1**2 * RBF(length_scale=1),\n",
      "                         n_restarts_optimizer=10, normalize_y=True)\n"
     ]
    }
   ],
   "source": [
    "from sklearn.gaussian_process import GaussianProcessRegressor\n",
    "from sklearn.gaussian_process.kernels import RBF, ConstantKernel as C\n",
    "\n",
    "def initialize_model():\n",
    "    kernel = C(1.0, (1e-3, 1e3)) * RBF(length_scale=1.0, length_scale_bounds=(1e-2, 1e2))\n",
    "    gp = GaussianProcessRegressor(kernel=kernel, n_restarts_optimizer=10, alpha=1e-2, normalize_y=True)\n",
    "    return gp\n",
    "\n",
    "model = initialize_model()\n",
    "print(\"Initialized Model:\")\n",
    "print(model)\n"
   ]
  },
  {
   "cell_type": "markdown",
   "metadata": {},
   "source": [
    "#### Active Sampling Loop\n"
   ]
  },
  {
   "cell_type": "code",
   "execution_count": 17,
   "metadata": {},
   "outputs": [],
   "source": [
    "results = {}"
   ]
  },
  {
   "cell_type": "markdown",
   "metadata": {},
   "source": [
    "##### Maximum uncertainty based stop"
   ]
  },
  {
   "cell_type": "markdown",
   "metadata": {},
   "source": [
    "\n",
    "In this cell, we implement the active sampling loop. The process is as follows:\n",
    "\n",
    "- Start with an initial set of samples (e.g., the first, middle, and last indices).\n",
    "- Iteratively fit the Gaussian Process model on the current training set.\n",
    "- Predict on the remaining (unsampled) data and obtain uncertainty estimates.\n",
    "- Select the candidate with the highest uncertainty and add it to the training set.\n",
    "- Compute the `R²` score to monitor performance.\n",
    "- Stop when the maximum uncertainty is below a threshold or when the maximum iterations are reached.\n",
    "\n"
   ]
  },
  {
   "cell_type": "code",
   "execution_count": 18,
   "metadata": {},
   "outputs": [
    {
     "name": "stderr",
     "output_type": "stream",
     "text": [
      "/opt/anaconda3/envs/DS-101-Final/lib/python3.12/site-packages/sklearn/gaussian_process/kernels.py:442: ConvergenceWarning: The optimal value found for dimension 0 of parameter k2__length_scale is close to the specified lower bound 0.01. Decreasing the bound and calling fit again may find a better value.\n",
      "  warnings.warn(\n"
     ]
    },
    {
     "name": "stdout",
     "output_type": "stream",
     "text": [
      "Final R² Score: 0.9094458506164615\n",
      "Total Samples Used: 18\n",
      "Iteration Log:\n",
      "{'iteration': 0, 'num_samples': 3, 'max_uncertainty': np.float64(1.2193924126704112), 'r2': 0.19634395134896343}\n",
      "{'iteration': 1, 'num_samples': 4, 'max_uncertainty': np.float64(1.1931119473801752), 'r2': 0.253532417524468}\n",
      "{'iteration': 2, 'num_samples': 5, 'max_uncertainty': np.float64(1.063425800824647), 'r2': 0.3105793228100209}\n",
      "{'iteration': 3, 'num_samples': 6, 'max_uncertainty': np.float64(1.0793338923033537), 'r2': 0.2728535865779872}\n",
      "{'iteration': 4, 'num_samples': 7, 'max_uncertainty': np.float64(1.0120136944768114), 'r2': 0.3283077606107121}\n",
      "{'iteration': 5, 'num_samples': 8, 'max_uncertainty': np.float64(1.0111700178530667), 'r2': 0.2824462064467105}\n",
      "{'iteration': 6, 'num_samples': 9, 'max_uncertainty': np.float64(1.1016050248578426), 'r2': 0.49109541831431613}\n",
      "{'iteration': 7, 'num_samples': 10, 'max_uncertainty': np.float64(1.1253869605239197), 'r2': 0.6932276324586638}\n",
      "{'iteration': 8, 'num_samples': 11, 'max_uncertainty': np.float64(1.0188652461226138), 'r2': 0.7176060593692537}\n",
      "{'iteration': 9, 'num_samples': 12, 'max_uncertainty': np.float64(0.8131691969244601), 'r2': 0.7207667548259925}\n",
      "{'iteration': 10, 'num_samples': 13, 'max_uncertainty': np.float64(0.8423865897199304), 'r2': 0.7669924994738868}\n",
      "{'iteration': 11, 'num_samples': 14, 'max_uncertainty': np.float64(0.7645444979531081), 'r2': 0.7619366348198235}\n",
      "{'iteration': 12, 'num_samples': 15, 'max_uncertainty': np.float64(0.8452823428799258), 'r2': 0.8787025666765087}\n",
      "{'iteration': 13, 'num_samples': 16, 'max_uncertainty': np.float64(0.7914969329562135), 'r2': 0.876180224730293}\n",
      "{'iteration': 14, 'num_samples': 17, 'max_uncertainty': np.float64(0.7697988431265839), 'r2': 0.9176427184784788}\n"
     ]
    }
   ],
   "source": [
    "import numpy as np\n",
    "from sklearn.metrics import r2_score\n",
    "\n",
    "def active_sampling_loop(X, y, max_iterations=10, uncertainty_threshold=0.05, initial_sample_indices=None):\n",
    "    n_samples = X.shape[0]\n",
    "    \n",
    "    if initial_sample_indices is None:\n",
    "        initial_sample_indices = [0, n_samples // 2, n_samples - 1]\n",
    "    \n",
    "    training_indices = set(initial_sample_indices)\n",
    "    candidate_indices = set(range(n_samples)) - training_indices\n",
    "    iteration_log = []\n",
    "    \n",
    "    for iteration in range(max_iterations):\n",
    "        # Prepare current training data\n",
    "        X_train = X.iloc[sorted(list(training_indices))]\n",
    "        y_train = y.iloc[sorted(list(training_indices))]\n",
    "        \n",
    "        # Initialize and fit the Gaussian Process model\n",
    "        model = initialize_model()\n",
    "        model.fit(X_train, y_train)\n",
    "        \n",
    "        # Predict on candidate data and obtain uncertainties\n",
    "        candidate_list = sorted(list(candidate_indices))\n",
    "        if not candidate_list:\n",
    "            break\n",
    "\n",
    "        X_candidates = X.iloc[candidate_list]\n",
    "        y_pred_candidates, std_candidates = model.predict(X_candidates, return_std=True)\n",
    "        \n",
    "        # Find candidate with maximum uncertainty\n",
    "        max_std = np.max(std_candidates)\n",
    "        chosen_candidate_idx = candidate_list[np.argmax(std_candidates)]\n",
    "        \n",
    "        y_pred_full = model.predict(X)\n",
    "        current_r2 = r2_score(y, y_pred_full)\n",
    "        iteration_log.append({\n",
    "            'iteration': iteration,\n",
    "            'num_samples': len(training_indices),\n",
    "            'max_uncertainty': max_std,\n",
    "            'r2': current_r2\n",
    "        })\n",
    "        \n",
    "        \n",
    "        if max_std < uncertainty_threshold:\n",
    "            break\n",
    "        \n",
    "        # Add the most uncertain candidate to the training set\n",
    "        training_indices.add(chosen_candidate_idx)\n",
    "        candidate_indices.remove(chosen_candidate_idx)\n",
    "    \n",
    "    # Final training on the selected samples\n",
    "    X_final = X.iloc[sorted(list(training_indices))]\n",
    "    y_final = y.iloc[sorted(list(training_indices))]\n",
    "    final_model = initialize_model()\n",
    "    final_model.fit(X_final, y_final)\n",
    "    final_predictions = final_model.predict(X)\n",
    "    final_r2 = r2_score(y, final_predictions)\n",
    "    \n",
    "    return {\n",
    "        'final_model': final_model,\n",
    "        'final_predictions': final_predictions,\n",
    "        'final_r2': final_r2,\n",
    "        'iteration_log': iteration_log,\n",
    "        'total_samples_used': len(training_indices)\n",
    "    }\n",
    "\n",
    "\n",
    "results[\"basic\"] = active_sampling_loop(X, y, max_iterations=15, uncertainty_threshold=0.05)\n",
    "\n",
    "print(\"Final R² Score:\", results[\"basic\"]['final_r2'])\n",
    "print(\"Total Samples Used:\", results[\"basic\"]['total_samples_used'])\n",
    "print(\"Iteration Log:\")\n",
    "for log in results[\"basic\"]['iteration_log']:\n",
    "    print(log)\n"
   ]
  },
  {
   "cell_type": "markdown",
   "metadata": {},
   "source": [
    "##### Maximum uncertainty and stagnant Iterations based stop"
   ]
  },
  {
   "cell_type": "markdown",
   "metadata": {},
   "source": [
    "In this cell we implement an enhanced active sampling loop. In addition to stopping when the maximum uncertainty is very low, we also monitor `R²` improvement. The loop will stop if either:\n",
    "- The model's uncertainty is very low (`max_std < uncertainty_threshold`), or\n",
    "- The uncertainty is moderately low (`max_std < higher_uncertainty_threshold`) **and** the `R²` improvement has been stagnant for a set number of iterations.\n"
   ]
  },
  {
   "cell_type": "code",
   "execution_count": 19,
   "metadata": {},
   "outputs": [
    {
     "name": "stdout",
     "output_type": "stream",
     "text": [
      "Final R² Score: 0.9094458474200917\n",
      "Total Samples Used: 18\n",
      "Iteration Log:\n",
      "{'iteration': 0, 'num_samples': 3, 'max_uncertainty': np.float64(1.2193924232873328), 'r2': 0.19634395134966964, 'r2_improvement': inf}\n",
      "{'iteration': 1, 'num_samples': 4, 'max_uncertainty': np.float64(1.1931119473801752), 'r2': 0.253532417524468, 'r2_improvement': 0.057188466174798336}\n",
      "{'iteration': 2, 'num_samples': 5, 'max_uncertainty': np.float64(1.063425805507249), 'r2': 0.3105793235100216, 'r2_improvement': 0.05704690598555362}\n",
      "{'iteration': 3, 'num_samples': 6, 'max_uncertainty': np.float64(1.079333978056668), 'r2': 0.2728535578913015, 'r2_improvement': -0.0377257656187201}\n",
      "{'iteration': 4, 'num_samples': 7, 'max_uncertainty': np.float64(1.012013798746739), 'r2': 0.32830777698948665, 'r2_improvement': 0.055454219098185153}\n",
      "{'iteration': 5, 'num_samples': 8, 'max_uncertainty': np.float64(1.0111697890991593), 'r2': 0.28244612515838885, 'r2_improvement': -0.045861651831097805}\n",
      "{'iteration': 6, 'num_samples': 9, 'max_uncertainty': np.float64(1.1016050697910016), 'r2': 0.4910954247393886, 'r2_improvement': 0.20864929958099976}\n",
      "{'iteration': 7, 'num_samples': 10, 'max_uncertainty': np.float64(1.1253868487219991), 'r2': 0.6932276404818083, 'r2_improvement': 0.20213221574241969}\n",
      "{'iteration': 8, 'num_samples': 11, 'max_uncertainty': np.float64(1.0188652681291657), 'r2': 0.7176060703590144, 'r2_improvement': 0.024378429877206065}\n",
      "{'iteration': 9, 'num_samples': 12, 'max_uncertainty': np.float64(0.8131690660908518), 'r2': 0.7207667382469318, 'r2_improvement': 0.0031606678879174677}\n",
      "{'iteration': 10, 'num_samples': 13, 'max_uncertainty': np.float64(0.8423865977221893), 'r2': 0.7669925029605923, 'r2_improvement': 0.04622576471366047}\n",
      "{'iteration': 11, 'num_samples': 14, 'max_uncertainty': np.float64(0.7645447280786833), 'r2': 0.7619366216746064, 'r2_improvement': -0.005055881285985886}\n",
      "{'iteration': 12, 'num_samples': 15, 'max_uncertainty': np.float64(0.8452823351614632), 'r2': 0.8787026029476707, 'r2_improvement': 0.11676598127306426}\n",
      "{'iteration': 13, 'num_samples': 16, 'max_uncertainty': np.float64(0.7914969329562135), 'r2': 0.876180224730293, 'r2_improvement': -0.002522378217377663}\n",
      "{'iteration': 14, 'num_samples': 17, 'max_uncertainty': np.float64(0.7697986979352873), 'r2': 0.9176427150947859, 'r2_improvement': 0.0414624903644929}\n"
     ]
    }
   ],
   "source": [
    "def active_sampling_loop_with_stagnant_iterations_stop(X, y, max_iterations=10, \n",
    "                                                        uncertainty_threshold=0.05, \n",
    "                                                        higher_uncertainty_threshold=0.1,\n",
    "                                                        initial_sample_indices=None, \n",
    "                                                        r2_improvement_threshold=0.05, \n",
    "                                                        max_stagnant_iterations=1):\n",
    "    n_samples = X.shape[0]\n",
    "    if initial_sample_indices is None:\n",
    "        initial_sample_indices = [0, n_samples // 2, n_samples - 1]\n",
    "    \n",
    "    training_indices = set(initial_sample_indices)\n",
    "    candidate_indices = set(range(n_samples)) - training_indices\n",
    "    iteration_log = []\n",
    "    \n",
    "    previous_r2 = -np.inf  \n",
    "    stagnant_iterations = 0  \n",
    "    \n",
    "    for iteration in range(max_iterations):\n",
    "        # Prepare training data for the current iteration\n",
    "        X_train = X.iloc[sorted(list(training_indices))]\n",
    "        y_train = y.iloc[sorted(list(training_indices))]\n",
    "        \n",
    "        # Initialize and fit the model\n",
    "        model = initialize_model()\n",
    "        model.fit(X_train, y_train)\n",
    "        \n",
    "        # Predict on candidate data to obtain uncertainties\n",
    "        candidate_list = sorted(list(candidate_indices))\n",
    "        if not candidate_list:\n",
    "            break\n",
    "\n",
    "        X_candidates = X.iloc[candidate_list]\n",
    "        y_pred_candidates, std_candidates = model.predict(X_candidates, return_std=True)\n",
    "        \n",
    "        max_std = np.max(std_candidates)\n",
    "        chosen_candidate_idx = candidate_list[np.argmax(std_candidates)]\n",
    "        \n",
    "        \n",
    "        y_pred_full = model.predict(X)\n",
    "        current_r2 = r2_score(y, y_pred_full)\n",
    "        \n",
    "        \n",
    "        r2_improvement = current_r2 - previous_r2\n",
    "        if r2_improvement < r2_improvement_threshold:\n",
    "            stagnant_iterations += 1\n",
    "        else:\n",
    "            stagnant_iterations = 0\n",
    "        \n",
    "        previous_r2 = current_r2  \n",
    "        \n",
    "        iteration_log.append({\n",
    "            'iteration': iteration,\n",
    "            'num_samples': len(training_indices),\n",
    "            'max_uncertainty': max_std,\n",
    "            'r2': current_r2,\n",
    "            'r2_improvement': r2_improvement\n",
    "        })\n",
    "        \n",
    "        \n",
    "        # Stop if the model is very confident OR if it is moderately confident and not improving.\n",
    "        if (max_std < uncertainty_threshold) or ((max_std < higher_uncertainty_threshold) and (stagnant_iterations >= max_stagnant_iterations)):\n",
    "            break\n",
    "        \n",
    "        # Add the candidate with highest uncertainty to the training set\n",
    "        training_indices.add(chosen_candidate_idx)\n",
    "        candidate_indices.remove(chosen_candidate_idx)\n",
    "    \n",
    "    # Final training on the selected samples\n",
    "    X_final = X.iloc[sorted(list(training_indices))]\n",
    "    y_final = y.iloc[sorted(list(training_indices))]\n",
    "    final_model = initialize_model()\n",
    "    final_model.fit(X_final, y_final)\n",
    "    final_predictions = final_model.predict(X)\n",
    "    final_r2 = r2_score(y, final_predictions)\n",
    "    \n",
    "    return {\n",
    "        'final_model': final_model,\n",
    "        'final_predictions': final_predictions,\n",
    "        'final_r2': final_r2,\n",
    "        'iteration_log': iteration_log,\n",
    "        'total_samples_used': len(training_indices)\n",
    "    }\n",
    "\n",
    "\n",
    "results[\"stagnant\"] = active_sampling_loop_with_stagnant_iterations_stop(X, y, max_iterations=15, \n",
    "                                                              uncertainty_threshold=0.05, \n",
    "                                                              higher_uncertainty_threshold=0.1,\n",
    "                                                              r2_improvement_threshold=0.05, \n",
    "                                                              max_stagnant_iterations=1)\n",
    "\n",
    "print(\"Final R² Score:\", results[\"stagnant\"]['final_r2'])\n",
    "print(\"Total Samples Used:\", results[\"stagnant\"]['total_samples_used'])\n",
    "print(\"Iteration Log:\")\n",
    "for log in results[\"stagnant\"]['iteration_log']:\n",
    "    print(log)\n"
   ]
  },
  {
   "cell_type": "markdown",
   "metadata": {},
   "source": [
    "#### Visualizing the Results\n"
   ]
  },
  {
   "cell_type": "markdown",
   "metadata": {},
   "source": [
    "\n",
    "In this cell we visualize the active sampling process. The first part prints a log that shows, for each iteration, the number of samples used, the maximum uncertainty, and the R² score. The chart below shows two plots:\n",
    "- **R² Evolution:** How the model's performance improves over iterations.\n",
    "- **Max Uncertainty Evolution:** How the maximum prediction uncertainty decreases as more samples are added.\n"
   ]
  },
  {
   "cell_type": "code",
   "execution_count": 20,
   "metadata": {},
   "outputs": [
    {
     "name": "stdout",
     "output_type": "stream",
     "text": [
      "\n",
      "=== BASIC Results ===\n",
      "Total Data Available: 44\n",
      "Total Samples Used: 18 (40.91%)\n",
      "\n",
      "Final R² Score: 0.9094\n",
      "\n",
      "=== STAGNANT Results ===\n",
      "Total Data Available: 44\n",
      "Total Samples Used: 18 (40.91%)\n",
      "\n",
      "Final R² Score: 0.9094\n"
     ]
    },
    {
     "data": {
      "image/png": "[encoded data removed]",
      "text/plain": [
       "<Figure size 1000x1200 with 2 Axes>"
      ]
     },
     "metadata": {},
     "output_type": "display_data"
    }
   ],
   "source": [
    "import matplotlib.pyplot as plt\n",
    "\n",
    "def print_iteration_log(results):\n",
    "    for method, result in results.items():\n",
    "        print(f\"\\n=== {method.upper()} Results ===\")\n",
    "        final_samples = result['total_samples_used']\n",
    "        percent_used = final_samples / result['total_data_count'] * 100\n",
    "        print(f\"Total Data Available: {result['total_data_count']}\")\n",
    "        print(f\"Total Samples Used: {final_samples} ({percent_used:.2f}%)\")\n",
    "        print(f\"\\nFinal R² Score: {result['final_r2']:.4f}\")\n",
    "\n",
    "def plot_active_sampling_results(results):\n",
    "    fig, ax = plt.subplots(2, 1, figsize=(10, 12))\n",
    "    \n",
    "    colors = {'basic': 'blue', 'stagnant': 'red'}\n",
    "    \n",
    "    for method, result in results.items():\n",
    "        iterations = [log['iteration'] for log in result['iteration_log']]\n",
    "        r2_values = [log['r2'] for log in result['iteration_log']]\n",
    "        uncertainties = [log['max_uncertainty'] for log in result['iteration_log']]\n",
    "        \n",
    "        # R² Evolution plot\n",
    "        ax[0].plot(iterations, r2_values, marker='o', linestyle='-', \n",
    "                  color=colors[method], label=f'{method.capitalize()}')\n",
    "        ax[0].text(0.02, 0.98 - (0.1 if method == 'stagnant' else 0), \n",
    "                  f'{method.capitalize()} Final R²: {result[\"final_r2\"]:.4f}',\n",
    "                  transform=ax[0].transAxes, fontsize=10, color=colors[method],\n",
    "                  bbox=dict(facecolor='white', alpha=0.8, edgecolor=colors[method]))\n",
    "        \n",
    "        # Uncertainty Evolution plot\n",
    "        ax[1].plot(iterations, uncertainties, marker='o', linestyle='-',\n",
    "                  color=colors[method], label=f'{method.capitalize()}')\n",
    "    \n",
    "    # Configure R² plot\n",
    "    ax[0].set_title('R² Evolution Over Iterations')\n",
    "    ax[0].set_xlabel('Iteration')\n",
    "    ax[0].set_ylabel('R² Score')\n",
    "    ax[0].grid(True)\n",
    "    ax[0].legend()\n",
    "    \n",
    "    # Configure Uncertainty plot\n",
    "    ax[1].set_title('Max Uncertainty Evolution Over Iterations')\n",
    "    ax[1].set_xlabel('Iteration')\n",
    "    ax[1].set_ylabel('Max Uncertainty (std)')\n",
    "    ax[1].grid(True)\n",
    "    ax[1].legend()\n",
    "    \n",
    "    plt.suptitle('Active Sampling Results Comparison', fontsize=14)\n",
    "    plt.tight_layout(rect=[0, 0.03, 1, 0.95])\n",
    "    plt.show()\n",
    "\n",
    "\n",
    "visualizeResults = results.copy()\n",
    "visualizeResults[\"basic\"].pop(\"final_model\",\"not found\")\n",
    "visualizeResults[\"stagnant\"].pop(\"final_model\", \"not found\")\n",
    "visualizeResults[\"basic\"][\"total_data_count\"] = X.shape[0]\n",
    "visualizeResults[\"stagnant\"][\"total_data_count\"] = X.shape[0]\n",
    "print_iteration_log(visualizeResults)\n",
    "plot_active_sampling_results(visualizeResults)"
   ]
  },
  {
   "cell_type": "markdown",
   "metadata": {},
   "source": [
    "### Gaussian Process Regression - Full dataset Testing"
   ]
  },
  {
   "cell_type": "markdown",
   "metadata": {},
   "source": [
    "#### Active Sampling Model Execution"
   ]
  },
  {
   "cell_type": "markdown",
   "metadata": {},
   "source": [
    "In this section, we execute our active sampling models over all parameter combinations. We provide two variants:\n",
    "- **Basic Active Sampling Loop:** The standard loop that iteratively selects samples based on maximum uncertainty.\n",
    "- **Active Sampling Loop with Stagnant Iterations Stop:** An enhanced loop that also monitors `R²` improvements and stops if the model's performance stagnates while uncertainty is moderately low.\n",
    "\n",
    "This section prepares the results for each parameter combination by running the appropriate active sampling function and collecting key metrics such as the final R², total samples used, and iteration logs.\n"
   ]
  },
  {
   "cell_type": "code",
   "execution_count": 21,
   "metadata": {},
   "outputs": [],
   "source": [
    "import warnings\n",
    "from sklearn.exceptions import ConvergenceWarning\n",
    "from tqdm import tqdm\n",
    "\n",
    "def run_active_sampling_basic(params_list, data, sort=True, verbose=False, **hyperparams):\n",
    "    results_list = []\n",
    "    if not verbose:\n",
    "        warnings.filterwarnings(\"ignore\", category=ConvergenceWarning)\n",
    "        \n",
    "    \n",
    "    for i, param in enumerate(tqdm(params_list, desc=\"Running basic active sampling\", disable=verbose)):\n",
    "        X, y, scaler, reverse_scaling = prepare_training_data(param, data, sort=sort)\n",
    "        total_data_count = X.shape[0] \n",
    "        \n",
    "        result = active_sampling_loop(X, y, **hyperparams)\n",
    "        result['params'] = param\n",
    "        result['total_data_count'] = total_data_count\n",
    "        results_list.append(result)\n",
    "        if verbose:\n",
    "            print(f\"Completed parameter {i+1}/{len(params_list)}: R² = {result['final_r2']:.4f}, Samples = {result['total_samples_used']} of {X.shape[0]}\")\n",
    "            \n",
    "    warnings.filterwarnings(\"default\", category=ConvergenceWarning)\n",
    "\n",
    "    return results_list"
   ]
  },
  {
   "cell_type": "code",
   "execution_count": 22,
   "metadata": {},
   "outputs": [],
   "source": [
    "\n",
    "def run_active_sampling_stagnant(params_list, data, sort=False ,verbose=False, **hyperparams):\n",
    "    results_list = []\n",
    "    if not verbose:\n",
    "        warnings.filterwarnings(\"ignore\", category=ConvergenceWarning)\n",
    "    \n",
    "    for i, param in enumerate(tqdm(params_list, desc=\"Running stagnant active sampling\", disable=verbose)):\n",
    "        X, y, scaler, reverse_scaling = prepare_training_data(param, data, sort=sort)\n",
    "        total_data_count = X.shape[0] \n",
    "        \n",
    "        result = active_sampling_loop_with_stagnant_iterations_stop(X, y, **hyperparams)\n",
    "        result['params'] = param\n",
    "        result['total_data_count'] = total_data_count \n",
    "        results_list.append(result)\n",
    "        if verbose:\n",
    "            print(f\"Completed parameter {i+1}/{len(params_list)}: R² = {result['final_r2']:.4f}, Samples = {result['total_samples_used']} of {total_data_count}\")\n",
    "    \n",
    "    warnings.filterwarnings(\"default\", category=ConvergenceWarning)\n",
    "\n",
    "    return results_list"
   ]
  },
  {
   "cell_type": "markdown",
   "metadata": {},
   "source": [
    "#### Results Visualization & Preliminary Conclusions\n",
    "\n"
   ]
  },
  {
   "cell_type": "markdown",
   "metadata": {},
   "source": [
    "##### Visualization "
   ]
  },
  {
   "cell_type": "markdown",
   "metadata": {},
   "source": [
    "\n",
    "In this cell, we visualize the aggregated results. The visualization function now accepts:\n",
    "- `loop_type`: A string indicating the active sampling variant (e.g., \"Basic Active Loop\" or \"Stagnant Active Loop\").\n",
    "- `hyperparams`: A dictionary of hyperparameter values used for the active sampling loop.\n",
    "\n",
    "The function then creates a title that includes these hyperparameter values and displays three bar charts:\n",
    "- Final `R²` scores.\n",
    "- Total samples used.\n",
    "- Data utilization percentages (samples used as a percentage of total available data).\n",
    "\n"
   ]
  },
  {
   "cell_type": "code",
   "execution_count": 23,
   "metadata": {},
   "outputs": [],
   "source": [
    "import matplotlib.pyplot as plt\n",
    "\n",
    "def visualize_aggregated_results(results_list, loop_type, hyperparams):\n",
    "    title_str = f\"{loop_type} Results\"\n",
    "    \n",
    "    hyperparams_items = [f\"{k}: {v}\" for k, v in hyperparams.items()]\n",
    "    hyperparams_str = \"\"\n",
    "    for i in range(0, len(hyperparams_items), 3):\n",
    "        chunk = \" | \".join(hyperparams_items[i:i+3])\n",
    "        hyperparams_str += chunk + (\"\\n\" if i + 3 < len(hyperparams_items) else \"\")\n",
    "    \n",
    "    final_r2_list = [r['final_r2'] for r in results_list]\n",
    "    samples_used_list = [r['total_samples_used'] for r in results_list]\n",
    "    total_data_counts = [r['total_data_count'] for r in results_list]\n",
    "    data_utilization_list = [ (used / total) * 100 for used, total in zip(samples_used_list, total_data_counts)]\n",
    "    \n",
    "    n = len(results_list)\n",
    "    indices = range(n)\n",
    "    \n",
    "    avg_r2 = sum(final_r2_list) / n\n",
    "    avg_samples = sum(samples_used_list) / n\n",
    "    avg_utilization = sum(data_utilization_list) / n\n",
    "    \n",
    "    # Create subplots for the aggregated metrics.\n",
    "    fig, axes = plt.subplots(1, 3, figsize=(18, 6))\n",
    "    \n",
    "    # Bar chart for final R².\n",
    "    axes[0].bar(indices, final_r2_list, color='skyblue')\n",
    "    axes[0].axhline(avg_r2, color='red', linestyle='--', label=f'Avg R² = {avg_r2:.4f}')\n",
    "    axes[0].set_xlabel('Parameter Combination Index')\n",
    "    axes[0].set_ylabel('Final R²')\n",
    "    axes[0].set_title('Final R² for Each Combination')\n",
    "    axes[0].legend()\n",
    "    \n",
    "    # Bar chart for total samples used.\n",
    "    axes[1].bar(indices, samples_used_list, color='lightgreen')\n",
    "    axes[1].axhline(avg_samples, color='red', linestyle='--', label=f'Avg Samples = {avg_samples:.2f}')\n",
    "    axes[1].set_xlabel('Parameter Combination Index')\n",
    "    axes[1].set_ylabel('Total Samples Used')\n",
    "    axes[1].set_title('Samples Used per Combination')\n",
    "    axes[1].legend()\n",
    "    \n",
    "    # Bar chart for data utilization (%).\n",
    "    axes[2].bar(indices, data_utilization_list, color='plum')\n",
    "    axes[2].axhline(avg_utilization, color='red', linestyle='--', label=f'Avg Utilization = {avg_utilization:.2f}%')\n",
    "    axes[2].set_xlabel('Parameter Combination Index')\n",
    "    axes[2].set_ylabel('Data Utilization (%)')\n",
    "    axes[2].set_title('Data Utilization per Combination')\n",
    "    axes[2].legend()\n",
    "    \n",
    "    # Set a prominent super-title at the top.\n",
    "    plt.suptitle(title_str, fontsize=20, fontweight='bold', color='navy', y=0.98)\n",
    "    \n",
    "\n",
    "    plt.gcf().text(0.5, 0.85, f\"Hyperparameters:\\n\\n{hyperparams_str}\", \n",
    "                   fontsize=12, ha='center', va='center',\n",
    "                   bbox=dict(facecolor='lightgrey', alpha=0.6, boxstyle='round,pad=0.5'))\n",
    "    \n",
    "    # Adjust the layout so that subplots start below the hyperparameters container.\n",
    "    plt.tight_layout(rect=[0, 0, 1, 0.83])\n",
    "    plt.show()\n",
    "    \n",
    "    print(f\"Average Final R²: {avg_r2:.4f}\")\n",
    "    print(f\"Average Samples Used: {avg_samples:.2f}\")\n",
    "    print(f\"Average Data Utilization: {avg_utilization:.2f}%\")"
   ]
  },
  {
   "cell_type": "code",
   "execution_count": 24,
   "metadata": {},
   "outputs": [
    {
     "name": "stderr",
     "output_type": "stream",
     "text": [
      "Running basic active sampling: 100%|██████████| 40/40 [00:28<00:00,  1.42it/s]\n"
     ]
    },
    {
     "data": {
      "image/png": "[encoded data removed]",
      "text/plain": [
       "<Figure size 1800x600 with 3 Axes>"
      ]
     },
     "metadata": {},
     "output_type": "display_data"
    },
    {
     "name": "stdout",
     "output_type": "stream",
     "text": [
      "Average Final R²: 0.9417\n",
      "Average Samples Used: 18.00\n",
      "Average Data Utilization: 67.93%\n"
     ]
    }
   ],
   "source": [
    "basic_hyperparams = {\n",
    "    \"max_iterations\": 15,\n",
    "    \"uncertainty_threshold\": 0.05,\n",
    "}\n",
    "\n",
    "results_basic = run_active_sampling_basic(params_mostData, data_filtered, verbose=False, **basic_hyperparams)\n",
    "visualize_aggregated_results(results_basic, \"Basic Active Loop\", basic_hyperparams)"
   ]
  },
  {
   "cell_type": "code",
   "execution_count": 32,
   "metadata": {},
   "outputs": [
    {
     "name": "stderr",
     "output_type": "stream",
     "text": [
      "Running stagnant active sampling: 100%|██████████| 40/40 [00:28<00:00,  1.39it/s]\n"
     ]
    },
    {
     "data": {
      "image/png": "[encoded data removed]",
      "text/plain": [
       "<Figure size 1800x600 with 3 Axes>"
      ]
     },
     "metadata": {},
     "output_type": "display_data"
    },
    {
     "name": "stdout",
     "output_type": "stream",
     "text": [
      "Average Final R²: 0.9417\n",
      "Average Samples Used: 17.43\n",
      "Average Data Utilization: 65.74%\n"
     ]
    }
   ],
   "source": [
    "\n",
    "stagnant_hyperparams = {\n",
    "    \"max_iterations\": 15,\n",
    "    \"uncertainty_threshold\": 0.05,\n",
    "    \"higher_uncertainty_threshold\": 0.1,\n",
    "    \"r2_improvement_threshold\": 0.005,\n",
    "    \"max_stagnant_iterations\": 1\n",
    "}\n",
    "\n",
    "results_stagnant = run_active_sampling_stagnant(params_mostData, data_filtered, verbose=False, **stagnant_hyperparams)\n",
    "visualize_aggregated_results(results_stagnant, \"Stagnant Active Loop\", stagnant_hyperparams)"
   ]
  },
  {
   "cell_type": "markdown",
   "metadata": {},
   "source": [
    "##### Preliminary Conclusions"
   ]
  },
  {
   "cell_type": "markdown",
   "metadata": {},
   "source": [
    "**Results**:\n",
    "\n",
    "![Basic results updated](../images/step4-basic-Result(pre-tuning).png)\n",
    "\n",
    "![Stagnant results](../images/step4-stagnat-result(pre-tuning).png)  \n",
    "\n",
    "**Hyperparameters:**\n",
    "\n",
    "*   **Basic Model:** `max_iterations: 15`, `uncertainty_threshold: 0.05`\n",
    "*   **Stagnant Model:** `max_iterations: 15`, `uncertainty_threshold: 0.05`, `higher_uncertainty_threshold: 0.1`, `r2_improvement_threshold: 0.005`, `max_stagnant_iterations: 1`\n",
    "\n",
    "**Results Summary:**\n",
    "\n",
    "The following plots summarize the performance of both models:\n",
    "\n",
    "**(Insert the images of the \"Basic Active Loop Results\" and \"Stagnant Active Loop Results\" plots here)**\n",
    "\n",
    "| Metric                 | Basic Model (Avg) | Stagnant Model (Avg) |\n",
    "| :--------------------- | :----------------: | :------------------: |\n",
    "| Final R²               |       0.9423       |       0.9413        |\n",
    "| Data Utilization (%)   |       67.93%       |       65.14%        |\n",
    "| Samples Used          |        18.00         |        17.43        |\n",
    "\n",
    "**Analysis:**\n",
    "\n",
    "*   **High R-squared Scores:** Both the Basic and Stagnant models achieve excellent average R² scores (above 0.94), indicating a strong ability to fit the data well. This suggests that the Gaussian Process Regressor (GPR) is a suitable model for this dataset.\n",
    "\n",
    "*   **High Data Utilization:**  A significant concern is the high data utilization for both models, averaging around 68% for the Basic model and 65% for the Stagnant Model.  This means that a large portion of the available data is being used to train the models, which diminishes the benefits of active learning. Ideally, we want to achieve high R² with significantly *lower* data utilization.\n",
    "*    The `Stagnant` model preforms slightly better at utilizing less data, but the improvement is very marginal.\n",
    "\n",
    "*   **No Significant Difference Between Models:** Visually and numerically, there is no substantial difference in performance between the Basic and Stagnant models. This is surprising, given the Stagnant model's additional hyperparameters (`higher_uncertainty_threshold`, `r2_improvement_threshold`, `max_stagnant_iterations`) which were intended to control stagnation. The fact that the results are nearly identical suggests these additional parameters are not having the intended effect, or the stopping criterion is being triggered by something else before those hyperparameters can take effect. The most likely reason for that is the value of `max_iterations: 15`, which likely needs to be higher to see the effect of the added hyperparameters in the `Stagnant` model.\n",
    "\n",
    "*   **Hyperparameter Suspicion:** The high data utilization strongly suggests that the current hyperparameters are not optimal. Specifically, the `uncertainty_threshold` of 0.05 might be too low, forcing the models to select more data points to reduce uncertainty below this threshold. The low number of `max_iterations` parameter is preventing the `Stagnant` model from reaching the stages where the added stopping factors could effect the model.\n",
    "\n",
    "**Next Steps:**\n",
    "\n",
    "The primary goal of the next phase is to optimize the hyperparameters for *both* models.  We will employ Bayesian optimization to search for hyperparameter combinations that achieve a lower data utilization rate *without* significantly compromising the R² score.  The focus will be on finding a better balance between accuracy and data efficiency. We expect that increasing the`uncertainty_threshold`, and `max_iterations` will be key to improving performance."
   ]
  },
  {
   "cell_type": "markdown",
   "metadata": {},
   "source": [
    "### Fine-tuning hyperparameters  to get the best R^2 to Data utilization"
   ]
  },
  {
   "cell_type": "markdown",
   "metadata": {},
   "source": [
    "Our goal is to strike the right balance between model performance (as measured by R²) and data efficiency (minimizing the percentage of available data used).\n",
    "In our active sampling loops, the stopping criteria play a key role in this trade-off.\n",
    "\n",
    " **What We’re Tuning**\n",
    "\n",
    "**For the Basic Active Sampling Loop:**\n",
    "- **max_iterations:** The maximum number of iterations allowed.\n",
    "- **uncertainty_threshold:** The threshold below which the model’s uncertainty is considered low enough to stop sampling.\n",
    "\n",
    "**For the Stagnant Active Sampling Loop:**\n",
    "- **max_iterations:** Same as above.\n",
    "- **uncertainty_threshold:** Primary stopping threshold.\n",
    "- **higher_uncertainty_threshold:** A secondary threshold used when combined with stagnation.\n",
    "- **r2_improvement_threshold:** The minimum improvement in R² required between iterations.\n",
    "- **max_stagnant_iterations:** The maximum number of consecutive iterations with minimal R² improvement before stopping.\n",
    "\n",
    "**How would we do that?**\n",
    "\n",
    "We would use **BayesianOptimization** to fine-tune our hyperparameters because it efficiently explores the hyperparameter space by balancing exploration and exploitation. This method requires fewer iterations compared to exhaustive grid search and quickly converges to the best set of parameters that maximize our model's R².\n",
    "\n",
    "Our objective function returns the final R², and we define bounds for key hyperparameters (like uncertainty thresholds, R² improvement thresholds, and the maximum stagnant iterations). The optimized parameters help improve model performance and data utilization."
   ]
  },
  {
   "cell_type": "markdown",
   "metadata": {},
   "source": [
    "#### Fine-Tuning with Bayesian Optimization\n"
   ]
  },
  {
   "cell_type": "markdown",
   "metadata": {},
   "source": [
    "**Fine-Tuning Hyperparameters with Bayesian Optimization**\n",
    "\n",
    "We use Bayesian Optimization to search for the best hyperparameters for our stagnant active sampling loop. Our objective function, `objective_hyperparams_stagnant/basic`, randomly selects 5 parameter combinations from `params_mostData` (with sorted data) and runs the stagnant active sampling loop on each. It then computes the average final R² and average data utilization. A penalty is applied if the average R² falls below 0.96, ensuring that only hyperparameters yielding strong performance are favored.\n",
    "\n",
    "The optimizer then finds the hyperparameter values that maximize our objective. We save the optimized hyperparameters in a variable (`stagnant/basic_optimized_hyperparameters`) and also pickle them to disk for future use. Finally, we run the stagnant active sampling loop with these optimized parameters and visualize the results.\n",
    "\n",
    "This process ensures we balance high R² performance with low data utilization.\n"
   ]
  },
  {
   "cell_type": "markdown",
   "metadata": {},
   "source": [
    "##### Basic hyperparameters optimization"
   ]
  },
  {
   "cell_type": "code",
   "execution_count": 118,
   "metadata": {},
   "outputs": [
    {
     "name": "stdout",
     "output_type": "stream",
     "text": [
      "|   iter    |  target   | max_it... | uncert... |\n",
      "-------------------------------------------------\n"
     ]
    },
    {
     "name": "stderr",
     "output_type": "stream",
     "text": [
      "Running basic active sampling: 100%|██████████| 3/3 [00:01<00:00,  2.29it/s]\n"
     ]
    },
    {
     "name": "stdout",
     "output_type": "stream",
     "text": [
      "| \u001b[39m1        \u001b[39m | \u001b[39m-8.684   \u001b[39m | \u001b[39m7.491    \u001b[39m | \u001b[39m0.1906   \u001b[39m |\n"
     ]
    },
    {
     "name": "stderr",
     "output_type": "stream",
     "text": [
      "Running basic active sampling: 100%|██████████| 3/3 [00:02<00:00,  1.39it/s]\n"
     ]
    },
    {
     "name": "stdout",
     "output_type": "stream",
     "text": [
      "| \u001b[35m2        \u001b[39m | \u001b[35m0.4083   \u001b[39m | \u001b[35m14.64    \u001b[39m | \u001b[35m0.1237   \u001b[39m |\n"
     ]
    },
    {
     "name": "stderr",
     "output_type": "stream",
     "text": [
      "Running basic active sampling: 100%|██████████| 3/3 [00:00<00:00,  3.99it/s]\n"
     ]
    },
    {
     "name": "stdout",
     "output_type": "stream",
     "text": [
      "| \u001b[39m3        \u001b[39m | \u001b[39m-28.29   \u001b[39m | \u001b[39m3.12     \u001b[39m | \u001b[39m0.03964  \u001b[39m |\n"
     ]
    },
    {
     "name": "stderr",
     "output_type": "stream",
     "text": [
      "Running basic active sampling: 100%|██████████| 3/3 [00:00<00:00,  6.89it/s]\n"
     ]
    },
    {
     "name": "stdout",
     "output_type": "stream",
     "text": [
      "| \u001b[39m4        \u001b[39m | \u001b[39m-90.45   \u001b[39m | \u001b[39m1.162    \u001b[39m | \u001b[39m0.1746   \u001b[39m |\n"
     ]
    },
    {
     "name": "stderr",
     "output_type": "stream",
     "text": [
      "Running basic active sampling: 100%|██████████| 3/3 [00:02<00:00,  1.10it/s]\n"
     ]
    },
    {
     "name": "stdout",
     "output_type": "stream",
     "text": [
      "| \u001b[39m5        \u001b[39m | \u001b[39m-25.42   \u001b[39m | \u001b[39m12.02    \u001b[39m | \u001b[39m0.1445   \u001b[39m |\n"
     ]
    },
    {
     "name": "stderr",
     "output_type": "stream",
     "text": [
      "Running basic active sampling: 100%|██████████| 3/3 [00:02<00:00,  1.03it/s]\n"
     ]
    },
    {
     "name": "stdout",
     "output_type": "stream",
     "text": [
      "| \u001b[35m6        \u001b[39m | \u001b[35m0.4333   \u001b[39m | \u001b[35m14.59    \u001b[39m | \u001b[35m0.07248  \u001b[39m |\n"
     ]
    },
    {
     "name": "stderr",
     "output_type": "stream",
     "text": [
      "Running basic active sampling: 100%|██████████| 3/3 [00:02<00:00,  1.25it/s]\n"
     ]
    },
    {
     "name": "stdout",
     "output_type": "stream",
     "text": [
      "| \u001b[39m7        \u001b[39m | \u001b[39m0.2436   \u001b[39m | \u001b[39m17.51    \u001b[39m | \u001b[39m0.01213  \u001b[39m |\n"
     ]
    },
    {
     "name": "stderr",
     "output_type": "stream",
     "text": [
      "Running basic active sampling: 100%|██████████| 3/3 [00:02<00:00,  1.25it/s]\n"
     ]
    },
    {
     "name": "stdout",
     "output_type": "stream",
     "text": [
      "| \u001b[39m8        \u001b[39m | \u001b[39m0.2344   \u001b[39m | \u001b[39m20.0     \u001b[39m | \u001b[39m0.1548   \u001b[39m |\n"
     ]
    },
    {
     "name": "stderr",
     "output_type": "stream",
     "text": [
      "Running basic active sampling: 100%|██████████| 3/3 [00:01<00:00,  2.59it/s]\n"
     ]
    },
    {
     "name": "stdout",
     "output_type": "stream",
     "text": [
      "| \u001b[39m9        \u001b[39m | \u001b[39m-22.56   \u001b[39m | \u001b[39m5.357    \u001b[39m | \u001b[39m0.02994  \u001b[39m |\n"
     ]
    },
    {
     "name": "stderr",
     "output_type": "stream",
     "text": [
      "Running basic active sampling: 100%|██████████| 3/3 [00:01<00:00,  1.87it/s]\n"
     ]
    },
    {
     "name": "stdout",
     "output_type": "stream",
     "text": [
      "| \u001b[39m10       \u001b[39m | \u001b[39m-10.2    \u001b[39m | \u001b[39m9.457    \u001b[39m | \u001b[39m0.01564  \u001b[39m |\n"
     ]
    },
    {
     "name": "stderr",
     "output_type": "stream",
     "text": [
      "Running basic active sampling: 100%|██████████| 3/3 [00:02<00:00,  1.03it/s]\n"
     ]
    },
    {
     "name": "stdout",
     "output_type": "stream",
     "text": [
      "| \u001b[39m11       \u001b[39m | \u001b[39m0.2392   \u001b[39m | \u001b[39m16.15    \u001b[39m | \u001b[39m0.01077  \u001b[39m |\n"
     ]
    },
    {
     "name": "stderr",
     "output_type": "stream",
     "text": [
      "Running basic active sampling: 100%|██████████| 3/3 [00:02<00:00,  1.41it/s]\n"
     ]
    },
    {
     "name": "stdout",
     "output_type": "stream",
     "text": [
      "| \u001b[39m12       \u001b[39m | \u001b[39m0.4154   \u001b[39m | \u001b[39m18.8     \u001b[39m | \u001b[39m0.1993   \u001b[39m |\n"
     ]
    },
    {
     "name": "stderr",
     "output_type": "stream",
     "text": [
      "Running basic active sampling: 100%|██████████| 3/3 [00:02<00:00,  1.28it/s]\n"
     ]
    },
    {
     "name": "stdout",
     "output_type": "stream",
     "text": [
      "| \u001b[39m13       \u001b[39m | \u001b[39m-5.114   \u001b[39m | \u001b[39m15.25    \u001b[39m | \u001b[39m0.01     \u001b[39m |\n"
     ]
    },
    {
     "name": "stderr",
     "output_type": "stream",
     "text": [
      "Running basic active sampling: 100%|██████████| 3/3 [00:02<00:00,  1.50it/s]\n"
     ]
    },
    {
     "name": "stdout",
     "output_type": "stream",
     "text": [
      "| \u001b[39m14       \u001b[39m | \u001b[39m-7.99    \u001b[39m | \u001b[39m13.63    \u001b[39m | \u001b[39m0.1955   \u001b[39m |\n"
     ]
    },
    {
     "name": "stderr",
     "output_type": "stream",
     "text": [
      "Running basic active sampling: 100%|██████████| 3/3 [00:02<00:00,  1.28it/s]\n"
     ]
    },
    {
     "name": "stdout",
     "output_type": "stream",
     "text": [
      "| \u001b[39m15       \u001b[39m | \u001b[39m0.2719   \u001b[39m | \u001b[39m16.82    \u001b[39m | \u001b[39m0.1993   \u001b[39m |\n"
     ]
    },
    {
     "name": "stderr",
     "output_type": "stream",
     "text": [
      "Running basic active sampling: 100%|██████████| 3/3 [00:01<00:00,  1.90it/s]\n"
     ]
    },
    {
     "name": "stdout",
     "output_type": "stream",
     "text": [
      "| \u001b[39m16       \u001b[39m | \u001b[39m-12.07   \u001b[39m | \u001b[39m8.467    \u001b[39m | \u001b[39m0.199    \u001b[39m |\n"
     ]
    },
    {
     "name": "stderr",
     "output_type": "stream",
     "text": [
      "Running basic active sampling: 100%|██████████| 3/3 [00:03<00:00,  1.33s/it]\n"
     ]
    },
    {
     "name": "stdout",
     "output_type": "stream",
     "text": [
      "| \u001b[39m17       \u001b[39m | \u001b[39m0.2178   \u001b[39m | \u001b[39m19.4     \u001b[39m | \u001b[39m0.0109   \u001b[39m |\n"
     ]
    },
    {
     "name": "stderr",
     "output_type": "stream",
     "text": [
      "Running basic active sampling: 100%|██████████| 3/3 [00:03<00:00,  1.08s/it]\n"
     ]
    },
    {
     "name": "stdout",
     "output_type": "stream",
     "text": [
      "| \u001b[39m18       \u001b[39m | \u001b[39m0.1708   \u001b[39m | \u001b[39m18.33    \u001b[39m | \u001b[39m0.01211  \u001b[39m |\n"
     ]
    },
    {
     "name": "stderr",
     "output_type": "stream",
     "text": [
      "Running basic active sampling: 100%|██████████| 3/3 [00:02<00:00,  1.26it/s]\n"
     ]
    },
    {
     "name": "stdout",
     "output_type": "stream",
     "text": [
      "| \u001b[39m19       \u001b[39m | \u001b[39m-4.222   \u001b[39m | \u001b[39m17.91    \u001b[39m | \u001b[39m0.1978   \u001b[39m |\n"
     ]
    },
    {
     "name": "stderr",
     "output_type": "stream",
     "text": [
      "Running basic active sampling: 100%|██████████| 3/3 [00:02<00:00,  1.07it/s]\n"
     ]
    },
    {
     "name": "stdout",
     "output_type": "stream",
     "text": [
      "| \u001b[39m20       \u001b[39m | \u001b[39m0.2611   \u001b[39m | \u001b[39m16.8     \u001b[39m | \u001b[39m0.01097  \u001b[39m |\n"
     ]
    },
    {
     "name": "stderr",
     "output_type": "stream",
     "text": [
      "Running basic active sampling: 100%|██████████| 3/3 [00:01<00:00,  1.86it/s]\n"
     ]
    },
    {
     "name": "stdout",
     "output_type": "stream",
     "text": [
      "| \u001b[39m21       \u001b[39m | \u001b[39m-7.384   \u001b[39m | \u001b[39m10.53    \u001b[39m | \u001b[39m0.1956   \u001b[39m |\n"
     ]
    },
    {
     "name": "stderr",
     "output_type": "stream",
     "text": [
      "Running basic active sampling: 100%|██████████| 3/3 [00:02<00:00,  1.35it/s]\n"
     ]
    },
    {
     "name": "stdout",
     "output_type": "stream",
     "text": [
      "| \u001b[39m22       \u001b[39m | \u001b[39m-10.16   \u001b[39m | \u001b[39m14.24    \u001b[39m | \u001b[39m0.199    \u001b[39m |\n"
     ]
    },
    {
     "name": "stderr",
     "output_type": "stream",
     "text": [
      "Running basic active sampling: 100%|██████████| 3/3 [00:00<00:00,  3.05it/s]\n"
     ]
    },
    {
     "name": "stdout",
     "output_type": "stream",
     "text": [
      "| \u001b[39m23       \u001b[39m | \u001b[39m-25.66   \u001b[39m | \u001b[39m6.551    \u001b[39m | \u001b[39m0.02103  \u001b[39m |\n"
     ]
    },
    {
     "name": "stderr",
     "output_type": "stream",
     "text": [
      "Running basic active sampling: 100%|██████████| 3/3 [00:00<00:00,  3.94it/s]\n"
     ]
    },
    {
     "name": "stdout",
     "output_type": "stream",
     "text": [
      "| \u001b[39m24       \u001b[39m | \u001b[39m-30.85   \u001b[39m | \u001b[39m4.256    \u001b[39m | \u001b[39m0.1716   \u001b[39m |\n"
     ]
    },
    {
     "name": "stderr",
     "output_type": "stream",
     "text": [
      "Running basic active sampling: 100%|██████████| 3/3 [00:01<00:00,  1.61it/s]\n"
     ]
    },
    {
     "name": "stdout",
     "output_type": "stream",
     "text": [
      "| \u001b[39m25       \u001b[39m | \u001b[39m0.1522   \u001b[39m | \u001b[39m13.05    \u001b[39m | \u001b[39m0.01311  \u001b[39m |\n"
     ]
    },
    {
     "name": "stderr",
     "output_type": "stream",
     "text": [
      "Running basic active sampling: 100%|██████████| 3/3 [00:02<00:00,  1.16it/s]\n"
     ]
    },
    {
     "name": "stdout",
     "output_type": "stream",
     "text": [
      "| \u001b[39m26       \u001b[39m | \u001b[39m0.1966   \u001b[39m | \u001b[39m19.57    \u001b[39m | \u001b[39m0.1995   \u001b[39m |\n"
     ]
    },
    {
     "name": "stderr",
     "output_type": "stream",
     "text": [
      "Running basic active sampling: 100%|██████████| 3/3 [00:01<00:00,  1.69it/s]\n"
     ]
    },
    {
     "name": "stdout",
     "output_type": "stream",
     "text": [
      "| \u001b[39m27       \u001b[39m | \u001b[39m-5.315   \u001b[39m | \u001b[39m16.32    \u001b[39m | \u001b[39m0.1975   \u001b[39m |\n"
     ]
    },
    {
     "name": "stderr",
     "output_type": "stream",
     "text": [
      "Running basic active sampling: 100%|██████████| 3/3 [00:02<00:00,  1.41it/s]\n"
     ]
    },
    {
     "name": "stdout",
     "output_type": "stream",
     "text": [
      "| \u001b[39m28       \u001b[39m | \u001b[39m0.2889   \u001b[39m | \u001b[39m17.18    \u001b[39m | \u001b[39m0.196    \u001b[39m |\n"
     ]
    },
    {
     "name": "stderr",
     "output_type": "stream",
     "text": [
      "Running basic active sampling: 100%|██████████| 3/3 [00:01<00:00,  2.58it/s]\n"
     ]
    },
    {
     "name": "stdout",
     "output_type": "stream",
     "text": [
      "| \u001b[35m29       \u001b[39m | \u001b[35m0.5366   \u001b[39m | \u001b[35m9.999    \u001b[39m | \u001b[35m0.1961   \u001b[39m |\n"
     ]
    },
    {
     "name": "stderr",
     "output_type": "stream",
     "text": [
      "Running basic active sampling: 100%|██████████| 3/3 [00:01<00:00,  2.37it/s]\n"
     ]
    },
    {
     "name": "stdout",
     "output_type": "stream",
     "text": [
      "| \u001b[39m30       \u001b[39m | \u001b[39m-11.27   \u001b[39m | \u001b[39m10.13    \u001b[39m | \u001b[39m0.01938  \u001b[39m |\n"
     ]
    },
    {
     "name": "stderr",
     "output_type": "stream",
     "text": [
      "Running basic active sampling: 100%|██████████| 3/3 [00:01<00:00,  1.71it/s]\n"
     ]
    },
    {
     "name": "stdout",
     "output_type": "stream",
     "text": [
      "| \u001b[39m31       \u001b[39m | \u001b[39m-9.885   \u001b[39m | \u001b[39m12.96    \u001b[39m | \u001b[39m0.1962   \u001b[39m |\n"
     ]
    },
    {
     "name": "stderr",
     "output_type": "stream",
     "text": [
      "Running basic active sampling: 100%|██████████| 3/3 [00:02<00:00,  1.17it/s]\n"
     ]
    },
    {
     "name": "stdout",
     "output_type": "stream",
     "text": [
      "| \u001b[39m32       \u001b[39m | \u001b[39m0.1113   \u001b[39m | \u001b[39m18.78    \u001b[39m | \u001b[39m0.0114   \u001b[39m |\n"
     ]
    },
    {
     "name": "stderr",
     "output_type": "stream",
     "text": [
      "Running basic active sampling: 100%|██████████| 3/3 [00:01<00:00,  1.61it/s]\n"
     ]
    },
    {
     "name": "stdout",
     "output_type": "stream",
     "text": [
      "| \u001b[39m33       \u001b[39m | \u001b[39m0.4311   \u001b[39m | \u001b[39m13.35    \u001b[39m | \u001b[39m0.01727  \u001b[39m |\n"
     ]
    },
    {
     "name": "stderr",
     "output_type": "stream",
     "text": [
      "Running basic active sampling: 100%|██████████| 3/3 [00:02<00:00,  1.24it/s]\n"
     ]
    },
    {
     "name": "stdout",
     "output_type": "stream",
     "text": [
      "| \u001b[39m34       \u001b[39m | \u001b[39m0.1505   \u001b[39m | \u001b[39m19.86    \u001b[39m | \u001b[39m0.01099  \u001b[39m |\n"
     ]
    },
    {
     "name": "stderr",
     "output_type": "stream",
     "text": [
      "Running basic active sampling: 100%|██████████| 3/3 [00:01<00:00,  1.53it/s]\n"
     ]
    },
    {
     "name": "stdout",
     "output_type": "stream",
     "text": [
      "| \u001b[39m35       \u001b[39m | \u001b[39m0.3322   \u001b[39m | \u001b[39m15.81    \u001b[39m | \u001b[39m0.01641  \u001b[39m |\n"
     ]
    },
    {
     "name": "stderr",
     "output_type": "stream",
     "text": [
      "Running basic active sampling: 100%|██████████| 3/3 [00:02<00:00,  1.48it/s]\n"
     ]
    },
    {
     "name": "stdout",
     "output_type": "stream",
     "text": [
      "| \u001b[39m36       \u001b[39m | \u001b[39m0.373    \u001b[39m | \u001b[39m19.15    \u001b[39m | \u001b[39m0.1951   \u001b[39m |\n"
     ]
    },
    {
     "name": "stderr",
     "output_type": "stream",
     "text": [
      "Running basic active sampling: 100%|██████████| 3/3 [00:01<00:00,  2.18it/s]\n"
     ]
    },
    {
     "name": "stdout",
     "output_type": "stream",
     "text": [
      "| \u001b[39m37       \u001b[39m | \u001b[39m-27.64   \u001b[39m | \u001b[39m9.672    \u001b[39m | \u001b[39m0.1959   \u001b[39m |\n"
     ]
    },
    {
     "name": "stderr",
     "output_type": "stream",
     "text": [
      "Running basic active sampling: 100%|██████████| 3/3 [00:00<00:00, 13.12it/s]\n"
     ]
    },
    {
     "name": "stdout",
     "output_type": "stream",
     "text": [
      "| \u001b[39m38       \u001b[39m | \u001b[39m-92.43   \u001b[39m | \u001b[39m0.01459  \u001b[39m | \u001b[39m0.02321  \u001b[39m |\n"
     ]
    },
    {
     "name": "stderr",
     "output_type": "stream",
     "text": [
      "Running basic active sampling: 100%|██████████| 3/3 [00:01<00:00,  2.11it/s]\n"
     ]
    },
    {
     "name": "stdout",
     "output_type": "stream",
     "text": [
      "| \u001b[39m39       \u001b[39m | \u001b[39m-6.735   \u001b[39m | \u001b[39m8.994    \u001b[39m | \u001b[39m0.01308  \u001b[39m |\n"
     ]
    },
    {
     "name": "stderr",
     "output_type": "stream",
     "text": [
      "Running basic active sampling: 100%|██████████| 3/3 [00:00<00:00,  5.74it/s]\n"
     ]
    },
    {
     "name": "stdout",
     "output_type": "stream",
     "text": [
      "| \u001b[39m40       \u001b[39m | \u001b[39m-46.19   \u001b[39m | \u001b[39m2.993    \u001b[39m | \u001b[39m0.09568  \u001b[39m |\n"
     ]
    },
    {
     "name": "stderr",
     "output_type": "stream",
     "text": [
      "Running basic active sampling: 100%|██████████| 3/3 [00:01<00:00,  2.40it/s]\n"
     ]
    },
    {
     "name": "stdout",
     "output_type": "stream",
     "text": [
      "| \u001b[39m41       \u001b[39m | \u001b[39m-5.116   \u001b[39m | \u001b[39m9.981    \u001b[39m | \u001b[39m0.193    \u001b[39m |\n"
     ]
    },
    {
     "name": "stderr",
     "output_type": "stream",
     "text": [
      "Running basic active sampling: 100%|██████████| 3/3 [00:02<00:00,  1.03it/s]\n"
     ]
    },
    {
     "name": "stdout",
     "output_type": "stream",
     "text": [
      "| \u001b[39m42       \u001b[39m | \u001b[39m0.3846   \u001b[39m | \u001b[39m17.71    \u001b[39m | \u001b[39m0.03851  \u001b[39m |\n"
     ]
    },
    {
     "name": "stderr",
     "output_type": "stream",
     "text": [
      "Running basic active sampling: 100%|██████████| 3/3 [00:02<00:00,  1.41it/s]\n"
     ]
    },
    {
     "name": "stdout",
     "output_type": "stream",
     "text": [
      "| \u001b[39m43       \u001b[39m | \u001b[39m0.4609   \u001b[39m | \u001b[39m12.47    \u001b[39m | \u001b[39m0.06837  \u001b[39m |\n"
     ]
    },
    {
     "name": "stderr",
     "output_type": "stream",
     "text": [
      "Running basic active sampling: 100%|██████████| 3/3 [00:01<00:00,  1.95it/s]\n"
     ]
    },
    {
     "name": "stdout",
     "output_type": "stream",
     "text": [
      "| \u001b[39m44       \u001b[39m | \u001b[39m-11.39   \u001b[39m | \u001b[39m10.2     \u001b[39m | \u001b[39m0.1992   \u001b[39m |\n"
     ]
    },
    {
     "name": "stderr",
     "output_type": "stream",
     "text": [
      "Running basic active sampling: 100%|██████████| 3/3 [00:02<00:00,  1.24it/s]\n"
     ]
    },
    {
     "name": "stdout",
     "output_type": "stream",
     "text": [
      "| \u001b[39m45       \u001b[39m | \u001b[39m-0.1532  \u001b[39m | \u001b[39m17.19    \u001b[39m | \u001b[39m0.05602  \u001b[39m |\n"
     ]
    },
    {
     "name": "stderr",
     "output_type": "stream",
     "text": [
      "Running basic active sampling: 100%|██████████| 3/3 [00:02<00:00,  1.18it/s]\n"
     ]
    },
    {
     "name": "stdout",
     "output_type": "stream",
     "text": [
      "| \u001b[39m46       \u001b[39m | \u001b[39m-4.383   \u001b[39m | \u001b[39m16.8     \u001b[39m | \u001b[39m0.01091  \u001b[39m |\n"
     ]
    },
    {
     "name": "stderr",
     "output_type": "stream",
     "text": [
      "Running basic active sampling: 100%|██████████| 3/3 [00:01<00:00,  1.61it/s]\n"
     ]
    },
    {
     "name": "stdout",
     "output_type": "stream",
     "text": [
      "| \u001b[39m47       \u001b[39m | \u001b[39m-3.907   \u001b[39m | \u001b[39m12.47    \u001b[39m | \u001b[39m0.06959  \u001b[39m |\n"
     ]
    },
    {
     "name": "stderr",
     "output_type": "stream",
     "text": [
      "Running basic active sampling: 100%|██████████| 3/3 [00:01<00:00,  1.74it/s]\n"
     ]
    },
    {
     "name": "stdout",
     "output_type": "stream",
     "text": [
      "| \u001b[39m48       \u001b[39m | \u001b[39m-3.355   \u001b[39m | \u001b[39m14.64    \u001b[39m | \u001b[39m0.1235   \u001b[39m |\n"
     ]
    },
    {
     "name": "stderr",
     "output_type": "stream",
     "text": [
      "Running basic active sampling: 100%|██████████| 3/3 [00:01<00:00,  2.00it/s]\n"
     ]
    },
    {
     "name": "stdout",
     "output_type": "stream",
     "text": [
      "| \u001b[39m49       \u001b[39m | \u001b[39m0.4438   \u001b[39m | \u001b[39m16.32    \u001b[39m | \u001b[39m0.1994   \u001b[39m |\n"
     ]
    },
    {
     "name": "stderr",
     "output_type": "stream",
     "text": [
      "Running basic active sampling: 100%|██████████| 3/3 [00:01<00:00,  1.76it/s]\n"
     ]
    },
    {
     "name": "stdout",
     "output_type": "stream",
     "text": [
      "| \u001b[39m50       \u001b[39m | \u001b[39m0.423    \u001b[39m | \u001b[39m17.18    \u001b[39m | \u001b[39m0.1985   \u001b[39m |\n"
     ]
    },
    {
     "name": "stderr",
     "output_type": "stream",
     "text": [
      "Running basic active sampling: 100%|██████████| 3/3 [00:01<00:00,  1.66it/s]\n"
     ]
    },
    {
     "name": "stdout",
     "output_type": "stream",
     "text": [
      "| \u001b[39m51       \u001b[39m | \u001b[39m0.3389   \u001b[39m | \u001b[39m14.59    \u001b[39m | \u001b[39m0.07531  \u001b[39m |\n"
     ]
    },
    {
     "name": "stderr",
     "output_type": "stream",
     "text": [
      "Running basic active sampling: 100%|██████████| 3/3 [00:02<00:00,  1.37it/s]\n"
     ]
    },
    {
     "name": "stdout",
     "output_type": "stream",
     "text": [
      "| \u001b[39m52       \u001b[39m | \u001b[39m0.3521   \u001b[39m | \u001b[39m16.8     \u001b[39m | \u001b[39m0.01278  \u001b[39m |\n"
     ]
    },
    {
     "name": "stderr",
     "output_type": "stream",
     "text": [
      "Running basic active sampling: 100%|██████████| 3/3 [00:00<00:00,  3.33it/s]\n"
     ]
    },
    {
     "name": "stdout",
     "output_type": "stream",
     "text": [
      "| \u001b[39m53       \u001b[39m | \u001b[39m-4.931   \u001b[39m | \u001b[39m7.492    \u001b[39m | \u001b[39m0.1899   \u001b[39m |\n"
     ]
    },
    {
     "name": "stderr",
     "output_type": "stream",
     "text": [
      "Running basic active sampling: 100%|██████████| 3/3 [00:01<00:00,  2.24it/s]\n"
     ]
    },
    {
     "name": "stdout",
     "output_type": "stream",
     "text": [
      "| \u001b[39m54       \u001b[39m | \u001b[39m-3.428   \u001b[39m | \u001b[39m10.53    \u001b[39m | \u001b[39m0.1968   \u001b[39m |\n"
     ]
    },
    {
     "name": "stderr",
     "output_type": "stream",
     "text": [
      "Running basic active sampling: 100%|██████████| 3/3 [00:01<00:00,  1.56it/s]\n"
     ]
    },
    {
     "name": "stdout",
     "output_type": "stream",
     "text": [
      "| \u001b[39m55       \u001b[39m | \u001b[39m0.4188   \u001b[39m | \u001b[39m13.63    \u001b[39m | \u001b[39m0.1949   \u001b[39m |\n"
     ]
    },
    {
     "name": "stderr",
     "output_type": "stream",
     "text": [
      "Running basic active sampling: 100%|██████████| 3/3 [00:02<00:00,  1.22it/s]\n"
     ]
    },
    {
     "name": "stdout",
     "output_type": "stream",
     "text": [
      "| \u001b[39m56       \u001b[39m | \u001b[39m0.1981   \u001b[39m | \u001b[39m17.2     \u001b[39m | \u001b[39m0.05609  \u001b[39m |\n"
     ]
    },
    {
     "name": "stderr",
     "output_type": "stream",
     "text": [
      "Running basic active sampling: 100%|██████████| 3/3 [00:02<00:00,  1.39it/s]\n"
     ]
    },
    {
     "name": "stdout",
     "output_type": "stream",
     "text": [
      "| \u001b[39m57       \u001b[39m | \u001b[39m0.1546   \u001b[39m | \u001b[39m17.19    \u001b[39m | \u001b[39m0.05602  \u001b[39m |\n"
     ]
    },
    {
     "name": "stderr",
     "output_type": "stream",
     "text": [
      "Running basic active sampling: 100%|██████████| 3/3 [00:02<00:00,  1.49it/s]\n"
     ]
    },
    {
     "name": "stdout",
     "output_type": "stream",
     "text": [
      "| \u001b[39m58       \u001b[39m | \u001b[39m0.4904   \u001b[39m | \u001b[39m19.57    \u001b[39m | \u001b[39m0.1994   \u001b[39m |\n"
     ]
    },
    {
     "name": "stderr",
     "output_type": "stream",
     "text": [
      "Running basic active sampling: 100%|██████████| 3/3 [00:01<00:00,  1.71it/s]\n"
     ]
    },
    {
     "name": "stdout",
     "output_type": "stream",
     "text": [
      "| \u001b[39m59       \u001b[39m | \u001b[39m0.4908   \u001b[39m | \u001b[39m13.63    \u001b[39m | \u001b[39m0.1967   \u001b[39m |\n"
     ]
    },
    {
     "name": "stderr",
     "output_type": "stream",
     "text": [
      "Running basic active sampling: 100%|██████████| 3/3 [00:02<00:00,  1.34it/s]\n"
     ]
    },
    {
     "name": "stdout",
     "output_type": "stream",
     "text": [
      "| \u001b[39m60       \u001b[39m | \u001b[39m0.1348   \u001b[39m | \u001b[39m18.33    \u001b[39m | \u001b[39m0.01179  \u001b[39m |\n"
     ]
    },
    {
     "name": "stderr",
     "output_type": "stream",
     "text": [
      "Running basic active sampling: 100%|██████████| 3/3 [00:02<00:00,  1.47it/s]\n"
     ]
    },
    {
     "name": "stdout",
     "output_type": "stream",
     "text": [
      "| \u001b[39m61       \u001b[39m | \u001b[39m0.4084   \u001b[39m | \u001b[39m19.57    \u001b[39m | \u001b[39m0.1982   \u001b[39m |\n"
     ]
    },
    {
     "name": "stderr",
     "output_type": "stream",
     "text": [
      "Running basic active sampling: 100%|██████████| 3/3 [00:02<00:00,  1.32it/s]\n"
     ]
    },
    {
     "name": "stdout",
     "output_type": "stream",
     "text": [
      "| \u001b[39m62       \u001b[39m | \u001b[39m-0.01224 \u001b[39m | \u001b[39m17.18    \u001b[39m | \u001b[39m0.1959   \u001b[39m |\n"
     ]
    },
    {
     "name": "stderr",
     "output_type": "stream",
     "text": [
      "Running basic active sampling: 100%|██████████| 3/3 [00:02<00:00,  1.50it/s]\n"
     ]
    },
    {
     "name": "stdout",
     "output_type": "stream",
     "text": [
      "| \u001b[39m63       \u001b[39m | \u001b[39m-3.466   \u001b[39m | \u001b[39m15.81    \u001b[39m | \u001b[39m0.01825  \u001b[39m |\n"
     ]
    },
    {
     "name": "stderr",
     "output_type": "stream",
     "text": [
      "Running basic active sampling: 100%|██████████| 3/3 [00:02<00:00,  1.35it/s]\n"
     ]
    },
    {
     "name": "stdout",
     "output_type": "stream",
     "text": [
      "| \u001b[39m64       \u001b[39m | \u001b[39m0.345    \u001b[39m | \u001b[39m17.71    \u001b[39m | \u001b[39m0.03757  \u001b[39m |\n"
     ]
    },
    {
     "name": "stderr",
     "output_type": "stream",
     "text": [
      "Running basic active sampling: 100%|██████████| 3/3 [00:02<00:00,  1.11it/s]\n"
     ]
    },
    {
     "name": "stdout",
     "output_type": "stream",
     "text": [
      "| \u001b[39m65       \u001b[39m | \u001b[39m0.2839   \u001b[39m | \u001b[39m18.78    \u001b[39m | \u001b[39m0.01139  \u001b[39m |\n"
     ]
    },
    {
     "name": "stderr",
     "output_type": "stream",
     "text": [
      "Running basic active sampling: 100%|██████████| 3/3 [00:02<00:00,  1.32it/s]\n"
     ]
    },
    {
     "name": "stdout",
     "output_type": "stream",
     "text": [
      "| \u001b[39m66       \u001b[39m | \u001b[39m0.2691   \u001b[39m | \u001b[39m20.0     \u001b[39m | \u001b[39m0.1555   \u001b[39m |\n"
     ]
    },
    {
     "name": "stderr",
     "output_type": "stream",
     "text": [
      "Running basic active sampling: 100%|██████████| 3/3 [00:02<00:00,  1.16it/s]\n"
     ]
    },
    {
     "name": "stdout",
     "output_type": "stream",
     "text": [
      "| \u001b[39m67       \u001b[39m | \u001b[39m0.1734   \u001b[39m | \u001b[39m19.15    \u001b[39m | \u001b[39m0.1925   \u001b[39m |\n"
     ]
    },
    {
     "name": "stderr",
     "output_type": "stream",
     "text": [
      "Running basic active sampling: 100%|██████████| 3/3 [00:02<00:00,  1.29it/s]\n"
     ]
    },
    {
     "name": "stdout",
     "output_type": "stream",
     "text": [
      "| \u001b[39m68       \u001b[39m | \u001b[39m0.3695   \u001b[39m | \u001b[39m19.99    \u001b[39m | \u001b[39m0.154    \u001b[39m |\n"
     ]
    },
    {
     "name": "stderr",
     "output_type": "stream",
     "text": [
      "Running basic active sampling: 100%|██████████| 3/3 [00:01<00:00,  1.88it/s]\n"
     ]
    },
    {
     "name": "stdout",
     "output_type": "stream",
     "text": [
      "| \u001b[39m69       \u001b[39m | \u001b[39m0.4916   \u001b[39m | \u001b[39m17.91    \u001b[39m | \u001b[39m0.1993   \u001b[39m |\n"
     ]
    },
    {
     "name": "stderr",
     "output_type": "stream",
     "text": [
      "Running basic active sampling: 100%|██████████| 3/3 [00:01<00:00,  1.69it/s]\n"
     ]
    },
    {
     "name": "stdout",
     "output_type": "stream",
     "text": [
      "| \u001b[39m70       \u001b[39m | \u001b[39m0.3179   \u001b[39m | \u001b[39m16.32    \u001b[39m | \u001b[39m0.1967   \u001b[39m |\n"
     ]
    },
    {
     "name": "stderr",
     "output_type": "stream",
     "text": [
      "Running basic active sampling: 100%|██████████| 3/3 [00:01<00:00,  1.60it/s]\n"
     ]
    },
    {
     "name": "stdout",
     "output_type": "stream",
     "text": [
      "| \u001b[39m71       \u001b[39m | \u001b[39m-6.542   \u001b[39m | \u001b[39m14.58    \u001b[39m | \u001b[39m0.07729  \u001b[39m |\n"
     ]
    },
    {
     "name": "stderr",
     "output_type": "stream",
     "text": [
      "Running basic active sampling: 100%|██████████| 3/3 [00:01<00:00,  1.98it/s]\n"
     ]
    },
    {
     "name": "stdout",
     "output_type": "stream",
     "text": [
      "| \u001b[39m72       \u001b[39m | \u001b[39m0.4861   \u001b[39m | \u001b[39m17.18    \u001b[39m | \u001b[39m0.1967   \u001b[39m |\n"
     ]
    },
    {
     "name": "stderr",
     "output_type": "stream",
     "text": [
      "Running basic active sampling: 100%|██████████| 3/3 [00:02<00:00,  1.28it/s]\n"
     ]
    },
    {
     "name": "stdout",
     "output_type": "stream",
     "text": [
      "| \u001b[39m73       \u001b[39m | \u001b[39m0.2436   \u001b[39m | \u001b[39m17.51    \u001b[39m | \u001b[39m0.0116   \u001b[39m |\n"
     ]
    },
    {
     "name": "stderr",
     "output_type": "stream",
     "text": [
      "Running basic active sampling: 100%|██████████| 3/3 [00:02<00:00,  1.37it/s]\n"
     ]
    },
    {
     "name": "stdout",
     "output_type": "stream",
     "text": [
      "| \u001b[39m74       \u001b[39m | \u001b[39m0.3594   \u001b[39m | \u001b[39m19.16    \u001b[39m | \u001b[39m0.1938   \u001b[39m |\n"
     ]
    },
    {
     "name": "stderr",
     "output_type": "stream",
     "text": [
      "Running basic active sampling: 100%|██████████| 3/3 [00:01<00:00,  2.00it/s]\n"
     ]
    },
    {
     "name": "stdout",
     "output_type": "stream",
     "text": [
      "| \u001b[39m75       \u001b[39m | \u001b[39m-8.873   \u001b[39m | \u001b[39m12.47    \u001b[39m | \u001b[39m0.06742  \u001b[39m |\n"
     ]
    },
    {
     "name": "stderr",
     "output_type": "stream",
     "text": [
      "Running basic active sampling: 100%|██████████| 3/3 [00:01<00:00,  1.98it/s]\n"
     ]
    },
    {
     "name": "stdout",
     "output_type": "stream",
     "text": [
      "| \u001b[39m76       \u001b[39m | \u001b[39m-36.21   \u001b[39m | \u001b[39m10.53    \u001b[39m | \u001b[39m0.1979   \u001b[39m |\n"
     ]
    },
    {
     "name": "stderr",
     "output_type": "stream",
     "text": [
      "Running basic active sampling: 100%|██████████| 3/3 [00:02<00:00,  1.18it/s]\n"
     ]
    },
    {
     "name": "stdout",
     "output_type": "stream",
     "text": [
      "| \u001b[39m77       \u001b[39m | \u001b[39m0.1823   \u001b[39m | \u001b[39m18.33    \u001b[39m | \u001b[39m0.0101   \u001b[39m |\n"
     ]
    },
    {
     "name": "stderr",
     "output_type": "stream",
     "text": [
      "Running basic active sampling: 100%|██████████| 3/3 [00:02<00:00,  1.42it/s]\n"
     ]
    },
    {
     "name": "stdout",
     "output_type": "stream",
     "text": [
      "| \u001b[39m78       \u001b[39m | \u001b[39m0.3931   \u001b[39m | \u001b[39m15.25    \u001b[39m | \u001b[39m0.01178  \u001b[39m |\n"
     ]
    },
    {
     "name": "stderr",
     "output_type": "stream",
     "text": [
      "Running basic active sampling: 100%|██████████| 3/3 [00:01<00:00,  1.85it/s]\n"
     ]
    },
    {
     "name": "stdout",
     "output_type": "stream",
     "text": [
      "| \u001b[39m79       \u001b[39m | \u001b[39m-6.941   \u001b[39m | \u001b[39m12.47    \u001b[39m | \u001b[39m0.06695  \u001b[39m |\n"
     ]
    },
    {
     "name": "stderr",
     "output_type": "stream",
     "text": [
      "Running basic active sampling: 100%|██████████| 3/3 [00:02<00:00,  1.29it/s]\n"
     ]
    },
    {
     "name": "stdout",
     "output_type": "stream",
     "text": [
      "| \u001b[39m80       \u001b[39m | \u001b[39m0.2175   \u001b[39m | \u001b[39m17.2     \u001b[39m | \u001b[39m0.05386  \u001b[39m |\n"
     ]
    },
    {
     "name": "stderr",
     "output_type": "stream",
     "text": [
      "Running basic active sampling: 100%|██████████| 3/3 [00:02<00:00,  1.30it/s]\n"
     ]
    },
    {
     "name": "stdout",
     "output_type": "stream",
     "text": [
      "| \u001b[39m81       \u001b[39m | \u001b[39m0.2809   \u001b[39m | \u001b[39m18.78    \u001b[39m | \u001b[39m0.01348  \u001b[39m |\n"
     ]
    },
    {
     "name": "stderr",
     "output_type": "stream",
     "text": [
      "Running basic active sampling: 100%|██████████| 3/3 [00:01<00:00,  1.77it/s]\n"
     ]
    },
    {
     "name": "stdout",
     "output_type": "stream",
     "text": [
      "| \u001b[39m82       \u001b[39m | \u001b[39m-9.539   \u001b[39m | \u001b[39m16.82    \u001b[39m | \u001b[39m0.1991   \u001b[39m |\n"
     ]
    },
    {
     "name": "stderr",
     "output_type": "stream",
     "text": [
      "Running basic active sampling: 100%|██████████| 3/3 [00:01<00:00,  1.76it/s]\n"
     ]
    },
    {
     "name": "stdout",
     "output_type": "stream",
     "text": [
      "| \u001b[39m83       \u001b[39m | \u001b[39m-9.92    \u001b[39m | \u001b[39m12.47    \u001b[39m | \u001b[39m0.06862  \u001b[39m |\n"
     ]
    },
    {
     "name": "stderr",
     "output_type": "stream",
     "text": [
      "Running basic active sampling: 100%|██████████| 3/3 [00:01<00:00,  1.69it/s]\n"
     ]
    },
    {
     "name": "stdout",
     "output_type": "stream",
     "text": [
      "| \u001b[39m84       \u001b[39m | \u001b[39m0.4222   \u001b[39m | \u001b[39m13.35    \u001b[39m | \u001b[39m0.01832  \u001b[39m |\n"
     ]
    },
    {
     "name": "stderr",
     "output_type": "stream",
     "text": [
      "Running basic active sampling: 100%|██████████| 3/3 [00:01<00:00,  1.71it/s]\n"
     ]
    },
    {
     "name": "stdout",
     "output_type": "stream",
     "text": [
      "| \u001b[39m85       \u001b[39m | \u001b[39m-11.83   \u001b[39m | \u001b[39m13.63    \u001b[39m | \u001b[39m0.1972   \u001b[39m |\n"
     ]
    },
    {
     "name": "stderr",
     "output_type": "stream",
     "text": [
      "Running basic active sampling: 100%|██████████| 3/3 [00:01<00:00,  2.34it/s]\n"
     ]
    },
    {
     "name": "stdout",
     "output_type": "stream",
     "text": [
      "| \u001b[39m86       \u001b[39m | \u001b[39m-19.62   \u001b[39m | \u001b[39m10.0     \u001b[39m | \u001b[39m0.1966   \u001b[39m |\n"
     ]
    },
    {
     "name": "stderr",
     "output_type": "stream",
     "text": [
      "Running basic active sampling: 100%|██████████| 3/3 [00:02<00:00,  1.33it/s]\n"
     ]
    },
    {
     "name": "stdout",
     "output_type": "stream",
     "text": [
      "| \u001b[39m87       \u001b[39m | \u001b[39m-4.761   \u001b[39m | \u001b[39m15.81    \u001b[39m | \u001b[39m0.01723  \u001b[39m |\n"
     ]
    },
    {
     "name": "stderr",
     "output_type": "stream",
     "text": [
      "Running basic active sampling: 100%|██████████| 3/3 [00:02<00:00,  1.33it/s]\n"
     ]
    },
    {
     "name": "stdout",
     "output_type": "stream",
     "text": [
      "| \u001b[39m88       \u001b[39m | \u001b[39m0.2318   \u001b[39m | \u001b[39m20.0     \u001b[39m | \u001b[39m0.159    \u001b[39m |\n"
     ]
    },
    {
     "name": "stderr",
     "output_type": "stream",
     "text": [
      "Running basic active sampling: 100%|██████████| 3/3 [00:01<00:00,  1.63it/s]\n"
     ]
    },
    {
     "name": "stdout",
     "output_type": "stream",
     "text": [
      "| \u001b[39m89       \u001b[39m | \u001b[39m0.2917   \u001b[39m | \u001b[39m14.59    \u001b[39m | \u001b[39m0.0756   \u001b[39m |\n"
     ]
    },
    {
     "name": "stderr",
     "output_type": "stream",
     "text": [
      "Running basic active sampling: 100%|██████████| 3/3 [00:01<00:00,  1.70it/s]\n"
     ]
    },
    {
     "name": "stdout",
     "output_type": "stream",
     "text": [
      "| \u001b[39m90       \u001b[39m | \u001b[39m-3.368   \u001b[39m | \u001b[39m14.58    \u001b[39m | \u001b[39m0.07148  \u001b[39m |\n"
     ]
    },
    {
     "name": "stderr",
     "output_type": "stream",
     "text": [
      "Running basic active sampling: 100%|██████████| 3/3 [00:01<00:00,  1.84it/s]\n"
     ]
    },
    {
     "name": "stdout",
     "output_type": "stream",
     "text": [
      "| \u001b[39m91       \u001b[39m | \u001b[39m-4.158   \u001b[39m | \u001b[39m16.32    \u001b[39m | \u001b[39m0.1986   \u001b[39m |\n"
     ]
    },
    {
     "name": "stderr",
     "output_type": "stream",
     "text": [
      "Running basic active sampling: 100%|██████████| 3/3 [00:01<00:00,  2.16it/s]\n"
     ]
    },
    {
     "name": "stdout",
     "output_type": "stream",
     "text": [
      "| \u001b[39m92       \u001b[39m | \u001b[39m0.4635   \u001b[39m | \u001b[39m13.63    \u001b[39m | \u001b[39m0.1987   \u001b[39m |\n"
     ]
    },
    {
     "name": "stderr",
     "output_type": "stream",
     "text": [
      "Running basic active sampling: 100%|██████████| 3/3 [00:01<00:00,  1.52it/s]\n"
     ]
    },
    {
     "name": "stdout",
     "output_type": "stream",
     "text": [
      "| \u001b[39m93       \u001b[39m | \u001b[39m0.2054   \u001b[39m | \u001b[39m17.19    \u001b[39m | \u001b[39m0.05591  \u001b[39m |\n"
     ]
    },
    {
     "name": "stderr",
     "output_type": "stream",
     "text": [
      "Running basic active sampling: 100%|██████████| 3/3 [00:02<00:00,  1.42it/s]\n"
     ]
    },
    {
     "name": "stdout",
     "output_type": "stream",
     "text": [
      "| \u001b[39m94       \u001b[39m | \u001b[39m0.2058   \u001b[39m | \u001b[39m18.77    \u001b[39m | \u001b[39m0.01293  \u001b[39m |\n"
     ]
    },
    {
     "name": "stderr",
     "output_type": "stream",
     "text": [
      "Running basic active sampling: 100%|██████████| 3/3 [00:01<00:00,  1.76it/s]\n"
     ]
    },
    {
     "name": "stdout",
     "output_type": "stream",
     "text": [
      "| \u001b[39m95       \u001b[39m | \u001b[39m-10.44   \u001b[39m | \u001b[39m13.63    \u001b[39m | \u001b[39m0.1977   \u001b[39m |\n"
     ]
    },
    {
     "name": "stderr",
     "output_type": "stream",
     "text": [
      "Running basic active sampling: 100%|██████████| 3/3 [00:01<00:00,  1.52it/s]\n"
     ]
    },
    {
     "name": "stdout",
     "output_type": "stream",
     "text": [
      "| \u001b[39m96       \u001b[39m | \u001b[39m0.3015   \u001b[39m | \u001b[39m15.25    \u001b[39m | \u001b[39m0.01119  \u001b[39m |\n"
     ]
    },
    {
     "name": "stderr",
     "output_type": "stream",
     "text": [
      "Running basic active sampling: 100%|██████████| 3/3 [00:02<00:00,  1.49it/s]\n"
     ]
    },
    {
     "name": "stdout",
     "output_type": "stream",
     "text": [
      "| \u001b[39m97       \u001b[39m | \u001b[39m-6.004   \u001b[39m | \u001b[39m14.59    \u001b[39m | \u001b[39m0.07484  \u001b[39m |\n"
     ]
    },
    {
     "name": "stderr",
     "output_type": "stream",
     "text": [
      "Running basic active sampling: 100%|██████████| 3/3 [00:01<00:00,  1.51it/s]\n"
     ]
    },
    {
     "name": "stdout",
     "output_type": "stream",
     "text": [
      "| \u001b[39m98       \u001b[39m | \u001b[39m-0.9614  \u001b[39m | \u001b[39m17.18    \u001b[39m | \u001b[39m0.1953   \u001b[39m |\n"
     ]
    },
    {
     "name": "stderr",
     "output_type": "stream",
     "text": [
      "Running basic active sampling: 100%|██████████| 3/3 [00:02<00:00,  1.21it/s]\n"
     ]
    },
    {
     "name": "stdout",
     "output_type": "stream",
     "text": [
      "| \u001b[39m99       \u001b[39m | \u001b[39m0.4739   \u001b[39m | \u001b[39m20.0     \u001b[39m | \u001b[39m0.1596   \u001b[39m |\n"
     ]
    },
    {
     "name": "stderr",
     "output_type": "stream",
     "text": [
      "Running basic active sampling: 100%|██████████| 3/3 [00:01<00:00,  1.93it/s]\n"
     ]
    },
    {
     "name": "stdout",
     "output_type": "stream",
     "text": [
      "| \u001b[39m100      \u001b[39m | \u001b[39m0.3765   \u001b[39m | \u001b[39m14.64    \u001b[39m | \u001b[39m0.1216   \u001b[39m |\n"
     ]
    },
    {
     "name": "stderr",
     "output_type": "stream",
     "text": [
      "Running basic active sampling: 100%|██████████| 3/3 [00:01<00:00,  1.55it/s]\n"
     ]
    },
    {
     "name": "stdout",
     "output_type": "stream",
     "text": [
      "| \u001b[39m101      \u001b[39m | \u001b[39m0.485    \u001b[39m | \u001b[39m20.0     \u001b[39m | \u001b[39m0.1555   \u001b[39m |\n"
     ]
    },
    {
     "name": "stderr",
     "output_type": "stream",
     "text": [
      "Running basic active sampling: 100%|██████████| 3/3 [00:02<00:00,  1.49it/s]\n"
     ]
    },
    {
     "name": "stdout",
     "output_type": "stream",
     "text": [
      "| \u001b[39m102      \u001b[39m | \u001b[39m0.3457   \u001b[39m | \u001b[39m15.81    \u001b[39m | \u001b[39m0.01544  \u001b[39m |\n"
     ]
    },
    {
     "name": "stderr",
     "output_type": "stream",
     "text": [
      "Running basic active sampling: 100%|██████████| 3/3 [00:01<00:00,  2.44it/s]\n"
     ]
    },
    {
     "name": "stdout",
     "output_type": "stream",
     "text": [
      "| \u001b[39m103      \u001b[39m | \u001b[39m-24.42   \u001b[39m | \u001b[39m9.98     \u001b[39m | \u001b[39m0.1917   \u001b[39m |\n"
     ]
    },
    {
     "name": "stderr",
     "output_type": "stream",
     "text": [
      "Running basic active sampling: 100%|██████████| 3/3 [00:02<00:00,  1.32it/s]\n"
     ]
    },
    {
     "name": "stdout",
     "output_type": "stream",
     "text": [
      "| \u001b[39m104      \u001b[39m | \u001b[39m0.2561   \u001b[39m | \u001b[39m18.77    \u001b[39m | \u001b[39m0.011    \u001b[39m |\n"
     ]
    },
    {
     "name": "stderr",
     "output_type": "stream",
     "text": [
      "Running basic active sampling: 100%|██████████| 3/3 [00:01<00:00,  1.52it/s]\n"
     ]
    },
    {
     "name": "stdout",
     "output_type": "stream",
     "text": [
      "| \u001b[39m105      \u001b[39m | \u001b[39m0.3802   \u001b[39m | \u001b[39m16.32    \u001b[39m | \u001b[39m0.1979   \u001b[39m |\n"
     ]
    },
    {
     "name": "stderr",
     "output_type": "stream",
     "text": [
      "Running basic active sampling: 100%|██████████| 3/3 [00:02<00:00,  1.36it/s]\n"
     ]
    },
    {
     "name": "stdout",
     "output_type": "stream",
     "text": [
      "| \u001b[39m106      \u001b[39m | \u001b[39m0.2      \u001b[39m | \u001b[39m17.71    \u001b[39m | \u001b[39m0.04209  \u001b[39m |\n"
     ]
    },
    {
     "name": "stderr",
     "output_type": "stream",
     "text": [
      "Running basic active sampling: 100%|██████████| 3/3 [00:01<00:00,  1.53it/s]\n"
     ]
    },
    {
     "name": "stdout",
     "output_type": "stream",
     "text": [
      "| \u001b[39m107      \u001b[39m | \u001b[39m0.4266   \u001b[39m | \u001b[39m16.79    \u001b[39m | \u001b[39m0.01498  \u001b[39m |\n"
     ]
    },
    {
     "name": "stderr",
     "output_type": "stream",
     "text": [
      "Running basic active sampling: 100%|██████████| 3/3 [00:02<00:00,  1.35it/s]\n"
     ]
    },
    {
     "name": "stdout",
     "output_type": "stream",
     "text": [
      "| \u001b[39m108      \u001b[39m | \u001b[39m0.2238   \u001b[39m | \u001b[39m17.19    \u001b[39m | \u001b[39m0.05323  \u001b[39m |\n"
     ]
    },
    {
     "name": "stderr",
     "output_type": "stream",
     "text": [
      "Running basic active sampling: 100%|██████████| 3/3 [00:01<00:00,  1.87it/s]\n"
     ]
    },
    {
     "name": "stdout",
     "output_type": "stream",
     "text": [
      "| \u001b[39m109      \u001b[39m | \u001b[39m0.4583   \u001b[39m | \u001b[39m16.32    \u001b[39m | \u001b[39m0.1929   \u001b[39m |\n"
     ]
    },
    {
     "name": "stderr",
     "output_type": "stream",
     "text": [
      "Running basic active sampling: 100%|██████████| 3/3 [00:02<00:00,  1.25it/s]\n"
     ]
    },
    {
     "name": "stdout",
     "output_type": "stream",
     "text": [
      "| \u001b[39m110      \u001b[39m | \u001b[39m0.2067   \u001b[39m | \u001b[39m18.32    \u001b[39m | \u001b[39m0.01092  \u001b[39m |\n"
     ]
    },
    {
     "name": "stderr",
     "output_type": "stream",
     "text": [
      "Running basic active sampling: 100%|██████████| 3/3 [00:02<00:00,  1.46it/s]\n"
     ]
    },
    {
     "name": "stdout",
     "output_type": "stream",
     "text": [
      "| \u001b[39m111      \u001b[39m | \u001b[39m0.3      \u001b[39m | \u001b[39m17.91    \u001b[39m | \u001b[39m0.1965   \u001b[39m |\n"
     ]
    },
    {
     "name": "stderr",
     "output_type": "stream",
     "text": [
      "Running basic active sampling: 100%|██████████| 3/3 [00:02<00:00,  1.28it/s]\n"
     ]
    },
    {
     "name": "stdout",
     "output_type": "stream",
     "text": [
      "| \u001b[39m112      \u001b[39m | \u001b[39m0.1768   \u001b[39m | \u001b[39m17.18    \u001b[39m | \u001b[39m0.199    \u001b[39m |\n"
     ]
    },
    {
     "name": "stderr",
     "output_type": "stream",
     "text": [
      "Running basic active sampling: 100%|██████████| 3/3 [00:02<00:00,  1.40it/s]\n"
     ]
    },
    {
     "name": "stdout",
     "output_type": "stream",
     "text": [
      "| \u001b[39m113      \u001b[39m | \u001b[39m-0.4843  \u001b[39m | \u001b[39m17.19    \u001b[39m | \u001b[39m0.05753  \u001b[39m |\n"
     ]
    },
    {
     "name": "stderr",
     "output_type": "stream",
     "text": [
      "Running basic active sampling: 100%|██████████| 3/3 [00:02<00:00,  1.24it/s]\n"
     ]
    },
    {
     "name": "stdout",
     "output_type": "stream",
     "text": [
      "| \u001b[39m114      \u001b[39m | \u001b[39m0.2561   \u001b[39m | \u001b[39m18.77    \u001b[39m | \u001b[39m0.01151  \u001b[39m |\n"
     ]
    },
    {
     "name": "stderr",
     "output_type": "stream",
     "text": [
      "Running basic active sampling: 100%|██████████| 3/3 [00:01<00:00,  1.64it/s]\n"
     ]
    },
    {
     "name": "stdout",
     "output_type": "stream",
     "text": [
      "| \u001b[39m115      \u001b[39m | \u001b[39m0.4222   \u001b[39m | \u001b[39m17.18    \u001b[39m | \u001b[39m0.1994   \u001b[39m |\n"
     ]
    },
    {
     "name": "stderr",
     "output_type": "stream",
     "text": [
      "Running basic active sampling: 100%|██████████| 3/3 [00:02<00:00,  1.42it/s]\n"
     ]
    },
    {
     "name": "stdout",
     "output_type": "stream",
     "text": [
      "| \u001b[39m116      \u001b[39m | \u001b[39m0.2667   \u001b[39m | \u001b[39m17.91    \u001b[39m | \u001b[39m0.1952   \u001b[39m |\n"
     ]
    },
    {
     "name": "stderr",
     "output_type": "stream",
     "text": [
      "Running basic active sampling: 100%|██████████| 3/3 [00:01<00:00,  1.75it/s]\n"
     ]
    },
    {
     "name": "stdout",
     "output_type": "stream",
     "text": [
      "| \u001b[39m117      \u001b[39m | \u001b[39m0.3845   \u001b[39m | \u001b[39m17.91    \u001b[39m | \u001b[39m0.1963   \u001b[39m |\n"
     ]
    },
    {
     "name": "stderr",
     "output_type": "stream",
     "text": [
      "Running basic active sampling: 100%|██████████| 3/3 [00:02<00:00,  1.16it/s]\n"
     ]
    },
    {
     "name": "stdout",
     "output_type": "stream",
     "text": [
      "| \u001b[39m118      \u001b[39m | \u001b[39m0.1679   \u001b[39m | \u001b[39m19.4     \u001b[39m | \u001b[39m0.01207  \u001b[39m |\n"
     ]
    },
    {
     "name": "stderr",
     "output_type": "stream",
     "text": [
      "Running basic active sampling: 100%|██████████| 3/3 [00:01<00:00,  1.86it/s]\n"
     ]
    },
    {
     "name": "stdout",
     "output_type": "stream",
     "text": [
      "| \u001b[39m119      \u001b[39m | \u001b[39m0.3611   \u001b[39m | \u001b[39m14.64    \u001b[39m | \u001b[39m0.1231   \u001b[39m |\n"
     ]
    },
    {
     "name": "stderr",
     "output_type": "stream",
     "text": [
      "Running basic active sampling: 100%|██████████| 3/3 [00:02<00:00,  1.41it/s]\n"
     ]
    },
    {
     "name": "stdout",
     "output_type": "stream",
     "text": [
      "| \u001b[39m120      \u001b[39m | \u001b[39m0.3561   \u001b[39m | \u001b[39m17.51    \u001b[39m | \u001b[39m0.01156  \u001b[39m |\n"
     ]
    },
    {
     "name": "stderr",
     "output_type": "stream",
     "text": [
      "Running basic active sampling: 100%|██████████| 3/3 [00:02<00:00,  1.12it/s]\n"
     ]
    },
    {
     "name": "stdout",
     "output_type": "stream",
     "text": [
      "| \u001b[39m121      \u001b[39m | \u001b[39m0.154    \u001b[39m | \u001b[39m18.77    \u001b[39m | \u001b[39m0.01463  \u001b[39m |\n"
     ]
    },
    {
     "name": "stderr",
     "output_type": "stream",
     "text": [
      "Running basic active sampling: 100%|██████████| 3/3 [00:02<00:00,  1.19it/s]\n"
     ]
    },
    {
     "name": "stdout",
     "output_type": "stream",
     "text": [
      "| \u001b[39m122      \u001b[39m | \u001b[39m0.4471   \u001b[39m | \u001b[39m14.64    \u001b[39m | \u001b[39m0.1238   \u001b[39m |\n"
     ]
    },
    {
     "name": "stderr",
     "output_type": "stream",
     "text": [
      "Running basic active sampling: 100%|██████████| 3/3 [00:02<00:00,  1.07it/s]\n"
     ]
    },
    {
     "name": "stdout",
     "output_type": "stream",
     "text": [
      "| \u001b[39m123      \u001b[39m | \u001b[39m-3.579   \u001b[39m | \u001b[39m14.59    \u001b[39m | \u001b[39m0.06993  \u001b[39m |\n"
     ]
    },
    {
     "name": "stderr",
     "output_type": "stream",
     "text": [
      "Running basic active sampling: 100%|██████████| 3/3 [00:02<00:00,  1.16it/s]\n"
     ]
    },
    {
     "name": "stdout",
     "output_type": "stream",
     "text": [
      "| \u001b[39m124      \u001b[39m | \u001b[39m-3.659   \u001b[39m | \u001b[39m16.8     \u001b[39m | \u001b[39m0.018    \u001b[39m |\n"
     ]
    },
    {
     "name": "stderr",
     "output_type": "stream",
     "text": [
      "Running basic active sampling: 100%|██████████| 3/3 [00:01<00:00,  1.55it/s]\n"
     ]
    },
    {
     "name": "stdout",
     "output_type": "stream",
     "text": [
      "| \u001b[39m125      \u001b[39m | \u001b[39m0.5138   \u001b[39m | \u001b[39m17.18    \u001b[39m | \u001b[39m0.1985   \u001b[39m |\n"
     ]
    },
    {
     "name": "stderr",
     "output_type": "stream",
     "text": [
      "Running basic active sampling: 100%|██████████| 3/3 [00:02<00:00,  1.18it/s]\n"
     ]
    },
    {
     "name": "stdout",
     "output_type": "stream",
     "text": [
      "| \u001b[39m126      \u001b[39m | \u001b[39m0.3709   \u001b[39m | \u001b[39m20.0     \u001b[39m | \u001b[39m0.1582   \u001b[39m |\n"
     ]
    },
    {
     "name": "stderr",
     "output_type": "stream",
     "text": [
      "Running basic active sampling: 100%|██████████| 3/3 [00:02<00:00,  1.02it/s]\n"
     ]
    },
    {
     "name": "stdout",
     "output_type": "stream",
     "text": [
      "| \u001b[39m127      \u001b[39m | \u001b[39m0.2498   \u001b[39m | \u001b[39m17.19    \u001b[39m | \u001b[39m0.05443  \u001b[39m |\n"
     ]
    },
    {
     "name": "stderr",
     "output_type": "stream",
     "text": [
      "Running basic active sampling: 100%|██████████| 3/3 [00:03<00:00,  1.03s/it]\n"
     ]
    },
    {
     "name": "stdout",
     "output_type": "stream",
     "text": [
      "| \u001b[39m128      \u001b[39m | \u001b[39m0.2657   \u001b[39m | \u001b[39m17.19    \u001b[39m | \u001b[39m0.1956   \u001b[39m |\n"
     ]
    },
    {
     "name": "stderr",
     "output_type": "stream",
     "text": [
      "Running basic active sampling: 100%|██████████| 3/3 [00:02<00:00,  1.00it/s]\n"
     ]
    },
    {
     "name": "stdout",
     "output_type": "stream",
     "text": [
      "| \u001b[39m129      \u001b[39m | \u001b[39m0.2175   \u001b[39m | \u001b[39m17.71    \u001b[39m | \u001b[39m0.04025  \u001b[39m |\n"
     ]
    },
    {
     "name": "stderr",
     "output_type": "stream",
     "text": [
      "Running basic active sampling: 100%|██████████| 3/3 [00:02<00:00,  1.10it/s]\n"
     ]
    },
    {
     "name": "stdout",
     "output_type": "stream",
     "text": [
      "| \u001b[39m130      \u001b[39m | \u001b[39m0.3257   \u001b[39m | \u001b[39m17.19    \u001b[39m | \u001b[39m0.05547  \u001b[39m |\n"
     ]
    },
    {
     "name": "stderr",
     "output_type": "stream",
     "text": [
      "Running basic active sampling: 100%|██████████| 3/3 [00:02<00:00,  1.08it/s]\n"
     ]
    },
    {
     "name": "stdout",
     "output_type": "stream",
     "text": [
      "| \u001b[39m131      \u001b[39m | \u001b[39m0.2991   \u001b[39m | \u001b[39m17.19    \u001b[39m | \u001b[39m0.05365  \u001b[39m |\n"
     ]
    },
    {
     "name": "stderr",
     "output_type": "stream",
     "text": [
      "Running basic active sampling: 100%|██████████| 3/3 [00:02<00:00,  1.24it/s]\n"
     ]
    },
    {
     "name": "stdout",
     "output_type": "stream",
     "text": [
      "| \u001b[39m132      \u001b[39m | \u001b[39m0.1991   \u001b[39m | \u001b[39m17.51    \u001b[39m | \u001b[39m0.01025  \u001b[39m |\n"
     ]
    },
    {
     "name": "stderr",
     "output_type": "stream",
     "text": [
      "Running basic active sampling: 100%|██████████| 3/3 [00:02<00:00,  1.44it/s]\n"
     ]
    },
    {
     "name": "stdout",
     "output_type": "stream",
     "text": [
      "| \u001b[39m133      \u001b[39m | \u001b[39m0.3778   \u001b[39m | \u001b[39m13.35    \u001b[39m | \u001b[39m0.01792  \u001b[39m |\n"
     ]
    },
    {
     "name": "stderr",
     "output_type": "stream",
     "text": [
      "Running basic active sampling: 100%|██████████| 3/3 [00:02<00:00,  1.21it/s]\n"
     ]
    },
    {
     "name": "stdout",
     "output_type": "stream",
     "text": [
      "| \u001b[39m134      \u001b[39m | \u001b[39m-2.828   \u001b[39m | \u001b[39m16.8     \u001b[39m | \u001b[39m0.0121   \u001b[39m |\n"
     ]
    },
    {
     "name": "stderr",
     "output_type": "stream",
     "text": [
      "Running basic active sampling: 100%|██████████| 3/3 [00:01<00:00,  1.65it/s]\n"
     ]
    },
    {
     "name": "stdout",
     "output_type": "stream",
     "text": [
      "| \u001b[39m135      \u001b[39m | \u001b[39m0.45     \u001b[39m | \u001b[39m14.64    \u001b[39m | \u001b[39m0.1251   \u001b[39m |\n"
     ]
    },
    {
     "name": "stderr",
     "output_type": "stream",
     "text": [
      "Running basic active sampling: 100%|██████████| 3/3 [00:02<00:00,  1.35it/s]\n"
     ]
    },
    {
     "name": "stdout",
     "output_type": "stream",
     "text": [
      "| \u001b[39m136      \u001b[39m | \u001b[39m0.45     \u001b[39m | \u001b[39m20.0     \u001b[39m | \u001b[39m0.1541   \u001b[39m |\n"
     ]
    },
    {
     "name": "stderr",
     "output_type": "stream",
     "text": [
      "Running basic active sampling: 100%|██████████| 3/3 [00:02<00:00,  1.20it/s]\n"
     ]
    },
    {
     "name": "stdout",
     "output_type": "stream",
     "text": [
      "| \u001b[39m137      \u001b[39m | \u001b[39m0.195    \u001b[39m | \u001b[39m18.77    \u001b[39m | \u001b[39m0.01538  \u001b[39m |\n"
     ]
    },
    {
     "name": "stderr",
     "output_type": "stream",
     "text": [
      "Running basic active sampling: 100%|██████████| 3/3 [00:01<00:00,  1.63it/s]\n"
     ]
    },
    {
     "name": "stdout",
     "output_type": "stream",
     "text": [
      "| \u001b[39m138      \u001b[39m | \u001b[39m0.4332   \u001b[39m | \u001b[39m13.05    \u001b[39m | \u001b[39m0.01565  \u001b[39m |\n"
     ]
    },
    {
     "name": "stderr",
     "output_type": "stream",
     "text": [
      "Running basic active sampling: 100%|██████████| 3/3 [00:02<00:00,  1.46it/s]\n"
     ]
    },
    {
     "name": "stdout",
     "output_type": "stream",
     "text": [
      "| \u001b[39m139      \u001b[39m | \u001b[39m0.5185   \u001b[39m | \u001b[39m17.91    \u001b[39m | \u001b[39m0.1972   \u001b[39m |\n"
     ]
    },
    {
     "name": "stderr",
     "output_type": "stream",
     "text": [
      "Running basic active sampling: 100%|██████████| 3/3 [00:01<00:00,  1.57it/s]\n"
     ]
    },
    {
     "name": "stdout",
     "output_type": "stream",
     "text": [
      "| \u001b[39m140      \u001b[39m | \u001b[39m0.3623   \u001b[39m | \u001b[39m15.25    \u001b[39m | \u001b[39m0.01041  \u001b[39m |\n"
     ]
    },
    {
     "name": "stderr",
     "output_type": "stream",
     "text": [
      "Running basic active sampling: 100%|██████████| 3/3 [00:00<00:00,  4.15it/s]\n"
     ]
    },
    {
     "name": "stdout",
     "output_type": "stream",
     "text": [
      "| \u001b[39m141      \u001b[39m | \u001b[39m-46.91   \u001b[39m | \u001b[39m4.224    \u001b[39m | \u001b[39m0.1008   \u001b[39m |\n"
     ]
    },
    {
     "name": "stderr",
     "output_type": "stream",
     "text": [
      "Running basic active sampling: 100%|██████████| 3/3 [00:02<00:00,  1.25it/s]\n"
     ]
    },
    {
     "name": "stdout",
     "output_type": "stream",
     "text": [
      "| \u001b[39m142      \u001b[39m | \u001b[39m0.1707   \u001b[39m | \u001b[39m18.78    \u001b[39m | \u001b[39m0.0129   \u001b[39m |\n"
     ]
    },
    {
     "name": "stderr",
     "output_type": "stream",
     "text": [
      "Running basic active sampling: 100%|██████████| 3/3 [00:01<00:00,  1.56it/s]\n"
     ]
    },
    {
     "name": "stdout",
     "output_type": "stream",
     "text": [
      "| \u001b[39m143      \u001b[39m | \u001b[39m0.3622   \u001b[39m | \u001b[39m20.0     \u001b[39m | \u001b[39m0.1568   \u001b[39m |\n"
     ]
    },
    {
     "name": "stderr",
     "output_type": "stream",
     "text": [
      "Running basic active sampling: 100%|██████████| 3/3 [00:02<00:00,  1.50it/s]\n"
     ]
    },
    {
     "name": "stdout",
     "output_type": "stream",
     "text": [
      "| \u001b[39m144      \u001b[39m | \u001b[39m0.3596   \u001b[39m | \u001b[39m20.0     \u001b[39m | \u001b[39m0.154    \u001b[39m |\n"
     ]
    },
    {
     "name": "stderr",
     "output_type": "stream",
     "text": [
      "Running basic active sampling: 100%|██████████| 3/3 [00:02<00:00,  1.22it/s]\n"
     ]
    },
    {
     "name": "stdout",
     "output_type": "stream",
     "text": [
      "| \u001b[39m145      \u001b[39m | \u001b[39m0.273    \u001b[39m | \u001b[39m17.71    \u001b[39m | \u001b[39m0.03973  \u001b[39m |\n"
     ]
    },
    {
     "name": "stderr",
     "output_type": "stream",
     "text": [
      "Running basic active sampling: 100%|██████████| 3/3 [00:02<00:00,  1.05it/s]\n"
     ]
    },
    {
     "name": "stdout",
     "output_type": "stream",
     "text": [
      "| \u001b[39m146      \u001b[39m | \u001b[39m0.1392   \u001b[39m | \u001b[39m19.4     \u001b[39m | \u001b[39m0.0119   \u001b[39m |\n"
     ]
    },
    {
     "name": "stderr",
     "output_type": "stream",
     "text": [
      "Running basic active sampling: 100%|██████████| 3/3 [00:01<00:00,  1.76it/s]\n"
     ]
    },
    {
     "name": "stdout",
     "output_type": "stream",
     "text": [
      "| \u001b[39m147      \u001b[39m | \u001b[39m0.3868   \u001b[39m | \u001b[39m14.64    \u001b[39m | \u001b[39m0.1207   \u001b[39m |\n"
     ]
    },
    {
     "name": "stderr",
     "output_type": "stream",
     "text": [
      "Running basic active sampling: 100%|██████████| 3/3 [00:02<00:00,  1.02it/s]\n"
     ]
    },
    {
     "name": "stdout",
     "output_type": "stream",
     "text": [
      "| \u001b[39m148      \u001b[39m | \u001b[39m0.2639   \u001b[39m | \u001b[39m19.57    \u001b[39m | \u001b[39m0.1973   \u001b[39m |\n"
     ]
    },
    {
     "name": "stderr",
     "output_type": "stream",
     "text": [
      "Running basic active sampling: 100%|██████████| 3/3 [00:03<00:00,  1.01s/it]\n"
     ]
    },
    {
     "name": "stdout",
     "output_type": "stream",
     "text": [
      "| \u001b[39m149      \u001b[39m | \u001b[39m0.1434   \u001b[39m | \u001b[39m19.86    \u001b[39m | \u001b[39m0.01229  \u001b[39m |\n"
     ]
    },
    {
     "name": "stderr",
     "output_type": "stream",
     "text": [
      "Running basic active sampling: 100%|██████████| 3/3 [00:01<00:00,  2.40it/s]\n"
     ]
    },
    {
     "name": "stdout",
     "output_type": "stream",
     "text": [
      "| \u001b[39m150      \u001b[39m | \u001b[39m-6.262   \u001b[39m | \u001b[39m7.698    \u001b[39m | \u001b[39m0.1412   \u001b[39m |\n"
     ]
    },
    {
     "name": "stderr",
     "output_type": "stream",
     "text": [
      "Running basic active sampling: 100%|██████████| 3/3 [00:02<00:00,  1.50it/s]\n"
     ]
    },
    {
     "name": "stdout",
     "output_type": "stream",
     "text": [
      "| \u001b[39m151      \u001b[39m | \u001b[39m0.3949   \u001b[39m | \u001b[39m13.35    \u001b[39m | \u001b[39m0.01544  \u001b[39m |\n"
     ]
    },
    {
     "name": "stderr",
     "output_type": "stream",
     "text": [
      "Running basic active sampling: 100%|██████████| 3/3 [00:03<00:00,  1.20s/it]\n"
     ]
    },
    {
     "name": "stdout",
     "output_type": "stream",
     "text": [
      "| \u001b[39m152      \u001b[39m | \u001b[39m0.2344   \u001b[39m | \u001b[39m19.4     \u001b[39m | \u001b[39m0.01062  \u001b[39m |\n"
     ]
    },
    {
     "name": "stderr",
     "output_type": "stream",
     "text": [
      "Running basic active sampling: 100%|██████████| 3/3 [00:02<00:00,  1.15it/s]\n"
     ]
    },
    {
     "name": "stdout",
     "output_type": "stream",
     "text": [
      "| \u001b[39m153      \u001b[39m | \u001b[39m0.4727   \u001b[39m | \u001b[39m16.82    \u001b[39m | \u001b[39m0.198    \u001b[39m |\n"
     ]
    },
    {
     "name": "stderr",
     "output_type": "stream",
     "text": [
      "Running basic active sampling: 100%|██████████| 3/3 [00:01<00:00,  2.56it/s]\n"
     ]
    },
    {
     "name": "stdout",
     "output_type": "stream",
     "text": [
      "| \u001b[39m154      \u001b[39m | \u001b[39m-16.99   \u001b[39m | \u001b[39m5.653    \u001b[39m | \u001b[39m0.03051  \u001b[39m |\n"
     ]
    },
    {
     "name": "stderr",
     "output_type": "stream",
     "text": [
      "Running basic active sampling: 100%|██████████| 3/3 [00:02<00:00,  1.14it/s]"
     ]
    },
    {
     "name": "stdout",
     "output_type": "stream",
     "text": [
      "| \u001b[39m155      \u001b[39m | \u001b[39m0.249    \u001b[39m | \u001b[39m17.91    \u001b[39m | \u001b[39m0.1993   \u001b[39m |\n",
      "=================================================\n"
     ]
    },
    {
     "name": "stderr",
     "output_type": "stream",
     "text": [
      "\n"
     ]
    }
   ],
   "source": [
    "%%script echo skipping\n",
    "import random\n",
    "from bayes_opt import BayesianOptimization\n",
    "import pickle\n",
    "\n",
    "def objective_hyperparams_basic(uncertainty_threshold, max_iterations):\n",
    "    max_iterations = int(max_iterations)\n",
    "    hyperparams = {\"max_iterations\": max_iterations, \"uncertainty_threshold\": uncertainty_threshold}\n",
    "\n",
    "    selected_params = random.sample(params_mostData, 3)\n",
    "    results_list = run_active_sampling_basic(selected_params, data_filtered, sort=True, verbose=False, **hyperparams)\n",
    "    \n",
    "    avg_r2 = sum(result['final_r2'] for result in results_list) / len(results_list)\n",
    "    utilization_vals = [result['total_samples_used'] / result['total_data_count'] for result in results_list]\n",
    "    avg_utilization = sum(utilization_vals) / len(utilization_vals)\n",
    "    score = 1 - avg_utilization\n",
    "    if avg_r2 < 0.95:\n",
    "        penalty = (0.95 - avg_r2) * 100\n",
    "        score -= penalty\n",
    "    return score\n",
    "\n",
    "pbounds_basic = {\"uncertainty_threshold\": (0.01, 0.2), \"max_iterations\": (0, 20)}\n",
    "\n",
    "optimizer_basic = BayesianOptimization(f=objective_hyperparams_basic, pbounds=pbounds_basic, random_state=42)\n",
    "optimizer_basic.maximize(init_points=5, n_iter=150)\n",
    "\n",
    "basic_optimized_hyperparameters = {k: int(v) if k == \"max_iterations\" else v for k, v in optimizer_basic.max['params'].items()}\n",
    "\n",
    "with open(\"../pickeled/step-4-basic_optimized_hyperparameters.pkl\", \"wb\") as f:\n",
    "    pickle.dump(basic_optimized_hyperparameters, f)\n"
   ]
  },
  {
   "cell_type": "code",
   "execution_count": 181,
   "metadata": {},
   "outputs": [
    {
     "name": "stdout",
     "output_type": "stream",
     "text": [
      "{'max_iterations': 9, 'uncertainty_threshold': np.float64(0.19606440374189626)}\n"
     ]
    },
    {
     "name": "stderr",
     "output_type": "stream",
     "text": [
      "Running basic active sampling: 100%|██████████| 40/40 [00:18<00:00,  2.16it/s]\n"
     ]
    },
    {
     "data": {
      "image/png": "[encoded data removed]",
      "text/plain": [
       "<Figure size 1800x600 with 3 Axes>"
      ]
     },
     "metadata": {},
     "output_type": "display_data"
    },
    {
     "name": "stdout",
     "output_type": "stream",
     "text": [
      "Average Final R²: 0.8183\n",
      "Average Samples Used: 12.00\n",
      "Average Data Utilization: 45.28%\n"
     ]
    }
   ],
   "source": [
    "with open(\"../pickeled/step-4-basic_optimized_hyperparameters.pkl\", \"rb\") as f:\n",
    "    basic_optimized_hyperparameters = pickle.load(f)\n",
    "\n",
    "print(basic_optimized_hyperparameters)\n",
    "results_basic = run_active_sampling_basic(params_mostData, data_filtered, sort=True, verbose=False, **basic_optimized_hyperparameters)\n",
    "visualize_aggregated_results(results_basic, \"Basic - sorted - optimized \", basic_optimized_hyperparameters)"
   ]
  },
  {
   "cell_type": "markdown",
   "metadata": {},
   "source": [
    "##### Stagnant hyperparameters optimization"
   ]
  },
  {
   "cell_type": "code",
   "execution_count": 37,
   "metadata": {},
   "outputs": [],
   "source": [
    "def objective_hyperparams_stagnant(uncertainty_threshold, higher_uncertainty_threshold, r2_improvement_threshold, max_stagnant_iterations, max_iterations):\n",
    "    max_stagnant_iterations = int(max_stagnant_iterations)\n",
    "    max_iterations = int(max_iterations)\n",
    "    hyperparams = {\n",
    "        \"max_iterations\": max_iterations,\n",
    "        \"uncertainty_threshold\": uncertainty_threshold,\n",
    "        \"higher_uncertainty_threshold\": higher_uncertainty_threshold,\n",
    "        \"r2_improvement_threshold\": r2_improvement_threshold,\n",
    "        \"max_stagnant_iterations\": max_stagnant_iterations,\n",
    "    }\n",
    "    selected_params = random.sample(params_mostData, 3)\n",
    "    results_list = run_active_sampling_stagnant(selected_params, data_filtered, sort=True, verbose=False, **hyperparams)\n",
    "    avg_r2 = sum(result['final_r2'] for result in results_list) / len(results_list)\n",
    "    utilization_vals = [result['total_samples_used'] / result['total_data_count'] for result in results_list]\n",
    "    avg_utilization = sum(utilization_vals) / len(utilization_vals)\n",
    "    score = 1 - avg_utilization\n",
    "    if avg_r2 < 0.95:\n",
    "        penalty = (0.95 - avg_r2) * 100\n",
    "        score -= penalty\n",
    "    return score\n"
   ]
  },
  {
   "cell_type": "code",
   "execution_count": 34,
   "metadata": {},
   "outputs": [
    {
     "name": "stdout",
     "output_type": "stream",
     "text": [
      "skipping\n"
     ]
    }
   ],
   "source": [
    "%%script echo skipping\n",
    "import random\n",
    "from bayes_opt import BayesianOptimization\n",
    "import pickle\n",
    "\n",
    "def objective_hyperparams_stagnant(uncertainty_threshold, higher_uncertainty_threshold, r2_improvement_threshold, max_stagnant_iterations, max_iterations):\n",
    "    max_stagnant_iterations = int(max_stagnant_iterations)\n",
    "    max_iterations = int(max_iterations)\n",
    "    hyperparams = {\n",
    "        \"max_iterations\": max_iterations,\n",
    "        \"uncertainty_threshold\": uncertainty_threshold,\n",
    "        \"higher_uncertainty_threshold\": higher_uncertainty_threshold,\n",
    "        \"r2_improvement_threshold\": r2_improvement_threshold,\n",
    "        \"max_stagnant_iterations\": max_stagnant_iterations,\n",
    "    }\n",
    "    selected_params = random.sample(params_mostData, 3)\n",
    "    results_list = run_active_sampling_stagnant(selected_params, data_filtered, sort=True, verbose=False, **hyperparams)\n",
    "    avg_r2 = sum(result['final_r2'] for result in results_list) / len(results_list)\n",
    "    utilization_vals = [result['total_samples_used'] / result['total_data_count'] for result in results_list]\n",
    "    avg_utilization = sum(utilization_vals) / len(utilization_vals)\n",
    "    score = 1 - avg_utilization\n",
    "    if avg_r2 < 0.95:\n",
    "        penalty = (0.95 - avg_r2) * 100\n",
    "        score -= penalty\n",
    "    return score\n",
    "\n",
    "pbounds = {\n",
    "    \"uncertainty_threshold\": (0.01, 0.1),\n",
    "    \"higher_uncertainty_threshold\": (0.05, 0.2),\n",
    "    \"r2_improvement_threshold\": (0.005, 0.1),\n",
    "    \"max_stagnant_iterations\": (0, 2),\n",
    "    \"max_iterations\": (0, 20),\n",
    "}\n",
    "\n",
    "optimizer = BayesianOptimization(\n",
    "    f=objective_hyperparams_stagnant,\n",
    "    pbounds=pbounds,\n",
    "    random_state=42,\n",
    ")\n",
    "optimizer.maximize(init_points=5, n_iter=150)\n",
    "\n",
    "stagnant_optimized_hyperparameters = {\n",
    "    k: int(v) if k in ['max_iterations', 'max_stagnant_iterations'] else v \n",
    "    for k, v in optimizer.max['params'].items()\n",
    "}\n",
    "\n",
    "with open(\"../pickeled/step-4-stagnant_optimized_hyperparameters.pkl\", \"wb\") as f:\n",
    "    pickle.dump(stagnant_optimized_hyperparameters, f)\n"
   ]
  },
  {
   "cell_type": "code",
   "execution_count": 35,
   "metadata": {},
   "outputs": [
    {
     "name": "stderr",
     "output_type": "stream",
     "text": [
      "Running stagnant active sampling: 100%|██████████| 40/40 [00:28<00:00,  1.42it/s]\n"
     ]
    },
    {
     "data": {
      "image/png": "[encoded data removed]",
      "text/plain": [
       "<Figure size 1800x600 with 3 Axes>"
      ]
     },
     "metadata": {},
     "output_type": "display_data"
    },
    {
     "name": "stdout",
     "output_type": "stream",
     "text": [
      "Average Final R²: 0.9841\n",
      "Average Samples Used: 17.40\n",
      "Average Data Utilization: 66.14%\n"
     ]
    }
   ],
   "source": [
    "import pickle\n",
    "\n",
    "with open(\"../pickeled/step-4-stagnant_optimized_hyperparameters.pkl\", \"rb\") as f:\n",
    "    stagnant_optimized_hyperparameters = pickle.load(f)\n",
    "\n",
    "results_stagnant = run_active_sampling_stagnant(params_mostData, data_filtered, sort=True ,verbose=False, **stagnant_optimized_hyperparameters)\n",
    "visualize_aggregated_results(results_stagnant, \"Stagnant - sorted - optimized\", stagnant_optimized_hyperparameters)\n"
   ]
  },
  {
   "cell_type": "markdown",
   "metadata": {},
   "source": [
    "Its looks like `objective_hyperparams_stagnant` gives a lot of wight to best R^2, maybe the penalty was too big, lets try that again and force the max iteration to be lower and see what we come out with.\n",
    "in the hopes of getting a lower data utilization rate."
   ]
  },
  {
   "cell_type": "code",
   "execution_count": 41,
   "metadata": {},
   "outputs": [
    {
     "name": "stdout",
     "output_type": "stream",
     "text": [
      "|   iter    |  target   | higher... | max_it... | max_st... | r2_imp... | uncert... |\n",
      "-------------------------------------------------------------------------------------\n"
     ]
    },
    {
     "name": "stderr",
     "output_type": "stream",
     "text": [
      "Running stagnant active sampling: 100%|██████████| 3/3 [00:01<00:00,  2.19it/s]\n"
     ]
    },
    {
     "name": "stdout",
     "output_type": "stream",
     "text": [
      "| \u001b[39m1        \u001b[39m | \u001b[39m-26.28   \u001b[39m | \u001b[39m0.3622   \u001b[39m | \u001b[39m9.507    \u001b[39m | \u001b[39m0.732    \u001b[39m | \u001b[39m0.2796   \u001b[39m | \u001b[39m0.0578   \u001b[39m |\n"
     ]
    },
    {
     "name": "stderr",
     "output_type": "stream",
     "text": [
      "Running stagnant active sampling: 100%|██████████| 3/3 [00:00<00:00, 12.36it/s]\n"
     ]
    },
    {
     "name": "stdout",
     "output_type": "stream",
     "text": [
      "| \u001b[39m2        \u001b[39m | \u001b[39m-71.59   \u001b[39m | \u001b[39m0.2092   \u001b[39m | \u001b[39m0.5808   \u001b[39m | \u001b[39m0.8662   \u001b[39m | \u001b[39m0.2803   \u001b[39m | \u001b[39m0.0854   \u001b[39m |\n"
     ]
    },
    {
     "name": "stderr",
     "output_type": "stream",
     "text": [
      "Running stagnant active sampling: 100%|██████████| 3/3 [00:01<00:00,  2.36it/s]\n"
     ]
    },
    {
     "name": "stdout",
     "output_type": "stream",
     "text": [
      "| \u001b[39m3        \u001b[39m | \u001b[39m-27.96   \u001b[39m | \u001b[39m0.1144   \u001b[39m | \u001b[39m9.699    \u001b[39m | \u001b[39m0.8324   \u001b[39m | \u001b[39m0.1637   \u001b[39m | \u001b[39m0.05909  \u001b[39m |\n"
     ]
    },
    {
     "name": "stderr",
     "output_type": "stream",
     "text": [
      "Running stagnant active sampling: 100%|██████████| 3/3 [00:00<00:00,  4.98it/s]\n"
     ]
    },
    {
     "name": "stdout",
     "output_type": "stream",
     "text": [
      "| \u001b[39m4        \u001b[39m | \u001b[39m-67.14   \u001b[39m | \u001b[39m0.2284   \u001b[39m | \u001b[39m3.042    \u001b[39m | \u001b[39m0.5248   \u001b[39m | \u001b[39m0.2296   \u001b[39m | \u001b[39m0.06456  \u001b[39m |\n"
     ]
    },
    {
     "name": "stderr",
     "output_type": "stream",
     "text": [
      "Running stagnant active sampling: 100%|██████████| 3/3 [00:00<00:00, 10.06it/s]\n"
     ]
    },
    {
     "name": "stdout",
     "output_type": "stream",
     "text": [
      "| \u001b[39m5        \u001b[39m | \u001b[39m-50.93   \u001b[39m | \u001b[39m0.5283   \u001b[39m | \u001b[39m1.395    \u001b[39m | \u001b[39m0.2921   \u001b[39m | \u001b[39m0.2099   \u001b[39m | \u001b[39m0.0728   \u001b[39m |\n"
     ]
    },
    {
     "name": "stderr",
     "output_type": "stream",
     "text": [
      "Running stagnant active sampling: 100%|██████████| 3/3 [00:01<00:00,  2.34it/s]\n"
     ]
    },
    {
     "name": "stdout",
     "output_type": "stream",
     "text": [
      "| \u001b[39m6        \u001b[39m | \u001b[39m-43.52   \u001b[39m | \u001b[39m0.1811   \u001b[39m | \u001b[39m8.129    \u001b[39m | \u001b[39m0.9454   \u001b[39m | \u001b[39m0.1094   \u001b[39m | \u001b[39m0.09552  \u001b[39m |\n"
     ]
    },
    {
     "name": "stderr",
     "output_type": "stream",
     "text": [
      "Running stagnant active sampling: 100%|██████████| 3/3 [00:01<00:00,  2.67it/s]\n"
     ]
    },
    {
     "name": "stdout",
     "output_type": "stream",
     "text": [
      "| \u001b[35m7        \u001b[39m | \u001b[35m-15.55   \u001b[39m | \u001b[35m0.7756   \u001b[39m | \u001b[35m9.985    \u001b[39m | \u001b[35m0.001713 \u001b[39m | \u001b[35m0.306    \u001b[39m | \u001b[35m0.07678  \u001b[39m |\n"
     ]
    },
    {
     "name": "stderr",
     "output_type": "stream",
     "text": [
      "Running stagnant active sampling: 100%|██████████| 3/3 [00:01<00:00,  2.61it/s]\n"
     ]
    },
    {
     "name": "stdout",
     "output_type": "stream",
     "text": [
      "| \u001b[39m8        \u001b[39m | \u001b[39m-20.83   \u001b[39m | \u001b[39m0.1078   \u001b[39m | \u001b[39m9.285    \u001b[39m | \u001b[39m0.006846 \u001b[39m | \u001b[39m0.1799   \u001b[39m | \u001b[39m0.09511  \u001b[39m |\n"
     ]
    },
    {
     "name": "stderr",
     "output_type": "stream",
     "text": [
      "Running stagnant active sampling: 100%|██████████| 3/3 [00:00<00:00,  4.15it/s]\n"
     ]
    },
    {
     "name": "stdout",
     "output_type": "stream",
     "text": [
      "| \u001b[39m9        \u001b[39m | \u001b[39m-37.54   \u001b[39m | \u001b[39m0.7824   \u001b[39m | \u001b[39m6.009    \u001b[39m | \u001b[39m0.0302   \u001b[39m | \u001b[39m0.3075   \u001b[39m | \u001b[39m0.08823  \u001b[39m |\n"
     ]
    },
    {
     "name": "stderr",
     "output_type": "stream",
     "text": [
      "Running stagnant active sampling: 100%|██████████| 3/3 [00:01<00:00,  2.94it/s]\n"
     ]
    },
    {
     "name": "stdout",
     "output_type": "stream",
     "text": [
      "| \u001b[35m10       \u001b[39m | \u001b[35m-14.22   \u001b[39m | \u001b[35m0.7867   \u001b[39m | \u001b[35m8.735    \u001b[39m | \u001b[35m0.01541  \u001b[39m | \u001b[35m0.3429   \u001b[39m | \u001b[35m0.07211  \u001b[39m |\n"
     ]
    },
    {
     "name": "stderr",
     "output_type": "stream",
     "text": [
      "Running stagnant active sampling: 100%|██████████| 3/3 [00:00<00:00,  3.48it/s]\n"
     ]
    },
    {
     "name": "stdout",
     "output_type": "stream",
     "text": [
      "| \u001b[39m11       \u001b[39m | \u001b[39m-29.48   \u001b[39m | \u001b[39m0.7591   \u001b[39m | \u001b[39m7.758    \u001b[39m | \u001b[39m0.009306 \u001b[39m | \u001b[39m0.238    \u001b[39m | \u001b[39m0.09335  \u001b[39m |\n"
     ]
    },
    {
     "name": "stderr",
     "output_type": "stream",
     "text": [
      "Running stagnant active sampling: 100%|██████████| 3/3 [00:01<00:00,  2.71it/s]\n"
     ]
    },
    {
     "name": "stdout",
     "output_type": "stream",
     "text": [
      "| \u001b[39m12       \u001b[39m | \u001b[39m-16.68   \u001b[39m | \u001b[39m0.7683   \u001b[39m | \u001b[39m9.373    \u001b[39m | \u001b[39m0.04684  \u001b[39m | \u001b[39m0.1017   \u001b[39m | \u001b[39m0.0988   \u001b[39m |\n"
     ]
    },
    {
     "name": "stderr",
     "output_type": "stream",
     "text": [
      "Running stagnant active sampling: 100%|██████████| 3/3 [00:01<00:00,  2.51it/s]\n"
     ]
    },
    {
     "name": "stdout",
     "output_type": "stream",
     "text": [
      "| \u001b[35m13       \u001b[39m | \u001b[35m-9.726   \u001b[39m | \u001b[35m0.753    \u001b[39m | \u001b[35m9.247    \u001b[39m | \u001b[35m0.03523  \u001b[39m | \u001b[35m0.3932   \u001b[39m | \u001b[35m0.09952  \u001b[39m |\n"
     ]
    },
    {
     "name": "stderr",
     "output_type": "stream",
     "text": [
      "Running stagnant active sampling: 100%|██████████| 3/3 [00:01<00:00,  2.30it/s]\n"
     ]
    },
    {
     "name": "stdout",
     "output_type": "stream",
     "text": [
      "| \u001b[35m14       \u001b[39m | \u001b[35m0.57     \u001b[39m | \u001b[35m0.129    \u001b[39m | \u001b[35m9.988    \u001b[39m | \u001b[35m0.1244   \u001b[39m | \u001b[35m0.386    \u001b[39m | \u001b[35m0.08674  \u001b[39m |\n"
     ]
    },
    {
     "name": "stderr",
     "output_type": "stream",
     "text": [
      "Running stagnant active sampling: 100%|██████████| 3/3 [00:00<00:00,  3.58it/s]\n"
     ]
    },
    {
     "name": "stdout",
     "output_type": "stream",
     "text": [
      "| \u001b[39m15       \u001b[39m | \u001b[39m-26.47   \u001b[39m | \u001b[39m0.1138   \u001b[39m | \u001b[39m5.229    \u001b[39m | \u001b[39m0.9922   \u001b[39m | \u001b[39m0.1532   \u001b[39m | \u001b[39m0.08531  \u001b[39m |\n"
     ]
    },
    {
     "name": "stderr",
     "output_type": "stream",
     "text": [
      "Running stagnant active sampling: 100%|██████████| 3/3 [00:00<00:00,  3.58it/s]\n"
     ]
    },
    {
     "name": "stdout",
     "output_type": "stream",
     "text": [
      "| \u001b[39m16       \u001b[39m | \u001b[39m-17.21   \u001b[39m | \u001b[39m0.1314   \u001b[39m | \u001b[39m6.329    \u001b[39m | \u001b[39m0.99     \u001b[39m | \u001b[39m0.1554   \u001b[39m | \u001b[39m0.09188  \u001b[39m |\n"
     ]
    },
    {
     "name": "stderr",
     "output_type": "stream",
     "text": [
      "Running stagnant active sampling: 100%|██████████| 3/3 [00:00<00:00,  3.37it/s]\n"
     ]
    },
    {
     "name": "stdout",
     "output_type": "stream",
     "text": [
      "| \u001b[39m17       \u001b[39m | \u001b[39m-27.76   \u001b[39m | \u001b[39m0.7877   \u001b[39m | \u001b[39m6.807    \u001b[39m | \u001b[39m0.9345   \u001b[39m | \u001b[39m0.3602   \u001b[39m | \u001b[39m0.09626  \u001b[39m |\n"
     ]
    },
    {
     "name": "stderr",
     "output_type": "stream",
     "text": [
      "Running stagnant active sampling: 100%|██████████| 3/3 [00:01<00:00,  2.13it/s]\n"
     ]
    },
    {
     "name": "stdout",
     "output_type": "stream",
     "text": [
      "| \u001b[39m18       \u001b[39m | \u001b[39m-18.52   \u001b[39m | \u001b[39m0.171    \u001b[39m | \u001b[39m9.972    \u001b[39m | \u001b[39m0.03697  \u001b[39m | \u001b[39m0.3222   \u001b[39m | \u001b[39m0.05013  \u001b[39m |\n"
     ]
    },
    {
     "name": "stderr",
     "output_type": "stream",
     "text": [
      "Running stagnant active sampling: 100%|██████████| 3/3 [00:00<00:00,  3.42it/s]\n"
     ]
    },
    {
     "name": "stdout",
     "output_type": "stream",
     "text": [
      "| \u001b[39m19       \u001b[39m | \u001b[39m-33.6    \u001b[39m | \u001b[39m0.4539   \u001b[39m | \u001b[39m5.117    \u001b[39m | \u001b[39m0.7915   \u001b[39m | \u001b[39m0.1991   \u001b[39m | \u001b[39m0.09612  \u001b[39m |\n"
     ]
    },
    {
     "name": "stderr",
     "output_type": "stream",
     "text": [
      "Running stagnant active sampling: 100%|██████████| 3/3 [00:01<00:00,  2.44it/s]\n"
     ]
    },
    {
     "name": "stdout",
     "output_type": "stream",
     "text": [
      "| \u001b[39m20       \u001b[39m | \u001b[39m-9.91    \u001b[39m | \u001b[39m0.1045   \u001b[39m | \u001b[39m9.982    \u001b[39m | \u001b[39m0.3515   \u001b[39m | \u001b[39m0.3671   \u001b[39m | \u001b[39m0.06739  \u001b[39m |\n"
     ]
    },
    {
     "name": "stderr",
     "output_type": "stream",
     "text": [
      "Running stagnant active sampling: 100%|██████████| 3/3 [00:01<00:00,  2.39it/s]\n"
     ]
    },
    {
     "name": "stdout",
     "output_type": "stream",
     "text": [
      "| \u001b[39m21       \u001b[39m | \u001b[39m-10.88   \u001b[39m | \u001b[39m0.1477   \u001b[39m | \u001b[39m9.72     \u001b[39m | \u001b[39m0.1901   \u001b[39m | \u001b[39m0.3785   \u001b[39m | \u001b[39m0.09415  \u001b[39m |\n"
     ]
    },
    {
     "name": "stderr",
     "output_type": "stream",
     "text": [
      "Running stagnant active sampling: 100%|██████████| 3/3 [00:00<00:00, 16.17it/s]\n"
     ]
    },
    {
     "name": "stdout",
     "output_type": "stream",
     "text": [
      "| \u001b[39m22       \u001b[39m | \u001b[39m-126.6   \u001b[39m | \u001b[39m0.4963   \u001b[39m | \u001b[39m0.5216   \u001b[39m | \u001b[39m0.3642   \u001b[39m | \u001b[39m0.149    \u001b[39m | \u001b[39m0.05775  \u001b[39m |\n"
     ]
    },
    {
     "name": "stderr",
     "output_type": "stream",
     "text": [
      "Running stagnant active sampling: 100%|██████████| 3/3 [00:01<00:00,  2.42it/s]\n"
     ]
    },
    {
     "name": "stdout",
     "output_type": "stream",
     "text": [
      "| \u001b[39m23       \u001b[39m | \u001b[39m-15.75   \u001b[39m | \u001b[39m0.7714   \u001b[39m | \u001b[39m8.997    \u001b[39m | \u001b[39m0.5889   \u001b[39m | \u001b[39m0.3979   \u001b[39m | \u001b[39m0.05657  \u001b[39m |\n"
     ]
    },
    {
     "name": "stderr",
     "output_type": "stream",
     "text": [
      "Running stagnant active sampling: 100%|██████████| 3/3 [00:01<00:00,  2.98it/s]\n"
     ]
    },
    {
     "name": "stdout",
     "output_type": "stream",
     "text": [
      "| \u001b[39m24       \u001b[39m | \u001b[39m-7.48    \u001b[39m | \u001b[39m0.1716   \u001b[39m | \u001b[39m8.657    \u001b[39m | \u001b[39m0.1018   \u001b[39m | \u001b[39m0.3869   \u001b[39m | \u001b[39m0.07321  \u001b[39m |\n"
     ]
    },
    {
     "name": "stderr",
     "output_type": "stream",
     "text": [
      "Running stagnant active sampling: 100%|██████████| 3/3 [00:00<00:00,  3.64it/s]\n"
     ]
    },
    {
     "name": "stdout",
     "output_type": "stream",
     "text": [
      "| \u001b[39m25       \u001b[39m | \u001b[39m-40.09   \u001b[39m | \u001b[39m0.1022   \u001b[39m | \u001b[39m6.781    \u001b[39m | \u001b[39m0.1344   \u001b[39m | \u001b[39m0.2533   \u001b[39m | \u001b[39m0.08934  \u001b[39m |\n"
     ]
    },
    {
     "name": "stderr",
     "output_type": "stream",
     "text": [
      "Running stagnant active sampling: 100%|██████████| 3/3 [00:01<00:00,  2.72it/s]\n"
     ]
    },
    {
     "name": "stdout",
     "output_type": "stream",
     "text": [
      "| \u001b[35m26       \u001b[39m | \u001b[35m0.6061   \u001b[39m | \u001b[35m0.1198   \u001b[39m | \u001b[35m8.912    \u001b[39m | \u001b[35m0.554    \u001b[39m | \u001b[35m0.355    \u001b[39m | \u001b[35m0.05872  \u001b[39m |\n"
     ]
    },
    {
     "name": "stderr",
     "output_type": "stream",
     "text": [
      "Running stagnant active sampling: 100%|██████████| 3/3 [00:01<00:00,  2.70it/s]\n"
     ]
    },
    {
     "name": "stdout",
     "output_type": "stream",
     "text": [
      "| \u001b[39m27       \u001b[39m | \u001b[39m-6.615   \u001b[39m | \u001b[39m0.2881   \u001b[39m | \u001b[39m8.673    \u001b[39m | \u001b[39m0.4517   \u001b[39m | \u001b[39m0.1017   \u001b[39m | \u001b[39m0.05148  \u001b[39m |\n"
     ]
    },
    {
     "name": "stderr",
     "output_type": "stream",
     "text": [
      "Running stagnant active sampling: 100%|██████████| 3/3 [00:00<00:00,  3.79it/s]\n"
     ]
    },
    {
     "name": "stdout",
     "output_type": "stream",
     "text": [
      "| \u001b[39m28       \u001b[39m | \u001b[39m-67.24   \u001b[39m | \u001b[39m0.2014   \u001b[39m | \u001b[39m4.573    \u001b[39m | \u001b[39m0.004131 \u001b[39m | \u001b[39m0.388    \u001b[39m | \u001b[39m0.05113  \u001b[39m |\n"
     ]
    },
    {
     "name": "stderr",
     "output_type": "stream",
     "text": [
      "Running stagnant active sampling: 100%|██████████| 3/3 [00:00<00:00,  3.44it/s]\n"
     ]
    },
    {
     "name": "stdout",
     "output_type": "stream",
     "text": [
      "| \u001b[39m29       \u001b[39m | \u001b[39m-36.59   \u001b[39m | \u001b[39m0.7174   \u001b[39m | \u001b[39m5.815    \u001b[39m | \u001b[39m0.9852   \u001b[39m | \u001b[39m0.2977   \u001b[39m | \u001b[39m0.09596  \u001b[39m |\n"
     ]
    },
    {
     "name": "stderr",
     "output_type": "stream",
     "text": [
      "Running stagnant active sampling: 100%|██████████| 3/3 [00:01<00:00,  2.55it/s]\n"
     ]
    },
    {
     "name": "stdout",
     "output_type": "stream",
     "text": [
      "| \u001b[39m30       \u001b[39m | \u001b[39m-13.8    \u001b[39m | \u001b[39m0.1532   \u001b[39m | \u001b[39m8.828    \u001b[39m | \u001b[39m0.9943   \u001b[39m | \u001b[39m0.1001   \u001b[39m | \u001b[39m0.07108  \u001b[39m |\n"
     ]
    },
    {
     "name": "stderr",
     "output_type": "stream",
     "text": [
      "Running stagnant active sampling: 100%|██████████| 3/3 [00:00<00:00,  3.25it/s]\n"
     ]
    },
    {
     "name": "stdout",
     "output_type": "stream",
     "text": [
      "| \u001b[39m31       \u001b[39m | \u001b[39m-26.14   \u001b[39m | \u001b[39m0.757    \u001b[39m | \u001b[39m9.965    \u001b[39m | \u001b[39m0.6036   \u001b[39m | \u001b[39m0.3842   \u001b[39m | \u001b[39m0.0914   \u001b[39m |\n"
     ]
    },
    {
     "name": "stderr",
     "output_type": "stream",
     "text": [
      "Running stagnant active sampling: 100%|██████████| 3/3 [00:00<00:00,  6.06it/s]\n"
     ]
    },
    {
     "name": "stdout",
     "output_type": "stream",
     "text": [
      "| \u001b[39m32       \u001b[39m | \u001b[39m-61.92   \u001b[39m | \u001b[39m0.7551   \u001b[39m | \u001b[39m2.156    \u001b[39m | \u001b[39m0.9783   \u001b[39m | \u001b[39m0.1183   \u001b[39m | \u001b[39m0.07016  \u001b[39m |\n"
     ]
    },
    {
     "name": "stderr",
     "output_type": "stream",
     "text": [
      "Running stagnant active sampling: 100%|██████████| 3/3 [00:01<00:00,  2.65it/s]\n"
     ]
    },
    {
     "name": "stdout",
     "output_type": "stream",
     "text": [
      "| \u001b[39m33       \u001b[39m | \u001b[39m-21.29   \u001b[39m | \u001b[39m0.7949   \u001b[39m | \u001b[39m8.348    \u001b[39m | \u001b[39m0.56     \u001b[39m | \u001b[39m0.395    \u001b[39m | \u001b[39m0.08669  \u001b[39m |\n"
     ]
    },
    {
     "name": "stderr",
     "output_type": "stream",
     "text": [
      "Running stagnant active sampling: 100%|██████████| 3/3 [00:00<00:00,  4.40it/s]\n"
     ]
    },
    {
     "name": "stdout",
     "output_type": "stream",
     "text": [
      "| \u001b[39m34       \u001b[39m | \u001b[39m-51.41   \u001b[39m | \u001b[39m0.7999   \u001b[39m | \u001b[39m4.156    \u001b[39m | \u001b[39m0.9682   \u001b[39m | \u001b[39m0.2419   \u001b[39m | \u001b[39m0.06735  \u001b[39m |\n"
     ]
    },
    {
     "name": "stderr",
     "output_type": "stream",
     "text": [
      "Running stagnant active sampling: 100%|██████████| 3/3 [00:01<00:00,  2.08it/s]\n"
     ]
    },
    {
     "name": "stdout",
     "output_type": "stream",
     "text": [
      "| \u001b[39m35       \u001b[39m | \u001b[39m-5.654   \u001b[39m | \u001b[39m0.1019   \u001b[39m | \u001b[39m8.031    \u001b[39m | \u001b[39m0.02144  \u001b[39m | \u001b[39m0.2398   \u001b[39m | \u001b[39m0.06528  \u001b[39m |\n"
     ]
    },
    {
     "name": "stderr",
     "output_type": "stream",
     "text": [
      "Running stagnant active sampling: 100%|██████████| 3/3 [00:01<00:00,  2.85it/s]\n"
     ]
    },
    {
     "name": "stdout",
     "output_type": "stream",
     "text": [
      "| \u001b[39m36       \u001b[39m | \u001b[39m-23.11   \u001b[39m | \u001b[39m0.1501   \u001b[39m | \u001b[39m7.012    \u001b[39m | \u001b[39m0.9778   \u001b[39m | \u001b[39m0.1302   \u001b[39m | \u001b[39m0.06252  \u001b[39m |\n"
     ]
    },
    {
     "name": "stderr",
     "output_type": "stream",
     "text": [
      "Running stagnant active sampling: 100%|██████████| 3/3 [00:01<00:00,  2.31it/s]\n"
     ]
    },
    {
     "name": "stdout",
     "output_type": "stream",
     "text": [
      "| \u001b[39m37       \u001b[39m | \u001b[39m-39.82   \u001b[39m | \u001b[39m0.1295   \u001b[39m | \u001b[39m8.283    \u001b[39m | \u001b[39m0.3354   \u001b[39m | \u001b[39m0.3742   \u001b[39m | \u001b[39m0.07749  \u001b[39m |\n"
     ]
    },
    {
     "name": "stderr",
     "output_type": "stream",
     "text": [
      "Running stagnant active sampling: 100%|██████████| 3/3 [00:01<00:00,  2.48it/s]\n"
     ]
    },
    {
     "name": "stdout",
     "output_type": "stream",
     "text": [
      "| \u001b[39m38       \u001b[39m | \u001b[39m-9.674   \u001b[39m | \u001b[39m0.4015   \u001b[39m | \u001b[39m7.044    \u001b[39m | \u001b[39m0.9027   \u001b[39m | \u001b[39m0.2862   \u001b[39m | \u001b[39m0.05351  \u001b[39m |\n"
     ]
    },
    {
     "name": "stderr",
     "output_type": "stream",
     "text": [
      "Running stagnant active sampling: 100%|██████████| 3/3 [00:01<00:00,  2.12it/s]\n"
     ]
    },
    {
     "name": "stdout",
     "output_type": "stream",
     "text": [
      "| \u001b[39m39       \u001b[39m | \u001b[39m-18.49   \u001b[39m | \u001b[39m0.3758   \u001b[39m | \u001b[39m8.986    \u001b[39m | \u001b[39m0.2637   \u001b[39m | \u001b[39m0.3387   \u001b[39m | \u001b[39m0.06234  \u001b[39m |\n"
     ]
    },
    {
     "name": "stderr",
     "output_type": "stream",
     "text": [
      "Running stagnant active sampling: 100%|██████████| 3/3 [00:00<00:00, 13.14it/s]\n"
     ]
    },
    {
     "name": "stdout",
     "output_type": "stream",
     "text": [
      "| \u001b[39m40       \u001b[39m | \u001b[39m-84.96   \u001b[39m | \u001b[39m0.2994   \u001b[39m | \u001b[39m0.4874   \u001b[39m | \u001b[39m0.09543  \u001b[39m | \u001b[39m0.3696   \u001b[39m | \u001b[39m0.09869  \u001b[39m |\n"
     ]
    },
    {
     "name": "stderr",
     "output_type": "stream",
     "text": [
      "Running stagnant active sampling: 100%|██████████| 3/3 [00:01<00:00,  2.59it/s]\n"
     ]
    },
    {
     "name": "stdout",
     "output_type": "stream",
     "text": [
      "| \u001b[39m41       \u001b[39m | \u001b[39m-17.9    \u001b[39m | \u001b[39m0.751    \u001b[39m | \u001b[39m7.46     \u001b[39m | \u001b[39m0.9413   \u001b[39m | \u001b[39m0.1796   \u001b[39m | \u001b[39m0.05231  \u001b[39m |\n"
     ]
    },
    {
     "name": "stderr",
     "output_type": "stream",
     "text": [
      "Running stagnant active sampling: 100%|██████████| 3/3 [00:00<00:00,  3.53it/s]\n"
     ]
    },
    {
     "name": "stdout",
     "output_type": "stream",
     "text": [
      "| \u001b[39m42       \u001b[39m | \u001b[39m-35.88   \u001b[39m | \u001b[39m0.4641   \u001b[39m | \u001b[39m8.294    \u001b[39m | \u001b[39m0.02614  \u001b[39m | \u001b[39m0.11     \u001b[39m | \u001b[39m0.05917  \u001b[39m |\n"
     ]
    },
    {
     "name": "stderr",
     "output_type": "stream",
     "text": [
      "Running stagnant active sampling: 100%|██████████| 3/3 [00:00<00:00,  3.09it/s]\n"
     ]
    },
    {
     "name": "stdout",
     "output_type": "stream",
     "text": [
      "| \u001b[39m43       \u001b[39m | \u001b[39m-20.38   \u001b[39m | \u001b[39m0.1653   \u001b[39m | \u001b[39m7.595    \u001b[39m | \u001b[39m0.02084  \u001b[39m | \u001b[39m0.3129   \u001b[39m | \u001b[39m0.07659  \u001b[39m |\n"
     ]
    },
    {
     "name": "stderr",
     "output_type": "stream",
     "text": [
      "Running stagnant active sampling: 100%|██████████| 3/3 [00:01<00:00,  2.65it/s]\n"
     ]
    },
    {
     "name": "stdout",
     "output_type": "stream",
     "text": [
      "| \u001b[39m44       \u001b[39m | \u001b[39m-36.75   \u001b[39m | \u001b[39m0.7073   \u001b[39m | \u001b[39m8.878    \u001b[39m | \u001b[39m0.9772   \u001b[39m | \u001b[39m0.1281   \u001b[39m | \u001b[39m0.09382  \u001b[39m |\n"
     ]
    },
    {
     "name": "stderr",
     "output_type": "stream",
     "text": [
      "Running stagnant active sampling: 100%|██████████| 3/3 [00:00<00:00,  4.25it/s]\n"
     ]
    },
    {
     "name": "stdout",
     "output_type": "stream",
     "text": [
      "| \u001b[39m45       \u001b[39m | \u001b[39m-23.59   \u001b[39m | \u001b[39m0.7316   \u001b[39m | \u001b[39m7.206    \u001b[39m | \u001b[39m0.436    \u001b[39m | \u001b[39m0.3502   \u001b[39m | \u001b[39m0.07778  \u001b[39m |\n"
     ]
    },
    {
     "name": "stderr",
     "output_type": "stream",
     "text": [
      "Running stagnant active sampling: 100%|██████████| 3/3 [00:01<00:00,  2.80it/s]\n"
     ]
    },
    {
     "name": "stdout",
     "output_type": "stream",
     "text": [
      "| \u001b[39m46       \u001b[39m | \u001b[39m-12.75   \u001b[39m | \u001b[39m0.1609   \u001b[39m | \u001b[39m8.813    \u001b[39m | \u001b[39m0.8293   \u001b[39m | \u001b[39m0.3821   \u001b[39m | \u001b[39m0.07535  \u001b[39m |\n"
     ]
    },
    {
     "name": "stderr",
     "output_type": "stream",
     "text": [
      "Running stagnant active sampling: 100%|██████████| 3/3 [00:01<00:00,  2.10it/s]\n"
     ]
    },
    {
     "name": "stdout",
     "output_type": "stream",
     "text": [
      "| \u001b[39m47       \u001b[39m | \u001b[39m-9.777   \u001b[39m | \u001b[39m0.1206   \u001b[39m | \u001b[39m9.108    \u001b[39m | \u001b[39m0.4502   \u001b[39m | \u001b[39m0.1238   \u001b[39m | \u001b[39m0.09981  \u001b[39m |\n"
     ]
    },
    {
     "name": "stderr",
     "output_type": "stream",
     "text": [
      "Running stagnant active sampling: 100%|██████████| 3/3 [00:01<00:00,  2.52it/s]\n"
     ]
    },
    {
     "name": "stdout",
     "output_type": "stream",
     "text": [
      "| \u001b[39m48       \u001b[39m | \u001b[39m-8.83    \u001b[39m | \u001b[39m0.203    \u001b[39m | \u001b[39m6.017    \u001b[39m | \u001b[39m0.8602   \u001b[39m | \u001b[39m0.3064   \u001b[39m | \u001b[39m0.09507  \u001b[39m |\n"
     ]
    },
    {
     "name": "stderr",
     "output_type": "stream",
     "text": [
      "Running stagnant active sampling: 100%|██████████| 3/3 [00:00<00:00,  3.85it/s]\n"
     ]
    },
    {
     "name": "stdout",
     "output_type": "stream",
     "text": [
      "| \u001b[39m49       \u001b[39m | \u001b[39m-16.29   \u001b[39m | \u001b[39m0.1191   \u001b[39m | \u001b[39m5.872    \u001b[39m | \u001b[39m0.2478   \u001b[39m | \u001b[39m0.23     \u001b[39m | \u001b[39m0.07034  \u001b[39m |\n"
     ]
    },
    {
     "name": "stderr",
     "output_type": "stream",
     "text": [
      "Running stagnant active sampling: 100%|██████████| 3/3 [00:01<00:00,  2.95it/s]\n"
     ]
    },
    {
     "name": "stdout",
     "output_type": "stream",
     "text": [
      "| \u001b[39m50       \u001b[39m | \u001b[39m-34.89   \u001b[39m | \u001b[39m0.1621   \u001b[39m | \u001b[39m6.315    \u001b[39m | \u001b[39m0.5529   \u001b[39m | \u001b[39m0.3914   \u001b[39m | \u001b[39m0.05026  \u001b[39m |\n"
     ]
    },
    {
     "name": "stderr",
     "output_type": "stream",
     "text": [
      "Running stagnant active sampling: 100%|██████████| 3/3 [00:00<00:00,  3.27it/s]\n"
     ]
    },
    {
     "name": "stdout",
     "output_type": "stream",
     "text": [
      "| \u001b[39m51       \u001b[39m | \u001b[39m-34.35   \u001b[39m | \u001b[39m0.1006   \u001b[39m | \u001b[39m5.829    \u001b[39m | \u001b[39m0.8246   \u001b[39m | \u001b[39m0.1226   \u001b[39m | \u001b[39m0.08131  \u001b[39m |\n"
     ]
    },
    {
     "name": "stderr",
     "output_type": "stream",
     "text": [
      "Running stagnant active sampling: 100%|██████████| 3/3 [00:00<00:00,  4.19it/s]\n"
     ]
    },
    {
     "name": "stdout",
     "output_type": "stream",
     "text": [
      "| \u001b[39m52       \u001b[39m | \u001b[39m-36.84   \u001b[39m | \u001b[39m0.7389   \u001b[39m | \u001b[39m4.127    \u001b[39m | \u001b[39m0.4465   \u001b[39m | \u001b[39m0.3074   \u001b[39m | \u001b[39m0.09512  \u001b[39m |\n"
     ]
    },
    {
     "name": "stderr",
     "output_type": "stream",
     "text": [
      "Running stagnant active sampling: 100%|██████████| 3/3 [00:01<00:00,  2.37it/s]\n"
     ]
    },
    {
     "name": "stdout",
     "output_type": "stream",
     "text": [
      "| \u001b[39m53       \u001b[39m | \u001b[39m-36.94   \u001b[39m | \u001b[39m0.1079   \u001b[39m | \u001b[39m8.773    \u001b[39m | \u001b[39m0.1086   \u001b[39m | \u001b[39m0.1051   \u001b[39m | \u001b[39m0.09969  \u001b[39m |\n"
     ]
    },
    {
     "name": "stderr",
     "output_type": "stream",
     "text": [
      "Running stagnant active sampling: 100%|██████████| 3/3 [00:00<00:00,  3.07it/s]\n"
     ]
    },
    {
     "name": "stdout",
     "output_type": "stream",
     "text": [
      "| \u001b[39m54       \u001b[39m | \u001b[39m-7.927   \u001b[39m | \u001b[39m0.2682   \u001b[39m | \u001b[39m7.359    \u001b[39m | \u001b[39m0.6776   \u001b[39m | \u001b[39m0.3904   \u001b[39m | \u001b[39m0.06566  \u001b[39m |\n"
     ]
    },
    {
     "name": "stderr",
     "output_type": "stream",
     "text": [
      "Running stagnant active sampling: 100%|██████████| 3/3 [00:00<00:00,  3.01it/s]\n"
     ]
    },
    {
     "name": "stdout",
     "output_type": "stream",
     "text": [
      "| \u001b[39m55       \u001b[39m | \u001b[39m-25.09   \u001b[39m | \u001b[39m0.3458   \u001b[39m | \u001b[39m7.343    \u001b[39m | \u001b[39m0.9813   \u001b[39m | \u001b[39m0.3802   \u001b[39m | \u001b[39m0.07257  \u001b[39m |\n"
     ]
    },
    {
     "name": "stderr",
     "output_type": "stream",
     "text": [
      "Running stagnant active sampling: 100%|██████████| 3/3 [00:01<00:00,  2.14it/s]\n"
     ]
    },
    {
     "name": "stdout",
     "output_type": "stream",
     "text": [
      "| \u001b[39m56       \u001b[39m | \u001b[39m-15.43   \u001b[39m | \u001b[39m0.3418   \u001b[39m | \u001b[39m7.36     \u001b[39m | \u001b[39m0.9708   \u001b[39m | \u001b[39m0.3861   \u001b[39m | \u001b[39m0.06567  \u001b[39m |\n"
     ]
    },
    {
     "name": "stderr",
     "output_type": "stream",
     "text": [
      "Running stagnant active sampling: 100%|██████████| 3/3 [00:01<00:00,  2.48it/s]\n"
     ]
    },
    {
     "name": "stdout",
     "output_type": "stream",
     "text": [
      "| \u001b[39m57       \u001b[39m | \u001b[39m0.6032   \u001b[39m | \u001b[39m0.2818   \u001b[39m | \u001b[39m7.538    \u001b[39m | \u001b[39m0.8545   \u001b[39m | \u001b[39m0.3576   \u001b[39m | \u001b[39m0.05407  \u001b[39m |\n"
     ]
    },
    {
     "name": "stderr",
     "output_type": "stream",
     "text": [
      "Running stagnant active sampling: 100%|██████████| 3/3 [00:00<00:00,  3.43it/s]\n"
     ]
    },
    {
     "name": "stdout",
     "output_type": "stream",
     "text": [
      "| \u001b[39m58       \u001b[39m | \u001b[39m-32.54   \u001b[39m | \u001b[39m0.5743   \u001b[39m | \u001b[39m6.149    \u001b[39m | \u001b[39m0.8313   \u001b[39m | \u001b[39m0.3603   \u001b[39m | \u001b[39m0.09898  \u001b[39m |\n"
     ]
    },
    {
     "name": "stderr",
     "output_type": "stream",
     "text": [
      "Running stagnant active sampling: 100%|██████████| 3/3 [00:01<00:00,  2.44it/s]\n"
     ]
    },
    {
     "name": "stdout",
     "output_type": "stream",
     "text": [
      "| \u001b[39m59       \u001b[39m | \u001b[39m-23.49   \u001b[39m | \u001b[39m0.2322   \u001b[39m | \u001b[39m8.935    \u001b[39m | \u001b[39m0.6617   \u001b[39m | \u001b[39m0.2543   \u001b[39m | \u001b[39m0.08637  \u001b[39m |\n"
     ]
    },
    {
     "name": "stderr",
     "output_type": "stream",
     "text": [
      "Running stagnant active sampling: 100%|██████████| 3/3 [00:01<00:00,  2.95it/s]\n"
     ]
    },
    {
     "name": "stdout",
     "output_type": "stream",
     "text": [
      "| \u001b[39m60       \u001b[39m | \u001b[39m-7.574   \u001b[39m | \u001b[39m0.1025   \u001b[39m | \u001b[39m8.796    \u001b[39m | \u001b[39m0.4338   \u001b[39m | \u001b[39m0.2797   \u001b[39m | \u001b[39m0.08714  \u001b[39m |\n"
     ]
    },
    {
     "name": "stderr",
     "output_type": "stream",
     "text": [
      "Running stagnant active sampling: 100%|██████████| 3/3 [00:01<00:00,  2.77it/s]\n"
     ]
    },
    {
     "name": "stdout",
     "output_type": "stream",
     "text": [
      "| \u001b[39m61       \u001b[39m | \u001b[39m-7.837   \u001b[39m | \u001b[39m0.1673   \u001b[39m | \u001b[39m7.446    \u001b[39m | \u001b[39m0.9483   \u001b[39m | \u001b[39m0.3937   \u001b[39m | \u001b[39m0.07073  \u001b[39m |\n"
     ]
    },
    {
     "name": "stderr",
     "output_type": "stream",
     "text": [
      "Running stagnant active sampling: 100%|██████████| 3/3 [00:00<00:00,  3.06it/s]\n"
     ]
    },
    {
     "name": "stdout",
     "output_type": "stream",
     "text": [
      "| \u001b[39m62       \u001b[39m | \u001b[39m-17.66   \u001b[39m | \u001b[39m0.5642   \u001b[39m | \u001b[39m7.524    \u001b[39m | \u001b[39m0.8603   \u001b[39m | \u001b[39m0.3972   \u001b[39m | \u001b[39m0.09204  \u001b[39m |\n"
     ]
    },
    {
     "name": "stderr",
     "output_type": "stream",
     "text": [
      "Running stagnant active sampling: 100%|██████████| 3/3 [00:01<00:00,  2.80it/s]\n"
     ]
    },
    {
     "name": "stdout",
     "output_type": "stream",
     "text": [
      "| \u001b[39m63       \u001b[39m | \u001b[39m-25.3    \u001b[39m | \u001b[39m0.2425   \u001b[39m | \u001b[39m8.7      \u001b[39m | \u001b[39m0.5345   \u001b[39m | \u001b[39m0.3831   \u001b[39m | \u001b[39m0.05516  \u001b[39m |\n"
     ]
    },
    {
     "name": "stderr",
     "output_type": "stream",
     "text": [
      "Running stagnant active sampling: 100%|██████████| 3/3 [00:00<00:00, 23.76it/s]\n"
     ]
    },
    {
     "name": "stdout",
     "output_type": "stream",
     "text": [
      "| \u001b[39m64       \u001b[39m | \u001b[39m-184.2   \u001b[39m | \u001b[39m0.3284   \u001b[39m | \u001b[39m0.05666  \u001b[39m | \u001b[39m0.1784   \u001b[39m | \u001b[39m0.238    \u001b[39m | \u001b[39m0.09179  \u001b[39m |\n"
     ]
    },
    {
     "name": "stderr",
     "output_type": "stream",
     "text": [
      "Running stagnant active sampling: 100%|██████████| 3/3 [00:00<00:00,  3.38it/s]\n"
     ]
    },
    {
     "name": "stdout",
     "output_type": "stream",
     "text": [
      "| \u001b[39m65       \u001b[39m | \u001b[39m-20.46   \u001b[39m | \u001b[39m0.6429   \u001b[39m | \u001b[39m6.153    \u001b[39m | \u001b[39m0.4367   \u001b[39m | \u001b[39m0.3588   \u001b[39m | \u001b[39m0.0763   \u001b[39m |\n"
     ]
    },
    {
     "name": "stderr",
     "output_type": "stream",
     "text": [
      "Running stagnant active sampling: 100%|██████████| 3/3 [00:01<00:00,  2.52it/s]\n"
     ]
    },
    {
     "name": "stdout",
     "output_type": "stream",
     "text": [
      "| \u001b[39m66       \u001b[39m | \u001b[39m-4.429   \u001b[39m | \u001b[39m0.2102   \u001b[39m | \u001b[39m9.064    \u001b[39m | \u001b[39m0.3696   \u001b[39m | \u001b[39m0.2667   \u001b[39m | \u001b[39m0.08316  \u001b[39m |\n"
     ]
    },
    {
     "name": "stderr",
     "output_type": "stream",
     "text": [
      "Running stagnant active sampling: 100%|██████████| 3/3 [00:00<00:00,  3.32it/s]\n"
     ]
    },
    {
     "name": "stdout",
     "output_type": "stream",
     "text": [
      "| \u001b[39m67       \u001b[39m | \u001b[39m-19.29   \u001b[39m | \u001b[39m0.4231   \u001b[39m | \u001b[39m6.765    \u001b[39m | \u001b[39m0.7189   \u001b[39m | \u001b[39m0.1128   \u001b[39m | \u001b[39m0.09447  \u001b[39m |\n"
     ]
    },
    {
     "name": "stderr",
     "output_type": "stream",
     "text": [
      "Running stagnant active sampling: 100%|██████████| 3/3 [00:01<00:00,  2.57it/s]\n"
     ]
    },
    {
     "name": "stdout",
     "output_type": "stream",
     "text": [
      "| \u001b[39m68       \u001b[39m | \u001b[39m-9.138   \u001b[39m | \u001b[39m0.7092   \u001b[39m | \u001b[39m9.542    \u001b[39m | \u001b[39m0.3217   \u001b[39m | \u001b[39m0.3872   \u001b[39m | \u001b[39m0.05093  \u001b[39m |\n"
     ]
    },
    {
     "name": "stderr",
     "output_type": "stream",
     "text": [
      "Running stagnant active sampling: 100%|██████████| 3/3 [00:00<00:00,  3.38it/s]\n"
     ]
    },
    {
     "name": "stdout",
     "output_type": "stream",
     "text": [
      "| \u001b[39m69       \u001b[39m | \u001b[39m-26.9    \u001b[39m | \u001b[39m0.7648   \u001b[39m | \u001b[39m8.964    \u001b[39m | \u001b[39m0.3505   \u001b[39m | \u001b[39m0.1052   \u001b[39m | \u001b[39m0.07885  \u001b[39m |\n"
     ]
    },
    {
     "name": "stderr",
     "output_type": "stream",
     "text": [
      "Running stagnant active sampling: 100%|██████████| 3/3 [00:01<00:00,  2.19it/s]\n"
     ]
    },
    {
     "name": "stdout",
     "output_type": "stream",
     "text": [
      "| \u001b[39m70       \u001b[39m | \u001b[39m-22.59   \u001b[39m | \u001b[39m0.5152   \u001b[39m | \u001b[39m9.549    \u001b[39m | \u001b[39m0.03222  \u001b[39m | \u001b[39m0.3554   \u001b[39m | \u001b[39m0.06306  \u001b[39m |\n"
     ]
    },
    {
     "name": "stderr",
     "output_type": "stream",
     "text": [
      "Running stagnant active sampling: 100%|██████████| 3/3 [00:00<00:00,  3.81it/s]\n"
     ]
    },
    {
     "name": "stdout",
     "output_type": "stream",
     "text": [
      "| \u001b[39m71       \u001b[39m | \u001b[39m-24.58   \u001b[39m | \u001b[39m0.7597   \u001b[39m | \u001b[39m8.987    \u001b[39m | \u001b[39m0.3375   \u001b[39m | \u001b[39m0.1072   \u001b[39m | \u001b[39m0.09215  \u001b[39m |\n"
     ]
    },
    {
     "name": "stderr",
     "output_type": "stream",
     "text": [
      "Running stagnant active sampling: 100%|██████████| 3/3 [00:00<00:00,  3.47it/s]\n"
     ]
    },
    {
     "name": "stdout",
     "output_type": "stream",
     "text": [
      "| \u001b[39m72       \u001b[39m | \u001b[39m-43.29   \u001b[39m | \u001b[39m0.2304   \u001b[39m | \u001b[39m6.954    \u001b[39m | \u001b[39m0.6751   \u001b[39m | \u001b[39m0.379    \u001b[39m | \u001b[39m0.07659  \u001b[39m |\n"
     ]
    },
    {
     "name": "stderr",
     "output_type": "stream",
     "text": [
      "Running stagnant active sampling: 100%|██████████| 3/3 [00:01<00:00,  2.59it/s]\n"
     ]
    },
    {
     "name": "stdout",
     "output_type": "stream",
     "text": [
      "| \u001b[39m73       \u001b[39m | \u001b[39m-21.99   \u001b[39m | \u001b[39m0.1468   \u001b[39m | \u001b[39m9.381    \u001b[39m | \u001b[39m0.5078   \u001b[39m | \u001b[39m0.3791   \u001b[39m | \u001b[39m0.06445  \u001b[39m |\n"
     ]
    },
    {
     "name": "stderr",
     "output_type": "stream",
     "text": [
      "Running stagnant active sampling: 100%|██████████| 3/3 [00:00<00:00,  3.10it/s]\n"
     ]
    },
    {
     "name": "stdout",
     "output_type": "stream",
     "text": [
      "| \u001b[39m74       \u001b[39m | \u001b[39m-47.12   \u001b[39m | \u001b[39m0.6387   \u001b[39m | \u001b[39m7.043    \u001b[39m | \u001b[39m0.7597   \u001b[39m | \u001b[39m0.12     \u001b[39m | \u001b[39m0.05702  \u001b[39m |\n"
     ]
    },
    {
     "name": "stderr",
     "output_type": "stream",
     "text": [
      "Running stagnant active sampling: 100%|██████████| 3/3 [00:01<00:00,  2.67it/s]\n"
     ]
    },
    {
     "name": "stdout",
     "output_type": "stream",
     "text": [
      "| \u001b[39m75       \u001b[39m | \u001b[39m-11.91   \u001b[39m | \u001b[39m0.2165   \u001b[39m | \u001b[39m8.953    \u001b[39m | \u001b[39m0.674    \u001b[39m | \u001b[39m0.2284   \u001b[39m | \u001b[39m0.08523  \u001b[39m |\n"
     ]
    },
    {
     "name": "stderr",
     "output_type": "stream",
     "text": [
      "Running stagnant active sampling: 100%|██████████| 3/3 [00:01<00:00,  2.63it/s]\n"
     ]
    },
    {
     "name": "stdout",
     "output_type": "stream",
     "text": [
      "| \u001b[39m76       \u001b[39m | \u001b[39m-15.57   \u001b[39m | \u001b[39m0.166    \u001b[39m | \u001b[39m9.137    \u001b[39m | \u001b[39m0.803    \u001b[39m | \u001b[39m0.1312   \u001b[39m | \u001b[39m0.09029  \u001b[39m |\n"
     ]
    },
    {
     "name": "stderr",
     "output_type": "stream",
     "text": [
      "Running stagnant active sampling: 100%|██████████| 3/3 [00:01<00:00,  2.66it/s]\n"
     ]
    },
    {
     "name": "stdout",
     "output_type": "stream",
     "text": [
      "| \u001b[39m77       \u001b[39m | \u001b[39m-7.377   \u001b[39m | \u001b[39m0.1455   \u001b[39m | \u001b[39m9.098    \u001b[39m | \u001b[39m0.4563   \u001b[39m | \u001b[39m0.141    \u001b[39m | \u001b[39m0.09009  \u001b[39m |\n"
     ]
    },
    {
     "name": "stderr",
     "output_type": "stream",
     "text": [
      "Running stagnant active sampling: 100%|██████████| 3/3 [00:01<00:00,  2.63it/s]\n"
     ]
    },
    {
     "name": "stdout",
     "output_type": "stream",
     "text": [
      "| \u001b[39m78       \u001b[39m | \u001b[39m-24.1    \u001b[39m | \u001b[39m0.7648   \u001b[39m | \u001b[39m9.33     \u001b[39m | \u001b[39m0.4816   \u001b[39m | \u001b[39m0.2144   \u001b[39m | \u001b[39m0.09968  \u001b[39m |\n"
     ]
    },
    {
     "name": "stderr",
     "output_type": "stream",
     "text": [
      "Running stagnant active sampling: 100%|██████████| 3/3 [00:01<00:00,  2.31it/s]\n"
     ]
    },
    {
     "name": "stdout",
     "output_type": "stream",
     "text": [
      "| \u001b[39m79       \u001b[39m | \u001b[39m-15.62   \u001b[39m | \u001b[39m0.4455   \u001b[39m | \u001b[39m9.965    \u001b[39m | \u001b[39m0.1766   \u001b[39m | \u001b[39m0.3962   \u001b[39m | \u001b[39m0.0908   \u001b[39m |\n"
     ]
    },
    {
     "name": "stderr",
     "output_type": "stream",
     "text": [
      "Running stagnant active sampling: 100%|██████████| 3/3 [00:01<00:00,  2.82it/s]\n"
     ]
    },
    {
     "name": "stdout",
     "output_type": "stream",
     "text": [
      "| \u001b[39m80       \u001b[39m | \u001b[39m-17.91   \u001b[39m | \u001b[39m0.6926   \u001b[39m | \u001b[39m9.772    \u001b[39m | \u001b[39m0.259    \u001b[39m | \u001b[39m0.1491   \u001b[39m | \u001b[39m0.07013  \u001b[39m |\n"
     ]
    },
    {
     "name": "stderr",
     "output_type": "stream",
     "text": [
      "Running stagnant active sampling: 100%|██████████| 3/3 [00:01<00:00,  2.47it/s]\n"
     ]
    },
    {
     "name": "stdout",
     "output_type": "stream",
     "text": [
      "| \u001b[39m81       \u001b[39m | \u001b[39m-18.54   \u001b[39m | \u001b[39m0.159    \u001b[39m | \u001b[39m9.968    \u001b[39m | \u001b[39m0.03917  \u001b[39m | \u001b[39m0.3163   \u001b[39m | \u001b[39m0.05451  \u001b[39m |\n"
     ]
    },
    {
     "name": "stderr",
     "output_type": "stream",
     "text": [
      "Running stagnant active sampling: 100%|██████████| 3/3 [00:00<00:00,  6.42it/s]\n"
     ]
    },
    {
     "name": "stdout",
     "output_type": "stream",
     "text": [
      "| \u001b[39m82       \u001b[39m | \u001b[39m-75.16   \u001b[39m | \u001b[39m0.5736   \u001b[39m | \u001b[39m3.332    \u001b[39m | \u001b[39m0.9337   \u001b[39m | \u001b[39m0.3503   \u001b[39m | \u001b[39m0.09698  \u001b[39m |\n"
     ]
    },
    {
     "name": "stderr",
     "output_type": "stream",
     "text": [
      "Running stagnant active sampling: 100%|██████████| 3/3 [00:00<00:00,  3.08it/s]\n"
     ]
    },
    {
     "name": "stdout",
     "output_type": "stream",
     "text": [
      "| \u001b[39m83       \u001b[39m | \u001b[39m-33.57   \u001b[39m | \u001b[39m0.1565   \u001b[39m | \u001b[39m7.817    \u001b[39m | \u001b[39m0.3696   \u001b[39m | \u001b[39m0.109    \u001b[39m | \u001b[39m0.09381  \u001b[39m |\n"
     ]
    },
    {
     "name": "stderr",
     "output_type": "stream",
     "text": [
      "Running stagnant active sampling: 100%|██████████| 3/3 [00:00<00:00,  3.52it/s]\n"
     ]
    },
    {
     "name": "stdout",
     "output_type": "stream",
     "text": [
      "| \u001b[39m84       \u001b[39m | \u001b[39m-44.13   \u001b[39m | \u001b[39m0.2432   \u001b[39m | \u001b[39m5.555    \u001b[39m | \u001b[39m0.04174  \u001b[39m | \u001b[39m0.1129   \u001b[39m | \u001b[39m0.09515  \u001b[39m |\n"
     ]
    },
    {
     "name": "stderr",
     "output_type": "stream",
     "text": [
      "Running stagnant active sampling: 100%|██████████| 3/3 [00:00<00:00,  3.23it/s]\n"
     ]
    },
    {
     "name": "stdout",
     "output_type": "stream",
     "text": [
      "| \u001b[39m85       \u001b[39m | \u001b[39m-14.65   \u001b[39m | \u001b[39m0.3531   \u001b[39m | \u001b[39m6.762    \u001b[39m | \u001b[39m0.9939   \u001b[39m | \u001b[39m0.3643   \u001b[39m | \u001b[39m0.0771   \u001b[39m |\n"
     ]
    },
    {
     "name": "stderr",
     "output_type": "stream",
     "text": [
      "Running stagnant active sampling: 100%|██████████| 3/3 [00:01<00:00,  2.41it/s]\n"
     ]
    },
    {
     "name": "stdout",
     "output_type": "stream",
     "text": [
      "| \u001b[39m86       \u001b[39m | \u001b[39m-22.75   \u001b[39m | \u001b[39m0.185    \u001b[39m | \u001b[39m9.116    \u001b[39m | \u001b[39m0.7894   \u001b[39m | \u001b[39m0.1343   \u001b[39m | \u001b[39m0.08517  \u001b[39m |\n"
     ]
    },
    {
     "name": "stderr",
     "output_type": "stream",
     "text": [
      "Running stagnant active sampling: 100%|██████████| 3/3 [00:01<00:00,  2.84it/s]\n"
     ]
    },
    {
     "name": "stdout",
     "output_type": "stream",
     "text": [
      "| \u001b[39m87       \u001b[39m | \u001b[39m-26.88   \u001b[39m | \u001b[39m0.1274   \u001b[39m | \u001b[39m8.684    \u001b[39m | \u001b[39m0.666    \u001b[39m | \u001b[39m0.1263   \u001b[39m | \u001b[39m0.08332  \u001b[39m |\n"
     ]
    },
    {
     "name": "stderr",
     "output_type": "stream",
     "text": [
      "Running stagnant active sampling: 100%|██████████| 3/3 [00:00<00:00,  4.59it/s]\n"
     ]
    },
    {
     "name": "stdout",
     "output_type": "stream",
     "text": [
      "| \u001b[39m88       \u001b[39m | \u001b[39m-47.94   \u001b[39m | \u001b[39m0.7379   \u001b[39m | \u001b[39m4.206    \u001b[39m | \u001b[39m0.2853   \u001b[39m | \u001b[39m0.2344   \u001b[39m | \u001b[39m0.0516   \u001b[39m |\n"
     ]
    },
    {
     "name": "stderr",
     "output_type": "stream",
     "text": [
      "Running stagnant active sampling: 100%|██████████| 3/3 [00:00<00:00,  5.68it/s]\n"
     ]
    },
    {
     "name": "stdout",
     "output_type": "stream",
     "text": [
      "| \u001b[39m89       \u001b[39m | \u001b[39m-41.85   \u001b[39m | \u001b[39m0.7246   \u001b[39m | \u001b[39m3.58     \u001b[39m | \u001b[39m0.9324   \u001b[39m | \u001b[39m0.1077   \u001b[39m | \u001b[39m0.08051  \u001b[39m |\n"
     ]
    },
    {
     "name": "stderr",
     "output_type": "stream",
     "text": [
      "Running stagnant active sampling: 100%|██████████| 3/3 [00:01<00:00,  2.53it/s]\n"
     ]
    },
    {
     "name": "stdout",
     "output_type": "stream",
     "text": [
      "| \u001b[39m90       \u001b[39m | \u001b[39m-4.801   \u001b[39m | \u001b[39m0.126    \u001b[39m | \u001b[39m9.332    \u001b[39m | \u001b[39m0.9879   \u001b[39m | \u001b[39m0.2308   \u001b[39m | \u001b[39m0.05565  \u001b[39m |\n"
     ]
    },
    {
     "name": "stderr",
     "output_type": "stream",
     "text": [
      "Running stagnant active sampling: 100%|██████████| 3/3 [00:00<00:00,  5.23it/s]\n"
     ]
    },
    {
     "name": "stdout",
     "output_type": "stream",
     "text": [
      "| \u001b[39m91       \u001b[39m | \u001b[39m-30.09   \u001b[39m | \u001b[39m0.7329   \u001b[39m | \u001b[39m4.354    \u001b[39m | \u001b[39m0.2774   \u001b[39m | \u001b[39m0.2819   \u001b[39m | \u001b[39m0.09231  \u001b[39m |\n"
     ]
    },
    {
     "name": "stderr",
     "output_type": "stream",
     "text": [
      "Running stagnant active sampling: 100%|██████████| 3/3 [00:00<00:00, 20.69it/s]\n"
     ]
    },
    {
     "name": "stdout",
     "output_type": "stream",
     "text": [
      "| \u001b[39m92       \u001b[39m | \u001b[39m-146.0   \u001b[39m | \u001b[39m0.4512   \u001b[39m | \u001b[39m0.3551   \u001b[39m | \u001b[39m0.5684   \u001b[39m | \u001b[39m0.3578   \u001b[39m | \u001b[39m0.07179  \u001b[39m |\n"
     ]
    },
    {
     "name": "stderr",
     "output_type": "stream",
     "text": [
      "Running stagnant active sampling: 100%|██████████| 3/3 [00:00<00:00,  3.47it/s]\n"
     ]
    },
    {
     "name": "stdout",
     "output_type": "stream",
     "text": [
      "| \u001b[39m93       \u001b[39m | \u001b[39m-25.43   \u001b[39m | \u001b[39m0.7723   \u001b[39m | \u001b[39m7.944    \u001b[39m | \u001b[39m0.979    \u001b[39m | \u001b[39m0.1735   \u001b[39m | \u001b[39m0.08672  \u001b[39m |\n"
     ]
    },
    {
     "name": "stderr",
     "output_type": "stream",
     "text": [
      "Running stagnant active sampling: 100%|██████████| 3/3 [00:01<00:00,  2.52it/s]\n"
     ]
    },
    {
     "name": "stdout",
     "output_type": "stream",
     "text": [
      "| \u001b[39m94       \u001b[39m | \u001b[39m-22.35   \u001b[39m | \u001b[39m0.1019   \u001b[39m | \u001b[39m9.149    \u001b[39m | \u001b[39m0.9905   \u001b[39m | \u001b[39m0.3997   \u001b[39m | \u001b[39m0.07651  \u001b[39m |\n"
     ]
    },
    {
     "name": "stderr",
     "output_type": "stream",
     "text": [
      "Running stagnant active sampling: 100%|██████████| 3/3 [00:01<00:00,  2.49it/s]\n"
     ]
    },
    {
     "name": "stdout",
     "output_type": "stream",
     "text": [
      "| \u001b[39m95       \u001b[39m | \u001b[39m-16.12   \u001b[39m | \u001b[39m0.6186   \u001b[39m | \u001b[39m8.544    \u001b[39m | \u001b[39m0.2492   \u001b[39m | \u001b[39m0.3893   \u001b[39m | \u001b[39m0.05035  \u001b[39m |\n"
     ]
    },
    {
     "name": "stderr",
     "output_type": "stream",
     "text": [
      "Running stagnant active sampling: 100%|██████████| 3/3 [00:00<00:00,  3.71it/s]\n"
     ]
    },
    {
     "name": "stdout",
     "output_type": "stream",
     "text": [
      "| \u001b[39m96       \u001b[39m | \u001b[39m-46.91   \u001b[39m | \u001b[39m0.3282   \u001b[39m | \u001b[39m5.807    \u001b[39m | \u001b[39m0.5073   \u001b[39m | \u001b[39m0.3949   \u001b[39m | \u001b[39m0.09896  \u001b[39m |\n"
     ]
    },
    {
     "name": "stderr",
     "output_type": "stream",
     "text": [
      "Running stagnant active sampling: 100%|██████████| 3/3 [00:00<00:00,  3.43it/s]\n"
     ]
    },
    {
     "name": "stdout",
     "output_type": "stream",
     "text": [
      "| \u001b[39m97       \u001b[39m | \u001b[39m-21.33   \u001b[39m | \u001b[39m0.6501   \u001b[39m | \u001b[39m6.714    \u001b[39m | \u001b[39m0.3101   \u001b[39m | \u001b[39m0.1352   \u001b[39m | \u001b[39m0.08518  \u001b[39m |\n"
     ]
    },
    {
     "name": "stderr",
     "output_type": "stream",
     "text": [
      "Running stagnant active sampling: 100%|██████████| 3/3 [00:00<00:00, 10.00it/s]\n"
     ]
    },
    {
     "name": "stdout",
     "output_type": "stream",
     "text": [
      "| \u001b[39m98       \u001b[39m | \u001b[39m-50.87   \u001b[39m | \u001b[39m0.7385   \u001b[39m | \u001b[39m1.793    \u001b[39m | \u001b[39m0.7433   \u001b[39m | \u001b[39m0.3103   \u001b[39m | \u001b[39m0.0705   \u001b[39m |\n"
     ]
    },
    {
     "name": "stderr",
     "output_type": "stream",
     "text": [
      "Running stagnant active sampling: 100%|██████████| 3/3 [00:00<00:00,  3.36it/s]\n"
     ]
    },
    {
     "name": "stdout",
     "output_type": "stream",
     "text": [
      "| \u001b[39m99       \u001b[39m | \u001b[39m-14.23   \u001b[39m | \u001b[39m0.1161   \u001b[39m | \u001b[39m6.141    \u001b[39m | \u001b[39m0.01206  \u001b[39m | \u001b[39m0.1294   \u001b[39m | \u001b[39m0.06162  \u001b[39m |\n"
     ]
    },
    {
     "name": "stderr",
     "output_type": "stream",
     "text": [
      "Running stagnant active sampling: 100%|██████████| 3/3 [00:00<00:00,  3.41it/s]\n"
     ]
    },
    {
     "name": "stdout",
     "output_type": "stream",
     "text": [
      "| \u001b[39m100      \u001b[39m | \u001b[39m-26.59   \u001b[39m | \u001b[39m0.7955   \u001b[39m | \u001b[39m7.678    \u001b[39m | \u001b[39m0.5344   \u001b[39m | \u001b[39m0.1161   \u001b[39m | \u001b[39m0.05276  \u001b[39m |\n"
     ]
    },
    {
     "name": "stderr",
     "output_type": "stream",
     "text": [
      "Running stagnant active sampling: 100%|██████████| 3/3 [00:00<00:00,  3.57it/s]\n"
     ]
    },
    {
     "name": "stdout",
     "output_type": "stream",
     "text": [
      "| \u001b[39m101      \u001b[39m | \u001b[39m-18.84   \u001b[39m | \u001b[39m0.7872   \u001b[39m | \u001b[39m7.18     \u001b[39m | \u001b[39m0.04661  \u001b[39m | \u001b[39m0.1291   \u001b[39m | \u001b[39m0.05038  \u001b[39m |\n"
     ]
    },
    {
     "name": "stderr",
     "output_type": "stream",
     "text": [
      "Running stagnant active sampling: 100%|██████████| 3/3 [00:00<00:00,  3.01it/s]\n"
     ]
    },
    {
     "name": "stdout",
     "output_type": "stream",
     "text": [
      "| \u001b[39m102      \u001b[39m | \u001b[39m-14.21   \u001b[39m | \u001b[39m0.5865   \u001b[39m | \u001b[39m8.936    \u001b[39m | \u001b[39m0.009386 \u001b[39m | \u001b[39m0.1225   \u001b[39m | \u001b[39m0.09057  \u001b[39m |\n"
     ]
    },
    {
     "name": "stderr",
     "output_type": "stream",
     "text": [
      "Running stagnant active sampling: 100%|██████████| 3/3 [00:00<00:00, 17.94it/s]\n"
     ]
    },
    {
     "name": "stdout",
     "output_type": "stream",
     "text": [
      "| \u001b[39m103      \u001b[39m | \u001b[39m-184.6   \u001b[39m | \u001b[39m0.5265   \u001b[39m | \u001b[39m0.9639   \u001b[39m | \u001b[39m0.4815   \u001b[39m | \u001b[39m0.3601   \u001b[39m | \u001b[39m0.05707  \u001b[39m |\n"
     ]
    },
    {
     "name": "stderr",
     "output_type": "stream",
     "text": [
      "Running stagnant active sampling: 100%|██████████| 3/3 [00:00<00:00,  6.57it/s]\n"
     ]
    },
    {
     "name": "stdout",
     "output_type": "stream",
     "text": [
      "| \u001b[39m104      \u001b[39m | \u001b[39m-58.19   \u001b[39m | \u001b[39m0.1077   \u001b[39m | \u001b[39m2.051    \u001b[39m | \u001b[39m0.01734  \u001b[39m | \u001b[39m0.1634   \u001b[39m | \u001b[39m0.0519   \u001b[39m |\n"
     ]
    },
    {
     "name": "stderr",
     "output_type": "stream",
     "text": [
      "Running stagnant active sampling: 100%|██████████| 3/3 [00:01<00:00,  2.74it/s]\n"
     ]
    },
    {
     "name": "stdout",
     "output_type": "stream",
     "text": [
      "| \u001b[39m105      \u001b[39m | \u001b[39m-50.31   \u001b[39m | \u001b[39m0.76     \u001b[39m | \u001b[39m6.643    \u001b[39m | \u001b[39m0.04754  \u001b[39m | \u001b[39m0.3722   \u001b[39m | \u001b[39m0.07241  \u001b[39m |\n"
     ]
    },
    {
     "name": "stderr",
     "output_type": "stream",
     "text": [
      "Running stagnant active sampling: 100%|██████████| 3/3 [00:00<00:00,  4.57it/s]\n"
     ]
    },
    {
     "name": "stdout",
     "output_type": "stream",
     "text": [
      "| \u001b[39m106      \u001b[39m | \u001b[39m-42.02   \u001b[39m | \u001b[39m0.7747   \u001b[39m | \u001b[39m4.84     \u001b[39m | \u001b[39m0.3568   \u001b[39m | \u001b[39m0.1242   \u001b[39m | \u001b[39m0.08236  \u001b[39m |\n"
     ]
    },
    {
     "name": "stderr",
     "output_type": "stream",
     "text": [
      "Running stagnant active sampling: 100%|██████████| 3/3 [00:00<00:00,  3.61it/s]\n"
     ]
    },
    {
     "name": "stdout",
     "output_type": "stream",
     "text": [
      "| \u001b[39m107      \u001b[39m | \u001b[39m-14.84   \u001b[39m | \u001b[39m0.781    \u001b[39m | \u001b[39m9.528    \u001b[39m | \u001b[39m0.9997   \u001b[39m | \u001b[39m0.3567   \u001b[39m | \u001b[39m0.07724  \u001b[39m |\n"
     ]
    },
    {
     "name": "stderr",
     "output_type": "stream",
     "text": [
      "Running stagnant active sampling: 100%|██████████| 3/3 [00:00<00:00, 13.67it/s]\n"
     ]
    },
    {
     "name": "stdout",
     "output_type": "stream",
     "text": [
      "| \u001b[39m108      \u001b[39m | \u001b[39m-91.02   \u001b[39m | \u001b[39m0.2998   \u001b[39m | \u001b[39m0.3251   \u001b[39m | \u001b[39m0.055    \u001b[39m | \u001b[39m0.1282   \u001b[39m | \u001b[39m0.08676  \u001b[39m |\n"
     ]
    },
    {
     "name": "stderr",
     "output_type": "stream",
     "text": [
      "Running stagnant active sampling: 100%|██████████| 3/3 [00:01<00:00,  2.77it/s]\n"
     ]
    },
    {
     "name": "stdout",
     "output_type": "stream",
     "text": [
      "| \u001b[39m109      \u001b[39m | \u001b[39m-22.65   \u001b[39m | \u001b[39m0.6708   \u001b[39m | \u001b[39m9.898    \u001b[39m | \u001b[39m0.9776   \u001b[39m | \u001b[39m0.1463   \u001b[39m | \u001b[39m0.05572  \u001b[39m |\n"
     ]
    },
    {
     "name": "stderr",
     "output_type": "stream",
     "text": [
      "Running stagnant active sampling: 100%|██████████| 3/3 [00:00<00:00,  4.97it/s]\n"
     ]
    },
    {
     "name": "stdout",
     "output_type": "stream",
     "text": [
      "| \u001b[39m110      \u001b[39m | \u001b[39m-40.91   \u001b[39m | \u001b[39m0.1022   \u001b[39m | \u001b[39m4.427    \u001b[39m | \u001b[39m0.9202   \u001b[39m | \u001b[39m0.194    \u001b[39m | \u001b[39m0.09826  \u001b[39m |\n"
     ]
    },
    {
     "name": "stderr",
     "output_type": "stream",
     "text": [
      "Running stagnant active sampling: 100%|██████████| 3/3 [00:00<00:00,  5.16it/s]\n"
     ]
    },
    {
     "name": "stdout",
     "output_type": "stream",
     "text": [
      "| \u001b[39m111      \u001b[39m | \u001b[39m-66.06   \u001b[39m | \u001b[39m0.3205   \u001b[39m | \u001b[39m3.364    \u001b[39m | \u001b[39m0.02376  \u001b[39m | \u001b[39m0.3847   \u001b[39m | \u001b[39m0.09618  \u001b[39m |\n"
     ]
    },
    {
     "name": "stderr",
     "output_type": "stream",
     "text": [
      "Running stagnant active sampling: 100%|██████████| 3/3 [00:01<00:00,  2.68it/s]\n"
     ]
    },
    {
     "name": "stdout",
     "output_type": "stream",
     "text": [
      "| \u001b[39m112      \u001b[39m | \u001b[39m-15.02   \u001b[39m | \u001b[39m0.4063   \u001b[39m | \u001b[39m9.149    \u001b[39m | \u001b[39m0.987    \u001b[39m | \u001b[39m0.2455   \u001b[39m | \u001b[39m0.05854  \u001b[39m |\n"
     ]
    },
    {
     "name": "stderr",
     "output_type": "stream",
     "text": [
      "Running stagnant active sampling: 100%|██████████| 3/3 [00:00<00:00,  3.08it/s]\n"
     ]
    },
    {
     "name": "stdout",
     "output_type": "stream",
     "text": [
      "| \u001b[39m113      \u001b[39m | \u001b[39m-13.36   \u001b[39m | \u001b[39m0.451    \u001b[39m | \u001b[39m7.283    \u001b[39m | \u001b[39m0.02298  \u001b[39m | \u001b[39m0.3839   \u001b[39m | \u001b[39m0.06813  \u001b[39m |\n"
     ]
    },
    {
     "name": "stderr",
     "output_type": "stream",
     "text": [
      "Running stagnant active sampling: 100%|██████████| 3/3 [00:00<00:00,  3.89it/s]\n"
     ]
    },
    {
     "name": "stdout",
     "output_type": "stream",
     "text": [
      "| \u001b[39m114      \u001b[39m | \u001b[39m-46.01   \u001b[39m | \u001b[39m0.7387   \u001b[39m | \u001b[39m6.419    \u001b[39m | \u001b[39m0.5601   \u001b[39m | \u001b[39m0.11     \u001b[39m | \u001b[39m0.07518  \u001b[39m |\n"
     ]
    },
    {
     "name": "stderr",
     "output_type": "stream",
     "text": [
      "Running stagnant active sampling: 100%|██████████| 3/3 [00:01<00:00,  2.04it/s]\n"
     ]
    },
    {
     "name": "stdout",
     "output_type": "stream",
     "text": [
      "| \u001b[39m115      \u001b[39m | \u001b[39m-18.28   \u001b[39m | \u001b[39m0.4649   \u001b[39m | \u001b[39m7.361    \u001b[39m | \u001b[39m0.2069   \u001b[39m | \u001b[39m0.1346   \u001b[39m | \u001b[39m0.05443  \u001b[39m |\n"
     ]
    },
    {
     "name": "stderr",
     "output_type": "stream",
     "text": [
      "Running stagnant active sampling: 100%|██████████| 3/3 [00:00<00:00,  4.84it/s]\n"
     ]
    },
    {
     "name": "stdout",
     "output_type": "stream",
     "text": [
      "| \u001b[39m116      \u001b[39m | \u001b[39m-71.26   \u001b[39m | \u001b[39m0.7697   \u001b[39m | \u001b[39m2.269    \u001b[39m | \u001b[39m0.01555  \u001b[39m | \u001b[39m0.358    \u001b[39m | \u001b[39m0.05035  \u001b[39m |\n"
     ]
    },
    {
     "name": "stderr",
     "output_type": "stream",
     "text": [
      "Running stagnant active sampling: 100%|██████████| 3/3 [00:00<00:00,  3.15it/s]\n"
     ]
    },
    {
     "name": "stdout",
     "output_type": "stream",
     "text": [
      "| \u001b[39m117      \u001b[39m | \u001b[39m-56.18   \u001b[39m | \u001b[39m0.7216   \u001b[39m | \u001b[39m5.65     \u001b[39m | \u001b[39m0.004865 \u001b[39m | \u001b[39m0.2977   \u001b[39m | \u001b[39m0.08252  \u001b[39m |\n"
     ]
    },
    {
     "name": "stderr",
     "output_type": "stream",
     "text": [
      "Running stagnant active sampling: 100%|██████████| 3/3 [00:01<00:00,  2.66it/s]\n"
     ]
    },
    {
     "name": "stdout",
     "output_type": "stream",
     "text": [
      "| \u001b[39m118      \u001b[39m | \u001b[39m-16.85   \u001b[39m | \u001b[39m0.4886   \u001b[39m | \u001b[39m7.534    \u001b[39m | \u001b[39m0.4151   \u001b[39m | \u001b[39m0.3979   \u001b[39m | \u001b[39m0.058    \u001b[39m |\n"
     ]
    },
    {
     "name": "stderr",
     "output_type": "stream",
     "text": [
      "Running stagnant active sampling: 100%|██████████| 3/3 [00:01<00:00,  2.34it/s]\n"
     ]
    },
    {
     "name": "stdout",
     "output_type": "stream",
     "text": [
      "| \u001b[39m119      \u001b[39m | \u001b[39m-9.183   \u001b[39m | \u001b[39m0.5903   \u001b[39m | \u001b[39m9.439    \u001b[39m | \u001b[39m0.9939   \u001b[39m | \u001b[39m0.1347   \u001b[39m | \u001b[39m0.09256  \u001b[39m |\n"
     ]
    },
    {
     "name": "stderr",
     "output_type": "stream",
     "text": [
      "Running stagnant active sampling: 100%|██████████| 3/3 [00:00<00:00,  6.55it/s]\n"
     ]
    },
    {
     "name": "stdout",
     "output_type": "stream",
     "text": [
      "| \u001b[39m120      \u001b[39m | \u001b[39m-56.5    \u001b[39m | \u001b[39m0.1087   \u001b[39m | \u001b[39m1.714    \u001b[39m | \u001b[39m0.9841   \u001b[39m | \u001b[39m0.218    \u001b[39m | \u001b[39m0.08858  \u001b[39m |\n"
     ]
    },
    {
     "name": "stderr",
     "output_type": "stream",
     "text": [
      "Running stagnant active sampling: 100%|██████████| 3/3 [00:01<00:00,  1.80it/s]\n"
     ]
    },
    {
     "name": "stdout",
     "output_type": "stream",
     "text": [
      "| \u001b[39m121      \u001b[39m | \u001b[39m-10.23   \u001b[39m | \u001b[39m0.1292   \u001b[39m | \u001b[39m9.018    \u001b[39m | \u001b[39m0.02645  \u001b[39m | \u001b[39m0.3922   \u001b[39m | \u001b[39m0.08386  \u001b[39m |\n"
     ]
    },
    {
     "name": "stderr",
     "output_type": "stream",
     "text": [
      "Running stagnant active sampling: 100%|██████████| 3/3 [00:01<00:00,  2.72it/s]\n"
     ]
    },
    {
     "name": "stdout",
     "output_type": "stream",
     "text": [
      "| \u001b[39m122      \u001b[39m | \u001b[39m-24.87   \u001b[39m | \u001b[39m0.7936   \u001b[39m | \u001b[39m9.219    \u001b[39m | \u001b[39m0.9514   \u001b[39m | \u001b[39m0.3435   \u001b[39m | \u001b[39m0.0896   \u001b[39m |\n"
     ]
    },
    {
     "name": "stderr",
     "output_type": "stream",
     "text": [
      "Running stagnant active sampling: 100%|██████████| 3/3 [00:01<00:00,  2.93it/s]\n"
     ]
    },
    {
     "name": "stdout",
     "output_type": "stream",
     "text": [
      "| \u001b[39m123      \u001b[39m | \u001b[39m-39.23   \u001b[39m | \u001b[39m0.3152   \u001b[39m | \u001b[39m7.882    \u001b[39m | \u001b[39m0.008772 \u001b[39m | \u001b[39m0.3685   \u001b[39m | \u001b[39m0.09771  \u001b[39m |\n"
     ]
    },
    {
     "name": "stderr",
     "output_type": "stream",
     "text": [
      "Running stagnant active sampling: 100%|██████████| 3/3 [00:01<00:00,  2.82it/s]\n"
     ]
    },
    {
     "name": "stdout",
     "output_type": "stream",
     "text": [
      "| \u001b[39m124      \u001b[39m | \u001b[39m-29.06   \u001b[39m | \u001b[39m0.2543   \u001b[39m | \u001b[39m6.174    \u001b[39m | \u001b[39m0.2919   \u001b[39m | \u001b[39m0.1008   \u001b[39m | \u001b[39m0.06959  \u001b[39m |\n"
     ]
    },
    {
     "name": "stderr",
     "output_type": "stream",
     "text": [
      "Running stagnant active sampling: 100%|██████████| 3/3 [00:01<00:00,  1.57it/s]\n"
     ]
    },
    {
     "name": "stdout",
     "output_type": "stream",
     "text": [
      "| \u001b[39m125      \u001b[39m | \u001b[39m-20.33   \u001b[39m | \u001b[39m0.113    \u001b[39m | \u001b[39m9.15     \u001b[39m | \u001b[39m0.1755   \u001b[39m | \u001b[39m0.2639   \u001b[39m | \u001b[39m0.06607  \u001b[39m |\n"
     ]
    },
    {
     "name": "stderr",
     "output_type": "stream",
     "text": [
      "Running stagnant active sampling: 100%|██████████| 3/3 [00:01<00:00,  2.86it/s]\n"
     ]
    },
    {
     "name": "stdout",
     "output_type": "stream",
     "text": [
      "| \u001b[39m126      \u001b[39m | \u001b[39m-6.044   \u001b[39m | \u001b[39m0.1235   \u001b[39m | \u001b[39m7.278    \u001b[39m | \u001b[39m0.01384  \u001b[39m | \u001b[39m0.1372   \u001b[39m | \u001b[39m0.09031  \u001b[39m |\n"
     ]
    },
    {
     "name": "stderr",
     "output_type": "stream",
     "text": [
      "Running stagnant active sampling: 100%|██████████| 3/3 [00:01<00:00,  2.78it/s]\n"
     ]
    },
    {
     "name": "stdout",
     "output_type": "stream",
     "text": [
      "| \u001b[39m127      \u001b[39m | \u001b[39m-5.873   \u001b[39m | \u001b[39m0.7475   \u001b[39m | \u001b[39m8.392    \u001b[39m | \u001b[39m0.9964   \u001b[39m | \u001b[39m0.3558   \u001b[39m | \u001b[39m0.05831  \u001b[39m |\n"
     ]
    },
    {
     "name": "stderr",
     "output_type": "stream",
     "text": [
      "Running stagnant active sampling: 100%|██████████| 3/3 [00:01<00:00,  2.76it/s]\n"
     ]
    },
    {
     "name": "stdout",
     "output_type": "stream",
     "text": [
      "| \u001b[39m128      \u001b[39m | \u001b[39m-32.48   \u001b[39m | \u001b[39m0.7399   \u001b[39m | \u001b[39m8.373    \u001b[39m | \u001b[39m0.8373   \u001b[39m | \u001b[39m0.1101   \u001b[39m | \u001b[39m0.08031  \u001b[39m |\n"
     ]
    },
    {
     "name": "stderr",
     "output_type": "stream",
     "text": [
      "Running stagnant active sampling: 100%|██████████| 3/3 [00:00<00:00,  3.07it/s]\n"
     ]
    },
    {
     "name": "stdout",
     "output_type": "stream",
     "text": [
      "| \u001b[39m129      \u001b[39m | \u001b[39m-6.448   \u001b[39m | \u001b[39m0.1303   \u001b[39m | \u001b[39m7.226    \u001b[39m | \u001b[39m0.2653   \u001b[39m | \u001b[39m0.3766   \u001b[39m | \u001b[39m0.06676  \u001b[39m |\n"
     ]
    },
    {
     "name": "stderr",
     "output_type": "stream",
     "text": [
      "Running stagnant active sampling: 100%|██████████| 3/3 [00:01<00:00,  2.68it/s]\n"
     ]
    },
    {
     "name": "stdout",
     "output_type": "stream",
     "text": [
      "| \u001b[39m130      \u001b[39m | \u001b[39m-9.108   \u001b[39m | \u001b[39m0.1635   \u001b[39m | \u001b[39m7.409    \u001b[39m | \u001b[39m0.4817   \u001b[39m | \u001b[39m0.1144   \u001b[39m | \u001b[39m0.06132  \u001b[39m |\n"
     ]
    },
    {
     "name": "stderr",
     "output_type": "stream",
     "text": [
      "Running stagnant active sampling: 100%|██████████| 3/3 [00:01<00:00,  2.00it/s]\n"
     ]
    },
    {
     "name": "stdout",
     "output_type": "stream",
     "text": [
      "| \u001b[39m131      \u001b[39m | \u001b[39m-5.983   \u001b[39m | \u001b[39m0.4097   \u001b[39m | \u001b[39m9.998    \u001b[39m | \u001b[39m0.933    \u001b[39m | \u001b[39m0.3951   \u001b[39m | \u001b[39m0.06728  \u001b[39m |\n"
     ]
    },
    {
     "name": "stderr",
     "output_type": "stream",
     "text": [
      "Running stagnant active sampling: 100%|██████████| 3/3 [00:00<00:00,  4.01it/s]\n"
     ]
    },
    {
     "name": "stdout",
     "output_type": "stream",
     "text": [
      "| \u001b[39m132      \u001b[39m | \u001b[39m-42.2    \u001b[39m | \u001b[39m0.6118   \u001b[39m | \u001b[39m4.134    \u001b[39m | \u001b[39m0.489    \u001b[39m | \u001b[39m0.1873   \u001b[39m | \u001b[39m0.0977   \u001b[39m |\n"
     ]
    },
    {
     "name": "stderr",
     "output_type": "stream",
     "text": [
      "Running stagnant active sampling: 100%|██████████| 3/3 [00:00<00:00,  4.48it/s]\n"
     ]
    },
    {
     "name": "stdout",
     "output_type": "stream",
     "text": [
      "| \u001b[39m133      \u001b[39m | \u001b[39m-29.31   \u001b[39m | \u001b[39m0.2786   \u001b[39m | \u001b[39m5.982    \u001b[39m | \u001b[39m0.02091  \u001b[39m | \u001b[39m0.267    \u001b[39m | \u001b[39m0.08281  \u001b[39m |\n"
     ]
    },
    {
     "name": "stderr",
     "output_type": "stream",
     "text": [
      "Running stagnant active sampling: 100%|██████████| 3/3 [00:01<00:00,  2.39it/s]\n"
     ]
    },
    {
     "name": "stdout",
     "output_type": "stream",
     "text": [
      "| \u001b[39m134      \u001b[39m | \u001b[39m-14.84   \u001b[39m | \u001b[39m0.3781   \u001b[39m | \u001b[39m9.675    \u001b[39m | \u001b[39m0.9769   \u001b[39m | \u001b[39m0.3815   \u001b[39m | \u001b[39m0.07301  \u001b[39m |\n"
     ]
    },
    {
     "name": "stderr",
     "output_type": "stream",
     "text": [
      "Running stagnant active sampling: 100%|██████████| 3/3 [00:01<00:00,  2.76it/s]\n"
     ]
    },
    {
     "name": "stdout",
     "output_type": "stream",
     "text": [
      "| \u001b[39m135      \u001b[39m | \u001b[39m-19.49   \u001b[39m | \u001b[39m0.4689   \u001b[39m | \u001b[39m8.733    \u001b[39m | \u001b[39m0.006122 \u001b[39m | \u001b[39m0.3961   \u001b[39m | \u001b[39m0.09183  \u001b[39m |\n"
     ]
    },
    {
     "name": "stderr",
     "output_type": "stream",
     "text": [
      "Running stagnant active sampling: 100%|██████████| 3/3 [00:00<00:00,  6.58it/s]\n"
     ]
    },
    {
     "name": "stdout",
     "output_type": "stream",
     "text": [
      "| \u001b[39m136      \u001b[39m | \u001b[39m-43.85   \u001b[39m | \u001b[39m0.389    \u001b[39m | \u001b[39m2.404    \u001b[39m | \u001b[39m0.03673  \u001b[39m | \u001b[39m0.2573   \u001b[39m | \u001b[39m0.0507   \u001b[39m |\n"
     ]
    },
    {
     "name": "stderr",
     "output_type": "stream",
     "text": [
      "Running stagnant active sampling: 100%|██████████| 3/3 [00:00<00:00,  3.21it/s]\n"
     ]
    },
    {
     "name": "stdout",
     "output_type": "stream",
     "text": [
      "| \u001b[39m137      \u001b[39m | \u001b[39m-14.74   \u001b[39m | \u001b[39m0.3446   \u001b[39m | \u001b[39m7.02     \u001b[39m | \u001b[39m0.01804  \u001b[39m | \u001b[39m0.1018   \u001b[39m | \u001b[39m0.08902  \u001b[39m |\n"
     ]
    },
    {
     "name": "stderr",
     "output_type": "stream",
     "text": [
      "Running stagnant active sampling: 100%|██████████| 3/3 [00:01<00:00,  1.99it/s]\n"
     ]
    },
    {
     "name": "stdout",
     "output_type": "stream",
     "text": [
      "| \u001b[39m138      \u001b[39m | \u001b[39m-19.05   \u001b[39m | \u001b[39m0.1014   \u001b[39m | \u001b[39m9.996    \u001b[39m | \u001b[39m0.9503   \u001b[39m | \u001b[39m0.3039   \u001b[39m | \u001b[39m0.07937  \u001b[39m |\n"
     ]
    },
    {
     "name": "stderr",
     "output_type": "stream",
     "text": [
      "Running stagnant active sampling: 100%|██████████| 3/3 [00:00<00:00,  4.27it/s]\n"
     ]
    },
    {
     "name": "stdout",
     "output_type": "stream",
     "text": [
      "| \u001b[39m139      \u001b[39m | \u001b[39m-34.32   \u001b[39m | \u001b[39m0.569    \u001b[39m | \u001b[39m4.047    \u001b[39m | \u001b[39m0.8502   \u001b[39m | \u001b[39m0.2031   \u001b[39m | \u001b[39m0.09877  \u001b[39m |\n"
     ]
    },
    {
     "name": "stderr",
     "output_type": "stream",
     "text": [
      "Running stagnant active sampling: 100%|██████████| 3/3 [00:01<00:00,  2.65it/s]\n"
     ]
    },
    {
     "name": "stdout",
     "output_type": "stream",
     "text": [
      "| \u001b[39m140      \u001b[39m | \u001b[39m-11.14   \u001b[39m | \u001b[39m0.5767   \u001b[39m | \u001b[39m9.11     \u001b[39m | \u001b[39m0.9793   \u001b[39m | \u001b[39m0.1956   \u001b[39m | \u001b[39m0.08644  \u001b[39m |\n"
     ]
    },
    {
     "name": "stderr",
     "output_type": "stream",
     "text": [
      "Running stagnant active sampling: 100%|██████████| 3/3 [00:00<00:00,  4.08it/s]\n"
     ]
    },
    {
     "name": "stdout",
     "output_type": "stream",
     "text": [
      "| \u001b[39m141      \u001b[39m | \u001b[39m-39.36   \u001b[39m | \u001b[39m0.6029   \u001b[39m | \u001b[39m5.489    \u001b[39m | \u001b[39m0.7305   \u001b[39m | \u001b[39m0.1689   \u001b[39m | \u001b[39m0.09235  \u001b[39m |\n"
     ]
    },
    {
     "name": "stderr",
     "output_type": "stream",
     "text": [
      "Running stagnant active sampling: 100%|██████████| 3/3 [00:01<00:00,  2.89it/s]\n"
     ]
    },
    {
     "name": "stdout",
     "output_type": "stream",
     "text": [
      "| \u001b[39m142      \u001b[39m | \u001b[39m-22.04   \u001b[39m | \u001b[39m0.4344   \u001b[39m | \u001b[39m8.518    \u001b[39m | \u001b[39m0.9974   \u001b[39m | \u001b[39m0.3634   \u001b[39m | \u001b[39m0.05002  \u001b[39m |\n"
     ]
    },
    {
     "name": "stderr",
     "output_type": "stream",
     "text": [
      "Running stagnant active sampling: 100%|██████████| 3/3 [00:00<00:00,  4.05it/s]\n"
     ]
    },
    {
     "name": "stdout",
     "output_type": "stream",
     "text": [
      "| \u001b[39m143      \u001b[39m | \u001b[39m-40.13   \u001b[39m | \u001b[39m0.2158   \u001b[39m | \u001b[39m5.717    \u001b[39m | \u001b[39m0.1237   \u001b[39m | \u001b[39m0.2078   \u001b[39m | \u001b[39m0.07266  \u001b[39m |\n"
     ]
    },
    {
     "name": "stderr",
     "output_type": "stream",
     "text": [
      "Running stagnant active sampling: 100%|██████████| 3/3 [00:01<00:00,  1.86it/s]\n"
     ]
    },
    {
     "name": "stdout",
     "output_type": "stream",
     "text": [
      "| \u001b[39m144      \u001b[39m | \u001b[39m-16.72   \u001b[39m | \u001b[39m0.4235   \u001b[39m | \u001b[39m9.963    \u001b[39m | \u001b[39m0.529    \u001b[39m | \u001b[39m0.1008   \u001b[39m | \u001b[39m0.08379  \u001b[39m |\n"
     ]
    },
    {
     "name": "stderr",
     "output_type": "stream",
     "text": [
      "Running stagnant active sampling: 100%|██████████| 3/3 [00:01<00:00,  2.25it/s]\n"
     ]
    },
    {
     "name": "stdout",
     "output_type": "stream",
     "text": [
      "| \u001b[39m145      \u001b[39m | \u001b[39m-12.82   \u001b[39m | \u001b[39m0.1561   \u001b[39m | \u001b[39m7.507    \u001b[39m | \u001b[39m0.4211   \u001b[39m | \u001b[39m0.3942   \u001b[39m | \u001b[39m0.0583   \u001b[39m |\n"
     ]
    },
    {
     "name": "stderr",
     "output_type": "stream",
     "text": [
      "Running stagnant active sampling: 100%|██████████| 3/3 [00:00<00:00,  4.19it/s]\n"
     ]
    },
    {
     "name": "stdout",
     "output_type": "stream",
     "text": [
      "| \u001b[39m146      \u001b[39m | \u001b[39m-30.5    \u001b[39m | \u001b[39m0.7681   \u001b[39m | \u001b[39m4.836    \u001b[39m | \u001b[39m0.9971   \u001b[39m | \u001b[39m0.3337   \u001b[39m | \u001b[39m0.09881  \u001b[39m |\n"
     ]
    },
    {
     "name": "stderr",
     "output_type": "stream",
     "text": [
      "Running stagnant active sampling: 100%|██████████| 3/3 [00:01<00:00,  2.41it/s]\n"
     ]
    },
    {
     "name": "stdout",
     "output_type": "stream",
     "text": [
      "| \u001b[39m147      \u001b[39m | \u001b[39m-6.834   \u001b[39m | \u001b[39m0.5799   \u001b[39m | \u001b[39m9.321    \u001b[39m | \u001b[39m0.8709   \u001b[39m | \u001b[39m0.1582   \u001b[39m | \u001b[39m0.07568  \u001b[39m |\n"
     ]
    },
    {
     "name": "stderr",
     "output_type": "stream",
     "text": [
      "Running stagnant active sampling: 100%|██████████| 3/3 [00:01<00:00,  2.26it/s]\n"
     ]
    },
    {
     "name": "stdout",
     "output_type": "stream",
     "text": [
      "| \u001b[39m148      \u001b[39m | \u001b[39m-23.45   \u001b[39m | \u001b[39m0.1149   \u001b[39m | \u001b[39m8.903    \u001b[39m | \u001b[39m0.5564   \u001b[39m | \u001b[39m0.1142   \u001b[39m | \u001b[39m0.05039  \u001b[39m |\n"
     ]
    },
    {
     "name": "stderr",
     "output_type": "stream",
     "text": [
      "Running stagnant active sampling: 100%|██████████| 3/3 [00:01<00:00,  2.28it/s]\n"
     ]
    },
    {
     "name": "stdout",
     "output_type": "stream",
     "text": [
      "| \u001b[39m149      \u001b[39m | \u001b[39m-9.15    \u001b[39m | \u001b[39m0.4549   \u001b[39m | \u001b[39m9.295    \u001b[39m | \u001b[39m0.1807   \u001b[39m | \u001b[39m0.1532   \u001b[39m | \u001b[39m0.09792  \u001b[39m |\n"
     ]
    },
    {
     "name": "stderr",
     "output_type": "stream",
     "text": [
      "Running stagnant active sampling: 100%|██████████| 3/3 [00:01<00:00,  2.42it/s]\n"
     ]
    },
    {
     "name": "stdout",
     "output_type": "stream",
     "text": [
      "| \u001b[39m150      \u001b[39m | \u001b[39m-25.6    \u001b[39m | \u001b[39m0.1504   \u001b[39m | \u001b[39m7.171    \u001b[39m | \u001b[39m0.324    \u001b[39m | \u001b[39m0.1208   \u001b[39m | \u001b[39m0.07557  \u001b[39m |\n"
     ]
    },
    {
     "name": "stderr",
     "output_type": "stream",
     "text": [
      "Running stagnant active sampling: 100%|██████████| 3/3 [00:01<00:00,  2.70it/s]\n"
     ]
    },
    {
     "name": "stdout",
     "output_type": "stream",
     "text": [
      "| \u001b[39m151      \u001b[39m | \u001b[39m-32.35   \u001b[39m | \u001b[39m0.7105   \u001b[39m | \u001b[39m9.519    \u001b[39m | \u001b[39m0.3159   \u001b[39m | \u001b[39m0.3836   \u001b[39m | \u001b[39m0.06559  \u001b[39m |\n"
     ]
    },
    {
     "name": "stderr",
     "output_type": "stream",
     "text": [
      "Running stagnant active sampling: 100%|██████████| 3/3 [00:01<00:00,  2.24it/s]\n"
     ]
    },
    {
     "name": "stdout",
     "output_type": "stream",
     "text": [
      "| \u001b[39m152      \u001b[39m | \u001b[39m-33.03   \u001b[39m | \u001b[39m0.6216   \u001b[39m | \u001b[39m9.722    \u001b[39m | \u001b[39m0.3099   \u001b[39m | \u001b[39m0.3697   \u001b[39m | \u001b[39m0.08045  \u001b[39m |\n"
     ]
    },
    {
     "name": "stderr",
     "output_type": "stream",
     "text": [
      "Running stagnant active sampling: 100%|██████████| 3/3 [00:01<00:00,  2.05it/s]\n"
     ]
    },
    {
     "name": "stdout",
     "output_type": "stream",
     "text": [
      "| \u001b[39m153      \u001b[39m | \u001b[39m-28.47   \u001b[39m | \u001b[39m0.7976   \u001b[39m | \u001b[39m9.696    \u001b[39m | \u001b[39m0.4085   \u001b[39m | \u001b[39m0.2975   \u001b[39m | \u001b[39m0.05409  \u001b[39m |\n"
     ]
    },
    {
     "name": "stderr",
     "output_type": "stream",
     "text": [
      "Running stagnant active sampling: 100%|██████████| 3/3 [00:00<00:00,  3.35it/s]\n"
     ]
    },
    {
     "name": "stdout",
     "output_type": "stream",
     "text": [
      "| \u001b[39m154      \u001b[39m | \u001b[39m-5.738   \u001b[39m | \u001b[39m0.2597   \u001b[39m | \u001b[39m6.923    \u001b[39m | \u001b[39m0.5421   \u001b[39m | \u001b[39m0.1195   \u001b[39m | \u001b[39m0.05094  \u001b[39m |\n"
     ]
    },
    {
     "name": "stderr",
     "output_type": "stream",
     "text": [
      "Running stagnant active sampling: 100%|██████████| 3/3 [00:01<00:00,  2.22it/s]"
     ]
    },
    {
     "name": "stdout",
     "output_type": "stream",
     "text": [
      "| \u001b[39m155      \u001b[39m | \u001b[39m-19.99   \u001b[39m | \u001b[39m0.1072   \u001b[39m | \u001b[39m9.16     \u001b[39m | \u001b[39m0.6213   \u001b[39m | \u001b[39m0.3831   \u001b[39m | \u001b[39m0.07458  \u001b[39m |\n",
      "=====================================================================================\n"
     ]
    },
    {
     "name": "stderr",
     "output_type": "stream",
     "text": [
      "\n"
     ]
    }
   ],
   "source": [
    "pbounds = {\n",
    "    \"uncertainty_threshold\": (0.05, 0.1),\n",
    "    \"higher_uncertainty_threshold\": (0.1, 0.8),\n",
    "    \"r2_improvement_threshold\": (0.1, 0.4),\n",
    "    \"max_stagnant_iterations\": (0, 1),\n",
    "    \"max_iterations\": (0, 10),\n",
    "}\n",
    "\n",
    "optimizer = BayesianOptimization(\n",
    "    f=objective_hyperparams_stagnant,\n",
    "    pbounds=pbounds,\n",
    "    random_state=42,\n",
    ")\n",
    "optimizer.maximize(init_points=5, n_iter=150)\n",
    "\n",
    "stagnant_optimized_hyperparameters = {\n",
    "    k: int(v) if k in ['max_iterations', 'max_stagnant_iterations'] else v \n",
    "    for k, v in optimizer.max['params'].items()\n",
    "}\n",
    "\n",
    "with open(\"../pickeled/step-4-stagnant_optimized_hyperparameters-LDU.pkl\", \"wb\") as f:\n",
    "    pickle.dump(stagnant_optimized_hyperparameters, f)"
   ]
  },
  {
   "cell_type": "code",
   "execution_count": 42,
   "metadata": {},
   "outputs": [
    {
     "name": "stderr",
     "output_type": "stream",
     "text": [
      "Running stagnant active sampling: 100%|██████████| 40/40 [00:15<00:00,  2.50it/s]\n"
     ]
    },
    {
     "data": {
      "image/png": "[encoded data removed]",
      "text/plain": [
       "<Figure size 1800x600 with 3 Axes>"
      ]
     },
     "metadata": {},
     "output_type": "display_data"
    },
    {
     "name": "stdout",
     "output_type": "stream",
     "text": [
      "Average Final R²: 0.7848\n",
      "Average Samples Used: 11.00\n",
      "Average Data Utilization: 41.51%\n"
     ]
    }
   ],
   "source": [
    "import pickle\n",
    "\n",
    "with open(\"../pickeled/step-4-stagnant_optimized_hyperparameters-LDU.pkl\", \"rb\") as f:\n",
    "    stagnant_optimized_hyperparameters = pickle.load(f)\n",
    "\n",
    "results_stagnant = run_active_sampling_stagnant(params_mostData, data_filtered, sort=True ,verbose=False, **stagnant_optimized_hyperparameters)\n",
    "visualize_aggregated_results(results_stagnant, \"Stagnant - sorted - optimized for lower data use\", stagnant_optimized_hyperparameters)"
   ]
  },
  {
   "cell_type": "markdown",
   "metadata": {},
   "source": [
    "##### Hyperparameters Fine-Tuning Result Analysis"
   ]
  },
  {
   "cell_type": "markdown",
   "metadata": {},
   "source": [
    "After fine-tuning our hyperparameters using Bayesian Optimization, we achieved impressive improvements in data utilization without sacrificing model performance.\n",
    "\n",
    "**Results visualized**\n",
    "\n",
    "**Before optimization:**\n",
    "![Basic results pre](../images/step4-basic-Result(pre-tuning).png)\n",
    "\n",
    "![stagnat results pre](../images/step4-stagnat-result(pre-tuning).png)\n",
    "\n",
    "\n",
    "**After optimization:**\n",
    "![Basic results post](../images/step4-optimized-basic.png)\n",
    "![stagnat results post](../images/step4-optimized-stagnat.png)\n",
    "\n",
    "\n",
    "**Post-Optimization Results Comparison**\n",
    "\n",
    "| Strategy                                    | Avg R²   | Avg Data Utilization (%) | Avg Samples Used |\n",
    "| :------------------------------------------ | :-------: | :----------------------: | :--------------: | \n",
    "| Basic (Pre-Optimization)                   |  0.9423  |          67.93%         |      18.00      |\n",
    "| Stagnant (Pre-Optimization)                 |  0.9413  |          65.74%         |       17.43     |\n",
    "| Basic - Optimized                            |  0.8183  |          45.25%         |      12.00     | \n",
    "| Stagnant - Optimized                         |  0.9841  |          66.14%         |      17.40    |  \n",
    "| Stagnant - Optimized (Lower Data Use)      |  0.8433  |          48.73%         |      11.93     |\n",
    "\n",
    "**Key Observations:**\n",
    "\n",
    "*   **Optimization Impact:**  Optimization significantly changed the balance between R² and data utilization.\n",
    "*   **Best Overall:** \"Stagnant - Optimized\" achieved the highest R² (0.9841) but also had high data utilization (66.14%).\n",
    "*   **Data Efficiency:** \"Stagnant - Optimized (Lower Data Use)\" and \"Basic - Optimized \"achieved much lower data utilization (under 50%) with a reasonable trade-off in R².\n",
    "*  **Hyperparameters Variety**: There is a big variety in the hyperparameters values.\n",
    "*  **Pre vs Post optimization (Stagnant):** The optimized stagnant model achieved a better R², and the non optimized version did not utilize the stagnant parameters, where optimized does.\n",
    "*  **Pre vs Post optimization (Basic):** The optimized basic model achieved a much worse R², yet a better data efficiency.\n",
    "\n"
   ]
  }
 ],
 "metadata": {
  "kernelspec": {
   "display_name": "DS-101-Final",
   "language": "python",
   "name": "python3"
  },
  "language_info": {
   "codemirror_mode": {
    "name": "ipython",
    "version": 3
   },
   "file_extension": ".py",
   "mimetype": "text/x-python",
   "name": "python",
   "nbconvert_exporter": "python",
   "pygments_lexer": "ipython3",
   "version": "3.12.8"
  }
 },
 "nbformat": 4,
 "nbformat_minor": 2
}
