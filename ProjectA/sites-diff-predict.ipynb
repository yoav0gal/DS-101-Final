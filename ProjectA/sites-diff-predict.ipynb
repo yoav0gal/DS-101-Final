{
 "cells": [
  {
   "cell_type": "code",
   "execution_count": 76,
   "metadata": {},
   "outputs": [],
   "source": [
    "import pandas as pd\n",
    "import numpy as np\n",
    "import matplotlib.pyplot as plt\n",
    "import seaborn as sns\n",
    "from sklearn.model_selection import train_test_split\n",
    "from sklearn.preprocessing import StandardScaler\n",
    "from sklearn.linear_model import LinearRegression\n",
    "from sklearn.tree import DecisionTreeRegressor\n",
    "from sklearn.ensemble import RandomForestRegressor\n",
    "from sklearn.metrics import mean_absolute_error, mean_squared_error, r2_score\n",
    "from sklearn.inspection import permutation_importance"
   ]
  },
  {
   "cell_type": "code",
   "execution_count": 77,
   "metadata": {},
   "outputs": [],
   "source": [
    "booking_data = pd.read_csv(\"./proccessedBookings.csv\")\n",
    "expedia_data = pd.read_csv(\"./bookingsSecond.csv\")"
   ]
  },
  {
   "cell_type": "code",
   "execution_count": 78,
   "metadata": {},
   "outputs": [],
   "source": [
    "def add_check_in_col(df):\n",
    "    df['snapshot_date'] = pd.to_datetime(df['snapshot_date'], format='%Y-%m-%d')  # Correct format\n",
    "    df['checkin_date'] = df['snapshot_date'] + pd.to_timedelta(df['time_to_travel'], unit='D')  # Add days\n",
    "    df['checkin_day'] = df['checkin_date'].dt.day  # Extract day of the month"
   ]
  },
  {
   "cell_type": "code",
   "execution_count": 79,
   "metadata": {},
   "outputs": [],
   "source": [
    "add_check_in_col(booking_data)\n",
    "add_check_in_col(expedia_data)"
   ]
  },
  {
   "cell_type": "code",
   "execution_count": 80,
   "metadata": {},
   "outputs": [],
   "source": [
    "booking_data = booking_data.drop_duplicates(subset=['name', 'checkin_date', 'length_of_stay'])\n",
    "expedia_data = expedia_data.drop_duplicates(subset=['name', 'checkin_date', 'length_of_stay'])"
   ]
  },
  {
   "cell_type": "code",
   "execution_count": 81,
   "metadata": {},
   "outputs": [],
   "source": [
    "merged_data = pd.merge(booking_data, expedia_data, on=['name', 'checkin_date','length_of_stay'], suffixes=('_booking', '_expedia'), how='inner')"
   ]
  },
  {
   "cell_type": "code",
   "execution_count": 82,
   "metadata": {},
   "outputs": [
    {
     "name": "stdout",
     "output_type": "stream",
     "text": [
      "18561\n",
      "22409\n",
      "18560\n"
     ]
    },
    {
     "data": {
      "text/html": [
       "<div>\n",
       "<style scoped>\n",
       "    .dataframe tbody tr th:only-of-type {\n",
       "        vertical-align: middle;\n",
       "    }\n",
       "\n",
       "    .dataframe tbody tr th {\n",
       "        vertical-align: top;\n",
       "    }\n",
       "\n",
       "    .dataframe thead th {\n",
       "        text-align: right;\n",
       "    }\n",
       "</style>\n",
       "<table border=\"1\" class=\"dataframe\">\n",
       "  <thead>\n",
       "    <tr style=\"text-align: right;\">\n",
       "      <th></th>\n",
       "      <th>Unnamed: 0.1</th>\n",
       "      <th>Unnamed: 0_booking</th>\n",
       "      <th>name</th>\n",
       "      <th>original_price_booking</th>\n",
       "      <th>discounted_price_booking</th>\n",
       "      <th>discount_booking</th>\n",
       "      <th>review_score_booking</th>\n",
       "      <th>review_title_booking</th>\n",
       "      <th>number_of_reviews_booking</th>\n",
       "      <th>star_rating_booking</th>\n",
       "      <th>...</th>\n",
       "      <th>kms_from_centre_expedia</th>\n",
       "      <th>location_score_expedia</th>\n",
       "      <th>bed_type_expedia</th>\n",
       "      <th>room_type_expedia</th>\n",
       "      <th>breakfast_included_expedia</th>\n",
       "      <th>free_cancellation</th>\n",
       "      <th>prepayment_needed</th>\n",
       "      <th>time_to_travel_expedia</th>\n",
       "      <th>snapshot_date_expedia</th>\n",
       "      <th>checkin_day_expedia</th>\n",
       "    </tr>\n",
       "  </thead>\n",
       "  <tbody>\n",
       "    <tr>\n",
       "      <th>0</th>\n",
       "      <td>0</td>\n",
       "      <td>0.0</td>\n",
       "      <td>Iroquois New York Times Square</td>\n",
       "      <td>292.0</td>\n",
       "      <td>218.0</td>\n",
       "      <td>True</td>\n",
       "      <td>8.5</td>\n",
       "      <td>4.0</td>\n",
       "      <td>2625.0</td>\n",
       "      <td>5.0</td>\n",
       "      <td>...</td>\n",
       "      <td>NaN</td>\n",
       "      <td>9.7</td>\n",
       "      <td>1 large double bed</td>\n",
       "      <td>Superior 1 Queen Bed</td>\n",
       "      <td>True</td>\n",
       "      <td>False</td>\n",
       "      <td>True</td>\n",
       "      <td>1</td>\n",
       "      <td>2025-02-02</td>\n",
       "      <td>3</td>\n",
       "    </tr>\n",
       "    <tr>\n",
       "      <th>1</th>\n",
       "      <td>1</td>\n",
       "      <td>1.0</td>\n",
       "      <td>Four Points by Sheraton New York Downtown</td>\n",
       "      <td>130.0</td>\n",
       "      <td>111.0</td>\n",
       "      <td>True</td>\n",
       "      <td>7.8</td>\n",
       "      <td>3.0</td>\n",
       "      <td>1987.0</td>\n",
       "      <td>3.0</td>\n",
       "      <td>...</td>\n",
       "      <td>NaN</td>\n",
       "      <td>NaN</td>\n",
       "      <td>1 extra-large double bed</td>\n",
       "      <td>Guest Room, 1 King</td>\n",
       "      <td>False</td>\n",
       "      <td>True</td>\n",
       "      <td>False</td>\n",
       "      <td>1</td>\n",
       "      <td>2025-02-02</td>\n",
       "      <td>3</td>\n",
       "    </tr>\n",
       "    <tr>\n",
       "      <th>2</th>\n",
       "      <td>2</td>\n",
       "      <td>2.0</td>\n",
       "      <td>The Mayfair Hotel Times Square, Ascend Hotel C...</td>\n",
       "      <td>141.0</td>\n",
       "      <td>141.0</td>\n",
       "      <td>False</td>\n",
       "      <td>8.6</td>\n",
       "      <td>5.0</td>\n",
       "      <td>1895.0</td>\n",
       "      <td>3.0</td>\n",
       "      <td>...</td>\n",
       "      <td>NaN</td>\n",
       "      <td>9.6</td>\n",
       "      <td>1 double bed</td>\n",
       "      <td>Deluxe Double Room - Non Smoking</td>\n",
       "      <td>False</td>\n",
       "      <td>False</td>\n",
       "      <td>True</td>\n",
       "      <td>1</td>\n",
       "      <td>2025-02-02</td>\n",
       "      <td>3</td>\n",
       "    </tr>\n",
       "    <tr>\n",
       "      <th>3</th>\n",
       "      <td>3</td>\n",
       "      <td>3.0</td>\n",
       "      <td>The Washington by LuxUrban</td>\n",
       "      <td>160.0</td>\n",
       "      <td>160.0</td>\n",
       "      <td>False</td>\n",
       "      <td>7.7</td>\n",
       "      <td>3.0</td>\n",
       "      <td>9442.0</td>\n",
       "      <td>4.0</td>\n",
       "      <td>...</td>\n",
       "      <td>NaN</td>\n",
       "      <td>9.4</td>\n",
       "      <td>1 single bed</td>\n",
       "      <td>Room Assigned on Arrival</td>\n",
       "      <td>False</td>\n",
       "      <td>False</td>\n",
       "      <td>True</td>\n",
       "      <td>1</td>\n",
       "      <td>2025-02-02</td>\n",
       "      <td>3</td>\n",
       "    </tr>\n",
       "    <tr>\n",
       "      <th>4</th>\n",
       "      <td>4</td>\n",
       "      <td>4.0</td>\n",
       "      <td>Hampton Inn by Hilton New York Times Square</td>\n",
       "      <td>152.0</td>\n",
       "      <td>152.0</td>\n",
       "      <td>False</td>\n",
       "      <td>7.8</td>\n",
       "      <td>3.0</td>\n",
       "      <td>2432.0</td>\n",
       "      <td>3.0</td>\n",
       "      <td>...</td>\n",
       "      <td>NaN</td>\n",
       "      <td>9.5</td>\n",
       "      <td>1 extra-large double bed</td>\n",
       "      <td>King Bed with City View</td>\n",
       "      <td>True</td>\n",
       "      <td>False</td>\n",
       "      <td>True</td>\n",
       "      <td>1</td>\n",
       "      <td>2025-02-02</td>\n",
       "      <td>3</td>\n",
       "    </tr>\n",
       "  </tbody>\n",
       "</table>\n",
       "<p>5 rows × 69 columns</p>\n",
       "</div>"
      ],
      "text/plain": [
       "   Unnamed: 0.1  Unnamed: 0_booking  \\\n",
       "0             0                 0.0   \n",
       "1             1                 1.0   \n",
       "2             2                 2.0   \n",
       "3             3                 3.0   \n",
       "4             4                 4.0   \n",
       "\n",
       "                                                name  original_price_booking  \\\n",
       "0                     Iroquois New York Times Square                   292.0   \n",
       "1          Four Points by Sheraton New York Downtown                   130.0   \n",
       "2  The Mayfair Hotel Times Square, Ascend Hotel C...                   141.0   \n",
       "3                         The Washington by LuxUrban                   160.0   \n",
       "4        Hampton Inn by Hilton New York Times Square                   152.0   \n",
       "\n",
       "   discounted_price_booking discount_booking  review_score_booking  \\\n",
       "0                     218.0             True                   8.5   \n",
       "1                     111.0             True                   7.8   \n",
       "2                     141.0            False                   8.6   \n",
       "3                     160.0            False                   7.7   \n",
       "4                     152.0            False                   7.8   \n",
       "\n",
       "   review_title_booking  number_of_reviews_booking  star_rating_booking  ...  \\\n",
       "0                   4.0                     2625.0                  5.0  ...   \n",
       "1                   3.0                     1987.0                  3.0  ...   \n",
       "2                   5.0                     1895.0                  3.0  ...   \n",
       "3                   3.0                     9442.0                  4.0  ...   \n",
       "4                   3.0                     2432.0                  3.0  ...   \n",
       "\n",
       "  kms_from_centre_expedia  location_score_expedia          bed_type_expedia  \\\n",
       "0                     NaN                     9.7        1 large double bed   \n",
       "1                     NaN                     NaN  1 extra-large double bed   \n",
       "2                     NaN                     9.6              1 double bed   \n",
       "3                     NaN                     9.4              1 single bed   \n",
       "4                     NaN                     9.5  1 extra-large double bed   \n",
       "\n",
       "                  room_type_expedia breakfast_included_expedia  \\\n",
       "0              Superior 1 Queen Bed                       True   \n",
       "1                Guest Room, 1 King                      False   \n",
       "2  Deluxe Double Room - Non Smoking                      False   \n",
       "3          Room Assigned on Arrival                      False   \n",
       "4           King Bed with City View                       True   \n",
       "\n",
       "  free_cancellation  prepayment_needed  time_to_travel_expedia  \\\n",
       "0             False               True                       1   \n",
       "1              True              False                       1   \n",
       "2             False               True                       1   \n",
       "3             False               True                       1   \n",
       "4             False               True                       1   \n",
       "\n",
       "  snapshot_date_expedia  checkin_day_expedia  \n",
       "0            2025-02-02                    3  \n",
       "1            2025-02-02                    3  \n",
       "2            2025-02-02                    3  \n",
       "3            2025-02-02                    3  \n",
       "4            2025-02-02                    3  \n",
       "\n",
       "[5 rows x 69 columns]"
      ]
     },
     "metadata": {},
     "output_type": "display_data"
    }
   ],
   "source": [
    "print(booking_data.__len__())\n",
    "print(expedia_data.__len__())\n",
    "print(merged_data.__len__())\n",
    "display(merged_data.head())\n"
   ]
  },
  {
   "cell_type": "code",
   "execution_count": 83,
   "metadata": {},
   "outputs": [],
   "source": [
    "merged_data['price_difference'] = merged_data['discounted_price_booking'] - merged_data['discounted_price_expedia']"
   ]
  },
  {
   "cell_type": "code",
   "execution_count": 85,
   "metadata": {},
   "outputs": [],
   "source": [
    "merged_data['checkin_date'] = pd.to_datetime(merged_data['checkin_date'])\n",
    "merged_data['checkin_date'] = (merged_data['checkin_date'] - merged_data['checkin_date'].min()).dt.days\n"
   ]
  },
  {
   "cell_type": "code",
   "execution_count": 86,
   "metadata": {},
   "outputs": [],
   "source": [
    "X = merged_data[['checkin_date', 'length_of_stay']]  # Replace with actual features\n",
    "y = merged_data['price_difference']"
   ]
  },
  {
   "cell_type": "code",
   "execution_count": 87,
   "metadata": {},
   "outputs": [],
   "source": [
    "X_train, X_test, y_train, y_test = train_test_split(X, y, test_size=0.3, random_state=42)"
   ]
  },
  {
   "cell_type": "code",
   "execution_count": 88,
   "metadata": {},
   "outputs": [],
   "source": [
    "scaler = StandardScaler()\n",
    "X_train_scaled = scaler.fit_transform(X_train)\n",
    "X_test_scaled = scaler.transform(X_test)"
   ]
  },
  {
   "cell_type": "code",
   "execution_count": 89,
   "metadata": {},
   "outputs": [],
   "source": [
    "models = {\n",
    "    'Linear Regression': LinearRegression(),\n",
    "    'Decision Tree': DecisionTreeRegressor(),\n",
    "    'Random Forest': RandomForestRegressor(n_estimators=100)\n",
    "}"
   ]
  },
  {
   "cell_type": "code",
   "execution_count": 90,
   "metadata": {},
   "outputs": [
    {
     "name": "stdout",
     "output_type": "stream",
     "text": [
      "fit and pred: Linear Regression\n",
      "logged: Linear Regression\n",
      "fit and pred: Decision Tree\n",
      "logged: Decision Tree\n",
      "fit and pred: Random Forest\n",
      "logged: Random Forest\n"
     ]
    }
   ],
   "source": [
    "results = {}\n",
    "\n",
    "for name, model in models.items():\n",
    "    model.fit(X_train_scaled, y_train)\n",
    "    y_pred = model.predict(X_test_scaled)\n",
    "    print(f'fit and pred: {name}')\n",
    "    # Calculate performance metrics\n",
    "    results[name] = {\n",
    "        'R2': r2_score(y_test, y_pred),\n",
    "        'MAE': mean_absolute_error(y_test, y_pred),\n",
    "        'MSE': mean_squared_error(y_test, y_pred),\n",
    "        'RMSE': np.sqrt(mean_squared_error(y_test, y_pred))\n",
    "    }\n",
    "    print(f'logged: {name}')\n"
   ]
  },
  {
   "cell_type": "code",
   "execution_count": 91,
   "metadata": {},
   "outputs": [
    {
     "name": "stdout",
     "output_type": "stream",
     "text": [
      "                         R2       MAE        MSE      RMSE\n",
      "Linear Regression  0.001148  0.177370  14.357807  3.789170\n",
      "Decision Tree     -0.000828  0.136353  14.386208  3.792915\n",
      "Random Forest     -0.000333  0.139632  14.379095  3.791978\n"
     ]
    }
   ],
   "source": [
    "results_df = pd.DataFrame(results).T\n",
    "print(results_df)"
   ]
  },
  {
   "cell_type": "code",
   "execution_count": 92,
   "metadata": {},
   "outputs": [
    {
     "data": {
      "image/png": "[encoded data removed]",
      "text/plain": [
       "<Figure size 720x360 with 1 Axes>"
      ]
     },
     "metadata": {
      "needs_background": "light"
     },
     "output_type": "display_data"
    }
   ],
   "source": [
    "best_model_name = results_df['R2'].idxmax()\n",
    "best_model = models[best_model_name]\n",
    "y_pred_best = best_model.predict(X_test_scaled)\n",
    "residuals = y_test - y_pred_best\n",
    "\n",
    "plt.figure(figsize=(10, 5))\n",
    "sns.histplot(residuals, bins=30, kde=True)\n",
    "plt.title(f'Residual Plot for {best_model_name}')\n",
    "plt.xlabel('Residuals')\n",
    "plt.ylabel('Frequency')\n",
    "plt.show()\n"
   ]
  },
  {
   "cell_type": "code",
   "execution_count": 93,
   "metadata": {},
   "outputs": [
    {
     "name": "stderr",
     "output_type": "stream",
     "text": [
      "C:\\Users\\Ilai\\AppData\\Local\\Temp/ipykernel_29700/572544589.py:11: FutureWarning: \n",
      "\n",
      "Passing `palette` without assigning `hue` is deprecated and will be removed in v0.14.0. Assign the `y` variable to `hue` and set `legend=False` for the same effect.\n",
      "\n",
      "  sns.barplot(x='Importance', y='Feature', data=importance_df, palette=\"Blues_d\")\n"
     ]
    },
    {
     "data": {
      "image/png": "[encoded data removed]",
      "text/plain": [
       "<Figure size 720x432 with 1 Axes>"
      ]
     },
     "metadata": {
      "needs_background": "light"
     },
     "output_type": "display_data"
    },
    {
     "name": "stderr",
     "output_type": "stream",
     "text": [
      "C:\\Users\\Ilai\\AppData\\Local\\Temp/ipykernel_29700/572544589.py:11: FutureWarning: \n",
      "\n",
      "Passing `palette` without assigning `hue` is deprecated and will be removed in v0.14.0. Assign the `y` variable to `hue` and set `legend=False` for the same effect.\n",
      "\n",
      "  sns.barplot(x='Importance', y='Feature', data=importance_df, palette=\"Blues_d\")\n"
     ]
    },
    {
     "data": {
      "image/png": "[encoded data removed]",
      "text/plain": [
       "<Figure size 720x432 with 1 Axes>"
      ]
     },
     "metadata": {
      "needs_background": "light"
     },
     "output_type": "display_data"
    }
   ],
   "source": [
    "for model_name in ['Decision Tree', 'Random Forest']:\n",
    "    model = models[model_name]\n",
    "    feature_importance = model.feature_importances_\n",
    "    \n",
    "    importance_df = pd.DataFrame({\n",
    "        'Feature': X.columns,\n",
    "        'Importance': feature_importance\n",
    "    }).sort_values(by='Importance', ascending=False)\n",
    "\n",
    "    plt.figure(figsize=(10, 6))\n",
    "    sns.barplot(x='Importance', y='Feature', data=importance_df, palette=\"Blues_d\")\n",
    "    plt.title(f'Feature Importance - {model_name}')\n",
    "    plt.show()"
   ]
  },
  {
   "cell_type": "code",
   "execution_count": 94,
   "metadata": {},
   "outputs": [
    {
     "name": "stderr",
     "output_type": "stream",
     "text": [
      "C:\\Users\\Ilai\\AppData\\Local\\Temp/ipykernel_29700/385583814.py:11: FutureWarning: \n",
      "\n",
      "Passing `palette` without assigning `hue` is deprecated and will be removed in v0.14.0. Assign the `y` variable to `hue` and set `legend=False` for the same effect.\n",
      "\n",
      "  sns.barplot(x='Importance', y='Feature', data=perm_importance_df, palette=\"Greens_d\")\n"
     ]
    },
    {
     "data": {
      "image/png": "[encoded data removed]",
      "text/plain": [
       "<Figure size 720x432 with 1 Axes>"
      ]
     },
     "metadata": {
      "needs_background": "light"
     },
     "output_type": "display_data"
    },
    {
     "name": "stderr",
     "output_type": "stream",
     "text": [
      "C:\\Users\\Ilai\\AppData\\Local\\Temp/ipykernel_29700/385583814.py:11: FutureWarning: \n",
      "\n",
      "Passing `palette` without assigning `hue` is deprecated and will be removed in v0.14.0. Assign the `y` variable to `hue` and set `legend=False` for the same effect.\n",
      "\n",
      "  sns.barplot(x='Importance', y='Feature', data=perm_importance_df, palette=\"Greens_d\")\n"
     ]
    },
    {
     "data": {
      "image/png": "[encoded data removed]",
      "text/plain": [
       "<Figure size 720x432 with 1 Axes>"
      ]
     },
     "metadata": {
      "needs_background": "light"
     },
     "output_type": "display_data"
    }
   ],
   "source": [
    "for model_name in ['Decision Tree', 'Random Forest']:\n",
    "    model = models[model_name]\n",
    "    perm_importance = permutation_importance(model, X_test_scaled, y_test, n_repeats=10, random_state=42)\n",
    "    \n",
    "    perm_importance_df = pd.DataFrame({\n",
    "        'Feature': X.columns,\n",
    "        'Importance': perm_importance.importances_mean\n",
    "    }).sort_values(by='Importance', ascending=False)\n",
    "\n",
    "    plt.figure(figsize=(10, 6))\n",
    "    sns.barplot(x='Importance', y='Feature', data=perm_importance_df, palette=\"Greens_d\")\n",
    "    plt.title(f'Permutation Feature Importance - {model_name}')\n",
    "    plt.show()\n"
   ]
  }
 ],
 "metadata": {
  "kernelspec": {
   "display_name": "base",
   "language": "python",
   "name": "python3"
  },
  "language_info": {
   "codemirror_mode": {
    "name": "ipython",
    "version": 3
   },
   "file_extension": ".py",
   "mimetype": "text/x-python",
   "name": "python",
   "nbconvert_exporter": "python",
   "pygments_lexer": "ipython3",
   "version": "3.9.7"
  }
 },
 "nbformat": 4,
 "nbformat_minor": 2
}
