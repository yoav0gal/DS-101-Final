{
 "cells": [
  {
   "cell_type": "markdown",
   "metadata": {},
   "source": [
    "# Sites Price Diff - Stage D"
   ]
  },
  {
   "cell_type": "markdown",
   "metadata": {},
   "source": [
    "## Installs and import"
   ]
  },
  {
   "cell_type": "code",
   "execution_count": null,
   "metadata": {},
   "outputs": [
    {
     "name": "stdout",
     "output_type": "stream",
     "text": [
      "Collecting thefuzz\n",
      "  Downloading thefuzz-0.22.1-py3-none-any.whl.metadata (3.9 kB)\n",
      "Collecting rapidfuzz<4.0.0,>=3.0.0 (from thefuzz)\n",
      "  Downloading rapidfuzz-3.12.2-cp312-cp312-win_amd64.whl.metadata (12 kB)\n",
      "Downloading thefuzz-0.22.1-py3-none-any.whl (8.2 kB)\n",
      "Downloading rapidfuzz-3.12.2-cp312-cp312-win_amd64.whl (1.6 MB)\n",
      "   ---------------------------------------- 0.0/1.6 MB ? eta -:--:--\n",
      "   ------ --------------------------------- 0.3/1.6 MB ? eta -:--:--\n",
      "   ---------------------------------------- 1.6/1.6 MB 7.3 MB/s eta 0:00:00\n",
      "Installing collected packages: rapidfuzz, thefuzz\n",
      "Successfully installed rapidfuzz-3.12.2 thefuzz-0.22.1\n",
      "Note: you may need to restart the kernel to use updated packages.\n"
     ]
    }
   ],
   "source": [
    "%pip install thefuzz"
   ]
  },
  {
   "cell_type": "code",
   "execution_count": 1,
   "metadata": {},
   "outputs": [],
   "source": [
    "import pandas as pd\n",
    "import numpy as np\n",
    "import matplotlib.pyplot as plt\n",
    "import seaborn as sns\n",
    "from sklearn.model_selection import train_test_split\n",
    "from sklearn.preprocessing import StandardScaler, LabelEncoder\n",
    "from sklearn.linear_model import LinearRegression\n",
    "from sklearn.tree import DecisionTreeRegressor\n",
    "from sklearn.ensemble import RandomForestRegressor\n",
    "from sklearn.metrics import mean_absolute_error, mean_squared_error, r2_score\n",
    "from sklearn.inspection import permutation_importance"
   ]
  },
  {
   "cell_type": "markdown",
   "metadata": {},
   "source": [
    "## Pre-Processing"
   ]
  },
  {
   "cell_type": "markdown",
   "metadata": {},
   "source": [
    "### Load Data"
   ]
  },
  {
   "cell_type": "code",
   "execution_count": 2,
   "metadata": {},
   "outputs": [
    {
     "data": {
      "text/plain": [
       "Index(['name', 'original_price', 'discounted_price', 'discount',\n",
       "       'review_score', 'review_title', 'number_of_reviews', 'star_rating',\n",
       "       'is_apartment', 'neighborhood', 'kms_from_centre', 'location_score',\n",
       "       'bed_type', 'room_type', 'breakfast_included', 'free_cancellation',\n",
       "       'prepayment_needed', 'time_to_travel', 'length_of_stay',\n",
       "       'snapshot_date', 'discounted_price_per_night',\n",
       "       'original_price_per_night', 'review_title_rank', 'bed_type_rank',\n",
       "       'Chelsea', 'Chinatown', 'East Harlem', 'East Village',\n",
       "       'Flatiron District', 'Gramercy', 'Greenwich Village', 'Harlem',\n",
       "       'Hell's Kitchen', 'Hudson Yards', 'Kips Bay', 'Little Italy',\n",
       "       'Lower East Side', 'Manhattan', 'Midtown East', 'Murray Hill',\n",
       "       'New York', 'NoMad', 'SoHo', 'Tribeca', 'Union Square',\n",
       "       'Upper East Side', 'Upper West Side', 'Washington Heights'],\n",
       "      dtype='object')"
      ]
     },
     "execution_count": 2,
     "metadata": {},
     "output_type": "execute_result"
    }
   ],
   "source": [
    "booking_data = pd.read_csv('./data/booking/processed_booking_snapshot_2025-03-09.csv')\n",
    "agoda_data = pd.read_csv('./data/agoda/processed_agoda_snapshot_2025-03-09.csv')\n",
    "booking_data.columns"
   ]
  },
  {
   "cell_type": "code",
   "execution_count": 3,
   "metadata": {},
   "outputs": [],
   "source": [
    "booking_data['breakfast_included'] = booking_data['breakfast_included'].astype(bool).astype(int)\n",
    "booking_data['free_cancellation'] = booking_data['free_cancellation'].astype(bool).astype(int)\n",
    "booking_data['prepayment_needed'] = booking_data['prepayment_needed'].astype(bool).astype(int)\n",
    "\n",
    "booking_data['price'] = booking_data['discounted_price_per_night']\n",
    "\n",
    "booking_data.drop(columns=['discount', 'original_price', 'discounted_price',\n",
    "        'review_title',\n",
    "       'is_apartment', 'neighborhood', 'kms_from_centre',\n",
    "       'bed_type', 'room_type', \n",
    "       'original_price_per_night', 'review_title_rank', 'bed_type_rank', 'discounted_price_per_night'\n",
    "       ], inplace=True)\n",
    "\n",
    "booking_data.fillna(booking_data['location_score'].min(), inplace=True)\n",
    "\n",
    "agoda_data['price'] = agoda_data['discounted_price']\n",
    "agoda_data.drop(columns=['discounted_price'], inplace=True)\n"
   ]
  },
  {
   "cell_type": "markdown",
   "metadata": {},
   "source": [
    "### Merge By Name\n"
   ]
  },
  {
   "cell_type": "markdown",
   "metadata": {},
   "source": [
    "To effectively compare hotel prices across Agoda and Booking, the data from both sources must first be merged based on a reliable, consistent key. We select the composite key `<name, snapshot_date, length_of_stay, time_to_travel>`, as this ensures that each row in the merged dataset uniquely identifies a specific hotel for a given query snapshot. Specifically, each page represents a distinct combination of snapshot date, duration of stay, and time until travel, while each hotel within a page remains uniquely identifiable by its name.\n",
    "\n",
    "However, merging solely by exact hotel names drastically reduces data utility: starting with approximately **26K rows** from Agoda and **12K rows** from Booking, a direct merge yields merely **1K results** due to naming inconsistencies between the two sources. Initially, merging by hotel address was considered as an alternative, but this was not feasible due to unavailable address data.\n",
    "\n",
    "To address this limitation, we implemented **fuzzy string matching** to normalize hotel names before merging. Fuzzy matching helps identify names that are highly similar but not identical by calculating a similarity metric between pairs of strings. Specifically, our approach involves checking if the hotel name from one dataset is entirely contained within the hotel name from the other. For instance, the hotel labeled as `\"ac hotel new york downtown\"` in Agoda appears as `\"ac hotel by marriott new york downtown\"` in Booking. These variations, while minor, significantly impact exact matching.\n",
    "\n",
    "A hotel from Agoda and Booking will thus be merged if:\n",
    "- The Booking.com hotel name is fully included (⊆) within the Agoda hotel name,  \n",
    "**OR**\n",
    "- The Agoda hotel name is fully included (⊆) within the Booking.com hotel name.\n",
    "\n",
    "This normalization strategy considerably increases the effectiveness and accuracy of our merged dataset, providing more meaningful insights into comparative hotel pricing across platforms. 🌐🔍\n"
   ]
  },
  {
   "cell_type": "markdown",
   "metadata": {},
   "source": [
    "#### normalize names"
   ]
  },
  {
   "cell_type": "code",
   "execution_count": 4,
   "metadata": {},
   "outputs": [],
   "source": [
    "import re\n",
    "import pandas as pd\n",
    "\n",
    "def normalize_name(name):\n",
    "    \"\"\"\n",
    "    Normalizes the name by converting to lowercase, removing ignored substrings,\n",
    "    punctuation, and extra spaces.\n",
    "    \"\"\"\n",
    "    if pd.isnull(name) or not name:\n",
    "        return \"\"\n",
    "    # Convert to lowercase.\n",
    "    name = name.lower()\n",
    "    # Remove punctuation; adjust regex as needed.\n",
    "    name = re.sub(r'[^\\w\\s]', '', name)\n",
    "    # Remove extra spaces.\n",
    "    name = re.sub(r'\\s+', ' ', name).strip()\n",
    "    return name"
   ]
  },
  {
   "cell_type": "code",
   "execution_count": 5,
   "metadata": {},
   "outputs": [],
   "source": [
    "agoda_data['name'] = agoda_data['name'].apply(normalize_name)\n",
    "booking_data['name'] = booking_data['name'].apply(normalize_name)"
   ]
  },
  {
   "cell_type": "markdown",
   "metadata": {},
   "source": [
    "#### Find names intersection\n",
    "Find out how many unique hotel names are included in both of the sites (intersection),\n",
    "which ones are unique to agoda and which ones are unique to bookings"
   ]
  },
  {
   "cell_type": "code",
   "execution_count": 6,
   "metadata": {},
   "outputs": [
    {
     "name": "stdout",
     "output_type": "stream",
     "text": [
      "Intersection: 188\n",
      "Agoda Only: 393\n",
      "Booking Only: 175\n"
     ]
    }
   ],
   "source": [
    "agoda_names = agoda_data['name'].unique()\n",
    "booking_names = booking_data['name'].unique()\n",
    "agoda_set = set(agoda_names)\n",
    "booking_set = set(booking_names)\n",
    "\n",
    "intersection_set = agoda_set & booking_set\n",
    "\n",
    "agoda_only_set = agoda_set - booking_set\n",
    "booking_only_set = booking_set - agoda_set\n",
    "\n",
    "intersection = list(intersection_set)\n",
    "agoda_only = list(agoda_only_set)\n",
    "agoda_only.sort()\n",
    "booking_only = list(booking_only_set)\n",
    "booking_only.sort()\n",
    "\n",
    "print(\"Intersection:\", len(intersection))\n",
    "print(\"Agoda Only:\", len(agoda_only))\n",
    "print(\"Booking Only:\", len(booking_only))"
   ]
  },
  {
   "cell_type": "markdown",
   "metadata": {},
   "source": [
    "As we can see from the result of the code above, some names of hotels are the same with slight differences. To mitigate this problem while merging the datasets, we  will use a similiaty score to group similiar names together.\n",
    "\n",
    "For example the AC hotel is listed as `Best Western PREMIER Herald Square` on booking, but on agoda it is listed as `Best Western Premier Herald Square`"
   ]
  },
  {
   "cell_type": "markdown",
   "metadata": {},
   "source": [
    "#### Find similiarities\n"
   ]
  },
  {
   "cell_type": "markdown",
   "metadata": {},
   "source": [
    "The `token_set_ratio` is a method from fuzzy string matching that first splits each string into individual words (tokens) and converts them into a set to ignore duplicate words and their order. It then computes a similarity score based solely on the common tokens between the two strings. This is especially useful for comparing names or phrases where the order of words might differ or where one string might have extra words that don’t change its overall identity.\n",
    "\n",
    "We used it to know if there is a full inclusion between names from two sets, without ordering, and by that we knew if two hotels are the same one.\n",
    "\n",
    "We added canonical hotel names, which are the shorter name between the ones listed on the internet"
   ]
  },
  {
   "cell_type": "code",
   "execution_count": 7,
   "metadata": {},
   "outputs": [
    {
     "name": "stdout",
     "output_type": "stream",
     "text": [
      "100 Similar matches between agoda_only and booking_only (ignoring substrings):\n",
      "ac hotel new york downtown: Agoda: 'ac hotel new york downtown' <--> Booking: 'ac hotel by marriott new york downtown' (Score: 100)\n",
      "ac hotel new york times square: Agoda: 'ac hotel new york times square' <--> Booking: 'ac hotel by marriott new york times square' (Score: 100)\n",
      "ace hotel: Agoda: 'ace hotel' <--> Booking: 'ace hotel new york' (Score: 100)\n",
      "park central: Agoda: 'aka central park' <--> Booking: 'park central' (Score: 100)\n",
      "ameritania at times square: Agoda: 'ameritania hotel at times square' <--> Booking: 'ameritania at times square' (Score: 100)\n",
      "aura hotel times square: Agoda: 'aura hotel times square' <--> Booking: 'aura hotel times square newly renovated' (Score: 100)\n",
      "belvedere hotel: Agoda: 'belvedere hotel' <--> Booking: 'the belvedere hotel' (Score: 100)\n",
      "candlewood suites nyc times square: Agoda: 'candlewood suites nyc times square' <--> Booking: 'candlewood suites nyc times square by ihg' (Score: 100)\n",
      "park central: Agoda: 'central park west hostel' <--> Booking: 'park central' (Score: 100)\n",
      "park central: Agoda: 'charming valley stream home 24 mi to central park' <--> Booking: 'park central' (Score: 100)\n",
      "club quarters hotel grand central: Agoda: 'club quarters hotel grand central' <--> Booking: 'club quarters hotel grand central new york' (Score: 100)\n",
      "courtyard new york manhattancentral park: Agoda: 'courtyard new york manhattancentral park' <--> Booking: 'courtyard by marriott new york manhattancentral park' (Score: 100)\n",
      "courtyard new york manhattanchelsea: Agoda: 'courtyard new york manhattanchelsea' <--> Booking: 'courtyard by marriott new york manhattanchelsea' (Score: 100)\n",
      "courtyard new york manhattantimes square: Agoda: 'courtyard new york manhattantimes square west' <--> Booking: 'courtyard new york manhattantimes square' (Score: 100)\n",
      "crowne plaza hy36 midtown manhattan: Agoda: 'crowne plaza hy36 midtown manhattan' <--> Booking: 'crowne plaza hy36 midtown manhattan by ihg' (Score: 100)\n",
      "doubletree by hilton new york times square west: Agoda: 'doubletree by hilton hotel new york times square west' <--> Booking: 'doubletree by hilton new york times square west' (Score: 100)\n",
      "edge hotel: Agoda: 'edge hotel' <--> Booking: 'edge hotel washington heights' (Score: 100)\n",
      "element times square west: Agoda: 'element new york times square west' <--> Booking: 'element times square west' (Score: 100)\n",
      "empire hotel: Agoda: 'empire hotel' <--> Booking: 'the empire hotel new york' (Score: 100)\n",
      "hudson new york: Agoda: 'equinox hotel hudson yards new york city' <--> Booking: 'hudson new york' (Score: 100)\n",
      "eurostars wall street: Agoda: 'eurostars hotel wall street' <--> Booking: 'eurostars wall street' (Score: 100)\n",
      "even hotel new york midtown east: Agoda: 'even hotel new york midtown east' <--> Booking: 'even hotel new york midtown east by ihg' (Score: 100)\n",
      "fairfield inn suites new york manhattancentral park: Agoda: 'fairfield inn suites new york manhattancentral park' <--> Booking: 'fairfield inn suites by marriott new york manhattancentral park' (Score: 100)\n",
      "fairfield inn suites new york manhattanchelsea: Agoda: 'fairfield inn suites new york manhattanchelsea' <--> Booking: 'fairfield inn suites by marriott new york manhattanchelsea' (Score: 100)\n",
      "fairfield inn suites new york manhattantimes square: Agoda: 'fairfield inn suites new york manhattantimes square' <--> Booking: 'fairfield inn suites by marriott new york manhattantimes square south' (Score: 100)\n",
      "fairfield inn suites new york manhattantimes square south: Agoda: 'fairfield inn suites new york manhattantimes square south' <--> Booking: 'fairfield inn suites by marriott new york manhattantimes square south' (Score: 100)\n",
      "fairfield inn suites new york midtown manhattanpenn station: Agoda: 'fairfield inn suites new york midtown manhattanpenn station' <--> Booking: 'fairfield inn suites by marriott new york midtown manhattanpenn station' (Score: 100)\n",
      "gansevoort meatpacking: Agoda: 'gansevoort meatpacking nyc' <--> Booking: 'gansevoort meatpacking' (Score: 100)\n",
      "hilton club new york: Agoda: 'hilton club new york hotel' <--> Booking: 'hilton club new york' (Score: 100)\n",
      "hilton garden inn west 35th street: Agoda: 'hilton garden inn new york west 35th street' <--> Booking: 'hilton garden inn west 35th street' (Score: 100)\n",
      "hilton new york fashion district: Agoda: 'hilton new york fashion district hotel' <--> Booking: 'hilton new york fashion district' (Score: 100)\n",
      "holiday inn express manhattan midtown west: Agoda: 'holiday inn express manhattan midtown west' <--> Booking: 'holiday inn express manhattan midtown west by ihg' (Score: 100)\n",
      "holiday inn express new york city chelsea: Agoda: 'holiday inn express new york city chelsea' <--> Booking: 'holiday inn express new york city chelsea by ihg' (Score: 100)\n",
      "holiday inn express times square south: Agoda: 'holiday inn express times square south' <--> Booking: 'holiday inn express times square south by ihg' (Score: 100)\n",
      "holiday inn express wall street: Agoda: 'holiday inn express wall street' <--> Booking: 'holiday inn express wall street by ihg' (Score: 100)\n",
      "holiday inn lower east side: Agoda: 'holiday inn lower east side' <--> Booking: 'holiday inn lower east side by ihg' (Score: 100)\n",
      "holiday inn manhattan 6th ave chelsea: Agoda: 'holiday inn manhattan 6th ave chelsea' <--> Booking: 'holiday inn manhattan 6th ave chelsea by ihg' (Score: 100)\n",
      "holiday inn new york city times square: Agoda: 'holiday inn new york city times square' <--> Booking: 'holiday inn new york city times square by ihg' (Score: 100)\n",
      "holiday inn wall street: Agoda: 'holiday inn wall street' <--> Booking: 'holiday inn express wall street by ihg' (Score: 100)\n",
      "hotel belleclaire: Agoda: 'hotel belleclaire' <--> Booking: 'hotel belleclaire central park' (Score: 100)\n",
      "hotel edison: Agoda: 'hotel edison' <--> Booking: 'hotel edison times square' (Score: 100)\n",
      "hotel hayden: Agoda: 'hotel hayden' <--> Booking: 'hotel hayden new york' (Score: 100)\n",
      "hotel indigo lower east side: Agoda: 'hotel indigo lower east side' <--> Booking: 'hotel indigo lower east side new york by ihg' (Score: 100)\n",
      "hotel indigo nyc financial district: Agoda: 'hotel indigo nyc financial district' <--> Booking: 'hotel indigo nyc financial district by ihg' (Score: 100)\n",
      "hotel shocard: Agoda: 'hotel shocard' <--> Booking: 'hotel shocard broadway times square' (Score: 100)\n",
      "hyatt centric wall street: Agoda: 'hyatt centric wall street' <--> Booking: 'hyatt centric wall street new york' (Score: 100)\n",
      "intercontinental new york barclay hotel: Agoda: 'intercontinental new york barclay hotel' <--> Booking: 'intercontinental new york barclay hotel by ihg' (Score: 100)\n",
      "intercontinental new york times square: Agoda: 'intercontinental new york times square' <--> Booking: 'intercontinental new york times square by ihg' (Score: 100)\n",
      "kimpton hotel eventi: Agoda: 'kimpton hotel eventi' <--> Booking: 'kimpton hotel eventi by ihg' (Score: 100)\n",
      "kimpton theta new york times square: Agoda: 'kimpton theta new york times square' <--> Booking: 'kimpton theta new york times square by ihg' (Score: 100)\n",
      "la quinta by wyndham new york city central park: Agoda: 'la quinta inn suites by wyndham new york city central park' <--> Booking: 'la quinta by wyndham new york city central park' (Score: 100)\n",
      "park central: Agoda: 'le méridien new york central park' <--> Booking: 'park central' (Score: 100)\n",
      "lex hotel nyc: Agoda: 'lex nyc hotel' <--> Booking: 'lex hotel nyc' (Score: 100)\n",
      "library hotel: Agoda: 'library hotel' <--> Booking: 'hotel elysee by library hotel collection' (Score: 100)\n",
      "m social times square: Agoda: 'm social times square' <--> Booking: 'm social hotel times square new york' (Score: 100)\n",
      "margaritaville times square: Agoda: 'margaritaville times square' <--> Booking: 'margaritaville resort times square' (Score: 100)\n",
      "mayfair hotel ascend hotel collection: Agoda: 'mayfair hotel ascend hotel collection' <--> Booking: 'the mayfair hotel times square ascend hotel collection' (Score: 100)\n",
      "mint house at 70 pine: Agoda: 'mint house at 70 pine new york city' <--> Booking: 'mint house at 70 pine' (Score: 100)\n",
      "new york hilton midtown: Agoda: 'new york hilton midtown hotel' <--> Booking: 'new york hilton midtown' (Score: 100)\n",
      "new york marriott downtown: Agoda: 'new york marriott downtown' <--> Booking: 'ac hotel by marriott new york downtown' (Score: 100)\n",
      "nolitan hotel: Agoda: 'nolitan hotel' <--> Booking: 'nolitan hotel soho new york' (Score: 100)\n",
      "nomo soho: Agoda: 'nomo soho hotel' <--> Booking: 'nomo soho' (Score: 100)\n",
      "paramount times square: Agoda: 'paramount times square' <--> Booking: 'paramount hotel times square' (Score: 100)\n",
      "park central hotel: Agoda: 'park central hotel' <--> Booking: 'hotel belleclaire central park' (Score: 100)\n",
      "bryant park hotel: Agoda: 'park terrace hotel on bryant park' <--> Booking: 'bryant park hotel' (Score: 100)\n",
      "premier new york times square: Agoda: 'premier new york times square' <--> Booking: 'millennium premier new york times square' (Score: 100)\n",
      "residence inn new york downtown manhattanworld trade center area: Agoda: 'residence inn new york downtown manhattanworld trade center area' <--> Booking: 'residence inn by marriott new york downtown manhattanworld trade center area' (Score: 100)\n",
      "residence inn new york manhattancentral park: Agoda: 'residence inn new york manhattancentral park' <--> Booking: 'residence inn by marriott new york manhattancentral park' (Score: 100)\n",
      "residence inn new york manhattantimes square: Agoda: 'residence inn new york manhattantimes square' <--> Booking: 'residence inn by marriott new york manhattantimes square' (Score: 100)\n",
      "san carlos hotel: Agoda: 'san carlos hotel' <--> Booking: 'san carlos hotel new york' (Score: 100)\n",
      "springhill suites new york manhattan times square: Agoda: 'springhill suites new york manhattan times square' <--> Booking: 'springhill suites by marriott new york manhattan times square' (Score: 100)\n",
      "springhill suites new york manhattantimes square south: Agoda: 'springhill suites new york manhattantimes square south' <--> Booking: 'springhill suites by marriott new york manhattantimes square south' (Score: 100)\n",
      "staypineapple an artful hotel midtown: Agoda: 'staypineapple an artful hotel midtown' <--> Booking: 'staypineapple an artful hotel midtown new york' (Score: 100)\n",
      "the blakely by luxurban: Agoda: 'the blakely hotel by luxurban' <--> Booking: 'the blakely by luxurban' (Score: 100)\n",
      "park central: Agoda: 'the central park east by the museum mile' <--> Booking: 'park central' (Score: 100)\n",
      "the fifth avenue hotel: Agoda: 'the fifth avenue hotel' <--> Booking: 'the hotel at fifth avenue' (Score: 100)\n",
      "the gotham hotel: Agoda: 'the gotham hotel ny' <--> Booking: 'the gotham hotel' (Score: 100)\n",
      "the herald by luxurban: Agoda: 'the herald hotel by luxurban' <--> Booking: 'the herald by luxurban' (Score: 100)\n",
      "the hotel fifth avenue: Agoda: 'the hotel fifth avenue' <--> Booking: 'the hotel at fifth avenue' (Score: 100)\n",
      "the knickerbocker: Agoda: 'the knickerbocker hotel' <--> Booking: 'the knickerbocker' (Score: 100)\n",
      "lombardy hotel: Agoda: 'the lombardy hotel' <--> Booking: 'lombardy hotel' (Score: 100)\n",
      "hotel lucerne: Agoda: 'the lucerne hotel' <--> Booking: 'hotel lucerne' (Score: 100)\n",
      "the manhattan at times square: Agoda: 'the manhattan at times square an ihg hotel' <--> Booking: 'the manhattan at times square' (Score: 100)\n",
      "the michelangelo hotel: Agoda: 'the michelangelo new york hotel' <--> Booking: 'the michelangelo hotel' (Score: 100)\n",
      "the renwick: Agoda: 'the renwick hotel new york city' <--> Booking: 'the renwick' (Score: 100)\n",
      "the ridge: Agoda: 'the ridge hotel' <--> Booking: 'the ridge' (Score: 100)\n",
      "soho grand hotel: Agoda: 'the soho grand hotel' <--> Booking: 'soho grand hotel' (Score: 100)\n",
      "solita soho hotel: Agoda: 'the solita soho hotel' <--> Booking: 'solita soho hotel' (Score: 100)\n",
      "the time new york: Agoda: 'the time new york' <--> Booking: 'the time new york part of jdv by hyatt' (Score: 100)\n",
      "the times square edition: Agoda: 'the times square edition' <--> Booking: 'the times square edition new york' (Score: 100)\n",
      "the wall street hotel: Agoda: 'the wall street hotel' <--> Booking: 'the wall street hotel new york city' (Score: 100)\n",
      "the washington by luxurban: Agoda: 'the washington hotel by luxurban' <--> Booking: 'the washington by luxurban' (Score: 100)\n",
      "towneplace suites new york manhattantimes square: Agoda: 'towneplace suites new york manhattantimes square' <--> Booking: 'towneplace suites by marriott new york manhattantimes square' (Score: 100)\n",
      "tuscany by luxurban: Agoda: 'tuscany hotel by luxurban' <--> Booking: 'tuscany by luxurban' (Score: 100)\n",
      "u hotel fifth avenue: Agoda: 'u hotel fifth avenue' <--> Booking: 'u hotel fifth avenue empire state building' (Score: 100)\n",
      "voco the franklin new york: Agoda: 'voco the franklin new york' <--> Booking: 'voco the franklin new york by ihg' (Score: 100)\n",
      "voco times square south new york: Agoda: 'voco times square south new york' <--> Booking: 'voco times square south new york by ihg' (Score: 100)\n",
      "warwick new york: Agoda: 'warwick new york hotel' <--> Booking: 'warwick new york' (Score: 100)\n",
      "west side ymca: Agoda: 'west side ymca hostel' <--> Booking: 'west side ymca' (Score: 100)\n",
      "world center hotel: Agoda: 'world center hotel' <--> Booking: 'club quarters hotel world trade center new york' (Score: 100)\n"
     ]
    }
   ],
   "source": [
    "import pandas as pd\n",
    "from thefuzz import fuzz\n",
    "\n",
    "\n",
    "threshold = 100\n",
    "similar_matches = []\n",
    "\n",
    "for agoda in agoda_only:\n",
    "    norm_agoda = normalize_name(agoda)\n",
    "    best_match = None\n",
    "    best_score = 0\n",
    "    for booking in booking_only:\n",
    "        norm_booking = normalize_name(booking)\n",
    "        score = fuzz.token_set_ratio(norm_agoda, norm_booking)\n",
    "        if score > best_score:\n",
    "            best_score = score\n",
    "            best_match = booking\n",
    "    # If the best match meets or exceeds the threshold, record the pair.\n",
    "    if best_score >= threshold:\n",
    "        canonical = agoda if len(agoda) < len(best_match) else best_match\n",
    "        similar_matches.append((agoda, best_match, best_score, canonical))\n",
    "\n",
    "# Output the matched pairs\n",
    "print(f\"{len(similar_matches)} Similar matches between agoda_only and booking_only (ignoring substrings):\")\n",
    "for agoda_name, booking_name, score, canonical in similar_matches:\n",
    "    print(f\"{canonical}: Agoda: '{agoda_name}' <--> Booking: '{booking_name}' (Score: {score})\")\n"
   ]
  },
  {
   "cell_type": "markdown",
   "metadata": {},
   "source": [
    "#### Transform names to canonical\n",
    "\n",
    "use the canonical names instead of the original ones for the merging. "
   ]
  },
  {
   "cell_type": "code",
   "execution_count": 8,
   "metadata": {},
   "outputs": [],
   "source": [
    "# transform the names from all hotels inplace at the dataframes\n",
    "for agoda, booking, _score, canonical in similar_matches:\n",
    "    booking_data.loc[booking_data['name'] == booking, 'name'] = canonical\n",
    "    agoda_data.loc[agoda_data['name'] == agoda_name, 'name'] = canonical\n"
   ]
  },
  {
   "cell_type": "code",
   "execution_count": 9,
   "metadata": {},
   "outputs": [],
   "source": [
    "def add_check_in_col(df):\n",
    "    df['snapshot_date'] = pd.to_datetime(df['snapshot_date'], format='%Y-%m-%d')  # Correct format\n",
    "    df['checkin_date'] = df['snapshot_date'] + pd.to_timedelta(df['time_to_travel'], unit='D')  # Add days\n",
    "    df['checkin_day'] = df['checkin_date'].dt.day  # Extract day of the month"
   ]
  },
  {
   "cell_type": "code",
   "execution_count": 10,
   "metadata": {},
   "outputs": [],
   "source": [
    "add_check_in_col(booking_data)\n",
    "add_check_in_col(agoda_data)"
   ]
  },
  {
   "cell_type": "code",
   "execution_count": 11,
   "metadata": {},
   "outputs": [],
   "source": [
    "booking_data = booking_data.drop_duplicates(subset=['name', 'checkin_date', 'length_of_stay'])\n",
    "agoda_data = agoda_data.drop_duplicates(subset=['name', 'checkin_date', 'length_of_stay'])"
   ]
  },
  {
   "cell_type": "code",
   "execution_count": 12,
   "metadata": {},
   "outputs": [
    {
     "name": "stdout",
     "output_type": "stream",
     "text": [
      "Index(['name', 'review_score', 'number_of_reviews', 'star_rating',\n",
      "       'location_score', 'breakfast_included', 'free_cancellation',\n",
      "       'prepayment_needed', 'time_to_travel', 'length_of_stay',\n",
      "       'snapshot_date', 'Chelsea', 'Chinatown', 'East Harlem', 'East Village',\n",
      "       'Flatiron District', 'Gramercy', 'Greenwich Village', 'Harlem',\n",
      "       'Hell's Kitchen', 'Hudson Yards', 'Kips Bay', 'Little Italy',\n",
      "       'Lower East Side', 'Manhattan', 'Midtown East', 'Murray Hill',\n",
      "       'New York', 'NoMad', 'SoHo', 'Tribeca', 'Union Square',\n",
      "       'Upper East Side', 'Upper West Side', 'Washington Heights', 'price',\n",
      "       'checkin_date', 'checkin_day'],\n",
      "      dtype='object')\n",
      "Index(['name', 'star_rating', 'review_score', 'number_of_reviews',\n",
      "       'distance_from_center', 'free_cancellation', 'prepayment_needed',\n",
      "       'breakfast_included', 'time_to_travel', 'length_of_stay',\n",
      "       'snapshot_date', 'price', 'checkin_date', 'checkin_day'],\n",
      "      dtype='object')\n"
     ]
    }
   ],
   "source": [
    "print(booking_data.columns)\n",
    "print(agoda_data.columns)"
   ]
  },
  {
   "cell_type": "markdown",
   "metadata": {},
   "source": [
    "#### Merge the DataFrames"
   ]
  },
  {
   "cell_type": "code",
   "execution_count": 13,
   "metadata": {},
   "outputs": [],
   "source": [
    "merged_data = pd.merge(booking_data, agoda_data, on=['name', 'checkin_date','length_of_stay', 'snapshot_date', 'time_to_travel'], suffixes=('_booking', '_agoda'), how='inner')"
   ]
  },
  {
   "cell_type": "markdown",
   "metadata": {},
   "source": [
    "#### Add name as column"
   ]
  },
  {
   "cell_type": "code",
   "execution_count": 14,
   "metadata": {},
   "outputs": [],
   "source": [
    "le = LabelEncoder()\n",
    "merged_data['name_encoded'] = le.fit_transform(merged_data['name'])"
   ]
  },
  {
   "cell_type": "code",
   "execution_count": 15,
   "metadata": {},
   "outputs": [
    {
     "name": "stdout",
     "output_type": "stream",
     "text": [
      "14235\n",
      "26853\n",
      "4932\n"
     ]
    },
    {
     "data": {
      "text/html": [
       "<div>\n",
       "<style scoped>\n",
       "    .dataframe tbody tr th:only-of-type {\n",
       "        vertical-align: middle;\n",
       "    }\n",
       "\n",
       "    .dataframe tbody tr th {\n",
       "        vertical-align: top;\n",
       "    }\n",
       "\n",
       "    .dataframe thead th {\n",
       "        text-align: right;\n",
       "    }\n",
       "</style>\n",
       "<table border=\"1\" class=\"dataframe\">\n",
       "  <thead>\n",
       "    <tr style=\"text-align: right;\">\n",
       "      <th></th>\n",
       "      <th>name</th>\n",
       "      <th>review_score_booking</th>\n",
       "      <th>number_of_reviews_booking</th>\n",
       "      <th>star_rating_booking</th>\n",
       "      <th>location_score</th>\n",
       "      <th>breakfast_included_booking</th>\n",
       "      <th>free_cancellation_booking</th>\n",
       "      <th>prepayment_needed_booking</th>\n",
       "      <th>time_to_travel</th>\n",
       "      <th>length_of_stay</th>\n",
       "      <th>...</th>\n",
       "      <th>star_rating_agoda</th>\n",
       "      <th>review_score_agoda</th>\n",
       "      <th>number_of_reviews_agoda</th>\n",
       "      <th>distance_from_center</th>\n",
       "      <th>free_cancellation_agoda</th>\n",
       "      <th>prepayment_needed_agoda</th>\n",
       "      <th>breakfast_included_agoda</th>\n",
       "      <th>price_agoda</th>\n",
       "      <th>checkin_day_agoda</th>\n",
       "      <th>name_encoded</th>\n",
       "    </tr>\n",
       "  </thead>\n",
       "  <tbody>\n",
       "    <tr>\n",
       "      <th>0</th>\n",
       "      <td>fairfield inn by marriott new york manhattanfi...</td>\n",
       "      <td>7.8</td>\n",
       "      <td>3648.0</td>\n",
       "      <td>3.0</td>\n",
       "      <td>9.3</td>\n",
       "      <td>1</td>\n",
       "      <td>0</td>\n",
       "      <td>1</td>\n",
       "      <td>1</td>\n",
       "      <td>1</td>\n",
       "      <td>...</td>\n",
       "      <td>3.0</td>\n",
       "      <td>8.0</td>\n",
       "      <td>3895.0</td>\n",
       "      <td>4.2</td>\n",
       "      <td>0</td>\n",
       "      <td>0</td>\n",
       "      <td>1</td>\n",
       "      <td>140.0</td>\n",
       "      <td>10</td>\n",
       "      <td>39</td>\n",
       "    </tr>\n",
       "    <tr>\n",
       "      <th>1</th>\n",
       "      <td>u hotel fifth avenue</td>\n",
       "      <td>7.9</td>\n",
       "      <td>3396.0</td>\n",
       "      <td>3.0</td>\n",
       "      <td>9.5</td>\n",
       "      <td>0</td>\n",
       "      <td>0</td>\n",
       "      <td>1</td>\n",
       "      <td>1</td>\n",
       "      <td>1</td>\n",
       "      <td>...</td>\n",
       "      <td>3.0</td>\n",
       "      <td>8.2</td>\n",
       "      <td>4227.0</td>\n",
       "      <td>0.0</td>\n",
       "      <td>0</td>\n",
       "      <td>0</td>\n",
       "      <td>0</td>\n",
       "      <td>150.0</td>\n",
       "      <td>10</td>\n",
       "      <td>148</td>\n",
       "    </tr>\n",
       "    <tr>\n",
       "      <th>2</th>\n",
       "      <td>four points by sheraton new york downtown</td>\n",
       "      <td>7.9</td>\n",
       "      <td>2036.0</td>\n",
       "      <td>3.0</td>\n",
       "      <td>9.3</td>\n",
       "      <td>0</td>\n",
       "      <td>1</td>\n",
       "      <td>0</td>\n",
       "      <td>1</td>\n",
       "      <td>1</td>\n",
       "      <td>...</td>\n",
       "      <td>5.0</td>\n",
       "      <td>8.1</td>\n",
       "      <td>2374.0</td>\n",
       "      <td>4.2</td>\n",
       "      <td>1</td>\n",
       "      <td>0</td>\n",
       "      <td>1</td>\n",
       "      <td>197.0</td>\n",
       "      <td>10</td>\n",
       "      <td>43</td>\n",
       "    </tr>\n",
       "    <tr>\n",
       "      <th>3</th>\n",
       "      <td>millennium hotel broadway times square</td>\n",
       "      <td>7.4</td>\n",
       "      <td>7873.0</td>\n",
       "      <td>4.0</td>\n",
       "      <td>9.4</td>\n",
       "      <td>0</td>\n",
       "      <td>0</td>\n",
       "      <td>1</td>\n",
       "      <td>1</td>\n",
       "      <td>1</td>\n",
       "      <td>...</td>\n",
       "      <td>4.0</td>\n",
       "      <td>7.7</td>\n",
       "      <td>429.0</td>\n",
       "      <td>0.0</td>\n",
       "      <td>0</td>\n",
       "      <td>0</td>\n",
       "      <td>0</td>\n",
       "      <td>243.0</td>\n",
       "      <td>10</td>\n",
       "      <td>88</td>\n",
       "    </tr>\n",
       "    <tr>\n",
       "      <th>4</th>\n",
       "      <td>the new yorker a wyndham hotel</td>\n",
       "      <td>7.7</td>\n",
       "      <td>15579.0</td>\n",
       "      <td>4.0</td>\n",
       "      <td>9.4</td>\n",
       "      <td>0</td>\n",
       "      <td>0</td>\n",
       "      <td>1</td>\n",
       "      <td>1</td>\n",
       "      <td>1</td>\n",
       "      <td>...</td>\n",
       "      <td>4.0</td>\n",
       "      <td>7.8</td>\n",
       "      <td>14729.0</td>\n",
       "      <td>0.0</td>\n",
       "      <td>0</td>\n",
       "      <td>1</td>\n",
       "      <td>0</td>\n",
       "      <td>187.0</td>\n",
       "      <td>10</td>\n",
       "      <td>138</td>\n",
       "    </tr>\n",
       "    <tr>\n",
       "      <th>...</th>\n",
       "      <td>...</td>\n",
       "      <td>...</td>\n",
       "      <td>...</td>\n",
       "      <td>...</td>\n",
       "      <td>...</td>\n",
       "      <td>...</td>\n",
       "      <td>...</td>\n",
       "      <td>...</td>\n",
       "      <td>...</td>\n",
       "      <td>...</td>\n",
       "      <td>...</td>\n",
       "      <td>...</td>\n",
       "      <td>...</td>\n",
       "      <td>...</td>\n",
       "      <td>...</td>\n",
       "      <td>...</td>\n",
       "      <td>...</td>\n",
       "      <td>...</td>\n",
       "      <td>...</td>\n",
       "      <td>...</td>\n",
       "      <td>...</td>\n",
       "    </tr>\n",
       "    <tr>\n",
       "      <th>4927</th>\n",
       "      <td>westgate new york grand central</td>\n",
       "      <td>8.4</td>\n",
       "      <td>33.0</td>\n",
       "      <td>4.0</td>\n",
       "      <td>9.3</td>\n",
       "      <td>0</td>\n",
       "      <td>0</td>\n",
       "      <td>1</td>\n",
       "      <td>30</td>\n",
       "      <td>5</td>\n",
       "      <td>...</td>\n",
       "      <td>4.0</td>\n",
       "      <td>8.1</td>\n",
       "      <td>190.0</td>\n",
       "      <td>0.0</td>\n",
       "      <td>0</td>\n",
       "      <td>1</td>\n",
       "      <td>0</td>\n",
       "      <td>300.0</td>\n",
       "      <td>8</td>\n",
       "      <td>153</td>\n",
       "    </tr>\n",
       "    <tr>\n",
       "      <th>4928</th>\n",
       "      <td>concorde hotel new york</td>\n",
       "      <td>8.7</td>\n",
       "      <td>1715.0</td>\n",
       "      <td>4.0</td>\n",
       "      <td>9.5</td>\n",
       "      <td>0</td>\n",
       "      <td>0</td>\n",
       "      <td>1</td>\n",
       "      <td>30</td>\n",
       "      <td>5</td>\n",
       "      <td>...</td>\n",
       "      <td>4.0</td>\n",
       "      <td>8.9</td>\n",
       "      <td>2192.0</td>\n",
       "      <td>0.0</td>\n",
       "      <td>0</td>\n",
       "      <td>1</td>\n",
       "      <td>0</td>\n",
       "      <td>371.0</td>\n",
       "      <td>8</td>\n",
       "      <td>26</td>\n",
       "    </tr>\n",
       "    <tr>\n",
       "      <th>4929</th>\n",
       "      <td>hotel edison</td>\n",
       "      <td>7.7</td>\n",
       "      <td>13151.0</td>\n",
       "      <td>4.0</td>\n",
       "      <td>9.4</td>\n",
       "      <td>1</td>\n",
       "      <td>1</td>\n",
       "      <td>0</td>\n",
       "      <td>30</td>\n",
       "      <td>5</td>\n",
       "      <td>...</td>\n",
       "      <td>4.0</td>\n",
       "      <td>7.8</td>\n",
       "      <td>12865.0</td>\n",
       "      <td>0.0</td>\n",
       "      <td>0</td>\n",
       "      <td>1</td>\n",
       "      <td>1</td>\n",
       "      <td>434.0</td>\n",
       "      <td>8</td>\n",
       "      <td>62</td>\n",
       "    </tr>\n",
       "    <tr>\n",
       "      <th>4930</th>\n",
       "      <td>ace hotel</td>\n",
       "      <td>7.6</td>\n",
       "      <td>1786.0</td>\n",
       "      <td>4.0</td>\n",
       "      <td>9.3</td>\n",
       "      <td>0</td>\n",
       "      <td>0</td>\n",
       "      <td>1</td>\n",
       "      <td>30</td>\n",
       "      <td>5</td>\n",
       "      <td>...</td>\n",
       "      <td>4.0</td>\n",
       "      <td>8.4</td>\n",
       "      <td>629.0</td>\n",
       "      <td>0.0</td>\n",
       "      <td>0</td>\n",
       "      <td>1</td>\n",
       "      <td>1</td>\n",
       "      <td>407.0</td>\n",
       "      <td>8</td>\n",
       "      <td>4</td>\n",
       "    </tr>\n",
       "    <tr>\n",
       "      <th>4931</th>\n",
       "      <td>hgu new york</td>\n",
       "      <td>7.8</td>\n",
       "      <td>2078.0</td>\n",
       "      <td>4.0</td>\n",
       "      <td>9.3</td>\n",
       "      <td>0</td>\n",
       "      <td>0</td>\n",
       "      <td>1</td>\n",
       "      <td>30</td>\n",
       "      <td>5</td>\n",
       "      <td>...</td>\n",
       "      <td>4.0</td>\n",
       "      <td>8.2</td>\n",
       "      <td>169.0</td>\n",
       "      <td>0.0</td>\n",
       "      <td>0</td>\n",
       "      <td>1</td>\n",
       "      <td>0</td>\n",
       "      <td>391.0</td>\n",
       "      <td>8</td>\n",
       "      <td>47</td>\n",
       "    </tr>\n",
       "  </tbody>\n",
       "</table>\n",
       "<p>4932 rows × 48 columns</p>\n",
       "</div>"
      ],
      "text/plain": [
       "                                                   name  review_score_booking  \\\n",
       "0     fairfield inn by marriott new york manhattanfi...                   7.8   \n",
       "1                                  u hotel fifth avenue                   7.9   \n",
       "2             four points by sheraton new york downtown                   7.9   \n",
       "3                millennium hotel broadway times square                   7.4   \n",
       "4                        the new yorker a wyndham hotel                   7.7   \n",
       "...                                                 ...                   ...   \n",
       "4927                    westgate new york grand central                   8.4   \n",
       "4928                            concorde hotel new york                   8.7   \n",
       "4929                                       hotel edison                   7.7   \n",
       "4930                                          ace hotel                   7.6   \n",
       "4931                                       hgu new york                   7.8   \n",
       "\n",
       "      number_of_reviews_booking  star_rating_booking  location_score  \\\n",
       "0                        3648.0                  3.0             9.3   \n",
       "1                        3396.0                  3.0             9.5   \n",
       "2                        2036.0                  3.0             9.3   \n",
       "3                        7873.0                  4.0             9.4   \n",
       "4                       15579.0                  4.0             9.4   \n",
       "...                         ...                  ...             ...   \n",
       "4927                       33.0                  4.0             9.3   \n",
       "4928                     1715.0                  4.0             9.5   \n",
       "4929                    13151.0                  4.0             9.4   \n",
       "4930                     1786.0                  4.0             9.3   \n",
       "4931                     2078.0                  4.0             9.3   \n",
       "\n",
       "      breakfast_included_booking  free_cancellation_booking  \\\n",
       "0                              1                          0   \n",
       "1                              0                          0   \n",
       "2                              0                          1   \n",
       "3                              0                          0   \n",
       "4                              0                          0   \n",
       "...                          ...                        ...   \n",
       "4927                           0                          0   \n",
       "4928                           0                          0   \n",
       "4929                           1                          1   \n",
       "4930                           0                          0   \n",
       "4931                           0                          0   \n",
       "\n",
       "      prepayment_needed_booking  time_to_travel  length_of_stay  ...  \\\n",
       "0                             1               1               1  ...   \n",
       "1                             1               1               1  ...   \n",
       "2                             0               1               1  ...   \n",
       "3                             1               1               1  ...   \n",
       "4                             1               1               1  ...   \n",
       "...                         ...             ...             ...  ...   \n",
       "4927                          1              30               5  ...   \n",
       "4928                          1              30               5  ...   \n",
       "4929                          0              30               5  ...   \n",
       "4930                          1              30               5  ...   \n",
       "4931                          1              30               5  ...   \n",
       "\n",
       "     star_rating_agoda  review_score_agoda  number_of_reviews_agoda  \\\n",
       "0                  3.0                 8.0                   3895.0   \n",
       "1                  3.0                 8.2                   4227.0   \n",
       "2                  5.0                 8.1                   2374.0   \n",
       "3                  4.0                 7.7                    429.0   \n",
       "4                  4.0                 7.8                  14729.0   \n",
       "...                ...                 ...                      ...   \n",
       "4927               4.0                 8.1                    190.0   \n",
       "4928               4.0                 8.9                   2192.0   \n",
       "4929               4.0                 7.8                  12865.0   \n",
       "4930               4.0                 8.4                    629.0   \n",
       "4931               4.0                 8.2                    169.0   \n",
       "\n",
       "      distance_from_center  free_cancellation_agoda  prepayment_needed_agoda  \\\n",
       "0                      4.2                        0                        0   \n",
       "1                      0.0                        0                        0   \n",
       "2                      4.2                        1                        0   \n",
       "3                      0.0                        0                        0   \n",
       "4                      0.0                        0                        1   \n",
       "...                    ...                      ...                      ...   \n",
       "4927                   0.0                        0                        1   \n",
       "4928                   0.0                        0                        1   \n",
       "4929                   0.0                        0                        1   \n",
       "4930                   0.0                        0                        1   \n",
       "4931                   0.0                        0                        1   \n",
       "\n",
       "      breakfast_included_agoda  price_agoda  checkin_day_agoda  name_encoded  \n",
       "0                            1        140.0                 10            39  \n",
       "1                            0        150.0                 10           148  \n",
       "2                            1        197.0                 10            43  \n",
       "3                            0        243.0                 10            88  \n",
       "4                            0        187.0                 10           138  \n",
       "...                        ...          ...                ...           ...  \n",
       "4927                         0        300.0                  8           153  \n",
       "4928                         0        371.0                  8            26  \n",
       "4929                         1        434.0                  8            62  \n",
       "4930                         1        407.0                  8             4  \n",
       "4931                         0        391.0                  8            47  \n",
       "\n",
       "[4932 rows x 48 columns]"
      ]
     },
     "metadata": {},
     "output_type": "display_data"
    }
   ],
   "source": [
    "print(booking_data.__len__())\n",
    "print(agoda_data.__len__())\n",
    "print(merged_data.__len__())\n",
    "display(merged_data)\n"
   ]
  },
  {
   "cell_type": "markdown",
   "metadata": {},
   "source": [
    "After merging the datasets, we observe that the resulting data utilization is suboptimal, retaining only approximately **5,000** rows from an initial combined total of roughly **40,000** rows from Agoda and Booking. This low retention rate highlights significant potential for improvement in our merging strategy. To further optimize data utilization, several approaches can be explored:\n",
    "\n",
    "- **Name Similarity using NLP Models:** Implement Natural Language Processing (NLP) models, such as fuzzy matching algorithms, embeddings-based similarity (e.g., Sentence-BERT), or other deep-learning-based text similarity techniques, to accurately detect similar hotel names beyond simple substring matching.\n",
    "\n",
    "- **Leveraging External LLM APIs:** Utilize external Large Language Model (LLM) APIs (such as OpenAI's GPT) to semantically identify similar hotel names. Such models can capture nuanced name similarities that traditional methods might overlook.\n",
    "\n",
    "- **Extracting and Including Addresses:** Obtain and integrate hotel addresses into the merging process, using them as part of the primary key instead of relying solely on hotel names. Addresses tend to be more consistent across platforms and may substantially improve matching accuracy.\n",
    "\n"
   ]
  },
  {
   "cell_type": "markdown",
   "metadata": {},
   "source": [
    "### 💰 Adding the Price Difference Column"
   ]
  },
  {
   "cell_type": "markdown",
   "metadata": {},
   "source": [
    "To effectively test our models, we introduce a new column, **`price_difference`**, defined as the difference between Agoda's price and Booking's price:\n",
    "\n",
    "\\[\n",
    "price_difference = price_agoda - price_booking\n",
    "\\]\n",
    "\n",
    "- **Positive values (+)** indicate that the hotel is more expensive on Agoda compared to Booking. 📈\n",
    "- **Negative values (-)** suggest that Booking's listed price is higher for the same hotel. 📉\n",
    "\n",
    "This calculated difference will enable us to evaluate model performance and analyze pricing trends accurately across both platforms."
   ]
  },
  {
   "cell_type": "code",
   "execution_count": 16,
   "metadata": {},
   "outputs": [],
   "source": [
    "merged_data['price_difference'] = merged_data['price_agoda'] - merged_data['price_booking']"
   ]
  },
  {
   "cell_type": "code",
   "execution_count": 17,
   "metadata": {},
   "outputs": [
    {
     "data": {
      "text/plain": [
       "count    4932.000000\n",
       "mean       -0.775226\n",
       "std        25.225683\n",
       "min      -230.000000\n",
       "25%        -1.666667\n",
       "50%         0.000000\n",
       "75%         0.400000\n",
       "max       879.500000\n",
       "Name: price_difference, dtype: float64"
      ]
     },
     "execution_count": 17,
     "metadata": {},
     "output_type": "execute_result"
    }
   ],
   "source": [
    "merged_data['price_difference'].describe()"
   ]
  },
  {
   "cell_type": "markdown",
   "metadata": {},
   "source": [
    "From the above table we can conclude that on average booking tends to be a slightly more expensive platform. There are also extreme outliers in the price difference - whie most of the price differences tend to fall between one to 2 dolars per night, there are some cases where the price difference can rise for up to 880 dolars per night!\n",
    " "
   ]
  },
  {
   "cell_type": "markdown",
   "metadata": {},
   "source": [
    "### 🧹 Removing Extreme Outliers from Price Differences"
   ]
  },
  {
   "cell_type": "markdown",
   "metadata": {},
   "source": [
    "The box plot below indicates that the price differences between Agoda and Booking typically cluster around **0**, meaning hotel prices on both platforms are generally similar. With the first quartile (Q1) at **-1.6** and the third quartile (Q3) at **0.4**, we observe that, in most cases, prices on Booking tend to be slightly higher. Although the absolute price difference ranges broadly from **0 to approximately $800**, most values typically fall within a much narrower range of **$0–$3.5 per night**. Therefore, these extreme outliers—significantly deviating from typical price differences—may negatively impact the accuracy and generalization of the models. Consequently, removing these outliers is crucial to ensure stable and reliable model performance. ⚠️📉"
   ]
  },
  {
   "cell_type": "code",
   "execution_count": 18,
   "metadata": {},
   "outputs": [
    {
     "data": {
      "application/vnd.plotly.v1+json": {
       "config": {
        "plotlyServerURL": "https://plot.ly"
       },
       "data": [
        {
         "alignmentgroup": "True",
         "hovertemplate": "price_difference=%{y}<extra></extra>",
         "legendgroup": "",
         "marker": {
          "color": "#636efa"
         },
         "name": "",
         "notched": false,
         "offsetgroup": "",
         "orientation": "v",
         "showlegend": false,
         "type": "box",
         "x0": " ",
         "xaxis": "x",
         "y": {
          "bdata": "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",
          "dtype": "f8"
         },
         "y0": " ",
         "yaxis": "y"
        }
       ],
       "layout": {
        "boxmode": "group",
        "legend": {
         "tracegroupgap": 0
        },
        "margin": {
         "t": 60
        },
        "template": {
         "data": {
          "bar": [
           {
            "error_x": {
             "color": "#2a3f5f"
            },
            "error_y": {
             "color": "#2a3f5f"
            },
            "marker": {
             "line": {
              "color": "#E5ECF6",
              "width": 0.5
             },
             "pattern": {
              "fillmode": "overlay",
              "size": 10,
              "solidity": 0.2
             }
            },
            "type": "bar"
           }
          ],
          "barpolar": [
           {
            "marker": {
             "line": {
              "color": "#E5ECF6",
              "width": 0.5
             },
             "pattern": {
              "fillmode": "overlay",
              "size": 10,
              "solidity": 0.2
             }
            },
            "type": "barpolar"
           }
          ],
          "carpet": [
           {
            "aaxis": {
             "endlinecolor": "#2a3f5f",
             "gridcolor": "white",
             "linecolor": "white",
             "minorgridcolor": "white",
             "startlinecolor": "#2a3f5f"
            },
            "baxis": {
             "endlinecolor": "#2a3f5f",
             "gridcolor": "white",
             "linecolor": "white",
             "minorgridcolor": "white",
             "startlinecolor": "#2a3f5f"
            },
            "type": "carpet"
           }
          ],
          "choropleth": [
           {
            "colorbar": {
             "outlinewidth": 0,
             "ticks": ""
            },
            "type": "choropleth"
           }
          ],
          "contour": [
           {
            "colorbar": {
             "outlinewidth": 0,
             "ticks": ""
            },
            "colorscale": [
             [
              0,
              "#0d0887"
             ],
             [
              0.1111111111111111,
              "#46039f"
             ],
             [
              0.2222222222222222,
              "#7201a8"
             ],
             [
              0.3333333333333333,
              "#9c179e"
             ],
             [
              0.4444444444444444,
              "#bd3786"
             ],
             [
              0.5555555555555556,
              "#d8576b"
             ],
             [
              0.6666666666666666,
              "#ed7953"
             ],
             [
              0.7777777777777778,
              "#fb9f3a"
             ],
             [
              0.8888888888888888,
              "#fdca26"
             ],
             [
              1,
              "#f0f921"
             ]
            ],
            "type": "contour"
           }
          ],
          "contourcarpet": [
           {
            "colorbar": {
             "outlinewidth": 0,
             "ticks": ""
            },
            "type": "contourcarpet"
           }
          ],
          "heatmap": [
           {
            "colorbar": {
             "outlinewidth": 0,
             "ticks": ""
            },
            "colorscale": [
             [
              0,
              "#0d0887"
             ],
             [
              0.1111111111111111,
              "#46039f"
             ],
             [
              0.2222222222222222,
              "#7201a8"
             ],
             [
              0.3333333333333333,
              "#9c179e"
             ],
             [
              0.4444444444444444,
              "#bd3786"
             ],
             [
              0.5555555555555556,
              "#d8576b"
             ],
             [
              0.6666666666666666,
              "#ed7953"
             ],
             [
              0.7777777777777778,
              "#fb9f3a"
             ],
             [
              0.8888888888888888,
              "#fdca26"
             ],
             [
              1,
              "#f0f921"
             ]
            ],
            "type": "heatmap"
           }
          ],
          "histogram": [
           {
            "marker": {
             "pattern": {
              "fillmode": "overlay",
              "size": 10,
              "solidity": 0.2
             }
            },
            "type": "histogram"
           }
          ],
          "histogram2d": [
           {
            "colorbar": {
             "outlinewidth": 0,
             "ticks": ""
            },
            "colorscale": [
             [
              0,
              "#0d0887"
             ],
             [
              0.1111111111111111,
              "#46039f"
             ],
             [
              0.2222222222222222,
              "#7201a8"
             ],
             [
              0.3333333333333333,
              "#9c179e"
             ],
             [
              0.4444444444444444,
              "#bd3786"
             ],
             [
              0.5555555555555556,
              "#d8576b"
             ],
             [
              0.6666666666666666,
              "#ed7953"
             ],
             [
              0.7777777777777778,
              "#fb9f3a"
             ],
             [
              0.8888888888888888,
              "#fdca26"
             ],
             [
              1,
              "#f0f921"
             ]
            ],
            "type": "histogram2d"
           }
          ],
          "histogram2dcontour": [
           {
            "colorbar": {
             "outlinewidth": 0,
             "ticks": ""
            },
            "colorscale": [
             [
              0,
              "#0d0887"
             ],
             [
              0.1111111111111111,
              "#46039f"
             ],
             [
              0.2222222222222222,
              "#7201a8"
             ],
             [
              0.3333333333333333,
              "#9c179e"
             ],
             [
              0.4444444444444444,
              "#bd3786"
             ],
             [
              0.5555555555555556,
              "#d8576b"
             ],
             [
              0.6666666666666666,
              "#ed7953"
             ],
             [
              0.7777777777777778,
              "#fb9f3a"
             ],
             [
              0.8888888888888888,
              "#fdca26"
             ],
             [
              1,
              "#f0f921"
             ]
            ],
            "type": "histogram2dcontour"
           }
          ],
          "mesh3d": [
           {
            "colorbar": {
             "outlinewidth": 0,
             "ticks": ""
            },
            "type": "mesh3d"
           }
          ],
          "parcoords": [
           {
            "line": {
             "colorbar": {
              "outlinewidth": 0,
              "ticks": ""
             }
            },
            "type": "parcoords"
           }
          ],
          "pie": [
           {
            "automargin": true,
            "type": "pie"
           }
          ],
          "scatter": [
           {
            "fillpattern": {
             "fillmode": "overlay",
             "size": 10,
             "solidity": 0.2
            },
            "type": "scatter"
           }
          ],
          "scatter3d": [
           {
            "line": {
             "colorbar": {
              "outlinewidth": 0,
              "ticks": ""
             }
            },
            "marker": {
             "colorbar": {
              "outlinewidth": 0,
              "ticks": ""
             }
            },
            "type": "scatter3d"
           }
          ],
          "scattercarpet": [
           {
            "marker": {
             "colorbar": {
              "outlinewidth": 0,
              "ticks": ""
             }
            },
            "type": "scattercarpet"
           }
          ],
          "scattergeo": [
           {
            "marker": {
             "colorbar": {
              "outlinewidth": 0,
              "ticks": ""
             }
            },
            "type": "scattergeo"
           }
          ],
          "scattergl": [
           {
            "marker": {
             "colorbar": {
              "outlinewidth": 0,
              "ticks": ""
             }
            },
            "type": "scattergl"
           }
          ],
          "scattermap": [
           {
            "marker": {
             "colorbar": {
              "outlinewidth": 0,
              "ticks": ""
             }
            },
            "type": "scattermap"
           }
          ],
          "scattermapbox": [
           {
            "marker": {
             "colorbar": {
              "outlinewidth": 0,
              "ticks": ""
             }
            },
            "type": "scattermapbox"
           }
          ],
          "scatterpolar": [
           {
            "marker": {
             "colorbar": {
              "outlinewidth": 0,
              "ticks": ""
             }
            },
            "type": "scatterpolar"
           }
          ],
          "scatterpolargl": [
           {
            "marker": {
             "colorbar": {
              "outlinewidth": 0,
              "ticks": ""
             }
            },
            "type": "scatterpolargl"
           }
          ],
          "scatterternary": [
           {
            "marker": {
             "colorbar": {
              "outlinewidth": 0,
              "ticks": ""
             }
            },
            "type": "scatterternary"
           }
          ],
          "surface": [
           {
            "colorbar": {
             "outlinewidth": 0,
             "ticks": ""
            },
            "colorscale": [
             [
              0,
              "#0d0887"
             ],
             [
              0.1111111111111111,
              "#46039f"
             ],
             [
              0.2222222222222222,
              "#7201a8"
             ],
             [
              0.3333333333333333,
              "#9c179e"
             ],
             [
              0.4444444444444444,
              "#bd3786"
             ],
             [
              0.5555555555555556,
              "#d8576b"
             ],
             [
              0.6666666666666666,
              "#ed7953"
             ],
             [
              0.7777777777777778,
              "#fb9f3a"
             ],
             [
              0.8888888888888888,
              "#fdca26"
             ],
             [
              1,
              "#f0f921"
             ]
            ],
            "type": "surface"
           }
          ],
          "table": [
           {
            "cells": {
             "fill": {
              "color": "#EBF0F8"
             },
             "line": {
              "color": "white"
             }
            },
            "header": {
             "fill": {
              "color": "#C8D4E3"
             },
             "line": {
              "color": "white"
             }
            },
            "type": "table"
           }
          ]
         },
         "layout": {
          "annotationdefaults": {
           "arrowcolor": "#2a3f5f",
           "arrowhead": 0,
           "arrowwidth": 1
          },
          "autotypenumbers": "strict",
          "coloraxis": {
           "colorbar": {
            "outlinewidth": 0,
            "ticks": ""
           }
          },
          "colorscale": {
           "diverging": [
            [
             0,
             "#8e0152"
            ],
            [
             0.1,
             "#c51b7d"
            ],
            [
             0.2,
             "#de77ae"
            ],
            [
             0.3,
             "#f1b6da"
            ],
            [
             0.4,
             "#fde0ef"
            ],
            [
             0.5,
             "#f7f7f7"
            ],
            [
             0.6,
             "#e6f5d0"
            ],
            [
             0.7,
             "#b8e186"
            ],
            [
             0.8,
             "#7fbc41"
            ],
            [
             0.9,
             "#4d9221"
            ],
            [
             1,
             "#276419"
            ]
           ],
           "sequential": [
            [
             0,
             "#0d0887"
            ],
            [
             0.1111111111111111,
             "#46039f"
            ],
            [
             0.2222222222222222,
             "#7201a8"
            ],
            [
             0.3333333333333333,
             "#9c179e"
            ],
            [
             0.4444444444444444,
             "#bd3786"
            ],
            [
             0.5555555555555556,
             "#d8576b"
            ],
            [
             0.6666666666666666,
             "#ed7953"
            ],
            [
             0.7777777777777778,
             "#fb9f3a"
            ],
            [
             0.8888888888888888,
             "#fdca26"
            ],
            [
             1,
             "#f0f921"
            ]
           ],
           "sequentialminus": [
            [
             0,
             "#0d0887"
            ],
            [
             0.1111111111111111,
             "#46039f"
            ],
            [
             0.2222222222222222,
             "#7201a8"
            ],
            [
             0.3333333333333333,
             "#9c179e"
            ],
            [
             0.4444444444444444,
             "#bd3786"
            ],
            [
             0.5555555555555556,
             "#d8576b"
            ],
            [
             0.6666666666666666,
             "#ed7953"
            ],
            [
             0.7777777777777778,
             "#fb9f3a"
            ],
            [
             0.8888888888888888,
             "#fdca26"
            ],
            [
             1,
             "#f0f921"
            ]
           ]
          },
          "colorway": [
           "#636efa",
           "#EF553B",
           "#00cc96",
           "#ab63fa",
           "#FFA15A",
           "#19d3f3",
           "#FF6692",
           "#B6E880",
           "#FF97FF",
           "#FECB52"
          ],
          "font": {
           "color": "#2a3f5f"
          },
          "geo": {
           "bgcolor": "white",
           "lakecolor": "white",
           "landcolor": "#E5ECF6",
           "showlakes": true,
           "showland": true,
           "subunitcolor": "white"
          },
          "hoverlabel": {
           "align": "left"
          },
          "hovermode": "closest",
          "mapbox": {
           "style": "light"
          },
          "paper_bgcolor": "white",
          "plot_bgcolor": "#E5ECF6",
          "polar": {
           "angularaxis": {
            "gridcolor": "white",
            "linecolor": "white",
            "ticks": ""
           },
           "bgcolor": "#E5ECF6",
           "radialaxis": {
            "gridcolor": "white",
            "linecolor": "white",
            "ticks": ""
           }
          },
          "scene": {
           "xaxis": {
            "backgroundcolor": "#E5ECF6",
            "gridcolor": "white",
            "gridwidth": 2,
            "linecolor": "white",
            "showbackground": true,
            "ticks": "",
            "zerolinecolor": "white"
           },
           "yaxis": {
            "backgroundcolor": "#E5ECF6",
            "gridcolor": "white",
            "gridwidth": 2,
            "linecolor": "white",
            "showbackground": true,
            "ticks": "",
            "zerolinecolor": "white"
           },
           "zaxis": {
            "backgroundcolor": "#E5ECF6",
            "gridcolor": "white",
            "gridwidth": 2,
            "linecolor": "white",
            "showbackground": true,
            "ticks": "",
            "zerolinecolor": "white"
           }
          },
          "shapedefaults": {
           "line": {
            "color": "#2a3f5f"
           }
          },
          "ternary": {
           "aaxis": {
            "gridcolor": "white",
            "linecolor": "white",
            "ticks": ""
           },
           "baxis": {
            "gridcolor": "white",
            "linecolor": "white",
            "ticks": ""
           },
           "bgcolor": "#E5ECF6",
           "caxis": {
            "gridcolor": "white",
            "linecolor": "white",
            "ticks": ""
           }
          },
          "title": {
           "x": 0.05
          },
          "xaxis": {
           "automargin": true,
           "gridcolor": "white",
           "linecolor": "white",
           "ticks": "",
           "title": {
            "standoff": 15
           },
           "zerolinecolor": "white",
           "zerolinewidth": 2
          },
          "yaxis": {
           "automargin": true,
           "gridcolor": "white",
           "linecolor": "white",
           "ticks": "",
           "title": {
            "standoff": 15
           },
           "zerolinecolor": "white",
           "zerolinewidth": 2
          }
         }
        },
        "xaxis": {
         "anchor": "y",
         "domain": [
          0,
          1
         ]
        },
        "yaxis": {
         "anchor": "x",
         "domain": [
          0,
          1
         ],
         "title": {
          "text": "price_difference"
         }
        }
       }
      }
     },
     "metadata": {},
     "output_type": "display_data"
    }
   ],
   "source": [
    "# plot the price difference using plotly boxplot\n",
    "import plotly.express as px\n",
    "fig = px.box(merged_data['price_difference'], y=\"price_difference\")\n",
    "fig.show()\n"
   ]
  },
  {
   "cell_type": "code",
   "execution_count": 19,
   "metadata": {},
   "outputs": [
    {
     "data": {
      "text/plain": [
       "count    3007.000000\n",
       "mean       -0.244712\n",
       "std         1.010671\n",
       "min        -4.750000\n",
       "25%        -0.333333\n",
       "50%         0.000000\n",
       "75%         0.200000\n",
       "max         3.333333\n",
       "Name: price_difference, dtype: float64"
      ]
     },
     "execution_count": 19,
     "metadata": {},
     "output_type": "execute_result"
    }
   ],
   "source": [
    "Q1 = merged_data['price_difference'].quantile(0.25)\n",
    "Q3 = merged_data['price_difference'].quantile(0.75)\n",
    "IQR = Q3 - Q1\n",
    "\n",
    "merged_data = merged_data[(merged_data['price_difference'] >= (Q1 - 1.5 * IQR)) & (merged_data['price_difference'] <= (Q3 + 1.5 * IQR))]\n",
    "merged_data['price_difference'].describe()\n"
   ]
  },
  {
   "cell_type": "code",
   "execution_count": 20,
   "metadata": {},
   "outputs": [
    {
     "data": {
      "application/vnd.plotly.v1+json": {
       "config": {
        "plotlyServerURL": "https://plot.ly"
       },
       "data": [
        {
         "alignmentgroup": "True",
         "hovertemplate": "price_difference=%{y}<extra></extra>",
         "legendgroup": "",
         "marker": {
          "color": "#636efa"
         },
         "name": "",
         "notched": false,
         "offsetgroup": "",
         "orientation": "v",
         "showlegend": false,
         "type": "box",
         "x0": " ",
         "xaxis": "x",
         "y": {
          "bdata": "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",
          "dtype": "f8"
         },
         "y0": " ",
         "yaxis": "y"
        }
       ],
       "layout": {
        "boxmode": "group",
        "legend": {
         "tracegroupgap": 0
        },
        "margin": {
         "t": 60
        },
        "template": {
         "data": {
          "bar": [
           {
            "error_x": {
             "color": "#2a3f5f"
            },
            "error_y": {
             "color": "#2a3f5f"
            },
            "marker": {
             "line": {
              "color": "#E5ECF6",
              "width": 0.5
             },
             "pattern": {
              "fillmode": "overlay",
              "size": 10,
              "solidity": 0.2
             }
            },
            "type": "bar"
           }
          ],
          "barpolar": [
           {
            "marker": {
             "line": {
              "color": "#E5ECF6",
              "width": 0.5
             },
             "pattern": {
              "fillmode": "overlay",
              "size": 10,
              "solidity": 0.2
             }
            },
            "type": "barpolar"
           }
          ],
          "carpet": [
           {
            "aaxis": {
             "endlinecolor": "#2a3f5f",
             "gridcolor": "white",
             "linecolor": "white",
             "minorgridcolor": "white",
             "startlinecolor": "#2a3f5f"
            },
            "baxis": {
             "endlinecolor": "#2a3f5f",
             "gridcolor": "white",
             "linecolor": "white",
             "minorgridcolor": "white",
             "startlinecolor": "#2a3f5f"
            },
            "type": "carpet"
           }
          ],
          "choropleth": [
           {
            "colorbar": {
             "outlinewidth": 0,
             "ticks": ""
            },
            "type": "choropleth"
           }
          ],
          "contour": [
           {
            "colorbar": {
             "outlinewidth": 0,
             "ticks": ""
            },
            "colorscale": [
             [
              0,
              "#0d0887"
             ],
             [
              0.1111111111111111,
              "#46039f"
             ],
             [
              0.2222222222222222,
              "#7201a8"
             ],
             [
              0.3333333333333333,
              "#9c179e"
             ],
             [
              0.4444444444444444,
              "#bd3786"
             ],
             [
              0.5555555555555556,
              "#d8576b"
             ],
             [
              0.6666666666666666,
              "#ed7953"
             ],
             [
              0.7777777777777778,
              "#fb9f3a"
             ],
             [
              0.8888888888888888,
              "#fdca26"
             ],
             [
              1,
              "#f0f921"
             ]
            ],
            "type": "contour"
           }
          ],
          "contourcarpet": [
           {
            "colorbar": {
             "outlinewidth": 0,
             "ticks": ""
            },
            "type": "contourcarpet"
           }
          ],
          "heatmap": [
           {
            "colorbar": {
             "outlinewidth": 0,
             "ticks": ""
            },
            "colorscale": [
             [
              0,
              "#0d0887"
             ],
             [
              0.1111111111111111,
              "#46039f"
             ],
             [
              0.2222222222222222,
              "#7201a8"
             ],
             [
              0.3333333333333333,
              "#9c179e"
             ],
             [
              0.4444444444444444,
              "#bd3786"
             ],
             [
              0.5555555555555556,
              "#d8576b"
             ],
             [
              0.6666666666666666,
              "#ed7953"
             ],
             [
              0.7777777777777778,
              "#fb9f3a"
             ],
             [
              0.8888888888888888,
              "#fdca26"
             ],
             [
              1,
              "#f0f921"
             ]
            ],
            "type": "heatmap"
           }
          ],
          "histogram": [
           {
            "marker": {
             "pattern": {
              "fillmode": "overlay",
              "size": 10,
              "solidity": 0.2
             }
            },
            "type": "histogram"
           }
          ],
          "histogram2d": [
           {
            "colorbar": {
             "outlinewidth": 0,
             "ticks": ""
            },
            "colorscale": [
             [
              0,
              "#0d0887"
             ],
             [
              0.1111111111111111,
              "#46039f"
             ],
             [
              0.2222222222222222,
              "#7201a8"
             ],
             [
              0.3333333333333333,
              "#9c179e"
             ],
             [
              0.4444444444444444,
              "#bd3786"
             ],
             [
              0.5555555555555556,
              "#d8576b"
             ],
             [
              0.6666666666666666,
              "#ed7953"
             ],
             [
              0.7777777777777778,
              "#fb9f3a"
             ],
             [
              0.8888888888888888,
              "#fdca26"
             ],
             [
              1,
              "#f0f921"
             ]
            ],
            "type": "histogram2d"
           }
          ],
          "histogram2dcontour": [
           {
            "colorbar": {
             "outlinewidth": 0,
             "ticks": ""
            },
            "colorscale": [
             [
              0,
              "#0d0887"
             ],
             [
              0.1111111111111111,
              "#46039f"
             ],
             [
              0.2222222222222222,
              "#7201a8"
             ],
             [
              0.3333333333333333,
              "#9c179e"
             ],
             [
              0.4444444444444444,
              "#bd3786"
             ],
             [
              0.5555555555555556,
              "#d8576b"
             ],
             [
              0.6666666666666666,
              "#ed7953"
             ],
             [
              0.7777777777777778,
              "#fb9f3a"
             ],
             [
              0.8888888888888888,
              "#fdca26"
             ],
             [
              1,
              "#f0f921"
             ]
            ],
            "type": "histogram2dcontour"
           }
          ],
          "mesh3d": [
           {
            "colorbar": {
             "outlinewidth": 0,
             "ticks": ""
            },
            "type": "mesh3d"
           }
          ],
          "parcoords": [
           {
            "line": {
             "colorbar": {
              "outlinewidth": 0,
              "ticks": ""
             }
            },
            "type": "parcoords"
           }
          ],
          "pie": [
           {
            "automargin": true,
            "type": "pie"
           }
          ],
          "scatter": [
           {
            "fillpattern": {
             "fillmode": "overlay",
             "size": 10,
             "solidity": 0.2
            },
            "type": "scatter"
           }
          ],
          "scatter3d": [
           {
            "line": {
             "colorbar": {
              "outlinewidth": 0,
              "ticks": ""
             }
            },
            "marker": {
             "colorbar": {
              "outlinewidth": 0,
              "ticks": ""
             }
            },
            "type": "scatter3d"
           }
          ],
          "scattercarpet": [
           {
            "marker": {
             "colorbar": {
              "outlinewidth": 0,
              "ticks": ""
             }
            },
            "type": "scattercarpet"
           }
          ],
          "scattergeo": [
           {
            "marker": {
             "colorbar": {
              "outlinewidth": 0,
              "ticks": ""
             }
            },
            "type": "scattergeo"
           }
          ],
          "scattergl": [
           {
            "marker": {
             "colorbar": {
              "outlinewidth": 0,
              "ticks": ""
             }
            },
            "type": "scattergl"
           }
          ],
          "scattermap": [
           {
            "marker": {
             "colorbar": {
              "outlinewidth": 0,
              "ticks": ""
             }
            },
            "type": "scattermap"
           }
          ],
          "scattermapbox": [
           {
            "marker": {
             "colorbar": {
              "outlinewidth": 0,
              "ticks": ""
             }
            },
            "type": "scattermapbox"
           }
          ],
          "scatterpolar": [
           {
            "marker": {
             "colorbar": {
              "outlinewidth": 0,
              "ticks": ""
             }
            },
            "type": "scatterpolar"
           }
          ],
          "scatterpolargl": [
           {
            "marker": {
             "colorbar": {
              "outlinewidth": 0,
              "ticks": ""
             }
            },
            "type": "scatterpolargl"
           }
          ],
          "scatterternary": [
           {
            "marker": {
             "colorbar": {
              "outlinewidth": 0,
              "ticks": ""
             }
            },
            "type": "scatterternary"
           }
          ],
          "surface": [
           {
            "colorbar": {
             "outlinewidth": 0,
             "ticks": ""
            },
            "colorscale": [
             [
              0,
              "#0d0887"
             ],
             [
              0.1111111111111111,
              "#46039f"
             ],
             [
              0.2222222222222222,
              "#7201a8"
             ],
             [
              0.3333333333333333,
              "#9c179e"
             ],
             [
              0.4444444444444444,
              "#bd3786"
             ],
             [
              0.5555555555555556,
              "#d8576b"
             ],
             [
              0.6666666666666666,
              "#ed7953"
             ],
             [
              0.7777777777777778,
              "#fb9f3a"
             ],
             [
              0.8888888888888888,
              "#fdca26"
             ],
             [
              1,
              "#f0f921"
             ]
            ],
            "type": "surface"
           }
          ],
          "table": [
           {
            "cells": {
             "fill": {
              "color": "#EBF0F8"
             },
             "line": {
              "color": "white"
             }
            },
            "header": {
             "fill": {
              "color": "#C8D4E3"
             },
             "line": {
              "color": "white"
             }
            },
            "type": "table"
           }
          ]
         },
         "layout": {
          "annotationdefaults": {
           "arrowcolor": "#2a3f5f",
           "arrowhead": 0,
           "arrowwidth": 1
          },
          "autotypenumbers": "strict",
          "coloraxis": {
           "colorbar": {
            "outlinewidth": 0,
            "ticks": ""
           }
          },
          "colorscale": {
           "diverging": [
            [
             0,
             "#8e0152"
            ],
            [
             0.1,
             "#c51b7d"
            ],
            [
             0.2,
             "#de77ae"
            ],
            [
             0.3,
             "#f1b6da"
            ],
            [
             0.4,
             "#fde0ef"
            ],
            [
             0.5,
             "#f7f7f7"
            ],
            [
             0.6,
             "#e6f5d0"
            ],
            [
             0.7,
             "#b8e186"
            ],
            [
             0.8,
             "#7fbc41"
            ],
            [
             0.9,
             "#4d9221"
            ],
            [
             1,
             "#276419"
            ]
           ],
           "sequential": [
            [
             0,
             "#0d0887"
            ],
            [
             0.1111111111111111,
             "#46039f"
            ],
            [
             0.2222222222222222,
             "#7201a8"
            ],
            [
             0.3333333333333333,
             "#9c179e"
            ],
            [
             0.4444444444444444,
             "#bd3786"
            ],
            [
             0.5555555555555556,
             "#d8576b"
            ],
            [
             0.6666666666666666,
             "#ed7953"
            ],
            [
             0.7777777777777778,
             "#fb9f3a"
            ],
            [
             0.8888888888888888,
             "#fdca26"
            ],
            [
             1,
             "#f0f921"
            ]
           ],
           "sequentialminus": [
            [
             0,
             "#0d0887"
            ],
            [
             0.1111111111111111,
             "#46039f"
            ],
            [
             0.2222222222222222,
             "#7201a8"
            ],
            [
             0.3333333333333333,
             "#9c179e"
            ],
            [
             0.4444444444444444,
             "#bd3786"
            ],
            [
             0.5555555555555556,
             "#d8576b"
            ],
            [
             0.6666666666666666,
             "#ed7953"
            ],
            [
             0.7777777777777778,
             "#fb9f3a"
            ],
            [
             0.8888888888888888,
             "#fdca26"
            ],
            [
             1,
             "#f0f921"
            ]
           ]
          },
          "colorway": [
           "#636efa",
           "#EF553B",
           "#00cc96",
           "#ab63fa",
           "#FFA15A",
           "#19d3f3",
           "#FF6692",
           "#B6E880",
           "#FF97FF",
           "#FECB52"
          ],
          "font": {
           "color": "#2a3f5f"
          },
          "geo": {
           "bgcolor": "white",
           "lakecolor": "white",
           "landcolor": "#E5ECF6",
           "showlakes": true,
           "showland": true,
           "subunitcolor": "white"
          },
          "hoverlabel": {
           "align": "left"
          },
          "hovermode": "closest",
          "mapbox": {
           "style": "light"
          },
          "paper_bgcolor": "white",
          "plot_bgcolor": "#E5ECF6",
          "polar": {
           "angularaxis": {
            "gridcolor": "white",
            "linecolor": "white",
            "ticks": ""
           },
           "bgcolor": "#E5ECF6",
           "radialaxis": {
            "gridcolor": "white",
            "linecolor": "white",
            "ticks": ""
           }
          },
          "scene": {
           "xaxis": {
            "backgroundcolor": "#E5ECF6",
            "gridcolor": "white",
            "gridwidth": 2,
            "linecolor": "white",
            "showbackground": true,
            "ticks": "",
            "zerolinecolor": "white"
           },
           "yaxis": {
            "backgroundcolor": "#E5ECF6",
            "gridcolor": "white",
            "gridwidth": 2,
            "linecolor": "white",
            "showbackground": true,
            "ticks": "",
            "zerolinecolor": "white"
           },
           "zaxis": {
            "backgroundcolor": "#E5ECF6",
            "gridcolor": "white",
            "gridwidth": 2,
            "linecolor": "white",
            "showbackground": true,
            "ticks": "",
            "zerolinecolor": "white"
           }
          },
          "shapedefaults": {
           "line": {
            "color": "#2a3f5f"
           }
          },
          "ternary": {
           "aaxis": {
            "gridcolor": "white",
            "linecolor": "white",
            "ticks": ""
           },
           "baxis": {
            "gridcolor": "white",
            "linecolor": "white",
            "ticks": ""
           },
           "bgcolor": "#E5ECF6",
           "caxis": {
            "gridcolor": "white",
            "linecolor": "white",
            "ticks": ""
           }
          },
          "title": {
           "x": 0.05
          },
          "xaxis": {
           "automargin": true,
           "gridcolor": "white",
           "linecolor": "white",
           "ticks": "",
           "title": {
            "standoff": 15
           },
           "zerolinecolor": "white",
           "zerolinewidth": 2
          },
          "yaxis": {
           "automargin": true,
           "gridcolor": "white",
           "linecolor": "white",
           "ticks": "",
           "title": {
            "standoff": 15
           },
           "zerolinecolor": "white",
           "zerolinewidth": 2
          }
         }
        },
        "xaxis": {
         "anchor": "y",
         "domain": [
          0,
          1
         ]
        },
        "yaxis": {
         "anchor": "x",
         "domain": [
          0,
          1
         ],
         "title": {
          "text": "price_difference"
         }
        }
       }
      }
     },
     "metadata": {},
     "output_type": "display_data"
    }
   ],
   "source": [
    "# plot the price difference using plotly boxplot\n",
    "import plotly.express as px\n",
    "fig = px.box(merged_data['price_difference'], y=\"price_difference\")\n",
    "fig.show()\n"
   ]
  },
  {
   "cell_type": "code",
   "execution_count": 21,
   "metadata": {},
   "outputs": [
    {
     "data": {
      "application/vnd.plotly.v1+json": {
       "config": {
        "plotlyServerURL": "https://plot.ly"
       },
       "data": [
        {
         "bingroup": "x",
         "hovertemplate": "Price Difference ($)=%{x}<br>count=%{y}<extra></extra>",
         "legendgroup": "",
         "marker": {
          "color": "#636efa",
          "pattern": {
           "shape": ""
          }
         },
         "name": "",
         "nbinsx": 100,
         "orientation": "v",
         "showlegend": false,
         "type": "histogram",
         "x": {
          "bdata": "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",
          "dtype": "f8"
         },
         "xaxis": "x",
         "yaxis": "y"
        },
        {
         "hovertemplate": "Price Difference ($)=%{x}<extra></extra>",
         "legendgroup": "",
         "marker": {
          "color": "#636efa"
         },
         "name": "",
         "notched": true,
         "showlegend": false,
         "type": "box",
         "x": {
          "bdata": "AAAAAAAAAAAAAAAAAAAAwAAAAAAAAAAAAAAAAAAAAAAAAAAAAADwPwAAAAAAAAAAAAAAAAAA8L8AAAAAAAAAAAAAAAAAAAAAAAAAAAAAAAAAAAAAAAAAAAAAAAAAAAAAAAAAAAAAAAAAAAAAAAAQwAAAAAAAAAAAAAAAAAAACMAAAAAAAAAAAAAAAAAAAAAAAAAAAAAAAMAAAAAAAADgvwAAAAAAAOA/AAAAAAAAAAAAAAAAAAAAAAAAAAAAAOC/AAAAAAAAAAAAAAAAAAAAAAAAAAAAAOC/AAAAAAAAAAAAAAAAAAAAAAAAAAAAAAzAAAAAAAAAAAAAAAAAAAAEQAAAAAAAAAAAAAAAAAAA4D+AVVVVVVUFwABUVVVVVdW/AFRVVVVV1T8AAAAAAAAAAAAAAAAAAAAAAAAAAAAA8D8Aq6qqqqr6vwBUVVVVVdU/AAAAAAAAAAAAVFVVVVXVvwAAAAAAAAAAAAAAAAAA0D8AAAAAAAD0vwAAAAAAAATAAAAAAAAA0L8AAAAAAADgvwAAAAAAAOC/AAAAAAAAAAAAAAAAAADoPwAAAAAAAAZAAAAAAAAA0L8AAAAAAADQvwAAAAAAAAbAAAAAAAAAAAAAAAAAAADgvwCYmZmZmck/AJiZmZmZyT8AzczMzMz8vwAAAAAAAAAAAJqZmZmZ2T8AAAAAAAAAAAAAAAAAAAAAAJiZmZmZyb8AmJmZmZnJv4BmZmZmZgbAAJiZmZmZyb8AmJmZmZnJPwCYmZmZmck/AAAAAAAAAAAAmJmZmZnZPwCYmZmZmcm/AAAAAAAAAAAAAAAAAAAAAACYmZmZmck/AAAAAAAAAAAAAAAAAAAAAAAAAAAAAAAAAAAAAAAAAAAAAAAAAAAAAAAAAAAAAAAAAAAAAAAAAAAAAAAAAAAAAAAAAAAAAAAAAAAAAAAA4D8AAAAAAAAAAAAAAAAAAAAAAAAAAAAAAAAAAAAAAADwPwAAAAAAABLAAAAAAAAAAAAAAAAAAAAAAAAAAAAAAOC/AAAAAAAAEsAAAAAAAADgvwAAAAAAAAAAAAAAAAAABMAAVFVVVVXVvwBUVVVVVdU/AFZVVVVV5T+AqqqqqqoCwABUVVVVVdW/AFhVVVVV1T8AVFVVVVXVvwBUVVVVVdU/gFVVVVVVDcAAAAAAAAAAAABUVVVVVdU/AAAAAAAAAAAAVFVVVVXVvwAAAAAAANA/AAAAAAAA0D8AAAAAAADQPwAAAAAAANA/AAAAAAAA4L8AAAAAAAAAAAAAAAAAABLAAAAAAAAA/L8AAAAAAADQPwAAAAAAANA/AAAAAAAA0D8AAAAAAADgPwAAAAAAAAAAAAAAAAAA6L8AAAAAAADQPwAAAAAAAAAAAAAAAAAA0L8AAAAAAADQPwAAAAAAANC/AAAAAAAAAAAAMzMzMzMDwAAAAAAAAAAAAJiZmZmZyT8AmJmZmZnJvwCYmZmZmcm/AJiZmZmZyb8AmJmZmZnZvwAAAAAAAAAAAJiZmZmZyT8AAAAAAAAAAACYmZmZmck/AJiZmZmZyb8AmJmZmZnZvwAAAAAAAAAAAAAAAAAAAAAAAAAAAAAAAAAAAAAAAAAAAAAAAAAAAAAAAAAAAAAAAAAAAAAAAAAAAAAAAAAAAAAAAAAAAAAAAAAAAAAAAAjAAAAAAAAACEAAAAAAAAAQwAAAAAAAAAAAAAAAAAAAAAAAAAAAAAAAAAAAAAAAAAAAAAAAAAAA8D8AAAAAAAAAAAAAAAAAAOA/AAAAAAAA4D8AAAAAAADgvwAAAAAAAAAAAAAAAAAAAAAAAAAAAAAAAAAAAAAAAAAAAAAAAAAAAAAAAAAAAADgvwAAAAAAAOA/AAAAAAAAEsAAAAAAAADgPwAAAAAAAAzAAAAAAAAA4D8AAAAAAAAAAAAAAAAAAAAAAAAAAAAAAAAAAAAAAADgvwAAAAAAAOC/AAAAAAAA4L8AAAAAAADwPwAAAAAAAOC/AFhVVVVV1T8AVFVVVVXVPwAAAAAAAAAAAFRVVVVV1b8AVFVVVVXVPwAAAAAAAAAAAFRVVVVV1T8AVFVVVVXVvwAAAAAAAAAAAAAAAAAAAAAAAAAAAAAAAMCqqqqqqhLAAAAAAAAAAAAAVlVVVVXlP4BVVVVVVQ3AAFRVVVVV1T8AAAAAAADwPwBUVVVVVdW/AAAAAAAAAAAAVFVVVVXVPwAAAAAAAAAAAAAAAAAA0L8AAAAAAADQvwAAAAAAAAAAAAAAAAAA0L8AAAAAAAATwAAAAAAAANA/AAAAAAAA0L8AAAAAAAAAwAAAAAAAAA7AAAAAAAAA4D8AAAAAAADgvwAAAAAAAAAAAAAAAAAAAAAAAAAAAAAAAAAAAAAAAOA/AJiZmZmZyT8AmJmZmZnJvwCYmZmZmcm/AJiZmZmZyb8AmJmZmZnJvwCYmZmZmck/ADQzMzMz4z8AmJmZmZnJPwCYmZmZmdm/AM3MzMzMDMAAAAAAAAAAwACYmZmZmdk/AAAAAAAAAAAAAAAAAAAAAACYmZmZmck/gJmZmZmZCUAAmJmZmZnJvwCYmZmZmcm/AJiZmZmZyT8AAAAAAAAAAAAAAAAAAAAAAAAAAAAAAAAAAAAAAAAAAAAAAAAAAAAAAAAAAAAAAAAAAAAAAAAAAAAAAAAAAAAAAAAAAAAAAAAAAAAAAAAAAAAAAAAAAAAAAAAAAAAAAAAAAAAAAAAAAAAAAAAAAAAAAAAAAAAAAAAAAAAAAADgvwAAAAAAAOC/AAAAAAAA4D8AAAAAAADgvwAAAAAAAOA/AAAAAAAAAAAAAAAAAADgPwAAAAAAAAAAAAAAAAAAAAAAAAAAAAAAAAAAAAAAAOC/AAAAAAAAAAAAAAAAAAAAAAAAAAAAAAAAAAAAAAAA4L8AAAAAAAAAAAAAAAAAAOA/AFRVVVVV1T8AVFVVVVXVvwAAAAAAAAAAAAAAAAAAAAAAAAAAAAAAAAAAAAAAAAAAgFVVVVVVDcAAVFVVVVXVv4BVVVVVVQ3AAAAAAAAAAAAAVFVVVVXVvwBUVVVVVdW/AFRVVVVV1T8AVFVVVVXVvwBUVVVVVdU/AAAAAAAA4D8AAAAAAADQvwAAAAAAAAAAAAAAAAAAAAAAAAAAAADgPwAAAAAAABPAAAAAAAAA0D8AAAAAAADQvwAAAAAAAAAAAAAAAAAA6L8AAAAAAADQPwAAAAAAANA/AAAAAAAACsAAAAAAAAAAAAAAAAAAABPAAAAAAAAAAAAAAAAAAADQPwAAAAAAAOC/AAAAAAAAAAAAmJmZmZnJPwCYmZmZmcm/AAAAAAAAAAAAmJmZmZnZPwCYmZmZmdk/AAAAAAAAAAAAmJmZmZnJvwCYmZmZmck/AAAAAAAAAAAAAAAAAAAAAACYmZmZmck/AAAAAAAAAAAAAAAAAAAQwAAAAAAAAAjAAJqZmZmZ+b8AmJmZmZnJvwCYmZmZmdk/AJqZmZmZ2T8AAAAAAAAAAACYmZmZmdm/AM3MzMzMBEAAAAAAAAAAAAAAAAAAAAAAAAAAAAAA8L8AAAAAAADwPwAAAAAAAAAAAAAAAAAAAAAAAAAAAAAAAAAAAAAAAAAAAAAAAAAAAAAAAAAAAAAAAAAAAAAAAAAAAAAAAAAAAAAAAAAAAAAAAAAAAAAAAAAAAAAAAAAA4D8AAAAAAADgvwAAAAAAAOA/AAAAAAAAAAAAAAAAAAAAAAAAAAAAAAzAAAAAAAAAAAAAAAAAAAAAAAAAAAAAAAAAAAAAAAAAAAAAAAAAAAAAAAAAAAAAAAAAQFVVVVVVEcAAVFVVVVXVvwBUVVVVVdU/AAAAAAAAAAAAVFVVVVXVPwBUVVVVVdU/AFRVVVVV1T8AAAAAAADwv4CqqqqqqgpAAAAAAAAAAAAAAAAAAAAAAABUVVVVVdW/AAAAAAAAAAAAVFVVVVXVv4CqqqqqqgrAAAAAAAAAAADAqqqqqqoSwAAAAAAAAAAAAAAAAAAAAAAAVFVVVVXVvwBUVVVVVdW/AAAAAAAAAAAAAAAAAAD0vwAAAAAAAOA/AAAAAAAA4D8AAAAAAADgPwAAAAAAAAAAAAAAAAAADMAAAAAAAADQPwAAAAAAAAAAAAAAAAAACsAAAAAAAAAAAAAAAAAAAAAAAAAAAAAAE8AAAAAAAAARwAAAAAAAANA/AAAAAAAA4L8AAAAAAAAAAAAAAAAAAPy/AAAAAAAA4D8AAAAAAADgPwAAAAAAAOA/AAAAAAAAAAAAmJmZmZnZvwCYmZmZmck/AJqZmZmZ2b8AmJmZmZnZvwCYmZmZmdk/AJiZmZmZyT+AZmZmZmYGwADNzMzMzATAAJqZmZmZ+b8AoJmZmZnJvwCYmZmZmdm/AJiZmZmZ2T8AmJmZmZnZvwAAAAAAAAAAAJiZmZmZyb8AmJmZmZnZvwAAAAAAAAAAADMzMzMzC8AAmJmZmZnJPwAAAAAAAAAAAAAAAAAAAAAAAAAAAADwvwAAAAAAAAAAAAAAAAAAAAAAAAAAAAAAAAAAAAAAAPA/AAAAAAAAAAAAAAAAAAAAAAAAAAAAAAAAAAAAAAAAAAAAAAAAAAAQwAAAAAAAAAAAAAAAAAAAAAAAAAAAAAAAAAAAAAAAAAAAAAAAAAAAAAAAAAAAAAAAAAAAAAAAAOC/AAAAAAAA4L8AAAAAAAAAAAAAAAAAAAAAAAAAAAAA4L8AAAAAAADgPwAAAAAAAOC/AAAAAAAAEMAAAAAAAADgPwAAAAAAAOC/AAAAAAAAAAAAAAAAAADgvwAAAAAAAOC/AAAAAAAA4L8AAAAAAAAAAABUVVVVVdW/AAAAAAAAAAAAAAAAAAAAAABUVVVVVdU/AAAAAAAAEMAAVFVVVVXVvwBUVVVVVdW/gFVVVVVVBcAAVFVVVVXVv8CqqqqqqhLAAFZVVVVV5b8AVFVVVVXVvwAAAAAAAAAAAAAAAAAAAAAAVFVVVVXVPwAAAAAAAAAAAFRVVVVV1T/AqqqqqqoSwABWVVVVVeW/AAAAAAAAAAAAVFVVVVXVvwBUVVVVVdW/AAAAAAAAAAAAAAAAAADQPwAAAAAAANA/AAAAAAAA0L8AAAAAAADQvwAAAAAAAAAAAAAAAAAABsAAAAAAAADQPwAAAAAAABPAAAAAAAAA0L8AAAAAAAAKwAAAAAAAAAJAAAAAAAAAAAAAAAAAAAAAAAAAAAAAAOC/AAAAAAAA4L8AAAAAAAAAAAAAAAAAANC/AAAAAAAAAsAAAAAAAADQvwAAAAAAAAAAAKCZmZmZyT8AmJmZmZnZvwCYmZmZmck/AJiZmZmZ2b8AmJmZmZnZvwCYmZmZmdm/AAAAAAAAAAAAmJmZmZnJPwDNzMzMzATAAAAAAAAAAAAAmJmZmZnZvwCYmZmZmck/AJiZmZmZ2T8AmJmZmZnZPwAAAAAAAPC/gGZmZmZmBsCAmZmZmZkBwACYmZmZmdm/AJiZmZmZ2b8AAAAAAAAAAAAAAAAAAAAAAAAAAAAAAAAAAAAAAAAAAAAAAAAAAAAAAAAAAAAAAAAAAAAAAAAAAAAAAAAAAAAAAAAAAAAAAAAAAAAAAAAQwAAAAAAAAAhAAAAAAAAAAAAAAAAAAAAAAAAAAAAAAAAAAAAAAAAAAAAAAAAAAAAAAAAAAAAAAAAAAAAAAAAAAAAAAAAAAADgPwAAAAAAAAAAAAAAAAAA4L8AAAAAAADgvwAAAAAAAAAAAAAAAAAAAAAAAAAAAAAAAAAAAAAAAAAAAAAAAAAA4D8AAAAAAADgvwAAAAAAAOA/AAAAAAAA4D8AAAAAAADgPwAAAAAAAOC/AAAAAAAA4D8AAAAAAAAAAAAAAAAAAOC/AAAAAAAA4L8AAAAAAAAAAAAAAAAAAAAAAFRVVVVV1b8AVFVVVVXVvwAAAAAAAAAAAFhVVVVV1T8AVFVVVVXVvwBYVVVVVdW/AFhVVVVV1T8AVFVVVVXVv8CqqqqqqhLAAFRVVVVV1b8AAAAAAAAAAABYVVVVVdU/AAAAAAAAEMAAAAAAAAAAAABUVVVVVdU/AAAAAAAAAAAAVFVVVVXVP8CqqqqqqhLAAFRVVVVV1b8AVFVVVVXVPwBUVVVVVdW/AAAAAAAAAAAAAAAAAADQPwAAAAAAAOA/AAAAAAAAAAAAAAAAAADQvwAAAAAAAOA/AAAAAAAA0D8AAAAAAAAAAAAAAAAAAOA/AAAAAAAA0D8AAAAAAADQPwAAAAAAAOC/AAAAAAAADMAAAAAAAADgvwAAAAAAAOA/AAAAAAAABMAAAAAAAADgvwAAAAAAANC/AJqZmZmZ2b8AmJmZmZnJPwCYmZmZmdk/AAAAAAAAAAAAmpmZmZnZvwAAAAAAAAAAAJiZmZmZyT8AAAAAAAAAAAAAAAAAAAAAAAAAAAAAAAAAAAAAAAAAAAAAAAAAAAAAAAAAAAAAAAAAAAAAAAAAAAAAAAAAAAjAAAAAAAAAAAAAAAAAAAAAAAAAAAAAAAAAAAAAAAAAAAAAAAAAAAAAAAAAAAAAAAAAAAAAAAAAAAAAAAAAAAAAAAAAAAAAAAAAAAAAAAAA4L8AAAAAAAAAAAAAAAAAAAAAAAAAAAAAAAAAAAAAAADgPwAAAAAAAOC/AAAAAAAAAAAAAAAAAAAAAAAAAAAAAAAAAAAAAAAA4D8AAAAAAAAAAAAAAAAAAOA/AAAAAAAA8L8AAAAAAAAAAAAAAAAAAAAAAAAAAAAA4D8AAAAAAADgvwAAAAAAABDAAAAAAAAA4D8AAAAAAADgPwAAAAAAAAzAAAAAAAAAAAAAAAAAAAAAAAAAAAAAAAAAAFRVVVVV1T8AVFVVVVXVvwAAAAAAAAAAAFhVVVVV1T8AAAAAAAAAAAAAAAAAAAAAAFRVVVVV1T8AVFVVVVXVP4BVVVVVVQVAAFRVVVVV1b8AAAAAAAAAAABUVVVVVdW/AFVVVVVV9b8AVFVVVVXVv4BVVVVVVQ3AAAAAAAAAAAAAVFVVVVXVPwBUVVVVVdW/AFRVVVVV1b8AAAAAAADgvwAAAAAAAAAAAAAAAAAA0D8AAAAAAADQvwAAAAAAANA/AAAAAAAA0L8AAAAAAADgPwAAAAAAAPC/AAAAAAAA0L8AAAAAAAAAAAAAAAAAAOC/AAAAAAAAAAAAAAAAAAAAAAAAAAAAAAJAAAAAAAAAAAAAAAAAAAATwAAAAAAAANA/AAAAAAAADsAAAAAAAADgPwAAAAAAANC/AAAAAAAA0D8AAAAAAAAMwACYmZmZmcm/AJiZmZmZyb8AmJmZmZnJPwAAAAAAAAAAAJiZmZmZ2b8AmJmZmZnZPwAAAAAAAADAAJiZmZmZyb8AmJmZmZnJvwAAAAAAABDAAAAAAAAA8L+AmZmZmZkJwAAAAAAAAAAAAJiZmZmZ2T8AmJmZmZnJvwCYmZmZmdm/AAAAAAAAAAAAAAAAAAAQwAAAAAAAAAAAAAAAAAAAAAAAAAAAAAAAAAAAAAAAAAAAAAAAAAAAAAAAAAAAAAAAAAAAAAAAAPC/AAAAAAAAAAAAAAAAAAAAAAAAAAAAAAAAAAAAAAAAAAAAAAAAAAAQwAAAAAAAAAAAAAAAAAAAAAAAAAAAAAAQwAAAAAAAAOC/AAAAAAAAAAAAAAAAAAAAAAAAAAAAAOA/AAAAAAAA4L8AAAAAAADgvwAAAAAAAAAAAAAAAAAAAAAAAAAAAAAAAAAAAAAAAOC/AAAAAAAA4D8AAAAAAADgvwAAAAAAAAAAAAAAAAAADMAAAAAAAAAAAABUVVVVVdW/AFRVVVVV1T8AVFVVVVXVvwBUVVVVVdW/AAAAAAAAAAAAWFVVVVXVPwAAAAAAAAAAAFRVVVVV1T8AAAAAAAAAAABUVVVVVdU/AAAAAAAAAAAAVFVVVVXVPwBUVVVVVdU/AFRVVVVV1T9AVVVVVVURwICqqqqqqgrAAFRVVVVV1b8AAAAAAAAAAABWVVVVVeW/AFRVVVVV1b8AVVVVVVUFwAAAAAAAAAAAAAAAAAAA4L8AAAAAAADgPwAAAAAAAOC/AAAAAAAA4L8AAAAAAADQPwAAAAAAAAAAAAAAAAAAAAAAAAAAAADQPwAAAAAAANC/AAAAAAAA0L8AAAAAAAAAAAAAAAAAAOC/AAAAAAAAAAAAAAAAAAAMwAAAAAAAAOA/AAAAAAAACsAAAAAAAADQPwAAAAAAAOA/AAAAAAAA0L8AAAAAAADQPwAAAAAAAOA/AJiZmZmZyT8AmJmZmZnJvwCYmZmZmdm/AJiZmZmZyb8AAAAAAAAAAACYmZmZmdk/AJiZmZmZ2T8AmJmZmZnZvwCYmZmZmcm/AAAAAAAAAAAAmJmZmZnJPwAAAAAAAAAAAAAAAAAAAAAAmJmZmZnZvwCYmZmZmdk/AJiZmZmZ2b+AZmZmZmYSwAAAAAAAAAAAAJiZmZmZyb8AmJmZmZnJv4BmZmZmZg7AADMzMzMzC8AANDMzMzPjvwAAAAAAAAAAAAAAAAAAAAAAAAAAAAAAAAAAAAAAAAAAAAAAAAAAAAAAAAAAAAAAAAAAAAAAAAAAAAAAAAAAAAAAAAAAAAAAAAAAAAAAAAAAAAAAAAAAAAAAAAAAAAAAAAAAAAAAAPC/AAAAAAAAAAAAAAAAAAAAAAAAAAAAAAAAAAAAAAAABMAAAAAAAAAAAAAAAAAAAOC/AAAAAAAA4D8AAAAAAAAAAAAAAAAAAOC/AAAAAAAAAAAAAAAAAAAAAAAAAAAAAAAAAAAAAAAAAAAAAAAAAAAIwAAAAAAAAOC/AAAAAAAA4L8AAAAAAAAAAAAAAAAAAAAAAAAAAAAAAAAAAAAAAAAAAAAAAAAAAAAAAAAAAAAAEMAAAAAAAADgvwAAAAAAAAAAAAAAAAAA4D8AAAAAAAAAAAAAAAAAAAAAAAAAAAAAAAAAAAAAAAAAAAAAAAAAAAAAAAAAAAAAAAAAVFVVVVXVvwBUVVVVVdW/AFhVVVVV1T8AVFVVVVXVvwBYVVVVVdU/AAAAAAAAAAAAVFVVVVXVvwBUVVVVVdU/AAAAAAAAAAAAVFVVVVXVPwBWVVVVVeU/gKqqqqqqCsAAVFVVVVXVvwAAAAAAAAAAAAAAAAAA4L8AAAAAAADQPwAAAAAAAAAAAAAAAAAA4D8AAAAAAADgvwAAAAAAAAAAAAAAAAAA0L8AAAAAAAAIwAAAAAAAANA/AAAAAAAA4D8AAAAAAADgPwAAAAAAAAAAAAAAAAAA4L8AAAAAAADQvwAAAAAAAABAAAAAAAAA0L8AAAAAAAAAAAAAAAAAAA7AAAAAAAAA4L8AAAAAAADQvwAAAAAAAArAAAAAAAAA0D8AAAAAAADgPwAAAAAAAAAAAAAAAAAA0D8AAAAAAADQPwCYmZmZmck/AJiZmZmZyT8AAAAAAAAAAACYmZmZmdm/AJiZmZmZyb8AmJmZmZnJvwCYmZmZmck/AJiZmZmZyb8AmJmZmZnJvwCYmZmZmdk/gGZmZmZmBsAAmJmZmZnZvwCamZmZmdm/gJmZmZmZEcAAmJmZmZnZvwCYmZmZmck/AJiZmZmZyT8AmJmZmZnZPwCYmZmZmdm/AJiZmZmZ2b8AmJmZmZnZvwCYmZmZmck/AJiZmZmZyT8AmJmZmZnJPwAAAAAAAAAAAAAAAAAAAAAAAAAAAAAAAAAAAAAAAAAAAAAAAAAAAAAAAAAAAAAAAAAAAAAAAAAAAAAAAAAAAAAAAAAAAAAAAAAAAAAAAAAAAAAAAAAAAAAAAAAAAAAAAAAAAAAAAAAAAAAAAAAAAAAAAAAAAAAAAAAAAAAAAAAAAAAAAAAAAAAAAAAAAAAAAAAAAAAAAAAAAAAAAAAAAAAAAAAAAADwvwAAAAAAAAAAAAAAAAAAAAAAAAAAAAAAAAAAAAAAAAAAAAAAAAAA4L8AAAAAAADgvwAAAAAAAAAAAAAAAAAAAAAAAAAAAADgvwAAAAAAAAAAAAAAAAAA4L8AAAAAAADgPwAAAAAAAOA/AAAAAAAA4L8AAAAAAADgvwAAAAAAAARAAAAAAAAAAAAAAAAAAAAAAAAAAAAAAAAAAAAAAAAA4D8AAAAAAAAAAAAAAAAAAOA/AAAAAAAAAAAAAAAAAADgPwAAAAAAAAAAAAAAAAAA4L8AAAAAAAAAAAAAAAAAAAAAAAAAAAAAAAAAAAAAAADgvwAAAAAAAOA/AAAAAAAAAAAAVFVVVVXVvwBUVVVVVdW/AAAAAAAAAAAAVFVVVVXVvwBUVVVVVdW/AFRVVVVV1T8AVFVVVVXVvwAAAAAAAAAAAAAAAAAAAAAAVFVVVVXVPwBUVVVVVdU/AAAAAAAAAAAAAAAAAAAAAABUVVVVVdW/wKqqqqqqEsAAVFVVVVXVv4CqqqqqqgLAAFRVVVVV1b8AAAAAAAAAAABUVVVVVdU/AFRVVVVV1T8AAAAAAAAAAAAAAAAAAAAAgKqqqqqqAkAAVFVVVVXVvwAAAAAAANA/AAAAAAAA4L8AAAAAAADQvwAAAAAAAAAAAAAAAAAA0D8AAAAAAADgvwAAAAAAAAAAAAAAAAAA0L8AAAAAAADQPwAAAAAAAOA/AAAAAAAA4L8AAAAAAADgPwAAAAAAANC/AAAAAAAAAAAAAAAAAAAAAAAAAAAAANC/AAAAAAAA0L8AAAAAAAAAAAAAAAAAANA/AAAAAAAA0D8AmJmZmZnJvwCYmZmZmcm/AJiZmZmZyb8AmpmZmZnZPwCamZmZmdm/AJiZmZmZyb8AmJmZmZnJPwCamZmZmdm/AJiZmZmZyT8AmJmZmZnJPwCYmZmZmck/AJqZmZmZ2b8AmJmZmZnJvwCYmZmZmcm/AJiZmZmZyb8AmJmZmZnJvwAzMzMzMwvAAJqZmZmZ2T8AmJmZmZnJPwCYmZmZmcm/AJiZmZmZyb8AmJmZmZnJPwAAAAAAAAAAAAAAAAAAAAAAAAAAAAAAAAAAAAAAAAAAAAAAAAAAAAAAAAAAAAAAAAAAAAAAAAAAAAAAAAAAAAAAAAAAAAAAAAAAAAAAAAAAAAAAAAAAAAAAAAAAAAAAAAAAAAAAAAAAAAAAAAAAAAAAAAAAAAAAAAAAAAAAAAAAAAAAAAAAAAAAAAAAAAAAAAAAAAAAAAAAAAAAAAAAAAAAAAAAAAAAAAAAAAAAAAAAAAAAAAAAAAAAAAAAAAAAAAAAAAAAAAAAAAAAAAAAAAAAAAAAAADgPwAAAAAAAOC/AAAAAAAAAAAAAAAAAADgPwAAAAAAAOC/AAAAAAAA4L8AAAAAAADgvwAAAAAAAAAAAAAAAAAAAAAAAAAAAAAAAAAAAAAAAAAAAAAAAAAA4D8AAAAAAADgPwAAAAAAAAAAAAAAAAAA4D8AAAAAAAAAAAAAAAAAAAAAAAAAAAAA8L8AAAAAAADgPwAAAAAAAOA/AAAAAAAA4D8AAAAAAAAAAABYVVVVVdU/AFRVVVVV1b8AVFVVVVXVvwBUVVVVVdW/AFRVVVVV1b8AAAAAAAAAAABUVVVVVdU/AFRVVVVV1b8Aq6qqqqr6vwBUVVVVVdW/AFhVVVVV1T8AVFVVVVXVPwBYVVVVVdU/AAAAAAAAAAAAAAAAAAAAAAAAAAAAAAAAAFRVVVVV1b8AVFVVVVXVvwBUVVVVVdW/AAAAAAAAAAAAVFVVVVXVPwBUVVVVVdW/AAAAAAAAAAAAAAAAAAAAAAAAAAAAAOA/AAAAAAAAAAAAAAAAAADQPwAAAAAAANC/AAAAAAAA0D8AAAAAAADQvwAAAAAAANA/AAAAAAAAAAAAAAAAAAAAAAAAAAAAAADAAAAAAAAAAAAAAAAAAADQPwAAAAAAAOA/AAAAAAAA4D8AAAAAAADQvwAAAAAAAAAAAAAAAAAA4L8AAAAAAADgPwAAAAAAAOC/AAAAAAAA4L8AAAAAAAAAAAAAAAAAAAAAAJiZmZmZyb8AmpmZmZnZvwCYmZmZmdk/AJiZmZmZyb8AmpmZmZnZvwCYmZmZmdk/AJiZmZmZyb8AmJmZmZnJv4CZmZmZmQnAAAAAAAAAAAAAmJmZmZnJvwCamZmZmdk/AJqZmZmZ2b8AmJmZmZnZPwCYmZmZmdm/AJiZmZmZyb+AZmZmZmYGwAAAAAAAAAAAAJiZmZmZyb8AmJmZmZnJPwCYmZmZmcm/AAAAAAAAAAAAAAAAAAAAAAAAAAAAAAAAAAAAAAAAAAAAAAAAAAAAAAAAAAAAAAAAAAAAAAAAAAAAAAAAAAAAAAAAAAAAAAAAAAAAAAAAAAAAAAAAAAAAAAAAAAAAAAAAAAAAAAAAAAAAAAAAAAAAAAAAAAAAAAAAAAAAAAAAAAAAAAAAAAAAAAAAAAAAAAAAAAAAAAAAAAAAAAAAAAAAAAAAAAAAAOA/AAAAAAAACMAAAAAAAADgvwAAAAAAAOC/AAAAAAAA4L8AAAAAAAAAAAAAAAAAAAAAAAAAAAAA4L8AAAAAAADgvwAAAAAAAOC/AAAAAAAA4D8AAAAAAAAAAAAAAAAAAAAAAAAAAAAAAAAAAAAAAADgvwAAAAAAAAAAAAAAAAAA4D8AVFVVVVXVvwBYVVVVVdU/AAAAAAAAAAAAAAAAAAAAAAAAAAAAAAAAAFhVVVVV1T8AWFVVVVXVPwBYVVVVVdU/AFhVVVVV1T8AVFVVVVXVPwAAAAAAAAAAAAAAAAAAAAAAAAAAAAAAAABYVVVVVdU/AFRVVVVV1b8AVFVVVVXVvwBUVVVVVdU/AAAAAAAAAAAAAAAAAAAAAABUVVVVVdW/AFRVVVVV1b8AVFVVVVXVPwAAAAAAAOA/AAAAAAAAAAAAAAAAAADQvwAAAAAAANA/AAAAAAAAAAAAAAAAAAAAAAAAAAAAAOA/AAAAAAAA0D8AAAAAAADQvwAAAAAAAAAAAAAAAAAA4D8AAAAAAADQvwAAAAAAANC/AAAAAAAA4L8AAAAAAADQvwAAAAAAANC/AAAAAAAAAAAAAAAAAAAAAAAAAAAAANA/AAAAAAAAEMAAAAAAAADQPwAAAAAAAOC/AAAAAAAACMAAmJmZmZnJPwCamZmZmdm/AJqZmZmZ2T8AmpmZmZnZvwCYmZmZmcm/AJiZmZmZyb8AmJmZmZnJPwCYmZmZmcm/AJqZmZmZ2T8AmJmZmZnJPwCamZmZmdk/AM3MzMzMDMAAAAAAAAAAAACYmZmZmcm/AAAAAAAAAAAAmpmZmZnZvwCYmZmZmck/AJiZmZmZ2T8AmJmZmZnJv4BmZmZmZgbAAJiZmZmZ2b8AmJmZmZnZPwAAAAAAAAAAAAAAAAAAAAAAAAAAAAAAAAAAAAAAAAAAAAAAAAAAAAAAAAAAAAAIwAAAAAAAAAAAAAAAAAAAAAAAAAAAAAAAAAAAAAAAAAAAAAAAAAAAAAAAAAAAAAAAQAAAAAAAAPC/AAAAAAAAAAAAAAAAAAAAAAAAAAAAAOA/AAAAAAAA4L8AAAAAAAASwAAAAAAAAAAAAAAAAAAAAAAAAAAAAAAAAAAAAAAAAPA/AAAAAAAAAAAAAAAAAADgPwAAAAAAAAAAAFhVVVVV1T8AVlVVVVXVvwBUVVVVVdW/AFRVVVVV1T8AVFVVVVXVPwAAAAAAAOC/AAAAAAAAAAAAAAAAAADQvwAAAAAAANA/AAAAAAAA0L8AAAAAAADQvwAAAAAAAAAAAAAAAAAA0L8AAAAAAADQvwAAAAAAANC/AAAAAAAA0D8AAAAAAADQvwAAAAAAANC/AAAAAAAAAAAAAAAAAADgvwAAAAAAAAAAAAAAAAAAAAAAAAAAAAAAAAAAAAAAANC/AAAAAAAA0L8AmpmZmZnZPwCamZmZmdk/AAAAAAAAAAAAmJmZmZnJvwAAAAAAAAAAAJqZmZmZ2b8AmpmZmZnZvwCYmZmZmck/AJiZmZmZyb8AAAAAAAAAAACYmZmZmck/AJiZmZmZ2T8AmJmZmZnJvwAAAAAAABDAAJiZmZmZyb8AmpmZmZnZPwCYmZmZmcm/AJiZmZmZ2b8AAAAAAAAAAACamZmZmdk/AM3MzMzMDMDAzMzMzMwMwACYmZmZmcm/AAAAAAAAAAAAAAAAAAAAAAAAAAAAAAAAAAAAAAAAAAAAAAAAAAAAAAAAAAAAAPC/AAAAAAAAAAAAAAAAAAAAAAAAAAAAAAAAAAAAAAAAAAAAAAAAAAAAAAAAAAAAAAAAAAAAAAAAAAAAAAAAAAAAAAAAAAAAAAAAAAAAAAAA4L8AAAAAAADgPwAAAAAAAOA/AAAAAAAAAAAAAAAAAADwvwAAAAAAAPg/AAAAAAAAAAAAAAAAAAAAAAAAAAAAAOA/AAAAAAAA4D8AAAAAAAAAAAAAAAAAAAAAAAAAAAAAAAAAAAAAAAAAAAAAAAAAAOA/AAAAAAAAAAAAAAAAAADgvwAAAAAAAAAAAAAAAAAAAAAAWFVVVVXVPwAAAAAAAAAAAFRVVVVV1b8AAAAAAAAAAABWVVVVVdW/AAAAAAAAAAAAVFVVVVXVvwBUVVVVVdW/gFVVVVVVBUAAVFVVVVXVP4BVVVVVVQ3AAAAAAAAAAMAAWFVVVVXVPwAAAAAAAAAAAFRVVVVV1b8AVFVVVVXVPwBUVVVVVdW/AFRVVVVV1b8Aqqqqqqr6vwBUVVVVVdW/AFRVVVVV1b8AWFVVVVXVPwAAAAAAANC/AAAAAAAAAAAAAAAAAADQvwAAAAAAAAAAAAAAAAAAAMAAAAAAAADgPwAAAAAAANA/AAAAAAAAAAAAAAAAAAAAAAAAAAAAANA/AAAAAAAAAAAAAAAAAAARwAAAAAAAAAAAAAAAAAAAAAAAAAAAAADQvwAAAAAAAAAAAAAAAAAA0L8AAAAAAADQPwAAAAAAANC/AAAAAAAACMAAAAAAAADgvwAAAAAAANC/AAAAAAAAAAAAAAAAAADgPwCamZmZmdk/AAAAAAAAAAAAmJmZmZnJvwCYmZmZmck/AJiZmZmZyb8AmJmZmZnJvwCYmZmZmdm/AJqZmZmZ2T8AmJmZmZnJP2BmZmZmZhLAAJqZmZmZ2T8AAAAAAAAAAACamZmZmdk/AM3MzMzMDMAAmJmZmZnJPwAAAAAAAAAAAJiZmZmZyT8AmJmZmZnZvwCYmZmZmcm/AJiZmZmZyT8AmJmZmZnZvwCYmZmZmdm/AJqZmZmZ2b8AmJmZmZnZPwAAAAAAAAjAAJiZmZmZyb8AAAAAAAAAAAAAAAAAAPC/AAAAAAAAAAAAAAAAAAAAAAAAAAAAAAAAAAAAAAAAAAAAAAAAAAAAAAAAAAAAAAhAAAAAAAAAAAAAAAAAAAAAAAAAAAAAAAAAAAAAAAAAAAAAAAAAAAAAAAAAAAAAAAAAAAAAAAAAAAAAAAAAAAAAAAAAAAAAAAAAAAAAAAAAAAAAAAAAAAASwAAAAAAAAOA/AAAAAAAA4L8AAAAAAADgPwAAAAAAAAAAAAAAAAAA4D8AAAAAAAAAAAAAAAAAAOA/AAAAAAAA4D8AAAAAAAAAAAAAAAAAAAAAAAAAAAAA4L8AAAAAAAAAAAAAAAAAAAAAAAAAAAAA4L8AAAAAAAAAAAAAAAAAAOC/AAAAAAAA4L8AAAAAAADgvwAAAAAAAAAAAFRVVVVV1b8AVFVVVVXVvwAAAAAAAAAAAFRVVVVV1T8AVFVVVVXVPwAAAAAAAAAAAKuqqqqqAkAAAAAAAAAAAAAAAAAAAAAAAFRVVVVV1b8AAAAAAAAAAAAAAAAAAAAAAAAAAAAAAAAAWFVVVVXVPwBUVVVVVdW/AFRVVVVV1T8AVFVVVVXVPwAAAAAAAAAAAKuqqqqq+r8AAAAAAADQPwAAAAAAAOC/AAAAAAAAAAAAAAAAAADQvwAAAAAAANA/AAAAAAAA0D8AAAAAAAAAAAAAAAAAAOC/AAAAAAAA4D8AAAAAAADQvwAAAAAAAOA/AAAAAAAA0L8AAAAAAAAAAAAAAAAAAAAAAAAAAAAA0L8AAAAAAADQPwAAAAAAANC/AAAAAAAA4D8AAAAAAAATwAAAAAAAAOA/AAAAAAAA4L8AAAAAAADQvwAAAAAAAOC/AAAAAAAA4D8AAAAAAADQvwCamZmZmdm/AJqZmZmZ2b8AmJmZmZnJPwAAAAAAAAAAAJiZmZmZyT8AmJmZmZnJPwCamZmZmdk/gGZmZmZmDsCAZmZmZmb2PwCYmZmZmcm/AAAAAAAAAAAAmJmZmZnZvwCYmZmZmdk/AJiZmZmZyT8AmJmZmZnZvwAAAAAAAAAAAJqZmZmZ2T8AmJmZmZnJPwAAAAAAAAAAAJqZmZmZ2T8AmJmZmZnZvwAAAAAAAAAAAAAAAAAAAAAAAAAAAAAAAAAAAAAAAAAAAAAAAAAAAAAAAAAAAAAAAAAAAAAAAAAAAAAAAAAAAAAAAAAAAAAAAAAAAAAAAAAAAAAAAAAAAAAAAAAAAAAAAAAAAAAAAAAAAAAAAAAAAAAAAAAAAAAAAAAAAAAAAAAAAAAAAAAAAAAAAAAAAAAAAAAAAAAAAAAAAAAAAAAAEMAAAAAAAAAAAAAAAAAAAOA/AAAAAAAA4D8AAAAAAAAAAAAAAAAAAAAAAAAAAAAAAAAAAAAAAADgvwAAAAAAAAAAAAAAAAAACMAAAAAAAAAAAAAAAAAAAOC/AAAAAAAA8L8AAAAAAADgvwAAAAAAAAAAAAAAAAAAAAAAAAAAAAAAAAAAAAAAAAAAAAAAAAAA4L8AAAAAAADgvwAAAAAAAOC/AAAAAAAA4D8AAAAAAAAAAAAAAAAAAAAAAFRVVVVV1b8AVFVVVVXVvwBUVVVVVdW/AAAAAAAAAAAAAAAAAAAAAAAAAAAAAAAAAAAAAAAACEAAVFVVVVXVPwBUVVVVVdU/AFRVVVVV1T8AVFVVVVXVvwBUVVVVVdW/AAAAAAAAAAAAVFVVVVXVPwBUVVVVVdW/AAAAAAAAAAAAVFVVVVXVPwAAAAAAAAjAAAAAAAAAAAAAVFVVVVXVvwBUVVVVVdW/wKqqqqqqEsAAAAAAAADgPwAAAAAAANC/AAAAAAAAAAAAAAAAAADgvwAAAAAAANA/AAAAAAAAAAAAAAAAAADQvwAAAAAAAAAAAAAAAAAA0L8AAAAAAAAAAAAAAAAAAOC/AAAAAAAA4L8AAAAAAAAAAAAAAAAAANA/AAAAAAAAAAAAAAAAAADgvwAAAAAAANA/AAAAAAAA0D8AAAAAAAATwAAAAAAAAOA/AAAAAAAA0L8AAAAAAADgvwAAAAAAAAAAAAAAAAAA0L8AAAAAAADQPwAAAAAAAOC/AAAAAAAAAAAAmJmZmZnJvwAAAAAAAAAAAJiZmZmZyT8AmpmZmZnZPwCamZmZmdm/AJqZmZmZ2b8AmJmZmZnJPwCamZmZmdm/AAAAAAAAAAAAmJmZmZnJvwCYmZmZmck/AJiZmZmZ2b8AmJmZmZnJvwCYmZmZmdk/AAAAAAAAAAAAmJmZmZnZP8DMzMzMzARAAJiZmZmZyb8AmpmZmZnZvwCYmZmZmck/AM3MzMzMDMAAmJmZmZnJPwCYmZmZmcm/AAAAAAAAAMAAmpmZmZnZP4CZmZmZmfm/AJiZmZmZyT8AmJmZmZnJPwAAAAAAAAAAAAAAAAAAAAAAAAAAAAAAAAAAAAAAAAAAAAAAAAAAAAAAAAAAAAAAAAAAAAAAAAAAAAAAAAAAAAAAAAAAAAAQwAAAAAAAAAAAAAAAAAAAAAAAAAAAAAAAAAAAAAAAAAAAAAAAAAAAAAAAAAAAAADgPwAAAAAAAAAAAAAAAAAAAAAAAAAAAAAAAAAAAAAAAAAAAAAAAAAAAAAAAAAAAADgvwAAAAAAAAjAAAAAAAAA4D8AAAAAAADgPwAAAAAAAOA/AAAAAAAA4L8AAAAAAAAAAAAAAAAAAAAAAAAAAAAA4L8AAAAAAADgvwAAAAAAAOC/AAAAAAAAAAAAAAAAAADgvwAAAAAAABDAAAAAAAAA4L8AAAAAAADgPwAAAAAAAAAAAAAAAAAAAAAAVFVVVVXVPwBUVVVVVdW/AFRVVVVV1b8AWFVVVVXVPwBUVVVVVdU/AFRVVVVV1b8AVFVVVVXVPwBYVVVVVdU/AFRVVVVV1b8AAAAAAAAAAABUVVVVVdW/AFRVVVVV1T8AAAAAAAAAAAAAAAAAAAAAAAAAAAAAAMCAqqqqqqoCQAAAAAAAAAjAAFRVVVVV1b8AWFVVVVXVPwBUVVVVVdW/AFRVVVVV1b8AVFVVVVXVPwAAAAAAAOC/AAAAAAAA4D8AAAAAAAAAAAAAAAAAANA/AAAAAAAA0D8AAAAAAADQvwAAAAAAAOA/AAAAAAAA0L8AAAAAAADgPwAAAAAAAOA/AAAAAAAAAAAAAAAAAAAAAAAAAAAAANA/AAAAAAAA4D8AAAAAAADgvwAAAAAAANC/AAAAAAAAAAAAAAAAAADQPwAAAAAAAAAAAAAAAAAA0L8AAAAAAADQvwAAAAAAAOC/AAAAAAAA0L8AmJmZmZnJvwAAAAAAAAAAAJqZmZmZ2T8AmJmZmZnJPwCYmZmZmcm/AJiZmZmZyT8AmpmZmZnZvwAAAAAAAAAAAJqZmZmZ6T8AmJmZmZnJvwCamZmZmdk/AJqZmZmZ2b8AmpmZmZnZPwCamZmZmdk/YGZmZmZmEsAAmJmZmZnJvwCYmZmZmck/AJiZmZmZyb8AmpmZmZnZPwCYmZmZmdk/AJiZmZmZyb8AAAAAAAAAAAAAAAAAAAAAAAAAAAAAAAAAAAAAAAAAwAAAAAAAAAjAAAAAAAAAAAAAAAAAAAAAAAAAAAAAAAAAAAAAAAAAAAAAAAAAAAAAAAAAAAAAAAAAAAAAAAAAAAAAAAAAAAAAwAAAAAAAAAAAAAAAAAAAAAAAAAAAAAAAAAAAAAAAAAAAAAAAAAAAAAAAAAAAAAAAAAAAAAAAAAAAAAAAAAAAAAAAAAAAAADgPwAAAAAAAAAAAAAAAAAA4D8AAAAAAADgPwAAAAAAAAAAAAAAAAAA4D8AAAAAAADgPwAAAAAAAAAAAAAAAAAAAAAAAAAAAAAAAAAAAAAAAAAAAAAAAAAAAAAAAAAAAAAAAAAAAAAAAAAAAAAAAAAAAAAAAAAAAAAAAAAAAAAAAOC/AAAAAAAAAAAAAAAAAADgvwAAAAAAABDAAAAAAAAAAAAAVFVVVVXVvwBUVVVVVdW/AAAAAAAAAAAAAAAAAAAAAABUVVVVVdW/AFRVVVVV1b8AVFVVVVXVPwCrqqqqqvo/AAAAAAAAAAAAVFVVVVXVvwBUVVVVVdW/gKqqqqqqAsCAqqqqqqoKwABUVVVVVdW/AFRVVVVV1b8AAAAAAAAAAACrqqqqqvq/AFhVVVVV1T8AVFVVVVXVvwAAAAAAAAAAAAAAAAAAAAAAAAAAAADgvwAAAAAAANA/AAAAAAAA4D8AAAAAAAAAAAAAAAAAAOA/AAAAAAAAAAAAAAAAAADgvwAAAAAAAAAAAAAAAAAABsAAAAAAAAASwAAAAAAAANA/AAAAAAAAAAAAAAAAAAAAAAAAAAAAANA/AAAAAAAA0D8AAAAAAADgvwAAAAAAAAAAAAAAAAAA0D8AAAAAAAAKQAAAAAAAAOA/AAAAAAAA0L8AAAAAAADgvwAAAAAAAADAAAAAAAAA0L8AAAAAAADQPwAAAAAAAAAAAJqZmZmZ2T8AmJmZmZnJvwCYmZmZmck/AAAAAAAAAAAAmpmZmZnZPwCYmZmZmck/AAAAAAAACMAAmpmZmZnZPwAAAAAAAAAAQDMzMzMzA8AAmJmZmZnJPwCYmZmZmck/AJqZmZmZ2b8AmJmZmZnJPwCamZmZmdm/AJqZmZmZ2b8AAAAAAAAAAAAAAAAAAPC/AJiZmZmZyT8AmJmZmZnJvwCYmZmZmck/AJiZmZmZyT+AmZmZmZkBwACYmZmZmdm/AAAAAAAAAAAAmJmZmZnJPwAAAAAAAAAAAAAAAAAAAAAAAAAAAAAAAAAAAAAAAAAAAAAAAAAAAAAAAAAAAAAAAAAAAAAAAAAAAAAAAAAAAAAAAAAAAAAAAAAAAAAAAAAAAAAAAAAAAAAAAAAAAAAAAAAAAAAAAAAAAAAAAAAAAAAAAAAAAAAAAAAAAAAAAAAAAAAAAAAAAAAAAAAAAADgvwAAAAAAAAAAAAAAAAAA4L8AAAAAAAAAAAAAAAAAAAjAAAAAAAAA4D8AAAAAAADgPwAAAAAAABLAAAAAAAAA4L8AAAAAAADgvwAAAAAAAOC/AAAAAAAAAAAAAAAAAAASwAAAAAAAAOA/AAAAAAAAAAAAAAAAAADgvwAAAAAAAAAAAAAAAAAAAAAAAAAAAAAAAAAAAAAAAAAAAAAAAAAAAAAAAAAAAAAAAAAAAAAAAAAAAAAAAAAA4D8AVFVVVVXVvwBYVVVVVdU/AAAAAAAAAAAAWFVVVVXVPwBYVVVVVdU/AKuqqqqqAkCAqqqqqqoSwABUVVVVVdU/AAAAAAAA8L8AAAAAAAAAAAAAAAAAAAAAAAAAAAAA8D8AAAAAAAAAAABYVVVVVdU/AAAAAAAAAAAAVVVVVVUNwAAAAAAAAAAAAFRVVVVV1T8AAAAAAAAAAABUVVVVVdU/AFRVVVVV5b8AAAAAAADQvwAAAAAAAAAAAAAAAAAAAAAAAAAAAADgvwAAAAAAANC/AAAAAAAAAAAAAAAAAADQPwAAAAAAANC/AAAAAAAAAAAAAAAAAADQPwAAAAAAAOC/AAAAAAAAEcAAAAAAAAD8PwAAAAAAANA/AAAAAAAAAAAAAAAAAADQvwAAAAAAANA/AAAAAAAA0D8AAAAAAADgvwAAAAAAAOC/AAAAAAAA4L8AAAAAAADQPwAAAAAAANC/AAAAAAAA0D8AAAAAAADgPwAAAAAAAPy/AJqZmZmZ2b8AmpmZmZnZvwCYmZmZmck/YGZmZmZmEsAAAAAAAAAAAKCZmZmZmRHAAJiZmZmZyT8AzczMzMwMwACYmZmZmck/AJiZmZmZ2T8ANDMzMzPjvwCYmZmZmck/AAAAAAAAAAAAAAAAAAAAAAAAAAAAAAAAAAAAAAAAAAAAAAAAAAAQwAAAAAAAAAAAAAAAAAAAAAAAAAAAAAAIwAAAAAAAAAAAAAAAAAAAAAAAAAAAAAAIQAAAAAAAAAAAAAAAAAAAAAAAAAAAAAAAAAAAAAAAAAAAAAAAAAAAEMAAAAAAAAAAAAAAAAAAAOC/AAAAAAAAEMAAAAAAAAD4PwAAAAAAAOC/AAAAAAAA4L8AAAAAAADgPwAAAAAAAAAAAAAAAAAAAAAAVFVVVVXVvwBUVVVVVdW/AFRVVVVV1b8AAAAAAAAAAABUVVVVVdW/AAAAAAAAAAAAVFVVVVXVPwBYVVVVVdU/AFRVVVVV1b8AWFVVVVXVPwBYVVVVVdU/AFhVVVVV1T8AVFVVVVXVvwBUVVVVVdW/AFRVVVVV1T8AAAAAAAAAAABYVVVVVdU/AAAAAAAAAAAAVFVVVVXVvwBUVVVVVdW/AFZVVVVV1b8AAAAAAAAAAAAAAAAAAOA/AAAAAAAA4L8AAAAAAADgvwAAAAAAAOC/AAAAAAAA0L8AAAAAAADQPwAAAAAAAOC/AAAAAAAA4L8AAAAAAAAAAAAAAAAAANC/AAAAAAAAAAAAAAAAAADgPwAAAAAAAPC/AAAAAAAA0D8AAAAAAADwvwAAAAAAAAAAAAAAAAAAEsAAAAAAAADQvwAAAAAAAOA/AAAAAAAAEcAAAAAAAADQPwAAAAAAAAAAAAAAAAAA0D8AAAAAAAAAAAAAAAAAABPAAAAAAAAA0D8AAAAAAAAAAAAAAAAAAOC/AAAAAAAAAMAAmJmZmZnZPwCamZmZmdk/AJiZmZmZyb8AmJmZmZnJPwAAAAAAAAAAAJqZmZmZ2b8AmpmZmZnZPwCYmZmZmcm/AJqZmZmZ2b+AZmZmZmYGwACYmZmZmdk/AJiZmZmZyb8AmJmZmZnJPwCYmZmZmcm/AAAAAAAAAAAAmpmZmZnZP4CZmZmZmQnAAAAAAAAACMAAAAAAAAAAAAAAAAAAAADAAAAAAAAAAAAAAAAAAAAAAAAAAAAAAAAAAAAAAAAAAAAAAAAAAAAAAAAAAAAAAAAAAAAAAAAAAAAAAAAAAAAAAAAAAAAAAAAAAAAAAAAAAAAAAAAAAAAAAAAAAAAAAAAAAAAAAAAAAAAAAAAAAAAAAAAAAAAAAAAAAAAAAAAAAAAAAAAAAADwvwAAAAAAAAAAAAAAAAAAAAAAAAAAAAAAAAAAAAAAAOC/AAAAAAAA4L8AAAAAAAAAAAAAAAAAAAAAAAAAAAAA4L8AAAAAAADgvwAAAAAAAOC/AAAAAAAAAAAAAAAAAADgPwAAAAAAAPC/AAAAAAAA4D8AAAAAAADgPwAAAAAAAAAAAAAAAAAA4L8AAAAAAADgPwAAAAAAAOC/AAAAAAAAAAAAAAAAAAAAAABYVVVVVdU/AAAAAAAAAAAAAAAAAAAAAAAAAAAAAAAAAFhVVVVV1T8Aq6qqqqr6vwBUVVVVVdU/AAAAAAAAAAAAVFVVVVXVPwBUVVVVVdU/AAAAAAAAAAAAWFVVVVXVPwAAAAAAAAAAQFVVVVVVEcAAVFVVVVXVPwBYVVVVVdU/AFhVVVVV1T8AWFVVVVXVPwBUVVVVVdW/AFZVVVVV5b8AAAAAAAAAAAAAAAAAAAAAAFRVVVVV1b8AVFVVVVXVPwBUVVVVVdU/AAAAAAAAAAAAAAAAAADQPwAAAAAAANA/AAAAAAAAAAAAAAAAAADwvwAAAAAAAAAAAAAAAAAAAAAAAAAAAAAAAAAAAAAAAOC/AAAAAAAA0D8AAAAAAADgPwAAAAAAAAAAAAAAAAAA4L8AAAAAAAAAAAAAAAAAANC/AAAAAAAA4D8AAAAAAAAAAAAAAAAAAOC/AAAAAAAA0D8AAAAAAAAAwAAAAAAAANC/AAAAAAAA4L8AmJmZmZnJvwCYmZmZmck/AAAAAAAAAAAAmJmZmZnJvwCYmZmZmdm/AJiZmZmZyT8AmJmZmZnJvwCYmZmZmcm/AJiZmZmZ2T8AmJmZmZnJPwAAAAAAAAAAAJiZmZmZ2T+AZmZmZmYOwAAzMzMzMwvAAJiZmZmZyT8AmJmZmZnJPwCYmZmZmcm/AJiZmZmZ2T8AmJmZmZnZvwAAAAAAAAAAAAAAAAAAAAAAAAAAAAAAAAAAAAAAAAAAAAAAAAAAAAAAAAAAAAAAAAAAAAAAAAAAAAAAAAAAAAAAAAAAAAAAAAAAAAAAAPC/AAAAAAAAAAAAAAAAAAAAAAAAAAAAAAAAAAAAAAAAAAAAAAAAAAAAAAAAAAAAAAAAAAAAAAAAAAAAAAAAAAAAAAAAAAAAAAAAAAAAAAAAAAAAAAAAAAAAAAAAAAAAAAAAAAAAAAAA4L8AAAAAAADgvwAAAAAAAOA/AAAAAAAAAAAAAAAAAAAAAAAAAAAAAAAAAAAAAAAA4L8AAAAAAAAAAAAAAAAAAAAAAAAAAAAAAAAAAAAAAADgPwAAAAAAAOA/AAAAAAAAAAAAAAAAAAAAAAAAAAAAAAAAAAAAAAAA4L8AAAAAAAAAAAAAAAAAAAAAAAAAAAAA4D8AAAAAAAAAAAAAAAAAAAAAAAAAAAAA4L8AAAAAAAAEwAAAAAAAAOA/AAAAAAAAAAAAVFVVVVXVPwBWVVVVVdW/AFhVVVVV1T8AVFVVVVXVvwAAAAAAAAAAAFRVVVVV1T8AVFVVVVXVPwBUVVVVVdU/AFRVVVVV1T8AVFVVVVXVPwAAAAAAAAAAAFRVVVVV1T8AVFVVVVXVvwBUVVVVVdU/wKqqqqqqEsAAVFVVVVXVvwBUVVVVVdW/AFRVVVVV1T8AVFVVVVXVvwAAAAAAAAAAAFRVVVVV1T8AAAAAAADQvwAAAAAAAAAAAAAAAAAA4L8AAAAAAADQvwAAAAAAANA/AAAAAAAA0D8AAAAAAADQvwAAAAAAANA/AAAAAAAA4D8AAAAAAADQPwAAAAAAANC/AAAAAAAA4L8AAAAAAAAAAAAAAAAAANC/AAAAAAAAAAAAAAAAAADgvwAAAAAAAOC/AAAAAAAA0L8AAAAAAADQPwAAAAAAAPi/AAAAAAAA0D8AAAAAAAAAAAAAAAAAANC/AAAAAAAA0D8AAAAAAADQvwAAAAAAAOC/AJiZmZmZyT8AmJmZmZnJvwCYmZmZmcm/AJiZmZmZyT8AmJmZmZnJvwAAAAAAABDAAJiZmZmZyT8AmJmZmZnJvwCYmZmZmck/AJiZmZmZ2b8AmJmZmZnZvwCYmZmZmdm/AJiZmZmZyb8AmJmZmZnJPwCYmZmZmcm/AJqZmZmZ2b8AmJmZmZnZvwCYmZmZmcm/AJiZmZmZyb8AmJmZmZnZvwAAAAAAAAAAAAAAAAAAAAAAmJmZmZnZvwAAAAAAAAAAAAAAAAAAAAAAAAAAAAAAAAAAAAAAAAAAAAAAAAAAAAAAAAAAAAAAAAAAAAAAAAAAAAAAAAAAAAAAAAAAAADwvwAAAAAAAAAAAAAAAAAAAAAAAAAAAAAAAAAAAAAAAAAAAAAAAAAAAAAAAAAAAAAAAAAAAAAAAAAAAAAAAAAAAAAAAAAAAAAAAAAAAAAAAAAAAAAAAAAAAAAAAAAAAAAAAAAAAAAAAAAAAAAAAAAAAAAAAAAAAAAAAAAAAAAAAOC/AAAAAAAAAAAAAAAAAADgPwAAAAAAAAAAAAAAAAAAAAAAAAAAAAAAAAAAAAAAAOC/AAAAAAAA4L8AAAAAAAAAAAAAAAAAAOC/AAAAAAAAAAAAAAAAAADgPwAAAAAAAOA/AAAAAAAAAAAAAAAAAAAAAAAAAAAAAAAAAAAAAAAAAAAAAAAAAAAAAAAAAAAAAOC/AAAAAAAA4D8AAAAAAADgPwAAAAAAAAAAAAAAAAAA4D8AAAAAAAAAAAAAAAAAAAAAAFRVVVVV1T8AVFVVVVXVPwBUVVVVVdU/AFZVVVVV1T8AAAAAAAAAAABUVVVVVdU/AFRVVVVV1T8AVFVVVVXVvwBUVVVVVdW/AFRVVVVV1b8AVFVVVVXVvwAAAAAAAAAAAFRVVVVV1T8AVFVVVVXVvwAAAAAAAAAAAAAAAAAAAMCAVVVVVVUFwABUVVVVVdU/AFRVVVVV1T8AVFVVVVXVvwBUVVVVVdW/AFRVVVVV1T8AAAAAAAAAAICqqqqqqgLAAAAAAAAAAAAAVFVVVVXVPwAAAAAAANC/AAAAAAAA4D8AAAAAAAAAAAAAAAAAANC/AAAAAAAA0L8AAAAAAADQPwAAAAAAANA/AAAAAAAA4L8AAAAAAADgPwAAAAAAANA/AAAAAAAA4L8AAAAAAAD8vwAAAAAAANC/AAAAAAAA0L8AAAAAAAAAAAAAAAAAAOA/AAAAAAAAAAAAAAAAAAAAAAAAAAAAAAjAAAAAAAAA8L8AAAAAAAAAAAAAAAAAANA/AAAAAAAA4L8AAAAAAAAAAACYmZmZmcm/AJiZmZmZyT8AmJmZmZnJPwAAAAAAAAAAAM3MzMzMDMAAmJmZmZnJPwCYmZmZmdk/AJiZmZmZyT8AmJmZmZnZvwCYmZmZmdm/AJiZmZmZyb8AmpmZmZnZvwAAAAAAAAAAAJiZmZmZyb8AMzMzMzMLwAAAAAAAAAAAAJiZmZmZyb8AAAAAAAAAAACYmZmZmdm/AAAAAAAAAAAAAAAAAAAAAAAAAAAAAAAAAAAAAAAAAAAAAAAAAAAAAAAAAAAAAAAAAAAAAAAAAAAAAAAAAAAAAAAAAAAAAAjAAAAAAAAAAMAAAAAAAAAAAAAAAAAAAAAAAAAAAAAAAAAAAAAAAAAAAAAAAAAAAAAAAAAAAAAAAAAAAAAAAAAAAAAAAAAAAAAAAAAAAAAAAAAAAAAAAAAAAAAAAAAAAAAAAAAAAAAAAAAAAAAAAAAAAAAAAAAAAAAAAAAAAAAAAAAAAAAAAAAAAAAAAAAAAOA/AAAAAAAAAAAAAAAAAADgPwAAAAAAAAAAAAAAAAAA4L8AAAAAAADgPwAAAAAAAAAAAAAAAAAAAAAAAAAAAAAAAAAAAAAAAOA/AAAAAAAAAAAAAAAAAADgPwAAAAAAAAAAAAAAAAAAAAAAAAAAAADgvwAAAAAAAAAAAAAAAAAA4L8AAAAAAADgPwAAAAAAAOA/AAAAAAAA8L8AVFVVVVXVvwAAAAAAAAAAAFRVVVVV1b8AVFVVVVXVvwAAAAAAAAAAAKuqqqqq+r+AVVVVVVUNwABUVVVVVdU/AFRVVVVV1b8AVFVVVVXVP4CqqqqqqgrAAFRVVVVV1T8AAAAAAAAAAABUVVVVVdU/AFRVVVVV1b8AAAAAAAAAAAAAAAAAAAAAAFRVVVVV1b8AAAAAAADgvwAAAAAAAOA/AAAAAAAAAAAAAAAAAADgPwAAAAAAAADAAAAAAAAAAAAAAAAAAAAOwAAAAAAAANC/AAAAAAAA0D8AAAAAAADgvwAAAAAAANC/AAAAAAAAAAAAAAAAAAAAAAAAAAAAANA/AAAAAAAAE8AAAAAAAAAAAAAAAAAAANA/AAAAAAAA0D8AAAAAAAAAAAAAAAAAAAjAAAAAAAAAAAAAAAAAAADgvwAAAAAAANC/AAAAAAAA0D8AAAAAAADQvwCYmZmZmcm/AJiZmZmZ2T8AmJmZmZnJvwAAAAAAAAjAAJiZmZmZyT+AZmZmZmYSwACYmZmZmdm/AJqZmZmZ2b8AzczMzMwMwACYmZmZmdm/AJiZmZmZ2T8AmpmZmZnZvwAAAAAAAAAAAJiZmZmZyb8AAAAAAAAAAAAAAAAAAAAAAJiZmZmZ2b8AmJmZmZnZvwCYmZmZmcm/AJiZmZmZ2T8AmJmZmZnJPwCYmZmZmcm/AAAAAAAAAAAAAAAAAAAAAAAAAAAAAAAAAAAAAAAAAAAAAAAAAAAAAAAAAAAAAAhAAAAAAAAAAAAAAAAAAAAAAAAAAAAAAAAAAAAAAAAAAAAAAAAAAAAAAAAAAAAAAAAAAAAAAAAAAAAAAAAAAAAAAAAAAAAAAOA/AAAAAAAAAAAAAAAAAAAAAAAAAAAAAOC/AAAAAAAA4L8AAAAAAADgPwAAAAAAAOA/AAAAAAAAAAAAAAAAAAAAAAAAAAAAAOA/AAAAAAAA4D8AAAAAAAAAAAAAAAAAAOC/AAAAAAAA4D8AAAAAAADgPwAAAAAAAAAAAAAAAAAA4L8AAAAAAADgPwAAAAAAAOA/AAAAAAAACMAAAAAAAADwvwAAAAAAAAAAAAAAAAAAAAAAAAAAAAAAAABUVVVVVdU/AAAAAAAAAAAAVlVVVVXVvwAAAAAAAAAAAFRVVVVV1b8AVFVVVVXVPwAAAAAAAAAAwKqqqqqqEsAAVFVVVVXVvwBVVVVVVfU/AFRVVVVV1b8AVFVVVVXVv4BVVVVVVQ3AAAAAAAAAAAAAAAAAAAAAAABUVVVVVdU/AAAAAAAA0D8AAAAAAADQvwAAAAAAANC/AAAAAAAA4D8AAAAAAADQvwCYmZmZmck/AJqZmZmZ2T8AmpmZmZnZvwCYmZmZmdk/AJiZmZmZyb8AmJmZmZnJvwAAAAAAAAAAAAAAAAAAAAAAmJmZmZnZvwCYmZmZmdm/AJiZmZmZ2b8AAAAAAAAQwACYmZmZmdm/gGZmZmZmEsAAmJmZmZnZvwCamZmZmdm/AJiZmZmZyT8AmJmZmZnZvwAAAAAAAAAAAAAAAAAAAAAAAAAAAAAAAAAAAAAAAAAAAAAAAAAAAAAAAAAAAAAAAAAAAAAAAAjAAAAAAAAAAAAAAAAAAAAAAAAAAAAAAAAAAAAAAAAAAAAAAAAAAAAAAAAAAAAAAAAAAAAAAAAAAAAAAAAAAAAAAAAAAAAAAAAAAAAAAAAAAAAAAAAAAADgvwAAAAAAAOA/AAAAAAAA4L8AAAAAAADgvwAAAAAAAAAAAAAAAAAA4D8AAAAAAADgPwAAAAAAAOA/AAAAAAAAAAAAAAAAAADgPwAAAAAAAAAAAAAAAAAA4L8AAAAAAAASwAAAAAAAAOA/AAAAAAAAAAAAAAAAAAAAAAAAAAAAAOC/AAAAAAAACMAAAAAAAAAAAAAAAAAAAAAAAAAAAAAAAAAAVFVVVVXVPwBYVVVVVdU/AAAAAAAAAAAAVFVVVVXVPwAAAAAAAAAAAFhVVVVV1T8AVFVVVVXVv4CqqqqqqgpAAFRVVVVV1T8AVFVVVVXVPwBWVVVVVdU/AFRVVVVV1b8AAAAAAAAAAABUVVVVVdW/AFRVVVVV1b8AVFVVVVXVvwBUVVVVVdU/AFRVVVVV1T8AAAAAAADgvwAAAAAAANA/AAAAAAAA0L8AAAAAAADQvwAAAAAAAOA/AAAAAAAA0D8AAAAAAADgPwAAAAAAANA/AAAAAAAA0L8AAAAAAAAAAAAAAAAAANA/AAAAAAAA4D8AAAAAAAAAAAAAAAAAAPi/AAAAAAAA4L8AAAAAAADgPwCamZmZmdk/AJiZmZmZyb8AAAAAAAAAAACYmZmZmcm/AJiZmZmZyb8AmJmZmZnJvwCYmZmZmdk/AJiZmZmZyb/AzMzMzMwQwACYmZmZmdm/AJqZmZmZ2T8AmJmZmZnJvwCYmZmZmdk/AJiZmZmZyb8AAAAAAAAAAAAAAAAAAAAAAAAAAAAAAAAAAAAAAADwvwAAAAAAABDAAAAAAAAAAAAAAAAAAAAAAAAAAAAAAAAAAAAAAAAAAAAAAAAAAAAAAAAAAAAAAAAAAAAAAAAAAAAAAAAAAAAAAAAAAAAAAAAAAAAAAAAAAAAAAAAAAAAAAAAAAAAAAPA/AAAAAAAAAAAAAAAAAADgvwAAAAAAAOC/AAAAAAAAAAAAAAAAAAAAAAAAAAAAAOA/AAAAAAAAAAAAAAAAAAAAAAAAAAAAAOC/AAAAAAAA4L8AAAAAAADgPwAAAAAAAOC/AAAAAAAA4L8AAAAAAADgPwAAAAAAAOA/AAAAAAAA4L8AAAAAAAAAAAAAAAAAAAAAAAAAAAAAEsAAAAAAAAAAAAAAAAAAAAAAAAAAAAAA4L8AAAAAAAAAAABYVVVVVdU/AAAAAAAAAAAAAAAAAAAAAABYVVVVVdU/AFRVVVVV1b8AVlVVVVXVvwBYVVVVVdU/AFRVVVVV1b8AVFVVVVXVPwAAAAAAAAAAAAAAAAAAAAAAAAAAAAAAAABUVVVVVdW/AFRVVVVV1T8AVFVVVVXVvwAAAAAAAAAAAFRVVVVV1b8AVFVVVVXVPwAAAAAAAAAAAFhVVVVV1T8AAAAAAAAAAABUVVVVVdW/AFRVVVVV1b8AAAAAAADQPwAAAAAAANA/AAAAAAAA4D8AAAAAAAD4PwAAAAAAAAAAAAAAAAAA0L8AAAAAAAAAAAAAAAAAAOA/AAAAAAAAAAAAAAAAAADgPwAAAAAAAAAAAAAAAAAAAAAAAAAAAADQPwAAAAAAAOC/AAAAAAAAAAAAAAAAAADQvwAAAAAAAOC/AAAAAAAA0L8AAAAAAADgvwAAAAAAAAzAAAAAAAAAAAAAAAAAAADgvwAAAAAAAOA/AAAAAAAA4L8AAAAAAAAAAACYmZmZmck/AJqZmZmZ2b8AmJmZmZnJvwCYmZmZmdk/AJiZmZmZ2b8AAAAAAAAAAACYmZmZmck/AGZmZmZm9r8AmJmZmZnJvwCYmZmZmck/AJiZmZmZ2b8AAAAAAAAAAAAAAAAAAAAAAJqZmZmZ2b8AmJmZmZnJvwCYmZmZmck/AJiZmZmZ2b8AAAAAAAAAAACYmZmZmdk/AAAAAAAAAAAAmJmZmZnZvwCYmZmZmdm/AJiZmZmZ2T8AmJmZmZnZvwAAAAAAAAAAAAAAAAAAAAAAAAAAAAAAAAAAAAAAAAAAAAAAAAAAAAAAAAAAAAAAAAAAAAAAAAAAAAAAAAAAAAAAAAAAAAAAAAAAAAAAAAAAAAAAAAAAAAAAAAAAAADwvwAAAAAAAAAAAAAAAAAAAAAAAAAAAAAAAAAAAAAAAAAAAAAAAAAAAAAAAAAAAAAAAAAAAAAAAAAAAAAAAAAA+D8AAAAAAADgPwAAAAAAAOC/AAAAAAAAAAAAAAAAAAAAAAAAAAAAAAAAAAAAAAAA4L8AAAAAAADgPwAAAAAAAOA/AAAAAAAAAAAAAAAAAADgPwAAAAAAAAAAAAAAAAAACMAAAAAAAADgPwAAAAAAAOA/AAAAAAAAAAAAAAAAAADgPwAAAAAAAAAAAAAAAAAAAAAAAAAAAAAAAAAAAAAAAAAAAFRVVVVV1b8AAAAAAAAAAAAAAAAAAAAAAFhVVVVV1T8AAAAAAAAAAMCqqqqqqhLAAFhVVVVV1T8AVFVVVVXVvwBUVVVVVdU/QFVVVVVVEcAAWFVVVVXVPwAAAAAAAAAAAFRVVVVV1b8AVFVVVVXVPwBUVVVVVdW/AFRVVVVV1T8AAAAAAAAAAABUVVVVVdW/AAAAAAAAAAAAVFVVVVXVvwAAAAAAAAAAAFRVVVVV1T8AVFVVVVXVPwAAAAAAAAAAAFRVVVVV1b8AVFVVVVXVvwBUVVVVVdU/AAAAAAAAAAAAAAAAAAAAAAAAAAAAABPAAAAAAAAAAAAAAAAAAADQvwAAAAAAANC/AAAAAAAAAAAAAAAAAADgPwAAAAAAAOA/AAAAAAAAAAAAAAAAAADQvwAAAAAAAOA/AAAAAAAA0D8AAAAAAAARwAAAAAAAANA/AAAAAAAA0D8AAAAAAADQvwAAAAAAANC/AAAAAAAA4D8AAAAAAAAAAAAAAAAAANA/AAAAAAAA4D8AAAAAAADQvwAAAAAAANA/ADMzMzMz4z8AZmZmZmb2vwCYmZmZmcm/AAAAAAAAAAAAmJmZmZnZPwAAAAAAAAAAAJiZmZmZyT8AmJmZmZnJvwCYmZmZmdm/AAAAAAAAAAAAAAAAAAAAAACYmZmZmck/AJiZmZmZyb8AmJmZmZnJPwCYmZmZmck/AJiZmZmZ2T8AmJmZmZnZvwCYmZmZmck/AJiZmZmZyb8AmJmZmZnJvwAAAAAAAAAAAJiZmZmZ2b8AAAAAAAAAAAAAAAAAAAAAAAAAAAAAAAAAAAAAAAAAAAAAAAAAAAAAAAAAAAAAAAAAAAAAAAAAAAAAAAAAAAAAAAAAAAAAAAAAAAAAAAAAAAAAAAAAAAAAAAAAAAAAAAAAAAAAAAAAAAAAAAAAAAAAAAAAAAAAAAAAAAAAAAAAAAAAAAAAAAAAAAAAAAAAAAAAAAAAAAAAAAAAAAAAAAAAAAAAAAAAAAAAAAAAAAAAAAAAAAAAAAAAAAAAAAAAAAAAAAAAAADgvwAAAAAAAOA/AAAAAAAA4L8AAAAAAADgPwAAAAAAAAAAAAAAAAAA4D8AAAAAAADgPwAAAAAAAAAAAAAAAAAAAAAAAAAAAAAAAAAAAAAAAOC/AAAAAAAA4D8AAAAAAAAAAAAAAAAAAOA/AAAAAAAAAAAAAAAAAAAAAAAAAAAAAOC/AAAAAAAA4D8AAAAAAAAAAAAAAAAAAOA/AAAAAAAAAAAAAAAAAADwvwAAAAAAAOA/AAAAAAAAAAAAAAAAAADgPwAAAAAAAAAAAFRVVVVV1T8AVlVVVVXVvwBUVVVVVdW/AAAAAAAAAAAAVFVVVVXVvwBUVVVVVdU/wKqqqqqqEsAAAAAAAAAAAABUVVVVVdU/AFRVVVVV1b8AVFVVVVXVPwBUVVVVVdW/AFRVVVVV1b8AVFVVVVXVvwBUVVVVVdU/AFRVVVVV1b8AAAAAAAAAAAAAAAAAAAAAAAAAAAAAAAAAWFVVVVXVPwAAAAAAAAAAAAAAAAAAAAAAVFVVVVXVPwBUVVVVVdW/AFRVVVVV1T8AAAAAAAAAAAAAAAAAAAAAAAAAAAAAAAAAAAAAAADQvwAAAAAAANC/AAAAAAAAAAAAAAAAAADQvwAAAAAAAOA/AAAAAAAAAAAAAAAAAADgPwAAAAAAANC/AAAAAAAAAAAAAAAAAADgvwAAAAAAANA/AAAAAAAACMAAAAAAAADgPwAAAAAAAOA/AAAAAAAA0D8AmpmZmZnZvwCYmZmZmdm/AJiZmZmZ2b8AmJmZmZnZPwCYmZmZmdk/AJiZmZmZ2b8AmJmZmZnZvwAAAAAAAAAAAJiZmZmZyT8AmJmZmZnZPwCYmZmZmdk/AAAAAAAAAAAAZmZmZmb2vwCYmZmZmcm/AJiZmZmZyb8AmJmZmZnZPwAAAAAAAAAAAJiZmZmZyb8AmJmZmZnJPwCYmZmZmcm/AJiZmZmZyT8=",
          "dtype": "f8"
         },
         "xaxis": "x2",
         "yaxis": "y2"
        }
       ],
       "layout": {
        "bargap": 0.1,
        "barmode": "relative",
        "legend": {
         "tracegroupgap": 0
        },
        "template": {
         "data": {
          "bar": [
           {
            "error_x": {
             "color": "#2a3f5f"
            },
            "error_y": {
             "color": "#2a3f5f"
            },
            "marker": {
             "line": {
              "color": "#E5ECF6",
              "width": 0.5
             },
             "pattern": {
              "fillmode": "overlay",
              "size": 10,
              "solidity": 0.2
             }
            },
            "type": "bar"
           }
          ],
          "barpolar": [
           {
            "marker": {
             "line": {
              "color": "#E5ECF6",
              "width": 0.5
             },
             "pattern": {
              "fillmode": "overlay",
              "size": 10,
              "solidity": 0.2
             }
            },
            "type": "barpolar"
           }
          ],
          "carpet": [
           {
            "aaxis": {
             "endlinecolor": "#2a3f5f",
             "gridcolor": "white",
             "linecolor": "white",
             "minorgridcolor": "white",
             "startlinecolor": "#2a3f5f"
            },
            "baxis": {
             "endlinecolor": "#2a3f5f",
             "gridcolor": "white",
             "linecolor": "white",
             "minorgridcolor": "white",
             "startlinecolor": "#2a3f5f"
            },
            "type": "carpet"
           }
          ],
          "choropleth": [
           {
            "colorbar": {
             "outlinewidth": 0,
             "ticks": ""
            },
            "type": "choropleth"
           }
          ],
          "contour": [
           {
            "colorbar": {
             "outlinewidth": 0,
             "ticks": ""
            },
            "colorscale": [
             [
              0,
              "#0d0887"
             ],
             [
              0.1111111111111111,
              "#46039f"
             ],
             [
              0.2222222222222222,
              "#7201a8"
             ],
             [
              0.3333333333333333,
              "#9c179e"
             ],
             [
              0.4444444444444444,
              "#bd3786"
             ],
             [
              0.5555555555555556,
              "#d8576b"
             ],
             [
              0.6666666666666666,
              "#ed7953"
             ],
             [
              0.7777777777777778,
              "#fb9f3a"
             ],
             [
              0.8888888888888888,
              "#fdca26"
             ],
             [
              1,
              "#f0f921"
             ]
            ],
            "type": "contour"
           }
          ],
          "contourcarpet": [
           {
            "colorbar": {
             "outlinewidth": 0,
             "ticks": ""
            },
            "type": "contourcarpet"
           }
          ],
          "heatmap": [
           {
            "colorbar": {
             "outlinewidth": 0,
             "ticks": ""
            },
            "colorscale": [
             [
              0,
              "#0d0887"
             ],
             [
              0.1111111111111111,
              "#46039f"
             ],
             [
              0.2222222222222222,
              "#7201a8"
             ],
             [
              0.3333333333333333,
              "#9c179e"
             ],
             [
              0.4444444444444444,
              "#bd3786"
             ],
             [
              0.5555555555555556,
              "#d8576b"
             ],
             [
              0.6666666666666666,
              "#ed7953"
             ],
             [
              0.7777777777777778,
              "#fb9f3a"
             ],
             [
              0.8888888888888888,
              "#fdca26"
             ],
             [
              1,
              "#f0f921"
             ]
            ],
            "type": "heatmap"
           }
          ],
          "histogram": [
           {
            "marker": {
             "pattern": {
              "fillmode": "overlay",
              "size": 10,
              "solidity": 0.2
             }
            },
            "type": "histogram"
           }
          ],
          "histogram2d": [
           {
            "colorbar": {
             "outlinewidth": 0,
             "ticks": ""
            },
            "colorscale": [
             [
              0,
              "#0d0887"
             ],
             [
              0.1111111111111111,
              "#46039f"
             ],
             [
              0.2222222222222222,
              "#7201a8"
             ],
             [
              0.3333333333333333,
              "#9c179e"
             ],
             [
              0.4444444444444444,
              "#bd3786"
             ],
             [
              0.5555555555555556,
              "#d8576b"
             ],
             [
              0.6666666666666666,
              "#ed7953"
             ],
             [
              0.7777777777777778,
              "#fb9f3a"
             ],
             [
              0.8888888888888888,
              "#fdca26"
             ],
             [
              1,
              "#f0f921"
             ]
            ],
            "type": "histogram2d"
           }
          ],
          "histogram2dcontour": [
           {
            "colorbar": {
             "outlinewidth": 0,
             "ticks": ""
            },
            "colorscale": [
             [
              0,
              "#0d0887"
             ],
             [
              0.1111111111111111,
              "#46039f"
             ],
             [
              0.2222222222222222,
              "#7201a8"
             ],
             [
              0.3333333333333333,
              "#9c179e"
             ],
             [
              0.4444444444444444,
              "#bd3786"
             ],
             [
              0.5555555555555556,
              "#d8576b"
             ],
             [
              0.6666666666666666,
              "#ed7953"
             ],
             [
              0.7777777777777778,
              "#fb9f3a"
             ],
             [
              0.8888888888888888,
              "#fdca26"
             ],
             [
              1,
              "#f0f921"
             ]
            ],
            "type": "histogram2dcontour"
           }
          ],
          "mesh3d": [
           {
            "colorbar": {
             "outlinewidth": 0,
             "ticks": ""
            },
            "type": "mesh3d"
           }
          ],
          "parcoords": [
           {
            "line": {
             "colorbar": {
              "outlinewidth": 0,
              "ticks": ""
             }
            },
            "type": "parcoords"
           }
          ],
          "pie": [
           {
            "automargin": true,
            "type": "pie"
           }
          ],
          "scatter": [
           {
            "fillpattern": {
             "fillmode": "overlay",
             "size": 10,
             "solidity": 0.2
            },
            "type": "scatter"
           }
          ],
          "scatter3d": [
           {
            "line": {
             "colorbar": {
              "outlinewidth": 0,
              "ticks": ""
             }
            },
            "marker": {
             "colorbar": {
              "outlinewidth": 0,
              "ticks": ""
             }
            },
            "type": "scatter3d"
           }
          ],
          "scattercarpet": [
           {
            "marker": {
             "colorbar": {
              "outlinewidth": 0,
              "ticks": ""
             }
            },
            "type": "scattercarpet"
           }
          ],
          "scattergeo": [
           {
            "marker": {
             "colorbar": {
              "outlinewidth": 0,
              "ticks": ""
             }
            },
            "type": "scattergeo"
           }
          ],
          "scattergl": [
           {
            "marker": {
             "colorbar": {
              "outlinewidth": 0,
              "ticks": ""
             }
            },
            "type": "scattergl"
           }
          ],
          "scattermap": [
           {
            "marker": {
             "colorbar": {
              "outlinewidth": 0,
              "ticks": ""
             }
            },
            "type": "scattermap"
           }
          ],
          "scattermapbox": [
           {
            "marker": {
             "colorbar": {
              "outlinewidth": 0,
              "ticks": ""
             }
            },
            "type": "scattermapbox"
           }
          ],
          "scatterpolar": [
           {
            "marker": {
             "colorbar": {
              "outlinewidth": 0,
              "ticks": ""
             }
            },
            "type": "scatterpolar"
           }
          ],
          "scatterpolargl": [
           {
            "marker": {
             "colorbar": {
              "outlinewidth": 0,
              "ticks": ""
             }
            },
            "type": "scatterpolargl"
           }
          ],
          "scatterternary": [
           {
            "marker": {
             "colorbar": {
              "outlinewidth": 0,
              "ticks": ""
             }
            },
            "type": "scatterternary"
           }
          ],
          "surface": [
           {
            "colorbar": {
             "outlinewidth": 0,
             "ticks": ""
            },
            "colorscale": [
             [
              0,
              "#0d0887"
             ],
             [
              0.1111111111111111,
              "#46039f"
             ],
             [
              0.2222222222222222,
              "#7201a8"
             ],
             [
              0.3333333333333333,
              "#9c179e"
             ],
             [
              0.4444444444444444,
              "#bd3786"
             ],
             [
              0.5555555555555556,
              "#d8576b"
             ],
             [
              0.6666666666666666,
              "#ed7953"
             ],
             [
              0.7777777777777778,
              "#fb9f3a"
             ],
             [
              0.8888888888888888,
              "#fdca26"
             ],
             [
              1,
              "#f0f921"
             ]
            ],
            "type": "surface"
           }
          ],
          "table": [
           {
            "cells": {
             "fill": {
              "color": "#EBF0F8"
             },
             "line": {
              "color": "white"
             }
            },
            "header": {
             "fill": {
              "color": "#C8D4E3"
             },
             "line": {
              "color": "white"
             }
            },
            "type": "table"
           }
          ]
         },
         "layout": {
          "annotationdefaults": {
           "arrowcolor": "#2a3f5f",
           "arrowhead": 0,
           "arrowwidth": 1
          },
          "autotypenumbers": "strict",
          "coloraxis": {
           "colorbar": {
            "outlinewidth": 0,
            "ticks": ""
           }
          },
          "colorscale": {
           "diverging": [
            [
             0,
             "#8e0152"
            ],
            [
             0.1,
             "#c51b7d"
            ],
            [
             0.2,
             "#de77ae"
            ],
            [
             0.3,
             "#f1b6da"
            ],
            [
             0.4,
             "#fde0ef"
            ],
            [
             0.5,
             "#f7f7f7"
            ],
            [
             0.6,
             "#e6f5d0"
            ],
            [
             0.7,
             "#b8e186"
            ],
            [
             0.8,
             "#7fbc41"
            ],
            [
             0.9,
             "#4d9221"
            ],
            [
             1,
             "#276419"
            ]
           ],
           "sequential": [
            [
             0,
             "#0d0887"
            ],
            [
             0.1111111111111111,
             "#46039f"
            ],
            [
             0.2222222222222222,
             "#7201a8"
            ],
            [
             0.3333333333333333,
             "#9c179e"
            ],
            [
             0.4444444444444444,
             "#bd3786"
            ],
            [
             0.5555555555555556,
             "#d8576b"
            ],
            [
             0.6666666666666666,
             "#ed7953"
            ],
            [
             0.7777777777777778,
             "#fb9f3a"
            ],
            [
             0.8888888888888888,
             "#fdca26"
            ],
            [
             1,
             "#f0f921"
            ]
           ],
           "sequentialminus": [
            [
             0,
             "#0d0887"
            ],
            [
             0.1111111111111111,
             "#46039f"
            ],
            [
             0.2222222222222222,
             "#7201a8"
            ],
            [
             0.3333333333333333,
             "#9c179e"
            ],
            [
             0.4444444444444444,
             "#bd3786"
            ],
            [
             0.5555555555555556,
             "#d8576b"
            ],
            [
             0.6666666666666666,
             "#ed7953"
            ],
            [
             0.7777777777777778,
             "#fb9f3a"
            ],
            [
             0.8888888888888888,
             "#fdca26"
            ],
            [
             1,
             "#f0f921"
            ]
           ]
          },
          "colorway": [
           "#636efa",
           "#EF553B",
           "#00cc96",
           "#ab63fa",
           "#FFA15A",
           "#19d3f3",
           "#FF6692",
           "#B6E880",
           "#FF97FF",
           "#FECB52"
          ],
          "font": {
           "color": "#2a3f5f"
          },
          "geo": {
           "bgcolor": "white",
           "lakecolor": "white",
           "landcolor": "#E5ECF6",
           "showlakes": true,
           "showland": true,
           "subunitcolor": "white"
          },
          "hoverlabel": {
           "align": "left"
          },
          "hovermode": "closest",
          "mapbox": {
           "style": "light"
          },
          "paper_bgcolor": "white",
          "plot_bgcolor": "#E5ECF6",
          "polar": {
           "angularaxis": {
            "gridcolor": "white",
            "linecolor": "white",
            "ticks": ""
           },
           "bgcolor": "#E5ECF6",
           "radialaxis": {
            "gridcolor": "white",
            "linecolor": "white",
            "ticks": ""
           }
          },
          "scene": {
           "xaxis": {
            "backgroundcolor": "#E5ECF6",
            "gridcolor": "white",
            "gridwidth": 2,
            "linecolor": "white",
            "showbackground": true,
            "ticks": "",
            "zerolinecolor": "white"
           },
           "yaxis": {
            "backgroundcolor": "#E5ECF6",
            "gridcolor": "white",
            "gridwidth": 2,
            "linecolor": "white",
            "showbackground": true,
            "ticks": "",
            "zerolinecolor": "white"
           },
           "zaxis": {
            "backgroundcolor": "#E5ECF6",
            "gridcolor": "white",
            "gridwidth": 2,
            "linecolor": "white",
            "showbackground": true,
            "ticks": "",
            "zerolinecolor": "white"
           }
          },
          "shapedefaults": {
           "line": {
            "color": "#2a3f5f"
           }
          },
          "ternary": {
           "aaxis": {
            "gridcolor": "white",
            "linecolor": "white",
            "ticks": ""
           },
           "baxis": {
            "gridcolor": "white",
            "linecolor": "white",
            "ticks": ""
           },
           "bgcolor": "#E5ECF6",
           "caxis": {
            "gridcolor": "white",
            "linecolor": "white",
            "ticks": ""
           }
          },
          "title": {
           "x": 0.05
          },
          "xaxis": {
           "automargin": true,
           "gridcolor": "white",
           "linecolor": "white",
           "ticks": "",
           "title": {
            "standoff": 15
           },
           "zerolinecolor": "white",
           "zerolinewidth": 2
          },
          "yaxis": {
           "automargin": true,
           "gridcolor": "white",
           "linecolor": "white",
           "ticks": "",
           "title": {
            "standoff": 15
           },
           "zerolinecolor": "white",
           "zerolinewidth": 2
          }
         }
        },
        "title": {
         "text": "Distribution of Price Differences (Agoda - Booking)"
        },
        "xaxis": {
         "anchor": "y",
         "domain": [
          0,
          1
         ],
         "title": {
          "text": "Price Difference ($)"
         }
        },
        "xaxis2": {
         "anchor": "y2",
         "domain": [
          0,
          1
         ],
         "matches": "x",
         "showgrid": true,
         "showticklabels": false
        },
        "yaxis": {
         "anchor": "x",
         "domain": [
          0,
          0.8316
         ],
         "title": {
          "text": "count"
         }
        },
        "yaxis2": {
         "anchor": "x2",
         "domain": [
          0.8416,
          1
         ],
         "matches": "y2",
         "showgrid": false,
         "showline": false,
         "showticklabels": false,
         "ticks": ""
        }
       }
      }
     },
     "metadata": {},
     "output_type": "display_data"
    }
   ],
   "source": [
    "import plotly.express as px\n",
    "\n",
    "fig = px.histogram(\n",
    "    merged_data, \n",
    "    x='price_difference', \n",
    "    nbins=100,\n",
    "    marginal='box',  # adds a box plot on the top\n",
    "    title='Distribution of Price Differences (Agoda - Booking)',\n",
    "    labels={'price_difference':'Price Difference ($)'}\n",
    ")\n",
    "\n",
    "fig.update_layout(bargap=0.1)\n",
    "fig.show()"
   ]
  },
  {
   "cell_type": "markdown",
   "metadata": {},
   "source": [
    "From the distribution plot above, after removing extreme outliers, the price difference primarily ranges between -5 and 3 dollars. However, most values cluster closely around 0 to 1 dollar, indicating that, after cleanup, price variations between Agoda and Booking generally remain minimal. 📊✨"
   ]
  },
  {
   "cell_type": "code",
   "execution_count": 22,
   "metadata": {},
   "outputs": [],
   "source": [
    "# merged_data['checkin_date'] = pd.to_datetime(merged_data['checkin_date'])\n",
    "# merged_data['checkin_date'] = (merged_data['checkin_date'] - merged_data['checkin_date'].min()).dt.days\n",
    "non_numeric_cols = merged_data.select_dtypes( exclude=['number']).columns\n",
    "non_numeric_cols\n",
    "\n",
    "predefined_droped_cols = [*non_numeric_cols, 'price_agoda', 'price_booking', 'price_difference', 'checkin_day_booking', 'checkin_day_agoda']\n",
    "\n",
    "# drop all columns where the min and max are the same that are not the snapshot_date\n",
    "merged_data = merged_data.drop(columns=merged_data.columns[(merged_data.min() == merged_data.max()) & (merged_data.columns != 'snapshot_date')])"
   ]
  },
  {
   "cell_type": "markdown",
   "metadata": {},
   "source": [
    "### Create data set for training"
   ]
  },
  {
   "cell_type": "code",
   "execution_count": 23,
   "metadata": {},
   "outputs": [],
   "source": [
    "X = merged_data.drop(columns=predefined_droped_cols)# Replace with actual features\n",
    "y = merged_data['price_difference']"
   ]
  },
  {
   "cell_type": "code",
   "execution_count": 24,
   "metadata": {},
   "outputs": [],
   "source": [
    "X_train, X_test, y_train, y_test = train_test_split(X, y, test_size=0.3, random_state=42)"
   ]
  },
  {
   "cell_type": "code",
   "execution_count": 25,
   "metadata": {},
   "outputs": [],
   "source": [
    "scaler = StandardScaler()\n",
    "X_train_scaled = scaler.fit_transform(X_train)\n",
    "X_test_scaled = scaler.transform(X_test)"
   ]
  },
  {
   "cell_type": "markdown",
   "metadata": {},
   "source": [
    "## Training"
   ]
  },
  {
   "cell_type": "code",
   "execution_count": 26,
   "metadata": {},
   "outputs": [],
   "source": [
    "from sklearn.model_selection import GridSearchCV\n",
    "from sklearn.tree import DecisionTreeRegressor\n",
    "from sklearn.ensemble import RandomForestRegressor\n",
    "from sklearn.svm import SVR\n",
    "\n",
    "def tune_model(model, param_grid, X_train, y_train, cv=5):\n",
    "    scoring = {\n",
    "        'R2': 'r2',\n",
    "        'neg_mean_squared_error': 'neg_mean_squared_error',\n",
    "        'neg_mean_absolute_error': 'neg_mean_absolute_error'\n",
    "    }\n",
    "    \n",
    "    grid = GridSearchCV(estimator=model,\n",
    "                        param_grid=param_grid,\n",
    "                        cv=cv,\n",
    "                        scoring=scoring,\n",
    "                        refit='R2',  # refitting on R² ensures the best model maximizes explained variance\n",
    "                        n_jobs=-1,\n",
    "                        verbose=1)\n",
    "    grid.fit(X_train, y_train)\n",
    "\n",
    "    \n",
    "    print(f\"Best grid R2 score for {model.__class__.__name__}: {grid.best_score_}\")\n",
    "    print(f\"Best grid parameters for {model.__class__.__name__}: {grid.best_params_}\")\n",
    "  \n",
    "    # Optionally, you can access all the cross-validation results via grid.cv_results_\n",
    "    return grid.best_estimator_"
   ]
  },
  {
   "cell_type": "code",
   "execution_count": 27,
   "metadata": {},
   "outputs": [
    {
     "name": "stdout",
     "output_type": "stream",
     "text": [
      "\n",
      "Tuning Decision Tree:\n",
      "Fitting 5 folds for each of 8 candidates, totalling 40 fits\n",
      "Best grid R2 score for DecisionTreeRegressor: 0.35518850184229767\n",
      "Best grid parameters for DecisionTreeRegressor: {'max_depth': 5, 'min_samples_leaf': 2, 'min_samples_split': 10}\n",
      "\n",
      "Tuning Random Forest:\n",
      "Fitting 5 folds for each of 24 candidates, totalling 120 fits\n",
      "Best grid R2 score for RandomForestRegressor: 0.49567437632018263\n",
      "Best grid parameters for RandomForestRegressor: {'max_depth': 10, 'min_samples_leaf': 1, 'min_samples_split': 2, 'n_estimators': 200}\n"
     ]
    }
   ],
   "source": [
    "param_grids = {\n",
    "    'Decision Tree': {\n",
    "        'max_depth': [None, 5],\n",
    "        'min_samples_split': [5, 10],\n",
    "        'min_samples_leaf': [1, 2]\n",
    "    },\n",
    "    'Random Forest': {\n",
    "        'n_estimators': [100, 200, 300],\n",
    "        'max_depth': [None, 10],\n",
    "        'min_samples_split': [2, 5],\n",
    "        'min_samples_leaf': [1, 2]\n",
    "    }\n",
    "}\n",
    "\n",
    "models = {\n",
    "    'Decision Tree': DecisionTreeRegressor(random_state=42),\n",
    "    'Random Forest': RandomForestRegressor(random_state=42)\n",
    "}\n",
    "\n",
    "best_models = {}\n",
    "for model_name, model in models.items():\n",
    "    print(f\"\\nTuning {model_name}:\")\n",
    "    best_models[model_name] = tune_model(model, param_grids[model_name], X_train_scaled, y_train)\n"
   ]
  },
  {
   "cell_type": "code",
   "execution_count": 28,
   "metadata": {},
   "outputs": [
    {
     "name": "stdout",
     "output_type": "stream",
     "text": [
      "fit and pred: Decision Tree\n",
      "logged: Decision Tree\n",
      "fit and pred: Random Forest\n",
      "logged: Random Forest\n"
     ]
    }
   ],
   "source": [
    "results = {}\n",
    "\n",
    "for name, model in best_models.items():\n",
    "    y_pred = model.predict(X_test_scaled)\n",
    "    print(f'fit and pred: {name}')\n",
    "    # Calculate performance metrics\n",
    "    results[name] = {\n",
    "        'R2': r2_score(y_test, y_pred),\n",
    "        'MAE': mean_absolute_error(y_test, y_pred),\n",
    "        'MSE': mean_squared_error(y_test, y_pred),\n",
    "        'RMSE': np.sqrt(mean_squared_error(y_test, y_pred))\n",
    "    }\n",
    "    print(f'logged: {name}')\n"
   ]
  },
  {
   "cell_type": "markdown",
   "metadata": {},
   "source": [
    "## Testing results"
   ]
  },
  {
   "cell_type": "code",
   "execution_count": 29,
   "metadata": {},
   "outputs": [
    {
     "name": "stdout",
     "output_type": "stream",
     "text": [
      "                     R2       MAE       MSE      RMSE\n",
      "Decision Tree  0.405555  0.402767  0.542474  0.736528\n",
      "Random Forest  0.502569  0.373811  0.453942  0.673752\n"
     ]
    }
   ],
   "source": [
    "results_df = pd.DataFrame(results).T\n",
    "print(results_df)"
   ]
  },
  {
   "cell_type": "markdown",
   "metadata": {},
   "source": [
    "The testing results indicate that the Random Forest model consistently outperforms the Decision Tree across all evaluation metrics. Specifically, the Random Forest provides a stronger predictive capability, resulting in lower errors when estimating hotel price differences between Agoda and Booking. On average, predictions made by the Random Forest deviate less from the actual prices, offering more accurate and reliable results measured in dollars. Conversely, the Decision Tree model exhibits higher prediction errors, implying it's less effective at capturing the underlying patterns in the pricing data."
   ]
  },
  {
   "cell_type": "markdown",
   "metadata": {},
   "source": [
    "### Residuals plot - random forest:"
   ]
  },
  {
   "cell_type": "markdown",
   "metadata": {},
   "source": [
    "The residuals plot is defined as the difference between the actual price difference - predicted price difference. When the Mean of the residuals plot sits closer to 0, it means that the model predicts more accurately.\n",
    "from the below plot, we can see that the model tends to predict price differences that are close to the original, with about 2 dollar variation from the actual price differnce"
   ]
  },
  {
   "cell_type": "code",
   "execution_count": 33,
   "metadata": {},
   "outputs": [
    {
     "data": {
      "image/png": "[encoded data removed]",
      "text/plain": [
       "<Figure size 1000x500 with 1 Axes>"
      ]
     },
     "metadata": {},
     "output_type": "display_data"
    }
   ],
   "source": [
    "best_model_name = results_df['R2'].idxmax()\n",
    "best_model = best_models[best_model_name]\n",
    "y_pred_best = best_model.predict(X_test_scaled)\n",
    "residuals = y_test - y_pred_best\n",
    "\n",
    "plt.figure(figsize=(10, 5))\n",
    "sns.histplot(residuals, bins=30, kde=True)\n",
    "plt.title(f'Residual Plot for {best_model_name}')\n",
    "plt.xlabel('Residuals')\n",
    "plt.ylabel('Frequency')\n",
    "plt.show()\n"
   ]
  },
  {
   "cell_type": "markdown",
   "metadata": {},
   "source": [
    "### Feature importance - Tree wise"
   ]
  },
  {
   "cell_type": "markdown",
   "metadata": {},
   "source": [
    "The feature importance graph below suggests that for both of the models, the most important features are the `TTT`, `number_of_reviews_agoda` and `review_score_booking`. This gives us insight on how each of the platforms are pricing hotels listed on their sites."
   ]
  },
  {
   "cell_type": "code",
   "execution_count": null,
   "metadata": {},
   "outputs": [
    {
     "name": "stderr",
     "output_type": "stream",
     "text": [
      "C:\\Users\\HamamaHome\\AppData\\Local\\Temp\\ipykernel_7528\\572544589.py:11: FutureWarning:\n",
      "\n",
      "\n",
      "\n",
      "Passing `palette` without assigning `hue` is deprecated and will be removed in v0.14.0. Assign the `y` variable to `hue` and set `legend=False` for the same effect.\n",
      "\n",
      "\n"
     ]
    },
    {
     "data": {
      "image/png": "[encoded data removed]",
      "text/plain": [
       "<Figure size 1000x600 with 1 Axes>"
      ]
     },
     "metadata": {},
     "output_type": "display_data"
    },
    {
     "name": "stderr",
     "output_type": "stream",
     "text": [
      "C:\\Users\\HamamaHome\\AppData\\Local\\Temp\\ipykernel_7528\\572544589.py:11: FutureWarning:\n",
      "\n",
      "\n",
      "\n",
      "Passing `palette` without assigning `hue` is deprecated and will be removed in v0.14.0. Assign the `y` variable to `hue` and set `legend=False` for the same effect.\n",
      "\n",
      "\n"
     ]
    },
    {
     "data": {
      "image/png": "[encoded data removed]",
      "text/plain": [
       "<Figure size 1000x600 with 1 Axes>"
      ]
     },
     "metadata": {},
     "output_type": "display_data"
    }
   ],
   "source": [
    "for model_name in ['Decision Tree', 'Random Forest']:\n",
    "    model = models[model_name]\n",
    "    feature_importance = model.feature_importances_\n",
    "    \n",
    "    importance_df = pd.DataFrame({\n",
    "        'Feature': X.columns,\n",
    "        'Importance': feature_importance\n",
    "    }).sort_values(by='Importance', ascending=False)\n",
    "\n",
    "    plt.figure(figsize=(10, 6))\n",
    "    sns.barplot(x='Importance', y='Feature', data=importance_df, palette=\"Blues_d\")\n",
    "    plt.title(f'Feature Importance - {model_name}')\n",
    "    plt.show()"
   ]
  },
  {
   "cell_type": "markdown",
   "metadata": {},
   "source": [
    "### permutaion importance\n",
    "With this technique, we shuffle the data for each column to see how important the feature for the prediction of the model. We can conclude a similiar thing here as well - the number of reviews, the time to travel and the the review scores are the leading factors for the price difference on both sites."
   ]
  },
  {
   "cell_type": "code",
   "execution_count": null,
   "metadata": {},
   "outputs": [
    {
     "name": "stderr",
     "output_type": "stream",
     "text": [
      "C:\\Users\\HamamaHome\\AppData\\Local\\Temp\\ipykernel_7528\\385583814.py:11: FutureWarning:\n",
      "\n",
      "\n",
      "\n",
      "Passing `palette` without assigning `hue` is deprecated and will be removed in v0.14.0. Assign the `y` variable to `hue` and set `legend=False` for the same effect.\n",
      "\n",
      "\n"
     ]
    },
    {
     "data": {
      "image/png": "[encoded data removed]",
      "text/plain": [
       "<Figure size 1000x600 with 1 Axes>"
      ]
     },
     "metadata": {},
     "output_type": "display_data"
    },
    {
     "name": "stderr",
     "output_type": "stream",
     "text": [
      "C:\\Users\\HamamaHome\\AppData\\Local\\Temp\\ipykernel_7528\\385583814.py:11: FutureWarning:\n",
      "\n",
      "\n",
      "\n",
      "Passing `palette` without assigning `hue` is deprecated and will be removed in v0.14.0. Assign the `y` variable to `hue` and set `legend=False` for the same effect.\n",
      "\n",
      "\n"
     ]
    },
    {
     "data": {
      "image/png": "[encoded data removed]",
      "text/plain": [
       "<Figure size 1000x600 with 1 Axes>"
      ]
     },
     "metadata": {},
     "output_type": "display_data"
    }
   ],
   "source": [
    "for model_name in ['Decision Tree', 'Random Forest']:\n",
    "    model = models[model_name]\n",
    "    perm_importance = permutation_importance(model, X_test_scaled, y_test, n_repeats=10, random_state=42)\n",
    "    \n",
    "    perm_importance_df = pd.DataFrame({\n",
    "        'Feature': X.columns,\n",
    "        'Importance': perm_importance.importances_mean\n",
    "    }).sort_values(by='Importance', ascending=False)\n",
    "\n",
    "    plt.figure(figsize=(10, 6))\n",
    "    sns.barplot(x='Importance', y='Feature', data=perm_importance_df, palette=\"Greens_d\")\n",
    "    plt.title(f'Permutation Feature Importance - {model_name}')\n",
    "    plt.show()\n"
   ]
  }
 ],
 "metadata": {
  "kernelspec": {
   "display_name": "DS-101-Final",
   "language": "python",
   "name": "python3"
  },
  "language_info": {
   "codemirror_mode": {
    "name": "ipython",
    "version": 3
   },
   "file_extension": ".py",
   "mimetype": "text/x-python",
   "name": "python",
   "nbconvert_exporter": "python",
   "pygments_lexer": "ipython3",
   "version": "3.12.8"
  }
 },
 "nbformat": 4,
 "nbformat_minor": 2
}
