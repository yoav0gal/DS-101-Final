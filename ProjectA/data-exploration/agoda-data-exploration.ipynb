{
 "cells": [
  {
   "cell_type": "code",
   "execution_count": 53,
   "metadata": {},
   "outputs": [
    {
     "data": {
      "text/plain": [
       "name                    27445\n",
       "discounted_price        26890\n",
       "original_price          26890\n",
       "star_rating             27433\n",
       "review_score            27427\n",
       "review_title            27427\n",
       "number_of_reviews       27427\n",
       "neighborhood            27445\n",
       "distance_from_center    27686\n",
       "free_cancellation       27611\n",
       "prepayment_needed       27611\n",
       "breakfast_included      27686\n",
       "time_to_travel          27686\n",
       "length_of_stay          27686\n",
       "snapshot_date           27686\n",
       "dtype: int64"
      ]
     },
     "execution_count": 53,
     "metadata": {},
     "output_type": "execute_result"
    }
   ],
   "source": [
    "import pandas as pd\n",
    "\n",
    "\n",
    "agoda_df = pd.read_csv('./agoda_snapshot_2025-03-09.csv')\n",
    "agoda_df.count()"
   ]
  },
  {
   "cell_type": "code",
   "execution_count": 54,
   "metadata": {},
   "outputs": [
    {
     "data": {
      "text/plain": [
       "name                    26879\n",
       "discounted_price        26879\n",
       "original_price          26879\n",
       "star_rating             26879\n",
       "review_score            26879\n",
       "review_title            26879\n",
       "number_of_reviews       26879\n",
       "neighborhood            26879\n",
       "distance_from_center    26879\n",
       "free_cancellation       26879\n",
       "prepayment_needed       26879\n",
       "breakfast_included      26879\n",
       "time_to_travel          26879\n",
       "length_of_stay          26879\n",
       "snapshot_date           26879\n",
       "dtype: int64"
      ]
     },
     "execution_count": 54,
     "metadata": {},
     "output_type": "execute_result"
    }
   ],
   "source": [
    "agoda_df.dropna(how='any', inplace=True)\n",
    "agoda_df.count()"
   ]
  },
  {
   "cell_type": "code",
   "execution_count": 55,
   "metadata": {},
   "outputs": [
    {
     "data": {
      "text/plain": [
       "(breakfast_included\n",
       " False    13813\n",
       " True     13066\n",
       " Name: count, dtype: int64,\n",
       " prepayment_needed\n",
       " True     22048\n",
       " False     4831\n",
       " Name: count, dtype: int64,\n",
       " prepayment_needed\n",
       " True     22048\n",
       " False     4831\n",
       " Name: count, dtype: int64)"
      ]
     },
     "execution_count": 55,
     "metadata": {},
     "output_type": "execute_result"
    }
   ],
   "source": [
    "agoda_df['breakfast_included'].value_counts(),  agoda_df['prepayment_needed'].value_counts(),  agoda_df['prepayment_needed'].value_counts(),"
   ]
  },
  {
   "cell_type": "code",
   "execution_count": 56,
   "metadata": {},
   "outputs": [],
   "source": [
    "agoda_df['breakfast_included'] = agoda_df['breakfast_included'].astype(bool).astype(int)\n",
    "agoda_df['prepayment_needed'] = agoda_df['prepayment_needed'].astype(bool).astype(int)\n",
    "agoda_df['free_cancellation'] = agoda_df['free_cancellation'].astype(bool).astype(int)\n",
    "agoda_df.drop(columns=['review_title', 'neighborhood', 'original_price'], inplace=True)"
   ]
  },
  {
   "cell_type": "code",
   "execution_count": 57,
   "metadata": {},
   "outputs": [
    {
     "data": {
      "text/plain": [
       "(breakfast_included\n",
       " 0    13813\n",
       " 1    13066\n",
       " Name: count, dtype: int64,\n",
       " prepayment_needed\n",
       " 1    22048\n",
       " 0     4831\n",
       " Name: count, dtype: int64,\n",
       " free_cancellation\n",
       " 0    15433\n",
       " 1    11446\n",
       " Name: count, dtype: int64)"
      ]
     },
     "execution_count": 57,
     "metadata": {},
     "output_type": "execute_result"
    }
   ],
   "source": [
    "agoda_df['breakfast_included'].value_counts(),  agoda_df['prepayment_needed'].value_counts(),  agoda_df['free_cancellation'].value_counts(),"
   ]
  },
  {
   "cell_type": "code",
   "execution_count": 59,
   "metadata": {},
   "outputs": [],
   "source": [
    "agoda_df.to_csv('./processed_agoda_snapshot_2025-03-09.csv', index=False)"
   ]
  }
 ],
 "metadata": {
  "kernelspec": {
   "display_name": "DS-101-Final",
   "language": "python",
   "name": "python3"
  },
  "language_info": {
   "codemirror_mode": {
    "name": "ipython",
    "version": 3
   },
   "file_extension": ".py",
   "mimetype": "text/x-python",
   "name": "python",
   "nbconvert_exporter": "python",
   "pygments_lexer": "ipython3",
   "version": "3.12.8"
  }
 },
 "nbformat": 4,
 "nbformat_minor": 2
}
