{
 "cells": [
  {
   "cell_type": "code",
   "execution_count": 32,
   "metadata": {},
   "outputs": [
    {
     "name": "stdout",
     "output_type": "stream",
     "text": [
      "Collecting plotly\n",
      "  Downloading plotly-6.0.0-py3-none-any.whl.metadata (5.6 kB)\n",
      "Collecting narwhals>=1.15.1 (from plotly)\n",
      "  Downloading narwhals-1.25.0-py3-none-any.whl.metadata (10 kB)\n",
      "Requirement already satisfied: packaging in c:\\users\\hamamahome\\appdata\\roaming\\python\\python312\\site-packages (from plotly) (24.2)\n",
      "Downloading plotly-6.0.0-py3-none-any.whl (14.8 MB)\n",
      "   ---------------------------------------- 0.0/14.8 MB ? eta -:--:--\n",
      "    --------------------------------------- 0.3/14.8 MB ? eta -:--:--\n",
      "   ------- -------------------------------- 2.6/14.8 MB 10.8 MB/s eta 0:00:02\n",
      "   ----------------------------------- ---- 13.1/14.8 MB 29.3 MB/s eta 0:00:01\n",
      "   ---------------------------------------- 14.8/14.8 MB 30.0 MB/s eta 0:00:00\n",
      "Downloading narwhals-1.25.0-py3-none-any.whl (313 kB)\n",
      "Installing collected packages: narwhals, plotly\n",
      "Successfully installed narwhals-1.25.0 plotly-6.0.0\n"
     ]
    }
   ],
   "source": [
    "!pip install plotly"
   ]
  },
  {
   "cell_type": "code",
   "execution_count": 52,
   "metadata": {},
   "outputs": [],
   "source": [
    "import pandas as pd\n",
    "\n",
    "bookings = pd.read_csv('./bookings.csv')"
   ]
  },
  {
   "cell_type": "markdown",
   "metadata": {},
   "source": [
    "### Fix typings"
   ]
  },
  {
   "cell_type": "code",
   "execution_count": 53,
   "metadata": {},
   "outputs": [],
   "source": [
    "bookings['number_of_reviews'] = bookings['number_of_reviews'].str.replace(',', '', regex=True)\n",
    "bookings['number_of_reviews'] = pd.to_numeric(bookings['number_of_reviews'], errors='coerce')\n",
    "bookings['review_score'] = pd.to_numeric(bookings['review_score'], errors='coerce')\n",
    "bookings['original_price'] = pd.to_numeric(bookings['original_price'], errors='coerce')\n",
    "bookings['discounted_price'] = pd.to_numeric(bookings['discounted_price'], errors='coerce')"
   ]
  },
  {
   "cell_type": "markdown",
   "metadata": {},
   "source": [
    "### Reviews Distribution\n",
    "Group the review counts by snapshot dates, and the names of the hotels. the `number_of_reviews` will be a the same for the same hotel in a certain snapshot.   "
   ]
  },
  {
   "cell_type": "code",
   "execution_count": 4,
   "metadata": {},
   "outputs": [
    {
     "data": {
      "text/html": [
       "<div>\n",
       "<style scoped>\n",
       "    .dataframe tbody tr th:only-of-type {\n",
       "        vertical-align: middle;\n",
       "    }\n",
       "\n",
       "    .dataframe tbody tr th {\n",
       "        vertical-align: top;\n",
       "    }\n",
       "\n",
       "    .dataframe thead th {\n",
       "        text-align: right;\n",
       "    }\n",
       "</style>\n",
       "<table border=\"1\" class=\"dataframe\">\n",
       "  <thead>\n",
       "    <tr style=\"text-align: right;\">\n",
       "      <th></th>\n",
       "      <th>name</th>\n",
       "      <th>snapshot_date</th>\n",
       "      <th>number_of_reviews</th>\n",
       "    </tr>\n",
       "  </thead>\n",
       "  <tbody>\n",
       "    <tr>\n",
       "      <th>0</th>\n",
       "      <td>1 Hotel Central Park</td>\n",
       "      <td>2025-02-02</td>\n",
       "      <td>556.0</td>\n",
       "    </tr>\n",
       "    <tr>\n",
       "      <th>1</th>\n",
       "      <td>1 Hotel Central Park</td>\n",
       "      <td>2025-02-03</td>\n",
       "      <td>556.0</td>\n",
       "    </tr>\n",
       "    <tr>\n",
       "      <th>2</th>\n",
       "      <td>17John</td>\n",
       "      <td>2025-02-02</td>\n",
       "      <td>209.0</td>\n",
       "    </tr>\n",
       "    <tr>\n",
       "      <th>3</th>\n",
       "      <td>17John</td>\n",
       "      <td>2025-02-03</td>\n",
       "      <td>209.0</td>\n",
       "    </tr>\n",
       "    <tr>\n",
       "      <th>4</th>\n",
       "      <td>2 Bedroom Cozy Central Apartment</td>\n",
       "      <td>2025-02-02</td>\n",
       "      <td>8.0</td>\n",
       "    </tr>\n",
       "    <tr>\n",
       "      <th>...</th>\n",
       "      <td>...</td>\n",
       "      <td>...</td>\n",
       "      <td>...</td>\n",
       "    </tr>\n",
       "    <tr>\n",
       "      <th>711</th>\n",
       "      <td>citizenM New York Times Square</td>\n",
       "      <td>2025-02-03</td>\n",
       "      <td>3999.0</td>\n",
       "    </tr>\n",
       "    <tr>\n",
       "      <th>712</th>\n",
       "      <td>voco The Franklin New York, an IHG Hotel</td>\n",
       "      <td>2025-02-02</td>\n",
       "      <td>508.0</td>\n",
       "    </tr>\n",
       "    <tr>\n",
       "      <th>713</th>\n",
       "      <td>voco The Franklin New York, an IHG Hotel</td>\n",
       "      <td>2025-02-03</td>\n",
       "      <td>508.0</td>\n",
       "    </tr>\n",
       "    <tr>\n",
       "      <th>714</th>\n",
       "      <td>voco Times Square South New York, an IHG Hotel</td>\n",
       "      <td>2025-02-02</td>\n",
       "      <td>3803.0</td>\n",
       "    </tr>\n",
       "    <tr>\n",
       "      <th>715</th>\n",
       "      <td>voco Times Square South New York, an IHG Hotel</td>\n",
       "      <td>2025-02-03</td>\n",
       "      <td>3806.0</td>\n",
       "    </tr>\n",
       "  </tbody>\n",
       "</table>\n",
       "<p>716 rows × 3 columns</p>\n",
       "</div>"
      ],
      "text/plain": [
       "                                               name snapshot_date  \\\n",
       "0                              1 Hotel Central Park    2025-02-02   \n",
       "1                              1 Hotel Central Park    2025-02-03   \n",
       "2                                            17John    2025-02-02   \n",
       "3                                            17John    2025-02-03   \n",
       "4                  2 Bedroom Cozy Central Apartment    2025-02-02   \n",
       "..                                              ...           ...   \n",
       "711                  citizenM New York Times Square    2025-02-03   \n",
       "712        voco The Franklin New York, an IHG Hotel    2025-02-02   \n",
       "713        voco The Franklin New York, an IHG Hotel    2025-02-03   \n",
       "714  voco Times Square South New York, an IHG Hotel    2025-02-02   \n",
       "715  voco Times Square South New York, an IHG Hotel    2025-02-03   \n",
       "\n",
       "     number_of_reviews  \n",
       "0                556.0  \n",
       "1                556.0  \n",
       "2                209.0  \n",
       "3                209.0  \n",
       "4                  8.0  \n",
       "..                 ...  \n",
       "711             3999.0  \n",
       "712              508.0  \n",
       "713              508.0  \n",
       "714             3803.0  \n",
       "715             3806.0  \n",
       "\n",
       "[716 rows x 3 columns]"
      ]
     },
     "execution_count": 4,
     "metadata": {},
     "output_type": "execute_result"
    }
   ],
   "source": [
    "number_of_reviews = bookings.groupby(['name', 'snapshot_date'], as_index=False)['number_of_reviews'].first()\n",
    "number_of_reviews"
   ]
  },
  {
   "cell_type": "code",
   "execution_count": 54,
   "metadata": {},
   "outputs": [],
   "source": [
    "snapshot_dates = bookings['snapshot_date'].unique()"
   ]
  },
  {
   "cell_type": "code",
   "execution_count": 37,
   "metadata": {},
   "outputs": [
    {
     "data": {
      "application/vnd.plotly.v1+json": {
       "config": {
        "plotlyServerURL": "https://plot.ly"
       },
       "data": [
        {
         "autobinx": true,
         "name": "2025-02-02",
         "opacity": 0.5,
         "type": "histogram",
         "x": {
          "bdata": "AAAAAABggUAAAAAAACBqQAAAAAAAACBAAAAAAAAANEAAAAAAAAAUQAAAAAAAABRAAAAAAACAgUAAAAAAAPiEQAAAAAAAAABAAAAAAAAAHEAAAAAAAHynQAAAAAAAABRAAAAAAACuoUAAAAAAAHSZQAAAAAAA+JtAAAAAAABSuUAAAAAAAFCRQAAAAAAAAGRAAAAAAAAwgEAAAAAAAAAqQAAAAAAA9rZAAAAAAAAMkEAAAAAAAGG4QAAAAAAAxqFAAAAAAABIoEAAAAAAABiUQAAAAAAAuqFAAAAAAADwe0AAAAAAAFCVQAAAAAAAAABAAAAAAAA8kUAAAAAAAOiTQAAAAAAAbJdAAAAAAAAYhUAAAAAAACyRQAAAAAAAmJNAAAAAAACCskAAAAAAAEKvQAAAAAAAsJ9AAAAAAACyoEAAAAAAAJyhQAAAAAAAaIVAAAAAAAA4kEAAAAAAAH6pQAAAAAAApqNAAAAAAAC2skAAAAAAAPSvQAAAAAAAgHpAAAAAAAAANEAAAAAAAAiQQAAAAAAAAPA/AAAAAAAcm0AAAAAAAAiIQAAAAAAA7qBAAAAAAABomUAAAAAAAJqgQAAAAAAArKdAAAAAAAAYhEAAAAAAALB0QAAAAAAA1JZAAAAAAACOtUAAAAAAAGyZQAAAAAAAgqFAAAAAAAA0qEAAAAAAAADwPwAAAAAA0IJAAAAAAADslkAAAAAAAAAmQAAAAAAAWbBAAAAAAAAorEAAAAAAALyuQAAAAAAAnJpAAAAAAAC3uUAAAAAAAAXGQAAAAAAA0IJAAAAAAAAcl0AAAAAAANSVQAAAAAAAXqNAAAAAAABwlEAAAAAAAPiAQAAAAAAAQFRAAAAAAABUvUAAAAAAAAAYQAAAAAAAKq9AAAAAAAAIlUAAAAAAALexQAAAAAAABLZAAAAAAABskkAAAAAAAPSSQAAAAAAASJBAAAAAAADQf0AAAAAAAK+7QAAAAAAAI7NAAAAAAABMrEAAAAAAAFiEQAAAAAAAcIFAAAAAAAC8nkAAAAAAANCLQAAAAAAAlqhAAAAAAAAMn0AAAAAAAHihQAAAAAAAGJJAAAAAAAAgd0AAAAAAAF2xQAAAAAAAdJBAAAAAAAD8oEAAAAAAAMCcQAAAAAAA9JBAAAAAAAApukAAAAAAABiEQAAAAAAAHKZAAAAAAAAAo0AAAAAAAI6nQAAAAAAAuKlAAAAAAACMrUAAAAAAAAAcQAAAAAAAIHZAAAAAAAAQiUAAAAAAALSeQAAAAAAAwGBAAAAAAAC1s0AAAAAAAMycQAAAAACAMcFAAAAAAABQlUAAAAAAAAKkQAAAAAAAeK9AAAAAAADor0AAAAAAAEyhQAAAAAAAqIRAAAAAAADgp0AAAAAAAJiJQAAAAAAAXJJAAAAAAABCp0AAAAAAAOihQAAAAAAAmJ1AAAAAAABUm0AAAAAAAFysQAAAAAAAYJNAAAAAAADKp0AAAAAAAECeQAAAAAAAiJBAAAAAAAD4kkAAAAAAAEOxQAAAAAAASItAAAAAAAAQnUAAAAAAAEiDQAAAAAAAoHhAAAAAAAAIjkAAAAAAAKqzQAAAAAAAuIRAAAAAAAA2pkAAAAAAANyzQAAAAACAMMpAAAAAAACQd0AAAAAAAJiLQAAAAAAAOIBAAAAAAACWqEAAAAAAAGiVQAAAAAAAsIBAAAAAAAAQmEAAAAAAAO6gQAAAAAAAXJFAAAAAAABwiEAAAAAAAOiSQAAAAAAAzJdAAAAAAADuoUAAAAAAAIylQAAAAAAADqlAAAAAAAAAYUAAAAAAAIiBQAAAAAAAAAhAAAAAAACgaUAAAAAAAKSRQAAAAAAArJVAAAAAAAAYiUAAAAAAAOamQAAAAAAAHJtAAAAAAMCU0UAAAAAAgGLVQAAAAAAA/KdAAAAAAABwcUAAAAAAAPqjQAAAAAAA2JhAAAAAAADsm0AAAAAAAIKkQAAAAAAAgHBAAAAAAAAYqkAAAAAAALB/QAAAAAAATJdAAAAAAACgaEAAAAAAAE2wQAAAAAAAN7FAAAAAAADdsEAAAAAAAIBPQAAAAAAAAqRAAAAAAADsl0AAAAAAAAiJQAAAAAAAOIFAAAAAAAAAMkAAAAAAgAjHQAAAAAAAFJFAAAAAAABCt0AAAAAAAEyZQAAAAAAAAABAAAAAAAAALEAAAAAAAJSuQAAAAAAA4HdAAAAAAACgpEAAAAAAAKq1QAAAAAAAaqBAAAAAAADRvkAAAAAAANSRQAAAAAAAmI5AAAAAAACgkEAAAAAAAIiPQAAAAAAAbJFAAAAAAACOqEAAAAAAADKoQAAAAAAATJ9AAAAAAACInEAAAAAAAGSTQAAAAAAA0J5AAAAAAAB4kEAAAAAAAHyfQAAAAAAA8HFAAAAAAADMp0AAAAAAAPSqQAAAAAAABJZAAAAAAADMm0AAAAAAAKCXQAAAAAAAgJpAAAAAAAAALkAAAAAAACi9QAAAAAAAnLNAAAAAAACgdEAAAAAAAOipQAAAAAAAEqRAAAAAAAAwj0AAAAAAAF6qQAAAAACABslAAAAAAIAFxkAAAAAAAIjWQAAAAAAAAAhAAAAAAAAXuEAAAAAAANCaQAAAAAAAwIJAAAAAAAC4kkAAAAAAAJyQQAAAAAAABJlAAAAAAAD2oEAAAAAAAECGQAAAAAAA3JtAAAAAAAB6pUAAAAAAACC7QAAAAAAA3slAAAAAAABIvEAAAAAAAL6hQAAAAAAA8qJAAAAAAAAuqEAAAAAAAESiQAAAAAAAAPA/AAAAAABor0AAAAAAAAyYQAAAAAAAqIxAAAAAAAAYnEAAAAAAAJapQAAAAAAAnKlAAAAAAACAikAAAAAAAHiHQAAAAAAA9q5AAAAAAAAMkkAAAAAAAMyZQAAAAAAAmJ9AAAAAAABIk0AAAAAAABCjQAAAAAAA4HtAAAAAAAC4nEAAAAAAAABjQAAAAAAA8HdAAAAAAABdxUAAAAAAABBzQAAAAAAAOr5AAAAAAACYkkAAAAAAAJBzQAAAAAAAoJlAAAAAAABAU0AAAAAAAADwPwAAAAAAPqVAAAAAAACAikAAAAAAAICaQAAAAAAAgJlAAAAAAAAgt0AAAAAAAGCKQAAAAAAAgIlAAAAAAABtt0AAAAAAAJByQAAAAAAAVKVAAAAAAADmuEAAAAAAANyRQAAAAAAARJZAAAAAAADitEAAAAAAAPKjQAAAAAAAzJZAAAAAAABMl0AAAAAAAAKjQAAAAAAAfqFAAAAAAADXt0AAAAAAANiEQAAAAAAAtJpAAAAAAAD0kEAAAAAAAH3BQAAAAAAAaJJAAAAAAADgZEAAAAAAAJiTQAAAAAAAbqxAAAAAAADYl0AAAAAAAG6oQAAAAAAADKJAAAAAAADQfkAAAAAAAMCFQAAAAAAA/JFAAAAAAAB+sEAAAAAAAOu9QAAAAAAAQIlAAAAAAABQkkAAAAAAAJydQAAAAAAAnJtAAAAAAACgnUAAAAAAAEykQAAAAAAAhc5AAAAAAABgoEAAAAAAAFiUQAAAAAAAlKFAAAAAAADgm0AAAAAAACCRQAAAAAAAlJhAAAAAAAC4m0AAAAAAAHHCQAAAAAAAiIZAAAAAAAAwdUAAAAAAAOiHQAAAAAAAAPA/AAAAAAAA8D8AAAAAAGm9QAAAAAAADJpAAAAAAAAAXUAAAAAAAIyoQAAAAAAAoqpAAAAAAAB6pkAAAAAAAKiBQAAAAAAAKJZAAAAAAABwlUAAAAAAAKW5QAAAAAAAAJBAAAAAAIDqzUAAAAAAABCeQAAAAAAAAChAAAAAAACmokAAAAAAAG6rQAAAAAAAeIpAAAAAAADgqUAAAAAAADyvQAAAAAAAwH9AAAAAAAC2rUA=",
          "dtype": "f8"
         }
        },
        {
         "autobinx": true,
         "name": "2025-02-03",
         "opacity": 0.5,
         "type": "histogram",
         "x": {
          "bdata": "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",
          "dtype": "f8"
         }
        }
       ],
       "layout": {
        "barmode": "overlay",
        "height": 800,
        "legend": {
         "title": {
          "text": "Snapshot Date"
         }
        },
        "template": {
         "data": {
          "bar": [
           {
            "error_x": {
             "color": "#2a3f5f"
            },
            "error_y": {
             "color": "#2a3f5f"
            },
            "marker": {
             "line": {
              "color": "#E5ECF6",
              "width": 0.5
             },
             "pattern": {
              "fillmode": "overlay",
              "size": 10,
              "solidity": 0.2
             }
            },
            "type": "bar"
           }
          ],
          "barpolar": [
           {
            "marker": {
             "line": {
              "color": "#E5ECF6",
              "width": 0.5
             },
             "pattern": {
              "fillmode": "overlay",
              "size": 10,
              "solidity": 0.2
             }
            },
            "type": "barpolar"
           }
          ],
          "carpet": [
           {
            "aaxis": {
             "endlinecolor": "#2a3f5f",
             "gridcolor": "white",
             "linecolor": "white",
             "minorgridcolor": "white",
             "startlinecolor": "#2a3f5f"
            },
            "baxis": {
             "endlinecolor": "#2a3f5f",
             "gridcolor": "white",
             "linecolor": "white",
             "minorgridcolor": "white",
             "startlinecolor": "#2a3f5f"
            },
            "type": "carpet"
           }
          ],
          "choropleth": [
           {
            "colorbar": {
             "outlinewidth": 0,
             "ticks": ""
            },
            "type": "choropleth"
           }
          ],
          "contour": [
           {
            "colorbar": {
             "outlinewidth": 0,
             "ticks": ""
            },
            "colorscale": [
             [
              0,
              "#0d0887"
             ],
             [
              0.1111111111111111,
              "#46039f"
             ],
             [
              0.2222222222222222,
              "#7201a8"
             ],
             [
              0.3333333333333333,
              "#9c179e"
             ],
             [
              0.4444444444444444,
              "#bd3786"
             ],
             [
              0.5555555555555556,
              "#d8576b"
             ],
             [
              0.6666666666666666,
              "#ed7953"
             ],
             [
              0.7777777777777778,
              "#fb9f3a"
             ],
             [
              0.8888888888888888,
              "#fdca26"
             ],
             [
              1,
              "#f0f921"
             ]
            ],
            "type": "contour"
           }
          ],
          "contourcarpet": [
           {
            "colorbar": {
             "outlinewidth": 0,
             "ticks": ""
            },
            "type": "contourcarpet"
           }
          ],
          "heatmap": [
           {
            "colorbar": {
             "outlinewidth": 0,
             "ticks": ""
            },
            "colorscale": [
             [
              0,
              "#0d0887"
             ],
             [
              0.1111111111111111,
              "#46039f"
             ],
             [
              0.2222222222222222,
              "#7201a8"
             ],
             [
              0.3333333333333333,
              "#9c179e"
             ],
             [
              0.4444444444444444,
              "#bd3786"
             ],
             [
              0.5555555555555556,
              "#d8576b"
             ],
             [
              0.6666666666666666,
              "#ed7953"
             ],
             [
              0.7777777777777778,
              "#fb9f3a"
             ],
             [
              0.8888888888888888,
              "#fdca26"
             ],
             [
              1,
              "#f0f921"
             ]
            ],
            "type": "heatmap"
           }
          ],
          "histogram": [
           {
            "marker": {
             "pattern": {
              "fillmode": "overlay",
              "size": 10,
              "solidity": 0.2
             }
            },
            "type": "histogram"
           }
          ],
          "histogram2d": [
           {
            "colorbar": {
             "outlinewidth": 0,
             "ticks": ""
            },
            "colorscale": [
             [
              0,
              "#0d0887"
             ],
             [
              0.1111111111111111,
              "#46039f"
             ],
             [
              0.2222222222222222,
              "#7201a8"
             ],
             [
              0.3333333333333333,
              "#9c179e"
             ],
             [
              0.4444444444444444,
              "#bd3786"
             ],
             [
              0.5555555555555556,
              "#d8576b"
             ],
             [
              0.6666666666666666,
              "#ed7953"
             ],
             [
              0.7777777777777778,
              "#fb9f3a"
             ],
             [
              0.8888888888888888,
              "#fdca26"
             ],
             [
              1,
              "#f0f921"
             ]
            ],
            "type": "histogram2d"
           }
          ],
          "histogram2dcontour": [
           {
            "colorbar": {
             "outlinewidth": 0,
             "ticks": ""
            },
            "colorscale": [
             [
              0,
              "#0d0887"
             ],
             [
              0.1111111111111111,
              "#46039f"
             ],
             [
              0.2222222222222222,
              "#7201a8"
             ],
             [
              0.3333333333333333,
              "#9c179e"
             ],
             [
              0.4444444444444444,
              "#bd3786"
             ],
             [
              0.5555555555555556,
              "#d8576b"
             ],
             [
              0.6666666666666666,
              "#ed7953"
             ],
             [
              0.7777777777777778,
              "#fb9f3a"
             ],
             [
              0.8888888888888888,
              "#fdca26"
             ],
             [
              1,
              "#f0f921"
             ]
            ],
            "type": "histogram2dcontour"
           }
          ],
          "mesh3d": [
           {
            "colorbar": {
             "outlinewidth": 0,
             "ticks": ""
            },
            "type": "mesh3d"
           }
          ],
          "parcoords": [
           {
            "line": {
             "colorbar": {
              "outlinewidth": 0,
              "ticks": ""
             }
            },
            "type": "parcoords"
           }
          ],
          "pie": [
           {
            "automargin": true,
            "type": "pie"
           }
          ],
          "scatter": [
           {
            "fillpattern": {
             "fillmode": "overlay",
             "size": 10,
             "solidity": 0.2
            },
            "type": "scatter"
           }
          ],
          "scatter3d": [
           {
            "line": {
             "colorbar": {
              "outlinewidth": 0,
              "ticks": ""
             }
            },
            "marker": {
             "colorbar": {
              "outlinewidth": 0,
              "ticks": ""
             }
            },
            "type": "scatter3d"
           }
          ],
          "scattercarpet": [
           {
            "marker": {
             "colorbar": {
              "outlinewidth": 0,
              "ticks": ""
             }
            },
            "type": "scattercarpet"
           }
          ],
          "scattergeo": [
           {
            "marker": {
             "colorbar": {
              "outlinewidth": 0,
              "ticks": ""
             }
            },
            "type": "scattergeo"
           }
          ],
          "scattergl": [
           {
            "marker": {
             "colorbar": {
              "outlinewidth": 0,
              "ticks": ""
             }
            },
            "type": "scattergl"
           }
          ],
          "scattermap": [
           {
            "marker": {
             "colorbar": {
              "outlinewidth": 0,
              "ticks": ""
             }
            },
            "type": "scattermap"
           }
          ],
          "scattermapbox": [
           {
            "marker": {
             "colorbar": {
              "outlinewidth": 0,
              "ticks": ""
             }
            },
            "type": "scattermapbox"
           }
          ],
          "scatterpolar": [
           {
            "marker": {
             "colorbar": {
              "outlinewidth": 0,
              "ticks": ""
             }
            },
            "type": "scatterpolar"
           }
          ],
          "scatterpolargl": [
           {
            "marker": {
             "colorbar": {
              "outlinewidth": 0,
              "ticks": ""
             }
            },
            "type": "scatterpolargl"
           }
          ],
          "scatterternary": [
           {
            "marker": {
             "colorbar": {
              "outlinewidth": 0,
              "ticks": ""
             }
            },
            "type": "scatterternary"
           }
          ],
          "surface": [
           {
            "colorbar": {
             "outlinewidth": 0,
             "ticks": ""
            },
            "colorscale": [
             [
              0,
              "#0d0887"
             ],
             [
              0.1111111111111111,
              "#46039f"
             ],
             [
              0.2222222222222222,
              "#7201a8"
             ],
             [
              0.3333333333333333,
              "#9c179e"
             ],
             [
              0.4444444444444444,
              "#bd3786"
             ],
             [
              0.5555555555555556,
              "#d8576b"
             ],
             [
              0.6666666666666666,
              "#ed7953"
             ],
             [
              0.7777777777777778,
              "#fb9f3a"
             ],
             [
              0.8888888888888888,
              "#fdca26"
             ],
             [
              1,
              "#f0f921"
             ]
            ],
            "type": "surface"
           }
          ],
          "table": [
           {
            "cells": {
             "fill": {
              "color": "#EBF0F8"
             },
             "line": {
              "color": "white"
             }
            },
            "header": {
             "fill": {
              "color": "#C8D4E3"
             },
             "line": {
              "color": "white"
             }
            },
            "type": "table"
           }
          ]
         },
         "layout": {
          "annotationdefaults": {
           "arrowcolor": "#2a3f5f",
           "arrowhead": 0,
           "arrowwidth": 1
          },
          "autotypenumbers": "strict",
          "coloraxis": {
           "colorbar": {
            "outlinewidth": 0,
            "ticks": ""
           }
          },
          "colorscale": {
           "diverging": [
            [
             0,
             "#8e0152"
            ],
            [
             0.1,
             "#c51b7d"
            ],
            [
             0.2,
             "#de77ae"
            ],
            [
             0.3,
             "#f1b6da"
            ],
            [
             0.4,
             "#fde0ef"
            ],
            [
             0.5,
             "#f7f7f7"
            ],
            [
             0.6,
             "#e6f5d0"
            ],
            [
             0.7,
             "#b8e186"
            ],
            [
             0.8,
             "#7fbc41"
            ],
            [
             0.9,
             "#4d9221"
            ],
            [
             1,
             "#276419"
            ]
           ],
           "sequential": [
            [
             0,
             "#0d0887"
            ],
            [
             0.1111111111111111,
             "#46039f"
            ],
            [
             0.2222222222222222,
             "#7201a8"
            ],
            [
             0.3333333333333333,
             "#9c179e"
            ],
            [
             0.4444444444444444,
             "#bd3786"
            ],
            [
             0.5555555555555556,
             "#d8576b"
            ],
            [
             0.6666666666666666,
             "#ed7953"
            ],
            [
             0.7777777777777778,
             "#fb9f3a"
            ],
            [
             0.8888888888888888,
             "#fdca26"
            ],
            [
             1,
             "#f0f921"
            ]
           ],
           "sequentialminus": [
            [
             0,
             "#0d0887"
            ],
            [
             0.1111111111111111,
             "#46039f"
            ],
            [
             0.2222222222222222,
             "#7201a8"
            ],
            [
             0.3333333333333333,
             "#9c179e"
            ],
            [
             0.4444444444444444,
             "#bd3786"
            ],
            [
             0.5555555555555556,
             "#d8576b"
            ],
            [
             0.6666666666666666,
             "#ed7953"
            ],
            [
             0.7777777777777778,
             "#fb9f3a"
            ],
            [
             0.8888888888888888,
             "#fdca26"
            ],
            [
             1,
             "#f0f921"
            ]
           ]
          },
          "colorway": [
           "#636efa",
           "#EF553B",
           "#00cc96",
           "#ab63fa",
           "#FFA15A",
           "#19d3f3",
           "#FF6692",
           "#B6E880",
           "#FF97FF",
           "#FECB52"
          ],
          "font": {
           "color": "#2a3f5f"
          },
          "geo": {
           "bgcolor": "white",
           "lakecolor": "white",
           "landcolor": "#E5ECF6",
           "showlakes": true,
           "showland": true,
           "subunitcolor": "white"
          },
          "hoverlabel": {
           "align": "left"
          },
          "hovermode": "closest",
          "mapbox": {
           "style": "light"
          },
          "paper_bgcolor": "white",
          "plot_bgcolor": "#E5ECF6",
          "polar": {
           "angularaxis": {
            "gridcolor": "white",
            "linecolor": "white",
            "ticks": ""
           },
           "bgcolor": "#E5ECF6",
           "radialaxis": {
            "gridcolor": "white",
            "linecolor": "white",
            "ticks": ""
           }
          },
          "scene": {
           "xaxis": {
            "backgroundcolor": "#E5ECF6",
            "gridcolor": "white",
            "gridwidth": 2,
            "linecolor": "white",
            "showbackground": true,
            "ticks": "",
            "zerolinecolor": "white"
           },
           "yaxis": {
            "backgroundcolor": "#E5ECF6",
            "gridcolor": "white",
            "gridwidth": 2,
            "linecolor": "white",
            "showbackground": true,
            "ticks": "",
            "zerolinecolor": "white"
           },
           "zaxis": {
            "backgroundcolor": "#E5ECF6",
            "gridcolor": "white",
            "gridwidth": 2,
            "linecolor": "white",
            "showbackground": true,
            "ticks": "",
            "zerolinecolor": "white"
           }
          },
          "shapedefaults": {
           "line": {
            "color": "#2a3f5f"
           }
          },
          "ternary": {
           "aaxis": {
            "gridcolor": "white",
            "linecolor": "white",
            "ticks": ""
           },
           "baxis": {
            "gridcolor": "white",
            "linecolor": "white",
            "ticks": ""
           },
           "bgcolor": "#E5ECF6",
           "caxis": {
            "gridcolor": "white",
            "linecolor": "white",
            "ticks": ""
           }
          },
          "title": {
           "x": 0.05
          },
          "xaxis": {
           "automargin": true,
           "gridcolor": "white",
           "linecolor": "white",
           "ticks": "",
           "title": {
            "standoff": 15
           },
           "zerolinecolor": "white",
           "zerolinewidth": 2
          },
          "yaxis": {
           "automargin": true,
           "gridcolor": "white",
           "linecolor": "white",
           "ticks": "",
           "title": {
            "standoff": 15
           },
           "zerolinecolor": "white",
           "zerolinewidth": 2
          }
         }
        },
        "title": {
         "text": "Distribution of Number of Reviews for Each Snapshot Date"
        },
        "width": 1400,
        "xaxis": {
         "title": {
          "text": "Number of Reviews"
         }
        },
        "yaxis": {
         "title": {
          "text": "Frequency"
         }
        }
       }
      }
     },
     "metadata": {},
     "output_type": "display_data"
    }
   ],
   "source": [
    "import plotly.graph_objects as go\n",
    "\n",
    "fig = go.Figure()\n",
    "\n",
    "for date in snapshot_dates:\n",
    "    data = number_of_reviews[number_of_reviews['snapshot_date'] == date]['number_of_reviews'].dropna()\n",
    "    fig.add_trace(go.Histogram(x=data, name=str(date), opacity=0.5, autobinx=True))\n",
    "\n",
    "# Update layout for better visualization\n",
    "fig.update_layout(\n",
    "    title= \"Distribution of Number of Reviews for Each Snapshot Date\",\n",
    "    xaxis_title=\"Number of Reviews\",\n",
    "    yaxis_title=\"Frequency\",\n",
    "    barmode=\"overlay\",  # Makes histograms overlap\n",
    "    legend_title=\"Snapshot Date\",\n",
    "    width=1400,  # Increase figure width\n",
    "    height=800   # Increase figure height\n",
    ")\n",
    "\n",
    "# Show interactive plot\n",
    "fig.show()"
   ]
  },
  {
   "cell_type": "code",
   "execution_count": 50,
   "metadata": {},
   "outputs": [
    {
     "data": {
      "application/vnd.plotly.v1+json": {
       "config": {
        "plotlyServerURL": "https://plot.ly"
       },
       "data": [
        {
         "bingroup": "100",
         "name": "2025-02-02",
         "opacity": 0.5,
         "type": "histogram",
         "x": {
          "bdata": "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",
          "dtype": "f8"
         }
        },
        {
         "bingroup": "100",
         "name": "2025-02-03",
         "opacity": 0.5,
         "type": "histogram",
         "x": {
          "bdata": "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",
          "dtype": "f8"
         }
        }
       ],
       "layout": {
        "barmode": "overlay",
        "height": 600,
        "legend": {
         "title": {
          "text": "Snapshot Date"
         }
        },
        "template": {
         "data": {
          "bar": [
           {
            "error_x": {
             "color": "#2a3f5f"
            },
            "error_y": {
             "color": "#2a3f5f"
            },
            "marker": {
             "line": {
              "color": "#E5ECF6",
              "width": 0.5
             },
             "pattern": {
              "fillmode": "overlay",
              "size": 10,
              "solidity": 0.2
             }
            },
            "type": "bar"
           }
          ],
          "barpolar": [
           {
            "marker": {
             "line": {
              "color": "#E5ECF6",
              "width": 0.5
             },
             "pattern": {
              "fillmode": "overlay",
              "size": 10,
              "solidity": 0.2
             }
            },
            "type": "barpolar"
           }
          ],
          "carpet": [
           {
            "aaxis": {
             "endlinecolor": "#2a3f5f",
             "gridcolor": "white",
             "linecolor": "white",
             "minorgridcolor": "white",
             "startlinecolor": "#2a3f5f"
            },
            "baxis": {
             "endlinecolor": "#2a3f5f",
             "gridcolor": "white",
             "linecolor": "white",
             "minorgridcolor": "white",
             "startlinecolor": "#2a3f5f"
            },
            "type": "carpet"
           }
          ],
          "choropleth": [
           {
            "colorbar": {
             "outlinewidth": 0,
             "ticks": ""
            },
            "type": "choropleth"
           }
          ],
          "contour": [
           {
            "colorbar": {
             "outlinewidth": 0,
             "ticks": ""
            },
            "colorscale": [
             [
              0,
              "#0d0887"
             ],
             [
              0.1111111111111111,
              "#46039f"
             ],
             [
              0.2222222222222222,
              "#7201a8"
             ],
             [
              0.3333333333333333,
              "#9c179e"
             ],
             [
              0.4444444444444444,
              "#bd3786"
             ],
             [
              0.5555555555555556,
              "#d8576b"
             ],
             [
              0.6666666666666666,
              "#ed7953"
             ],
             [
              0.7777777777777778,
              "#fb9f3a"
             ],
             [
              0.8888888888888888,
              "#fdca26"
             ],
             [
              1,
              "#f0f921"
             ]
            ],
            "type": "contour"
           }
          ],
          "contourcarpet": [
           {
            "colorbar": {
             "outlinewidth": 0,
             "ticks": ""
            },
            "type": "contourcarpet"
           }
          ],
          "heatmap": [
           {
            "colorbar": {
             "outlinewidth": 0,
             "ticks": ""
            },
            "colorscale": [
             [
              0,
              "#0d0887"
             ],
             [
              0.1111111111111111,
              "#46039f"
             ],
             [
              0.2222222222222222,
              "#7201a8"
             ],
             [
              0.3333333333333333,
              "#9c179e"
             ],
             [
              0.4444444444444444,
              "#bd3786"
             ],
             [
              0.5555555555555556,
              "#d8576b"
             ],
             [
              0.6666666666666666,
              "#ed7953"
             ],
             [
              0.7777777777777778,
              "#fb9f3a"
             ],
             [
              0.8888888888888888,
              "#fdca26"
             ],
             [
              1,
              "#f0f921"
             ]
            ],
            "type": "heatmap"
           }
          ],
          "histogram": [
           {
            "marker": {
             "pattern": {
              "fillmode": "overlay",
              "size": 10,
              "solidity": 0.2
             }
            },
            "type": "histogram"
           }
          ],
          "histogram2d": [
           {
            "colorbar": {
             "outlinewidth": 0,
             "ticks": ""
            },
            "colorscale": [
             [
              0,
              "#0d0887"
             ],
             [
              0.1111111111111111,
              "#46039f"
             ],
             [
              0.2222222222222222,
              "#7201a8"
             ],
             [
              0.3333333333333333,
              "#9c179e"
             ],
             [
              0.4444444444444444,
              "#bd3786"
             ],
             [
              0.5555555555555556,
              "#d8576b"
             ],
             [
              0.6666666666666666,
              "#ed7953"
             ],
             [
              0.7777777777777778,
              "#fb9f3a"
             ],
             [
              0.8888888888888888,
              "#fdca26"
             ],
             [
              1,
              "#f0f921"
             ]
            ],
            "type": "histogram2d"
           }
          ],
          "histogram2dcontour": [
           {
            "colorbar": {
             "outlinewidth": 0,
             "ticks": ""
            },
            "colorscale": [
             [
              0,
              "#0d0887"
             ],
             [
              0.1111111111111111,
              "#46039f"
             ],
             [
              0.2222222222222222,
              "#7201a8"
             ],
             [
              0.3333333333333333,
              "#9c179e"
             ],
             [
              0.4444444444444444,
              "#bd3786"
             ],
             [
              0.5555555555555556,
              "#d8576b"
             ],
             [
              0.6666666666666666,
              "#ed7953"
             ],
             [
              0.7777777777777778,
              "#fb9f3a"
             ],
             [
              0.8888888888888888,
              "#fdca26"
             ],
             [
              1,
              "#f0f921"
             ]
            ],
            "type": "histogram2dcontour"
           }
          ],
          "mesh3d": [
           {
            "colorbar": {
             "outlinewidth": 0,
             "ticks": ""
            },
            "type": "mesh3d"
           }
          ],
          "parcoords": [
           {
            "line": {
             "colorbar": {
              "outlinewidth": 0,
              "ticks": ""
             }
            },
            "type": "parcoords"
           }
          ],
          "pie": [
           {
            "automargin": true,
            "type": "pie"
           }
          ],
          "scatter": [
           {
            "fillpattern": {
             "fillmode": "overlay",
             "size": 10,
             "solidity": 0.2
            },
            "type": "scatter"
           }
          ],
          "scatter3d": [
           {
            "line": {
             "colorbar": {
              "outlinewidth": 0,
              "ticks": ""
             }
            },
            "marker": {
             "colorbar": {
              "outlinewidth": 0,
              "ticks": ""
             }
            },
            "type": "scatter3d"
           }
          ],
          "scattercarpet": [
           {
            "marker": {
             "colorbar": {
              "outlinewidth": 0,
              "ticks": ""
             }
            },
            "type": "scattercarpet"
           }
          ],
          "scattergeo": [
           {
            "marker": {
             "colorbar": {
              "outlinewidth": 0,
              "ticks": ""
             }
            },
            "type": "scattergeo"
           }
          ],
          "scattergl": [
           {
            "marker": {
             "colorbar": {
              "outlinewidth": 0,
              "ticks": ""
             }
            },
            "type": "scattergl"
           }
          ],
          "scattermap": [
           {
            "marker": {
             "colorbar": {
              "outlinewidth": 0,
              "ticks": ""
             }
            },
            "type": "scattermap"
           }
          ],
          "scattermapbox": [
           {
            "marker": {
             "colorbar": {
              "outlinewidth": 0,
              "ticks": ""
             }
            },
            "type": "scattermapbox"
           }
          ],
          "scatterpolar": [
           {
            "marker": {
             "colorbar": {
              "outlinewidth": 0,
              "ticks": ""
             }
            },
            "type": "scatterpolar"
           }
          ],
          "scatterpolargl": [
           {
            "marker": {
             "colorbar": {
              "outlinewidth": 0,
              "ticks": ""
             }
            },
            "type": "scatterpolargl"
           }
          ],
          "scatterternary": [
           {
            "marker": {
             "colorbar": {
              "outlinewidth": 0,
              "ticks": ""
             }
            },
            "type": "scatterternary"
           }
          ],
          "surface": [
           {
            "colorbar": {
             "outlinewidth": 0,
             "ticks": ""
            },
            "colorscale": [
             [
              0,
              "#0d0887"
             ],
             [
              0.1111111111111111,
              "#46039f"
             ],
             [
              0.2222222222222222,
              "#7201a8"
             ],
             [
              0.3333333333333333,
              "#9c179e"
             ],
             [
              0.4444444444444444,
              "#bd3786"
             ],
             [
              0.5555555555555556,
              "#d8576b"
             ],
             [
              0.6666666666666666,
              "#ed7953"
             ],
             [
              0.7777777777777778,
              "#fb9f3a"
             ],
             [
              0.8888888888888888,
              "#fdca26"
             ],
             [
              1,
              "#f0f921"
             ]
            ],
            "type": "surface"
           }
          ],
          "table": [
           {
            "cells": {
             "fill": {
              "color": "#EBF0F8"
             },
             "line": {
              "color": "white"
             }
            },
            "header": {
             "fill": {
              "color": "#C8D4E3"
             },
             "line": {
              "color": "white"
             }
            },
            "type": "table"
           }
          ]
         },
         "layout": {
          "annotationdefaults": {
           "arrowcolor": "#2a3f5f",
           "arrowhead": 0,
           "arrowwidth": 1
          },
          "autotypenumbers": "strict",
          "coloraxis": {
           "colorbar": {
            "outlinewidth": 0,
            "ticks": ""
           }
          },
          "colorscale": {
           "diverging": [
            [
             0,
             "#8e0152"
            ],
            [
             0.1,
             "#c51b7d"
            ],
            [
             0.2,
             "#de77ae"
            ],
            [
             0.3,
             "#f1b6da"
            ],
            [
             0.4,
             "#fde0ef"
            ],
            [
             0.5,
             "#f7f7f7"
            ],
            [
             0.6,
             "#e6f5d0"
            ],
            [
             0.7,
             "#b8e186"
            ],
            [
             0.8,
             "#7fbc41"
            ],
            [
             0.9,
             "#4d9221"
            ],
            [
             1,
             "#276419"
            ]
           ],
           "sequential": [
            [
             0,
             "#0d0887"
            ],
            [
             0.1111111111111111,
             "#46039f"
            ],
            [
             0.2222222222222222,
             "#7201a8"
            ],
            [
             0.3333333333333333,
             "#9c179e"
            ],
            [
             0.4444444444444444,
             "#bd3786"
            ],
            [
             0.5555555555555556,
             "#d8576b"
            ],
            [
             0.6666666666666666,
             "#ed7953"
            ],
            [
             0.7777777777777778,
             "#fb9f3a"
            ],
            [
             0.8888888888888888,
             "#fdca26"
            ],
            [
             1,
             "#f0f921"
            ]
           ],
           "sequentialminus": [
            [
             0,
             "#0d0887"
            ],
            [
             0.1111111111111111,
             "#46039f"
            ],
            [
             0.2222222222222222,
             "#7201a8"
            ],
            [
             0.3333333333333333,
             "#9c179e"
            ],
            [
             0.4444444444444444,
             "#bd3786"
            ],
            [
             0.5555555555555556,
             "#d8576b"
            ],
            [
             0.6666666666666666,
             "#ed7953"
            ],
            [
             0.7777777777777778,
             "#fb9f3a"
            ],
            [
             0.8888888888888888,
             "#fdca26"
            ],
            [
             1,
             "#f0f921"
            ]
           ]
          },
          "colorway": [
           "#636efa",
           "#EF553B",
           "#00cc96",
           "#ab63fa",
           "#FFA15A",
           "#19d3f3",
           "#FF6692",
           "#B6E880",
           "#FF97FF",
           "#FECB52"
          ],
          "font": {
           "color": "#2a3f5f"
          },
          "geo": {
           "bgcolor": "white",
           "lakecolor": "white",
           "landcolor": "#E5ECF6",
           "showlakes": true,
           "showland": true,
           "subunitcolor": "white"
          },
          "hoverlabel": {
           "align": "left"
          },
          "hovermode": "closest",
          "mapbox": {
           "style": "light"
          },
          "paper_bgcolor": "white",
          "plot_bgcolor": "#E5ECF6",
          "polar": {
           "angularaxis": {
            "gridcolor": "white",
            "linecolor": "white",
            "ticks": ""
           },
           "bgcolor": "#E5ECF6",
           "radialaxis": {
            "gridcolor": "white",
            "linecolor": "white",
            "ticks": ""
           }
          },
          "scene": {
           "xaxis": {
            "backgroundcolor": "#E5ECF6",
            "gridcolor": "white",
            "gridwidth": 2,
            "linecolor": "white",
            "showbackground": true,
            "ticks": "",
            "zerolinecolor": "white"
           },
           "yaxis": {
            "backgroundcolor": "#E5ECF6",
            "gridcolor": "white",
            "gridwidth": 2,
            "linecolor": "white",
            "showbackground": true,
            "ticks": "",
            "zerolinecolor": "white"
           },
           "zaxis": {
            "backgroundcolor": "#E5ECF6",
            "gridcolor": "white",
            "gridwidth": 2,
            "linecolor": "white",
            "showbackground": true,
            "ticks": "",
            "zerolinecolor": "white"
           }
          },
          "shapedefaults": {
           "line": {
            "color": "#2a3f5f"
           }
          },
          "ternary": {
           "aaxis": {
            "gridcolor": "white",
            "linecolor": "white",
            "ticks": ""
           },
           "baxis": {
            "gridcolor": "white",
            "linecolor": "white",
            "ticks": ""
           },
           "bgcolor": "#E5ECF6",
           "caxis": {
            "gridcolor": "white",
            "linecolor": "white",
            "ticks": ""
           }
          },
          "title": {
           "x": 0.05
          },
          "xaxis": {
           "automargin": true,
           "gridcolor": "white",
           "linecolor": "white",
           "ticks": "",
           "title": {
            "standoff": 15
           },
           "zerolinecolor": "white",
           "zerolinewidth": 2
          },
          "yaxis": {
           "automargin": true,
           "gridcolor": "white",
           "linecolor": "white",
           "ticks": "",
           "title": {
            "standoff": 15
           },
           "zerolinecolor": "white",
           "zerolinewidth": 2
          }
         }
        },
        "title": {
         "text": "Distribution of Review Scores for Each Snapshot Date"
        },
        "width": 1000,
        "xaxis": {
         "title": {
          "text": "Review Score"
         }
        },
        "yaxis": {
         "title": {
          "text": "Frequency"
         }
        }
       }
      }
     },
     "metadata": {},
     "output_type": "display_data"
    }
   ],
   "source": [
    "# Drop NaN values from 'review_score'\n",
    "\n",
    "import plotly.express as px\n",
    "\n",
    "review_scores = bookings.groupby(['name', 'snapshot_date'], as_index=False)['review_score'].first()\n",
    "\n",
    "# Create subplots for each snapshot date\n",
    "fig = go.Figure()\n",
    "\n",
    "for date in snapshot_dates:\n",
    "    data = review_scores[review_scores['snapshot_date'] == date]['review_score'].dropna()\n",
    "    fig.add_trace(go.Histogram(x=data, name=str(date), opacity=0.5, bingroup=100))\n",
    "\n",
    "# Update layout to separate the graphs\n",
    "fig.update_layout(\n",
    "    title=\"Distribution of Review Scores for Each Snapshot Date\",\n",
    "    xaxis_title=\"Review Score\",\n",
    "    yaxis_title=\"Frequency\",\n",
    "    barmode='overlay',  # Ensures histograms are separate\n",
    "    legend_title=\"Snapshot Date\",\n",
    "    width=1000,\n",
    "    height=600\n",
    ")\n",
    "\n",
    "# Show interactive plot\n",
    "fig.show()"
   ]
  },
  {
   "cell_type": "code",
   "execution_count": 57,
   "metadata": {},
   "outputs": [
    {
     "data": {
      "application/vnd.plotly.v1+json": {
       "config": {
        "plotlyServerURL": "https://plot.ly"
       },
       "data": [
        {
         "name": "Original Price - 2025-02-02",
         "opacity": 0.5,
         "type": "histogram",
         "x": {
          "bdata": "9wmuBT4DXwJGAn8CqQLnAMwCOgLoALABnwH5AGcCIAKsAacC2QT2AHAB4QKVAaoFxgCZANEA5wB2Aa0AFgUkBHgDRgGCAFwB8wTFAJsAXAJBAVgE2QHTAI8B7gBJArQA/gFZAQMBXgnEBNoBgQDcAAUB+QOjAAED9QWqAgkECQRCAqMHlwFWAAEBngCYAKMA8QKyAJgAsADEBrsBFgGGAzkFDQEqAW8CpgB5APYArgBzAo8CFwJ0AFkDxwCYALkBBwKLASICfwGCAKYA9QFMB08F7Ad/AoUA0QDRAPQBiwGYAEQBdAG0AbwDrQQdCCEJggd9A7sG/AGeAn8E7gF3AKQAugDQAN4ANAGuAJYBugBqALgC9gCMAFgB4gB4AbwAWgG3AI4DCAbLALEARQHJAe4A3AAqAfwDXgGrALkC7wDRAMUA3QB/AdUGVACzAHcAggCcAU8BGAPmAEMBHAHXBMsC2QDGAF8CrgA4AccAigjBByQBcwDAAFwBEQFTAfoAlQCiAE8DpADbAUECuwCCAdABCQHAAHwAHRzRAdoCqAAdATcCfgbBAFQCEQEhBK4AOwJbAvMAuwDiBSEBEwHjAocDZgGBCcABIQGxAbsACgGTA7oAAASDAegDPAJoBeAAjACCAYEA1wMkAbEA+wI+BR0ChwU/AZoAlgEtCLkFIQUkAYEA6ABrAZcGRAKPBg0DXQGhBJ4ACgMHAbIBjACBAmAI6AABAXABrwEXA6sAnQEeA6ECQgPBAVsCFAK6AyMNmwBlAScBDgaOAC4BSAHsACMDjACjAEICngFTAegEswCKAZYAAQH5AIsAGgHPAOwAugB1AcAIhQLSB4ACeQUXCcEEVwO7AfsCdQOmAY0AiwbeA4cFqQCsAocA+AUXBHsDHgGeAqAAMAOGAbMKpAfeMekCswLTAHwAmgDRAPIATQG3A+oA8QEAATkKCQKQAB0CxQHRANEAtgHFAA==",
          "dtype": "i2"
         }
        },
        {
         "name": "Discounted Price - 2025-02-02",
         "opacity": 0.3,
         "type": "histogram",
         "x": {
          "bdata": "5AauBT4DXwJGAn8CqQLnAMwCIQLSALABnwH5AGcC3AFoAacC2QT2AHAB4QKVAaoFxgCZANEA5wBLAYMAFgUkBHgDRgGCAFwB8wS8AJsA8QFBAVgE2QHTADoB7gBJArQAmQE+AQMBXgnEBNoBgQDcAAUB+QOjAAED9QWqAgkECQTQAaMHlwFWAAEBngCYAKMA8QKyAJgAsADEBnIBFgGGAzkFDQEqAW8CpgB5APYArgBzAo8CFwJ0AFkDxwCYALkBBwKLASICfwFvAKYA9QFMB08F7Ad/AoUA0QDRAPQBiwGYAEQBdAG0AbwDrQQdCCEJggd9A7sGmQGeAg0E7gF3AKQAugDQAN4ANAGuACkBugBqAEAC9gCMAFgB4gB4AbwAWgG3AI4DCAbLALEARQHJAbEAqQAqAfwDXgGrAIcC7wDRAMUA3QB/AdUGVACzAHcAggBfAU8BGAPmAEMBHAHXBMsC2QDGAF8CrgA4AbgAigjBB9oAcwCaAFwBEQFTAfoAlQCiAE8DpADbAUECsgCCAbYBCQHAAHwATxnRAYgCqADrADcCfgaxAPcBEQGTA64AOwJbAvMAuwDiBSEBEwHjAocDZgGBCcABIQGxAbsACgGTA7oAeAODAasD3AFoBeAAjACCAYEA1wMkAbEA+wI+Bc0BhwU/AZoAlgEtCLkFfAPcAIEA6ABrAZcGIgKPBqgCXQGhBJ4ACgMHAWYBjACBAp0HxQABAXABrwEXA6sANwEeA6ECQgPBAVsC4gG6AyMNmwBlAScBDgaAAC4BSAGyALYCeACjAEICngFTAegEswCKAZYAAQH5AIsAGgHPALIAugB1AeIHhQIlB4ACOwVIB8EEVwO7AfsCdQN8AY0A/wXeAxIFqQA6AocA+AVcA3sDHgGeAqAAMAOGAbMKpAdYI+kCswLTAHwAmgDRAPIATQG3A+oA8QHYAHQJ3gGQAB0CxQHRANEAtgHFAA==",
          "dtype": "i2"
         }
        },
        {
         "name": "Original Price - 2025-02-03",
         "opacity": 0.5,
         "type": "histogram",
         "x": {
          "bdata": "zw2hBJoCXwIbAqkCpQEIBsoCGQKWAPkANwSXAagD7AGxAmgCcAHhApUBGwIOAd8A9gDnALsA5QKqBiQEvAHkAhoBqQBkA9wAzgBcAqEArAMhA2ME2AHNAW8DmwD5ANsCywD+AXYCMgHaAaMA3AAFAegAiwEtASMGsQS1BGYBtguXAeAAGAGjAMUAugAWAccAmABnATYCngIWASEBMwUNAZ8AYQIqAzwGmQANAfMArQHXABcCkgLvAZgAwgFCBoICIgKtAZ0AkwHWAfIAlQaZAQsBRAEKAaMAiwHSAKUEiAOaAFYD4waqCMYGHQE6AuYBfgWMA9MAdwCHAOEAlgKrASkBxQC6AGoA7AGjApgAWwPHANMAdgG3ANcBsQAQB2cG0AK0AO8ANwFMA2QHqwAyAR0B/gHFAPYALwFdA7MAfQCMAFUDMQZrAI4CRAE+BfEALAM/A7EAowA8AdoAiggiBucAVQFoAy0BDQHLANQDsgK5AE8DpACtAGEBXwFgASwS6AAVATkEcAGjANoCqAAlAkkBoAHBALQAywWwBbUAxgA1AvMAuwDcABYBMQFaAlICIQa3Af0CzgHHAAoBOQO6AAsElAHBAsICyQCNA6MAAQGMAJoAVgA+AVQDtABPAdoExwCWAWwIYAEGAYEA8ADHAAoH5gBdAbkCogFSAh0B0QOMAHgCYAjdAJcCawGaBK8D7AM5A6kAoQL9BMwCfASKADwC+AN1ApkATAGWAKcCjgBfAkgB9wCMAKMAPQwKAd4CNAGzAFIFlgDnAAYC9gAEAeYA/QDcACcEfwLvA64AgALTARoFwQQlBGEDeQKYAE4C6AKNAMgDQwGHBakA3ABOA5YACwb0AtcBewODA1kCJgW3ACwChgvpAkgChgCYAGgA6wG7BPUJzwPXAOYBHwINBOwEQQGLAOgA/wC2AcUA",
          "dtype": "i2"
         }
        },
        {
         "name": "Discounted Price - 2025-02-03",
         "opacity": 0.3,
         "type": "histogram",
         "x": {
          "bdata": "RwmhBJoCXwIbAqkCpQE6BagCGQKWAPkANwSXAQ8D7AGxAmgCcAHhApUBGwIOAd8A9gDnAKYAVAKqBiQEvAHkAhoBqQBkA9IAzgDWAaEArAMhA2ME2AHNAbACmwD5ANsCywCZAXYCMgHaAaMA3AAFAegAiwEtASMGsQS1BB8BtguXAeAAGAGjAMUAugAWAccAmABnATYCLwIWASEBMwUNAZ8AYQIqAzwGewANAfMArQHXABcCkgLvAZgAwgFCBoICIgKtAYYAkwHWAfIAlQaZAQsBRAEKAaMAiwHSAKUEFAOaAFYD4waqCMYGHQE6AocBfgUyA9MAdwCHAOEAlgKrASkBxQC6AGoAlwGjApgAWwPHANMAdgG3ANcBsQAQB2cG2AG0ALYANwFMA2QHqwAyAR0B/gHFAPYALwHXArMAfQCMANcCMQZrAI4CRAE+BfEALAM/A7EAowA8AckAiggiBucAEQFoAy0BDQHLANQDsgK5AE8DpACtAGEBTgFgASwS6AAVATkEcAGPAIgCqADGAUkBoAGxALQAywXvBLUAxgA1AvMAuwDcABYBMQFaAlICIQa3Af0CzgHHAAoBOQO6AIIDlAHBAk4CyQCNA6MAAQGMAJoAVgA+AVQDtAANAdoExwCWAWwICAHHAIEA8ADHAAoH0wBdAbkCogFSAh0BIwOMAHgCnQfdAEcCawGaBK8D7ANuAqkAoQL9BMwCfASKADwC+AN1ApkATAGWAKcCgABfAkgBugB4AKMAaQkKAd4CNAGzAFIFlgDnAAYC9gAEAeYAvwDcAL0DfwLFA64AgALTARoFwQQlBGEDeQKYAE4CngKNAKADQwESBakA3ABOA5YACwb0AogBewODA1kCJgW3ACwChgvpAkgChgCYAGgAvwG7BDoJzwPXAOYBygENBOwEQQGLAOgA/wC2AcUA",
          "dtype": "i2"
         }
        }
       ],
       "layout": {
        "barmode": "overlay",
        "height": 600,
        "legend": {
         "title": {
          "text": "Snapshot Date & Price Type"
         }
        },
        "template": {
         "data": {
          "bar": [
           {
            "error_x": {
             "color": "#2a3f5f"
            },
            "error_y": {
             "color": "#2a3f5f"
            },
            "marker": {
             "line": {
              "color": "#E5ECF6",
              "width": 0.5
             },
             "pattern": {
              "fillmode": "overlay",
              "size": 10,
              "solidity": 0.2
             }
            },
            "type": "bar"
           }
          ],
          "barpolar": [
           {
            "marker": {
             "line": {
              "color": "#E5ECF6",
              "width": 0.5
             },
             "pattern": {
              "fillmode": "overlay",
              "size": 10,
              "solidity": 0.2
             }
            },
            "type": "barpolar"
           }
          ],
          "carpet": [
           {
            "aaxis": {
             "endlinecolor": "#2a3f5f",
             "gridcolor": "white",
             "linecolor": "white",
             "minorgridcolor": "white",
             "startlinecolor": "#2a3f5f"
            },
            "baxis": {
             "endlinecolor": "#2a3f5f",
             "gridcolor": "white",
             "linecolor": "white",
             "minorgridcolor": "white",
             "startlinecolor": "#2a3f5f"
            },
            "type": "carpet"
           }
          ],
          "choropleth": [
           {
            "colorbar": {
             "outlinewidth": 0,
             "ticks": ""
            },
            "type": "choropleth"
           }
          ],
          "contour": [
           {
            "colorbar": {
             "outlinewidth": 0,
             "ticks": ""
            },
            "colorscale": [
             [
              0,
              "#0d0887"
             ],
             [
              0.1111111111111111,
              "#46039f"
             ],
             [
              0.2222222222222222,
              "#7201a8"
             ],
             [
              0.3333333333333333,
              "#9c179e"
             ],
             [
              0.4444444444444444,
              "#bd3786"
             ],
             [
              0.5555555555555556,
              "#d8576b"
             ],
             [
              0.6666666666666666,
              "#ed7953"
             ],
             [
              0.7777777777777778,
              "#fb9f3a"
             ],
             [
              0.8888888888888888,
              "#fdca26"
             ],
             [
              1,
              "#f0f921"
             ]
            ],
            "type": "contour"
           }
          ],
          "contourcarpet": [
           {
            "colorbar": {
             "outlinewidth": 0,
             "ticks": ""
            },
            "type": "contourcarpet"
           }
          ],
          "heatmap": [
           {
            "colorbar": {
             "outlinewidth": 0,
             "ticks": ""
            },
            "colorscale": [
             [
              0,
              "#0d0887"
             ],
             [
              0.1111111111111111,
              "#46039f"
             ],
             [
              0.2222222222222222,
              "#7201a8"
             ],
             [
              0.3333333333333333,
              "#9c179e"
             ],
             [
              0.4444444444444444,
              "#bd3786"
             ],
             [
              0.5555555555555556,
              "#d8576b"
             ],
             [
              0.6666666666666666,
              "#ed7953"
             ],
             [
              0.7777777777777778,
              "#fb9f3a"
             ],
             [
              0.8888888888888888,
              "#fdca26"
             ],
             [
              1,
              "#f0f921"
             ]
            ],
            "type": "heatmap"
           }
          ],
          "histogram": [
           {
            "marker": {
             "pattern": {
              "fillmode": "overlay",
              "size": 10,
              "solidity": 0.2
             }
            },
            "type": "histogram"
           }
          ],
          "histogram2d": [
           {
            "colorbar": {
             "outlinewidth": 0,
             "ticks": ""
            },
            "colorscale": [
             [
              0,
              "#0d0887"
             ],
             [
              0.1111111111111111,
              "#46039f"
             ],
             [
              0.2222222222222222,
              "#7201a8"
             ],
             [
              0.3333333333333333,
              "#9c179e"
             ],
             [
              0.4444444444444444,
              "#bd3786"
             ],
             [
              0.5555555555555556,
              "#d8576b"
             ],
             [
              0.6666666666666666,
              "#ed7953"
             ],
             [
              0.7777777777777778,
              "#fb9f3a"
             ],
             [
              0.8888888888888888,
              "#fdca26"
             ],
             [
              1,
              "#f0f921"
             ]
            ],
            "type": "histogram2d"
           }
          ],
          "histogram2dcontour": [
           {
            "colorbar": {
             "outlinewidth": 0,
             "ticks": ""
            },
            "colorscale": [
             [
              0,
              "#0d0887"
             ],
             [
              0.1111111111111111,
              "#46039f"
             ],
             [
              0.2222222222222222,
              "#7201a8"
             ],
             [
              0.3333333333333333,
              "#9c179e"
             ],
             [
              0.4444444444444444,
              "#bd3786"
             ],
             [
              0.5555555555555556,
              "#d8576b"
             ],
             [
              0.6666666666666666,
              "#ed7953"
             ],
             [
              0.7777777777777778,
              "#fb9f3a"
             ],
             [
              0.8888888888888888,
              "#fdca26"
             ],
             [
              1,
              "#f0f921"
             ]
            ],
            "type": "histogram2dcontour"
           }
          ],
          "mesh3d": [
           {
            "colorbar": {
             "outlinewidth": 0,
             "ticks": ""
            },
            "type": "mesh3d"
           }
          ],
          "parcoords": [
           {
            "line": {
             "colorbar": {
              "outlinewidth": 0,
              "ticks": ""
             }
            },
            "type": "parcoords"
           }
          ],
          "pie": [
           {
            "automargin": true,
            "type": "pie"
           }
          ],
          "scatter": [
           {
            "fillpattern": {
             "fillmode": "overlay",
             "size": 10,
             "solidity": 0.2
            },
            "type": "scatter"
           }
          ],
          "scatter3d": [
           {
            "line": {
             "colorbar": {
              "outlinewidth": 0,
              "ticks": ""
             }
            },
            "marker": {
             "colorbar": {
              "outlinewidth": 0,
              "ticks": ""
             }
            },
            "type": "scatter3d"
           }
          ],
          "scattercarpet": [
           {
            "marker": {
             "colorbar": {
              "outlinewidth": 0,
              "ticks": ""
             }
            },
            "type": "scattercarpet"
           }
          ],
          "scattergeo": [
           {
            "marker": {
             "colorbar": {
              "outlinewidth": 0,
              "ticks": ""
             }
            },
            "type": "scattergeo"
           }
          ],
          "scattergl": [
           {
            "marker": {
             "colorbar": {
              "outlinewidth": 0,
              "ticks": ""
             }
            },
            "type": "scattergl"
           }
          ],
          "scattermap": [
           {
            "marker": {
             "colorbar": {
              "outlinewidth": 0,
              "ticks": ""
             }
            },
            "type": "scattermap"
           }
          ],
          "scattermapbox": [
           {
            "marker": {
             "colorbar": {
              "outlinewidth": 0,
              "ticks": ""
             }
            },
            "type": "scattermapbox"
           }
          ],
          "scatterpolar": [
           {
            "marker": {
             "colorbar": {
              "outlinewidth": 0,
              "ticks": ""
             }
            },
            "type": "scatterpolar"
           }
          ],
          "scatterpolargl": [
           {
            "marker": {
             "colorbar": {
              "outlinewidth": 0,
              "ticks": ""
             }
            },
            "type": "scatterpolargl"
           }
          ],
          "scatterternary": [
           {
            "marker": {
             "colorbar": {
              "outlinewidth": 0,
              "ticks": ""
             }
            },
            "type": "scatterternary"
           }
          ],
          "surface": [
           {
            "colorbar": {
             "outlinewidth": 0,
             "ticks": ""
            },
            "colorscale": [
             [
              0,
              "#0d0887"
             ],
             [
              0.1111111111111111,
              "#46039f"
             ],
             [
              0.2222222222222222,
              "#7201a8"
             ],
             [
              0.3333333333333333,
              "#9c179e"
             ],
             [
              0.4444444444444444,
              "#bd3786"
             ],
             [
              0.5555555555555556,
              "#d8576b"
             ],
             [
              0.6666666666666666,
              "#ed7953"
             ],
             [
              0.7777777777777778,
              "#fb9f3a"
             ],
             [
              0.8888888888888888,
              "#fdca26"
             ],
             [
              1,
              "#f0f921"
             ]
            ],
            "type": "surface"
           }
          ],
          "table": [
           {
            "cells": {
             "fill": {
              "color": "#EBF0F8"
             },
             "line": {
              "color": "white"
             }
            },
            "header": {
             "fill": {
              "color": "#C8D4E3"
             },
             "line": {
              "color": "white"
             }
            },
            "type": "table"
           }
          ]
         },
         "layout": {
          "annotationdefaults": {
           "arrowcolor": "#2a3f5f",
           "arrowhead": 0,
           "arrowwidth": 1
          },
          "autotypenumbers": "strict",
          "coloraxis": {
           "colorbar": {
            "outlinewidth": 0,
            "ticks": ""
           }
          },
          "colorscale": {
           "diverging": [
            [
             0,
             "#8e0152"
            ],
            [
             0.1,
             "#c51b7d"
            ],
            [
             0.2,
             "#de77ae"
            ],
            [
             0.3,
             "#f1b6da"
            ],
            [
             0.4,
             "#fde0ef"
            ],
            [
             0.5,
             "#f7f7f7"
            ],
            [
             0.6,
             "#e6f5d0"
            ],
            [
             0.7,
             "#b8e186"
            ],
            [
             0.8,
             "#7fbc41"
            ],
            [
             0.9,
             "#4d9221"
            ],
            [
             1,
             "#276419"
            ]
           ],
           "sequential": [
            [
             0,
             "#0d0887"
            ],
            [
             0.1111111111111111,
             "#46039f"
            ],
            [
             0.2222222222222222,
             "#7201a8"
            ],
            [
             0.3333333333333333,
             "#9c179e"
            ],
            [
             0.4444444444444444,
             "#bd3786"
            ],
            [
             0.5555555555555556,
             "#d8576b"
            ],
            [
             0.6666666666666666,
             "#ed7953"
            ],
            [
             0.7777777777777778,
             "#fb9f3a"
            ],
            [
             0.8888888888888888,
             "#fdca26"
            ],
            [
             1,
             "#f0f921"
            ]
           ],
           "sequentialminus": [
            [
             0,
             "#0d0887"
            ],
            [
             0.1111111111111111,
             "#46039f"
            ],
            [
             0.2222222222222222,
             "#7201a8"
            ],
            [
             0.3333333333333333,
             "#9c179e"
            ],
            [
             0.4444444444444444,
             "#bd3786"
            ],
            [
             0.5555555555555556,
             "#d8576b"
            ],
            [
             0.6666666666666666,
             "#ed7953"
            ],
            [
             0.7777777777777778,
             "#fb9f3a"
            ],
            [
             0.8888888888888888,
             "#fdca26"
            ],
            [
             1,
             "#f0f921"
            ]
           ]
          },
          "colorway": [
           "#636efa",
           "#EF553B",
           "#00cc96",
           "#ab63fa",
           "#FFA15A",
           "#19d3f3",
           "#FF6692",
           "#B6E880",
           "#FF97FF",
           "#FECB52"
          ],
          "font": {
           "color": "#2a3f5f"
          },
          "geo": {
           "bgcolor": "white",
           "lakecolor": "white",
           "landcolor": "#E5ECF6",
           "showlakes": true,
           "showland": true,
           "subunitcolor": "white"
          },
          "hoverlabel": {
           "align": "left"
          },
          "hovermode": "closest",
          "mapbox": {
           "style": "light"
          },
          "paper_bgcolor": "white",
          "plot_bgcolor": "#E5ECF6",
          "polar": {
           "angularaxis": {
            "gridcolor": "white",
            "linecolor": "white",
            "ticks": ""
           },
           "bgcolor": "#E5ECF6",
           "radialaxis": {
            "gridcolor": "white",
            "linecolor": "white",
            "ticks": ""
           }
          },
          "scene": {
           "xaxis": {
            "backgroundcolor": "#E5ECF6",
            "gridcolor": "white",
            "gridwidth": 2,
            "linecolor": "white",
            "showbackground": true,
            "ticks": "",
            "zerolinecolor": "white"
           },
           "yaxis": {
            "backgroundcolor": "#E5ECF6",
            "gridcolor": "white",
            "gridwidth": 2,
            "linecolor": "white",
            "showbackground": true,
            "ticks": "",
            "zerolinecolor": "white"
           },
           "zaxis": {
            "backgroundcolor": "#E5ECF6",
            "gridcolor": "white",
            "gridwidth": 2,
            "linecolor": "white",
            "showbackground": true,
            "ticks": "",
            "zerolinecolor": "white"
           }
          },
          "shapedefaults": {
           "line": {
            "color": "#2a3f5f"
           }
          },
          "ternary": {
           "aaxis": {
            "gridcolor": "white",
            "linecolor": "white",
            "ticks": ""
           },
           "baxis": {
            "gridcolor": "white",
            "linecolor": "white",
            "ticks": ""
           },
           "bgcolor": "#E5ECF6",
           "caxis": {
            "gridcolor": "white",
            "linecolor": "white",
            "ticks": ""
           }
          },
          "title": {
           "x": 0.05
          },
          "xaxis": {
           "automargin": true,
           "gridcolor": "white",
           "linecolor": "white",
           "ticks": "",
           "title": {
            "standoff": 15
           },
           "zerolinecolor": "white",
           "zerolinewidth": 2
          },
          "yaxis": {
           "automargin": true,
           "gridcolor": "white",
           "linecolor": "white",
           "ticks": "",
           "title": {
            "standoff": 15
           },
           "zerolinecolor": "white",
           "zerolinewidth": 2
          }
         }
        },
        "title": {
         "text": "Distribution of Original and Discounted Prices for Each Snapshot Date"
        },
        "width": 1000,
        "xaxis": {
         "title": {
          "text": "Price"
         }
        },
        "yaxis": {
         "title": {
          "text": "Frequency"
         }
        }
       }
      }
     },
     "metadata": {},
     "output_type": "display_data"
    }
   ],
   "source": [
    "price_data = bookings.groupby(['name', 'snapshot_date'], as_index=False)[['original_price', 'discounted_price']].first()\n",
    "\n",
    "# Get unique snapshot dates\n",
    "snapshot_dates = price_data['snapshot_date'].unique()\n",
    "\n",
    "# Create subplots for each snapshot date\n",
    "fig = go.Figure()\n",
    "\n",
    "for date in snapshot_dates:\n",
    "    snapshot_prices = price_data[price_data['snapshot_date'] == date]\n",
    "    \n",
    "    fig.add_trace(go.Histogram(\n",
    "        x=snapshot_prices['original_price'].dropna(),\n",
    "        name=f\"Original Price - {date}\",\n",
    "        opacity=0.5\n",
    "    ))\n",
    "    \n",
    "    fig.add_trace(go.Histogram(\n",
    "        x=snapshot_prices['discounted_price'].dropna(),\n",
    "        name=f\"Discounted Price - {date}\",\n",
    "        opacity=0.3\n",
    "    ))\n",
    "\n",
    "# Update layout for better visualization\n",
    "fig.update_layout(\n",
    "    title=\"Distribution of Original and Discounted Prices for Each Snapshot Date\",\n",
    "    xaxis_title=\"Price\",\n",
    "    yaxis_title=\"Frequency\",\n",
    "    barmode='overlay',  # Ensures histograms overlap for comparison\n",
    "    legend_title=\"Snapshot Date & Price Type\",\n",
    "    width=1000,\n",
    "    height=600\n",
    ")\n",
    "\n",
    "# Show the interactive plot\n",
    "fig.show()"
   ]
  },
  {
   "cell_type": "markdown",
   "metadata": {},
   "source": [
    "The prices shown in the graph above do not account for the length of stay. The graph below displays the distribution of \"price per night.\""
   ]
  },
  {
   "cell_type": "code",
   "execution_count": 60,
   "metadata": {},
   "outputs": [
    {
     "data": {
      "application/vnd.plotly.v1+json": {
       "config": {
        "plotlyServerURL": "https://plot.ly"
       },
       "data": [
        {
         "name": "Original Price per night - 2025-02-02",
         "opacity": 0.5,
         "type": "histogram",
         "x": {
          "bdata": "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",
          "dtype": "f8"
         }
        },
        {
         "name": "Discounted Price per night - 2025-02-02",
         "opacity": 0.3,
         "type": "histogram",
         "x": {
          "bdata": "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",
          "dtype": "f8"
         }
        },
        {
         "name": "Original Price per night - 2025-02-03",
         "opacity": 0.5,
         "type": "histogram",
         "x": {
          "bdata": "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",
          "dtype": "f8"
         }
        },
        {
         "name": "Discounted Price per night - 2025-02-03",
         "opacity": 0.3,
         "type": "histogram",
         "x": {
          "bdata": "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",
          "dtype": "f8"
         }
        }
       ],
       "layout": {
        "barmode": "overlay",
        "height": 600,
        "legend": {
         "title": {
          "text": "Snapshot Date & Price Type"
         }
        },
        "template": {
         "data": {
          "bar": [
           {
            "error_x": {
             "color": "#2a3f5f"
            },
            "error_y": {
             "color": "#2a3f5f"
            },
            "marker": {
             "line": {
              "color": "#E5ECF6",
              "width": 0.5
             },
             "pattern": {
              "fillmode": "overlay",
              "size": 10,
              "solidity": 0.2
             }
            },
            "type": "bar"
           }
          ],
          "barpolar": [
           {
            "marker": {
             "line": {
              "color": "#E5ECF6",
              "width": 0.5
             },
             "pattern": {
              "fillmode": "overlay",
              "size": 10,
              "solidity": 0.2
             }
            },
            "type": "barpolar"
           }
          ],
          "carpet": [
           {
            "aaxis": {
             "endlinecolor": "#2a3f5f",
             "gridcolor": "white",
             "linecolor": "white",
             "minorgridcolor": "white",
             "startlinecolor": "#2a3f5f"
            },
            "baxis": {
             "endlinecolor": "#2a3f5f",
             "gridcolor": "white",
             "linecolor": "white",
             "minorgridcolor": "white",
             "startlinecolor": "#2a3f5f"
            },
            "type": "carpet"
           }
          ],
          "choropleth": [
           {
            "colorbar": {
             "outlinewidth": 0,
             "ticks": ""
            },
            "type": "choropleth"
           }
          ],
          "contour": [
           {
            "colorbar": {
             "outlinewidth": 0,
             "ticks": ""
            },
            "colorscale": [
             [
              0,
              "#0d0887"
             ],
             [
              0.1111111111111111,
              "#46039f"
             ],
             [
              0.2222222222222222,
              "#7201a8"
             ],
             [
              0.3333333333333333,
              "#9c179e"
             ],
             [
              0.4444444444444444,
              "#bd3786"
             ],
             [
              0.5555555555555556,
              "#d8576b"
             ],
             [
              0.6666666666666666,
              "#ed7953"
             ],
             [
              0.7777777777777778,
              "#fb9f3a"
             ],
             [
              0.8888888888888888,
              "#fdca26"
             ],
             [
              1,
              "#f0f921"
             ]
            ],
            "type": "contour"
           }
          ],
          "contourcarpet": [
           {
            "colorbar": {
             "outlinewidth": 0,
             "ticks": ""
            },
            "type": "contourcarpet"
           }
          ],
          "heatmap": [
           {
            "colorbar": {
             "outlinewidth": 0,
             "ticks": ""
            },
            "colorscale": [
             [
              0,
              "#0d0887"
             ],
             [
              0.1111111111111111,
              "#46039f"
             ],
             [
              0.2222222222222222,
              "#7201a8"
             ],
             [
              0.3333333333333333,
              "#9c179e"
             ],
             [
              0.4444444444444444,
              "#bd3786"
             ],
             [
              0.5555555555555556,
              "#d8576b"
             ],
             [
              0.6666666666666666,
              "#ed7953"
             ],
             [
              0.7777777777777778,
              "#fb9f3a"
             ],
             [
              0.8888888888888888,
              "#fdca26"
             ],
             [
              1,
              "#f0f921"
             ]
            ],
            "type": "heatmap"
           }
          ],
          "histogram": [
           {
            "marker": {
             "pattern": {
              "fillmode": "overlay",
              "size": 10,
              "solidity": 0.2
             }
            },
            "type": "histogram"
           }
          ],
          "histogram2d": [
           {
            "colorbar": {
             "outlinewidth": 0,
             "ticks": ""
            },
            "colorscale": [
             [
              0,
              "#0d0887"
             ],
             [
              0.1111111111111111,
              "#46039f"
             ],
             [
              0.2222222222222222,
              "#7201a8"
             ],
             [
              0.3333333333333333,
              "#9c179e"
             ],
             [
              0.4444444444444444,
              "#bd3786"
             ],
             [
              0.5555555555555556,
              "#d8576b"
             ],
             [
              0.6666666666666666,
              "#ed7953"
             ],
             [
              0.7777777777777778,
              "#fb9f3a"
             ],
             [
              0.8888888888888888,
              "#fdca26"
             ],
             [
              1,
              "#f0f921"
             ]
            ],
            "type": "histogram2d"
           }
          ],
          "histogram2dcontour": [
           {
            "colorbar": {
             "outlinewidth": 0,
             "ticks": ""
            },
            "colorscale": [
             [
              0,
              "#0d0887"
             ],
             [
              0.1111111111111111,
              "#46039f"
             ],
             [
              0.2222222222222222,
              "#7201a8"
             ],
             [
              0.3333333333333333,
              "#9c179e"
             ],
             [
              0.4444444444444444,
              "#bd3786"
             ],
             [
              0.5555555555555556,
              "#d8576b"
             ],
             [
              0.6666666666666666,
              "#ed7953"
             ],
             [
              0.7777777777777778,
              "#fb9f3a"
             ],
             [
              0.8888888888888888,
              "#fdca26"
             ],
             [
              1,
              "#f0f921"
             ]
            ],
            "type": "histogram2dcontour"
           }
          ],
          "mesh3d": [
           {
            "colorbar": {
             "outlinewidth": 0,
             "ticks": ""
            },
            "type": "mesh3d"
           }
          ],
          "parcoords": [
           {
            "line": {
             "colorbar": {
              "outlinewidth": 0,
              "ticks": ""
             }
            },
            "type": "parcoords"
           }
          ],
          "pie": [
           {
            "automargin": true,
            "type": "pie"
           }
          ],
          "scatter": [
           {
            "fillpattern": {
             "fillmode": "overlay",
             "size": 10,
             "solidity": 0.2
            },
            "type": "scatter"
           }
          ],
          "scatter3d": [
           {
            "line": {
             "colorbar": {
              "outlinewidth": 0,
              "ticks": ""
             }
            },
            "marker": {
             "colorbar": {
              "outlinewidth": 0,
              "ticks": ""
             }
            },
            "type": "scatter3d"
           }
          ],
          "scattercarpet": [
           {
            "marker": {
             "colorbar": {
              "outlinewidth": 0,
              "ticks": ""
             }
            },
            "type": "scattercarpet"
           }
          ],
          "scattergeo": [
           {
            "marker": {
             "colorbar": {
              "outlinewidth": 0,
              "ticks": ""
             }
            },
            "type": "scattergeo"
           }
          ],
          "scattergl": [
           {
            "marker": {
             "colorbar": {
              "outlinewidth": 0,
              "ticks": ""
             }
            },
            "type": "scattergl"
           }
          ],
          "scattermap": [
           {
            "marker": {
             "colorbar": {
              "outlinewidth": 0,
              "ticks": ""
             }
            },
            "type": "scattermap"
           }
          ],
          "scattermapbox": [
           {
            "marker": {
             "colorbar": {
              "outlinewidth": 0,
              "ticks": ""
             }
            },
            "type": "scattermapbox"
           }
          ],
          "scatterpolar": [
           {
            "marker": {
             "colorbar": {
              "outlinewidth": 0,
              "ticks": ""
             }
            },
            "type": "scatterpolar"
           }
          ],
          "scatterpolargl": [
           {
            "marker": {
             "colorbar": {
              "outlinewidth": 0,
              "ticks": ""
             }
            },
            "type": "scatterpolargl"
           }
          ],
          "scatterternary": [
           {
            "marker": {
             "colorbar": {
              "outlinewidth": 0,
              "ticks": ""
             }
            },
            "type": "scatterternary"
           }
          ],
          "surface": [
           {
            "colorbar": {
             "outlinewidth": 0,
             "ticks": ""
            },
            "colorscale": [
             [
              0,
              "#0d0887"
             ],
             [
              0.1111111111111111,
              "#46039f"
             ],
             [
              0.2222222222222222,
              "#7201a8"
             ],
             [
              0.3333333333333333,
              "#9c179e"
             ],
             [
              0.4444444444444444,
              "#bd3786"
             ],
             [
              0.5555555555555556,
              "#d8576b"
             ],
             [
              0.6666666666666666,
              "#ed7953"
             ],
             [
              0.7777777777777778,
              "#fb9f3a"
             ],
             [
              0.8888888888888888,
              "#fdca26"
             ],
             [
              1,
              "#f0f921"
             ]
            ],
            "type": "surface"
           }
          ],
          "table": [
           {
            "cells": {
             "fill": {
              "color": "#EBF0F8"
             },
             "line": {
              "color": "white"
             }
            },
            "header": {
             "fill": {
              "color": "#C8D4E3"
             },
             "line": {
              "color": "white"
             }
            },
            "type": "table"
           }
          ]
         },
         "layout": {
          "annotationdefaults": {
           "arrowcolor": "#2a3f5f",
           "arrowhead": 0,
           "arrowwidth": 1
          },
          "autotypenumbers": "strict",
          "coloraxis": {
           "colorbar": {
            "outlinewidth": 0,
            "ticks": ""
           }
          },
          "colorscale": {
           "diverging": [
            [
             0,
             "#8e0152"
            ],
            [
             0.1,
             "#c51b7d"
            ],
            [
             0.2,
             "#de77ae"
            ],
            [
             0.3,
             "#f1b6da"
            ],
            [
             0.4,
             "#fde0ef"
            ],
            [
             0.5,
             "#f7f7f7"
            ],
            [
             0.6,
             "#e6f5d0"
            ],
            [
             0.7,
             "#b8e186"
            ],
            [
             0.8,
             "#7fbc41"
            ],
            [
             0.9,
             "#4d9221"
            ],
            [
             1,
             "#276419"
            ]
           ],
           "sequential": [
            [
             0,
             "#0d0887"
            ],
            [
             0.1111111111111111,
             "#46039f"
            ],
            [
             0.2222222222222222,
             "#7201a8"
            ],
            [
             0.3333333333333333,
             "#9c179e"
            ],
            [
             0.4444444444444444,
             "#bd3786"
            ],
            [
             0.5555555555555556,
             "#d8576b"
            ],
            [
             0.6666666666666666,
             "#ed7953"
            ],
            [
             0.7777777777777778,
             "#fb9f3a"
            ],
            [
             0.8888888888888888,
             "#fdca26"
            ],
            [
             1,
             "#f0f921"
            ]
           ],
           "sequentialminus": [
            [
             0,
             "#0d0887"
            ],
            [
             0.1111111111111111,
             "#46039f"
            ],
            [
             0.2222222222222222,
             "#7201a8"
            ],
            [
             0.3333333333333333,
             "#9c179e"
            ],
            [
             0.4444444444444444,
             "#bd3786"
            ],
            [
             0.5555555555555556,
             "#d8576b"
            ],
            [
             0.6666666666666666,
             "#ed7953"
            ],
            [
             0.7777777777777778,
             "#fb9f3a"
            ],
            [
             0.8888888888888888,
             "#fdca26"
            ],
            [
             1,
             "#f0f921"
            ]
           ]
          },
          "colorway": [
           "#636efa",
           "#EF553B",
           "#00cc96",
           "#ab63fa",
           "#FFA15A",
           "#19d3f3",
           "#FF6692",
           "#B6E880",
           "#FF97FF",
           "#FECB52"
          ],
          "font": {
           "color": "#2a3f5f"
          },
          "geo": {
           "bgcolor": "white",
           "lakecolor": "white",
           "landcolor": "#E5ECF6",
           "showlakes": true,
           "showland": true,
           "subunitcolor": "white"
          },
          "hoverlabel": {
           "align": "left"
          },
          "hovermode": "closest",
          "mapbox": {
           "style": "light"
          },
          "paper_bgcolor": "white",
          "plot_bgcolor": "#E5ECF6",
          "polar": {
           "angularaxis": {
            "gridcolor": "white",
            "linecolor": "white",
            "ticks": ""
           },
           "bgcolor": "#E5ECF6",
           "radialaxis": {
            "gridcolor": "white",
            "linecolor": "white",
            "ticks": ""
           }
          },
          "scene": {
           "xaxis": {
            "backgroundcolor": "#E5ECF6",
            "gridcolor": "white",
            "gridwidth": 2,
            "linecolor": "white",
            "showbackground": true,
            "ticks": "",
            "zerolinecolor": "white"
           },
           "yaxis": {
            "backgroundcolor": "#E5ECF6",
            "gridcolor": "white",
            "gridwidth": 2,
            "linecolor": "white",
            "showbackground": true,
            "ticks": "",
            "zerolinecolor": "white"
           },
           "zaxis": {
            "backgroundcolor": "#E5ECF6",
            "gridcolor": "white",
            "gridwidth": 2,
            "linecolor": "white",
            "showbackground": true,
            "ticks": "",
            "zerolinecolor": "white"
           }
          },
          "shapedefaults": {
           "line": {
            "color": "#2a3f5f"
           }
          },
          "ternary": {
           "aaxis": {
            "gridcolor": "white",
            "linecolor": "white",
            "ticks": ""
           },
           "baxis": {
            "gridcolor": "white",
            "linecolor": "white",
            "ticks": ""
           },
           "bgcolor": "#E5ECF6",
           "caxis": {
            "gridcolor": "white",
            "linecolor": "white",
            "ticks": ""
           }
          },
          "title": {
           "x": 0.05
          },
          "xaxis": {
           "automargin": true,
           "gridcolor": "white",
           "linecolor": "white",
           "ticks": "",
           "title": {
            "standoff": 15
           },
           "zerolinecolor": "white",
           "zerolinewidth": 2
          },
          "yaxis": {
           "automargin": true,
           "gridcolor": "white",
           "linecolor": "white",
           "ticks": "",
           "title": {
            "standoff": 15
           },
           "zerolinecolor": "white",
           "zerolinewidth": 2
          }
         }
        },
        "title": {
         "text": "Distribution of Original and Discounted Prices per night for Each Snapshot Date"
        },
        "width": 1000,
        "xaxis": {
         "title": {
          "text": "Price per night"
         }
        },
        "yaxis": {
         "title": {
          "text": "Frequency"
         }
        }
       }
      }
     },
     "metadata": {},
     "output_type": "display_data"
    }
   ],
   "source": [
    "bookings['discounted_price_per_night'] = bookings['discounted_price'] / bookings['length_of_stay']\n",
    "bookings['original_price_per_night'] = bookings['original_price'] / bookings['length_of_stay']\n",
    "\n",
    "price_per_night_data = bookings.groupby(['name', 'snapshot_date'], as_index=False)[['original_price_per_night', 'discounted_price_per_night']].first()\n",
    "\n",
    "# Get unique snapshot dates\n",
    "snapshot_dates = price_per_night_data['snapshot_date'].unique()\n",
    "\n",
    "# Create subplots for each snapshot date\n",
    "fig = go.Figure()\n",
    "\n",
    "for date in snapshot_dates:\n",
    "    snapshot_prices = price_per_night_data[price_per_night_data['snapshot_date'] == date]\n",
    "    \n",
    "    fig.add_trace(go.Histogram(\n",
    "        x=snapshot_prices['original_price_per_night'].dropna(),\n",
    "        name=f\"Original Price per night - {date}\",\n",
    "        opacity=0.5\n",
    "    ))\n",
    "    \n",
    "    fig.add_trace(go.Histogram(\n",
    "        x=snapshot_prices['discounted_price_per_night'].dropna(),\n",
    "        name=f\"Discounted Price per night - {date}\",\n",
    "        opacity=0.3\n",
    "    ))\n",
    "\n",
    "# Update layout for better visualization\n",
    "fig.update_layout(\n",
    "    title=\"Distribution of Original and Discounted Prices per night for Each Snapshot Date\",\n",
    "    xaxis_title=\"Price per night\",\n",
    "    yaxis_title=\"Frequency\",\n",
    "    barmode='overlay',  # Ensures histograms overlap for comparison\n",
    "    legend_title=\"Snapshot Date & Price Type\",\n",
    "    width=1000,\n",
    "    height=600\n",
    ")\n",
    "\n",
    "# Show the interactive plot\n",
    "fig.show()"
   ]
  }
 ],
 "metadata": {
  "kernelspec": {
   "display_name": "DS-101-Final",
   "language": "python",
   "name": "python3"
  },
  "language_info": {
   "codemirror_mode": {
    "name": "ipython",
    "version": 3
   },
   "file_extension": ".py",
   "mimetype": "text/x-python",
   "name": "python",
   "nbconvert_exporter": "python",
   "pygments_lexer": "ipython3",
   "version": "3.12.8"
  }
 },
 "nbformat": 4,
 "nbformat_minor": 2
}
